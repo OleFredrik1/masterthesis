{
 "cells": [
  {
   "cell_type": "code",
   "execution_count": 2,
   "metadata": {},
   "outputs": [],
   "source": [
    "%matplotlib inline\n",
    "import GEOparse\n",
    "import matplotlib\n",
    "import matplotlib.pyplot as plt\n",
    "import pandas as pd\n",
    "import numpy as np\n",
    "from sklearn import decomposition\n",
    "from sklego.linear_model import LowessRegression\n",
    "from sklearn.feature_selection import f_classif\n",
    "from sklearn.linear_model import LinearRegression\n",
    "from sklearn.metrics import explained_variance_score, plot_roc_curve\n",
    "import statsmodels.api as sm\n",
    "from scipy.stats import ttest_ind\n",
    "from xgboost import XGBClassifier\n",
    "from sklearn.model_selection import train_test_split\n",
    "from matplotlib.backends.backend_pgf import FigureCanvasPgf\n",
    "matplotlib.backend_bases.register_backend('pdf', FigureCanvasPgf)\n"
   ]
  },
  {
   "cell_type": "code",
   "execution_count": 43,
   "metadata": {},
   "outputs": [],
   "source": [
    "data = pd.read_csv(\"../Dataset/Abdollahi2019/data.csv\", na_values=[\"#NULL!\"])"
   ]
  },
  {
   "cell_type": "code",
   "execution_count": 46,
   "metadata": {},
   "outputs": [],
   "source": [
    "table = data.iloc[:,1:5]"
   ]
  },
  {
   "cell_type": "code",
   "execution_count": 47,
   "metadata": {},
   "outputs": [
    {
     "data": {
      "text/plain": [
       "miRNA21     2.031042\n",
       "miRNA638    0.144445\n",
       "miRNA148    0.473948\n",
       "miRNA152    0.029582\n",
       "dtype: float64"
      ]
     },
     "execution_count": 47,
     "metadata": {},
     "output_type": "execute_result"
    }
   ],
   "source": [
    "np.mean(table)"
   ]
  },
  {
   "cell_type": "code",
   "execution_count": 48,
   "metadata": {
    "tags": []
   },
   "outputs": [],
   "source": [
    "def get_means_and_variances(table):\n",
    "    return np.mean(table), np.var(table, ddof=1)"
   ]
  },
  {
   "cell_type": "code",
   "execution_count": 49,
   "metadata": {
    "tags": []
   },
   "outputs": [],
   "source": [
    "def mean_variance_plot(table):\n",
    "    means, variances = get_means_and_variances(table)\n",
    "    plt.scatter(means, variances)\n",
    "    plt.xlabel(\"mean\")\n",
    "    plt.ylabel(\"variance\")\n",
    "    plt.plot()"
   ]
  },
  {
   "cell_type": "code",
   "execution_count": 51,
   "metadata": {},
   "outputs": [
    {
     "data": {
      "image/png": "[encoded data removed]",
      "text/plain": [
       "<Figure size 432x288 with 1 Axes>"
      ]
     },
     "metadata": {
      "needs_background": "light"
     },
     "output_type": "display_data"
    }
   ],
   "source": [
    "mean_variance_plot(table)"
   ]
  },
  {
   "cell_type": "code",
   "execution_count": 52,
   "metadata": {},
   "outputs": [
    {
     "data": {
      "text/plain": [
       "[]"
      ]
     },
     "execution_count": 52,
     "metadata": {},
     "output_type": "execute_result"
    },
    {
     "data": {
      "image/png": "[encoded data removed]",
      "text/plain": [
       "<Figure size 432x288 with 1 Axes>"
      ]
     },
     "metadata": {
      "needs_background": "light"
     },
     "output_type": "display_data"
    }
   ],
   "source": [
    "means, variances = get_means_and_variances(table)\n",
    "plt.scatter(means, variances)\n",
    "plt.xlabel(\"mean\")\n",
    "plt.ylabel(\"variance\")\n",
    "plt.plot()"
   ]
  },
  {
   "cell_type": "markdown",
   "metadata": {},
   "source": [
    "### Trying log-transformation"
   ]
  },
  {
   "cell_type": "code",
   "execution_count": 53,
   "metadata": {
    "tags": []
   },
   "outputs": [],
   "source": [
    "log_table = table"
   ]
  },
  {
   "cell_type": "code",
   "execution_count": 54,
   "metadata": {},
   "outputs": [
    {
     "data": {
      "image/png": "[encoded data removed]",
      "text/plain": [
       "<Figure size 432x288 with 1 Axes>"
      ]
     },
     "metadata": {
      "needs_background": "light"
     },
     "output_type": "display_data"
    }
   ],
   "source": [
    "mean_variance_plot(log_table)"
   ]
  },
  {
   "cell_type": "code",
   "execution_count": 55,
   "metadata": {
    "tags": []
   },
   "outputs": [],
   "source": [
    "norm_log_table = log_table - np.mean(log_table)"
   ]
  },
  {
   "cell_type": "code",
   "execution_count": 56,
   "metadata": {},
   "outputs": [],
   "source": [
    "norm_log_table /= np.sqrt(np.mean(np.var(norm_log_table, ddof=1)))"
   ]
  },
  {
   "cell_type": "code",
   "execution_count": 57,
   "metadata": {},
   "outputs": [
    {
     "data": {
      "image/png": "[encoded data removed]",
      "text/plain": [
       "<Figure size 432x288 with 1 Axes>"
      ]
     },
     "metadata": {
      "needs_background": "light"
     },
     "output_type": "display_data"
    }
   ],
   "source": [
    "mean_variance_plot(norm_log_table)"
   ]
  },
  {
   "cell_type": "markdown",
   "metadata": {},
   "source": [
    "### ANOVA"
   ]
  },
  {
   "cell_type": "code",
   "execution_count": 58,
   "metadata": {},
   "outputs": [
    {
     "data": {
      "text/html": [
       "<div>\n",
       "<style scoped>\n",
       "    .dataframe tbody tr th:only-of-type {\n",
       "        vertical-align: middle;\n",
       "    }\n",
       "\n",
       "    .dataframe tbody tr th {\n",
       "        vertical-align: top;\n",
       "    }\n",
       "\n",
       "    .dataframe thead th {\n",
       "        text-align: right;\n",
       "    }\n",
       "</style>\n",
       "<table border=\"1\" class=\"dataframe\">\n",
       "  <thead>\n",
       "    <tr style=\"text-align: right;\">\n",
       "      <th></th>\n",
       "      <th>miRNA21</th>\n",
       "      <th>miRNA638</th>\n",
       "      <th>miRNA148</th>\n",
       "      <th>miRNA152</th>\n",
       "    </tr>\n",
       "  </thead>\n",
       "  <tbody>\n",
       "    <tr>\n",
       "      <th>0</th>\n",
       "      <td>-0.982188</td>\n",
       "      <td>-0.188627</td>\n",
       "      <td>-0.287453</td>\n",
       "      <td>0.005961</td>\n",
       "    </tr>\n",
       "    <tr>\n",
       "      <th>1</th>\n",
       "      <td>-0.617556</td>\n",
       "      <td>-0.182210</td>\n",
       "      <td>0.756934</td>\n",
       "      <td>-0.038621</td>\n",
       "    </tr>\n",
       "    <tr>\n",
       "      <th>2</th>\n",
       "      <td>-1.144531</td>\n",
       "      <td>-0.185637</td>\n",
       "      <td>0.766596</td>\n",
       "      <td>0.215207</td>\n",
       "    </tr>\n",
       "    <tr>\n",
       "      <th>3</th>\n",
       "      <td>-0.701985</td>\n",
       "      <td>-0.178371</td>\n",
       "      <td>0.831632</td>\n",
       "      <td>-0.039557</td>\n",
       "    </tr>\n",
       "    <tr>\n",
       "      <th>4</th>\n",
       "      <td>-1.211252</td>\n",
       "      <td>-0.190355</td>\n",
       "      <td>0.787136</td>\n",
       "      <td>0.028421</td>\n",
       "    </tr>\n",
       "    <tr>\n",
       "      <th>...</th>\n",
       "      <td>...</td>\n",
       "      <td>...</td>\n",
       "      <td>...</td>\n",
       "      <td>...</td>\n",
       "    </tr>\n",
       "    <tr>\n",
       "      <th>81</th>\n",
       "      <td>-1.063359</td>\n",
       "      <td>-0.204620</td>\n",
       "      <td>-0.576440</td>\n",
       "      <td>-0.040366</td>\n",
       "    </tr>\n",
       "    <tr>\n",
       "      <th>82</th>\n",
       "      <td>-0.857953</td>\n",
       "      <td>-0.172818</td>\n",
       "      <td>-0.570943</td>\n",
       "      <td>-0.041450</td>\n",
       "    </tr>\n",
       "    <tr>\n",
       "      <th>83</th>\n",
       "      <td>0.241328</td>\n",
       "      <td>0.009569</td>\n",
       "      <td>-0.630341</td>\n",
       "      <td>-0.025629</td>\n",
       "    </tr>\n",
       "    <tr>\n",
       "      <th>84</th>\n",
       "      <td>1.222607</td>\n",
       "      <td>-0.204592</td>\n",
       "      <td>-0.444313</td>\n",
       "      <td>-0.039382</td>\n",
       "    </tr>\n",
       "    <tr>\n",
       "      <th>85</th>\n",
       "      <td>-1.196378</td>\n",
       "      <td>-0.201933</td>\n",
       "      <td>0.117640</td>\n",
       "      <td>-0.040631</td>\n",
       "    </tr>\n",
       "  </tbody>\n",
       "</table>\n",
       "<p>86 rows × 4 columns</p>\n",
       "</div>"
      ],
      "text/plain": [
       "     miRNA21  miRNA638  miRNA148  miRNA152\n",
       "0  -0.982188 -0.188627 -0.287453  0.005961\n",
       "1  -0.617556 -0.182210  0.756934 -0.038621\n",
       "2  -1.144531 -0.185637  0.766596  0.215207\n",
       "3  -0.701985 -0.178371  0.831632 -0.039557\n",
       "4  -1.211252 -0.190355  0.787136  0.028421\n",
       "..       ...       ...       ...       ...\n",
       "81 -1.063359 -0.204620 -0.576440 -0.040366\n",
       "82 -0.857953 -0.172818 -0.570943 -0.041450\n",
       "83  0.241328  0.009569 -0.630341 -0.025629\n",
       "84  1.222607 -0.204592 -0.444313 -0.039382\n",
       "85 -1.196378 -0.201933  0.117640 -0.040631\n",
       "\n",
       "[86 rows x 4 columns]"
      ]
     },
     "execution_count": 58,
     "metadata": {},
     "output_type": "execute_result"
    }
   ],
   "source": [
    "norm_log_table"
   ]
  },
  {
   "cell_type": "code",
   "execution_count": 59,
   "metadata": {},
   "outputs": [],
   "source": [
    "controls = data[\"group\"] == 1"
   ]
  },
  {
   "cell_type": "code",
   "execution_count": 60,
   "metadata": {},
   "outputs": [],
   "source": [
    "X = np.array(controls).reshape(-1, 1)"
   ]
  },
  {
   "cell_type": "code",
   "execution_count": 61,
   "metadata": {},
   "outputs": [
    {
     "data": {
      "text/plain": [
       "LinearRegression()"
      ]
     },
     "execution_count": 61,
     "metadata": {},
     "output_type": "execute_result"
    }
   ],
   "source": [
    "linreg = LinearRegression()\n",
    "linreg.fit(X, norm_log_table)"
   ]
  },
  {
   "cell_type": "code",
   "execution_count": 62,
   "metadata": {},
   "outputs": [
    {
     "data": {
      "text/plain": [
       "0.26282819110179206"
      ]
     },
     "execution_count": 62,
     "metadata": {},
     "output_type": "execute_result"
    }
   ],
   "source": [
    "fitted = linreg.predict(X)\n",
    "explained_variance_score(norm_log_table, fitted, multioutput=\"variance_weighted\")"
   ]
  },
  {
   "cell_type": "markdown",
   "metadata": {
    "tags": []
   },
   "source": [
    "# PCA"
   ]
  },
  {
   "cell_type": "code",
   "execution_count": 63,
   "metadata": {
    "tags": []
   },
   "outputs": [],
   "source": [
    "pca = decomposition.PCA(n_components=2)"
   ]
  },
  {
   "cell_type": "code",
   "execution_count": 64,
   "metadata": {},
   "outputs": [
    {
     "data": {
      "text/plain": [
       "PCA(n_components=2)"
      ]
     },
     "execution_count": 64,
     "metadata": {},
     "output_type": "execute_result"
    }
   ],
   "source": [
    "pca.fit(norm_log_table)"
   ]
  },
  {
   "cell_type": "code",
   "execution_count": 65,
   "metadata": {
    "tags": []
   },
   "outputs": [],
   "source": [
    "components = pca.transform(norm_log_table)"
   ]
  },
  {
   "cell_type": "code",
   "execution_count": 66,
   "metadata": {},
   "outputs": [
    {
     "data": {
      "text/plain": [
       "array([[-8.27912084e-01, -5.92750478e-01],\n",
       "       [-8.13262188e-01,  5.12366437e-01],\n",
       "       [-1.31576827e+00,  3.55510952e-01],\n",
       "       [-9.17051827e-01,  5.56326460e-01],\n",
       "       [-1.38464222e+00,  3.51924309e-01],\n",
       "       [-1.03440928e+00,  5.52400980e-01],\n",
       "       [-7.76861893e-01,  4.04059951e-01],\n",
       "       [-6.94596508e-01,  6.16348941e-01],\n",
       "       [-1.95396001e+00,  4.50986221e+00],\n",
       "       [-1.59988536e+00,  1.16978270e-01],\n",
       "       [-1.40421341e+00, -1.17829517e+00],\n",
       "       [-2.61456082e-01, -7.94586377e-01],\n",
       "       [-5.69934622e-02, -7.32487782e-01],\n",
       "       [ 1.91138486e-01, -6.33781074e-01],\n",
       "       [-1.17088062e+00, -1.11164629e+00],\n",
       "       [ 2.71724492e-01, -5.89665104e-01],\n",
       "       [-2.55525329e+00,  2.89164350e+00],\n",
       "       [-1.17083600e+00, -1.11215414e+00],\n",
       "       [-1.64782647e+00,  1.68276913e-01],\n",
       "       [-1.18576498e+00, -1.10895565e+00],\n",
       "       [-1.29205241e-01, -4.43173007e-01],\n",
       "       [-8.53831101e-01,  9.77590887e-01],\n",
       "       [ 2.27514983e-01, -6.40909113e-01],\n",
       "       [ 5.40380279e-03, -1.30038723e-01],\n",
       "       [-2.11582412e+00,  1.43167664e+00],\n",
       "       [-1.61683383e+00,  1.69845941e-01],\n",
       "       [-8.06393776e-01,  9.85992774e-01],\n",
       "       [-8.08860615e-01, -7.70244622e-01],\n",
       "       [-3.18624431e-01,  8.36579528e-01],\n",
       "       [-6.59818800e-01,  6.06271511e-02],\n",
       "       [-1.72723087e+00,  1.74808480e-01],\n",
       "       [-1.45216913e+00, -1.10107049e+00],\n",
       "       [-7.37423118e-01,  4.07769094e-01],\n",
       "       [-6.70392505e-01, -8.03087358e-01],\n",
       "       [ 1.01358829e-01, -5.86379495e-01],\n",
       "       [-2.31585038e+00,  2.48555768e+00],\n",
       "       [-8.89643240e-01,  1.00761962e-01],\n",
       "       [-5.95962700e-01, -8.71769445e-01],\n",
       "       [-7.06588645e-01,  3.82284309e-02],\n",
       "       [-1.89553290e+00,  1.50951298e+00],\n",
       "       [-7.17134500e-01,  5.35914519e-01],\n",
       "       [-8.93939988e-01,  1.93610816e-01],\n",
       "       [-2.42259201e+00,  2.58618812e+00],\n",
       "       [-1.11223447e+00, -6.74584092e-01],\n",
       "       [-5.94327789e-01, -8.96769924e-01],\n",
       "       [ 1.52940641e+00, -2.04564849e-01],\n",
       "       [-5.38262418e-01, -4.59229183e-01],\n",
       "       [-4.38307082e-01, -8.67134506e-01],\n",
       "       [ 3.10093579e-03, -7.10764544e-01],\n",
       "       [ 1.23770889e+00, -2.88363993e-01],\n",
       "       [-2.61505007e-01, -6.71095661e-01],\n",
       "       [-9.66411433e-02, -7.40831764e-01],\n",
       "       [ 3.14689286e+00,  3.41456488e-01],\n",
       "       [-7.84555247e-01, -7.70220019e-01],\n",
       "       [ 1.57878370e+00, -1.78303183e-01],\n",
       "       [ 1.84406447e-01, -6.57393591e-01],\n",
       "       [ 8.13535912e-01, -4.45806063e-01],\n",
       "       [ 3.57465457e+00,  5.01423696e-01],\n",
       "       [ 2.76606411e+00,  2.25404740e-01],\n",
       "       [ 3.18590772e+00,  3.65359653e-01],\n",
       "       [-8.96311873e-01, -9.56124016e-01],\n",
       "       [-8.73985524e-01, -1.01370068e+00],\n",
       "       [ 2.23879818e+00,  3.45345072e-02],\n",
       "       [-6.77166156e-01, -2.13132104e-01],\n",
       "       [ 1.48558307e+00, -7.18110974e-02],\n",
       "       [ 1.87904942e-02, -6.96656653e-01],\n",
       "       [ 2.40036317e-01, -3.94264521e-01],\n",
       "       [-6.59381717e-01, -3.50420828e-01],\n",
       "       [ 2.63278194e+00,  7.23633293e-01],\n",
       "       [ 2.19575373e+00,  1.49962529e-01],\n",
       "       [ 1.61564209e+00, -1.60989739e-01],\n",
       "       [ 6.70308302e-02, -6.97239193e-01],\n",
       "       [ 2.46970028e+00,  1.24337989e-01],\n",
       "       [ 1.26437626e+00, -2.93774835e-01],\n",
       "       [ 6.54178331e+00,  1.68629913e+00],\n",
       "       [ 1.23292986e+00, -2.86617647e-01],\n",
       "       [ 1.85451575e-01, -6.35550104e-01],\n",
       "       [ 1.40966335e+00, -2.20654292e-01],\n",
       "       [ 6.78802726e+00,  1.57632596e+00],\n",
       "       [ 8.48965968e-01, -2.36116372e-01],\n",
       "       [ 8.39137511e-01,  2.86191938e-01],\n",
       "       [-8.12288511e-01, -8.93309250e-01],\n",
       "       [-6.21418923e-01, -8.21368553e-01],\n",
       "       [ 4.27374161e-01, -5.19799765e-01],\n",
       "       [ 1.31030866e+00, -3.93535348e-02],\n",
       "       [-1.15792525e+00, -2.78354963e-01]])"
      ]
     },
     "execution_count": 66,
     "metadata": {},
     "output_type": "execute_result"
    }
   ],
   "source": [
    "components"
   ]
  },
  {
   "cell_type": "code",
   "execution_count": 67,
   "metadata": {
    "tags": []
   },
   "outputs": [],
   "source": [
    "sick = 1 - controls"
   ]
  },
  {
   "cell_type": "code",
   "execution_count": 69,
   "metadata": {},
   "outputs": [
    {
     "data": {
      "image/png": "[encoded data removed]",
      "text/plain": [
       "<Figure size 576x576 with 1 Axes>"
      ]
     },
     "metadata": {
      "needs_background": "light"
     },
     "output_type": "display_data"
    }
   ],
   "source": [
    "fig = plt.figure(figsize = (8,8))\n",
    "ax = fig.add_subplot(1,1,1)\n",
    "\n",
    "ax.set_xlabel('Principal Component 1', fontsize = 15)\n",
    "ax.set_ylabel('Principal Component 2', fontsize = 15)\n",
    "ax.set_title('2 component PCA', fontsize = 20)\n",
    "targets = ['Cancer', 'Healthy']\n",
    "colors = ['r', 'g']\n",
    "ax.scatter(components[controls == False, 0], components[controls == False, 1], c = 'r', s = 10)\n",
    "ax.scatter(components[controls == True, 0], components[controls == True, 1], c = 'g', s = 10)\n",
    "ax.legend(targets)\n",
    "ax.grid()"
   ]
  },
  {
   "cell_type": "code",
   "execution_count": 70,
   "metadata": {},
   "outputs": [
    {
     "data": {
      "image/png": "[encoded data removed]",
      "text/plain": [
       "<Figure size 576x576 with 1 Axes>"
      ]
     },
     "metadata": {
      "needs_background": "light"
     },
     "output_type": "display_data"
    }
   ],
   "source": [
    "fig = plt.figure(figsize = (8,8))\n",
    "ax = fig.add_subplot(1,1,1)\n",
    "\n",
    "ax.set_xlabel('Principal Component 1', fontsize = 15)\n",
    "ax.set_ylabel('Principal Component 2', fontsize = 15)\n",
    "ax.set_title('2 component PCA', fontsize = 20)\n",
    "targets = ['Cancer', 'Healthy'][::-1]\n",
    "colors = ['r', 'g']\n",
    "ax.scatter(components[controls == True, 0], components[controls == True, 1], c = 'g', s = 10)\n",
    "ax.scatter(components[controls == False, 0], components[controls == False, 1], c = 'r', s = 10)\n",
    "ax.legend(targets)\n",
    "ax.grid()"
   ]
  },
  {
   "cell_type": "markdown",
   "metadata": {
    "tags": []
   },
   "source": [
    "### Linear regression adjustments"
   ]
  },
  {
   "cell_type": "code",
   "execution_count": 71,
   "metadata": {},
   "outputs": [],
   "source": [
    "covars = data.iloc[:,5:8]"
   ]
  },
  {
   "cell_type": "code",
   "execution_count": 72,
   "metadata": {},
   "outputs": [
    {
     "data": {
      "text/html": [
       "<div>\n",
       "<style scoped>\n",
       "    .dataframe tbody tr th:only-of-type {\n",
       "        vertical-align: middle;\n",
       "    }\n",
       "\n",
       "    .dataframe tbody tr th {\n",
       "        vertical-align: top;\n",
       "    }\n",
       "\n",
       "    .dataframe thead th {\n",
       "        text-align: right;\n",
       "    }\n",
       "</style>\n",
       "<table border=\"1\" class=\"dataframe\">\n",
       "  <thead>\n",
       "    <tr style=\"text-align: right;\">\n",
       "      <th></th>\n",
       "      <th>Age</th>\n",
       "      <th>Livingplace</th>\n",
       "      <th>Smoker</th>\n",
       "    </tr>\n",
       "  </thead>\n",
       "  <tbody>\n",
       "    <tr>\n",
       "      <th>0</th>\n",
       "      <td>66</td>\n",
       "      <td>2.000000</td>\n",
       "      <td>1.0</td>\n",
       "    </tr>\n",
       "    <tr>\n",
       "      <th>1</th>\n",
       "      <td>61</td>\n",
       "      <td>2.000000</td>\n",
       "      <td>1.0</td>\n",
       "    </tr>\n",
       "    <tr>\n",
       "      <th>2</th>\n",
       "      <td>68</td>\n",
       "      <td>1.000000</td>\n",
       "      <td>2.0</td>\n",
       "    </tr>\n",
       "    <tr>\n",
       "      <th>3</th>\n",
       "      <td>67</td>\n",
       "      <td>2.000000</td>\n",
       "      <td>1.0</td>\n",
       "    </tr>\n",
       "    <tr>\n",
       "      <th>4</th>\n",
       "      <td>66</td>\n",
       "      <td>1.000000</td>\n",
       "      <td>1.0</td>\n",
       "    </tr>\n",
       "    <tr>\n",
       "      <th>...</th>\n",
       "      <td>...</td>\n",
       "      <td>...</td>\n",
       "      <td>...</td>\n",
       "    </tr>\n",
       "    <tr>\n",
       "      <th>81</th>\n",
       "      <td>67</td>\n",
       "      <td>2.000000</td>\n",
       "      <td>2.0</td>\n",
       "    </tr>\n",
       "    <tr>\n",
       "      <th>82</th>\n",
       "      <td>64</td>\n",
       "      <td>2.000000</td>\n",
       "      <td>1.0</td>\n",
       "    </tr>\n",
       "    <tr>\n",
       "      <th>83</th>\n",
       "      <td>72</td>\n",
       "      <td>1.532468</td>\n",
       "      <td>1.0</td>\n",
       "    </tr>\n",
       "    <tr>\n",
       "      <th>84</th>\n",
       "      <td>71</td>\n",
       "      <td>2.000000</td>\n",
       "      <td>1.0</td>\n",
       "    </tr>\n",
       "    <tr>\n",
       "      <th>85</th>\n",
       "      <td>69</td>\n",
       "      <td>2.000000</td>\n",
       "      <td>1.0</td>\n",
       "    </tr>\n",
       "  </tbody>\n",
       "</table>\n",
       "<p>86 rows × 3 columns</p>\n",
       "</div>"
      ],
      "text/plain": [
       "    Age  Livingplace  Smoker\n",
       "0    66     2.000000     1.0\n",
       "1    61     2.000000     1.0\n",
       "2    68     1.000000     2.0\n",
       "3    67     2.000000     1.0\n",
       "4    66     1.000000     1.0\n",
       "..  ...          ...     ...\n",
       "81   67     2.000000     2.0\n",
       "82   64     2.000000     1.0\n",
       "83   72     1.532468     1.0\n",
       "84   71     2.000000     1.0\n",
       "85   69     2.000000     1.0\n",
       "\n",
       "[86 rows x 3 columns]"
      ]
     },
     "execution_count": 72,
     "metadata": {},
     "output_type": "execute_result"
    }
   ],
   "source": [
    "covars"
   ]
  },
  {
   "cell_type": "code",
   "execution_count": 73,
   "metadata": {},
   "outputs": [],
   "source": [
    "covars = covars.fillna(covars.mean())"
   ]
  },
  {
   "cell_type": "code",
   "execution_count": 74,
   "metadata": {},
   "outputs": [
    {
     "data": {
      "text/plain": [
       "LinearRegression()"
      ]
     },
     "execution_count": 74,
     "metadata": {},
     "output_type": "execute_result"
    }
   ],
   "source": [
    "linreg = LinearRegression()\n",
    "linreg.fit(covars, norm_log_table)"
   ]
  },
  {
   "cell_type": "code",
   "execution_count": 75,
   "metadata": {},
   "outputs": [],
   "source": [
    "adj_norm_log_table = norm_log_table - linreg.predict(covars)"
   ]
  },
  {
   "cell_type": "markdown",
   "metadata": {
    "tags": []
   },
   "source": [
    "# PCA"
   ]
  },
  {
   "cell_type": "code",
   "execution_count": 76,
   "metadata": {
    "tags": []
   },
   "outputs": [],
   "source": [
    "pca = decomposition.PCA(n_components=2)"
   ]
  },
  {
   "cell_type": "code",
   "execution_count": 77,
   "metadata": {},
   "outputs": [
    {
     "data": {
      "text/plain": [
       "PCA(n_components=2)"
      ]
     },
     "execution_count": 77,
     "metadata": {},
     "output_type": "execute_result"
    }
   ],
   "source": [
    "pca.fit(adj_norm_log_table)"
   ]
  },
  {
   "cell_type": "code",
   "execution_count": 78,
   "metadata": {
    "tags": []
   },
   "outputs": [],
   "source": [
    "components = pca.transform(adj_norm_log_table)"
   ]
  },
  {
   "cell_type": "code",
   "execution_count": 79,
   "metadata": {},
   "outputs": [
    {
     "data": {
      "text/plain": [
       "array([[-0.4099227 , -0.57784565],\n",
       "       [ 0.4936335 ,  0.29550919],\n",
       "       [-1.41590295,  0.35198191],\n",
       "       [-0.5737948 ,  0.62085936],\n",
       "       [-1.41284201,  0.60966865],\n",
       "       [-0.79789043,  0.43558416],\n",
       "       [-0.76782847,  0.54958654],\n",
       "       [ 0.13597728,  0.52746378],\n",
       "       [-0.74079772,  4.21001627],\n",
       "       [-0.98989889,  0.18656172],\n",
       "       [-0.062138  , -1.39048165],\n",
       "       [-0.37760662, -0.62159087],\n",
       "       [ 0.43782341, -1.07742763],\n",
       "       [ 0.73776637, -0.69298029],\n",
       "       [-1.19481684, -0.92848158],\n",
       "       [ 0.75214312, -0.91687089],\n",
       "       [-3.02634955,  3.39653823],\n",
       "       [-0.86369371, -1.32429551],\n",
       "       [-1.43938449,  0.10072751],\n",
       "       [-1.32387545, -0.8632665 ],\n",
       "       [ 0.46771318, -0.78015426],\n",
       "       [-1.2856828 ,  1.26554594],\n",
       "       [ 0.44432255, -0.59689647],\n",
       "       [-0.09954851, -0.29869369],\n",
       "       [-1.57844796,  1.60751232],\n",
       "       [-1.37558844,  0.02895443],\n",
       "       [-0.30743241,  0.66471486],\n",
       "       [-0.15497262, -1.11051495],\n",
       "       [-0.59849983,  1.03243605],\n",
       "       [ 0.18444852, -0.26754192],\n",
       "       [-1.2505568 ,  0.25875192],\n",
       "       [-2.20108456, -0.72360345],\n",
       "       [-0.24499862,  0.41434912],\n",
       "       [-0.34244311, -1.0610656 ],\n",
       "       [ 0.96171446, -1.10542174],\n",
       "       [-1.57620868,  2.30953108],\n",
       "       [-0.62001384, -0.16263034],\n",
       "       [-0.43314539, -1.08316084],\n",
       "       [ 0.49152851, -0.44905205],\n",
       "       [-0.6191629 ,  1.1850761 ],\n",
       "       [-0.77208914,  0.41487184],\n",
       "       [ 0.02922135, -0.25560381],\n",
       "       [-0.99510775,  2.15928536],\n",
       "       [-1.37932571, -0.38946485],\n",
       "       [-0.84473254, -0.71601011],\n",
       "       [ 0.64819009,  0.05679627],\n",
       "       [-1.07830969, -0.19274386],\n",
       "       [-1.00914946, -0.60739367],\n",
       "       [-0.15091529, -0.58076145],\n",
       "       [ 0.83444206, -0.14125328],\n",
       "       [-0.65609673, -0.4725283 ],\n",
       "       [-0.76485541, -0.69916722],\n",
       "       [ 2.46500617,  0.43034006],\n",
       "       [-1.22056522, -0.46477662],\n",
       "       [ 1.02187599, -0.01209468],\n",
       "       [-0.88964949, -0.24496094],\n",
       "       [ 0.07664787, -0.17386748],\n",
       "       [ 2.67052353,  0.34712874],\n",
       "       [ 2.07609818,  0.34429886],\n",
       "       [ 2.59464997,  0.15033137],\n",
       "       [-1.66845235, -0.55039865],\n",
       "       [-0.88251722, -1.15762869],\n",
       "       [ 2.21451762, -0.05240074],\n",
       "       [-1.19789838,  0.06226965],\n",
       "       [ 0.49404643,  0.10093811],\n",
       "       [-0.37887173, -0.51835434],\n",
       "       [-0.77947698, -0.05283166],\n",
       "       [-1.18296632, -0.15060978],\n",
       "       [ 2.49824026,  0.65026726],\n",
       "       [ 2.50274976, -0.02537599],\n",
       "       [ 0.57631054,  0.13923057],\n",
       "       [-0.81436433, -0.38585038],\n",
       "       [ 2.02187462,  0.09855288],\n",
       "       [ 1.94962174, -0.60822804],\n",
       "       [ 6.80525528,  1.1356361 ],\n",
       "       [ 1.18983786, -0.30233661],\n",
       "       [-0.53030224, -0.37914346],\n",
       "       [ 0.52741151,  0.05010878],\n",
       "       [ 6.88161848,  1.05244146],\n",
       "       [ 0.64560379, -0.16891221],\n",
       "       [ 0.27156774,  0.49294409],\n",
       "       [-0.32831891, -1.17903024],\n",
       "       [ 0.101878  , -0.91402596],\n",
       "       [-0.355659  , -0.24548389],\n",
       "       [ 0.95966718,  0.03726716],\n",
       "       [-1.19977391, -0.10086492]])"
      ]
     },
     "execution_count": 79,
     "metadata": {},
     "output_type": "execute_result"
    }
   ],
   "source": [
    "components"
   ]
  },
  {
   "cell_type": "code",
   "execution_count": 80,
   "metadata": {},
   "outputs": [
    {
     "data": {
      "image/png": "[encoded data removed]",
      "text/plain": [
       "<Figure size 576x576 with 1 Axes>"
      ]
     },
     "metadata": {
      "needs_background": "light"
     },
     "output_type": "display_data"
    }
   ],
   "source": [
    "fig = plt.figure(figsize = (8,8))\n",
    "ax = fig.add_subplot(1,1,1)\n",
    "\n",
    "ax.set_xlabel('Principal Component 1', fontsize = 15)\n",
    "ax.set_ylabel('Principal Component 2', fontsize = 15)\n",
    "ax.set_title('2 component PCA', fontsize = 20)\n",
    "targets = ['Cancer', 'Healthy']\n",
    "colors = ['r', 'g']\n",
    "ax.scatter(components[controls == False, 0], components[controls == False, 1], c = 'r', s = 10)\n",
    "ax.scatter(components[controls == True, 0], components[controls == True, 1], c = 'g', s = 10)\n",
    "ax.legend(targets)\n",
    "ax.grid()"
   ]
  },
  {
   "cell_type": "markdown",
   "metadata": {
    "jupyter": {
     "outputs_hidden": true
    }
   },
   "source": [
    "### XGBoost"
   ]
  },
  {
   "cell_type": "code",
   "execution_count": 81,
   "metadata": {},
   "outputs": [],
   "source": [
    "X_train, X_test, y_train, y_test = train_test_split(adj_norm_log_table, controls, test_size=0.33, random_state=42)"
   ]
  },
  {
   "cell_type": "code",
   "execution_count": 82,
   "metadata": {},
   "outputs": [
    {
     "name": "stdout",
     "output_type": "stream",
     "text": [
      "[20:31:58] WARNING: C:/Users/Administrator/workspace/xgboost-win64_release_1.5.1/src/learner.cc:1115: Starting in XGBoost 1.3.0, the default evaluation metric used with the objective 'binary:logistic' was changed from 'error' to 'logloss'. Explicitly set eval_metric if you'd like to restore the old behavior.\n"
     ]
    },
    {
     "data": {
      "text/plain": [
       "XGBClassifier(base_score=0.5, booster='gbtree', colsample_bylevel=1,\n",
       "              colsample_bynode=1, colsample_bytree=1, enable_categorical=False,\n",
       "              gamma=0, gpu_id=-1, importance_type=None,\n",
       "              interaction_constraints='', learning_rate=0.300000012,\n",
       "              max_delta_step=0, max_depth=6, min_child_weight=1, missing=nan,\n",
       "              monotone_constraints='()', n_estimators=100, n_jobs=16,\n",
       "              num_parallel_tree=1, predictor='auto', random_state=0,\n",
       "              reg_alpha=0, reg_lambda=1, scale_pos_weight=1, subsample=1,\n",
       "              tree_method='exact', use_label_encoder=False,\n",
       "              validate_parameters=1, verbosity=None)"
      ]
     },
     "execution_count": 82,
     "metadata": {},
     "output_type": "execute_result"
    }
   ],
   "source": [
    "model = XGBClassifier(use_label_encoder=False)\n",
    "model.fit(X_train, y_train)"
   ]
  },
  {
   "cell_type": "code",
   "execution_count": 83,
   "metadata": {},
   "outputs": [
    {
     "name": "stderr",
     "output_type": "stream",
     "text": [
      "C:\\Users\\olefr\\AppData\\Local\\Programs\\Python\\Python310\\lib\\site-packages\\sklearn\\utils\\deprecation.py:87: FutureWarning: Function plot_roc_curve is deprecated; Function :func:`plot_roc_curve` is deprecated in 1.0 and will be removed in 1.2. Use one of the class methods: :meth:`sklearn.metric.RocCurveDisplay.from_predictions` or :meth:`sklearn.metric.RocCurveDisplay.from_estimator`.\n",
      "  warnings.warn(msg, category=FutureWarning)\n"
     ]
    },
    {
     "data": {
      "text/plain": [
       "<sklearn.metrics._plot.roc_curve.RocCurveDisplay at 0x20ef312c130>"
      ]
     },
     "execution_count": 83,
     "metadata": {},
     "output_type": "execute_result"
    },
    {
     "data": {
      "image/png": "[encoded data removed]",
      "text/plain": [
       "<Figure size 432x288 with 1 Axes>"
      ]
     },
     "metadata": {
      "needs_background": "light"
     },
     "output_type": "display_data"
    }
   ],
   "source": [
    "plot_roc_curve(model, X_test, y_test)"
   ]
  },
  {
   "cell_type": "markdown",
   "metadata": {},
   "source": [
    "### Export data"
   ]
  },
  {
   "cell_type": "code",
   "execution_count": 93,
   "metadata": {},
   "outputs": [],
   "source": [
    "mirnas = [\"hsa-miR-21-5p\", \"hsa-miR-638\", \"hsa-miR-148a-3p\", \"hsa-miR-152-3p\"]"
   ]
  },
  {
   "cell_type": "code",
   "execution_count": 94,
   "metadata": {},
   "outputs": [],
   "source": [
    "from Scripts import converters"
   ]
  },
  {
   "cell_type": "code",
   "execution_count": 95,
   "metadata": {},
   "outputs": [],
   "source": [
    "sequences = converters.canonical_to_seq(mirnas)"
   ]
  },
  {
   "cell_type": "code",
   "execution_count": 96,
   "metadata": {},
   "outputs": [
    {
     "data": {
      "text/html": [
       "<div>\n",
       "<style scoped>\n",
       "    .dataframe tbody tr th:only-of-type {\n",
       "        vertical-align: middle;\n",
       "    }\n",
       "\n",
       "    .dataframe tbody tr th {\n",
       "        vertical-align: top;\n",
       "    }\n",
       "\n",
       "    .dataframe thead th {\n",
       "        text-align: right;\n",
       "    }\n",
       "</style>\n",
       "<table border=\"1\" class=\"dataframe\">\n",
       "  <thead>\n",
       "    <tr style=\"text-align: right;\">\n",
       "      <th></th>\n",
       "      <th>UAGCUUAUCAGACUGAUGUUGA</th>\n",
       "      <th>AGGGAUCGCGGGCGGGUGGCGGCCU</th>\n",
       "      <th>UCAGUGCACUACAGAACUUUGU</th>\n",
       "      <th>UCAGUGCAUGACAGAACUUGG</th>\n",
       "      <th>cancer</th>\n",
       "    </tr>\n",
       "  </thead>\n",
       "  <tbody>\n",
       "    <tr>\n",
       "      <th>0</th>\n",
       "      <td>0.541799</td>\n",
       "      <td>0.079963</td>\n",
       "      <td>0.460290</td>\n",
       "      <td>-0.014714</td>\n",
       "      <td>0</td>\n",
       "    </tr>\n",
       "    <tr>\n",
       "      <th>1</th>\n",
       "      <td>-0.545245</td>\n",
       "      <td>0.185036</td>\n",
       "      <td>-0.165442</td>\n",
       "      <td>0.032333</td>\n",
       "      <td>0</td>\n",
       "    </tr>\n",
       "    <tr>\n",
       "      <th>2</th>\n",
       "      <td>1.302032</td>\n",
       "      <td>0.453728</td>\n",
       "      <td>-0.685106</td>\n",
       "      <td>-0.199471</td>\n",
       "      <td>0</td>\n",
       "    </tr>\n",
       "    <tr>\n",
       "      <th>3</th>\n",
       "      <td>0.406078</td>\n",
       "      <td>0.047409</td>\n",
       "      <td>-0.742526</td>\n",
       "      <td>0.030310</td>\n",
       "      <td>0</td>\n",
       "    </tr>\n",
       "    <tr>\n",
       "      <th>4</th>\n",
       "      <td>1.225039</td>\n",
       "      <td>0.117691</td>\n",
       "      <td>-0.936391</td>\n",
       "      <td>-0.030463</td>\n",
       "      <td>0</td>\n",
       "    </tr>\n",
       "  </tbody>\n",
       "</table>\n",
       "</div>"
      ],
      "text/plain": [
       "   UAGCUUAUCAGACUGAUGUUGA  AGGGAUCGCGGGCGGGUGGCGGCCU  UCAGUGCACUACAGAACUUUGU  \\\n",
       "0                0.541799                   0.079963                0.460290   \n",
       "1               -0.545245                   0.185036               -0.165442   \n",
       "2                1.302032                   0.453728               -0.685106   \n",
       "3                0.406078                   0.047409               -0.742526   \n",
       "4                1.225039                   0.117691               -0.936391   \n",
       "\n",
       "   UCAGUGCAUGACAGAACUUGG  cancer  \n",
       "0              -0.014714       0  \n",
       "1               0.032333       0  \n",
       "2              -0.199471       0  \n",
       "3               0.030310       0  \n",
       "4              -0.030463       0  "
      ]
     },
     "execution_count": 96,
     "metadata": {},
     "output_type": "execute_result"
    }
   ],
   "source": [
    "adj_norm_log_table.columns = sequences\n",
    "adj_norm_log_table *= -1\n",
    "adj_norm_log_table[\"cancer\"] = sick\n",
    "adj_norm_log_table.head()"
   ]
  },
  {
   "cell_type": "code",
   "execution_count": 97,
   "metadata": {},
   "outputs": [],
   "source": [
    "#norm_log_table.to_csv(\"../TransformedData/Asakura2020.csv\", index=False)\n",
    "adj_norm_log_table.to_csv(\"../TransformedData/Abdollahi2019.csv\", index=False)"
   ]
  },
  {
   "cell_type": "code",
   "execution_count": null,
   "metadata": {},
   "outputs": [],
   "source": []
  }
 ],
 "metadata": {
  "kernelspec": {
   "display_name": "Python 3 (ipykernel)",
   "language": "python",
   "name": "python3"
  },
  "language_info": {
   "codemirror_mode": {
    "name": "ipython",
    "version": 3
   },
   "file_extension": ".py",
   "mimetype": "text/x-python",
   "name": "python",
   "nbconvert_exporter": "python",
   "pygments_lexer": "ipython3",
   "version": "3.10.1"
  }
 },
 "nbformat": 4,
 "nbformat_minor": 4
}
