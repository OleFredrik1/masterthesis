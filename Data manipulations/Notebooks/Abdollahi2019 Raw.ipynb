{
 "cells": [
  {
   "cell_type": "code",
   "execution_count": 61,
   "metadata": {},
   "outputs": [],
   "source": [
    "%matplotlib inline\n",
    "import GEOparse\n",
    "import matplotlib\n",
    "import matplotlib.pyplot as plt\n",
    "import pandas as pd\n",
    "import numpy as np\n",
    "from sklearn import decomposition\n",
    "from sklego.linear_model import LowessRegression\n",
    "from sklearn.feature_selection import f_classif\n",
    "from sklearn.linear_model import LinearRegression\n",
    "from sklearn.metrics import explained_variance_score, plot_roc_curve\n",
    "import statsmodels.api as sm\n",
    "from scipy.stats import ttest_ind\n",
    "from xgboost import XGBClassifier\n",
    "from sklearn.model_selection import train_test_split\n",
    "from matplotlib.backends.backend_pgf import FigureCanvasPgf\n",
    "matplotlib.backend_bases.register_backend('pdf', FigureCanvasPgf)\n"
   ]
  },
  {
   "cell_type": "code",
   "execution_count": 62,
   "metadata": {},
   "outputs": [],
   "source": [
    "data = pd.read_csv(\"../Dataset/Abdollahi2019/data.csv\", na_values=[\"#NULL!\"])"
   ]
  },
  {
   "cell_type": "code",
   "execution_count": 108,
   "metadata": {},
   "outputs": [
    {
     "data": {
      "text/plain": [
       "0"
      ]
     },
     "execution_count": 108,
     "metadata": {},
     "output_type": "execute_result"
    }
   ],
   "source": [
    "data.isna().sum().sum()"
   ]
  },
  {
   "cell_type": "code",
   "execution_count": 65,
   "metadata": {},
   "outputs": [],
   "source": [
    "table = data.iloc[:,1:5]"
   ]
  },
  {
   "cell_type": "code",
   "execution_count": 66,
   "metadata": {},
   "outputs": [
    {
     "data": {
      "text/plain": [
       "miRNA21     2.031042\n",
       "miRNA638    0.144445\n",
       "miRNA148    0.473948\n",
       "miRNA152    0.029582\n",
       "dtype: float64"
      ]
     },
     "execution_count": 66,
     "metadata": {},
     "output_type": "execute_result"
    }
   ],
   "source": [
    "np.mean(table)"
   ]
  },
  {
   "cell_type": "code",
   "execution_count": 67,
   "metadata": {
    "tags": []
   },
   "outputs": [],
   "source": [
    "def get_means_and_variances(table):\n",
    "    return np.mean(table), np.var(table, ddof=1)"
   ]
  },
  {
   "cell_type": "code",
   "execution_count": 68,
   "metadata": {
    "tags": []
   },
   "outputs": [],
   "source": [
    "def mean_variance_plot(table):\n",
    "    means, variances = get_means_and_variances(table)\n",
    "    plt.scatter(means, variances)\n",
    "    plt.xlabel(\"mean\")\n",
    "    plt.ylabel(\"variance\")\n",
    "    plt.plot()"
   ]
  },
  {
   "cell_type": "code",
   "execution_count": 69,
   "metadata": {},
   "outputs": [
    {
     "data": {
      "image/png": "[encoded data removed]",
      "text/plain": [
       "<Figure size 432x288 with 1 Axes>"
      ]
     },
     "metadata": {
      "needs_background": "light"
     },
     "output_type": "display_data"
    }
   ],
   "source": [
    "mean_variance_plot(table)"
   ]
  },
  {
   "cell_type": "code",
   "execution_count": 70,
   "metadata": {},
   "outputs": [
    {
     "data": {
      "text/plain": [
       "[]"
      ]
     },
     "execution_count": 70,
     "metadata": {},
     "output_type": "execute_result"
    },
    {
     "data": {
      "image/png": "[encoded data removed]",
      "text/plain": [
       "<Figure size 432x288 with 1 Axes>"
      ]
     },
     "metadata": {
      "needs_background": "light"
     },
     "output_type": "display_data"
    }
   ],
   "source": [
    "means, variances = get_means_and_variances(table)\n",
    "plt.scatter(means, variances)\n",
    "plt.xlabel(\"mean\")\n",
    "plt.ylabel(\"variance\")\n",
    "plt.plot()"
   ]
  },
  {
   "cell_type": "markdown",
   "metadata": {},
   "source": [
    "### Trying log-transformation"
   ]
  },
  {
   "cell_type": "code",
   "execution_count": 71,
   "metadata": {
    "tags": []
   },
   "outputs": [],
   "source": [
    "log_table = table"
   ]
  },
  {
   "cell_type": "code",
   "execution_count": 72,
   "metadata": {},
   "outputs": [
    {
     "data": {
      "image/png": "[encoded data removed]",
      "text/plain": [
       "<Figure size 432x288 with 1 Axes>"
      ]
     },
     "metadata": {
      "needs_background": "light"
     },
     "output_type": "display_data"
    }
   ],
   "source": [
    "mean_variance_plot(log_table)"
   ]
  },
  {
   "cell_type": "code",
   "execution_count": 73,
   "metadata": {
    "tags": []
   },
   "outputs": [],
   "source": [
    "norm_log_table = log_table#log_table - np.mean(log_table)"
   ]
  },
  {
   "cell_type": "code",
   "execution_count": 74,
   "metadata": {},
   "outputs": [],
   "source": [
    "#norm_log_table /= np.sqrt(np.mean(np.var(norm_log_table, ddof=1)))"
   ]
  },
  {
   "cell_type": "code",
   "execution_count": 75,
   "metadata": {},
   "outputs": [
    {
     "data": {
      "image/png": "[encoded data removed]",
      "text/plain": [
       "<Figure size 432x288 with 1 Axes>"
      ]
     },
     "metadata": {
      "needs_background": "light"
     },
     "output_type": "display_data"
    }
   ],
   "source": [
    "mean_variance_plot(norm_log_table)"
   ]
  },
  {
   "cell_type": "markdown",
   "metadata": {},
   "source": [
    "### ANOVA"
   ]
  },
  {
   "cell_type": "code",
   "execution_count": 76,
   "metadata": {},
   "outputs": [
    {
     "data": {
      "text/html": [
       "<div>\n",
       "<style scoped>\n",
       "    .dataframe tbody tr th:only-of-type {\n",
       "        vertical-align: middle;\n",
       "    }\n",
       "\n",
       "    .dataframe tbody tr th {\n",
       "        vertical-align: top;\n",
       "    }\n",
       "\n",
       "    .dataframe thead th {\n",
       "        text-align: right;\n",
       "    }\n",
       "</style>\n",
       "<table border=\"1\" class=\"dataframe\">\n",
       "  <thead>\n",
       "    <tr style=\"text-align: right;\">\n",
       "      <th></th>\n",
       "      <th>miRNA21</th>\n",
       "      <th>miRNA638</th>\n",
       "      <th>miRNA148</th>\n",
       "      <th>miRNA152</th>\n",
       "    </tr>\n",
       "  </thead>\n",
       "  <tbody>\n",
       "    <tr>\n",
       "      <th>0</th>\n",
       "      <td>1.3377</td>\n",
       "      <td>0.011290</td>\n",
       "      <td>0.271030</td>\n",
       "      <td>0.033790</td>\n",
       "    </tr>\n",
       "    <tr>\n",
       "      <th>1</th>\n",
       "      <td>1.5951</td>\n",
       "      <td>0.015820</td>\n",
       "      <td>1.008280</td>\n",
       "      <td>0.002319</td>\n",
       "    </tr>\n",
       "    <tr>\n",
       "      <th>2</th>\n",
       "      <td>1.2231</td>\n",
       "      <td>0.013401</td>\n",
       "      <td>1.015100</td>\n",
       "      <td>0.181500</td>\n",
       "    </tr>\n",
       "    <tr>\n",
       "      <th>3</th>\n",
       "      <td>1.5355</td>\n",
       "      <td>0.018530</td>\n",
       "      <td>1.061010</td>\n",
       "      <td>0.001658</td>\n",
       "    </tr>\n",
       "    <tr>\n",
       "      <th>4</th>\n",
       "      <td>1.1760</td>\n",
       "      <td>0.010070</td>\n",
       "      <td>1.029600</td>\n",
       "      <td>0.049645</td>\n",
       "    </tr>\n",
       "    <tr>\n",
       "      <th>...</th>\n",
       "      <td>...</td>\n",
       "      <td>...</td>\n",
       "      <td>...</td>\n",
       "      <td>...</td>\n",
       "    </tr>\n",
       "    <tr>\n",
       "      <th>81</th>\n",
       "      <td>1.2804</td>\n",
       "      <td>0.000000</td>\n",
       "      <td>0.067030</td>\n",
       "      <td>0.001087</td>\n",
       "    </tr>\n",
       "    <tr>\n",
       "      <th>82</th>\n",
       "      <td>1.4254</td>\n",
       "      <td>0.022450</td>\n",
       "      <td>0.070910</td>\n",
       "      <td>0.000322</td>\n",
       "    </tr>\n",
       "    <tr>\n",
       "      <th>83</th>\n",
       "      <td>2.2014</td>\n",
       "      <td>0.151200</td>\n",
       "      <td>0.028980</td>\n",
       "      <td>0.011490</td>\n",
       "    </tr>\n",
       "    <tr>\n",
       "      <th>84</th>\n",
       "      <td>2.8941</td>\n",
       "      <td>0.000020</td>\n",
       "      <td>0.160300</td>\n",
       "      <td>0.001782</td>\n",
       "    </tr>\n",
       "    <tr>\n",
       "      <th>85</th>\n",
       "      <td>1.1865</td>\n",
       "      <td>0.001897</td>\n",
       "      <td>0.556992</td>\n",
       "      <td>0.000900</td>\n",
       "    </tr>\n",
       "  </tbody>\n",
       "</table>\n",
       "<p>86 rows × 4 columns</p>\n",
       "</div>"
      ],
      "text/plain": [
       "    miRNA21  miRNA638  miRNA148  miRNA152\n",
       "0    1.3377  0.011290  0.271030  0.033790\n",
       "1    1.5951  0.015820  1.008280  0.002319\n",
       "2    1.2231  0.013401  1.015100  0.181500\n",
       "3    1.5355  0.018530  1.061010  0.001658\n",
       "4    1.1760  0.010070  1.029600  0.049645\n",
       "..      ...       ...       ...       ...\n",
       "81   1.2804  0.000000  0.067030  0.001087\n",
       "82   1.4254  0.022450  0.070910  0.000322\n",
       "83   2.2014  0.151200  0.028980  0.011490\n",
       "84   2.8941  0.000020  0.160300  0.001782\n",
       "85   1.1865  0.001897  0.556992  0.000900\n",
       "\n",
       "[86 rows x 4 columns]"
      ]
     },
     "execution_count": 76,
     "metadata": {},
     "output_type": "execute_result"
    }
   ],
   "source": [
    "norm_log_table"
   ]
  },
  {
   "cell_type": "code",
   "execution_count": 77,
   "metadata": {},
   "outputs": [],
   "source": [
    "controls = data[\"group\"] == 1"
   ]
  },
  {
   "cell_type": "code",
   "execution_count": 78,
   "metadata": {},
   "outputs": [],
   "source": [
    "X = np.array(controls).reshape(-1, 1)"
   ]
  },
  {
   "cell_type": "code",
   "execution_count": 79,
   "metadata": {},
   "outputs": [
    {
     "data": {
      "text/plain": [
       "LinearRegression()"
      ]
     },
     "execution_count": 79,
     "metadata": {},
     "output_type": "execute_result"
    }
   ],
   "source": [
    "linreg = LinearRegression()\n",
    "linreg.fit(X, norm_log_table)"
   ]
  },
  {
   "cell_type": "code",
   "execution_count": 80,
   "metadata": {},
   "outputs": [
    {
     "data": {
      "text/plain": [
       "0.2628281911017919"
      ]
     },
     "execution_count": 80,
     "metadata": {},
     "output_type": "execute_result"
    }
   ],
   "source": [
    "fitted = linreg.predict(X)\n",
    "explained_variance_score(norm_log_table, fitted, multioutput=\"variance_weighted\")"
   ]
  },
  {
   "cell_type": "markdown",
   "metadata": {
    "tags": []
   },
   "source": [
    "# PCA"
   ]
  },
  {
   "cell_type": "code",
   "execution_count": 81,
   "metadata": {
    "tags": []
   },
   "outputs": [],
   "source": [
    "pca = decomposition.PCA(n_components=2)"
   ]
  },
  {
   "cell_type": "code",
   "execution_count": 82,
   "metadata": {},
   "outputs": [
    {
     "data": {
      "text/plain": [
       "PCA(n_components=2)"
      ]
     },
     "execution_count": 82,
     "metadata": {},
     "output_type": "execute_result"
    }
   ],
   "source": [
    "pca.fit(norm_log_table)"
   ]
  },
  {
   "cell_type": "code",
   "execution_count": 83,
   "metadata": {
    "tags": []
   },
   "outputs": [],
   "source": [
    "components = pca.transform(norm_log_table)"
   ]
  },
  {
   "cell_type": "code",
   "execution_count": 84,
   "metadata": {},
   "outputs": [
    {
     "data": {
      "text/plain": [
       "array([[-5.84436371e-01, -4.18432035e-01],\n",
       "       [-5.74094776e-01,  3.61687656e-01],\n",
       "       [-9.28821852e-01,  2.50960862e-01],\n",
       "       [-6.47361540e-01,  3.92719739e-01],\n",
       "       [-9.77441069e-01,  2.48428994e-01],\n",
       "       [-7.30206045e-01,  3.89948679e-01],\n",
       "       [-5.48399225e-01,  2.85232377e-01],\n",
       "       [-4.90326775e-01,  4.35090567e-01],\n",
       "       [-1.37933159e+00,  3.18358381e+00],\n",
       "       [-1.12938464e+00,  8.25768301e-02],\n",
       "       [-9.91256690e-01, -8.31777394e-01],\n",
       "       [-1.84566027e-01, -5.60911222e-01],\n",
       "       [-4.02325958e-02, -5.17074831e-01],\n",
       "       [ 1.34927712e-01, -4.47396189e-01],\n",
       "       [-8.26543345e-01, -7.84728884e-01],\n",
       "       [ 1.91814661e-01, -4.16254021e-01],\n",
       "       [-1.80379414e+00,  2.04125736e+00],\n",
       "       [-8.26511846e-01, -7.85087383e-01],\n",
       "       [-1.16322704e+00,  1.18789362e-01],\n",
       "       [-8.37050447e-01, -7.82829515e-01],\n",
       "       [-9.12080446e-02, -3.12842908e-01],\n",
       "       [-6.02733020e-01,  6.90097030e-01],\n",
       "       [ 1.60606463e-01, -4.52427985e-01],\n",
       "       [ 3.81463075e-03, -9.17964130e-02],\n",
       "       [-1.49359406e+00,  1.01064342e+00],\n",
       "       [-1.14134884e+00,  1.19896964e-01],\n",
       "       [-5.69246254e-01,  6.96028056e-01],\n",
       "       [-5.70987635e-01, -5.43727988e-01],\n",
       "       [-2.24922077e-01,  5.90554858e-01],\n",
       "       [-4.65776635e-01,  4.27976748e-02],\n",
       "       [-1.21927987e+00,  1.23400100e-01],\n",
       "       [-1.02510940e+00, -7.77263256e-01],\n",
       "       [-5.20558764e-01,  2.87850720e-01],\n",
       "       [-4.73240783e-01, -5.66912200e-01],\n",
       "       [ 7.15508169e-02, -4.13934657e-01],\n",
       "       [-1.63479579e+00,  1.75459489e+00],\n",
       "       [-6.28013381e-01,  7.11294795e-02],\n",
       "       [-4.20699594e-01, -6.15395983e-01],\n",
       "       [-4.98792217e-01,  2.69860603e-02],\n",
       "       [-1.33808697e+00,  1.06558934e+00],\n",
       "       [-5.06236704e-01,  3.78310623e-01],\n",
       "       [-6.31046524e-01,  1.36672969e-01],\n",
       "       [-1.71014641e+00,  1.82563153e+00],\n",
       "       [-7.85144084e-01, -4.76199691e-01],\n",
       "       [-4.19545484e-01, -6.33044221e-01],\n",
       "       [ 1.07963243e+00, -1.44405596e-01],\n",
       "       [-3.79968043e-01, -3.24177219e-01],\n",
       "       [-3.09407974e-01, -6.12124105e-01],\n",
       "       [ 2.18900013e-03, -5.01740051e-01],\n",
       "       [ 8.73718482e-01, -2.03560751e-01],\n",
       "       [-1.84600563e-01, -4.73737152e-01],\n",
       "       [-6.82205275e-02, -5.22964981e-01],\n",
       "       [ 2.22144196e+00,  2.41039592e-01],\n",
       "       [-5.53830087e-01, -5.43710620e-01],\n",
       "       [ 1.11448865e+00, -1.25867066e-01],\n",
       "       [ 1.30175458e-01, -4.64064641e-01],\n",
       "       [ 5.74288002e-01, -3.14701624e-01],\n",
       "       [ 2.52340578e+00,  3.53963001e-01],\n",
       "       [ 1.95260886e+00,  1.59116808e-01],\n",
       "       [ 2.24898317e+00,  2.57913218e-01],\n",
       "       [-6.32720875e-01, -6.74943223e-01],\n",
       "       [-6.16960349e-01, -7.15587512e-01],\n",
       "       [ 1.58040341e+00,  2.43784605e-02],\n",
       "       [-4.78022412e-01, -1.50453358e-01],\n",
       "       [ 1.04869683e+00, -5.06926013e-02],\n",
       "       [ 1.32645102e-02, -4.91781065e-01],\n",
       "       [ 1.69445472e-01, -2.78317626e-01],\n",
       "       [-4.65468091e-01, -2.47367662e-01],\n",
       "       [ 1.85852285e+00,  5.10824306e-01],\n",
       "       [ 1.55001765e+00,  1.05860946e-01],\n",
       "       [ 1.14050757e+00, -1.13645230e-01],\n",
       "       [ 4.73181343e-02, -4.92192289e-01],\n",
       "       [ 1.74340090e+00,  8.77721732e-02],\n",
       "       [ 8.92543406e-01, -2.07380351e-01],\n",
       "       [ 4.61794938e+00,  1.19038550e+00],\n",
       "       [ 8.70344893e-01, -2.02327977e-01],\n",
       "       [ 1.30913231e-01, -4.48644975e-01],\n",
       "       [ 9.95103889e-01, -1.55763391e-01],\n",
       "       [ 4.79177692e+00,  1.11275368e+00],\n",
       "       [ 5.99298644e-01, -1.66678321e-01],\n",
       "       [ 5.92360579e-01,  2.02027463e-01],\n",
       "       [-5.73407441e-01, -6.30601275e-01],\n",
       "       [-4.38669548e-01, -5.79817188e-01],\n",
       "       [ 3.01690250e-01, -3.66934961e-01],\n",
       "       [ 9.24967822e-01, -2.77802891e-02],\n",
       "       [-8.17397942e-01, -1.96495217e-01]])"
      ]
     },
     "execution_count": 84,
     "metadata": {},
     "output_type": "execute_result"
    }
   ],
   "source": [
    "components"
   ]
  },
  {
   "cell_type": "code",
   "execution_count": 85,
   "metadata": {
    "tags": []
   },
   "outputs": [],
   "source": [
    "sick = 1 - controls"
   ]
  },
  {
   "cell_type": "code",
   "execution_count": 86,
   "metadata": {},
   "outputs": [
    {
     "data": {
      "image/png": "[encoded data removed]",
      "text/plain": [
       "<Figure size 576x576 with 1 Axes>"
      ]
     },
     "metadata": {
      "needs_background": "light"
     },
     "output_type": "display_data"
    }
   ],
   "source": [
    "fig = plt.figure(figsize = (8,8))\n",
    "ax = fig.add_subplot(1,1,1)\n",
    "\n",
    "ax.set_xlabel('Principal Component 1', fontsize = 15)\n",
    "ax.set_ylabel('Principal Component 2', fontsize = 15)\n",
    "ax.set_title('2 component PCA', fontsize = 20)\n",
    "targets = ['Cancer', 'Healthy']\n",
    "colors = ['r', 'g']\n",
    "ax.scatter(components[controls == False, 0], components[controls == False, 1], c = 'r', s = 10)\n",
    "ax.scatter(components[controls == True, 0], components[controls == True, 1], c = 'g', s = 10)\n",
    "ax.legend(targets)\n",
    "ax.grid()"
   ]
  },
  {
   "cell_type": "code",
   "execution_count": 87,
   "metadata": {},
   "outputs": [
    {
     "data": {
      "image/png": "[encoded data removed]",
      "text/plain": [
       "<Figure size 576x576 with 1 Axes>"
      ]
     },
     "metadata": {
      "needs_background": "light"
     },
     "output_type": "display_data"
    }
   ],
   "source": [
    "fig = plt.figure(figsize = (8,8))\n",
    "ax = fig.add_subplot(1,1,1)\n",
    "\n",
    "ax.set_xlabel('Principal Component 1', fontsize = 15)\n",
    "ax.set_ylabel('Principal Component 2', fontsize = 15)\n",
    "ax.set_title('2 component PCA', fontsize = 20)\n",
    "targets = ['Cancer', 'Healthy'][::-1]\n",
    "colors = ['r', 'g']\n",
    "ax.scatter(components[controls == True, 0], components[controls == True, 1], c = 'g', s = 10)\n",
    "ax.scatter(components[controls == False, 0], components[controls == False, 1], c = 'r', s = 10)\n",
    "ax.legend(targets)\n",
    "ax.grid()"
   ]
  },
  {
   "cell_type": "markdown",
   "metadata": {
    "tags": []
   },
   "source": [
    "### Linear regression adjustments"
   ]
  },
  {
   "cell_type": "code",
   "execution_count": 88,
   "metadata": {},
   "outputs": [],
   "source": [
    "covars = data.iloc[:,5:8]"
   ]
  },
  {
   "cell_type": "code",
   "execution_count": 89,
   "metadata": {},
   "outputs": [
    {
     "data": {
      "text/html": [
       "<div>\n",
       "<style scoped>\n",
       "    .dataframe tbody tr th:only-of-type {\n",
       "        vertical-align: middle;\n",
       "    }\n",
       "\n",
       "    .dataframe tbody tr th {\n",
       "        vertical-align: top;\n",
       "    }\n",
       "\n",
       "    .dataframe thead th {\n",
       "        text-align: right;\n",
       "    }\n",
       "</style>\n",
       "<table border=\"1\" class=\"dataframe\">\n",
       "  <thead>\n",
       "    <tr style=\"text-align: right;\">\n",
       "      <th></th>\n",
       "      <th>Age</th>\n",
       "      <th>Livingplace</th>\n",
       "      <th>Smoker</th>\n",
       "    </tr>\n",
       "  </thead>\n",
       "  <tbody>\n",
       "    <tr>\n",
       "      <th>0</th>\n",
       "      <td>66</td>\n",
       "      <td>2.000000</td>\n",
       "      <td>1.0</td>\n",
       "    </tr>\n",
       "    <tr>\n",
       "      <th>1</th>\n",
       "      <td>61</td>\n",
       "      <td>2.000000</td>\n",
       "      <td>1.0</td>\n",
       "    </tr>\n",
       "    <tr>\n",
       "      <th>2</th>\n",
       "      <td>68</td>\n",
       "      <td>1.000000</td>\n",
       "      <td>2.0</td>\n",
       "    </tr>\n",
       "    <tr>\n",
       "      <th>3</th>\n",
       "      <td>67</td>\n",
       "      <td>2.000000</td>\n",
       "      <td>1.0</td>\n",
       "    </tr>\n",
       "    <tr>\n",
       "      <th>4</th>\n",
       "      <td>66</td>\n",
       "      <td>1.000000</td>\n",
       "      <td>1.0</td>\n",
       "    </tr>\n",
       "    <tr>\n",
       "      <th>...</th>\n",
       "      <td>...</td>\n",
       "      <td>...</td>\n",
       "      <td>...</td>\n",
       "    </tr>\n",
       "    <tr>\n",
       "      <th>81</th>\n",
       "      <td>67</td>\n",
       "      <td>2.000000</td>\n",
       "      <td>2.0</td>\n",
       "    </tr>\n",
       "    <tr>\n",
       "      <th>82</th>\n",
       "      <td>64</td>\n",
       "      <td>2.000000</td>\n",
       "      <td>1.0</td>\n",
       "    </tr>\n",
       "    <tr>\n",
       "      <th>83</th>\n",
       "      <td>72</td>\n",
       "      <td>1.532468</td>\n",
       "      <td>1.0</td>\n",
       "    </tr>\n",
       "    <tr>\n",
       "      <th>84</th>\n",
       "      <td>71</td>\n",
       "      <td>2.000000</td>\n",
       "      <td>1.0</td>\n",
       "    </tr>\n",
       "    <tr>\n",
       "      <th>85</th>\n",
       "      <td>69</td>\n",
       "      <td>2.000000</td>\n",
       "      <td>1.0</td>\n",
       "    </tr>\n",
       "  </tbody>\n",
       "</table>\n",
       "<p>86 rows × 3 columns</p>\n",
       "</div>"
      ],
      "text/plain": [
       "    Age  Livingplace  Smoker\n",
       "0    66     2.000000     1.0\n",
       "1    61     2.000000     1.0\n",
       "2    68     1.000000     2.0\n",
       "3    67     2.000000     1.0\n",
       "4    66     1.000000     1.0\n",
       "..  ...          ...     ...\n",
       "81   67     2.000000     2.0\n",
       "82   64     2.000000     1.0\n",
       "83   72     1.532468     1.0\n",
       "84   71     2.000000     1.0\n",
       "85   69     2.000000     1.0\n",
       "\n",
       "[86 rows x 3 columns]"
      ]
     },
     "execution_count": 89,
     "metadata": {},
     "output_type": "execute_result"
    }
   ],
   "source": [
    "covars"
   ]
  },
  {
   "cell_type": "code",
   "execution_count": 90,
   "metadata": {},
   "outputs": [],
   "source": [
    "covars = covars.fillna(covars.mean())"
   ]
  },
  {
   "cell_type": "code",
   "execution_count": 91,
   "metadata": {},
   "outputs": [
    {
     "data": {
      "text/plain": [
       "LinearRegression()"
      ]
     },
     "execution_count": 91,
     "metadata": {},
     "output_type": "execute_result"
    }
   ],
   "source": [
    "linreg = LinearRegression()\n",
    "linreg.fit(covars, norm_log_table)"
   ]
  },
  {
   "cell_type": "code",
   "execution_count": 92,
   "metadata": {},
   "outputs": [],
   "source": [
    "adj_norm_log_table = norm_log_table# - linreg.predict(covars)"
   ]
  },
  {
   "cell_type": "markdown",
   "metadata": {
    "tags": []
   },
   "source": [
    "# PCA"
   ]
  },
  {
   "cell_type": "code",
   "execution_count": 93,
   "metadata": {
    "tags": []
   },
   "outputs": [],
   "source": [
    "pca = decomposition.PCA(n_components=2)"
   ]
  },
  {
   "cell_type": "code",
   "execution_count": 94,
   "metadata": {},
   "outputs": [
    {
     "data": {
      "text/plain": [
       "PCA(n_components=2)"
      ]
     },
     "execution_count": 94,
     "metadata": {},
     "output_type": "execute_result"
    }
   ],
   "source": [
    "pca.fit(adj_norm_log_table)"
   ]
  },
  {
   "cell_type": "code",
   "execution_count": 95,
   "metadata": {
    "tags": []
   },
   "outputs": [],
   "source": [
    "components = pca.transform(adj_norm_log_table)"
   ]
  },
  {
   "cell_type": "code",
   "execution_count": 96,
   "metadata": {},
   "outputs": [
    {
     "data": {
      "text/plain": [
       "array([[-5.84436371e-01, -4.18432035e-01],\n",
       "       [-5.74094776e-01,  3.61687656e-01],\n",
       "       [-9.28821852e-01,  2.50960862e-01],\n",
       "       [-6.47361540e-01,  3.92719739e-01],\n",
       "       [-9.77441069e-01,  2.48428994e-01],\n",
       "       [-7.30206045e-01,  3.89948679e-01],\n",
       "       [-5.48399225e-01,  2.85232377e-01],\n",
       "       [-4.90326775e-01,  4.35090567e-01],\n",
       "       [-1.37933159e+00,  3.18358381e+00],\n",
       "       [-1.12938464e+00,  8.25768301e-02],\n",
       "       [-9.91256690e-01, -8.31777394e-01],\n",
       "       [-1.84566027e-01, -5.60911222e-01],\n",
       "       [-4.02325958e-02, -5.17074831e-01],\n",
       "       [ 1.34927712e-01, -4.47396189e-01],\n",
       "       [-8.26543345e-01, -7.84728884e-01],\n",
       "       [ 1.91814661e-01, -4.16254021e-01],\n",
       "       [-1.80379414e+00,  2.04125736e+00],\n",
       "       [-8.26511846e-01, -7.85087383e-01],\n",
       "       [-1.16322704e+00,  1.18789362e-01],\n",
       "       [-8.37050447e-01, -7.82829515e-01],\n",
       "       [-9.12080446e-02, -3.12842908e-01],\n",
       "       [-6.02733020e-01,  6.90097030e-01],\n",
       "       [ 1.60606463e-01, -4.52427985e-01],\n",
       "       [ 3.81463075e-03, -9.17964130e-02],\n",
       "       [-1.49359406e+00,  1.01064342e+00],\n",
       "       [-1.14134884e+00,  1.19896964e-01],\n",
       "       [-5.69246254e-01,  6.96028056e-01],\n",
       "       [-5.70987635e-01, -5.43727988e-01],\n",
       "       [-2.24922077e-01,  5.90554858e-01],\n",
       "       [-4.65776635e-01,  4.27976748e-02],\n",
       "       [-1.21927987e+00,  1.23400100e-01],\n",
       "       [-1.02510940e+00, -7.77263256e-01],\n",
       "       [-5.20558764e-01,  2.87850720e-01],\n",
       "       [-4.73240783e-01, -5.66912200e-01],\n",
       "       [ 7.15508169e-02, -4.13934657e-01],\n",
       "       [-1.63479579e+00,  1.75459489e+00],\n",
       "       [-6.28013381e-01,  7.11294795e-02],\n",
       "       [-4.20699594e-01, -6.15395983e-01],\n",
       "       [-4.98792217e-01,  2.69860603e-02],\n",
       "       [-1.33808697e+00,  1.06558934e+00],\n",
       "       [-5.06236704e-01,  3.78310623e-01],\n",
       "       [-6.31046524e-01,  1.36672969e-01],\n",
       "       [-1.71014641e+00,  1.82563153e+00],\n",
       "       [-7.85144084e-01, -4.76199691e-01],\n",
       "       [-4.19545484e-01, -6.33044221e-01],\n",
       "       [ 1.07963243e+00, -1.44405596e-01],\n",
       "       [-3.79968043e-01, -3.24177219e-01],\n",
       "       [-3.09407974e-01, -6.12124105e-01],\n",
       "       [ 2.18900013e-03, -5.01740051e-01],\n",
       "       [ 8.73718482e-01, -2.03560751e-01],\n",
       "       [-1.84600563e-01, -4.73737152e-01],\n",
       "       [-6.82205275e-02, -5.22964981e-01],\n",
       "       [ 2.22144196e+00,  2.41039592e-01],\n",
       "       [-5.53830087e-01, -5.43710620e-01],\n",
       "       [ 1.11448865e+00, -1.25867066e-01],\n",
       "       [ 1.30175458e-01, -4.64064641e-01],\n",
       "       [ 5.74288002e-01, -3.14701624e-01],\n",
       "       [ 2.52340578e+00,  3.53963001e-01],\n",
       "       [ 1.95260886e+00,  1.59116808e-01],\n",
       "       [ 2.24898317e+00,  2.57913218e-01],\n",
       "       [-6.32720875e-01, -6.74943223e-01],\n",
       "       [-6.16960349e-01, -7.15587512e-01],\n",
       "       [ 1.58040341e+00,  2.43784605e-02],\n",
       "       [-4.78022412e-01, -1.50453358e-01],\n",
       "       [ 1.04869683e+00, -5.06926013e-02],\n",
       "       [ 1.32645102e-02, -4.91781065e-01],\n",
       "       [ 1.69445472e-01, -2.78317626e-01],\n",
       "       [-4.65468091e-01, -2.47367662e-01],\n",
       "       [ 1.85852285e+00,  5.10824306e-01],\n",
       "       [ 1.55001765e+00,  1.05860946e-01],\n",
       "       [ 1.14050757e+00, -1.13645230e-01],\n",
       "       [ 4.73181343e-02, -4.92192289e-01],\n",
       "       [ 1.74340090e+00,  8.77721732e-02],\n",
       "       [ 8.92543406e-01, -2.07380351e-01],\n",
       "       [ 4.61794938e+00,  1.19038550e+00],\n",
       "       [ 8.70344893e-01, -2.02327977e-01],\n",
       "       [ 1.30913231e-01, -4.48644975e-01],\n",
       "       [ 9.95103889e-01, -1.55763391e-01],\n",
       "       [ 4.79177692e+00,  1.11275368e+00],\n",
       "       [ 5.99298644e-01, -1.66678321e-01],\n",
       "       [ 5.92360579e-01,  2.02027463e-01],\n",
       "       [-5.73407441e-01, -6.30601275e-01],\n",
       "       [-4.38669548e-01, -5.79817188e-01],\n",
       "       [ 3.01690250e-01, -3.66934961e-01],\n",
       "       [ 9.24967822e-01, -2.77802891e-02],\n",
       "       [-8.17397942e-01, -1.96495217e-01]])"
      ]
     },
     "execution_count": 96,
     "metadata": {},
     "output_type": "execute_result"
    }
   ],
   "source": [
    "components"
   ]
  },
  {
   "cell_type": "code",
   "execution_count": 97,
   "metadata": {},
   "outputs": [
    {
     "data": {
      "image/png": "[encoded data removed]",
      "text/plain": [
       "<Figure size 576x576 with 1 Axes>"
      ]
     },
     "metadata": {
      "needs_background": "light"
     },
     "output_type": "display_data"
    }
   ],
   "source": [
    "fig = plt.figure(figsize = (8,8))\n",
    "ax = fig.add_subplot(1,1,1)\n",
    "\n",
    "ax.set_xlabel('Principal Component 1', fontsize = 15)\n",
    "ax.set_ylabel('Principal Component 2', fontsize = 15)\n",
    "ax.set_title('2 component PCA', fontsize = 20)\n",
    "targets = ['Cancer', 'Healthy']\n",
    "colors = ['r', 'g']\n",
    "ax.scatter(components[controls == False, 0], components[controls == False, 1], c = 'r', s = 10)\n",
    "ax.scatter(components[controls == True, 0], components[controls == True, 1], c = 'g', s = 10)\n",
    "ax.legend(targets)\n",
    "ax.grid()"
   ]
  },
  {
   "cell_type": "markdown",
   "metadata": {
    "jupyter": {
     "outputs_hidden": true
    }
   },
   "source": [
    "### XGBoost"
   ]
  },
  {
   "cell_type": "code",
   "execution_count": 98,
   "metadata": {},
   "outputs": [],
   "source": [
    "X_train, X_test, y_train, y_test = train_test_split(adj_norm_log_table, controls, test_size=0.33, random_state=42)"
   ]
  },
  {
   "cell_type": "code",
   "execution_count": 99,
   "metadata": {},
   "outputs": [
    {
     "name": "stdout",
     "output_type": "stream",
     "text": [
      "[15:20:25] WARNING: C:/Users/Administrator/workspace/xgboost-win64_release_1.5.1/src/learner.cc:1115: Starting in XGBoost 1.3.0, the default evaluation metric used with the objective 'binary:logistic' was changed from 'error' to 'logloss'. Explicitly set eval_metric if you'd like to restore the old behavior.\n"
     ]
    },
    {
     "data": {
      "text/plain": [
       "XGBClassifier(base_score=0.5, booster='gbtree', colsample_bylevel=1,\n",
       "              colsample_bynode=1, colsample_bytree=1, enable_categorical=False,\n",
       "              gamma=0, gpu_id=-1, importance_type=None,\n",
       "              interaction_constraints='', learning_rate=0.300000012,\n",
       "              max_delta_step=0, max_depth=6, min_child_weight=1, missing=nan,\n",
       "              monotone_constraints='()', n_estimators=100, n_jobs=16,\n",
       "              num_parallel_tree=1, predictor='auto', random_state=0,\n",
       "              reg_alpha=0, reg_lambda=1, scale_pos_weight=1, subsample=1,\n",
       "              tree_method='exact', use_label_encoder=False,\n",
       "              validate_parameters=1, verbosity=None)"
      ]
     },
     "execution_count": 99,
     "metadata": {},
     "output_type": "execute_result"
    }
   ],
   "source": [
    "model = XGBClassifier(use_label_encoder=False)\n",
    "model.fit(X_train, y_train)"
   ]
  },
  {
   "cell_type": "code",
   "execution_count": 100,
   "metadata": {},
   "outputs": [
    {
     "name": "stderr",
     "output_type": "stream",
     "text": [
      "C:\\Users\\olefr\\AppData\\Local\\Programs\\Python\\Python310\\lib\\site-packages\\sklearn\\utils\\deprecation.py:87: FutureWarning: Function plot_roc_curve is deprecated; Function :func:`plot_roc_curve` is deprecated in 1.0 and will be removed in 1.2. Use one of the class methods: :meth:`sklearn.metric.RocCurveDisplay.from_predictions` or :meth:`sklearn.metric.RocCurveDisplay.from_estimator`.\n",
      "  warnings.warn(msg, category=FutureWarning)\n"
     ]
    },
    {
     "data": {
      "text/plain": [
       "<sklearn.metrics._plot.roc_curve.RocCurveDisplay at 0x1b0bcb19990>"
      ]
     },
     "execution_count": 100,
     "metadata": {},
     "output_type": "execute_result"
    },
    {
     "data": {
      "image/png": "[encoded data removed]",
      "text/plain": [
       "<Figure size 432x288 with 1 Axes>"
      ]
     },
     "metadata": {
      "needs_background": "light"
     },
     "output_type": "display_data"
    }
   ],
   "source": [
    "plot_roc_curve(model, X_test, y_test)"
   ]
  },
  {
   "cell_type": "markdown",
   "metadata": {},
   "source": [
    "### Export data"
   ]
  },
  {
   "cell_type": "code",
   "execution_count": 101,
   "metadata": {},
   "outputs": [],
   "source": [
    "mirnas = [\"hsa-miR-21-5p\", \"hsa-miR-638\", \"hsa-miR-148a-3p\", \"hsa-miR-152-3p\"]"
   ]
  },
  {
   "cell_type": "code",
   "execution_count": 102,
   "metadata": {},
   "outputs": [],
   "source": [
    "from Scripts import converters"
   ]
  },
  {
   "cell_type": "code",
   "execution_count": 103,
   "metadata": {},
   "outputs": [],
   "source": [
    "sequences = converters.canonical_to_seq(mirnas)"
   ]
  },
  {
   "cell_type": "code",
   "execution_count": 104,
   "metadata": {},
   "outputs": [
    {
     "data": {
      "text/html": [
       "<div>\n",
       "<style scoped>\n",
       "    .dataframe tbody tr th:only-of-type {\n",
       "        vertical-align: middle;\n",
       "    }\n",
       "\n",
       "    .dataframe tbody tr th {\n",
       "        vertical-align: top;\n",
       "    }\n",
       "\n",
       "    .dataframe thead th {\n",
       "        text-align: right;\n",
       "    }\n",
       "</style>\n",
       "<table border=\"1\" class=\"dataframe\">\n",
       "  <thead>\n",
       "    <tr style=\"text-align: right;\">\n",
       "      <th></th>\n",
       "      <th>UAGCUUAUCAGACUGAUGUUGA</th>\n",
       "      <th>AGGGAUCGCGGGCGGGUGGCGGCCU</th>\n",
       "      <th>UCAGUGCACUACAGAACUUUGU</th>\n",
       "      <th>UCAGUGCAUGACAGAACUUGG</th>\n",
       "      <th>cancer</th>\n",
       "    </tr>\n",
       "  </thead>\n",
       "  <tbody>\n",
       "    <tr>\n",
       "      <th>0</th>\n",
       "      <td>-1.3377</td>\n",
       "      <td>-0.011290</td>\n",
       "      <td>-0.27103</td>\n",
       "      <td>-0.033790</td>\n",
       "      <td>0</td>\n",
       "    </tr>\n",
       "    <tr>\n",
       "      <th>1</th>\n",
       "      <td>-1.5951</td>\n",
       "      <td>-0.015820</td>\n",
       "      <td>-1.00828</td>\n",
       "      <td>-0.002319</td>\n",
       "      <td>0</td>\n",
       "    </tr>\n",
       "    <tr>\n",
       "      <th>2</th>\n",
       "      <td>-1.2231</td>\n",
       "      <td>-0.013401</td>\n",
       "      <td>-1.01510</td>\n",
       "      <td>-0.181500</td>\n",
       "      <td>0</td>\n",
       "    </tr>\n",
       "    <tr>\n",
       "      <th>3</th>\n",
       "      <td>-1.5355</td>\n",
       "      <td>-0.018530</td>\n",
       "      <td>-1.06101</td>\n",
       "      <td>-0.001658</td>\n",
       "      <td>0</td>\n",
       "    </tr>\n",
       "    <tr>\n",
       "      <th>4</th>\n",
       "      <td>-1.1760</td>\n",
       "      <td>-0.010070</td>\n",
       "      <td>-1.02960</td>\n",
       "      <td>-0.049645</td>\n",
       "      <td>0</td>\n",
       "    </tr>\n",
       "  </tbody>\n",
       "</table>\n",
       "</div>"
      ],
      "text/plain": [
       "   UAGCUUAUCAGACUGAUGUUGA  AGGGAUCGCGGGCGGGUGGCGGCCU  UCAGUGCACUACAGAACUUUGU  \\\n",
       "0                 -1.3377                  -0.011290                -0.27103   \n",
       "1                 -1.5951                  -0.015820                -1.00828   \n",
       "2                 -1.2231                  -0.013401                -1.01510   \n",
       "3                 -1.5355                  -0.018530                -1.06101   \n",
       "4                 -1.1760                  -0.010070                -1.02960   \n",
       "\n",
       "   UCAGUGCAUGACAGAACUUGG  cancer  \n",
       "0              -0.033790       0  \n",
       "1              -0.002319       0  \n",
       "2              -0.181500       0  \n",
       "3              -0.001658       0  \n",
       "4              -0.049645       0  "
      ]
     },
     "execution_count": 104,
     "metadata": {},
     "output_type": "execute_result"
    }
   ],
   "source": [
    "adj_norm_log_table.columns = sequences\n",
    "adj_norm_log_table *= -1\n",
    "adj_norm_log_table[\"cancer\"] = sick\n",
    "adj_norm_log_table.head()"
   ]
  },
  {
   "cell_type": "code",
   "execution_count": 105,
   "metadata": {},
   "outputs": [],
   "source": [
    "#norm_log_table.to_csv(\"../TransformedData/Asakura2020.csv\", index=False)\n",
    "adj_norm_log_table.to_csv(\"../TransformedData/Abdollahi2019_raw.csv\", index=False)"
   ]
  },
  {
   "cell_type": "code",
   "execution_count": null,
   "metadata": {},
   "outputs": [],
   "source": []
  }
 ],
 "metadata": {
  "kernelspec": {
   "display_name": "Python 3 (ipykernel)",
   "language": "python",
   "name": "python3"
  },
  "language_info": {
   "codemirror_mode": {
    "name": "ipython",
    "version": 3
   },
   "file_extension": ".py",
   "mimetype": "text/x-python",
   "name": "python",
   "nbconvert_exporter": "python",
   "pygments_lexer": "ipython3",
   "version": "3.10.1"
  }
 },
 "nbformat": 4,
 "nbformat_minor": 4
}
