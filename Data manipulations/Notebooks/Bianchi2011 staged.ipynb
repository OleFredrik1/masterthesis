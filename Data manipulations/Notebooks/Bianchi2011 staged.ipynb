{
 "cells": [
  {
   "cell_type": "code",
   "execution_count": 9,
   "id": "51571063-765e-4749-be5b-33b5e9efa9ed",
   "metadata": {},
   "outputs": [],
   "source": [
    "%matplotlib inline\n",
    "import GEOparse\n",
    "import matplotlib.pyplot as plt\n",
    "import pandas as pd\n",
    "import numpy as np\n",
    "from sklearn import decomposition\n",
    "from sklearn.feature_selection import f_classif\n",
    "from sklearn.linear_model import LinearRegression, LogisticRegression\n",
    "from sklearn.metrics import explained_variance_score, plot_roc_curve\n",
    "import statsmodels.api as sm\n",
    "from scipy.stats import ttest_ind, pearsonr\n",
    "from xgboost import XGBClassifier\n",
    "from sklearn.model_selection import train_test_split\n",
    "from sklego.linear_model import LowessRegression"
   ]
  },
  {
   "cell_type": "code",
   "execution_count": 10,
   "id": "18fed604-f30f-4b19-b197-e7ac891f77d8",
   "metadata": {},
   "outputs": [],
   "source": [
    "data = pd.read_csv(\"../Dataset/Bianchi2011/data.csv\", index_col=0, skiprows=1)"
   ]
  },
  {
   "cell_type": "code",
   "execution_count": 11,
   "id": "182d912a-8445-406d-968a-da2809674aa6",
   "metadata": {},
   "outputs": [],
   "source": [
    "# Remove breast problems\n",
    "data = data[41:]"
   ]
  },
  {
   "cell_type": "code",
   "execution_count": 12,
   "id": "9ec941e8-a2c2-4230-8cb9-11325207a4cc",
   "metadata": {},
   "outputs": [
    {
     "data": {
      "text/html": [
       "<div>\n",
       "<style scoped>\n",
       "    .dataframe tbody tr th:only-of-type {\n",
       "        vertical-align: middle;\n",
       "    }\n",
       "\n",
       "    .dataframe tbody tr th {\n",
       "        vertical-align: top;\n",
       "    }\n",
       "\n",
       "    .dataframe thead th {\n",
       "        text-align: right;\n",
       "    }\n",
       "</style>\n",
       "<table border=\"1\" class=\"dataframe\">\n",
       "  <thead>\n",
       "    <tr style=\"text-align: right;\">\n",
       "      <th></th>\n",
       "      <th>CLASS</th>\n",
       "      <th>BDO/TUMOR MATCH</th>\n",
       "      <th>SET</th>\n",
       "      <th>GENDER</th>\n",
       "      <th>AGE</th>\n",
       "      <th>TYPE</th>\n",
       "      <th>STAGE</th>\n",
       "      <th>NODE TYPE</th>\n",
       "      <th>SMOKING STATUS</th>\n",
       "      <th>PACK_YEARS</th>\n",
       "      <th>...</th>\n",
       "      <th>hsa-miR-331-4373046.1</th>\n",
       "      <th>hsa-miR-342-4373040.1</th>\n",
       "      <th>hsa-miR-374-4373028.1</th>\n",
       "      <th>hsa-miR-376a-4373026.1</th>\n",
       "      <th>hsa-miR-432-4378076.1</th>\n",
       "      <th>hsa-miR-484-4381032.1</th>\n",
       "      <th>hsa-miR-486-4378096.1</th>\n",
       "      <th>hsa-miR-566-4380943.1</th>\n",
       "      <th>hsa-miR-92-4373013.1</th>\n",
       "      <th>hsa-miR-98-4373009.1</th>\n",
       "    </tr>\n",
       "    <tr>\n",
       "      <th>ID</th>\n",
       "      <th></th>\n",
       "      <th></th>\n",
       "      <th></th>\n",
       "      <th></th>\n",
       "      <th></th>\n",
       "      <th></th>\n",
       "      <th></th>\n",
       "      <th></th>\n",
       "      <th></th>\n",
       "      <th></th>\n",
       "      <th></th>\n",
       "      <th></th>\n",
       "      <th></th>\n",
       "      <th></th>\n",
       "      <th></th>\n",
       "      <th></th>\n",
       "      <th></th>\n",
       "      <th></th>\n",
       "      <th></th>\n",
       "      <th></th>\n",
       "      <th></th>\n",
       "    </tr>\n",
       "  </thead>\n",
       "  <tbody>\n",
       "    <tr>\n",
       "      <th>42</th>\n",
       "      <td>Lung Hamartoma</td>\n",
       "      <td>NaN</td>\n",
       "      <td>SYMPTOMATICS - PH</td>\n",
       "      <td>M</td>\n",
       "      <td>32</td>\n",
       "      <td>NaN</td>\n",
       "      <td>NaN</td>\n",
       "      <td>NaN</td>\n",
       "      <td>NO</td>\n",
       "      <td>0</td>\n",
       "      <td>...</td>\n",
       "      <td>0.00</td>\n",
       "      <td>-2.33</td>\n",
       "      <td>-0.62</td>\n",
       "      <td>0.72</td>\n",
       "      <td>1.30</td>\n",
       "      <td>0.26</td>\n",
       "      <td>0.83</td>\n",
       "      <td>1.55</td>\n",
       "      <td>0.21</td>\n",
       "      <td>0.95</td>\n",
       "    </tr>\n",
       "    <tr>\n",
       "      <th>43</th>\n",
       "      <td>Lung Hamartoma</td>\n",
       "      <td>NaN</td>\n",
       "      <td>SYMPTOMATICS - PH</td>\n",
       "      <td>M</td>\n",
       "      <td>64</td>\n",
       "      <td>NaN</td>\n",
       "      <td>NaN</td>\n",
       "      <td>NaN</td>\n",
       "      <td>EX</td>\n",
       "      <td>53</td>\n",
       "      <td>...</td>\n",
       "      <td>-1.41</td>\n",
       "      <td>0.92</td>\n",
       "      <td>-0.61</td>\n",
       "      <td>-0.07</td>\n",
       "      <td>1.33</td>\n",
       "      <td>0.45</td>\n",
       "      <td>0.60</td>\n",
       "      <td>1.47</td>\n",
       "      <td>0.03</td>\n",
       "      <td>0.79</td>\n",
       "    </tr>\n",
       "    <tr>\n",
       "      <th>44</th>\n",
       "      <td>Lung Hamartoma</td>\n",
       "      <td>NaN</td>\n",
       "      <td>SYMPTOMATICS - PH</td>\n",
       "      <td>F</td>\n",
       "      <td>44</td>\n",
       "      <td>NaN</td>\n",
       "      <td>NaN</td>\n",
       "      <td>NaN</td>\n",
       "      <td>NO</td>\n",
       "      <td>0</td>\n",
       "      <td>...</td>\n",
       "      <td>-0.47</td>\n",
       "      <td>1.90</td>\n",
       "      <td>0.47</td>\n",
       "      <td>-0.18</td>\n",
       "      <td>-0.55</td>\n",
       "      <td>1.03</td>\n",
       "      <td>2.23</td>\n",
       "      <td>1.67</td>\n",
       "      <td>0.88</td>\n",
       "      <td>-0.13</td>\n",
       "    </tr>\n",
       "    <tr>\n",
       "      <th>45</th>\n",
       "      <td>Lung Hamartoma</td>\n",
       "      <td>NaN</td>\n",
       "      <td>SYMPTOMATICS - PH</td>\n",
       "      <td>F</td>\n",
       "      <td>56</td>\n",
       "      <td>NaN</td>\n",
       "      <td>NaN</td>\n",
       "      <td>NaN</td>\n",
       "      <td>YES</td>\n",
       "      <td>25</td>\n",
       "      <td>...</td>\n",
       "      <td>-0.97</td>\n",
       "      <td>-0.96</td>\n",
       "      <td>0.23</td>\n",
       "      <td>-0.24</td>\n",
       "      <td>0.62</td>\n",
       "      <td>2.57</td>\n",
       "      <td>2.19</td>\n",
       "      <td>0.00</td>\n",
       "      <td>0.54</td>\n",
       "      <td>0.90</td>\n",
       "    </tr>\n",
       "    <tr>\n",
       "      <th>46</th>\n",
       "      <td>Lung Hamartoma</td>\n",
       "      <td>NaN</td>\n",
       "      <td>SYMPTOMATICS - PH</td>\n",
       "      <td>M</td>\n",
       "      <td>55</td>\n",
       "      <td>NaN</td>\n",
       "      <td>NaN</td>\n",
       "      <td>NaN</td>\n",
       "      <td>EX</td>\n",
       "      <td>30</td>\n",
       "      <td>...</td>\n",
       "      <td>2.17</td>\n",
       "      <td>-0.20</td>\n",
       "      <td>1.53</td>\n",
       "      <td>0.94</td>\n",
       "      <td>-1.38</td>\n",
       "      <td>-0.32</td>\n",
       "      <td>-0.74</td>\n",
       "      <td>0.00</td>\n",
       "      <td>-0.20</td>\n",
       "      <td>-0.71</td>\n",
       "    </tr>\n",
       "    <tr>\n",
       "      <th>...</th>\n",
       "      <td>...</td>\n",
       "      <td>...</td>\n",
       "      <td>...</td>\n",
       "      <td>...</td>\n",
       "      <td>...</td>\n",
       "      <td>...</td>\n",
       "      <td>...</td>\n",
       "      <td>...</td>\n",
       "      <td>...</td>\n",
       "      <td>...</td>\n",
       "      <td>...</td>\n",
       "      <td>...</td>\n",
       "      <td>...</td>\n",
       "      <td>...</td>\n",
       "      <td>...</td>\n",
       "      <td>...</td>\n",
       "      <td>...</td>\n",
       "      <td>...</td>\n",
       "      <td>...</td>\n",
       "      <td>...</td>\n",
       "      <td>...</td>\n",
       "    </tr>\n",
       "    <tr>\n",
       "      <th>249</th>\n",
       "      <td>Lung Tumor</td>\n",
       "      <td>NaN</td>\n",
       "      <td>TESTING</td>\n",
       "      <td>F</td>\n",
       "      <td>61</td>\n",
       "      <td>ADENO</td>\n",
       "      <td>IA</td>\n",
       "      <td>NaN</td>\n",
       "      <td>YES</td>\n",
       "      <td>47</td>\n",
       "      <td>...</td>\n",
       "      <td>0.00</td>\n",
       "      <td>0.78</td>\n",
       "      <td>-0.09</td>\n",
       "      <td>-0.86</td>\n",
       "      <td>0.68</td>\n",
       "      <td>1.15</td>\n",
       "      <td>1.25</td>\n",
       "      <td>0.74</td>\n",
       "      <td>0.43</td>\n",
       "      <td>0.52</td>\n",
       "    </tr>\n",
       "    <tr>\n",
       "      <th>250</th>\n",
       "      <td>Lung Tumor</td>\n",
       "      <td>NaN</td>\n",
       "      <td>TESTING</td>\n",
       "      <td>M</td>\n",
       "      <td>64</td>\n",
       "      <td>ADENO</td>\n",
       "      <td>IIB</td>\n",
       "      <td>NaN</td>\n",
       "      <td>YES</td>\n",
       "      <td>49</td>\n",
       "      <td>...</td>\n",
       "      <td>-0.55</td>\n",
       "      <td>1.10</td>\n",
       "      <td>-0.32</td>\n",
       "      <td>1.12</td>\n",
       "      <td>1.48</td>\n",
       "      <td>0.18</td>\n",
       "      <td>-0.31</td>\n",
       "      <td>1.69</td>\n",
       "      <td>0.08</td>\n",
       "      <td>0.26</td>\n",
       "    </tr>\n",
       "    <tr>\n",
       "      <th>251</th>\n",
       "      <td>Lung Tumor</td>\n",
       "      <td>NaN</td>\n",
       "      <td>TESTING</td>\n",
       "      <td>M</td>\n",
       "      <td>73</td>\n",
       "      <td>ADENO</td>\n",
       "      <td>IA</td>\n",
       "      <td>NaN</td>\n",
       "      <td>YES</td>\n",
       "      <td>54</td>\n",
       "      <td>...</td>\n",
       "      <td>0.84</td>\n",
       "      <td>0.08</td>\n",
       "      <td>0.53</td>\n",
       "      <td>1.12</td>\n",
       "      <td>1.18</td>\n",
       "      <td>-0.88</td>\n",
       "      <td>-1.34</td>\n",
       "      <td>1.69</td>\n",
       "      <td>-0.91</td>\n",
       "      <td>0.90</td>\n",
       "    </tr>\n",
       "    <tr>\n",
       "      <th>252</th>\n",
       "      <td>Lung Tumor</td>\n",
       "      <td>NaN</td>\n",
       "      <td>TESTING</td>\n",
       "      <td>F</td>\n",
       "      <td>50</td>\n",
       "      <td>ADENO</td>\n",
       "      <td>IV</td>\n",
       "      <td>NaN</td>\n",
       "      <td>YES</td>\n",
       "      <td>63</td>\n",
       "      <td>...</td>\n",
       "      <td>1.04</td>\n",
       "      <td>1.59</td>\n",
       "      <td>-0.12</td>\n",
       "      <td>1.12</td>\n",
       "      <td>-0.98</td>\n",
       "      <td>-0.61</td>\n",
       "      <td>-2.19</td>\n",
       "      <td>-0.57</td>\n",
       "      <td>-1.23</td>\n",
       "      <td>0.03</td>\n",
       "    </tr>\n",
       "    <tr>\n",
       "      <th>253</th>\n",
       "      <td>Lung Tumor</td>\n",
       "      <td>NaN</td>\n",
       "      <td>TESTING</td>\n",
       "      <td>M</td>\n",
       "      <td>62</td>\n",
       "      <td>ADENO</td>\n",
       "      <td>IA</td>\n",
       "      <td>NaN</td>\n",
       "      <td>YES</td>\n",
       "      <td>41</td>\n",
       "      <td>...</td>\n",
       "      <td>-1.23</td>\n",
       "      <td>-0.92</td>\n",
       "      <td>-0.67</td>\n",
       "      <td>1.12</td>\n",
       "      <td>-0.38</td>\n",
       "      <td>0.00</td>\n",
       "      <td>0.03</td>\n",
       "      <td>-0.57</td>\n",
       "      <td>-0.28</td>\n",
       "      <td>-0.11</td>\n",
       "    </tr>\n",
       "  </tbody>\n",
       "</table>\n",
       "<p>212 rows × 79 columns</p>\n",
       "</div>"
      ],
      "text/plain": [
       "              CLASS BDO/TUMOR MATCH                SET GENDER  AGE   TYPE  \\\n",
       "ID                                                                          \n",
       "42   Lung Hamartoma             NaN  SYMPTOMATICS - PH      M   32    NaN   \n",
       "43   Lung Hamartoma             NaN  SYMPTOMATICS - PH      M   64    NaN   \n",
       "44   Lung Hamartoma             NaN  SYMPTOMATICS - PH      F   44    NaN   \n",
       "45   Lung Hamartoma             NaN  SYMPTOMATICS - PH      F   56    NaN   \n",
       "46   Lung Hamartoma             NaN  SYMPTOMATICS - PH      M   55    NaN   \n",
       "..              ...             ...                ...    ...  ...    ...   \n",
       "249      Lung Tumor             NaN            TESTING      F   61  ADENO   \n",
       "250      Lung Tumor             NaN            TESTING      M   64  ADENO   \n",
       "251      Lung Tumor             NaN            TESTING      M   73  ADENO   \n",
       "252      Lung Tumor             NaN            TESTING      F   50  ADENO   \n",
       "253      Lung Tumor             NaN            TESTING      M   62  ADENO   \n",
       "\n",
       "    STAGE NODE TYPE SMOKING STATUS PACK_YEARS  ...  hsa-miR-331-4373046.1  \\\n",
       "ID                                             ...                          \n",
       "42    NaN       NaN             NO          0  ...                   0.00   \n",
       "43    NaN       NaN             EX         53  ...                  -1.41   \n",
       "44    NaN       NaN             NO          0  ...                  -0.47   \n",
       "45    NaN       NaN            YES         25  ...                  -0.97   \n",
       "46    NaN       NaN             EX         30  ...                   2.17   \n",
       "..    ...       ...            ...        ...  ...                    ...   \n",
       "249    IA       NaN            YES         47  ...                   0.00   \n",
       "250   IIB       NaN            YES         49  ...                  -0.55   \n",
       "251    IA       NaN            YES         54  ...                   0.84   \n",
       "252    IV       NaN            YES         63  ...                   1.04   \n",
       "253    IA       NaN            YES         41  ...                  -1.23   \n",
       "\n",
       "     hsa-miR-342-4373040.1  hsa-miR-374-4373028.1  hsa-miR-376a-4373026.1  \\\n",
       "ID                                                                          \n",
       "42                   -2.33                  -0.62                    0.72   \n",
       "43                    0.92                  -0.61                   -0.07   \n",
       "44                    1.90                   0.47                   -0.18   \n",
       "45                   -0.96                   0.23                   -0.24   \n",
       "46                   -0.20                   1.53                    0.94   \n",
       "..                     ...                    ...                     ...   \n",
       "249                   0.78                  -0.09                   -0.86   \n",
       "250                   1.10                  -0.32                    1.12   \n",
       "251                   0.08                   0.53                    1.12   \n",
       "252                   1.59                  -0.12                    1.12   \n",
       "253                  -0.92                  -0.67                    1.12   \n",
       "\n",
       "     hsa-miR-432-4378076.1  hsa-miR-484-4381032.1  hsa-miR-486-4378096.1  \\\n",
       "ID                                                                         \n",
       "42                    1.30                   0.26                   0.83   \n",
       "43                    1.33                   0.45                   0.60   \n",
       "44                   -0.55                   1.03                   2.23   \n",
       "45                    0.62                   2.57                   2.19   \n",
       "46                   -1.38                  -0.32                  -0.74   \n",
       "..                     ...                    ...                    ...   \n",
       "249                   0.68                   1.15                   1.25   \n",
       "250                   1.48                   0.18                  -0.31   \n",
       "251                   1.18                  -0.88                  -1.34   \n",
       "252                  -0.98                  -0.61                  -2.19   \n",
       "253                  -0.38                   0.00                   0.03   \n",
       "\n",
       "     hsa-miR-566-4380943.1  hsa-miR-92-4373013.1  hsa-miR-98-4373009.1  \n",
       "ID                                                                      \n",
       "42                    1.55                  0.21                  0.95  \n",
       "43                    1.47                  0.03                  0.79  \n",
       "44                    1.67                  0.88                 -0.13  \n",
       "45                    0.00                  0.54                  0.90  \n",
       "46                    0.00                 -0.20                 -0.71  \n",
       "..                     ...                   ...                   ...  \n",
       "249                   0.74                  0.43                  0.52  \n",
       "250                   1.69                  0.08                  0.26  \n",
       "251                   1.69                 -0.91                  0.90  \n",
       "252                  -0.57                 -1.23                  0.03  \n",
       "253                  -0.57                 -0.28                 -0.11  \n",
       "\n",
       "[212 rows x 79 columns]"
      ]
     },
     "execution_count": 12,
     "metadata": {},
     "output_type": "execute_result"
    }
   ],
   "source": [
    "data"
   ]
  },
  {
   "cell_type": "code",
   "execution_count": 13,
   "id": "c05aa7f2-9330-4085-a58c-84b64ed774a4",
   "metadata": {},
   "outputs": [
    {
     "data": {
      "text/plain": [
       "{'IA', 'IB', 'IIA', 'IIB', 'IIIA', 'IIIB', 'IV', nan}"
      ]
     },
     "execution_count": 13,
     "metadata": {},
     "output_type": "execute_result"
    }
   ],
   "source": [
    "set(data[\"STAGE\"])"
   ]
  },
  {
   "cell_type": "code",
   "execution_count": 14,
   "id": "4be20a22-f350-4af6-8f9b-071ba7b272e7",
   "metadata": {},
   "outputs": [],
   "source": [
    "sick = data[\"CLASS\"] == \"Lung Tumor\"\n",
    "table = data.iloc[:, 11:]\n",
    "table = table.iloc[:, :29]"
   ]
  },
  {
   "cell_type": "code",
   "execution_count": 15,
   "id": "9aff21a7-9f6a-4681-9fa2-73cbbb5a5e28",
   "metadata": {},
   "outputs": [],
   "source": [
    "controls = 1 - sick\n",
    "mirnas = table.columns"
   ]
  },
  {
   "cell_type": "markdown",
   "id": "beb0168b-6bc4-4f7e-a5bd-0c85de993c1d",
   "metadata": {},
   "source": [
    "### Drop NAN"
   ]
  },
  {
   "cell_type": "code",
   "execution_count": 16,
   "id": "4644e9e4-79f7-4744-9586-6e0691786fcb",
   "metadata": {},
   "outputs": [],
   "source": [
    "table = table.fillna(table.min().min())"
   ]
  },
  {
   "cell_type": "markdown",
   "id": "7e5f99a7-628d-4705-9876-dfcdfc6c155e",
   "metadata": {},
   "source": [
    "### T-test"
   ]
  },
  {
   "cell_type": "code",
   "execution_count": 17,
   "id": "7ba06db5-2613-477a-87ff-765975bac6f7",
   "metadata": {},
   "outputs": [],
   "source": [
    "X = table"
   ]
  },
  {
   "cell_type": "code",
   "execution_count": 18,
   "id": "5781a19c-166e-4720-9800-3af0e812607e",
   "metadata": {},
   "outputs": [
    {
     "data": {
      "text/html": [
       "<div>\n",
       "<style scoped>\n",
       "    .dataframe tbody tr th:only-of-type {\n",
       "        vertical-align: middle;\n",
       "    }\n",
       "\n",
       "    .dataframe tbody tr th {\n",
       "        vertical-align: top;\n",
       "    }\n",
       "\n",
       "    .dataframe thead th {\n",
       "        text-align: right;\n",
       "    }\n",
       "</style>\n",
       "<table border=\"1\" class=\"dataframe\">\n",
       "  <thead>\n",
       "    <tr style=\"text-align: right;\">\n",
       "      <th></th>\n",
       "      <th>hsa-let-7a-4373169</th>\n",
       "      <th>hsa-let-7b-4373168</th>\n",
       "      <th>hsa-let-7d-4373166</th>\n",
       "      <th>hsa-miR-103-4373158</th>\n",
       "      <th>hsa-miR-126-4378064</th>\n",
       "      <th>hsa-miR-133b-4373172</th>\n",
       "      <th>hsa-miR-139-4373176</th>\n",
       "      <th>hsa-miR-140-4373138</th>\n",
       "      <th>hsa-miR-142-3p-4373136</th>\n",
       "      <th>hsa-miR-142-5p-4373135</th>\n",
       "      <th>...</th>\n",
       "      <th>hsa-miR-29a-4373065</th>\n",
       "      <th>hsa-miR-30b-4373290</th>\n",
       "      <th>hsa-miR-30c-4373060</th>\n",
       "      <th>hsa-miR-32-4373056</th>\n",
       "      <th>hsa-miR-328-4373049</th>\n",
       "      <th>hsa-miR-331-4373046</th>\n",
       "      <th>hsa-miR-342-4373040</th>\n",
       "      <th>hsa-miR-374-4373028</th>\n",
       "      <th>hsa-miR-376a-4373026</th>\n",
       "      <th>hsa-miR-432-4378076</th>\n",
       "    </tr>\n",
       "    <tr>\n",
       "      <th>ID</th>\n",
       "      <th></th>\n",
       "      <th></th>\n",
       "      <th></th>\n",
       "      <th></th>\n",
       "      <th></th>\n",
       "      <th></th>\n",
       "      <th></th>\n",
       "      <th></th>\n",
       "      <th></th>\n",
       "      <th></th>\n",
       "      <th></th>\n",
       "      <th></th>\n",
       "      <th></th>\n",
       "      <th></th>\n",
       "      <th></th>\n",
       "      <th></th>\n",
       "      <th></th>\n",
       "      <th></th>\n",
       "      <th></th>\n",
       "      <th></th>\n",
       "      <th></th>\n",
       "    </tr>\n",
       "  </thead>\n",
       "  <tbody>\n",
       "    <tr>\n",
       "      <th>42</th>\n",
       "      <td>-1.63</td>\n",
       "      <td>0.51</td>\n",
       "      <td>0.68</td>\n",
       "      <td>-0.40</td>\n",
       "      <td>-0.68</td>\n",
       "      <td>-0.23</td>\n",
       "      <td>-1.36</td>\n",
       "      <td>0.25</td>\n",
       "      <td>1.40</td>\n",
       "      <td>0.38</td>\n",
       "      <td>...</td>\n",
       "      <td>1.42</td>\n",
       "      <td>0.54</td>\n",
       "      <td>0.27</td>\n",
       "      <td>0.03</td>\n",
       "      <td>-0.62</td>\n",
       "      <td>0.00</td>\n",
       "      <td>1.67</td>\n",
       "      <td>1.02</td>\n",
       "      <td>-3.62</td>\n",
       "      <td>1.88</td>\n",
       "    </tr>\n",
       "    <tr>\n",
       "      <th>43</th>\n",
       "      <td>-1.70</td>\n",
       "      <td>0.71</td>\n",
       "      <td>0.41</td>\n",
       "      <td>-0.02</td>\n",
       "      <td>0.98</td>\n",
       "      <td>-1.14</td>\n",
       "      <td>0.38</td>\n",
       "      <td>-0.09</td>\n",
       "      <td>-0.50</td>\n",
       "      <td>-0.36</td>\n",
       "      <td>...</td>\n",
       "      <td>-0.72</td>\n",
       "      <td>0.45</td>\n",
       "      <td>-0.11</td>\n",
       "      <td>-0.85</td>\n",
       "      <td>-0.22</td>\n",
       "      <td>0.54</td>\n",
       "      <td>-0.66</td>\n",
       "      <td>1.00</td>\n",
       "      <td>0.34</td>\n",
       "      <td>1.92</td>\n",
       "    </tr>\n",
       "    <tr>\n",
       "      <th>44</th>\n",
       "      <td>-0.60</td>\n",
       "      <td>-1.69</td>\n",
       "      <td>-0.29</td>\n",
       "      <td>0.75</td>\n",
       "      <td>-0.08</td>\n",
       "      <td>-1.14</td>\n",
       "      <td>1.41</td>\n",
       "      <td>0.10</td>\n",
       "      <td>-0.76</td>\n",
       "      <td>-0.09</td>\n",
       "      <td>...</td>\n",
       "      <td>-0.20</td>\n",
       "      <td>0.69</td>\n",
       "      <td>0.39</td>\n",
       "      <td>-1.90</td>\n",
       "      <td>0.11</td>\n",
       "      <td>0.18</td>\n",
       "      <td>-1.36</td>\n",
       "      <td>-0.77</td>\n",
       "      <td>0.89</td>\n",
       "      <td>-0.79</td>\n",
       "    </tr>\n",
       "    <tr>\n",
       "      <th>45</th>\n",
       "      <td>-0.65</td>\n",
       "      <td>-1.46</td>\n",
       "      <td>-1.10</td>\n",
       "      <td>0.49</td>\n",
       "      <td>0.71</td>\n",
       "      <td>-1.14</td>\n",
       "      <td>1.78</td>\n",
       "      <td>0.46</td>\n",
       "      <td>-0.23</td>\n",
       "      <td>-0.45</td>\n",
       "      <td>...</td>\n",
       "      <td>-0.43</td>\n",
       "      <td>0.44</td>\n",
       "      <td>0.59</td>\n",
       "      <td>-1.76</td>\n",
       "      <td>0.33</td>\n",
       "      <td>0.37</td>\n",
       "      <td>0.69</td>\n",
       "      <td>-0.37</td>\n",
       "      <td>1.22</td>\n",
       "      <td>0.90</td>\n",
       "    </tr>\n",
       "    <tr>\n",
       "      <th>46</th>\n",
       "      <td>-0.32</td>\n",
       "      <td>-0.85</td>\n",
       "      <td>-0.79</td>\n",
       "      <td>-0.67</td>\n",
       "      <td>-1.09</td>\n",
       "      <td>-0.34</td>\n",
       "      <td>-0.94</td>\n",
       "      <td>-0.93</td>\n",
       "      <td>-0.26</td>\n",
       "      <td>-0.53</td>\n",
       "      <td>...</td>\n",
       "      <td>-0.56</td>\n",
       "      <td>-0.86</td>\n",
       "      <td>0.09</td>\n",
       "      <td>-0.41</td>\n",
       "      <td>-0.19</td>\n",
       "      <td>-0.83</td>\n",
       "      <td>0.14</td>\n",
       "      <td>-2.51</td>\n",
       "      <td>-4.70</td>\n",
       "      <td>-1.99</td>\n",
       "    </tr>\n",
       "    <tr>\n",
       "      <th>...</th>\n",
       "      <td>...</td>\n",
       "      <td>...</td>\n",
       "      <td>...</td>\n",
       "      <td>...</td>\n",
       "      <td>...</td>\n",
       "      <td>...</td>\n",
       "      <td>...</td>\n",
       "      <td>...</td>\n",
       "      <td>...</td>\n",
       "      <td>...</td>\n",
       "      <td>...</td>\n",
       "      <td>...</td>\n",
       "      <td>...</td>\n",
       "      <td>...</td>\n",
       "      <td>...</td>\n",
       "      <td>...</td>\n",
       "      <td>...</td>\n",
       "      <td>...</td>\n",
       "      <td>...</td>\n",
       "      <td>...</td>\n",
       "      <td>...</td>\n",
       "    </tr>\n",
       "    <tr>\n",
       "      <th>249</th>\n",
       "      <td>-0.08</td>\n",
       "      <td>-1.58</td>\n",
       "      <td>-1.13</td>\n",
       "      <td>0.30</td>\n",
       "      <td>0.06</td>\n",
       "      <td>0.18</td>\n",
       "      <td>0.32</td>\n",
       "      <td>0.08</td>\n",
       "      <td>-0.63</td>\n",
       "      <td>0.59</td>\n",
       "      <td>...</td>\n",
       "      <td>0.28</td>\n",
       "      <td>0.00</td>\n",
       "      <td>-0.82</td>\n",
       "      <td>3.22</td>\n",
       "      <td>-0.64</td>\n",
       "      <td>0.00</td>\n",
       "      <td>-0.56</td>\n",
       "      <td>0.14</td>\n",
       "      <td>4.34</td>\n",
       "      <td>0.98</td>\n",
       "    </tr>\n",
       "    <tr>\n",
       "      <th>250</th>\n",
       "      <td>0.44</td>\n",
       "      <td>-0.43</td>\n",
       "      <td>-0.02</td>\n",
       "      <td>0.40</td>\n",
       "      <td>0.11</td>\n",
       "      <td>1.54</td>\n",
       "      <td>1.48</td>\n",
       "      <td>-0.15</td>\n",
       "      <td>-0.01</td>\n",
       "      <td>0.36</td>\n",
       "      <td>...</td>\n",
       "      <td>-0.75</td>\n",
       "      <td>-0.52</td>\n",
       "      <td>-0.02</td>\n",
       "      <td>3.69</td>\n",
       "      <td>0.41</td>\n",
       "      <td>0.21</td>\n",
       "      <td>-0.79</td>\n",
       "      <td>0.53</td>\n",
       "      <td>-5.64</td>\n",
       "      <td>2.13</td>\n",
       "    </tr>\n",
       "    <tr>\n",
       "      <th>251</th>\n",
       "      <td>-3.32</td>\n",
       "      <td>-1.16</td>\n",
       "      <td>-2.42</td>\n",
       "      <td>-2.37</td>\n",
       "      <td>-1.02</td>\n",
       "      <td>0.09</td>\n",
       "      <td>1.03</td>\n",
       "      <td>0.32</td>\n",
       "      <td>-1.82</td>\n",
       "      <td>-0.14</td>\n",
       "      <td>...</td>\n",
       "      <td>-0.58</td>\n",
       "      <td>-1.33</td>\n",
       "      <td>-1.21</td>\n",
       "      <td>2.24</td>\n",
       "      <td>0.80</td>\n",
       "      <td>-0.32</td>\n",
       "      <td>-0.06</td>\n",
       "      <td>-0.86</td>\n",
       "      <td>-5.64</td>\n",
       "      <td>1.70</td>\n",
       "    </tr>\n",
       "    <tr>\n",
       "      <th>252</th>\n",
       "      <td>-2.86</td>\n",
       "      <td>0.89</td>\n",
       "      <td>0.48</td>\n",
       "      <td>-0.45</td>\n",
       "      <td>-0.66</td>\n",
       "      <td>1.42</td>\n",
       "      <td>0.65</td>\n",
       "      <td>-1.67</td>\n",
       "      <td>-0.96</td>\n",
       "      <td>0.10</td>\n",
       "      <td>...</td>\n",
       "      <td>-0.43</td>\n",
       "      <td>-2.73</td>\n",
       "      <td>-2.02</td>\n",
       "      <td>1.99</td>\n",
       "      <td>-0.80</td>\n",
       "      <td>-0.40</td>\n",
       "      <td>-1.14</td>\n",
       "      <td>0.19</td>\n",
       "      <td>-5.64</td>\n",
       "      <td>-1.42</td>\n",
       "    </tr>\n",
       "    <tr>\n",
       "      <th>253</th>\n",
       "      <td>0.23</td>\n",
       "      <td>-0.13</td>\n",
       "      <td>0.42</td>\n",
       "      <td>0.85</td>\n",
       "      <td>0.41</td>\n",
       "      <td>0.81</td>\n",
       "      <td>-2.92</td>\n",
       "      <td>0.63</td>\n",
       "      <td>1.14</td>\n",
       "      <td>0.30</td>\n",
       "      <td>...</td>\n",
       "      <td>1.97</td>\n",
       "      <td>-0.52</td>\n",
       "      <td>-0.53</td>\n",
       "      <td>3.87</td>\n",
       "      <td>-0.61</td>\n",
       "      <td>0.47</td>\n",
       "      <td>0.66</td>\n",
       "      <td>1.09</td>\n",
       "      <td>-5.64</td>\n",
       "      <td>-0.55</td>\n",
       "    </tr>\n",
       "  </tbody>\n",
       "</table>\n",
       "<p>212 rows × 29 columns</p>\n",
       "</div>"
      ],
      "text/plain": [
       "     hsa-let-7a-4373169  hsa-let-7b-4373168  hsa-let-7d-4373166  \\\n",
       "ID                                                                \n",
       "42                -1.63                0.51                0.68   \n",
       "43                -1.70                0.71                0.41   \n",
       "44                -0.60               -1.69               -0.29   \n",
       "45                -0.65               -1.46               -1.10   \n",
       "46                -0.32               -0.85               -0.79   \n",
       "..                  ...                 ...                 ...   \n",
       "249               -0.08               -1.58               -1.13   \n",
       "250                0.44               -0.43               -0.02   \n",
       "251               -3.32               -1.16               -2.42   \n",
       "252               -2.86                0.89                0.48   \n",
       "253                0.23               -0.13                0.42   \n",
       "\n",
       "     hsa-miR-103-4373158  hsa-miR-126-4378064  hsa-miR-133b-4373172  \\\n",
       "ID                                                                    \n",
       "42                 -0.40                -0.68                 -0.23   \n",
       "43                 -0.02                 0.98                 -1.14   \n",
       "44                  0.75                -0.08                 -1.14   \n",
       "45                  0.49                 0.71                 -1.14   \n",
       "46                 -0.67                -1.09                 -0.34   \n",
       "..                   ...                  ...                   ...   \n",
       "249                 0.30                 0.06                  0.18   \n",
       "250                 0.40                 0.11                  1.54   \n",
       "251                -2.37                -1.02                  0.09   \n",
       "252                -0.45                -0.66                  1.42   \n",
       "253                 0.85                 0.41                  0.81   \n",
       "\n",
       "     hsa-miR-139-4373176  hsa-miR-140-4373138  hsa-miR-142-3p-4373136  \\\n",
       "ID                                                                      \n",
       "42                 -1.36                 0.25                    1.40   \n",
       "43                  0.38                -0.09                   -0.50   \n",
       "44                  1.41                 0.10                   -0.76   \n",
       "45                  1.78                 0.46                   -0.23   \n",
       "46                 -0.94                -0.93                   -0.26   \n",
       "..                   ...                  ...                     ...   \n",
       "249                 0.32                 0.08                   -0.63   \n",
       "250                 1.48                -0.15                   -0.01   \n",
       "251                 1.03                 0.32                   -1.82   \n",
       "252                 0.65                -1.67                   -0.96   \n",
       "253                -2.92                 0.63                    1.14   \n",
       "\n",
       "     hsa-miR-142-5p-4373135  ...  hsa-miR-29a-4373065  hsa-miR-30b-4373290  \\\n",
       "ID                           ...                                             \n",
       "42                     0.38  ...                 1.42                 0.54   \n",
       "43                    -0.36  ...                -0.72                 0.45   \n",
       "44                    -0.09  ...                -0.20                 0.69   \n",
       "45                    -0.45  ...                -0.43                 0.44   \n",
       "46                    -0.53  ...                -0.56                -0.86   \n",
       "..                      ...  ...                  ...                  ...   \n",
       "249                    0.59  ...                 0.28                 0.00   \n",
       "250                    0.36  ...                -0.75                -0.52   \n",
       "251                   -0.14  ...                -0.58                -1.33   \n",
       "252                    0.10  ...                -0.43                -2.73   \n",
       "253                    0.30  ...                 1.97                -0.52   \n",
       "\n",
       "     hsa-miR-30c-4373060  hsa-miR-32-4373056  hsa-miR-328-4373049  \\\n",
       "ID                                                                  \n",
       "42                  0.27                0.03                -0.62   \n",
       "43                 -0.11               -0.85                -0.22   \n",
       "44                  0.39               -1.90                 0.11   \n",
       "45                  0.59               -1.76                 0.33   \n",
       "46                  0.09               -0.41                -0.19   \n",
       "..                   ...                 ...                  ...   \n",
       "249                -0.82                3.22                -0.64   \n",
       "250                -0.02                3.69                 0.41   \n",
       "251                -1.21                2.24                 0.80   \n",
       "252                -2.02                1.99                -0.80   \n",
       "253                -0.53                3.87                -0.61   \n",
       "\n",
       "     hsa-miR-331-4373046  hsa-miR-342-4373040  hsa-miR-374-4373028  \\\n",
       "ID                                                                   \n",
       "42                  0.00                 1.67                 1.02   \n",
       "43                  0.54                -0.66                 1.00   \n",
       "44                  0.18                -1.36                -0.77   \n",
       "45                  0.37                 0.69                -0.37   \n",
       "46                 -0.83                 0.14                -2.51   \n",
       "..                   ...                  ...                  ...   \n",
       "249                 0.00                -0.56                 0.14   \n",
       "250                 0.21                -0.79                 0.53   \n",
       "251                -0.32                -0.06                -0.86   \n",
       "252                -0.40                -1.14                 0.19   \n",
       "253                 0.47                 0.66                 1.09   \n",
       "\n",
       "     hsa-miR-376a-4373026  hsa-miR-432-4378076  \n",
       "ID                                              \n",
       "42                  -3.62                 1.88  \n",
       "43                   0.34                 1.92  \n",
       "44                   0.89                -0.79  \n",
       "45                   1.22                 0.90  \n",
       "46                  -4.70                -1.99  \n",
       "..                    ...                  ...  \n",
       "249                  4.34                 0.98  \n",
       "250                 -5.64                 2.13  \n",
       "251                 -5.64                 1.70  \n",
       "252                 -5.64                -1.42  \n",
       "253                 -5.64                -0.55  \n",
       "\n",
       "[212 rows x 29 columns]"
      ]
     },
     "execution_count": 18,
     "metadata": {},
     "output_type": "execute_result"
    }
   ],
   "source": [
    "X"
   ]
  },
  {
   "cell_type": "code",
   "execution_count": 19,
   "id": "33232d93-8346-4cba-83f4-c6e34fda0883",
   "metadata": {},
   "outputs": [],
   "source": [
    "X_healthy, X_cancer = X[controls == 1], X[sick == 1]"
   ]
  },
  {
   "cell_type": "code",
   "execution_count": 20,
   "id": "cbe4ea82-b5df-4b4e-b6df-4ac1825e7cf9",
   "metadata": {},
   "outputs": [],
   "source": [
    "results = ttest_ind(X_healthy, X_cancer).pvalue"
   ]
  },
  {
   "cell_type": "code",
   "execution_count": 21,
   "id": "d4c1f06a-70cc-49b8-b220-fbdf05dbc984",
   "metadata": {},
   "outputs": [],
   "source": [
    "tvalues = ttest_ind(X_healthy, X_cancer).statistic"
   ]
  },
  {
   "cell_type": "code",
   "execution_count": 22,
   "id": "1a44c374-2cff-433a-8123-a524d6ef4468",
   "metadata": {},
   "outputs": [],
   "source": [
    "lowest, pvalues = np.argsort(results)[:10], np.sort(results)[:10]"
   ]
  },
  {
   "cell_type": "code",
   "execution_count": 23,
   "id": "b84ec90b-9719-4ef4-a16c-92f0fa03d928",
   "metadata": {},
   "outputs": [
    {
     "data": {
      "text/plain": [
       "(Index(['hsa-miR-432-4378076', 'hsa-miR-17-5p-4373119', 'hsa-miR-30c-4373060',\n",
       "        'hsa-miR-148a-4373130', 'hsa-miR-342-4373040', 'hsa-miR-29a-4373065',\n",
       "        'hsa-miR-142-5p-4373135', 'hsa-miR-140-4373138', 'hsa-miR-223-4373075',\n",
       "        'hsa-miR-26b-4373069'],\n",
       "       dtype='object'),\n",
       " array([5.16656913e-13, 7.29952938e-11, 3.44775812e-09, 4.63639479e-09,\n",
       "        8.45041040e-07, 2.49414916e-06, 4.06596352e-06, 4.56669843e-06,\n",
       "        5.62643823e-06, 7.63240701e-06]),\n",
       " array([-7.70326556,  6.86663368,  6.17088538, -6.11539106,  5.07666615,\n",
       "        -4.8416803 , -4.73282396, -4.70668405, -4.65944416,  4.58977611]))"
      ]
     },
     "execution_count": 23,
     "metadata": {},
     "output_type": "execute_result"
    }
   ],
   "source": [
    "mirnas[lowest], pvalues, tvalues[lowest]"
   ]
  },
  {
   "cell_type": "markdown",
   "id": "ddf5533e-abae-4826-b672-7e85c824847f",
   "metadata": {},
   "source": [
    "### F-test"
   ]
  },
  {
   "cell_type": "code",
   "execution_count": 24,
   "id": "1f73c800-95a7-478f-9f34-11ad8d942d7a",
   "metadata": {},
   "outputs": [],
   "source": [
    "t3 = table"
   ]
  },
  {
   "cell_type": "code",
   "execution_count": 25,
   "id": "8881ed42-5d29-4371-8638-d097d5ed953a",
   "metadata": {},
   "outputs": [],
   "source": [
    "f, p = f_classif(t3, sick)"
   ]
  },
  {
   "cell_type": "code",
   "execution_count": 26,
   "id": "afd8effd-8309-41be-9be7-8acb347d7ad7",
   "metadata": {},
   "outputs": [
    {
     "data": {
      "text/plain": [
       "0.07436676268363998"
      ]
     },
     "execution_count": 26,
     "metadata": {},
     "output_type": "execute_result"
    }
   ],
   "source": [
    "np.mean(p)"
   ]
  },
  {
   "cell_type": "markdown",
   "id": "cf603647-ba89-4280-9383-ca110f83c926",
   "metadata": {},
   "source": [
    "### ANOVA"
   ]
  },
  {
   "cell_type": "code",
   "execution_count": 27,
   "id": "cfd81d2a-3917-42b9-91c6-f690d0f607dc",
   "metadata": {},
   "outputs": [
    {
     "data": {
      "text/html": [
       "<div>\n",
       "<style scoped>\n",
       "    .dataframe tbody tr th:only-of-type {\n",
       "        vertical-align: middle;\n",
       "    }\n",
       "\n",
       "    .dataframe tbody tr th {\n",
       "        vertical-align: top;\n",
       "    }\n",
       "\n",
       "    .dataframe thead th {\n",
       "        text-align: right;\n",
       "    }\n",
       "</style>\n",
       "<table border=\"1\" class=\"dataframe\">\n",
       "  <thead>\n",
       "    <tr style=\"text-align: right;\">\n",
       "      <th></th>\n",
       "      <th>hsa-let-7a-4373169</th>\n",
       "      <th>hsa-let-7b-4373168</th>\n",
       "      <th>hsa-let-7d-4373166</th>\n",
       "      <th>hsa-miR-103-4373158</th>\n",
       "      <th>hsa-miR-126-4378064</th>\n",
       "      <th>hsa-miR-133b-4373172</th>\n",
       "      <th>hsa-miR-139-4373176</th>\n",
       "      <th>hsa-miR-140-4373138</th>\n",
       "      <th>hsa-miR-142-3p-4373136</th>\n",
       "      <th>hsa-miR-142-5p-4373135</th>\n",
       "      <th>...</th>\n",
       "      <th>hsa-miR-29a-4373065</th>\n",
       "      <th>hsa-miR-30b-4373290</th>\n",
       "      <th>hsa-miR-30c-4373060</th>\n",
       "      <th>hsa-miR-32-4373056</th>\n",
       "      <th>hsa-miR-328-4373049</th>\n",
       "      <th>hsa-miR-331-4373046</th>\n",
       "      <th>hsa-miR-342-4373040</th>\n",
       "      <th>hsa-miR-374-4373028</th>\n",
       "      <th>hsa-miR-376a-4373026</th>\n",
       "      <th>hsa-miR-432-4378076</th>\n",
       "    </tr>\n",
       "    <tr>\n",
       "      <th>ID</th>\n",
       "      <th></th>\n",
       "      <th></th>\n",
       "      <th></th>\n",
       "      <th></th>\n",
       "      <th></th>\n",
       "      <th></th>\n",
       "      <th></th>\n",
       "      <th></th>\n",
       "      <th></th>\n",
       "      <th></th>\n",
       "      <th></th>\n",
       "      <th></th>\n",
       "      <th></th>\n",
       "      <th></th>\n",
       "      <th></th>\n",
       "      <th></th>\n",
       "      <th></th>\n",
       "      <th></th>\n",
       "      <th></th>\n",
       "      <th></th>\n",
       "      <th></th>\n",
       "    </tr>\n",
       "  </thead>\n",
       "  <tbody>\n",
       "    <tr>\n",
       "      <th>42</th>\n",
       "      <td>-1.63</td>\n",
       "      <td>0.51</td>\n",
       "      <td>0.68</td>\n",
       "      <td>-0.40</td>\n",
       "      <td>-0.68</td>\n",
       "      <td>-0.23</td>\n",
       "      <td>-1.36</td>\n",
       "      <td>0.25</td>\n",
       "      <td>1.40</td>\n",
       "      <td>0.38</td>\n",
       "      <td>...</td>\n",
       "      <td>1.42</td>\n",
       "      <td>0.54</td>\n",
       "      <td>0.27</td>\n",
       "      <td>0.03</td>\n",
       "      <td>-0.62</td>\n",
       "      <td>0.00</td>\n",
       "      <td>1.67</td>\n",
       "      <td>1.02</td>\n",
       "      <td>-3.62</td>\n",
       "      <td>1.88</td>\n",
       "    </tr>\n",
       "    <tr>\n",
       "      <th>43</th>\n",
       "      <td>-1.70</td>\n",
       "      <td>0.71</td>\n",
       "      <td>0.41</td>\n",
       "      <td>-0.02</td>\n",
       "      <td>0.98</td>\n",
       "      <td>-1.14</td>\n",
       "      <td>0.38</td>\n",
       "      <td>-0.09</td>\n",
       "      <td>-0.50</td>\n",
       "      <td>-0.36</td>\n",
       "      <td>...</td>\n",
       "      <td>-0.72</td>\n",
       "      <td>0.45</td>\n",
       "      <td>-0.11</td>\n",
       "      <td>-0.85</td>\n",
       "      <td>-0.22</td>\n",
       "      <td>0.54</td>\n",
       "      <td>-0.66</td>\n",
       "      <td>1.00</td>\n",
       "      <td>0.34</td>\n",
       "      <td>1.92</td>\n",
       "    </tr>\n",
       "    <tr>\n",
       "      <th>44</th>\n",
       "      <td>-0.60</td>\n",
       "      <td>-1.69</td>\n",
       "      <td>-0.29</td>\n",
       "      <td>0.75</td>\n",
       "      <td>-0.08</td>\n",
       "      <td>-1.14</td>\n",
       "      <td>1.41</td>\n",
       "      <td>0.10</td>\n",
       "      <td>-0.76</td>\n",
       "      <td>-0.09</td>\n",
       "      <td>...</td>\n",
       "      <td>-0.20</td>\n",
       "      <td>0.69</td>\n",
       "      <td>0.39</td>\n",
       "      <td>-1.90</td>\n",
       "      <td>0.11</td>\n",
       "      <td>0.18</td>\n",
       "      <td>-1.36</td>\n",
       "      <td>-0.77</td>\n",
       "      <td>0.89</td>\n",
       "      <td>-0.79</td>\n",
       "    </tr>\n",
       "    <tr>\n",
       "      <th>45</th>\n",
       "      <td>-0.65</td>\n",
       "      <td>-1.46</td>\n",
       "      <td>-1.10</td>\n",
       "      <td>0.49</td>\n",
       "      <td>0.71</td>\n",
       "      <td>-1.14</td>\n",
       "      <td>1.78</td>\n",
       "      <td>0.46</td>\n",
       "      <td>-0.23</td>\n",
       "      <td>-0.45</td>\n",
       "      <td>...</td>\n",
       "      <td>-0.43</td>\n",
       "      <td>0.44</td>\n",
       "      <td>0.59</td>\n",
       "      <td>-1.76</td>\n",
       "      <td>0.33</td>\n",
       "      <td>0.37</td>\n",
       "      <td>0.69</td>\n",
       "      <td>-0.37</td>\n",
       "      <td>1.22</td>\n",
       "      <td>0.90</td>\n",
       "    </tr>\n",
       "    <tr>\n",
       "      <th>46</th>\n",
       "      <td>-0.32</td>\n",
       "      <td>-0.85</td>\n",
       "      <td>-0.79</td>\n",
       "      <td>-0.67</td>\n",
       "      <td>-1.09</td>\n",
       "      <td>-0.34</td>\n",
       "      <td>-0.94</td>\n",
       "      <td>-0.93</td>\n",
       "      <td>-0.26</td>\n",
       "      <td>-0.53</td>\n",
       "      <td>...</td>\n",
       "      <td>-0.56</td>\n",
       "      <td>-0.86</td>\n",
       "      <td>0.09</td>\n",
       "      <td>-0.41</td>\n",
       "      <td>-0.19</td>\n",
       "      <td>-0.83</td>\n",
       "      <td>0.14</td>\n",
       "      <td>-2.51</td>\n",
       "      <td>-4.70</td>\n",
       "      <td>-1.99</td>\n",
       "    </tr>\n",
       "    <tr>\n",
       "      <th>...</th>\n",
       "      <td>...</td>\n",
       "      <td>...</td>\n",
       "      <td>...</td>\n",
       "      <td>...</td>\n",
       "      <td>...</td>\n",
       "      <td>...</td>\n",
       "      <td>...</td>\n",
       "      <td>...</td>\n",
       "      <td>...</td>\n",
       "      <td>...</td>\n",
       "      <td>...</td>\n",
       "      <td>...</td>\n",
       "      <td>...</td>\n",
       "      <td>...</td>\n",
       "      <td>...</td>\n",
       "      <td>...</td>\n",
       "      <td>...</td>\n",
       "      <td>...</td>\n",
       "      <td>...</td>\n",
       "      <td>...</td>\n",
       "      <td>...</td>\n",
       "    </tr>\n",
       "    <tr>\n",
       "      <th>249</th>\n",
       "      <td>-0.08</td>\n",
       "      <td>-1.58</td>\n",
       "      <td>-1.13</td>\n",
       "      <td>0.30</td>\n",
       "      <td>0.06</td>\n",
       "      <td>0.18</td>\n",
       "      <td>0.32</td>\n",
       "      <td>0.08</td>\n",
       "      <td>-0.63</td>\n",
       "      <td>0.59</td>\n",
       "      <td>...</td>\n",
       "      <td>0.28</td>\n",
       "      <td>0.00</td>\n",
       "      <td>-0.82</td>\n",
       "      <td>3.22</td>\n",
       "      <td>-0.64</td>\n",
       "      <td>0.00</td>\n",
       "      <td>-0.56</td>\n",
       "      <td>0.14</td>\n",
       "      <td>4.34</td>\n",
       "      <td>0.98</td>\n",
       "    </tr>\n",
       "    <tr>\n",
       "      <th>250</th>\n",
       "      <td>0.44</td>\n",
       "      <td>-0.43</td>\n",
       "      <td>-0.02</td>\n",
       "      <td>0.40</td>\n",
       "      <td>0.11</td>\n",
       "      <td>1.54</td>\n",
       "      <td>1.48</td>\n",
       "      <td>-0.15</td>\n",
       "      <td>-0.01</td>\n",
       "      <td>0.36</td>\n",
       "      <td>...</td>\n",
       "      <td>-0.75</td>\n",
       "      <td>-0.52</td>\n",
       "      <td>-0.02</td>\n",
       "      <td>3.69</td>\n",
       "      <td>0.41</td>\n",
       "      <td>0.21</td>\n",
       "      <td>-0.79</td>\n",
       "      <td>0.53</td>\n",
       "      <td>-5.64</td>\n",
       "      <td>2.13</td>\n",
       "    </tr>\n",
       "    <tr>\n",
       "      <th>251</th>\n",
       "      <td>-3.32</td>\n",
       "      <td>-1.16</td>\n",
       "      <td>-2.42</td>\n",
       "      <td>-2.37</td>\n",
       "      <td>-1.02</td>\n",
       "      <td>0.09</td>\n",
       "      <td>1.03</td>\n",
       "      <td>0.32</td>\n",
       "      <td>-1.82</td>\n",
       "      <td>-0.14</td>\n",
       "      <td>...</td>\n",
       "      <td>-0.58</td>\n",
       "      <td>-1.33</td>\n",
       "      <td>-1.21</td>\n",
       "      <td>2.24</td>\n",
       "      <td>0.80</td>\n",
       "      <td>-0.32</td>\n",
       "      <td>-0.06</td>\n",
       "      <td>-0.86</td>\n",
       "      <td>-5.64</td>\n",
       "      <td>1.70</td>\n",
       "    </tr>\n",
       "    <tr>\n",
       "      <th>252</th>\n",
       "      <td>-2.86</td>\n",
       "      <td>0.89</td>\n",
       "      <td>0.48</td>\n",
       "      <td>-0.45</td>\n",
       "      <td>-0.66</td>\n",
       "      <td>1.42</td>\n",
       "      <td>0.65</td>\n",
       "      <td>-1.67</td>\n",
       "      <td>-0.96</td>\n",
       "      <td>0.10</td>\n",
       "      <td>...</td>\n",
       "      <td>-0.43</td>\n",
       "      <td>-2.73</td>\n",
       "      <td>-2.02</td>\n",
       "      <td>1.99</td>\n",
       "      <td>-0.80</td>\n",
       "      <td>-0.40</td>\n",
       "      <td>-1.14</td>\n",
       "      <td>0.19</td>\n",
       "      <td>-5.64</td>\n",
       "      <td>-1.42</td>\n",
       "    </tr>\n",
       "    <tr>\n",
       "      <th>253</th>\n",
       "      <td>0.23</td>\n",
       "      <td>-0.13</td>\n",
       "      <td>0.42</td>\n",
       "      <td>0.85</td>\n",
       "      <td>0.41</td>\n",
       "      <td>0.81</td>\n",
       "      <td>-2.92</td>\n",
       "      <td>0.63</td>\n",
       "      <td>1.14</td>\n",
       "      <td>0.30</td>\n",
       "      <td>...</td>\n",
       "      <td>1.97</td>\n",
       "      <td>-0.52</td>\n",
       "      <td>-0.53</td>\n",
       "      <td>3.87</td>\n",
       "      <td>-0.61</td>\n",
       "      <td>0.47</td>\n",
       "      <td>0.66</td>\n",
       "      <td>1.09</td>\n",
       "      <td>-5.64</td>\n",
       "      <td>-0.55</td>\n",
       "    </tr>\n",
       "  </tbody>\n",
       "</table>\n",
       "<p>212 rows × 29 columns</p>\n",
       "</div>"
      ],
      "text/plain": [
       "     hsa-let-7a-4373169  hsa-let-7b-4373168  hsa-let-7d-4373166  \\\n",
       "ID                                                                \n",
       "42                -1.63                0.51                0.68   \n",
       "43                -1.70                0.71                0.41   \n",
       "44                -0.60               -1.69               -0.29   \n",
       "45                -0.65               -1.46               -1.10   \n",
       "46                -0.32               -0.85               -0.79   \n",
       "..                  ...                 ...                 ...   \n",
       "249               -0.08               -1.58               -1.13   \n",
       "250                0.44               -0.43               -0.02   \n",
       "251               -3.32               -1.16               -2.42   \n",
       "252               -2.86                0.89                0.48   \n",
       "253                0.23               -0.13                0.42   \n",
       "\n",
       "     hsa-miR-103-4373158  hsa-miR-126-4378064  hsa-miR-133b-4373172  \\\n",
       "ID                                                                    \n",
       "42                 -0.40                -0.68                 -0.23   \n",
       "43                 -0.02                 0.98                 -1.14   \n",
       "44                  0.75                -0.08                 -1.14   \n",
       "45                  0.49                 0.71                 -1.14   \n",
       "46                 -0.67                -1.09                 -0.34   \n",
       "..                   ...                  ...                   ...   \n",
       "249                 0.30                 0.06                  0.18   \n",
       "250                 0.40                 0.11                  1.54   \n",
       "251                -2.37                -1.02                  0.09   \n",
       "252                -0.45                -0.66                  1.42   \n",
       "253                 0.85                 0.41                  0.81   \n",
       "\n",
       "     hsa-miR-139-4373176  hsa-miR-140-4373138  hsa-miR-142-3p-4373136  \\\n",
       "ID                                                                      \n",
       "42                 -1.36                 0.25                    1.40   \n",
       "43                  0.38                -0.09                   -0.50   \n",
       "44                  1.41                 0.10                   -0.76   \n",
       "45                  1.78                 0.46                   -0.23   \n",
       "46                 -0.94                -0.93                   -0.26   \n",
       "..                   ...                  ...                     ...   \n",
       "249                 0.32                 0.08                   -0.63   \n",
       "250                 1.48                -0.15                   -0.01   \n",
       "251                 1.03                 0.32                   -1.82   \n",
       "252                 0.65                -1.67                   -0.96   \n",
       "253                -2.92                 0.63                    1.14   \n",
       "\n",
       "     hsa-miR-142-5p-4373135  ...  hsa-miR-29a-4373065  hsa-miR-30b-4373290  \\\n",
       "ID                           ...                                             \n",
       "42                     0.38  ...                 1.42                 0.54   \n",
       "43                    -0.36  ...                -0.72                 0.45   \n",
       "44                    -0.09  ...                -0.20                 0.69   \n",
       "45                    -0.45  ...                -0.43                 0.44   \n",
       "46                    -0.53  ...                -0.56                -0.86   \n",
       "..                      ...  ...                  ...                  ...   \n",
       "249                    0.59  ...                 0.28                 0.00   \n",
       "250                    0.36  ...                -0.75                -0.52   \n",
       "251                   -0.14  ...                -0.58                -1.33   \n",
       "252                    0.10  ...                -0.43                -2.73   \n",
       "253                    0.30  ...                 1.97                -0.52   \n",
       "\n",
       "     hsa-miR-30c-4373060  hsa-miR-32-4373056  hsa-miR-328-4373049  \\\n",
       "ID                                                                  \n",
       "42                  0.27                0.03                -0.62   \n",
       "43                 -0.11               -0.85                -0.22   \n",
       "44                  0.39               -1.90                 0.11   \n",
       "45                  0.59               -1.76                 0.33   \n",
       "46                  0.09               -0.41                -0.19   \n",
       "..                   ...                 ...                  ...   \n",
       "249                -0.82                3.22                -0.64   \n",
       "250                -0.02                3.69                 0.41   \n",
       "251                -1.21                2.24                 0.80   \n",
       "252                -2.02                1.99                -0.80   \n",
       "253                -0.53                3.87                -0.61   \n",
       "\n",
       "     hsa-miR-331-4373046  hsa-miR-342-4373040  hsa-miR-374-4373028  \\\n",
       "ID                                                                   \n",
       "42                  0.00                 1.67                 1.02   \n",
       "43                  0.54                -0.66                 1.00   \n",
       "44                  0.18                -1.36                -0.77   \n",
       "45                  0.37                 0.69                -0.37   \n",
       "46                 -0.83                 0.14                -2.51   \n",
       "..                   ...                  ...                  ...   \n",
       "249                 0.00                -0.56                 0.14   \n",
       "250                 0.21                -0.79                 0.53   \n",
       "251                -0.32                -0.06                -0.86   \n",
       "252                -0.40                -1.14                 0.19   \n",
       "253                 0.47                 0.66                 1.09   \n",
       "\n",
       "     hsa-miR-376a-4373026  hsa-miR-432-4378076  \n",
       "ID                                              \n",
       "42                  -3.62                 1.88  \n",
       "43                   0.34                 1.92  \n",
       "44                   0.89                -0.79  \n",
       "45                   1.22                 0.90  \n",
       "46                  -4.70                -1.99  \n",
       "..                    ...                  ...  \n",
       "249                  4.34                 0.98  \n",
       "250                 -5.64                 2.13  \n",
       "251                 -5.64                 1.70  \n",
       "252                 -5.64                -1.42  \n",
       "253                 -5.64                -0.55  \n",
       "\n",
       "[212 rows x 29 columns]"
      ]
     },
     "execution_count": 27,
     "metadata": {},
     "output_type": "execute_result"
    }
   ],
   "source": [
    "t3"
   ]
  },
  {
   "cell_type": "code",
   "execution_count": 28,
   "id": "91c6fea7-a902-4a18-954a-7d6da486d7fd",
   "metadata": {},
   "outputs": [],
   "source": [
    "X = np.array(sick).reshape(-1, 1)"
   ]
  },
  {
   "cell_type": "code",
   "execution_count": 29,
   "id": "cdbc8b8a-87d5-49bb-b251-a2a0928a72e1",
   "metadata": {},
   "outputs": [
    {
     "data": {
      "text/plain": [
       "LinearRegression()"
      ]
     },
     "execution_count": 29,
     "metadata": {},
     "output_type": "execute_result"
    }
   ],
   "source": [
    "linreg = LinearRegression()\n",
    "linreg.fit(X, t3)"
   ]
  },
  {
   "cell_type": "code",
   "execution_count": 30,
   "id": "52e47394-51fe-494b-a170-a4682e41d19e",
   "metadata": {},
   "outputs": [
    {
     "data": {
      "text/plain": [
       "0.06423630168488192"
      ]
     },
     "execution_count": 30,
     "metadata": {},
     "output_type": "execute_result"
    }
   ],
   "source": [
    "fitted = linreg.predict(X)\n",
    "explained_variance_score(t3, fitted)"
   ]
  },
  {
   "cell_type": "markdown",
   "id": "8c053ff9-b0c5-4d7c-be6f-2cc97c86efd9",
   "metadata": {},
   "source": [
    "### Mean-variance-plot"
   ]
  },
  {
   "cell_type": "code",
   "execution_count": 31,
   "id": "5d64f172-00f0-4006-a2ec-613f072691cd",
   "metadata": {},
   "outputs": [
    {
     "data": {
      "text/plain": [
       "hsa-let-7a-4373169       -0.142877\n",
       "hsa-let-7b-4373168       -0.191934\n",
       "hsa-let-7d-4373166       -0.076321\n",
       "hsa-miR-103-4373158       0.027075\n",
       "hsa-miR-126-4378064       0.013396\n",
       "hsa-miR-133b-4373172     -0.207453\n",
       "hsa-miR-139-4373176      -0.366557\n",
       "hsa-miR-140-4373138      -0.062689\n",
       "hsa-miR-142-3p-4373136   -0.022170\n",
       "hsa-miR-142-5p-4373135    0.099528\n",
       "hsa-miR-148a-4373130      0.350991\n",
       "hsa-miR-148b-4373129      0.139104\n",
       "hsa-miR-17-5p-4373119    -0.206557\n",
       "hsa-miR-191-4373109       0.027830\n",
       "hsa-miR-22-4373079        0.072642\n",
       "hsa-miR-223-4373075      -0.027123\n",
       "hsa-miR-26a-4373070      -0.003962\n",
       "hsa-miR-26b-4373069      -0.078349\n",
       "hsa-miR-28-4373067       -0.391604\n",
       "hsa-miR-29a-4373065       0.176651\n",
       "hsa-miR-30b-4373290      -0.049151\n",
       "hsa-miR-30c-4373060      -0.176132\n",
       "hsa-miR-32-4373056       -0.195142\n",
       "hsa-miR-328-4373049      -0.047877\n",
       "hsa-miR-331-4373046      -0.100472\n",
       "hsa-miR-342-4373040      -0.049104\n",
       "hsa-miR-374-4373028       0.001038\n",
       "hsa-miR-376a-4373026     -0.505000\n",
       "hsa-miR-432-4378076       0.082689\n",
       "dtype: float64"
      ]
     },
     "execution_count": 31,
     "metadata": {},
     "output_type": "execute_result"
    }
   ],
   "source": [
    "np.mean(table)"
   ]
  },
  {
   "cell_type": "code",
   "execution_count": 32,
   "id": "a929bb64-8b3b-414e-92ce-030fd1160848",
   "metadata": {
    "tags": []
   },
   "outputs": [],
   "source": [
    "def get_means_and_variances(table):\n",
    "    return np.mean(table), np.var(table, ddof=1)"
   ]
  },
  {
   "cell_type": "code",
   "execution_count": 33,
   "id": "3897c53c-8be5-45ee-904a-a34332f16a73",
   "metadata": {
    "tags": []
   },
   "outputs": [],
   "source": [
    "def mean_variance_plot(table):\n",
    "    means, variances = get_means_and_variances(table)\n",
    "    plt.scatter(means, variances)\n",
    "    plt.xlabel(\"mean\")\n",
    "    plt.ylabel(\"variance\")\n",
    "    plt.plot()"
   ]
  },
  {
   "cell_type": "code",
   "execution_count": 34,
   "id": "3518684f-23f2-45df-913f-ebacde92cad4",
   "metadata": {},
   "outputs": [
    {
     "data": {
      "image/png": "[encoded data removed]",
      "text/plain": [
       "<Figure size 432x288 with 1 Axes>"
      ]
     },
     "metadata": {
      "needs_background": "light"
     },
     "output_type": "display_data"
    }
   ],
   "source": [
    "mean_variance_plot(table)"
   ]
  },
  {
   "cell_type": "markdown",
   "id": "6dd8cc3c-3b90-4cda-87ce-d94d029a958d",
   "metadata": {
    "tags": []
   },
   "source": [
    "### Log transformation"
   ]
  },
  {
   "cell_type": "code",
   "execution_count": 35,
   "id": "07d1b7be-1f0a-41d7-abe7-2b23eeef8ded",
   "metadata": {},
   "outputs": [],
   "source": [
    "log_table = table #np.log2(table)"
   ]
  },
  {
   "cell_type": "code",
   "execution_count": 36,
   "id": "e647d1fb-fdc7-419a-9081-cf34428ff19a",
   "metadata": {},
   "outputs": [
    {
     "data": {
      "image/png": "[encoded data removed]",
      "text/plain": [
       "<Figure size 432x288 with 1 Axes>"
      ]
     },
     "metadata": {
      "needs_background": "light"
     },
     "output_type": "display_data"
    }
   ],
   "source": [
    "mean_variance_plot(log_table)"
   ]
  },
  {
   "cell_type": "code",
   "execution_count": 37,
   "id": "fa85395c-84e3-4fca-b9d4-2de010901da8",
   "metadata": {
    "tags": []
   },
   "outputs": [],
   "source": [
    "norm_log_table = log_table - np.mean(log_table)"
   ]
  },
  {
   "cell_type": "code",
   "execution_count": 38,
   "id": "d60ceeec-5a79-49ec-9ff6-d6ab8cb339af",
   "metadata": {},
   "outputs": [],
   "source": [
    "norm_log_table /= np.sqrt(np.mean(np.var(norm_log_table, ddof=1)))"
   ]
  },
  {
   "cell_type": "code",
   "execution_count": 39,
   "id": "59515259-be85-4822-b4e4-ca1d8a66b46b",
   "metadata": {},
   "outputs": [
    {
     "data": {
      "image/png": "[encoded data removed]",
      "text/plain": [
       "<Figure size 432x288 with 1 Axes>"
      ]
     },
     "metadata": {
      "needs_background": "light"
     },
     "output_type": "display_data"
    }
   ],
   "source": [
    "mean_variance_plot(norm_log_table)"
   ]
  },
  {
   "cell_type": "markdown",
   "id": "fdf89b74-401c-451c-a7d5-338fe5899cc0",
   "metadata": {},
   "source": [
    "### PCA"
   ]
  },
  {
   "cell_type": "code",
   "execution_count": 40,
   "id": "80e9e2cf-ef38-4bf4-93e5-9dab1f3e8a82",
   "metadata": {
    "tags": []
   },
   "outputs": [],
   "source": [
    "pca = decomposition.PCA(n_components=10)"
   ]
  },
  {
   "cell_type": "code",
   "execution_count": 41,
   "id": "b8baded0-2456-4acd-bf37-4f85377fa902",
   "metadata": {},
   "outputs": [
    {
     "data": {
      "text/plain": [
       "PCA(n_components=10)"
      ]
     },
     "execution_count": 41,
     "metadata": {},
     "output_type": "execute_result"
    }
   ],
   "source": [
    "pca.fit(norm_log_table)"
   ]
  },
  {
   "cell_type": "code",
   "execution_count": 42,
   "id": "fb23ac6d-50e4-4817-bc06-f8a79ab4ee1a",
   "metadata": {},
   "outputs": [
    {
     "data": {
      "text/plain": [
       "array([0.19872344, 0.17333712, 0.1308647 , 0.09899321, 0.06253799,\n",
       "       0.06060186, 0.05137753, 0.03744123, 0.02975215, 0.02532577])"
      ]
     },
     "execution_count": 42,
     "metadata": {},
     "output_type": "execute_result"
    }
   ],
   "source": [
    "pca.explained_variance_ratio_"
   ]
  },
  {
   "cell_type": "code",
   "execution_count": 43,
   "id": "539c46eb-d81d-4369-a8aa-9d761c8eedf6",
   "metadata": {
    "tags": []
   },
   "outputs": [],
   "source": [
    "components = pca.transform(norm_log_table)"
   ]
  },
  {
   "cell_type": "code",
   "execution_count": 44,
   "id": "18aa3ea4-6f65-47fb-8ff8-cb667d333f00",
   "metadata": {},
   "outputs": [
    {
     "data": {
      "text/plain": [
       "(212, 10)"
      ]
     },
     "execution_count": 44,
     "metadata": {},
     "output_type": "execute_result"
    }
   ],
   "source": [
    "components.shape"
   ]
  },
  {
   "cell_type": "code",
   "execution_count": 45,
   "id": "4ac6d714-06af-4629-96b2-625df7952992",
   "metadata": {},
   "outputs": [
    {
     "data": {
      "text/plain": [
       "117"
      ]
     },
     "execution_count": 45,
     "metadata": {},
     "output_type": "execute_result"
    }
   ],
   "source": [
    "sum(controls)"
   ]
  },
  {
   "cell_type": "code",
   "execution_count": 46,
   "id": "8ab60218-1bd6-490d-b0b5-12507dd091cd",
   "metadata": {},
   "outputs": [
    {
     "data": {
      "image/png": "[encoded data removed]",
      "text/plain": [
       "<Figure size 576x576 with 1 Axes>"
      ]
     },
     "metadata": {
      "needs_background": "light"
     },
     "output_type": "display_data"
    }
   ],
   "source": [
    "fig = plt.figure(figsize = (8,8))\n",
    "ax = fig.add_subplot(1,1,1)\n",
    "\n",
    "ax.set_xlabel('Principal Component 1', fontsize = 15)\n",
    "ax.set_ylabel('Principal Component 2', fontsize = 15)\n",
    "ax.set_title('2 component PCA', fontsize = 20)\n",
    "targets = ['Cancer', 'Healthy']\n",
    "colors = ['r', 'g']\n",
    "ax.scatter(components[controls == False, 0], components[controls == False, 1], c = 'r', s = 10)\n",
    "ax.scatter(components[controls == True, 0], components[controls == True, 1], c = 'g', s = 10)\n",
    "ax.legend(targets)\n",
    "ax.grid()"
   ]
  },
  {
   "cell_type": "code",
   "execution_count": 47,
   "id": "4ecfe275-b56d-4bcc-9af8-6e8ac5a7fb14",
   "metadata": {
    "tags": []
   },
   "outputs": [],
   "source": [
    "components2 = components[components[:,0] < 20, :]\n",
    "controls2 = controls[components[:,0] < 20]"
   ]
  },
  {
   "cell_type": "code",
   "execution_count": 48,
   "id": "b5c59d7d-de82-4ce6-90a4-18dbf9f875f0",
   "metadata": {},
   "outputs": [
    {
     "data": {
      "image/png": "[encoded data removed]",
      "text/plain": [
       "<Figure size 576x576 with 1 Axes>"
      ]
     },
     "metadata": {
      "needs_background": "light"
     },
     "output_type": "display_data"
    }
   ],
   "source": [
    "fig = plt.figure(figsize = (8,8))\n",
    "ax = fig.add_subplot(1,1,1)\n",
    "\n",
    "ax.set_xlabel('Principal Component 1', fontsize = 15)\n",
    "ax.set_ylabel('Principal Component 2', fontsize = 15)\n",
    "ax.set_title('2 component PCA', fontsize = 20)\n",
    "targets = ['Cancer', 'Healthy']\n",
    "colors = ['r', 'g']\n",
    "ax.scatter(components2[controls2 == False, 0], components2[controls2 == False, 1], c = 'r', s = 10)\n",
    "ax.scatter(components2[controls2 == True, 0], components2[controls2 == True, 1], c = 'g', s = 10)\n",
    "ax.legend(targets)\n",
    "ax.grid()"
   ]
  },
  {
   "cell_type": "markdown",
   "id": "c17066bb-ea71-44b5-83d5-f17a890629c4",
   "metadata": {
    "tags": []
   },
   "source": [
    "### Linear regression adjustments"
   ]
  },
  {
   "cell_type": "code",
   "execution_count": 49,
   "id": "1a0be6d4-ff8e-4115-81bc-9d284acfb88d",
   "metadata": {},
   "outputs": [],
   "source": [
    "sex = data[\"GENDER\"] == \"F\"\n",
    "age = data[\"AGE\"]\n",
    "pack_years = data[\"PACK_YEARS\"].replace(\"na\", np.nan)"
   ]
  },
  {
   "cell_type": "code",
   "execution_count": 50,
   "id": "305de595-a673-4580-8c01-fab4855f5483",
   "metadata": {},
   "outputs": [],
   "source": [
    "covars = pd.DataFrame(np.array([sex, age, pack_years]).transpose(), columns=[\"sex\", \"age\", \"pack years\"])"
   ]
  },
  {
   "cell_type": "code",
   "execution_count": 51,
   "id": "dc136df9-9f26-408f-9a6e-24055f5a5ac8",
   "metadata": {},
   "outputs": [],
   "source": [
    "covars[\"pack years\"] = pd.to_numeric(covars[\"pack years\"])"
   ]
  },
  {
   "cell_type": "code",
   "execution_count": 52,
   "id": "2351e6e9-29a2-446c-945e-8ba967ce5e0b",
   "metadata": {},
   "outputs": [],
   "source": [
    "covars = covars.fillna(covars.mean())"
   ]
  },
  {
   "cell_type": "code",
   "execution_count": 53,
   "id": "c0b66640-4518-4469-a47e-922289147a14",
   "metadata": {},
   "outputs": [
    {
     "data": {
      "text/plain": [
       "sex           0\n",
       "age           0\n",
       "pack years    0\n",
       "dtype: int64"
      ]
     },
     "execution_count": 53,
     "metadata": {},
     "output_type": "execute_result"
    }
   ],
   "source": [
    "covars.isna().sum()"
   ]
  },
  {
   "cell_type": "code",
   "execution_count": 54,
   "id": "e5e9ba0c-94c5-4721-a887-e98801ff5779",
   "metadata": {},
   "outputs": [
    {
     "data": {
      "text/plain": [
       "LinearRegression()"
      ]
     },
     "execution_count": 54,
     "metadata": {},
     "output_type": "execute_result"
    }
   ],
   "source": [
    "linreg = LinearRegression()\n",
    "linreg.fit(covars, norm_log_table)"
   ]
  },
  {
   "cell_type": "code",
   "execution_count": 55,
   "id": "06f28ea0-0b93-4bd9-9e3d-6500aad76dba",
   "metadata": {},
   "outputs": [],
   "source": [
    "adj_norm_log_table = norm_log_table - linreg.predict(covars)"
   ]
  },
  {
   "cell_type": "markdown",
   "id": "1b618a30-207c-43b9-b981-0a3f74090410",
   "metadata": {
    "tags": []
   },
   "source": [
    "# PCA"
   ]
  },
  {
   "cell_type": "code",
   "execution_count": 56,
   "id": "28b92e70-8148-41ed-b571-668a2aac094c",
   "metadata": {
    "tags": []
   },
   "outputs": [],
   "source": [
    "pca = decomposition.PCA(n_components=2)"
   ]
  },
  {
   "cell_type": "code",
   "execution_count": 57,
   "id": "27843ffd-8c50-40ea-aa64-984576837846",
   "metadata": {},
   "outputs": [
    {
     "data": {
      "text/plain": [
       "PCA(n_components=2)"
      ]
     },
     "execution_count": 57,
     "metadata": {},
     "output_type": "execute_result"
    }
   ],
   "source": [
    "pca.fit(adj_norm_log_table)"
   ]
  },
  {
   "cell_type": "code",
   "execution_count": 58,
   "id": "35679840-9f1e-4ff1-9f6c-edeadcebf1cf",
   "metadata": {
    "tags": []
   },
   "outputs": [],
   "source": [
    "components = pca.transform(adj_norm_log_table)"
   ]
  },
  {
   "cell_type": "code",
   "execution_count": 59,
   "id": "7e7f4f25-7806-41be-a556-55fb63477e87",
   "metadata": {},
   "outputs": [
    {
     "data": {
      "text/plain": [
       "array([[ 6.22746305e-01, -2.45542990e+00],\n",
       "       [ 8.91658051e-01,  1.11922929e-01],\n",
       "       [ 7.42784000e-01, -6.29007524e-02],\n",
       "       [ 4.78626284e-01,  5.88068370e-01],\n",
       "       [-8.56108761e-01, -3.63684752e+00],\n",
       "       [ 4.23900312e-01,  1.39014094e+00],\n",
       "       [ 2.13705235e-01,  1.31487347e+00],\n",
       "       [-6.28951942e+00,  3.27594652e+00],\n",
       "       [-8.24028358e-01, -1.57890517e+00],\n",
       "       [ 7.32020220e-01, -3.17902610e-02],\n",
       "       [-6.20058602e-01, -1.42770629e+00],\n",
       "       [-4.76202902e-01,  1.26442351e+00],\n",
       "       [ 1.29763063e+00,  1.71554591e+00],\n",
       "       [ 2.99938747e-02, -1.63630172e+00],\n",
       "       [-1.76879739e+00,  4.04447094e+00],\n",
       "       [ 2.52266921e+00, -1.31078797e+00],\n",
       "       [ 3.57817156e-01, -3.91715088e+00],\n",
       "       [ 3.95212550e-01,  3.87193523e-01],\n",
       "       [-6.71929296e+00, -6.65408272e-01],\n",
       "       [ 1.61065347e+00,  3.87531508e+00],\n",
       "       [-1.53404373e+00, -2.22665124e+00],\n",
       "       [ 1.09544830e+00,  2.19891646e-01],\n",
       "       [-5.90101091e-01, -1.95289098e+00],\n",
       "       [-9.52344474e-01,  7.37479747e-01],\n",
       "       [ 4.60243535e-01,  4.28868840e+00],\n",
       "       [ 4.10277310e-01,  1.53305313e+00],\n",
       "       [ 8.60317955e-02,  1.65760283e-02],\n",
       "       [ 5.08499415e-01,  1.12674178e+00],\n",
       "       [-3.95725132e-01, -1.83120653e+00],\n",
       "       [-1.51454162e-01, -3.07914333e+00],\n",
       "       [-8.26378138e-01,  2.43088481e+00],\n",
       "       [-1.88005698e+00, -2.43135859e+00],\n",
       "       [ 5.98870038e-01,  1.31041952e+00],\n",
       "       [-1.02502345e+00, -1.87703722e+00],\n",
       "       [-2.35249653e-01,  2.66932839e-01],\n",
       "       [ 2.64473926e-01, -2.21869315e+00],\n",
       "       [ 8.89589381e+00, -3.05715331e+00],\n",
       "       [ 7.88094046e+00, -5.14460411e+00],\n",
       "       [-5.85791256e-01, -2.06281300e+00],\n",
       "       [-9.04296773e-01, -2.23987803e+00],\n",
       "       [ 1.04455721e-01, -1.88346135e+00],\n",
       "       [ 5.44813593e-01, -3.93114130e-01],\n",
       "       [-3.98070611e+00, -1.57361443e+00],\n",
       "       [-5.58949101e+00,  3.29606421e+00],\n",
       "       [ 3.69016597e-01,  2.86081971e+00],\n",
       "       [-1.36581974e+00, -3.51532339e+00],\n",
       "       [ 6.24245133e-02,  1.07675128e+00],\n",
       "       [-5.55568273e-01, -2.94274371e+00],\n",
       "       [-3.19162813e-01,  1.48195355e+00],\n",
       "       [-3.63072519e-01, -3.17701947e+00],\n",
       "       [ 1.09566177e+00, -3.89035974e-01],\n",
       "       [-5.00890990e-01,  1.07796129e+00],\n",
       "       [ 1.30513866e-01, -1.35741159e+00],\n",
       "       [-1.77530577e-01,  1.21060449e-01],\n",
       "       [-1.61852285e+00, -1.01235911e+00],\n",
       "       [ 1.02483645e+01, -1.21665176e+00],\n",
       "       [ 1.47409426e+00, -1.44033316e+00],\n",
       "       [ 2.77412986e+00, -8.72420931e-01],\n",
       "       [ 3.37344742e+00,  1.08941585e+00],\n",
       "       [ 1.07761650e+01, -2.49234624e+00],\n",
       "       [-1.94759146e+00, -5.80248361e+00],\n",
       "       [ 7.40674714e-01,  1.71961436e+00],\n",
       "       [ 1.22586404e+00, -6.27545769e-01],\n",
       "       [ 3.31150265e+00, -3.33105943e-01],\n",
       "       [ 3.67318914e+00, -4.46205104e-02],\n",
       "       [ 2.14718091e+00,  1.59952835e+00],\n",
       "       [-5.82187543e+00, -1.64455432e-01],\n",
       "       [-1.33808414e+00, -3.33586429e+00],\n",
       "       [-2.96400382e+00, -4.95749326e-01],\n",
       "       [ 1.80805372e+00,  1.64615187e+00],\n",
       "       [ 3.96253682e-01,  1.30032108e+00],\n",
       "       [ 6.03943135e-01,  4.61323175e-01],\n",
       "       [ 8.98348571e-01,  9.12809551e-01],\n",
       "       [-9.44532115e-01,  8.96517735e-01],\n",
       "       [ 4.56645873e-01,  1.20806992e+00],\n",
       "       [ 1.11532093e+00,  1.19997508e+00],\n",
       "       [ 2.40451298e-01,  1.49309532e+00],\n",
       "       [ 8.73009624e-01,  1.23236157e+00],\n",
       "       [ 1.33032089e+00,  1.11186470e+00],\n",
       "       [-2.78650342e+00, -2.23827468e+00],\n",
       "       [-1.48320763e+00, -4.93369625e-02],\n",
       "       [ 6.29732446e-01,  1.94333102e-01],\n",
       "       [-2.95014500e+00,  1.40031824e+00],\n",
       "       [ 1.80873446e-01, -2.35828745e-01],\n",
       "       [ 3.37016319e-01,  1.06743357e-01],\n",
       "       [ 2.71587606e+00, -4.33405710e-02],\n",
       "       [ 7.94781724e-01,  1.36180382e+00],\n",
       "       [ 1.31608925e+00, -1.52173429e+00],\n",
       "       [ 4.25471298e-01, -2.69308425e+00],\n",
       "       [ 2.22694735e+00,  3.70030903e-01],\n",
       "       [ 1.78347807e+00, -6.17654102e-01],\n",
       "       [ 1.62065109e+00,  1.33884361e+00],\n",
       "       [ 7.55107890e-01, -5.42661152e-01],\n",
       "       [ 8.81133100e-03, -1.19379302e-01],\n",
       "       [ 1.53219315e+00,  7.69470798e-01],\n",
       "       [-1.01543794e+00, -1.76580337e+00],\n",
       "       [-6.26802305e-01, -1.42277781e-01],\n",
       "       [ 1.40800161e+00,  1.16568486e+00],\n",
       "       [ 3.96163242e-01,  1.40707259e+00],\n",
       "       [ 2.05928349e-01, -6.39680468e-01],\n",
       "       [ 1.63518365e-01, -1.07547338e-01],\n",
       "       [ 2.67751511e-01,  2.22858674e+00],\n",
       "       [ 7.17492188e-01,  3.02288592e+00],\n",
       "       [-1.36470644e+00,  1.55610980e+00],\n",
       "       [-1.36113598e+00, -2.35832065e+00],\n",
       "       [-1.88035227e+00, -2.11311013e+00],\n",
       "       [ 5.54159862e-01,  2.11173276e+00],\n",
       "       [-3.90779267e-01, -2.05840454e+00],\n",
       "       [ 1.55064658e+00,  1.61880575e+00],\n",
       "       [-4.22714354e-01,  2.11000105e+00],\n",
       "       [-2.30628323e+00, -5.32533124e+00],\n",
       "       [ 6.61828840e-01,  2.24885814e+00],\n",
       "       [-3.13920905e+00, -1.68161389e+00],\n",
       "       [ 3.21279872e-01, -4.63196682e-01],\n",
       "       [-1.67573571e+00, -3.83057535e-01],\n",
       "       [-9.58519800e-02, -4.23628681e-01],\n",
       "       [-1.11274914e+00,  5.82822728e-01],\n",
       "       [ 8.75691428e+00, -4.09390354e+00],\n",
       "       [ 9.62123111e+00, -3.69224406e+00],\n",
       "       [ 1.98444884e+00,  1.20571667e+00],\n",
       "       [-7.69234447e-01, -4.15983517e-01],\n",
       "       [ 2.84784384e+00,  5.34034474e+00],\n",
       "       [ 3.24137606e+00,  5.43744828e+00],\n",
       "       [ 1.07464390e+00,  9.78308667e-01],\n",
       "       [ 8.33253647e-01,  4.81280571e-01],\n",
       "       [ 1.66981594e-01, -2.75985552e+00],\n",
       "       [-2.95265505e+00,  8.84776490e-01],\n",
       "       [-6.51918870e-01,  1.81253404e-01],\n",
       "       [ 1.06384157e+00,  9.12778053e-01],\n",
       "       [-8.68514793e-01,  1.98637814e-01],\n",
       "       [-2.72528433e-01,  3.55634415e+00],\n",
       "       [-1.72590364e+00, -1.89465808e+00],\n",
       "       [-3.86618607e+00,  3.41616366e+00],\n",
       "       [-1.35213156e+00,  7.96958864e-01],\n",
       "       [-1.87495242e+00, -1.79711020e+00],\n",
       "       [-6.76586032e-01, -6.73418516e-02],\n",
       "       [ 1.04530684e-01,  4.95184488e-02],\n",
       "       [ 8.04477965e-01,  1.22571899e+00],\n",
       "       [-5.27356619e-01,  5.44807399e-01],\n",
       "       [-9.84910154e-01,  1.78041555e+00],\n",
       "       [-1.41787290e-01,  8.85501727e-01],\n",
       "       [-1.38612389e-01,  6.98352993e-02],\n",
       "       [-4.60253441e-01,  1.97669234e-01],\n",
       "       [-5.91561180e-01,  1.59348815e-01],\n",
       "       [-3.28166557e-01,  3.17420214e-01],\n",
       "       [ 5.10062916e-01,  1.47789602e+00],\n",
       "       [ 4.13431311e+00,  8.17349472e+00],\n",
       "       [ 1.60545427e+00,  1.11265418e+01],\n",
       "       [-1.03186167e+00, -2.04695668e+00],\n",
       "       [-5.58656512e+00,  7.98519903e-01],\n",
       "       [-4.53443923e-01, -1.68439063e+00],\n",
       "       [-1.80589921e+00, -1.02549490e-01],\n",
       "       [-3.73609963e-01,  1.66184658e+00],\n",
       "       [ 4.93794167e-01,  1.00801118e-01],\n",
       "       [ 7.61647724e-01,  2.60234560e+00],\n",
       "       [-1.13377847e-01, -2.90409148e+00],\n",
       "       [-1.76298385e+00,  2.72594801e-01],\n",
       "       [ 3.08737103e-01, -1.30014684e+00],\n",
       "       [ 2.40277045e-01, -5.01254279e-01],\n",
       "       [-1.49523393e+00,  3.14958436e-01],\n",
       "       [-1.33373183e+00, -1.88362292e+00],\n",
       "       [-1.11644440e+00,  5.30408110e-01],\n",
       "       [ 3.06306644e+00,  9.41481247e-02],\n",
       "       [-2.15929235e-01, -1.82938515e+00],\n",
       "       [ 1.78364846e+00,  1.25297022e+00],\n",
       "       [ 2.57217908e+00, -1.29789855e+00],\n",
       "       [ 9.91514702e-01,  1.18654355e+00],\n",
       "       [ 9.07613112e-01, -6.24142295e-02],\n",
       "       [-4.49544869e-01,  8.46329389e-01],\n",
       "       [-2.00748758e+00, -2.46981846e+00],\n",
       "       [ 2.68364666e+00,  3.64705820e+00],\n",
       "       [-2.70867199e+00, -2.15928152e+00],\n",
       "       [-1.78359185e-01, -2.23537994e-01],\n",
       "       [ 2.41294565e-01,  2.53243381e+00],\n",
       "       [ 1.65799527e+00,  4.13646137e-01],\n",
       "       [-1.11404392e+00, -2.73889079e+00],\n",
       "       [-2.03637201e+00, -5.75912279e-01],\n",
       "       [-2.01018800e+00, -3.61546821e+00],\n",
       "       [-6.69145615e-01, -1.05243463e+00],\n",
       "       [-1.00279457e+00,  3.35651168e-01],\n",
       "       [-1.25098294e-01, -2.04493669e-01],\n",
       "       [-8.52871289e-01,  4.84145236e-01],\n",
       "       [-4.60015348e-01,  1.05045704e+00],\n",
       "       [-2.02395830e+00, -8.81262341e-01],\n",
       "       [-8.09871837e-01, -2.95628065e+00],\n",
       "       [-2.00793176e+00,  2.84470735e+00],\n",
       "       [-4.18517185e+00,  1.09773871e+00],\n",
       "       [-2.82414736e-01,  2.23686985e-01],\n",
       "       [-3.68820447e-01, -2.23484363e+00],\n",
       "       [-2.05830639e+00, -1.73633890e+00],\n",
       "       [ 1.75712350e+00,  2.81818774e+00],\n",
       "       [-3.78970557e-01, -2.71967009e+00],\n",
       "       [ 1.28330747e-01,  1.54570614e+00],\n",
       "       [-8.71127224e-01,  9.44825124e-01],\n",
       "       [-1.16415918e+00, -1.69507370e-01],\n",
       "       [-8.06262850e-01, -2.30139853e+00],\n",
       "       [-6.61803879e+00,  3.99904942e+00],\n",
       "       [-8.58341541e-01, -7.57718212e-01],\n",
       "       [ 1.73745299e+00,  1.86350411e+00],\n",
       "       [ 1.36631638e+00, -6.35817285e-01],\n",
       "       [ 4.34910903e-01, -2.48466573e-02],\n",
       "       [ 2.36661311e+00,  1.59609395e+00],\n",
       "       [-1.68050346e+00,  1.65330738e+00],\n",
       "       [ 9.61591145e-01,  2.07495158e+00],\n",
       "       [-1.69300230e+00, -1.05793326e+00],\n",
       "       [-2.54087334e+00, -2.44197844e+00],\n",
       "       [-2.59621237e+00,  2.95089691e+00],\n",
       "       [-3.80187666e-02,  3.00580271e+00],\n",
       "       [-1.76440090e+00, -2.45793314e+00],\n",
       "       [-1.88653622e+00, -2.94054256e+00],\n",
       "       [-2.47091972e+00, -2.34485886e+00],\n",
       "       [-1.15115488e+00, -2.94766824e+00]])"
      ]
     },
     "execution_count": 59,
     "metadata": {},
     "output_type": "execute_result"
    }
   ],
   "source": [
    "components"
   ]
  },
  {
   "cell_type": "code",
   "execution_count": 60,
   "id": "9a98bda9-f7d0-4b48-823a-e65f175192cc",
   "metadata": {},
   "outputs": [
    {
     "data": {
      "image/png": "[encoded data removed]",
      "text/plain": [
       "<Figure size 576x576 with 1 Axes>"
      ]
     },
     "metadata": {
      "needs_background": "light"
     },
     "output_type": "display_data"
    }
   ],
   "source": [
    "fig = plt.figure(figsize = (8,8))\n",
    "ax = fig.add_subplot(1,1,1)\n",
    "\n",
    "ax.set_xlabel('Principal Component 1', fontsize = 15)\n",
    "ax.set_ylabel('Principal Component 2', fontsize = 15)\n",
    "ax.set_title('2 component PCA', fontsize = 20)\n",
    "targets = ['Cancer', 'Healthy']\n",
    "colors = ['r', 'g']\n",
    "ax.scatter(components[controls == False, 0], components[controls == False, 1], c = 'r', s = 10)\n",
    "ax.scatter(components[controls == True, 0], components[controls == True, 1], c = 'g', s = 10)\n",
    "ax.legend(targets)\n",
    "ax.grid()"
   ]
  },
  {
   "cell_type": "markdown",
   "id": "24b0dc72-e6f9-4862-8d0a-faf1d0f2045c",
   "metadata": {},
   "source": [
    "### Logistic Regression"
   ]
  },
  {
   "cell_type": "code",
   "execution_count": 61,
   "id": "97cc4b8d-ca24-4064-855f-3504fefa93b3",
   "metadata": {},
   "outputs": [],
   "source": [
    "X_train, X_test, y_train, y_test = train_test_split(adj_norm_log_table, controls, test_size=0.33, random_state=42)"
   ]
  },
  {
   "cell_type": "code",
   "execution_count": 62,
   "id": "74ae75e7-92a0-4f6d-8159-e6dcca028ad6",
   "metadata": {},
   "outputs": [
    {
     "data": {
      "text/plain": [
       "LogisticRegression()"
      ]
     },
     "execution_count": 62,
     "metadata": {},
     "output_type": "execute_result"
    }
   ],
   "source": [
    "model = LogisticRegression()\n",
    "model.fit(X_train, y_train)"
   ]
  },
  {
   "cell_type": "code",
   "execution_count": 63,
   "id": "44e27022-062a-42b9-9a84-6b8c28c4044b",
   "metadata": {},
   "outputs": [
    {
     "name": "stderr",
     "output_type": "stream",
     "text": [
      "C:\\Users\\olefr\\AppData\\Local\\Programs\\Python\\Python310\\lib\\site-packages\\sklearn\\utils\\deprecation.py:87: FutureWarning: Function plot_roc_curve is deprecated; Function :func:`plot_roc_curve` is deprecated in 1.0 and will be removed in 1.2. Use one of the class methods: :meth:`sklearn.metric.RocCurveDisplay.from_predictions` or :meth:`sklearn.metric.RocCurveDisplay.from_estimator`.\n",
      "  warnings.warn(msg, category=FutureWarning)\n"
     ]
    },
    {
     "data": {
      "text/plain": [
       "<sklearn.metrics._plot.roc_curve.RocCurveDisplay at 0x28d52ff0220>"
      ]
     },
     "execution_count": 63,
     "metadata": {},
     "output_type": "execute_result"
    },
    {
     "data": {
      "image/png": "[encoded data removed]",
      "text/plain": [
       "<Figure size 432x288 with 1 Axes>"
      ]
     },
     "metadata": {
      "needs_background": "light"
     },
     "output_type": "display_data"
    }
   ],
   "source": [
    "plot_roc_curve(model, X_test, y_test)"
   ]
  },
  {
   "cell_type": "markdown",
   "id": "5e500984-7924-4959-ba20-89f2166c714a",
   "metadata": {
    "jupyter": {
     "outputs_hidden": true
    }
   },
   "source": [
    "### XGBoost"
   ]
  },
  {
   "cell_type": "code",
   "execution_count": 64,
   "id": "9aadc386-a287-42d4-b19a-4be226a84575",
   "metadata": {},
   "outputs": [
    {
     "name": "stdout",
     "output_type": "stream",
     "text": [
      "[17:58:46] WARNING: C:/Users/Administrator/workspace/xgboost-win64_release_1.5.1/src/learner.cc:1115: Starting in XGBoost 1.3.0, the default evaluation metric used with the objective 'binary:logistic' was changed from 'error' to 'logloss'. Explicitly set eval_metric if you'd like to restore the old behavior.\n"
     ]
    },
    {
     "data": {
      "text/plain": [
       "XGBClassifier(base_score=0.5, booster='gbtree', colsample_bylevel=1,\n",
       "              colsample_bynode=1, colsample_bytree=1, enable_categorical=False,\n",
       "              gamma=0, gpu_id=-1, importance_type=None,\n",
       "              interaction_constraints='', learning_rate=0.300000012,\n",
       "              max_delta_step=0, max_depth=6, min_child_weight=1, missing=nan,\n",
       "              monotone_constraints='()', n_estimators=100, n_jobs=16,\n",
       "              num_parallel_tree=1, predictor='auto', random_state=0,\n",
       "              reg_alpha=0, reg_lambda=1, scale_pos_weight=1, subsample=1,\n",
       "              tree_method='exact', use_label_encoder=False,\n",
       "              validate_parameters=1, verbosity=None)"
      ]
     },
     "execution_count": 64,
     "metadata": {},
     "output_type": "execute_result"
    }
   ],
   "source": [
    "model = XGBClassifier(use_label_encoder=False)\n",
    "model.fit(X_train, y_train)"
   ]
  },
  {
   "cell_type": "code",
   "execution_count": 65,
   "id": "f2a1bfc9-cb59-4af9-bdd7-40b30c36fa12",
   "metadata": {},
   "outputs": [
    {
     "name": "stderr",
     "output_type": "stream",
     "text": [
      "C:\\Users\\olefr\\AppData\\Local\\Programs\\Python\\Python310\\lib\\site-packages\\sklearn\\utils\\deprecation.py:87: FutureWarning: Function plot_roc_curve is deprecated; Function :func:`plot_roc_curve` is deprecated in 1.0 and will be removed in 1.2. Use one of the class methods: :meth:`sklearn.metric.RocCurveDisplay.from_predictions` or :meth:`sklearn.metric.RocCurveDisplay.from_estimator`.\n",
      "  warnings.warn(msg, category=FutureWarning)\n"
     ]
    },
    {
     "data": {
      "text/plain": [
       "<sklearn.metrics._plot.roc_curve.RocCurveDisplay at 0x28d52ff0250>"
      ]
     },
     "execution_count": 65,
     "metadata": {},
     "output_type": "execute_result"
    },
    {
     "data": {
      "image/png": "[encoded data removed]",
      "text/plain": [
       "<Figure size 432x288 with 1 Axes>"
      ]
     },
     "metadata": {
      "needs_background": "light"
     },
     "output_type": "display_data"
    }
   ],
   "source": [
    "plot_roc_curve(model, X_test, y_test)"
   ]
  },
  {
   "cell_type": "markdown",
   "id": "e68647ea-e773-4ae0-8e62-1528a8fea51d",
   "metadata": {},
   "source": [
    "### Export data"
   ]
  },
  {
   "cell_type": "code",
   "execution_count": 66,
   "id": "5486c2fb-e521-4797-82bb-b7ca011bda82",
   "metadata": {},
   "outputs": [
    {
     "data": {
      "text/html": [
       "<div>\n",
       "<style scoped>\n",
       "    .dataframe tbody tr th:only-of-type {\n",
       "        vertical-align: middle;\n",
       "    }\n",
       "\n",
       "    .dataframe tbody tr th {\n",
       "        vertical-align: top;\n",
       "    }\n",
       "\n",
       "    .dataframe thead th {\n",
       "        text-align: right;\n",
       "    }\n",
       "</style>\n",
       "<table border=\"1\" class=\"dataframe\">\n",
       "  <thead>\n",
       "    <tr style=\"text-align: right;\">\n",
       "      <th></th>\n",
       "      <th>ID</th>\n",
       "      <th>miRNA_ID</th>\n",
       "      <th>Part Number</th>\n",
       "    </tr>\n",
       "  </thead>\n",
       "  <tbody>\n",
       "    <tr>\n",
       "      <th>0</th>\n",
       "      <td>hsa-miR-99b-4373007</td>\n",
       "      <td>hsa-miR-99b</td>\n",
       "      <td>4373007</td>\n",
       "    </tr>\n",
       "    <tr>\n",
       "      <th>1</th>\n",
       "      <td>hsa-miR-99a-4373008</td>\n",
       "      <td>hsa-miR-99a</td>\n",
       "      <td>4373008</td>\n",
       "    </tr>\n",
       "    <tr>\n",
       "      <th>2</th>\n",
       "      <td>hsa-miR-98-4373009</td>\n",
       "      <td>hsa-miR-98</td>\n",
       "      <td>4373009</td>\n",
       "    </tr>\n",
       "    <tr>\n",
       "      <th>3</th>\n",
       "      <td>hsa-miR-96-4373010</td>\n",
       "      <td>hsa-miR-96</td>\n",
       "      <td>4373010</td>\n",
       "    </tr>\n",
       "    <tr>\n",
       "      <th>4</th>\n",
       "      <td>hsa-miR-95-4373011</td>\n",
       "      <td>hsa-miR-95</td>\n",
       "      <td>4373011</td>\n",
       "    </tr>\n",
       "  </tbody>\n",
       "</table>\n",
       "</div>"
      ],
      "text/plain": [
       "                    ID     miRNA_ID  Part Number\n",
       "0  hsa-miR-99b-4373007  hsa-miR-99b      4373007\n",
       "1  hsa-miR-99a-4373008  hsa-miR-99a      4373008\n",
       "2   hsa-miR-98-4373009   hsa-miR-98      4373009\n",
       "3   hsa-miR-96-4373010   hsa-miR-96      4373010\n",
       "4   hsa-miR-95-4373011   hsa-miR-95      4373011"
      ]
     },
     "execution_count": 66,
     "metadata": {},
     "output_type": "execute_result"
    }
   ],
   "source": [
    "lookup_table_gpl = pd.read_csv(\"../Others/GPL8695.tsv\", sep=\"\\t\")\n",
    "lookup_table_gpl.head()"
   ]
  },
  {
   "cell_type": "code",
   "execution_count": 67,
   "id": "fe478773-b6d5-4dde-b9fd-4e3a4be198cd",
   "metadata": {},
   "outputs": [],
   "source": [
    "from Scripts.converters import canonical_to_seq"
   ]
  },
  {
   "cell_type": "code",
   "execution_count": 68,
   "id": "7ad693dd-64df-4bcd-9c6a-daa50fcdc729",
   "metadata": {},
   "outputs": [],
   "source": [
    "mirbase_names = [c[:-8] for c in table.columns]"
   ]
  },
  {
   "cell_type": "code",
   "execution_count": 69,
   "id": "cab7b2b0-3175-4335-b2ba-14ae70c471b3",
   "metadata": {},
   "outputs": [],
   "source": [
    "sequences = canonical_to_seq(mirbase_names)"
   ]
  },
  {
   "cell_type": "code",
   "execution_count": 70,
   "id": "e20cc9e9-d0fe-42d4-875e-b28882ddf6e4",
   "metadata": {},
   "outputs": [
    {
     "data": {
      "text/html": [
       "<div>\n",
       "<style scoped>\n",
       "    .dataframe tbody tr th:only-of-type {\n",
       "        vertical-align: middle;\n",
       "    }\n",
       "\n",
       "    .dataframe tbody tr th {\n",
       "        vertical-align: top;\n",
       "    }\n",
       "\n",
       "    .dataframe thead th {\n",
       "        text-align: right;\n",
       "    }\n",
       "</style>\n",
       "<table border=\"1\" class=\"dataframe\">\n",
       "  <thead>\n",
       "    <tr style=\"text-align: right;\">\n",
       "      <th></th>\n",
       "      <th>UGAGGUAGUAGGUUGUAUAGUU</th>\n",
       "      <th>CGGGGUGAGGUAGUAGGUUGUGUGGUUUCAGGGCAGUGAUGUUGCCCCUCGGAAGAUAACUAUACAACCUACUGCCUUCCCUG</th>\n",
       "      <th>CCUAGGAAGAGGUAGUAGGUUGCAUAGUUUUAGGGCAGGGAUUUUGCCCACAAGGAGGUAACUAUACGACCUGCUGCCUUUCUUAGG</th>\n",
       "      <th>AGCAGCAUUGUACAGGGCUAUGA</th>\n",
       "      <th>UCGUACCGUGAGUAAUAAUGCG</th>\n",
       "      <th>UUUGGUCCCCUUCAACCAGCUA</th>\n",
       "      <th>UCUACAGUGCACGUGUCUCCAGU</th>\n",
       "      <th>CAGUGGUUUUACCCUAUGGUAG</th>\n",
       "      <th>UGUAGUGUUUCCUACUUUAUGGA</th>\n",
       "      <th>CAUAAAGUAGAAAGCACUACU</th>\n",
       "      <th>...</th>\n",
       "      <th>UGUAAACAUCCUACACUCUCAGC</th>\n",
       "      <th>UAUUGCACAUUACUAAGUUGCA</th>\n",
       "      <th>CUGGCCCUCUCUGCCCUUCCGU</th>\n",
       "      <th>GCCCCUGGGCCUAUCCUAGAA</th>\n",
       "      <th>UCUCACACAGAAAUCGCACCCGU</th>\n",
       "      <th>UUAUAAUACAACCUGAUAAGUG</th>\n",
       "      <th>AUCAUAGAGGAAAAUCCACGU</th>\n",
       "      <th>UCUUGGAGUAGGUCAUUGGGUGG</th>\n",
       "      <th>cancer</th>\n",
       "      <th>stage</th>\n",
       "    </tr>\n",
       "    <tr>\n",
       "      <th>ID</th>\n",
       "      <th></th>\n",
       "      <th></th>\n",
       "      <th></th>\n",
       "      <th></th>\n",
       "      <th></th>\n",
       "      <th></th>\n",
       "      <th></th>\n",
       "      <th></th>\n",
       "      <th></th>\n",
       "      <th></th>\n",
       "      <th></th>\n",
       "      <th></th>\n",
       "      <th></th>\n",
       "      <th></th>\n",
       "      <th></th>\n",
       "      <th></th>\n",
       "      <th></th>\n",
       "      <th></th>\n",
       "      <th></th>\n",
       "      <th></th>\n",
       "      <th></th>\n",
       "    </tr>\n",
       "  </thead>\n",
       "  <tbody>\n",
       "    <tr>\n",
       "      <th>42</th>\n",
       "      <td>-0.949271</td>\n",
       "      <td>0.185394</td>\n",
       "      <td>0.213699</td>\n",
       "      <td>-0.751775</td>\n",
       "      <td>-0.539635</td>\n",
       "      <td>-1.304965</td>\n",
       "      <td>-0.246417</td>\n",
       "      <td>0.247155</td>\n",
       "      <td>0.405289</td>\n",
       "      <td>0.171327</td>\n",
       "      <td>...</td>\n",
       "      <td>0.014177</td>\n",
       "      <td>0.517841</td>\n",
       "      <td>-0.425889</td>\n",
       "      <td>-0.062368</td>\n",
       "      <td>0.486526</td>\n",
       "      <td>0.398722</td>\n",
       "      <td>-2.970827</td>\n",
       "      <td>1.462483</td>\n",
       "      <td>False</td>\n",
       "      <td>0</td>\n",
       "    </tr>\n",
       "    <tr>\n",
       "      <th>43</th>\n",
       "      <td>-0.849083</td>\n",
       "      <td>0.459828</td>\n",
       "      <td>0.322879</td>\n",
       "      <td>0.017549</td>\n",
       "      <td>0.605031</td>\n",
       "      <td>-0.708699</td>\n",
       "      <td>0.504469</td>\n",
       "      <td>-0.042485</td>\n",
       "      <td>-0.275938</td>\n",
       "      <td>-0.333196</td>\n",
       "      <td>...</td>\n",
       "      <td>0.092348</td>\n",
       "      <td>-0.389335</td>\n",
       "      <td>-0.178813</td>\n",
       "      <td>0.429154</td>\n",
       "      <td>-0.233127</td>\n",
       "      <td>0.574876</td>\n",
       "      <td>0.509267</td>\n",
       "      <td>1.104181</td>\n",
       "      <td>False</td>\n",
       "      <td>0</td>\n",
       "    </tr>\n",
       "    <tr>\n",
       "      <th>44</th>\n",
       "      <td>-0.387115</td>\n",
       "      <td>-0.680091</td>\n",
       "      <td>-0.225184</td>\n",
       "      <td>0.214941</td>\n",
       "      <td>-0.134349</td>\n",
       "      <td>-0.693951</td>\n",
       "      <td>1.019163</td>\n",
       "      <td>0.139066</td>\n",
       "      <td>-0.609487</td>\n",
       "      <td>-0.039305</td>\n",
       "      <td>...</td>\n",
       "      <td>0.200371</td>\n",
       "      <td>-0.831734</td>\n",
       "      <td>0.235582</td>\n",
       "      <td>0.066251</td>\n",
       "      <td>-1.253489</td>\n",
       "      <td>-0.449394</td>\n",
       "      <td>0.449700</td>\n",
       "      <td>-0.524500</td>\n",
       "      <td>False</td>\n",
       "      <td>0</td>\n",
       "    </tr>\n",
       "    <tr>\n",
       "      <th>45</th>\n",
       "      <td>-0.387232</td>\n",
       "      <td>-0.494389</td>\n",
       "      <td>-0.617302</td>\n",
       "      <td>0.260938</td>\n",
       "      <td>0.395951</td>\n",
       "      <td>-0.223018</td>\n",
       "      <td>1.128722</td>\n",
       "      <td>0.331500</td>\n",
       "      <td>-0.107714</td>\n",
       "      <td>-0.266555</td>\n",
       "      <td>...</td>\n",
       "      <td>0.428728</td>\n",
       "      <td>-0.912200</td>\n",
       "      <td>0.376219</td>\n",
       "      <td>0.237798</td>\n",
       "      <td>0.243387</td>\n",
       "      <td>-0.135334</td>\n",
       "      <td>1.087622</td>\n",
       "      <td>0.368881</td>\n",
       "      <td>False</td>\n",
       "      <td>0</td>\n",
       "    </tr>\n",
       "    <tr>\n",
       "      <th>46</th>\n",
       "      <td>-0.018808</td>\n",
       "      <td>-0.508481</td>\n",
       "      <td>-0.470565</td>\n",
       "      <td>-0.527801</td>\n",
       "      <td>-0.684965</td>\n",
       "      <td>-0.612911</td>\n",
       "      <td>-0.206177</td>\n",
       "      <td>-0.536559</td>\n",
       "      <td>-0.272874</td>\n",
       "      <td>-0.438268</td>\n",
       "      <td>...</td>\n",
       "      <td>0.138952</td>\n",
       "      <td>0.020199</td>\n",
       "      <td>-0.171248</td>\n",
       "      <td>-0.436548</td>\n",
       "      <td>0.055261</td>\n",
       "      <td>-1.600977</td>\n",
       "      <td>-2.888973</td>\n",
       "      <td>-1.175192</td>\n",
       "      <td>False</td>\n",
       "      <td>0</td>\n",
       "    </tr>\n",
       "  </tbody>\n",
       "</table>\n",
       "<p>5 rows × 31 columns</p>\n",
       "</div>"
      ],
      "text/plain": [
       "    UGAGGUAGUAGGUUGUAUAGUU  \\\n",
       "ID                           \n",
       "42               -0.949271   \n",
       "43               -0.849083   \n",
       "44               -0.387115   \n",
       "45               -0.387232   \n",
       "46               -0.018808   \n",
       "\n",
       "    CGGGGUGAGGUAGUAGGUUGUGUGGUUUCAGGGCAGUGAUGUUGCCCCUCGGAAGAUAACUAUACAACCUACUGCCUUCCCUG  \\\n",
       "ID                                                                                        \n",
       "42                                           0.185394                                     \n",
       "43                                           0.459828                                     \n",
       "44                                          -0.680091                                     \n",
       "45                                          -0.494389                                     \n",
       "46                                          -0.508481                                     \n",
       "\n",
       "    CCUAGGAAGAGGUAGUAGGUUGCAUAGUUUUAGGGCAGGGAUUUUGCCCACAAGGAGGUAACUAUACGACCUGCUGCCUUUCUUAGG  \\\n",
       "ID                                                                                            \n",
       "42                                           0.213699                                         \n",
       "43                                           0.322879                                         \n",
       "44                                          -0.225184                                         \n",
       "45                                          -0.617302                                         \n",
       "46                                          -0.470565                                         \n",
       "\n",
       "    AGCAGCAUUGUACAGGGCUAUGA  UCGUACCGUGAGUAAUAAUGCG  UUUGGUCCCCUUCAACCAGCUA  \\\n",
       "ID                                                                            \n",
       "42                -0.751775               -0.539635               -1.304965   \n",
       "43                 0.017549                0.605031               -0.708699   \n",
       "44                 0.214941               -0.134349               -0.693951   \n",
       "45                 0.260938                0.395951               -0.223018   \n",
       "46                -0.527801               -0.684965               -0.612911   \n",
       "\n",
       "    UCUACAGUGCACGUGUCUCCAGU  CAGUGGUUUUACCCUAUGGUAG  UGUAGUGUUUCCUACUUUAUGGA  \\\n",
       "ID                                                                             \n",
       "42                -0.246417                0.247155                 0.405289   \n",
       "43                 0.504469               -0.042485                -0.275938   \n",
       "44                 1.019163                0.139066                -0.609487   \n",
       "45                 1.128722                0.331500                -0.107714   \n",
       "46                -0.206177               -0.536559                -0.272874   \n",
       "\n",
       "    CAUAAAGUAGAAAGCACUACU  ...  UGUAAACAUCCUACACUCUCAGC  \\\n",
       "ID                         ...                            \n",
       "42               0.171327  ...                 0.014177   \n",
       "43              -0.333196  ...                 0.092348   \n",
       "44              -0.039305  ...                 0.200371   \n",
       "45              -0.266555  ...                 0.428728   \n",
       "46              -0.438268  ...                 0.138952   \n",
       "\n",
       "    UAUUGCACAUUACUAAGUUGCA  CUGGCCCUCUCUGCCCUUCCGU  GCCCCUGGGCCUAUCCUAGAA  \\\n",
       "ID                                                                          \n",
       "42                0.517841               -0.425889              -0.062368   \n",
       "43               -0.389335               -0.178813               0.429154   \n",
       "44               -0.831734                0.235582               0.066251   \n",
       "45               -0.912200                0.376219               0.237798   \n",
       "46                0.020199               -0.171248              -0.436548   \n",
       "\n",
       "    UCUCACACAGAAAUCGCACCCGU  UUAUAAUACAACCUGAUAAGUG  AUCAUAGAGGAAAAUCCACGU  \\\n",
       "ID                                                                           \n",
       "42                 0.486526                0.398722              -2.970827   \n",
       "43                -0.233127                0.574876               0.509267   \n",
       "44                -1.253489               -0.449394               0.449700   \n",
       "45                 0.243387               -0.135334               1.087622   \n",
       "46                 0.055261               -1.600977              -2.888973   \n",
       "\n",
       "    UCUUGGAGUAGGUCAUUGGGUGG  cancer  stage  \n",
       "ID                                          \n",
       "42                 1.462483   False      0  \n",
       "43                 1.104181   False      0  \n",
       "44                -0.524500   False      0  \n",
       "45                 0.368881   False      0  \n",
       "46                -1.175192   False      0  \n",
       "\n",
       "[5 rows x 31 columns]"
      ]
     },
     "execution_count": 70,
     "metadata": {},
     "output_type": "execute_result"
    }
   ],
   "source": [
    "adj_norm_log_table.columns = sequences\n",
    "#adj_norm_log_table *= -1\n",
    "adj_norm_log_table[\"cancer\"] = sick\n",
    "adj_norm_log_table[\"stage\"] = data[\"STAGE\"].apply(lambda x: str(x).count(\"I\") + 3*str(x).count(\"IV\"))\n",
    "adj_norm_log_table.head()"
   ]
  },
  {
   "cell_type": "code",
   "execution_count": 71,
   "id": "9f1dd24c-1c65-4dad-be56-ae9173af5abb",
   "metadata": {},
   "outputs": [],
   "source": [
    "#adj_norm_log_table.to_csv(\"../TransformedData/Bianchi2011_adjusted.csv\", index=False)"
   ]
  },
  {
   "cell_type": "code",
   "execution_count": 72,
   "id": "6be8082f-d9cf-4dd2-aded-b93fecdfac38",
   "metadata": {},
   "outputs": [],
   "source": [
    "mask = np.array([m in [\"Lung Tumor\", \"Normal\"] for m in data[\"CLASS\"]])\n",
    "clean_adj_norm_log_table = adj_norm_log_table.loc[mask]"
   ]
  },
  {
   "cell_type": "code",
   "execution_count": 73,
   "id": "9bacbd87-80dd-4105-ae31-32d02d53fc5a",
   "metadata": {},
   "outputs": [],
   "source": [
    "clean_adj_norm_log_table.to_csv(\"../TransformedData/Bianchi2011_staged.csv\", index=False)"
   ]
  },
  {
   "cell_type": "code",
   "execution_count": null,
   "id": "1d11c0cb-20a8-4f98-9dc9-c79532c5849c",
   "metadata": {},
   "outputs": [],
   "source": []
  }
 ],
 "metadata": {
  "kernelspec": {
   "display_name": "Python 3 (ipykernel)",
   "language": "python",
   "name": "python3"
  },
  "language_info": {
   "codemirror_mode": {
    "name": "ipython",
    "version": 3
   },
   "file_extension": ".py",
   "mimetype": "text/x-python",
   "name": "python",
   "nbconvert_exporter": "python",
   "pygments_lexer": "ipython3",
   "version": "3.10.1"
  }
 },
 "nbformat": 4,
 "nbformat_minor": 5
}
