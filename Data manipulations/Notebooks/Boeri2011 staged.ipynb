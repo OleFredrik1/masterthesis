{
 "cells": [
  {
   "cell_type": "code",
   "execution_count": 1,
   "metadata": {
    "tags": []
   },
   "outputs": [],
   "source": [
    "%matplotlib inline\n",
    "import GEOparse\n",
    "import matplotlib.pyplot as plt\n",
    "import pandas as pd\n",
    "import numpy as np\n",
    "from sklearn import decomposition\n",
    "from sklearn.feature_selection import f_classif\n",
    "from sklearn.linear_model import LinearRegression, LogisticRegression\n",
    "from sklearn.metrics import explained_variance_score, plot_roc_curve\n",
    "import statsmodels.api as sm\n",
    "from scipy.stats import ttest_ind\n",
    "from xgboost import XGBClassifier\n",
    "from sklearn.model_selection import train_test_split\n",
    "from sklego.linear_model import LowessRegression"
   ]
  },
  {
   "cell_type": "markdown",
   "metadata": {},
   "source": [
    "### Reading in from external source"
   ]
  },
  {
   "cell_type": "code",
   "execution_count": 2,
   "metadata": {},
   "outputs": [
    {
     "data": {
      "text/html": [
       "<div>\n",
       "<style scoped>\n",
       "    .dataframe tbody tr th:only-of-type {\n",
       "        vertical-align: middle;\n",
       "    }\n",
       "\n",
       "    .dataframe tbody tr th {\n",
       "        vertical-align: top;\n",
       "    }\n",
       "\n",
       "    .dataframe thead th {\n",
       "        text-align: right;\n",
       "    }\n",
       "</style>\n",
       "<table border=\"1\" class=\"dataframe\">\n",
       "  <thead>\n",
       "    <tr style=\"text-align: right;\">\n",
       "      <th></th>\n",
       "      <th>Detector</th>\n",
       "      <th>337 sur</th>\n",
       "      <th>339 sur</th>\n",
       "      <th>342 sur</th>\n",
       "      <th>346 sur</th>\n",
       "      <th>348 sur</th>\n",
       "      <th>350 sur</th>\n",
       "      <th>371 sur</th>\n",
       "      <th>373 sur</th>\n",
       "      <th>409 sur</th>\n",
       "      <th>...</th>\n",
       "      <th>371 2  prel</th>\n",
       "      <th>373 bl</th>\n",
       "      <th>409 2 prel</th>\n",
       "      <th>339 bl</th>\n",
       "      <th>F1</th>\n",
       "      <th>M1</th>\n",
       "      <th>M2</th>\n",
       "      <th>M2 bis</th>\n",
       "      <th>M3</th>\n",
       "      <th>M5</th>\n",
       "    </tr>\n",
       "  </thead>\n",
       "  <tbody>\n",
       "    <tr>\n",
       "      <th>0</th>\n",
       "      <td>ath-miR159a</td>\n",
       "      <td>NaN</td>\n",
       "      <td>NaN</td>\n",
       "      <td>NaN</td>\n",
       "      <td>NaN</td>\n",
       "      <td>NaN</td>\n",
       "      <td>NaN</td>\n",
       "      <td>NaN</td>\n",
       "      <td>NaN</td>\n",
       "      <td>NaN</td>\n",
       "      <td>...</td>\n",
       "      <td>NaN</td>\n",
       "      <td>35.861534</td>\n",
       "      <td>NaN</td>\n",
       "      <td>NaN</td>\n",
       "      <td>NaN</td>\n",
       "      <td>NaN</td>\n",
       "      <td>35.271656</td>\n",
       "      <td>NaN</td>\n",
       "      <td>NaN</td>\n",
       "      <td>NaN</td>\n",
       "    </tr>\n",
       "    <tr>\n",
       "      <th>1</th>\n",
       "      <td>hsa-miR-155</td>\n",
       "      <td>33.203365</td>\n",
       "      <td>31.584763</td>\n",
       "      <td>31.421170</td>\n",
       "      <td>33.572320</td>\n",
       "      <td>31.047272</td>\n",
       "      <td>33.465480</td>\n",
       "      <td>32.770187</td>\n",
       "      <td>34.094116</td>\n",
       "      <td>30.231834</td>\n",
       "      <td>...</td>\n",
       "      <td>30.452183</td>\n",
       "      <td>31.242977</td>\n",
       "      <td>30.483734</td>\n",
       "      <td>32.217457</td>\n",
       "      <td>32.245216</td>\n",
       "      <td>30.821905</td>\n",
       "      <td>32.651768</td>\n",
       "      <td>33.220245</td>\n",
       "      <td>31.659473</td>\n",
       "      <td>31.679094</td>\n",
       "    </tr>\n",
       "    <tr>\n",
       "      <th>2</th>\n",
       "      <td>hsa-let-7a</td>\n",
       "      <td>NaN</td>\n",
       "      <td>NaN</td>\n",
       "      <td>NaN</td>\n",
       "      <td>NaN</td>\n",
       "      <td>NaN</td>\n",
       "      <td>NaN</td>\n",
       "      <td>NaN</td>\n",
       "      <td>NaN</td>\n",
       "      <td>37.170340</td>\n",
       "      <td>...</td>\n",
       "      <td>NaN</td>\n",
       "      <td>35.199043</td>\n",
       "      <td>NaN</td>\n",
       "      <td>NaN</td>\n",
       "      <td>NaN</td>\n",
       "      <td>NaN</td>\n",
       "      <td>NaN</td>\n",
       "      <td>NaN</td>\n",
       "      <td>NaN</td>\n",
       "      <td>NaN</td>\n",
       "    </tr>\n",
       "    <tr>\n",
       "      <th>3</th>\n",
       "      <td>hsa-let-7b</td>\n",
       "      <td>32.942540</td>\n",
       "      <td>31.247986</td>\n",
       "      <td>27.295233</td>\n",
       "      <td>29.752192</td>\n",
       "      <td>27.563130</td>\n",
       "      <td>30.985458</td>\n",
       "      <td>28.498089</td>\n",
       "      <td>28.940802</td>\n",
       "      <td>26.402890</td>\n",
       "      <td>...</td>\n",
       "      <td>28.862015</td>\n",
       "      <td>27.727740</td>\n",
       "      <td>28.617567</td>\n",
       "      <td>29.550318</td>\n",
       "      <td>29.215017</td>\n",
       "      <td>28.238232</td>\n",
       "      <td>28.948671</td>\n",
       "      <td>28.808065</td>\n",
       "      <td>28.984282</td>\n",
       "      <td>29.992250</td>\n",
       "    </tr>\n",
       "    <tr>\n",
       "      <th>4</th>\n",
       "      <td>hsa-let-7c</td>\n",
       "      <td>NaN</td>\n",
       "      <td>34.390118</td>\n",
       "      <td>31.883574</td>\n",
       "      <td>NaN</td>\n",
       "      <td>NaN</td>\n",
       "      <td>32.622950</td>\n",
       "      <td>32.562960</td>\n",
       "      <td>NaN</td>\n",
       "      <td>31.155499</td>\n",
       "      <td>...</td>\n",
       "      <td>31.980860</td>\n",
       "      <td>32.371270</td>\n",
       "      <td>31.983383</td>\n",
       "      <td>32.012190</td>\n",
       "      <td>34.296856</td>\n",
       "      <td>32.522583</td>\n",
       "      <td>NaN</td>\n",
       "      <td>34.781456</td>\n",
       "      <td>NaN</td>\n",
       "      <td>32.557790</td>\n",
       "    </tr>\n",
       "  </tbody>\n",
       "</table>\n",
       "<p>5 rows × 48 columns</p>\n",
       "</div>"
      ],
      "text/plain": [
       "      Detector    337 sur    339 sur    342 sur    346 sur    348 sur  \\\n",
       "0  ath-miR159a        NaN        NaN        NaN        NaN        NaN   \n",
       "1  hsa-miR-155  33.203365  31.584763  31.421170  33.572320  31.047272   \n",
       "2   hsa-let-7a        NaN        NaN        NaN        NaN        NaN   \n",
       "3   hsa-let-7b  32.942540  31.247986  27.295233  29.752192  27.563130   \n",
       "4   hsa-let-7c        NaN  34.390118  31.883574        NaN        NaN   \n",
       "\n",
       "     350 sur    371 sur    373 sur    409 sur  ...  371 2  prel     373 bl  \\\n",
       "0        NaN        NaN        NaN        NaN  ...          NaN  35.861534   \n",
       "1  33.465480  32.770187  34.094116  30.231834  ...    30.452183  31.242977   \n",
       "2        NaN        NaN        NaN  37.170340  ...          NaN  35.199043   \n",
       "3  30.985458  28.498089  28.940802  26.402890  ...    28.862015  27.727740   \n",
       "4  32.622950  32.562960        NaN  31.155499  ...    31.980860  32.371270   \n",
       "\n",
       "   409 2 prel     339 bl         F1         M1         M2     M2 bis  \\\n",
       "0         NaN        NaN        NaN        NaN  35.271656        NaN   \n",
       "1   30.483734  32.217457  32.245216  30.821905  32.651768  33.220245   \n",
       "2         NaN        NaN        NaN        NaN        NaN        NaN   \n",
       "3   28.617567  29.550318  29.215017  28.238232  28.948671  28.808065   \n",
       "4   31.983383  32.012190  34.296856  32.522583        NaN  34.781456   \n",
       "\n",
       "          M3         M5  \n",
       "0        NaN        NaN  \n",
       "1  31.659473  31.679094  \n",
       "2        NaN        NaN  \n",
       "3  28.984282  29.992250  \n",
       "4        NaN  32.557790  \n",
       "\n",
       "[5 rows x 48 columns]"
      ]
     },
     "execution_count": 2,
     "metadata": {},
     "output_type": "execute_result"
    }
   ],
   "source": [
    "data = pd.read_csv(\"../Dataset/Boeri2011/data.csv\", na_values=[\"Undetermined\"])\n",
    "metadata = pd.read_csv(\"../Dataset/Boeri2011/metadata.csv\", index_col=0)\n",
    "data.head()"
   ]
  },
  {
   "cell_type": "code",
   "execution_count": 3,
   "metadata": {},
   "outputs": [
    {
     "data": {
      "text/html": [
       "<div>\n",
       "<style scoped>\n",
       "    .dataframe tbody tr th:only-of-type {\n",
       "        vertical-align: middle;\n",
       "    }\n",
       "\n",
       "    .dataframe tbody tr th {\n",
       "        vertical-align: top;\n",
       "    }\n",
       "\n",
       "    .dataframe thead th {\n",
       "        text-align: right;\n",
       "    }\n",
       "</style>\n",
       "<table border=\"1\" class=\"dataframe\">\n",
       "  <thead>\n",
       "    <tr style=\"text-align: right;\">\n",
       "      <th></th>\n",
       "      <th>Time</th>\n",
       "      <th>Stage</th>\n",
       "      <th>Sex</th>\n",
       "      <th>Age</th>\n",
       "      <th>Histology</th>\n",
       "      <th>Pack-Year</th>\n",
       "      <th>Sample collection</th>\n",
       "      <th>Diagnosis</th>\n",
       "      <th>Death or last FU</th>\n",
       "      <th>Status</th>\n",
       "    </tr>\n",
       "    <tr>\n",
       "      <th>Detector</th>\n",
       "      <th></th>\n",
       "      <th></th>\n",
       "      <th></th>\n",
       "      <th></th>\n",
       "      <th></th>\n",
       "      <th></th>\n",
       "      <th></th>\n",
       "      <th></th>\n",
       "      <th></th>\n",
       "      <th></th>\n",
       "    </tr>\n",
       "  </thead>\n",
       "  <tbody>\n",
       "    <tr>\n",
       "      <th>M1</th>\n",
       "      <td>NaN</td>\n",
       "      <td>NaN</td>\n",
       "      <td>NaN</td>\n",
       "      <td>NaN</td>\n",
       "      <td>NaN</td>\n",
       "      <td>NaN</td>\n",
       "      <td>NaN</td>\n",
       "      <td>NaN</td>\n",
       "      <td>NaN</td>\n",
       "      <td>Ctrl</td>\n",
       "    </tr>\n",
       "    <tr>\n",
       "      <th>M2</th>\n",
       "      <td>NaN</td>\n",
       "      <td>NaN</td>\n",
       "      <td>NaN</td>\n",
       "      <td>NaN</td>\n",
       "      <td>NaN</td>\n",
       "      <td>NaN</td>\n",
       "      <td>NaN</td>\n",
       "      <td>NaN</td>\n",
       "      <td>NaN</td>\n",
       "      <td>Ctrl</td>\n",
       "    </tr>\n",
       "    <tr>\n",
       "      <th>M2 bis</th>\n",
       "      <td>NaN</td>\n",
       "      <td>NaN</td>\n",
       "      <td>NaN</td>\n",
       "      <td>NaN</td>\n",
       "      <td>NaN</td>\n",
       "      <td>NaN</td>\n",
       "      <td>NaN</td>\n",
       "      <td>NaN</td>\n",
       "      <td>NaN</td>\n",
       "      <td>Ctrl</td>\n",
       "    </tr>\n",
       "    <tr>\n",
       "      <th>M3</th>\n",
       "      <td>NaN</td>\n",
       "      <td>NaN</td>\n",
       "      <td>NaN</td>\n",
       "      <td>NaN</td>\n",
       "      <td>NaN</td>\n",
       "      <td>NaN</td>\n",
       "      <td>NaN</td>\n",
       "      <td>NaN</td>\n",
       "      <td>NaN</td>\n",
       "      <td>Ctrl</td>\n",
       "    </tr>\n",
       "    <tr>\n",
       "      <th>M5</th>\n",
       "      <td>NaN</td>\n",
       "      <td>NaN</td>\n",
       "      <td>NaN</td>\n",
       "      <td>NaN</td>\n",
       "      <td>NaN</td>\n",
       "      <td>NaN</td>\n",
       "      <td>NaN</td>\n",
       "      <td>NaN</td>\n",
       "      <td>NaN</td>\n",
       "      <td>Ctrl</td>\n",
       "    </tr>\n",
       "  </tbody>\n",
       "</table>\n",
       "</div>"
      ],
      "text/plain": [
       "         Time Stage  Sex  Age Histology  Pack-Year Sample collection  \\\n",
       "Detector                                                               \n",
       "M1        NaN   NaN  NaN  NaN       NaN        NaN               NaN   \n",
       "M2        NaN   NaN  NaN  NaN       NaN        NaN               NaN   \n",
       "M2 bis    NaN   NaN  NaN  NaN       NaN        NaN               NaN   \n",
       "M3        NaN   NaN  NaN  NaN       NaN        NaN               NaN   \n",
       "M5        NaN   NaN  NaN  NaN       NaN        NaN               NaN   \n",
       "\n",
       "         Diagnosis Death or last FU Status  \n",
       "Detector                                    \n",
       "M1             NaN              NaN   Ctrl  \n",
       "M2             NaN              NaN   Ctrl  \n",
       "M2 bis         NaN              NaN   Ctrl  \n",
       "M3             NaN              NaN   Ctrl  \n",
       "M5             NaN              NaN   Ctrl  "
      ]
     },
     "execution_count": 3,
     "metadata": {},
     "output_type": "execute_result"
    }
   ],
   "source": [
    "metadata.tail()"
   ]
  },
  {
   "cell_type": "code",
   "execution_count": 4,
   "metadata": {},
   "outputs": [
    {
     "data": {
      "text/plain": [
       "0    ath-miR159a\n",
       "1    hsa-miR-155\n",
       "2     hsa-let-7a\n",
       "3     hsa-let-7b\n",
       "4     hsa-let-7c\n",
       "5     hsa-let-7d\n",
       "6     hsa-let-7e\n",
       "7     hsa-let-7f\n",
       "8     hsa-let-7g\n",
       "9      hsa-miR-1\n",
       "Name: Detector, dtype: object"
      ]
     },
     "execution_count": 4,
     "metadata": {},
     "output_type": "execute_result"
    }
   ],
   "source": [
    "table = data.transpose()\n",
    "mirnas = data.iloc[:,0]\n",
    "mirnas[:10]"
   ]
  },
  {
   "cell_type": "code",
   "execution_count": 5,
   "metadata": {},
   "outputs": [],
   "source": [
    "cases = []\n",
    "controls = []\n",
    "for ind in table.index:\n",
    "    if ind.endswith(\"sur\"):\n",
    "        cases.append(ind)\n",
    "    elif ind[0] in \"MF\":\n",
    "        controls.append(ind)\n",
    "cases = np.array(cases)\n",
    "controls = np.array(controls)"
   ]
  },
  {
   "cell_type": "code",
   "execution_count": 6,
   "metadata": {},
   "outputs": [
    {
     "data": {
      "text/plain": [
       "(19, 6)"
      ]
     },
     "execution_count": 6,
     "metadata": {},
     "output_type": "execute_result"
    }
   ],
   "source": [
    "len(cases), len(controls)"
   ]
  },
  {
   "cell_type": "code",
   "execution_count": 7,
   "metadata": {},
   "outputs": [
    {
     "data": {
      "text/html": [
       "<div>\n",
       "<style scoped>\n",
       "    .dataframe tbody tr th:only-of-type {\n",
       "        vertical-align: middle;\n",
       "    }\n",
       "\n",
       "    .dataframe tbody tr th {\n",
       "        vertical-align: top;\n",
       "    }\n",
       "\n",
       "    .dataframe thead th {\n",
       "        text-align: right;\n",
       "    }\n",
       "</style>\n",
       "<table border=\"1\" class=\"dataframe\">\n",
       "  <thead>\n",
       "    <tr style=\"text-align: right;\">\n",
       "      <th></th>\n",
       "      <th>Time</th>\n",
       "      <th>Stage</th>\n",
       "      <th>Sex</th>\n",
       "      <th>Age</th>\n",
       "      <th>Histology</th>\n",
       "      <th>Pack-Year</th>\n",
       "      <th>Sample collection</th>\n",
       "      <th>Diagnosis</th>\n",
       "      <th>Death or last FU</th>\n",
       "      <th>Status</th>\n",
       "    </tr>\n",
       "  </thead>\n",
       "  <tbody>\n",
       "    <tr>\n",
       "      <th>337 sur</th>\n",
       "      <td>Diagnosis</td>\n",
       "      <td>1a</td>\n",
       "      <td>m</td>\n",
       "      <td>69.0</td>\n",
       "      <td>adeno</td>\n",
       "      <td>100.0</td>\n",
       "      <td>11.09.2001</td>\n",
       "      <td>11.09.2001</td>\n",
       "      <td>14/10/2006</td>\n",
       "      <td>Alive</td>\n",
       "    </tr>\n",
       "    <tr>\n",
       "      <th>339 sur</th>\n",
       "      <td>Diagnosis</td>\n",
       "      <td>1b</td>\n",
       "      <td>f</td>\n",
       "      <td>54.0</td>\n",
       "      <td>squamo</td>\n",
       "      <td>30.0</td>\n",
       "      <td>02.10.2002</td>\n",
       "      <td>02.10.2002</td>\n",
       "      <td>28/05/2008</td>\n",
       "      <td>Alive</td>\n",
       "    </tr>\n",
       "    <tr>\n",
       "      <th>342 sur</th>\n",
       "      <td>Diagnosis</td>\n",
       "      <td>1b</td>\n",
       "      <td>m</td>\n",
       "      <td>58.0</td>\n",
       "      <td>adeno</td>\n",
       "      <td>40.0</td>\n",
       "      <td>11.01.2002</td>\n",
       "      <td>11.01.2002</td>\n",
       "      <td>27/05/2008</td>\n",
       "      <td>Alive</td>\n",
       "    </tr>\n",
       "    <tr>\n",
       "      <th>346 sur</th>\n",
       "      <td>Diagnosis</td>\n",
       "      <td>1a</td>\n",
       "      <td>m</td>\n",
       "      <td>54.0</td>\n",
       "      <td>adeno</td>\n",
       "      <td>30.0</td>\n",
       "      <td>13/02/2002</td>\n",
       "      <td>13/02/2002</td>\n",
       "      <td>28/05/2008</td>\n",
       "      <td>Alive</td>\n",
       "    </tr>\n",
       "    <tr>\n",
       "      <th>348 sur</th>\n",
       "      <td>Diagnosis</td>\n",
       "      <td>1a</td>\n",
       "      <td>m</td>\n",
       "      <td>60.0</td>\n",
       "      <td>squamo</td>\n",
       "      <td>40.0</td>\n",
       "      <td>03.04.2002</td>\n",
       "      <td>03.04.2002</td>\n",
       "      <td>01.12.2008</td>\n",
       "      <td>Alive</td>\n",
       "    </tr>\n",
       "  </tbody>\n",
       "</table>\n",
       "</div>"
      ],
      "text/plain": [
       "              Time Stage Sex   Age Histology  Pack-Year Sample collection  \\\n",
       "337 sur  Diagnosis    1a   m  69.0     adeno      100.0        11.09.2001   \n",
       "339 sur  Diagnosis    1b   f  54.0    squamo       30.0        02.10.2002   \n",
       "342 sur  Diagnosis    1b   m  58.0     adeno       40.0        11.01.2002   \n",
       "346 sur  Diagnosis    1a   m  54.0     adeno       30.0        13/02/2002   \n",
       "348 sur  Diagnosis    1a   m  60.0    squamo       40.0        03.04.2002   \n",
       "\n",
       "          Diagnosis Death or last FU Status  \n",
       "337 sur  11.09.2001       14/10/2006  Alive  \n",
       "339 sur  02.10.2002       28/05/2008  Alive  \n",
       "342 sur  11.01.2002       27/05/2008  Alive  \n",
       "346 sur  13/02/2002       28/05/2008  Alive  \n",
       "348 sur  03.04.2002       01.12.2008  Alive  "
      ]
     },
     "execution_count": 7,
     "metadata": {},
     "output_type": "execute_result"
    }
   ],
   "source": [
    "metadata = pd.concat([metadata.loc[pd.Index(cases)], metadata.loc[pd.Index(controls)]])\n",
    "metadata.head()"
   ]
  },
  {
   "cell_type": "code",
   "execution_count": 8,
   "metadata": {},
   "outputs": [
    {
     "data": {
      "text/html": [
       "<div>\n",
       "<style scoped>\n",
       "    .dataframe tbody tr th:only-of-type {\n",
       "        vertical-align: middle;\n",
       "    }\n",
       "\n",
       "    .dataframe tbody tr th {\n",
       "        vertical-align: top;\n",
       "    }\n",
       "\n",
       "    .dataframe thead th {\n",
       "        text-align: right;\n",
       "    }\n",
       "</style>\n",
       "<table border=\"1\" class=\"dataframe\">\n",
       "  <thead>\n",
       "    <tr style=\"text-align: right;\">\n",
       "      <th></th>\n",
       "      <th>0</th>\n",
       "      <th>1</th>\n",
       "      <th>2</th>\n",
       "      <th>3</th>\n",
       "      <th>4</th>\n",
       "      <th>5</th>\n",
       "      <th>6</th>\n",
       "      <th>7</th>\n",
       "      <th>8</th>\n",
       "      <th>9</th>\n",
       "      <th>...</th>\n",
       "      <th>374</th>\n",
       "      <th>375</th>\n",
       "      <th>376</th>\n",
       "      <th>377</th>\n",
       "      <th>378</th>\n",
       "      <th>379</th>\n",
       "      <th>380</th>\n",
       "      <th>381</th>\n",
       "      <th>382</th>\n",
       "      <th>383</th>\n",
       "    </tr>\n",
       "  </thead>\n",
       "  <tbody>\n",
       "    <tr>\n",
       "      <th>0</th>\n",
       "      <td>NaN</td>\n",
       "      <td>33.203365</td>\n",
       "      <td>NaN</td>\n",
       "      <td>32.942540</td>\n",
       "      <td>NaN</td>\n",
       "      <td>33.385296</td>\n",
       "      <td>31.410925</td>\n",
       "      <td>NaN</td>\n",
       "      <td>34.642895</td>\n",
       "      <td>NaN</td>\n",
       "      <td>...</td>\n",
       "      <td>NaN</td>\n",
       "      <td>NaN</td>\n",
       "      <td>34.977580</td>\n",
       "      <td>38.553680</td>\n",
       "      <td>35.626310</td>\n",
       "      <td>33.988240</td>\n",
       "      <td>33.756084</td>\n",
       "      <td>33.682648</td>\n",
       "      <td>NaN</td>\n",
       "      <td>34.842860</td>\n",
       "    </tr>\n",
       "    <tr>\n",
       "      <th>1</th>\n",
       "      <td>NaN</td>\n",
       "      <td>31.584763</td>\n",
       "      <td>NaN</td>\n",
       "      <td>31.247986</td>\n",
       "      <td>34.390118</td>\n",
       "      <td>31.573914</td>\n",
       "      <td>30.159042</td>\n",
       "      <td>NaN</td>\n",
       "      <td>31.167364</td>\n",
       "      <td>32.457570</td>\n",
       "      <td>...</td>\n",
       "      <td>NaN</td>\n",
       "      <td>NaN</td>\n",
       "      <td>NaN</td>\n",
       "      <td>34.950283</td>\n",
       "      <td>30.749153</td>\n",
       "      <td>30.657600</td>\n",
       "      <td>30.000550</td>\n",
       "      <td>30.101072</td>\n",
       "      <td>NaN</td>\n",
       "      <td>NaN</td>\n",
       "    </tr>\n",
       "    <tr>\n",
       "      <th>2</th>\n",
       "      <td>NaN</td>\n",
       "      <td>31.421170</td>\n",
       "      <td>NaN</td>\n",
       "      <td>27.295233</td>\n",
       "      <td>31.883574</td>\n",
       "      <td>29.407010</td>\n",
       "      <td>29.235598</td>\n",
       "      <td>NaN</td>\n",
       "      <td>28.067333</td>\n",
       "      <td>30.976131</td>\n",
       "      <td>...</td>\n",
       "      <td>NaN</td>\n",
       "      <td>NaN</td>\n",
       "      <td>NaN</td>\n",
       "      <td>34.491684</td>\n",
       "      <td>30.118834</td>\n",
       "      <td>31.026510</td>\n",
       "      <td>30.462840</td>\n",
       "      <td>30.286839</td>\n",
       "      <td>NaN</td>\n",
       "      <td>34.983463</td>\n",
       "    </tr>\n",
       "    <tr>\n",
       "      <th>3</th>\n",
       "      <td>NaN</td>\n",
       "      <td>33.572320</td>\n",
       "      <td>NaN</td>\n",
       "      <td>29.752192</td>\n",
       "      <td>NaN</td>\n",
       "      <td>30.862568</td>\n",
       "      <td>28.886066</td>\n",
       "      <td>NaN</td>\n",
       "      <td>31.894330</td>\n",
       "      <td>32.976448</td>\n",
       "      <td>...</td>\n",
       "      <td>NaN</td>\n",
       "      <td>NaN</td>\n",
       "      <td>31.063673</td>\n",
       "      <td>36.091187</td>\n",
       "      <td>30.725380</td>\n",
       "      <td>30.819048</td>\n",
       "      <td>31.035313</td>\n",
       "      <td>30.867853</td>\n",
       "      <td>NaN</td>\n",
       "      <td>NaN</td>\n",
       "    </tr>\n",
       "    <tr>\n",
       "      <th>4</th>\n",
       "      <td>NaN</td>\n",
       "      <td>31.047272</td>\n",
       "      <td>NaN</td>\n",
       "      <td>27.563130</td>\n",
       "      <td>NaN</td>\n",
       "      <td>30.548157</td>\n",
       "      <td>28.462091</td>\n",
       "      <td>NaN</td>\n",
       "      <td>33.297090</td>\n",
       "      <td>32.748993</td>\n",
       "      <td>...</td>\n",
       "      <td>NaN</td>\n",
       "      <td>NaN</td>\n",
       "      <td>37.313343</td>\n",
       "      <td>34.976162</td>\n",
       "      <td>31.603668</td>\n",
       "      <td>31.662304</td>\n",
       "      <td>31.418295</td>\n",
       "      <td>31.018944</td>\n",
       "      <td>NaN</td>\n",
       "      <td>NaN</td>\n",
       "    </tr>\n",
       "  </tbody>\n",
       "</table>\n",
       "<p>5 rows × 384 columns</p>\n",
       "</div>"
      ],
      "text/plain": [
       "   0          1    2          3          4          5          6    7    \\\n",
       "0  NaN  33.203365  NaN  32.942540        NaN  33.385296  31.410925  NaN   \n",
       "1  NaN  31.584763  NaN  31.247986  34.390118  31.573914  30.159042  NaN   \n",
       "2  NaN  31.421170  NaN  27.295233  31.883574  29.407010  29.235598  NaN   \n",
       "3  NaN  33.572320  NaN  29.752192        NaN  30.862568  28.886066  NaN   \n",
       "4  NaN  31.047272  NaN  27.563130        NaN  30.548157  28.462091  NaN   \n",
       "\n",
       "         8          9    ...  374  375        376        377        378  \\\n",
       "0  34.642895        NaN  ...  NaN  NaN  34.977580  38.553680  35.626310   \n",
       "1  31.167364  32.457570  ...  NaN  NaN        NaN  34.950283  30.749153   \n",
       "2  28.067333  30.976131  ...  NaN  NaN        NaN  34.491684  30.118834   \n",
       "3  31.894330  32.976448  ...  NaN  NaN  31.063673  36.091187  30.725380   \n",
       "4  33.297090  32.748993  ...  NaN  NaN  37.313343  34.976162  31.603668   \n",
       "\n",
       "         379        380        381  382        383  \n",
       "0  33.988240  33.756084  33.682648  NaN  34.842860  \n",
       "1  30.657600  30.000550  30.101072  NaN        NaN  \n",
       "2  31.026510  30.462840  30.286839  NaN  34.983463  \n",
       "3  30.819048  31.035313  30.867853  NaN        NaN  \n",
       "4  31.662304  31.418295  31.018944  NaN        NaN  \n",
       "\n",
       "[5 rows x 384 columns]"
      ]
     },
     "execution_count": 8,
     "metadata": {},
     "output_type": "execute_result"
    }
   ],
   "source": [
    "table = pd.concat([table.loc[pd.Index(cases)], table.loc[pd.Index(controls)]])\n",
    "table = table.apply(pd.to_numeric)\n",
    "table.index = list(range(len(table)))\n",
    "table.head()"
   ]
  },
  {
   "cell_type": "code",
   "execution_count": 9,
   "metadata": {},
   "outputs": [],
   "source": [
    "controls = np.array(len(cases)*[0] + len(controls)*[1])"
   ]
  },
  {
   "cell_type": "markdown",
   "metadata": {},
   "source": [
    "### Drop NAN"
   ]
  },
  {
   "cell_type": "code",
   "execution_count": 10,
   "metadata": {},
   "outputs": [
    {
     "data": {
      "text/plain": [
       "array([ 0,  0,  0,  0,  0,  0,  0,  0,  0,  0,  0,  0,  0,  0,  0,  0,  0,\n",
       "        0,  0,  0,  0,  0,  0,  0,  0,  0,  0,  0,  0,  0,  0,  0,  0,  0,\n",
       "        0,  0,  0,  0,  0,  0,  0,  0,  0,  0,  0,  0,  0,  0,  0,  0,  0,\n",
       "        0,  0,  0,  0,  0,  0,  0,  0,  0,  0,  0,  0,  0,  0,  0,  0,  0,\n",
       "        0,  0,  0,  0,  0,  0,  0,  0,  0,  0,  1,  1,  1,  1,  1,  1,  1,\n",
       "        1,  1,  2,  2,  2,  2,  2,  2,  2,  2,  2,  2,  2,  2,  2,  2,  3,\n",
       "        3,  3,  3,  3,  3,  3,  4,  4,  4,  4,  5,  5,  6,  6,  6,  6,  7,\n",
       "        7,  7,  7,  8,  8,  8,  8,  8,  8,  9,  9,  9,  9,  9,  9,  9, 10,\n",
       "       10, 11, 11, 11, 11, 11, 12, 12, 12, 12, 12, 12, 12, 12, 12, 13, 13,\n",
       "       13, 13, 13, 14, 14, 14, 14, 14, 14, 14, 15, 15, 15, 15, 15, 15, 15,\n",
       "       16, 16, 16, 16, 16, 16, 16, 17, 17, 17, 17, 18, 18, 18, 18, 18, 18,\n",
       "       18, 18, 18, 19, 19, 19, 19, 19, 19, 19, 19, 19, 19, 20, 20, 20, 20,\n",
       "       20, 20, 20, 20, 20, 20, 21, 21, 21, 21, 21, 21, 21, 21, 21, 21, 21,\n",
       "       21, 22, 22, 22, 22, 22, 22, 22, 22, 22, 22, 22, 22, 22, 23, 23, 23,\n",
       "       23, 23, 23, 23, 23, 23, 23, 23, 23, 23, 23, 23, 23, 23, 23, 24, 24,\n",
       "       24, 24, 24, 24, 24, 24, 24, 24, 24, 24, 24, 24, 24, 24, 24, 24, 24,\n",
       "       24, 24, 24, 24, 24, 24, 24, 24, 24, 24, 24, 24, 24, 24, 25, 25, 25,\n",
       "       25, 25, 25, 25, 25, 25, 25, 25, 25, 25, 25, 25, 25, 25, 25, 25, 25,\n",
       "       25, 25, 25, 25, 25, 25, 25, 25, 25, 25, 25, 25, 25, 25, 25, 25, 25,\n",
       "       25, 25, 25, 25, 25, 25, 25, 25, 25, 25, 25, 25, 25, 25, 25, 25, 25,\n",
       "       25, 25, 25, 25, 25, 25, 25, 25, 25, 25, 25, 25, 25, 25, 25, 25, 25,\n",
       "       25, 25, 25, 25, 25, 25, 25, 25, 25, 25, 25, 25, 25, 25, 25, 25, 25,\n",
       "       25, 25, 25, 25, 25, 25, 25, 25, 25, 25], dtype=int64)"
      ]
     },
     "execution_count": 10,
     "metadata": {},
     "output_type": "execute_result"
    }
   ],
   "source": [
    "np.sort(table.isna().sum())"
   ]
  },
  {
   "cell_type": "code",
   "execution_count": 11,
   "metadata": {},
   "outputs": [],
   "source": [
    "mask = (table.isna().sum() < 10).to_numpy()\n",
    "mirnas = mirnas[mask]\n",
    "table = table.loc[:, mask]"
   ]
  },
  {
   "cell_type": "code",
   "execution_count": 12,
   "metadata": {},
   "outputs": [],
   "source": [
    "sick = 1 - controls"
   ]
  },
  {
   "cell_type": "code",
   "execution_count": 13,
   "metadata": {},
   "outputs": [],
   "source": [
    "table = table.fillna(table.max().max())"
   ]
  },
  {
   "cell_type": "markdown",
   "metadata": {},
   "source": [
    "### T-test"
   ]
  },
  {
   "cell_type": "code",
   "execution_count": 14,
   "metadata": {},
   "outputs": [],
   "source": [
    "X = table"
   ]
  },
  {
   "cell_type": "code",
   "execution_count": 15,
   "metadata": {},
   "outputs": [
    {
     "data": {
      "text/plain": [
       "Int64Index([  1,   3,   4,   5,   6,   8,   9,  10,  11,  14,\n",
       "            ...\n",
       "            350, 360, 371, 372, 376, 377, 378, 379, 380, 381],\n",
       "           dtype='int64', length=135)"
      ]
     },
     "execution_count": 15,
     "metadata": {},
     "output_type": "execute_result"
    }
   ],
   "source": [
    "X.columns"
   ]
  },
  {
   "cell_type": "code",
   "execution_count": 16,
   "metadata": {},
   "outputs": [],
   "source": [
    "X_healthy, X_cancer = X[controls == 1], X[controls == 0]"
   ]
  },
  {
   "cell_type": "code",
   "execution_count": 17,
   "metadata": {},
   "outputs": [],
   "source": [
    "results = ttest_ind(X_healthy, X_cancer).pvalue"
   ]
  },
  {
   "cell_type": "code",
   "execution_count": 18,
   "metadata": {},
   "outputs": [],
   "source": [
    "lowest, pvalues = np.argsort(results)[:5], np.sort(results)[:5]"
   ]
  },
  {
   "cell_type": "code",
   "execution_count": 19,
   "metadata": {},
   "outputs": [
    {
     "data": {
      "text/plain": [
       "(9           hsa-miR-1\n",
       " 98        hsa-miR-204\n",
       " 153    hsa-miR-323-3p\n",
       " 33       hsa-miR-133a\n",
       " 379            MammU6\n",
       " Name: Detector, dtype: object,\n",
       " array([0.0045362 , 0.01204633, 0.01594273, 0.01891321, 0.02256337]))"
      ]
     },
     "execution_count": 19,
     "metadata": {},
     "output_type": "execute_result"
    }
   ],
   "source": [
    "mirnas.iloc[lowest], pvalues"
   ]
  },
  {
   "cell_type": "markdown",
   "metadata": {},
   "source": [
    "### F-test"
   ]
  },
  {
   "cell_type": "code",
   "execution_count": 20,
   "metadata": {},
   "outputs": [],
   "source": [
    "t3 = table"
   ]
  },
  {
   "cell_type": "code",
   "execution_count": 21,
   "metadata": {},
   "outputs": [],
   "source": [
    "f, p = f_classif(t3, sick)"
   ]
  },
  {
   "cell_type": "code",
   "execution_count": 22,
   "metadata": {},
   "outputs": [
    {
     "data": {
      "text/plain": [
       "0.5188131713642347"
      ]
     },
     "execution_count": 22,
     "metadata": {},
     "output_type": "execute_result"
    }
   ],
   "source": [
    "np.mean(p)"
   ]
  },
  {
   "cell_type": "markdown",
   "metadata": {},
   "source": [
    "### ANOVA"
   ]
  },
  {
   "cell_type": "code",
   "execution_count": 23,
   "metadata": {},
   "outputs": [
    {
     "data": {
      "text/html": [
       "<div>\n",
       "<style scoped>\n",
       "    .dataframe tbody tr th:only-of-type {\n",
       "        vertical-align: middle;\n",
       "    }\n",
       "\n",
       "    .dataframe tbody tr th {\n",
       "        vertical-align: top;\n",
       "    }\n",
       "\n",
       "    .dataframe thead th {\n",
       "        text-align: right;\n",
       "    }\n",
       "</style>\n",
       "<table border=\"1\" class=\"dataframe\">\n",
       "  <thead>\n",
       "    <tr style=\"text-align: right;\">\n",
       "      <th></th>\n",
       "      <th>1</th>\n",
       "      <th>3</th>\n",
       "      <th>4</th>\n",
       "      <th>5</th>\n",
       "      <th>6</th>\n",
       "      <th>8</th>\n",
       "      <th>9</th>\n",
       "      <th>10</th>\n",
       "      <th>11</th>\n",
       "      <th>14</th>\n",
       "      <th>...</th>\n",
       "      <th>350</th>\n",
       "      <th>360</th>\n",
       "      <th>371</th>\n",
       "      <th>372</th>\n",
       "      <th>376</th>\n",
       "      <th>377</th>\n",
       "      <th>378</th>\n",
       "      <th>379</th>\n",
       "      <th>380</th>\n",
       "      <th>381</th>\n",
       "    </tr>\n",
       "  </thead>\n",
       "  <tbody>\n",
       "    <tr>\n",
       "      <th>0</th>\n",
       "      <td>33.203365</td>\n",
       "      <td>32.942540</td>\n",
       "      <td>39.988968</td>\n",
       "      <td>33.385296</td>\n",
       "      <td>31.410925</td>\n",
       "      <td>34.642895</td>\n",
       "      <td>39.988968</td>\n",
       "      <td>31.295800</td>\n",
       "      <td>31.468184</td>\n",
       "      <td>28.771715</td>\n",
       "      <td>...</td>\n",
       "      <td>39.988968</td>\n",
       "      <td>32.266100</td>\n",
       "      <td>25.787080</td>\n",
       "      <td>31.164463</td>\n",
       "      <td>34.977580</td>\n",
       "      <td>38.553680</td>\n",
       "      <td>35.626310</td>\n",
       "      <td>33.988240</td>\n",
       "      <td>33.756084</td>\n",
       "      <td>33.682648</td>\n",
       "    </tr>\n",
       "    <tr>\n",
       "      <th>1</th>\n",
       "      <td>31.584763</td>\n",
       "      <td>31.247986</td>\n",
       "      <td>34.390118</td>\n",
       "      <td>31.573914</td>\n",
       "      <td>30.159042</td>\n",
       "      <td>31.167364</td>\n",
       "      <td>32.457570</td>\n",
       "      <td>39.988968</td>\n",
       "      <td>31.751812</td>\n",
       "      <td>24.553858</td>\n",
       "      <td>...</td>\n",
       "      <td>39.988968</td>\n",
       "      <td>29.345566</td>\n",
       "      <td>25.612013</td>\n",
       "      <td>27.569298</td>\n",
       "      <td>39.988968</td>\n",
       "      <td>34.950283</td>\n",
       "      <td>30.749153</td>\n",
       "      <td>30.657600</td>\n",
       "      <td>30.000550</td>\n",
       "      <td>30.101072</td>\n",
       "    </tr>\n",
       "    <tr>\n",
       "      <th>2</th>\n",
       "      <td>31.421170</td>\n",
       "      <td>27.295233</td>\n",
       "      <td>31.883574</td>\n",
       "      <td>29.407010</td>\n",
       "      <td>29.235598</td>\n",
       "      <td>28.067333</td>\n",
       "      <td>30.976131</td>\n",
       "      <td>39.988968</td>\n",
       "      <td>30.943573</td>\n",
       "      <td>22.803980</td>\n",
       "      <td>...</td>\n",
       "      <td>29.844133</td>\n",
       "      <td>30.228134</td>\n",
       "      <td>24.618128</td>\n",
       "      <td>26.073835</td>\n",
       "      <td>39.988968</td>\n",
       "      <td>34.491684</td>\n",
       "      <td>30.118834</td>\n",
       "      <td>31.026510</td>\n",
       "      <td>30.462840</td>\n",
       "      <td>30.286839</td>\n",
       "    </tr>\n",
       "    <tr>\n",
       "      <th>3</th>\n",
       "      <td>33.572320</td>\n",
       "      <td>29.752192</td>\n",
       "      <td>39.988968</td>\n",
       "      <td>30.862568</td>\n",
       "      <td>28.886066</td>\n",
       "      <td>31.894330</td>\n",
       "      <td>32.976448</td>\n",
       "      <td>31.013940</td>\n",
       "      <td>31.933096</td>\n",
       "      <td>23.771850</td>\n",
       "      <td>...</td>\n",
       "      <td>31.407312</td>\n",
       "      <td>31.985397</td>\n",
       "      <td>24.153742</td>\n",
       "      <td>26.768526</td>\n",
       "      <td>31.063673</td>\n",
       "      <td>36.091187</td>\n",
       "      <td>30.725380</td>\n",
       "      <td>30.819048</td>\n",
       "      <td>31.035313</td>\n",
       "      <td>30.867853</td>\n",
       "    </tr>\n",
       "    <tr>\n",
       "      <th>4</th>\n",
       "      <td>31.047272</td>\n",
       "      <td>27.563130</td>\n",
       "      <td>39.988968</td>\n",
       "      <td>30.548157</td>\n",
       "      <td>28.462091</td>\n",
       "      <td>33.297090</td>\n",
       "      <td>32.748993</td>\n",
       "      <td>39.988968</td>\n",
       "      <td>29.737385</td>\n",
       "      <td>21.975622</td>\n",
       "      <td>...</td>\n",
       "      <td>31.066130</td>\n",
       "      <td>28.248505</td>\n",
       "      <td>23.620598</td>\n",
       "      <td>25.544441</td>\n",
       "      <td>37.313343</td>\n",
       "      <td>34.976162</td>\n",
       "      <td>31.603668</td>\n",
       "      <td>31.662304</td>\n",
       "      <td>31.418295</td>\n",
       "      <td>31.018944</td>\n",
       "    </tr>\n",
       "    <tr>\n",
       "      <th>5</th>\n",
       "      <td>33.465480</td>\n",
       "      <td>30.985458</td>\n",
       "      <td>32.622950</td>\n",
       "      <td>33.220300</td>\n",
       "      <td>29.247787</td>\n",
       "      <td>30.905384</td>\n",
       "      <td>31.982727</td>\n",
       "      <td>39.988968</td>\n",
       "      <td>31.159777</td>\n",
       "      <td>26.147188</td>\n",
       "      <td>...</td>\n",
       "      <td>31.268812</td>\n",
       "      <td>31.329498</td>\n",
       "      <td>26.195158</td>\n",
       "      <td>28.173595</td>\n",
       "      <td>39.988968</td>\n",
       "      <td>34.619114</td>\n",
       "      <td>29.980446</td>\n",
       "      <td>31.592323</td>\n",
       "      <td>31.014832</td>\n",
       "      <td>31.468801</td>\n",
       "    </tr>\n",
       "    <tr>\n",
       "      <th>6</th>\n",
       "      <td>32.770187</td>\n",
       "      <td>28.498089</td>\n",
       "      <td>32.562960</td>\n",
       "      <td>31.503323</td>\n",
       "      <td>29.296658</td>\n",
       "      <td>34.330620</td>\n",
       "      <td>31.778627</td>\n",
       "      <td>31.799553</td>\n",
       "      <td>30.021332</td>\n",
       "      <td>22.831999</td>\n",
       "      <td>...</td>\n",
       "      <td>39.614967</td>\n",
       "      <td>28.640276</td>\n",
       "      <td>22.654768</td>\n",
       "      <td>25.368809</td>\n",
       "      <td>31.240160</td>\n",
       "      <td>35.197086</td>\n",
       "      <td>29.451723</td>\n",
       "      <td>30.334568</td>\n",
       "      <td>29.733654</td>\n",
       "      <td>29.685510</td>\n",
       "    </tr>\n",
       "    <tr>\n",
       "      <th>7</th>\n",
       "      <td>34.094116</td>\n",
       "      <td>28.940802</td>\n",
       "      <td>39.988968</td>\n",
       "      <td>30.842583</td>\n",
       "      <td>28.897360</td>\n",
       "      <td>30.343403</td>\n",
       "      <td>32.644160</td>\n",
       "      <td>34.917670</td>\n",
       "      <td>30.396084</td>\n",
       "      <td>23.095757</td>\n",
       "      <td>...</td>\n",
       "      <td>32.169018</td>\n",
       "      <td>28.642008</td>\n",
       "      <td>23.953531</td>\n",
       "      <td>26.309116</td>\n",
       "      <td>35.608240</td>\n",
       "      <td>32.756012</td>\n",
       "      <td>31.832073</td>\n",
       "      <td>30.956707</td>\n",
       "      <td>30.049444</td>\n",
       "      <td>30.806578</td>\n",
       "    </tr>\n",
       "    <tr>\n",
       "      <th>8</th>\n",
       "      <td>30.231834</td>\n",
       "      <td>26.402890</td>\n",
       "      <td>31.155499</td>\n",
       "      <td>28.607490</td>\n",
       "      <td>27.940006</td>\n",
       "      <td>26.846380</td>\n",
       "      <td>31.344206</td>\n",
       "      <td>33.003784</td>\n",
       "      <td>29.477945</td>\n",
       "      <td>22.540508</td>\n",
       "      <td>...</td>\n",
       "      <td>29.012032</td>\n",
       "      <td>28.786230</td>\n",
       "      <td>22.995474</td>\n",
       "      <td>24.993273</td>\n",
       "      <td>33.000195</td>\n",
       "      <td>31.332754</td>\n",
       "      <td>30.729893</td>\n",
       "      <td>28.499102</td>\n",
       "      <td>29.949202</td>\n",
       "      <td>30.432838</td>\n",
       "    </tr>\n",
       "    <tr>\n",
       "      <th>9</th>\n",
       "      <td>29.936075</td>\n",
       "      <td>27.609346</td>\n",
       "      <td>33.668620</td>\n",
       "      <td>27.855080</td>\n",
       "      <td>26.090443</td>\n",
       "      <td>26.389214</td>\n",
       "      <td>32.796726</td>\n",
       "      <td>31.722440</td>\n",
       "      <td>29.029097</td>\n",
       "      <td>22.998652</td>\n",
       "      <td>...</td>\n",
       "      <td>29.340540</td>\n",
       "      <td>29.922781</td>\n",
       "      <td>23.572311</td>\n",
       "      <td>25.651802</td>\n",
       "      <td>33.875774</td>\n",
       "      <td>32.106968</td>\n",
       "      <td>33.119220</td>\n",
       "      <td>32.231860</td>\n",
       "      <td>33.793640</td>\n",
       "      <td>33.253593</td>\n",
       "    </tr>\n",
       "    <tr>\n",
       "      <th>10</th>\n",
       "      <td>30.661010</td>\n",
       "      <td>27.052973</td>\n",
       "      <td>32.983772</td>\n",
       "      <td>28.596224</td>\n",
       "      <td>26.804543</td>\n",
       "      <td>27.400420</td>\n",
       "      <td>32.245235</td>\n",
       "      <td>32.648315</td>\n",
       "      <td>30.752840</td>\n",
       "      <td>23.533102</td>\n",
       "      <td>...</td>\n",
       "      <td>30.533321</td>\n",
       "      <td>32.572765</td>\n",
       "      <td>24.251638</td>\n",
       "      <td>26.500488</td>\n",
       "      <td>32.004856</td>\n",
       "      <td>31.218412</td>\n",
       "      <td>30.830814</td>\n",
       "      <td>30.269539</td>\n",
       "      <td>29.953524</td>\n",
       "      <td>30.376749</td>\n",
       "    </tr>\n",
       "    <tr>\n",
       "      <th>11</th>\n",
       "      <td>32.571175</td>\n",
       "      <td>31.734808</td>\n",
       "      <td>39.988968</td>\n",
       "      <td>34.708023</td>\n",
       "      <td>29.137913</td>\n",
       "      <td>36.555073</td>\n",
       "      <td>32.569540</td>\n",
       "      <td>31.995346</td>\n",
       "      <td>31.577246</td>\n",
       "      <td>26.012031</td>\n",
       "      <td>...</td>\n",
       "      <td>39.988968</td>\n",
       "      <td>28.437956</td>\n",
       "      <td>26.161135</td>\n",
       "      <td>28.701513</td>\n",
       "      <td>32.827675</td>\n",
       "      <td>39.988968</td>\n",
       "      <td>31.945420</td>\n",
       "      <td>30.665287</td>\n",
       "      <td>31.604140</td>\n",
       "      <td>31.122715</td>\n",
       "    </tr>\n",
       "    <tr>\n",
       "      <th>12</th>\n",
       "      <td>31.477938</td>\n",
       "      <td>25.876204</td>\n",
       "      <td>31.193548</td>\n",
       "      <td>29.966251</td>\n",
       "      <td>27.718834</td>\n",
       "      <td>27.975374</td>\n",
       "      <td>32.158910</td>\n",
       "      <td>32.171783</td>\n",
       "      <td>29.045025</td>\n",
       "      <td>21.983862</td>\n",
       "      <td>...</td>\n",
       "      <td>30.283743</td>\n",
       "      <td>28.091026</td>\n",
       "      <td>22.758070</td>\n",
       "      <td>24.905544</td>\n",
       "      <td>32.435467</td>\n",
       "      <td>31.587580</td>\n",
       "      <td>30.474184</td>\n",
       "      <td>29.179450</td>\n",
       "      <td>31.081736</td>\n",
       "      <td>31.265130</td>\n",
       "    </tr>\n",
       "    <tr>\n",
       "      <th>13</th>\n",
       "      <td>32.893770</td>\n",
       "      <td>27.940172</td>\n",
       "      <td>32.677440</td>\n",
       "      <td>32.183650</td>\n",
       "      <td>30.137806</td>\n",
       "      <td>28.653347</td>\n",
       "      <td>34.443493</td>\n",
       "      <td>32.432310</td>\n",
       "      <td>28.786386</td>\n",
       "      <td>23.254799</td>\n",
       "      <td>...</td>\n",
       "      <td>34.302143</td>\n",
       "      <td>29.590630</td>\n",
       "      <td>22.801853</td>\n",
       "      <td>25.664980</td>\n",
       "      <td>39.988968</td>\n",
       "      <td>35.913086</td>\n",
       "      <td>30.737600</td>\n",
       "      <td>29.812677</td>\n",
       "      <td>30.690508</td>\n",
       "      <td>30.340685</td>\n",
       "    </tr>\n",
       "    <tr>\n",
       "      <th>14</th>\n",
       "      <td>33.928455</td>\n",
       "      <td>28.905731</td>\n",
       "      <td>33.438870</td>\n",
       "      <td>31.939703</td>\n",
       "      <td>30.044052</td>\n",
       "      <td>30.564281</td>\n",
       "      <td>32.956930</td>\n",
       "      <td>34.233463</td>\n",
       "      <td>31.963078</td>\n",
       "      <td>25.499880</td>\n",
       "      <td>...</td>\n",
       "      <td>32.430400</td>\n",
       "      <td>30.562690</td>\n",
       "      <td>25.082458</td>\n",
       "      <td>28.387533</td>\n",
       "      <td>39.988968</td>\n",
       "      <td>34.953716</td>\n",
       "      <td>30.379200</td>\n",
       "      <td>30.037014</td>\n",
       "      <td>30.303102</td>\n",
       "      <td>30.706743</td>\n",
       "    </tr>\n",
       "    <tr>\n",
       "      <th>15</th>\n",
       "      <td>33.258500</td>\n",
       "      <td>29.934982</td>\n",
       "      <td>34.331196</td>\n",
       "      <td>33.241646</td>\n",
       "      <td>29.726976</td>\n",
       "      <td>31.538229</td>\n",
       "      <td>39.988968</td>\n",
       "      <td>39.988968</td>\n",
       "      <td>30.003958</td>\n",
       "      <td>24.520494</td>\n",
       "      <td>...</td>\n",
       "      <td>39.988968</td>\n",
       "      <td>29.842558</td>\n",
       "      <td>23.864733</td>\n",
       "      <td>26.732056</td>\n",
       "      <td>39.988968</td>\n",
       "      <td>34.916927</td>\n",
       "      <td>31.358610</td>\n",
       "      <td>31.239614</td>\n",
       "      <td>31.512510</td>\n",
       "      <td>31.976310</td>\n",
       "    </tr>\n",
       "    <tr>\n",
       "      <th>16</th>\n",
       "      <td>39.988968</td>\n",
       "      <td>33.036106</td>\n",
       "      <td>39.988968</td>\n",
       "      <td>39.988968</td>\n",
       "      <td>32.295070</td>\n",
       "      <td>32.928677</td>\n",
       "      <td>39.988968</td>\n",
       "      <td>39.988968</td>\n",
       "      <td>33.692703</td>\n",
       "      <td>26.561758</td>\n",
       "      <td>...</td>\n",
       "      <td>39.988968</td>\n",
       "      <td>27.015244</td>\n",
       "      <td>26.747349</td>\n",
       "      <td>28.458998</td>\n",
       "      <td>39.988968</td>\n",
       "      <td>39.988968</td>\n",
       "      <td>30.120398</td>\n",
       "      <td>28.530645</td>\n",
       "      <td>29.446304</td>\n",
       "      <td>29.125332</td>\n",
       "    </tr>\n",
       "    <tr>\n",
       "      <th>17</th>\n",
       "      <td>31.409640</td>\n",
       "      <td>27.177223</td>\n",
       "      <td>31.980800</td>\n",
       "      <td>28.532442</td>\n",
       "      <td>26.927723</td>\n",
       "      <td>27.877216</td>\n",
       "      <td>30.514965</td>\n",
       "      <td>33.545734</td>\n",
       "      <td>29.518465</td>\n",
       "      <td>22.542707</td>\n",
       "      <td>...</td>\n",
       "      <td>28.728052</td>\n",
       "      <td>29.970407</td>\n",
       "      <td>23.769598</td>\n",
       "      <td>25.798360</td>\n",
       "      <td>33.020622</td>\n",
       "      <td>31.118858</td>\n",
       "      <td>33.829163</td>\n",
       "      <td>33.632800</td>\n",
       "      <td>32.960460</td>\n",
       "      <td>33.561897</td>\n",
       "    </tr>\n",
       "    <tr>\n",
       "      <th>18</th>\n",
       "      <td>32.315940</td>\n",
       "      <td>27.195595</td>\n",
       "      <td>31.965744</td>\n",
       "      <td>28.201122</td>\n",
       "      <td>27.184364</td>\n",
       "      <td>27.820890</td>\n",
       "      <td>32.248980</td>\n",
       "      <td>31.610147</td>\n",
       "      <td>29.728247</td>\n",
       "      <td>23.537758</td>\n",
       "      <td>...</td>\n",
       "      <td>28.436226</td>\n",
       "      <td>30.294516</td>\n",
       "      <td>22.680868</td>\n",
       "      <td>25.714110</td>\n",
       "      <td>33.280600</td>\n",
       "      <td>30.611671</td>\n",
       "      <td>32.666107</td>\n",
       "      <td>33.140476</td>\n",
       "      <td>31.913387</td>\n",
       "      <td>30.683300</td>\n",
       "    </tr>\n",
       "    <tr>\n",
       "      <th>19</th>\n",
       "      <td>32.245216</td>\n",
       "      <td>29.215017</td>\n",
       "      <td>34.296856</td>\n",
       "      <td>30.310827</td>\n",
       "      <td>28.867645</td>\n",
       "      <td>30.840378</td>\n",
       "      <td>39.988968</td>\n",
       "      <td>35.301968</td>\n",
       "      <td>31.163864</td>\n",
       "      <td>24.190107</td>\n",
       "      <td>...</td>\n",
       "      <td>39.988968</td>\n",
       "      <td>29.279886</td>\n",
       "      <td>24.180327</td>\n",
       "      <td>26.641808</td>\n",
       "      <td>34.855957</td>\n",
       "      <td>35.536950</td>\n",
       "      <td>33.143530</td>\n",
       "      <td>32.343822</td>\n",
       "      <td>32.329426</td>\n",
       "      <td>32.298054</td>\n",
       "    </tr>\n",
       "    <tr>\n",
       "      <th>20</th>\n",
       "      <td>30.821905</td>\n",
       "      <td>28.238232</td>\n",
       "      <td>32.522583</td>\n",
       "      <td>30.176239</td>\n",
       "      <td>29.289696</td>\n",
       "      <td>29.580462</td>\n",
       "      <td>39.988968</td>\n",
       "      <td>39.900024</td>\n",
       "      <td>29.187725</td>\n",
       "      <td>23.129793</td>\n",
       "      <td>...</td>\n",
       "      <td>33.138450</td>\n",
       "      <td>27.818182</td>\n",
       "      <td>22.585510</td>\n",
       "      <td>25.806728</td>\n",
       "      <td>39.988968</td>\n",
       "      <td>32.720800</td>\n",
       "      <td>31.976070</td>\n",
       "      <td>32.763030</td>\n",
       "      <td>31.007101</td>\n",
       "      <td>31.614090</td>\n",
       "    </tr>\n",
       "    <tr>\n",
       "      <th>21</th>\n",
       "      <td>32.651768</td>\n",
       "      <td>28.948671</td>\n",
       "      <td>39.988968</td>\n",
       "      <td>31.028383</td>\n",
       "      <td>28.565527</td>\n",
       "      <td>31.373707</td>\n",
       "      <td>39.988968</td>\n",
       "      <td>31.745590</td>\n",
       "      <td>30.030478</td>\n",
       "      <td>24.044867</td>\n",
       "      <td>...</td>\n",
       "      <td>32.074280</td>\n",
       "      <td>28.796917</td>\n",
       "      <td>23.255201</td>\n",
       "      <td>26.277645</td>\n",
       "      <td>32.616627</td>\n",
       "      <td>32.526030</td>\n",
       "      <td>32.642880</td>\n",
       "      <td>31.834030</td>\n",
       "      <td>32.312310</td>\n",
       "      <td>31.759645</td>\n",
       "    </tr>\n",
       "    <tr>\n",
       "      <th>22</th>\n",
       "      <td>33.220245</td>\n",
       "      <td>28.808065</td>\n",
       "      <td>34.781456</td>\n",
       "      <td>30.200218</td>\n",
       "      <td>30.233501</td>\n",
       "      <td>31.429330</td>\n",
       "      <td>38.853230</td>\n",
       "      <td>33.131210</td>\n",
       "      <td>30.954727</td>\n",
       "      <td>24.896560</td>\n",
       "      <td>...</td>\n",
       "      <td>32.934338</td>\n",
       "      <td>29.363298</td>\n",
       "      <td>23.724960</td>\n",
       "      <td>26.811554</td>\n",
       "      <td>35.668823</td>\n",
       "      <td>32.455215</td>\n",
       "      <td>33.185173</td>\n",
       "      <td>32.238120</td>\n",
       "      <td>33.210880</td>\n",
       "      <td>33.396454</td>\n",
       "    </tr>\n",
       "    <tr>\n",
       "      <th>23</th>\n",
       "      <td>31.659473</td>\n",
       "      <td>28.984282</td>\n",
       "      <td>39.988968</td>\n",
       "      <td>30.405817</td>\n",
       "      <td>26.442041</td>\n",
       "      <td>29.818287</td>\n",
       "      <td>35.763270</td>\n",
       "      <td>39.988968</td>\n",
       "      <td>29.562944</td>\n",
       "      <td>23.968668</td>\n",
       "      <td>...</td>\n",
       "      <td>36.106205</td>\n",
       "      <td>29.519253</td>\n",
       "      <td>23.013409</td>\n",
       "      <td>26.216915</td>\n",
       "      <td>39.988968</td>\n",
       "      <td>32.444675</td>\n",
       "      <td>29.817654</td>\n",
       "      <td>33.057735</td>\n",
       "      <td>30.242367</td>\n",
       "      <td>31.886219</td>\n",
       "    </tr>\n",
       "    <tr>\n",
       "      <th>24</th>\n",
       "      <td>31.679094</td>\n",
       "      <td>29.992250</td>\n",
       "      <td>32.557790</td>\n",
       "      <td>31.319824</td>\n",
       "      <td>29.310007</td>\n",
       "      <td>31.379540</td>\n",
       "      <td>32.906086</td>\n",
       "      <td>33.758120</td>\n",
       "      <td>30.993440</td>\n",
       "      <td>25.216335</td>\n",
       "      <td>...</td>\n",
       "      <td>31.776812</td>\n",
       "      <td>30.021965</td>\n",
       "      <td>23.420414</td>\n",
       "      <td>27.606901</td>\n",
       "      <td>36.476070</td>\n",
       "      <td>33.297157</td>\n",
       "      <td>31.875835</td>\n",
       "      <td>32.941982</td>\n",
       "      <td>32.810200</td>\n",
       "      <td>32.777150</td>\n",
       "    </tr>\n",
       "  </tbody>\n",
       "</table>\n",
       "<p>25 rows × 135 columns</p>\n",
       "</div>"
      ],
      "text/plain": [
       "          1          3          4          5          6          8    \\\n",
       "0   33.203365  32.942540  39.988968  33.385296  31.410925  34.642895   \n",
       "1   31.584763  31.247986  34.390118  31.573914  30.159042  31.167364   \n",
       "2   31.421170  27.295233  31.883574  29.407010  29.235598  28.067333   \n",
       "3   33.572320  29.752192  39.988968  30.862568  28.886066  31.894330   \n",
       "4   31.047272  27.563130  39.988968  30.548157  28.462091  33.297090   \n",
       "5   33.465480  30.985458  32.622950  33.220300  29.247787  30.905384   \n",
       "6   32.770187  28.498089  32.562960  31.503323  29.296658  34.330620   \n",
       "7   34.094116  28.940802  39.988968  30.842583  28.897360  30.343403   \n",
       "8   30.231834  26.402890  31.155499  28.607490  27.940006  26.846380   \n",
       "9   29.936075  27.609346  33.668620  27.855080  26.090443  26.389214   \n",
       "10  30.661010  27.052973  32.983772  28.596224  26.804543  27.400420   \n",
       "11  32.571175  31.734808  39.988968  34.708023  29.137913  36.555073   \n",
       "12  31.477938  25.876204  31.193548  29.966251  27.718834  27.975374   \n",
       "13  32.893770  27.940172  32.677440  32.183650  30.137806  28.653347   \n",
       "14  33.928455  28.905731  33.438870  31.939703  30.044052  30.564281   \n",
       "15  33.258500  29.934982  34.331196  33.241646  29.726976  31.538229   \n",
       "16  39.988968  33.036106  39.988968  39.988968  32.295070  32.928677   \n",
       "17  31.409640  27.177223  31.980800  28.532442  26.927723  27.877216   \n",
       "18  32.315940  27.195595  31.965744  28.201122  27.184364  27.820890   \n",
       "19  32.245216  29.215017  34.296856  30.310827  28.867645  30.840378   \n",
       "20  30.821905  28.238232  32.522583  30.176239  29.289696  29.580462   \n",
       "21  32.651768  28.948671  39.988968  31.028383  28.565527  31.373707   \n",
       "22  33.220245  28.808065  34.781456  30.200218  30.233501  31.429330   \n",
       "23  31.659473  28.984282  39.988968  30.405817  26.442041  29.818287   \n",
       "24  31.679094  29.992250  32.557790  31.319824  29.310007  31.379540   \n",
       "\n",
       "          9          10         11         14   ...        350        360  \\\n",
       "0   39.988968  31.295800  31.468184  28.771715  ...  39.988968  32.266100   \n",
       "1   32.457570  39.988968  31.751812  24.553858  ...  39.988968  29.345566   \n",
       "2   30.976131  39.988968  30.943573  22.803980  ...  29.844133  30.228134   \n",
       "3   32.976448  31.013940  31.933096  23.771850  ...  31.407312  31.985397   \n",
       "4   32.748993  39.988968  29.737385  21.975622  ...  31.066130  28.248505   \n",
       "5   31.982727  39.988968  31.159777  26.147188  ...  31.268812  31.329498   \n",
       "6   31.778627  31.799553  30.021332  22.831999  ...  39.614967  28.640276   \n",
       "7   32.644160  34.917670  30.396084  23.095757  ...  32.169018  28.642008   \n",
       "8   31.344206  33.003784  29.477945  22.540508  ...  29.012032  28.786230   \n",
       "9   32.796726  31.722440  29.029097  22.998652  ...  29.340540  29.922781   \n",
       "10  32.245235  32.648315  30.752840  23.533102  ...  30.533321  32.572765   \n",
       "11  32.569540  31.995346  31.577246  26.012031  ...  39.988968  28.437956   \n",
       "12  32.158910  32.171783  29.045025  21.983862  ...  30.283743  28.091026   \n",
       "13  34.443493  32.432310  28.786386  23.254799  ...  34.302143  29.590630   \n",
       "14  32.956930  34.233463  31.963078  25.499880  ...  32.430400  30.562690   \n",
       "15  39.988968  39.988968  30.003958  24.520494  ...  39.988968  29.842558   \n",
       "16  39.988968  39.988968  33.692703  26.561758  ...  39.988968  27.015244   \n",
       "17  30.514965  33.545734  29.518465  22.542707  ...  28.728052  29.970407   \n",
       "18  32.248980  31.610147  29.728247  23.537758  ...  28.436226  30.294516   \n",
       "19  39.988968  35.301968  31.163864  24.190107  ...  39.988968  29.279886   \n",
       "20  39.988968  39.900024  29.187725  23.129793  ...  33.138450  27.818182   \n",
       "21  39.988968  31.745590  30.030478  24.044867  ...  32.074280  28.796917   \n",
       "22  38.853230  33.131210  30.954727  24.896560  ...  32.934338  29.363298   \n",
       "23  35.763270  39.988968  29.562944  23.968668  ...  36.106205  29.519253   \n",
       "24  32.906086  33.758120  30.993440  25.216335  ...  31.776812  30.021965   \n",
       "\n",
       "          371        372        376        377        378        379  \\\n",
       "0   25.787080  31.164463  34.977580  38.553680  35.626310  33.988240   \n",
       "1   25.612013  27.569298  39.988968  34.950283  30.749153  30.657600   \n",
       "2   24.618128  26.073835  39.988968  34.491684  30.118834  31.026510   \n",
       "3   24.153742  26.768526  31.063673  36.091187  30.725380  30.819048   \n",
       "4   23.620598  25.544441  37.313343  34.976162  31.603668  31.662304   \n",
       "5   26.195158  28.173595  39.988968  34.619114  29.980446  31.592323   \n",
       "6   22.654768  25.368809  31.240160  35.197086  29.451723  30.334568   \n",
       "7   23.953531  26.309116  35.608240  32.756012  31.832073  30.956707   \n",
       "8   22.995474  24.993273  33.000195  31.332754  30.729893  28.499102   \n",
       "9   23.572311  25.651802  33.875774  32.106968  33.119220  32.231860   \n",
       "10  24.251638  26.500488  32.004856  31.218412  30.830814  30.269539   \n",
       "11  26.161135  28.701513  32.827675  39.988968  31.945420  30.665287   \n",
       "12  22.758070  24.905544  32.435467  31.587580  30.474184  29.179450   \n",
       "13  22.801853  25.664980  39.988968  35.913086  30.737600  29.812677   \n",
       "14  25.082458  28.387533  39.988968  34.953716  30.379200  30.037014   \n",
       "15  23.864733  26.732056  39.988968  34.916927  31.358610  31.239614   \n",
       "16  26.747349  28.458998  39.988968  39.988968  30.120398  28.530645   \n",
       "17  23.769598  25.798360  33.020622  31.118858  33.829163  33.632800   \n",
       "18  22.680868  25.714110  33.280600  30.611671  32.666107  33.140476   \n",
       "19  24.180327  26.641808  34.855957  35.536950  33.143530  32.343822   \n",
       "20  22.585510  25.806728  39.988968  32.720800  31.976070  32.763030   \n",
       "21  23.255201  26.277645  32.616627  32.526030  32.642880  31.834030   \n",
       "22  23.724960  26.811554  35.668823  32.455215  33.185173  32.238120   \n",
       "23  23.013409  26.216915  39.988968  32.444675  29.817654  33.057735   \n",
       "24  23.420414  27.606901  36.476070  33.297157  31.875835  32.941982   \n",
       "\n",
       "          380        381  \n",
       "0   33.756084  33.682648  \n",
       "1   30.000550  30.101072  \n",
       "2   30.462840  30.286839  \n",
       "3   31.035313  30.867853  \n",
       "4   31.418295  31.018944  \n",
       "5   31.014832  31.468801  \n",
       "6   29.733654  29.685510  \n",
       "7   30.049444  30.806578  \n",
       "8   29.949202  30.432838  \n",
       "9   33.793640  33.253593  \n",
       "10  29.953524  30.376749  \n",
       "11  31.604140  31.122715  \n",
       "12  31.081736  31.265130  \n",
       "13  30.690508  30.340685  \n",
       "14  30.303102  30.706743  \n",
       "15  31.512510  31.976310  \n",
       "16  29.446304  29.125332  \n",
       "17  32.960460  33.561897  \n",
       "18  31.913387  30.683300  \n",
       "19  32.329426  32.298054  \n",
       "20  31.007101  31.614090  \n",
       "21  32.312310  31.759645  \n",
       "22  33.210880  33.396454  \n",
       "23  30.242367  31.886219  \n",
       "24  32.810200  32.777150  \n",
       "\n",
       "[25 rows x 135 columns]"
      ]
     },
     "execution_count": 23,
     "metadata": {},
     "output_type": "execute_result"
    }
   ],
   "source": [
    "t3"
   ]
  },
  {
   "cell_type": "code",
   "execution_count": 24,
   "metadata": {},
   "outputs": [],
   "source": [
    "X = np.array(sick).reshape(-1, 1)"
   ]
  },
  {
   "cell_type": "code",
   "execution_count": 25,
   "metadata": {},
   "outputs": [
    {
     "data": {
      "text/plain": [
       "LinearRegression()"
      ]
     },
     "execution_count": 25,
     "metadata": {},
     "output_type": "execute_result"
    }
   ],
   "source": [
    "linreg = LinearRegression()\n",
    "linreg.fit(X, t3)"
   ]
  },
  {
   "cell_type": "code",
   "execution_count": 26,
   "metadata": {},
   "outputs": [
    {
     "data": {
      "text/plain": [
       "0.0393785593097753"
      ]
     },
     "execution_count": 26,
     "metadata": {},
     "output_type": "execute_result"
    }
   ],
   "source": [
    "fitted = linreg.predict(X)\n",
    "explained_variance_score(t3, fitted)"
   ]
  },
  {
   "cell_type": "markdown",
   "metadata": {},
   "source": [
    "### Mean-variance-plot"
   ]
  },
  {
   "cell_type": "code",
   "execution_count": 27,
   "metadata": {},
   "outputs": [
    {
     "data": {
      "text/plain": [
       "1      32.484387\n",
       "3      28.971119\n",
       "4      35.157021\n",
       "5      31.144202\n",
       "6      28.892467\n",
       "         ...    \n",
       "377    34.174158\n",
       "378    31.556774\n",
       "379    31.338179\n",
       "380    31.303672\n",
       "381    31.379806\n",
       "Length: 135, dtype: float64"
      ]
     },
     "execution_count": 27,
     "metadata": {},
     "output_type": "execute_result"
    }
   ],
   "source": [
    "np.mean(table)"
   ]
  },
  {
   "cell_type": "code",
   "execution_count": 28,
   "metadata": {
    "tags": []
   },
   "outputs": [],
   "source": [
    "def get_means_and_variances(table):\n",
    "    return np.mean(table), np.var(table, ddof=1)"
   ]
  },
  {
   "cell_type": "code",
   "execution_count": 29,
   "metadata": {
    "tags": []
   },
   "outputs": [],
   "source": [
    "def mean_variance_plot(table):\n",
    "    means, variances = get_means_and_variances(table)\n",
    "    plt.scatter(means, variances)\n",
    "    plt.xlabel(\"mean\")\n",
    "    plt.ylabel(\"variance\")\n",
    "    plt.plot()"
   ]
  },
  {
   "cell_type": "code",
   "execution_count": 30,
   "metadata": {},
   "outputs": [
    {
     "data": {
      "image/png": "[encoded data removed]",
      "text/plain": [
       "<Figure size 432x288 with 1 Axes>"
      ]
     },
     "metadata": {
      "needs_background": "light"
     },
     "output_type": "display_data"
    }
   ],
   "source": [
    "mean_variance_plot(table)"
   ]
  },
  {
   "cell_type": "markdown",
   "metadata": {
    "tags": []
   },
   "source": [
    "### Log transformation"
   ]
  },
  {
   "cell_type": "code",
   "execution_count": 31,
   "metadata": {},
   "outputs": [],
   "source": [
    "log_table = table#np.log2(table)"
   ]
  },
  {
   "cell_type": "code",
   "execution_count": 32,
   "metadata": {},
   "outputs": [
    {
     "data": {
      "image/png": "[encoded data removed]",
      "text/plain": [
       "<Figure size 432x288 with 1 Axes>"
      ]
     },
     "metadata": {
      "needs_background": "light"
     },
     "output_type": "display_data"
    }
   ],
   "source": [
    "mean_variance_plot(log_table)"
   ]
  },
  {
   "cell_type": "markdown",
   "metadata": {},
   "source": [
    "### Remove mean"
   ]
  },
  {
   "cell_type": "code",
   "execution_count": 33,
   "metadata": {},
   "outputs": [],
   "source": [
    "norm_log_table = log_table - np.mean(log_table)\n",
    "norm_log_table /= np.sqrt(np.mean(np.var(norm_log_table, ddof=1)))"
   ]
  },
  {
   "cell_type": "code",
   "execution_count": 34,
   "metadata": {},
   "outputs": [
    {
     "data": {
      "image/png": "[encoded data removed]",
      "text/plain": [
       "<Figure size 432x288 with 1 Axes>"
      ]
     },
     "metadata": {
      "needs_background": "light"
     },
     "output_type": "display_data"
    }
   ],
   "source": [
    "mean_variance_plot(norm_log_table)"
   ]
  },
  {
   "cell_type": "markdown",
   "metadata": {},
   "source": [
    "### PCA"
   ]
  },
  {
   "cell_type": "code",
   "execution_count": 35,
   "metadata": {
    "tags": []
   },
   "outputs": [],
   "source": [
    "pca = decomposition.PCA(n_components=10)"
   ]
  },
  {
   "cell_type": "code",
   "execution_count": 36,
   "metadata": {},
   "outputs": [
    {
     "data": {
      "text/plain": [
       "PCA(n_components=10)"
      ]
     },
     "execution_count": 36,
     "metadata": {},
     "output_type": "execute_result"
    }
   ],
   "source": [
    "pca.fit(norm_log_table)"
   ]
  },
  {
   "cell_type": "code",
   "execution_count": 37,
   "metadata": {},
   "outputs": [
    {
     "data": {
      "text/plain": [
       "array([0.5156689 , 0.06500005, 0.05412284, 0.0456541 , 0.04009352,\n",
       "       0.03820031, 0.0314374 , 0.02718139, 0.02467135, 0.02338059])"
      ]
     },
     "execution_count": 37,
     "metadata": {},
     "output_type": "execute_result"
    }
   ],
   "source": [
    "pca.explained_variance_ratio_"
   ]
  },
  {
   "cell_type": "code",
   "execution_count": 38,
   "metadata": {
    "tags": []
   },
   "outputs": [],
   "source": [
    "components = pca.transform(norm_log_table)"
   ]
  },
  {
   "cell_type": "code",
   "execution_count": 39,
   "metadata": {},
   "outputs": [
    {
     "data": {
      "text/plain": [
       "(25, 10)"
      ]
     },
     "execution_count": 39,
     "metadata": {},
     "output_type": "execute_result"
    }
   ],
   "source": [
    "components.shape"
   ]
  },
  {
   "cell_type": "code",
   "execution_count": 40,
   "metadata": {},
   "outputs": [
    {
     "data": {
      "text/plain": [
       "6"
      ]
     },
     "execution_count": 40,
     "metadata": {},
     "output_type": "execute_result"
    }
   ],
   "source": [
    "sum(controls)"
   ]
  },
  {
   "cell_type": "code",
   "execution_count": 41,
   "metadata": {},
   "outputs": [
    {
     "data": {
      "image/png": "[encoded data removed]",
      "text/plain": [
       "<Figure size 576x576 with 1 Axes>"
      ]
     },
     "metadata": {
      "needs_background": "light"
     },
     "output_type": "display_data"
    }
   ],
   "source": [
    "fig = plt.figure(figsize = (8,8))\n",
    "ax = fig.add_subplot(1,1,1)\n",
    "\n",
    "ax.set_xlabel('Principal Component 1', fontsize = 15)\n",
    "ax.set_ylabel('Principal Component 2', fontsize = 15)\n",
    "ax.set_title('2 component PCA', fontsize = 20)\n",
    "targets = ['Cancer', 'Healthy']\n",
    "colors = ['r', 'g']\n",
    "ax.scatter(components[controls == False, 0], components[controls == False, 1], c = 'r', s = 10)\n",
    "ax.scatter(components[controls == True, 0], components[controls == True, 1], c = 'g', s = 10)\n",
    "ax.legend(targets)\n",
    "ax.grid()"
   ]
  },
  {
   "cell_type": "code",
   "execution_count": 42,
   "metadata": {
    "tags": []
   },
   "outputs": [],
   "source": [
    "components2 = components[components[:,0] < 20, :]\n",
    "controls2 = controls[components[:,0] < 20]"
   ]
  },
  {
   "cell_type": "code",
   "execution_count": 43,
   "metadata": {},
   "outputs": [
    {
     "data": {
      "image/png": "[encoded data removed]",
      "text/plain": [
       "<Figure size 576x576 with 1 Axes>"
      ]
     },
     "metadata": {
      "needs_background": "light"
     },
     "output_type": "display_data"
    }
   ],
   "source": [
    "fig = plt.figure(figsize = (8,8))\n",
    "ax = fig.add_subplot(1,1,1)\n",
    "\n",
    "ax.set_xlabel('Principal Component 1', fontsize = 15)\n",
    "ax.set_ylabel('Principal Component 2', fontsize = 15)\n",
    "ax.set_title('2 component PCA', fontsize = 20)\n",
    "targets = ['Cancer', 'Healthy']\n",
    "colors = ['r', 'g']\n",
    "ax.scatter(components2[controls2 == False, 0], components2[controls2 == False, 1], c = 'r', s = 10)\n",
    "ax.scatter(components2[controls2 == True, 0], components2[controls2 == True, 1], c = 'g', s = 10)\n",
    "ax.legend(targets)\n",
    "ax.grid()"
   ]
  },
  {
   "cell_type": "markdown",
   "metadata": {
    "tags": []
   },
   "source": [
    "### Linear regression adjustments"
   ]
  },
  {
   "cell_type": "code",
   "execution_count": 44,
   "metadata": {},
   "outputs": [],
   "source": [
    "covars = metadata[[\"Sex\", \"Age\", \"Pack-Year\"]]"
   ]
  },
  {
   "cell_type": "code",
   "execution_count": 45,
   "metadata": {},
   "outputs": [
    {
     "name": "stderr",
     "output_type": "stream",
     "text": [
      "C:\\Users\\olefr\\AppData\\Local\\Temp/ipykernel_20396/2294964231.py:1: SettingWithCopyWarning: \n",
      "A value is trying to be set on a copy of a slice from a DataFrame.\n",
      "Try using .loc[row_indexer,col_indexer] = value instead\n",
      "\n",
      "See the caveats in the documentation: https://pandas.pydata.org/pandas-docs/stable/user_guide/indexing.html#returning-a-view-versus-a-copy\n",
      "  covars[\"Sex\"] = covars[\"Sex\"] == \"f\"\n"
     ]
    }
   ],
   "source": [
    "covars[\"Sex\"] = covars[\"Sex\"] == \"f\""
   ]
  },
  {
   "cell_type": "code",
   "execution_count": 46,
   "metadata": {},
   "outputs": [],
   "source": [
    "covars = covars.fillna(covars.mean())"
   ]
  },
  {
   "cell_type": "code",
   "execution_count": 47,
   "metadata": {},
   "outputs": [
    {
     "data": {
      "text/plain": [
       "LinearRegression()"
      ]
     },
     "execution_count": 47,
     "metadata": {},
     "output_type": "execute_result"
    }
   ],
   "source": [
    "linreg = LinearRegression()\n",
    "linreg.fit(covars, norm_log_table)"
   ]
  },
  {
   "cell_type": "code",
   "execution_count": 48,
   "metadata": {},
   "outputs": [],
   "source": [
    "adj_norm_log_table = norm_log_table - linreg.predict(covars)"
   ]
  },
  {
   "cell_type": "markdown",
   "metadata": {
    "tags": []
   },
   "source": [
    "# PCA"
   ]
  },
  {
   "cell_type": "code",
   "execution_count": 49,
   "metadata": {
    "tags": []
   },
   "outputs": [],
   "source": [
    "pca = decomposition.PCA(n_components=2)"
   ]
  },
  {
   "cell_type": "code",
   "execution_count": 50,
   "metadata": {},
   "outputs": [
    {
     "data": {
      "text/plain": [
       "PCA(n_components=2)"
      ]
     },
     "execution_count": 50,
     "metadata": {},
     "output_type": "execute_result"
    }
   ],
   "source": [
    "pca.fit(adj_norm_log_table)"
   ]
  },
  {
   "cell_type": "code",
   "execution_count": 51,
   "metadata": {
    "tags": []
   },
   "outputs": [],
   "source": [
    "components = pca.transform(adj_norm_log_table)"
   ]
  },
  {
   "cell_type": "code",
   "execution_count": 52,
   "metadata": {},
   "outputs": [
    {
     "data": {
      "text/plain": [
       "array([[-13.62662531,   3.27392556],\n",
       "       [ -7.35843915,  -1.39250633],\n",
       "       [  7.66619693,   0.8667033 ],\n",
       "       [ -0.66321357,   8.12895646],\n",
       "       [  5.31905578,  -1.28106822],\n",
       "       [ -4.32847723,   3.12550176],\n",
       "       [ -3.71611505,  -0.45806043],\n",
       "       [  3.95689568,  -0.47719443],\n",
       "       [  9.68082159,   1.08093918],\n",
       "       [ 16.21230764,   1.52612313],\n",
       "       [  5.85256979,   1.00006287],\n",
       "       [-12.9300749 ,   3.3508375 ],\n",
       "       [  7.33538092,   0.14496349],\n",
       "       [ -1.81675985,  -2.38823417],\n",
       "       [-10.72224882,  -0.04299357],\n",
       "       [ -8.79483115,  -5.16476841],\n",
       "       [ -9.06873595,   0.17762339],\n",
       "       [  9.44631981,   0.57066917],\n",
       "       [ 11.28013558,   0.80984629],\n",
       "       [ -1.46881566,  -2.59542542],\n",
       "       [  2.97548098,  -4.94462797],\n",
       "       [  0.24954352,  -1.10789964],\n",
       "       [ -2.4932239 ,  -0.11651745],\n",
       "       [  0.53606917,  -2.90819353],\n",
       "       [ -3.52321685,  -1.17866253]])"
      ]
     },
     "execution_count": 52,
     "metadata": {},
     "output_type": "execute_result"
    }
   ],
   "source": [
    "components"
   ]
  },
  {
   "cell_type": "code",
   "execution_count": 53,
   "metadata": {},
   "outputs": [
    {
     "data": {
      "image/png": "[encoded data removed]",
      "text/plain": [
       "<Figure size 576x576 with 1 Axes>"
      ]
     },
     "metadata": {
      "needs_background": "light"
     },
     "output_type": "display_data"
    }
   ],
   "source": [
    "fig = plt.figure(figsize = (8,8))\n",
    "ax = fig.add_subplot(1,1,1)\n",
    "\n",
    "ax.set_xlabel('Principal Component 1', fontsize = 15)\n",
    "ax.set_ylabel('Principal Component 2', fontsize = 15)\n",
    "ax.set_title('2 component PCA', fontsize = 20)\n",
    "targets = ['Cancer', 'Healthy']\n",
    "colors = ['r', 'g']\n",
    "ax.scatter(components[controls == False, 0], components[controls == False, 1], c = 'r', s = 10)\n",
    "ax.scatter(components[controls == True, 0], components[controls == True, 1], c = 'g', s = 10)\n",
    "ax.legend(targets)\n",
    "ax.grid()"
   ]
  },
  {
   "cell_type": "markdown",
   "metadata": {},
   "source": [
    "### Logistic Regression"
   ]
  },
  {
   "cell_type": "code",
   "execution_count": 54,
   "metadata": {},
   "outputs": [],
   "source": [
    "X_train, X_test, y_train, y_test = train_test_split(adj_norm_log_table, controls, test_size=0.33, random_state=42)"
   ]
  },
  {
   "cell_type": "code",
   "execution_count": 55,
   "metadata": {},
   "outputs": [
    {
     "data": {
      "text/plain": [
       "LogisticRegression()"
      ]
     },
     "execution_count": 55,
     "metadata": {},
     "output_type": "execute_result"
    }
   ],
   "source": [
    "model = LogisticRegression()\n",
    "model.fit(X_train, y_train)"
   ]
  },
  {
   "cell_type": "code",
   "execution_count": 56,
   "metadata": {},
   "outputs": [
    {
     "name": "stderr",
     "output_type": "stream",
     "text": [
      "C:\\Users\\olefr\\AppData\\Local\\Programs\\Python\\Python310\\lib\\site-packages\\sklearn\\utils\\deprecation.py:87: FutureWarning: Function plot_roc_curve is deprecated; Function :func:`plot_roc_curve` is deprecated in 1.0 and will be removed in 1.2. Use one of the class methods: :meth:`sklearn.metric.RocCurveDisplay.from_predictions` or :meth:`sklearn.metric.RocCurveDisplay.from_estimator`.\n",
      "  warnings.warn(msg, category=FutureWarning)\n"
     ]
    },
    {
     "data": {
      "text/plain": [
       "<sklearn.metrics._plot.roc_curve.RocCurveDisplay at 0x1f8a1c2d420>"
      ]
     },
     "execution_count": 56,
     "metadata": {},
     "output_type": "execute_result"
    },
    {
     "data": {
      "image/png": "[encoded data removed]",
      "text/plain": [
       "<Figure size 432x288 with 1 Axes>"
      ]
     },
     "metadata": {
      "needs_background": "light"
     },
     "output_type": "display_data"
    }
   ],
   "source": [
    "plot_roc_curve(model, X_test, y_test)"
   ]
  },
  {
   "cell_type": "markdown",
   "metadata": {
    "jupyter": {
     "outputs_hidden": true
    }
   },
   "source": [
    "### XGBoost"
   ]
  },
  {
   "cell_type": "code",
   "execution_count": 57,
   "metadata": {},
   "outputs": [
    {
     "name": "stdout",
     "output_type": "stream",
     "text": [
      "[17:59:20] WARNING: C:/Users/Administrator/workspace/xgboost-win64_release_1.5.1/src/learner.cc:1115: Starting in XGBoost 1.3.0, the default evaluation metric used with the objective 'binary:logistic' was changed from 'error' to 'logloss'. Explicitly set eval_metric if you'd like to restore the old behavior.\n"
     ]
    },
    {
     "data": {
      "text/plain": [
       "XGBClassifier(base_score=0.5, booster='gbtree', colsample_bylevel=1,\n",
       "              colsample_bynode=1, colsample_bytree=1, enable_categorical=False,\n",
       "              gamma=0, gpu_id=-1, importance_type=None,\n",
       "              interaction_constraints='', learning_rate=0.300000012,\n",
       "              max_delta_step=0, max_depth=6, min_child_weight=1, missing=nan,\n",
       "              monotone_constraints='()', n_estimators=100, n_jobs=16,\n",
       "              num_parallel_tree=1, predictor='auto', random_state=0,\n",
       "              reg_alpha=0, reg_lambda=1, scale_pos_weight=1, subsample=1,\n",
       "              tree_method='exact', use_label_encoder=False,\n",
       "              validate_parameters=1, verbosity=None)"
      ]
     },
     "execution_count": 57,
     "metadata": {},
     "output_type": "execute_result"
    }
   ],
   "source": [
    "model = XGBClassifier(use_label_encoder=False)\n",
    "model.fit(X_train, y_train)"
   ]
  },
  {
   "cell_type": "code",
   "execution_count": 58,
   "metadata": {},
   "outputs": [
    {
     "name": "stderr",
     "output_type": "stream",
     "text": [
      "C:\\Users\\olefr\\AppData\\Local\\Programs\\Python\\Python310\\lib\\site-packages\\sklearn\\utils\\deprecation.py:87: FutureWarning: Function plot_roc_curve is deprecated; Function :func:`plot_roc_curve` is deprecated in 1.0 and will be removed in 1.2. Use one of the class methods: :meth:`sklearn.metric.RocCurveDisplay.from_predictions` or :meth:`sklearn.metric.RocCurveDisplay.from_estimator`.\n",
      "  warnings.warn(msg, category=FutureWarning)\n"
     ]
    },
    {
     "data": {
      "text/plain": [
       "<sklearn.metrics._plot.roc_curve.RocCurveDisplay at 0x1f8a1cff820>"
      ]
     },
     "execution_count": 58,
     "metadata": {},
     "output_type": "execute_result"
    },
    {
     "data": {
      "image/png": "[encoded data removed]",
      "text/plain": [
       "<Figure size 432x288 with 1 Axes>"
      ]
     },
     "metadata": {
      "needs_background": "light"
     },
     "output_type": "display_data"
    }
   ],
   "source": [
    "plot_roc_curve(model, X_test, y_test)"
   ]
  },
  {
   "cell_type": "markdown",
   "metadata": {},
   "source": [
    "### Export data"
   ]
  },
  {
   "cell_type": "code",
   "execution_count": 59,
   "metadata": {},
   "outputs": [
    {
     "data": {
      "text/plain": [
       "1      hsa-miR-155\n",
       "3       hsa-let-7b\n",
       "4       hsa-let-7c\n",
       "5       hsa-let-7d\n",
       "6       hsa-let-7e\n",
       "8       hsa-let-7g\n",
       "9        hsa-miR-1\n",
       "10     hsa-miR-100\n",
       "11     hsa-miR-101\n",
       "14    hsa-miR-106a\n",
       "Name: Detector, dtype: object"
      ]
     },
     "execution_count": 59,
     "metadata": {},
     "output_type": "execute_result"
    }
   ],
   "source": [
    "mirnas[:10]"
   ]
  },
  {
   "cell_type": "code",
   "execution_count": 60,
   "metadata": {},
   "outputs": [],
   "source": [
    "from Scripts import converters"
   ]
  },
  {
   "cell_type": "code",
   "execution_count": 61,
   "metadata": {},
   "outputs": [],
   "source": [
    "sequences = converters.canonical_to_seq(mirnas, True)"
   ]
  },
  {
   "cell_type": "code",
   "execution_count": 62,
   "metadata": {},
   "outputs": [
    {
     "data": {
      "text/plain": [
       "4"
      ]
     },
     "execution_count": 62,
     "metadata": {},
     "output_type": "execute_result"
    }
   ],
   "source": [
    "sequences.count(None)"
   ]
  },
  {
   "cell_type": "code",
   "execution_count": 63,
   "metadata": {},
   "outputs": [],
   "source": [
    "sequences = np.array(sequences)\n",
    "mask = sequences != None\n",
    "sequences = sequences[mask]\n",
    "adj_norm_log_table = adj_norm_log_table.loc[:, mask]"
   ]
  },
  {
   "cell_type": "code",
   "execution_count": 64,
   "metadata": {},
   "outputs": [
    {
     "data": {
      "text/plain": [
       "[1, 1, 1, 1, 1, 1, 1, 1, 1, 3, 3, 3, 1, 1, 2, 1, 3, 3, 4, 0, 0, 0, 0, 0, 0]"
      ]
     },
     "execution_count": 64,
     "metadata": {},
     "output_type": "execute_result"
    }
   ],
   "source": [
    "list(metadata[\"Stage\"].apply(lambda x: 0 if x is np.nan else int(x[0])))"
   ]
  },
  {
   "cell_type": "code",
   "execution_count": 65,
   "metadata": {},
   "outputs": [
    {
     "data": {
      "text/html": [
       "<div>\n",
       "<style scoped>\n",
       "    .dataframe tbody tr th:only-of-type {\n",
       "        vertical-align: middle;\n",
       "    }\n",
       "\n",
       "    .dataframe tbody tr th {\n",
       "        vertical-align: top;\n",
       "    }\n",
       "\n",
       "    .dataframe thead th {\n",
       "        text-align: right;\n",
       "    }\n",
       "</style>\n",
       "<table border=\"1\" class=\"dataframe\">\n",
       "  <thead>\n",
       "    <tr style=\"text-align: right;\">\n",
       "      <th></th>\n",
       "      <th>UUAAUGCUAAUCGUGAUAGGGGUU</th>\n",
       "      <th>CGGGGUGAGGUAGUAGGUUGUGUGGUUUCAGGGCAGUGAUGUUGCCCCUCGGAAGAUAACUAUACAACCUACUGCCUUCCCUG</th>\n",
       "      <th>GCAUCCGGGUUGAGGUAGUAGGUUGUAUGGUUUAGAGUUACACCCUGGGAGUUAACUGUACAACCUUCUAGCUUUCCUUGGAGC</th>\n",
       "      <th>CCUAGGAAGAGGUAGUAGGUUGCAUAGUUUUAGGGCAGGGAUUUUGCCCACAAGGAGGUAACUAUACGACCUGCUGCCUUUCUUAGG</th>\n",
       "      <th>CCCGGGCUGAGGUAGGAGGUUGUAUAGUUGAGGAGGACACCCAAGGAGAUCACUAUACGGCCUCCUAGCUUUCCCCAGG</th>\n",
       "      <th>AGGCUGAGGUAGUAGUUUGUACAGUUUGAGGGUCUAUGAUACCACCCGGUACAGGAGAUAACUGUACAGGCCACUGCCUUGCCA</th>\n",
       "      <th>UGGAAUGUAAAGAAGUAUGUAU</th>\n",
       "      <th>AACCCGUAGAUCCGAACUUGUG</th>\n",
       "      <th>UACAGUACUGUGAUAACUGAA</th>\n",
       "      <th>AAAAGUGCUUACAGUGCAGGUAG</th>\n",
       "      <th>...</th>\n",
       "      <th>AAUGGCGCCACUAGGGUUGUG</th>\n",
       "      <th>UACCCAUUGCAUAUCGGAGUUG</th>\n",
       "      <th>UGCGGGGCUAGGGCUAACAGCA</th>\n",
       "      <th>UCCAUUACACUACCCUGCCUCU</th>\n",
       "      <th>UAUUGCACUUGUCCCGGCCUGU</th>\n",
       "      <th>CAAAGUGCUGUUCGUGCAGGUAG</th>\n",
       "      <th>AACCCGUAGAUCCGAUCUUGUG</th>\n",
       "      <th>CACCCGUAGAACCGACCUUGCG</th>\n",
       "      <th>cancer</th>\n",
       "      <th>stage</th>\n",
       "    </tr>\n",
       "  </thead>\n",
       "  <tbody>\n",
       "    <tr>\n",
       "      <th>0</th>\n",
       "      <td>0.176525</td>\n",
       "      <td>-1.108518</td>\n",
       "      <td>-1.031256</td>\n",
       "      <td>-0.489093</td>\n",
       "      <td>-0.835109</td>\n",
       "      <td>-1.621483</td>\n",
       "      <td>-0.776607</td>\n",
       "      <td>1.334986</td>\n",
       "      <td>-0.216856</td>\n",
       "      <td>-1.300842</td>\n",
       "      <td>...</td>\n",
       "      <td>-2.109249</td>\n",
       "      <td>-0.633315</td>\n",
       "      <td>-2.231290</td>\n",
       "      <td>-0.897220</td>\n",
       "      <td>-0.478103</td>\n",
       "      <td>-1.319766</td>\n",
       "      <td>0.632179</td>\n",
       "      <td>-1.381472</td>\n",
       "      <td>1</td>\n",
       "      <td>1</td>\n",
       "    </tr>\n",
       "    <tr>\n",
       "      <th>1</th>\n",
       "      <td>0.518273</td>\n",
       "      <td>-0.908649</td>\n",
       "      <td>0.120835</td>\n",
       "      <td>0.171963</td>\n",
       "      <td>-0.345348</td>\n",
       "      <td>-0.192544</td>\n",
       "      <td>0.019974</td>\n",
       "      <td>-0.988149</td>\n",
       "      <td>-0.502545</td>\n",
       "      <td>-0.540644</td>\n",
       "      <td>...</td>\n",
       "      <td>-1.267436</td>\n",
       "      <td>-0.157878</td>\n",
       "      <td>-2.257459</td>\n",
       "      <td>-0.304388</td>\n",
       "      <td>-0.573298</td>\n",
       "      <td>-0.649125</td>\n",
       "      <td>-0.997887</td>\n",
       "      <td>-0.134847</td>\n",
       "      <td>1</td>\n",
       "      <td>1</td>\n",
       "    </tr>\n",
       "    <tr>\n",
       "      <th>2</th>\n",
       "      <td>0.164725</td>\n",
       "      <td>0.724074</td>\n",
       "      <td>1.766067</td>\n",
       "      <td>0.658221</td>\n",
       "      <td>-0.133858</td>\n",
       "      <td>1.384993</td>\n",
       "      <td>1.620195</td>\n",
       "      <td>-1.415455</td>\n",
       "      <td>-0.174647</td>\n",
       "      <td>0.357479</td>\n",
       "      <td>...</td>\n",
       "      <td>0.980741</td>\n",
       "      <td>-0.465830</td>\n",
       "      <td>1.988705</td>\n",
       "      <td>-0.392441</td>\n",
       "      <td>-0.247182</td>\n",
       "      <td>0.153138</td>\n",
       "      <td>-1.547748</td>\n",
       "      <td>0.144315</td>\n",
       "      <td>1</td>\n",
       "      <td>1</td>\n",
       "    </tr>\n",
       "    <tr>\n",
       "      <th>3</th>\n",
       "      <td>-0.925672</td>\n",
       "      <td>-0.498739</td>\n",
       "      <td>-1.921376</td>\n",
       "      <td>-0.184920</td>\n",
       "      <td>-0.109327</td>\n",
       "      <td>-0.220717</td>\n",
       "      <td>0.335086</td>\n",
       "      <td>2.042391</td>\n",
       "      <td>-0.649772</td>\n",
       "      <td>-0.212973</td>\n",
       "      <td>...</td>\n",
       "      <td>0.281090</td>\n",
       "      <td>-0.620746</td>\n",
       "      <td>1.147010</td>\n",
       "      <td>-1.083097</td>\n",
       "      <td>-0.168145</td>\n",
       "      <td>-0.272738</td>\n",
       "      <td>1.834038</td>\n",
       "      <td>-0.735289</td>\n",
       "      <td>1</td>\n",
       "      <td>1</td>\n",
       "    </tr>\n",
       "    <tr>\n",
       "      <th>4</th>\n",
       "      <td>0.406797</td>\n",
       "      <td>0.758001</td>\n",
       "      <td>-1.207116</td>\n",
       "      <td>0.360759</td>\n",
       "      <td>0.259308</td>\n",
       "      <td>-0.622621</td>\n",
       "      <td>1.150937</td>\n",
       "      <td>-1.139557</td>\n",
       "      <td>0.356180</td>\n",
       "      <td>0.741608</td>\n",
       "      <td>...</td>\n",
       "      <td>1.265810</td>\n",
       "      <td>0.420888</td>\n",
       "      <td>1.706133</td>\n",
       "      <td>0.340541</td>\n",
       "      <td>0.219380</td>\n",
       "      <td>0.410927</td>\n",
       "      <td>-0.279530</td>\n",
       "      <td>0.145340</td>\n",
       "      <td>1</td>\n",
       "      <td>1</td>\n",
       "    </tr>\n",
       "  </tbody>\n",
       "</table>\n",
       "<p>5 rows × 133 columns</p>\n",
       "</div>"
      ],
      "text/plain": [
       "   UUAAUGCUAAUCGUGAUAGGGGUU  \\\n",
       "0                  0.176525   \n",
       "1                  0.518273   \n",
       "2                  0.164725   \n",
       "3                 -0.925672   \n",
       "4                  0.406797   \n",
       "\n",
       "   CGGGGUGAGGUAGUAGGUUGUGUGGUUUCAGGGCAGUGAUGUUGCCCCUCGGAAGAUAACUAUACAACCUACUGCCUUCCCUG  \\\n",
       "0                                          -1.108518                                     \n",
       "1                                          -0.908649                                     \n",
       "2                                           0.724074                                     \n",
       "3                                          -0.498739                                     \n",
       "4                                           0.758001                                     \n",
       "\n",
       "   GCAUCCGGGUUGAGGUAGUAGGUUGUAUGGUUUAGAGUUACACCCUGGGAGUUAACUGUACAACCUUCUAGCUUUCCUUGGAGC  \\\n",
       "0                                          -1.031256                                      \n",
       "1                                           0.120835                                      \n",
       "2                                           1.766067                                      \n",
       "3                                          -1.921376                                      \n",
       "4                                          -1.207116                                      \n",
       "\n",
       "   CCUAGGAAGAGGUAGUAGGUUGCAUAGUUUUAGGGCAGGGAUUUUGCCCACAAGGAGGUAACUAUACGACCUGCUGCCUUUCUUAGG  \\\n",
       "0                                          -0.489093                                         \n",
       "1                                           0.171963                                         \n",
       "2                                           0.658221                                         \n",
       "3                                          -0.184920                                         \n",
       "4                                           0.360759                                         \n",
       "\n",
       "   CCCGGGCUGAGGUAGGAGGUUGUAUAGUUGAGGAGGACACCCAAGGAGAUCACUAUACGGCCUCCUAGCUUUCCCCAGG  \\\n",
       "0                                          -0.835109                                 \n",
       "1                                          -0.345348                                 \n",
       "2                                          -0.133858                                 \n",
       "3                                          -0.109327                                 \n",
       "4                                           0.259308                                 \n",
       "\n",
       "   AGGCUGAGGUAGUAGUUUGUACAGUUUGAGGGUCUAUGAUACCACCCGGUACAGGAGAUAACUGUACAGGCCACUGCCUUGCCA  \\\n",
       "0                                          -1.621483                                      \n",
       "1                                          -0.192544                                      \n",
       "2                                           1.384993                                      \n",
       "3                                          -0.220717                                      \n",
       "4                                          -0.622621                                      \n",
       "\n",
       "   UGGAAUGUAAAGAAGUAUGUAU  AACCCGUAGAUCCGAACUUGUG  UACAGUACUGUGAUAACUGAA  \\\n",
       "0               -0.776607                1.334986              -0.216856   \n",
       "1                0.019974               -0.988149              -0.502545   \n",
       "2                1.620195               -1.415455              -0.174647   \n",
       "3                0.335086                2.042391              -0.649772   \n",
       "4                1.150937               -1.139557               0.356180   \n",
       "\n",
       "   AAAAGUGCUUACAGUGCAGGUAG  ...  AAUGGCGCCACUAGGGUUGUG  \\\n",
       "0                -1.300842  ...              -2.109249   \n",
       "1                -0.540644  ...              -1.267436   \n",
       "2                 0.357479  ...               0.980741   \n",
       "3                -0.212973  ...               0.281090   \n",
       "4                 0.741608  ...               1.265810   \n",
       "\n",
       "   UACCCAUUGCAUAUCGGAGUUG  UGCGGGGCUAGGGCUAACAGCA  UCCAUUACACUACCCUGCCUCU  \\\n",
       "0               -0.633315               -2.231290               -0.897220   \n",
       "1               -0.157878               -2.257459               -0.304388   \n",
       "2               -0.465830                1.988705               -0.392441   \n",
       "3               -0.620746                1.147010               -1.083097   \n",
       "4                0.420888                1.706133                0.340541   \n",
       "\n",
       "   UAUUGCACUUGUCCCGGCCUGU  CAAAGUGCUGUUCGUGCAGGUAG  AACCCGUAGAUCCGAUCUUGUG  \\\n",
       "0               -0.478103                -1.319766                0.632179   \n",
       "1               -0.573298                -0.649125               -0.997887   \n",
       "2               -0.247182                 0.153138               -1.547748   \n",
       "3               -0.168145                -0.272738                1.834038   \n",
       "4                0.219380                 0.410927               -0.279530   \n",
       "\n",
       "   CACCCGUAGAACCGACCUUGCG  cancer  stage  \n",
       "0               -1.381472       1      1  \n",
       "1               -0.134847       1      1  \n",
       "2                0.144315       1      1  \n",
       "3               -0.735289       1      1  \n",
       "4                0.145340       1      1  \n",
       "\n",
       "[5 rows x 133 columns]"
      ]
     },
     "execution_count": 65,
     "metadata": {},
     "output_type": "execute_result"
    }
   ],
   "source": [
    "adj_norm_log_table.columns = sequences\n",
    "adj_norm_log_table *= -1\n",
    "adj_norm_log_table[\"cancer\"] = sick\n",
    "adj_norm_log_table[\"stage\"] = list(metadata[\"Stage\"].apply(lambda x: 0 if x is np.nan else int(x[0])))\n",
    "adj_norm_log_table.head()"
   ]
  },
  {
   "cell_type": "code",
   "execution_count": 66,
   "metadata": {},
   "outputs": [],
   "source": [
    "adj_norm_log_table.to_csv(\"../TransformedData/Boeri2011_staged.csv\", index=False)"
   ]
  },
  {
   "cell_type": "code",
   "execution_count": null,
   "metadata": {},
   "outputs": [],
   "source": []
  }
 ],
 "metadata": {
  "kernelspec": {
   "display_name": "Python 3 (ipykernel)",
   "language": "python",
   "name": "python3"
  },
  "language_info": {
   "codemirror_mode": {
    "name": "ipython",
    "version": 3
   },
   "file_extension": ".py",
   "mimetype": "text/x-python",
   "name": "python",
   "nbconvert_exporter": "python",
   "pygments_lexer": "ipython3",
   "version": "3.10.1"
  }
 },
 "nbformat": 4,
 "nbformat_minor": 4
}
