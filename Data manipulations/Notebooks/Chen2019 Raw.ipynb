{
 "cells": [
  {
   "cell_type": "code",
   "execution_count": 41,
   "id": "51571063-765e-4749-be5b-33b5e9efa9ed",
   "metadata": {},
   "outputs": [],
   "source": [
    "%matplotlib inline\n",
    "import matplotlib.pyplot as plt\n",
    "import pandas as pd\n",
    "import numpy as np\n",
    "from sklego.linear_model import LowessRegression\n",
    "from sklearn import decomposition"
   ]
  },
  {
   "cell_type": "code",
   "execution_count": 42,
   "id": "18fed604-f30f-4b19-b197-e7ac891f77d8",
   "metadata": {},
   "outputs": [],
   "source": [
    "data = pd.read_csv(\"../Dataset/Chen2019/data.csv\")"
   ]
  },
  {
   "cell_type": "code",
   "execution_count": 43,
   "id": "182d912a-8445-406d-968a-da2809674aa6",
   "metadata": {},
   "outputs": [],
   "source": [
    "table = data.iloc[:, 1:].transpose()\n",
    "table.index = list(range(len(table)))\n",
    "mirnas = data.iloc[:, 0]"
   ]
  },
  {
   "cell_type": "code",
   "execution_count": 44,
   "id": "6f8415bb-f7c8-4f94-827c-42e51256095d",
   "metadata": {},
   "outputs": [],
   "source": [
    "table = table.drop([1, 4, 20])"
   ]
  },
  {
   "cell_type": "code",
   "execution_count": 45,
   "id": "761dab15-926a-4095-afaf-50b1d4ecbc66",
   "metadata": {},
   "outputs": [
    {
     "data": {
      "text/html": [
       "<div>\n",
       "<style scoped>\n",
       "    .dataframe tbody tr th:only-of-type {\n",
       "        vertical-align: middle;\n",
       "    }\n",
       "\n",
       "    .dataframe tbody tr th {\n",
       "        vertical-align: top;\n",
       "    }\n",
       "\n",
       "    .dataframe thead th {\n",
       "        text-align: right;\n",
       "    }\n",
       "</style>\n",
       "<table border=\"1\" class=\"dataframe\">\n",
       "  <thead>\n",
       "    <tr style=\"text-align: right;\">\n",
       "      <th></th>\n",
       "      <th>0</th>\n",
       "      <th>1</th>\n",
       "      <th>2</th>\n",
       "      <th>3</th>\n",
       "      <th>4</th>\n",
       "      <th>5</th>\n",
       "      <th>6</th>\n",
       "      <th>7</th>\n",
       "      <th>8</th>\n",
       "      <th>9</th>\n",
       "      <th>...</th>\n",
       "      <th>1499</th>\n",
       "      <th>1500</th>\n",
       "      <th>1501</th>\n",
       "      <th>1502</th>\n",
       "      <th>1503</th>\n",
       "      <th>1504</th>\n",
       "      <th>1505</th>\n",
       "      <th>1506</th>\n",
       "      <th>1507</th>\n",
       "      <th>1508</th>\n",
       "    </tr>\n",
       "  </thead>\n",
       "  <tbody>\n",
       "    <tr>\n",
       "      <th>0</th>\n",
       "      <td>306.514630</td>\n",
       "      <td>6504.479293</td>\n",
       "      <td>0.0</td>\n",
       "      <td>36055.276130</td>\n",
       "      <td>0.0</td>\n",
       "      <td>1273.827034</td>\n",
       "      <td>2814.361604</td>\n",
       "      <td>1228.048875</td>\n",
       "      <td>0.0</td>\n",
       "      <td>177.141572</td>\n",
       "      <td>...</td>\n",
       "      <td>332.389242</td>\n",
       "      <td>1.990355</td>\n",
       "      <td>25.874612</td>\n",
       "      <td>0.0</td>\n",
       "      <td>67.672061</td>\n",
       "      <td>0.0</td>\n",
       "      <td>340.350661</td>\n",
       "      <td>28802.423460</td>\n",
       "      <td>77.623835</td>\n",
       "      <td>1570.389891</td>\n",
       "    </tr>\n",
       "    <tr>\n",
       "      <th>2</th>\n",
       "      <td>142.481447</td>\n",
       "      <td>9437.584674</td>\n",
       "      <td>0.0</td>\n",
       "      <td>22678.699510</td>\n",
       "      <td>0.0</td>\n",
       "      <td>1381.345556</td>\n",
       "      <td>1388.590375</td>\n",
       "      <td>912.847238</td>\n",
       "      <td>0.0</td>\n",
       "      <td>84.522892</td>\n",
       "      <td>...</td>\n",
       "      <td>251.153738</td>\n",
       "      <td>2.414940</td>\n",
       "      <td>16.904578</td>\n",
       "      <td>0.0</td>\n",
       "      <td>21.734458</td>\n",
       "      <td>0.0</td>\n",
       "      <td>106.257351</td>\n",
       "      <td>46127.764800</td>\n",
       "      <td>7.244819</td>\n",
       "      <td>1714.607246</td>\n",
       "    </tr>\n",
       "    <tr>\n",
       "      <th>3</th>\n",
       "      <td>196.808885</td>\n",
       "      <td>1307.373304</td>\n",
       "      <td>0.0</td>\n",
       "      <td>11133.759750</td>\n",
       "      <td>0.0</td>\n",
       "      <td>267.097772</td>\n",
       "      <td>98.404442</td>\n",
       "      <td>238.982217</td>\n",
       "      <td>0.0</td>\n",
       "      <td>14.057777</td>\n",
       "      <td>...</td>\n",
       "      <td>323.328882</td>\n",
       "      <td>14.057777</td>\n",
       "      <td>0.000000</td>\n",
       "      <td>0.0</td>\n",
       "      <td>70.288887</td>\n",
       "      <td>0.0</td>\n",
       "      <td>112.462220</td>\n",
       "      <td>4470.373234</td>\n",
       "      <td>14.057777</td>\n",
       "      <td>140.577775</td>\n",
       "    </tr>\n",
       "    <tr>\n",
       "      <th>5</th>\n",
       "      <td>0.000000</td>\n",
       "      <td>3172.157520</td>\n",
       "      <td>0.0</td>\n",
       "      <td>15241.461610</td>\n",
       "      <td>0.0</td>\n",
       "      <td>619.325992</td>\n",
       "      <td>1253.757496</td>\n",
       "      <td>226.582680</td>\n",
       "      <td>0.0</td>\n",
       "      <td>30.211024</td>\n",
       "      <td>...</td>\n",
       "      <td>15.105512</td>\n",
       "      <td>15.105512</td>\n",
       "      <td>0.000000</td>\n",
       "      <td>0.0</td>\n",
       "      <td>0.000000</td>\n",
       "      <td>0.0</td>\n",
       "      <td>0.000000</td>\n",
       "      <td>12688.630080</td>\n",
       "      <td>75.527560</td>\n",
       "      <td>1676.711832</td>\n",
       "    </tr>\n",
       "    <tr>\n",
       "      <th>6</th>\n",
       "      <td>9.848239</td>\n",
       "      <td>1624.959376</td>\n",
       "      <td>0.0</td>\n",
       "      <td>6568.775175</td>\n",
       "      <td>0.0</td>\n",
       "      <td>502.260171</td>\n",
       "      <td>1940.103013</td>\n",
       "      <td>68.937670</td>\n",
       "      <td>0.0</td>\n",
       "      <td>19.696477</td>\n",
       "      <td>...</td>\n",
       "      <td>167.420057</td>\n",
       "      <td>9.848239</td>\n",
       "      <td>0.000000</td>\n",
       "      <td>0.0</td>\n",
       "      <td>0.000000</td>\n",
       "      <td>0.0</td>\n",
       "      <td>226.509489</td>\n",
       "      <td>17086.694040</td>\n",
       "      <td>0.000000</td>\n",
       "      <td>669.680228</td>\n",
       "    </tr>\n",
       "  </tbody>\n",
       "</table>\n",
       "<p>5 rows × 1509 columns</p>\n",
       "</div>"
      ],
      "text/plain": [
       "         0            1     2             3     4            5     \\\n",
       "0  306.514630  6504.479293   0.0  36055.276130   0.0  1273.827034   \n",
       "2  142.481447  9437.584674   0.0  22678.699510   0.0  1381.345556   \n",
       "3  196.808885  1307.373304   0.0  11133.759750   0.0   267.097772   \n",
       "5    0.000000  3172.157520   0.0  15241.461610   0.0   619.325992   \n",
       "6    9.848239  1624.959376   0.0   6568.775175   0.0   502.260171   \n",
       "\n",
       "          6            7     8           9     ...        1499       1500  \\\n",
       "0  2814.361604  1228.048875   0.0  177.141572  ...  332.389242   1.990355   \n",
       "2  1388.590375   912.847238   0.0   84.522892  ...  251.153738   2.414940   \n",
       "3    98.404442   238.982217   0.0   14.057777  ...  323.328882  14.057777   \n",
       "5  1253.757496   226.582680   0.0   30.211024  ...   15.105512  15.105512   \n",
       "6  1940.103013    68.937670   0.0   19.696477  ...  167.420057   9.848239   \n",
       "\n",
       "        1501  1502       1503  1504        1505          1506       1507  \\\n",
       "0  25.874612   0.0  67.672061   0.0  340.350661  28802.423460  77.623835   \n",
       "2  16.904578   0.0  21.734458   0.0  106.257351  46127.764800   7.244819   \n",
       "3   0.000000   0.0  70.288887   0.0  112.462220   4470.373234  14.057777   \n",
       "5   0.000000   0.0   0.000000   0.0    0.000000  12688.630080  75.527560   \n",
       "6   0.000000   0.0   0.000000   0.0  226.509489  17086.694040   0.000000   \n",
       "\n",
       "          1508  \n",
       "0  1570.389891  \n",
       "2  1714.607246  \n",
       "3   140.577775  \n",
       "5  1676.711832  \n",
       "6   669.680228  \n",
       "\n",
       "[5 rows x 1509 columns]"
      ]
     },
     "execution_count": 45,
     "metadata": {},
     "output_type": "execute_result"
    }
   ],
   "source": [
    "table.head()"
   ]
  },
  {
   "cell_type": "code",
   "execution_count": 46,
   "id": "c3bd2114-37e9-4202-8a94-354874a66834",
   "metadata": {},
   "outputs": [],
   "source": [
    "sick = np.array([\"cancer\" in k for k in data.columns[1:]])\n",
    "sick = np.delete(sick, [1, 4, 20])\n",
    "controls = 1 - sick"
   ]
  },
  {
   "cell_type": "code",
   "execution_count": 47,
   "id": "4be20a22-f350-4af6-8f9b-071ba7b272e7",
   "metadata": {},
   "outputs": [
    {
     "data": {
      "text/plain": [
       "array([False, False, False, False, False, False, False,  True,  True,\n",
       "        True,  True,  True,  True,  True,  True,  True,  True, False,\n",
       "       False, False, False, False, False, False, False,  True,  True,\n",
       "        True,  True,  True,  True,  True,  True,  True,  True, False,\n",
       "       False, False, False, False, False, False, False, False,  True,\n",
       "        True,  True,  True,  True,  True,  True,  True,  True,  True])"
      ]
     },
     "execution_count": 47,
     "metadata": {},
     "output_type": "execute_result"
    }
   ],
   "source": [
    "sick"
   ]
  },
  {
   "cell_type": "code",
   "execution_count": 48,
   "id": "d8e83671-ca89-41e3-8031-6bcf05c9bed5",
   "metadata": {
    "tags": []
   },
   "outputs": [],
   "source": [
    "def get_means_and_variances(table):\n",
    "    return np.mean(table), np.var(table, ddof=1)"
   ]
  },
  {
   "cell_type": "code",
   "execution_count": 49,
   "id": "eaa2d682-f25d-4e2a-8bbf-ebf71016017d",
   "metadata": {
    "tags": []
   },
   "outputs": [],
   "source": [
    "def mean_variance_plot(table):\n",
    "    means, variances = get_means_and_variances(table)\n",
    "    plt.scatter(means, variances)\n",
    "    plt.xlabel(\"mean\")\n",
    "    plt.ylabel(\"variance\")\n",
    "    plt.plot()"
   ]
  },
  {
   "cell_type": "code",
   "execution_count": 50,
   "id": "9635b022-30b0-450c-9cea-b8dce23794e4",
   "metadata": {},
   "outputs": [],
   "source": [
    "def mean_std_plot(table):\n",
    "    means, variances = get_means_and_variances(table)\n",
    "    plt.scatter(means, np.sqrt(variances))\n",
    "    plt.xlabel(\"mean\")\n",
    "    plt.ylabel(\"std dev\")\n",
    "    plt.plot()"
   ]
  },
  {
   "cell_type": "code",
   "execution_count": 51,
   "id": "cb902c65-85f4-4ddf-9212-4fffbfd74535",
   "metadata": {},
   "outputs": [
    {
     "data": {
      "image/png": "[encoded data removed]",
      "text/plain": [
       "<Figure size 432x288 with 1 Axes>"
      ]
     },
     "metadata": {
      "needs_background": "light"
     },
     "output_type": "display_data"
    }
   ],
   "source": [
    "mean_variance_plot(table.loc[:, np.mean(table) < 1000])"
   ]
  },
  {
   "cell_type": "code",
   "execution_count": 52,
   "id": "8616c596-d0fc-4859-9955-c61380bb01b7",
   "metadata": {},
   "outputs": [
    {
     "data": {
      "image/png": "[encoded data removed]",
      "text/plain": [
       "<Figure size 432x288 with 1 Axes>"
      ]
     },
     "metadata": {
      "needs_background": "light"
     },
     "output_type": "display_data"
    }
   ],
   "source": [
    "mean_std_plot(table.loc[:, np.mean(table) < 1000])"
   ]
  },
  {
   "cell_type": "code",
   "execution_count": 53,
   "id": "ed7038ea-74c1-4efc-9feb-82a01621f936",
   "metadata": {},
   "outputs": [
    {
     "data": {
      "image/png": "[encoded data removed]",
      "text/plain": [
       "<Figure size 432x288 with 1 Axes>"
      ]
     },
     "metadata": {
      "needs_background": "light"
     },
     "output_type": "display_data"
    }
   ],
   "source": [
    "mean_std_plot(table.loc[:, np.logical_and(np.mean(table) < 1000, 3 * np.mean(table) > np.std(table))])"
   ]
  },
  {
   "cell_type": "markdown",
   "id": "a6d44b1d-acb6-4491-a623-e11fb93b77d4",
   "metadata": {
    "tags": []
   },
   "source": [
    "### Log transformation"
   ]
  },
  {
   "cell_type": "code",
   "execution_count": 54,
   "id": "6818fd08-674c-4b51-973c-b553c660ce98",
   "metadata": {},
   "outputs": [],
   "source": [
    "log_table = table #np.log2(table + 1)"
   ]
  },
  {
   "cell_type": "code",
   "execution_count": 55,
   "id": "ef3b908d-215c-49b7-817c-59844b6d2850",
   "metadata": {},
   "outputs": [
    {
     "data": {
      "image/png": "[encoded data removed]",
      "text/plain": [
       "<Figure size 432x288 with 1 Axes>"
      ]
     },
     "metadata": {
      "needs_background": "light"
     },
     "output_type": "display_data"
    }
   ],
   "source": [
    "mean_variance_plot(log_table)"
   ]
  },
  {
   "cell_type": "markdown",
   "id": "b2273c3f-66d9-4da2-ad32-6f5be535b456",
   "metadata": {
    "tags": []
   },
   "source": [
    "### Loess regression"
   ]
  },
  {
   "cell_type": "code",
   "execution_count": 56,
   "id": "ef84cfdf-544b-439b-9126-3d6ce334380a",
   "metadata": {
    "tags": []
   },
   "outputs": [],
   "source": [
    "lowess = LowessRegression(sigma=1, span=0.1)"
   ]
  },
  {
   "cell_type": "code",
   "execution_count": 57,
   "id": "28ee42aa-b298-47cd-833f-f38dc3912a7e",
   "metadata": {},
   "outputs": [
    {
     "data": {
      "text/plain": [
       "LowessRegression(span=0.1)"
      ]
     },
     "execution_count": 57,
     "metadata": {},
     "output_type": "execute_result"
    }
   ],
   "source": [
    "means, variances = get_means_and_variances(log_table)\n",
    "lowess.fit(means.to_numpy().reshape(-1,1), variances)"
   ]
  },
  {
   "cell_type": "code",
   "execution_count": 58,
   "id": "0da42c97-999f-4a9b-842b-fb6686fa6b19",
   "metadata": {},
   "outputs": [],
   "source": [
    "x_axis = np.linspace(-2, 14, 100)\n",
    "y_axis = lowess.predict(x_axis.reshape(-1,1))"
   ]
  },
  {
   "cell_type": "code",
   "execution_count": 59,
   "id": "67196274-4a56-4236-b29f-5c347a002c2e",
   "metadata": {},
   "outputs": [
    {
     "data": {
      "text/plain": [
       "[]"
      ]
     },
     "execution_count": 59,
     "metadata": {},
     "output_type": "execute_result"
    },
    {
     "data": {
      "image/png": "[encoded data removed]",
      "text/plain": [
       "<Figure size 432x288 with 1 Axes>"
      ]
     },
     "metadata": {
      "needs_background": "light"
     },
     "output_type": "display_data"
    }
   ],
   "source": [
    "plt.scatter(means, variances, color=\"b\")\n",
    "plt.scatter(x_axis, y_axis, color=\"y\")\n",
    "plt.xlabel(\"mean\")\n",
    "plt.ylabel(\"variance\")\n",
    "plt.legend([\"Sample points\", \"Lowess regression\"])\n",
    "plt.plot()"
   ]
  },
  {
   "cell_type": "code",
   "execution_count": 60,
   "id": "3e0b15bf-bd89-4a6d-900c-2ce5f91737b5",
   "metadata": {
    "tags": []
   },
   "outputs": [],
   "source": [
    "norm_log_table = log_table# - np.mean(log_table)"
   ]
  },
  {
   "cell_type": "code",
   "execution_count": 61,
   "id": "644afa68-3b6c-4480-bb87-65391cdaab84",
   "metadata": {},
   "outputs": [],
   "source": [
    "#norm_log_table /= np.sqrt(np.mean(np.var(norm_log_table, ddof=1)))"
   ]
  },
  {
   "cell_type": "code",
   "execution_count": 62,
   "id": "f8faca5c-44cc-47b4-8e81-fb1482fb2638",
   "metadata": {},
   "outputs": [
    {
     "data": {
      "image/png": "[encoded data removed]",
      "text/plain": [
       "<Figure size 432x288 with 1 Axes>"
      ]
     },
     "metadata": {
      "needs_background": "light"
     },
     "output_type": "display_data"
    }
   ],
   "source": [
    "mean_variance_plot(norm_log_table)"
   ]
  },
  {
   "cell_type": "markdown",
   "id": "af4d24c8-8ace-45e2-bc63-e3095e5e0645",
   "metadata": {
    "tags": []
   },
   "source": [
    "# PCA"
   ]
  },
  {
   "cell_type": "code",
   "execution_count": 63,
   "id": "a22c8cc3-8750-4025-a8ff-a9859aecb364",
   "metadata": {
    "tags": []
   },
   "outputs": [],
   "source": [
    "pca = decomposition.PCA(n_components=2)"
   ]
  },
  {
   "cell_type": "code",
   "execution_count": 64,
   "id": "42a36e02-ef1f-4886-8334-c2c0279aa222",
   "metadata": {},
   "outputs": [
    {
     "data": {
      "text/plain": [
       "PCA(n_components=2)"
      ]
     },
     "execution_count": 64,
     "metadata": {},
     "output_type": "execute_result"
    }
   ],
   "source": [
    "pca.fit(norm_log_table)"
   ]
  },
  {
   "cell_type": "code",
   "execution_count": 65,
   "id": "d046be37-ace2-4a94-997c-c23c14d18ec3",
   "metadata": {
    "tags": []
   },
   "outputs": [],
   "source": [
    "components = pca.transform(norm_log_table)"
   ]
  },
  {
   "cell_type": "code",
   "execution_count": 66,
   "id": "e5a61503-f8a6-447a-b3df-9e9a401e85ba",
   "metadata": {},
   "outputs": [
    {
     "data": {
      "text/plain": [
       "array([[  14767.6136783 ,  -21655.43765043],\n",
       "       [  92085.14165186,   45879.20051657],\n",
       "       [ 238783.87849602, -176535.06768653],\n",
       "       [ 188269.75120971,  -12488.41421397],\n",
       "       [ 226880.83583917, -150383.88676859],\n",
       "       [ 269126.88917155, -203593.66982024],\n",
       "       [ 150948.89916216,  -36891.55543304],\n",
       "       [  16863.76269478,   67247.48957548],\n",
       "       [  46269.7330779 ,   17926.67734418],\n",
       "       [  33527.5430246 ,   80867.23146488],\n",
       "       [  -3227.52440068,  -55806.29107619],\n",
       "       [  77964.6475047 ,   24095.27318383],\n",
       "       [ 114932.97302721,  -76794.53007252],\n",
       "       [ 138533.00518262,   61276.88836357],\n",
       "       [ 165526.04699054,  -55413.66166772],\n",
       "       [  78942.22587498,  -23260.94071894],\n",
       "       [ -53301.41190826,   -3074.25267096],\n",
       "       [-113279.93589716,  -28854.77655099],\n",
       "       [ -23302.2431903 ,   14326.57440527],\n",
       "       [-170447.05213498,  -63851.15717892],\n",
       "       [-164340.54233305,  -57231.8331466 ],\n",
       "       [  21322.89733104,   31732.2913553 ],\n",
       "       [  16569.63784116,   13891.76796769],\n",
       "       [-199966.29875356,  -80340.28625983],\n",
       "       [  46382.77572252,   -9666.54921272],\n",
       "       [-126616.54938629,  -26199.21053364],\n",
       "       [-133379.00414152,  -30342.43667643],\n",
       "       [-125596.48771821,  -24299.57518676],\n",
       "       [-198890.20745741,  -74382.01830672],\n",
       "       [ -75494.34774519,    -972.23515873],\n",
       "       [    608.49103565,   44128.39044046],\n",
       "       [-144891.39896184,   17591.05332331],\n",
       "       [ -81275.63304591,  -26708.81361922],\n",
       "       [ -20374.74642199,   12455.67728796],\n",
       "       [-212338.35767245,  -50912.24035927],\n",
       "       [ -58367.99965623,   20757.41828364],\n",
       "       [  31830.14319694,   64091.87405293],\n",
       "       [ -56802.25470468,   25938.11731935],\n",
       "       [ -11556.51850436,    8741.72735612],\n",
       "       [-127450.42531946,  -48081.4844539 ],\n",
       "       [  -4668.49377862,   69634.02905296],\n",
       "       [  62291.97409128,   90937.61058908],\n",
       "       [  93852.68647954,  236388.98886625],\n",
       "       [ -43941.22658027,   -2775.0400073 ],\n",
       "       [  45888.69759602,  -23118.18651005],\n",
       "       [   3026.94967154,    8767.85461883],\n",
       "       [  -9048.94426457,   17607.09867345],\n",
       "       [ -88060.64881491,  -30398.7653024 ],\n",
       "       [  -1832.61206433,   54663.63261242],\n",
       "       [  59821.55508367,   92892.6941582 ],\n",
       "       [  87199.20517604,  207589.32498106],\n",
       "       [  47798.86605721,   54433.6050687 ],\n",
       "       [ -25697.82594583,   65476.96365615],\n",
       "       [ -95868.13506667,  -55307.13827503]])"
      ]
     },
     "execution_count": 66,
     "metadata": {},
     "output_type": "execute_result"
    }
   ],
   "source": [
    "components"
   ]
  },
  {
   "cell_type": "code",
   "execution_count": 67,
   "id": "3fdf0eb5-a398-4551-9867-c2f1930fd5f0",
   "metadata": {},
   "outputs": [
    {
     "data": {
      "image/png": "[encoded data removed]",
      "text/plain": [
       "<Figure size 576x576 with 1 Axes>"
      ]
     },
     "metadata": {
      "needs_background": "light"
     },
     "output_type": "display_data"
    }
   ],
   "source": [
    "fig = plt.figure(figsize = (8,8))\n",
    "ax = fig.add_subplot(1,1,1)\n",
    "\n",
    "ax.set_xlabel('Principal Component 1', fontsize = 15)\n",
    "ax.set_ylabel('Principal Component 2', fontsize = 15)\n",
    "ax.set_title('2 component PCA', fontsize = 20)\n",
    "targets = ['Cancer', 'Healthy']\n",
    "colors = ['r', 'g']\n",
    "ax.scatter(components[controls == False, 0], components[controls == False, 1], c = 'r', s = 10)\n",
    "ax.scatter(components[controls == True, 0], components[controls == True, 1], c = 'g', s = 10)\n",
    "ax.legend(targets)\n",
    "ax.grid()"
   ]
  },
  {
   "cell_type": "code",
   "execution_count": 68,
   "id": "3f670b90-d839-4472-afbc-2a733a98ab2c",
   "metadata": {},
   "outputs": [
    {
     "data": {
      "text/plain": [
       "(array([ 0,  1,  2,  3,  4,  5,  6,  7,  8,  9, 11, 12, 13, 14, 15, 21, 22,\n",
       "        24, 30, 36, 41, 42, 44, 45, 49, 50, 51], dtype=int64),)"
      ]
     },
     "execution_count": 68,
     "metadata": {},
     "output_type": "execute_result"
    }
   ],
   "source": [
    "np.nonzero(components[:, 0] > 30)"
   ]
  },
  {
   "cell_type": "markdown",
   "id": "ae82e403-bf6b-47bb-be6f-325cbe9eca36",
   "metadata": {},
   "source": [
    "### Export dataset"
   ]
  },
  {
   "cell_type": "code",
   "execution_count": 69,
   "id": "71cebfc7-6d15-4268-a8c6-1d4c1597ab1a",
   "metadata": {},
   "outputs": [],
   "source": [
    "from Scripts import converters"
   ]
  },
  {
   "cell_type": "code",
   "execution_count": 70,
   "id": "842710db-c56a-4c2b-80c7-824c3901c166",
   "metadata": {},
   "outputs": [
    {
     "data": {
      "text/plain": [
       "'hsa-let-7a-3p'"
      ]
     },
     "execution_count": 70,
     "metadata": {},
     "output_type": "execute_result"
    }
   ],
   "source": [
    "mirnas[0]"
   ]
  },
  {
   "cell_type": "code",
   "execution_count": 71,
   "id": "633a8813-9877-4315-822e-8ce0b42ee8c8",
   "metadata": {},
   "outputs": [],
   "source": [
    "sequences = converters.canonical_to_seq(mirnas)"
   ]
  },
  {
   "cell_type": "code",
   "execution_count": 72,
   "id": "e01f06c0-2bfb-4e65-ae84-e752dead9583",
   "metadata": {},
   "outputs": [
    {
     "data": {
      "text/plain": [
       "['CUAUACAAUCUACUGUCUUUC',\n",
       " 'UGAGGUAGUAGGUUGUAUAGUU',\n",
       " 'CUAUACAACCUACUGCCUUCCC',\n",
       " 'UGAGGUAGUAGGUUGUGUGGUU',\n",
       " 'CUGUACAACCUUCUAGCUUUCC',\n",
       " 'UGAGGUAGUAGGUUGUAUGGUU',\n",
       " 'CUAUACGACCUGCUGCCUUUCU',\n",
       " 'AGAGGUAGUAGGUUGCAUAGUU',\n",
       " 'CUAUACGGCCUCCUAGCUUUCC',\n",
       " 'UGAGGUAGGAGGUUGUAUAGUU']"
      ]
     },
     "execution_count": 72,
     "metadata": {},
     "output_type": "execute_result"
    }
   ],
   "source": [
    "sequences[:10]"
   ]
  },
  {
   "cell_type": "code",
   "execution_count": 73,
   "id": "a95048a1-fe65-4693-896e-855a96af964f",
   "metadata": {},
   "outputs": [
    {
     "data": {
      "text/plain": [
       "254    hsa-miR-199a-3p\n",
       "256    hsa-miR-199b-3p\n",
       "Name: miRNA, dtype: object"
      ]
     },
     "execution_count": 73,
     "metadata": {},
     "output_type": "execute_result"
    }
   ],
   "source": [
    "sequences = np.array(sequences)\n",
    "mirnas[sequences == \"ACAGUAGUCUGCACAUUGGUUA\"]"
   ]
  },
  {
   "cell_type": "code",
   "execution_count": 74,
   "id": "4ae17864-fff2-4d04-a174-795bd2f69bc9",
   "metadata": {},
   "outputs": [
    {
     "data": {
      "text/plain": [
       "(array([0, 0], dtype=int64), array([254, 256], dtype=int64))"
      ]
     },
     "execution_count": 74,
     "metadata": {},
     "output_type": "execute_result"
    }
   ],
   "source": [
    "np.nonzero([sequences == \"ACAGUAGUCUGCACAUUGGUUA\"])"
   ]
  },
  {
   "cell_type": "code",
   "execution_count": 75,
   "id": "feda50fc-f93e-49f1-96a0-39357c7eea8b",
   "metadata": {},
   "outputs": [
    {
     "name": "stderr",
     "output_type": "stream",
     "text": [
      "C:\\Users\\olefr\\AppData\\Local\\Temp/ipykernel_13220/890718696.py:2: FutureWarning: In a future version of pandas all arguments of DataFrame.drop except for the argument 'labels' will be keyword-only\n",
      "  norm_log_table = norm_log_table.drop(norm_log_table.columns[71], 1)\n"
     ]
    }
   ],
   "source": [
    "sequences = np.delete(sequences, [71])\n",
    "norm_log_table = norm_log_table.drop(norm_log_table.columns[71], 1)"
   ]
  },
  {
   "cell_type": "code",
   "execution_count": 76,
   "id": "1bd16f9a-c805-4161-aefd-d66c118fd2db",
   "metadata": {},
   "outputs": [
    {
     "data": {
      "text/html": [
       "<div>\n",
       "<style scoped>\n",
       "    .dataframe tbody tr th:only-of-type {\n",
       "        vertical-align: middle;\n",
       "    }\n",
       "\n",
       "    .dataframe tbody tr th {\n",
       "        vertical-align: top;\n",
       "    }\n",
       "\n",
       "    .dataframe thead th {\n",
       "        text-align: right;\n",
       "    }\n",
       "</style>\n",
       "<table border=\"1\" class=\"dataframe\">\n",
       "  <thead>\n",
       "    <tr style=\"text-align: right;\">\n",
       "      <th></th>\n",
       "      <th>CUAUACAAUCUACUGUCUUUC</th>\n",
       "      <th>UGAGGUAGUAGGUUGUAUAGUU</th>\n",
       "      <th>CUAUACAACCUACUGCCUUCCC</th>\n",
       "      <th>UGAGGUAGUAGGUUGUGUGGUU</th>\n",
       "      <th>CUGUACAACCUUCUAGCUUUCC</th>\n",
       "      <th>UGAGGUAGUAGGUUGUAUGGUU</th>\n",
       "      <th>CUAUACGACCUGCUGCCUUUCU</th>\n",
       "      <th>AGAGGUAGUAGGUUGCAUAGUU</th>\n",
       "      <th>CUAUACGGCCUCCUAGCUUUCC</th>\n",
       "      <th>UGAGGUAGGAGGUUGUAUAGUU</th>\n",
       "      <th>...</th>\n",
       "      <th>AAAUUAUUGUACAUCGGAUGAG</th>\n",
       "      <th>UUCAACGGGUAUUUAUUGAGCA</th>\n",
       "      <th>UCAAUAAAUGUCUGUUGAAUU</th>\n",
       "      <th>UUUGGCACUAGCACAUUUUUGCU</th>\n",
       "      <th>CUAUACAACUUACUACUUUCCC</th>\n",
       "      <th>UGAGGUAGUAAGUUGUAUUGUU</th>\n",
       "      <th>AACCCGUAGAUCCGAUCUUGUG</th>\n",
       "      <th>CAAGCUCGUGUCUGUGGGUCCG</th>\n",
       "      <th>CACCCGUAGAACCGACCUUGCG</th>\n",
       "      <th>cancer</th>\n",
       "    </tr>\n",
       "  </thead>\n",
       "  <tbody>\n",
       "    <tr>\n",
       "      <th>0</th>\n",
       "      <td>306.514630</td>\n",
       "      <td>6504.479293</td>\n",
       "      <td>0.0</td>\n",
       "      <td>36055.276130</td>\n",
       "      <td>0.0</td>\n",
       "      <td>1273.827034</td>\n",
       "      <td>2814.361604</td>\n",
       "      <td>1228.048875</td>\n",
       "      <td>0.0</td>\n",
       "      <td>177.141572</td>\n",
       "      <td>...</td>\n",
       "      <td>1.990355</td>\n",
       "      <td>25.874612</td>\n",
       "      <td>0.0</td>\n",
       "      <td>67.672061</td>\n",
       "      <td>0.0</td>\n",
       "      <td>340.350661</td>\n",
       "      <td>28802.423460</td>\n",
       "      <td>77.623835</td>\n",
       "      <td>1570.389891</td>\n",
       "      <td>False</td>\n",
       "    </tr>\n",
       "    <tr>\n",
       "      <th>2</th>\n",
       "      <td>142.481447</td>\n",
       "      <td>9437.584674</td>\n",
       "      <td>0.0</td>\n",
       "      <td>22678.699510</td>\n",
       "      <td>0.0</td>\n",
       "      <td>1381.345556</td>\n",
       "      <td>1388.590375</td>\n",
       "      <td>912.847238</td>\n",
       "      <td>0.0</td>\n",
       "      <td>84.522892</td>\n",
       "      <td>...</td>\n",
       "      <td>2.414940</td>\n",
       "      <td>16.904578</td>\n",
       "      <td>0.0</td>\n",
       "      <td>21.734458</td>\n",
       "      <td>0.0</td>\n",
       "      <td>106.257351</td>\n",
       "      <td>46127.764800</td>\n",
       "      <td>7.244819</td>\n",
       "      <td>1714.607246</td>\n",
       "      <td>False</td>\n",
       "    </tr>\n",
       "    <tr>\n",
       "      <th>3</th>\n",
       "      <td>196.808885</td>\n",
       "      <td>1307.373304</td>\n",
       "      <td>0.0</td>\n",
       "      <td>11133.759750</td>\n",
       "      <td>0.0</td>\n",
       "      <td>267.097772</td>\n",
       "      <td>98.404442</td>\n",
       "      <td>238.982217</td>\n",
       "      <td>0.0</td>\n",
       "      <td>14.057777</td>\n",
       "      <td>...</td>\n",
       "      <td>14.057777</td>\n",
       "      <td>0.000000</td>\n",
       "      <td>0.0</td>\n",
       "      <td>70.288887</td>\n",
       "      <td>0.0</td>\n",
       "      <td>112.462220</td>\n",
       "      <td>4470.373234</td>\n",
       "      <td>14.057777</td>\n",
       "      <td>140.577775</td>\n",
       "      <td>False</td>\n",
       "    </tr>\n",
       "    <tr>\n",
       "      <th>5</th>\n",
       "      <td>0.000000</td>\n",
       "      <td>3172.157520</td>\n",
       "      <td>0.0</td>\n",
       "      <td>15241.461610</td>\n",
       "      <td>0.0</td>\n",
       "      <td>619.325992</td>\n",
       "      <td>1253.757496</td>\n",
       "      <td>226.582680</td>\n",
       "      <td>0.0</td>\n",
       "      <td>30.211024</td>\n",
       "      <td>...</td>\n",
       "      <td>15.105512</td>\n",
       "      <td>0.000000</td>\n",
       "      <td>0.0</td>\n",
       "      <td>0.000000</td>\n",
       "      <td>0.0</td>\n",
       "      <td>0.000000</td>\n",
       "      <td>12688.630080</td>\n",
       "      <td>75.527560</td>\n",
       "      <td>1676.711832</td>\n",
       "      <td>False</td>\n",
       "    </tr>\n",
       "    <tr>\n",
       "      <th>6</th>\n",
       "      <td>9.848239</td>\n",
       "      <td>1624.959376</td>\n",
       "      <td>0.0</td>\n",
       "      <td>6568.775175</td>\n",
       "      <td>0.0</td>\n",
       "      <td>502.260171</td>\n",
       "      <td>1940.103013</td>\n",
       "      <td>68.937670</td>\n",
       "      <td>0.0</td>\n",
       "      <td>19.696477</td>\n",
       "      <td>...</td>\n",
       "      <td>9.848239</td>\n",
       "      <td>0.000000</td>\n",
       "      <td>0.0</td>\n",
       "      <td>0.000000</td>\n",
       "      <td>0.0</td>\n",
       "      <td>226.509489</td>\n",
       "      <td>17086.694040</td>\n",
       "      <td>0.000000</td>\n",
       "      <td>669.680228</td>\n",
       "      <td>False</td>\n",
       "    </tr>\n",
       "  </tbody>\n",
       "</table>\n",
       "<p>5 rows × 1509 columns</p>\n",
       "</div>"
      ],
      "text/plain": [
       "   CUAUACAAUCUACUGUCUUUC  UGAGGUAGUAGGUUGUAUAGUU  CUAUACAACCUACUGCCUUCCC  \\\n",
       "0             306.514630             6504.479293                     0.0   \n",
       "2             142.481447             9437.584674                     0.0   \n",
       "3             196.808885             1307.373304                     0.0   \n",
       "5               0.000000             3172.157520                     0.0   \n",
       "6               9.848239             1624.959376                     0.0   \n",
       "\n",
       "   UGAGGUAGUAGGUUGUGUGGUU  CUGUACAACCUUCUAGCUUUCC  UGAGGUAGUAGGUUGUAUGGUU  \\\n",
       "0            36055.276130                     0.0             1273.827034   \n",
       "2            22678.699510                     0.0             1381.345556   \n",
       "3            11133.759750                     0.0              267.097772   \n",
       "5            15241.461610                     0.0              619.325992   \n",
       "6             6568.775175                     0.0              502.260171   \n",
       "\n",
       "   CUAUACGACCUGCUGCCUUUCU  AGAGGUAGUAGGUUGCAUAGUU  CUAUACGGCCUCCUAGCUUUCC  \\\n",
       "0             2814.361604             1228.048875                     0.0   \n",
       "2             1388.590375              912.847238                     0.0   \n",
       "3               98.404442              238.982217                     0.0   \n",
       "5             1253.757496              226.582680                     0.0   \n",
       "6             1940.103013               68.937670                     0.0   \n",
       "\n",
       "   UGAGGUAGGAGGUUGUAUAGUU  ...  AAAUUAUUGUACAUCGGAUGAG  \\\n",
       "0              177.141572  ...                1.990355   \n",
       "2               84.522892  ...                2.414940   \n",
       "3               14.057777  ...               14.057777   \n",
       "5               30.211024  ...               15.105512   \n",
       "6               19.696477  ...                9.848239   \n",
       "\n",
       "   UUCAACGGGUAUUUAUUGAGCA  UCAAUAAAUGUCUGUUGAAUU  UUUGGCACUAGCACAUUUUUGCU  \\\n",
       "0               25.874612                    0.0                67.672061   \n",
       "2               16.904578                    0.0                21.734458   \n",
       "3                0.000000                    0.0                70.288887   \n",
       "5                0.000000                    0.0                 0.000000   \n",
       "6                0.000000                    0.0                 0.000000   \n",
       "\n",
       "   CUAUACAACUUACUACUUUCCC  UGAGGUAGUAAGUUGUAUUGUU  AACCCGUAGAUCCGAUCUUGUG  \\\n",
       "0                     0.0              340.350661            28802.423460   \n",
       "2                     0.0              106.257351            46127.764800   \n",
       "3                     0.0              112.462220             4470.373234   \n",
       "5                     0.0                0.000000            12688.630080   \n",
       "6                     0.0              226.509489            17086.694040   \n",
       "\n",
       "   CAAGCUCGUGUCUGUGGGUCCG  CACCCGUAGAACCGACCUUGCG  cancer  \n",
       "0               77.623835             1570.389891   False  \n",
       "2                7.244819             1714.607246   False  \n",
       "3               14.057777              140.577775   False  \n",
       "5               75.527560             1676.711832   False  \n",
       "6                0.000000              669.680228   False  \n",
       "\n",
       "[5 rows x 1509 columns]"
      ]
     },
     "execution_count": 76,
     "metadata": {},
     "output_type": "execute_result"
    }
   ],
   "source": [
    "norm_log_table.columns = sequences\n",
    "norm_log_table[\"cancer\"] = sick\n",
    "norm_log_table.head()"
   ]
  },
  {
   "cell_type": "code",
   "execution_count": 77,
   "id": "4606a5b6-57aa-4937-9df0-d87e96ccc441",
   "metadata": {},
   "outputs": [],
   "source": [
    "norm_log_table.to_csv(\"../TransformedData/Chen2019_raw.csv\", index=False)"
   ]
  },
  {
   "cell_type": "code",
   "execution_count": null,
   "id": "579f2236-2249-4c12-8b58-9028002d5e6a",
   "metadata": {},
   "outputs": [],
   "source": []
  }
 ],
 "metadata": {
  "kernelspec": {
   "display_name": "Python 3 (ipykernel)",
   "language": "python",
   "name": "python3"
  },
  "language_info": {
   "codemirror_mode": {
    "name": "ipython",
    "version": 3
   },
   "file_extension": ".py",
   "mimetype": "text/x-python",
   "name": "python",
   "nbconvert_exporter": "python",
   "pygments_lexer": "ipython3",
   "version": "3.10.1"
  }
 },
 "nbformat": 4,
 "nbformat_minor": 5
}
