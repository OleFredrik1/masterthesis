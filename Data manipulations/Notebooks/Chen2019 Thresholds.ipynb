{
 "cells": [
  {
   "cell_type": "code",
   "execution_count": 901,
   "id": "51571063-765e-4749-be5b-33b5e9efa9ed",
   "metadata": {},
   "outputs": [],
   "source": [
    "%matplotlib inline\n",
    "import matplotlib.pyplot as plt\n",
    "import pandas as pd\n",
    "import numpy as np\n",
    "from sklego.linear_model import LowessRegression\n",
    "from sklearn import decomposition"
   ]
  },
  {
   "cell_type": "code",
   "execution_count": 902,
   "id": "18fed604-f30f-4b19-b197-e7ac891f77d8",
   "metadata": {},
   "outputs": [],
   "source": [
    "data = pd.read_csv(\"../Dataset/Chen2019/data.csv\")"
   ]
  },
  {
   "cell_type": "code",
   "execution_count": 903,
   "id": "70c938db-67fc-421b-874f-4c344ac2ee2e",
   "metadata": {},
   "outputs": [],
   "source": [
    "threshold = 1000"
   ]
  },
  {
   "cell_type": "code",
   "execution_count": 904,
   "id": "182d912a-8445-406d-968a-da2809674aa6",
   "metadata": {},
   "outputs": [],
   "source": [
    "table = data.iloc[:, 1:].transpose()\n",
    "table.index = list(range(len(table)))\n",
    "mirnas = data.iloc[:, 0]"
   ]
  },
  {
   "cell_type": "code",
   "execution_count": 905,
   "id": "6f8415bb-f7c8-4f94-827c-42e51256095d",
   "metadata": {},
   "outputs": [],
   "source": [
    "table = table.drop([1, 4, 20])"
   ]
  },
  {
   "cell_type": "code",
   "execution_count": 906,
   "id": "d3bfeacf-77a3-4c52-8354-8a6578cd79b0",
   "metadata": {},
   "outputs": [],
   "source": [
    "mask = table.mean()>threshold\n",
    "table = table.loc[:, mask]\n",
    "mirnas = mirnas[mask]"
   ]
  },
  {
   "cell_type": "code",
   "execution_count": 907,
   "id": "06e81af4-9150-4243-ad6b-0b00a26ce81e",
   "metadata": {},
   "outputs": [
    {
     "data": {
      "text/plain": [
       "1        hsa-let-7a-5p\n",
       "3        hsa-let-7b-5p\n",
       "5        hsa-let-7c-5p\n",
       "6        hsa-let-7d-3p\n",
       "7        hsa-let-7d-5p\n",
       "             ...      \n",
       "1141    hsa-miR-625-5p\n",
       "1147    hsa-miR-629-5p\n",
       "1486    hsa-miR-92a-3p\n",
       "1506    hsa-miR-99a-5p\n",
       "1508    hsa-miR-99b-5p\n",
       "Name: miRNA, Length: 75, dtype: object"
      ]
     },
     "execution_count": 907,
     "metadata": {},
     "output_type": "execute_result"
    }
   ],
   "source": [
    "mirnas"
   ]
  },
  {
   "cell_type": "code",
   "execution_count": 908,
   "id": "761dab15-926a-4095-afaf-50b1d4ecbc66",
   "metadata": {},
   "outputs": [
    {
     "data": {
      "text/html": [
       "<div>\n",
       "<style scoped>\n",
       "    .dataframe tbody tr th:only-of-type {\n",
       "        vertical-align: middle;\n",
       "    }\n",
       "\n",
       "    .dataframe tbody tr th {\n",
       "        vertical-align: top;\n",
       "    }\n",
       "\n",
       "    .dataframe thead th {\n",
       "        text-align: right;\n",
       "    }\n",
       "</style>\n",
       "<table border=\"1\" class=\"dataframe\">\n",
       "  <thead>\n",
       "    <tr style=\"text-align: right;\">\n",
       "      <th></th>\n",
       "      <th>1</th>\n",
       "      <th>3</th>\n",
       "      <th>5</th>\n",
       "      <th>6</th>\n",
       "      <th>7</th>\n",
       "      <th>12</th>\n",
       "      <th>14</th>\n",
       "      <th>16</th>\n",
       "      <th>18</th>\n",
       "      <th>19</th>\n",
       "      <th>...</th>\n",
       "      <th>894</th>\n",
       "      <th>895</th>\n",
       "      <th>983</th>\n",
       "      <th>990</th>\n",
       "      <th>1102</th>\n",
       "      <th>1141</th>\n",
       "      <th>1147</th>\n",
       "      <th>1486</th>\n",
       "      <th>1506</th>\n",
       "      <th>1508</th>\n",
       "    </tr>\n",
       "  </thead>\n",
       "  <tbody>\n",
       "    <tr>\n",
       "      <th>0</th>\n",
       "      <td>6504.479293</td>\n",
       "      <td>36055.276130</td>\n",
       "      <td>1273.827034</td>\n",
       "      <td>2814.361604</td>\n",
       "      <td>1228.048875</td>\n",
       "      <td>3546.812148</td>\n",
       "      <td>10027.407180</td>\n",
       "      <td>6814.974633</td>\n",
       "      <td>2728.776350</td>\n",
       "      <td>6170.099697</td>\n",
       "      <td>...</td>\n",
       "      <td>4064.304381</td>\n",
       "      <td>28921.84474</td>\n",
       "      <td>2953.686436</td>\n",
       "      <td>3618.464919</td>\n",
       "      <td>8602.313190</td>\n",
       "      <td>3413.458381</td>\n",
       "      <td>605.067841</td>\n",
       "      <td>27723.651190</td>\n",
       "      <td>28802.423460</td>\n",
       "      <td>1570.389891</td>\n",
       "    </tr>\n",
       "    <tr>\n",
       "      <th>2</th>\n",
       "      <td>9437.584674</td>\n",
       "      <td>22678.699510</td>\n",
       "      <td>1381.345556</td>\n",
       "      <td>1388.590375</td>\n",
       "      <td>912.847238</td>\n",
       "      <td>4607.705107</td>\n",
       "      <td>9336.157203</td>\n",
       "      <td>6556.561512</td>\n",
       "      <td>9022.215031</td>\n",
       "      <td>5489.158128</td>\n",
       "      <td>...</td>\n",
       "      <td>4436.244382</td>\n",
       "      <td>26489.47448</td>\n",
       "      <td>2980.035693</td>\n",
       "      <td>618.224585</td>\n",
       "      <td>16491.623780</td>\n",
       "      <td>3144.251598</td>\n",
       "      <td>1072.233264</td>\n",
       "      <td>20415.900930</td>\n",
       "      <td>46127.764800</td>\n",
       "      <td>1714.607246</td>\n",
       "    </tr>\n",
       "    <tr>\n",
       "      <th>3</th>\n",
       "      <td>1307.373304</td>\n",
       "      <td>11133.759750</td>\n",
       "      <td>267.097772</td>\n",
       "      <td>98.404442</td>\n",
       "      <td>238.982217</td>\n",
       "      <td>2656.919941</td>\n",
       "      <td>2839.671048</td>\n",
       "      <td>2263.302172</td>\n",
       "      <td>2502.284389</td>\n",
       "      <td>899.697758</td>\n",
       "      <td>...</td>\n",
       "      <td>6677.444296</td>\n",
       "      <td>46601.53230</td>\n",
       "      <td>435.791101</td>\n",
       "      <td>421.733324</td>\n",
       "      <td>281.155549</td>\n",
       "      <td>28.115555</td>\n",
       "      <td>1026.217755</td>\n",
       "      <td>9376.537569</td>\n",
       "      <td>4470.373234</td>\n",
       "      <td>140.577775</td>\n",
       "    </tr>\n",
       "    <tr>\n",
       "      <th>5</th>\n",
       "      <td>3172.157520</td>\n",
       "      <td>15241.461610</td>\n",
       "      <td>619.325992</td>\n",
       "      <td>1253.757496</td>\n",
       "      <td>226.582680</td>\n",
       "      <td>1888.189000</td>\n",
       "      <td>2613.253576</td>\n",
       "      <td>1404.812616</td>\n",
       "      <td>1616.289784</td>\n",
       "      <td>815.697648</td>\n",
       "      <td>...</td>\n",
       "      <td>3353.423664</td>\n",
       "      <td>19138.68371</td>\n",
       "      <td>287.004728</td>\n",
       "      <td>1540.762224</td>\n",
       "      <td>6646.425281</td>\n",
       "      <td>438.059848</td>\n",
       "      <td>422.954336</td>\n",
       "      <td>15724.837990</td>\n",
       "      <td>12688.630080</td>\n",
       "      <td>1676.711832</td>\n",
       "    </tr>\n",
       "    <tr>\n",
       "      <th>6</th>\n",
       "      <td>1624.959376</td>\n",
       "      <td>6568.775175</td>\n",
       "      <td>502.260171</td>\n",
       "      <td>1940.103013</td>\n",
       "      <td>68.937670</td>\n",
       "      <td>1723.441762</td>\n",
       "      <td>1733.290001</td>\n",
       "      <td>2442.363183</td>\n",
       "      <td>2639.327956</td>\n",
       "      <td>2924.926877</td>\n",
       "      <td>...</td>\n",
       "      <td>2127.219547</td>\n",
       "      <td>14220.85660</td>\n",
       "      <td>610.590796</td>\n",
       "      <td>915.886194</td>\n",
       "      <td>5899.094947</td>\n",
       "      <td>246.205966</td>\n",
       "      <td>541.653125</td>\n",
       "      <td>11286.081480</td>\n",
       "      <td>17086.694040</td>\n",
       "      <td>669.680228</td>\n",
       "    </tr>\n",
       "  </tbody>\n",
       "</table>\n",
       "<p>5 rows × 75 columns</p>\n",
       "</div>"
      ],
      "text/plain": [
       "          1             3            5            6            7     \\\n",
       "0  6504.479293  36055.276130  1273.827034  2814.361604  1228.048875   \n",
       "2  9437.584674  22678.699510  1381.345556  1388.590375   912.847238   \n",
       "3  1307.373304  11133.759750   267.097772    98.404442   238.982217   \n",
       "5  3172.157520  15241.461610   619.325992  1253.757496   226.582680   \n",
       "6  1624.959376   6568.775175   502.260171  1940.103013    68.937670   \n",
       "\n",
       "          12            14           16           18           19    ...  \\\n",
       "0  3546.812148  10027.407180  6814.974633  2728.776350  6170.099697  ...   \n",
       "2  4607.705107   9336.157203  6556.561512  9022.215031  5489.158128  ...   \n",
       "3  2656.919941   2839.671048  2263.302172  2502.284389   899.697758  ...   \n",
       "5  1888.189000   2613.253576  1404.812616  1616.289784   815.697648  ...   \n",
       "6  1723.441762   1733.290001  2442.363183  2639.327956  2924.926877  ...   \n",
       "\n",
       "          894          895          983          990           1102  \\\n",
       "0  4064.304381  28921.84474  2953.686436  3618.464919   8602.313190   \n",
       "2  4436.244382  26489.47448  2980.035693   618.224585  16491.623780   \n",
       "3  6677.444296  46601.53230   435.791101   421.733324    281.155549   \n",
       "5  3353.423664  19138.68371   287.004728  1540.762224   6646.425281   \n",
       "6  2127.219547  14220.85660   610.590796   915.886194   5899.094947   \n",
       "\n",
       "          1141         1147          1486          1506         1508  \n",
       "0  3413.458381   605.067841  27723.651190  28802.423460  1570.389891  \n",
       "2  3144.251598  1072.233264  20415.900930  46127.764800  1714.607246  \n",
       "3    28.115555  1026.217755   9376.537569   4470.373234   140.577775  \n",
       "5   438.059848   422.954336  15724.837990  12688.630080  1676.711832  \n",
       "6   246.205966   541.653125  11286.081480  17086.694040   669.680228  \n",
       "\n",
       "[5 rows x 75 columns]"
      ]
     },
     "execution_count": 908,
     "metadata": {},
     "output_type": "execute_result"
    }
   ],
   "source": [
    "table.head()"
   ]
  },
  {
   "cell_type": "code",
   "execution_count": 909,
   "id": "c3bd2114-37e9-4202-8a94-354874a66834",
   "metadata": {},
   "outputs": [],
   "source": [
    "sick = np.array([\"cancer\" in k for k in data.columns[1:]])\n",
    "sick = np.delete(sick, [1, 4, 20])\n",
    "controls = 1 - sick"
   ]
  },
  {
   "cell_type": "code",
   "execution_count": 910,
   "id": "4be20a22-f350-4af6-8f9b-071ba7b272e7",
   "metadata": {},
   "outputs": [
    {
     "data": {
      "text/plain": [
       "array([False, False, False, False, False, False, False,  True,  True,\n",
       "        True,  True,  True,  True,  True,  True,  True,  True, False,\n",
       "       False, False, False, False, False, False, False,  True,  True,\n",
       "        True,  True,  True,  True,  True,  True,  True,  True, False,\n",
       "       False, False, False, False, False, False, False, False,  True,\n",
       "        True,  True,  True,  True,  True,  True,  True,  True,  True])"
      ]
     },
     "execution_count": 910,
     "metadata": {},
     "output_type": "execute_result"
    }
   ],
   "source": [
    "sick"
   ]
  },
  {
   "cell_type": "code",
   "execution_count": 911,
   "id": "d8e83671-ca89-41e3-8031-6bcf05c9bed5",
   "metadata": {
    "tags": []
   },
   "outputs": [],
   "source": [
    "def get_means_and_variances(table):\n",
    "    return np.mean(table), np.var(table, ddof=1)"
   ]
  },
  {
   "cell_type": "code",
   "execution_count": 912,
   "id": "eaa2d682-f25d-4e2a-8bbf-ebf71016017d",
   "metadata": {
    "tags": []
   },
   "outputs": [],
   "source": [
    "def mean_variance_plot(table):\n",
    "    means, variances = get_means_and_variances(table)\n",
    "    plt.scatter(means, variances)\n",
    "    plt.xlabel(\"mean\")\n",
    "    plt.ylabel(\"variance\")\n",
    "    plt.plot()"
   ]
  },
  {
   "cell_type": "code",
   "execution_count": 913,
   "id": "9635b022-30b0-450c-9cea-b8dce23794e4",
   "metadata": {},
   "outputs": [],
   "source": [
    "def mean_std_plot(table):\n",
    "    means, variances = get_means_and_variances(table)\n",
    "    plt.scatter(means, np.sqrt(variances))\n",
    "    plt.xlabel(\"mean\")\n",
    "    plt.ylabel(\"std dev\")\n",
    "    plt.plot()"
   ]
  },
  {
   "cell_type": "code",
   "execution_count": 914,
   "id": "cb902c65-85f4-4ddf-9212-4fffbfd74535",
   "metadata": {},
   "outputs": [
    {
     "data": {
      "image/png": "[encoded data removed]",
      "text/plain": [
       "<Figure size 432x288 with 1 Axes>"
      ]
     },
     "metadata": {
      "needs_background": "light"
     },
     "output_type": "display_data"
    }
   ],
   "source": [
    "mean_variance_plot(table.loc[:, np.mean(table) < 1000])"
   ]
  },
  {
   "cell_type": "code",
   "execution_count": 915,
   "id": "8616c596-d0fc-4859-9955-c61380bb01b7",
   "metadata": {},
   "outputs": [
    {
     "data": {
      "image/png": "[encoded data removed]",
      "text/plain": [
       "<Figure size 432x288 with 1 Axes>"
      ]
     },
     "metadata": {
      "needs_background": "light"
     },
     "output_type": "display_data"
    }
   ],
   "source": [
    "mean_std_plot(table.loc[:, np.mean(table) < 1000])"
   ]
  },
  {
   "cell_type": "code",
   "execution_count": 916,
   "id": "ed7038ea-74c1-4efc-9feb-82a01621f936",
   "metadata": {},
   "outputs": [
    {
     "data": {
      "image/png": "[encoded data removed]",
      "text/plain": [
       "<Figure size 432x288 with 1 Axes>"
      ]
     },
     "metadata": {
      "needs_background": "light"
     },
     "output_type": "display_data"
    }
   ],
   "source": [
    "mean_std_plot(table.loc[:, np.logical_and(np.mean(table) < 1000, 3 * np.mean(table) > np.std(table))])"
   ]
  },
  {
   "cell_type": "code",
   "execution_count": 917,
   "id": "7f2f3c87-319c-4160-8223-5c054e3cd917",
   "metadata": {},
   "outputs": [
    {
     "data": {
      "text/plain": [
       "(75, 75)"
      ]
     },
     "execution_count": 917,
     "metadata": {},
     "output_type": "execute_result"
    }
   ],
   "source": [
    "len(3 * np.mean(table) > np.std(table)), len(mirnas)"
   ]
  },
  {
   "cell_type": "code",
   "execution_count": 918,
   "id": "a45d7ff0-4050-43c7-b2fd-0ceb4224ea07",
   "metadata": {},
   "outputs": [],
   "source": [
    "mask = 3 * np.mean(table) > np.std(table)\n",
    "table = table.loc[:, mask]\n",
    "mirnas = mirnas[mask]"
   ]
  },
  {
   "cell_type": "markdown",
   "id": "a6d44b1d-acb6-4491-a623-e11fb93b77d4",
   "metadata": {
    "tags": []
   },
   "source": [
    "### Log transformation"
   ]
  },
  {
   "cell_type": "code",
   "execution_count": 919,
   "id": "6818fd08-674c-4b51-973c-b553c660ce98",
   "metadata": {},
   "outputs": [],
   "source": [
    "log_table = np.log2(table + 1)"
   ]
  },
  {
   "cell_type": "code",
   "execution_count": 920,
   "id": "ef3b908d-215c-49b7-817c-59844b6d2850",
   "metadata": {},
   "outputs": [
    {
     "data": {
      "image/png": "[encoded data removed]",
      "text/plain": [
       "<Figure size 432x288 with 1 Axes>"
      ]
     },
     "metadata": {
      "needs_background": "light"
     },
     "output_type": "display_data"
    }
   ],
   "source": [
    "mean_variance_plot(log_table)"
   ]
  },
  {
   "cell_type": "code",
   "execution_count": 921,
   "id": "ae2ac348-c034-4107-825e-e766783594e5",
   "metadata": {},
   "outputs": [],
   "source": [
    "mask = np.mean(log_table) > 5\n",
    "log_table = log_table.loc[:, mask]\n",
    "mirnas = mirnas[mask]"
   ]
  },
  {
   "cell_type": "markdown",
   "id": "b2273c3f-66d9-4da2-ad32-6f5be535b456",
   "metadata": {
    "tags": []
   },
   "source": [
    "### Loess regression"
   ]
  },
  {
   "cell_type": "code",
   "execution_count": 922,
   "id": "ef84cfdf-544b-439b-9126-3d6ce334380a",
   "metadata": {
    "tags": []
   },
   "outputs": [],
   "source": [
    "lowess = LowessRegression(sigma=1, span=0.1)"
   ]
  },
  {
   "cell_type": "code",
   "execution_count": 923,
   "id": "28ee42aa-b298-47cd-833f-f38dc3912a7e",
   "metadata": {},
   "outputs": [
    {
     "data": {
      "text/plain": [
       "LowessRegression(span=0.1)"
      ]
     },
     "execution_count": 923,
     "metadata": {},
     "output_type": "execute_result"
    }
   ],
   "source": [
    "means, variances = get_means_and_variances(log_table)\n",
    "lowess.fit(means.to_numpy().reshape(-1,1), variances)"
   ]
  },
  {
   "cell_type": "code",
   "execution_count": 924,
   "id": "0da42c97-999f-4a9b-842b-fb6686fa6b19",
   "metadata": {},
   "outputs": [],
   "source": [
    "x_axis = np.linspace(-2, 14, 100)\n",
    "y_axis = lowess.predict(x_axis.reshape(-1,1))"
   ]
  },
  {
   "cell_type": "code",
   "execution_count": 925,
   "id": "67196274-4a56-4236-b29f-5c347a002c2e",
   "metadata": {},
   "outputs": [
    {
     "data": {
      "text/plain": [
       "[]"
      ]
     },
     "execution_count": 925,
     "metadata": {},
     "output_type": "execute_result"
    },
    {
     "data": {
      "image/png": "[encoded data removed]",
      "text/plain": [
       "<Figure size 432x288 with 1 Axes>"
      ]
     },
     "metadata": {
      "needs_background": "light"
     },
     "output_type": "display_data"
    }
   ],
   "source": [
    "plt.scatter(means, variances, color=\"b\")\n",
    "plt.scatter(x_axis, y_axis, color=\"y\")\n",
    "plt.xlabel(\"mean\")\n",
    "plt.ylabel(\"variance\")\n",
    "plt.legend([\"Sample points\", \"Lowess regression\"])\n",
    "plt.plot()"
   ]
  },
  {
   "cell_type": "markdown",
   "id": "77c5554e-7a87-4273-982c-e2025d159c10",
   "metadata": {
    "tags": []
   },
   "source": [
    "### Lowess normalization"
   ]
  },
  {
   "cell_type": "code",
   "execution_count": 926,
   "id": "56e0a2e4-3122-4bf2-a58e-379e1bcbe2dd",
   "metadata": {},
   "outputs": [],
   "source": [
    "adj_var = lowess.predict(means.to_numpy().reshape(-1, 1))"
   ]
  },
  {
   "cell_type": "code",
   "execution_count": 927,
   "id": "3961e5cf-14b7-48ee-bbb2-0cc262b1c91a",
   "metadata": {
    "tags": []
   },
   "outputs": [],
   "source": [
    "log_table /= np.sqrt(adj_var)"
   ]
  },
  {
   "cell_type": "code",
   "execution_count": 928,
   "id": "9340429e-3b73-4c07-859c-5a096c97f145",
   "metadata": {},
   "outputs": [
    {
     "data": {
      "image/png": "[encoded data removed]",
      "text/plain": [
       "<Figure size 432x288 with 1 Axes>"
      ]
     },
     "metadata": {
      "needs_background": "light"
     },
     "output_type": "display_data"
    }
   ],
   "source": [
    "mean_variance_plot(log_table)"
   ]
  },
  {
   "cell_type": "code",
   "execution_count": 929,
   "id": "3e0b15bf-bd89-4a6d-900c-2ce5f91737b5",
   "metadata": {
    "tags": []
   },
   "outputs": [],
   "source": [
    "norm_log_table = log_table - np.mean(log_table)"
   ]
  },
  {
   "cell_type": "code",
   "execution_count": 930,
   "id": "644afa68-3b6c-4480-bb87-65391cdaab84",
   "metadata": {},
   "outputs": [],
   "source": [
    "norm_log_table /= np.sqrt(np.mean(np.var(norm_log_table, ddof=1)))"
   ]
  },
  {
   "cell_type": "code",
   "execution_count": 931,
   "id": "f8faca5c-44cc-47b4-8e81-fb1482fb2638",
   "metadata": {},
   "outputs": [
    {
     "data": {
      "image/png": "[encoded data removed]",
      "text/plain": [
       "<Figure size 432x288 with 1 Axes>"
      ]
     },
     "metadata": {
      "needs_background": "light"
     },
     "output_type": "display_data"
    }
   ],
   "source": [
    "mean_variance_plot(norm_log_table)"
   ]
  },
  {
   "cell_type": "markdown",
   "id": "af4d24c8-8ace-45e2-bc63-e3095e5e0645",
   "metadata": {
    "tags": []
   },
   "source": [
    "# PCA"
   ]
  },
  {
   "cell_type": "code",
   "execution_count": 932,
   "id": "a22c8cc3-8750-4025-a8ff-a9859aecb364",
   "metadata": {
    "tags": []
   },
   "outputs": [],
   "source": [
    "pca = decomposition.PCA(n_components=2)"
   ]
  },
  {
   "cell_type": "code",
   "execution_count": 933,
   "id": "42a36e02-ef1f-4886-8334-c2c0279aa222",
   "metadata": {},
   "outputs": [
    {
     "data": {
      "text/plain": [
       "PCA(n_components=2)"
      ]
     },
     "execution_count": 933,
     "metadata": {},
     "output_type": "execute_result"
    }
   ],
   "source": [
    "pca.fit(norm_log_table)"
   ]
  },
  {
   "cell_type": "code",
   "execution_count": 934,
   "id": "d046be37-ace2-4a94-997c-c23c14d18ec3",
   "metadata": {
    "tags": []
   },
   "outputs": [],
   "source": [
    "components = pca.transform(norm_log_table)"
   ]
  },
  {
   "cell_type": "code",
   "execution_count": 935,
   "id": "e5a61503-f8a6-447a-b3df-9e9a401e85ba",
   "metadata": {},
   "outputs": [
    {
     "data": {
      "text/plain": [
       "array([[-1.94662699, -5.01898021],\n",
       "       [ 1.34949873, -4.34986255],\n",
       "       [18.02270718,  0.78721571],\n",
       "       [ 9.58723864, -6.83150601],\n",
       "       [ 7.84724253, -6.59156503],\n",
       "       [18.96896002, -0.80943248],\n",
       "       [ 0.46862134, -1.16698264],\n",
       "       [-1.11092767, -3.11966923],\n",
       "       [ 2.14262473,  0.15668876],\n",
       "       [ 5.63219368,  2.40414455],\n",
       "       [ 0.31250547, -1.93148838],\n",
       "       [ 3.47827109,  1.02768571],\n",
       "       [ 7.13048638, -3.01828793],\n",
       "       [10.40611281, -1.67832542],\n",
       "       [ 6.26542721, -6.19786568],\n",
       "       [-3.06740526, -4.73870342],\n",
       "       [ 1.51822479,  3.14197391],\n",
       "       [-5.30065544,  0.1012865 ],\n",
       "       [-3.33916463, -0.96136163],\n",
       "       [-0.31083985,  5.85053605],\n",
       "       [-4.78411094,  2.94110416],\n",
       "       [-6.57435063, -2.81646367],\n",
       "       [-6.37198956, -2.89577488],\n",
       "       [ 1.25996935,  5.1619909 ],\n",
       "       [-4.81568947,  0.68840482],\n",
       "       [-5.75314227,  1.63177054],\n",
       "       [-2.33710836,  3.36752226],\n",
       "       [ 0.1608694 ,  8.1983174 ],\n",
       "       [ 0.07195134,  5.12626768],\n",
       "       [-2.17431364,  1.78069136],\n",
       "       [-6.0094016 , -0.67403896],\n",
       "       [-2.94580284,  4.33363039],\n",
       "       [-7.26131212, -0.8597753 ],\n",
       "       [-8.16419734, -1.74739457],\n",
       "       [-2.36354976,  5.09088131],\n",
       "       [-4.88365087, -3.18244359],\n",
       "       [-5.51178992, -3.20497414],\n",
       "       [-1.8639499 ,  2.47501595],\n",
       "       [ 2.56186107,  7.47727101],\n",
       "       [-1.37437083,  2.65328271],\n",
       "       [-0.06415634,  1.01523464],\n",
       "       [-2.75055266, -4.94344701],\n",
       "       [ 4.1221263 ,  1.9206962 ],\n",
       "       [-5.70390532, -2.63953575],\n",
       "       [-4.19051835, -4.38917031],\n",
       "       [-2.23980936, -2.39620405],\n",
       "       [ 2.27067262,  6.79701363],\n",
       "       [-0.32138777,  2.29957272],\n",
       "       [-0.62913248,  0.77933059],\n",
       "       [-2.76353241, -4.85800531],\n",
       "       [ 4.42516899,  1.11017108],\n",
       "       [-3.1265603 ,  2.6456125 ],\n",
       "       [-3.07246565, -2.07886554],\n",
       "       [ 5.1236369 ,  2.13681065]])"
      ]
     },
     "execution_count": 935,
     "metadata": {},
     "output_type": "execute_result"
    }
   ],
   "source": [
    "components"
   ]
  },
  {
   "cell_type": "code",
   "execution_count": 936,
   "id": "3fdf0eb5-a398-4551-9867-c2f1930fd5f0",
   "metadata": {},
   "outputs": [
    {
     "data": {
      "image/png": "[encoded data removed]",
      "text/plain": [
       "<Figure size 576x576 with 1 Axes>"
      ]
     },
     "metadata": {
      "needs_background": "light"
     },
     "output_type": "display_data"
    }
   ],
   "source": [
    "fig = plt.figure(figsize = (8,8))\n",
    "ax = fig.add_subplot(1,1,1)\n",
    "\n",
    "ax.set_xlabel('Principal Component 1', fontsize = 15)\n",
    "ax.set_ylabel('Principal Component 2', fontsize = 15)\n",
    "ax.set_title('2 component PCA', fontsize = 20)\n",
    "targets = ['Cancer', 'Healthy']\n",
    "colors = ['r', 'g']\n",
    "ax.scatter(components[controls == False, 0], components[controls == False, 1], c = 'r', s = 10)\n",
    "ax.scatter(components[controls == True, 0], components[controls == True, 1], c = 'g', s = 10)\n",
    "ax.legend(targets)\n",
    "ax.grid()"
   ]
  },
  {
   "cell_type": "code",
   "execution_count": 937,
   "id": "3f670b90-d839-4472-afbc-2a733a98ab2c",
   "metadata": {},
   "outputs": [
    {
     "data": {
      "text/plain": [
       "(array([], dtype=int64),)"
      ]
     },
     "execution_count": 937,
     "metadata": {},
     "output_type": "execute_result"
    }
   ],
   "source": [
    "np.nonzero(components[:, 0] > 30)"
   ]
  },
  {
   "cell_type": "markdown",
   "id": "ae82e403-bf6b-47bb-be6f-325cbe9eca36",
   "metadata": {},
   "source": [
    "### Export dataset"
   ]
  },
  {
   "cell_type": "code",
   "execution_count": 938,
   "id": "71cebfc7-6d15-4268-a8c6-1d4c1597ab1a",
   "metadata": {},
   "outputs": [],
   "source": [
    "from Scripts import converters"
   ]
  },
  {
   "cell_type": "code",
   "execution_count": 939,
   "id": "842710db-c56a-4c2b-80c7-824c3901c166",
   "metadata": {},
   "outputs": [
    {
     "data": {
      "text/plain": [
       "1        hsa-let-7a-5p\n",
       "3        hsa-let-7b-5p\n",
       "5        hsa-let-7c-5p\n",
       "6        hsa-let-7d-3p\n",
       "7        hsa-let-7d-5p\n",
       "             ...      \n",
       "1141    hsa-miR-625-5p\n",
       "1147    hsa-miR-629-5p\n",
       "1486    hsa-miR-92a-3p\n",
       "1506    hsa-miR-99a-5p\n",
       "1508    hsa-miR-99b-5p\n",
       "Name: miRNA, Length: 75, dtype: object"
      ]
     },
     "execution_count": 939,
     "metadata": {},
     "output_type": "execute_result"
    }
   ],
   "source": [
    "mirnas"
   ]
  },
  {
   "cell_type": "code",
   "execution_count": 940,
   "id": "633a8813-9877-4315-822e-8ce0b42ee8c8",
   "metadata": {},
   "outputs": [],
   "source": [
    "sequences = converters.canonical_to_seq(mirnas)"
   ]
  },
  {
   "cell_type": "code",
   "execution_count": 941,
   "id": "e01f06c0-2bfb-4e65-ae84-e752dead9583",
   "metadata": {},
   "outputs": [
    {
     "data": {
      "text/plain": [
       "['UGAGGUAGUAGGUUGUAUAGUU',\n",
       " 'UGAGGUAGUAGGUUGUGUGGUU',\n",
       " 'UGAGGUAGUAGGUUGUAUGGUU',\n",
       " 'CUAUACGACCUGCUGCCUUUCU',\n",
       " 'AGAGGUAGUAGGUUGCAUAGUU',\n",
       " 'UGAGGUAGUAGAUUGUAUAGUU',\n",
       " 'UGAGGUAGUAGUUUGUACAGUU',\n",
       " 'UGAGGUAGUAGUUUGUGCUGUU',\n",
       " 'AACCCGUAGAUCCGAACUUGUG',\n",
       " 'UACAGUACUGUGAUAACUGAA']"
      ]
     },
     "execution_count": 941,
     "metadata": {},
     "output_type": "execute_result"
    }
   ],
   "source": [
    "sequences[:10]"
   ]
  },
  {
   "cell_type": "code",
   "execution_count": 942,
   "id": "a95048a1-fe65-4693-896e-855a96af964f",
   "metadata": {},
   "outputs": [
    {
     "data": {
      "text/plain": [
       "254    hsa-miR-199a-3p\n",
       "256    hsa-miR-199b-3p\n",
       "Name: miRNA, dtype: object"
      ]
     },
     "execution_count": 942,
     "metadata": {},
     "output_type": "execute_result"
    }
   ],
   "source": [
    "sequences = np.array(sequences)\n",
    "mirnas[sequences == \"ACAGUAGUCUGCACAUUGGUUA\"]"
   ]
  },
  {
   "cell_type": "code",
   "execution_count": 943,
   "id": "4ae17864-fff2-4d04-a174-795bd2f69bc9",
   "metadata": {},
   "outputs": [
    {
     "data": {
      "text/plain": [
       "(array([0, 0], dtype=int64), array([33, 34], dtype=int64))"
      ]
     },
     "execution_count": 943,
     "metadata": {},
     "output_type": "execute_result"
    }
   ],
   "source": [
    "np.nonzero([sequences == \"ACAGUAGUCUGCACAUUGGUUA\"])"
   ]
  },
  {
   "cell_type": "code",
   "execution_count": 944,
   "id": "feda50fc-f93e-49f1-96a0-39357c7eea8b",
   "metadata": {},
   "outputs": [
    {
     "name": "stderr",
     "output_type": "stream",
     "text": [
      "C:\\Users\\olefr\\AppData\\Local\\Temp/ipykernel_30960/890718696.py:2: FutureWarning: In a future version of pandas all arguments of DataFrame.drop except for the argument 'labels' will be keyword-only\n",
      "  norm_log_table = norm_log_table.drop(norm_log_table.columns[71], 1)\n"
     ]
    }
   ],
   "source": [
    "sequences = np.delete(sequences, [71])\n",
    "norm_log_table = norm_log_table.drop(norm_log_table.columns[71], 1)"
   ]
  },
  {
   "cell_type": "code",
   "execution_count": 945,
   "id": "1bd16f9a-c805-4161-aefd-d66c118fd2db",
   "metadata": {},
   "outputs": [
    {
     "data": {
      "text/html": [
       "<div>\n",
       "<style scoped>\n",
       "    .dataframe tbody tr th:only-of-type {\n",
       "        vertical-align: middle;\n",
       "    }\n",
       "\n",
       "    .dataframe tbody tr th {\n",
       "        vertical-align: top;\n",
       "    }\n",
       "\n",
       "    .dataframe thead th {\n",
       "        text-align: right;\n",
       "    }\n",
       "</style>\n",
       "<table border=\"1\" class=\"dataframe\">\n",
       "  <thead>\n",
       "    <tr style=\"text-align: right;\">\n",
       "      <th></th>\n",
       "      <th>UGAGGUAGUAGGUUGUAUAGUU</th>\n",
       "      <th>UGAGGUAGUAGGUUGUGUGGUU</th>\n",
       "      <th>UGAGGUAGUAGGUUGUAUGGUU</th>\n",
       "      <th>CUAUACGACCUGCUGCCUUUCU</th>\n",
       "      <th>AGAGGUAGUAGGUUGCAUAGUU</th>\n",
       "      <th>UGAGGUAGUAGAUUGUAUAGUU</th>\n",
       "      <th>UGAGGUAGUAGUUUGUACAGUU</th>\n",
       "      <th>UGAGGUAGUAGUUUGUGCUGUU</th>\n",
       "      <th>AACCCGUAGAUCCGAACUUGUG</th>\n",
       "      <th>UACAGUACUGUGAUAACUGAA</th>\n",
       "      <th>...</th>\n",
       "      <th>CGGGGCAGCUCAGUACAGGAU</th>\n",
       "      <th>UCCUGUACUGAGCUGCCCCGAG</th>\n",
       "      <th>CAUGCCUUGAGUGUAGGACCGU</th>\n",
       "      <th>AAACAUUCGCGGUGCACUUCUU</th>\n",
       "      <th>UUAUGGUUUGCCUGGGACUGAG</th>\n",
       "      <th>AGGGGGAAAGUUCUAUAGUCC</th>\n",
       "      <th>UAUUGCACUUGUCCCGGCCUGU</th>\n",
       "      <th>AACCCGUAGAUCCGAUCUUGUG</th>\n",
       "      <th>CACCCGUAGAACCGACCUUGCG</th>\n",
       "      <th>cancer</th>\n",
       "    </tr>\n",
       "  </thead>\n",
       "  <tbody>\n",
       "    <tr>\n",
       "      <th>0</th>\n",
       "      <td>-1.041973</td>\n",
       "      <td>0.376914</td>\n",
       "      <td>-1.014168</td>\n",
       "      <td>0.548958</td>\n",
       "      <td>-0.486054</td>\n",
       "      <td>-1.289866</td>\n",
       "      <td>-0.227077</td>\n",
       "      <td>-0.477344</td>\n",
       "      <td>-0.067140</td>\n",
       "      <td>0.179172</td>\n",
       "      <td>...</td>\n",
       "      <td>-0.650604</td>\n",
       "      <td>-0.695072</td>\n",
       "      <td>0.650432</td>\n",
       "      <td>1.800017</td>\n",
       "      <td>0.763109</td>\n",
       "      <td>1.596269</td>\n",
       "      <td>-0.040578</td>\n",
       "      <td>0.781230</td>\n",
       "      <td>0.644920</td>\n",
       "      <td>False</td>\n",
       "    </tr>\n",
       "    <tr>\n",
       "      <th>2</th>\n",
       "      <td>-0.553673</td>\n",
       "      <td>-0.341690</td>\n",
       "      <td>-0.889299</td>\n",
       "      <td>-0.395460</td>\n",
       "      <td>-0.868969</td>\n",
       "      <td>-0.913725</td>\n",
       "      <td>-0.322454</td>\n",
       "      <td>-0.531334</td>\n",
       "      <td>1.803752</td>\n",
       "      <td>0.015421</td>\n",
       "      <td>...</td>\n",
       "      <td>-0.525781</td>\n",
       "      <td>-0.833185</td>\n",
       "      <td>0.662308</td>\n",
       "      <td>-0.555438</td>\n",
       "      <td>1.583074</td>\n",
       "      <td>1.511821</td>\n",
       "      <td>-0.515185</td>\n",
       "      <td>1.411284</td>\n",
       "      <td>0.747037</td>\n",
       "      <td>False</td>\n",
       "    </tr>\n",
       "    <tr>\n",
       "      <th>3</th>\n",
       "      <td>-3.146347</td>\n",
       "      <td>-1.444369</td>\n",
       "      <td>-3.418710</td>\n",
       "      <td>-3.923333</td>\n",
       "      <td>-2.596745</td>\n",
       "      <td>-1.705072</td>\n",
       "      <td>-1.911575</td>\n",
       "      <td>-2.016724</td>\n",
       "      <td>-0.202680</td>\n",
       "      <td>-2.516102</td>\n",
       "      <td>...</td>\n",
       "      <td>0.057170</td>\n",
       "      <td>0.054908</td>\n",
       "      <td>-1.906668</td>\n",
       "      <td>-1.064689</td>\n",
       "      <td>-3.542870</td>\n",
       "      <td>-3.303017</td>\n",
       "      <td>-1.722099</td>\n",
       "      <td>-1.710931</td>\n",
       "      <td>-2.154211</td>\n",
       "      <td>False</td>\n",
       "    </tr>\n",
       "    <tr>\n",
       "      <th>5</th>\n",
       "      <td>-1.983930</td>\n",
       "      <td>-0.957643</td>\n",
       "      <td>-2.125011</td>\n",
       "      <td>-0.531979</td>\n",
       "      <td>-2.665297</td>\n",
       "      <td>-2.195917</td>\n",
       "      <td>-2.022499</td>\n",
       "      <td>-2.682554</td>\n",
       "      <td>-0.886283</td>\n",
       "      <td>-2.653216</td>\n",
       "      <td>...</td>\n",
       "      <td>-0.924660</td>\n",
       "      <td>-1.344186</td>\n",
       "      <td>-2.463754</td>\n",
       "      <td>0.661520</td>\n",
       "      <td>0.438133</td>\n",
       "      <td>-0.512894</td>\n",
       "      <td>-0.920141</td>\n",
       "      <td>-0.315425</td>\n",
       "      <td>0.721061</td>\n",
       "      <td>False</td>\n",
       "    </tr>\n",
       "    <tr>\n",
       "      <th>6</th>\n",
       "      <td>-2.861217</td>\n",
       "      <td>-2.262146</td>\n",
       "      <td>-2.447533</td>\n",
       "      <td>0.051612</td>\n",
       "      <td>-4.189956</td>\n",
       "      <td>-2.327105</td>\n",
       "      <td>-2.570537</td>\n",
       "      <td>-1.910408</td>\n",
       "      <td>-0.119275</td>\n",
       "      <td>-0.865998</td>\n",
       "      <td>...</td>\n",
       "      <td>-1.573402</td>\n",
       "      <td>-1.811107</td>\n",
       "      <td>-1.456417</td>\n",
       "      <td>-0.031795</td>\n",
       "      <td>0.287863</td>\n",
       "      <td>-1.103558</td>\n",
       "      <td>-1.434595</td>\n",
       "      <td>0.082686</td>\n",
       "      <td>-0.345266</td>\n",
       "      <td>False</td>\n",
       "    </tr>\n",
       "  </tbody>\n",
       "</table>\n",
       "<p>5 rows × 75 columns</p>\n",
       "</div>"
      ],
      "text/plain": [
       "   UGAGGUAGUAGGUUGUAUAGUU  UGAGGUAGUAGGUUGUGUGGUU  UGAGGUAGUAGGUUGUAUGGUU  \\\n",
       "0               -1.041973                0.376914               -1.014168   \n",
       "2               -0.553673               -0.341690               -0.889299   \n",
       "3               -3.146347               -1.444369               -3.418710   \n",
       "5               -1.983930               -0.957643               -2.125011   \n",
       "6               -2.861217               -2.262146               -2.447533   \n",
       "\n",
       "   CUAUACGACCUGCUGCCUUUCU  AGAGGUAGUAGGUUGCAUAGUU  UGAGGUAGUAGAUUGUAUAGUU  \\\n",
       "0                0.548958               -0.486054               -1.289866   \n",
       "2               -0.395460               -0.868969               -0.913725   \n",
       "3               -3.923333               -2.596745               -1.705072   \n",
       "5               -0.531979               -2.665297               -2.195917   \n",
       "6                0.051612               -4.189956               -2.327105   \n",
       "\n",
       "   UGAGGUAGUAGUUUGUACAGUU  UGAGGUAGUAGUUUGUGCUGUU  AACCCGUAGAUCCGAACUUGUG  \\\n",
       "0               -0.227077               -0.477344               -0.067140   \n",
       "2               -0.322454               -0.531334                1.803752   \n",
       "3               -1.911575               -2.016724               -0.202680   \n",
       "5               -2.022499               -2.682554               -0.886283   \n",
       "6               -2.570537               -1.910408               -0.119275   \n",
       "\n",
       "   UACAGUACUGUGAUAACUGAA  ...  CGGGGCAGCUCAGUACAGGAU  UCCUGUACUGAGCUGCCCCGAG  \\\n",
       "0               0.179172  ...              -0.650604               -0.695072   \n",
       "2               0.015421  ...              -0.525781               -0.833185   \n",
       "3              -2.516102  ...               0.057170                0.054908   \n",
       "5              -2.653216  ...              -0.924660               -1.344186   \n",
       "6              -0.865998  ...              -1.573402               -1.811107   \n",
       "\n",
       "   CAUGCCUUGAGUGUAGGACCGU  AAACAUUCGCGGUGCACUUCUU  UUAUGGUUUGCCUGGGACUGAG  \\\n",
       "0                0.650432                1.800017                0.763109   \n",
       "2                0.662308               -0.555438                1.583074   \n",
       "3               -1.906668               -1.064689               -3.542870   \n",
       "5               -2.463754                0.661520                0.438133   \n",
       "6               -1.456417               -0.031795                0.287863   \n",
       "\n",
       "   AGGGGGAAAGUUCUAUAGUCC  UAUUGCACUUGUCCCGGCCUGU  AACCCGUAGAUCCGAUCUUGUG  \\\n",
       "0               1.596269               -0.040578                0.781230   \n",
       "2               1.511821               -0.515185                1.411284   \n",
       "3              -3.303017               -1.722099               -1.710931   \n",
       "5              -0.512894               -0.920141               -0.315425   \n",
       "6              -1.103558               -1.434595                0.082686   \n",
       "\n",
       "   CACCCGUAGAACCGACCUUGCG  cancer  \n",
       "0                0.644920   False  \n",
       "2                0.747037   False  \n",
       "3               -2.154211   False  \n",
       "5                0.721061   False  \n",
       "6               -0.345266   False  \n",
       "\n",
       "[5 rows x 75 columns]"
      ]
     },
     "execution_count": 945,
     "metadata": {},
     "output_type": "execute_result"
    }
   ],
   "source": [
    "norm_log_table.columns = sequences\n",
    "norm_log_table[\"cancer\"] = sick\n",
    "norm_log_table.head()"
   ]
  },
  {
   "cell_type": "code",
   "execution_count": 946,
   "id": "4606a5b6-57aa-4937-9df0-d87e96ccc441",
   "metadata": {},
   "outputs": [],
   "source": [
    "norm_log_table.to_csv(f\"../TransformedData/Chen2019_threshold_{threshold}.csv\", index=False)"
   ]
  },
  {
   "cell_type": "code",
   "execution_count": null,
   "id": "579f2236-2249-4c12-8b58-9028002d5e6a",
   "metadata": {},
   "outputs": [],
   "source": []
  }
 ],
 "metadata": {
  "kernelspec": {
   "display_name": "Python 3 (ipykernel)",
   "language": "python",
   "name": "python3"
  },
  "language_info": {
   "codemirror_mode": {
    "name": "ipython",
    "version": 3
   },
   "file_extension": ".py",
   "mimetype": "text/x-python",
   "name": "python",
   "nbconvert_exporter": "python",
   "pygments_lexer": "ipython3",
   "version": "3.10.1"
  }
 },
 "nbformat": 4,
 "nbformat_minor": 5
}
