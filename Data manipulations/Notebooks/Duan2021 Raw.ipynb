{
 "cells": [
  {
   "cell_type": "code",
   "execution_count": 1,
   "metadata": {
    "tags": []
   },
   "outputs": [],
   "source": [
    "%matplotlib inline\n",
    "import GEOparse\n",
    "import matplotlib.pyplot as plt\n",
    "import pandas as pd\n",
    "import numpy as np\n",
    "from sklearn import decomposition\n",
    "import matplotlib\n",
    "from matplotlib.backends.backend_pgf import FigureCanvasPgf\n",
    "matplotlib.backend_bases.register_backend('pdf', FigureCanvasPgf)\n",
    "\n",
    "geo = \"GSE171517\""
   ]
  },
  {
   "cell_type": "code",
   "execution_count": 2,
   "metadata": {},
   "outputs": [
    {
     "name": "stderr",
     "output_type": "stream",
     "text": [
      "31-Mar-2022 18:04:59 DEBUG utils - Directory ../Dataset/Duan2021 already exists. Skipping.\n",
      "31-Mar-2022 18:04:59 INFO GEOparse - File already exist: using local version.\n",
      "31-Mar-2022 18:04:59 INFO GEOparse - Parsing ../Dataset/Duan2021\\GSE171517_family.soft.gz: \n",
      "31-Mar-2022 18:04:59 DEBUG GEOparse - DATABASE: GeoMiame\n",
      "31-Mar-2022 18:04:59 DEBUG GEOparse - SERIES: GSE171517\n",
      "31-Mar-2022 18:04:59 DEBUG GEOparse - PLATFORM: GPL18058\n",
      "31-Mar-2022 18:04:59 DEBUG GEOparse - SAMPLE: GSM5226511\n",
      "31-Mar-2022 18:04:59 DEBUG GEOparse - SAMPLE: GSM5226512\n",
      "31-Mar-2022 18:04:59 DEBUG GEOparse - SAMPLE: GSM5226513\n",
      "31-Mar-2022 18:04:59 DEBUG GEOparse - SAMPLE: GSM5226514\n",
      "31-Mar-2022 18:04:59 DEBUG GEOparse - SAMPLE: GSM5226515\n",
      "31-Mar-2022 18:04:59 DEBUG GEOparse - SAMPLE: GSM5226516\n",
      "31-Mar-2022 18:04:59 DEBUG GEOparse - SAMPLE: GSM5226517\n",
      "31-Mar-2022 18:04:59 DEBUG GEOparse - SAMPLE: GSM5226518\n",
      "31-Mar-2022 18:04:59 DEBUG GEOparse - SAMPLE: GSM5226519\n",
      "31-Mar-2022 18:04:59 DEBUG GEOparse - SAMPLE: GSM5226520\n",
      "31-Mar-2022 18:04:59 DEBUG GEOparse - SAMPLE: GSM5226521\n",
      "31-Mar-2022 18:04:59 DEBUG GEOparse - SAMPLE: GSM5226522\n"
     ]
    }
   ],
   "source": [
    "data = GEOparse.get_GEO(geo=geo, destdir=\"../Dataset/Duan2021\")"
   ]
  },
  {
   "cell_type": "code",
   "execution_count": 3,
   "metadata": {},
   "outputs": [
    {
     "data": {
      "text/html": [
       "<div>\n",
       "<style scoped>\n",
       "    .dataframe tbody tr th:only-of-type {\n",
       "        vertical-align: middle;\n",
       "    }\n",
       "\n",
       "    .dataframe tbody tr th {\n",
       "        vertical-align: top;\n",
       "    }\n",
       "\n",
       "    .dataframe thead th {\n",
       "        text-align: right;\n",
       "    }\n",
       "</style>\n",
       "<table border=\"1\" class=\"dataframe\">\n",
       "  <thead>\n",
       "    <tr style=\"text-align: right;\">\n",
       "      <th></th>\n",
       "      <th>ID</th>\n",
       "      <th>Human_miRNA</th>\n",
       "      <th>Human_miRBase</th>\n",
       "      <th>Mouse_miRNA</th>\n",
       "      <th>Mouse_miRBase</th>\n",
       "      <th>Rat_miRNA</th>\n",
       "      <th>Rat_miRBase</th>\n",
       "      <th>miRNA_ID</th>\n",
       "      <th>SPOT_ID</th>\n",
       "    </tr>\n",
       "  </thead>\n",
       "  <tbody>\n",
       "    <tr>\n",
       "      <th>30</th>\n",
       "      <td>10976</td>\n",
       "      <td>hsa-miR-182-3p</td>\n",
       "      <td>MIMAT0000260</td>\n",
       "      <td>mmu-miR-182-3p</td>\n",
       "      <td>MIMAT0016995</td>\n",
       "      <td>NaN</td>\n",
       "      <td>NaN</td>\n",
       "      <td>hsa-miR-182-3p</td>\n",
       "      <td>NaN</td>\n",
       "    </tr>\n",
       "    <tr>\n",
       "      <th>31</th>\n",
       "      <td>10977</td>\n",
       "      <td>hsa-miR-183-5p</td>\n",
       "      <td>MIMAT0000261</td>\n",
       "      <td>mmu-miR-183-5p</td>\n",
       "      <td>MIMAT0000212</td>\n",
       "      <td>rno-miR-183</td>\n",
       "      <td>MIMAT0000860</td>\n",
       "      <td>hsa-miR-183-5p</td>\n",
       "      <td>NaN</td>\n",
       "    </tr>\n",
       "    <tr>\n",
       "      <th>32</th>\n",
       "      <td>10985</td>\n",
       "      <td>hsa-miR-191-5p</td>\n",
       "      <td>MIMAT0000440</td>\n",
       "      <td>mmu-miR-191-5p</td>\n",
       "      <td>MIMAT0000221</td>\n",
       "      <td>rno-miR-191</td>\n",
       "      <td>MIMAT0000866</td>\n",
       "      <td>hsa-miR-191-5p</td>\n",
       "      <td>NaN</td>\n",
       "    </tr>\n",
       "    <tr>\n",
       "      <th>33</th>\n",
       "      <td>10986</td>\n",
       "      <td>hsa-miR-193a-3p</td>\n",
       "      <td>MIMAT0000459</td>\n",
       "      <td>mmu-miR-193-3p</td>\n",
       "      <td>MIMAT0000223</td>\n",
       "      <td>rno-miR-193</td>\n",
       "      <td>MIMAT0000868</td>\n",
       "      <td>hsa-miR-193a-3p</td>\n",
       "      <td>NaN</td>\n",
       "    </tr>\n",
       "    <tr>\n",
       "      <th>34</th>\n",
       "      <td>10987</td>\n",
       "      <td>hsa-miR-193b-3p</td>\n",
       "      <td>MIMAT0002819</td>\n",
       "      <td>NaN</td>\n",
       "      <td>NaN</td>\n",
       "      <td>NaN</td>\n",
       "      <td>NaN</td>\n",
       "      <td>hsa-miR-193b-3p</td>\n",
       "      <td>NaN</td>\n",
       "    </tr>\n",
       "    <tr>\n",
       "      <th>35</th>\n",
       "      <td>10988</td>\n",
       "      <td>hsa-miR-194-5p</td>\n",
       "      <td>MIMAT0000460</td>\n",
       "      <td>mmu-miR-194-5p</td>\n",
       "      <td>MIMAT0000224</td>\n",
       "      <td>rno-miR-194</td>\n",
       "      <td>MIMAT0000869</td>\n",
       "      <td>hsa-miR-194-5p</td>\n",
       "      <td>NaN</td>\n",
       "    </tr>\n",
       "    <tr>\n",
       "      <th>36</th>\n",
       "      <td>10990</td>\n",
       "      <td>hsa-miR-196a-5p</td>\n",
       "      <td>MIMAT0000226</td>\n",
       "      <td>mmu-miR-196a-5p</td>\n",
       "      <td>MIMAT0000518</td>\n",
       "      <td>rno-miR-196a</td>\n",
       "      <td>MIMAT0000871</td>\n",
       "      <td>hsa-miR-196a-5p</td>\n",
       "      <td>NaN</td>\n",
       "    </tr>\n",
       "    <tr>\n",
       "      <th>37</th>\n",
       "      <td>10991</td>\n",
       "      <td>NaN</td>\n",
       "      <td>NaN</td>\n",
       "      <td>NaN</td>\n",
       "      <td>NaN</td>\n",
       "      <td>NaN</td>\n",
       "      <td>NaN</td>\n",
       "      <td>NaN</td>\n",
       "      <td>10991</td>\n",
       "    </tr>\n",
       "    <tr>\n",
       "      <th>38</th>\n",
       "      <td>10995</td>\n",
       "      <td>hsa-miR-199a-3p/hsa-miR-199b-3p</td>\n",
       "      <td>NaN</td>\n",
       "      <td>mmu-miR-199a-3p/mmu-miR-199b-3p</td>\n",
       "      <td>NaN</td>\n",
       "      <td>rno-miR-199a-3p</td>\n",
       "      <td>MIMAT0004738</td>\n",
       "      <td>hsa-miR-199a-3p/hsa-miR-199b-3p</td>\n",
       "      <td>NaN</td>\n",
       "    </tr>\n",
       "    <tr>\n",
       "      <th>39</th>\n",
       "      <td>10997</td>\n",
       "      <td>hsa-miR-19a-3p</td>\n",
       "      <td>MIMAT0000073</td>\n",
       "      <td>mmu-miR-19a-3p</td>\n",
       "      <td>MIMAT0000651</td>\n",
       "      <td>rno-miR-19a</td>\n",
       "      <td>MIMAT0000789</td>\n",
       "      <td>hsa-miR-19a-3p</td>\n",
       "      <td>NaN</td>\n",
       "    </tr>\n",
       "  </tbody>\n",
       "</table>\n",
       "</div>"
      ],
      "text/plain": [
       "       ID                      Human_miRNA Human_miRBase  \\\n",
       "30  10976                   hsa-miR-182-3p  MIMAT0000260   \n",
       "31  10977                   hsa-miR-183-5p  MIMAT0000261   \n",
       "32  10985                   hsa-miR-191-5p  MIMAT0000440   \n",
       "33  10986                  hsa-miR-193a-3p  MIMAT0000459   \n",
       "34  10987                  hsa-miR-193b-3p  MIMAT0002819   \n",
       "35  10988                   hsa-miR-194-5p  MIMAT0000460   \n",
       "36  10990                  hsa-miR-196a-5p  MIMAT0000226   \n",
       "37  10991                              NaN           NaN   \n",
       "38  10995  hsa-miR-199a-3p/hsa-miR-199b-3p           NaN   \n",
       "39  10997                   hsa-miR-19a-3p  MIMAT0000073   \n",
       "\n",
       "                        Mouse_miRNA Mouse_miRBase        Rat_miRNA  \\\n",
       "30                   mmu-miR-182-3p  MIMAT0016995              NaN   \n",
       "31                   mmu-miR-183-5p  MIMAT0000212      rno-miR-183   \n",
       "32                   mmu-miR-191-5p  MIMAT0000221      rno-miR-191   \n",
       "33                   mmu-miR-193-3p  MIMAT0000223      rno-miR-193   \n",
       "34                              NaN           NaN              NaN   \n",
       "35                   mmu-miR-194-5p  MIMAT0000224      rno-miR-194   \n",
       "36                  mmu-miR-196a-5p  MIMAT0000518     rno-miR-196a   \n",
       "37                              NaN           NaN              NaN   \n",
       "38  mmu-miR-199a-3p/mmu-miR-199b-3p           NaN  rno-miR-199a-3p   \n",
       "39                   mmu-miR-19a-3p  MIMAT0000651      rno-miR-19a   \n",
       "\n",
       "     Rat_miRBase                         miRNA_ID SPOT_ID  \n",
       "30           NaN                   hsa-miR-182-3p     NaN  \n",
       "31  MIMAT0000860                   hsa-miR-183-5p     NaN  \n",
       "32  MIMAT0000866                   hsa-miR-191-5p     NaN  \n",
       "33  MIMAT0000868                  hsa-miR-193a-3p     NaN  \n",
       "34           NaN                  hsa-miR-193b-3p     NaN  \n",
       "35  MIMAT0000869                   hsa-miR-194-5p     NaN  \n",
       "36  MIMAT0000871                  hsa-miR-196a-5p     NaN  \n",
       "37           NaN                              NaN   10991  \n",
       "38  MIMAT0004738  hsa-miR-199a-3p/hsa-miR-199b-3p     NaN  \n",
       "39  MIMAT0000789                   hsa-miR-19a-3p     NaN  "
      ]
     },
     "execution_count": 3,
     "metadata": {},
     "output_type": "execute_result"
    }
   ],
   "source": [
    "data.gpls[\"GPL18058\"].table.iloc[30:40]"
   ]
  },
  {
   "cell_type": "code",
   "execution_count": 4,
   "metadata": {},
   "outputs": [
    {
     "data": {
      "text/plain": [
       "{'title': ['LC_Serum_Exp1'],\n",
       " 'geo_accession': ['GSM5226511'],\n",
       " 'status': ['Public on Apr 06 2021'],\n",
       " 'submission_date': ['Apr 05 2021'],\n",
       " 'last_update_date': ['Apr 06 2021'],\n",
       " 'type': ['RNA'],\n",
       " 'channel_count': ['1'],\n",
       " 'source_name_ch1': ['Serum, Lung Cancer Patient, Experimental Group, 01'],\n",
       " 'organism_ch1': ['Homo sapiens'],\n",
       " 'taxid_ch1': ['9606'],\n",
       " 'characteristics_ch1': ['sample type: Serum',\n",
       "  'pathology: SCC',\n",
       "  'tnm: T2aN0M0',\n",
       "  'Stage: IB',\n",
       "  'disease state: lung cancer'],\n",
       " 'molecule_ch1': ['total RNA'],\n",
       " 'extract_protocol_ch1': ['Total RNA was isolated using TRI reagent BD (MRCgene, TB-126) according to manufacturerâ€™s instructions. RNA quality and quantity was measured by using nanodrop spectrophotometer (ND-1000, Nanodrop Technologies).'],\n",
       " 'label_ch1': ['Hy3'],\n",
       " 'label_protocol_ch1': [\"After RNA isolation from the samples, the miRCURYâ„¢ Hy3â„¢/Hy5â„¢ Power labeling kit (Exiqon, Vedbaek, Denmark) was used according to the manufacturerâ€™s guideline for miRNA labelling. One microgram of each sample was 3'-end-labeled with Hy3TM fluorescent label, using T4 RNA ligase by the following procedure: RNA in 2.0 Î¼L of water was combined with 1.0 Î¼L of CIP buffer and CIP (Exiqon). The mixture was incubated for 30 min at 37Â°C, and was terminated by incubation for 5 min at 95Â°C. Then 3.0 Î¼L of labeling buffer, 1.5 Î¼L of fluorescent label (Hy3TM), 2.0 Î¼L of DMSO, 2.0 Î¼L of labeling enzyme were added into the mixture. The labeling reaction was incubated for 1 h at 16Â°C, and terminated by incubation for 15 min at 65Â°C.\"],\n",
       " 'hyb_protocol': ['After stopping the labeling procedure, the Hy3TM-labeled samples were hybridized on the miRCURYTM LNA Array (v.18.0) (Exiqon) according to array manual. The total 25 Î¼L mixture from Hy3TM-labeled samples with 25 Î¼L hybridization buffer were first denatured for 2 min at 95Â°C, incubated on ice for 2 min and then hybridized to the microarray for 16â€“20 h at 56Â°C in a 12-Bay Hybridization Systems (Hybridization System - Nimblegen Systems, Inc., Madison, WI, USA), which provides an active mixing action and constant incubation temperature to improve hybridization uniformity and enhance signal.'],\n",
       " 'scan_protocol': ['Following hybridization, the slides were achieved, washed several times using Wash buffer kit (Exiqon), and finally dried by centrifugation for 5 min at 400 rpm. Then the slides were scanned using the Axon GenePix 4000B microarray scanner (Axon Instruments, Foster City, CA).'],\n",
       " 'description': ['miRNA expression in serum of lung cancer patient'],\n",
       " 'data_processing': ['Scanned images were then imported into GenePix Pro 6.0 software (Axon) for grid alignment and data extraction. Replicated miRNAs were averaged and miRNAs that intensities>=30 in all samples were chosen for calculating normalization factor. Expressed data were normalized using the Median normalization. After normalization, significant differentially expressed miRNAs were identified through Volcano Plot filtering. Hierarchical clustering was performed using MEV software (v4.6, TIGR).'],\n",
       " 'platform_id': ['GPL18058'],\n",
       " 'contact_name': ['Xiaoxia,,Zhu'],\n",
       " 'contact_email': ['zhuxx01@126.com'],\n",
       " 'contact_department': ['Radiation Oncology Department'],\n",
       " 'contact_institute': ['Zhujiang Hospital, Southern Medical University'],\n",
       " 'contact_address': ['No. 253 Gongye Street'],\n",
       " 'contact_city': ['Guangzhou'],\n",
       " 'contact_state': ['Guangdong'],\n",
       " 'contact_zip/postal_code': ['510280'],\n",
       " 'contact_country': ['China'],\n",
       " 'supplementary_file': ['ftp://ftp.ncbi.nlm.nih.gov/geo/samples/GSM5226nnn/GSM5226511/suppl/GSM5226511_dsx.gpr.gz'],\n",
       " 'series_id': ['GSE171517'],\n",
       " 'data_row_count': ['3543']}"
      ]
     },
     "execution_count": 4,
     "metadata": {},
     "output_type": "execute_result"
    }
   ],
   "source": [
    "list(data.gsms.values())[0].metadata"
   ]
  },
  {
   "cell_type": "code",
   "execution_count": 5,
   "metadata": {},
   "outputs": [],
   "source": [
    "table = pd.concat([val.table.iloc[:,min(1,i):] for i, val in enumerate(data.gsms.values())], axis=1).transpose()"
   ]
  },
  {
   "cell_type": "code",
   "execution_count": 6,
   "metadata": {},
   "outputs": [
    {
     "data": {
      "text/html": [
       "<div>\n",
       "<style scoped>\n",
       "    .dataframe tbody tr th:only-of-type {\n",
       "        vertical-align: middle;\n",
       "    }\n",
       "\n",
       "    .dataframe tbody tr th {\n",
       "        vertical-align: top;\n",
       "    }\n",
       "\n",
       "    .dataframe thead th {\n",
       "        text-align: right;\n",
       "    }\n",
       "</style>\n",
       "<table border=\"1\" class=\"dataframe\">\n",
       "  <thead>\n",
       "    <tr style=\"text-align: right;\">\n",
       "      <th></th>\n",
       "      <th>0</th>\n",
       "      <th>1</th>\n",
       "      <th>2</th>\n",
       "      <th>3</th>\n",
       "      <th>4</th>\n",
       "      <th>5</th>\n",
       "      <th>6</th>\n",
       "      <th>7</th>\n",
       "      <th>8</th>\n",
       "      <th>9</th>\n",
       "      <th>...</th>\n",
       "      <th>3533</th>\n",
       "      <th>3534</th>\n",
       "      <th>3535</th>\n",
       "      <th>3536</th>\n",
       "      <th>3537</th>\n",
       "      <th>3538</th>\n",
       "      <th>3539</th>\n",
       "      <th>3540</th>\n",
       "      <th>3541</th>\n",
       "      <th>3542</th>\n",
       "    </tr>\n",
       "  </thead>\n",
       "  <tbody>\n",
       "    <tr>\n",
       "      <th>ID_REF</th>\n",
       "      <td>13138.000000</td>\n",
       "      <td>42638.000000</td>\n",
       "      <td>42888.000000</td>\n",
       "      <td>17519.000000</td>\n",
       "      <td>17278.000000</td>\n",
       "      <td>46507.000000</td>\n",
       "      <td>17928.000000</td>\n",
       "      <td>42826.000000</td>\n",
       "      <td>17537.000000</td>\n",
       "      <td>42722.000000</td>\n",
       "      <td>...</td>\n",
       "      <td>169021.000000</td>\n",
       "      <td>168774.0</td>\n",
       "      <td>169286.000000</td>\n",
       "      <td>168902.000000</td>\n",
       "      <td>168880.000000</td>\n",
       "      <td>169301.00000</td>\n",
       "      <td>169077.000000</td>\n",
       "      <td>168816.0</td>\n",
       "      <td>169280.0</td>\n",
       "      <td>168835.000000</td>\n",
       "    </tr>\n",
       "    <tr>\n",
       "      <th>VALUE</th>\n",
       "      <td>28.164547</td>\n",
       "      <td>0.064323</td>\n",
       "      <td>0.360509</td>\n",
       "      <td>0.047868</td>\n",
       "      <td>0.031414</td>\n",
       "      <td>0.107704</td>\n",
       "      <td>NaN</td>\n",
       "      <td>0.949888</td>\n",
       "      <td>0.080778</td>\n",
       "      <td>0.064323</td>\n",
       "      <td>...</td>\n",
       "      <td>0.038893</td>\n",
       "      <td>NaN</td>\n",
       "      <td>NaN</td>\n",
       "      <td>NaN</td>\n",
       "      <td>NaN</td>\n",
       "      <td>NaN</td>\n",
       "      <td>NaN</td>\n",
       "      <td>NaN</td>\n",
       "      <td>NaN</td>\n",
       "      <td>0.001496</td>\n",
       "    </tr>\n",
       "    <tr>\n",
       "      <th>VALUE</th>\n",
       "      <td>48.563729</td>\n",
       "      <td>0.034960</td>\n",
       "      <td>0.093227</td>\n",
       "      <td>NaN</td>\n",
       "      <td>NaN</td>\n",
       "      <td>0.796795</td>\n",
       "      <td>NaN</td>\n",
       "      <td>1.308084</td>\n",
       "      <td>NaN</td>\n",
       "      <td>NaN</td>\n",
       "      <td>...</td>\n",
       "      <td>NaN</td>\n",
       "      <td>NaN</td>\n",
       "      <td>NaN</td>\n",
       "      <td>NaN</td>\n",
       "      <td>NaN</td>\n",
       "      <td>NaN</td>\n",
       "      <td>NaN</td>\n",
       "      <td>NaN</td>\n",
       "      <td>NaN</td>\n",
       "      <td>NaN</td>\n",
       "    </tr>\n",
       "    <tr>\n",
       "      <th>VALUE</th>\n",
       "      <td>9.863926</td>\n",
       "      <td>0.114812</td>\n",
       "      <td>0.060950</td>\n",
       "      <td>NaN</td>\n",
       "      <td>NaN</td>\n",
       "      <td>0.133239</td>\n",
       "      <td>NaN</td>\n",
       "      <td>1.206237</td>\n",
       "      <td>0.082211</td>\n",
       "      <td>0.011339</td>\n",
       "      <td>...</td>\n",
       "      <td>0.109142</td>\n",
       "      <td>NaN</td>\n",
       "      <td>NaN</td>\n",
       "      <td>NaN</td>\n",
       "      <td>NaN</td>\n",
       "      <td>NaN</td>\n",
       "      <td>NaN</td>\n",
       "      <td>NaN</td>\n",
       "      <td>NaN</td>\n",
       "      <td>NaN</td>\n",
       "    </tr>\n",
       "    <tr>\n",
       "      <th>VALUE</th>\n",
       "      <td>91.649922</td>\n",
       "      <td>0.053375</td>\n",
       "      <td>0.067504</td>\n",
       "      <td>NaN</td>\n",
       "      <td>NaN</td>\n",
       "      <td>0.065934</td>\n",
       "      <td>NaN</td>\n",
       "      <td>1.043956</td>\n",
       "      <td>0.051805</td>\n",
       "      <td>0.040816</td>\n",
       "      <td>...</td>\n",
       "      <td>NaN</td>\n",
       "      <td>NaN</td>\n",
       "      <td>NaN</td>\n",
       "      <td>NaN</td>\n",
       "      <td>NaN</td>\n",
       "      <td>NaN</td>\n",
       "      <td>NaN</td>\n",
       "      <td>NaN</td>\n",
       "      <td>NaN</td>\n",
       "      <td>NaN</td>\n",
       "    </tr>\n",
       "    <tr>\n",
       "      <th>VALUE</th>\n",
       "      <td>118.200340</td>\n",
       "      <td>NaN</td>\n",
       "      <td>NaN</td>\n",
       "      <td>NaN</td>\n",
       "      <td>NaN</td>\n",
       "      <td>0.210526</td>\n",
       "      <td>NaN</td>\n",
       "      <td>1.920204</td>\n",
       "      <td>NaN</td>\n",
       "      <td>NaN</td>\n",
       "      <td>...</td>\n",
       "      <td>NaN</td>\n",
       "      <td>NaN</td>\n",
       "      <td>NaN</td>\n",
       "      <td>NaN</td>\n",
       "      <td>NaN</td>\n",
       "      <td>NaN</td>\n",
       "      <td>NaN</td>\n",
       "      <td>NaN</td>\n",
       "      <td>NaN</td>\n",
       "      <td>NaN</td>\n",
       "    </tr>\n",
       "    <tr>\n",
       "      <th>VALUE</th>\n",
       "      <td>26.656143</td>\n",
       "      <td>NaN</td>\n",
       "      <td>NaN</td>\n",
       "      <td>NaN</td>\n",
       "      <td>NaN</td>\n",
       "      <td>0.020590</td>\n",
       "      <td>NaN</td>\n",
       "      <td>0.997941</td>\n",
       "      <td>0.054907</td>\n",
       "      <td>0.012354</td>\n",
       "      <td>...</td>\n",
       "      <td>0.037062</td>\n",
       "      <td>NaN</td>\n",
       "      <td>NaN</td>\n",
       "      <td>NaN</td>\n",
       "      <td>NaN</td>\n",
       "      <td>NaN</td>\n",
       "      <td>NaN</td>\n",
       "      <td>NaN</td>\n",
       "      <td>NaN</td>\n",
       "      <td>NaN</td>\n",
       "    </tr>\n",
       "    <tr>\n",
       "      <th>VALUE</th>\n",
       "      <td>20.544098</td>\n",
       "      <td>0.065129</td>\n",
       "      <td>0.162822</td>\n",
       "      <td>NaN</td>\n",
       "      <td>NaN</td>\n",
       "      <td>0.028494</td>\n",
       "      <td>NaN</td>\n",
       "      <td>0.672999</td>\n",
       "      <td>0.100407</td>\n",
       "      <td>0.052917</td>\n",
       "      <td>...</td>\n",
       "      <td>0.075984</td>\n",
       "      <td>NaN</td>\n",
       "      <td>NaN</td>\n",
       "      <td>NaN</td>\n",
       "      <td>NaN</td>\n",
       "      <td>NaN</td>\n",
       "      <td>NaN</td>\n",
       "      <td>NaN</td>\n",
       "      <td>NaN</td>\n",
       "      <td>0.005427</td>\n",
       "    </tr>\n",
       "    <tr>\n",
       "      <th>VALUE</th>\n",
       "      <td>3.759651</td>\n",
       "      <td>0.170610</td>\n",
       "      <td>0.839352</td>\n",
       "      <td>0.004981</td>\n",
       "      <td>0.006227</td>\n",
       "      <td>0.230386</td>\n",
       "      <td>0.006227</td>\n",
       "      <td>2.073474</td>\n",
       "      <td>0.276463</td>\n",
       "      <td>0.022416</td>\n",
       "      <td>...</td>\n",
       "      <td>0.069738</td>\n",
       "      <td>NaN</td>\n",
       "      <td>NaN</td>\n",
       "      <td>0.014944</td>\n",
       "      <td>0.004981</td>\n",
       "      <td>NaN</td>\n",
       "      <td>0.002491</td>\n",
       "      <td>NaN</td>\n",
       "      <td>NaN</td>\n",
       "      <td>0.052304</td>\n",
       "    </tr>\n",
       "    <tr>\n",
       "      <th>VALUE</th>\n",
       "      <td>3.657582</td>\n",
       "      <td>0.360587</td>\n",
       "      <td>0.556254</td>\n",
       "      <td>0.005590</td>\n",
       "      <td>0.015374</td>\n",
       "      <td>0.381551</td>\n",
       "      <td>0.111810</td>\n",
       "      <td>1.327743</td>\n",
       "      <td>0.328442</td>\n",
       "      <td>0.048917</td>\n",
       "      <td>...</td>\n",
       "      <td>0.167715</td>\n",
       "      <td>NaN</td>\n",
       "      <td>NaN</td>\n",
       "      <td>0.012579</td>\n",
       "      <td>0.018169</td>\n",
       "      <td>0.00559</td>\n",
       "      <td>0.016771</td>\n",
       "      <td>NaN</td>\n",
       "      <td>NaN</td>\n",
       "      <td>0.064291</td>\n",
       "    </tr>\n",
       "    <tr>\n",
       "      <th>VALUE</th>\n",
       "      <td>6.068513</td>\n",
       "      <td>0.217201</td>\n",
       "      <td>0.648688</td>\n",
       "      <td>0.007289</td>\n",
       "      <td>0.026239</td>\n",
       "      <td>0.600583</td>\n",
       "      <td>0.384840</td>\n",
       "      <td>1.495627</td>\n",
       "      <td>0.523324</td>\n",
       "      <td>0.033528</td>\n",
       "      <td>...</td>\n",
       "      <td>0.142857</td>\n",
       "      <td>NaN</td>\n",
       "      <td>NaN</td>\n",
       "      <td>0.034985</td>\n",
       "      <td>0.005831</td>\n",
       "      <td>NaN</td>\n",
       "      <td>0.021866</td>\n",
       "      <td>NaN</td>\n",
       "      <td>NaN</td>\n",
       "      <td>0.048105</td>\n",
       "    </tr>\n",
       "    <tr>\n",
       "      <th>VALUE</th>\n",
       "      <td>11.917972</td>\n",
       "      <td>0.137211</td>\n",
       "      <td>0.887397</td>\n",
       "      <td>0.019389</td>\n",
       "      <td>0.028337</td>\n",
       "      <td>0.286353</td>\n",
       "      <td>0.053691</td>\n",
       "      <td>1.285608</td>\n",
       "      <td>0.307233</td>\n",
       "      <td>0.070097</td>\n",
       "      <td>...</td>\n",
       "      <td>0.099925</td>\n",
       "      <td>NaN</td>\n",
       "      <td>0.002983</td>\n",
       "      <td>0.022371</td>\n",
       "      <td>NaN</td>\n",
       "      <td>NaN</td>\n",
       "      <td>0.032811</td>\n",
       "      <td>NaN</td>\n",
       "      <td>NaN</td>\n",
       "      <td>0.010440</td>\n",
       "    </tr>\n",
       "    <tr>\n",
       "      <th>VALUE</th>\n",
       "      <td>9.637775</td>\n",
       "      <td>0.201811</td>\n",
       "      <td>0.892626</td>\n",
       "      <td>0.015524</td>\n",
       "      <td>0.018111</td>\n",
       "      <td>0.411384</td>\n",
       "      <td>0.138422</td>\n",
       "      <td>1.301423</td>\n",
       "      <td>0.460543</td>\n",
       "      <td>0.038810</td>\n",
       "      <td>...</td>\n",
       "      <td>0.091850</td>\n",
       "      <td>NaN</td>\n",
       "      <td>NaN</td>\n",
       "      <td>0.038810</td>\n",
       "      <td>0.006468</td>\n",
       "      <td>NaN</td>\n",
       "      <td>0.038810</td>\n",
       "      <td>NaN</td>\n",
       "      <td>NaN</td>\n",
       "      <td>0.037516</td>\n",
       "    </tr>\n",
       "  </tbody>\n",
       "</table>\n",
       "<p>13 rows × 3543 columns</p>\n",
       "</div>"
      ],
      "text/plain": [
       "                0             1             2             3             4     \\\n",
       "ID_REF  13138.000000  42638.000000  42888.000000  17519.000000  17278.000000   \n",
       "VALUE      28.164547      0.064323      0.360509      0.047868      0.031414   \n",
       "VALUE      48.563729      0.034960      0.093227           NaN           NaN   \n",
       "VALUE       9.863926      0.114812      0.060950           NaN           NaN   \n",
       "VALUE      91.649922      0.053375      0.067504           NaN           NaN   \n",
       "VALUE     118.200340           NaN           NaN           NaN           NaN   \n",
       "VALUE      26.656143           NaN           NaN           NaN           NaN   \n",
       "VALUE      20.544098      0.065129      0.162822           NaN           NaN   \n",
       "VALUE       3.759651      0.170610      0.839352      0.004981      0.006227   \n",
       "VALUE       3.657582      0.360587      0.556254      0.005590      0.015374   \n",
       "VALUE       6.068513      0.217201      0.648688      0.007289      0.026239   \n",
       "VALUE      11.917972      0.137211      0.887397      0.019389      0.028337   \n",
       "VALUE       9.637775      0.201811      0.892626      0.015524      0.018111   \n",
       "\n",
       "                5             6             7             8             9     \\\n",
       "ID_REF  46507.000000  17928.000000  42826.000000  17537.000000  42722.000000   \n",
       "VALUE       0.107704           NaN      0.949888      0.080778      0.064323   \n",
       "VALUE       0.796795           NaN      1.308084           NaN           NaN   \n",
       "VALUE       0.133239           NaN      1.206237      0.082211      0.011339   \n",
       "VALUE       0.065934           NaN      1.043956      0.051805      0.040816   \n",
       "VALUE       0.210526           NaN      1.920204           NaN           NaN   \n",
       "VALUE       0.020590           NaN      0.997941      0.054907      0.012354   \n",
       "VALUE       0.028494           NaN      0.672999      0.100407      0.052917   \n",
       "VALUE       0.230386      0.006227      2.073474      0.276463      0.022416   \n",
       "VALUE       0.381551      0.111810      1.327743      0.328442      0.048917   \n",
       "VALUE       0.600583      0.384840      1.495627      0.523324      0.033528   \n",
       "VALUE       0.286353      0.053691      1.285608      0.307233      0.070097   \n",
       "VALUE       0.411384      0.138422      1.301423      0.460543      0.038810   \n",
       "\n",
       "        ...           3533      3534           3535           3536  \\\n",
       "ID_REF  ...  169021.000000  168774.0  169286.000000  168902.000000   \n",
       "VALUE   ...       0.038893       NaN            NaN            NaN   \n",
       "VALUE   ...            NaN       NaN            NaN            NaN   \n",
       "VALUE   ...       0.109142       NaN            NaN            NaN   \n",
       "VALUE   ...            NaN       NaN            NaN            NaN   \n",
       "VALUE   ...            NaN       NaN            NaN            NaN   \n",
       "VALUE   ...       0.037062       NaN            NaN            NaN   \n",
       "VALUE   ...       0.075984       NaN            NaN            NaN   \n",
       "VALUE   ...       0.069738       NaN            NaN       0.014944   \n",
       "VALUE   ...       0.167715       NaN            NaN       0.012579   \n",
       "VALUE   ...       0.142857       NaN            NaN       0.034985   \n",
       "VALUE   ...       0.099925       NaN       0.002983       0.022371   \n",
       "VALUE   ...       0.091850       NaN            NaN       0.038810   \n",
       "\n",
       "                 3537          3538           3539      3540      3541  \\\n",
       "ID_REF  168880.000000  169301.00000  169077.000000  168816.0  169280.0   \n",
       "VALUE             NaN           NaN            NaN       NaN       NaN   \n",
       "VALUE             NaN           NaN            NaN       NaN       NaN   \n",
       "VALUE             NaN           NaN            NaN       NaN       NaN   \n",
       "VALUE             NaN           NaN            NaN       NaN       NaN   \n",
       "VALUE             NaN           NaN            NaN       NaN       NaN   \n",
       "VALUE             NaN           NaN            NaN       NaN       NaN   \n",
       "VALUE             NaN           NaN            NaN       NaN       NaN   \n",
       "VALUE        0.004981           NaN       0.002491       NaN       NaN   \n",
       "VALUE        0.018169       0.00559       0.016771       NaN       NaN   \n",
       "VALUE        0.005831           NaN       0.021866       NaN       NaN   \n",
       "VALUE             NaN           NaN       0.032811       NaN       NaN   \n",
       "VALUE        0.006468           NaN       0.038810       NaN       NaN   \n",
       "\n",
       "                 3542  \n",
       "ID_REF  168835.000000  \n",
       "VALUE        0.001496  \n",
       "VALUE             NaN  \n",
       "VALUE             NaN  \n",
       "VALUE             NaN  \n",
       "VALUE             NaN  \n",
       "VALUE             NaN  \n",
       "VALUE        0.005427  \n",
       "VALUE        0.052304  \n",
       "VALUE        0.064291  \n",
       "VALUE        0.048105  \n",
       "VALUE        0.010440  \n",
       "VALUE        0.037516  \n",
       "\n",
       "[13 rows x 3543 columns]"
      ]
     },
     "execution_count": 6,
     "metadata": {},
     "output_type": "execute_result"
    }
   ],
   "source": [
    "table"
   ]
  },
  {
   "cell_type": "code",
   "execution_count": 7,
   "metadata": {},
   "outputs": [],
   "source": [
    "table = table.replace(-1, np.nan)"
   ]
  },
  {
   "cell_type": "code",
   "execution_count": 8,
   "metadata": {},
   "outputs": [],
   "source": [
    "table = table.fillna(table.min().min())"
   ]
  },
  {
   "cell_type": "code",
   "execution_count": 9,
   "metadata": {},
   "outputs": [],
   "source": [
    "mirnas = table.iloc[0, :].transpose().astype(int)\n",
    "table = table.iloc[1:, :]"
   ]
  },
  {
   "cell_type": "code",
   "execution_count": 10,
   "metadata": {},
   "outputs": [
    {
     "data": {
      "text/plain": [
       "0       31.557016\n",
       "1        0.118543\n",
       "2        0.380985\n",
       "3        0.009009\n",
       "4        0.011098\n",
       "          ...    \n",
       "3538     0.001607\n",
       "3539     0.010122\n",
       "3540     0.001245\n",
       "3541     0.001245\n",
       "3542     0.018817\n",
       "Length: 3543, dtype: float64"
      ]
     },
     "execution_count": 10,
     "metadata": {},
     "output_type": "execute_result"
    }
   ],
   "source": [
    "np.mean(table)"
   ]
  },
  {
   "cell_type": "code",
   "execution_count": 11,
   "metadata": {
    "tags": []
   },
   "outputs": [],
   "source": [
    "def get_means_and_variances(table):\n",
    "    return np.mean(table), np.var(table, ddof=1)"
   ]
  },
  {
   "cell_type": "code",
   "execution_count": 12,
   "metadata": {
    "tags": []
   },
   "outputs": [],
   "source": [
    "def mean_variance_plot(table):\n",
    "    means, variances = get_means_and_variances(table)\n",
    "    plt.scatter(means, variances)\n",
    "    plt.xlabel(\"mean\")\n",
    "    plt.ylabel(\"variance\")\n",
    "    plt.plot()"
   ]
  },
  {
   "cell_type": "code",
   "execution_count": 13,
   "metadata": {},
   "outputs": [
    {
     "data": {
      "image/png": "[encoded data removed]",
      "text/plain": [
       "<Figure size 432x288 with 1 Axes>"
      ]
     },
     "metadata": {
      "needs_background": "light"
     },
     "output_type": "display_data"
    }
   ],
   "source": [
    "mean_variance_plot(table)"
   ]
  },
  {
   "cell_type": "markdown",
   "metadata": {},
   "source": [
    "### Trying log-transformation"
   ]
  },
  {
   "cell_type": "code",
   "execution_count": 14,
   "metadata": {},
   "outputs": [],
   "source": [
    "log_table = table #np.log2(table)"
   ]
  },
  {
   "cell_type": "code",
   "execution_count": 15,
   "metadata": {},
   "outputs": [
    {
     "data": {
      "image/png": "[encoded data removed]",
      "text/plain": [
       "<Figure size 432x288 with 1 Axes>"
      ]
     },
     "metadata": {
      "needs_background": "light"
     },
     "output_type": "display_data"
    }
   ],
   "source": [
    "mean_variance_plot(log_table)"
   ]
  },
  {
   "cell_type": "code",
   "execution_count": 16,
   "metadata": {
    "tags": []
   },
   "outputs": [],
   "source": [
    "norm_log_table = log_table# - np.mean(log_table)"
   ]
  },
  {
   "cell_type": "code",
   "execution_count": 17,
   "metadata": {},
   "outputs": [],
   "source": [
    "#norm_log_table /= np.sqrt(np.mean(np.var(norm_log_table, ddof=1)))"
   ]
  },
  {
   "cell_type": "code",
   "execution_count": 18,
   "metadata": {},
   "outputs": [
    {
     "data": {
      "text/plain": [
       "19.814505550255287"
      ]
     },
     "execution_count": 18,
     "metadata": {},
     "output_type": "execute_result"
    }
   ],
   "source": [
    "norm_log_table.var().mean()"
   ]
  },
  {
   "cell_type": "code",
   "execution_count": 19,
   "metadata": {},
   "outputs": [
    {
     "data": {
      "image/png": "[encoded data removed]",
      "text/plain": [
       "<Figure size 432x288 with 1 Axes>"
      ]
     },
     "metadata": {
      "needs_background": "light"
     },
     "output_type": "display_data"
    }
   ],
   "source": [
    "mean_variance_plot(norm_log_table)"
   ]
  },
  {
   "cell_type": "code",
   "execution_count": 20,
   "metadata": {
    "tags": []
   },
   "outputs": [],
   "source": [
    "pca = decomposition.PCA(n_components=2)"
   ]
  },
  {
   "cell_type": "code",
   "execution_count": 21,
   "metadata": {},
   "outputs": [
    {
     "data": {
      "text/plain": [
       "PCA(n_components=2)"
      ]
     },
     "execution_count": 21,
     "metadata": {},
     "output_type": "execute_result"
    }
   ],
   "source": [
    "pca.fit(norm_log_table)"
   ]
  },
  {
   "cell_type": "code",
   "execution_count": 22,
   "metadata": {
    "tags": []
   },
   "outputs": [],
   "source": [
    "components = pca.transform(norm_log_table)"
   ]
  },
  {
   "cell_type": "code",
   "execution_count": 23,
   "metadata": {},
   "outputs": [
    {
     "data": {
      "text/plain": [
       "array([[ 175.81883121,   36.32862892],\n",
       "       [ 192.40902904,    2.70460787],\n",
       "       [  70.12160292,  -79.11386097],\n",
       "       [ 164.5265265 ,    2.97848959],\n",
       "       [ 372.24718921,   77.17258381],\n",
       "       [ 169.92194521,  -44.03277099],\n",
       "       [  40.64519552,  -79.69927419],\n",
       "       [-228.61830345,  -84.1961019 ],\n",
       "       [-239.75280289,  -57.42280604],\n",
       "       [-241.39361657,   -3.87816442],\n",
       "       [-229.25946012,  156.12526586],\n",
       "       [-246.66613658,   73.03340244]])"
      ]
     },
     "execution_count": 23,
     "metadata": {},
     "output_type": "execute_result"
    }
   ],
   "source": [
    "components"
   ]
  },
  {
   "cell_type": "code",
   "execution_count": 24,
   "metadata": {},
   "outputs": [
    {
     "data": {
      "image/png": "[encoded data removed]",
      "text/plain": [
       "<Figure size 576x576 with 1 Axes>"
      ]
     },
     "metadata": {
      "needs_background": "light"
     },
     "output_type": "display_data"
    }
   ],
   "source": [
    "fig = plt.figure(figsize = (8,8))\n",
    "ax = fig.add_subplot(1,1,1)\n",
    "\n",
    "ax.set_xlabel('Principal Component 1', fontsize = 15)\n",
    "ax.set_ylabel('Principal Component 2', fontsize = 15)\n",
    "ax.set_title('2 component PCA', fontsize = 20)\n",
    "targets = ['Cancer', 'Healthy']\n",
    "colors = ['r', 'g']\n",
    "ax.scatter(components[:6, 0], components[:6, 1], c = 'r', s = 50)\n",
    "ax.scatter(components[6:, 0], components[6:, 1], c = 'g', s = 50)\n",
    "ax.legend(targets)\n",
    "ax.grid()\n",
    "plt.savefig(\"../Figures/PCA/Duan2021.pgf\")"
   ]
  },
  {
   "cell_type": "code",
   "execution_count": 25,
   "metadata": {},
   "outputs": [],
   "source": [
    "labels = np.array([\"Control\" if i > 6 else \"Cancer\" for i in range(12)])\n",
    "pca_data = pd.DataFrame(components)\n",
    "pca_data[\"Type\"] = labels\n",
    "pca_data.columns = [\"PCA1\", \"PCA2\", \"Type\"]\n",
    "pca_data.to_csv(\"../Outdata/PCA/Duan2021.csv\")"
   ]
  },
  {
   "cell_type": "markdown",
   "metadata": {},
   "source": [
    "### Exporting data"
   ]
  },
  {
   "cell_type": "code",
   "execution_count": null,
   "metadata": {},
   "outputs": [],
   "source": []
  },
  {
   "cell_type": "code",
   "execution_count": 26,
   "metadata": {},
   "outputs": [
    {
     "data": {
      "text/html": [
       "<div>\n",
       "<style scoped>\n",
       "    .dataframe tbody tr th:only-of-type {\n",
       "        vertical-align: middle;\n",
       "    }\n",
       "\n",
       "    .dataframe tbody tr th {\n",
       "        vertical-align: top;\n",
       "    }\n",
       "\n",
       "    .dataframe thead th {\n",
       "        text-align: right;\n",
       "    }\n",
       "</style>\n",
       "<table border=\"1\" class=\"dataframe\">\n",
       "  <thead>\n",
       "    <tr style=\"text-align: right;\">\n",
       "      <th></th>\n",
       "      <th>ID</th>\n",
       "      <th>Human_miRNA</th>\n",
       "      <th>Human_miRBase</th>\n",
       "      <th>Mouse_miRNA</th>\n",
       "      <th>Mouse_miRBase</th>\n",
       "      <th>Rat_miRNA</th>\n",
       "      <th>Rat_miRBase</th>\n",
       "      <th>miRNA_ID</th>\n",
       "      <th>SPOT_ID</th>\n",
       "    </tr>\n",
       "  </thead>\n",
       "  <tbody>\n",
       "    <tr>\n",
       "      <th>0</th>\n",
       "      <td>10138</td>\n",
       "      <td>hsa-miR-130a-3p</td>\n",
       "      <td>MIMAT0000425</td>\n",
       "      <td>mmu-miR-130a-3p</td>\n",
       "      <td>MIMAT0000141</td>\n",
       "      <td>rno-miR-130a</td>\n",
       "      <td>MIMAT0000836</td>\n",
       "      <td>hsa-miR-130a-3p</td>\n",
       "      <td>NaN</td>\n",
       "    </tr>\n",
       "    <tr>\n",
       "      <th>1</th>\n",
       "      <td>10306</td>\n",
       "      <td>hsa-miR-146b-5p</td>\n",
       "      <td>MIMAT0002809</td>\n",
       "      <td>mmu-miR-146b-5p</td>\n",
       "      <td>MIMAT0003475</td>\n",
       "      <td>rno-miR-146b</td>\n",
       "      <td>MIMAT0005595</td>\n",
       "      <td>hsa-miR-146b-5p</td>\n",
       "      <td>NaN</td>\n",
       "    </tr>\n",
       "    <tr>\n",
       "      <th>2</th>\n",
       "      <td>105441</td>\n",
       "      <td>hsa-miR-518c-3p</td>\n",
       "      <td>MIMAT0002848</td>\n",
       "      <td>NaN</td>\n",
       "      <td>NaN</td>\n",
       "      <td>NaN</td>\n",
       "      <td>NaN</td>\n",
       "      <td>hsa-miR-518c-3p</td>\n",
       "      <td>NaN</td>\n",
       "    </tr>\n",
       "    <tr>\n",
       "      <th>3</th>\n",
       "      <td>10899</td>\n",
       "      <td>spike_control_v1_j</td>\n",
       "      <td>NaN</td>\n",
       "      <td>spike_control_v1_j</td>\n",
       "      <td>NaN</td>\n",
       "      <td>spike_control_v1_j</td>\n",
       "      <td>NaN</td>\n",
       "      <td>NaN</td>\n",
       "      <td>spike_control_v1_j</td>\n",
       "    </tr>\n",
       "    <tr>\n",
       "      <th>4</th>\n",
       "      <td>10901</td>\n",
       "      <td>hsa_negative_control_6</td>\n",
       "      <td>NaN</td>\n",
       "      <td>hsa_negative_control_6</td>\n",
       "      <td>NaN</td>\n",
       "      <td>hsa_negative_control_6</td>\n",
       "      <td>NaN</td>\n",
       "      <td>NaN</td>\n",
       "      <td>hsa_negative_control_6</td>\n",
       "    </tr>\n",
       "  </tbody>\n",
       "</table>\n",
       "</div>"
      ],
      "text/plain": [
       "       ID             Human_miRNA Human_miRBase             Mouse_miRNA  \\\n",
       "0   10138         hsa-miR-130a-3p  MIMAT0000425         mmu-miR-130a-3p   \n",
       "1   10306         hsa-miR-146b-5p  MIMAT0002809         mmu-miR-146b-5p   \n",
       "2  105441         hsa-miR-518c-3p  MIMAT0002848                     NaN   \n",
       "3   10899      spike_control_v1_j           NaN      spike_control_v1_j   \n",
       "4   10901  hsa_negative_control_6           NaN  hsa_negative_control_6   \n",
       "\n",
       "  Mouse_miRBase               Rat_miRNA   Rat_miRBase         miRNA_ID  \\\n",
       "0  MIMAT0000141            rno-miR-130a  MIMAT0000836  hsa-miR-130a-3p   \n",
       "1  MIMAT0003475            rno-miR-146b  MIMAT0005595  hsa-miR-146b-5p   \n",
       "2           NaN                     NaN           NaN  hsa-miR-518c-3p   \n",
       "3           NaN      spike_control_v1_j           NaN              NaN   \n",
       "4           NaN  hsa_negative_control_6           NaN              NaN   \n",
       "\n",
       "                  SPOT_ID  \n",
       "0                     NaN  \n",
       "1                     NaN  \n",
       "2                     NaN  \n",
       "3      spike_control_v1_j  \n",
       "4  hsa_negative_control_6  "
      ]
     },
     "execution_count": 26,
     "metadata": {},
     "output_type": "execute_result"
    }
   ],
   "source": [
    "id_lookup = data.gpls[\"GPL18058\"].table\n",
    "id_lookup.head()"
   ]
  },
  {
   "cell_type": "code",
   "execution_count": 27,
   "metadata": {},
   "outputs": [],
   "source": [
    "id_lookup = id_lookup.set_index(\"ID\")"
   ]
  },
  {
   "cell_type": "code",
   "execution_count": 28,
   "metadata": {},
   "outputs": [
    {
     "data": {
      "text/html": [
       "<div>\n",
       "<style scoped>\n",
       "    .dataframe tbody tr th:only-of-type {\n",
       "        vertical-align: middle;\n",
       "    }\n",
       "\n",
       "    .dataframe tbody tr th {\n",
       "        vertical-align: top;\n",
       "    }\n",
       "\n",
       "    .dataframe thead th {\n",
       "        text-align: right;\n",
       "    }\n",
       "</style>\n",
       "<table border=\"1\" class=\"dataframe\">\n",
       "  <thead>\n",
       "    <tr style=\"text-align: right;\">\n",
       "      <th></th>\n",
       "      <th>Human_miRNA</th>\n",
       "      <th>Human_miRBase</th>\n",
       "      <th>Mouse_miRNA</th>\n",
       "      <th>Mouse_miRBase</th>\n",
       "      <th>Rat_miRNA</th>\n",
       "      <th>Rat_miRBase</th>\n",
       "      <th>miRNA_ID</th>\n",
       "      <th>SPOT_ID</th>\n",
       "    </tr>\n",
       "    <tr>\n",
       "      <th>ID</th>\n",
       "      <th></th>\n",
       "      <th></th>\n",
       "      <th></th>\n",
       "      <th></th>\n",
       "      <th></th>\n",
       "      <th></th>\n",
       "      <th></th>\n",
       "      <th></th>\n",
       "    </tr>\n",
       "  </thead>\n",
       "  <tbody>\n",
       "    <tr>\n",
       "      <th>13138</th>\n",
       "      <td>Hy3</td>\n",
       "      <td>NaN</td>\n",
       "      <td>Hy3</td>\n",
       "      <td>NaN</td>\n",
       "      <td>Hy3</td>\n",
       "      <td>NaN</td>\n",
       "      <td>NaN</td>\n",
       "      <td>Hy3</td>\n",
       "    </tr>\n",
       "    <tr>\n",
       "      <th>42638</th>\n",
       "      <td>hsa-miR-23a-5p</td>\n",
       "      <td>MIMAT0004496</td>\n",
       "      <td>mmu-miR-23a-5p</td>\n",
       "      <td>MIMAT0017019</td>\n",
       "      <td>rno-miR-23a*</td>\n",
       "      <td>MIMAT0004712</td>\n",
       "      <td>hsa-miR-23a-5p</td>\n",
       "      <td>NaN</td>\n",
       "    </tr>\n",
       "    <tr>\n",
       "      <th>42888</th>\n",
       "      <td>NaN</td>\n",
       "      <td>NaN</td>\n",
       "      <td>mmu-miR-875-3p</td>\n",
       "      <td>MIMAT0004938</td>\n",
       "      <td>NaN</td>\n",
       "      <td>NaN</td>\n",
       "      <td>NaN</td>\n",
       "      <td>42888</td>\n",
       "    </tr>\n",
       "    <tr>\n",
       "      <th>17519</th>\n",
       "      <td>ebv-miR-BART1-3p</td>\n",
       "      <td>MIMAT0003390</td>\n",
       "      <td>NaN</td>\n",
       "      <td>NaN</td>\n",
       "      <td>NaN</td>\n",
       "      <td>NaN</td>\n",
       "      <td>NaN</td>\n",
       "      <td>ebv-miR-BART1-3p</td>\n",
       "    </tr>\n",
       "    <tr>\n",
       "      <th>17278</th>\n",
       "      <td>NaN</td>\n",
       "      <td>NaN</td>\n",
       "      <td>mmu-miR-719</td>\n",
       "      <td>MIMAT0003465</td>\n",
       "      <td>NaN</td>\n",
       "      <td>NaN</td>\n",
       "      <td>NaN</td>\n",
       "      <td>17278</td>\n",
       "    </tr>\n",
       "    <tr>\n",
       "      <th>46507</th>\n",
       "      <td>hsa-miR-921</td>\n",
       "      <td>MIMAT0004971</td>\n",
       "      <td>NaN</td>\n",
       "      <td>NaN</td>\n",
       "      <td>NaN</td>\n",
       "      <td>NaN</td>\n",
       "      <td>hsa-miR-921</td>\n",
       "      <td>NaN</td>\n",
       "    </tr>\n",
       "    <tr>\n",
       "      <th>17928</th>\n",
       "      <td>hsa-miR-181a-2-3p</td>\n",
       "      <td>MIMAT0004558</td>\n",
       "      <td>NaN</td>\n",
       "      <td>NaN</td>\n",
       "      <td>NaN</td>\n",
       "      <td>NaN</td>\n",
       "      <td>hsa-miR-181a-2-3p</td>\n",
       "      <td>NaN</td>\n",
       "    </tr>\n",
       "    <tr>\n",
       "      <th>42826</th>\n",
       "      <td>NaN</td>\n",
       "      <td>NaN</td>\n",
       "      <td>mmu-miR-300-5p</td>\n",
       "      <td>MIMAT0004578</td>\n",
       "      <td>rno-miR-300-5p</td>\n",
       "      <td>MIMAT0004743</td>\n",
       "      <td>NaN</td>\n",
       "      <td>42826</td>\n",
       "    </tr>\n",
       "    <tr>\n",
       "      <th>17537</th>\n",
       "      <td>NaN</td>\n",
       "      <td>NaN</td>\n",
       "      <td>mghv-miR-M1-3</td>\n",
       "      <td>MIMAT0001566</td>\n",
       "      <td>NaN</td>\n",
       "      <td>NaN</td>\n",
       "      <td>NaN</td>\n",
       "      <td>17537</td>\n",
       "    </tr>\n",
       "    <tr>\n",
       "      <th>42722</th>\n",
       "      <td>NaN</td>\n",
       "      <td>NaN</td>\n",
       "      <td>NaN</td>\n",
       "      <td>NaN</td>\n",
       "      <td>rno-miR-346</td>\n",
       "      <td>MIMAT0000596</td>\n",
       "      <td>NaN</td>\n",
       "      <td>42722</td>\n",
       "    </tr>\n",
       "  </tbody>\n",
       "</table>\n",
       "</div>"
      ],
      "text/plain": [
       "             Human_miRNA Human_miRBase     Mouse_miRNA Mouse_miRBase  \\\n",
       "ID                                                                     \n",
       "13138                Hy3           NaN             Hy3           NaN   \n",
       "42638     hsa-miR-23a-5p  MIMAT0004496  mmu-miR-23a-5p  MIMAT0017019   \n",
       "42888                NaN           NaN  mmu-miR-875-3p  MIMAT0004938   \n",
       "17519   ebv-miR-BART1-3p  MIMAT0003390             NaN           NaN   \n",
       "17278                NaN           NaN     mmu-miR-719  MIMAT0003465   \n",
       "46507        hsa-miR-921  MIMAT0004971             NaN           NaN   \n",
       "17928  hsa-miR-181a-2-3p  MIMAT0004558             NaN           NaN   \n",
       "42826                NaN           NaN  mmu-miR-300-5p  MIMAT0004578   \n",
       "17537                NaN           NaN   mghv-miR-M1-3  MIMAT0001566   \n",
       "42722                NaN           NaN             NaN           NaN   \n",
       "\n",
       "            Rat_miRNA   Rat_miRBase           miRNA_ID           SPOT_ID  \n",
       "ID                                                                        \n",
       "13138             Hy3           NaN                NaN               Hy3  \n",
       "42638    rno-miR-23a*  MIMAT0004712     hsa-miR-23a-5p               NaN  \n",
       "42888             NaN           NaN                NaN             42888  \n",
       "17519             NaN           NaN                NaN  ebv-miR-BART1-3p  \n",
       "17278             NaN           NaN                NaN             17278  \n",
       "46507             NaN           NaN        hsa-miR-921               NaN  \n",
       "17928             NaN           NaN  hsa-miR-181a-2-3p               NaN  \n",
       "42826  rno-miR-300-5p  MIMAT0004743                NaN             42826  \n",
       "17537             NaN           NaN                NaN             17537  \n",
       "42722     rno-miR-346  MIMAT0000596                NaN             42722  "
      ]
     },
     "execution_count": 28,
     "metadata": {},
     "output_type": "execute_result"
    }
   ],
   "source": [
    "id_lookup.loc[mirnas[:10]]"
   ]
  },
  {
   "cell_type": "code",
   "execution_count": 29,
   "metadata": {},
   "outputs": [],
   "source": [
    "mirbase_ids = id_lookup.loc[mirnas][\"Human_miRBase\"]"
   ]
  },
  {
   "cell_type": "code",
   "execution_count": 30,
   "metadata": {},
   "outputs": [],
   "source": [
    "mask = np.logical_not(mirbase_ids.isna()).to_numpy()"
   ]
  },
  {
   "cell_type": "code",
   "execution_count": 31,
   "metadata": {},
   "outputs": [
    {
     "data": {
      "text/plain": [
       "array([False,  True, False,  True, False,  True,  True, False, False,\n",
       "       False])"
      ]
     },
     "execution_count": 31,
     "metadata": {},
     "output_type": "execute_result"
    }
   ],
   "source": [
    "mask[:10]"
   ]
  },
  {
   "cell_type": "code",
   "execution_count": 32,
   "metadata": {},
   "outputs": [],
   "source": [
    "mirbase_ids = mirbase_ids[mask]"
   ]
  },
  {
   "cell_type": "code",
   "execution_count": 33,
   "metadata": {},
   "outputs": [],
   "source": [
    "norm_log_table = norm_log_table.loc[:, mask]"
   ]
  },
  {
   "cell_type": "code",
   "execution_count": 34,
   "metadata": {},
   "outputs": [],
   "source": [
    "from Scripts import converters"
   ]
  },
  {
   "cell_type": "code",
   "execution_count": 35,
   "metadata": {},
   "outputs": [],
   "source": [
    "sequences = converters.mirbase_to_seq(mirbase_ids, ignore_not_found=True)"
   ]
  },
  {
   "cell_type": "code",
   "execution_count": 36,
   "metadata": {},
   "outputs": [
    {
     "data": {
      "text/plain": [
       "3"
      ]
     },
     "execution_count": 36,
     "metadata": {},
     "output_type": "execute_result"
    }
   ],
   "source": [
    "sequences.count(None)"
   ]
  },
  {
   "cell_type": "code",
   "execution_count": 37,
   "metadata": {},
   "outputs": [],
   "source": [
    "sequences = np.array(sequences)"
   ]
  },
  {
   "cell_type": "code",
   "execution_count": 38,
   "metadata": {},
   "outputs": [],
   "source": [
    "mask = sequences != None"
   ]
  },
  {
   "cell_type": "code",
   "execution_count": 39,
   "metadata": {},
   "outputs": [],
   "source": [
    "sequences = sequences[mask]\n",
    "norm_log_table = norm_log_table.loc[:, mask]"
   ]
  },
  {
   "cell_type": "code",
   "execution_count": 40,
   "metadata": {},
   "outputs": [],
   "source": [
    "norm_log_table.columns = sequences\n",
    "norm_log_table[\"cancer\"] = np.array(6*[True] + 6*[False])"
   ]
  },
  {
   "cell_type": "code",
   "execution_count": 41,
   "metadata": {},
   "outputs": [],
   "source": [
    "norm_log_table.to_csv(\"../TransformedData/Duan2021_raw.csv\", index=False)"
   ]
  },
  {
   "cell_type": "code",
   "execution_count": null,
   "metadata": {},
   "outputs": [],
   "source": []
  }
 ],
 "metadata": {
  "kernelspec": {
   "display_name": "Python 3 (ipykernel)",
   "language": "python",
   "name": "python3"
  },
  "language_info": {
   "codemirror_mode": {
    "name": "ipython",
    "version": 3
   },
   "file_extension": ".py",
   "mimetype": "text/x-python",
   "name": "python",
   "nbconvert_exporter": "python",
   "pygments_lexer": "ipython3",
   "version": "3.10.1"
  }
 },
 "nbformat": 4,
 "nbformat_minor": 4
}
