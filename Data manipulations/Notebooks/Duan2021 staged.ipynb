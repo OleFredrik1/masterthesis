{
 "cells": [
  {
   "cell_type": "code",
   "execution_count": 1,
   "metadata": {
    "tags": []
   },
   "outputs": [],
   "source": [
    "%matplotlib inline\n",
    "import GEOparse\n",
    "import matplotlib.pyplot as plt\n",
    "import pandas as pd\n",
    "import numpy as np\n",
    "from sklearn import decomposition\n",
    "import matplotlib\n",
    "from matplotlib.backends.backend_pgf import FigureCanvasPgf\n",
    "matplotlib.backend_bases.register_backend('pdf', FigureCanvasPgf)\n",
    "\n",
    "geo = \"GSE171517\""
   ]
  },
  {
   "cell_type": "code",
   "execution_count": 2,
   "metadata": {},
   "outputs": [
    {
     "name": "stderr",
     "output_type": "stream",
     "text": [
      "31-Mar-2022 18:00:30 DEBUG utils - Directory ../Dataset/Duan2021 already exists. Skipping.\n",
      "31-Mar-2022 18:00:30 INFO GEOparse - File already exist: using local version.\n",
      "31-Mar-2022 18:00:30 INFO GEOparse - Parsing ../Dataset/Duan2021\\GSE171517_family.soft.gz: \n",
      "31-Mar-2022 18:00:30 DEBUG GEOparse - DATABASE: GeoMiame\n",
      "31-Mar-2022 18:00:30 DEBUG GEOparse - SERIES: GSE171517\n",
      "31-Mar-2022 18:00:30 DEBUG GEOparse - PLATFORM: GPL18058\n",
      "31-Mar-2022 18:00:30 DEBUG GEOparse - SAMPLE: GSM5226511\n",
      "31-Mar-2022 18:00:30 DEBUG GEOparse - SAMPLE: GSM5226512\n",
      "31-Mar-2022 18:00:30 DEBUG GEOparse - SAMPLE: GSM5226513\n",
      "31-Mar-2022 18:00:30 DEBUG GEOparse - SAMPLE: GSM5226514\n",
      "31-Mar-2022 18:00:30 DEBUG GEOparse - SAMPLE: GSM5226515\n",
      "31-Mar-2022 18:00:30 DEBUG GEOparse - SAMPLE: GSM5226516\n",
      "31-Mar-2022 18:00:30 DEBUG GEOparse - SAMPLE: GSM5226517\n",
      "31-Mar-2022 18:00:30 DEBUG GEOparse - SAMPLE: GSM5226518\n",
      "31-Mar-2022 18:00:30 DEBUG GEOparse - SAMPLE: GSM5226519\n",
      "31-Mar-2022 18:00:30 DEBUG GEOparse - SAMPLE: GSM5226520\n",
      "31-Mar-2022 18:00:30 DEBUG GEOparse - SAMPLE: GSM5226521\n",
      "31-Mar-2022 18:00:30 DEBUG GEOparse - SAMPLE: GSM5226522\n"
     ]
    }
   ],
   "source": [
    "data = GEOparse.get_GEO(geo=geo, destdir=\"../Dataset/Duan2021\")"
   ]
  },
  {
   "cell_type": "code",
   "execution_count": 3,
   "metadata": {},
   "outputs": [
    {
     "data": {
      "text/html": [
       "<div>\n",
       "<style scoped>\n",
       "    .dataframe tbody tr th:only-of-type {\n",
       "        vertical-align: middle;\n",
       "    }\n",
       "\n",
       "    .dataframe tbody tr th {\n",
       "        vertical-align: top;\n",
       "    }\n",
       "\n",
       "    .dataframe thead th {\n",
       "        text-align: right;\n",
       "    }\n",
       "</style>\n",
       "<table border=\"1\" class=\"dataframe\">\n",
       "  <thead>\n",
       "    <tr style=\"text-align: right;\">\n",
       "      <th></th>\n",
       "      <th>ID</th>\n",
       "      <th>Human_miRNA</th>\n",
       "      <th>Human_miRBase</th>\n",
       "      <th>Mouse_miRNA</th>\n",
       "      <th>Mouse_miRBase</th>\n",
       "      <th>Rat_miRNA</th>\n",
       "      <th>Rat_miRBase</th>\n",
       "      <th>miRNA_ID</th>\n",
       "      <th>SPOT_ID</th>\n",
       "    </tr>\n",
       "  </thead>\n",
       "  <tbody>\n",
       "    <tr>\n",
       "      <th>30</th>\n",
       "      <td>10976</td>\n",
       "      <td>hsa-miR-182-3p</td>\n",
       "      <td>MIMAT0000260</td>\n",
       "      <td>mmu-miR-182-3p</td>\n",
       "      <td>MIMAT0016995</td>\n",
       "      <td>NaN</td>\n",
       "      <td>NaN</td>\n",
       "      <td>hsa-miR-182-3p</td>\n",
       "      <td>NaN</td>\n",
       "    </tr>\n",
       "    <tr>\n",
       "      <th>31</th>\n",
       "      <td>10977</td>\n",
       "      <td>hsa-miR-183-5p</td>\n",
       "      <td>MIMAT0000261</td>\n",
       "      <td>mmu-miR-183-5p</td>\n",
       "      <td>MIMAT0000212</td>\n",
       "      <td>rno-miR-183</td>\n",
       "      <td>MIMAT0000860</td>\n",
       "      <td>hsa-miR-183-5p</td>\n",
       "      <td>NaN</td>\n",
       "    </tr>\n",
       "    <tr>\n",
       "      <th>32</th>\n",
       "      <td>10985</td>\n",
       "      <td>hsa-miR-191-5p</td>\n",
       "      <td>MIMAT0000440</td>\n",
       "      <td>mmu-miR-191-5p</td>\n",
       "      <td>MIMAT0000221</td>\n",
       "      <td>rno-miR-191</td>\n",
       "      <td>MIMAT0000866</td>\n",
       "      <td>hsa-miR-191-5p</td>\n",
       "      <td>NaN</td>\n",
       "    </tr>\n",
       "    <tr>\n",
       "      <th>33</th>\n",
       "      <td>10986</td>\n",
       "      <td>hsa-miR-193a-3p</td>\n",
       "      <td>MIMAT0000459</td>\n",
       "      <td>mmu-miR-193-3p</td>\n",
       "      <td>MIMAT0000223</td>\n",
       "      <td>rno-miR-193</td>\n",
       "      <td>MIMAT0000868</td>\n",
       "      <td>hsa-miR-193a-3p</td>\n",
       "      <td>NaN</td>\n",
       "    </tr>\n",
       "    <tr>\n",
       "      <th>34</th>\n",
       "      <td>10987</td>\n",
       "      <td>hsa-miR-193b-3p</td>\n",
       "      <td>MIMAT0002819</td>\n",
       "      <td>NaN</td>\n",
       "      <td>NaN</td>\n",
       "      <td>NaN</td>\n",
       "      <td>NaN</td>\n",
       "      <td>hsa-miR-193b-3p</td>\n",
       "      <td>NaN</td>\n",
       "    </tr>\n",
       "    <tr>\n",
       "      <th>35</th>\n",
       "      <td>10988</td>\n",
       "      <td>hsa-miR-194-5p</td>\n",
       "      <td>MIMAT0000460</td>\n",
       "      <td>mmu-miR-194-5p</td>\n",
       "      <td>MIMAT0000224</td>\n",
       "      <td>rno-miR-194</td>\n",
       "      <td>MIMAT0000869</td>\n",
       "      <td>hsa-miR-194-5p</td>\n",
       "      <td>NaN</td>\n",
       "    </tr>\n",
       "    <tr>\n",
       "      <th>36</th>\n",
       "      <td>10990</td>\n",
       "      <td>hsa-miR-196a-5p</td>\n",
       "      <td>MIMAT0000226</td>\n",
       "      <td>mmu-miR-196a-5p</td>\n",
       "      <td>MIMAT0000518</td>\n",
       "      <td>rno-miR-196a</td>\n",
       "      <td>MIMAT0000871</td>\n",
       "      <td>hsa-miR-196a-5p</td>\n",
       "      <td>NaN</td>\n",
       "    </tr>\n",
       "    <tr>\n",
       "      <th>37</th>\n",
       "      <td>10991</td>\n",
       "      <td>NaN</td>\n",
       "      <td>NaN</td>\n",
       "      <td>NaN</td>\n",
       "      <td>NaN</td>\n",
       "      <td>NaN</td>\n",
       "      <td>NaN</td>\n",
       "      <td>NaN</td>\n",
       "      <td>10991</td>\n",
       "    </tr>\n",
       "    <tr>\n",
       "      <th>38</th>\n",
       "      <td>10995</td>\n",
       "      <td>hsa-miR-199a-3p/hsa-miR-199b-3p</td>\n",
       "      <td>NaN</td>\n",
       "      <td>mmu-miR-199a-3p/mmu-miR-199b-3p</td>\n",
       "      <td>NaN</td>\n",
       "      <td>rno-miR-199a-3p</td>\n",
       "      <td>MIMAT0004738</td>\n",
       "      <td>hsa-miR-199a-3p/hsa-miR-199b-3p</td>\n",
       "      <td>NaN</td>\n",
       "    </tr>\n",
       "    <tr>\n",
       "      <th>39</th>\n",
       "      <td>10997</td>\n",
       "      <td>hsa-miR-19a-3p</td>\n",
       "      <td>MIMAT0000073</td>\n",
       "      <td>mmu-miR-19a-3p</td>\n",
       "      <td>MIMAT0000651</td>\n",
       "      <td>rno-miR-19a</td>\n",
       "      <td>MIMAT0000789</td>\n",
       "      <td>hsa-miR-19a-3p</td>\n",
       "      <td>NaN</td>\n",
       "    </tr>\n",
       "  </tbody>\n",
       "</table>\n",
       "</div>"
      ],
      "text/plain": [
       "       ID                      Human_miRNA Human_miRBase  \\\n",
       "30  10976                   hsa-miR-182-3p  MIMAT0000260   \n",
       "31  10977                   hsa-miR-183-5p  MIMAT0000261   \n",
       "32  10985                   hsa-miR-191-5p  MIMAT0000440   \n",
       "33  10986                  hsa-miR-193a-3p  MIMAT0000459   \n",
       "34  10987                  hsa-miR-193b-3p  MIMAT0002819   \n",
       "35  10988                   hsa-miR-194-5p  MIMAT0000460   \n",
       "36  10990                  hsa-miR-196a-5p  MIMAT0000226   \n",
       "37  10991                              NaN           NaN   \n",
       "38  10995  hsa-miR-199a-3p/hsa-miR-199b-3p           NaN   \n",
       "39  10997                   hsa-miR-19a-3p  MIMAT0000073   \n",
       "\n",
       "                        Mouse_miRNA Mouse_miRBase        Rat_miRNA  \\\n",
       "30                   mmu-miR-182-3p  MIMAT0016995              NaN   \n",
       "31                   mmu-miR-183-5p  MIMAT0000212      rno-miR-183   \n",
       "32                   mmu-miR-191-5p  MIMAT0000221      rno-miR-191   \n",
       "33                   mmu-miR-193-3p  MIMAT0000223      rno-miR-193   \n",
       "34                              NaN           NaN              NaN   \n",
       "35                   mmu-miR-194-5p  MIMAT0000224      rno-miR-194   \n",
       "36                  mmu-miR-196a-5p  MIMAT0000518     rno-miR-196a   \n",
       "37                              NaN           NaN              NaN   \n",
       "38  mmu-miR-199a-3p/mmu-miR-199b-3p           NaN  rno-miR-199a-3p   \n",
       "39                   mmu-miR-19a-3p  MIMAT0000651      rno-miR-19a   \n",
       "\n",
       "     Rat_miRBase                         miRNA_ID SPOT_ID  \n",
       "30           NaN                   hsa-miR-182-3p     NaN  \n",
       "31  MIMAT0000860                   hsa-miR-183-5p     NaN  \n",
       "32  MIMAT0000866                   hsa-miR-191-5p     NaN  \n",
       "33  MIMAT0000868                  hsa-miR-193a-3p     NaN  \n",
       "34           NaN                  hsa-miR-193b-3p     NaN  \n",
       "35  MIMAT0000869                   hsa-miR-194-5p     NaN  \n",
       "36  MIMAT0000871                  hsa-miR-196a-5p     NaN  \n",
       "37           NaN                              NaN   10991  \n",
       "38  MIMAT0004738  hsa-miR-199a-3p/hsa-miR-199b-3p     NaN  \n",
       "39  MIMAT0000789                   hsa-miR-19a-3p     NaN  "
      ]
     },
     "execution_count": 3,
     "metadata": {},
     "output_type": "execute_result"
    }
   ],
   "source": [
    "data.gpls[\"GPL18058\"].table.iloc[30:40]"
   ]
  },
  {
   "cell_type": "code",
   "execution_count": 4,
   "metadata": {},
   "outputs": [
    {
     "data": {
      "text/plain": [
       "[1, 1, 2, 1, 1, 1, 0, 0, 0, 0, 0, 0]"
      ]
     },
     "execution_count": 4,
     "metadata": {},
     "output_type": "execute_result"
    }
   ],
   "source": [
    "[m.metadata[\"characteristics_ch1\"][3].split(\" \")[1].count(\"I\") for m in data.gsms.values()]"
   ]
  },
  {
   "cell_type": "code",
   "execution_count": 5,
   "metadata": {},
   "outputs": [],
   "source": [
    "table = pd.concat([val.table.iloc[:,min(1,i):] for i, val in enumerate(data.gsms.values())], axis=1).transpose()"
   ]
  },
  {
   "cell_type": "code",
   "execution_count": 6,
   "metadata": {},
   "outputs": [],
   "source": [
    "table = table.replace(-1, np.nan)\n",
    "table = table.fillna(table.min().min())"
   ]
  },
  {
   "cell_type": "code",
   "execution_count": 7,
   "metadata": {},
   "outputs": [],
   "source": [
    "mirnas = table.iloc[0, :].transpose().astype(int)\n",
    "table = table.iloc[1:, :]"
   ]
  },
  {
   "cell_type": "code",
   "execution_count": 8,
   "metadata": {},
   "outputs": [
    {
     "data": {
      "text/plain": [
       "0       31.557016\n",
       "1        0.118543\n",
       "2        0.380985\n",
       "3        0.009009\n",
       "4        0.011098\n",
       "          ...    \n",
       "3538     0.001607\n",
       "3539     0.010122\n",
       "3540     0.001245\n",
       "3541     0.001245\n",
       "3542     0.018817\n",
       "Length: 3543, dtype: float64"
      ]
     },
     "execution_count": 8,
     "metadata": {},
     "output_type": "execute_result"
    }
   ],
   "source": [
    "np.mean(table)"
   ]
  },
  {
   "cell_type": "code",
   "execution_count": 9,
   "metadata": {
    "tags": []
   },
   "outputs": [],
   "source": [
    "def get_means_and_variances(table):\n",
    "    return np.mean(table), np.var(table, ddof=1)"
   ]
  },
  {
   "cell_type": "code",
   "execution_count": 10,
   "metadata": {
    "tags": []
   },
   "outputs": [],
   "source": [
    "def mean_variance_plot(table):\n",
    "    means, variances = get_means_and_variances(table)\n",
    "    plt.scatter(means, variances)\n",
    "    plt.xlabel(\"mean\")\n",
    "    plt.ylabel(\"variance\")\n",
    "    plt.plot()"
   ]
  },
  {
   "cell_type": "code",
   "execution_count": 11,
   "metadata": {},
   "outputs": [
    {
     "data": {
      "image/png": "[encoded data removed]",
      "text/plain": [
       "<Figure size 432x288 with 1 Axes>"
      ]
     },
     "metadata": {
      "needs_background": "light"
     },
     "output_type": "display_data"
    }
   ],
   "source": [
    "mean_variance_plot(table)"
   ]
  },
  {
   "cell_type": "markdown",
   "metadata": {},
   "source": [
    "### Trying log-transformation"
   ]
  },
  {
   "cell_type": "code",
   "execution_count": 12,
   "metadata": {},
   "outputs": [],
   "source": [
    "log_table = np.log2(table)"
   ]
  },
  {
   "cell_type": "code",
   "execution_count": 13,
   "metadata": {},
   "outputs": [
    {
     "data": {
      "image/png": "[encoded data removed]",
      "text/plain": [
       "<Figure size 432x288 with 1 Axes>"
      ]
     },
     "metadata": {
      "needs_background": "light"
     },
     "output_type": "display_data"
    }
   ],
   "source": [
    "mean_variance_plot(log_table)"
   ]
  },
  {
   "cell_type": "code",
   "execution_count": 14,
   "metadata": {
    "tags": []
   },
   "outputs": [],
   "source": [
    "norm_log_table = log_table - np.mean(log_table)"
   ]
  },
  {
   "cell_type": "code",
   "execution_count": 15,
   "metadata": {},
   "outputs": [],
   "source": [
    "norm_log_table /= np.sqrt(np.mean(np.var(norm_log_table, ddof=1)))"
   ]
  },
  {
   "cell_type": "code",
   "execution_count": 16,
   "metadata": {},
   "outputs": [
    {
     "data": {
      "text/plain": [
       "1.0000000000000002"
      ]
     },
     "execution_count": 16,
     "metadata": {},
     "output_type": "execute_result"
    }
   ],
   "source": [
    "norm_log_table.var().mean()"
   ]
  },
  {
   "cell_type": "code",
   "execution_count": 17,
   "metadata": {},
   "outputs": [
    {
     "data": {
      "image/png": "[encoded data removed]",
      "text/plain": [
       "<Figure size 432x288 with 1 Axes>"
      ]
     },
     "metadata": {
      "needs_background": "light"
     },
     "output_type": "display_data"
    }
   ],
   "source": [
    "mean_variance_plot(norm_log_table)"
   ]
  },
  {
   "cell_type": "code",
   "execution_count": 18,
   "metadata": {
    "tags": []
   },
   "outputs": [],
   "source": [
    "pca = decomposition.PCA(n_components=2)"
   ]
  },
  {
   "cell_type": "code",
   "execution_count": 19,
   "metadata": {},
   "outputs": [
    {
     "data": {
      "text/plain": [
       "PCA(n_components=2)"
      ]
     },
     "execution_count": 19,
     "metadata": {},
     "output_type": "execute_result"
    }
   ],
   "source": [
    "pca.fit(norm_log_table)"
   ]
  },
  {
   "cell_type": "code",
   "execution_count": 20,
   "metadata": {
    "tags": []
   },
   "outputs": [],
   "source": [
    "components = pca.transform(norm_log_table)"
   ]
  },
  {
   "cell_type": "code",
   "execution_count": 21,
   "metadata": {},
   "outputs": [
    {
     "data": {
      "text/plain": [
       "array([[  9.53348935,  36.01686905],\n",
       "       [-51.48488281, -10.14445326],\n",
       "       [-35.78994169, -16.16173773],\n",
       "       [-48.0011656 ,   8.60988258],\n",
       "       [-58.88482667,   6.05807826],\n",
       "       [-49.88047113,  -6.31142675],\n",
       "       [-16.07809642,  12.51926694],\n",
       "       [ 29.10956401, -24.83006104],\n",
       "       [ 52.48422992, -16.11001715],\n",
       "       [ 48.17819103, -10.9125264 ],\n",
       "       [ 62.17358073,  16.81440738],\n",
       "       [ 58.64032929,   4.4517181 ]])"
      ]
     },
     "execution_count": 21,
     "metadata": {},
     "output_type": "execute_result"
    }
   ],
   "source": [
    "components"
   ]
  },
  {
   "cell_type": "code",
   "execution_count": 22,
   "metadata": {},
   "outputs": [
    {
     "data": {
      "image/png": "[encoded data removed]",
      "text/plain": [
       "<Figure size 576x576 with 1 Axes>"
      ]
     },
     "metadata": {
      "needs_background": "light"
     },
     "output_type": "display_data"
    }
   ],
   "source": [
    "fig = plt.figure(figsize = (8,8))\n",
    "ax = fig.add_subplot(1,1,1)\n",
    "\n",
    "ax.set_xlabel('Principal Component 1', fontsize = 15)\n",
    "ax.set_ylabel('Principal Component 2', fontsize = 15)\n",
    "ax.set_title('2 component PCA', fontsize = 20)\n",
    "targets = ['Cancer', 'Healthy']\n",
    "colors = ['r', 'g']\n",
    "ax.scatter(components[:6, 0], components[:6, 1], c = 'r', s = 50)\n",
    "ax.scatter(components[6:, 0], components[6:, 1], c = 'g', s = 50)\n",
    "ax.legend(targets)\n",
    "ax.grid()\n",
    "plt.savefig(\"../Figures/PCA/Duan2021.pgf\")"
   ]
  },
  {
   "cell_type": "code",
   "execution_count": 23,
   "metadata": {},
   "outputs": [],
   "source": [
    "labels = np.array([\"Control\" if i > 6 else \"Cancer\" for i in range(12)])\n",
    "pca_data = pd.DataFrame(components)\n",
    "pca_data[\"Type\"] = labels\n",
    "pca_data.columns = [\"PCA1\", \"PCA2\", \"Type\"]\n",
    "pca_data.to_csv(\"../Outdata/PCA/Duan2021.csv\")"
   ]
  },
  {
   "cell_type": "markdown",
   "metadata": {},
   "source": [
    "### Exporting data"
   ]
  },
  {
   "cell_type": "code",
   "execution_count": null,
   "metadata": {},
   "outputs": [],
   "source": []
  },
  {
   "cell_type": "code",
   "execution_count": 24,
   "metadata": {},
   "outputs": [
    {
     "data": {
      "text/html": [
       "<div>\n",
       "<style scoped>\n",
       "    .dataframe tbody tr th:only-of-type {\n",
       "        vertical-align: middle;\n",
       "    }\n",
       "\n",
       "    .dataframe tbody tr th {\n",
       "        vertical-align: top;\n",
       "    }\n",
       "\n",
       "    .dataframe thead th {\n",
       "        text-align: right;\n",
       "    }\n",
       "</style>\n",
       "<table border=\"1\" class=\"dataframe\">\n",
       "  <thead>\n",
       "    <tr style=\"text-align: right;\">\n",
       "      <th></th>\n",
       "      <th>ID</th>\n",
       "      <th>Human_miRNA</th>\n",
       "      <th>Human_miRBase</th>\n",
       "      <th>Mouse_miRNA</th>\n",
       "      <th>Mouse_miRBase</th>\n",
       "      <th>Rat_miRNA</th>\n",
       "      <th>Rat_miRBase</th>\n",
       "      <th>miRNA_ID</th>\n",
       "      <th>SPOT_ID</th>\n",
       "    </tr>\n",
       "  </thead>\n",
       "  <tbody>\n",
       "    <tr>\n",
       "      <th>0</th>\n",
       "      <td>10138</td>\n",
       "      <td>hsa-miR-130a-3p</td>\n",
       "      <td>MIMAT0000425</td>\n",
       "      <td>mmu-miR-130a-3p</td>\n",
       "      <td>MIMAT0000141</td>\n",
       "      <td>rno-miR-130a</td>\n",
       "      <td>MIMAT0000836</td>\n",
       "      <td>hsa-miR-130a-3p</td>\n",
       "      <td>NaN</td>\n",
       "    </tr>\n",
       "    <tr>\n",
       "      <th>1</th>\n",
       "      <td>10306</td>\n",
       "      <td>hsa-miR-146b-5p</td>\n",
       "      <td>MIMAT0002809</td>\n",
       "      <td>mmu-miR-146b-5p</td>\n",
       "      <td>MIMAT0003475</td>\n",
       "      <td>rno-miR-146b</td>\n",
       "      <td>MIMAT0005595</td>\n",
       "      <td>hsa-miR-146b-5p</td>\n",
       "      <td>NaN</td>\n",
       "    </tr>\n",
       "    <tr>\n",
       "      <th>2</th>\n",
       "      <td>105441</td>\n",
       "      <td>hsa-miR-518c-3p</td>\n",
       "      <td>MIMAT0002848</td>\n",
       "      <td>NaN</td>\n",
       "      <td>NaN</td>\n",
       "      <td>NaN</td>\n",
       "      <td>NaN</td>\n",
       "      <td>hsa-miR-518c-3p</td>\n",
       "      <td>NaN</td>\n",
       "    </tr>\n",
       "    <tr>\n",
       "      <th>3</th>\n",
       "      <td>10899</td>\n",
       "      <td>spike_control_v1_j</td>\n",
       "      <td>NaN</td>\n",
       "      <td>spike_control_v1_j</td>\n",
       "      <td>NaN</td>\n",
       "      <td>spike_control_v1_j</td>\n",
       "      <td>NaN</td>\n",
       "      <td>NaN</td>\n",
       "      <td>spike_control_v1_j</td>\n",
       "    </tr>\n",
       "    <tr>\n",
       "      <th>4</th>\n",
       "      <td>10901</td>\n",
       "      <td>hsa_negative_control_6</td>\n",
       "      <td>NaN</td>\n",
       "      <td>hsa_negative_control_6</td>\n",
       "      <td>NaN</td>\n",
       "      <td>hsa_negative_control_6</td>\n",
       "      <td>NaN</td>\n",
       "      <td>NaN</td>\n",
       "      <td>hsa_negative_control_6</td>\n",
       "    </tr>\n",
       "  </tbody>\n",
       "</table>\n",
       "</div>"
      ],
      "text/plain": [
       "       ID             Human_miRNA Human_miRBase             Mouse_miRNA  \\\n",
       "0   10138         hsa-miR-130a-3p  MIMAT0000425         mmu-miR-130a-3p   \n",
       "1   10306         hsa-miR-146b-5p  MIMAT0002809         mmu-miR-146b-5p   \n",
       "2  105441         hsa-miR-518c-3p  MIMAT0002848                     NaN   \n",
       "3   10899      spike_control_v1_j           NaN      spike_control_v1_j   \n",
       "4   10901  hsa_negative_control_6           NaN  hsa_negative_control_6   \n",
       "\n",
       "  Mouse_miRBase               Rat_miRNA   Rat_miRBase         miRNA_ID  \\\n",
       "0  MIMAT0000141            rno-miR-130a  MIMAT0000836  hsa-miR-130a-3p   \n",
       "1  MIMAT0003475            rno-miR-146b  MIMAT0005595  hsa-miR-146b-5p   \n",
       "2           NaN                     NaN           NaN  hsa-miR-518c-3p   \n",
       "3           NaN      spike_control_v1_j           NaN              NaN   \n",
       "4           NaN  hsa_negative_control_6           NaN              NaN   \n",
       "\n",
       "                  SPOT_ID  \n",
       "0                     NaN  \n",
       "1                     NaN  \n",
       "2                     NaN  \n",
       "3      spike_control_v1_j  \n",
       "4  hsa_negative_control_6  "
      ]
     },
     "execution_count": 24,
     "metadata": {},
     "output_type": "execute_result"
    }
   ],
   "source": [
    "id_lookup = data.gpls[\"GPL18058\"].table\n",
    "id_lookup.head()"
   ]
  },
  {
   "cell_type": "code",
   "execution_count": 25,
   "metadata": {},
   "outputs": [],
   "source": [
    "id_lookup = id_lookup.set_index(\"ID\")"
   ]
  },
  {
   "cell_type": "code",
   "execution_count": 26,
   "metadata": {},
   "outputs": [
    {
     "data": {
      "text/html": [
       "<div>\n",
       "<style scoped>\n",
       "    .dataframe tbody tr th:only-of-type {\n",
       "        vertical-align: middle;\n",
       "    }\n",
       "\n",
       "    .dataframe tbody tr th {\n",
       "        vertical-align: top;\n",
       "    }\n",
       "\n",
       "    .dataframe thead th {\n",
       "        text-align: right;\n",
       "    }\n",
       "</style>\n",
       "<table border=\"1\" class=\"dataframe\">\n",
       "  <thead>\n",
       "    <tr style=\"text-align: right;\">\n",
       "      <th></th>\n",
       "      <th>Human_miRNA</th>\n",
       "      <th>Human_miRBase</th>\n",
       "      <th>Mouse_miRNA</th>\n",
       "      <th>Mouse_miRBase</th>\n",
       "      <th>Rat_miRNA</th>\n",
       "      <th>Rat_miRBase</th>\n",
       "      <th>miRNA_ID</th>\n",
       "      <th>SPOT_ID</th>\n",
       "    </tr>\n",
       "    <tr>\n",
       "      <th>ID</th>\n",
       "      <th></th>\n",
       "      <th></th>\n",
       "      <th></th>\n",
       "      <th></th>\n",
       "      <th></th>\n",
       "      <th></th>\n",
       "      <th></th>\n",
       "      <th></th>\n",
       "    </tr>\n",
       "  </thead>\n",
       "  <tbody>\n",
       "    <tr>\n",
       "      <th>13138</th>\n",
       "      <td>Hy3</td>\n",
       "      <td>NaN</td>\n",
       "      <td>Hy3</td>\n",
       "      <td>NaN</td>\n",
       "      <td>Hy3</td>\n",
       "      <td>NaN</td>\n",
       "      <td>NaN</td>\n",
       "      <td>Hy3</td>\n",
       "    </tr>\n",
       "    <tr>\n",
       "      <th>42638</th>\n",
       "      <td>hsa-miR-23a-5p</td>\n",
       "      <td>MIMAT0004496</td>\n",
       "      <td>mmu-miR-23a-5p</td>\n",
       "      <td>MIMAT0017019</td>\n",
       "      <td>rno-miR-23a*</td>\n",
       "      <td>MIMAT0004712</td>\n",
       "      <td>hsa-miR-23a-5p</td>\n",
       "      <td>NaN</td>\n",
       "    </tr>\n",
       "    <tr>\n",
       "      <th>42888</th>\n",
       "      <td>NaN</td>\n",
       "      <td>NaN</td>\n",
       "      <td>mmu-miR-875-3p</td>\n",
       "      <td>MIMAT0004938</td>\n",
       "      <td>NaN</td>\n",
       "      <td>NaN</td>\n",
       "      <td>NaN</td>\n",
       "      <td>42888</td>\n",
       "    </tr>\n",
       "    <tr>\n",
       "      <th>17519</th>\n",
       "      <td>ebv-miR-BART1-3p</td>\n",
       "      <td>MIMAT0003390</td>\n",
       "      <td>NaN</td>\n",
       "      <td>NaN</td>\n",
       "      <td>NaN</td>\n",
       "      <td>NaN</td>\n",
       "      <td>NaN</td>\n",
       "      <td>ebv-miR-BART1-3p</td>\n",
       "    </tr>\n",
       "    <tr>\n",
       "      <th>17278</th>\n",
       "      <td>NaN</td>\n",
       "      <td>NaN</td>\n",
       "      <td>mmu-miR-719</td>\n",
       "      <td>MIMAT0003465</td>\n",
       "      <td>NaN</td>\n",
       "      <td>NaN</td>\n",
       "      <td>NaN</td>\n",
       "      <td>17278</td>\n",
       "    </tr>\n",
       "    <tr>\n",
       "      <th>46507</th>\n",
       "      <td>hsa-miR-921</td>\n",
       "      <td>MIMAT0004971</td>\n",
       "      <td>NaN</td>\n",
       "      <td>NaN</td>\n",
       "      <td>NaN</td>\n",
       "      <td>NaN</td>\n",
       "      <td>hsa-miR-921</td>\n",
       "      <td>NaN</td>\n",
       "    </tr>\n",
       "    <tr>\n",
       "      <th>17928</th>\n",
       "      <td>hsa-miR-181a-2-3p</td>\n",
       "      <td>MIMAT0004558</td>\n",
       "      <td>NaN</td>\n",
       "      <td>NaN</td>\n",
       "      <td>NaN</td>\n",
       "      <td>NaN</td>\n",
       "      <td>hsa-miR-181a-2-3p</td>\n",
       "      <td>NaN</td>\n",
       "    </tr>\n",
       "    <tr>\n",
       "      <th>42826</th>\n",
       "      <td>NaN</td>\n",
       "      <td>NaN</td>\n",
       "      <td>mmu-miR-300-5p</td>\n",
       "      <td>MIMAT0004578</td>\n",
       "      <td>rno-miR-300-5p</td>\n",
       "      <td>MIMAT0004743</td>\n",
       "      <td>NaN</td>\n",
       "      <td>42826</td>\n",
       "    </tr>\n",
       "    <tr>\n",
       "      <th>17537</th>\n",
       "      <td>NaN</td>\n",
       "      <td>NaN</td>\n",
       "      <td>mghv-miR-M1-3</td>\n",
       "      <td>MIMAT0001566</td>\n",
       "      <td>NaN</td>\n",
       "      <td>NaN</td>\n",
       "      <td>NaN</td>\n",
       "      <td>17537</td>\n",
       "    </tr>\n",
       "    <tr>\n",
       "      <th>42722</th>\n",
       "      <td>NaN</td>\n",
       "      <td>NaN</td>\n",
       "      <td>NaN</td>\n",
       "      <td>NaN</td>\n",
       "      <td>rno-miR-346</td>\n",
       "      <td>MIMAT0000596</td>\n",
       "      <td>NaN</td>\n",
       "      <td>42722</td>\n",
       "    </tr>\n",
       "  </tbody>\n",
       "</table>\n",
       "</div>"
      ],
      "text/plain": [
       "             Human_miRNA Human_miRBase     Mouse_miRNA Mouse_miRBase  \\\n",
       "ID                                                                     \n",
       "13138                Hy3           NaN             Hy3           NaN   \n",
       "42638     hsa-miR-23a-5p  MIMAT0004496  mmu-miR-23a-5p  MIMAT0017019   \n",
       "42888                NaN           NaN  mmu-miR-875-3p  MIMAT0004938   \n",
       "17519   ebv-miR-BART1-3p  MIMAT0003390             NaN           NaN   \n",
       "17278                NaN           NaN     mmu-miR-719  MIMAT0003465   \n",
       "46507        hsa-miR-921  MIMAT0004971             NaN           NaN   \n",
       "17928  hsa-miR-181a-2-3p  MIMAT0004558             NaN           NaN   \n",
       "42826                NaN           NaN  mmu-miR-300-5p  MIMAT0004578   \n",
       "17537                NaN           NaN   mghv-miR-M1-3  MIMAT0001566   \n",
       "42722                NaN           NaN             NaN           NaN   \n",
       "\n",
       "            Rat_miRNA   Rat_miRBase           miRNA_ID           SPOT_ID  \n",
       "ID                                                                        \n",
       "13138             Hy3           NaN                NaN               Hy3  \n",
       "42638    rno-miR-23a*  MIMAT0004712     hsa-miR-23a-5p               NaN  \n",
       "42888             NaN           NaN                NaN             42888  \n",
       "17519             NaN           NaN                NaN  ebv-miR-BART1-3p  \n",
       "17278             NaN           NaN                NaN             17278  \n",
       "46507             NaN           NaN        hsa-miR-921               NaN  \n",
       "17928             NaN           NaN  hsa-miR-181a-2-3p               NaN  \n",
       "42826  rno-miR-300-5p  MIMAT0004743                NaN             42826  \n",
       "17537             NaN           NaN                NaN             17537  \n",
       "42722     rno-miR-346  MIMAT0000596                NaN             42722  "
      ]
     },
     "execution_count": 26,
     "metadata": {},
     "output_type": "execute_result"
    }
   ],
   "source": [
    "id_lookup.loc[mirnas[:10]]"
   ]
  },
  {
   "cell_type": "code",
   "execution_count": 27,
   "metadata": {},
   "outputs": [],
   "source": [
    "mirbase_ids = id_lookup.loc[mirnas][\"Human_miRBase\"]"
   ]
  },
  {
   "cell_type": "code",
   "execution_count": 28,
   "metadata": {},
   "outputs": [],
   "source": [
    "mask = np.logical_not(mirbase_ids.isna()).to_numpy()"
   ]
  },
  {
   "cell_type": "code",
   "execution_count": 29,
   "metadata": {},
   "outputs": [
    {
     "data": {
      "text/plain": [
       "array([False,  True, False,  True, False,  True,  True, False, False,\n",
       "       False])"
      ]
     },
     "execution_count": 29,
     "metadata": {},
     "output_type": "execute_result"
    }
   ],
   "source": [
    "mask[:10]"
   ]
  },
  {
   "cell_type": "code",
   "execution_count": 30,
   "metadata": {},
   "outputs": [],
   "source": [
    "mirbase_ids = mirbase_ids[mask]"
   ]
  },
  {
   "cell_type": "code",
   "execution_count": 31,
   "metadata": {},
   "outputs": [],
   "source": [
    "norm_log_table = norm_log_table.loc[:, mask]"
   ]
  },
  {
   "cell_type": "code",
   "execution_count": 32,
   "metadata": {},
   "outputs": [],
   "source": [
    "from Scripts import converters"
   ]
  },
  {
   "cell_type": "code",
   "execution_count": 33,
   "metadata": {},
   "outputs": [],
   "source": [
    "sequences = converters.mirbase_to_seq(mirbase_ids, ignore_not_found=True)"
   ]
  },
  {
   "cell_type": "code",
   "execution_count": 34,
   "metadata": {},
   "outputs": [
    {
     "data": {
      "text/plain": [
       "3"
      ]
     },
     "execution_count": 34,
     "metadata": {},
     "output_type": "execute_result"
    }
   ],
   "source": [
    "sequences.count(None)"
   ]
  },
  {
   "cell_type": "code",
   "execution_count": 35,
   "metadata": {},
   "outputs": [],
   "source": [
    "sequences = np.array(sequences)"
   ]
  },
  {
   "cell_type": "code",
   "execution_count": 36,
   "metadata": {},
   "outputs": [],
   "source": [
    "mask = sequences != None"
   ]
  },
  {
   "cell_type": "code",
   "execution_count": 37,
   "metadata": {},
   "outputs": [],
   "source": [
    "sequences = sequences[mask]\n",
    "norm_log_table = norm_log_table.loc[:, mask]"
   ]
  },
  {
   "cell_type": "code",
   "execution_count": 38,
   "metadata": {},
   "outputs": [],
   "source": [
    "norm_log_table /= norm_log_table.var().mean()**0.5"
   ]
  },
  {
   "cell_type": "code",
   "execution_count": 39,
   "metadata": {},
   "outputs": [],
   "source": [
    "norm_log_table.columns = sequences\n",
    "norm_log_table[\"cancer\"] = np.array(6*[True] + 6*[False])\n",
    "norm_log_table[\"stage\"] = [m.metadata[\"characteristics_ch1\"][3].split(\" \")[1].count(\"I\") for m in data.gsms.values()]"
   ]
  },
  {
   "cell_type": "code",
   "execution_count": 40,
   "metadata": {},
   "outputs": [],
   "source": [
    "norm_log_table.to_csv(\"../TransformedData/Duan2021_staged.csv\", index=False)"
   ]
  },
  {
   "cell_type": "code",
   "execution_count": null,
   "metadata": {},
   "outputs": [],
   "source": []
  }
 ],
 "metadata": {
  "kernelspec": {
   "display_name": "Python 3 (ipykernel)",
   "language": "python",
   "name": "python3"
  },
  "language_info": {
   "codemirror_mode": {
    "name": "ipython",
    "version": 3
   },
   "file_extension": ".py",
   "mimetype": "text/x-python",
   "name": "python",
   "nbconvert_exporter": "python",
   "pygments_lexer": "ipython3",
   "version": "3.10.1"
  }
 },
 "nbformat": 4,
 "nbformat_minor": 4
}
