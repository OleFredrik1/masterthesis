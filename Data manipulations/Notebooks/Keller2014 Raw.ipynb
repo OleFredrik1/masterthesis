{
 "cells": [
  {
   "cell_type": "code",
   "execution_count": 1,
   "metadata": {
    "tags": []
   },
   "outputs": [],
   "source": [
    "%matplotlib inline\n",
    "import GEOparse\n",
    "import matplotlib.pyplot as plt\n",
    "import pandas as pd\n",
    "import numpy as np\n",
    "from sklearn import decomposition\n",
    "from sklearn.feature_selection import f_classif\n",
    "from sklearn.linear_model import LinearRegression, LogisticRegression\n",
    "from sklearn.metrics import explained_variance_score, plot_roc_curve\n",
    "import statsmodels.api as sm\n",
    "from scipy.stats import ttest_ind\n",
    "from xgboost import XGBClassifier\n",
    "from sklearn.model_selection import train_test_split\n",
    "from sklego.linear_model import LowessRegression"
   ]
  },
  {
   "cell_type": "markdown",
   "metadata": {},
   "source": [
    "### Reading in from external source"
   ]
  },
  {
   "cell_type": "code",
   "execution_count": 2,
   "metadata": {},
   "outputs": [],
   "source": [
    "geo = \"GSE61741\"\n",
    "data = GEOparse.get_GEO(geo=geo, destdir=\"../Dataset/Keller2014\", silent=True)\n",
    "#table = pd.read_csv(\"../Dataset/Fehlman2020/expression_matrix.csv\", sep=\"\\t\")\n",
    "#table = pd.read_csv(\"../Dataset/Wozniak2015/GSE64591_non-normalized.txt\", sep=\"\\t\", header=5)"
   ]
  },
  {
   "cell_type": "code",
   "execution_count": 3,
   "metadata": {},
   "outputs": [],
   "source": [
    "table = pd.concat((val.table.iloc[:,1:] for val in data.gsms.values()), axis=1).transpose()\n",
    "mirnas = list(data.gsms.values())[0].table.iloc[:,0]"
   ]
  },
  {
   "cell_type": "code",
   "execution_count": 4,
   "metadata": {},
   "outputs": [
    {
     "data": {
      "text/plain": [
       "True"
      ]
     },
     "execution_count": 4,
     "metadata": {},
     "output_type": "execute_result"
    }
   ],
   "source": [
    "\"hsa-miR-155\" in list(mirnas)"
   ]
  },
  {
   "cell_type": "code",
   "execution_count": 5,
   "metadata": {},
   "outputs": [
    {
     "data": {
      "text/html": [
       "<div>\n",
       "<style scoped>\n",
       "    .dataframe tbody tr th:only-of-type {\n",
       "        vertical-align: middle;\n",
       "    }\n",
       "\n",
       "    .dataframe tbody tr th {\n",
       "        vertical-align: top;\n",
       "    }\n",
       "\n",
       "    .dataframe thead th {\n",
       "        text-align: right;\n",
       "    }\n",
       "</style>\n",
       "<table border=\"1\" class=\"dataframe\">\n",
       "  <thead>\n",
       "    <tr style=\"text-align: right;\">\n",
       "      <th></th>\n",
       "      <th>0</th>\n",
       "      <th>1</th>\n",
       "      <th>2</th>\n",
       "      <th>3</th>\n",
       "      <th>4</th>\n",
       "      <th>5</th>\n",
       "      <th>6</th>\n",
       "      <th>7</th>\n",
       "      <th>8</th>\n",
       "      <th>9</th>\n",
       "      <th>...</th>\n",
       "      <th>838</th>\n",
       "      <th>839</th>\n",
       "      <th>840</th>\n",
       "      <th>841</th>\n",
       "      <th>842</th>\n",
       "      <th>843</th>\n",
       "      <th>844</th>\n",
       "      <th>845</th>\n",
       "      <th>846</th>\n",
       "      <th>847</th>\n",
       "    </tr>\n",
       "  </thead>\n",
       "  <tbody>\n",
       "    <tr>\n",
       "      <th>VALUE</th>\n",
       "      <td>5.653241</td>\n",
       "      <td>37.688751</td>\n",
       "      <td>29.893947</td>\n",
       "      <td>523.693279</td>\n",
       "      <td>72.091277</td>\n",
       "      <td>102.182793</td>\n",
       "      <td>122.950191</td>\n",
       "      <td>10.667541</td>\n",
       "      <td>1.000000</td>\n",
       "      <td>1232.595567</td>\n",
       "      <td>...</td>\n",
       "      <td>54.531697</td>\n",
       "      <td>1.000000</td>\n",
       "      <td>5515.939466</td>\n",
       "      <td>1.000000</td>\n",
       "      <td>45.783842</td>\n",
       "      <td>68.556959</td>\n",
       "      <td>54.531697</td>\n",
       "      <td>15.398713</td>\n",
       "      <td>341.261916</td>\n",
       "      <td>6069.108437</td>\n",
       "    </tr>\n",
       "    <tr>\n",
       "      <th>VALUE</th>\n",
       "      <td>1.000000</td>\n",
       "      <td>36.127979</td>\n",
       "      <td>42.218303</td>\n",
       "      <td>1015.585081</td>\n",
       "      <td>109.778599</td>\n",
       "      <td>149.095567</td>\n",
       "      <td>137.578408</td>\n",
       "      <td>4.984986</td>\n",
       "      <td>1.000000</td>\n",
       "      <td>2141.470686</td>\n",
       "      <td>...</td>\n",
       "      <td>53.509295</td>\n",
       "      <td>1.000000</td>\n",
       "      <td>1781.658484</td>\n",
       "      <td>1.000000</td>\n",
       "      <td>67.633699</td>\n",
       "      <td>92.819113</td>\n",
       "      <td>36.127979</td>\n",
       "      <td>16.551239</td>\n",
       "      <td>98.982126</td>\n",
       "      <td>4980.898951</td>\n",
       "    </tr>\n",
       "    <tr>\n",
       "      <th>VALUE</th>\n",
       "      <td>1.838179</td>\n",
       "      <td>43.823880</td>\n",
       "      <td>48.048856</td>\n",
       "      <td>1635.165157</td>\n",
       "      <td>148.378694</td>\n",
       "      <td>106.990705</td>\n",
       "      <td>148.378694</td>\n",
       "      <td>1.838179</td>\n",
       "      <td>1.000000</td>\n",
       "      <td>1506.186845</td>\n",
       "      <td>...</td>\n",
       "      <td>43.823880</td>\n",
       "      <td>1.000000</td>\n",
       "      <td>2990.154194</td>\n",
       "      <td>1.000000</td>\n",
       "      <td>75.206625</td>\n",
       "      <td>71.230934</td>\n",
       "      <td>40.182316</td>\n",
       "      <td>1.000000</td>\n",
       "      <td>75.206625</td>\n",
       "      <td>4980.898951</td>\n",
       "    </tr>\n",
       "    <tr>\n",
       "      <th>VALUE</th>\n",
       "      <td>17.422545</td>\n",
       "      <td>6.007865</td>\n",
       "      <td>54.870591</td>\n",
       "      <td>865.701859</td>\n",
       "      <td>100.727121</td>\n",
       "      <td>131.789323</td>\n",
       "      <td>218.082221</td>\n",
       "      <td>6.007865</td>\n",
       "      <td>1.000000</td>\n",
       "      <td>3306.918494</td>\n",
       "      <td>...</td>\n",
       "      <td>80.532412</td>\n",
       "      <td>1.000000</td>\n",
       "      <td>2782.872736</td>\n",
       "      <td>1.000000</td>\n",
       "      <td>110.959247</td>\n",
       "      <td>28.147045</td>\n",
       "      <td>54.870591</td>\n",
       "      <td>28.147045</td>\n",
       "      <td>100.727121</td>\n",
       "      <td>7052.158484</td>\n",
       "    </tr>\n",
       "    <tr>\n",
       "      <th>VALUE</th>\n",
       "      <td>64.709009</td>\n",
       "      <td>42.723785</td>\n",
       "      <td>31.321497</td>\n",
       "      <td>790.820424</td>\n",
       "      <td>18.199476</td>\n",
       "      <td>117.466873</td>\n",
       "      <td>84.659914</td>\n",
       "      <td>18.199476</td>\n",
       "      <td>18.199476</td>\n",
       "      <td>1745.642993</td>\n",
       "      <td>...</td>\n",
       "      <td>53.989275</td>\n",
       "      <td>1.000000</td>\n",
       "      <td>1395.469018</td>\n",
       "      <td>4.051716</td>\n",
       "      <td>64.709009</td>\n",
       "      <td>105.053146</td>\n",
       "      <td>117.466873</td>\n",
       "      <td>18.199476</td>\n",
       "      <td>105.053146</td>\n",
       "      <td>8272.852002</td>\n",
       "    </tr>\n",
       "    <tr>\n",
       "      <th>...</th>\n",
       "      <td>...</td>\n",
       "      <td>...</td>\n",
       "      <td>...</td>\n",
       "      <td>...</td>\n",
       "      <td>...</td>\n",
       "      <td>...</td>\n",
       "      <td>...</td>\n",
       "      <td>...</td>\n",
       "      <td>...</td>\n",
       "      <td>...</td>\n",
       "      <td>...</td>\n",
       "      <td>...</td>\n",
       "      <td>...</td>\n",
       "      <td>...</td>\n",
       "      <td>...</td>\n",
       "      <td>...</td>\n",
       "      <td>...</td>\n",
       "      <td>...</td>\n",
       "      <td>...</td>\n",
       "      <td>...</td>\n",
       "      <td>...</td>\n",
       "    </tr>\n",
       "    <tr>\n",
       "      <th>VALUE</th>\n",
       "      <td>10.976883</td>\n",
       "      <td>10.976883</td>\n",
       "      <td>17.867493</td>\n",
       "      <td>134.089371</td>\n",
       "      <td>33.181363</td>\n",
       "      <td>17.867493</td>\n",
       "      <td>40.641802</td>\n",
       "      <td>17.867493</td>\n",
       "      <td>1.000000</td>\n",
       "      <td>1172.177550</td>\n",
       "      <td>...</td>\n",
       "      <td>48.462583</td>\n",
       "      <td>17.867493</td>\n",
       "      <td>7834.984509</td>\n",
       "      <td>25.538847</td>\n",
       "      <td>202.371306</td>\n",
       "      <td>25.538847</td>\n",
       "      <td>17.867493</td>\n",
       "      <td>1.000000</td>\n",
       "      <td>40.641802</td>\n",
       "      <td>6712.010010</td>\n",
       "    </tr>\n",
       "    <tr>\n",
       "      <th>VALUE</th>\n",
       "      <td>36.375834</td>\n",
       "      <td>20.227121</td>\n",
       "      <td>36.375834</td>\n",
       "      <td>661.283365</td>\n",
       "      <td>166.475453</td>\n",
       "      <td>54.621068</td>\n",
       "      <td>72.956387</td>\n",
       "      <td>1.000000</td>\n",
       "      <td>1.000000</td>\n",
       "      <td>1709.627502</td>\n",
       "      <td>...</td>\n",
       "      <td>64.472116</td>\n",
       "      <td>1.000000</td>\n",
       "      <td>6712.010010</td>\n",
       "      <td>20.227121</td>\n",
       "      <td>81.925882</td>\n",
       "      <td>64.472116</td>\n",
       "      <td>119.018828</td>\n",
       "      <td>36.375834</td>\n",
       "      <td>81.925882</td>\n",
       "      <td>7834.984509</td>\n",
       "    </tr>\n",
       "    <tr>\n",
       "      <th>VALUE</th>\n",
       "      <td>50.838179</td>\n",
       "      <td>60.602240</td>\n",
       "      <td>42.637989</td>\n",
       "      <td>333.212583</td>\n",
       "      <td>42.637989</td>\n",
       "      <td>123.882269</td>\n",
       "      <td>66.998808</td>\n",
       "      <td>34.141802</td>\n",
       "      <td>10.122259</td>\n",
       "      <td>842.527645</td>\n",
       "      <td>...</td>\n",
       "      <td>26.229504</td>\n",
       "      <td>14.381792</td>\n",
       "      <td>7634.697569</td>\n",
       "      <td>50.838179</td>\n",
       "      <td>102.920400</td>\n",
       "      <td>42.637989</td>\n",
       "      <td>50.838179</td>\n",
       "      <td>26.229504</td>\n",
       "      <td>94.307197</td>\n",
       "      <td>6712.010010</td>\n",
       "    </tr>\n",
       "    <tr>\n",
       "      <th>VALUE</th>\n",
       "      <td>82.895853</td>\n",
       "      <td>52.344376</td>\n",
       "      <td>82.895853</td>\n",
       "      <td>344.241897</td>\n",
       "      <td>1.000000</td>\n",
       "      <td>318.279075</td>\n",
       "      <td>36.619876</td>\n",
       "      <td>1.000000</td>\n",
       "      <td>1.000000</td>\n",
       "      <td>820.607007</td>\n",
       "      <td>...</td>\n",
       "      <td>82.895853</td>\n",
       "      <td>45.089847</td>\n",
       "      <td>5780.195901</td>\n",
       "      <td>1.000000</td>\n",
       "      <td>52.344376</td>\n",
       "      <td>45.089847</td>\n",
       "      <td>52.344376</td>\n",
       "      <td>5.790515</td>\n",
       "      <td>102.920400</td>\n",
       "      <td>7434.410629</td>\n",
       "    </tr>\n",
       "    <tr>\n",
       "      <th>VALUE</th>\n",
       "      <td>1.000000</td>\n",
       "      <td>28.019542</td>\n",
       "      <td>35.476883</td>\n",
       "      <td>120.124166</td>\n",
       "      <td>35.476883</td>\n",
       "      <td>6.164204</td>\n",
       "      <td>1.000000</td>\n",
       "      <td>1.000000</td>\n",
       "      <td>56.258818</td>\n",
       "      <td>618.217588</td>\n",
       "      <td>...</td>\n",
       "      <td>6.164204</td>\n",
       "      <td>1.000000</td>\n",
       "      <td>9308.611773</td>\n",
       "      <td>1.000000</td>\n",
       "      <td>106.818875</td>\n",
       "      <td>152.458770</td>\n",
       "      <td>35.476883</td>\n",
       "      <td>65.052431</td>\n",
       "      <td>112.566492</td>\n",
       "      <td>7052.158484</td>\n",
       "    </tr>\n",
       "  </tbody>\n",
       "</table>\n",
       "<p>1049 rows × 848 columns</p>\n",
       "</div>"
      ],
      "text/plain": [
       "             0          1          2            3           4           5    \\\n",
       "VALUE   5.653241  37.688751  29.893947   523.693279   72.091277  102.182793   \n",
       "VALUE   1.000000  36.127979  42.218303  1015.585081  109.778599  149.095567   \n",
       "VALUE   1.838179  43.823880  48.048856  1635.165157  148.378694  106.990705   \n",
       "VALUE  17.422545   6.007865  54.870591   865.701859  100.727121  131.789323   \n",
       "VALUE  64.709009  42.723785  31.321497   790.820424   18.199476  117.466873   \n",
       "...          ...        ...        ...          ...         ...         ...   \n",
       "VALUE  10.976883  10.976883  17.867493   134.089371   33.181363   17.867493   \n",
       "VALUE  36.375834  20.227121  36.375834   661.283365  166.475453   54.621068   \n",
       "VALUE  50.838179  60.602240  42.637989   333.212583   42.637989  123.882269   \n",
       "VALUE  82.895853  52.344376  82.895853   344.241897    1.000000  318.279075   \n",
       "VALUE   1.000000  28.019542  35.476883   120.124166   35.476883    6.164204   \n",
       "\n",
       "              6          7          8            9    ...        838  \\\n",
       "VALUE  122.950191  10.667541   1.000000  1232.595567  ...  54.531697   \n",
       "VALUE  137.578408   4.984986   1.000000  2141.470686  ...  53.509295   \n",
       "VALUE  148.378694   1.838179   1.000000  1506.186845  ...  43.823880   \n",
       "VALUE  218.082221   6.007865   1.000000  3306.918494  ...  80.532412   \n",
       "VALUE   84.659914  18.199476  18.199476  1745.642993  ...  53.989275   \n",
       "...           ...        ...        ...          ...  ...        ...   \n",
       "VALUE   40.641802  17.867493   1.000000  1172.177550  ...  48.462583   \n",
       "VALUE   72.956387   1.000000   1.000000  1709.627502  ...  64.472116   \n",
       "VALUE   66.998808  34.141802  10.122259   842.527645  ...  26.229504   \n",
       "VALUE   36.619876   1.000000   1.000000   820.607007  ...  82.895853   \n",
       "VALUE    1.000000   1.000000  56.258818   618.217588  ...   6.164204   \n",
       "\n",
       "             839          840        841         842         843         844  \\\n",
       "VALUE   1.000000  5515.939466   1.000000   45.783842   68.556959   54.531697   \n",
       "VALUE   1.000000  1781.658484   1.000000   67.633699   92.819113   36.127979   \n",
       "VALUE   1.000000  2990.154194   1.000000   75.206625   71.230934   40.182316   \n",
       "VALUE   1.000000  2782.872736   1.000000  110.959247   28.147045   54.870591   \n",
       "VALUE   1.000000  1395.469018   4.051716   64.709009  105.053146  117.466873   \n",
       "...          ...          ...        ...         ...         ...         ...   \n",
       "VALUE  17.867493  7834.984509  25.538847  202.371306   25.538847   17.867493   \n",
       "VALUE   1.000000  6712.010010  20.227121   81.925882   64.472116  119.018828   \n",
       "VALUE  14.381792  7634.697569  50.838179  102.920400   42.637989   50.838179   \n",
       "VALUE  45.089847  5780.195901   1.000000   52.344376   45.089847   52.344376   \n",
       "VALUE   1.000000  9308.611773   1.000000  106.818875  152.458770   35.476883   \n",
       "\n",
       "             845         846          847  \n",
       "VALUE  15.398713  341.261916  6069.108437  \n",
       "VALUE  16.551239   98.982126  4980.898951  \n",
       "VALUE   1.000000   75.206625  4980.898951  \n",
       "VALUE  28.147045  100.727121  7052.158484  \n",
       "VALUE  18.199476  105.053146  8272.852002  \n",
       "...          ...         ...          ...  \n",
       "VALUE   1.000000   40.641802  6712.010010  \n",
       "VALUE  36.375834   81.925882  7834.984509  \n",
       "VALUE  26.229504   94.307197  6712.010010  \n",
       "VALUE   5.790515  102.920400  7434.410629  \n",
       "VALUE  65.052431  112.566492  7052.158484  \n",
       "\n",
       "[1049 rows x 848 columns]"
      ]
     },
     "execution_count": 5,
     "metadata": {},
     "output_type": "execute_result"
    }
   ],
   "source": [
    "table"
   ]
  },
  {
   "cell_type": "markdown",
   "metadata": {},
   "source": [
    "### Seperate case and controls"
   ]
  },
  {
   "cell_type": "code",
   "execution_count": 6,
   "metadata": {},
   "outputs": [
    {
     "data": {
      "text/plain": [
       "{'title': ['sample1'],\n",
       " 'geo_accession': ['GSM1512138'],\n",
       " 'status': ['Public on Dec 31 2014'],\n",
       " 'submission_date': ['Sep 25 2014'],\n",
       " 'last_update_date': ['Dec 31 2014'],\n",
       " 'type': ['RNA'],\n",
       " 'channel_count': ['1'],\n",
       " 'source_name_ch1': ['RNA from blood'],\n",
       " 'organism_ch1': ['Homo sapiens'],\n",
       " 'taxid_ch1': ['9606'],\n",
       " 'characteristics_ch1': ['disease: lung cancer'],\n",
       " 'treatment_protocol_ch1': ['stored at -20 degree'],\n",
       " 'molecule_ch1': ['total RNA'],\n",
       " 'extract_protocol_ch1': ['Blood of controls and patients was extracted in PAXgene Blood RNA tubes (BD, Franklin Lakes, New Jersey USA). The content of blood sampling tubes of each patient and healthy donor was used for RNAe extraction. The total RNA including the miRNA was isolated using the miRNeasy kit (Qiagen GmbH, Hilden) according to manufacturers instructions..'],\n",
       " 'label_ch1': ['biotin'],\n",
       " 'label_protocol_ch1': ['MPEA, microfluidic primer extension assay Biotin labeling'],\n",
       " 'hyb_protocol': ['according to manufacturers instruction (febit biomed)'],\n",
       " 'scan_protocol': ['Wizard software on standard Microsoft Windows Workstation PC'],\n",
       " 'data_processing': ['Summarizing of technical replica by median and quantile normalization. Following BG correction, negative values were corrected to 1. R Version 3.0.2'],\n",
       " 'platform_id': ['GPL9040'],\n",
       " 'contact_name': ['Andreas,,Keller'],\n",
       " 'contact_institute': ['Saarland University'],\n",
       " 'contact_address': ['Building 60'],\n",
       " 'contact_city': ['Homburg'],\n",
       " 'contact_zip/postal_code': ['69112'],\n",
       " 'contact_country': ['Germany'],\n",
       " 'supplementary_file': ['NONE'],\n",
       " 'series_id': ['GSE61741'],\n",
       " 'data_row_count': ['848']}"
      ]
     },
     "execution_count": 6,
     "metadata": {},
     "output_type": "execute_result"
    }
   ],
   "source": [
    "list(data.gsms.values())[0].metadata"
   ]
  },
  {
   "cell_type": "code",
   "execution_count": 7,
   "metadata": {},
   "outputs": [
    {
     "data": {
      "text/plain": [
       "{'disease: Periodontitis',\n",
       " 'disease: Renal cancer',\n",
       " 'disease: Wilms Tumor',\n",
       " 'disease: benign prostate hyperplasia',\n",
       " 'disease: chronic obstructive pulmonary disease (COPD)',\n",
       " 'disease: colon cancer',\n",
       " 'disease: ductal adenocarcinoma',\n",
       " 'disease: glioma',\n",
       " 'disease: long-lived individuals',\n",
       " 'disease: lung cancer',\n",
       " 'disease: melanoma',\n",
       " 'disease: multiple sclerosis',\n",
       " 'disease: myocardial_infarction',\n",
       " 'disease: non-ischaemic systolic heart failure',\n",
       " 'disease: normal',\n",
       " 'disease: others',\n",
       " 'disease: ovarian cancer',\n",
       " 'disease: pancreatitis',\n",
       " 'disease: prostate cancer',\n",
       " 'disease: psoriasis',\n",
       " 'disease: sarcoidosis',\n",
       " 'disease: tumor of stomach'}"
      ]
     },
     "execution_count": 7,
     "metadata": {},
     "output_type": "execute_result"
    }
   ],
   "source": [
    "set([k.metadata[\"characteristics_ch1\"][0] for k in list(data.gsms.values())])"
   ]
  },
  {
   "cell_type": "code",
   "execution_count": 8,
   "metadata": {},
   "outputs": [],
   "source": [
    "sick = np.array([\"lung cancer\" in k.metadata[\"characteristics_ch1\"][0] for k in list(data.gsms.values())])\n",
    "controls = np.array([\"normal\" in k.metadata[\"characteristics_ch1\"][0] for k in list(data.gsms.values())])\n",
    "mask = sick + controls\n",
    "sick = sick[mask]\n",
    "controls = controls[mask]\n",
    "table = table[mask]"
   ]
  },
  {
   "cell_type": "code",
   "execution_count": 9,
   "metadata": {},
   "outputs": [
    {
     "data": {
      "text/plain": [
       "73"
      ]
     },
     "execution_count": 9,
     "metadata": {},
     "output_type": "execute_result"
    }
   ],
   "source": [
    "sum(sick)"
   ]
  },
  {
   "cell_type": "markdown",
   "metadata": {},
   "source": [
    "### Drop NAN"
   ]
  },
  {
   "cell_type": "code",
   "execution_count": 10,
   "metadata": {},
   "outputs": [
    {
     "data": {
      "text/plain": [
       "16.373507764093777"
      ]
     },
     "execution_count": 10,
     "metadata": {},
     "output_type": "execute_result"
    }
   ],
   "source": [
    "table.std().min()"
   ]
  },
  {
   "cell_type": "code",
   "execution_count": 11,
   "metadata": {},
   "outputs": [],
   "source": [
    "table = table.fillna(table.min().min())"
   ]
  },
  {
   "cell_type": "markdown",
   "metadata": {},
   "source": [
    "### T-test"
   ]
  },
  {
   "cell_type": "code",
   "execution_count": 12,
   "metadata": {},
   "outputs": [],
   "source": [
    "X = table"
   ]
  },
  {
   "cell_type": "code",
   "execution_count": 13,
   "metadata": {},
   "outputs": [
    {
     "data": {
      "text/html": [
       "<div>\n",
       "<style scoped>\n",
       "    .dataframe tbody tr th:only-of-type {\n",
       "        vertical-align: middle;\n",
       "    }\n",
       "\n",
       "    .dataframe tbody tr th {\n",
       "        vertical-align: top;\n",
       "    }\n",
       "\n",
       "    .dataframe thead th {\n",
       "        text-align: right;\n",
       "    }\n",
       "</style>\n",
       "<table border=\"1\" class=\"dataframe\">\n",
       "  <thead>\n",
       "    <tr style=\"text-align: right;\">\n",
       "      <th></th>\n",
       "      <th>0</th>\n",
       "      <th>1</th>\n",
       "      <th>2</th>\n",
       "      <th>3</th>\n",
       "      <th>4</th>\n",
       "      <th>5</th>\n",
       "      <th>6</th>\n",
       "      <th>7</th>\n",
       "      <th>8</th>\n",
       "      <th>9</th>\n",
       "      <th>...</th>\n",
       "      <th>838</th>\n",
       "      <th>839</th>\n",
       "      <th>840</th>\n",
       "      <th>841</th>\n",
       "      <th>842</th>\n",
       "      <th>843</th>\n",
       "      <th>844</th>\n",
       "      <th>845</th>\n",
       "      <th>846</th>\n",
       "      <th>847</th>\n",
       "    </tr>\n",
       "  </thead>\n",
       "  <tbody>\n",
       "    <tr>\n",
       "      <th>VALUE</th>\n",
       "      <td>5.653241</td>\n",
       "      <td>37.688751</td>\n",
       "      <td>29.893947</td>\n",
       "      <td>523.693279</td>\n",
       "      <td>72.091277</td>\n",
       "      <td>102.182793</td>\n",
       "      <td>122.950191</td>\n",
       "      <td>10.667541</td>\n",
       "      <td>1.000000</td>\n",
       "      <td>1232.595567</td>\n",
       "      <td>...</td>\n",
       "      <td>54.531697</td>\n",
       "      <td>1.000000</td>\n",
       "      <td>5515.939466</td>\n",
       "      <td>1.000000</td>\n",
       "      <td>45.783842</td>\n",
       "      <td>68.556959</td>\n",
       "      <td>54.531697</td>\n",
       "      <td>15.398713</td>\n",
       "      <td>341.261916</td>\n",
       "      <td>6069.108437</td>\n",
       "    </tr>\n",
       "    <tr>\n",
       "      <th>VALUE</th>\n",
       "      <td>1.000000</td>\n",
       "      <td>36.127979</td>\n",
       "      <td>42.218303</td>\n",
       "      <td>1015.585081</td>\n",
       "      <td>109.778599</td>\n",
       "      <td>149.095567</td>\n",
       "      <td>137.578408</td>\n",
       "      <td>4.984986</td>\n",
       "      <td>1.000000</td>\n",
       "      <td>2141.470686</td>\n",
       "      <td>...</td>\n",
       "      <td>53.509295</td>\n",
       "      <td>1.000000</td>\n",
       "      <td>1781.658484</td>\n",
       "      <td>1.000000</td>\n",
       "      <td>67.633699</td>\n",
       "      <td>92.819113</td>\n",
       "      <td>36.127979</td>\n",
       "      <td>16.551239</td>\n",
       "      <td>98.982126</td>\n",
       "      <td>4980.898951</td>\n",
       "    </tr>\n",
       "    <tr>\n",
       "      <th>VALUE</th>\n",
       "      <td>1.838179</td>\n",
       "      <td>43.823880</td>\n",
       "      <td>48.048856</td>\n",
       "      <td>1635.165157</td>\n",
       "      <td>148.378694</td>\n",
       "      <td>106.990705</td>\n",
       "      <td>148.378694</td>\n",
       "      <td>1.838179</td>\n",
       "      <td>1.000000</td>\n",
       "      <td>1506.186845</td>\n",
       "      <td>...</td>\n",
       "      <td>43.823880</td>\n",
       "      <td>1.000000</td>\n",
       "      <td>2990.154194</td>\n",
       "      <td>1.000000</td>\n",
       "      <td>75.206625</td>\n",
       "      <td>71.230934</td>\n",
       "      <td>40.182316</td>\n",
       "      <td>1.000000</td>\n",
       "      <td>75.206625</td>\n",
       "      <td>4980.898951</td>\n",
       "    </tr>\n",
       "    <tr>\n",
       "      <th>VALUE</th>\n",
       "      <td>17.422545</td>\n",
       "      <td>6.007865</td>\n",
       "      <td>54.870591</td>\n",
       "      <td>865.701859</td>\n",
       "      <td>100.727121</td>\n",
       "      <td>131.789323</td>\n",
       "      <td>218.082221</td>\n",
       "      <td>6.007865</td>\n",
       "      <td>1.000000</td>\n",
       "      <td>3306.918494</td>\n",
       "      <td>...</td>\n",
       "      <td>80.532412</td>\n",
       "      <td>1.000000</td>\n",
       "      <td>2782.872736</td>\n",
       "      <td>1.000000</td>\n",
       "      <td>110.959247</td>\n",
       "      <td>28.147045</td>\n",
       "      <td>54.870591</td>\n",
       "      <td>28.147045</td>\n",
       "      <td>100.727121</td>\n",
       "      <td>7052.158484</td>\n",
       "    </tr>\n",
       "    <tr>\n",
       "      <th>VALUE</th>\n",
       "      <td>64.709009</td>\n",
       "      <td>42.723785</td>\n",
       "      <td>31.321497</td>\n",
       "      <td>790.820424</td>\n",
       "      <td>18.199476</td>\n",
       "      <td>117.466873</td>\n",
       "      <td>84.659914</td>\n",
       "      <td>18.199476</td>\n",
       "      <td>18.199476</td>\n",
       "      <td>1745.642993</td>\n",
       "      <td>...</td>\n",
       "      <td>53.989275</td>\n",
       "      <td>1.000000</td>\n",
       "      <td>1395.469018</td>\n",
       "      <td>4.051716</td>\n",
       "      <td>64.709009</td>\n",
       "      <td>105.053146</td>\n",
       "      <td>117.466873</td>\n",
       "      <td>18.199476</td>\n",
       "      <td>105.053146</td>\n",
       "      <td>8272.852002</td>\n",
       "    </tr>\n",
       "    <tr>\n",
       "      <th>...</th>\n",
       "      <td>...</td>\n",
       "      <td>...</td>\n",
       "      <td>...</td>\n",
       "      <td>...</td>\n",
       "      <td>...</td>\n",
       "      <td>...</td>\n",
       "      <td>...</td>\n",
       "      <td>...</td>\n",
       "      <td>...</td>\n",
       "      <td>...</td>\n",
       "      <td>...</td>\n",
       "      <td>...</td>\n",
       "      <td>...</td>\n",
       "      <td>...</td>\n",
       "      <td>...</td>\n",
       "      <td>...</td>\n",
       "      <td>...</td>\n",
       "      <td>...</td>\n",
       "      <td>...</td>\n",
       "      <td>...</td>\n",
       "      <td>...</td>\n",
       "    </tr>\n",
       "    <tr>\n",
       "      <th>VALUE</th>\n",
       "      <td>45.089847</td>\n",
       "      <td>1.000000</td>\n",
       "      <td>22.503575</td>\n",
       "      <td>199.890610</td>\n",
       "      <td>22.503575</td>\n",
       "      <td>34.901096</td>\n",
       "      <td>80.400620</td>\n",
       "      <td>1.000000</td>\n",
       "      <td>22.503575</td>\n",
       "      <td>618.217588</td>\n",
       "      <td>...</td>\n",
       "      <td>67.751907</td>\n",
       "      <td>22.503575</td>\n",
       "      <td>8761.700429</td>\n",
       "      <td>1.000000</td>\n",
       "      <td>122.460677</td>\n",
       "      <td>1.000000</td>\n",
       "      <td>122.460677</td>\n",
       "      <td>108.397760</td>\n",
       "      <td>56.125596</td>\n",
       "      <td>5780.195901</td>\n",
       "    </tr>\n",
       "    <tr>\n",
       "      <th>VALUE</th>\n",
       "      <td>55.484986</td>\n",
       "      <td>1.000000</td>\n",
       "      <td>45.566492</td>\n",
       "      <td>134.953050</td>\n",
       "      <td>97.628932</td>\n",
       "      <td>55.484986</td>\n",
       "      <td>6.351049</td>\n",
       "      <td>97.628932</td>\n",
       "      <td>35.072688</td>\n",
       "      <td>1296.829600</td>\n",
       "      <td>...</td>\n",
       "      <td>55.484986</td>\n",
       "      <td>1.000000</td>\n",
       "      <td>8761.700429</td>\n",
       "      <td>6.351049</td>\n",
       "      <td>25.077455</td>\n",
       "      <td>75.357483</td>\n",
       "      <td>97.628932</td>\n",
       "      <td>55.484986</td>\n",
       "      <td>349.923022</td>\n",
       "      <td>5515.939466</td>\n",
       "    </tr>\n",
       "    <tr>\n",
       "      <th>VALUE</th>\n",
       "      <td>10.667541</td>\n",
       "      <td>1.000000</td>\n",
       "      <td>33.352955</td>\n",
       "      <td>151.238322</td>\n",
       "      <td>22.111773</td>\n",
       "      <td>51.053623</td>\n",
       "      <td>87.456864</td>\n",
       "      <td>33.352955</td>\n",
       "      <td>22.111773</td>\n",
       "      <td>1395.469018</td>\n",
       "      <td>...</td>\n",
       "      <td>33.352955</td>\n",
       "      <td>10.667541</td>\n",
       "      <td>10571.609870</td>\n",
       "      <td>22.111773</td>\n",
       "      <td>87.456864</td>\n",
       "      <td>140.040277</td>\n",
       "      <td>33.352955</td>\n",
       "      <td>10.667541</td>\n",
       "      <td>297.398713</td>\n",
       "      <td>6712.010010</td>\n",
       "    </tr>\n",
       "    <tr>\n",
       "      <th>VALUE</th>\n",
       "      <td>2.148951</td>\n",
       "      <td>1.000000</td>\n",
       "      <td>50.605577</td>\n",
       "      <td>107.814347</td>\n",
       "      <td>1.000000</td>\n",
       "      <td>39.059342</td>\n",
       "      <td>26.561249</td>\n",
       "      <td>61.792421</td>\n",
       "      <td>26.561249</td>\n",
       "      <td>1823.352479</td>\n",
       "      <td>...</td>\n",
       "      <td>50.605577</td>\n",
       "      <td>1.000000</td>\n",
       "      <td>9920.790038</td>\n",
       "      <td>26.561249</td>\n",
       "      <td>86.289800</td>\n",
       "      <td>74.868208</td>\n",
       "      <td>126.515253</td>\n",
       "      <td>2.148951</td>\n",
       "      <td>333.212583</td>\n",
       "      <td>6377.970210</td>\n",
       "    </tr>\n",
       "    <tr>\n",
       "      <th>VALUE</th>\n",
       "      <td>53.392993</td>\n",
       "      <td>62.832459</td>\n",
       "      <td>19.147521</td>\n",
       "      <td>72.266683</td>\n",
       "      <td>1.000000</td>\n",
       "      <td>30.071258</td>\n",
       "      <td>62.832459</td>\n",
       "      <td>19.147521</td>\n",
       "      <td>53.392993</td>\n",
       "      <td>1172.177550</td>\n",
       "      <td>...</td>\n",
       "      <td>62.832459</td>\n",
       "      <td>53.392993</td>\n",
       "      <td>10571.609870</td>\n",
       "      <td>7.197569</td>\n",
       "      <td>7.197569</td>\n",
       "      <td>117.466873</td>\n",
       "      <td>126.155148</td>\n",
       "      <td>1.000000</td>\n",
       "      <td>222.682793</td>\n",
       "      <td>4980.898951</td>\n",
       "    </tr>\n",
       "  </tbody>\n",
       "</table>\n",
       "<p>167 rows × 848 columns</p>\n",
       "</div>"
      ],
      "text/plain": [
       "             0          1          2            3           4           5    \\\n",
       "VALUE   5.653241  37.688751  29.893947   523.693279   72.091277  102.182793   \n",
       "VALUE   1.000000  36.127979  42.218303  1015.585081  109.778599  149.095567   \n",
       "VALUE   1.838179  43.823880  48.048856  1635.165157  148.378694  106.990705   \n",
       "VALUE  17.422545   6.007865  54.870591   865.701859  100.727121  131.789323   \n",
       "VALUE  64.709009  42.723785  31.321497   790.820424   18.199476  117.466873   \n",
       "...          ...        ...        ...          ...         ...         ...   \n",
       "VALUE  45.089847   1.000000  22.503575   199.890610   22.503575   34.901096   \n",
       "VALUE  55.484986   1.000000  45.566492   134.953050   97.628932   55.484986   \n",
       "VALUE  10.667541   1.000000  33.352955   151.238322   22.111773   51.053623   \n",
       "VALUE   2.148951   1.000000  50.605577   107.814347    1.000000   39.059342   \n",
       "VALUE  53.392993  62.832459  19.147521    72.266683    1.000000   30.071258   \n",
       "\n",
       "              6          7          8            9    ...        838  \\\n",
       "VALUE  122.950191  10.667541   1.000000  1232.595567  ...  54.531697   \n",
       "VALUE  137.578408   4.984986   1.000000  2141.470686  ...  53.509295   \n",
       "VALUE  148.378694   1.838179   1.000000  1506.186845  ...  43.823880   \n",
       "VALUE  218.082221   6.007865   1.000000  3306.918494  ...  80.532412   \n",
       "VALUE   84.659914  18.199476  18.199476  1745.642993  ...  53.989275   \n",
       "...           ...        ...        ...          ...  ...        ...   \n",
       "VALUE   80.400620   1.000000  22.503575   618.217588  ...  67.751907   \n",
       "VALUE    6.351049  97.628932  35.072688  1296.829600  ...  55.484986   \n",
       "VALUE   87.456864  33.352955  22.111773  1395.469018  ...  33.352955   \n",
       "VALUE   26.561249  61.792421  26.561249  1823.352479  ...  50.605577   \n",
       "VALUE   62.832459  19.147521  53.392993  1172.177550  ...  62.832459   \n",
       "\n",
       "             839           840        841         842         843         844  \\\n",
       "VALUE   1.000000   5515.939466   1.000000   45.783842   68.556959   54.531697   \n",
       "VALUE   1.000000   1781.658484   1.000000   67.633699   92.819113   36.127979   \n",
       "VALUE   1.000000   2990.154194   1.000000   75.206625   71.230934   40.182316   \n",
       "VALUE   1.000000   2782.872736   1.000000  110.959247   28.147045   54.870591   \n",
       "VALUE   1.000000   1395.469018   4.051716   64.709009  105.053146  117.466873   \n",
       "...          ...           ...        ...         ...         ...         ...   \n",
       "VALUE  22.503575   8761.700429   1.000000  122.460677    1.000000  122.460677   \n",
       "VALUE   1.000000   8761.700429   6.351049   25.077455   75.357483   97.628932   \n",
       "VALUE  10.667541  10571.609870  22.111773   87.456864  140.040277   33.352955   \n",
       "VALUE   1.000000   9920.790038  26.561249   86.289800   74.868208  126.515253   \n",
       "VALUE  53.392993  10571.609870   7.197569    7.197569  117.466873  126.155148   \n",
       "\n",
       "              845         846          847  \n",
       "VALUE   15.398713  341.261916  6069.108437  \n",
       "VALUE   16.551239   98.982126  4980.898951  \n",
       "VALUE    1.000000   75.206625  4980.898951  \n",
       "VALUE   28.147045  100.727121  7052.158484  \n",
       "VALUE   18.199476  105.053146  8272.852002  \n",
       "...           ...         ...          ...  \n",
       "VALUE  108.397760   56.125596  5780.195901  \n",
       "VALUE   55.484986  349.923022  5515.939466  \n",
       "VALUE   10.667541  297.398713  6712.010010  \n",
       "VALUE    2.148951  333.212583  6377.970210  \n",
       "VALUE    1.000000  222.682793  4980.898951  \n",
       "\n",
       "[167 rows x 848 columns]"
      ]
     },
     "execution_count": 13,
     "metadata": {},
     "output_type": "execute_result"
    }
   ],
   "source": [
    "X"
   ]
  },
  {
   "cell_type": "code",
   "execution_count": 14,
   "metadata": {},
   "outputs": [],
   "source": [
    "X_healthy, X_cancer = X[controls == 1], X[sick == 1]"
   ]
  },
  {
   "cell_type": "code",
   "execution_count": 15,
   "metadata": {},
   "outputs": [],
   "source": [
    "results = ttest_ind(X_healthy, X_cancer).pvalue"
   ]
  },
  {
   "cell_type": "code",
   "execution_count": 16,
   "metadata": {},
   "outputs": [],
   "source": [
    "lowest, pvalues = np.argsort(results)[:5], np.sort(results)[:5]"
   ]
  },
  {
   "cell_type": "code",
   "execution_count": 17,
   "metadata": {},
   "outputs": [
    {
     "data": {
      "text/plain": [
       "(125        hsa-miR-17\n",
       " 443       hsa-miR-107\n",
       " 292       hsa-miR-126\n",
       " 230      hsa-miR-144*\n",
       " 639    hsa-miR-331-3p\n",
       " Name: ID_REF, dtype: object,\n",
       " array([1.22002438e-13, 1.54130501e-13, 3.35725702e-12, 4.28770542e-12,\n",
       "        9.35686823e-12]))"
      ]
     },
     "execution_count": 17,
     "metadata": {},
     "output_type": "execute_result"
    }
   ],
   "source": [
    "mirnas.iloc[lowest], pvalues"
   ]
  },
  {
   "cell_type": "markdown",
   "metadata": {},
   "source": [
    "### F-test"
   ]
  },
  {
   "cell_type": "code",
   "execution_count": 18,
   "metadata": {},
   "outputs": [],
   "source": [
    "t3 = table"
   ]
  },
  {
   "cell_type": "code",
   "execution_count": 19,
   "metadata": {},
   "outputs": [],
   "source": [
    "f, p = f_classif(t3, sick)"
   ]
  },
  {
   "cell_type": "code",
   "execution_count": 20,
   "metadata": {},
   "outputs": [
    {
     "data": {
      "text/plain": [
       "0.22185169091690032"
      ]
     },
     "execution_count": 20,
     "metadata": {},
     "output_type": "execute_result"
    }
   ],
   "source": [
    "np.mean(p)"
   ]
  },
  {
   "cell_type": "markdown",
   "metadata": {},
   "source": [
    "### ANOVA"
   ]
  },
  {
   "cell_type": "code",
   "execution_count": 21,
   "metadata": {},
   "outputs": [
    {
     "data": {
      "text/html": [
       "<div>\n",
       "<style scoped>\n",
       "    .dataframe tbody tr th:only-of-type {\n",
       "        vertical-align: middle;\n",
       "    }\n",
       "\n",
       "    .dataframe tbody tr th {\n",
       "        vertical-align: top;\n",
       "    }\n",
       "\n",
       "    .dataframe thead th {\n",
       "        text-align: right;\n",
       "    }\n",
       "</style>\n",
       "<table border=\"1\" class=\"dataframe\">\n",
       "  <thead>\n",
       "    <tr style=\"text-align: right;\">\n",
       "      <th></th>\n",
       "      <th>0</th>\n",
       "      <th>1</th>\n",
       "      <th>2</th>\n",
       "      <th>3</th>\n",
       "      <th>4</th>\n",
       "      <th>5</th>\n",
       "      <th>6</th>\n",
       "      <th>7</th>\n",
       "      <th>8</th>\n",
       "      <th>9</th>\n",
       "      <th>...</th>\n",
       "      <th>838</th>\n",
       "      <th>839</th>\n",
       "      <th>840</th>\n",
       "      <th>841</th>\n",
       "      <th>842</th>\n",
       "      <th>843</th>\n",
       "      <th>844</th>\n",
       "      <th>845</th>\n",
       "      <th>846</th>\n",
       "      <th>847</th>\n",
       "    </tr>\n",
       "  </thead>\n",
       "  <tbody>\n",
       "    <tr>\n",
       "      <th>VALUE</th>\n",
       "      <td>5.653241</td>\n",
       "      <td>37.688751</td>\n",
       "      <td>29.893947</td>\n",
       "      <td>523.693279</td>\n",
       "      <td>72.091277</td>\n",
       "      <td>102.182793</td>\n",
       "      <td>122.950191</td>\n",
       "      <td>10.667541</td>\n",
       "      <td>1.000000</td>\n",
       "      <td>1232.595567</td>\n",
       "      <td>...</td>\n",
       "      <td>54.531697</td>\n",
       "      <td>1.000000</td>\n",
       "      <td>5515.939466</td>\n",
       "      <td>1.000000</td>\n",
       "      <td>45.783842</td>\n",
       "      <td>68.556959</td>\n",
       "      <td>54.531697</td>\n",
       "      <td>15.398713</td>\n",
       "      <td>341.261916</td>\n",
       "      <td>6069.108437</td>\n",
       "    </tr>\n",
       "    <tr>\n",
       "      <th>VALUE</th>\n",
       "      <td>1.000000</td>\n",
       "      <td>36.127979</td>\n",
       "      <td>42.218303</td>\n",
       "      <td>1015.585081</td>\n",
       "      <td>109.778599</td>\n",
       "      <td>149.095567</td>\n",
       "      <td>137.578408</td>\n",
       "      <td>4.984986</td>\n",
       "      <td>1.000000</td>\n",
       "      <td>2141.470686</td>\n",
       "      <td>...</td>\n",
       "      <td>53.509295</td>\n",
       "      <td>1.000000</td>\n",
       "      <td>1781.658484</td>\n",
       "      <td>1.000000</td>\n",
       "      <td>67.633699</td>\n",
       "      <td>92.819113</td>\n",
       "      <td>36.127979</td>\n",
       "      <td>16.551239</td>\n",
       "      <td>98.982126</td>\n",
       "      <td>4980.898951</td>\n",
       "    </tr>\n",
       "    <tr>\n",
       "      <th>VALUE</th>\n",
       "      <td>1.838179</td>\n",
       "      <td>43.823880</td>\n",
       "      <td>48.048856</td>\n",
       "      <td>1635.165157</td>\n",
       "      <td>148.378694</td>\n",
       "      <td>106.990705</td>\n",
       "      <td>148.378694</td>\n",
       "      <td>1.838179</td>\n",
       "      <td>1.000000</td>\n",
       "      <td>1506.186845</td>\n",
       "      <td>...</td>\n",
       "      <td>43.823880</td>\n",
       "      <td>1.000000</td>\n",
       "      <td>2990.154194</td>\n",
       "      <td>1.000000</td>\n",
       "      <td>75.206625</td>\n",
       "      <td>71.230934</td>\n",
       "      <td>40.182316</td>\n",
       "      <td>1.000000</td>\n",
       "      <td>75.206625</td>\n",
       "      <td>4980.898951</td>\n",
       "    </tr>\n",
       "    <tr>\n",
       "      <th>VALUE</th>\n",
       "      <td>17.422545</td>\n",
       "      <td>6.007865</td>\n",
       "      <td>54.870591</td>\n",
       "      <td>865.701859</td>\n",
       "      <td>100.727121</td>\n",
       "      <td>131.789323</td>\n",
       "      <td>218.082221</td>\n",
       "      <td>6.007865</td>\n",
       "      <td>1.000000</td>\n",
       "      <td>3306.918494</td>\n",
       "      <td>...</td>\n",
       "      <td>80.532412</td>\n",
       "      <td>1.000000</td>\n",
       "      <td>2782.872736</td>\n",
       "      <td>1.000000</td>\n",
       "      <td>110.959247</td>\n",
       "      <td>28.147045</td>\n",
       "      <td>54.870591</td>\n",
       "      <td>28.147045</td>\n",
       "      <td>100.727121</td>\n",
       "      <td>7052.158484</td>\n",
       "    </tr>\n",
       "    <tr>\n",
       "      <th>VALUE</th>\n",
       "      <td>64.709009</td>\n",
       "      <td>42.723785</td>\n",
       "      <td>31.321497</td>\n",
       "      <td>790.820424</td>\n",
       "      <td>18.199476</td>\n",
       "      <td>117.466873</td>\n",
       "      <td>84.659914</td>\n",
       "      <td>18.199476</td>\n",
       "      <td>18.199476</td>\n",
       "      <td>1745.642993</td>\n",
       "      <td>...</td>\n",
       "      <td>53.989275</td>\n",
       "      <td>1.000000</td>\n",
       "      <td>1395.469018</td>\n",
       "      <td>4.051716</td>\n",
       "      <td>64.709009</td>\n",
       "      <td>105.053146</td>\n",
       "      <td>117.466873</td>\n",
       "      <td>18.199476</td>\n",
       "      <td>105.053146</td>\n",
       "      <td>8272.852002</td>\n",
       "    </tr>\n",
       "    <tr>\n",
       "      <th>...</th>\n",
       "      <td>...</td>\n",
       "      <td>...</td>\n",
       "      <td>...</td>\n",
       "      <td>...</td>\n",
       "      <td>...</td>\n",
       "      <td>...</td>\n",
       "      <td>...</td>\n",
       "      <td>...</td>\n",
       "      <td>...</td>\n",
       "      <td>...</td>\n",
       "      <td>...</td>\n",
       "      <td>...</td>\n",
       "      <td>...</td>\n",
       "      <td>...</td>\n",
       "      <td>...</td>\n",
       "      <td>...</td>\n",
       "      <td>...</td>\n",
       "      <td>...</td>\n",
       "      <td>...</td>\n",
       "      <td>...</td>\n",
       "      <td>...</td>\n",
       "    </tr>\n",
       "    <tr>\n",
       "      <th>VALUE</th>\n",
       "      <td>45.089847</td>\n",
       "      <td>1.000000</td>\n",
       "      <td>22.503575</td>\n",
       "      <td>199.890610</td>\n",
       "      <td>22.503575</td>\n",
       "      <td>34.901096</td>\n",
       "      <td>80.400620</td>\n",
       "      <td>1.000000</td>\n",
       "      <td>22.503575</td>\n",
       "      <td>618.217588</td>\n",
       "      <td>...</td>\n",
       "      <td>67.751907</td>\n",
       "      <td>22.503575</td>\n",
       "      <td>8761.700429</td>\n",
       "      <td>1.000000</td>\n",
       "      <td>122.460677</td>\n",
       "      <td>1.000000</td>\n",
       "      <td>122.460677</td>\n",
       "      <td>108.397760</td>\n",
       "      <td>56.125596</td>\n",
       "      <td>5780.195901</td>\n",
       "    </tr>\n",
       "    <tr>\n",
       "      <th>VALUE</th>\n",
       "      <td>55.484986</td>\n",
       "      <td>1.000000</td>\n",
       "      <td>45.566492</td>\n",
       "      <td>134.953050</td>\n",
       "      <td>97.628932</td>\n",
       "      <td>55.484986</td>\n",
       "      <td>6.351049</td>\n",
       "      <td>97.628932</td>\n",
       "      <td>35.072688</td>\n",
       "      <td>1296.829600</td>\n",
       "      <td>...</td>\n",
       "      <td>55.484986</td>\n",
       "      <td>1.000000</td>\n",
       "      <td>8761.700429</td>\n",
       "      <td>6.351049</td>\n",
       "      <td>25.077455</td>\n",
       "      <td>75.357483</td>\n",
       "      <td>97.628932</td>\n",
       "      <td>55.484986</td>\n",
       "      <td>349.923022</td>\n",
       "      <td>5515.939466</td>\n",
       "    </tr>\n",
       "    <tr>\n",
       "      <th>VALUE</th>\n",
       "      <td>10.667541</td>\n",
       "      <td>1.000000</td>\n",
       "      <td>33.352955</td>\n",
       "      <td>151.238322</td>\n",
       "      <td>22.111773</td>\n",
       "      <td>51.053623</td>\n",
       "      <td>87.456864</td>\n",
       "      <td>33.352955</td>\n",
       "      <td>22.111773</td>\n",
       "      <td>1395.469018</td>\n",
       "      <td>...</td>\n",
       "      <td>33.352955</td>\n",
       "      <td>10.667541</td>\n",
       "      <td>10571.609870</td>\n",
       "      <td>22.111773</td>\n",
       "      <td>87.456864</td>\n",
       "      <td>140.040277</td>\n",
       "      <td>33.352955</td>\n",
       "      <td>10.667541</td>\n",
       "      <td>297.398713</td>\n",
       "      <td>6712.010010</td>\n",
       "    </tr>\n",
       "    <tr>\n",
       "      <th>VALUE</th>\n",
       "      <td>2.148951</td>\n",
       "      <td>1.000000</td>\n",
       "      <td>50.605577</td>\n",
       "      <td>107.814347</td>\n",
       "      <td>1.000000</td>\n",
       "      <td>39.059342</td>\n",
       "      <td>26.561249</td>\n",
       "      <td>61.792421</td>\n",
       "      <td>26.561249</td>\n",
       "      <td>1823.352479</td>\n",
       "      <td>...</td>\n",
       "      <td>50.605577</td>\n",
       "      <td>1.000000</td>\n",
       "      <td>9920.790038</td>\n",
       "      <td>26.561249</td>\n",
       "      <td>86.289800</td>\n",
       "      <td>74.868208</td>\n",
       "      <td>126.515253</td>\n",
       "      <td>2.148951</td>\n",
       "      <td>333.212583</td>\n",
       "      <td>6377.970210</td>\n",
       "    </tr>\n",
       "    <tr>\n",
       "      <th>VALUE</th>\n",
       "      <td>53.392993</td>\n",
       "      <td>62.832459</td>\n",
       "      <td>19.147521</td>\n",
       "      <td>72.266683</td>\n",
       "      <td>1.000000</td>\n",
       "      <td>30.071258</td>\n",
       "      <td>62.832459</td>\n",
       "      <td>19.147521</td>\n",
       "      <td>53.392993</td>\n",
       "      <td>1172.177550</td>\n",
       "      <td>...</td>\n",
       "      <td>62.832459</td>\n",
       "      <td>53.392993</td>\n",
       "      <td>10571.609870</td>\n",
       "      <td>7.197569</td>\n",
       "      <td>7.197569</td>\n",
       "      <td>117.466873</td>\n",
       "      <td>126.155148</td>\n",
       "      <td>1.000000</td>\n",
       "      <td>222.682793</td>\n",
       "      <td>4980.898951</td>\n",
       "    </tr>\n",
       "  </tbody>\n",
       "</table>\n",
       "<p>167 rows × 848 columns</p>\n",
       "</div>"
      ],
      "text/plain": [
       "             0          1          2            3           4           5    \\\n",
       "VALUE   5.653241  37.688751  29.893947   523.693279   72.091277  102.182793   \n",
       "VALUE   1.000000  36.127979  42.218303  1015.585081  109.778599  149.095567   \n",
       "VALUE   1.838179  43.823880  48.048856  1635.165157  148.378694  106.990705   \n",
       "VALUE  17.422545   6.007865  54.870591   865.701859  100.727121  131.789323   \n",
       "VALUE  64.709009  42.723785  31.321497   790.820424   18.199476  117.466873   \n",
       "...          ...        ...        ...          ...         ...         ...   \n",
       "VALUE  45.089847   1.000000  22.503575   199.890610   22.503575   34.901096   \n",
       "VALUE  55.484986   1.000000  45.566492   134.953050   97.628932   55.484986   \n",
       "VALUE  10.667541   1.000000  33.352955   151.238322   22.111773   51.053623   \n",
       "VALUE   2.148951   1.000000  50.605577   107.814347    1.000000   39.059342   \n",
       "VALUE  53.392993  62.832459  19.147521    72.266683    1.000000   30.071258   \n",
       "\n",
       "              6          7          8            9    ...        838  \\\n",
       "VALUE  122.950191  10.667541   1.000000  1232.595567  ...  54.531697   \n",
       "VALUE  137.578408   4.984986   1.000000  2141.470686  ...  53.509295   \n",
       "VALUE  148.378694   1.838179   1.000000  1506.186845  ...  43.823880   \n",
       "VALUE  218.082221   6.007865   1.000000  3306.918494  ...  80.532412   \n",
       "VALUE   84.659914  18.199476  18.199476  1745.642993  ...  53.989275   \n",
       "...           ...        ...        ...          ...  ...        ...   \n",
       "VALUE   80.400620   1.000000  22.503575   618.217588  ...  67.751907   \n",
       "VALUE    6.351049  97.628932  35.072688  1296.829600  ...  55.484986   \n",
       "VALUE   87.456864  33.352955  22.111773  1395.469018  ...  33.352955   \n",
       "VALUE   26.561249  61.792421  26.561249  1823.352479  ...  50.605577   \n",
       "VALUE   62.832459  19.147521  53.392993  1172.177550  ...  62.832459   \n",
       "\n",
       "             839           840        841         842         843         844  \\\n",
       "VALUE   1.000000   5515.939466   1.000000   45.783842   68.556959   54.531697   \n",
       "VALUE   1.000000   1781.658484   1.000000   67.633699   92.819113   36.127979   \n",
       "VALUE   1.000000   2990.154194   1.000000   75.206625   71.230934   40.182316   \n",
       "VALUE   1.000000   2782.872736   1.000000  110.959247   28.147045   54.870591   \n",
       "VALUE   1.000000   1395.469018   4.051716   64.709009  105.053146  117.466873   \n",
       "...          ...           ...        ...         ...         ...         ...   \n",
       "VALUE  22.503575   8761.700429   1.000000  122.460677    1.000000  122.460677   \n",
       "VALUE   1.000000   8761.700429   6.351049   25.077455   75.357483   97.628932   \n",
       "VALUE  10.667541  10571.609870  22.111773   87.456864  140.040277   33.352955   \n",
       "VALUE   1.000000   9920.790038  26.561249   86.289800   74.868208  126.515253   \n",
       "VALUE  53.392993  10571.609870   7.197569    7.197569  117.466873  126.155148   \n",
       "\n",
       "              845         846          847  \n",
       "VALUE   15.398713  341.261916  6069.108437  \n",
       "VALUE   16.551239   98.982126  4980.898951  \n",
       "VALUE    1.000000   75.206625  4980.898951  \n",
       "VALUE   28.147045  100.727121  7052.158484  \n",
       "VALUE   18.199476  105.053146  8272.852002  \n",
       "...           ...         ...          ...  \n",
       "VALUE  108.397760   56.125596  5780.195901  \n",
       "VALUE   55.484986  349.923022  5515.939466  \n",
       "VALUE   10.667541  297.398713  6712.010010  \n",
       "VALUE    2.148951  333.212583  6377.970210  \n",
       "VALUE    1.000000  222.682793  4980.898951  \n",
       "\n",
       "[167 rows x 848 columns]"
      ]
     },
     "execution_count": 21,
     "metadata": {},
     "output_type": "execute_result"
    }
   ],
   "source": [
    "t3"
   ]
  },
  {
   "cell_type": "code",
   "execution_count": 22,
   "metadata": {},
   "outputs": [],
   "source": [
    "X = np.array(sick).reshape(-1, 1)"
   ]
  },
  {
   "cell_type": "code",
   "execution_count": 23,
   "metadata": {},
   "outputs": [
    {
     "data": {
      "text/plain": [
       "LinearRegression()"
      ]
     },
     "execution_count": 23,
     "metadata": {},
     "output_type": "execute_result"
    }
   ],
   "source": [
    "linreg = LinearRegression()\n",
    "linreg.fit(X, t3)"
   ]
  },
  {
   "cell_type": "code",
   "execution_count": 24,
   "metadata": {},
   "outputs": [
    {
     "data": {
      "text/plain": [
       "0.038280627013380406"
      ]
     },
     "execution_count": 24,
     "metadata": {},
     "output_type": "execute_result"
    }
   ],
   "source": [
    "fitted = linreg.predict(X)\n",
    "explained_variance_score(t3, fitted)"
   ]
  },
  {
   "cell_type": "markdown",
   "metadata": {},
   "source": [
    "### Mean-variance-plot"
   ]
  },
  {
   "cell_type": "code",
   "execution_count": 25,
   "metadata": {},
   "outputs": [
    {
     "data": {
      "text/plain": [
       "0        52.184020\n",
       "1        48.749575\n",
       "2        41.056154\n",
       "3       373.364266\n",
       "4        98.791599\n",
       "          ...     \n",
       "843      51.995349\n",
       "844      47.498520\n",
       "845      28.066831\n",
       "846     186.806267\n",
       "847    7488.494036\n",
       "Length: 848, dtype: float64"
      ]
     },
     "execution_count": 25,
     "metadata": {},
     "output_type": "execute_result"
    }
   ],
   "source": [
    "np.mean(table)"
   ]
  },
  {
   "cell_type": "code",
   "execution_count": 26,
   "metadata": {
    "tags": []
   },
   "outputs": [],
   "source": [
    "def get_means_and_variances(table):\n",
    "    return np.mean(table), np.var(table, ddof=1)"
   ]
  },
  {
   "cell_type": "code",
   "execution_count": 27,
   "metadata": {
    "tags": []
   },
   "outputs": [],
   "source": [
    "def mean_variance_plot(table):\n",
    "    means, variances = get_means_and_variances(table)\n",
    "    plt.scatter(means, variances)\n",
    "    plt.xlabel(\"mean\")\n",
    "    plt.ylabel(\"variance\")\n",
    "    plt.plot()"
   ]
  },
  {
   "cell_type": "code",
   "execution_count": 28,
   "metadata": {},
   "outputs": [
    {
     "data": {
      "image/png": "[encoded data removed]",
      "text/plain": [
       "<Figure size 432x288 with 1 Axes>"
      ]
     },
     "metadata": {
      "needs_background": "light"
     },
     "output_type": "display_data"
    }
   ],
   "source": [
    "mean_variance_plot(table)"
   ]
  },
  {
   "cell_type": "markdown",
   "metadata": {
    "tags": []
   },
   "source": [
    "### Log transformation"
   ]
  },
  {
   "cell_type": "code",
   "execution_count": 29,
   "metadata": {},
   "outputs": [],
   "source": [
    "log_table = table #np.log2(table)"
   ]
  },
  {
   "cell_type": "code",
   "execution_count": 30,
   "metadata": {},
   "outputs": [
    {
     "data": {
      "image/png": "[encoded data removed]",
      "text/plain": [
       "<Figure size 432x288 with 1 Axes>"
      ]
     },
     "metadata": {
      "needs_background": "light"
     },
     "output_type": "display_data"
    }
   ],
   "source": [
    "mean_variance_plot(log_table)"
   ]
  },
  {
   "cell_type": "markdown",
   "metadata": {
    "tags": []
   },
   "source": [
    "### Loess regression"
   ]
  },
  {
   "cell_type": "code",
   "execution_count": 31,
   "metadata": {
    "tags": []
   },
   "outputs": [],
   "source": [
    "lowess = LowessRegression(sigma=1, span=0.1)"
   ]
  },
  {
   "cell_type": "code",
   "execution_count": 32,
   "metadata": {},
   "outputs": [
    {
     "data": {
      "text/plain": [
       "LowessRegression(span=0.1)"
      ]
     },
     "execution_count": 32,
     "metadata": {},
     "output_type": "execute_result"
    }
   ],
   "source": [
    "means, variances = get_means_and_variances(log_table)\n",
    "lowess.fit(means.to_numpy().reshape(-1,1), variances)"
   ]
  },
  {
   "cell_type": "code",
   "execution_count": 33,
   "metadata": {},
   "outputs": [],
   "source": [
    "x_axis = np.linspace(-2, 14, 100)\n",
    "y_axis = lowess.predict(x_axis.reshape(-1,1))"
   ]
  },
  {
   "cell_type": "code",
   "execution_count": 34,
   "metadata": {},
   "outputs": [
    {
     "data": {
      "text/plain": [
       "[]"
      ]
     },
     "execution_count": 34,
     "metadata": {},
     "output_type": "execute_result"
    },
    {
     "data": {
      "image/png": "[encoded data removed]",
      "text/plain": [
       "<Figure size 432x288 with 1 Axes>"
      ]
     },
     "metadata": {
      "needs_background": "light"
     },
     "output_type": "display_data"
    }
   ],
   "source": [
    "plt.scatter(means, variances, color=\"b\")\n",
    "plt.scatter(x_axis, y_axis, color=\"y\")\n",
    "plt.xlabel(\"mean\")\n",
    "plt.ylabel(\"variance\")\n",
    "plt.legend([\"Sample points\", \"Lowess regression\"])\n",
    "plt.plot()"
   ]
  },
  {
   "cell_type": "markdown",
   "metadata": {
    "tags": []
   },
   "source": [
    "### Lowess normalization"
   ]
  },
  {
   "cell_type": "code",
   "execution_count": 35,
   "metadata": {},
   "outputs": [],
   "source": [
    "norm_log_table = log_table# - np.mean(log_table)"
   ]
  },
  {
   "cell_type": "code",
   "execution_count": 36,
   "metadata": {},
   "outputs": [],
   "source": [
    "#norm_log_table /= np.sqrt(np.mean(np.var(norm_log_table, ddof=1)))"
   ]
  },
  {
   "cell_type": "code",
   "execution_count": 37,
   "metadata": {},
   "outputs": [
    {
     "data": {
      "image/png": "[encoded data removed]",
      "text/plain": [
       "<Figure size 432x288 with 1 Axes>"
      ]
     },
     "metadata": {
      "needs_background": "light"
     },
     "output_type": "display_data"
    }
   ],
   "source": [
    "mean_variance_plot(norm_log_table)"
   ]
  },
  {
   "cell_type": "markdown",
   "metadata": {},
   "source": [
    "### PCA"
   ]
  },
  {
   "cell_type": "code",
   "execution_count": 38,
   "metadata": {
    "tags": []
   },
   "outputs": [],
   "source": [
    "pca = decomposition.PCA(n_components=10)"
   ]
  },
  {
   "cell_type": "code",
   "execution_count": 39,
   "metadata": {},
   "outputs": [
    {
     "data": {
      "text/plain": [
       "PCA(n_components=10)"
      ]
     },
     "execution_count": 39,
     "metadata": {},
     "output_type": "execute_result"
    }
   ],
   "source": [
    "pca.fit(norm_log_table)"
   ]
  },
  {
   "cell_type": "code",
   "execution_count": 40,
   "metadata": {},
   "outputs": [
    {
     "data": {
      "text/plain": [
       "array([0.22471831, 0.12751132, 0.10839095, 0.08488631, 0.0702827 ,\n",
       "       0.06217679, 0.04444318, 0.0359082 , 0.0275527 , 0.0238391 ])"
      ]
     },
     "execution_count": 40,
     "metadata": {},
     "output_type": "execute_result"
    }
   ],
   "source": [
    "pca.explained_variance_ratio_"
   ]
  },
  {
   "cell_type": "code",
   "execution_count": 41,
   "metadata": {
    "tags": []
   },
   "outputs": [],
   "source": [
    "components = pca.transform(norm_log_table)"
   ]
  },
  {
   "cell_type": "code",
   "execution_count": 42,
   "metadata": {},
   "outputs": [
    {
     "data": {
      "text/plain": [
       "(167, 10)"
      ]
     },
     "execution_count": 42,
     "metadata": {},
     "output_type": "execute_result"
    }
   ],
   "source": [
    "components.shape"
   ]
  },
  {
   "cell_type": "code",
   "execution_count": 43,
   "metadata": {},
   "outputs": [
    {
     "data": {
      "text/plain": [
       "94"
      ]
     },
     "execution_count": 43,
     "metadata": {},
     "output_type": "execute_result"
    }
   ],
   "source": [
    "sum(controls)"
   ]
  },
  {
   "cell_type": "code",
   "execution_count": 44,
   "metadata": {},
   "outputs": [
    {
     "data": {
      "image/png": "[encoded data removed]",
      "text/plain": [
       "<Figure size 576x576 with 1 Axes>"
      ]
     },
     "metadata": {
      "needs_background": "light"
     },
     "output_type": "display_data"
    }
   ],
   "source": [
    "fig = plt.figure(figsize = (8,8))\n",
    "ax = fig.add_subplot(1,1,1)\n",
    "\n",
    "ax.set_xlabel('Principal Component 1', fontsize = 15)\n",
    "ax.set_ylabel('Principal Component 2', fontsize = 15)\n",
    "ax.set_title('2 component PCA', fontsize = 20)\n",
    "targets = ['Cancer', 'Healthy']\n",
    "colors = ['r', 'g']\n",
    "ax.scatter(components[controls == False, 0], components[controls == False, 1], c = 'r', s = 10)\n",
    "ax.scatter(components[controls == True, 0], components[controls == True, 1], c = 'g', s = 10)\n",
    "ax.legend(targets)\n",
    "ax.grid()"
   ]
  },
  {
   "cell_type": "code",
   "execution_count": 45,
   "metadata": {
    "tags": []
   },
   "outputs": [],
   "source": [
    "components2 = components[components[:,0] < 20, :]\n",
    "controls2 = controls[components[:,0] < 20]"
   ]
  },
  {
   "cell_type": "code",
   "execution_count": 46,
   "metadata": {},
   "outputs": [
    {
     "data": {
      "image/png": "[encoded data removed]",
      "text/plain": [
       "<Figure size 576x576 with 1 Axes>"
      ]
     },
     "metadata": {
      "needs_background": "light"
     },
     "output_type": "display_data"
    }
   ],
   "source": [
    "fig = plt.figure(figsize = (8,8))\n",
    "ax = fig.add_subplot(1,1,1)\n",
    "\n",
    "ax.set_xlabel('Principal Component 1', fontsize = 15)\n",
    "ax.set_ylabel('Principal Component 2', fontsize = 15)\n",
    "ax.set_title('2 component PCA', fontsize = 20)\n",
    "targets = ['Cancer', 'Healthy']\n",
    "colors = ['r', 'g']\n",
    "ax.scatter(components2[controls2 == False, 0], components2[controls2 == False, 1], c = 'r', s = 10)\n",
    "ax.scatter(components2[controls2 == True, 0], components2[controls2 == True, 1], c = 'g', s = 10)\n",
    "ax.legend(targets)\n",
    "ax.grid()"
   ]
  },
  {
   "cell_type": "markdown",
   "metadata": {},
   "source": [
    "### Logistic Regression"
   ]
  },
  {
   "cell_type": "code",
   "execution_count": 47,
   "metadata": {},
   "outputs": [],
   "source": [
    "X_train, X_test, y_train, y_test = train_test_split(norm_log_table, controls, test_size=0.33, random_state=42)"
   ]
  },
  {
   "cell_type": "code",
   "execution_count": 48,
   "metadata": {},
   "outputs": [
    {
     "name": "stderr",
     "output_type": "stream",
     "text": [
      "C:\\Users\\olefr\\AppData\\Local\\Programs\\Python\\Python310\\lib\\site-packages\\sklearn\\linear_model\\_logistic.py:814: ConvergenceWarning: lbfgs failed to converge (status=1):\n",
      "STOP: TOTAL NO. of ITERATIONS REACHED LIMIT.\n",
      "\n",
      "Increase the number of iterations (max_iter) or scale the data as shown in:\n",
      "    https://scikit-learn.org/stable/modules/preprocessing.html\n",
      "Please also refer to the documentation for alternative solver options:\n",
      "    https://scikit-learn.org/stable/modules/linear_model.html#logistic-regression\n",
      "  n_iter_i = _check_optimize_result(\n"
     ]
    },
    {
     "data": {
      "text/plain": [
       "LogisticRegression()"
      ]
     },
     "execution_count": 48,
     "metadata": {},
     "output_type": "execute_result"
    }
   ],
   "source": [
    "model = LogisticRegression()\n",
    "model.fit(X_train, y_train)"
   ]
  },
  {
   "cell_type": "code",
   "execution_count": 49,
   "metadata": {},
   "outputs": [
    {
     "name": "stderr",
     "output_type": "stream",
     "text": [
      "C:\\Users\\olefr\\AppData\\Local\\Programs\\Python\\Python310\\lib\\site-packages\\sklearn\\utils\\deprecation.py:87: FutureWarning: Function plot_roc_curve is deprecated; Function :func:`plot_roc_curve` is deprecated in 1.0 and will be removed in 1.2. Use one of the class methods: :meth:`sklearn.metric.RocCurveDisplay.from_predictions` or :meth:`sklearn.metric.RocCurveDisplay.from_estimator`.\n",
      "  warnings.warn(msg, category=FutureWarning)\n"
     ]
    },
    {
     "data": {
      "text/plain": [
       "<sklearn.metrics._plot.roc_curve.RocCurveDisplay at 0x21f0f55d480>"
      ]
     },
     "execution_count": 49,
     "metadata": {},
     "output_type": "execute_result"
    },
    {
     "data": {
      "image/png": "[encoded data removed]",
      "text/plain": [
       "<Figure size 432x288 with 1 Axes>"
      ]
     },
     "metadata": {
      "needs_background": "light"
     },
     "output_type": "display_data"
    }
   ],
   "source": [
    "plot_roc_curve(model, X_test, y_test)"
   ]
  },
  {
   "cell_type": "markdown",
   "metadata": {
    "jupyter": {
     "outputs_hidden": true
    }
   },
   "source": [
    "### XGBoost"
   ]
  },
  {
   "cell_type": "code",
   "execution_count": 50,
   "metadata": {},
   "outputs": [
    {
     "name": "stdout",
     "output_type": "stream",
     "text": [
      "[18:30:37] WARNING: C:/Users/Administrator/workspace/xgboost-win64_release_1.5.1/src/learner.cc:1115: Starting in XGBoost 1.3.0, the default evaluation metric used with the objective 'binary:logistic' was changed from 'error' to 'logloss'. Explicitly set eval_metric if you'd like to restore the old behavior.\n"
     ]
    },
    {
     "data": {
      "text/plain": [
       "XGBClassifier(base_score=0.5, booster='gbtree', colsample_bylevel=1,\n",
       "              colsample_bynode=1, colsample_bytree=1, enable_categorical=False,\n",
       "              gamma=0, gpu_id=-1, importance_type=None,\n",
       "              interaction_constraints='', learning_rate=0.300000012,\n",
       "              max_delta_step=0, max_depth=6, min_child_weight=1, missing=nan,\n",
       "              monotone_constraints='()', n_estimators=100, n_jobs=16,\n",
       "              num_parallel_tree=1, predictor='auto', random_state=0,\n",
       "              reg_alpha=0, reg_lambda=1, scale_pos_weight=1, subsample=1,\n",
       "              tree_method='exact', use_label_encoder=False,\n",
       "              validate_parameters=1, verbosity=None)"
      ]
     },
     "execution_count": 50,
     "metadata": {},
     "output_type": "execute_result"
    }
   ],
   "source": [
    "model = XGBClassifier(use_label_encoder=False)\n",
    "model.fit(X_train, y_train)"
   ]
  },
  {
   "cell_type": "code",
   "execution_count": 51,
   "metadata": {},
   "outputs": [
    {
     "name": "stderr",
     "output_type": "stream",
     "text": [
      "C:\\Users\\olefr\\AppData\\Local\\Programs\\Python\\Python310\\lib\\site-packages\\sklearn\\utils\\deprecation.py:87: FutureWarning: Function plot_roc_curve is deprecated; Function :func:`plot_roc_curve` is deprecated in 1.0 and will be removed in 1.2. Use one of the class methods: :meth:`sklearn.metric.RocCurveDisplay.from_predictions` or :meth:`sklearn.metric.RocCurveDisplay.from_estimator`.\n",
      "  warnings.warn(msg, category=FutureWarning)\n"
     ]
    },
    {
     "data": {
      "text/plain": [
       "<sklearn.metrics._plot.roc_curve.RocCurveDisplay at 0x21f0fbeb310>"
      ]
     },
     "execution_count": 51,
     "metadata": {},
     "output_type": "execute_result"
    },
    {
     "data": {
      "image/png": "[encoded data removed]",
      "text/plain": [
       "<Figure size 432x288 with 1 Axes>"
      ]
     },
     "metadata": {
      "needs_background": "light"
     },
     "output_type": "display_data"
    }
   ],
   "source": [
    "plot_roc_curve(model, X_test, y_test)"
   ]
  },
  {
   "cell_type": "markdown",
   "metadata": {},
   "source": [
    "### Exporting data"
   ]
  },
  {
   "cell_type": "code",
   "execution_count": 52,
   "metadata": {},
   "outputs": [],
   "source": [
    "lookup_table = data.gpls[\"GPL9040\"].table"
   ]
  },
  {
   "cell_type": "code",
   "execution_count": 53,
   "metadata": {},
   "outputs": [],
   "source": [
    "lookup_table = lookup_table.set_index(\"ID\")"
   ]
  },
  {
   "cell_type": "code",
   "execution_count": 54,
   "metadata": {},
   "outputs": [
    {
     "data": {
      "text/plain": [
       "True"
      ]
     },
     "execution_count": 54,
     "metadata": {},
     "output_type": "execute_result"
    }
   ],
   "source": [
    "\"hsa-miR-155\" in list(mirnas)"
   ]
  },
  {
   "cell_type": "code",
   "execution_count": 55,
   "metadata": {},
   "outputs": [
    {
     "data": {
      "text/plain": [
       "SEQUENCE    uuaaugcuaaucgugauaggggu\n",
       "miRNA_ID                hsa-miR-155\n",
       "Name: hsa-miR-155, dtype: object"
      ]
     },
     "execution_count": 55,
     "metadata": {},
     "output_type": "execute_result"
    }
   ],
   "source": [
    "lookup_table.loc[\"hsa-miR-155\"]"
   ]
  },
  {
   "cell_type": "code",
   "execution_count": 56,
   "metadata": {},
   "outputs": [],
   "source": [
    "sequences = lookup_table.loc[mirnas][\"SEQUENCE\"]"
   ]
  },
  {
   "cell_type": "code",
   "execution_count": 57,
   "metadata": {},
   "outputs": [],
   "source": [
    "sequences = [s.upper() for s in sequences]"
   ]
  },
  {
   "cell_type": "code",
   "execution_count": 58,
   "metadata": {},
   "outputs": [
    {
     "data": {
      "text/plain": [
       "['ACUCAAAACCCUUCAGUGACUU',\n",
       " 'UUAGGGCCCUGGCUCCAUCUCC',\n",
       " 'AACAAUAUCCUGGUGCUGAGUG',\n",
       " 'CUCAUCUGCAAAGAAGUAAGUG',\n",
       " 'UCAGCAAACAUUUAUUGUGUGC',\n",
       " 'CAAACCACACUGUGGUGUUAGA',\n",
       " 'AACAUCACAGCAAGUCUGUGCU',\n",
       " 'AUCCUUGCUAUCUGGGUGCUA',\n",
       " 'UAGGUUAUCCGUGUUGCCUUCG',\n",
       " 'AAUGGCGCCACUAGGGUUGUG']"
      ]
     },
     "execution_count": 58,
     "metadata": {},
     "output_type": "execute_result"
    }
   ],
   "source": [
    "sequences[:10]"
   ]
  },
  {
   "cell_type": "code",
   "execution_count": 59,
   "metadata": {},
   "outputs": [],
   "source": [
    "#norm_log_table *= -1"
   ]
  },
  {
   "cell_type": "code",
   "execution_count": 60,
   "metadata": {},
   "outputs": [
    {
     "name": "stderr",
     "output_type": "stream",
     "text": [
      "C:\\Users\\olefr\\AppData\\Local\\Temp/ipykernel_1188/4293022894.py:3: SettingWithCopyWarning: \n",
      "A value is trying to be set on a copy of a slice from a DataFrame.\n",
      "Try using .loc[row_indexer,col_indexer] = value instead\n",
      "\n",
      "See the caveats in the documentation: https://pandas.pydata.org/pandas-docs/stable/user_guide/indexing.html#returning-a-view-versus-a-copy\n",
      "  norm_log_table[\"cancer\"] = sick\n"
     ]
    }
   ],
   "source": [
    "norm_log_table.columns = sequences\n",
    "norm_log_table = norm_log_table.loc[:,~norm_log_table.columns.duplicated()]\n",
    "norm_log_table[\"cancer\"] = sick"
   ]
  },
  {
   "cell_type": "code",
   "execution_count": 61,
   "metadata": {},
   "outputs": [
    {
     "data": {
      "text/html": [
       "<div>\n",
       "<style scoped>\n",
       "    .dataframe tbody tr th:only-of-type {\n",
       "        vertical-align: middle;\n",
       "    }\n",
       "\n",
       "    .dataframe tbody tr th {\n",
       "        vertical-align: top;\n",
       "    }\n",
       "\n",
       "    .dataframe thead th {\n",
       "        text-align: right;\n",
       "    }\n",
       "</style>\n",
       "<table border=\"1\" class=\"dataframe\">\n",
       "  <thead>\n",
       "    <tr style=\"text-align: right;\">\n",
       "      <th></th>\n",
       "      <th>ACUCAAAACCCUUCAGUGACUU</th>\n",
       "      <th>UUAGGGCCCUGGCUCCAUCUCC</th>\n",
       "      <th>AACAAUAUCCUGGUGCUGAGUG</th>\n",
       "      <th>CUCAUCUGCAAAGAAGUAAGUG</th>\n",
       "      <th>UCAGCAAACAUUUAUUGUGUGC</th>\n",
       "      <th>CAAACCACACUGUGGUGUUAGA</th>\n",
       "      <th>AACAUCACAGCAAGUCUGUGCU</th>\n",
       "      <th>AUCCUUGCUAUCUGGGUGCUA</th>\n",
       "      <th>UAGGUUAUCCGUGUUGCCUUCG</th>\n",
       "      <th>AAUGGCGCCACUAGGGUUGUG</th>\n",
       "      <th>...</th>\n",
       "      <th>AAGUAGUUGGUUUGUAUGAGAUGGUU</th>\n",
       "      <th>CUGACCUAUGAAUUGACAGCC</th>\n",
       "      <th>UAAGUGCUUCCAUGUUUGAGUGU</th>\n",
       "      <th>UACCCUGUAGAACCGAAUUUGUG</th>\n",
       "      <th>AAGCCCUUACCCCAAAAAGUAU</th>\n",
       "      <th>UGAGUGCCGGUGCCUGCCCUG</th>\n",
       "      <th>CAGGUCGUCUUGCAGGGCUUCU</th>\n",
       "      <th>ACUGGACUUAGGGUCAGAAGGC</th>\n",
       "      <th>AAGCUGCCAGUUGAAGAACUGU</th>\n",
       "      <th>cancer</th>\n",
       "    </tr>\n",
       "  </thead>\n",
       "  <tbody>\n",
       "    <tr>\n",
       "      <th>VALUE</th>\n",
       "      <td>5.653241</td>\n",
       "      <td>37.688751</td>\n",
       "      <td>29.893947</td>\n",
       "      <td>523.693279</td>\n",
       "      <td>72.091277</td>\n",
       "      <td>102.182793</td>\n",
       "      <td>122.950191</td>\n",
       "      <td>10.667541</td>\n",
       "      <td>1.000000</td>\n",
       "      <td>1232.595567</td>\n",
       "      <td>...</td>\n",
       "      <td>1.0</td>\n",
       "      <td>5515.939466</td>\n",
       "      <td>1.000000</td>\n",
       "      <td>45.783842</td>\n",
       "      <td>68.556959</td>\n",
       "      <td>54.531697</td>\n",
       "      <td>15.398713</td>\n",
       "      <td>341.261916</td>\n",
       "      <td>6069.108437</td>\n",
       "      <td>True</td>\n",
       "    </tr>\n",
       "    <tr>\n",
       "      <th>VALUE</th>\n",
       "      <td>1.000000</td>\n",
       "      <td>36.127979</td>\n",
       "      <td>42.218303</td>\n",
       "      <td>1015.585081</td>\n",
       "      <td>109.778599</td>\n",
       "      <td>149.095567</td>\n",
       "      <td>137.578408</td>\n",
       "      <td>4.984986</td>\n",
       "      <td>1.000000</td>\n",
       "      <td>2141.470686</td>\n",
       "      <td>...</td>\n",
       "      <td>1.0</td>\n",
       "      <td>1781.658484</td>\n",
       "      <td>1.000000</td>\n",
       "      <td>67.633699</td>\n",
       "      <td>92.819113</td>\n",
       "      <td>36.127979</td>\n",
       "      <td>16.551239</td>\n",
       "      <td>98.982126</td>\n",
       "      <td>4980.898951</td>\n",
       "      <td>True</td>\n",
       "    </tr>\n",
       "    <tr>\n",
       "      <th>VALUE</th>\n",
       "      <td>1.838179</td>\n",
       "      <td>43.823880</td>\n",
       "      <td>48.048856</td>\n",
       "      <td>1635.165157</td>\n",
       "      <td>148.378694</td>\n",
       "      <td>106.990705</td>\n",
       "      <td>148.378694</td>\n",
       "      <td>1.838179</td>\n",
       "      <td>1.000000</td>\n",
       "      <td>1506.186845</td>\n",
       "      <td>...</td>\n",
       "      <td>1.0</td>\n",
       "      <td>2990.154194</td>\n",
       "      <td>1.000000</td>\n",
       "      <td>75.206625</td>\n",
       "      <td>71.230934</td>\n",
       "      <td>40.182316</td>\n",
       "      <td>1.000000</td>\n",
       "      <td>75.206625</td>\n",
       "      <td>4980.898951</td>\n",
       "      <td>True</td>\n",
       "    </tr>\n",
       "    <tr>\n",
       "      <th>VALUE</th>\n",
       "      <td>17.422545</td>\n",
       "      <td>6.007865</td>\n",
       "      <td>54.870591</td>\n",
       "      <td>865.701859</td>\n",
       "      <td>100.727121</td>\n",
       "      <td>131.789323</td>\n",
       "      <td>218.082221</td>\n",
       "      <td>6.007865</td>\n",
       "      <td>1.000000</td>\n",
       "      <td>3306.918494</td>\n",
       "      <td>...</td>\n",
       "      <td>1.0</td>\n",
       "      <td>2782.872736</td>\n",
       "      <td>1.000000</td>\n",
       "      <td>110.959247</td>\n",
       "      <td>28.147045</td>\n",
       "      <td>54.870591</td>\n",
       "      <td>28.147045</td>\n",
       "      <td>100.727121</td>\n",
       "      <td>7052.158484</td>\n",
       "      <td>True</td>\n",
       "    </tr>\n",
       "    <tr>\n",
       "      <th>VALUE</th>\n",
       "      <td>64.709009</td>\n",
       "      <td>42.723785</td>\n",
       "      <td>31.321497</td>\n",
       "      <td>790.820424</td>\n",
       "      <td>18.199476</td>\n",
       "      <td>117.466873</td>\n",
       "      <td>84.659914</td>\n",
       "      <td>18.199476</td>\n",
       "      <td>18.199476</td>\n",
       "      <td>1745.642993</td>\n",
       "      <td>...</td>\n",
       "      <td>1.0</td>\n",
       "      <td>1395.469018</td>\n",
       "      <td>4.051716</td>\n",
       "      <td>64.709009</td>\n",
       "      <td>105.053146</td>\n",
       "      <td>117.466873</td>\n",
       "      <td>18.199476</td>\n",
       "      <td>105.053146</td>\n",
       "      <td>8272.852002</td>\n",
       "      <td>False</td>\n",
       "    </tr>\n",
       "  </tbody>\n",
       "</table>\n",
       "<p>5 rows × 838 columns</p>\n",
       "</div>"
      ],
      "text/plain": [
       "       ACUCAAAACCCUUCAGUGACUU  UUAGGGCCCUGGCUCCAUCUCC  AACAAUAUCCUGGUGCUGAGUG  \\\n",
       "VALUE                5.653241               37.688751               29.893947   \n",
       "VALUE                1.000000               36.127979               42.218303   \n",
       "VALUE                1.838179               43.823880               48.048856   \n",
       "VALUE               17.422545                6.007865               54.870591   \n",
       "VALUE               64.709009               42.723785               31.321497   \n",
       "\n",
       "       CUCAUCUGCAAAGAAGUAAGUG  UCAGCAAACAUUUAUUGUGUGC  CAAACCACACUGUGGUGUUAGA  \\\n",
       "VALUE              523.693279               72.091277              102.182793   \n",
       "VALUE             1015.585081              109.778599              149.095567   \n",
       "VALUE             1635.165157              148.378694              106.990705   \n",
       "VALUE              865.701859              100.727121              131.789323   \n",
       "VALUE              790.820424               18.199476              117.466873   \n",
       "\n",
       "       AACAUCACAGCAAGUCUGUGCU  AUCCUUGCUAUCUGGGUGCUA  UAGGUUAUCCGUGUUGCCUUCG  \\\n",
       "VALUE              122.950191              10.667541                1.000000   \n",
       "VALUE              137.578408               4.984986                1.000000   \n",
       "VALUE              148.378694               1.838179                1.000000   \n",
       "VALUE              218.082221               6.007865                1.000000   \n",
       "VALUE               84.659914              18.199476               18.199476   \n",
       "\n",
       "       AAUGGCGCCACUAGGGUUGUG  ...  AAGUAGUUGGUUUGUAUGAGAUGGUU  \\\n",
       "VALUE            1232.595567  ...                         1.0   \n",
       "VALUE            2141.470686  ...                         1.0   \n",
       "VALUE            1506.186845  ...                         1.0   \n",
       "VALUE            3306.918494  ...                         1.0   \n",
       "VALUE            1745.642993  ...                         1.0   \n",
       "\n",
       "       CUGACCUAUGAAUUGACAGCC  UAAGUGCUUCCAUGUUUGAGUGU  \\\n",
       "VALUE            5515.939466                 1.000000   \n",
       "VALUE            1781.658484                 1.000000   \n",
       "VALUE            2990.154194                 1.000000   \n",
       "VALUE            2782.872736                 1.000000   \n",
       "VALUE            1395.469018                 4.051716   \n",
       "\n",
       "       UACCCUGUAGAACCGAAUUUGUG  AAGCCCUUACCCCAAAAAGUAU  UGAGUGCCGGUGCCUGCCCUG  \\\n",
       "VALUE                45.783842               68.556959              54.531697   \n",
       "VALUE                67.633699               92.819113              36.127979   \n",
       "VALUE                75.206625               71.230934              40.182316   \n",
       "VALUE               110.959247               28.147045              54.870591   \n",
       "VALUE                64.709009              105.053146             117.466873   \n",
       "\n",
       "       CAGGUCGUCUUGCAGGGCUUCU  ACUGGACUUAGGGUCAGAAGGC  AAGCUGCCAGUUGAAGAACUGU  \\\n",
       "VALUE               15.398713              341.261916             6069.108437   \n",
       "VALUE               16.551239               98.982126             4980.898951   \n",
       "VALUE                1.000000               75.206625             4980.898951   \n",
       "VALUE               28.147045              100.727121             7052.158484   \n",
       "VALUE               18.199476              105.053146             8272.852002   \n",
       "\n",
       "       cancer  \n",
       "VALUE    True  \n",
       "VALUE    True  \n",
       "VALUE    True  \n",
       "VALUE    True  \n",
       "VALUE   False  \n",
       "\n",
       "[5 rows x 838 columns]"
      ]
     },
     "execution_count": 61,
     "metadata": {},
     "output_type": "execute_result"
    }
   ],
   "source": [
    "norm_log_table.head()"
   ]
  },
  {
   "cell_type": "code",
   "execution_count": 62,
   "metadata": {},
   "outputs": [],
   "source": [
    "norm_log_table.to_csv(\"../TransformedData/Keller2014_raw.csv\", index=False)"
   ]
  },
  {
   "cell_type": "code",
   "execution_count": null,
   "metadata": {},
   "outputs": [],
   "source": []
  }
 ],
 "metadata": {
  "kernelspec": {
   "display_name": "Python 3 (ipykernel)",
   "language": "python",
   "name": "python3"
  },
  "language_info": {
   "codemirror_mode": {
    "name": "ipython",
    "version": 3
   },
   "file_extension": ".py",
   "mimetype": "text/x-python",
   "name": "python",
   "nbconvert_exporter": "python",
   "pygments_lexer": "ipython3",
   "version": "3.10.1"
  }
 },
 "nbformat": 4,
 "nbformat_minor": 4
}
