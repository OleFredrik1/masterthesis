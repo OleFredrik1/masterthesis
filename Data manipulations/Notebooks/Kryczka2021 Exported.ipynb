{
 "cells": [
  {
   "cell_type": "code",
   "execution_count": 1,
   "metadata": {
    "tags": []
   },
   "outputs": [],
   "source": [
    "%matplotlib inline\n",
    "import GEOparse\n",
    "import matplotlib.pyplot as plt\n",
    "import pandas as pd\n",
    "import numpy as np\n",
    "from sklearn import decomposition\n",
    "from sklearn.feature_selection import f_classif\n",
    "from sklearn.linear_model import LinearRegression, LogisticRegression\n",
    "from sklearn.metrics import explained_variance_score, plot_roc_curve\n",
    "import statsmodels.api as sm\n",
    "from scipy.stats import ttest_ind\n",
    "from xgboost import XGBClassifier\n",
    "from sklearn.model_selection import train_test_split\n",
    "from sklego.linear_model import LowessRegression\n",
    "import os\n",
    "import re"
   ]
  },
  {
   "cell_type": "markdown",
   "metadata": {},
   "source": [
    "### Reading in from external source"
   ]
  },
  {
   "cell_type": "code",
   "execution_count": 2,
   "metadata": {},
   "outputs": [
    {
     "data": {
      "text/html": [
       "<div>\n",
       "<style scoped>\n",
       "    .dataframe tbody tr th:only-of-type {\n",
       "        vertical-align: middle;\n",
       "    }\n",
       "\n",
       "    .dataframe tbody tr th {\n",
       "        vertical-align: top;\n",
       "    }\n",
       "\n",
       "    .dataframe thead th {\n",
       "        text-align: right;\n",
       "    }\n",
       "</style>\n",
       "<table border=\"1\" class=\"dataframe\">\n",
       "  <thead>\n",
       "    <tr style=\"text-align: right;\">\n",
       "      <th></th>\n",
       "      <th>type</th>\n",
       "      <th>hsa-let-7i</th>\n",
       "      <th>hsa-miR-1228</th>\n",
       "      <th>hsa-miR-23a</th>\n",
       "      <th>hsa-miR-361</th>\n",
       "    </tr>\n",
       "  </thead>\n",
       "  <tbody>\n",
       "    <tr>\n",
       "      <th>0</th>\n",
       "      <td>cancer</td>\n",
       "      <td>0.1622</td>\n",
       "      <td>6.2868</td>\n",
       "      <td>0.0957</td>\n",
       "      <td>0.1591</td>\n",
       "    </tr>\n",
       "    <tr>\n",
       "      <th>1</th>\n",
       "      <td>cancer</td>\n",
       "      <td>0.3414</td>\n",
       "      <td>6.0746</td>\n",
       "      <td>0.1842</td>\n",
       "      <td>0.1646</td>\n",
       "    </tr>\n",
       "    <tr>\n",
       "      <th>2</th>\n",
       "      <td>cancer</td>\n",
       "      <td>0.2141</td>\n",
       "      <td>4.4213</td>\n",
       "      <td>0.1575</td>\n",
       "      <td>0.2262</td>\n",
       "    </tr>\n",
       "    <tr>\n",
       "      <th>3</th>\n",
       "      <td>cancer</td>\n",
       "      <td>0.1276</td>\n",
       "      <td>17.7062</td>\n",
       "      <td>0.0244</td>\n",
       "      <td>0.0565</td>\n",
       "    </tr>\n",
       "    <tr>\n",
       "      <th>4</th>\n",
       "      <td>cancer</td>\n",
       "      <td>0.8263</td>\n",
       "      <td>3.7514</td>\n",
       "      <td>0.2196</td>\n",
       "      <td>0.2666</td>\n",
       "    </tr>\n",
       "    <tr>\n",
       "      <th>5</th>\n",
       "      <td>cancer</td>\n",
       "      <td>0.0661</td>\n",
       "      <td>20.2151</td>\n",
       "      <td>0.0010</td>\n",
       "      <td>0.0495</td>\n",
       "    </tr>\n",
       "    <tr>\n",
       "      <th>6</th>\n",
       "      <td>cancer</td>\n",
       "      <td>0.4725</td>\n",
       "      <td>6.5096</td>\n",
       "      <td>0.0895</td>\n",
       "      <td>0.1536</td>\n",
       "    </tr>\n",
       "    <tr>\n",
       "      <th>7</th>\n",
       "      <td>cancer</td>\n",
       "      <td>0.1455</td>\n",
       "      <td>8.0890</td>\n",
       "      <td>0.0659</td>\n",
       "      <td>0.1236</td>\n",
       "    </tr>\n",
       "    <tr>\n",
       "      <th>8</th>\n",
       "      <td>cancer</td>\n",
       "      <td>0.1815</td>\n",
       "      <td>7.4410</td>\n",
       "      <td>0.0898</td>\n",
       "      <td>0.1344</td>\n",
       "    </tr>\n",
       "    <tr>\n",
       "      <th>9</th>\n",
       "      <td>cancer</td>\n",
       "      <td>0.0743</td>\n",
       "      <td>7.7622</td>\n",
       "      <td>0.0323</td>\n",
       "      <td>0.1288</td>\n",
       "    </tr>\n",
       "    <tr>\n",
       "      <th>10</th>\n",
       "      <td>cancer</td>\n",
       "      <td>0.3716</td>\n",
       "      <td>2.9993</td>\n",
       "      <td>0.1933</td>\n",
       "      <td>0.3334</td>\n",
       "    </tr>\n",
       "    <tr>\n",
       "      <th>11</th>\n",
       "      <td>cancer</td>\n",
       "      <td>0.2593</td>\n",
       "      <td>10.3670</td>\n",
       "      <td>0.0610</td>\n",
       "      <td>0.0965</td>\n",
       "    </tr>\n",
       "    <tr>\n",
       "      <th>12</th>\n",
       "      <td>cancer</td>\n",
       "      <td>0.1227</td>\n",
       "      <td>19.3806</td>\n",
       "      <td>0.0006</td>\n",
       "      <td>0.0516</td>\n",
       "    </tr>\n",
       "    <tr>\n",
       "      <th>13</th>\n",
       "      <td>cancer</td>\n",
       "      <td>0.4919</td>\n",
       "      <td>26.2372</td>\n",
       "      <td>0.0042</td>\n",
       "      <td>0.0381</td>\n",
       "    </tr>\n",
       "    <tr>\n",
       "      <th>14</th>\n",
       "      <td>cancer</td>\n",
       "      <td>0.0559</td>\n",
       "      <td>5.1750</td>\n",
       "      <td>0.0698</td>\n",
       "      <td>0.1932</td>\n",
       "    </tr>\n",
       "    <tr>\n",
       "      <th>15</th>\n",
       "      <td>cancer</td>\n",
       "      <td>0.5393</td>\n",
       "      <td>4.5263</td>\n",
       "      <td>0.1066</td>\n",
       "      <td>0.2209</td>\n",
       "    </tr>\n",
       "    <tr>\n",
       "      <th>16</th>\n",
       "      <td>cancer</td>\n",
       "      <td>0.1080</td>\n",
       "      <td>5.0975</td>\n",
       "      <td>0.0390</td>\n",
       "      <td>0.1962</td>\n",
       "    </tr>\n",
       "    <tr>\n",
       "      <th>17</th>\n",
       "      <td>cancer</td>\n",
       "      <td>0.1559</td>\n",
       "      <td>4.9007</td>\n",
       "      <td>0.0954</td>\n",
       "      <td>0.2041</td>\n",
       "    </tr>\n",
       "    <tr>\n",
       "      <th>18</th>\n",
       "      <td>cancer</td>\n",
       "      <td>0.3713</td>\n",
       "      <td>5.3627</td>\n",
       "      <td>0.1338</td>\n",
       "      <td>0.1865</td>\n",
       "    </tr>\n",
       "    <tr>\n",
       "      <th>19</th>\n",
       "      <td>cancer</td>\n",
       "      <td>0.0764</td>\n",
       "      <td>5.3746</td>\n",
       "      <td>0.0036</td>\n",
       "      <td>0.1861</td>\n",
       "    </tr>\n",
       "    <tr>\n",
       "      <th>20</th>\n",
       "      <td>cancer</td>\n",
       "      <td>0.0717</td>\n",
       "      <td>5.6611</td>\n",
       "      <td>0.0014</td>\n",
       "      <td>0.1766</td>\n",
       "    </tr>\n",
       "    <tr>\n",
       "      <th>21</th>\n",
       "      <td>cancer</td>\n",
       "      <td>0.1594</td>\n",
       "      <td>4.6440</td>\n",
       "      <td>0.0030</td>\n",
       "      <td>0.2153</td>\n",
       "    </tr>\n",
       "    <tr>\n",
       "      <th>22</th>\n",
       "      <td>cancer</td>\n",
       "      <td>0.0476</td>\n",
       "      <td>12.6911</td>\n",
       "      <td>0.0005</td>\n",
       "      <td>0.0788</td>\n",
       "    </tr>\n",
       "    <tr>\n",
       "      <th>23</th>\n",
       "      <td>cancer</td>\n",
       "      <td>0.0179</td>\n",
       "      <td>2.0493</td>\n",
       "      <td>0.0004</td>\n",
       "      <td>0.4880</td>\n",
       "    </tr>\n",
       "    <tr>\n",
       "      <th>24</th>\n",
       "      <td>cancer</td>\n",
       "      <td>0.0042</td>\n",
       "      <td>7.7430</td>\n",
       "      <td>0.0001</td>\n",
       "      <td>0.1291</td>\n",
       "    </tr>\n",
       "    <tr>\n",
       "      <th>25</th>\n",
       "      <td>cancer</td>\n",
       "      <td>0.1019</td>\n",
       "      <td>7.9513</td>\n",
       "      <td>0.0010</td>\n",
       "      <td>0.1258</td>\n",
       "    </tr>\n",
       "    <tr>\n",
       "      <th>26</th>\n",
       "      <td>cancer</td>\n",
       "      <td>0.0377</td>\n",
       "      <td>4.1524</td>\n",
       "      <td>0.0012</td>\n",
       "      <td>0.2408</td>\n",
       "    </tr>\n",
       "    <tr>\n",
       "      <th>27</th>\n",
       "      <td>cancer</td>\n",
       "      <td>0.0327</td>\n",
       "      <td>7.3671</td>\n",
       "      <td>0.0015</td>\n",
       "      <td>0.1357</td>\n",
       "    </tr>\n",
       "    <tr>\n",
       "      <th>28</th>\n",
       "      <td>cancer</td>\n",
       "      <td>0.0681</td>\n",
       "      <td>1.5515</td>\n",
       "      <td>0.0003</td>\n",
       "      <td>0.6446</td>\n",
       "    </tr>\n",
       "    <tr>\n",
       "      <th>29</th>\n",
       "      <td>cancer</td>\n",
       "      <td>0.0944</td>\n",
       "      <td>2.3986</td>\n",
       "      <td>0.0096</td>\n",
       "      <td>0.4169</td>\n",
       "    </tr>\n",
       "    <tr>\n",
       "      <th>30</th>\n",
       "      <td>cancer</td>\n",
       "      <td>0.1812</td>\n",
       "      <td>5.6097</td>\n",
       "      <td>0.0019</td>\n",
       "      <td>0.1783</td>\n",
       "    </tr>\n",
       "    <tr>\n",
       "      <th>31</th>\n",
       "      <td>control</td>\n",
       "      <td>0.7161</td>\n",
       "      <td>1.6890</td>\n",
       "      <td>0.1756</td>\n",
       "      <td>0.5921</td>\n",
       "    </tr>\n",
       "    <tr>\n",
       "      <th>32</th>\n",
       "      <td>control</td>\n",
       "      <td>0.3038</td>\n",
       "      <td>6.0587</td>\n",
       "      <td>0.0798</td>\n",
       "      <td>0.1651</td>\n",
       "    </tr>\n",
       "    <tr>\n",
       "      <th>33</th>\n",
       "      <td>control</td>\n",
       "      <td>0.2134</td>\n",
       "      <td>8.1024</td>\n",
       "      <td>0.0572</td>\n",
       "      <td>0.1234</td>\n",
       "    </tr>\n",
       "    <tr>\n",
       "      <th>34</th>\n",
       "      <td>control</td>\n",
       "      <td>0.3660</td>\n",
       "      <td>4.6669</td>\n",
       "      <td>0.1085</td>\n",
       "      <td>0.2143</td>\n",
       "    </tr>\n",
       "    <tr>\n",
       "      <th>35</th>\n",
       "      <td>control</td>\n",
       "      <td>0.1080</td>\n",
       "      <td>7.0626</td>\n",
       "      <td>0.0106</td>\n",
       "      <td>0.1416</td>\n",
       "    </tr>\n",
       "    <tr>\n",
       "      <th>36</th>\n",
       "      <td>control</td>\n",
       "      <td>1.3783</td>\n",
       "      <td>2.2715</td>\n",
       "      <td>0.2024</td>\n",
       "      <td>0.4402</td>\n",
       "    </tr>\n",
       "    <tr>\n",
       "      <th>37</th>\n",
       "      <td>control</td>\n",
       "      <td>0.6365</td>\n",
       "      <td>5.5276</td>\n",
       "      <td>0.0866</td>\n",
       "      <td>0.1809</td>\n",
       "    </tr>\n",
       "    <tr>\n",
       "      <th>38</th>\n",
       "      <td>control</td>\n",
       "      <td>0.6591</td>\n",
       "      <td>2.9040</td>\n",
       "      <td>0.1691</td>\n",
       "      <td>0.3444</td>\n",
       "    </tr>\n",
       "    <tr>\n",
       "      <th>39</th>\n",
       "      <td>control</td>\n",
       "      <td>0.1463</td>\n",
       "      <td>13.4883</td>\n",
       "      <td>0.0441</td>\n",
       "      <td>0.0741</td>\n",
       "    </tr>\n",
       "    <tr>\n",
       "      <th>40</th>\n",
       "      <td>control</td>\n",
       "      <td>0.7689</td>\n",
       "      <td>3.8362</td>\n",
       "      <td>0.1660</td>\n",
       "      <td>0.2607</td>\n",
       "    </tr>\n",
       "    <tr>\n",
       "      <th>41</th>\n",
       "      <td>control</td>\n",
       "      <td>0.2069</td>\n",
       "      <td>7.5550</td>\n",
       "      <td>0.0784</td>\n",
       "      <td>0.1324</td>\n",
       "    </tr>\n",
       "    <tr>\n",
       "      <th>42</th>\n",
       "      <td>control</td>\n",
       "      <td>0.3883</td>\n",
       "      <td>4.2818</td>\n",
       "      <td>0.1582</td>\n",
       "      <td>0.2335</td>\n",
       "    </tr>\n",
       "    <tr>\n",
       "      <th>43</th>\n",
       "      <td>control</td>\n",
       "      <td>0.3824</td>\n",
       "      <td>4.0111</td>\n",
       "      <td>0.2081</td>\n",
       "      <td>0.2493</td>\n",
       "    </tr>\n",
       "    <tr>\n",
       "      <th>44</th>\n",
       "      <td>control</td>\n",
       "      <td>0.2452</td>\n",
       "      <td>6.0648</td>\n",
       "      <td>0.0840</td>\n",
       "      <td>0.1649</td>\n",
       "    </tr>\n",
       "    <tr>\n",
       "      <th>45</th>\n",
       "      <td>control</td>\n",
       "      <td>0.1041</td>\n",
       "      <td>9.8785</td>\n",
       "      <td>0.0579</td>\n",
       "      <td>0.1012</td>\n",
       "    </tr>\n",
       "    <tr>\n",
       "      <th>46</th>\n",
       "      <td>control</td>\n",
       "      <td>0.2870</td>\n",
       "      <td>4.5412</td>\n",
       "      <td>0.1419</td>\n",
       "      <td>0.2202</td>\n",
       "    </tr>\n",
       "    <tr>\n",
       "      <th>47</th>\n",
       "      <td>control</td>\n",
       "      <td>0.1192</td>\n",
       "      <td>6.8040</td>\n",
       "      <td>0.0559</td>\n",
       "      <td>0.1470</td>\n",
       "    </tr>\n",
       "    <tr>\n",
       "      <th>48</th>\n",
       "      <td>control</td>\n",
       "      <td>0.0774</td>\n",
       "      <td>12.6026</td>\n",
       "      <td>0.0522</td>\n",
       "      <td>0.0793</td>\n",
       "    </tr>\n",
       "    <tr>\n",
       "      <th>49</th>\n",
       "      <td>control</td>\n",
       "      <td>0.2392</td>\n",
       "      <td>5.6367</td>\n",
       "      <td>0.1153</td>\n",
       "      <td>0.1774</td>\n",
       "    </tr>\n",
       "    <tr>\n",
       "      <th>50</th>\n",
       "      <td>control</td>\n",
       "      <td>0.1500</td>\n",
       "      <td>9.3954</td>\n",
       "      <td>0.0425</td>\n",
       "      <td>0.1064</td>\n",
       "    </tr>\n",
       "    <tr>\n",
       "      <th>51</th>\n",
       "      <td>control</td>\n",
       "      <td>0.2602</td>\n",
       "      <td>5.1856</td>\n",
       "      <td>0.1540</td>\n",
       "      <td>0.1928</td>\n",
       "    </tr>\n",
       "  </tbody>\n",
       "</table>\n",
       "</div>"
      ],
      "text/plain": [
       "       type  hsa-let-7i  hsa-miR-1228  hsa-miR-23a  hsa-miR-361\n",
       "0    cancer      0.1622        6.2868       0.0957       0.1591\n",
       "1    cancer      0.3414        6.0746       0.1842       0.1646\n",
       "2    cancer      0.2141        4.4213       0.1575       0.2262\n",
       "3    cancer      0.1276       17.7062       0.0244       0.0565\n",
       "4    cancer      0.8263        3.7514       0.2196       0.2666\n",
       "5    cancer      0.0661       20.2151       0.0010       0.0495\n",
       "6    cancer      0.4725        6.5096       0.0895       0.1536\n",
       "7    cancer      0.1455        8.0890       0.0659       0.1236\n",
       "8    cancer      0.1815        7.4410       0.0898       0.1344\n",
       "9    cancer      0.0743        7.7622       0.0323       0.1288\n",
       "10   cancer      0.3716        2.9993       0.1933       0.3334\n",
       "11   cancer      0.2593       10.3670       0.0610       0.0965\n",
       "12   cancer      0.1227       19.3806       0.0006       0.0516\n",
       "13   cancer      0.4919       26.2372       0.0042       0.0381\n",
       "14   cancer      0.0559        5.1750       0.0698       0.1932\n",
       "15   cancer      0.5393        4.5263       0.1066       0.2209\n",
       "16   cancer      0.1080        5.0975       0.0390       0.1962\n",
       "17   cancer      0.1559        4.9007       0.0954       0.2041\n",
       "18   cancer      0.3713        5.3627       0.1338       0.1865\n",
       "19   cancer      0.0764        5.3746       0.0036       0.1861\n",
       "20   cancer      0.0717        5.6611       0.0014       0.1766\n",
       "21   cancer      0.1594        4.6440       0.0030       0.2153\n",
       "22   cancer      0.0476       12.6911       0.0005       0.0788\n",
       "23   cancer      0.0179        2.0493       0.0004       0.4880\n",
       "24   cancer      0.0042        7.7430       0.0001       0.1291\n",
       "25   cancer      0.1019        7.9513       0.0010       0.1258\n",
       "26   cancer      0.0377        4.1524       0.0012       0.2408\n",
       "27   cancer      0.0327        7.3671       0.0015       0.1357\n",
       "28   cancer      0.0681        1.5515       0.0003       0.6446\n",
       "29   cancer      0.0944        2.3986       0.0096       0.4169\n",
       "30   cancer      0.1812        5.6097       0.0019       0.1783\n",
       "31  control      0.7161        1.6890       0.1756       0.5921\n",
       "32  control      0.3038        6.0587       0.0798       0.1651\n",
       "33  control      0.2134        8.1024       0.0572       0.1234\n",
       "34  control      0.3660        4.6669       0.1085       0.2143\n",
       "35  control      0.1080        7.0626       0.0106       0.1416\n",
       "36  control      1.3783        2.2715       0.2024       0.4402\n",
       "37  control      0.6365        5.5276       0.0866       0.1809\n",
       "38  control      0.6591        2.9040       0.1691       0.3444\n",
       "39  control      0.1463       13.4883       0.0441       0.0741\n",
       "40  control      0.7689        3.8362       0.1660       0.2607\n",
       "41  control      0.2069        7.5550       0.0784       0.1324\n",
       "42  control      0.3883        4.2818       0.1582       0.2335\n",
       "43  control      0.3824        4.0111       0.2081       0.2493\n",
       "44  control      0.2452        6.0648       0.0840       0.1649\n",
       "45  control      0.1041        9.8785       0.0579       0.1012\n",
       "46  control      0.2870        4.5412       0.1419       0.2202\n",
       "47  control      0.1192        6.8040       0.0559       0.1470\n",
       "48  control      0.0774       12.6026       0.0522       0.0793\n",
       "49  control      0.2392        5.6367       0.1153       0.1774\n",
       "50  control      0.1500        9.3954       0.0425       0.1064\n",
       "51  control      0.2602        5.1856       0.1540       0.1928"
      ]
     },
     "execution_count": 2,
     "metadata": {},
     "output_type": "execute_result"
    }
   ],
   "source": [
    "data = pd.read_csv(\"../Dataset/Kryczka2021/data.csv\")\n",
    "data"
   ]
  },
  {
   "cell_type": "code",
   "execution_count": 3,
   "metadata": {},
   "outputs": [],
   "source": [
    "table = data.iloc[:, 1:]\n",
    "mirnas = data.columns[1:]"
   ]
  },
  {
   "cell_type": "markdown",
   "metadata": {},
   "source": [
    "### Seperate case and controls"
   ]
  },
  {
   "cell_type": "code",
   "execution_count": 4,
   "metadata": {},
   "outputs": [],
   "source": [
    "controls = data[\"type\"] == \"control\"\n",
    "sick = 1 - controls"
   ]
  },
  {
   "cell_type": "code",
   "execution_count": 5,
   "metadata": {},
   "outputs": [
    {
     "data": {
      "text/plain": [
       "21"
      ]
     },
     "execution_count": 5,
     "metadata": {},
     "output_type": "execute_result"
    }
   ],
   "source": [
    "sum(controls)"
   ]
  },
  {
   "cell_type": "markdown",
   "metadata": {},
   "source": [
    "### Drop NAN"
   ]
  },
  {
   "cell_type": "code",
   "execution_count": 6,
   "metadata": {},
   "outputs": [
    {
     "name": "stderr",
     "output_type": "stream",
     "text": [
      "C:\\Users\\olefr\\AppData\\Local\\Temp/ipykernel_11360/1927661217.py:1: FutureWarning: In a future version of pandas all arguments of DataFrame.dropna will be keyword-only\n",
      "  table = table.dropna(1)\n"
     ]
    }
   ],
   "source": [
    "table = table.dropna(1)"
   ]
  },
  {
   "cell_type": "markdown",
   "metadata": {},
   "source": [
    "### T-test"
   ]
  },
  {
   "cell_type": "code",
   "execution_count": 7,
   "metadata": {},
   "outputs": [],
   "source": [
    "X = table"
   ]
  },
  {
   "cell_type": "code",
   "execution_count": 8,
   "metadata": {},
   "outputs": [],
   "source": [
    "X_healthy, X_cancer = X[controls == 1], X[sick == 1]"
   ]
  },
  {
   "cell_type": "code",
   "execution_count": 9,
   "metadata": {},
   "outputs": [],
   "source": [
    "results = ttest_ind(X_healthy, X_cancer).pvalue"
   ]
  },
  {
   "cell_type": "code",
   "execution_count": 10,
   "metadata": {},
   "outputs": [],
   "source": [
    "lowest, pvalues = np.argsort(results)[:5], np.sort(results)[:5]"
   ]
  },
  {
   "cell_type": "code",
   "execution_count": 11,
   "metadata": {},
   "outputs": [
    {
     "data": {
      "text/plain": [
       "(Index(['hsa-miR-23a', 'hsa-let-7i', 'hsa-miR-1228', 'hsa-miR-361'], dtype='object'),\n",
       " array([0.0049308 , 0.0138448 , 0.29366133, 0.71582993]))"
      ]
     },
     "execution_count": 11,
     "metadata": {},
     "output_type": "execute_result"
    }
   ],
   "source": [
    "mirnas[lowest], pvalues"
   ]
  },
  {
   "cell_type": "markdown",
   "metadata": {},
   "source": [
    "### F-test"
   ]
  },
  {
   "cell_type": "code",
   "execution_count": 12,
   "metadata": {},
   "outputs": [],
   "source": [
    "t3 = table"
   ]
  },
  {
   "cell_type": "code",
   "execution_count": 13,
   "metadata": {},
   "outputs": [],
   "source": [
    "f, p = f_classif(t3, sick)"
   ]
  },
  {
   "cell_type": "code",
   "execution_count": 14,
   "metadata": {},
   "outputs": [
    {
     "data": {
      "text/plain": [
       "0.257066714406117"
      ]
     },
     "execution_count": 14,
     "metadata": {},
     "output_type": "execute_result"
    }
   ],
   "source": [
    "np.mean(p)"
   ]
  },
  {
   "cell_type": "markdown",
   "metadata": {},
   "source": [
    "### ANOVA"
   ]
  },
  {
   "cell_type": "code",
   "execution_count": 15,
   "metadata": {},
   "outputs": [
    {
     "data": {
      "text/html": [
       "<div>\n",
       "<style scoped>\n",
       "    .dataframe tbody tr th:only-of-type {\n",
       "        vertical-align: middle;\n",
       "    }\n",
       "\n",
       "    .dataframe tbody tr th {\n",
       "        vertical-align: top;\n",
       "    }\n",
       "\n",
       "    .dataframe thead th {\n",
       "        text-align: right;\n",
       "    }\n",
       "</style>\n",
       "<table border=\"1\" class=\"dataframe\">\n",
       "  <thead>\n",
       "    <tr style=\"text-align: right;\">\n",
       "      <th></th>\n",
       "      <th>hsa-let-7i</th>\n",
       "      <th>hsa-miR-1228</th>\n",
       "      <th>hsa-miR-23a</th>\n",
       "      <th>hsa-miR-361</th>\n",
       "    </tr>\n",
       "  </thead>\n",
       "  <tbody>\n",
       "    <tr>\n",
       "      <th>0</th>\n",
       "      <td>0.1622</td>\n",
       "      <td>6.2868</td>\n",
       "      <td>0.0957</td>\n",
       "      <td>0.1591</td>\n",
       "    </tr>\n",
       "    <tr>\n",
       "      <th>1</th>\n",
       "      <td>0.3414</td>\n",
       "      <td>6.0746</td>\n",
       "      <td>0.1842</td>\n",
       "      <td>0.1646</td>\n",
       "    </tr>\n",
       "    <tr>\n",
       "      <th>2</th>\n",
       "      <td>0.2141</td>\n",
       "      <td>4.4213</td>\n",
       "      <td>0.1575</td>\n",
       "      <td>0.2262</td>\n",
       "    </tr>\n",
       "    <tr>\n",
       "      <th>3</th>\n",
       "      <td>0.1276</td>\n",
       "      <td>17.7062</td>\n",
       "      <td>0.0244</td>\n",
       "      <td>0.0565</td>\n",
       "    </tr>\n",
       "    <tr>\n",
       "      <th>4</th>\n",
       "      <td>0.8263</td>\n",
       "      <td>3.7514</td>\n",
       "      <td>0.2196</td>\n",
       "      <td>0.2666</td>\n",
       "    </tr>\n",
       "    <tr>\n",
       "      <th>5</th>\n",
       "      <td>0.0661</td>\n",
       "      <td>20.2151</td>\n",
       "      <td>0.0010</td>\n",
       "      <td>0.0495</td>\n",
       "    </tr>\n",
       "    <tr>\n",
       "      <th>6</th>\n",
       "      <td>0.4725</td>\n",
       "      <td>6.5096</td>\n",
       "      <td>0.0895</td>\n",
       "      <td>0.1536</td>\n",
       "    </tr>\n",
       "    <tr>\n",
       "      <th>7</th>\n",
       "      <td>0.1455</td>\n",
       "      <td>8.0890</td>\n",
       "      <td>0.0659</td>\n",
       "      <td>0.1236</td>\n",
       "    </tr>\n",
       "    <tr>\n",
       "      <th>8</th>\n",
       "      <td>0.1815</td>\n",
       "      <td>7.4410</td>\n",
       "      <td>0.0898</td>\n",
       "      <td>0.1344</td>\n",
       "    </tr>\n",
       "    <tr>\n",
       "      <th>9</th>\n",
       "      <td>0.0743</td>\n",
       "      <td>7.7622</td>\n",
       "      <td>0.0323</td>\n",
       "      <td>0.1288</td>\n",
       "    </tr>\n",
       "    <tr>\n",
       "      <th>10</th>\n",
       "      <td>0.3716</td>\n",
       "      <td>2.9993</td>\n",
       "      <td>0.1933</td>\n",
       "      <td>0.3334</td>\n",
       "    </tr>\n",
       "    <tr>\n",
       "      <th>11</th>\n",
       "      <td>0.2593</td>\n",
       "      <td>10.3670</td>\n",
       "      <td>0.0610</td>\n",
       "      <td>0.0965</td>\n",
       "    </tr>\n",
       "    <tr>\n",
       "      <th>12</th>\n",
       "      <td>0.1227</td>\n",
       "      <td>19.3806</td>\n",
       "      <td>0.0006</td>\n",
       "      <td>0.0516</td>\n",
       "    </tr>\n",
       "    <tr>\n",
       "      <th>13</th>\n",
       "      <td>0.4919</td>\n",
       "      <td>26.2372</td>\n",
       "      <td>0.0042</td>\n",
       "      <td>0.0381</td>\n",
       "    </tr>\n",
       "    <tr>\n",
       "      <th>14</th>\n",
       "      <td>0.0559</td>\n",
       "      <td>5.1750</td>\n",
       "      <td>0.0698</td>\n",
       "      <td>0.1932</td>\n",
       "    </tr>\n",
       "    <tr>\n",
       "      <th>15</th>\n",
       "      <td>0.5393</td>\n",
       "      <td>4.5263</td>\n",
       "      <td>0.1066</td>\n",
       "      <td>0.2209</td>\n",
       "    </tr>\n",
       "    <tr>\n",
       "      <th>16</th>\n",
       "      <td>0.1080</td>\n",
       "      <td>5.0975</td>\n",
       "      <td>0.0390</td>\n",
       "      <td>0.1962</td>\n",
       "    </tr>\n",
       "    <tr>\n",
       "      <th>17</th>\n",
       "      <td>0.1559</td>\n",
       "      <td>4.9007</td>\n",
       "      <td>0.0954</td>\n",
       "      <td>0.2041</td>\n",
       "    </tr>\n",
       "    <tr>\n",
       "      <th>18</th>\n",
       "      <td>0.3713</td>\n",
       "      <td>5.3627</td>\n",
       "      <td>0.1338</td>\n",
       "      <td>0.1865</td>\n",
       "    </tr>\n",
       "    <tr>\n",
       "      <th>19</th>\n",
       "      <td>0.0764</td>\n",
       "      <td>5.3746</td>\n",
       "      <td>0.0036</td>\n",
       "      <td>0.1861</td>\n",
       "    </tr>\n",
       "    <tr>\n",
       "      <th>20</th>\n",
       "      <td>0.0717</td>\n",
       "      <td>5.6611</td>\n",
       "      <td>0.0014</td>\n",
       "      <td>0.1766</td>\n",
       "    </tr>\n",
       "    <tr>\n",
       "      <th>21</th>\n",
       "      <td>0.1594</td>\n",
       "      <td>4.6440</td>\n",
       "      <td>0.0030</td>\n",
       "      <td>0.2153</td>\n",
       "    </tr>\n",
       "    <tr>\n",
       "      <th>22</th>\n",
       "      <td>0.0476</td>\n",
       "      <td>12.6911</td>\n",
       "      <td>0.0005</td>\n",
       "      <td>0.0788</td>\n",
       "    </tr>\n",
       "    <tr>\n",
       "      <th>23</th>\n",
       "      <td>0.0179</td>\n",
       "      <td>2.0493</td>\n",
       "      <td>0.0004</td>\n",
       "      <td>0.4880</td>\n",
       "    </tr>\n",
       "    <tr>\n",
       "      <th>24</th>\n",
       "      <td>0.0042</td>\n",
       "      <td>7.7430</td>\n",
       "      <td>0.0001</td>\n",
       "      <td>0.1291</td>\n",
       "    </tr>\n",
       "    <tr>\n",
       "      <th>25</th>\n",
       "      <td>0.1019</td>\n",
       "      <td>7.9513</td>\n",
       "      <td>0.0010</td>\n",
       "      <td>0.1258</td>\n",
       "    </tr>\n",
       "    <tr>\n",
       "      <th>26</th>\n",
       "      <td>0.0377</td>\n",
       "      <td>4.1524</td>\n",
       "      <td>0.0012</td>\n",
       "      <td>0.2408</td>\n",
       "    </tr>\n",
       "    <tr>\n",
       "      <th>27</th>\n",
       "      <td>0.0327</td>\n",
       "      <td>7.3671</td>\n",
       "      <td>0.0015</td>\n",
       "      <td>0.1357</td>\n",
       "    </tr>\n",
       "    <tr>\n",
       "      <th>28</th>\n",
       "      <td>0.0681</td>\n",
       "      <td>1.5515</td>\n",
       "      <td>0.0003</td>\n",
       "      <td>0.6446</td>\n",
       "    </tr>\n",
       "    <tr>\n",
       "      <th>29</th>\n",
       "      <td>0.0944</td>\n",
       "      <td>2.3986</td>\n",
       "      <td>0.0096</td>\n",
       "      <td>0.4169</td>\n",
       "    </tr>\n",
       "    <tr>\n",
       "      <th>30</th>\n",
       "      <td>0.1812</td>\n",
       "      <td>5.6097</td>\n",
       "      <td>0.0019</td>\n",
       "      <td>0.1783</td>\n",
       "    </tr>\n",
       "    <tr>\n",
       "      <th>31</th>\n",
       "      <td>0.7161</td>\n",
       "      <td>1.6890</td>\n",
       "      <td>0.1756</td>\n",
       "      <td>0.5921</td>\n",
       "    </tr>\n",
       "    <tr>\n",
       "      <th>32</th>\n",
       "      <td>0.3038</td>\n",
       "      <td>6.0587</td>\n",
       "      <td>0.0798</td>\n",
       "      <td>0.1651</td>\n",
       "    </tr>\n",
       "    <tr>\n",
       "      <th>33</th>\n",
       "      <td>0.2134</td>\n",
       "      <td>8.1024</td>\n",
       "      <td>0.0572</td>\n",
       "      <td>0.1234</td>\n",
       "    </tr>\n",
       "    <tr>\n",
       "      <th>34</th>\n",
       "      <td>0.3660</td>\n",
       "      <td>4.6669</td>\n",
       "      <td>0.1085</td>\n",
       "      <td>0.2143</td>\n",
       "    </tr>\n",
       "    <tr>\n",
       "      <th>35</th>\n",
       "      <td>0.1080</td>\n",
       "      <td>7.0626</td>\n",
       "      <td>0.0106</td>\n",
       "      <td>0.1416</td>\n",
       "    </tr>\n",
       "    <tr>\n",
       "      <th>36</th>\n",
       "      <td>1.3783</td>\n",
       "      <td>2.2715</td>\n",
       "      <td>0.2024</td>\n",
       "      <td>0.4402</td>\n",
       "    </tr>\n",
       "    <tr>\n",
       "      <th>37</th>\n",
       "      <td>0.6365</td>\n",
       "      <td>5.5276</td>\n",
       "      <td>0.0866</td>\n",
       "      <td>0.1809</td>\n",
       "    </tr>\n",
       "    <tr>\n",
       "      <th>38</th>\n",
       "      <td>0.6591</td>\n",
       "      <td>2.9040</td>\n",
       "      <td>0.1691</td>\n",
       "      <td>0.3444</td>\n",
       "    </tr>\n",
       "    <tr>\n",
       "      <th>39</th>\n",
       "      <td>0.1463</td>\n",
       "      <td>13.4883</td>\n",
       "      <td>0.0441</td>\n",
       "      <td>0.0741</td>\n",
       "    </tr>\n",
       "    <tr>\n",
       "      <th>40</th>\n",
       "      <td>0.7689</td>\n",
       "      <td>3.8362</td>\n",
       "      <td>0.1660</td>\n",
       "      <td>0.2607</td>\n",
       "    </tr>\n",
       "    <tr>\n",
       "      <th>41</th>\n",
       "      <td>0.2069</td>\n",
       "      <td>7.5550</td>\n",
       "      <td>0.0784</td>\n",
       "      <td>0.1324</td>\n",
       "    </tr>\n",
       "    <tr>\n",
       "      <th>42</th>\n",
       "      <td>0.3883</td>\n",
       "      <td>4.2818</td>\n",
       "      <td>0.1582</td>\n",
       "      <td>0.2335</td>\n",
       "    </tr>\n",
       "    <tr>\n",
       "      <th>43</th>\n",
       "      <td>0.3824</td>\n",
       "      <td>4.0111</td>\n",
       "      <td>0.2081</td>\n",
       "      <td>0.2493</td>\n",
       "    </tr>\n",
       "    <tr>\n",
       "      <th>44</th>\n",
       "      <td>0.2452</td>\n",
       "      <td>6.0648</td>\n",
       "      <td>0.0840</td>\n",
       "      <td>0.1649</td>\n",
       "    </tr>\n",
       "    <tr>\n",
       "      <th>45</th>\n",
       "      <td>0.1041</td>\n",
       "      <td>9.8785</td>\n",
       "      <td>0.0579</td>\n",
       "      <td>0.1012</td>\n",
       "    </tr>\n",
       "    <tr>\n",
       "      <th>46</th>\n",
       "      <td>0.2870</td>\n",
       "      <td>4.5412</td>\n",
       "      <td>0.1419</td>\n",
       "      <td>0.2202</td>\n",
       "    </tr>\n",
       "    <tr>\n",
       "      <th>47</th>\n",
       "      <td>0.1192</td>\n",
       "      <td>6.8040</td>\n",
       "      <td>0.0559</td>\n",
       "      <td>0.1470</td>\n",
       "    </tr>\n",
       "    <tr>\n",
       "      <th>48</th>\n",
       "      <td>0.0774</td>\n",
       "      <td>12.6026</td>\n",
       "      <td>0.0522</td>\n",
       "      <td>0.0793</td>\n",
       "    </tr>\n",
       "    <tr>\n",
       "      <th>49</th>\n",
       "      <td>0.2392</td>\n",
       "      <td>5.6367</td>\n",
       "      <td>0.1153</td>\n",
       "      <td>0.1774</td>\n",
       "    </tr>\n",
       "    <tr>\n",
       "      <th>50</th>\n",
       "      <td>0.1500</td>\n",
       "      <td>9.3954</td>\n",
       "      <td>0.0425</td>\n",
       "      <td>0.1064</td>\n",
       "    </tr>\n",
       "    <tr>\n",
       "      <th>51</th>\n",
       "      <td>0.2602</td>\n",
       "      <td>5.1856</td>\n",
       "      <td>0.1540</td>\n",
       "      <td>0.1928</td>\n",
       "    </tr>\n",
       "  </tbody>\n",
       "</table>\n",
       "</div>"
      ],
      "text/plain": [
       "    hsa-let-7i  hsa-miR-1228  hsa-miR-23a  hsa-miR-361\n",
       "0       0.1622        6.2868       0.0957       0.1591\n",
       "1       0.3414        6.0746       0.1842       0.1646\n",
       "2       0.2141        4.4213       0.1575       0.2262\n",
       "3       0.1276       17.7062       0.0244       0.0565\n",
       "4       0.8263        3.7514       0.2196       0.2666\n",
       "5       0.0661       20.2151       0.0010       0.0495\n",
       "6       0.4725        6.5096       0.0895       0.1536\n",
       "7       0.1455        8.0890       0.0659       0.1236\n",
       "8       0.1815        7.4410       0.0898       0.1344\n",
       "9       0.0743        7.7622       0.0323       0.1288\n",
       "10      0.3716        2.9993       0.1933       0.3334\n",
       "11      0.2593       10.3670       0.0610       0.0965\n",
       "12      0.1227       19.3806       0.0006       0.0516\n",
       "13      0.4919       26.2372       0.0042       0.0381\n",
       "14      0.0559        5.1750       0.0698       0.1932\n",
       "15      0.5393        4.5263       0.1066       0.2209\n",
       "16      0.1080        5.0975       0.0390       0.1962\n",
       "17      0.1559        4.9007       0.0954       0.2041\n",
       "18      0.3713        5.3627       0.1338       0.1865\n",
       "19      0.0764        5.3746       0.0036       0.1861\n",
       "20      0.0717        5.6611       0.0014       0.1766\n",
       "21      0.1594        4.6440       0.0030       0.2153\n",
       "22      0.0476       12.6911       0.0005       0.0788\n",
       "23      0.0179        2.0493       0.0004       0.4880\n",
       "24      0.0042        7.7430       0.0001       0.1291\n",
       "25      0.1019        7.9513       0.0010       0.1258\n",
       "26      0.0377        4.1524       0.0012       0.2408\n",
       "27      0.0327        7.3671       0.0015       0.1357\n",
       "28      0.0681        1.5515       0.0003       0.6446\n",
       "29      0.0944        2.3986       0.0096       0.4169\n",
       "30      0.1812        5.6097       0.0019       0.1783\n",
       "31      0.7161        1.6890       0.1756       0.5921\n",
       "32      0.3038        6.0587       0.0798       0.1651\n",
       "33      0.2134        8.1024       0.0572       0.1234\n",
       "34      0.3660        4.6669       0.1085       0.2143\n",
       "35      0.1080        7.0626       0.0106       0.1416\n",
       "36      1.3783        2.2715       0.2024       0.4402\n",
       "37      0.6365        5.5276       0.0866       0.1809\n",
       "38      0.6591        2.9040       0.1691       0.3444\n",
       "39      0.1463       13.4883       0.0441       0.0741\n",
       "40      0.7689        3.8362       0.1660       0.2607\n",
       "41      0.2069        7.5550       0.0784       0.1324\n",
       "42      0.3883        4.2818       0.1582       0.2335\n",
       "43      0.3824        4.0111       0.2081       0.2493\n",
       "44      0.2452        6.0648       0.0840       0.1649\n",
       "45      0.1041        9.8785       0.0579       0.1012\n",
       "46      0.2870        4.5412       0.1419       0.2202\n",
       "47      0.1192        6.8040       0.0559       0.1470\n",
       "48      0.0774       12.6026       0.0522       0.0793\n",
       "49      0.2392        5.6367       0.1153       0.1774\n",
       "50      0.1500        9.3954       0.0425       0.1064\n",
       "51      0.2602        5.1856       0.1540       0.1928"
      ]
     },
     "execution_count": 15,
     "metadata": {},
     "output_type": "execute_result"
    }
   ],
   "source": [
    "t3"
   ]
  },
  {
   "cell_type": "code",
   "execution_count": 16,
   "metadata": {},
   "outputs": [],
   "source": [
    "X = np.array(sick).reshape(-1, 1)"
   ]
  },
  {
   "cell_type": "code",
   "execution_count": 17,
   "metadata": {},
   "outputs": [
    {
     "data": {
      "text/plain": [
       "LinearRegression()"
      ]
     },
     "execution_count": 17,
     "metadata": {},
     "output_type": "execute_result"
    }
   ],
   "source": [
    "linreg = LinearRegression()\n",
    "linreg.fit(X, t3)"
   ]
  },
  {
   "cell_type": "code",
   "execution_count": 18,
   "metadata": {},
   "outputs": [
    {
     "data": {
      "text/plain": [
       "0.022300311387345086"
      ]
     },
     "execution_count": 18,
     "metadata": {},
     "output_type": "execute_result"
    }
   ],
   "source": [
    "fitted = linreg.predict(X)\n",
    "explained_variance_score(t3, fitted, multioutput=\"variance_weighted\")"
   ]
  },
  {
   "cell_type": "markdown",
   "metadata": {},
   "source": [
    "### Mean-variance-plot"
   ]
  },
  {
   "cell_type": "code",
   "execution_count": 19,
   "metadata": {},
   "outputs": [
    {
     "data": {
      "text/plain": [
       "hsa-let-7i      0.264171\n",
       "hsa-miR-1228    7.135790\n",
       "hsa-miR-23a     0.075700\n",
       "hsa-miR-361     0.198858\n",
       "dtype: float64"
      ]
     },
     "execution_count": 19,
     "metadata": {},
     "output_type": "execute_result"
    }
   ],
   "source": [
    "np.mean(table)"
   ]
  },
  {
   "cell_type": "code",
   "execution_count": 20,
   "metadata": {
    "tags": []
   },
   "outputs": [],
   "source": [
    "def get_means_and_variances(table):\n",
    "    return np.mean(table), np.var(table, ddof=1)"
   ]
  },
  {
   "cell_type": "code",
   "execution_count": 21,
   "metadata": {
    "tags": []
   },
   "outputs": [],
   "source": [
    "def mean_variance_plot(table):\n",
    "    means, variances = get_means_and_variances(table)\n",
    "    plt.scatter(means, variances)\n",
    "    plt.xlabel(\"mean\")\n",
    "    plt.ylabel(\"variance\")\n",
    "    plt.plot()"
   ]
  },
  {
   "cell_type": "code",
   "execution_count": 22,
   "metadata": {},
   "outputs": [
    {
     "data": {
      "image/png": "[encoded data removed]",
      "text/plain": [
       "<Figure size 432x288 with 1 Axes>"
      ]
     },
     "metadata": {
      "needs_background": "light"
     },
     "output_type": "display_data"
    }
   ],
   "source": [
    "mean_variance_plot(table)"
   ]
  },
  {
   "cell_type": "markdown",
   "metadata": {
    "tags": []
   },
   "source": [
    "### Log transformation"
   ]
  },
  {
   "cell_type": "code",
   "execution_count": 23,
   "metadata": {},
   "outputs": [],
   "source": [
    "log_table = np.log2(table)"
   ]
  },
  {
   "cell_type": "code",
   "execution_count": 24,
   "metadata": {},
   "outputs": [
    {
     "data": {
      "image/png": "[encoded data removed]",
      "text/plain": [
       "<Figure size 432x288 with 1 Axes>"
      ]
     },
     "metadata": {
      "needs_background": "light"
     },
     "output_type": "display_data"
    }
   ],
   "source": [
    "mean_variance_plot(log_table)"
   ]
  },
  {
   "cell_type": "code",
   "execution_count": 25,
   "metadata": {},
   "outputs": [],
   "source": [
    "norm_log_table = log_table - np.mean(log_table)"
   ]
  },
  {
   "cell_type": "code",
   "execution_count": 26,
   "metadata": {},
   "outputs": [],
   "source": [
    "norm_log_table /= np.sqrt(np.mean(np.var(norm_log_table, ddof=1)))"
   ]
  },
  {
   "cell_type": "code",
   "execution_count": 27,
   "metadata": {},
   "outputs": [
    {
     "data": {
      "image/png": "[encoded data removed]",
      "text/plain": [
       "<Figure size 432x288 with 1 Axes>"
      ]
     },
     "metadata": {
      "needs_background": "light"
     },
     "output_type": "display_data"
    }
   ],
   "source": [
    "mean_variance_plot(norm_log_table)"
   ]
  },
  {
   "cell_type": "markdown",
   "metadata": {},
   "source": [
    "### PCA"
   ]
  },
  {
   "cell_type": "code",
   "execution_count": 28,
   "metadata": {
    "tags": []
   },
   "outputs": [],
   "source": [
    "pca = decomposition.PCA(n_components=2)"
   ]
  },
  {
   "cell_type": "code",
   "execution_count": 29,
   "metadata": {},
   "outputs": [
    {
     "data": {
      "text/plain": [
       "PCA(n_components=2)"
      ]
     },
     "execution_count": 29,
     "metadata": {},
     "output_type": "execute_result"
    }
   ],
   "source": [
    "pca.fit(norm_log_table)"
   ]
  },
  {
   "cell_type": "code",
   "execution_count": 30,
   "metadata": {},
   "outputs": [
    {
     "data": {
      "text/plain": [
       "array([0.83363628, 0.10486475])"
      ]
     },
     "execution_count": 30,
     "metadata": {},
     "output_type": "execute_result"
    }
   ],
   "source": [
    "pca.explained_variance_ratio_"
   ]
  },
  {
   "cell_type": "code",
   "execution_count": 31,
   "metadata": {
    "tags": []
   },
   "outputs": [],
   "source": [
    "components = pca.transform(norm_log_table)"
   ]
  },
  {
   "cell_type": "code",
   "execution_count": 32,
   "metadata": {},
   "outputs": [
    {
     "data": {
      "text/plain": [
       "(52, 2)"
      ]
     },
     "execution_count": 32,
     "metadata": {},
     "output_type": "execute_result"
    }
   ],
   "source": [
    "components.shape"
   ]
  },
  {
   "cell_type": "code",
   "execution_count": 33,
   "metadata": {},
   "outputs": [
    {
     "data": {
      "text/plain": [
       "21"
      ]
     },
     "execution_count": 33,
     "metadata": {},
     "output_type": "execute_result"
    }
   ],
   "source": [
    "sum(controls)"
   ]
  },
  {
   "cell_type": "code",
   "execution_count": 34,
   "metadata": {},
   "outputs": [
    {
     "data": {
      "image/png": "[encoded data removed]",
      "text/plain": [
       "<Figure size 576x576 with 1 Axes>"
      ]
     },
     "metadata": {
      "needs_background": "light"
     },
     "output_type": "display_data"
    }
   ],
   "source": [
    "fig = plt.figure(figsize = (8,8))\n",
    "ax = fig.add_subplot(1,1,1)\n",
    "\n",
    "ax.set_xlabel('Principal Component 1', fontsize = 15)\n",
    "ax.set_ylabel('Principal Component 2', fontsize = 15)\n",
    "ax.set_title('2 component PCA', fontsize = 20)\n",
    "targets = ['Cancer', 'Healthy']\n",
    "colors = ['r', 'g']\n",
    "ax.scatter(components[controls == False, 0], components[controls == False, 1], c = 'r', s = 10)\n",
    "ax.scatter(components[controls == True, 0], components[controls == True, 1], c = 'g', s = 10)\n",
    "ax.legend(targets)\n",
    "ax.grid()"
   ]
  },
  {
   "cell_type": "code",
   "execution_count": 35,
   "metadata": {
    "tags": []
   },
   "outputs": [],
   "source": [
    "components2 = components[components[:,0] < 20, :]\n",
    "controls2 = controls[components[:,0] < 20]"
   ]
  },
  {
   "cell_type": "code",
   "execution_count": 36,
   "metadata": {},
   "outputs": [
    {
     "data": {
      "image/png": "[encoded data removed]",
      "text/plain": [
       "<Figure size 576x576 with 1 Axes>"
      ]
     },
     "metadata": {
      "needs_background": "light"
     },
     "output_type": "display_data"
    }
   ],
   "source": [
    "fig = plt.figure(figsize = (8,8))\n",
    "ax = fig.add_subplot(1,1,1)\n",
    "\n",
    "ax.set_xlabel('Principal Component 1', fontsize = 15)\n",
    "ax.set_ylabel('Principal Component 2', fontsize = 15)\n",
    "ax.set_title('2 component PCA', fontsize = 20)\n",
    "targets = ['Cancer', 'Healthy']\n",
    "colors = ['r', 'g']\n",
    "ax.scatter(components2[controls2 == False, 0], components2[controls2 == False, 1], c = 'r', s = 10)\n",
    "ax.scatter(components2[controls2 == True, 0], components2[controls2 == True, 1], c = 'g', s = 10)\n",
    "ax.legend(targets)\n",
    "ax.grid()"
   ]
  },
  {
   "cell_type": "markdown",
   "metadata": {},
   "source": [
    "### Logistic Regression"
   ]
  },
  {
   "cell_type": "code",
   "execution_count": 37,
   "metadata": {},
   "outputs": [],
   "source": [
    "X_train, X_test, y_train, y_test = train_test_split(norm_log_table, controls, test_size=0.33, random_state=42)"
   ]
  },
  {
   "cell_type": "code",
   "execution_count": 38,
   "metadata": {},
   "outputs": [
    {
     "data": {
      "text/plain": [
       "LogisticRegression()"
      ]
     },
     "execution_count": 38,
     "metadata": {},
     "output_type": "execute_result"
    }
   ],
   "source": [
    "model = LogisticRegression()\n",
    "model.fit(X_train, y_train)"
   ]
  },
  {
   "cell_type": "code",
   "execution_count": 39,
   "metadata": {},
   "outputs": [
    {
     "name": "stderr",
     "output_type": "stream",
     "text": [
      "C:\\Users\\olefr\\AppData\\Local\\Programs\\Python\\Python310\\lib\\site-packages\\sklearn\\utils\\deprecation.py:87: FutureWarning: Function plot_roc_curve is deprecated; Function :func:`plot_roc_curve` is deprecated in 1.0 and will be removed in 1.2. Use one of the class methods: :meth:`sklearn.metric.RocCurveDisplay.from_predictions` or :meth:`sklearn.metric.RocCurveDisplay.from_estimator`.\n",
      "  warnings.warn(msg, category=FutureWarning)\n"
     ]
    },
    {
     "data": {
      "text/plain": [
       "<sklearn.metrics._plot.roc_curve.RocCurveDisplay at 0x2b551e666b0>"
      ]
     },
     "execution_count": 39,
     "metadata": {},
     "output_type": "execute_result"
    },
    {
     "data": {
      "image/png": "[encoded data removed]",
      "text/plain": [
       "<Figure size 432x288 with 1 Axes>"
      ]
     },
     "metadata": {
      "needs_background": "light"
     },
     "output_type": "display_data"
    }
   ],
   "source": [
    "plot_roc_curve(model, X_test, y_test)"
   ]
  },
  {
   "cell_type": "markdown",
   "metadata": {
    "jupyter": {
     "outputs_hidden": true
    }
   },
   "source": [
    "### XGBoost"
   ]
  },
  {
   "cell_type": "code",
   "execution_count": 40,
   "metadata": {},
   "outputs": [
    {
     "name": "stdout",
     "output_type": "stream",
     "text": [
      "[08:06:37] WARNING: C:/Users/Administrator/workspace/xgboost-win64_release_1.5.1/src/learner.cc:1115: Starting in XGBoost 1.3.0, the default evaluation metric used with the objective 'binary:logistic' was changed from 'error' to 'logloss'. Explicitly set eval_metric if you'd like to restore the old behavior.\n"
     ]
    },
    {
     "data": {
      "text/plain": [
       "XGBClassifier(base_score=0.5, booster='gbtree', colsample_bylevel=1,\n",
       "              colsample_bynode=1, colsample_bytree=1, enable_categorical=False,\n",
       "              gamma=0, gpu_id=-1, importance_type=None,\n",
       "              interaction_constraints='', learning_rate=0.300000012,\n",
       "              max_delta_step=0, max_depth=6, min_child_weight=1, missing=nan,\n",
       "              monotone_constraints='()', n_estimators=100, n_jobs=16,\n",
       "              num_parallel_tree=1, predictor='auto', random_state=0,\n",
       "              reg_alpha=0, reg_lambda=1, scale_pos_weight=1, subsample=1,\n",
       "              tree_method='exact', use_label_encoder=False,\n",
       "              validate_parameters=1, verbosity=None)"
      ]
     },
     "execution_count": 40,
     "metadata": {},
     "output_type": "execute_result"
    }
   ],
   "source": [
    "model = XGBClassifier(use_label_encoder=False)\n",
    "model.fit(X_train, y_train)"
   ]
  },
  {
   "cell_type": "code",
   "execution_count": 41,
   "metadata": {},
   "outputs": [
    {
     "name": "stderr",
     "output_type": "stream",
     "text": [
      "C:\\Users\\olefr\\AppData\\Local\\Programs\\Python\\Python310\\lib\\site-packages\\sklearn\\utils\\deprecation.py:87: FutureWarning: Function plot_roc_curve is deprecated; Function :func:`plot_roc_curve` is deprecated in 1.0 and will be removed in 1.2. Use one of the class methods: :meth:`sklearn.metric.RocCurveDisplay.from_predictions` or :meth:`sklearn.metric.RocCurveDisplay.from_estimator`.\n",
      "  warnings.warn(msg, category=FutureWarning)\n"
     ]
    },
    {
     "data": {
      "text/plain": [
       "<sklearn.metrics._plot.roc_curve.RocCurveDisplay at 0x2b5552235b0>"
      ]
     },
     "execution_count": 41,
     "metadata": {},
     "output_type": "execute_result"
    },
    {
     "data": {
      "image/png": "[encoded data removed]",
      "text/plain": [
       "<Figure size 432x288 with 1 Axes>"
      ]
     },
     "metadata": {
      "needs_background": "light"
     },
     "output_type": "display_data"
    }
   ],
   "source": [
    "plot_roc_curve(model, X_test, y_test)"
   ]
  },
  {
   "cell_type": "markdown",
   "metadata": {},
   "source": [
    "### Export data"
   ]
  },
  {
   "cell_type": "code",
   "execution_count": 42,
   "metadata": {},
   "outputs": [],
   "source": [
    "from Scripts import converters"
   ]
  },
  {
   "cell_type": "code",
   "execution_count": 43,
   "metadata": {},
   "outputs": [],
   "source": [
    "sequences = converters.canonical_to_seq(mirnas)"
   ]
  },
  {
   "cell_type": "code",
   "execution_count": 44,
   "metadata": {},
   "outputs": [
    {
     "data": {
      "text/html": [
       "<div>\n",
       "<style scoped>\n",
       "    .dataframe tbody tr th:only-of-type {\n",
       "        vertical-align: middle;\n",
       "    }\n",
       "\n",
       "    .dataframe tbody tr th {\n",
       "        vertical-align: top;\n",
       "    }\n",
       "\n",
       "    .dataframe thead th {\n",
       "        text-align: right;\n",
       "    }\n",
       "</style>\n",
       "<table border=\"1\" class=\"dataframe\">\n",
       "  <thead>\n",
       "    <tr style=\"text-align: right;\">\n",
       "      <th></th>\n",
       "      <th>CUGGCUGAGGUAGUAGUUUGUGCUGUUGGUCGGGUUGUGACAUUGCCCGCUGUGGAGAUAACUGCGCAAGCUACUGCCUUGCUA</th>\n",
       "      <th>UCACACCUGCCUCGCCCCCC</th>\n",
       "      <th>AUCACAUUGCCAGGGAUUUCC</th>\n",
       "      <th>UUAUCAGAAUCUCCAGGGGUAC</th>\n",
       "      <th>cancer</th>\n",
       "    </tr>\n",
       "  </thead>\n",
       "  <tbody>\n",
       "    <tr>\n",
       "      <th>0</th>\n",
       "      <td>0.035805</td>\n",
       "      <td>-0.041609</td>\n",
       "      <td>-1.053663</td>\n",
       "      <td>0.041421</td>\n",
       "      <td>1</td>\n",
       "    </tr>\n",
       "    <tr>\n",
       "      <th>1</th>\n",
       "      <td>-0.550751</td>\n",
       "      <td>-0.014547</td>\n",
       "      <td>-1.569742</td>\n",
       "      <td>0.014636</td>\n",
       "      <td>1</td>\n",
       "    </tr>\n",
       "    <tr>\n",
       "      <th>2</th>\n",
       "      <td>-0.182994</td>\n",
       "      <td>0.235832</td>\n",
       "      <td>-1.446322</td>\n",
       "      <td>-0.235916</td>\n",
       "      <td>1</td>\n",
       "    </tr>\n",
       "    <tr>\n",
       "      <th>3</th>\n",
       "      <td>0.224904</td>\n",
       "      <td>-0.857702</td>\n",
       "      <td>0.023442</td>\n",
       "      <td>0.857380</td>\n",
       "      <td>1</td>\n",
       "    </tr>\n",
       "    <tr>\n",
       "      <th>4</th>\n",
       "      <td>-1.247394</td>\n",
       "      <td>0.365328</td>\n",
       "      <td>-1.708287</td>\n",
       "      <td>-0.365431</td>\n",
       "      <td>1</td>\n",
       "    </tr>\n",
       "  </tbody>\n",
       "</table>\n",
       "</div>"
      ],
      "text/plain": [
       "   CUGGCUGAGGUAGUAGUUUGUGCUGUUGGUCGGGUUGUGACAUUGCCCGCUGUGGAGAUAACUGCGCAAGCUACUGCCUUGCUA  \\\n",
       "0                                           0.035805                                      \n",
       "1                                          -0.550751                                      \n",
       "2                                          -0.182994                                      \n",
       "3                                           0.224904                                      \n",
       "4                                          -1.247394                                      \n",
       "\n",
       "   UCACACCUGCCUCGCCCCCC  AUCACAUUGCCAGGGAUUUCC  UUAUCAGAAUCUCCAGGGGUAC  cancer  \n",
       "0             -0.041609              -1.053663                0.041421       1  \n",
       "1             -0.014547              -1.569742                0.014636       1  \n",
       "2              0.235832              -1.446322               -0.235916       1  \n",
       "3             -0.857702               0.023442                0.857380       1  \n",
       "4              0.365328              -1.708287               -0.365431       1  "
      ]
     },
     "execution_count": 44,
     "metadata": {},
     "output_type": "execute_result"
    }
   ],
   "source": [
    "norm_log_table *= -1\n",
    "norm_log_table.columns = sequences\n",
    "norm_log_table[\"cancer\"] = sick\n",
    "norm_log_table.head()"
   ]
  },
  {
   "cell_type": "code",
   "execution_count": 45,
   "metadata": {},
   "outputs": [],
   "source": [
    "norm_log_table.to_csv(\"../TransformedData/Kryczka2021.csv\", index=False)"
   ]
  },
  {
   "cell_type": "code",
   "execution_count": null,
   "metadata": {},
   "outputs": [],
   "source": []
  }
 ],
 "metadata": {
  "kernelspec": {
   "display_name": "Python 3 (ipykernel)",
   "language": "python",
   "name": "python3"
  },
  "language_info": {
   "codemirror_mode": {
    "name": "ipython",
    "version": 3
   },
   "file_extension": ".py",
   "mimetype": "text/x-python",
   "name": "python",
   "nbconvert_exporter": "python",
   "pygments_lexer": "ipython3",
   "version": "3.10.1"
  }
 },
 "nbformat": 4,
 "nbformat_minor": 4
}
