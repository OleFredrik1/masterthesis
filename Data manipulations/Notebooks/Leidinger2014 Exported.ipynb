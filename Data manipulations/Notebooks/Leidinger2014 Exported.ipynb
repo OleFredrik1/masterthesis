{
 "cells": [
  {
   "cell_type": "code",
   "execution_count": 9,
   "metadata": {
    "tags": []
   },
   "outputs": [],
   "source": [
    "%matplotlib inline\n",
    "import GEOparse\n",
    "import matplotlib.pyplot as plt\n",
    "import pandas as pd\n",
    "import numpy as np\n",
    "from sklearn import decomposition\n",
    "from sklearn.feature_selection import f_classif\n",
    "from sklearn.linear_model import LinearRegression, LogisticRegression\n",
    "from sklearn.metrics import explained_variance_score, plot_roc_curve\n",
    "import statsmodels.api as sm\n",
    "from scipy.stats import ttest_ind\n",
    "from xgboost import XGBClassifier\n",
    "from sklearn.model_selection import train_test_split\n",
    "from sklego.linear_model import LowessRegression"
   ]
  },
  {
   "cell_type": "markdown",
   "metadata": {},
   "source": [
    "### Reading in from external source"
   ]
  },
  {
   "cell_type": "code",
   "execution_count": 10,
   "metadata": {},
   "outputs": [],
   "source": [
    "geo = \"GSE55993\"\n",
    "data = GEOparse.get_GEO(geo=geo, destdir=\"../Dataset/Leidinger2014\", silent=True)\n",
    "#table = pd.read_csv(\"../Dataset/Fehlman2020/expression_matrix.csv\", sep=\"\\t\")\n",
    "#table = pd.read_csv(\"../Dataset/Wozniak2015/GSE64591_non-normalized.txt\", sep=\"\\t\", header=5)"
   ]
  },
  {
   "cell_type": "code",
   "execution_count": 11,
   "metadata": {},
   "outputs": [],
   "source": [
    "table = pd.concat((val.table.iloc[:,1:] for val in data.gsms.values()), axis=1).transpose()\n",
    "mirnas = list(data.gsms.values())[0].table.iloc[:,0]"
   ]
  },
  {
   "cell_type": "code",
   "execution_count": 12,
   "metadata": {},
   "outputs": [
    {
     "data": {
      "text/html": [
       "<div>\n",
       "<style scoped>\n",
       "    .dataframe tbody tr th:only-of-type {\n",
       "        vertical-align: middle;\n",
       "    }\n",
       "\n",
       "    .dataframe tbody tr th {\n",
       "        vertical-align: top;\n",
       "    }\n",
       "\n",
       "    .dataframe thead th {\n",
       "        text-align: right;\n",
       "    }\n",
       "</style>\n",
       "<table border=\"1\" class=\"dataframe\">\n",
       "  <thead>\n",
       "    <tr style=\"text-align: right;\">\n",
       "      <th></th>\n",
       "      <th>0</th>\n",
       "      <th>1</th>\n",
       "      <th>2</th>\n",
       "      <th>3</th>\n",
       "      <th>4</th>\n",
       "      <th>5</th>\n",
       "      <th>6</th>\n",
       "      <th>7</th>\n",
       "      <th>8</th>\n",
       "      <th>9</th>\n",
       "      <th>...</th>\n",
       "      <th>1195</th>\n",
       "      <th>1196</th>\n",
       "      <th>1197</th>\n",
       "      <th>1198</th>\n",
       "      <th>1199</th>\n",
       "      <th>1200</th>\n",
       "      <th>1201</th>\n",
       "      <th>1202</th>\n",
       "      <th>1203</th>\n",
       "      <th>1204</th>\n",
       "    </tr>\n",
       "  </thead>\n",
       "  <tbody>\n",
       "    <tr>\n",
       "      <th>VALUE</th>\n",
       "      <td>1.597713</td>\n",
       "      <td>2.866922</td>\n",
       "      <td>3.123045</td>\n",
       "      <td>1.276868</td>\n",
       "      <td>3.729534</td>\n",
       "      <td>6.461108</td>\n",
       "      <td>0.997509</td>\n",
       "      <td>0.514437</td>\n",
       "      <td>2.549119</td>\n",
       "      <td>4.883893</td>\n",
       "      <td>...</td>\n",
       "      <td>4.741841</td>\n",
       "      <td>4.780794</td>\n",
       "      <td>-0.631538</td>\n",
       "      <td>1.951530</td>\n",
       "      <td>10.341903</td>\n",
       "      <td>2.360723</td>\n",
       "      <td>4.437234</td>\n",
       "      <td>1.418332</td>\n",
       "      <td>3.546319</td>\n",
       "      <td>1.430139</td>\n",
       "    </tr>\n",
       "    <tr>\n",
       "      <th>VALUE</th>\n",
       "      <td>1.569786</td>\n",
       "      <td>2.978141</td>\n",
       "      <td>2.523807</td>\n",
       "      <td>1.058127</td>\n",
       "      <td>2.602819</td>\n",
       "      <td>6.313092</td>\n",
       "      <td>1.571382</td>\n",
       "      <td>1.239031</td>\n",
       "      <td>2.269577</td>\n",
       "      <td>4.552656</td>\n",
       "      <td>...</td>\n",
       "      <td>5.093919</td>\n",
       "      <td>5.373117</td>\n",
       "      <td>-0.139058</td>\n",
       "      <td>1.959635</td>\n",
       "      <td>10.425327</td>\n",
       "      <td>7.373143</td>\n",
       "      <td>4.532671</td>\n",
       "      <td>1.909580</td>\n",
       "      <td>3.035704</td>\n",
       "      <td>1.161776</td>\n",
       "    </tr>\n",
       "    <tr>\n",
       "      <th>VALUE</th>\n",
       "      <td>1.585265</td>\n",
       "      <td>2.134337</td>\n",
       "      <td>2.829239</td>\n",
       "      <td>1.267572</td>\n",
       "      <td>2.960690</td>\n",
       "      <td>1.817075</td>\n",
       "      <td>1.423240</td>\n",
       "      <td>0.462063</td>\n",
       "      <td>2.356895</td>\n",
       "      <td>4.485711</td>\n",
       "      <td>...</td>\n",
       "      <td>4.799167</td>\n",
       "      <td>5.423998</td>\n",
       "      <td>-0.097959</td>\n",
       "      <td>1.943231</td>\n",
       "      <td>10.782703</td>\n",
       "      <td>7.021439</td>\n",
       "      <td>3.791512</td>\n",
       "      <td>1.004798</td>\n",
       "      <td>3.387339</td>\n",
       "      <td>1.261971</td>\n",
       "    </tr>\n",
       "    <tr>\n",
       "      <th>VALUE</th>\n",
       "      <td>1.335035</td>\n",
       "      <td>2.157808</td>\n",
       "      <td>2.528000</td>\n",
       "      <td>1.330909</td>\n",
       "      <td>2.837385</td>\n",
       "      <td>2.801719</td>\n",
       "      <td>1.106735</td>\n",
       "      <td>0.564666</td>\n",
       "      <td>2.344618</td>\n",
       "      <td>3.982585</td>\n",
       "      <td>...</td>\n",
       "      <td>4.437234</td>\n",
       "      <td>5.018195</td>\n",
       "      <td>0.468434</td>\n",
       "      <td>2.184758</td>\n",
       "      <td>11.137706</td>\n",
       "      <td>8.180804</td>\n",
       "      <td>6.076414</td>\n",
       "      <td>1.232044</td>\n",
       "      <td>3.123045</td>\n",
       "      <td>1.267572</td>\n",
       "    </tr>\n",
       "    <tr>\n",
       "      <th>VALUE</th>\n",
       "      <td>1.516199</td>\n",
       "      <td>3.822315</td>\n",
       "      <td>2.523807</td>\n",
       "      <td>1.273586</td>\n",
       "      <td>2.093549</td>\n",
       "      <td>6.712629</td>\n",
       "      <td>0.908285</td>\n",
       "      <td>1.160335</td>\n",
       "      <td>2.304156</td>\n",
       "      <td>4.176986</td>\n",
       "      <td>...</td>\n",
       "      <td>5.071254</td>\n",
       "      <td>4.354178</td>\n",
       "      <td>-0.466601</td>\n",
       "      <td>1.992813</td>\n",
       "      <td>11.137706</td>\n",
       "      <td>2.187540</td>\n",
       "      <td>6.101862</td>\n",
       "      <td>1.673089</td>\n",
       "      <td>3.025737</td>\n",
       "      <td>1.498883</td>\n",
       "    </tr>\n",
       "    <tr>\n",
       "      <th>...</th>\n",
       "      <td>...</td>\n",
       "      <td>...</td>\n",
       "      <td>...</td>\n",
       "      <td>...</td>\n",
       "      <td>...</td>\n",
       "      <td>...</td>\n",
       "      <td>...</td>\n",
       "      <td>...</td>\n",
       "      <td>...</td>\n",
       "      <td>...</td>\n",
       "      <td>...</td>\n",
       "      <td>...</td>\n",
       "      <td>...</td>\n",
       "      <td>...</td>\n",
       "      <td>...</td>\n",
       "      <td>...</td>\n",
       "      <td>...</td>\n",
       "      <td>...</td>\n",
       "      <td>...</td>\n",
       "      <td>...</td>\n",
       "      <td>...</td>\n",
       "    </tr>\n",
       "    <tr>\n",
       "      <th>VALUE</th>\n",
       "      <td>1.710729</td>\n",
       "      <td>2.292655</td>\n",
       "      <td>2.448641</td>\n",
       "      <td>1.576548</td>\n",
       "      <td>3.995802</td>\n",
       "      <td>2.423717</td>\n",
       "      <td>1.209793</td>\n",
       "      <td>1.032134</td>\n",
       "      <td>4.091648</td>\n",
       "      <td>4.234257</td>\n",
       "      <td>...</td>\n",
       "      <td>5.452155</td>\n",
       "      <td>7.573517</td>\n",
       "      <td>0.370489</td>\n",
       "      <td>1.965035</td>\n",
       "      <td>9.633589</td>\n",
       "      <td>2.202687</td>\n",
       "      <td>7.678173</td>\n",
       "      <td>1.329313</td>\n",
       "      <td>3.072030</td>\n",
       "      <td>1.304512</td>\n",
       "    </tr>\n",
       "    <tr>\n",
       "      <th>VALUE</th>\n",
       "      <td>2.001367</td>\n",
       "      <td>3.016536</td>\n",
       "      <td>2.157808</td>\n",
       "      <td>1.565966</td>\n",
       "      <td>3.982585</td>\n",
       "      <td>1.871807</td>\n",
       "      <td>1.784050</td>\n",
       "      <td>1.298543</td>\n",
       "      <td>4.372513</td>\n",
       "      <td>4.676862</td>\n",
       "      <td>...</td>\n",
       "      <td>5.265147</td>\n",
       "      <td>7.740316</td>\n",
       "      <td>0.218895</td>\n",
       "      <td>2.563974</td>\n",
       "      <td>9.716142</td>\n",
       "      <td>2.112242</td>\n",
       "      <td>7.516152</td>\n",
       "      <td>1.463067</td>\n",
       "      <td>2.739740</td>\n",
       "      <td>1.036653</td>\n",
       "    </tr>\n",
       "    <tr>\n",
       "      <th>VALUE</th>\n",
       "      <td>1.708829</td>\n",
       "      <td>2.190747</td>\n",
       "      <td>2.335906</td>\n",
       "      <td>1.675046</td>\n",
       "      <td>3.970601</td>\n",
       "      <td>2.323254</td>\n",
       "      <td>1.256097</td>\n",
       "      <td>0.804675</td>\n",
       "      <td>4.073547</td>\n",
       "      <td>4.636038</td>\n",
       "      <td>...</td>\n",
       "      <td>5.216658</td>\n",
       "      <td>7.573517</td>\n",
       "      <td>0.414457</td>\n",
       "      <td>2.086899</td>\n",
       "      <td>9.428025</td>\n",
       "      <td>1.975642</td>\n",
       "      <td>8.086553</td>\n",
       "      <td>1.379820</td>\n",
       "      <td>3.102057</td>\n",
       "      <td>0.957622</td>\n",
       "    </tr>\n",
       "    <tr>\n",
       "      <th>VALUE</th>\n",
       "      <td>1.345217</td>\n",
       "      <td>2.153358</td>\n",
       "      <td>2.101144</td>\n",
       "      <td>1.669377</td>\n",
       "      <td>4.676862</td>\n",
       "      <td>2.837385</td>\n",
       "      <td>1.145106</td>\n",
       "      <td>1.023439</td>\n",
       "      <td>4.331031</td>\n",
       "      <td>4.600858</td>\n",
       "      <td>...</td>\n",
       "      <td>3.970601</td>\n",
       "      <td>7.740316</td>\n",
       "      <td>0.345736</td>\n",
       "      <td>2.012465</td>\n",
       "      <td>9.337672</td>\n",
       "      <td>3.662305</td>\n",
       "      <td>7.573517</td>\n",
       "      <td>0.735301</td>\n",
       "      <td>3.714552</td>\n",
       "      <td>1.330909</td>\n",
       "    </tr>\n",
       "    <tr>\n",
       "      <th>VALUE</th>\n",
       "      <td>1.810981</td>\n",
       "      <td>2.280193</td>\n",
       "      <td>2.184758</td>\n",
       "      <td>1.821107</td>\n",
       "      <td>4.636038</td>\n",
       "      <td>2.423717</td>\n",
       "      <td>1.369514</td>\n",
       "      <td>0.709479</td>\n",
       "      <td>4.195844</td>\n",
       "      <td>4.989697</td>\n",
       "      <td>...</td>\n",
       "      <td>3.982585</td>\n",
       "      <td>7.462123</td>\n",
       "      <td>0.773163</td>\n",
       "      <td>2.239472</td>\n",
       "      <td>9.633589</td>\n",
       "      <td>2.418303</td>\n",
       "      <td>8.180804</td>\n",
       "      <td>1.495500</td>\n",
       "      <td>3.591501</td>\n",
       "      <td>1.371163</td>\n",
       "    </tr>\n",
       "  </tbody>\n",
       "</table>\n",
       "<p>80 rows × 1205 columns</p>\n",
       "</div>"
      ],
      "text/plain": [
       "           0         1         2         3         4         5         6     \\\n",
       "VALUE  1.597713  2.866922  3.123045  1.276868  3.729534  6.461108  0.997509   \n",
       "VALUE  1.569786  2.978141  2.523807  1.058127  2.602819  6.313092  1.571382   \n",
       "VALUE  1.585265  2.134337  2.829239  1.267572  2.960690  1.817075  1.423240   \n",
       "VALUE  1.335035  2.157808  2.528000  1.330909  2.837385  2.801719  1.106735   \n",
       "VALUE  1.516199  3.822315  2.523807  1.273586  2.093549  6.712629  0.908285   \n",
       "...         ...       ...       ...       ...       ...       ...       ...   \n",
       "VALUE  1.710729  2.292655  2.448641  1.576548  3.995802  2.423717  1.209793   \n",
       "VALUE  2.001367  3.016536  2.157808  1.565966  3.982585  1.871807  1.784050   \n",
       "VALUE  1.708829  2.190747  2.335906  1.675046  3.970601  2.323254  1.256097   \n",
       "VALUE  1.345217  2.153358  2.101144  1.669377  4.676862  2.837385  1.145106   \n",
       "VALUE  1.810981  2.280193  2.184758  1.821107  4.636038  2.423717  1.369514   \n",
       "\n",
       "           7         8         9     ...      1195      1196      1197  \\\n",
       "VALUE  0.514437  2.549119  4.883893  ...  4.741841  4.780794 -0.631538   \n",
       "VALUE  1.239031  2.269577  4.552656  ...  5.093919  5.373117 -0.139058   \n",
       "VALUE  0.462063  2.356895  4.485711  ...  4.799167  5.423998 -0.097959   \n",
       "VALUE  0.564666  2.344618  3.982585  ...  4.437234  5.018195  0.468434   \n",
       "VALUE  1.160335  2.304156  4.176986  ...  5.071254  4.354178 -0.466601   \n",
       "...         ...       ...       ...  ...       ...       ...       ...   \n",
       "VALUE  1.032134  4.091648  4.234257  ...  5.452155  7.573517  0.370489   \n",
       "VALUE  1.298543  4.372513  4.676862  ...  5.265147  7.740316  0.218895   \n",
       "VALUE  0.804675  4.073547  4.636038  ...  5.216658  7.573517  0.414457   \n",
       "VALUE  1.023439  4.331031  4.600858  ...  3.970601  7.740316  0.345736   \n",
       "VALUE  0.709479  4.195844  4.989697  ...  3.982585  7.462123  0.773163   \n",
       "\n",
       "           1198       1199      1200      1201      1202      1203      1204  \n",
       "VALUE  1.951530  10.341903  2.360723  4.437234  1.418332  3.546319  1.430139  \n",
       "VALUE  1.959635  10.425327  7.373143  4.532671  1.909580  3.035704  1.161776  \n",
       "VALUE  1.943231  10.782703  7.021439  3.791512  1.004798  3.387339  1.261971  \n",
       "VALUE  2.184758  11.137706  8.180804  6.076414  1.232044  3.123045  1.267572  \n",
       "VALUE  1.992813  11.137706  2.187540  6.101862  1.673089  3.025737  1.498883  \n",
       "...         ...        ...       ...       ...       ...       ...       ...  \n",
       "VALUE  1.965035   9.633589  2.202687  7.678173  1.329313  3.072030  1.304512  \n",
       "VALUE  2.563974   9.716142  2.112242  7.516152  1.463067  2.739740  1.036653  \n",
       "VALUE  2.086899   9.428025  1.975642  8.086553  1.379820  3.102057  0.957622  \n",
       "VALUE  2.012465   9.337672  3.662305  7.573517  0.735301  3.714552  1.330909  \n",
       "VALUE  2.239472   9.633589  2.418303  8.180804  1.495500  3.591501  1.371163  \n",
       "\n",
       "[80 rows x 1205 columns]"
      ]
     },
     "execution_count": 12,
     "metadata": {},
     "output_type": "execute_result"
    }
   ],
   "source": [
    "table"
   ]
  },
  {
   "cell_type": "markdown",
   "metadata": {},
   "source": [
    "### Get controls"
   ]
  },
  {
   "cell_type": "code",
   "execution_count": 13,
   "metadata": {},
   "outputs": [
    {
     "data": {
      "text/plain": [
       "{'title': ['PAXGene blood lung cancer patient L2'],\n",
       " 'geo_accession': ['GSM1349928'],\n",
       " 'status': ['Public on Dec 31 2014'],\n",
       " 'submission_date': ['Mar 18 2014'],\n",
       " 'last_update_date': ['Dec 31 2014'],\n",
       " 'type': ['RNA'],\n",
       " 'channel_count': ['1'],\n",
       " 'source_name_ch1': ['whole blood'],\n",
       " 'organism_ch1': ['Homo sapiens'],\n",
       " 'taxid_ch1': ['9606'],\n",
       " 'characteristics_ch1': ['disease state: Lung adenocarcinoma',\n",
       "  'gender: female',\n",
       "  'age: 77',\n",
       "  'tissue: whole blood'],\n",
       " 'molecule_ch1': ['total RNA'],\n",
       " 'extract_protocol_ch1': ['Total RNA including small RNAs was isolated using miRNeasy Micro Kit (Qiagen)  according to manufacturerâ€™s instructions.'],\n",
       " 'label_ch1': ['Cy3'],\n",
       " 'label_protocol_ch1': ['Total RNA samples were labelled using the Agilent miRNA Complete Labelling and Hybridisation Kit'],\n",
       " 'hyb_protocol': [\"Hybridisations were performed in Agilent SureHyb chambers for 20 hours at 55C and washed according to manufacturer's instructions.\"],\n",
       " 'scan_protocol': ['Array-chips were scanned in a high resolution microarray scanner from Agilent Technologies using Scan Control 8.5.1 software, 3 microns resolution in double path mode.'],\n",
       " 'description': ['PAXGene blood lung cancer patient L2'],\n",
       " 'data_processing': ['Signal intensity values were extracted from the raw data file using feature extraction software (Agilent Technologies). The gTotalProbeSignals were summed up to calculate the total expression value for each miRNA per sample. Quantile normalization was applied to normalize expression values across the arrays using the preprocessCore package of the programming language R. After that we log2-transformed the expression values.'],\n",
       " 'platform_id': ['GPL16770'],\n",
       " 'contact_name': ['Christina,,Backes'],\n",
       " 'contact_department': ['Chair for Clinical Bioinformatics'],\n",
       " 'contact_institute': ['Saarland University'],\n",
       " 'contact_address': ['Campus, Building E 2.1'],\n",
       " 'contact_city': ['SaarbrÃ¼cken'],\n",
       " 'contact_zip/postal_code': ['66123'],\n",
       " 'contact_country': ['Germany'],\n",
       " 'supplementary_file': ['ftp://ftp.ncbi.nlm.nih.gov/geo/samples/GSM1349nnn/GSM1349928/suppl/GSM1349928_US11153896_253118113677_S01_miRNA_1010_Sep10_1_1.txt.gz'],\n",
       " 'series_id': ['GSE55993'],\n",
       " 'data_row_count': ['1205']}"
      ]
     },
     "execution_count": 13,
     "metadata": {},
     "output_type": "execute_result"
    }
   ],
   "source": [
    "list(data.gsms.values())[0].metadata"
   ]
  },
  {
   "cell_type": "markdown",
   "metadata": {},
   "source": [
    "### Seperate case and controls"
   ]
  },
  {
   "cell_type": "code",
   "execution_count": 14,
   "metadata": {},
   "outputs": [],
   "source": [
    "controls = np.array([\"healthy\" in k.metadata[\"title\"][0] for k in list(data.gsms.values())])\n",
    "sick = 1 - controls"
   ]
  },
  {
   "cell_type": "code",
   "execution_count": 15,
   "metadata": {},
   "outputs": [
    {
     "data": {
      "text/plain": [
       "38"
      ]
     },
     "execution_count": 15,
     "metadata": {},
     "output_type": "execute_result"
    }
   ],
   "source": [
    "sum(controls)"
   ]
  },
  {
   "cell_type": "markdown",
   "metadata": {},
   "source": [
    "### Drop NAN"
   ]
  },
  {
   "cell_type": "code",
   "execution_count": 16,
   "metadata": {},
   "outputs": [
    {
     "data": {
      "text/plain": [
       "0"
      ]
     },
     "execution_count": 16,
     "metadata": {},
     "output_type": "execute_result"
    }
   ],
   "source": [
    "table.isna().sum().sum()"
   ]
  },
  {
   "cell_type": "code",
   "execution_count": 17,
   "metadata": {},
   "outputs": [
    {
     "name": "stderr",
     "output_type": "stream",
     "text": [
      "C:\\Users\\olefr\\AppData\\Local\\Temp/ipykernel_33896/1927661217.py:1: FutureWarning: In a future version of pandas all arguments of DataFrame.dropna will be keyword-only\n",
      "  table = table.dropna(1)\n"
     ]
    }
   ],
   "source": [
    "table = table.dropna(1)"
   ]
  },
  {
   "cell_type": "markdown",
   "metadata": {},
   "source": [
    "### T-test"
   ]
  },
  {
   "cell_type": "code",
   "execution_count": 18,
   "metadata": {},
   "outputs": [],
   "source": [
    "X = table"
   ]
  },
  {
   "cell_type": "code",
   "execution_count": 19,
   "metadata": {},
   "outputs": [
    {
     "data": {
      "text/html": [
       "<div>\n",
       "<style scoped>\n",
       "    .dataframe tbody tr th:only-of-type {\n",
       "        vertical-align: middle;\n",
       "    }\n",
       "\n",
       "    .dataframe tbody tr th {\n",
       "        vertical-align: top;\n",
       "    }\n",
       "\n",
       "    .dataframe thead th {\n",
       "        text-align: right;\n",
       "    }\n",
       "</style>\n",
       "<table border=\"1\" class=\"dataframe\">\n",
       "  <thead>\n",
       "    <tr style=\"text-align: right;\">\n",
       "      <th></th>\n",
       "      <th>0</th>\n",
       "      <th>1</th>\n",
       "      <th>2</th>\n",
       "      <th>3</th>\n",
       "      <th>4</th>\n",
       "      <th>5</th>\n",
       "      <th>6</th>\n",
       "      <th>7</th>\n",
       "      <th>8</th>\n",
       "      <th>9</th>\n",
       "      <th>...</th>\n",
       "      <th>1195</th>\n",
       "      <th>1196</th>\n",
       "      <th>1197</th>\n",
       "      <th>1198</th>\n",
       "      <th>1199</th>\n",
       "      <th>1200</th>\n",
       "      <th>1201</th>\n",
       "      <th>1202</th>\n",
       "      <th>1203</th>\n",
       "      <th>1204</th>\n",
       "    </tr>\n",
       "  </thead>\n",
       "  <tbody>\n",
       "    <tr>\n",
       "      <th>VALUE</th>\n",
       "      <td>1.597713</td>\n",
       "      <td>2.866922</td>\n",
       "      <td>3.123045</td>\n",
       "      <td>1.276868</td>\n",
       "      <td>3.729534</td>\n",
       "      <td>6.461108</td>\n",
       "      <td>0.997509</td>\n",
       "      <td>0.514437</td>\n",
       "      <td>2.549119</td>\n",
       "      <td>4.883893</td>\n",
       "      <td>...</td>\n",
       "      <td>4.741841</td>\n",
       "      <td>4.780794</td>\n",
       "      <td>-0.631538</td>\n",
       "      <td>1.951530</td>\n",
       "      <td>10.341903</td>\n",
       "      <td>2.360723</td>\n",
       "      <td>4.437234</td>\n",
       "      <td>1.418332</td>\n",
       "      <td>3.546319</td>\n",
       "      <td>1.430139</td>\n",
       "    </tr>\n",
       "    <tr>\n",
       "      <th>VALUE</th>\n",
       "      <td>1.569786</td>\n",
       "      <td>2.978141</td>\n",
       "      <td>2.523807</td>\n",
       "      <td>1.058127</td>\n",
       "      <td>2.602819</td>\n",
       "      <td>6.313092</td>\n",
       "      <td>1.571382</td>\n",
       "      <td>1.239031</td>\n",
       "      <td>2.269577</td>\n",
       "      <td>4.552656</td>\n",
       "      <td>...</td>\n",
       "      <td>5.093919</td>\n",
       "      <td>5.373117</td>\n",
       "      <td>-0.139058</td>\n",
       "      <td>1.959635</td>\n",
       "      <td>10.425327</td>\n",
       "      <td>7.373143</td>\n",
       "      <td>4.532671</td>\n",
       "      <td>1.909580</td>\n",
       "      <td>3.035704</td>\n",
       "      <td>1.161776</td>\n",
       "    </tr>\n",
       "    <tr>\n",
       "      <th>VALUE</th>\n",
       "      <td>1.585265</td>\n",
       "      <td>2.134337</td>\n",
       "      <td>2.829239</td>\n",
       "      <td>1.267572</td>\n",
       "      <td>2.960690</td>\n",
       "      <td>1.817075</td>\n",
       "      <td>1.423240</td>\n",
       "      <td>0.462063</td>\n",
       "      <td>2.356895</td>\n",
       "      <td>4.485711</td>\n",
       "      <td>...</td>\n",
       "      <td>4.799167</td>\n",
       "      <td>5.423998</td>\n",
       "      <td>-0.097959</td>\n",
       "      <td>1.943231</td>\n",
       "      <td>10.782703</td>\n",
       "      <td>7.021439</td>\n",
       "      <td>3.791512</td>\n",
       "      <td>1.004798</td>\n",
       "      <td>3.387339</td>\n",
       "      <td>1.261971</td>\n",
       "    </tr>\n",
       "    <tr>\n",
       "      <th>VALUE</th>\n",
       "      <td>1.335035</td>\n",
       "      <td>2.157808</td>\n",
       "      <td>2.528000</td>\n",
       "      <td>1.330909</td>\n",
       "      <td>2.837385</td>\n",
       "      <td>2.801719</td>\n",
       "      <td>1.106735</td>\n",
       "      <td>0.564666</td>\n",
       "      <td>2.344618</td>\n",
       "      <td>3.982585</td>\n",
       "      <td>...</td>\n",
       "      <td>4.437234</td>\n",
       "      <td>5.018195</td>\n",
       "      <td>0.468434</td>\n",
       "      <td>2.184758</td>\n",
       "      <td>11.137706</td>\n",
       "      <td>8.180804</td>\n",
       "      <td>6.076414</td>\n",
       "      <td>1.232044</td>\n",
       "      <td>3.123045</td>\n",
       "      <td>1.267572</td>\n",
       "    </tr>\n",
       "    <tr>\n",
       "      <th>VALUE</th>\n",
       "      <td>1.516199</td>\n",
       "      <td>3.822315</td>\n",
       "      <td>2.523807</td>\n",
       "      <td>1.273586</td>\n",
       "      <td>2.093549</td>\n",
       "      <td>6.712629</td>\n",
       "      <td>0.908285</td>\n",
       "      <td>1.160335</td>\n",
       "      <td>2.304156</td>\n",
       "      <td>4.176986</td>\n",
       "      <td>...</td>\n",
       "      <td>5.071254</td>\n",
       "      <td>4.354178</td>\n",
       "      <td>-0.466601</td>\n",
       "      <td>1.992813</td>\n",
       "      <td>11.137706</td>\n",
       "      <td>2.187540</td>\n",
       "      <td>6.101862</td>\n",
       "      <td>1.673089</td>\n",
       "      <td>3.025737</td>\n",
       "      <td>1.498883</td>\n",
       "    </tr>\n",
       "    <tr>\n",
       "      <th>...</th>\n",
       "      <td>...</td>\n",
       "      <td>...</td>\n",
       "      <td>...</td>\n",
       "      <td>...</td>\n",
       "      <td>...</td>\n",
       "      <td>...</td>\n",
       "      <td>...</td>\n",
       "      <td>...</td>\n",
       "      <td>...</td>\n",
       "      <td>...</td>\n",
       "      <td>...</td>\n",
       "      <td>...</td>\n",
       "      <td>...</td>\n",
       "      <td>...</td>\n",
       "      <td>...</td>\n",
       "      <td>...</td>\n",
       "      <td>...</td>\n",
       "      <td>...</td>\n",
       "      <td>...</td>\n",
       "      <td>...</td>\n",
       "      <td>...</td>\n",
       "    </tr>\n",
       "    <tr>\n",
       "      <th>VALUE</th>\n",
       "      <td>1.710729</td>\n",
       "      <td>2.292655</td>\n",
       "      <td>2.448641</td>\n",
       "      <td>1.576548</td>\n",
       "      <td>3.995802</td>\n",
       "      <td>2.423717</td>\n",
       "      <td>1.209793</td>\n",
       "      <td>1.032134</td>\n",
       "      <td>4.091648</td>\n",
       "      <td>4.234257</td>\n",
       "      <td>...</td>\n",
       "      <td>5.452155</td>\n",
       "      <td>7.573517</td>\n",
       "      <td>0.370489</td>\n",
       "      <td>1.965035</td>\n",
       "      <td>9.633589</td>\n",
       "      <td>2.202687</td>\n",
       "      <td>7.678173</td>\n",
       "      <td>1.329313</td>\n",
       "      <td>3.072030</td>\n",
       "      <td>1.304512</td>\n",
       "    </tr>\n",
       "    <tr>\n",
       "      <th>VALUE</th>\n",
       "      <td>2.001367</td>\n",
       "      <td>3.016536</td>\n",
       "      <td>2.157808</td>\n",
       "      <td>1.565966</td>\n",
       "      <td>3.982585</td>\n",
       "      <td>1.871807</td>\n",
       "      <td>1.784050</td>\n",
       "      <td>1.298543</td>\n",
       "      <td>4.372513</td>\n",
       "      <td>4.676862</td>\n",
       "      <td>...</td>\n",
       "      <td>5.265147</td>\n",
       "      <td>7.740316</td>\n",
       "      <td>0.218895</td>\n",
       "      <td>2.563974</td>\n",
       "      <td>9.716142</td>\n",
       "      <td>2.112242</td>\n",
       "      <td>7.516152</td>\n",
       "      <td>1.463067</td>\n",
       "      <td>2.739740</td>\n",
       "      <td>1.036653</td>\n",
       "    </tr>\n",
       "    <tr>\n",
       "      <th>VALUE</th>\n",
       "      <td>1.708829</td>\n",
       "      <td>2.190747</td>\n",
       "      <td>2.335906</td>\n",
       "      <td>1.675046</td>\n",
       "      <td>3.970601</td>\n",
       "      <td>2.323254</td>\n",
       "      <td>1.256097</td>\n",
       "      <td>0.804675</td>\n",
       "      <td>4.073547</td>\n",
       "      <td>4.636038</td>\n",
       "      <td>...</td>\n",
       "      <td>5.216658</td>\n",
       "      <td>7.573517</td>\n",
       "      <td>0.414457</td>\n",
       "      <td>2.086899</td>\n",
       "      <td>9.428025</td>\n",
       "      <td>1.975642</td>\n",
       "      <td>8.086553</td>\n",
       "      <td>1.379820</td>\n",
       "      <td>3.102057</td>\n",
       "      <td>0.957622</td>\n",
       "    </tr>\n",
       "    <tr>\n",
       "      <th>VALUE</th>\n",
       "      <td>1.345217</td>\n",
       "      <td>2.153358</td>\n",
       "      <td>2.101144</td>\n",
       "      <td>1.669377</td>\n",
       "      <td>4.676862</td>\n",
       "      <td>2.837385</td>\n",
       "      <td>1.145106</td>\n",
       "      <td>1.023439</td>\n",
       "      <td>4.331031</td>\n",
       "      <td>4.600858</td>\n",
       "      <td>...</td>\n",
       "      <td>3.970601</td>\n",
       "      <td>7.740316</td>\n",
       "      <td>0.345736</td>\n",
       "      <td>2.012465</td>\n",
       "      <td>9.337672</td>\n",
       "      <td>3.662305</td>\n",
       "      <td>7.573517</td>\n",
       "      <td>0.735301</td>\n",
       "      <td>3.714552</td>\n",
       "      <td>1.330909</td>\n",
       "    </tr>\n",
       "    <tr>\n",
       "      <th>VALUE</th>\n",
       "      <td>1.810981</td>\n",
       "      <td>2.280193</td>\n",
       "      <td>2.184758</td>\n",
       "      <td>1.821107</td>\n",
       "      <td>4.636038</td>\n",
       "      <td>2.423717</td>\n",
       "      <td>1.369514</td>\n",
       "      <td>0.709479</td>\n",
       "      <td>4.195844</td>\n",
       "      <td>4.989697</td>\n",
       "      <td>...</td>\n",
       "      <td>3.982585</td>\n",
       "      <td>7.462123</td>\n",
       "      <td>0.773163</td>\n",
       "      <td>2.239472</td>\n",
       "      <td>9.633589</td>\n",
       "      <td>2.418303</td>\n",
       "      <td>8.180804</td>\n",
       "      <td>1.495500</td>\n",
       "      <td>3.591501</td>\n",
       "      <td>1.371163</td>\n",
       "    </tr>\n",
       "  </tbody>\n",
       "</table>\n",
       "<p>80 rows × 1205 columns</p>\n",
       "</div>"
      ],
      "text/plain": [
       "           0         1         2         3         4         5         6     \\\n",
       "VALUE  1.597713  2.866922  3.123045  1.276868  3.729534  6.461108  0.997509   \n",
       "VALUE  1.569786  2.978141  2.523807  1.058127  2.602819  6.313092  1.571382   \n",
       "VALUE  1.585265  2.134337  2.829239  1.267572  2.960690  1.817075  1.423240   \n",
       "VALUE  1.335035  2.157808  2.528000  1.330909  2.837385  2.801719  1.106735   \n",
       "VALUE  1.516199  3.822315  2.523807  1.273586  2.093549  6.712629  0.908285   \n",
       "...         ...       ...       ...       ...       ...       ...       ...   \n",
       "VALUE  1.710729  2.292655  2.448641  1.576548  3.995802  2.423717  1.209793   \n",
       "VALUE  2.001367  3.016536  2.157808  1.565966  3.982585  1.871807  1.784050   \n",
       "VALUE  1.708829  2.190747  2.335906  1.675046  3.970601  2.323254  1.256097   \n",
       "VALUE  1.345217  2.153358  2.101144  1.669377  4.676862  2.837385  1.145106   \n",
       "VALUE  1.810981  2.280193  2.184758  1.821107  4.636038  2.423717  1.369514   \n",
       "\n",
       "           7         8         9     ...      1195      1196      1197  \\\n",
       "VALUE  0.514437  2.549119  4.883893  ...  4.741841  4.780794 -0.631538   \n",
       "VALUE  1.239031  2.269577  4.552656  ...  5.093919  5.373117 -0.139058   \n",
       "VALUE  0.462063  2.356895  4.485711  ...  4.799167  5.423998 -0.097959   \n",
       "VALUE  0.564666  2.344618  3.982585  ...  4.437234  5.018195  0.468434   \n",
       "VALUE  1.160335  2.304156  4.176986  ...  5.071254  4.354178 -0.466601   \n",
       "...         ...       ...       ...  ...       ...       ...       ...   \n",
       "VALUE  1.032134  4.091648  4.234257  ...  5.452155  7.573517  0.370489   \n",
       "VALUE  1.298543  4.372513  4.676862  ...  5.265147  7.740316  0.218895   \n",
       "VALUE  0.804675  4.073547  4.636038  ...  5.216658  7.573517  0.414457   \n",
       "VALUE  1.023439  4.331031  4.600858  ...  3.970601  7.740316  0.345736   \n",
       "VALUE  0.709479  4.195844  4.989697  ...  3.982585  7.462123  0.773163   \n",
       "\n",
       "           1198       1199      1200      1201      1202      1203      1204  \n",
       "VALUE  1.951530  10.341903  2.360723  4.437234  1.418332  3.546319  1.430139  \n",
       "VALUE  1.959635  10.425327  7.373143  4.532671  1.909580  3.035704  1.161776  \n",
       "VALUE  1.943231  10.782703  7.021439  3.791512  1.004798  3.387339  1.261971  \n",
       "VALUE  2.184758  11.137706  8.180804  6.076414  1.232044  3.123045  1.267572  \n",
       "VALUE  1.992813  11.137706  2.187540  6.101862  1.673089  3.025737  1.498883  \n",
       "...         ...        ...       ...       ...       ...       ...       ...  \n",
       "VALUE  1.965035   9.633589  2.202687  7.678173  1.329313  3.072030  1.304512  \n",
       "VALUE  2.563974   9.716142  2.112242  7.516152  1.463067  2.739740  1.036653  \n",
       "VALUE  2.086899   9.428025  1.975642  8.086553  1.379820  3.102057  0.957622  \n",
       "VALUE  2.012465   9.337672  3.662305  7.573517  0.735301  3.714552  1.330909  \n",
       "VALUE  2.239472   9.633589  2.418303  8.180804  1.495500  3.591501  1.371163  \n",
       "\n",
       "[80 rows x 1205 columns]"
      ]
     },
     "execution_count": 19,
     "metadata": {},
     "output_type": "execute_result"
    }
   ],
   "source": [
    "X"
   ]
  },
  {
   "cell_type": "code",
   "execution_count": 20,
   "metadata": {},
   "outputs": [],
   "source": [
    "X_healthy, X_cancer = X[controls == 1], X[sick == 1]"
   ]
  },
  {
   "cell_type": "code",
   "execution_count": 21,
   "metadata": {},
   "outputs": [],
   "source": [
    "results = ttest_ind(X_healthy, X_cancer).pvalue"
   ]
  },
  {
   "cell_type": "code",
   "execution_count": 22,
   "metadata": {},
   "outputs": [],
   "source": [
    "lowest, pvalues = np.argsort(results)[:5], np.sort(results)[:5]"
   ]
  },
  {
   "cell_type": "code",
   "execution_count": 23,
   "metadata": {},
   "outputs": [
    {
     "data": {
      "text/plain": [
       "(443       hsa-miR-34a\n",
       " 452      hsa-miR-4266\n",
       " 629     hsa-miR-16-1*\n",
       " 246      hsa-miR-3923\n",
       " 1068     hsa-miR-516b\n",
       " Name: ID_REF, dtype: object,\n",
       " array([0.00267255, 0.00318664, 0.01573092, 0.02160846, 0.02180893]))"
      ]
     },
     "execution_count": 23,
     "metadata": {},
     "output_type": "execute_result"
    }
   ],
   "source": [
    "mirnas.iloc[lowest], pvalues"
   ]
  },
  {
   "cell_type": "markdown",
   "metadata": {},
   "source": [
    "### F-test"
   ]
  },
  {
   "cell_type": "code",
   "execution_count": 24,
   "metadata": {},
   "outputs": [],
   "source": [
    "t3 = table"
   ]
  },
  {
   "cell_type": "code",
   "execution_count": 25,
   "metadata": {},
   "outputs": [],
   "source": [
    "f, p = f_classif(t3, sick)"
   ]
  },
  {
   "cell_type": "code",
   "execution_count": 26,
   "metadata": {},
   "outputs": [
    {
     "data": {
      "text/plain": [
       "0.5715746257926745"
      ]
     },
     "execution_count": 26,
     "metadata": {},
     "output_type": "execute_result"
    }
   ],
   "source": [
    "np.mean(p)"
   ]
  },
  {
   "cell_type": "markdown",
   "metadata": {},
   "source": [
    "### ANOVA"
   ]
  },
  {
   "cell_type": "code",
   "execution_count": 27,
   "metadata": {},
   "outputs": [
    {
     "data": {
      "text/html": [
       "<div>\n",
       "<style scoped>\n",
       "    .dataframe tbody tr th:only-of-type {\n",
       "        vertical-align: middle;\n",
       "    }\n",
       "\n",
       "    .dataframe tbody tr th {\n",
       "        vertical-align: top;\n",
       "    }\n",
       "\n",
       "    .dataframe thead th {\n",
       "        text-align: right;\n",
       "    }\n",
       "</style>\n",
       "<table border=\"1\" class=\"dataframe\">\n",
       "  <thead>\n",
       "    <tr style=\"text-align: right;\">\n",
       "      <th></th>\n",
       "      <th>0</th>\n",
       "      <th>1</th>\n",
       "      <th>2</th>\n",
       "      <th>3</th>\n",
       "      <th>4</th>\n",
       "      <th>5</th>\n",
       "      <th>6</th>\n",
       "      <th>7</th>\n",
       "      <th>8</th>\n",
       "      <th>9</th>\n",
       "      <th>...</th>\n",
       "      <th>1195</th>\n",
       "      <th>1196</th>\n",
       "      <th>1197</th>\n",
       "      <th>1198</th>\n",
       "      <th>1199</th>\n",
       "      <th>1200</th>\n",
       "      <th>1201</th>\n",
       "      <th>1202</th>\n",
       "      <th>1203</th>\n",
       "      <th>1204</th>\n",
       "    </tr>\n",
       "  </thead>\n",
       "  <tbody>\n",
       "    <tr>\n",
       "      <th>VALUE</th>\n",
       "      <td>1.597713</td>\n",
       "      <td>2.866922</td>\n",
       "      <td>3.123045</td>\n",
       "      <td>1.276868</td>\n",
       "      <td>3.729534</td>\n",
       "      <td>6.461108</td>\n",
       "      <td>0.997509</td>\n",
       "      <td>0.514437</td>\n",
       "      <td>2.549119</td>\n",
       "      <td>4.883893</td>\n",
       "      <td>...</td>\n",
       "      <td>4.741841</td>\n",
       "      <td>4.780794</td>\n",
       "      <td>-0.631538</td>\n",
       "      <td>1.951530</td>\n",
       "      <td>10.341903</td>\n",
       "      <td>2.360723</td>\n",
       "      <td>4.437234</td>\n",
       "      <td>1.418332</td>\n",
       "      <td>3.546319</td>\n",
       "      <td>1.430139</td>\n",
       "    </tr>\n",
       "    <tr>\n",
       "      <th>VALUE</th>\n",
       "      <td>1.569786</td>\n",
       "      <td>2.978141</td>\n",
       "      <td>2.523807</td>\n",
       "      <td>1.058127</td>\n",
       "      <td>2.602819</td>\n",
       "      <td>6.313092</td>\n",
       "      <td>1.571382</td>\n",
       "      <td>1.239031</td>\n",
       "      <td>2.269577</td>\n",
       "      <td>4.552656</td>\n",
       "      <td>...</td>\n",
       "      <td>5.093919</td>\n",
       "      <td>5.373117</td>\n",
       "      <td>-0.139058</td>\n",
       "      <td>1.959635</td>\n",
       "      <td>10.425327</td>\n",
       "      <td>7.373143</td>\n",
       "      <td>4.532671</td>\n",
       "      <td>1.909580</td>\n",
       "      <td>3.035704</td>\n",
       "      <td>1.161776</td>\n",
       "    </tr>\n",
       "    <tr>\n",
       "      <th>VALUE</th>\n",
       "      <td>1.585265</td>\n",
       "      <td>2.134337</td>\n",
       "      <td>2.829239</td>\n",
       "      <td>1.267572</td>\n",
       "      <td>2.960690</td>\n",
       "      <td>1.817075</td>\n",
       "      <td>1.423240</td>\n",
       "      <td>0.462063</td>\n",
       "      <td>2.356895</td>\n",
       "      <td>4.485711</td>\n",
       "      <td>...</td>\n",
       "      <td>4.799167</td>\n",
       "      <td>5.423998</td>\n",
       "      <td>-0.097959</td>\n",
       "      <td>1.943231</td>\n",
       "      <td>10.782703</td>\n",
       "      <td>7.021439</td>\n",
       "      <td>3.791512</td>\n",
       "      <td>1.004798</td>\n",
       "      <td>3.387339</td>\n",
       "      <td>1.261971</td>\n",
       "    </tr>\n",
       "    <tr>\n",
       "      <th>VALUE</th>\n",
       "      <td>1.335035</td>\n",
       "      <td>2.157808</td>\n",
       "      <td>2.528000</td>\n",
       "      <td>1.330909</td>\n",
       "      <td>2.837385</td>\n",
       "      <td>2.801719</td>\n",
       "      <td>1.106735</td>\n",
       "      <td>0.564666</td>\n",
       "      <td>2.344618</td>\n",
       "      <td>3.982585</td>\n",
       "      <td>...</td>\n",
       "      <td>4.437234</td>\n",
       "      <td>5.018195</td>\n",
       "      <td>0.468434</td>\n",
       "      <td>2.184758</td>\n",
       "      <td>11.137706</td>\n",
       "      <td>8.180804</td>\n",
       "      <td>6.076414</td>\n",
       "      <td>1.232044</td>\n",
       "      <td>3.123045</td>\n",
       "      <td>1.267572</td>\n",
       "    </tr>\n",
       "    <tr>\n",
       "      <th>VALUE</th>\n",
       "      <td>1.516199</td>\n",
       "      <td>3.822315</td>\n",
       "      <td>2.523807</td>\n",
       "      <td>1.273586</td>\n",
       "      <td>2.093549</td>\n",
       "      <td>6.712629</td>\n",
       "      <td>0.908285</td>\n",
       "      <td>1.160335</td>\n",
       "      <td>2.304156</td>\n",
       "      <td>4.176986</td>\n",
       "      <td>...</td>\n",
       "      <td>5.071254</td>\n",
       "      <td>4.354178</td>\n",
       "      <td>-0.466601</td>\n",
       "      <td>1.992813</td>\n",
       "      <td>11.137706</td>\n",
       "      <td>2.187540</td>\n",
       "      <td>6.101862</td>\n",
       "      <td>1.673089</td>\n",
       "      <td>3.025737</td>\n",
       "      <td>1.498883</td>\n",
       "    </tr>\n",
       "    <tr>\n",
       "      <th>...</th>\n",
       "      <td>...</td>\n",
       "      <td>...</td>\n",
       "      <td>...</td>\n",
       "      <td>...</td>\n",
       "      <td>...</td>\n",
       "      <td>...</td>\n",
       "      <td>...</td>\n",
       "      <td>...</td>\n",
       "      <td>...</td>\n",
       "      <td>...</td>\n",
       "      <td>...</td>\n",
       "      <td>...</td>\n",
       "      <td>...</td>\n",
       "      <td>...</td>\n",
       "      <td>...</td>\n",
       "      <td>...</td>\n",
       "      <td>...</td>\n",
       "      <td>...</td>\n",
       "      <td>...</td>\n",
       "      <td>...</td>\n",
       "      <td>...</td>\n",
       "    </tr>\n",
       "    <tr>\n",
       "      <th>VALUE</th>\n",
       "      <td>1.710729</td>\n",
       "      <td>2.292655</td>\n",
       "      <td>2.448641</td>\n",
       "      <td>1.576548</td>\n",
       "      <td>3.995802</td>\n",
       "      <td>2.423717</td>\n",
       "      <td>1.209793</td>\n",
       "      <td>1.032134</td>\n",
       "      <td>4.091648</td>\n",
       "      <td>4.234257</td>\n",
       "      <td>...</td>\n",
       "      <td>5.452155</td>\n",
       "      <td>7.573517</td>\n",
       "      <td>0.370489</td>\n",
       "      <td>1.965035</td>\n",
       "      <td>9.633589</td>\n",
       "      <td>2.202687</td>\n",
       "      <td>7.678173</td>\n",
       "      <td>1.329313</td>\n",
       "      <td>3.072030</td>\n",
       "      <td>1.304512</td>\n",
       "    </tr>\n",
       "    <tr>\n",
       "      <th>VALUE</th>\n",
       "      <td>2.001367</td>\n",
       "      <td>3.016536</td>\n",
       "      <td>2.157808</td>\n",
       "      <td>1.565966</td>\n",
       "      <td>3.982585</td>\n",
       "      <td>1.871807</td>\n",
       "      <td>1.784050</td>\n",
       "      <td>1.298543</td>\n",
       "      <td>4.372513</td>\n",
       "      <td>4.676862</td>\n",
       "      <td>...</td>\n",
       "      <td>5.265147</td>\n",
       "      <td>7.740316</td>\n",
       "      <td>0.218895</td>\n",
       "      <td>2.563974</td>\n",
       "      <td>9.716142</td>\n",
       "      <td>2.112242</td>\n",
       "      <td>7.516152</td>\n",
       "      <td>1.463067</td>\n",
       "      <td>2.739740</td>\n",
       "      <td>1.036653</td>\n",
       "    </tr>\n",
       "    <tr>\n",
       "      <th>VALUE</th>\n",
       "      <td>1.708829</td>\n",
       "      <td>2.190747</td>\n",
       "      <td>2.335906</td>\n",
       "      <td>1.675046</td>\n",
       "      <td>3.970601</td>\n",
       "      <td>2.323254</td>\n",
       "      <td>1.256097</td>\n",
       "      <td>0.804675</td>\n",
       "      <td>4.073547</td>\n",
       "      <td>4.636038</td>\n",
       "      <td>...</td>\n",
       "      <td>5.216658</td>\n",
       "      <td>7.573517</td>\n",
       "      <td>0.414457</td>\n",
       "      <td>2.086899</td>\n",
       "      <td>9.428025</td>\n",
       "      <td>1.975642</td>\n",
       "      <td>8.086553</td>\n",
       "      <td>1.379820</td>\n",
       "      <td>3.102057</td>\n",
       "      <td>0.957622</td>\n",
       "    </tr>\n",
       "    <tr>\n",
       "      <th>VALUE</th>\n",
       "      <td>1.345217</td>\n",
       "      <td>2.153358</td>\n",
       "      <td>2.101144</td>\n",
       "      <td>1.669377</td>\n",
       "      <td>4.676862</td>\n",
       "      <td>2.837385</td>\n",
       "      <td>1.145106</td>\n",
       "      <td>1.023439</td>\n",
       "      <td>4.331031</td>\n",
       "      <td>4.600858</td>\n",
       "      <td>...</td>\n",
       "      <td>3.970601</td>\n",
       "      <td>7.740316</td>\n",
       "      <td>0.345736</td>\n",
       "      <td>2.012465</td>\n",
       "      <td>9.337672</td>\n",
       "      <td>3.662305</td>\n",
       "      <td>7.573517</td>\n",
       "      <td>0.735301</td>\n",
       "      <td>3.714552</td>\n",
       "      <td>1.330909</td>\n",
       "    </tr>\n",
       "    <tr>\n",
       "      <th>VALUE</th>\n",
       "      <td>1.810981</td>\n",
       "      <td>2.280193</td>\n",
       "      <td>2.184758</td>\n",
       "      <td>1.821107</td>\n",
       "      <td>4.636038</td>\n",
       "      <td>2.423717</td>\n",
       "      <td>1.369514</td>\n",
       "      <td>0.709479</td>\n",
       "      <td>4.195844</td>\n",
       "      <td>4.989697</td>\n",
       "      <td>...</td>\n",
       "      <td>3.982585</td>\n",
       "      <td>7.462123</td>\n",
       "      <td>0.773163</td>\n",
       "      <td>2.239472</td>\n",
       "      <td>9.633589</td>\n",
       "      <td>2.418303</td>\n",
       "      <td>8.180804</td>\n",
       "      <td>1.495500</td>\n",
       "      <td>3.591501</td>\n",
       "      <td>1.371163</td>\n",
       "    </tr>\n",
       "  </tbody>\n",
       "</table>\n",
       "<p>80 rows × 1205 columns</p>\n",
       "</div>"
      ],
      "text/plain": [
       "           0         1         2         3         4         5         6     \\\n",
       "VALUE  1.597713  2.866922  3.123045  1.276868  3.729534  6.461108  0.997509   \n",
       "VALUE  1.569786  2.978141  2.523807  1.058127  2.602819  6.313092  1.571382   \n",
       "VALUE  1.585265  2.134337  2.829239  1.267572  2.960690  1.817075  1.423240   \n",
       "VALUE  1.335035  2.157808  2.528000  1.330909  2.837385  2.801719  1.106735   \n",
       "VALUE  1.516199  3.822315  2.523807  1.273586  2.093549  6.712629  0.908285   \n",
       "...         ...       ...       ...       ...       ...       ...       ...   \n",
       "VALUE  1.710729  2.292655  2.448641  1.576548  3.995802  2.423717  1.209793   \n",
       "VALUE  2.001367  3.016536  2.157808  1.565966  3.982585  1.871807  1.784050   \n",
       "VALUE  1.708829  2.190747  2.335906  1.675046  3.970601  2.323254  1.256097   \n",
       "VALUE  1.345217  2.153358  2.101144  1.669377  4.676862  2.837385  1.145106   \n",
       "VALUE  1.810981  2.280193  2.184758  1.821107  4.636038  2.423717  1.369514   \n",
       "\n",
       "           7         8         9     ...      1195      1196      1197  \\\n",
       "VALUE  0.514437  2.549119  4.883893  ...  4.741841  4.780794 -0.631538   \n",
       "VALUE  1.239031  2.269577  4.552656  ...  5.093919  5.373117 -0.139058   \n",
       "VALUE  0.462063  2.356895  4.485711  ...  4.799167  5.423998 -0.097959   \n",
       "VALUE  0.564666  2.344618  3.982585  ...  4.437234  5.018195  0.468434   \n",
       "VALUE  1.160335  2.304156  4.176986  ...  5.071254  4.354178 -0.466601   \n",
       "...         ...       ...       ...  ...       ...       ...       ...   \n",
       "VALUE  1.032134  4.091648  4.234257  ...  5.452155  7.573517  0.370489   \n",
       "VALUE  1.298543  4.372513  4.676862  ...  5.265147  7.740316  0.218895   \n",
       "VALUE  0.804675  4.073547  4.636038  ...  5.216658  7.573517  0.414457   \n",
       "VALUE  1.023439  4.331031  4.600858  ...  3.970601  7.740316  0.345736   \n",
       "VALUE  0.709479  4.195844  4.989697  ...  3.982585  7.462123  0.773163   \n",
       "\n",
       "           1198       1199      1200      1201      1202      1203      1204  \n",
       "VALUE  1.951530  10.341903  2.360723  4.437234  1.418332  3.546319  1.430139  \n",
       "VALUE  1.959635  10.425327  7.373143  4.532671  1.909580  3.035704  1.161776  \n",
       "VALUE  1.943231  10.782703  7.021439  3.791512  1.004798  3.387339  1.261971  \n",
       "VALUE  2.184758  11.137706  8.180804  6.076414  1.232044  3.123045  1.267572  \n",
       "VALUE  1.992813  11.137706  2.187540  6.101862  1.673089  3.025737  1.498883  \n",
       "...         ...        ...       ...       ...       ...       ...       ...  \n",
       "VALUE  1.965035   9.633589  2.202687  7.678173  1.329313  3.072030  1.304512  \n",
       "VALUE  2.563974   9.716142  2.112242  7.516152  1.463067  2.739740  1.036653  \n",
       "VALUE  2.086899   9.428025  1.975642  8.086553  1.379820  3.102057  0.957622  \n",
       "VALUE  2.012465   9.337672  3.662305  7.573517  0.735301  3.714552  1.330909  \n",
       "VALUE  2.239472   9.633589  2.418303  8.180804  1.495500  3.591501  1.371163  \n",
       "\n",
       "[80 rows x 1205 columns]"
      ]
     },
     "execution_count": 27,
     "metadata": {},
     "output_type": "execute_result"
    }
   ],
   "source": [
    "t3"
   ]
  },
  {
   "cell_type": "code",
   "execution_count": 28,
   "metadata": {},
   "outputs": [],
   "source": [
    "X = np.array(sick).reshape(-1, 1)"
   ]
  },
  {
   "cell_type": "code",
   "execution_count": 29,
   "metadata": {},
   "outputs": [
    {
     "data": {
      "text/plain": [
       "LinearRegression()"
      ]
     },
     "execution_count": 29,
     "metadata": {},
     "output_type": "execute_result"
    }
   ],
   "source": [
    "linreg = LinearRegression()\n",
    "linreg.fit(X, t3)"
   ]
  },
  {
   "cell_type": "code",
   "execution_count": 30,
   "metadata": {},
   "outputs": [
    {
     "data": {
      "text/plain": [
       "0.008590687635086703"
      ]
     },
     "execution_count": 30,
     "metadata": {},
     "output_type": "execute_result"
    }
   ],
   "source": [
    "fitted = linreg.predict(X)\n",
    "explained_variance_score(t3, fitted)"
   ]
  },
  {
   "cell_type": "markdown",
   "metadata": {},
   "source": [
    "### Mean-variance-plot"
   ]
  },
  {
   "cell_type": "code",
   "execution_count": 31,
   "metadata": {},
   "outputs": [
    {
     "data": {
      "text/plain": [
       "0       1.620307\n",
       "1       2.418999\n",
       "2       2.430841\n",
       "3       1.614121\n",
       "4       4.429612\n",
       "          ...   \n",
       "1200    3.229530\n",
       "1201    7.548341\n",
       "1202    1.420238\n",
       "1203    3.303061\n",
       "1204    1.220146\n",
       "Length: 1205, dtype: float64"
      ]
     },
     "execution_count": 31,
     "metadata": {},
     "output_type": "execute_result"
    }
   ],
   "source": [
    "np.mean(table)"
   ]
  },
  {
   "cell_type": "code",
   "execution_count": 32,
   "metadata": {
    "tags": []
   },
   "outputs": [],
   "source": [
    "def get_means_and_variances(table):\n",
    "    return np.mean(table), np.var(table, ddof=1)"
   ]
  },
  {
   "cell_type": "code",
   "execution_count": 33,
   "metadata": {
    "tags": []
   },
   "outputs": [],
   "source": [
    "def mean_variance_plot(table):\n",
    "    means, variances = get_means_and_variances(table)\n",
    "    plt.scatter(means, variances)\n",
    "    plt.xlabel(\"mean\")\n",
    "    plt.ylabel(\"variance\")\n",
    "    plt.plot()"
   ]
  },
  {
   "cell_type": "code",
   "execution_count": 34,
   "metadata": {},
   "outputs": [
    {
     "data": {
      "image/png": "[encoded data removed]",
      "text/plain": [
       "<Figure size 432x288 with 1 Axes>"
      ]
     },
     "metadata": {
      "needs_background": "light"
     },
     "output_type": "display_data"
    }
   ],
   "source": [
    "mean_variance_plot(table)"
   ]
  },
  {
   "cell_type": "markdown",
   "metadata": {
    "tags": []
   },
   "source": [
    "### Log transformation"
   ]
  },
  {
   "cell_type": "code",
   "execution_count": 35,
   "metadata": {},
   "outputs": [],
   "source": [
    "log_table = table"
   ]
  },
  {
   "cell_type": "code",
   "execution_count": 36,
   "metadata": {},
   "outputs": [
    {
     "data": {
      "image/png": "[encoded data removed]",
      "text/plain": [
       "<Figure size 432x288 with 1 Axes>"
      ]
     },
     "metadata": {
      "needs_background": "light"
     },
     "output_type": "display_data"
    }
   ],
   "source": [
    "mean_variance_plot(log_table)"
   ]
  },
  {
   "cell_type": "code",
   "execution_count": 37,
   "metadata": {
    "tags": []
   },
   "outputs": [],
   "source": [
    "norm_log_table = log_table - np.mean(log_table)"
   ]
  },
  {
   "cell_type": "code",
   "execution_count": 38,
   "metadata": {},
   "outputs": [],
   "source": [
    "norm_log_table /= np.sqrt(np.mean(np.var(norm_log_table, ddof=1)))"
   ]
  },
  {
   "cell_type": "code",
   "execution_count": 39,
   "metadata": {},
   "outputs": [
    {
     "data": {
      "image/png": "[encoded data removed]",
      "text/plain": [
       "<Figure size 432x288 with 1 Axes>"
      ]
     },
     "metadata": {
      "needs_background": "light"
     },
     "output_type": "display_data"
    }
   ],
   "source": [
    "mean_variance_plot(norm_log_table)"
   ]
  },
  {
   "cell_type": "markdown",
   "metadata": {},
   "source": [
    "### PCA"
   ]
  },
  {
   "cell_type": "code",
   "execution_count": 40,
   "metadata": {
    "tags": []
   },
   "outputs": [],
   "source": [
    "pca = decomposition.PCA(n_components=10)"
   ]
  },
  {
   "cell_type": "code",
   "execution_count": 41,
   "metadata": {},
   "outputs": [
    {
     "data": {
      "text/plain": [
       "PCA(n_components=10)"
      ]
     },
     "execution_count": 41,
     "metadata": {},
     "output_type": "execute_result"
    }
   ],
   "source": [
    "pca.fit(norm_log_table)"
   ]
  },
  {
   "cell_type": "code",
   "execution_count": 42,
   "metadata": {},
   "outputs": [
    {
     "data": {
      "text/plain": [
       "array([0.38594343, 0.21948872, 0.07413855, 0.06310029, 0.03717908,\n",
       "       0.02642878, 0.02312132, 0.01642095, 0.01120519, 0.01075359])"
      ]
     },
     "execution_count": 42,
     "metadata": {},
     "output_type": "execute_result"
    }
   ],
   "source": [
    "pca.explained_variance_ratio_"
   ]
  },
  {
   "cell_type": "code",
   "execution_count": 43,
   "metadata": {
    "tags": []
   },
   "outputs": [],
   "source": [
    "components = pca.transform(norm_log_table)"
   ]
  },
  {
   "cell_type": "code",
   "execution_count": 44,
   "metadata": {},
   "outputs": [
    {
     "data": {
      "text/plain": [
       "(80, 10)"
      ]
     },
     "execution_count": 44,
     "metadata": {},
     "output_type": "execute_result"
    }
   ],
   "source": [
    "components.shape"
   ]
  },
  {
   "cell_type": "code",
   "execution_count": 45,
   "metadata": {},
   "outputs": [
    {
     "data": {
      "text/plain": [
       "38"
      ]
     },
     "execution_count": 45,
     "metadata": {},
     "output_type": "execute_result"
    }
   ],
   "source": [
    "sum(controls)"
   ]
  },
  {
   "cell_type": "code",
   "execution_count": 46,
   "metadata": {},
   "outputs": [
    {
     "data": {
      "image/png": "[encoded data removed]",
      "text/plain": [
       "<Figure size 576x576 with 1 Axes>"
      ]
     },
     "metadata": {
      "needs_background": "light"
     },
     "output_type": "display_data"
    }
   ],
   "source": [
    "fig = plt.figure(figsize = (8,8))\n",
    "ax = fig.add_subplot(1,1,1)\n",
    "\n",
    "ax.set_xlabel('Principal Component 1', fontsize = 15)\n",
    "ax.set_ylabel('Principal Component 2', fontsize = 15)\n",
    "ax.set_title('2 component PCA', fontsize = 20)\n",
    "targets = ['Cancer', 'Healthy']\n",
    "colors = ['r', 'g']\n",
    "ax.scatter(components[controls == False, 0], components[controls == False, 1], c = 'r', s = 10)\n",
    "ax.scatter(components[controls == True, 0], components[controls == True, 1], c = 'g', s = 10)\n",
    "ax.legend(targets)\n",
    "ax.grid()"
   ]
  },
  {
   "cell_type": "code",
   "execution_count": 47,
   "metadata": {
    "tags": []
   },
   "outputs": [],
   "source": [
    "components2 = components[components[:,0] < 20, :]\n",
    "controls2 = controls[components[:,0] < 20]"
   ]
  },
  {
   "cell_type": "code",
   "execution_count": 48,
   "metadata": {},
   "outputs": [
    {
     "data": {
      "image/png": "[encoded data removed]",
      "text/plain": [
       "<Figure size 576x576 with 1 Axes>"
      ]
     },
     "metadata": {
      "needs_background": "light"
     },
     "output_type": "display_data"
    }
   ],
   "source": [
    "fig = plt.figure(figsize = (8,8))\n",
    "ax = fig.add_subplot(1,1,1)\n",
    "\n",
    "ax.set_xlabel('Principal Component 1', fontsize = 15)\n",
    "ax.set_ylabel('Principal Component 2', fontsize = 15)\n",
    "ax.set_title('2 component PCA', fontsize = 20)\n",
    "targets = ['Cancer', 'Healthy']\n",
    "colors = ['r', 'g']\n",
    "ax.scatter(components2[controls2 == False, 0], components2[controls2 == False, 1], c = 'r', s = 10)\n",
    "ax.scatter(components2[controls2 == True, 0], components2[controls2 == True, 1], c = 'g', s = 10)\n",
    "ax.legend(targets)\n",
    "ax.grid()"
   ]
  },
  {
   "cell_type": "markdown",
   "metadata": {
    "tags": []
   },
   "source": [
    "### Linear regression adjustments"
   ]
  },
  {
   "cell_type": "code",
   "execution_count": 49,
   "metadata": {},
   "outputs": [],
   "source": [
    "sex = np.array([\"female\" in k.metadata[\"characteristics_ch1\"][1] for k in list(data.gsms.values()) if \"post\" not in k.metadata[\"characteristics_ch1\"][0]])\n",
    "age = np.array([float(k.metadata[\"characteristics_ch1\"][2].split(\" \")[1].replace(\"NA\", \"NaN\")) for k in list(data.gsms.values()) if \"post\" not in k.metadata[\"characteristics_ch1\"][0]])"
   ]
  },
  {
   "cell_type": "code",
   "execution_count": 50,
   "metadata": {},
   "outputs": [],
   "source": [
    "covars = pd.DataFrame(np.array([sex, age]).transpose(), columns=[\"sex\", \"age\"])"
   ]
  },
  {
   "cell_type": "code",
   "execution_count": 51,
   "metadata": {},
   "outputs": [],
   "source": [
    "covars = covars.fillna(covars.mean())"
   ]
  },
  {
   "cell_type": "code",
   "execution_count": 52,
   "metadata": {},
   "outputs": [
    {
     "data": {
      "text/html": [
       "<div>\n",
       "<style scoped>\n",
       "    .dataframe tbody tr th:only-of-type {\n",
       "        vertical-align: middle;\n",
       "    }\n",
       "\n",
       "    .dataframe tbody tr th {\n",
       "        vertical-align: top;\n",
       "    }\n",
       "\n",
       "    .dataframe thead th {\n",
       "        text-align: right;\n",
       "    }\n",
       "</style>\n",
       "<table border=\"1\" class=\"dataframe\">\n",
       "  <thead>\n",
       "    <tr style=\"text-align: right;\">\n",
       "      <th></th>\n",
       "      <th>sex</th>\n",
       "      <th>age</th>\n",
       "    </tr>\n",
       "  </thead>\n",
       "  <tbody>\n",
       "    <tr>\n",
       "      <th>0</th>\n",
       "      <td>1.0</td>\n",
       "      <td>77.0</td>\n",
       "    </tr>\n",
       "    <tr>\n",
       "      <th>1</th>\n",
       "      <td>0.0</td>\n",
       "      <td>68.0</td>\n",
       "    </tr>\n",
       "    <tr>\n",
       "      <th>2</th>\n",
       "      <td>0.0</td>\n",
       "      <td>51.0</td>\n",
       "    </tr>\n",
       "    <tr>\n",
       "      <th>3</th>\n",
       "      <td>1.0</td>\n",
       "      <td>71.0</td>\n",
       "    </tr>\n",
       "    <tr>\n",
       "      <th>4</th>\n",
       "      <td>0.0</td>\n",
       "      <td>72.0</td>\n",
       "    </tr>\n",
       "    <tr>\n",
       "      <th>...</th>\n",
       "      <td>...</td>\n",
       "      <td>...</td>\n",
       "    </tr>\n",
       "    <tr>\n",
       "      <th>75</th>\n",
       "      <td>1.0</td>\n",
       "      <td>45.0</td>\n",
       "    </tr>\n",
       "    <tr>\n",
       "      <th>76</th>\n",
       "      <td>0.0</td>\n",
       "      <td>55.0</td>\n",
       "    </tr>\n",
       "    <tr>\n",
       "      <th>77</th>\n",
       "      <td>1.0</td>\n",
       "      <td>31.0</td>\n",
       "    </tr>\n",
       "    <tr>\n",
       "      <th>78</th>\n",
       "      <td>0.0</td>\n",
       "      <td>39.0</td>\n",
       "    </tr>\n",
       "    <tr>\n",
       "      <th>79</th>\n",
       "      <td>1.0</td>\n",
       "      <td>49.0</td>\n",
       "    </tr>\n",
       "  </tbody>\n",
       "</table>\n",
       "<p>80 rows × 2 columns</p>\n",
       "</div>"
      ],
      "text/plain": [
       "    sex   age\n",
       "0   1.0  77.0\n",
       "1   0.0  68.0\n",
       "2   0.0  51.0\n",
       "3   1.0  71.0\n",
       "4   0.0  72.0\n",
       "..  ...   ...\n",
       "75  1.0  45.0\n",
       "76  0.0  55.0\n",
       "77  1.0  31.0\n",
       "78  0.0  39.0\n",
       "79  1.0  49.0\n",
       "\n",
       "[80 rows x 2 columns]"
      ]
     },
     "execution_count": 52,
     "metadata": {},
     "output_type": "execute_result"
    }
   ],
   "source": [
    "covars"
   ]
  },
  {
   "cell_type": "code",
   "execution_count": 53,
   "metadata": {},
   "outputs": [
    {
     "data": {
      "text/plain": [
       "LinearRegression()"
      ]
     },
     "execution_count": 53,
     "metadata": {},
     "output_type": "execute_result"
    }
   ],
   "source": [
    "linreg = LinearRegression()\n",
    "linreg.fit(covars, norm_log_table)"
   ]
  },
  {
   "cell_type": "code",
   "execution_count": 54,
   "metadata": {},
   "outputs": [],
   "source": [
    "adj_norm_log_table = norm_log_table - linreg.predict(covars)"
   ]
  },
  {
   "cell_type": "markdown",
   "metadata": {
    "tags": []
   },
   "source": [
    "# PCA"
   ]
  },
  {
   "cell_type": "code",
   "execution_count": 55,
   "metadata": {
    "tags": []
   },
   "outputs": [],
   "source": [
    "pca = decomposition.PCA(n_components=2)"
   ]
  },
  {
   "cell_type": "code",
   "execution_count": 56,
   "metadata": {},
   "outputs": [
    {
     "data": {
      "text/plain": [
       "PCA(n_components=2)"
      ]
     },
     "execution_count": 56,
     "metadata": {},
     "output_type": "execute_result"
    }
   ],
   "source": [
    "pca.fit(adj_norm_log_table)"
   ]
  },
  {
   "cell_type": "code",
   "execution_count": 57,
   "metadata": {
    "tags": []
   },
   "outputs": [],
   "source": [
    "components = pca.transform(adj_norm_log_table)"
   ]
  },
  {
   "cell_type": "code",
   "execution_count": 58,
   "metadata": {},
   "outputs": [
    {
     "data": {
      "text/plain": [
       "array([[ 46.21412011,  -1.22112069],\n",
       "       [ 48.74751532,  -0.96473504],\n",
       "       [ 48.13792737,   2.19127293],\n",
       "       [ 44.68624968,   1.78836716],\n",
       "       [ 44.45062834,   3.93002697],\n",
       "       [ 42.42589823,   5.41698985],\n",
       "       [ 46.23311378,   4.30204713],\n",
       "       [ 43.87866874,   5.78207987],\n",
       "       [ 46.57348594,  -0.98591598],\n",
       "       [ 49.37006222,   0.13953966],\n",
       "       [ 44.56066843,  -1.86459209],\n",
       "       [ 47.76416627,   3.12606168],\n",
       "       [ 46.39596778,   0.38776093],\n",
       "       [ 48.38188034,   3.23583141],\n",
       "       [ -9.06646309,  14.76019517],\n",
       "       [ -8.2558111 ,  12.58684012],\n",
       "       [-10.73193269,  16.07978829],\n",
       "       [-10.20679978,  16.07646531],\n",
       "       [-11.09283134,  17.69220976],\n",
       "       [ -9.23120763,  16.61182803],\n",
       "       [ -9.66043689,  16.91549596],\n",
       "       [-11.4125998 ,  17.56163604],\n",
       "       [ -6.23364874,   6.02060979],\n",
       "       [ -8.72597658,  13.83036428],\n",
       "       [-10.46720525,  12.95459795],\n",
       "       [ -9.04631215,  14.55304863],\n",
       "       [ -9.48439041,  16.32746233],\n",
       "       [-13.21121533,  23.73214819],\n",
       "       [-11.06188566,  24.27093531],\n",
       "       [-11.66033413,  23.8382095 ],\n",
       "       [-12.85919065,  22.95364016],\n",
       "       [-13.24240353,  24.82973024],\n",
       "       [-12.99726305,  24.42520354],\n",
       "       [-11.59068919,  26.47395021],\n",
       "       [-13.86199744,  27.17428907],\n",
       "       [-10.08892098,  24.13444392],\n",
       "       [-10.66089499,  21.4263203 ],\n",
       "       [-11.61241963,  21.75362943],\n",
       "       [-11.53909985,  27.17823932],\n",
       "       [-13.02591959,  22.31506274],\n",
       "       [-10.87642822,  24.16888257],\n",
       "       [ -5.75322269, -21.74596782],\n",
       "       [ -6.7023351 , -13.64031155],\n",
       "       [ -8.55240904, -13.63132382],\n",
       "       [ -9.23350503, -18.48124297],\n",
       "       [ -9.73740471, -19.30223119],\n",
       "       [ -9.67262635, -15.93338153],\n",
       "       [ -8.09016402, -16.07605005],\n",
       "       [ -9.0881023 , -18.33643851],\n",
       "       [ -3.29672069, -25.16712157],\n",
       "       [ -6.77528335, -20.77214027],\n",
       "       [ -7.59336546, -17.71130527],\n",
       "       [ -8.10395932, -15.86379228],\n",
       "       [-10.38885956,  -8.43503638],\n",
       "       [ -7.32496661, -19.29357669],\n",
       "       [ -7.64588905, -20.59564254],\n",
       "       [ -9.16642329, -19.69028141],\n",
       "       [ -9.42035483, -19.11990901],\n",
       "       [-10.0334677 , -21.23761527],\n",
       "       [-10.35220514, -15.41066739],\n",
       "       [ -7.3164934 , -17.4197444 ],\n",
       "       [ -9.88154954, -16.94891714],\n",
       "       [ -6.3486824 , -19.65063224],\n",
       "       [ -8.12577134, -19.31291329],\n",
       "       [ -9.4756931 , -21.16105588],\n",
       "       [ -8.7582956 , -17.81320966],\n",
       "       [-10.76367291, -17.34764651],\n",
       "       [ -8.40851204,  -1.48244009],\n",
       "       [ -9.70948504,  -8.01250825],\n",
       "       [ -8.5481427 , -10.14715027],\n",
       "       [-11.56836632,  -8.57637384],\n",
       "       [-10.61950122,   3.13879057],\n",
       "       [-11.17094248,  -7.59542316],\n",
       "       [ -9.5319149 ,  -5.01354341],\n",
       "       [-13.61847191,  -5.54287445],\n",
       "       [-11.80400975,  -9.3863958 ],\n",
       "       [-11.80385488, -10.21902124],\n",
       "       [-12.96614582, -11.26144646],\n",
       "       [ -8.21401053,  -6.79065691],\n",
       "       [-10.35129475,  -4.92164198]])"
      ]
     },
     "execution_count": 58,
     "metadata": {},
     "output_type": "execute_result"
    }
   ],
   "source": [
    "components"
   ]
  },
  {
   "cell_type": "code",
   "execution_count": 59,
   "metadata": {},
   "outputs": [
    {
     "data": {
      "image/png": "[encoded data removed]",
      "text/plain": [
       "<Figure size 576x576 with 1 Axes>"
      ]
     },
     "metadata": {
      "needs_background": "light"
     },
     "output_type": "display_data"
    }
   ],
   "source": [
    "fig = plt.figure(figsize = (8,8))\n",
    "ax = fig.add_subplot(1,1,1)\n",
    "\n",
    "ax.set_xlabel('Principal Component 1', fontsize = 15)\n",
    "ax.set_ylabel('Principal Component 2', fontsize = 15)\n",
    "ax.set_title('2 component PCA', fontsize = 20)\n",
    "targets = ['Cancer', 'Healthy']\n",
    "colors = ['r', 'g']\n",
    "ax.scatter(components[controls == False, 0], components[controls == False, 1], c = 'r', s = 10)\n",
    "ax.scatter(components[controls == True, 0], components[controls == True, 1], c = 'g', s = 10)\n",
    "ax.legend(targets)\n",
    "ax.grid()"
   ]
  },
  {
   "cell_type": "markdown",
   "metadata": {},
   "source": [
    "### Logistic Regression"
   ]
  },
  {
   "cell_type": "code",
   "execution_count": 60,
   "metadata": {},
   "outputs": [],
   "source": [
    "X_train, X_test, y_train, y_test = train_test_split(adj_norm_log_table, controls, test_size=0.33, random_state=42)"
   ]
  },
  {
   "cell_type": "code",
   "execution_count": 61,
   "metadata": {},
   "outputs": [
    {
     "data": {
      "text/plain": [
       "LogisticRegression(max_iter=1000)"
      ]
     },
     "execution_count": 61,
     "metadata": {},
     "output_type": "execute_result"
    }
   ],
   "source": [
    "model = LogisticRegression(max_iter=1000)\n",
    "model.fit(X_train, y_train)"
   ]
  },
  {
   "cell_type": "code",
   "execution_count": 62,
   "metadata": {},
   "outputs": [
    {
     "name": "stderr",
     "output_type": "stream",
     "text": [
      "C:\\Users\\olefr\\AppData\\Local\\Programs\\Python\\Python310\\lib\\site-packages\\sklearn\\utils\\deprecation.py:87: FutureWarning: Function plot_roc_curve is deprecated; Function :func:`plot_roc_curve` is deprecated in 1.0 and will be removed in 1.2. Use one of the class methods: :meth:`sklearn.metric.RocCurveDisplay.from_predictions` or :meth:`sklearn.metric.RocCurveDisplay.from_estimator`.\n",
      "  warnings.warn(msg, category=FutureWarning)\n"
     ]
    },
    {
     "data": {
      "text/plain": [
       "<sklearn.metrics._plot.roc_curve.RocCurveDisplay at 0x180ac50a7d0>"
      ]
     },
     "execution_count": 62,
     "metadata": {},
     "output_type": "execute_result"
    },
    {
     "data": {
      "image/png": "[encoded data removed]",
      "text/plain": [
       "<Figure size 432x288 with 1 Axes>"
      ]
     },
     "metadata": {
      "needs_background": "light"
     },
     "output_type": "display_data"
    }
   ],
   "source": [
    "plot_roc_curve(model, X_test, y_test)"
   ]
  },
  {
   "cell_type": "markdown",
   "metadata": {
    "jupyter": {
     "outputs_hidden": true
    }
   },
   "source": [
    "### XGBoost"
   ]
  },
  {
   "cell_type": "code",
   "execution_count": 63,
   "metadata": {},
   "outputs": [
    {
     "name": "stdout",
     "output_type": "stream",
     "text": [
      "[18:49:16] WARNING: C:/Users/Administrator/workspace/xgboost-win64_release_1.5.1/src/learner.cc:1115: Starting in XGBoost 1.3.0, the default evaluation metric used with the objective 'binary:logistic' was changed from 'error' to 'logloss'. Explicitly set eval_metric if you'd like to restore the old behavior.\n"
     ]
    },
    {
     "data": {
      "text/plain": [
       "XGBClassifier(base_score=0.5, booster='gbtree', colsample_bylevel=1,\n",
       "              colsample_bynode=1, colsample_bytree=1, enable_categorical=False,\n",
       "              gamma=0, gpu_id=-1, importance_type=None,\n",
       "              interaction_constraints='', learning_rate=0.300000012,\n",
       "              max_delta_step=0, max_depth=6, min_child_weight=1, missing=nan,\n",
       "              monotone_constraints='()', n_estimators=100, n_jobs=16,\n",
       "              num_parallel_tree=1, predictor='auto', random_state=0,\n",
       "              reg_alpha=0, reg_lambda=1, scale_pos_weight=1, subsample=1,\n",
       "              tree_method='exact', use_label_encoder=False,\n",
       "              validate_parameters=1, verbosity=None)"
      ]
     },
     "execution_count": 63,
     "metadata": {},
     "output_type": "execute_result"
    }
   ],
   "source": [
    "model = XGBClassifier(use_label_encoder=False)\n",
    "model.fit(X_train, y_train)"
   ]
  },
  {
   "cell_type": "code",
   "execution_count": 64,
   "metadata": {},
   "outputs": [
    {
     "name": "stderr",
     "output_type": "stream",
     "text": [
      "C:\\Users\\olefr\\AppData\\Local\\Programs\\Python\\Python310\\lib\\site-packages\\sklearn\\utils\\deprecation.py:87: FutureWarning: Function plot_roc_curve is deprecated; Function :func:`plot_roc_curve` is deprecated in 1.0 and will be removed in 1.2. Use one of the class methods: :meth:`sklearn.metric.RocCurveDisplay.from_predictions` or :meth:`sklearn.metric.RocCurveDisplay.from_estimator`.\n",
      "  warnings.warn(msg, category=FutureWarning)\n"
     ]
    },
    {
     "data": {
      "text/plain": [
       "<sklearn.metrics._plot.roc_curve.RocCurveDisplay at 0x180ac166a40>"
      ]
     },
     "execution_count": 64,
     "metadata": {},
     "output_type": "execute_result"
    },
    {
     "data": {
      "image/png": "[encoded data removed]",
      "text/plain": [
       "<Figure size 432x288 with 1 Axes>"
      ]
     },
     "metadata": {
      "needs_background": "light"
     },
     "output_type": "display_data"
    }
   ],
   "source": [
    "plot_roc_curve(model, X_test, y_test)"
   ]
  },
  {
   "cell_type": "markdown",
   "metadata": {},
   "source": [
    "### Export data"
   ]
  },
  {
   "cell_type": "code",
   "execution_count": 65,
   "metadata": {},
   "outputs": [],
   "source": [
    "lookup_table = data.gpls[\"GPL16770\"].table"
   ]
  },
  {
   "cell_type": "code",
   "execution_count": 66,
   "metadata": {},
   "outputs": [
    {
     "data": {
      "text/html": [
       "<div>\n",
       "<style scoped>\n",
       "    .dataframe tbody tr th:only-of-type {\n",
       "        vertical-align: middle;\n",
       "    }\n",
       "\n",
       "    .dataframe tbody tr th {\n",
       "        vertical-align: top;\n",
       "    }\n",
       "\n",
       "    .dataframe thead th {\n",
       "        text-align: right;\n",
       "    }\n",
       "</style>\n",
       "<table border=\"1\" class=\"dataframe\">\n",
       "  <thead>\n",
       "    <tr style=\"text-align: right;\">\n",
       "      <th></th>\n",
       "      <th>ID</th>\n",
       "      <th>miRNA_ID</th>\n",
       "      <th>SPOT_ID</th>\n",
       "    </tr>\n",
       "  </thead>\n",
       "  <tbody>\n",
       "    <tr>\n",
       "      <th>0</th>\n",
       "      <td>ebv-miR-BART1-3p</td>\n",
       "      <td>ebv-miR-BART1-3p</td>\n",
       "      <td>NaN</td>\n",
       "    </tr>\n",
       "    <tr>\n",
       "      <th>1</th>\n",
       "      <td>ebv-miR-BART1-5p</td>\n",
       "      <td>ebv-miR-BART1-5p</td>\n",
       "      <td>NaN</td>\n",
       "    </tr>\n",
       "    <tr>\n",
       "      <th>2</th>\n",
       "      <td>ebv-miR-BART10</td>\n",
       "      <td>ebv-miR-BART10</td>\n",
       "      <td>NaN</td>\n",
       "    </tr>\n",
       "    <tr>\n",
       "      <th>3</th>\n",
       "      <td>ebv-miR-BART10*</td>\n",
       "      <td>ebv-miR-BART10*</td>\n",
       "      <td>NaN</td>\n",
       "    </tr>\n",
       "    <tr>\n",
       "      <th>4</th>\n",
       "      <td>ebv-miR-BART11-3p</td>\n",
       "      <td>ebv-miR-BART11-3p</td>\n",
       "      <td>NaN</td>\n",
       "    </tr>\n",
       "  </tbody>\n",
       "</table>\n",
       "</div>"
      ],
      "text/plain": [
       "                  ID           miRNA_ID SPOT_ID\n",
       "0   ebv-miR-BART1-3p   ebv-miR-BART1-3p     NaN\n",
       "1   ebv-miR-BART1-5p   ebv-miR-BART1-5p     NaN\n",
       "2     ebv-miR-BART10     ebv-miR-BART10     NaN\n",
       "3    ebv-miR-BART10*    ebv-miR-BART10*     NaN\n",
       "4  ebv-miR-BART11-3p  ebv-miR-BART11-3p     NaN"
      ]
     },
     "execution_count": 66,
     "metadata": {},
     "output_type": "execute_result"
    }
   ],
   "source": [
    "lookup_table.head()"
   ]
  },
  {
   "cell_type": "code",
   "execution_count": 67,
   "metadata": {},
   "outputs": [],
   "source": [
    "lookup_table = lookup_table.set_index(\"ID\")"
   ]
  },
  {
   "cell_type": "code",
   "execution_count": 68,
   "metadata": {},
   "outputs": [],
   "source": [
    "mirna_ids = lookup_table.loc[mirnas][\"miRNA_ID\"]"
   ]
  },
  {
   "cell_type": "code",
   "execution_count": 69,
   "metadata": {},
   "outputs": [],
   "source": [
    "from Scripts import converters"
   ]
  },
  {
   "cell_type": "code",
   "execution_count": 70,
   "metadata": {},
   "outputs": [],
   "source": [
    "sequences = converters.canonical_to_seq(mirnas, True)"
   ]
  },
  {
   "cell_type": "code",
   "execution_count": 71,
   "metadata": {},
   "outputs": [
    {
     "data": {
      "text/plain": [
       "46        hsa-miR-1274b\n",
       "318       hsa-miR-1274a\n",
       "715     hsa-miR-3647-3p\n",
       "754         hsa-miR-720\n",
       "952         hsa-let-7c*\n",
       "1196       hsa-miR-1280\n",
       "Name: ID_REF, dtype: object"
      ]
     },
     "execution_count": 71,
     "metadata": {},
     "output_type": "execute_result"
    }
   ],
   "source": [
    "sequences = np.array(sequences)\n",
    "mirnas.loc[sequences == None]"
   ]
  },
  {
   "cell_type": "code",
   "execution_count": 72,
   "metadata": {},
   "outputs": [],
   "source": [
    "mask = sequences != None\n",
    "sequences = sequences[mask]\n",
    "adj_norm_log_table = adj_norm_log_table.loc[:, mask]"
   ]
  },
  {
   "cell_type": "code",
   "execution_count": 74,
   "metadata": {},
   "outputs": [
    {
     "name": "stderr",
     "output_type": "stream",
     "text": [
      "C:\\Users\\olefr\\AppData\\Local\\Temp/ipykernel_33896/248061674.py:3: SettingWithCopyWarning: \n",
      "A value is trying to be set on a copy of a slice from a DataFrame.\n",
      "Try using .loc[row_indexer,col_indexer] = value instead\n",
      "\n",
      "See the caveats in the documentation: https://pandas.pydata.org/pandas-docs/stable/user_guide/indexing.html#returning-a-view-versus-a-copy\n",
      "  adj_norm_log_table[\"cancer\"] = sick\n"
     ]
    },
    {
     "data": {
      "text/html": [
       "<div>\n",
       "<style scoped>\n",
       "    .dataframe tbody tr th:only-of-type {\n",
       "        vertical-align: middle;\n",
       "    }\n",
       "\n",
       "    .dataframe tbody tr th {\n",
       "        vertical-align: top;\n",
       "    }\n",
       "\n",
       "    .dataframe thead th {\n",
       "        text-align: right;\n",
       "    }\n",
       "</style>\n",
       "<table border=\"1\" class=\"dataframe\">\n",
       "  <thead>\n",
       "    <tr style=\"text-align: right;\">\n",
       "      <th></th>\n",
       "      <th>UUUUGCACCUUUUGGAGUGAA</th>\n",
       "      <th>AAAAGUAAUUGUGGUUUUUGCC</th>\n",
       "      <th>CCUCCUGCCCUCCUUGCUGU</th>\n",
       "      <th>UAAUACUGUCUGGUAAAACCGU</th>\n",
       "      <th>ACCGUGCAAAGGUAGCAUA</th>\n",
       "      <th>UCAGGCCAGGCACAGUGGCUCA</th>\n",
       "      <th>UCAGCACCAGGAUAUUGUUGGAG</th>\n",
       "      <th>AAGAUGUGGAAAAAUUGGAAUC</th>\n",
       "      <th>ACCAUCGACCGUUGAUUGUACC</th>\n",
       "      <th>CGUCAACACUUGCUGGUUUCCU</th>\n",
       "      <th>...</th>\n",
       "      <th>UCGCCUCCUCCUCUCCC</th>\n",
       "      <th>UCUACAAAGGAAAGCGCUUUCU</th>\n",
       "      <th>UCGUUUGCCUUUUUCUGCUU</th>\n",
       "      <th>AGCAGCAUUGUACAGGGCUAUGA</th>\n",
       "      <th>AACCCGUAGAUCCGAACUUGUG</th>\n",
       "      <th>UACAGUACUGUGAUAACUGAA</th>\n",
       "      <th>UGGAGUCCAGGAAUCUGCAUUUU</th>\n",
       "      <th>UGGACUGCCCUGAUCUGGAGA</th>\n",
       "      <th>UCAAAUGCUCAGACUCCUGUGGU</th>\n",
       "      <th>cancer</th>\n",
       "    </tr>\n",
       "  </thead>\n",
       "  <tbody>\n",
       "    <tr>\n",
       "      <th>VALUE</th>\n",
       "      <td>0.025420</td>\n",
       "      <td>0.593850</td>\n",
       "      <td>1.051494</td>\n",
       "      <td>-0.426680</td>\n",
       "      <td>-1.597334</td>\n",
       "      <td>5.086684</td>\n",
       "      <td>-0.444829</td>\n",
       "      <td>-0.703762</td>\n",
       "      <td>-1.163498</td>\n",
       "      <td>0.523635</td>\n",
       "      <td>...</td>\n",
       "      <td>0.575174</td>\n",
       "      <td>-1.008913</td>\n",
       "      <td>-0.266459</td>\n",
       "      <td>0.222537</td>\n",
       "      <td>-0.650866</td>\n",
       "      <td>-4.346229</td>\n",
       "      <td>0.028458</td>\n",
       "      <td>0.104178</td>\n",
       "      <td>0.323370</td>\n",
       "      <td>1</td>\n",
       "    </tr>\n",
       "    <tr>\n",
       "      <th>VALUE</th>\n",
       "      <td>-0.112599</td>\n",
       "      <td>0.628187</td>\n",
       "      <td>0.056672</td>\n",
       "      <td>-0.739591</td>\n",
       "      <td>-2.446768</td>\n",
       "      <td>4.972264</td>\n",
       "      <td>0.336614</td>\n",
       "      <td>0.207331</td>\n",
       "      <td>-1.460526</td>\n",
       "      <td>0.230249</td>\n",
       "      <td>...</td>\n",
       "      <td>0.344640</td>\n",
       "      <td>-0.416110</td>\n",
       "      <td>-0.225808</td>\n",
       "      <td>0.265791</td>\n",
       "      <td>6.189803</td>\n",
       "      <td>-3.995142</td>\n",
       "      <td>0.632458</td>\n",
       "      <td>-0.210390</td>\n",
       "      <td>0.011826</td>\n",
       "      <td>1</td>\n",
       "    </tr>\n",
       "    <tr>\n",
       "      <th>VALUE</th>\n",
       "      <td>-0.101622</td>\n",
       "      <td>-0.467034</td>\n",
       "      <td>0.458779</td>\n",
       "      <td>-0.479952</td>\n",
       "      <td>-1.675658</td>\n",
       "      <td>-0.984798</td>\n",
       "      <td>0.175600</td>\n",
       "      <td>-0.793110</td>\n",
       "      <td>-1.264227</td>\n",
       "      <td>0.069238</td>\n",
       "      <td>...</td>\n",
       "      <td>-0.091861</td>\n",
       "      <td>-0.410246</td>\n",
       "      <td>-0.229866</td>\n",
       "      <td>0.800035</td>\n",
       "      <td>5.251074</td>\n",
       "      <td>-5.052298</td>\n",
       "      <td>-0.612994</td>\n",
       "      <td>0.323485</td>\n",
       "      <td>0.096971</td>\n",
       "      <td>1</td>\n",
       "    </tr>\n",
       "    <tr>\n",
       "      <th>VALUE</th>\n",
       "      <td>-0.340277</td>\n",
       "      <td>-0.359582</td>\n",
       "      <td>0.224704</td>\n",
       "      <td>-0.362445</td>\n",
       "      <td>-2.728886</td>\n",
       "      <td>0.127644</td>\n",
       "      <td>-0.279052</td>\n",
       "      <td>-0.609674</td>\n",
       "      <td>-1.418549</td>\n",
       "      <td>-0.742874</td>\n",
       "      <td>...</td>\n",
       "      <td>0.144666</td>\n",
       "      <td>0.489222</td>\n",
       "      <td>0.061540</td>\n",
       "      <td>1.334080</td>\n",
       "      <td>7.210549</td>\n",
       "      <td>-2.099575</td>\n",
       "      <td>-0.227740</td>\n",
       "      <td>-0.461835</td>\n",
       "      <td>0.080620</td>\n",
       "      <td>1</td>\n",
       "    </tr>\n",
       "    <tr>\n",
       "      <th>VALUE</th>\n",
       "      <td>-0.184020</td>\n",
       "      <td>1.775741</td>\n",
       "      <td>0.061111</td>\n",
       "      <td>-0.435799</td>\n",
       "      <td>-3.214060</td>\n",
       "      <td>5.466542</td>\n",
       "      <td>-0.587469</td>\n",
       "      <td>0.082295</td>\n",
       "      <td>-1.430739</td>\n",
       "      <td>-0.271351</td>\n",
       "      <td>...</td>\n",
       "      <td>0.320521</td>\n",
       "      <td>-0.855604</td>\n",
       "      <td>-0.184445</td>\n",
       "      <td>1.237833</td>\n",
       "      <td>-0.850539</td>\n",
       "      <td>-1.823986</td>\n",
       "      <td>0.306138</td>\n",
       "      <td>-0.235710</td>\n",
       "      <td>0.488911</td>\n",
       "      <td>1</td>\n",
       "    </tr>\n",
       "  </tbody>\n",
       "</table>\n",
       "<p>5 rows × 1187 columns</p>\n",
       "</div>"
      ],
      "text/plain": [
       "       UUUUGCACCUUUUGGAGUGAA  AAAAGUAAUUGUGGUUUUUGCC  CCUCCUGCCCUCCUUGCUGU  \\\n",
       "VALUE               0.025420                0.593850              1.051494   \n",
       "VALUE              -0.112599                0.628187              0.056672   \n",
       "VALUE              -0.101622               -0.467034              0.458779   \n",
       "VALUE              -0.340277               -0.359582              0.224704   \n",
       "VALUE              -0.184020                1.775741              0.061111   \n",
       "\n",
       "       UAAUACUGUCUGGUAAAACCGU  ACCGUGCAAAGGUAGCAUA  UCAGGCCAGGCACAGUGGCUCA  \\\n",
       "VALUE               -0.426680            -1.597334                5.086684   \n",
       "VALUE               -0.739591            -2.446768                4.972264   \n",
       "VALUE               -0.479952            -1.675658               -0.984798   \n",
       "VALUE               -0.362445            -2.728886                0.127644   \n",
       "VALUE               -0.435799            -3.214060                5.466542   \n",
       "\n",
       "       UCAGCACCAGGAUAUUGUUGGAG  AAGAUGUGGAAAAAUUGGAAUC  \\\n",
       "VALUE                -0.444829               -0.703762   \n",
       "VALUE                 0.336614                0.207331   \n",
       "VALUE                 0.175600               -0.793110   \n",
       "VALUE                -0.279052               -0.609674   \n",
       "VALUE                -0.587469                0.082295   \n",
       "\n",
       "       ACCAUCGACCGUUGAUUGUACC  CGUCAACACUUGCUGGUUUCCU  ...  UCGCCUCCUCCUCUCCC  \\\n",
       "VALUE               -1.163498                0.523635  ...           0.575174   \n",
       "VALUE               -1.460526                0.230249  ...           0.344640   \n",
       "VALUE               -1.264227                0.069238  ...          -0.091861   \n",
       "VALUE               -1.418549               -0.742874  ...           0.144666   \n",
       "VALUE               -1.430739               -0.271351  ...           0.320521   \n",
       "\n",
       "       UCUACAAAGGAAAGCGCUUUCU  UCGUUUGCCUUUUUCUGCUU  AGCAGCAUUGUACAGGGCUAUGA  \\\n",
       "VALUE               -1.008913             -0.266459                 0.222537   \n",
       "VALUE               -0.416110             -0.225808                 0.265791   \n",
       "VALUE               -0.410246             -0.229866                 0.800035   \n",
       "VALUE                0.489222              0.061540                 1.334080   \n",
       "VALUE               -0.855604             -0.184445                 1.237833   \n",
       "\n",
       "       AACCCGUAGAUCCGAACUUGUG  UACAGUACUGUGAUAACUGAA  UGGAGUCCAGGAAUCUGCAUUUU  \\\n",
       "VALUE               -0.650866              -4.346229                 0.028458   \n",
       "VALUE                6.189803              -3.995142                 0.632458   \n",
       "VALUE                5.251074              -5.052298                -0.612994   \n",
       "VALUE                7.210549              -2.099575                -0.227740   \n",
       "VALUE               -0.850539              -1.823986                 0.306138   \n",
       "\n",
       "       UGGACUGCCCUGAUCUGGAGA  UCAAAUGCUCAGACUCCUGUGGU  cancer  \n",
       "VALUE               0.104178                 0.323370       1  \n",
       "VALUE              -0.210390                 0.011826       1  \n",
       "VALUE               0.323485                 0.096971       1  \n",
       "VALUE              -0.461835                 0.080620       1  \n",
       "VALUE              -0.235710                 0.488911       1  \n",
       "\n",
       "[5 rows x 1187 columns]"
      ]
     },
     "execution_count": 74,
     "metadata": {},
     "output_type": "execute_result"
    }
   ],
   "source": [
    "adj_norm_log_table.columns = sequences\n",
    "adj_norm_log_table = adj_norm_log_table.loc[:,~adj_norm_log_table.columns.duplicated()]\n",
    "adj_norm_log_table[\"cancer\"] = sick\n",
    "adj_norm_log_table.head()"
   ]
  },
  {
   "cell_type": "code",
   "execution_count": 75,
   "metadata": {},
   "outputs": [],
   "source": [
    "adj_norm_log_table.to_csv(\"../TransformedData/Leidinger2014.csv\", index=False)"
   ]
  },
  {
   "cell_type": "code",
   "execution_count": null,
   "metadata": {},
   "outputs": [],
   "source": []
  }
 ],
 "metadata": {
  "kernelspec": {
   "display_name": "Python 3 (ipykernel)",
   "language": "python",
   "name": "python3"
  },
  "language_info": {
   "codemirror_mode": {
    "name": "ipython",
    "version": 3
   },
   "file_extension": ".py",
   "mimetype": "text/x-python",
   "name": "python",
   "nbconvert_exporter": "python",
   "pygments_lexer": "ipython3",
   "version": "3.10.1"
  }
 },
 "nbformat": 4,
 "nbformat_minor": 4
}
