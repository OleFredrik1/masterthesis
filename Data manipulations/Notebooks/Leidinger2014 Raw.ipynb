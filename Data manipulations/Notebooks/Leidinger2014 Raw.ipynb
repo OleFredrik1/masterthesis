{
 "cells": [
  {
   "cell_type": "code",
   "execution_count": 65,
   "metadata": {
    "tags": []
   },
   "outputs": [],
   "source": [
    "%matplotlib inline\n",
    "import GEOparse\n",
    "import matplotlib.pyplot as plt\n",
    "import pandas as pd\n",
    "import numpy as np\n",
    "from sklearn import decomposition\n",
    "from sklearn.feature_selection import f_classif\n",
    "from sklearn.linear_model import LinearRegression, LogisticRegression\n",
    "from sklearn.metrics import explained_variance_score, plot_roc_curve\n",
    "import statsmodels.api as sm\n",
    "from scipy.stats import ttest_ind\n",
    "from xgboost import XGBClassifier\n",
    "from sklearn.model_selection import train_test_split\n",
    "from sklego.linear_model import LowessRegression"
   ]
  },
  {
   "cell_type": "markdown",
   "metadata": {},
   "source": [
    "### Reading in from external source"
   ]
  },
  {
   "cell_type": "code",
   "execution_count": 66,
   "metadata": {},
   "outputs": [],
   "source": [
    "geo = \"GSE55993\"\n",
    "data = GEOparse.get_GEO(geo=geo, destdir=\"../Dataset/Leidinger2014\", silent=True)\n",
    "#table = pd.read_csv(\"../Dataset/Fehlman2020/expression_matrix.csv\", sep=\"\\t\")\n",
    "#table = pd.read_csv(\"../Dataset/Wozniak2015/GSE64591_non-normalized.txt\", sep=\"\\t\", header=5)"
   ]
  },
  {
   "cell_type": "code",
   "execution_count": 67,
   "metadata": {},
   "outputs": [],
   "source": [
    "table = pd.concat((val.table.iloc[:,1:] for val in data.gsms.values()), axis=1).transpose()\n",
    "mirnas = list(data.gsms.values())[0].table.iloc[:,0]"
   ]
  },
  {
   "cell_type": "code",
   "execution_count": 68,
   "metadata": {},
   "outputs": [
    {
     "data": {
      "text/html": [
       "<div>\n",
       "<style scoped>\n",
       "    .dataframe tbody tr th:only-of-type {\n",
       "        vertical-align: middle;\n",
       "    }\n",
       "\n",
       "    .dataframe tbody tr th {\n",
       "        vertical-align: top;\n",
       "    }\n",
       "\n",
       "    .dataframe thead th {\n",
       "        text-align: right;\n",
       "    }\n",
       "</style>\n",
       "<table border=\"1\" class=\"dataframe\">\n",
       "  <thead>\n",
       "    <tr style=\"text-align: right;\">\n",
       "      <th></th>\n",
       "      <th>0</th>\n",
       "      <th>1</th>\n",
       "      <th>2</th>\n",
       "      <th>3</th>\n",
       "      <th>4</th>\n",
       "      <th>5</th>\n",
       "      <th>6</th>\n",
       "      <th>7</th>\n",
       "      <th>8</th>\n",
       "      <th>9</th>\n",
       "      <th>...</th>\n",
       "      <th>1195</th>\n",
       "      <th>1196</th>\n",
       "      <th>1197</th>\n",
       "      <th>1198</th>\n",
       "      <th>1199</th>\n",
       "      <th>1200</th>\n",
       "      <th>1201</th>\n",
       "      <th>1202</th>\n",
       "      <th>1203</th>\n",
       "      <th>1204</th>\n",
       "    </tr>\n",
       "  </thead>\n",
       "  <tbody>\n",
       "    <tr>\n",
       "      <th>VALUE</th>\n",
       "      <td>1.597713</td>\n",
       "      <td>2.866922</td>\n",
       "      <td>3.123045</td>\n",
       "      <td>1.276868</td>\n",
       "      <td>3.729534</td>\n",
       "      <td>6.461108</td>\n",
       "      <td>0.997509</td>\n",
       "      <td>0.514437</td>\n",
       "      <td>2.549119</td>\n",
       "      <td>4.883893</td>\n",
       "      <td>...</td>\n",
       "      <td>4.741841</td>\n",
       "      <td>4.780794</td>\n",
       "      <td>-0.631538</td>\n",
       "      <td>1.951530</td>\n",
       "      <td>10.341903</td>\n",
       "      <td>2.360723</td>\n",
       "      <td>4.437234</td>\n",
       "      <td>1.418332</td>\n",
       "      <td>3.546319</td>\n",
       "      <td>1.430139</td>\n",
       "    </tr>\n",
       "    <tr>\n",
       "      <th>VALUE</th>\n",
       "      <td>1.569786</td>\n",
       "      <td>2.978141</td>\n",
       "      <td>2.523807</td>\n",
       "      <td>1.058127</td>\n",
       "      <td>2.602819</td>\n",
       "      <td>6.313092</td>\n",
       "      <td>1.571382</td>\n",
       "      <td>1.239031</td>\n",
       "      <td>2.269577</td>\n",
       "      <td>4.552656</td>\n",
       "      <td>...</td>\n",
       "      <td>5.093919</td>\n",
       "      <td>5.373117</td>\n",
       "      <td>-0.139058</td>\n",
       "      <td>1.959635</td>\n",
       "      <td>10.425327</td>\n",
       "      <td>7.373143</td>\n",
       "      <td>4.532671</td>\n",
       "      <td>1.909580</td>\n",
       "      <td>3.035704</td>\n",
       "      <td>1.161776</td>\n",
       "    </tr>\n",
       "    <tr>\n",
       "      <th>VALUE</th>\n",
       "      <td>1.585265</td>\n",
       "      <td>2.134337</td>\n",
       "      <td>2.829239</td>\n",
       "      <td>1.267572</td>\n",
       "      <td>2.960690</td>\n",
       "      <td>1.817075</td>\n",
       "      <td>1.423240</td>\n",
       "      <td>0.462063</td>\n",
       "      <td>2.356895</td>\n",
       "      <td>4.485711</td>\n",
       "      <td>...</td>\n",
       "      <td>4.799167</td>\n",
       "      <td>5.423998</td>\n",
       "      <td>-0.097959</td>\n",
       "      <td>1.943231</td>\n",
       "      <td>10.782703</td>\n",
       "      <td>7.021439</td>\n",
       "      <td>3.791512</td>\n",
       "      <td>1.004798</td>\n",
       "      <td>3.387339</td>\n",
       "      <td>1.261971</td>\n",
       "    </tr>\n",
       "    <tr>\n",
       "      <th>VALUE</th>\n",
       "      <td>1.335035</td>\n",
       "      <td>2.157808</td>\n",
       "      <td>2.528000</td>\n",
       "      <td>1.330909</td>\n",
       "      <td>2.837385</td>\n",
       "      <td>2.801719</td>\n",
       "      <td>1.106735</td>\n",
       "      <td>0.564666</td>\n",
       "      <td>2.344618</td>\n",
       "      <td>3.982585</td>\n",
       "      <td>...</td>\n",
       "      <td>4.437234</td>\n",
       "      <td>5.018195</td>\n",
       "      <td>0.468434</td>\n",
       "      <td>2.184758</td>\n",
       "      <td>11.137706</td>\n",
       "      <td>8.180804</td>\n",
       "      <td>6.076414</td>\n",
       "      <td>1.232044</td>\n",
       "      <td>3.123045</td>\n",
       "      <td>1.267572</td>\n",
       "    </tr>\n",
       "    <tr>\n",
       "      <th>VALUE</th>\n",
       "      <td>1.516199</td>\n",
       "      <td>3.822315</td>\n",
       "      <td>2.523807</td>\n",
       "      <td>1.273586</td>\n",
       "      <td>2.093549</td>\n",
       "      <td>6.712629</td>\n",
       "      <td>0.908285</td>\n",
       "      <td>1.160335</td>\n",
       "      <td>2.304156</td>\n",
       "      <td>4.176986</td>\n",
       "      <td>...</td>\n",
       "      <td>5.071254</td>\n",
       "      <td>4.354178</td>\n",
       "      <td>-0.466601</td>\n",
       "      <td>1.992813</td>\n",
       "      <td>11.137706</td>\n",
       "      <td>2.187540</td>\n",
       "      <td>6.101862</td>\n",
       "      <td>1.673089</td>\n",
       "      <td>3.025737</td>\n",
       "      <td>1.498883</td>\n",
       "    </tr>\n",
       "    <tr>\n",
       "      <th>...</th>\n",
       "      <td>...</td>\n",
       "      <td>...</td>\n",
       "      <td>...</td>\n",
       "      <td>...</td>\n",
       "      <td>...</td>\n",
       "      <td>...</td>\n",
       "      <td>...</td>\n",
       "      <td>...</td>\n",
       "      <td>...</td>\n",
       "      <td>...</td>\n",
       "      <td>...</td>\n",
       "      <td>...</td>\n",
       "      <td>...</td>\n",
       "      <td>...</td>\n",
       "      <td>...</td>\n",
       "      <td>...</td>\n",
       "      <td>...</td>\n",
       "      <td>...</td>\n",
       "      <td>...</td>\n",
       "      <td>...</td>\n",
       "      <td>...</td>\n",
       "    </tr>\n",
       "    <tr>\n",
       "      <th>VALUE</th>\n",
       "      <td>1.710729</td>\n",
       "      <td>2.292655</td>\n",
       "      <td>2.448641</td>\n",
       "      <td>1.576548</td>\n",
       "      <td>3.995802</td>\n",
       "      <td>2.423717</td>\n",
       "      <td>1.209793</td>\n",
       "      <td>1.032134</td>\n",
       "      <td>4.091648</td>\n",
       "      <td>4.234257</td>\n",
       "      <td>...</td>\n",
       "      <td>5.452155</td>\n",
       "      <td>7.573517</td>\n",
       "      <td>0.370489</td>\n",
       "      <td>1.965035</td>\n",
       "      <td>9.633589</td>\n",
       "      <td>2.202687</td>\n",
       "      <td>7.678173</td>\n",
       "      <td>1.329313</td>\n",
       "      <td>3.072030</td>\n",
       "      <td>1.304512</td>\n",
       "    </tr>\n",
       "    <tr>\n",
       "      <th>VALUE</th>\n",
       "      <td>2.001367</td>\n",
       "      <td>3.016536</td>\n",
       "      <td>2.157808</td>\n",
       "      <td>1.565966</td>\n",
       "      <td>3.982585</td>\n",
       "      <td>1.871807</td>\n",
       "      <td>1.784050</td>\n",
       "      <td>1.298543</td>\n",
       "      <td>4.372513</td>\n",
       "      <td>4.676862</td>\n",
       "      <td>...</td>\n",
       "      <td>5.265147</td>\n",
       "      <td>7.740316</td>\n",
       "      <td>0.218895</td>\n",
       "      <td>2.563974</td>\n",
       "      <td>9.716142</td>\n",
       "      <td>2.112242</td>\n",
       "      <td>7.516152</td>\n",
       "      <td>1.463067</td>\n",
       "      <td>2.739740</td>\n",
       "      <td>1.036653</td>\n",
       "    </tr>\n",
       "    <tr>\n",
       "      <th>VALUE</th>\n",
       "      <td>1.708829</td>\n",
       "      <td>2.190747</td>\n",
       "      <td>2.335906</td>\n",
       "      <td>1.675046</td>\n",
       "      <td>3.970601</td>\n",
       "      <td>2.323254</td>\n",
       "      <td>1.256097</td>\n",
       "      <td>0.804675</td>\n",
       "      <td>4.073547</td>\n",
       "      <td>4.636038</td>\n",
       "      <td>...</td>\n",
       "      <td>5.216658</td>\n",
       "      <td>7.573517</td>\n",
       "      <td>0.414457</td>\n",
       "      <td>2.086899</td>\n",
       "      <td>9.428025</td>\n",
       "      <td>1.975642</td>\n",
       "      <td>8.086553</td>\n",
       "      <td>1.379820</td>\n",
       "      <td>3.102057</td>\n",
       "      <td>0.957622</td>\n",
       "    </tr>\n",
       "    <tr>\n",
       "      <th>VALUE</th>\n",
       "      <td>1.345217</td>\n",
       "      <td>2.153358</td>\n",
       "      <td>2.101144</td>\n",
       "      <td>1.669377</td>\n",
       "      <td>4.676862</td>\n",
       "      <td>2.837385</td>\n",
       "      <td>1.145106</td>\n",
       "      <td>1.023439</td>\n",
       "      <td>4.331031</td>\n",
       "      <td>4.600858</td>\n",
       "      <td>...</td>\n",
       "      <td>3.970601</td>\n",
       "      <td>7.740316</td>\n",
       "      <td>0.345736</td>\n",
       "      <td>2.012465</td>\n",
       "      <td>9.337672</td>\n",
       "      <td>3.662305</td>\n",
       "      <td>7.573517</td>\n",
       "      <td>0.735301</td>\n",
       "      <td>3.714552</td>\n",
       "      <td>1.330909</td>\n",
       "    </tr>\n",
       "    <tr>\n",
       "      <th>VALUE</th>\n",
       "      <td>1.810981</td>\n",
       "      <td>2.280193</td>\n",
       "      <td>2.184758</td>\n",
       "      <td>1.821107</td>\n",
       "      <td>4.636038</td>\n",
       "      <td>2.423717</td>\n",
       "      <td>1.369514</td>\n",
       "      <td>0.709479</td>\n",
       "      <td>4.195844</td>\n",
       "      <td>4.989697</td>\n",
       "      <td>...</td>\n",
       "      <td>3.982585</td>\n",
       "      <td>7.462123</td>\n",
       "      <td>0.773163</td>\n",
       "      <td>2.239472</td>\n",
       "      <td>9.633589</td>\n",
       "      <td>2.418303</td>\n",
       "      <td>8.180804</td>\n",
       "      <td>1.495500</td>\n",
       "      <td>3.591501</td>\n",
       "      <td>1.371163</td>\n",
       "    </tr>\n",
       "  </tbody>\n",
       "</table>\n",
       "<p>80 rows × 1205 columns</p>\n",
       "</div>"
      ],
      "text/plain": [
       "           0         1         2         3         4         5         6     \\\n",
       "VALUE  1.597713  2.866922  3.123045  1.276868  3.729534  6.461108  0.997509   \n",
       "VALUE  1.569786  2.978141  2.523807  1.058127  2.602819  6.313092  1.571382   \n",
       "VALUE  1.585265  2.134337  2.829239  1.267572  2.960690  1.817075  1.423240   \n",
       "VALUE  1.335035  2.157808  2.528000  1.330909  2.837385  2.801719  1.106735   \n",
       "VALUE  1.516199  3.822315  2.523807  1.273586  2.093549  6.712629  0.908285   \n",
       "...         ...       ...       ...       ...       ...       ...       ...   \n",
       "VALUE  1.710729  2.292655  2.448641  1.576548  3.995802  2.423717  1.209793   \n",
       "VALUE  2.001367  3.016536  2.157808  1.565966  3.982585  1.871807  1.784050   \n",
       "VALUE  1.708829  2.190747  2.335906  1.675046  3.970601  2.323254  1.256097   \n",
       "VALUE  1.345217  2.153358  2.101144  1.669377  4.676862  2.837385  1.145106   \n",
       "VALUE  1.810981  2.280193  2.184758  1.821107  4.636038  2.423717  1.369514   \n",
       "\n",
       "           7         8         9     ...      1195      1196      1197  \\\n",
       "VALUE  0.514437  2.549119  4.883893  ...  4.741841  4.780794 -0.631538   \n",
       "VALUE  1.239031  2.269577  4.552656  ...  5.093919  5.373117 -0.139058   \n",
       "VALUE  0.462063  2.356895  4.485711  ...  4.799167  5.423998 -0.097959   \n",
       "VALUE  0.564666  2.344618  3.982585  ...  4.437234  5.018195  0.468434   \n",
       "VALUE  1.160335  2.304156  4.176986  ...  5.071254  4.354178 -0.466601   \n",
       "...         ...       ...       ...  ...       ...       ...       ...   \n",
       "VALUE  1.032134  4.091648  4.234257  ...  5.452155  7.573517  0.370489   \n",
       "VALUE  1.298543  4.372513  4.676862  ...  5.265147  7.740316  0.218895   \n",
       "VALUE  0.804675  4.073547  4.636038  ...  5.216658  7.573517  0.414457   \n",
       "VALUE  1.023439  4.331031  4.600858  ...  3.970601  7.740316  0.345736   \n",
       "VALUE  0.709479  4.195844  4.989697  ...  3.982585  7.462123  0.773163   \n",
       "\n",
       "           1198       1199      1200      1201      1202      1203      1204  \n",
       "VALUE  1.951530  10.341903  2.360723  4.437234  1.418332  3.546319  1.430139  \n",
       "VALUE  1.959635  10.425327  7.373143  4.532671  1.909580  3.035704  1.161776  \n",
       "VALUE  1.943231  10.782703  7.021439  3.791512  1.004798  3.387339  1.261971  \n",
       "VALUE  2.184758  11.137706  8.180804  6.076414  1.232044  3.123045  1.267572  \n",
       "VALUE  1.992813  11.137706  2.187540  6.101862  1.673089  3.025737  1.498883  \n",
       "...         ...        ...       ...       ...       ...       ...       ...  \n",
       "VALUE  1.965035   9.633589  2.202687  7.678173  1.329313  3.072030  1.304512  \n",
       "VALUE  2.563974   9.716142  2.112242  7.516152  1.463067  2.739740  1.036653  \n",
       "VALUE  2.086899   9.428025  1.975642  8.086553  1.379820  3.102057  0.957622  \n",
       "VALUE  2.012465   9.337672  3.662305  7.573517  0.735301  3.714552  1.330909  \n",
       "VALUE  2.239472   9.633589  2.418303  8.180804  1.495500  3.591501  1.371163  \n",
       "\n",
       "[80 rows x 1205 columns]"
      ]
     },
     "execution_count": 68,
     "metadata": {},
     "output_type": "execute_result"
    }
   ],
   "source": [
    "table"
   ]
  },
  {
   "cell_type": "markdown",
   "metadata": {},
   "source": [
    "### Get controls"
   ]
  },
  {
   "cell_type": "code",
   "execution_count": 69,
   "metadata": {},
   "outputs": [
    {
     "data": {
      "text/plain": [
       "{'title': ['PAXGene blood lung cancer patient L2'],\n",
       " 'geo_accession': ['GSM1349928'],\n",
       " 'status': ['Public on Dec 31 2014'],\n",
       " 'submission_date': ['Mar 18 2014'],\n",
       " 'last_update_date': ['Dec 31 2014'],\n",
       " 'type': ['RNA'],\n",
       " 'channel_count': ['1'],\n",
       " 'source_name_ch1': ['whole blood'],\n",
       " 'organism_ch1': ['Homo sapiens'],\n",
       " 'taxid_ch1': ['9606'],\n",
       " 'characteristics_ch1': ['disease state: Lung adenocarcinoma',\n",
       "  'gender: female',\n",
       "  'age: 77',\n",
       "  'tissue: whole blood'],\n",
       " 'molecule_ch1': ['total RNA'],\n",
       " 'extract_protocol_ch1': ['Total RNA including small RNAs was isolated using miRNeasy Micro Kit (Qiagen)  according to manufacturerâ€™s instructions.'],\n",
       " 'label_ch1': ['Cy3'],\n",
       " 'label_protocol_ch1': ['Total RNA samples were labelled using the Agilent miRNA Complete Labelling and Hybridisation Kit'],\n",
       " 'hyb_protocol': [\"Hybridisations were performed in Agilent SureHyb chambers for 20 hours at 55C and washed according to manufacturer's instructions.\"],\n",
       " 'scan_protocol': ['Array-chips were scanned in a high resolution microarray scanner from Agilent Technologies using Scan Control 8.5.1 software, 3 microns resolution in double path mode.'],\n",
       " 'description': ['PAXGene blood lung cancer patient L2'],\n",
       " 'data_processing': ['Signal intensity values were extracted from the raw data file using feature extraction software (Agilent Technologies). The gTotalProbeSignals were summed up to calculate the total expression value for each miRNA per sample. Quantile normalization was applied to normalize expression values across the arrays using the preprocessCore package of the programming language R. After that we log2-transformed the expression values.'],\n",
       " 'platform_id': ['GPL16770'],\n",
       " 'contact_name': ['Christina,,Backes'],\n",
       " 'contact_department': ['Chair for Clinical Bioinformatics'],\n",
       " 'contact_institute': ['Saarland University'],\n",
       " 'contact_address': ['Campus, Building E 2.1'],\n",
       " 'contact_city': ['SaarbrÃ¼cken'],\n",
       " 'contact_zip/postal_code': ['66123'],\n",
       " 'contact_country': ['Germany'],\n",
       " 'supplementary_file': ['ftp://ftp.ncbi.nlm.nih.gov/geo/samples/GSM1349nnn/GSM1349928/suppl/GSM1349928_US11153896_253118113677_S01_miRNA_1010_Sep10_1_1.txt.gz'],\n",
       " 'series_id': ['GSE55993'],\n",
       " 'data_row_count': ['1205']}"
      ]
     },
     "execution_count": 69,
     "metadata": {},
     "output_type": "execute_result"
    }
   ],
   "source": [
    "list(data.gsms.values())[0].metadata"
   ]
  },
  {
   "cell_type": "markdown",
   "metadata": {},
   "source": [
    "### Seperate case and controls"
   ]
  },
  {
   "cell_type": "code",
   "execution_count": 70,
   "metadata": {},
   "outputs": [],
   "source": [
    "controls = np.array([\"healthy\" in k.metadata[\"title\"][0] for k in list(data.gsms.values())])\n",
    "sick = 1 - controls"
   ]
  },
  {
   "cell_type": "code",
   "execution_count": 71,
   "metadata": {},
   "outputs": [
    {
     "data": {
      "text/plain": [
       "38"
      ]
     },
     "execution_count": 71,
     "metadata": {},
     "output_type": "execute_result"
    }
   ],
   "source": [
    "sum(controls)"
   ]
  },
  {
   "cell_type": "markdown",
   "metadata": {},
   "source": [
    "### Drop NAN"
   ]
  },
  {
   "cell_type": "code",
   "execution_count": 72,
   "metadata": {},
   "outputs": [
    {
     "name": "stderr",
     "output_type": "stream",
     "text": [
      "C:\\Users\\olefr\\AppData\\Local\\Temp/ipykernel_23564/1927661217.py:1: FutureWarning: In a future version of pandas all arguments of DataFrame.dropna will be keyword-only\n",
      "  table = table.dropna(1)\n"
     ]
    }
   ],
   "source": [
    "table = table.dropna(1)"
   ]
  },
  {
   "cell_type": "markdown",
   "metadata": {},
   "source": [
    "### T-test"
   ]
  },
  {
   "cell_type": "code",
   "execution_count": 73,
   "metadata": {},
   "outputs": [],
   "source": [
    "X = table"
   ]
  },
  {
   "cell_type": "code",
   "execution_count": 74,
   "metadata": {},
   "outputs": [
    {
     "data": {
      "text/html": [
       "<div>\n",
       "<style scoped>\n",
       "    .dataframe tbody tr th:only-of-type {\n",
       "        vertical-align: middle;\n",
       "    }\n",
       "\n",
       "    .dataframe tbody tr th {\n",
       "        vertical-align: top;\n",
       "    }\n",
       "\n",
       "    .dataframe thead th {\n",
       "        text-align: right;\n",
       "    }\n",
       "</style>\n",
       "<table border=\"1\" class=\"dataframe\">\n",
       "  <thead>\n",
       "    <tr style=\"text-align: right;\">\n",
       "      <th></th>\n",
       "      <th>0</th>\n",
       "      <th>1</th>\n",
       "      <th>2</th>\n",
       "      <th>3</th>\n",
       "      <th>4</th>\n",
       "      <th>5</th>\n",
       "      <th>6</th>\n",
       "      <th>7</th>\n",
       "      <th>8</th>\n",
       "      <th>9</th>\n",
       "      <th>...</th>\n",
       "      <th>1195</th>\n",
       "      <th>1196</th>\n",
       "      <th>1197</th>\n",
       "      <th>1198</th>\n",
       "      <th>1199</th>\n",
       "      <th>1200</th>\n",
       "      <th>1201</th>\n",
       "      <th>1202</th>\n",
       "      <th>1203</th>\n",
       "      <th>1204</th>\n",
       "    </tr>\n",
       "  </thead>\n",
       "  <tbody>\n",
       "    <tr>\n",
       "      <th>VALUE</th>\n",
       "      <td>1.597713</td>\n",
       "      <td>2.866922</td>\n",
       "      <td>3.123045</td>\n",
       "      <td>1.276868</td>\n",
       "      <td>3.729534</td>\n",
       "      <td>6.461108</td>\n",
       "      <td>0.997509</td>\n",
       "      <td>0.514437</td>\n",
       "      <td>2.549119</td>\n",
       "      <td>4.883893</td>\n",
       "      <td>...</td>\n",
       "      <td>4.741841</td>\n",
       "      <td>4.780794</td>\n",
       "      <td>-0.631538</td>\n",
       "      <td>1.951530</td>\n",
       "      <td>10.341903</td>\n",
       "      <td>2.360723</td>\n",
       "      <td>4.437234</td>\n",
       "      <td>1.418332</td>\n",
       "      <td>3.546319</td>\n",
       "      <td>1.430139</td>\n",
       "    </tr>\n",
       "    <tr>\n",
       "      <th>VALUE</th>\n",
       "      <td>1.569786</td>\n",
       "      <td>2.978141</td>\n",
       "      <td>2.523807</td>\n",
       "      <td>1.058127</td>\n",
       "      <td>2.602819</td>\n",
       "      <td>6.313092</td>\n",
       "      <td>1.571382</td>\n",
       "      <td>1.239031</td>\n",
       "      <td>2.269577</td>\n",
       "      <td>4.552656</td>\n",
       "      <td>...</td>\n",
       "      <td>5.093919</td>\n",
       "      <td>5.373117</td>\n",
       "      <td>-0.139058</td>\n",
       "      <td>1.959635</td>\n",
       "      <td>10.425327</td>\n",
       "      <td>7.373143</td>\n",
       "      <td>4.532671</td>\n",
       "      <td>1.909580</td>\n",
       "      <td>3.035704</td>\n",
       "      <td>1.161776</td>\n",
       "    </tr>\n",
       "    <tr>\n",
       "      <th>VALUE</th>\n",
       "      <td>1.585265</td>\n",
       "      <td>2.134337</td>\n",
       "      <td>2.829239</td>\n",
       "      <td>1.267572</td>\n",
       "      <td>2.960690</td>\n",
       "      <td>1.817075</td>\n",
       "      <td>1.423240</td>\n",
       "      <td>0.462063</td>\n",
       "      <td>2.356895</td>\n",
       "      <td>4.485711</td>\n",
       "      <td>...</td>\n",
       "      <td>4.799167</td>\n",
       "      <td>5.423998</td>\n",
       "      <td>-0.097959</td>\n",
       "      <td>1.943231</td>\n",
       "      <td>10.782703</td>\n",
       "      <td>7.021439</td>\n",
       "      <td>3.791512</td>\n",
       "      <td>1.004798</td>\n",
       "      <td>3.387339</td>\n",
       "      <td>1.261971</td>\n",
       "    </tr>\n",
       "    <tr>\n",
       "      <th>VALUE</th>\n",
       "      <td>1.335035</td>\n",
       "      <td>2.157808</td>\n",
       "      <td>2.528000</td>\n",
       "      <td>1.330909</td>\n",
       "      <td>2.837385</td>\n",
       "      <td>2.801719</td>\n",
       "      <td>1.106735</td>\n",
       "      <td>0.564666</td>\n",
       "      <td>2.344618</td>\n",
       "      <td>3.982585</td>\n",
       "      <td>...</td>\n",
       "      <td>4.437234</td>\n",
       "      <td>5.018195</td>\n",
       "      <td>0.468434</td>\n",
       "      <td>2.184758</td>\n",
       "      <td>11.137706</td>\n",
       "      <td>8.180804</td>\n",
       "      <td>6.076414</td>\n",
       "      <td>1.232044</td>\n",
       "      <td>3.123045</td>\n",
       "      <td>1.267572</td>\n",
       "    </tr>\n",
       "    <tr>\n",
       "      <th>VALUE</th>\n",
       "      <td>1.516199</td>\n",
       "      <td>3.822315</td>\n",
       "      <td>2.523807</td>\n",
       "      <td>1.273586</td>\n",
       "      <td>2.093549</td>\n",
       "      <td>6.712629</td>\n",
       "      <td>0.908285</td>\n",
       "      <td>1.160335</td>\n",
       "      <td>2.304156</td>\n",
       "      <td>4.176986</td>\n",
       "      <td>...</td>\n",
       "      <td>5.071254</td>\n",
       "      <td>4.354178</td>\n",
       "      <td>-0.466601</td>\n",
       "      <td>1.992813</td>\n",
       "      <td>11.137706</td>\n",
       "      <td>2.187540</td>\n",
       "      <td>6.101862</td>\n",
       "      <td>1.673089</td>\n",
       "      <td>3.025737</td>\n",
       "      <td>1.498883</td>\n",
       "    </tr>\n",
       "    <tr>\n",
       "      <th>...</th>\n",
       "      <td>...</td>\n",
       "      <td>...</td>\n",
       "      <td>...</td>\n",
       "      <td>...</td>\n",
       "      <td>...</td>\n",
       "      <td>...</td>\n",
       "      <td>...</td>\n",
       "      <td>...</td>\n",
       "      <td>...</td>\n",
       "      <td>...</td>\n",
       "      <td>...</td>\n",
       "      <td>...</td>\n",
       "      <td>...</td>\n",
       "      <td>...</td>\n",
       "      <td>...</td>\n",
       "      <td>...</td>\n",
       "      <td>...</td>\n",
       "      <td>...</td>\n",
       "      <td>...</td>\n",
       "      <td>...</td>\n",
       "      <td>...</td>\n",
       "    </tr>\n",
       "    <tr>\n",
       "      <th>VALUE</th>\n",
       "      <td>1.710729</td>\n",
       "      <td>2.292655</td>\n",
       "      <td>2.448641</td>\n",
       "      <td>1.576548</td>\n",
       "      <td>3.995802</td>\n",
       "      <td>2.423717</td>\n",
       "      <td>1.209793</td>\n",
       "      <td>1.032134</td>\n",
       "      <td>4.091648</td>\n",
       "      <td>4.234257</td>\n",
       "      <td>...</td>\n",
       "      <td>5.452155</td>\n",
       "      <td>7.573517</td>\n",
       "      <td>0.370489</td>\n",
       "      <td>1.965035</td>\n",
       "      <td>9.633589</td>\n",
       "      <td>2.202687</td>\n",
       "      <td>7.678173</td>\n",
       "      <td>1.329313</td>\n",
       "      <td>3.072030</td>\n",
       "      <td>1.304512</td>\n",
       "    </tr>\n",
       "    <tr>\n",
       "      <th>VALUE</th>\n",
       "      <td>2.001367</td>\n",
       "      <td>3.016536</td>\n",
       "      <td>2.157808</td>\n",
       "      <td>1.565966</td>\n",
       "      <td>3.982585</td>\n",
       "      <td>1.871807</td>\n",
       "      <td>1.784050</td>\n",
       "      <td>1.298543</td>\n",
       "      <td>4.372513</td>\n",
       "      <td>4.676862</td>\n",
       "      <td>...</td>\n",
       "      <td>5.265147</td>\n",
       "      <td>7.740316</td>\n",
       "      <td>0.218895</td>\n",
       "      <td>2.563974</td>\n",
       "      <td>9.716142</td>\n",
       "      <td>2.112242</td>\n",
       "      <td>7.516152</td>\n",
       "      <td>1.463067</td>\n",
       "      <td>2.739740</td>\n",
       "      <td>1.036653</td>\n",
       "    </tr>\n",
       "    <tr>\n",
       "      <th>VALUE</th>\n",
       "      <td>1.708829</td>\n",
       "      <td>2.190747</td>\n",
       "      <td>2.335906</td>\n",
       "      <td>1.675046</td>\n",
       "      <td>3.970601</td>\n",
       "      <td>2.323254</td>\n",
       "      <td>1.256097</td>\n",
       "      <td>0.804675</td>\n",
       "      <td>4.073547</td>\n",
       "      <td>4.636038</td>\n",
       "      <td>...</td>\n",
       "      <td>5.216658</td>\n",
       "      <td>7.573517</td>\n",
       "      <td>0.414457</td>\n",
       "      <td>2.086899</td>\n",
       "      <td>9.428025</td>\n",
       "      <td>1.975642</td>\n",
       "      <td>8.086553</td>\n",
       "      <td>1.379820</td>\n",
       "      <td>3.102057</td>\n",
       "      <td>0.957622</td>\n",
       "    </tr>\n",
       "    <tr>\n",
       "      <th>VALUE</th>\n",
       "      <td>1.345217</td>\n",
       "      <td>2.153358</td>\n",
       "      <td>2.101144</td>\n",
       "      <td>1.669377</td>\n",
       "      <td>4.676862</td>\n",
       "      <td>2.837385</td>\n",
       "      <td>1.145106</td>\n",
       "      <td>1.023439</td>\n",
       "      <td>4.331031</td>\n",
       "      <td>4.600858</td>\n",
       "      <td>...</td>\n",
       "      <td>3.970601</td>\n",
       "      <td>7.740316</td>\n",
       "      <td>0.345736</td>\n",
       "      <td>2.012465</td>\n",
       "      <td>9.337672</td>\n",
       "      <td>3.662305</td>\n",
       "      <td>7.573517</td>\n",
       "      <td>0.735301</td>\n",
       "      <td>3.714552</td>\n",
       "      <td>1.330909</td>\n",
       "    </tr>\n",
       "    <tr>\n",
       "      <th>VALUE</th>\n",
       "      <td>1.810981</td>\n",
       "      <td>2.280193</td>\n",
       "      <td>2.184758</td>\n",
       "      <td>1.821107</td>\n",
       "      <td>4.636038</td>\n",
       "      <td>2.423717</td>\n",
       "      <td>1.369514</td>\n",
       "      <td>0.709479</td>\n",
       "      <td>4.195844</td>\n",
       "      <td>4.989697</td>\n",
       "      <td>...</td>\n",
       "      <td>3.982585</td>\n",
       "      <td>7.462123</td>\n",
       "      <td>0.773163</td>\n",
       "      <td>2.239472</td>\n",
       "      <td>9.633589</td>\n",
       "      <td>2.418303</td>\n",
       "      <td>8.180804</td>\n",
       "      <td>1.495500</td>\n",
       "      <td>3.591501</td>\n",
       "      <td>1.371163</td>\n",
       "    </tr>\n",
       "  </tbody>\n",
       "</table>\n",
       "<p>80 rows × 1205 columns</p>\n",
       "</div>"
      ],
      "text/plain": [
       "           0         1         2         3         4         5         6     \\\n",
       "VALUE  1.597713  2.866922  3.123045  1.276868  3.729534  6.461108  0.997509   \n",
       "VALUE  1.569786  2.978141  2.523807  1.058127  2.602819  6.313092  1.571382   \n",
       "VALUE  1.585265  2.134337  2.829239  1.267572  2.960690  1.817075  1.423240   \n",
       "VALUE  1.335035  2.157808  2.528000  1.330909  2.837385  2.801719  1.106735   \n",
       "VALUE  1.516199  3.822315  2.523807  1.273586  2.093549  6.712629  0.908285   \n",
       "...         ...       ...       ...       ...       ...       ...       ...   \n",
       "VALUE  1.710729  2.292655  2.448641  1.576548  3.995802  2.423717  1.209793   \n",
       "VALUE  2.001367  3.016536  2.157808  1.565966  3.982585  1.871807  1.784050   \n",
       "VALUE  1.708829  2.190747  2.335906  1.675046  3.970601  2.323254  1.256097   \n",
       "VALUE  1.345217  2.153358  2.101144  1.669377  4.676862  2.837385  1.145106   \n",
       "VALUE  1.810981  2.280193  2.184758  1.821107  4.636038  2.423717  1.369514   \n",
       "\n",
       "           7         8         9     ...      1195      1196      1197  \\\n",
       "VALUE  0.514437  2.549119  4.883893  ...  4.741841  4.780794 -0.631538   \n",
       "VALUE  1.239031  2.269577  4.552656  ...  5.093919  5.373117 -0.139058   \n",
       "VALUE  0.462063  2.356895  4.485711  ...  4.799167  5.423998 -0.097959   \n",
       "VALUE  0.564666  2.344618  3.982585  ...  4.437234  5.018195  0.468434   \n",
       "VALUE  1.160335  2.304156  4.176986  ...  5.071254  4.354178 -0.466601   \n",
       "...         ...       ...       ...  ...       ...       ...       ...   \n",
       "VALUE  1.032134  4.091648  4.234257  ...  5.452155  7.573517  0.370489   \n",
       "VALUE  1.298543  4.372513  4.676862  ...  5.265147  7.740316  0.218895   \n",
       "VALUE  0.804675  4.073547  4.636038  ...  5.216658  7.573517  0.414457   \n",
       "VALUE  1.023439  4.331031  4.600858  ...  3.970601  7.740316  0.345736   \n",
       "VALUE  0.709479  4.195844  4.989697  ...  3.982585  7.462123  0.773163   \n",
       "\n",
       "           1198       1199      1200      1201      1202      1203      1204  \n",
       "VALUE  1.951530  10.341903  2.360723  4.437234  1.418332  3.546319  1.430139  \n",
       "VALUE  1.959635  10.425327  7.373143  4.532671  1.909580  3.035704  1.161776  \n",
       "VALUE  1.943231  10.782703  7.021439  3.791512  1.004798  3.387339  1.261971  \n",
       "VALUE  2.184758  11.137706  8.180804  6.076414  1.232044  3.123045  1.267572  \n",
       "VALUE  1.992813  11.137706  2.187540  6.101862  1.673089  3.025737  1.498883  \n",
       "...         ...        ...       ...       ...       ...       ...       ...  \n",
       "VALUE  1.965035   9.633589  2.202687  7.678173  1.329313  3.072030  1.304512  \n",
       "VALUE  2.563974   9.716142  2.112242  7.516152  1.463067  2.739740  1.036653  \n",
       "VALUE  2.086899   9.428025  1.975642  8.086553  1.379820  3.102057  0.957622  \n",
       "VALUE  2.012465   9.337672  3.662305  7.573517  0.735301  3.714552  1.330909  \n",
       "VALUE  2.239472   9.633589  2.418303  8.180804  1.495500  3.591501  1.371163  \n",
       "\n",
       "[80 rows x 1205 columns]"
      ]
     },
     "execution_count": 74,
     "metadata": {},
     "output_type": "execute_result"
    }
   ],
   "source": [
    "X"
   ]
  },
  {
   "cell_type": "code",
   "execution_count": 75,
   "metadata": {},
   "outputs": [],
   "source": [
    "X_healthy, X_cancer = X[controls == 1], X[sick == 1]"
   ]
  },
  {
   "cell_type": "code",
   "execution_count": 76,
   "metadata": {},
   "outputs": [],
   "source": [
    "results = ttest_ind(X_healthy, X_cancer).pvalue"
   ]
  },
  {
   "cell_type": "code",
   "execution_count": 77,
   "metadata": {},
   "outputs": [],
   "source": [
    "lowest, pvalues = np.argsort(results)[:5], np.sort(results)[:5]"
   ]
  },
  {
   "cell_type": "code",
   "execution_count": 78,
   "metadata": {},
   "outputs": [
    {
     "data": {
      "text/plain": [
       "(443       hsa-miR-34a\n",
       " 452      hsa-miR-4266\n",
       " 629     hsa-miR-16-1*\n",
       " 246      hsa-miR-3923\n",
       " 1068     hsa-miR-516b\n",
       " Name: ID_REF, dtype: object,\n",
       " array([0.00267255, 0.00318664, 0.01573092, 0.02160846, 0.02180893]))"
      ]
     },
     "execution_count": 78,
     "metadata": {},
     "output_type": "execute_result"
    }
   ],
   "source": [
    "mirnas.iloc[lowest], pvalues"
   ]
  },
  {
   "cell_type": "markdown",
   "metadata": {},
   "source": [
    "### F-test"
   ]
  },
  {
   "cell_type": "code",
   "execution_count": 79,
   "metadata": {},
   "outputs": [],
   "source": [
    "t3 = table"
   ]
  },
  {
   "cell_type": "code",
   "execution_count": 80,
   "metadata": {},
   "outputs": [],
   "source": [
    "f, p = f_classif(t3, sick)"
   ]
  },
  {
   "cell_type": "code",
   "execution_count": 81,
   "metadata": {},
   "outputs": [
    {
     "data": {
      "text/plain": [
       "0.5715746257926745"
      ]
     },
     "execution_count": 81,
     "metadata": {},
     "output_type": "execute_result"
    }
   ],
   "source": [
    "np.mean(p)"
   ]
  },
  {
   "cell_type": "markdown",
   "metadata": {},
   "source": [
    "### ANOVA"
   ]
  },
  {
   "cell_type": "code",
   "execution_count": 82,
   "metadata": {},
   "outputs": [
    {
     "data": {
      "text/html": [
       "<div>\n",
       "<style scoped>\n",
       "    .dataframe tbody tr th:only-of-type {\n",
       "        vertical-align: middle;\n",
       "    }\n",
       "\n",
       "    .dataframe tbody tr th {\n",
       "        vertical-align: top;\n",
       "    }\n",
       "\n",
       "    .dataframe thead th {\n",
       "        text-align: right;\n",
       "    }\n",
       "</style>\n",
       "<table border=\"1\" class=\"dataframe\">\n",
       "  <thead>\n",
       "    <tr style=\"text-align: right;\">\n",
       "      <th></th>\n",
       "      <th>0</th>\n",
       "      <th>1</th>\n",
       "      <th>2</th>\n",
       "      <th>3</th>\n",
       "      <th>4</th>\n",
       "      <th>5</th>\n",
       "      <th>6</th>\n",
       "      <th>7</th>\n",
       "      <th>8</th>\n",
       "      <th>9</th>\n",
       "      <th>...</th>\n",
       "      <th>1195</th>\n",
       "      <th>1196</th>\n",
       "      <th>1197</th>\n",
       "      <th>1198</th>\n",
       "      <th>1199</th>\n",
       "      <th>1200</th>\n",
       "      <th>1201</th>\n",
       "      <th>1202</th>\n",
       "      <th>1203</th>\n",
       "      <th>1204</th>\n",
       "    </tr>\n",
       "  </thead>\n",
       "  <tbody>\n",
       "    <tr>\n",
       "      <th>VALUE</th>\n",
       "      <td>1.597713</td>\n",
       "      <td>2.866922</td>\n",
       "      <td>3.123045</td>\n",
       "      <td>1.276868</td>\n",
       "      <td>3.729534</td>\n",
       "      <td>6.461108</td>\n",
       "      <td>0.997509</td>\n",
       "      <td>0.514437</td>\n",
       "      <td>2.549119</td>\n",
       "      <td>4.883893</td>\n",
       "      <td>...</td>\n",
       "      <td>4.741841</td>\n",
       "      <td>4.780794</td>\n",
       "      <td>-0.631538</td>\n",
       "      <td>1.951530</td>\n",
       "      <td>10.341903</td>\n",
       "      <td>2.360723</td>\n",
       "      <td>4.437234</td>\n",
       "      <td>1.418332</td>\n",
       "      <td>3.546319</td>\n",
       "      <td>1.430139</td>\n",
       "    </tr>\n",
       "    <tr>\n",
       "      <th>VALUE</th>\n",
       "      <td>1.569786</td>\n",
       "      <td>2.978141</td>\n",
       "      <td>2.523807</td>\n",
       "      <td>1.058127</td>\n",
       "      <td>2.602819</td>\n",
       "      <td>6.313092</td>\n",
       "      <td>1.571382</td>\n",
       "      <td>1.239031</td>\n",
       "      <td>2.269577</td>\n",
       "      <td>4.552656</td>\n",
       "      <td>...</td>\n",
       "      <td>5.093919</td>\n",
       "      <td>5.373117</td>\n",
       "      <td>-0.139058</td>\n",
       "      <td>1.959635</td>\n",
       "      <td>10.425327</td>\n",
       "      <td>7.373143</td>\n",
       "      <td>4.532671</td>\n",
       "      <td>1.909580</td>\n",
       "      <td>3.035704</td>\n",
       "      <td>1.161776</td>\n",
       "    </tr>\n",
       "    <tr>\n",
       "      <th>VALUE</th>\n",
       "      <td>1.585265</td>\n",
       "      <td>2.134337</td>\n",
       "      <td>2.829239</td>\n",
       "      <td>1.267572</td>\n",
       "      <td>2.960690</td>\n",
       "      <td>1.817075</td>\n",
       "      <td>1.423240</td>\n",
       "      <td>0.462063</td>\n",
       "      <td>2.356895</td>\n",
       "      <td>4.485711</td>\n",
       "      <td>...</td>\n",
       "      <td>4.799167</td>\n",
       "      <td>5.423998</td>\n",
       "      <td>-0.097959</td>\n",
       "      <td>1.943231</td>\n",
       "      <td>10.782703</td>\n",
       "      <td>7.021439</td>\n",
       "      <td>3.791512</td>\n",
       "      <td>1.004798</td>\n",
       "      <td>3.387339</td>\n",
       "      <td>1.261971</td>\n",
       "    </tr>\n",
       "    <tr>\n",
       "      <th>VALUE</th>\n",
       "      <td>1.335035</td>\n",
       "      <td>2.157808</td>\n",
       "      <td>2.528000</td>\n",
       "      <td>1.330909</td>\n",
       "      <td>2.837385</td>\n",
       "      <td>2.801719</td>\n",
       "      <td>1.106735</td>\n",
       "      <td>0.564666</td>\n",
       "      <td>2.344618</td>\n",
       "      <td>3.982585</td>\n",
       "      <td>...</td>\n",
       "      <td>4.437234</td>\n",
       "      <td>5.018195</td>\n",
       "      <td>0.468434</td>\n",
       "      <td>2.184758</td>\n",
       "      <td>11.137706</td>\n",
       "      <td>8.180804</td>\n",
       "      <td>6.076414</td>\n",
       "      <td>1.232044</td>\n",
       "      <td>3.123045</td>\n",
       "      <td>1.267572</td>\n",
       "    </tr>\n",
       "    <tr>\n",
       "      <th>VALUE</th>\n",
       "      <td>1.516199</td>\n",
       "      <td>3.822315</td>\n",
       "      <td>2.523807</td>\n",
       "      <td>1.273586</td>\n",
       "      <td>2.093549</td>\n",
       "      <td>6.712629</td>\n",
       "      <td>0.908285</td>\n",
       "      <td>1.160335</td>\n",
       "      <td>2.304156</td>\n",
       "      <td>4.176986</td>\n",
       "      <td>...</td>\n",
       "      <td>5.071254</td>\n",
       "      <td>4.354178</td>\n",
       "      <td>-0.466601</td>\n",
       "      <td>1.992813</td>\n",
       "      <td>11.137706</td>\n",
       "      <td>2.187540</td>\n",
       "      <td>6.101862</td>\n",
       "      <td>1.673089</td>\n",
       "      <td>3.025737</td>\n",
       "      <td>1.498883</td>\n",
       "    </tr>\n",
       "    <tr>\n",
       "      <th>...</th>\n",
       "      <td>...</td>\n",
       "      <td>...</td>\n",
       "      <td>...</td>\n",
       "      <td>...</td>\n",
       "      <td>...</td>\n",
       "      <td>...</td>\n",
       "      <td>...</td>\n",
       "      <td>...</td>\n",
       "      <td>...</td>\n",
       "      <td>...</td>\n",
       "      <td>...</td>\n",
       "      <td>...</td>\n",
       "      <td>...</td>\n",
       "      <td>...</td>\n",
       "      <td>...</td>\n",
       "      <td>...</td>\n",
       "      <td>...</td>\n",
       "      <td>...</td>\n",
       "      <td>...</td>\n",
       "      <td>...</td>\n",
       "      <td>...</td>\n",
       "    </tr>\n",
       "    <tr>\n",
       "      <th>VALUE</th>\n",
       "      <td>1.710729</td>\n",
       "      <td>2.292655</td>\n",
       "      <td>2.448641</td>\n",
       "      <td>1.576548</td>\n",
       "      <td>3.995802</td>\n",
       "      <td>2.423717</td>\n",
       "      <td>1.209793</td>\n",
       "      <td>1.032134</td>\n",
       "      <td>4.091648</td>\n",
       "      <td>4.234257</td>\n",
       "      <td>...</td>\n",
       "      <td>5.452155</td>\n",
       "      <td>7.573517</td>\n",
       "      <td>0.370489</td>\n",
       "      <td>1.965035</td>\n",
       "      <td>9.633589</td>\n",
       "      <td>2.202687</td>\n",
       "      <td>7.678173</td>\n",
       "      <td>1.329313</td>\n",
       "      <td>3.072030</td>\n",
       "      <td>1.304512</td>\n",
       "    </tr>\n",
       "    <tr>\n",
       "      <th>VALUE</th>\n",
       "      <td>2.001367</td>\n",
       "      <td>3.016536</td>\n",
       "      <td>2.157808</td>\n",
       "      <td>1.565966</td>\n",
       "      <td>3.982585</td>\n",
       "      <td>1.871807</td>\n",
       "      <td>1.784050</td>\n",
       "      <td>1.298543</td>\n",
       "      <td>4.372513</td>\n",
       "      <td>4.676862</td>\n",
       "      <td>...</td>\n",
       "      <td>5.265147</td>\n",
       "      <td>7.740316</td>\n",
       "      <td>0.218895</td>\n",
       "      <td>2.563974</td>\n",
       "      <td>9.716142</td>\n",
       "      <td>2.112242</td>\n",
       "      <td>7.516152</td>\n",
       "      <td>1.463067</td>\n",
       "      <td>2.739740</td>\n",
       "      <td>1.036653</td>\n",
       "    </tr>\n",
       "    <tr>\n",
       "      <th>VALUE</th>\n",
       "      <td>1.708829</td>\n",
       "      <td>2.190747</td>\n",
       "      <td>2.335906</td>\n",
       "      <td>1.675046</td>\n",
       "      <td>3.970601</td>\n",
       "      <td>2.323254</td>\n",
       "      <td>1.256097</td>\n",
       "      <td>0.804675</td>\n",
       "      <td>4.073547</td>\n",
       "      <td>4.636038</td>\n",
       "      <td>...</td>\n",
       "      <td>5.216658</td>\n",
       "      <td>7.573517</td>\n",
       "      <td>0.414457</td>\n",
       "      <td>2.086899</td>\n",
       "      <td>9.428025</td>\n",
       "      <td>1.975642</td>\n",
       "      <td>8.086553</td>\n",
       "      <td>1.379820</td>\n",
       "      <td>3.102057</td>\n",
       "      <td>0.957622</td>\n",
       "    </tr>\n",
       "    <tr>\n",
       "      <th>VALUE</th>\n",
       "      <td>1.345217</td>\n",
       "      <td>2.153358</td>\n",
       "      <td>2.101144</td>\n",
       "      <td>1.669377</td>\n",
       "      <td>4.676862</td>\n",
       "      <td>2.837385</td>\n",
       "      <td>1.145106</td>\n",
       "      <td>1.023439</td>\n",
       "      <td>4.331031</td>\n",
       "      <td>4.600858</td>\n",
       "      <td>...</td>\n",
       "      <td>3.970601</td>\n",
       "      <td>7.740316</td>\n",
       "      <td>0.345736</td>\n",
       "      <td>2.012465</td>\n",
       "      <td>9.337672</td>\n",
       "      <td>3.662305</td>\n",
       "      <td>7.573517</td>\n",
       "      <td>0.735301</td>\n",
       "      <td>3.714552</td>\n",
       "      <td>1.330909</td>\n",
       "    </tr>\n",
       "    <tr>\n",
       "      <th>VALUE</th>\n",
       "      <td>1.810981</td>\n",
       "      <td>2.280193</td>\n",
       "      <td>2.184758</td>\n",
       "      <td>1.821107</td>\n",
       "      <td>4.636038</td>\n",
       "      <td>2.423717</td>\n",
       "      <td>1.369514</td>\n",
       "      <td>0.709479</td>\n",
       "      <td>4.195844</td>\n",
       "      <td>4.989697</td>\n",
       "      <td>...</td>\n",
       "      <td>3.982585</td>\n",
       "      <td>7.462123</td>\n",
       "      <td>0.773163</td>\n",
       "      <td>2.239472</td>\n",
       "      <td>9.633589</td>\n",
       "      <td>2.418303</td>\n",
       "      <td>8.180804</td>\n",
       "      <td>1.495500</td>\n",
       "      <td>3.591501</td>\n",
       "      <td>1.371163</td>\n",
       "    </tr>\n",
       "  </tbody>\n",
       "</table>\n",
       "<p>80 rows × 1205 columns</p>\n",
       "</div>"
      ],
      "text/plain": [
       "           0         1         2         3         4         5         6     \\\n",
       "VALUE  1.597713  2.866922  3.123045  1.276868  3.729534  6.461108  0.997509   \n",
       "VALUE  1.569786  2.978141  2.523807  1.058127  2.602819  6.313092  1.571382   \n",
       "VALUE  1.585265  2.134337  2.829239  1.267572  2.960690  1.817075  1.423240   \n",
       "VALUE  1.335035  2.157808  2.528000  1.330909  2.837385  2.801719  1.106735   \n",
       "VALUE  1.516199  3.822315  2.523807  1.273586  2.093549  6.712629  0.908285   \n",
       "...         ...       ...       ...       ...       ...       ...       ...   \n",
       "VALUE  1.710729  2.292655  2.448641  1.576548  3.995802  2.423717  1.209793   \n",
       "VALUE  2.001367  3.016536  2.157808  1.565966  3.982585  1.871807  1.784050   \n",
       "VALUE  1.708829  2.190747  2.335906  1.675046  3.970601  2.323254  1.256097   \n",
       "VALUE  1.345217  2.153358  2.101144  1.669377  4.676862  2.837385  1.145106   \n",
       "VALUE  1.810981  2.280193  2.184758  1.821107  4.636038  2.423717  1.369514   \n",
       "\n",
       "           7         8         9     ...      1195      1196      1197  \\\n",
       "VALUE  0.514437  2.549119  4.883893  ...  4.741841  4.780794 -0.631538   \n",
       "VALUE  1.239031  2.269577  4.552656  ...  5.093919  5.373117 -0.139058   \n",
       "VALUE  0.462063  2.356895  4.485711  ...  4.799167  5.423998 -0.097959   \n",
       "VALUE  0.564666  2.344618  3.982585  ...  4.437234  5.018195  0.468434   \n",
       "VALUE  1.160335  2.304156  4.176986  ...  5.071254  4.354178 -0.466601   \n",
       "...         ...       ...       ...  ...       ...       ...       ...   \n",
       "VALUE  1.032134  4.091648  4.234257  ...  5.452155  7.573517  0.370489   \n",
       "VALUE  1.298543  4.372513  4.676862  ...  5.265147  7.740316  0.218895   \n",
       "VALUE  0.804675  4.073547  4.636038  ...  5.216658  7.573517  0.414457   \n",
       "VALUE  1.023439  4.331031  4.600858  ...  3.970601  7.740316  0.345736   \n",
       "VALUE  0.709479  4.195844  4.989697  ...  3.982585  7.462123  0.773163   \n",
       "\n",
       "           1198       1199      1200      1201      1202      1203      1204  \n",
       "VALUE  1.951530  10.341903  2.360723  4.437234  1.418332  3.546319  1.430139  \n",
       "VALUE  1.959635  10.425327  7.373143  4.532671  1.909580  3.035704  1.161776  \n",
       "VALUE  1.943231  10.782703  7.021439  3.791512  1.004798  3.387339  1.261971  \n",
       "VALUE  2.184758  11.137706  8.180804  6.076414  1.232044  3.123045  1.267572  \n",
       "VALUE  1.992813  11.137706  2.187540  6.101862  1.673089  3.025737  1.498883  \n",
       "...         ...        ...       ...       ...       ...       ...       ...  \n",
       "VALUE  1.965035   9.633589  2.202687  7.678173  1.329313  3.072030  1.304512  \n",
       "VALUE  2.563974   9.716142  2.112242  7.516152  1.463067  2.739740  1.036653  \n",
       "VALUE  2.086899   9.428025  1.975642  8.086553  1.379820  3.102057  0.957622  \n",
       "VALUE  2.012465   9.337672  3.662305  7.573517  0.735301  3.714552  1.330909  \n",
       "VALUE  2.239472   9.633589  2.418303  8.180804  1.495500  3.591501  1.371163  \n",
       "\n",
       "[80 rows x 1205 columns]"
      ]
     },
     "execution_count": 82,
     "metadata": {},
     "output_type": "execute_result"
    }
   ],
   "source": [
    "t3"
   ]
  },
  {
   "cell_type": "code",
   "execution_count": 83,
   "metadata": {},
   "outputs": [],
   "source": [
    "X = np.array(sick).reshape(-1, 1)"
   ]
  },
  {
   "cell_type": "code",
   "execution_count": 84,
   "metadata": {},
   "outputs": [
    {
     "data": {
      "text/plain": [
       "LinearRegression()"
      ]
     },
     "execution_count": 84,
     "metadata": {},
     "output_type": "execute_result"
    }
   ],
   "source": [
    "linreg = LinearRegression()\n",
    "linreg.fit(X, t3)"
   ]
  },
  {
   "cell_type": "code",
   "execution_count": 85,
   "metadata": {},
   "outputs": [
    {
     "data": {
      "text/plain": [
       "0.008590687635086703"
      ]
     },
     "execution_count": 85,
     "metadata": {},
     "output_type": "execute_result"
    }
   ],
   "source": [
    "fitted = linreg.predict(X)\n",
    "explained_variance_score(t3, fitted)"
   ]
  },
  {
   "cell_type": "markdown",
   "metadata": {},
   "source": [
    "### Mean-variance-plot"
   ]
  },
  {
   "cell_type": "code",
   "execution_count": 86,
   "metadata": {},
   "outputs": [
    {
     "data": {
      "text/plain": [
       "0       1.620307\n",
       "1       2.418999\n",
       "2       2.430841\n",
       "3       1.614121\n",
       "4       4.429612\n",
       "          ...   \n",
       "1200    3.229530\n",
       "1201    7.548341\n",
       "1202    1.420238\n",
       "1203    3.303061\n",
       "1204    1.220146\n",
       "Length: 1205, dtype: float64"
      ]
     },
     "execution_count": 86,
     "metadata": {},
     "output_type": "execute_result"
    }
   ],
   "source": [
    "np.mean(table)"
   ]
  },
  {
   "cell_type": "code",
   "execution_count": 87,
   "metadata": {
    "tags": []
   },
   "outputs": [],
   "source": [
    "def get_means_and_variances(table):\n",
    "    return np.mean(table), np.var(table, ddof=1)"
   ]
  },
  {
   "cell_type": "code",
   "execution_count": 88,
   "metadata": {
    "tags": []
   },
   "outputs": [],
   "source": [
    "def mean_variance_plot(table):\n",
    "    means, variances = get_means_and_variances(table)\n",
    "    plt.scatter(means, variances)\n",
    "    plt.xlabel(\"mean\")\n",
    "    plt.ylabel(\"variance\")\n",
    "    plt.plot()"
   ]
  },
  {
   "cell_type": "code",
   "execution_count": 89,
   "metadata": {},
   "outputs": [
    {
     "data": {
      "image/png": "[encoded data removed]",
      "text/plain": [
       "<Figure size 432x288 with 1 Axes>"
      ]
     },
     "metadata": {
      "needs_background": "light"
     },
     "output_type": "display_data"
    }
   ],
   "source": [
    "mean_variance_plot(table)"
   ]
  },
  {
   "cell_type": "markdown",
   "metadata": {
    "tags": []
   },
   "source": [
    "### Log transformation"
   ]
  },
  {
   "cell_type": "code",
   "execution_count": 90,
   "metadata": {},
   "outputs": [],
   "source": [
    "log_table = table"
   ]
  },
  {
   "cell_type": "code",
   "execution_count": 91,
   "metadata": {},
   "outputs": [
    {
     "data": {
      "image/png": "[encoded data removed]",
      "text/plain": [
       "<Figure size 432x288 with 1 Axes>"
      ]
     },
     "metadata": {
      "needs_background": "light"
     },
     "output_type": "display_data"
    }
   ],
   "source": [
    "mean_variance_plot(log_table)"
   ]
  },
  {
   "cell_type": "code",
   "execution_count": 92,
   "metadata": {
    "tags": []
   },
   "outputs": [],
   "source": [
    "norm_log_table = log_table #- np.mean(log_table)"
   ]
  },
  {
   "cell_type": "code",
   "execution_count": 93,
   "metadata": {},
   "outputs": [],
   "source": [
    "#norm_log_table /= np.sqrt(np.mean(np.var(norm_log_table, ddof=1)))"
   ]
  },
  {
   "cell_type": "code",
   "execution_count": 94,
   "metadata": {},
   "outputs": [
    {
     "data": {
      "image/png": "[encoded data removed]",
      "text/plain": [
       "<Figure size 432x288 with 1 Axes>"
      ]
     },
     "metadata": {
      "needs_background": "light"
     },
     "output_type": "display_data"
    }
   ],
   "source": [
    "mean_variance_plot(norm_log_table)"
   ]
  },
  {
   "cell_type": "markdown",
   "metadata": {},
   "source": [
    "### PCA"
   ]
  },
  {
   "cell_type": "code",
   "execution_count": 95,
   "metadata": {
    "tags": []
   },
   "outputs": [],
   "source": [
    "pca = decomposition.PCA(n_components=10)"
   ]
  },
  {
   "cell_type": "code",
   "execution_count": 96,
   "metadata": {},
   "outputs": [
    {
     "data": {
      "text/plain": [
       "PCA(n_components=10)"
      ]
     },
     "execution_count": 96,
     "metadata": {},
     "output_type": "execute_result"
    }
   ],
   "source": [
    "pca.fit(norm_log_table)"
   ]
  },
  {
   "cell_type": "code",
   "execution_count": 97,
   "metadata": {},
   "outputs": [
    {
     "data": {
      "text/plain": [
       "array([0.38594343, 0.21948872, 0.07413855, 0.06310029, 0.03717908,\n",
       "       0.02642878, 0.02312132, 0.01642091, 0.01120509, 0.01075345])"
      ]
     },
     "execution_count": 97,
     "metadata": {},
     "output_type": "execute_result"
    }
   ],
   "source": [
    "pca.explained_variance_ratio_"
   ]
  },
  {
   "cell_type": "code",
   "execution_count": 98,
   "metadata": {
    "tags": []
   },
   "outputs": [],
   "source": [
    "components = pca.transform(norm_log_table)"
   ]
  },
  {
   "cell_type": "code",
   "execution_count": 99,
   "metadata": {},
   "outputs": [
    {
     "data": {
      "text/plain": [
       "(80, 10)"
      ]
     },
     "execution_count": 99,
     "metadata": {},
     "output_type": "execute_result"
    }
   ],
   "source": [
    "components.shape"
   ]
  },
  {
   "cell_type": "code",
   "execution_count": 100,
   "metadata": {},
   "outputs": [
    {
     "data": {
      "text/plain": [
       "38"
      ]
     },
     "execution_count": 100,
     "metadata": {},
     "output_type": "execute_result"
    }
   ],
   "source": [
    "sum(controls)"
   ]
  },
  {
   "cell_type": "code",
   "execution_count": 101,
   "metadata": {},
   "outputs": [
    {
     "data": {
      "image/png": "[encoded data removed]",
      "text/plain": [
       "<Figure size 576x576 with 1 Axes>"
      ]
     },
     "metadata": {
      "needs_background": "light"
     },
     "output_type": "display_data"
    }
   ],
   "source": [
    "fig = plt.figure(figsize = (8,8))\n",
    "ax = fig.add_subplot(1,1,1)\n",
    "\n",
    "ax.set_xlabel('Principal Component 1', fontsize = 15)\n",
    "ax.set_ylabel('Principal Component 2', fontsize = 15)\n",
    "ax.set_title('2 component PCA', fontsize = 20)\n",
    "targets = ['Cancer', 'Healthy']\n",
    "colors = ['r', 'g']\n",
    "ax.scatter(components[controls == False, 0], components[controls == False, 1], c = 'r', s = 10)\n",
    "ax.scatter(components[controls == True, 0], components[controls == True, 1], c = 'g', s = 10)\n",
    "ax.legend(targets)\n",
    "ax.grid()"
   ]
  },
  {
   "cell_type": "code",
   "execution_count": 102,
   "metadata": {
    "tags": []
   },
   "outputs": [],
   "source": [
    "components2 = components[components[:,0] < 20, :]\n",
    "controls2 = controls[components[:,0] < 20]"
   ]
  },
  {
   "cell_type": "code",
   "execution_count": 103,
   "metadata": {},
   "outputs": [
    {
     "data": {
      "image/png": "[encoded data removed]",
      "text/plain": [
       "<Figure size 576x576 with 1 Axes>"
      ]
     },
     "metadata": {
      "needs_background": "light"
     },
     "output_type": "display_data"
    }
   ],
   "source": [
    "fig = plt.figure(figsize = (8,8))\n",
    "ax = fig.add_subplot(1,1,1)\n",
    "\n",
    "ax.set_xlabel('Principal Component 1', fontsize = 15)\n",
    "ax.set_ylabel('Principal Component 2', fontsize = 15)\n",
    "ax.set_title('2 component PCA', fontsize = 20)\n",
    "targets = ['Cancer', 'Healthy']\n",
    "colors = ['r', 'g']\n",
    "ax.scatter(components2[controls2 == False, 0], components2[controls2 == False, 1], c = 'r', s = 10)\n",
    "ax.scatter(components2[controls2 == True, 0], components2[controls2 == True, 1], c = 'g', s = 10)\n",
    "ax.legend(targets)\n",
    "ax.grid()"
   ]
  },
  {
   "cell_type": "markdown",
   "metadata": {
    "tags": []
   },
   "source": [
    "### Linear regression adjustments"
   ]
  },
  {
   "cell_type": "code",
   "execution_count": 104,
   "metadata": {},
   "outputs": [],
   "source": [
    "sex = np.array([\"female\" in k.metadata[\"characteristics_ch1\"][1] for k in list(data.gsms.values()) if \"post\" not in k.metadata[\"characteristics_ch1\"][0]])\n",
    "age = np.array([float(k.metadata[\"characteristics_ch1\"][2].split(\" \")[1].replace(\"NA\", \"NaN\")) for k in list(data.gsms.values()) if \"post\" not in k.metadata[\"characteristics_ch1\"][0]])"
   ]
  },
  {
   "cell_type": "code",
   "execution_count": 105,
   "metadata": {},
   "outputs": [],
   "source": [
    "covars = pd.DataFrame(np.array([sex, age]).transpose(), columns=[\"sex\", \"age\"])"
   ]
  },
  {
   "cell_type": "code",
   "execution_count": 106,
   "metadata": {},
   "outputs": [],
   "source": [
    "covars = covars.fillna(covars.mean())"
   ]
  },
  {
   "cell_type": "code",
   "execution_count": 107,
   "metadata": {},
   "outputs": [
    {
     "data": {
      "text/html": [
       "<div>\n",
       "<style scoped>\n",
       "    .dataframe tbody tr th:only-of-type {\n",
       "        vertical-align: middle;\n",
       "    }\n",
       "\n",
       "    .dataframe tbody tr th {\n",
       "        vertical-align: top;\n",
       "    }\n",
       "\n",
       "    .dataframe thead th {\n",
       "        text-align: right;\n",
       "    }\n",
       "</style>\n",
       "<table border=\"1\" class=\"dataframe\">\n",
       "  <thead>\n",
       "    <tr style=\"text-align: right;\">\n",
       "      <th></th>\n",
       "      <th>sex</th>\n",
       "      <th>age</th>\n",
       "    </tr>\n",
       "  </thead>\n",
       "  <tbody>\n",
       "    <tr>\n",
       "      <th>0</th>\n",
       "      <td>1.0</td>\n",
       "      <td>77.0</td>\n",
       "    </tr>\n",
       "    <tr>\n",
       "      <th>1</th>\n",
       "      <td>0.0</td>\n",
       "      <td>68.0</td>\n",
       "    </tr>\n",
       "    <tr>\n",
       "      <th>2</th>\n",
       "      <td>0.0</td>\n",
       "      <td>51.0</td>\n",
       "    </tr>\n",
       "    <tr>\n",
       "      <th>3</th>\n",
       "      <td>1.0</td>\n",
       "      <td>71.0</td>\n",
       "    </tr>\n",
       "    <tr>\n",
       "      <th>4</th>\n",
       "      <td>0.0</td>\n",
       "      <td>72.0</td>\n",
       "    </tr>\n",
       "    <tr>\n",
       "      <th>...</th>\n",
       "      <td>...</td>\n",
       "      <td>...</td>\n",
       "    </tr>\n",
       "    <tr>\n",
       "      <th>75</th>\n",
       "      <td>1.0</td>\n",
       "      <td>45.0</td>\n",
       "    </tr>\n",
       "    <tr>\n",
       "      <th>76</th>\n",
       "      <td>0.0</td>\n",
       "      <td>55.0</td>\n",
       "    </tr>\n",
       "    <tr>\n",
       "      <th>77</th>\n",
       "      <td>1.0</td>\n",
       "      <td>31.0</td>\n",
       "    </tr>\n",
       "    <tr>\n",
       "      <th>78</th>\n",
       "      <td>0.0</td>\n",
       "      <td>39.0</td>\n",
       "    </tr>\n",
       "    <tr>\n",
       "      <th>79</th>\n",
       "      <td>1.0</td>\n",
       "      <td>49.0</td>\n",
       "    </tr>\n",
       "  </tbody>\n",
       "</table>\n",
       "<p>80 rows × 2 columns</p>\n",
       "</div>"
      ],
      "text/plain": [
       "    sex   age\n",
       "0   1.0  77.0\n",
       "1   0.0  68.0\n",
       "2   0.0  51.0\n",
       "3   1.0  71.0\n",
       "4   0.0  72.0\n",
       "..  ...   ...\n",
       "75  1.0  45.0\n",
       "76  0.0  55.0\n",
       "77  1.0  31.0\n",
       "78  0.0  39.0\n",
       "79  1.0  49.0\n",
       "\n",
       "[80 rows x 2 columns]"
      ]
     },
     "execution_count": 107,
     "metadata": {},
     "output_type": "execute_result"
    }
   ],
   "source": [
    "covars"
   ]
  },
  {
   "cell_type": "code",
   "execution_count": 108,
   "metadata": {},
   "outputs": [
    {
     "data": {
      "text/plain": [
       "LinearRegression()"
      ]
     },
     "execution_count": 108,
     "metadata": {},
     "output_type": "execute_result"
    }
   ],
   "source": [
    "linreg = LinearRegression()\n",
    "linreg.fit(covars, norm_log_table)"
   ]
  },
  {
   "cell_type": "code",
   "execution_count": 109,
   "metadata": {},
   "outputs": [],
   "source": [
    "adj_norm_log_table = norm_log_table #- linreg.predict(covars)"
   ]
  },
  {
   "cell_type": "markdown",
   "metadata": {
    "tags": []
   },
   "source": [
    "# PCA"
   ]
  },
  {
   "cell_type": "code",
   "execution_count": 110,
   "metadata": {
    "tags": []
   },
   "outputs": [],
   "source": [
    "pca = decomposition.PCA(n_components=2)"
   ]
  },
  {
   "cell_type": "code",
   "execution_count": 111,
   "metadata": {},
   "outputs": [
    {
     "data": {
      "text/plain": [
       "PCA(n_components=2)"
      ]
     },
     "execution_count": 111,
     "metadata": {},
     "output_type": "execute_result"
    }
   ],
   "source": [
    "pca.fit(adj_norm_log_table)"
   ]
  },
  {
   "cell_type": "code",
   "execution_count": 112,
   "metadata": {
    "tags": []
   },
   "outputs": [],
   "source": [
    "components = pca.transform(adj_norm_log_table)"
   ]
  },
  {
   "cell_type": "code",
   "execution_count": 113,
   "metadata": {},
   "outputs": [
    {
     "data": {
      "text/plain": [
       "array([[ 33.0133013 ,   0.45737575],\n",
       "       [ 34.44874328,  -0.56989233],\n",
       "       [ 34.61764229,   1.05594808],\n",
       "       [ 32.12710514,   2.33557838],\n",
       "       [ 31.19302724,   3.1872517 ],\n",
       "       [ 31.14181737,   4.32172562],\n",
       "       [ 33.05829202,   2.82667141],\n",
       "       [ 32.92790089,   3.79320612],\n",
       "       [ 34.42630156,  -0.63611755],\n",
       "       [ 35.37776711,  -0.27508281],\n",
       "       [ 33.44222342,  -1.8538441 ],\n",
       "       [ 34.79760103,   1.29675824],\n",
       "       [ 34.15628767,   0.52942782],\n",
       "       [ 35.62940464,   2.54785396],\n",
       "       [ -7.11211684,  12.0030662 ],\n",
       "       [ -6.93529737,   9.20359271],\n",
       "       [ -8.1263083 ,  11.09110334],\n",
       "       [ -7.72924127,  12.7131997 ],\n",
       "       [ -9.12727117,  13.09632303],\n",
       "       [ -6.38687594,  12.40796956],\n",
       "       [ -7.51749258,  11.93019155],\n",
       "       [ -7.20514339,  12.29647602],\n",
       "       [ -3.94690151,   4.3901922 ],\n",
       "       [ -6.81178956,   9.60175897],\n",
       "       [ -6.50834514,   8.84686823],\n",
       "       [ -6.46834913,   9.53951298],\n",
       "       [ -6.42349609,  12.05764114],\n",
       "       [-10.10012605,  18.48548649],\n",
       "       [ -8.94682339,  17.67482799],\n",
       "       [ -8.77873167,  16.7033301 ],\n",
       "       [ -9.63763587,  17.67137027],\n",
       "       [-10.67366365,  18.25199497],\n",
       "       [ -9.09101167,  18.0514527 ],\n",
       "       [ -8.90272699,  18.85498462],\n",
       "       [ -8.97188972,  19.24707295],\n",
       "       [ -6.68513342,  17.52695776],\n",
       "       [ -8.19035004,  15.11455673],\n",
       "       [ -7.32728365,  15.23083067],\n",
       "       [ -8.24580446,  18.68701636],\n",
       "       [ -8.98160075,  16.38851949],\n",
       "       [ -7.37776372,  17.6688178 ],\n",
       "       [ -4.66124396, -14.47090677],\n",
       "       [ -5.79822266,  -9.88154857],\n",
       "       [ -6.524812  , -10.50503   ],\n",
       "       [ -7.00999864, -12.40093705],\n",
       "       [ -8.12875178, -13.78099301],\n",
       "       [ -6.66793571, -11.21595712],\n",
       "       [ -6.36074429, -12.06594481],\n",
       "       [ -5.49762109, -13.77983841],\n",
       "       [ -1.75654433, -18.19071234],\n",
       "       [ -5.356056  , -15.50858052],\n",
       "       [ -4.38119523, -13.3936794 ],\n",
       "       [ -5.75626173, -12.55581325],\n",
       "       [ -7.03566241,  -5.90296139],\n",
       "       [ -5.76405243, -12.6874549 ],\n",
       "       [ -6.44361381, -14.86493554],\n",
       "       [ -6.92818065, -14.86143541],\n",
       "       [ -7.10098069, -12.81591336],\n",
       "       [ -8.30780137, -15.1521221 ],\n",
       "       [ -7.12834521, -10.81592213],\n",
       "       [ -5.75537577, -12.97268979],\n",
       "       [ -6.0354851 , -12.74386897],\n",
       "       [ -3.91170056, -14.18761224],\n",
       "       [ -6.30855725, -14.43055789],\n",
       "       [ -5.7276462 , -15.8969878 ],\n",
       "       [ -6.19169813, -13.93038919],\n",
       "       [ -7.28630553, -12.37486885],\n",
       "       [ -6.59659917,   0.23142637],\n",
       "       [ -7.94718396,  -5.74943864],\n",
       "       [ -6.49488623,  -7.96262542],\n",
       "       [ -8.66571795,  -5.16480596],\n",
       "       [ -8.74364604,   2.55650938],\n",
       "       [ -7.74802191,  -5.14527056],\n",
       "       [ -7.3872094 ,  -3.99271141],\n",
       "       [ -8.75577988,  -4.47589429],\n",
       "       [ -7.93295096,  -6.80477875],\n",
       "       [ -8.98830465,  -7.85080176],\n",
       "       [ -8.26534375,  -8.71211554],\n",
       "       [ -5.79934546,  -5.93242964],\n",
       "       [ -6.99845969,  -3.36137773]])"
      ]
     },
     "execution_count": 113,
     "metadata": {},
     "output_type": "execute_result"
    }
   ],
   "source": [
    "components"
   ]
  },
  {
   "cell_type": "code",
   "execution_count": 114,
   "metadata": {},
   "outputs": [
    {
     "data": {
      "image/png": "[encoded data removed]",
      "text/plain": [
       "<Figure size 576x576 with 1 Axes>"
      ]
     },
     "metadata": {
      "needs_background": "light"
     },
     "output_type": "display_data"
    }
   ],
   "source": [
    "fig = plt.figure(figsize = (8,8))\n",
    "ax = fig.add_subplot(1,1,1)\n",
    "\n",
    "ax.set_xlabel('Principal Component 1', fontsize = 15)\n",
    "ax.set_ylabel('Principal Component 2', fontsize = 15)\n",
    "ax.set_title('2 component PCA', fontsize = 20)\n",
    "targets = ['Cancer', 'Healthy']\n",
    "colors = ['r', 'g']\n",
    "ax.scatter(components[controls == False, 0], components[controls == False, 1], c = 'r', s = 10)\n",
    "ax.scatter(components[controls == True, 0], components[controls == True, 1], c = 'g', s = 10)\n",
    "ax.legend(targets)\n",
    "ax.grid()"
   ]
  },
  {
   "cell_type": "markdown",
   "metadata": {},
   "source": [
    "### Logistic Regression"
   ]
  },
  {
   "cell_type": "code",
   "execution_count": 115,
   "metadata": {},
   "outputs": [],
   "source": [
    "X_train, X_test, y_train, y_test = train_test_split(adj_norm_log_table, controls, test_size=0.33, random_state=42)"
   ]
  },
  {
   "cell_type": "code",
   "execution_count": 116,
   "metadata": {},
   "outputs": [
    {
     "data": {
      "text/plain": [
       "LogisticRegression(max_iter=1000)"
      ]
     },
     "execution_count": 116,
     "metadata": {},
     "output_type": "execute_result"
    }
   ],
   "source": [
    "model = LogisticRegression(max_iter=1000)\n",
    "model.fit(X_train, y_train)"
   ]
  },
  {
   "cell_type": "code",
   "execution_count": 117,
   "metadata": {},
   "outputs": [
    {
     "name": "stderr",
     "output_type": "stream",
     "text": [
      "C:\\Users\\olefr\\AppData\\Local\\Programs\\Python\\Python310\\lib\\site-packages\\sklearn\\utils\\deprecation.py:87: FutureWarning: Function plot_roc_curve is deprecated; Function :func:`plot_roc_curve` is deprecated in 1.0 and will be removed in 1.2. Use one of the class methods: :meth:`sklearn.metric.RocCurveDisplay.from_predictions` or :meth:`sklearn.metric.RocCurveDisplay.from_estimator`.\n",
      "  warnings.warn(msg, category=FutureWarning)\n"
     ]
    },
    {
     "data": {
      "text/plain": [
       "<sklearn.metrics._plot.roc_curve.RocCurveDisplay at 0x21fe46233d0>"
      ]
     },
     "execution_count": 117,
     "metadata": {},
     "output_type": "execute_result"
    },
    {
     "data": {
      "image/png": "[encoded data removed]",
      "text/plain": [
       "<Figure size 432x288 with 1 Axes>"
      ]
     },
     "metadata": {
      "needs_background": "light"
     },
     "output_type": "display_data"
    }
   ],
   "source": [
    "plot_roc_curve(model, X_test, y_test)"
   ]
  },
  {
   "cell_type": "markdown",
   "metadata": {
    "jupyter": {
     "outputs_hidden": true
    }
   },
   "source": [
    "### XGBoost"
   ]
  },
  {
   "cell_type": "code",
   "execution_count": 118,
   "metadata": {},
   "outputs": [
    {
     "name": "stdout",
     "output_type": "stream",
     "text": [
      "[18:51:40] WARNING: C:/Users/Administrator/workspace/xgboost-win64_release_1.5.1/src/learner.cc:1115: Starting in XGBoost 1.3.0, the default evaluation metric used with the objective 'binary:logistic' was changed from 'error' to 'logloss'. Explicitly set eval_metric if you'd like to restore the old behavior.\n"
     ]
    },
    {
     "data": {
      "text/plain": [
       "XGBClassifier(base_score=0.5, booster='gbtree', colsample_bylevel=1,\n",
       "              colsample_bynode=1, colsample_bytree=1, enable_categorical=False,\n",
       "              gamma=0, gpu_id=-1, importance_type=None,\n",
       "              interaction_constraints='', learning_rate=0.300000012,\n",
       "              max_delta_step=0, max_depth=6, min_child_weight=1, missing=nan,\n",
       "              monotone_constraints='()', n_estimators=100, n_jobs=16,\n",
       "              num_parallel_tree=1, predictor='auto', random_state=0,\n",
       "              reg_alpha=0, reg_lambda=1, scale_pos_weight=1, subsample=1,\n",
       "              tree_method='exact', use_label_encoder=False,\n",
       "              validate_parameters=1, verbosity=None)"
      ]
     },
     "execution_count": 118,
     "metadata": {},
     "output_type": "execute_result"
    }
   ],
   "source": [
    "model = XGBClassifier(use_label_encoder=False)\n",
    "model.fit(X_train, y_train)"
   ]
  },
  {
   "cell_type": "code",
   "execution_count": 119,
   "metadata": {},
   "outputs": [
    {
     "name": "stderr",
     "output_type": "stream",
     "text": [
      "C:\\Users\\olefr\\AppData\\Local\\Programs\\Python\\Python310\\lib\\site-packages\\sklearn\\utils\\deprecation.py:87: FutureWarning: Function plot_roc_curve is deprecated; Function :func:`plot_roc_curve` is deprecated in 1.0 and will be removed in 1.2. Use one of the class methods: :meth:`sklearn.metric.RocCurveDisplay.from_predictions` or :meth:`sklearn.metric.RocCurveDisplay.from_estimator`.\n",
      "  warnings.warn(msg, category=FutureWarning)\n"
     ]
    },
    {
     "data": {
      "text/plain": [
       "<sklearn.metrics._plot.roc_curve.RocCurveDisplay at 0x21fe430afe0>"
      ]
     },
     "execution_count": 119,
     "metadata": {},
     "output_type": "execute_result"
    },
    {
     "data": {
      "image/png": "[encoded data removed]",
      "text/plain": [
       "<Figure size 432x288 with 1 Axes>"
      ]
     },
     "metadata": {
      "needs_background": "light"
     },
     "output_type": "display_data"
    }
   ],
   "source": [
    "plot_roc_curve(model, X_test, y_test)"
   ]
  },
  {
   "cell_type": "markdown",
   "metadata": {},
   "source": [
    "### Export data"
   ]
  },
  {
   "cell_type": "code",
   "execution_count": 120,
   "metadata": {},
   "outputs": [],
   "source": [
    "lookup_table = data.gpls[\"GPL16770\"].table"
   ]
  },
  {
   "cell_type": "code",
   "execution_count": 121,
   "metadata": {},
   "outputs": [
    {
     "data": {
      "text/html": [
       "<div>\n",
       "<style scoped>\n",
       "    .dataframe tbody tr th:only-of-type {\n",
       "        vertical-align: middle;\n",
       "    }\n",
       "\n",
       "    .dataframe tbody tr th {\n",
       "        vertical-align: top;\n",
       "    }\n",
       "\n",
       "    .dataframe thead th {\n",
       "        text-align: right;\n",
       "    }\n",
       "</style>\n",
       "<table border=\"1\" class=\"dataframe\">\n",
       "  <thead>\n",
       "    <tr style=\"text-align: right;\">\n",
       "      <th></th>\n",
       "      <th>ID</th>\n",
       "      <th>miRNA_ID</th>\n",
       "      <th>SPOT_ID</th>\n",
       "    </tr>\n",
       "  </thead>\n",
       "  <tbody>\n",
       "    <tr>\n",
       "      <th>0</th>\n",
       "      <td>ebv-miR-BART1-3p</td>\n",
       "      <td>ebv-miR-BART1-3p</td>\n",
       "      <td>NaN</td>\n",
       "    </tr>\n",
       "    <tr>\n",
       "      <th>1</th>\n",
       "      <td>ebv-miR-BART1-5p</td>\n",
       "      <td>ebv-miR-BART1-5p</td>\n",
       "      <td>NaN</td>\n",
       "    </tr>\n",
       "    <tr>\n",
       "      <th>2</th>\n",
       "      <td>ebv-miR-BART10</td>\n",
       "      <td>ebv-miR-BART10</td>\n",
       "      <td>NaN</td>\n",
       "    </tr>\n",
       "    <tr>\n",
       "      <th>3</th>\n",
       "      <td>ebv-miR-BART10*</td>\n",
       "      <td>ebv-miR-BART10*</td>\n",
       "      <td>NaN</td>\n",
       "    </tr>\n",
       "    <tr>\n",
       "      <th>4</th>\n",
       "      <td>ebv-miR-BART11-3p</td>\n",
       "      <td>ebv-miR-BART11-3p</td>\n",
       "      <td>NaN</td>\n",
       "    </tr>\n",
       "  </tbody>\n",
       "</table>\n",
       "</div>"
      ],
      "text/plain": [
       "                  ID           miRNA_ID SPOT_ID\n",
       "0   ebv-miR-BART1-3p   ebv-miR-BART1-3p     NaN\n",
       "1   ebv-miR-BART1-5p   ebv-miR-BART1-5p     NaN\n",
       "2     ebv-miR-BART10     ebv-miR-BART10     NaN\n",
       "3    ebv-miR-BART10*    ebv-miR-BART10*     NaN\n",
       "4  ebv-miR-BART11-3p  ebv-miR-BART11-3p     NaN"
      ]
     },
     "execution_count": 121,
     "metadata": {},
     "output_type": "execute_result"
    }
   ],
   "source": [
    "lookup_table.head()"
   ]
  },
  {
   "cell_type": "code",
   "execution_count": 122,
   "metadata": {},
   "outputs": [],
   "source": [
    "lookup_table = lookup_table.set_index(\"ID\")"
   ]
  },
  {
   "cell_type": "code",
   "execution_count": 123,
   "metadata": {},
   "outputs": [],
   "source": [
    "mirna_ids = lookup_table.loc[mirnas][\"miRNA_ID\"]"
   ]
  },
  {
   "cell_type": "code",
   "execution_count": 124,
   "metadata": {},
   "outputs": [],
   "source": [
    "from Scripts import converters"
   ]
  },
  {
   "cell_type": "code",
   "execution_count": 125,
   "metadata": {},
   "outputs": [],
   "source": [
    "sequences = converters.canonical_to_seq(mirnas, True)"
   ]
  },
  {
   "cell_type": "code",
   "execution_count": 126,
   "metadata": {},
   "outputs": [
    {
     "data": {
      "text/plain": [
       "46        hsa-miR-1274b\n",
       "318       hsa-miR-1274a\n",
       "715     hsa-miR-3647-3p\n",
       "754         hsa-miR-720\n",
       "952         hsa-let-7c*\n",
       "1196       hsa-miR-1280\n",
       "Name: ID_REF, dtype: object"
      ]
     },
     "execution_count": 126,
     "metadata": {},
     "output_type": "execute_result"
    }
   ],
   "source": [
    "sequences = np.array(sequences)\n",
    "mirnas.loc[sequences == None]"
   ]
  },
  {
   "cell_type": "code",
   "execution_count": 127,
   "metadata": {},
   "outputs": [],
   "source": [
    "mask = sequences != None\n",
    "sequences = sequences[mask]\n",
    "adj_norm_log_table = adj_norm_log_table.loc[:, mask]"
   ]
  },
  {
   "cell_type": "code",
   "execution_count": 128,
   "metadata": {},
   "outputs": [
    {
     "data": {
      "text/html": [
       "<div>\n",
       "<style scoped>\n",
       "    .dataframe tbody tr th:only-of-type {\n",
       "        vertical-align: middle;\n",
       "    }\n",
       "\n",
       "    .dataframe tbody tr th {\n",
       "        vertical-align: top;\n",
       "    }\n",
       "\n",
       "    .dataframe thead th {\n",
       "        text-align: right;\n",
       "    }\n",
       "</style>\n",
       "<table border=\"1\" class=\"dataframe\">\n",
       "  <thead>\n",
       "    <tr style=\"text-align: right;\">\n",
       "      <th></th>\n",
       "      <th>UUUUGCACCUUUUGGAGUGAA</th>\n",
       "      <th>AAAAGUAAUUGUGGUUUUUGCC</th>\n",
       "      <th>CCUCCUGCCCUCCUUGCUGU</th>\n",
       "      <th>UAAUACUGUCUGGUAAAACCGU</th>\n",
       "      <th>ACCGUGCAAAGGUAGCAUA</th>\n",
       "      <th>UCAGGCCAGGCACAGUGGCUCA</th>\n",
       "      <th>UCAGCACCAGGAUAUUGUUGGAG</th>\n",
       "      <th>AAGAUGUGGAAAAAUUGGAAUC</th>\n",
       "      <th>ACCAUCGACCGUUGAUUGUACC</th>\n",
       "      <th>CGUCAACACUUGCUGGUUUCCU</th>\n",
       "      <th>...</th>\n",
       "      <th>UCGCCUCCUCCUCUCCC</th>\n",
       "      <th>UCUACAAAGGAAAGCGCUUUCU</th>\n",
       "      <th>UCGUUUGCCUUUUUCUGCUU</th>\n",
       "      <th>AGCAGCAUUGUACAGGGCUAUGA</th>\n",
       "      <th>AACCCGUAGAUCCGAACUUGUG</th>\n",
       "      <th>UACAGUACUGUGAUAACUGAA</th>\n",
       "      <th>UGGAGUCCAGGAAUCUGCAUUUU</th>\n",
       "      <th>UGGACUGCCCUGAUCUGGAGA</th>\n",
       "      <th>UCAAAUGCUCAGACUCCUGUGGU</th>\n",
       "      <th>cancer</th>\n",
       "    </tr>\n",
       "  </thead>\n",
       "  <tbody>\n",
       "    <tr>\n",
       "      <th>VALUE</th>\n",
       "      <td>1.597713</td>\n",
       "      <td>2.866922</td>\n",
       "      <td>3.123045</td>\n",
       "      <td>1.276868</td>\n",
       "      <td>3.729534</td>\n",
       "      <td>6.461108</td>\n",
       "      <td>0.997509</td>\n",
       "      <td>0.514437</td>\n",
       "      <td>2.549119</td>\n",
       "      <td>4.883893</td>\n",
       "      <td>...</td>\n",
       "      <td>4.741841</td>\n",
       "      <td>-0.631538</td>\n",
       "      <td>1.951530</td>\n",
       "      <td>10.341903</td>\n",
       "      <td>2.360723</td>\n",
       "      <td>4.437234</td>\n",
       "      <td>1.418332</td>\n",
       "      <td>3.546319</td>\n",
       "      <td>1.430139</td>\n",
       "      <td>1</td>\n",
       "    </tr>\n",
       "    <tr>\n",
       "      <th>VALUE</th>\n",
       "      <td>1.569786</td>\n",
       "      <td>2.978141</td>\n",
       "      <td>2.523807</td>\n",
       "      <td>1.058127</td>\n",
       "      <td>2.602819</td>\n",
       "      <td>6.313092</td>\n",
       "      <td>1.571382</td>\n",
       "      <td>1.239031</td>\n",
       "      <td>2.269577</td>\n",
       "      <td>4.552656</td>\n",
       "      <td>...</td>\n",
       "      <td>5.093919</td>\n",
       "      <td>-0.139058</td>\n",
       "      <td>1.959635</td>\n",
       "      <td>10.425327</td>\n",
       "      <td>7.373143</td>\n",
       "      <td>4.532671</td>\n",
       "      <td>1.909580</td>\n",
       "      <td>3.035704</td>\n",
       "      <td>1.161776</td>\n",
       "      <td>1</td>\n",
       "    </tr>\n",
       "    <tr>\n",
       "      <th>VALUE</th>\n",
       "      <td>1.585265</td>\n",
       "      <td>2.134337</td>\n",
       "      <td>2.829239</td>\n",
       "      <td>1.267572</td>\n",
       "      <td>2.960690</td>\n",
       "      <td>1.817075</td>\n",
       "      <td>1.423240</td>\n",
       "      <td>0.462063</td>\n",
       "      <td>2.356895</td>\n",
       "      <td>4.485711</td>\n",
       "      <td>...</td>\n",
       "      <td>4.799167</td>\n",
       "      <td>-0.097959</td>\n",
       "      <td>1.943231</td>\n",
       "      <td>10.782703</td>\n",
       "      <td>7.021439</td>\n",
       "      <td>3.791512</td>\n",
       "      <td>1.004798</td>\n",
       "      <td>3.387339</td>\n",
       "      <td>1.261971</td>\n",
       "      <td>1</td>\n",
       "    </tr>\n",
       "    <tr>\n",
       "      <th>VALUE</th>\n",
       "      <td>1.335035</td>\n",
       "      <td>2.157808</td>\n",
       "      <td>2.528000</td>\n",
       "      <td>1.330909</td>\n",
       "      <td>2.837385</td>\n",
       "      <td>2.801719</td>\n",
       "      <td>1.106735</td>\n",
       "      <td>0.564666</td>\n",
       "      <td>2.344618</td>\n",
       "      <td>3.982585</td>\n",
       "      <td>...</td>\n",
       "      <td>4.437234</td>\n",
       "      <td>0.468434</td>\n",
       "      <td>2.184758</td>\n",
       "      <td>11.137706</td>\n",
       "      <td>8.180804</td>\n",
       "      <td>6.076414</td>\n",
       "      <td>1.232044</td>\n",
       "      <td>3.123045</td>\n",
       "      <td>1.267572</td>\n",
       "      <td>1</td>\n",
       "    </tr>\n",
       "    <tr>\n",
       "      <th>VALUE</th>\n",
       "      <td>1.516199</td>\n",
       "      <td>3.822315</td>\n",
       "      <td>2.523807</td>\n",
       "      <td>1.273586</td>\n",
       "      <td>2.093549</td>\n",
       "      <td>6.712629</td>\n",
       "      <td>0.908285</td>\n",
       "      <td>1.160335</td>\n",
       "      <td>2.304156</td>\n",
       "      <td>4.176986</td>\n",
       "      <td>...</td>\n",
       "      <td>5.071254</td>\n",
       "      <td>-0.466601</td>\n",
       "      <td>1.992813</td>\n",
       "      <td>11.137706</td>\n",
       "      <td>2.187540</td>\n",
       "      <td>6.101862</td>\n",
       "      <td>1.673089</td>\n",
       "      <td>3.025737</td>\n",
       "      <td>1.498883</td>\n",
       "      <td>1</td>\n",
       "    </tr>\n",
       "  </tbody>\n",
       "</table>\n",
       "<p>5 rows × 1187 columns</p>\n",
       "</div>"
      ],
      "text/plain": [
       "       UUUUGCACCUUUUGGAGUGAA  AAAAGUAAUUGUGGUUUUUGCC  CCUCCUGCCCUCCUUGCUGU  \\\n",
       "VALUE               1.597713                2.866922              3.123045   \n",
       "VALUE               1.569786                2.978141              2.523807   \n",
       "VALUE               1.585265                2.134337              2.829239   \n",
       "VALUE               1.335035                2.157808              2.528000   \n",
       "VALUE               1.516199                3.822315              2.523807   \n",
       "\n",
       "       UAAUACUGUCUGGUAAAACCGU  ACCGUGCAAAGGUAGCAUA  UCAGGCCAGGCACAGUGGCUCA  \\\n",
       "VALUE                1.276868             3.729534                6.461108   \n",
       "VALUE                1.058127             2.602819                6.313092   \n",
       "VALUE                1.267572             2.960690                1.817075   \n",
       "VALUE                1.330909             2.837385                2.801719   \n",
       "VALUE                1.273586             2.093549                6.712629   \n",
       "\n",
       "       UCAGCACCAGGAUAUUGUUGGAG  AAGAUGUGGAAAAAUUGGAAUC  \\\n",
       "VALUE                 0.997509                0.514437   \n",
       "VALUE                 1.571382                1.239031   \n",
       "VALUE                 1.423240                0.462063   \n",
       "VALUE                 1.106735                0.564666   \n",
       "VALUE                 0.908285                1.160335   \n",
       "\n",
       "       ACCAUCGACCGUUGAUUGUACC  CGUCAACACUUGCUGGUUUCCU  ...  UCGCCUCCUCCUCUCCC  \\\n",
       "VALUE                2.549119                4.883893  ...           4.741841   \n",
       "VALUE                2.269577                4.552656  ...           5.093919   \n",
       "VALUE                2.356895                4.485711  ...           4.799167   \n",
       "VALUE                2.344618                3.982585  ...           4.437234   \n",
       "VALUE                2.304156                4.176986  ...           5.071254   \n",
       "\n",
       "       UCUACAAAGGAAAGCGCUUUCU  UCGUUUGCCUUUUUCUGCUU  AGCAGCAUUGUACAGGGCUAUGA  \\\n",
       "VALUE               -0.631538              1.951530                10.341903   \n",
       "VALUE               -0.139058              1.959635                10.425327   \n",
       "VALUE               -0.097959              1.943231                10.782703   \n",
       "VALUE                0.468434              2.184758                11.137706   \n",
       "VALUE               -0.466601              1.992813                11.137706   \n",
       "\n",
       "       AACCCGUAGAUCCGAACUUGUG  UACAGUACUGUGAUAACUGAA  UGGAGUCCAGGAAUCUGCAUUUU  \\\n",
       "VALUE                2.360723               4.437234                 1.418332   \n",
       "VALUE                7.373143               4.532671                 1.909580   \n",
       "VALUE                7.021439               3.791512                 1.004798   \n",
       "VALUE                8.180804               6.076414                 1.232044   \n",
       "VALUE                2.187540               6.101862                 1.673089   \n",
       "\n",
       "       UGGACUGCCCUGAUCUGGAGA  UCAAAUGCUCAGACUCCUGUGGU  cancer  \n",
       "VALUE               3.546319                 1.430139       1  \n",
       "VALUE               3.035704                 1.161776       1  \n",
       "VALUE               3.387339                 1.261971       1  \n",
       "VALUE               3.123045                 1.267572       1  \n",
       "VALUE               3.025737                 1.498883       1  \n",
       "\n",
       "[5 rows x 1187 columns]"
      ]
     },
     "execution_count": 128,
     "metadata": {},
     "output_type": "execute_result"
    }
   ],
   "source": [
    "adj_norm_log_table.columns = sequences\n",
    "adj_norm_log_table = adj_norm_log_table.loc[:,~adj_norm_log_table.columns.duplicated()]\n",
    "adj_norm_log_table[\"cancer\"] = sick\n",
    "adj_norm_log_table.head()"
   ]
  },
  {
   "cell_type": "code",
   "execution_count": 129,
   "metadata": {},
   "outputs": [],
   "source": [
    "adj_norm_log_table.to_csv(\"../TransformedData/Leidinger2014_raw.csv\", index=False)"
   ]
  },
  {
   "cell_type": "code",
   "execution_count": null,
   "metadata": {},
   "outputs": [],
   "source": []
  }
 ],
 "metadata": {
  "kernelspec": {
   "display_name": "Python 3 (ipykernel)",
   "language": "python",
   "name": "python3"
  },
  "language_info": {
   "codemirror_mode": {
    "name": "ipython",
    "version": 3
   },
   "file_extension": ".py",
   "mimetype": "text/x-python",
   "name": "python",
   "nbconvert_exporter": "python",
   "pygments_lexer": "ipython3",
   "version": "3.10.1"
  }
 },
 "nbformat": 4,
 "nbformat_minor": 4
}
