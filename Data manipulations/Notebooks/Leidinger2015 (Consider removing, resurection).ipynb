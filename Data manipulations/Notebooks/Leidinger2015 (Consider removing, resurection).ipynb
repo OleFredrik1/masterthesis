{
 "cells": [
  {
   "cell_type": "code",
   "execution_count": 1,
   "metadata": {
    "tags": []
   },
   "outputs": [],
   "source": [
    "%matplotlib inline\n",
    "import GEOparse\n",
    "import matplotlib.pyplot as plt\n",
    "import pandas as pd\n",
    "import numpy as np\n",
    "from sklearn import decomposition\n",
    "from sklearn.feature_selection import f_classif\n",
    "from sklearn.linear_model import LinearRegression, LogisticRegression\n",
    "from sklearn.metrics import explained_variance_score, plot_roc_curve\n",
    "import statsmodels.api as sm\n",
    "from scipy.stats import ttest_ind\n",
    "from xgboost import XGBClassifier\n",
    "from sklearn.model_selection import train_test_split\n",
    "from sklego.linear_model import LowessRegression"
   ]
  },
  {
   "cell_type": "markdown",
   "metadata": {},
   "source": [
    "### Reading in from external source"
   ]
  },
  {
   "cell_type": "code",
   "execution_count": 2,
   "metadata": {},
   "outputs": [],
   "source": [
    "geo = \"GSE68951\"\n",
    "data = GEOparse.get_GEO(geo=geo, destdir=\"../Dataset/Leidinger2015\", silent=True)\n",
    "#table = pd.read_csv(\"../Dataset/Fehlman2020/expression_matrix.csv\", sep=\"\\t\")\n",
    "#table = pd.read_csv(\"../Dataset/Wozniak2015/GSE64591_non-normalized.txt\", sep=\"\\t\", header=5)"
   ]
  },
  {
   "cell_type": "code",
   "execution_count": 3,
   "metadata": {},
   "outputs": [],
   "source": [
    "table = pd.concat((val.table.iloc[:,1:] for val in data.gsms.values()), axis=1).transpose()\n",
    "mirnas = list(data.gsms.values())[0].table.iloc[:,0]"
   ]
  },
  {
   "cell_type": "code",
   "execution_count": 4,
   "metadata": {},
   "outputs": [
    {
     "data": {
      "text/html": [
       "<div>\n",
       "<style scoped>\n",
       "    .dataframe tbody tr th:only-of-type {\n",
       "        vertical-align: middle;\n",
       "    }\n",
       "\n",
       "    .dataframe tbody tr th {\n",
       "        vertical-align: top;\n",
       "    }\n",
       "\n",
       "    .dataframe thead th {\n",
       "        text-align: right;\n",
       "    }\n",
       "</style>\n",
       "<table border=\"1\" class=\"dataframe\">\n",
       "  <thead>\n",
       "    <tr style=\"text-align: right;\">\n",
       "      <th></th>\n",
       "      <th>0</th>\n",
       "      <th>1</th>\n",
       "      <th>2</th>\n",
       "      <th>3</th>\n",
       "      <th>4</th>\n",
       "      <th>5</th>\n",
       "      <th>6</th>\n",
       "      <th>7</th>\n",
       "      <th>8</th>\n",
       "      <th>9</th>\n",
       "      <th>...</th>\n",
       "      <th>1195</th>\n",
       "      <th>1196</th>\n",
       "      <th>1197</th>\n",
       "      <th>1198</th>\n",
       "      <th>1199</th>\n",
       "      <th>1200</th>\n",
       "      <th>1201</th>\n",
       "      <th>1202</th>\n",
       "      <th>1203</th>\n",
       "      <th>1204</th>\n",
       "    </tr>\n",
       "  </thead>\n",
       "  <tbody>\n",
       "    <tr>\n",
       "      <th>VALUE</th>\n",
       "      <td>1.854979</td>\n",
       "      <td>2.184182</td>\n",
       "      <td>2.532296</td>\n",
       "      <td>1.518052</td>\n",
       "      <td>1.510107</td>\n",
       "      <td>4.779461</td>\n",
       "      <td>1.463735</td>\n",
       "      <td>0.701141</td>\n",
       "      <td>1.884349</td>\n",
       "      <td>3.091228</td>\n",
       "      <td>...</td>\n",
       "      <td>5.084469</td>\n",
       "      <td>5.292274</td>\n",
       "      <td>0.268966</td>\n",
       "      <td>2.060832</td>\n",
       "      <td>7.297528</td>\n",
       "      <td>2.252402</td>\n",
       "      <td>5.674228</td>\n",
       "      <td>1.410002</td>\n",
       "      <td>3.727455</td>\n",
       "      <td>1.370078</td>\n",
       "    </tr>\n",
       "    <tr>\n",
       "      <th>VALUE</th>\n",
       "      <td>1.469763</td>\n",
       "      <td>2.320244</td>\n",
       "      <td>2.111889</td>\n",
       "      <td>1.617264</td>\n",
       "      <td>3.138606</td>\n",
       "      <td>3.836508</td>\n",
       "      <td>1.473691</td>\n",
       "      <td>1.036632</td>\n",
       "      <td>2.182694</td>\n",
       "      <td>3.226966</td>\n",
       "      <td>...</td>\n",
       "      <td>4.741217</td>\n",
       "      <td>4.961900</td>\n",
       "      <td>0.268966</td>\n",
       "      <td>1.871114</td>\n",
       "      <td>8.545123</td>\n",
       "      <td>2.045075</td>\n",
       "      <td>5.927078</td>\n",
       "      <td>1.427917</td>\n",
       "      <td>2.450359</td>\n",
       "      <td>1.357766</td>\n",
       "    </tr>\n",
       "    <tr>\n",
       "      <th>VALUE</th>\n",
       "      <td>1.449375</td>\n",
       "      <td>2.510285</td>\n",
       "      <td>2.083508</td>\n",
       "      <td>1.235886</td>\n",
       "      <td>2.961309</td>\n",
       "      <td>4.034239</td>\n",
       "      <td>1.729450</td>\n",
       "      <td>1.238367</td>\n",
       "      <td>2.191353</td>\n",
       "      <td>2.853613</td>\n",
       "      <td>...</td>\n",
       "      <td>4.636542</td>\n",
       "      <td>5.069766</td>\n",
       "      <td>0.137944</td>\n",
       "      <td>1.633985</td>\n",
       "      <td>7.760185</td>\n",
       "      <td>2.167678</td>\n",
       "      <td>5.892667</td>\n",
       "      <td>1.123662</td>\n",
       "      <td>2.571076</td>\n",
       "      <td>1.066838</td>\n",
       "    </tr>\n",
       "    <tr>\n",
       "      <th>VALUE</th>\n",
       "      <td>1.777522</td>\n",
       "      <td>2.724679</td>\n",
       "      <td>3.012722</td>\n",
       "      <td>1.390768</td>\n",
       "      <td>1.634918</td>\n",
       "      <td>3.507631</td>\n",
       "      <td>1.582395</td>\n",
       "      <td>0.762787</td>\n",
       "      <td>2.277530</td>\n",
       "      <td>2.493348</td>\n",
       "      <td>...</td>\n",
       "      <td>6.048589</td>\n",
       "      <td>6.561372</td>\n",
       "      <td>-1.470349</td>\n",
       "      <td>2.206143</td>\n",
       "      <td>4.255906</td>\n",
       "      <td>1.673774</td>\n",
       "      <td>2.802465</td>\n",
       "      <td>1.140461</td>\n",
       "      <td>3.310383</td>\n",
       "      <td>1.443592</td>\n",
       "    </tr>\n",
       "    <tr>\n",
       "      <th>VALUE</th>\n",
       "      <td>1.538218</td>\n",
       "      <td>2.030510</td>\n",
       "      <td>2.470375</td>\n",
       "      <td>1.563558</td>\n",
       "      <td>2.854814</td>\n",
       "      <td>3.221865</td>\n",
       "      <td>1.322348</td>\n",
       "      <td>1.001364</td>\n",
       "      <td>2.293578</td>\n",
       "      <td>3.162074</td>\n",
       "      <td>...</td>\n",
       "      <td>4.568712</td>\n",
       "      <td>5.488843</td>\n",
       "      <td>-0.545426</td>\n",
       "      <td>2.377511</td>\n",
       "      <td>8.967807</td>\n",
       "      <td>2.322869</td>\n",
       "      <td>5.674228</td>\n",
       "      <td>1.234841</td>\n",
       "      <td>2.518547</td>\n",
       "      <td>1.486707</td>\n",
       "    </tr>\n",
       "    <tr>\n",
       "      <th>...</th>\n",
       "      <td>...</td>\n",
       "      <td>...</td>\n",
       "      <td>...</td>\n",
       "      <td>...</td>\n",
       "      <td>...</td>\n",
       "      <td>...</td>\n",
       "      <td>...</td>\n",
       "      <td>...</td>\n",
       "      <td>...</td>\n",
       "      <td>...</td>\n",
       "      <td>...</td>\n",
       "      <td>...</td>\n",
       "      <td>...</td>\n",
       "      <td>...</td>\n",
       "      <td>...</td>\n",
       "      <td>...</td>\n",
       "      <td>...</td>\n",
       "      <td>...</td>\n",
       "      <td>...</td>\n",
       "      <td>...</td>\n",
       "      <td>...</td>\n",
       "    </tr>\n",
       "    <tr>\n",
       "      <th>VALUE</th>\n",
       "      <td>1.208435</td>\n",
       "      <td>2.033658</td>\n",
       "      <td>1.886196</td>\n",
       "      <td>1.508165</td>\n",
       "      <td>2.806061</td>\n",
       "      <td>4.284687</td>\n",
       "      <td>1.980155</td>\n",
       "      <td>0.809298</td>\n",
       "      <td>1.840813</td>\n",
       "      <td>2.987895</td>\n",
       "      <td>...</td>\n",
       "      <td>3.919363</td>\n",
       "      <td>4.096354</td>\n",
       "      <td>-0.503736</td>\n",
       "      <td>1.729212</td>\n",
       "      <td>8.486483</td>\n",
       "      <td>2.491044</td>\n",
       "      <td>6.143936</td>\n",
       "      <td>1.115169</td>\n",
       "      <td>3.132605</td>\n",
       "      <td>0.989683</td>\n",
       "    </tr>\n",
       "    <tr>\n",
       "      <th>VALUE</th>\n",
       "      <td>1.684514</td>\n",
       "      <td>2.080012</td>\n",
       "      <td>2.059345</td>\n",
       "      <td>1.417107</td>\n",
       "      <td>3.538179</td>\n",
       "      <td>3.773553</td>\n",
       "      <td>1.740067</td>\n",
       "      <td>0.455577</td>\n",
       "      <td>2.015791</td>\n",
       "      <td>2.571232</td>\n",
       "      <td>...</td>\n",
       "      <td>4.280475</td>\n",
       "      <td>4.774863</td>\n",
       "      <td>-0.091713</td>\n",
       "      <td>1.648940</td>\n",
       "      <td>6.817383</td>\n",
       "      <td>2.128892</td>\n",
       "      <td>6.143936</td>\n",
       "      <td>1.317900</td>\n",
       "      <td>4.247214</td>\n",
       "      <td>0.965132</td>\n",
       "    </tr>\n",
       "    <tr>\n",
       "      <th>VALUE</th>\n",
       "      <td>1.551354</td>\n",
       "      <td>2.096305</td>\n",
       "      <td>1.840612</td>\n",
       "      <td>1.367924</td>\n",
       "      <td>1.604824</td>\n",
       "      <td>4.088314</td>\n",
       "      <td>1.542105</td>\n",
       "      <td>0.745438</td>\n",
       "      <td>1.967710</td>\n",
       "      <td>2.949619</td>\n",
       "      <td>...</td>\n",
       "      <td>4.700858</td>\n",
       "      <td>5.330010</td>\n",
       "      <td>-0.115405</td>\n",
       "      <td>1.904973</td>\n",
       "      <td>7.363005</td>\n",
       "      <td>2.170307</td>\n",
       "      <td>5.448143</td>\n",
       "      <td>1.468406</td>\n",
       "      <td>4.037153</td>\n",
       "      <td>0.933782</td>\n",
       "    </tr>\n",
       "    <tr>\n",
       "      <th>VALUE</th>\n",
       "      <td>1.588192</td>\n",
       "      <td>2.448541</td>\n",
       "      <td>2.439351</td>\n",
       "      <td>1.791408</td>\n",
       "      <td>1.701302</td>\n",
       "      <td>2.642355</td>\n",
       "      <td>1.812207</td>\n",
       "      <td>0.787968</td>\n",
       "      <td>2.182013</td>\n",
       "      <td>3.007374</td>\n",
       "      <td>...</td>\n",
       "      <td>5.683202</td>\n",
       "      <td>6.306057</td>\n",
       "      <td>0.434612</td>\n",
       "      <td>1.962911</td>\n",
       "      <td>8.027675</td>\n",
       "      <td>2.026171</td>\n",
       "      <td>6.660830</td>\n",
       "      <td>1.260015</td>\n",
       "      <td>3.437391</td>\n",
       "      <td>1.324230</td>\n",
       "    </tr>\n",
       "    <tr>\n",
       "      <th>VALUE</th>\n",
       "      <td>1.968919</td>\n",
       "      <td>2.306105</td>\n",
       "      <td>2.024879</td>\n",
       "      <td>1.316962</td>\n",
       "      <td>2.975790</td>\n",
       "      <td>3.208093</td>\n",
       "      <td>1.883870</td>\n",
       "      <td>0.586689</td>\n",
       "      <td>1.816028</td>\n",
       "      <td>2.766837</td>\n",
       "      <td>...</td>\n",
       "      <td>5.018192</td>\n",
       "      <td>5.640767</td>\n",
       "      <td>-0.115405</td>\n",
       "      <td>2.104477</td>\n",
       "      <td>7.426175</td>\n",
       "      <td>2.485677</td>\n",
       "      <td>5.378874</td>\n",
       "      <td>1.212819</td>\n",
       "      <td>3.988443</td>\n",
       "      <td>0.866188</td>\n",
       "    </tr>\n",
       "  </tbody>\n",
       "</table>\n",
       "<p>215 rows × 1205 columns</p>\n",
       "</div>"
      ],
      "text/plain": [
       "           0         1         2         3         4         5         6     \\\n",
       "VALUE  1.854979  2.184182  2.532296  1.518052  1.510107  4.779461  1.463735   \n",
       "VALUE  1.469763  2.320244  2.111889  1.617264  3.138606  3.836508  1.473691   \n",
       "VALUE  1.449375  2.510285  2.083508  1.235886  2.961309  4.034239  1.729450   \n",
       "VALUE  1.777522  2.724679  3.012722  1.390768  1.634918  3.507631  1.582395   \n",
       "VALUE  1.538218  2.030510  2.470375  1.563558  2.854814  3.221865  1.322348   \n",
       "...         ...       ...       ...       ...       ...       ...       ...   \n",
       "VALUE  1.208435  2.033658  1.886196  1.508165  2.806061  4.284687  1.980155   \n",
       "VALUE  1.684514  2.080012  2.059345  1.417107  3.538179  3.773553  1.740067   \n",
       "VALUE  1.551354  2.096305  1.840612  1.367924  1.604824  4.088314  1.542105   \n",
       "VALUE  1.588192  2.448541  2.439351  1.791408  1.701302  2.642355  1.812207   \n",
       "VALUE  1.968919  2.306105  2.024879  1.316962  2.975790  3.208093  1.883870   \n",
       "\n",
       "           7         8         9     ...      1195      1196      1197  \\\n",
       "VALUE  0.701141  1.884349  3.091228  ...  5.084469  5.292274  0.268966   \n",
       "VALUE  1.036632  2.182694  3.226966  ...  4.741217  4.961900  0.268966   \n",
       "VALUE  1.238367  2.191353  2.853613  ...  4.636542  5.069766  0.137944   \n",
       "VALUE  0.762787  2.277530  2.493348  ...  6.048589  6.561372 -1.470349   \n",
       "VALUE  1.001364  2.293578  3.162074  ...  4.568712  5.488843 -0.545426   \n",
       "...         ...       ...       ...  ...       ...       ...       ...   \n",
       "VALUE  0.809298  1.840813  2.987895  ...  3.919363  4.096354 -0.503736   \n",
       "VALUE  0.455577  2.015791  2.571232  ...  4.280475  4.774863 -0.091713   \n",
       "VALUE  0.745438  1.967710  2.949619  ...  4.700858  5.330010 -0.115405   \n",
       "VALUE  0.787968  2.182013  3.007374  ...  5.683202  6.306057  0.434612   \n",
       "VALUE  0.586689  1.816028  2.766837  ...  5.018192  5.640767 -0.115405   \n",
       "\n",
       "           1198      1199      1200      1201      1202      1203      1204  \n",
       "VALUE  2.060832  7.297528  2.252402  5.674228  1.410002  3.727455  1.370078  \n",
       "VALUE  1.871114  8.545123  2.045075  5.927078  1.427917  2.450359  1.357766  \n",
       "VALUE  1.633985  7.760185  2.167678  5.892667  1.123662  2.571076  1.066838  \n",
       "VALUE  2.206143  4.255906  1.673774  2.802465  1.140461  3.310383  1.443592  \n",
       "VALUE  2.377511  8.967807  2.322869  5.674228  1.234841  2.518547  1.486707  \n",
       "...         ...       ...       ...       ...       ...       ...       ...  \n",
       "VALUE  1.729212  8.486483  2.491044  6.143936  1.115169  3.132605  0.989683  \n",
       "VALUE  1.648940  6.817383  2.128892  6.143936  1.317900  4.247214  0.965132  \n",
       "VALUE  1.904973  7.363005  2.170307  5.448143  1.468406  4.037153  0.933782  \n",
       "VALUE  1.962911  8.027675  2.026171  6.660830  1.260015  3.437391  1.324230  \n",
       "VALUE  2.104477  7.426175  2.485677  5.378874  1.212819  3.988443  0.866188  \n",
       "\n",
       "[215 rows x 1205 columns]"
      ]
     },
     "execution_count": 4,
     "metadata": {},
     "output_type": "execute_result"
    }
   ],
   "source": [
    "table"
   ]
  },
  {
   "cell_type": "markdown",
   "metadata": {},
   "source": [
    "### Seperate case and controls"
   ]
  },
  {
   "cell_type": "code",
   "execution_count": 5,
   "metadata": {},
   "outputs": [
    {
     "data": {
      "text/plain": [
       "{'disease: lung cancer', 'disease: non-cancerous lung disease (control)'}"
      ]
     },
     "execution_count": 5,
     "metadata": {},
     "output_type": "execute_result"
    }
   ],
   "source": [
    "set([k.metadata[\"characteristics_ch1\"][1] for k in list(data.gsms.values())])"
   ]
  },
  {
   "cell_type": "code",
   "execution_count": 6,
   "metadata": {},
   "outputs": [],
   "source": [
    "sick = np.array([\"lung cancer\" in k.metadata[\"characteristics_ch1\"][1] for k in list(data.gsms.values())])\n",
    "controls = 1 - sick"
   ]
  },
  {
   "cell_type": "code",
   "execution_count": 7,
   "metadata": {},
   "outputs": [
    {
     "data": {
      "text/plain": [
       "12"
      ]
     },
     "execution_count": 7,
     "metadata": {},
     "output_type": "execute_result"
    }
   ],
   "source": [
    "sum(controls)"
   ]
  },
  {
   "cell_type": "markdown",
   "metadata": {},
   "source": [
    "### Drop NAN"
   ]
  },
  {
   "cell_type": "code",
   "execution_count": 8,
   "metadata": {},
   "outputs": [
    {
     "name": "stderr",
     "output_type": "stream",
     "text": [
      "C:\\Users\\OLEFRE~1\\AppData\\Local\\Temp/ipykernel_17464/1927661217.py:1: FutureWarning: In a future version of pandas all arguments of DataFrame.dropna will be keyword-only\n",
      "  table = table.dropna(1)\n"
     ]
    }
   ],
   "source": [
    "table = table.dropna(1)"
   ]
  },
  {
   "cell_type": "markdown",
   "metadata": {},
   "source": [
    "### T-test"
   ]
  },
  {
   "cell_type": "code",
   "execution_count": 9,
   "metadata": {},
   "outputs": [],
   "source": [
    "X = table"
   ]
  },
  {
   "cell_type": "code",
   "execution_count": 10,
   "metadata": {},
   "outputs": [
    {
     "data": {
      "text/html": [
       "<div>\n",
       "<style scoped>\n",
       "    .dataframe tbody tr th:only-of-type {\n",
       "        vertical-align: middle;\n",
       "    }\n",
       "\n",
       "    .dataframe tbody tr th {\n",
       "        vertical-align: top;\n",
       "    }\n",
       "\n",
       "    .dataframe thead th {\n",
       "        text-align: right;\n",
       "    }\n",
       "</style>\n",
       "<table border=\"1\" class=\"dataframe\">\n",
       "  <thead>\n",
       "    <tr style=\"text-align: right;\">\n",
       "      <th></th>\n",
       "      <th>0</th>\n",
       "      <th>1</th>\n",
       "      <th>2</th>\n",
       "      <th>3</th>\n",
       "      <th>4</th>\n",
       "      <th>5</th>\n",
       "      <th>6</th>\n",
       "      <th>7</th>\n",
       "      <th>8</th>\n",
       "      <th>9</th>\n",
       "      <th>...</th>\n",
       "      <th>1195</th>\n",
       "      <th>1196</th>\n",
       "      <th>1197</th>\n",
       "      <th>1198</th>\n",
       "      <th>1199</th>\n",
       "      <th>1200</th>\n",
       "      <th>1201</th>\n",
       "      <th>1202</th>\n",
       "      <th>1203</th>\n",
       "      <th>1204</th>\n",
       "    </tr>\n",
       "  </thead>\n",
       "  <tbody>\n",
       "    <tr>\n",
       "      <th>VALUE</th>\n",
       "      <td>1.854979</td>\n",
       "      <td>2.184182</td>\n",
       "      <td>2.532296</td>\n",
       "      <td>1.518052</td>\n",
       "      <td>1.510107</td>\n",
       "      <td>4.779461</td>\n",
       "      <td>1.463735</td>\n",
       "      <td>0.701141</td>\n",
       "      <td>1.884349</td>\n",
       "      <td>3.091228</td>\n",
       "      <td>...</td>\n",
       "      <td>5.084469</td>\n",
       "      <td>5.292274</td>\n",
       "      <td>0.268966</td>\n",
       "      <td>2.060832</td>\n",
       "      <td>7.297528</td>\n",
       "      <td>2.252402</td>\n",
       "      <td>5.674228</td>\n",
       "      <td>1.410002</td>\n",
       "      <td>3.727455</td>\n",
       "      <td>1.370078</td>\n",
       "    </tr>\n",
       "    <tr>\n",
       "      <th>VALUE</th>\n",
       "      <td>1.469763</td>\n",
       "      <td>2.320244</td>\n",
       "      <td>2.111889</td>\n",
       "      <td>1.617264</td>\n",
       "      <td>3.138606</td>\n",
       "      <td>3.836508</td>\n",
       "      <td>1.473691</td>\n",
       "      <td>1.036632</td>\n",
       "      <td>2.182694</td>\n",
       "      <td>3.226966</td>\n",
       "      <td>...</td>\n",
       "      <td>4.741217</td>\n",
       "      <td>4.961900</td>\n",
       "      <td>0.268966</td>\n",
       "      <td>1.871114</td>\n",
       "      <td>8.545123</td>\n",
       "      <td>2.045075</td>\n",
       "      <td>5.927078</td>\n",
       "      <td>1.427917</td>\n",
       "      <td>2.450359</td>\n",
       "      <td>1.357766</td>\n",
       "    </tr>\n",
       "    <tr>\n",
       "      <th>VALUE</th>\n",
       "      <td>1.449375</td>\n",
       "      <td>2.510285</td>\n",
       "      <td>2.083508</td>\n",
       "      <td>1.235886</td>\n",
       "      <td>2.961309</td>\n",
       "      <td>4.034239</td>\n",
       "      <td>1.729450</td>\n",
       "      <td>1.238367</td>\n",
       "      <td>2.191353</td>\n",
       "      <td>2.853613</td>\n",
       "      <td>...</td>\n",
       "      <td>4.636542</td>\n",
       "      <td>5.069766</td>\n",
       "      <td>0.137944</td>\n",
       "      <td>1.633985</td>\n",
       "      <td>7.760185</td>\n",
       "      <td>2.167678</td>\n",
       "      <td>5.892667</td>\n",
       "      <td>1.123662</td>\n",
       "      <td>2.571076</td>\n",
       "      <td>1.066838</td>\n",
       "    </tr>\n",
       "    <tr>\n",
       "      <th>VALUE</th>\n",
       "      <td>1.777522</td>\n",
       "      <td>2.724679</td>\n",
       "      <td>3.012722</td>\n",
       "      <td>1.390768</td>\n",
       "      <td>1.634918</td>\n",
       "      <td>3.507631</td>\n",
       "      <td>1.582395</td>\n",
       "      <td>0.762787</td>\n",
       "      <td>2.277530</td>\n",
       "      <td>2.493348</td>\n",
       "      <td>...</td>\n",
       "      <td>6.048589</td>\n",
       "      <td>6.561372</td>\n",
       "      <td>-1.470349</td>\n",
       "      <td>2.206143</td>\n",
       "      <td>4.255906</td>\n",
       "      <td>1.673774</td>\n",
       "      <td>2.802465</td>\n",
       "      <td>1.140461</td>\n",
       "      <td>3.310383</td>\n",
       "      <td>1.443592</td>\n",
       "    </tr>\n",
       "    <tr>\n",
       "      <th>VALUE</th>\n",
       "      <td>1.538218</td>\n",
       "      <td>2.030510</td>\n",
       "      <td>2.470375</td>\n",
       "      <td>1.563558</td>\n",
       "      <td>2.854814</td>\n",
       "      <td>3.221865</td>\n",
       "      <td>1.322348</td>\n",
       "      <td>1.001364</td>\n",
       "      <td>2.293578</td>\n",
       "      <td>3.162074</td>\n",
       "      <td>...</td>\n",
       "      <td>4.568712</td>\n",
       "      <td>5.488843</td>\n",
       "      <td>-0.545426</td>\n",
       "      <td>2.377511</td>\n",
       "      <td>8.967807</td>\n",
       "      <td>2.322869</td>\n",
       "      <td>5.674228</td>\n",
       "      <td>1.234841</td>\n",
       "      <td>2.518547</td>\n",
       "      <td>1.486707</td>\n",
       "    </tr>\n",
       "    <tr>\n",
       "      <th>...</th>\n",
       "      <td>...</td>\n",
       "      <td>...</td>\n",
       "      <td>...</td>\n",
       "      <td>...</td>\n",
       "      <td>...</td>\n",
       "      <td>...</td>\n",
       "      <td>...</td>\n",
       "      <td>...</td>\n",
       "      <td>...</td>\n",
       "      <td>...</td>\n",
       "      <td>...</td>\n",
       "      <td>...</td>\n",
       "      <td>...</td>\n",
       "      <td>...</td>\n",
       "      <td>...</td>\n",
       "      <td>...</td>\n",
       "      <td>...</td>\n",
       "      <td>...</td>\n",
       "      <td>...</td>\n",
       "      <td>...</td>\n",
       "      <td>...</td>\n",
       "    </tr>\n",
       "    <tr>\n",
       "      <th>VALUE</th>\n",
       "      <td>1.208435</td>\n",
       "      <td>2.033658</td>\n",
       "      <td>1.886196</td>\n",
       "      <td>1.508165</td>\n",
       "      <td>2.806061</td>\n",
       "      <td>4.284687</td>\n",
       "      <td>1.980155</td>\n",
       "      <td>0.809298</td>\n",
       "      <td>1.840813</td>\n",
       "      <td>2.987895</td>\n",
       "      <td>...</td>\n",
       "      <td>3.919363</td>\n",
       "      <td>4.096354</td>\n",
       "      <td>-0.503736</td>\n",
       "      <td>1.729212</td>\n",
       "      <td>8.486483</td>\n",
       "      <td>2.491044</td>\n",
       "      <td>6.143936</td>\n",
       "      <td>1.115169</td>\n",
       "      <td>3.132605</td>\n",
       "      <td>0.989683</td>\n",
       "    </tr>\n",
       "    <tr>\n",
       "      <th>VALUE</th>\n",
       "      <td>1.684514</td>\n",
       "      <td>2.080012</td>\n",
       "      <td>2.059345</td>\n",
       "      <td>1.417107</td>\n",
       "      <td>3.538179</td>\n",
       "      <td>3.773553</td>\n",
       "      <td>1.740067</td>\n",
       "      <td>0.455577</td>\n",
       "      <td>2.015791</td>\n",
       "      <td>2.571232</td>\n",
       "      <td>...</td>\n",
       "      <td>4.280475</td>\n",
       "      <td>4.774863</td>\n",
       "      <td>-0.091713</td>\n",
       "      <td>1.648940</td>\n",
       "      <td>6.817383</td>\n",
       "      <td>2.128892</td>\n",
       "      <td>6.143936</td>\n",
       "      <td>1.317900</td>\n",
       "      <td>4.247214</td>\n",
       "      <td>0.965132</td>\n",
       "    </tr>\n",
       "    <tr>\n",
       "      <th>VALUE</th>\n",
       "      <td>1.551354</td>\n",
       "      <td>2.096305</td>\n",
       "      <td>1.840612</td>\n",
       "      <td>1.367924</td>\n",
       "      <td>1.604824</td>\n",
       "      <td>4.088314</td>\n",
       "      <td>1.542105</td>\n",
       "      <td>0.745438</td>\n",
       "      <td>1.967710</td>\n",
       "      <td>2.949619</td>\n",
       "      <td>...</td>\n",
       "      <td>4.700858</td>\n",
       "      <td>5.330010</td>\n",
       "      <td>-0.115405</td>\n",
       "      <td>1.904973</td>\n",
       "      <td>7.363005</td>\n",
       "      <td>2.170307</td>\n",
       "      <td>5.448143</td>\n",
       "      <td>1.468406</td>\n",
       "      <td>4.037153</td>\n",
       "      <td>0.933782</td>\n",
       "    </tr>\n",
       "    <tr>\n",
       "      <th>VALUE</th>\n",
       "      <td>1.588192</td>\n",
       "      <td>2.448541</td>\n",
       "      <td>2.439351</td>\n",
       "      <td>1.791408</td>\n",
       "      <td>1.701302</td>\n",
       "      <td>2.642355</td>\n",
       "      <td>1.812207</td>\n",
       "      <td>0.787968</td>\n",
       "      <td>2.182013</td>\n",
       "      <td>3.007374</td>\n",
       "      <td>...</td>\n",
       "      <td>5.683202</td>\n",
       "      <td>6.306057</td>\n",
       "      <td>0.434612</td>\n",
       "      <td>1.962911</td>\n",
       "      <td>8.027675</td>\n",
       "      <td>2.026171</td>\n",
       "      <td>6.660830</td>\n",
       "      <td>1.260015</td>\n",
       "      <td>3.437391</td>\n",
       "      <td>1.324230</td>\n",
       "    </tr>\n",
       "    <tr>\n",
       "      <th>VALUE</th>\n",
       "      <td>1.968919</td>\n",
       "      <td>2.306105</td>\n",
       "      <td>2.024879</td>\n",
       "      <td>1.316962</td>\n",
       "      <td>2.975790</td>\n",
       "      <td>3.208093</td>\n",
       "      <td>1.883870</td>\n",
       "      <td>0.586689</td>\n",
       "      <td>1.816028</td>\n",
       "      <td>2.766837</td>\n",
       "      <td>...</td>\n",
       "      <td>5.018192</td>\n",
       "      <td>5.640767</td>\n",
       "      <td>-0.115405</td>\n",
       "      <td>2.104477</td>\n",
       "      <td>7.426175</td>\n",
       "      <td>2.485677</td>\n",
       "      <td>5.378874</td>\n",
       "      <td>1.212819</td>\n",
       "      <td>3.988443</td>\n",
       "      <td>0.866188</td>\n",
       "    </tr>\n",
       "  </tbody>\n",
       "</table>\n",
       "<p>215 rows × 1205 columns</p>\n",
       "</div>"
      ],
      "text/plain": [
       "           0         1         2         3         4         5         6     \\\n",
       "VALUE  1.854979  2.184182  2.532296  1.518052  1.510107  4.779461  1.463735   \n",
       "VALUE  1.469763  2.320244  2.111889  1.617264  3.138606  3.836508  1.473691   \n",
       "VALUE  1.449375  2.510285  2.083508  1.235886  2.961309  4.034239  1.729450   \n",
       "VALUE  1.777522  2.724679  3.012722  1.390768  1.634918  3.507631  1.582395   \n",
       "VALUE  1.538218  2.030510  2.470375  1.563558  2.854814  3.221865  1.322348   \n",
       "...         ...       ...       ...       ...       ...       ...       ...   \n",
       "VALUE  1.208435  2.033658  1.886196  1.508165  2.806061  4.284687  1.980155   \n",
       "VALUE  1.684514  2.080012  2.059345  1.417107  3.538179  3.773553  1.740067   \n",
       "VALUE  1.551354  2.096305  1.840612  1.367924  1.604824  4.088314  1.542105   \n",
       "VALUE  1.588192  2.448541  2.439351  1.791408  1.701302  2.642355  1.812207   \n",
       "VALUE  1.968919  2.306105  2.024879  1.316962  2.975790  3.208093  1.883870   \n",
       "\n",
       "           7         8         9     ...      1195      1196      1197  \\\n",
       "VALUE  0.701141  1.884349  3.091228  ...  5.084469  5.292274  0.268966   \n",
       "VALUE  1.036632  2.182694  3.226966  ...  4.741217  4.961900  0.268966   \n",
       "VALUE  1.238367  2.191353  2.853613  ...  4.636542  5.069766  0.137944   \n",
       "VALUE  0.762787  2.277530  2.493348  ...  6.048589  6.561372 -1.470349   \n",
       "VALUE  1.001364  2.293578  3.162074  ...  4.568712  5.488843 -0.545426   \n",
       "...         ...       ...       ...  ...       ...       ...       ...   \n",
       "VALUE  0.809298  1.840813  2.987895  ...  3.919363  4.096354 -0.503736   \n",
       "VALUE  0.455577  2.015791  2.571232  ...  4.280475  4.774863 -0.091713   \n",
       "VALUE  0.745438  1.967710  2.949619  ...  4.700858  5.330010 -0.115405   \n",
       "VALUE  0.787968  2.182013  3.007374  ...  5.683202  6.306057  0.434612   \n",
       "VALUE  0.586689  1.816028  2.766837  ...  5.018192  5.640767 -0.115405   \n",
       "\n",
       "           1198      1199      1200      1201      1202      1203      1204  \n",
       "VALUE  2.060832  7.297528  2.252402  5.674228  1.410002  3.727455  1.370078  \n",
       "VALUE  1.871114  8.545123  2.045075  5.927078  1.427917  2.450359  1.357766  \n",
       "VALUE  1.633985  7.760185  2.167678  5.892667  1.123662  2.571076  1.066838  \n",
       "VALUE  2.206143  4.255906  1.673774  2.802465  1.140461  3.310383  1.443592  \n",
       "VALUE  2.377511  8.967807  2.322869  5.674228  1.234841  2.518547  1.486707  \n",
       "...         ...       ...       ...       ...       ...       ...       ...  \n",
       "VALUE  1.729212  8.486483  2.491044  6.143936  1.115169  3.132605  0.989683  \n",
       "VALUE  1.648940  6.817383  2.128892  6.143936  1.317900  4.247214  0.965132  \n",
       "VALUE  1.904973  7.363005  2.170307  5.448143  1.468406  4.037153  0.933782  \n",
       "VALUE  1.962911  8.027675  2.026171  6.660830  1.260015  3.437391  1.324230  \n",
       "VALUE  2.104477  7.426175  2.485677  5.378874  1.212819  3.988443  0.866188  \n",
       "\n",
       "[215 rows x 1205 columns]"
      ]
     },
     "execution_count": 10,
     "metadata": {},
     "output_type": "execute_result"
    }
   ],
   "source": [
    "X"
   ]
  },
  {
   "cell_type": "code",
   "execution_count": 11,
   "metadata": {},
   "outputs": [],
   "source": [
    "X_healthy, X_cancer = X[controls == 1], X[sick == 1]"
   ]
  },
  {
   "cell_type": "code",
   "execution_count": 12,
   "metadata": {},
   "outputs": [],
   "source": [
    "results = ttest_ind(X_healthy, X_cancer).pvalue"
   ]
  },
  {
   "cell_type": "code",
   "execution_count": 13,
   "metadata": {},
   "outputs": [],
   "source": [
    "lowest, pvalues = np.argsort(results)[:5], np.sort(results)[:5]"
   ]
  },
  {
   "cell_type": "code",
   "execution_count": 14,
   "metadata": {},
   "outputs": [
    {
     "data": {
      "text/plain": [
       "(507       hsa-miR-3152\n",
       " 368    hsa-miR-3647-5p\n",
       " 508       hsa-miR-3151\n",
       " 836       hsa-miR-3617\n",
       " 397       hsa-miR-4261\n",
       " Name: ID_REF, dtype: object,\n",
       " array([4.06302756e-18, 1.17934476e-16, 4.26805231e-10, 1.11760527e-09,\n",
       "        1.14133290e-09]))"
      ]
     },
     "execution_count": 14,
     "metadata": {},
     "output_type": "execute_result"
    }
   ],
   "source": [
    "mirnas.iloc[lowest], pvalues"
   ]
  },
  {
   "cell_type": "markdown",
   "metadata": {},
   "source": [
    "### F-test"
   ]
  },
  {
   "cell_type": "code",
   "execution_count": 15,
   "metadata": {},
   "outputs": [],
   "source": [
    "t3 = table"
   ]
  },
  {
   "cell_type": "code",
   "execution_count": 16,
   "metadata": {},
   "outputs": [],
   "source": [
    "f, p = f_classif(t3, sick)"
   ]
  },
  {
   "cell_type": "code",
   "execution_count": 17,
   "metadata": {},
   "outputs": [
    {
     "data": {
      "text/plain": [
       "0.29722361531307223"
      ]
     },
     "execution_count": 17,
     "metadata": {},
     "output_type": "execute_result"
    }
   ],
   "source": [
    "np.mean(p)"
   ]
  },
  {
   "cell_type": "markdown",
   "metadata": {},
   "source": [
    "### ANOVA"
   ]
  },
  {
   "cell_type": "code",
   "execution_count": 18,
   "metadata": {},
   "outputs": [
    {
     "data": {
      "text/html": [
       "<div>\n",
       "<style scoped>\n",
       "    .dataframe tbody tr th:only-of-type {\n",
       "        vertical-align: middle;\n",
       "    }\n",
       "\n",
       "    .dataframe tbody tr th {\n",
       "        vertical-align: top;\n",
       "    }\n",
       "\n",
       "    .dataframe thead th {\n",
       "        text-align: right;\n",
       "    }\n",
       "</style>\n",
       "<table border=\"1\" class=\"dataframe\">\n",
       "  <thead>\n",
       "    <tr style=\"text-align: right;\">\n",
       "      <th></th>\n",
       "      <th>0</th>\n",
       "      <th>1</th>\n",
       "      <th>2</th>\n",
       "      <th>3</th>\n",
       "      <th>4</th>\n",
       "      <th>5</th>\n",
       "      <th>6</th>\n",
       "      <th>7</th>\n",
       "      <th>8</th>\n",
       "      <th>9</th>\n",
       "      <th>...</th>\n",
       "      <th>1195</th>\n",
       "      <th>1196</th>\n",
       "      <th>1197</th>\n",
       "      <th>1198</th>\n",
       "      <th>1199</th>\n",
       "      <th>1200</th>\n",
       "      <th>1201</th>\n",
       "      <th>1202</th>\n",
       "      <th>1203</th>\n",
       "      <th>1204</th>\n",
       "    </tr>\n",
       "  </thead>\n",
       "  <tbody>\n",
       "    <tr>\n",
       "      <th>VALUE</th>\n",
       "      <td>1.854979</td>\n",
       "      <td>2.184182</td>\n",
       "      <td>2.532296</td>\n",
       "      <td>1.518052</td>\n",
       "      <td>1.510107</td>\n",
       "      <td>4.779461</td>\n",
       "      <td>1.463735</td>\n",
       "      <td>0.701141</td>\n",
       "      <td>1.884349</td>\n",
       "      <td>3.091228</td>\n",
       "      <td>...</td>\n",
       "      <td>5.084469</td>\n",
       "      <td>5.292274</td>\n",
       "      <td>0.268966</td>\n",
       "      <td>2.060832</td>\n",
       "      <td>7.297528</td>\n",
       "      <td>2.252402</td>\n",
       "      <td>5.674228</td>\n",
       "      <td>1.410002</td>\n",
       "      <td>3.727455</td>\n",
       "      <td>1.370078</td>\n",
       "    </tr>\n",
       "    <tr>\n",
       "      <th>VALUE</th>\n",
       "      <td>1.469763</td>\n",
       "      <td>2.320244</td>\n",
       "      <td>2.111889</td>\n",
       "      <td>1.617264</td>\n",
       "      <td>3.138606</td>\n",
       "      <td>3.836508</td>\n",
       "      <td>1.473691</td>\n",
       "      <td>1.036632</td>\n",
       "      <td>2.182694</td>\n",
       "      <td>3.226966</td>\n",
       "      <td>...</td>\n",
       "      <td>4.741217</td>\n",
       "      <td>4.961900</td>\n",
       "      <td>0.268966</td>\n",
       "      <td>1.871114</td>\n",
       "      <td>8.545123</td>\n",
       "      <td>2.045075</td>\n",
       "      <td>5.927078</td>\n",
       "      <td>1.427917</td>\n",
       "      <td>2.450359</td>\n",
       "      <td>1.357766</td>\n",
       "    </tr>\n",
       "    <tr>\n",
       "      <th>VALUE</th>\n",
       "      <td>1.449375</td>\n",
       "      <td>2.510285</td>\n",
       "      <td>2.083508</td>\n",
       "      <td>1.235886</td>\n",
       "      <td>2.961309</td>\n",
       "      <td>4.034239</td>\n",
       "      <td>1.729450</td>\n",
       "      <td>1.238367</td>\n",
       "      <td>2.191353</td>\n",
       "      <td>2.853613</td>\n",
       "      <td>...</td>\n",
       "      <td>4.636542</td>\n",
       "      <td>5.069766</td>\n",
       "      <td>0.137944</td>\n",
       "      <td>1.633985</td>\n",
       "      <td>7.760185</td>\n",
       "      <td>2.167678</td>\n",
       "      <td>5.892667</td>\n",
       "      <td>1.123662</td>\n",
       "      <td>2.571076</td>\n",
       "      <td>1.066838</td>\n",
       "    </tr>\n",
       "    <tr>\n",
       "      <th>VALUE</th>\n",
       "      <td>1.777522</td>\n",
       "      <td>2.724679</td>\n",
       "      <td>3.012722</td>\n",
       "      <td>1.390768</td>\n",
       "      <td>1.634918</td>\n",
       "      <td>3.507631</td>\n",
       "      <td>1.582395</td>\n",
       "      <td>0.762787</td>\n",
       "      <td>2.277530</td>\n",
       "      <td>2.493348</td>\n",
       "      <td>...</td>\n",
       "      <td>6.048589</td>\n",
       "      <td>6.561372</td>\n",
       "      <td>-1.470349</td>\n",
       "      <td>2.206143</td>\n",
       "      <td>4.255906</td>\n",
       "      <td>1.673774</td>\n",
       "      <td>2.802465</td>\n",
       "      <td>1.140461</td>\n",
       "      <td>3.310383</td>\n",
       "      <td>1.443592</td>\n",
       "    </tr>\n",
       "    <tr>\n",
       "      <th>VALUE</th>\n",
       "      <td>1.538218</td>\n",
       "      <td>2.030510</td>\n",
       "      <td>2.470375</td>\n",
       "      <td>1.563558</td>\n",
       "      <td>2.854814</td>\n",
       "      <td>3.221865</td>\n",
       "      <td>1.322348</td>\n",
       "      <td>1.001364</td>\n",
       "      <td>2.293578</td>\n",
       "      <td>3.162074</td>\n",
       "      <td>...</td>\n",
       "      <td>4.568712</td>\n",
       "      <td>5.488843</td>\n",
       "      <td>-0.545426</td>\n",
       "      <td>2.377511</td>\n",
       "      <td>8.967807</td>\n",
       "      <td>2.322869</td>\n",
       "      <td>5.674228</td>\n",
       "      <td>1.234841</td>\n",
       "      <td>2.518547</td>\n",
       "      <td>1.486707</td>\n",
       "    </tr>\n",
       "    <tr>\n",
       "      <th>...</th>\n",
       "      <td>...</td>\n",
       "      <td>...</td>\n",
       "      <td>...</td>\n",
       "      <td>...</td>\n",
       "      <td>...</td>\n",
       "      <td>...</td>\n",
       "      <td>...</td>\n",
       "      <td>...</td>\n",
       "      <td>...</td>\n",
       "      <td>...</td>\n",
       "      <td>...</td>\n",
       "      <td>...</td>\n",
       "      <td>...</td>\n",
       "      <td>...</td>\n",
       "      <td>...</td>\n",
       "      <td>...</td>\n",
       "      <td>...</td>\n",
       "      <td>...</td>\n",
       "      <td>...</td>\n",
       "      <td>...</td>\n",
       "      <td>...</td>\n",
       "    </tr>\n",
       "    <tr>\n",
       "      <th>VALUE</th>\n",
       "      <td>1.208435</td>\n",
       "      <td>2.033658</td>\n",
       "      <td>1.886196</td>\n",
       "      <td>1.508165</td>\n",
       "      <td>2.806061</td>\n",
       "      <td>4.284687</td>\n",
       "      <td>1.980155</td>\n",
       "      <td>0.809298</td>\n",
       "      <td>1.840813</td>\n",
       "      <td>2.987895</td>\n",
       "      <td>...</td>\n",
       "      <td>3.919363</td>\n",
       "      <td>4.096354</td>\n",
       "      <td>-0.503736</td>\n",
       "      <td>1.729212</td>\n",
       "      <td>8.486483</td>\n",
       "      <td>2.491044</td>\n",
       "      <td>6.143936</td>\n",
       "      <td>1.115169</td>\n",
       "      <td>3.132605</td>\n",
       "      <td>0.989683</td>\n",
       "    </tr>\n",
       "    <tr>\n",
       "      <th>VALUE</th>\n",
       "      <td>1.684514</td>\n",
       "      <td>2.080012</td>\n",
       "      <td>2.059345</td>\n",
       "      <td>1.417107</td>\n",
       "      <td>3.538179</td>\n",
       "      <td>3.773553</td>\n",
       "      <td>1.740067</td>\n",
       "      <td>0.455577</td>\n",
       "      <td>2.015791</td>\n",
       "      <td>2.571232</td>\n",
       "      <td>...</td>\n",
       "      <td>4.280475</td>\n",
       "      <td>4.774863</td>\n",
       "      <td>-0.091713</td>\n",
       "      <td>1.648940</td>\n",
       "      <td>6.817383</td>\n",
       "      <td>2.128892</td>\n",
       "      <td>6.143936</td>\n",
       "      <td>1.317900</td>\n",
       "      <td>4.247214</td>\n",
       "      <td>0.965132</td>\n",
       "    </tr>\n",
       "    <tr>\n",
       "      <th>VALUE</th>\n",
       "      <td>1.551354</td>\n",
       "      <td>2.096305</td>\n",
       "      <td>1.840612</td>\n",
       "      <td>1.367924</td>\n",
       "      <td>1.604824</td>\n",
       "      <td>4.088314</td>\n",
       "      <td>1.542105</td>\n",
       "      <td>0.745438</td>\n",
       "      <td>1.967710</td>\n",
       "      <td>2.949619</td>\n",
       "      <td>...</td>\n",
       "      <td>4.700858</td>\n",
       "      <td>5.330010</td>\n",
       "      <td>-0.115405</td>\n",
       "      <td>1.904973</td>\n",
       "      <td>7.363005</td>\n",
       "      <td>2.170307</td>\n",
       "      <td>5.448143</td>\n",
       "      <td>1.468406</td>\n",
       "      <td>4.037153</td>\n",
       "      <td>0.933782</td>\n",
       "    </tr>\n",
       "    <tr>\n",
       "      <th>VALUE</th>\n",
       "      <td>1.588192</td>\n",
       "      <td>2.448541</td>\n",
       "      <td>2.439351</td>\n",
       "      <td>1.791408</td>\n",
       "      <td>1.701302</td>\n",
       "      <td>2.642355</td>\n",
       "      <td>1.812207</td>\n",
       "      <td>0.787968</td>\n",
       "      <td>2.182013</td>\n",
       "      <td>3.007374</td>\n",
       "      <td>...</td>\n",
       "      <td>5.683202</td>\n",
       "      <td>6.306057</td>\n",
       "      <td>0.434612</td>\n",
       "      <td>1.962911</td>\n",
       "      <td>8.027675</td>\n",
       "      <td>2.026171</td>\n",
       "      <td>6.660830</td>\n",
       "      <td>1.260015</td>\n",
       "      <td>3.437391</td>\n",
       "      <td>1.324230</td>\n",
       "    </tr>\n",
       "    <tr>\n",
       "      <th>VALUE</th>\n",
       "      <td>1.968919</td>\n",
       "      <td>2.306105</td>\n",
       "      <td>2.024879</td>\n",
       "      <td>1.316962</td>\n",
       "      <td>2.975790</td>\n",
       "      <td>3.208093</td>\n",
       "      <td>1.883870</td>\n",
       "      <td>0.586689</td>\n",
       "      <td>1.816028</td>\n",
       "      <td>2.766837</td>\n",
       "      <td>...</td>\n",
       "      <td>5.018192</td>\n",
       "      <td>5.640767</td>\n",
       "      <td>-0.115405</td>\n",
       "      <td>2.104477</td>\n",
       "      <td>7.426175</td>\n",
       "      <td>2.485677</td>\n",
       "      <td>5.378874</td>\n",
       "      <td>1.212819</td>\n",
       "      <td>3.988443</td>\n",
       "      <td>0.866188</td>\n",
       "    </tr>\n",
       "  </tbody>\n",
       "</table>\n",
       "<p>215 rows × 1205 columns</p>\n",
       "</div>"
      ],
      "text/plain": [
       "           0         1         2         3         4         5         6     \\\n",
       "VALUE  1.854979  2.184182  2.532296  1.518052  1.510107  4.779461  1.463735   \n",
       "VALUE  1.469763  2.320244  2.111889  1.617264  3.138606  3.836508  1.473691   \n",
       "VALUE  1.449375  2.510285  2.083508  1.235886  2.961309  4.034239  1.729450   \n",
       "VALUE  1.777522  2.724679  3.012722  1.390768  1.634918  3.507631  1.582395   \n",
       "VALUE  1.538218  2.030510  2.470375  1.563558  2.854814  3.221865  1.322348   \n",
       "...         ...       ...       ...       ...       ...       ...       ...   \n",
       "VALUE  1.208435  2.033658  1.886196  1.508165  2.806061  4.284687  1.980155   \n",
       "VALUE  1.684514  2.080012  2.059345  1.417107  3.538179  3.773553  1.740067   \n",
       "VALUE  1.551354  2.096305  1.840612  1.367924  1.604824  4.088314  1.542105   \n",
       "VALUE  1.588192  2.448541  2.439351  1.791408  1.701302  2.642355  1.812207   \n",
       "VALUE  1.968919  2.306105  2.024879  1.316962  2.975790  3.208093  1.883870   \n",
       "\n",
       "           7         8         9     ...      1195      1196      1197  \\\n",
       "VALUE  0.701141  1.884349  3.091228  ...  5.084469  5.292274  0.268966   \n",
       "VALUE  1.036632  2.182694  3.226966  ...  4.741217  4.961900  0.268966   \n",
       "VALUE  1.238367  2.191353  2.853613  ...  4.636542  5.069766  0.137944   \n",
       "VALUE  0.762787  2.277530  2.493348  ...  6.048589  6.561372 -1.470349   \n",
       "VALUE  1.001364  2.293578  3.162074  ...  4.568712  5.488843 -0.545426   \n",
       "...         ...       ...       ...  ...       ...       ...       ...   \n",
       "VALUE  0.809298  1.840813  2.987895  ...  3.919363  4.096354 -0.503736   \n",
       "VALUE  0.455577  2.015791  2.571232  ...  4.280475  4.774863 -0.091713   \n",
       "VALUE  0.745438  1.967710  2.949619  ...  4.700858  5.330010 -0.115405   \n",
       "VALUE  0.787968  2.182013  3.007374  ...  5.683202  6.306057  0.434612   \n",
       "VALUE  0.586689  1.816028  2.766837  ...  5.018192  5.640767 -0.115405   \n",
       "\n",
       "           1198      1199      1200      1201      1202      1203      1204  \n",
       "VALUE  2.060832  7.297528  2.252402  5.674228  1.410002  3.727455  1.370078  \n",
       "VALUE  1.871114  8.545123  2.045075  5.927078  1.427917  2.450359  1.357766  \n",
       "VALUE  1.633985  7.760185  2.167678  5.892667  1.123662  2.571076  1.066838  \n",
       "VALUE  2.206143  4.255906  1.673774  2.802465  1.140461  3.310383  1.443592  \n",
       "VALUE  2.377511  8.967807  2.322869  5.674228  1.234841  2.518547  1.486707  \n",
       "...         ...       ...       ...       ...       ...       ...       ...  \n",
       "VALUE  1.729212  8.486483  2.491044  6.143936  1.115169  3.132605  0.989683  \n",
       "VALUE  1.648940  6.817383  2.128892  6.143936  1.317900  4.247214  0.965132  \n",
       "VALUE  1.904973  7.363005  2.170307  5.448143  1.468406  4.037153  0.933782  \n",
       "VALUE  1.962911  8.027675  2.026171  6.660830  1.260015  3.437391  1.324230  \n",
       "VALUE  2.104477  7.426175  2.485677  5.378874  1.212819  3.988443  0.866188  \n",
       "\n",
       "[215 rows x 1205 columns]"
      ]
     },
     "execution_count": 18,
     "metadata": {},
     "output_type": "execute_result"
    }
   ],
   "source": [
    "t3"
   ]
  },
  {
   "cell_type": "code",
   "execution_count": 19,
   "metadata": {},
   "outputs": [],
   "source": [
    "X = np.array(sick).reshape(-1, 1)"
   ]
  },
  {
   "cell_type": "code",
   "execution_count": 20,
   "metadata": {},
   "outputs": [
    {
     "data": {
      "text/plain": [
       "LinearRegression()"
      ]
     },
     "execution_count": 20,
     "metadata": {},
     "output_type": "execute_result"
    }
   ],
   "source": [
    "linreg = LinearRegression()\n",
    "linreg.fit(X, t3)"
   ]
  },
  {
   "cell_type": "code",
   "execution_count": 21,
   "metadata": {},
   "outputs": [
    {
     "data": {
      "text/plain": [
       "0.018322698781242038"
      ]
     },
     "execution_count": 21,
     "metadata": {},
     "output_type": "execute_result"
    }
   ],
   "source": [
    "fitted = linreg.predict(X)\n",
    "explained_variance_score(t3, fitted)"
   ]
  },
  {
   "cell_type": "markdown",
   "metadata": {},
   "source": [
    "### Mean-variance-plot"
   ]
  },
  {
   "cell_type": "code",
   "execution_count": 22,
   "metadata": {},
   "outputs": [
    {
     "data": {
      "text/plain": [
       "0       1.627729\n",
       "1       2.374215\n",
       "2       2.427747\n",
       "3       1.480994\n",
       "4       2.163062\n",
       "          ...   \n",
       "1200    2.174952\n",
       "1201    5.509455\n",
       "1202    1.305399\n",
       "1203    2.963962\n",
       "1204    1.318832\n",
       "Length: 1205, dtype: float64"
      ]
     },
     "execution_count": 22,
     "metadata": {},
     "output_type": "execute_result"
    }
   ],
   "source": [
    "np.mean(table)"
   ]
  },
  {
   "cell_type": "code",
   "execution_count": 23,
   "metadata": {
    "tags": []
   },
   "outputs": [],
   "source": [
    "def get_means_and_variances(table):\n",
    "    return np.mean(table), np.var(table, ddof=1)"
   ]
  },
  {
   "cell_type": "code",
   "execution_count": 24,
   "metadata": {
    "tags": []
   },
   "outputs": [],
   "source": [
    "def mean_variance_plot(table):\n",
    "    means, variances = get_means_and_variances(table)\n",
    "    plt.scatter(means, variances)\n",
    "    plt.xlabel(\"mean\")\n",
    "    plt.ylabel(\"variance\")\n",
    "    plt.plot()"
   ]
  },
  {
   "cell_type": "code",
   "execution_count": 25,
   "metadata": {},
   "outputs": [
    {
     "data": {
      "image/png": "[encoded data removed]",
      "text/plain": [
       "<Figure size 432x288 with 1 Axes>"
      ]
     },
     "metadata": {
      "needs_background": "light"
     },
     "output_type": "display_data"
    }
   ],
   "source": [
    "mean_variance_plot(table)"
   ]
  },
  {
   "cell_type": "markdown",
   "metadata": {
    "tags": []
   },
   "source": [
    "### Log transformation"
   ]
  },
  {
   "cell_type": "code",
   "execution_count": 26,
   "metadata": {},
   "outputs": [],
   "source": [
    "log_table = table #np.log2(table)"
   ]
  },
  {
   "cell_type": "code",
   "execution_count": 27,
   "metadata": {},
   "outputs": [
    {
     "data": {
      "image/png": "[encoded data removed]",
      "text/plain": [
       "<Figure size 432x288 with 1 Axes>"
      ]
     },
     "metadata": {
      "needs_background": "light"
     },
     "output_type": "display_data"
    }
   ],
   "source": [
    "mean_variance_plot(log_table)"
   ]
  },
  {
   "cell_type": "markdown",
   "metadata": {
    "tags": []
   },
   "source": [
    "### Loess regression"
   ]
  },
  {
   "cell_type": "code",
   "execution_count": 28,
   "metadata": {
    "tags": []
   },
   "outputs": [],
   "source": [
    "lowess = LowessRegression(sigma=1, span=0.1)"
   ]
  },
  {
   "cell_type": "code",
   "execution_count": 29,
   "metadata": {},
   "outputs": [
    {
     "data": {
      "text/plain": [
       "LowessRegression(span=0.1)"
      ]
     },
     "execution_count": 29,
     "metadata": {},
     "output_type": "execute_result"
    }
   ],
   "source": [
    "means, variances = get_means_and_variances(log_table)\n",
    "lowess.fit(means.to_numpy().reshape(-1,1), variances)"
   ]
  },
  {
   "cell_type": "code",
   "execution_count": 30,
   "metadata": {},
   "outputs": [],
   "source": [
    "x_axis = np.linspace(-2, 14, 100)\n",
    "y_axis = lowess.predict(x_axis.reshape(-1,1))"
   ]
  },
  {
   "cell_type": "code",
   "execution_count": 31,
   "metadata": {},
   "outputs": [
    {
     "data": {
      "text/plain": [
       "[]"
      ]
     },
     "execution_count": 31,
     "metadata": {},
     "output_type": "execute_result"
    },
    {
     "data": {
      "image/png": "[encoded data removed]",
      "text/plain": [
       "<Figure size 432x288 with 1 Axes>"
      ]
     },
     "metadata": {
      "needs_background": "light"
     },
     "output_type": "display_data"
    }
   ],
   "source": [
    "plt.scatter(means, variances, color=\"b\")\n",
    "plt.scatter(x_axis, y_axis, color=\"y\")\n",
    "plt.xlabel(\"mean\")\n",
    "plt.ylabel(\"variance\")\n",
    "plt.legend([\"Sample points\", \"Lowess regression\"])\n",
    "plt.plot()"
   ]
  },
  {
   "cell_type": "markdown",
   "metadata": {
    "tags": []
   },
   "source": [
    "### Lowess normalization"
   ]
  },
  {
   "cell_type": "code",
   "execution_count": 32,
   "metadata": {},
   "outputs": [],
   "source": [
    "adj_var = lowess.predict(means.to_numpy().reshape(-1, 1))"
   ]
  },
  {
   "cell_type": "code",
   "execution_count": 33,
   "metadata": {
    "tags": []
   },
   "outputs": [],
   "source": [
    "log_table /= np.sqrt(adj_var)"
   ]
  },
  {
   "cell_type": "code",
   "execution_count": 34,
   "metadata": {},
   "outputs": [
    {
     "data": {
      "image/png": "[encoded data removed]",
      "text/plain": [
       "<Figure size 432x288 with 1 Axes>"
      ]
     },
     "metadata": {
      "needs_background": "light"
     },
     "output_type": "display_data"
    }
   ],
   "source": [
    "mean_variance_plot(log_table)"
   ]
  },
  {
   "cell_type": "markdown",
   "metadata": {},
   "source": [
    "### Remove mean"
   ]
  },
  {
   "cell_type": "code",
   "execution_count": 35,
   "metadata": {},
   "outputs": [],
   "source": [
    "norm_log_table = log_table - np.mean(log_table)\n",
    "norm_log_table /= np.sqrt(np.mean(np.var(norm_log_table, ddof=1)))"
   ]
  },
  {
   "cell_type": "code",
   "execution_count": 36,
   "metadata": {},
   "outputs": [
    {
     "data": {
      "image/png": "[encoded data removed]",
      "text/plain": [
       "<Figure size 432x288 with 1 Axes>"
      ]
     },
     "metadata": {
      "needs_background": "light"
     },
     "output_type": "display_data"
    }
   ],
   "source": [
    "mean_variance_plot(norm_log_table)"
   ]
  },
  {
   "cell_type": "markdown",
   "metadata": {},
   "source": [
    "### PCA"
   ]
  },
  {
   "cell_type": "code",
   "execution_count": 37,
   "metadata": {
    "tags": []
   },
   "outputs": [],
   "source": [
    "pca = decomposition.PCA(n_components=10)"
   ]
  },
  {
   "cell_type": "code",
   "execution_count": 38,
   "metadata": {},
   "outputs": [
    {
     "data": {
      "text/plain": [
       "PCA(n_components=10)"
      ]
     },
     "execution_count": 38,
     "metadata": {},
     "output_type": "execute_result"
    }
   ],
   "source": [
    "pca.fit(norm_log_table)"
   ]
  },
  {
   "cell_type": "code",
   "execution_count": 39,
   "metadata": {},
   "outputs": [
    {
     "data": {
      "text/plain": [
       "array([0.22882519, 0.13164587, 0.06114179, 0.03834914, 0.03301339,\n",
       "       0.0295242 , 0.02329869, 0.02162835, 0.01724176, 0.01619625])"
      ]
     },
     "execution_count": 39,
     "metadata": {},
     "output_type": "execute_result"
    }
   ],
   "source": [
    "pca.explained_variance_ratio_"
   ]
  },
  {
   "cell_type": "code",
   "execution_count": 40,
   "metadata": {
    "tags": []
   },
   "outputs": [],
   "source": [
    "components = pca.transform(norm_log_table)"
   ]
  },
  {
   "cell_type": "code",
   "execution_count": 41,
   "metadata": {},
   "outputs": [
    {
     "data": {
      "text/plain": [
       "(215, 10)"
      ]
     },
     "execution_count": 41,
     "metadata": {},
     "output_type": "execute_result"
    }
   ],
   "source": [
    "components.shape"
   ]
  },
  {
   "cell_type": "code",
   "execution_count": 42,
   "metadata": {},
   "outputs": [
    {
     "data": {
      "text/plain": [
       "12"
      ]
     },
     "execution_count": 42,
     "metadata": {},
     "output_type": "execute_result"
    }
   ],
   "source": [
    "sum(controls)"
   ]
  },
  {
   "cell_type": "code",
   "execution_count": 43,
   "metadata": {},
   "outputs": [
    {
     "data": {
      "image/png": "[encoded data removed]",
      "text/plain": [
       "<Figure size 576x576 with 1 Axes>"
      ]
     },
     "metadata": {
      "needs_background": "light"
     },
     "output_type": "display_data"
    }
   ],
   "source": [
    "fig = plt.figure(figsize = (8,8))\n",
    "ax = fig.add_subplot(1,1,1)\n",
    "\n",
    "ax.set_xlabel('Principal Component 1', fontsize = 15)\n",
    "ax.set_ylabel('Principal Component 2', fontsize = 15)\n",
    "ax.set_title('2 component PCA', fontsize = 20)\n",
    "targets = ['Cancer', 'Healthy']\n",
    "colors = ['r', 'g']\n",
    "ax.scatter(components[controls == False, 0], components[controls == False, 1], c = 'r', s = 10)\n",
    "ax.scatter(components[controls == True, 0], components[controls == True, 1], c = 'g', s = 10)\n",
    "ax.legend(targets)\n",
    "ax.grid()"
   ]
  },
  {
   "cell_type": "code",
   "execution_count": 44,
   "metadata": {
    "tags": []
   },
   "outputs": [],
   "source": [
    "components2 = components[components[:,0] < 20, :]\n",
    "controls2 = controls[components[:,0] < 20]"
   ]
  },
  {
   "cell_type": "code",
   "execution_count": 45,
   "metadata": {},
   "outputs": [
    {
     "data": {
      "image/png": "[encoded data removed]",
      "text/plain": [
       "<Figure size 576x576 with 1 Axes>"
      ]
     },
     "metadata": {
      "needs_background": "light"
     },
     "output_type": "display_data"
    }
   ],
   "source": [
    "fig = plt.figure(figsize = (8,8))\n",
    "ax = fig.add_subplot(1,1,1)\n",
    "\n",
    "ax.set_xlabel('Principal Component 1', fontsize = 15)\n",
    "ax.set_ylabel('Principal Component 2', fontsize = 15)\n",
    "ax.set_title('2 component PCA', fontsize = 20)\n",
    "targets = ['Cancer', 'Healthy']\n",
    "colors = ['r', 'g']\n",
    "ax.scatter(components2[controls2 == False, 0], components2[controls2 == False, 1], c = 'r', s = 10)\n",
    "ax.scatter(components2[controls2 == True, 0], components2[controls2 == True, 1], c = 'g', s = 10)\n",
    "ax.legend(targets)\n",
    "ax.grid()"
   ]
  },
  {
   "cell_type": "markdown",
   "metadata": {},
   "source": [
    "### Linear regression adjustments"
   ]
  },
  {
   "cell_type": "code",
   "execution_count": 46,
   "metadata": {},
   "outputs": [
    {
     "data": {
      "text/plain": [
       "{'title': ['A_6_489'],\n",
       " 'geo_accession': ['GSM1688373'],\n",
       " 'status': ['Public on Sep 24 2015'],\n",
       " 'submission_date': ['May 15 2015'],\n",
       " 'last_update_date': ['Sep 24 2015'],\n",
       " 'type': ['RNA'],\n",
       " 'channel_count': ['1'],\n",
       " 'source_name_ch1': ['RNA from plasma'],\n",
       " 'organism_ch1': ['Homo sapiens'],\n",
       " 'taxid_ch1': ['9606'],\n",
       " 'characteristics_ch1': ['tissue: plasma',\n",
       "  'disease: lung cancer',\n",
       "  'patient id: A',\n",
       "  'timepoint: 6'],\n",
       " 'treatment_protocol_ch1': ['Blood of lung cancer patients was drawn directly before tumor resection (TP1), ~ two weeks after tumor resection (TP2) and then ~ three months (TP3), six months (TP4), nine months (TP5), 12 months (TP6), 15 months (TP7) and 18 months (TP8) after tumor resection.  Stored at -20 degree'],\n",
       " 'molecule_ch1': ['total RNA'],\n",
       " 'extract_protocol_ch1': ['We first treated 100Âµl plasma with 10Âµg Heparinase I (Sigma) and 100U RNaseOUTTM (Life Technologies, CatNo 10777-019) and incubated the mixture at 25Â°C for 1 hour. Nuclease free water (Life Technologies, CatNo AM9932) was added to a final volume of 250Âµl. A total of 750Âµl TRIzolLS (Life Technologies, CatNo 10296-028) was added and incubated at RT for 5 min. Then, 20Âµg glycogen, 5Âµl spike-in miRNA (miRNA mimic syn-cel-miR-39, 5nM, Qiagen),  and 200Âµl chloroform were added and incubated for 3 min at RT. After centrifugation at 14000rpm and 4Â°C, the watery phase was transferred into a new tube and RNA was precipitated with 1,5 volumes of 100% ethanol. RNA was then isolated using the miRNeasy Mini Kit (Qiagen, CatNo 217004) according to manufacturers instructions but with the use of the RNeasy Mini Elute column to allow for a reduced elution volume of 15Âµl.'],\n",
       " 'label_ch1': ['Cy3'],\n",
       " 'label_protocol_ch1': ['A total of 100 ng total RNA was processed using the miRNA Complete Labeling and Hyb Kit (Agilent, CatNo 5190-0456) to generate fluorescently (cyanine-3) labeled miRNA'],\n",
       " 'hyb_protocol': ['The microarrays, that contain 40 replicates of each of the 1,205 miRNAs of miRBase v16 (http://www.mirbase.org/) were hybridized with the labeled miRNA for 20 hours at 55Â°C and 20rpm.'],\n",
       " 'scan_protocol': ['Agilent C Scanner, Agilent Scan Control Software'],\n",
       " 'data_processing': ['Feature Extraction Software, summarizing of technical replicates by median and quantile normalization. Batch effect correction with ComBat R package.'],\n",
       " 'platform_id': ['GPL16770'],\n",
       " 'contact_name': ['Christina,,Backes'],\n",
       " 'contact_department': ['Chair for Clinical Bioinformatics'],\n",
       " 'contact_institute': ['Saarland University'],\n",
       " 'contact_address': ['Campus, Building E 2.1'],\n",
       " 'contact_city': ['SaarbrÃ¼cken'],\n",
       " 'contact_zip/postal_code': ['66123'],\n",
       " 'contact_country': ['Germany'],\n",
       " 'supplementary_file': ['ftp://ftp.ncbi.nlm.nih.gov/geo/samples/GSM1688nnn/GSM1688373/suppl/GSM1688373_US11153896_253118111090_S01_miRNA_1010_Sep10_2_2.txt.gz'],\n",
       " 'series_id': ['GSE68951'],\n",
       " 'data_row_count': ['1205']}"
      ]
     },
     "execution_count": 46,
     "metadata": {},
     "output_type": "execute_result"
    }
   ],
   "source": [
    "list(data.gsms.values())[5].metadata"
   ]
  },
  {
   "cell_type": "code",
   "execution_count": 47,
   "metadata": {},
   "outputs": [
    {
     "ename": "ValueError",
     "evalue": "could not convert string to float: 'id:'",
     "output_type": "error",
     "traceback": [
      "\u001b[1;31m---------------------------------------------------------------------------\u001b[0m",
      "\u001b[1;31mValueError\u001b[0m                                Traceback (most recent call last)",
      "\u001b[1;32mC:\\Users\\OLEFRE~1\\AppData\\Local\\Temp/ipykernel_17464/785314811.py\u001b[0m in \u001b[0;36m<module>\u001b[1;34m\u001b[0m\n\u001b[0;32m      1\u001b[0m \u001b[0msex\u001b[0m \u001b[1;33m=\u001b[0m \u001b[0mnp\u001b[0m\u001b[1;33m.\u001b[0m\u001b[0marray\u001b[0m\u001b[1;33m(\u001b[0m\u001b[1;33m[\u001b[0m\u001b[1;34m\"Female\"\u001b[0m \u001b[1;32min\u001b[0m \u001b[0mk\u001b[0m\u001b[1;33m.\u001b[0m\u001b[0mmetadata\u001b[0m\u001b[1;33m[\u001b[0m\u001b[1;34m\"characteristics_ch1\"\u001b[0m\u001b[1;33m]\u001b[0m\u001b[1;33m[\u001b[0m\u001b[1;36m1\u001b[0m\u001b[1;33m]\u001b[0m \u001b[1;32mfor\u001b[0m \u001b[0mk\u001b[0m \u001b[1;32min\u001b[0m \u001b[0mlist\u001b[0m\u001b[1;33m(\u001b[0m\u001b[0mdata\u001b[0m\u001b[1;33m.\u001b[0m\u001b[0mgsms\u001b[0m\u001b[1;33m.\u001b[0m\u001b[0mvalues\u001b[0m\u001b[1;33m(\u001b[0m\u001b[1;33m)\u001b[0m\u001b[1;33m)\u001b[0m \u001b[1;32mif\u001b[0m \u001b[1;34m\"post\"\u001b[0m \u001b[1;32mnot\u001b[0m \u001b[1;32min\u001b[0m \u001b[0mk\u001b[0m\u001b[1;33m.\u001b[0m\u001b[0mmetadata\u001b[0m\u001b[1;33m[\u001b[0m\u001b[1;34m\"characteristics_ch1\"\u001b[0m\u001b[1;33m]\u001b[0m\u001b[1;33m[\u001b[0m\u001b[1;36m0\u001b[0m\u001b[1;33m]\u001b[0m\u001b[1;33m]\u001b[0m\u001b[1;33m)\u001b[0m\u001b[1;33m\u001b[0m\u001b[1;33m\u001b[0m\u001b[0m\n\u001b[1;32m----> 2\u001b[1;33m \u001b[0mage\u001b[0m \u001b[1;33m=\u001b[0m \u001b[0mnp\u001b[0m\u001b[1;33m.\u001b[0m\u001b[0marray\u001b[0m\u001b[1;33m(\u001b[0m\u001b[1;33m[\u001b[0m\u001b[0mfloat\u001b[0m\u001b[1;33m(\u001b[0m\u001b[0mk\u001b[0m\u001b[1;33m.\u001b[0m\u001b[0mmetadata\u001b[0m\u001b[1;33m[\u001b[0m\u001b[1;34m\"characteristics_ch1\"\u001b[0m\u001b[1;33m]\u001b[0m\u001b[1;33m[\u001b[0m\u001b[1;36m2\u001b[0m\u001b[1;33m]\u001b[0m\u001b[1;33m.\u001b[0m\u001b[0msplit\u001b[0m\u001b[1;33m(\u001b[0m\u001b[1;34m\" \"\u001b[0m\u001b[1;33m)\u001b[0m\u001b[1;33m[\u001b[0m\u001b[1;36m1\u001b[0m\u001b[1;33m]\u001b[0m\u001b[1;33m.\u001b[0m\u001b[0mreplace\u001b[0m\u001b[1;33m(\u001b[0m\u001b[1;34m\"NA\"\u001b[0m\u001b[1;33m,\u001b[0m \u001b[1;34m\"NaN\"\u001b[0m\u001b[1;33m)\u001b[0m\u001b[1;33m)\u001b[0m \u001b[1;32mfor\u001b[0m \u001b[0mk\u001b[0m \u001b[1;32min\u001b[0m \u001b[0mlist\u001b[0m\u001b[1;33m(\u001b[0m\u001b[0mdata\u001b[0m\u001b[1;33m.\u001b[0m\u001b[0mgsms\u001b[0m\u001b[1;33m.\u001b[0m\u001b[0mvalues\u001b[0m\u001b[1;33m(\u001b[0m\u001b[1;33m)\u001b[0m\u001b[1;33m)\u001b[0m \u001b[1;32mif\u001b[0m \u001b[1;34m\"post\"\u001b[0m \u001b[1;32mnot\u001b[0m \u001b[1;32min\u001b[0m \u001b[0mk\u001b[0m\u001b[1;33m.\u001b[0m\u001b[0mmetadata\u001b[0m\u001b[1;33m[\u001b[0m\u001b[1;34m\"characteristics_ch1\"\u001b[0m\u001b[1;33m]\u001b[0m\u001b[1;33m[\u001b[0m\u001b[1;36m0\u001b[0m\u001b[1;33m]\u001b[0m\u001b[1;33m]\u001b[0m\u001b[1;33m)\u001b[0m\u001b[1;33m\u001b[0m\u001b[1;33m\u001b[0m\u001b[0m\n\u001b[0m",
      "\u001b[1;32mC:\\Users\\OLEFRE~1\\AppData\\Local\\Temp/ipykernel_17464/785314811.py\u001b[0m in \u001b[0;36m<listcomp>\u001b[1;34m(.0)\u001b[0m\n\u001b[0;32m      1\u001b[0m \u001b[0msex\u001b[0m \u001b[1;33m=\u001b[0m \u001b[0mnp\u001b[0m\u001b[1;33m.\u001b[0m\u001b[0marray\u001b[0m\u001b[1;33m(\u001b[0m\u001b[1;33m[\u001b[0m\u001b[1;34m\"Female\"\u001b[0m \u001b[1;32min\u001b[0m \u001b[0mk\u001b[0m\u001b[1;33m.\u001b[0m\u001b[0mmetadata\u001b[0m\u001b[1;33m[\u001b[0m\u001b[1;34m\"characteristics_ch1\"\u001b[0m\u001b[1;33m]\u001b[0m\u001b[1;33m[\u001b[0m\u001b[1;36m1\u001b[0m\u001b[1;33m]\u001b[0m \u001b[1;32mfor\u001b[0m \u001b[0mk\u001b[0m \u001b[1;32min\u001b[0m \u001b[0mlist\u001b[0m\u001b[1;33m(\u001b[0m\u001b[0mdata\u001b[0m\u001b[1;33m.\u001b[0m\u001b[0mgsms\u001b[0m\u001b[1;33m.\u001b[0m\u001b[0mvalues\u001b[0m\u001b[1;33m(\u001b[0m\u001b[1;33m)\u001b[0m\u001b[1;33m)\u001b[0m \u001b[1;32mif\u001b[0m \u001b[1;34m\"post\"\u001b[0m \u001b[1;32mnot\u001b[0m \u001b[1;32min\u001b[0m \u001b[0mk\u001b[0m\u001b[1;33m.\u001b[0m\u001b[0mmetadata\u001b[0m\u001b[1;33m[\u001b[0m\u001b[1;34m\"characteristics_ch1\"\u001b[0m\u001b[1;33m]\u001b[0m\u001b[1;33m[\u001b[0m\u001b[1;36m0\u001b[0m\u001b[1;33m]\u001b[0m\u001b[1;33m]\u001b[0m\u001b[1;33m)\u001b[0m\u001b[1;33m\u001b[0m\u001b[1;33m\u001b[0m\u001b[0m\n\u001b[1;32m----> 2\u001b[1;33m \u001b[0mage\u001b[0m \u001b[1;33m=\u001b[0m \u001b[0mnp\u001b[0m\u001b[1;33m.\u001b[0m\u001b[0marray\u001b[0m\u001b[1;33m(\u001b[0m\u001b[1;33m[\u001b[0m\u001b[0mfloat\u001b[0m\u001b[1;33m(\u001b[0m\u001b[0mk\u001b[0m\u001b[1;33m.\u001b[0m\u001b[0mmetadata\u001b[0m\u001b[1;33m[\u001b[0m\u001b[1;34m\"characteristics_ch1\"\u001b[0m\u001b[1;33m]\u001b[0m\u001b[1;33m[\u001b[0m\u001b[1;36m2\u001b[0m\u001b[1;33m]\u001b[0m\u001b[1;33m.\u001b[0m\u001b[0msplit\u001b[0m\u001b[1;33m(\u001b[0m\u001b[1;34m\" \"\u001b[0m\u001b[1;33m)\u001b[0m\u001b[1;33m[\u001b[0m\u001b[1;36m1\u001b[0m\u001b[1;33m]\u001b[0m\u001b[1;33m.\u001b[0m\u001b[0mreplace\u001b[0m\u001b[1;33m(\u001b[0m\u001b[1;34m\"NA\"\u001b[0m\u001b[1;33m,\u001b[0m \u001b[1;34m\"NaN\"\u001b[0m\u001b[1;33m)\u001b[0m\u001b[1;33m)\u001b[0m \u001b[1;32mfor\u001b[0m \u001b[0mk\u001b[0m \u001b[1;32min\u001b[0m \u001b[0mlist\u001b[0m\u001b[1;33m(\u001b[0m\u001b[0mdata\u001b[0m\u001b[1;33m.\u001b[0m\u001b[0mgsms\u001b[0m\u001b[1;33m.\u001b[0m\u001b[0mvalues\u001b[0m\u001b[1;33m(\u001b[0m\u001b[1;33m)\u001b[0m\u001b[1;33m)\u001b[0m \u001b[1;32mif\u001b[0m \u001b[1;34m\"post\"\u001b[0m \u001b[1;32mnot\u001b[0m \u001b[1;32min\u001b[0m \u001b[0mk\u001b[0m\u001b[1;33m.\u001b[0m\u001b[0mmetadata\u001b[0m\u001b[1;33m[\u001b[0m\u001b[1;34m\"characteristics_ch1\"\u001b[0m\u001b[1;33m]\u001b[0m\u001b[1;33m[\u001b[0m\u001b[1;36m0\u001b[0m\u001b[1;33m]\u001b[0m\u001b[1;33m]\u001b[0m\u001b[1;33m)\u001b[0m\u001b[1;33m\u001b[0m\u001b[1;33m\u001b[0m\u001b[0m\n\u001b[0m",
      "\u001b[1;31mValueError\u001b[0m: could not convert string to float: 'id:'"
     ]
    }
   ],
   "source": [
    "sex = np.array([\"Female\" in k.metadata[\"characteristics_ch1\"][1] for k in list(data.gsms.values()) if \"post\" not in k.metadata[\"characteristics_ch1\"][0]])\n",
    "age = np.array([float(k.metadata[\"characteristics_ch1\"][2].split(\" \")[1].replace(\"NA\", \"NaN\")) for k in list(data.gsms.values()) if \"post\" not in k.metadata[\"characteristics_ch1\"][0]])"
   ]
  },
  {
   "cell_type": "code",
   "execution_count": null,
   "metadata": {},
   "outputs": [],
   "source": [
    "covars = pd.DataFrame(np.array([sex, age]).transpose(), columns=[\"sex\", \"age\"])"
   ]
  },
  {
   "cell_type": "code",
   "execution_count": null,
   "metadata": {},
   "outputs": [],
   "source": [
    "covars = covars.fillna(covars.mean())"
   ]
  },
  {
   "cell_type": "code",
   "execution_count": null,
   "metadata": {},
   "outputs": [],
   "source": [
    "linreg = LinearRegression()\n",
    "linreg.fit(covars, norm_log_table)"
   ]
  },
  {
   "cell_type": "code",
   "execution_count": null,
   "metadata": {},
   "outputs": [],
   "source": [
    "adj_norm_log_table = norm_log_table - linreg.predict(covars)"
   ]
  },
  {
   "cell_type": "markdown",
   "metadata": {
    "tags": []
   },
   "source": [
    "# PCA"
   ]
  },
  {
   "cell_type": "code",
   "execution_count": null,
   "metadata": {
    "tags": []
   },
   "outputs": [],
   "source": [
    "pca = decomposition.PCA(n_components=2)"
   ]
  },
  {
   "cell_type": "code",
   "execution_count": null,
   "metadata": {},
   "outputs": [],
   "source": [
    "pca.fit(adj_norm_log_table)"
   ]
  },
  {
   "cell_type": "code",
   "execution_count": null,
   "metadata": {
    "tags": []
   },
   "outputs": [],
   "source": [
    "components = pca.transform(adj_norm_log_table)"
   ]
  },
  {
   "cell_type": "code",
   "execution_count": null,
   "metadata": {},
   "outputs": [],
   "source": [
    "components"
   ]
  },
  {
   "cell_type": "code",
   "execution_count": null,
   "metadata": {},
   "outputs": [],
   "source": [
    "fig = plt.figure(figsize = (8,8))\n",
    "ax = fig.add_subplot(1,1,1)\n",
    "\n",
    "ax.set_xlabel('Principal Component 1', fontsize = 15)\n",
    "ax.set_ylabel('Principal Component 2', fontsize = 15)\n",
    "ax.set_title('2 component PCA', fontsize = 20)\n",
    "targets = ['Cancer', 'Healthy']\n",
    "colors = ['r', 'g']\n",
    "ax.scatter(components[controls == False, 0], components[controls == False, 1], c = 'r', s = 10)\n",
    "ax.scatter(components[controls == True, 0], components[controls == True, 1], c = 'g', s = 10)\n",
    "ax.legend(targets)\n",
    "ax.grid()"
   ]
  },
  {
   "cell_type": "markdown",
   "metadata": {},
   "source": [
    "### Logistic Regression"
   ]
  },
  {
   "cell_type": "code",
   "execution_count": null,
   "metadata": {},
   "outputs": [],
   "source": [
    "X_train, X_test, y_train, y_test = train_test_split(adj_norm_log_table, controls, test_size=0.33, random_state=42)"
   ]
  },
  {
   "cell_type": "code",
   "execution_count": null,
   "metadata": {},
   "outputs": [],
   "source": [
    "model = LogisticRegression()\n",
    "model.fit(X_train, y_train)"
   ]
  },
  {
   "cell_type": "code",
   "execution_count": null,
   "metadata": {},
   "outputs": [],
   "source": [
    "plot_roc_curve(model, X_test, y_test)"
   ]
  },
  {
   "cell_type": "markdown",
   "metadata": {
    "jupyter": {
     "outputs_hidden": true
    }
   },
   "source": [
    "### XGBoost"
   ]
  },
  {
   "cell_type": "code",
   "execution_count": null,
   "metadata": {},
   "outputs": [],
   "source": [
    "model = XGBClassifier(use_label_encoder=False)\n",
    "model.fit(X_train, y_train)"
   ]
  },
  {
   "cell_type": "code",
   "execution_count": null,
   "metadata": {},
   "outputs": [],
   "source": [
    "plot_roc_curve(model, X_test, y_test)"
   ]
  },
  {
   "cell_type": "markdown",
   "metadata": {},
   "source": [
    "### Export data"
   ]
  },
  {
   "cell_type": "code",
   "execution_count": null,
   "metadata": {},
   "outputs": [],
   "source": [
    "lookup_table = data.gpls[\"GPL16770\"].table"
   ]
  },
  {
   "cell_type": "code",
   "execution_count": null,
   "metadata": {},
   "outputs": [],
   "source": [
    "lookup_table.head()"
   ]
  },
  {
   "cell_type": "code",
   "execution_count": null,
   "metadata": {},
   "outputs": [],
   "source": [
    "lookup_table = lookup_table.set_index(\"ID\")"
   ]
  },
  {
   "cell_type": "code",
   "execution_count": null,
   "metadata": {},
   "outputs": [],
   "source": [
    "mirna_ids = lookup_table.loc[mirnas][\"miRNA_ID\"]"
   ]
  },
  {
   "cell_type": "code",
   "execution_count": null,
   "metadata": {},
   "outputs": [],
   "source": [
    "from Scripts import converters"
   ]
  },
  {
   "cell_type": "code",
   "execution_count": null,
   "metadata": {},
   "outputs": [],
   "source": [
    "sequences = converters.canonical_to_seq(mirnas, True)"
   ]
  },
  {
   "cell_type": "code",
   "execution_count": null,
   "metadata": {},
   "outputs": [],
   "source": [
    "sequences.count(None)"
   ]
  },
  {
   "cell_type": "code",
   "execution_count": null,
   "metadata": {},
   "outputs": [],
   "source": [
    "sequences = np.array(sequences)\n",
    "mask = sequences != None\n",
    "sequences = sequences[mask]\n",
    "adj_norm_log_table = norm_log_table.loc[:, mask]"
   ]
  },
  {
   "cell_type": "code",
   "execution_count": null,
   "metadata": {},
   "outputs": [],
   "source": [
    "adj_norm_log_table.columns = sequences\n",
    "adj_norm_log_table = adj_norm_log_table.loc[:,~adj_norm_log_table.columns.duplicated()]\n",
    "adj_norm_log_table[\"cancer\"] = sick\n",
    "adj_norm_log_table.head()"
   ]
  },
  {
   "cell_type": "code",
   "execution_count": null,
   "metadata": {},
   "outputs": [],
   "source": [
    "adj_norm_log_table.to_csv(\"../TransformedData/Leidinger2015_adjusted.csv\", index=False)"
   ]
  },
  {
   "cell_type": "code",
   "execution_count": null,
   "metadata": {},
   "outputs": [],
   "source": []
  }
 ],
 "metadata": {
  "kernelspec": {
   "display_name": "Python 3 (ipykernel)",
   "language": "python",
   "name": "python3"
  },
  "language_info": {
   "codemirror_mode": {
    "name": "ipython",
    "version": 3
   },
   "file_extension": ".py",
   "mimetype": "text/x-python",
   "name": "python",
   "nbconvert_exporter": "python",
   "pygments_lexer": "ipython3",
   "version": "3.9.7"
  }
 },
 "nbformat": 4,
 "nbformat_minor": 4
}
