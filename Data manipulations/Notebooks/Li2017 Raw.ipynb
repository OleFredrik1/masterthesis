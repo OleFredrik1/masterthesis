{
 "cells": [
  {
   "cell_type": "code",
   "execution_count": 1,
   "metadata": {
    "tags": []
   },
   "outputs": [],
   "source": [
    "%matplotlib inline\n",
    "import GEOparse\n",
    "import matplotlib.pyplot as plt\n",
    "import pandas as pd\n",
    "import numpy as np\n",
    "from sklearn import decomposition\n",
    "from sklearn.feature_selection import f_classif\n",
    "from sklearn.linear_model import LinearRegression, LogisticRegression\n",
    "from sklearn.metrics import explained_variance_score, plot_roc_curve\n",
    "import statsmodels.api as sm\n",
    "from scipy.stats import ttest_ind\n",
    "from xgboost import XGBClassifier\n",
    "from sklearn.model_selection import train_test_split\n",
    "from sklego.linear_model import LowessRegression"
   ]
  },
  {
   "cell_type": "markdown",
   "metadata": {},
   "source": [
    "### Reading in from external source"
   ]
  },
  {
   "cell_type": "code",
   "execution_count": 2,
   "metadata": {},
   "outputs": [],
   "source": [
    "geo = \"GSE94536\"\n",
    "data = GEOparse.get_GEO(geo=geo, destdir=\"../Dataset/Li2017\", silent=True)\n",
    "#table = pd.read_csv(\"../Dataset/Fehlman2020/expression_matrix.csv\", sep=\"\\t\")\n",
    "#table = pd.read_csv(\"../Dataset/Wozniak2015/GSE64591_non-normalized.txt\", sep=\"\\t\", header=5)"
   ]
  },
  {
   "cell_type": "code",
   "execution_count": 3,
   "metadata": {},
   "outputs": [],
   "source": [
    "table = pd.concat((val.table.iloc[:,1:] for val in data.gsms.values()), axis=1).transpose()\n",
    "mirnas = list(data.gsms.values())[0].table.iloc[:,0]"
   ]
  },
  {
   "cell_type": "code",
   "execution_count": 4,
   "metadata": {},
   "outputs": [
    {
     "data": {
      "text/html": [
       "<div>\n",
       "<style scoped>\n",
       "    .dataframe tbody tr th:only-of-type {\n",
       "        vertical-align: middle;\n",
       "    }\n",
       "\n",
       "    .dataframe tbody tr th {\n",
       "        vertical-align: top;\n",
       "    }\n",
       "\n",
       "    .dataframe thead th {\n",
       "        text-align: right;\n",
       "    }\n",
       "</style>\n",
       "<table border=\"1\" class=\"dataframe\">\n",
       "  <thead>\n",
       "    <tr style=\"text-align: right;\">\n",
       "      <th></th>\n",
       "      <th>0</th>\n",
       "      <th>1</th>\n",
       "      <th>2</th>\n",
       "      <th>3</th>\n",
       "      <th>4</th>\n",
       "      <th>5</th>\n",
       "      <th>6</th>\n",
       "      <th>7</th>\n",
       "      <th>8</th>\n",
       "      <th>9</th>\n",
       "      <th>...</th>\n",
       "      <th>2539</th>\n",
       "      <th>2540</th>\n",
       "      <th>2541</th>\n",
       "      <th>2542</th>\n",
       "      <th>2543</th>\n",
       "      <th>2544</th>\n",
       "      <th>2545</th>\n",
       "      <th>2546</th>\n",
       "      <th>2547</th>\n",
       "      <th>2548</th>\n",
       "    </tr>\n",
       "  </thead>\n",
       "  <tbody>\n",
       "    <tr>\n",
       "      <th>VALUE</th>\n",
       "      <td>0.10000</td>\n",
       "      <td>0.10000</td>\n",
       "      <td>0.1</td>\n",
       "      <td>0.1</td>\n",
       "      <td>0.1</td>\n",
       "      <td>0.10000</td>\n",
       "      <td>0.10000</td>\n",
       "      <td>0.1000</td>\n",
       "      <td>0.1</td>\n",
       "      <td>0.10000</td>\n",
       "      <td>...</td>\n",
       "      <td>0.1</td>\n",
       "      <td>0.1</td>\n",
       "      <td>0.1</td>\n",
       "      <td>3.78867</td>\n",
       "      <td>0.1</td>\n",
       "      <td>0.10000</td>\n",
       "      <td>0.1</td>\n",
       "      <td>0.1</td>\n",
       "      <td>0.1</td>\n",
       "      <td>0.10000</td>\n",
       "    </tr>\n",
       "    <tr>\n",
       "      <th>VALUE</th>\n",
       "      <td>0.10000</td>\n",
       "      <td>2.84215</td>\n",
       "      <td>0.1</td>\n",
       "      <td>0.1</td>\n",
       "      <td>0.1</td>\n",
       "      <td>0.10000</td>\n",
       "      <td>0.10000</td>\n",
       "      <td>0.1000</td>\n",
       "      <td>0.1</td>\n",
       "      <td>0.10000</td>\n",
       "      <td>...</td>\n",
       "      <td>0.1</td>\n",
       "      <td>0.1</td>\n",
       "      <td>0.1</td>\n",
       "      <td>9.53514</td>\n",
       "      <td>0.1</td>\n",
       "      <td>0.10000</td>\n",
       "      <td>0.1</td>\n",
       "      <td>0.1</td>\n",
       "      <td>0.1</td>\n",
       "      <td>0.10000</td>\n",
       "    </tr>\n",
       "    <tr>\n",
       "      <th>VALUE</th>\n",
       "      <td>0.10000</td>\n",
       "      <td>4.16109</td>\n",
       "      <td>0.1</td>\n",
       "      <td>0.1</td>\n",
       "      <td>0.1</td>\n",
       "      <td>0.10000</td>\n",
       "      <td>0.10000</td>\n",
       "      <td>0.1000</td>\n",
       "      <td>0.1</td>\n",
       "      <td>0.10000</td>\n",
       "      <td>...</td>\n",
       "      <td>0.1</td>\n",
       "      <td>0.1</td>\n",
       "      <td>0.1</td>\n",
       "      <td>5.93378</td>\n",
       "      <td>0.1</td>\n",
       "      <td>0.10000</td>\n",
       "      <td>0.1</td>\n",
       "      <td>0.1</td>\n",
       "      <td>0.1</td>\n",
       "      <td>0.10000</td>\n",
       "    </tr>\n",
       "    <tr>\n",
       "      <th>VALUE</th>\n",
       "      <td>0.10000</td>\n",
       "      <td>0.10000</td>\n",
       "      <td>0.1</td>\n",
       "      <td>0.1</td>\n",
       "      <td>0.1</td>\n",
       "      <td>0.10000</td>\n",
       "      <td>0.10000</td>\n",
       "      <td>0.1000</td>\n",
       "      <td>0.1</td>\n",
       "      <td>0.10000</td>\n",
       "      <td>...</td>\n",
       "      <td>0.1</td>\n",
       "      <td>0.1</td>\n",
       "      <td>0.1</td>\n",
       "      <td>0.10000</td>\n",
       "      <td>0.1</td>\n",
       "      <td>0.10000</td>\n",
       "      <td>0.1</td>\n",
       "      <td>0.1</td>\n",
       "      <td>0.1</td>\n",
       "      <td>0.10000</td>\n",
       "    </tr>\n",
       "    <tr>\n",
       "      <th>VALUE</th>\n",
       "      <td>1.55445</td>\n",
       "      <td>0.10000</td>\n",
       "      <td>0.1</td>\n",
       "      <td>0.1</td>\n",
       "      <td>0.1</td>\n",
       "      <td>0.10000</td>\n",
       "      <td>0.10000</td>\n",
       "      <td>0.1000</td>\n",
       "      <td>0.1</td>\n",
       "      <td>0.10000</td>\n",
       "      <td>...</td>\n",
       "      <td>0.1</td>\n",
       "      <td>0.1</td>\n",
       "      <td>0.1</td>\n",
       "      <td>2.10564</td>\n",
       "      <td>0.1</td>\n",
       "      <td>0.10000</td>\n",
       "      <td>0.1</td>\n",
       "      <td>0.1</td>\n",
       "      <td>0.1</td>\n",
       "      <td>0.10000</td>\n",
       "    </tr>\n",
       "    <tr>\n",
       "      <th>VALUE</th>\n",
       "      <td>0.10000</td>\n",
       "      <td>0.10000</td>\n",
       "      <td>0.1</td>\n",
       "      <td>0.1</td>\n",
       "      <td>0.1</td>\n",
       "      <td>0.10000</td>\n",
       "      <td>0.10000</td>\n",
       "      <td>0.1000</td>\n",
       "      <td>0.1</td>\n",
       "      <td>0.10000</td>\n",
       "      <td>...</td>\n",
       "      <td>0.1</td>\n",
       "      <td>0.1</td>\n",
       "      <td>0.1</td>\n",
       "      <td>0.10000</td>\n",
       "      <td>0.1</td>\n",
       "      <td>0.10000</td>\n",
       "      <td>0.1</td>\n",
       "      <td>0.1</td>\n",
       "      <td>0.1</td>\n",
       "      <td>0.10000</td>\n",
       "    </tr>\n",
       "    <tr>\n",
       "      <th>VALUE</th>\n",
       "      <td>0.10000</td>\n",
       "      <td>283.80890</td>\n",
       "      <td>0.1</td>\n",
       "      <td>0.1</td>\n",
       "      <td>0.1</td>\n",
       "      <td>63.38276</td>\n",
       "      <td>10.58558</td>\n",
       "      <td>124.8117</td>\n",
       "      <td>0.1</td>\n",
       "      <td>15.65303</td>\n",
       "      <td>...</td>\n",
       "      <td>0.1</td>\n",
       "      <td>0.1</td>\n",
       "      <td>0.1</td>\n",
       "      <td>344.32600</td>\n",
       "      <td>0.1</td>\n",
       "      <td>6.70158</td>\n",
       "      <td>0.1</td>\n",
       "      <td>0.1</td>\n",
       "      <td>0.1</td>\n",
       "      <td>2.75548</td>\n",
       "    </tr>\n",
       "    <tr>\n",
       "      <th>VALUE</th>\n",
       "      <td>0.10000</td>\n",
       "      <td>249.27970</td>\n",
       "      <td>0.1</td>\n",
       "      <td>0.1</td>\n",
       "      <td>0.1</td>\n",
       "      <td>68.02007</td>\n",
       "      <td>9.89041</td>\n",
       "      <td>107.1587</td>\n",
       "      <td>0.1</td>\n",
       "      <td>2.45958</td>\n",
       "      <td>...</td>\n",
       "      <td>0.1</td>\n",
       "      <td>0.1</td>\n",
       "      <td>0.1</td>\n",
       "      <td>394.66400</td>\n",
       "      <td>0.1</td>\n",
       "      <td>4.75734</td>\n",
       "      <td>0.1</td>\n",
       "      <td>0.1</td>\n",
       "      <td>0.1</td>\n",
       "      <td>0.10000</td>\n",
       "    </tr>\n",
       "    <tr>\n",
       "      <th>VALUE</th>\n",
       "      <td>0.10000</td>\n",
       "      <td>0.10000</td>\n",
       "      <td>0.1</td>\n",
       "      <td>0.1</td>\n",
       "      <td>0.1</td>\n",
       "      <td>0.10000</td>\n",
       "      <td>3.77247</td>\n",
       "      <td>0.1000</td>\n",
       "      <td>0.1</td>\n",
       "      <td>0.10000</td>\n",
       "      <td>...</td>\n",
       "      <td>0.1</td>\n",
       "      <td>0.1</td>\n",
       "      <td>0.1</td>\n",
       "      <td>3.71492</td>\n",
       "      <td>0.1</td>\n",
       "      <td>0.10000</td>\n",
       "      <td>0.1</td>\n",
       "      <td>0.1</td>\n",
       "      <td>0.1</td>\n",
       "      <td>0.10000</td>\n",
       "    </tr>\n",
       "  </tbody>\n",
       "</table>\n",
       "<p>9 rows × 2549 columns</p>\n",
       "</div>"
      ],
      "text/plain": [
       "          0          1     2     3     4         5         6         7     \\\n",
       "VALUE  0.10000    0.10000   0.1   0.1   0.1   0.10000   0.10000    0.1000   \n",
       "VALUE  0.10000    2.84215   0.1   0.1   0.1   0.10000   0.10000    0.1000   \n",
       "VALUE  0.10000    4.16109   0.1   0.1   0.1   0.10000   0.10000    0.1000   \n",
       "VALUE  0.10000    0.10000   0.1   0.1   0.1   0.10000   0.10000    0.1000   \n",
       "VALUE  1.55445    0.10000   0.1   0.1   0.1   0.10000   0.10000    0.1000   \n",
       "VALUE  0.10000    0.10000   0.1   0.1   0.1   0.10000   0.10000    0.1000   \n",
       "VALUE  0.10000  283.80890   0.1   0.1   0.1  63.38276  10.58558  124.8117   \n",
       "VALUE  0.10000  249.27970   0.1   0.1   0.1  68.02007   9.89041  107.1587   \n",
       "VALUE  0.10000    0.10000   0.1   0.1   0.1   0.10000   3.77247    0.1000   \n",
       "\n",
       "       8         9     ...  2539  2540  2541       2542  2543     2544  2545  \\\n",
       "VALUE   0.1   0.10000  ...   0.1   0.1   0.1    3.78867   0.1  0.10000   0.1   \n",
       "VALUE   0.1   0.10000  ...   0.1   0.1   0.1    9.53514   0.1  0.10000   0.1   \n",
       "VALUE   0.1   0.10000  ...   0.1   0.1   0.1    5.93378   0.1  0.10000   0.1   \n",
       "VALUE   0.1   0.10000  ...   0.1   0.1   0.1    0.10000   0.1  0.10000   0.1   \n",
       "VALUE   0.1   0.10000  ...   0.1   0.1   0.1    2.10564   0.1  0.10000   0.1   \n",
       "VALUE   0.1   0.10000  ...   0.1   0.1   0.1    0.10000   0.1  0.10000   0.1   \n",
       "VALUE   0.1  15.65303  ...   0.1   0.1   0.1  344.32600   0.1  6.70158   0.1   \n",
       "VALUE   0.1   2.45958  ...   0.1   0.1   0.1  394.66400   0.1  4.75734   0.1   \n",
       "VALUE   0.1   0.10000  ...   0.1   0.1   0.1    3.71492   0.1  0.10000   0.1   \n",
       "\n",
       "       2546  2547     2548  \n",
       "VALUE   0.1   0.1  0.10000  \n",
       "VALUE   0.1   0.1  0.10000  \n",
       "VALUE   0.1   0.1  0.10000  \n",
       "VALUE   0.1   0.1  0.10000  \n",
       "VALUE   0.1   0.1  0.10000  \n",
       "VALUE   0.1   0.1  0.10000  \n",
       "VALUE   0.1   0.1  2.75548  \n",
       "VALUE   0.1   0.1  0.10000  \n",
       "VALUE   0.1   0.1  0.10000  \n",
       "\n",
       "[9 rows x 2549 columns]"
      ]
     },
     "execution_count": 4,
     "metadata": {},
     "output_type": "execute_result"
    }
   ],
   "source": [
    "table"
   ]
  },
  {
   "cell_type": "markdown",
   "metadata": {},
   "source": [
    "### Seperate case and controls"
   ]
  },
  {
   "cell_type": "code",
   "execution_count": 5,
   "metadata": {},
   "outputs": [
    {
     "data": {
      "text/plain": [
       "{'title': ['Patient 2 257015610720_S01_ALK-neg-2'],\n",
       " 'geo_accession': ['GSM2477855'],\n",
       " 'status': ['Public on Feb 07 2017'],\n",
       " 'submission_date': ['Feb 06 2017'],\n",
       " 'last_update_date': ['Feb 07 2017'],\n",
       " 'type': ['RNA'],\n",
       " 'channel_count': ['1'],\n",
       " 'source_name_ch1': ['primary lung cancer'],\n",
       " 'organism_ch1': ['Homo sapiens'],\n",
       " 'taxid_ch1': ['9606'],\n",
       " 'characteristics_ch1': ['plasma: primary lung cancer',\n",
       "  'age: 43 years',\n",
       "  'gender: Female',\n",
       "  'smoking history: No',\n",
       "  'histology: Adenocarcinoma',\n",
       "  'clinical stage: IV',\n",
       "  'alk mutational status: ALK negative'],\n",
       " 'treatment_protocol_ch1': ['All the participants enrolled had 7ml peripheral venous blood samples collected in the fasting state at morning. Plasma was separated within 30 minutes since the sample collection with the centrifugation at 4,500Ã—g for 10 minutes at 4 â„ƒ and then stored immediately at -80â„ƒ for further measurements.'],\n",
       " 'growth_protocol_ch1': ['Not applicable'],\n",
       " 'molecule_ch1': ['total RNA'],\n",
       " 'extract_protocol_ch1': ['Total RNA containing miRNAs was isolated from 200Î¼l plasma with the QIAzol Lysis Reagent (QIAGEN) and purified with the miRNeasy Serum/Plasma Kit (QIAGEN) according to the manufacturerâ€²s instructions.'],\n",
       " 'label_ch1': ['Cy3'],\n",
       " 'label_protocol_ch1': [\"Cyanine-3 (Cy3) labeled cRNA was prepared from 0.5 ug RNA using the One-Color Low RNA Input Linear Amplification PLUS kit (Agilent) according to the manufacturer's instructions, followed by RNAeasy column purification (QIAGEN, Valencia, CA).  Dye incorporation and cRNA yield were checked with the NanoDrop ND-1000 Spectrophotometer.\"],\n",
       " 'hyb_protocol': ['1.5 ug of Cy3-labelled cRNA (specific activity >10.0 pmol Cy3/ug cRNA) was fragmented at 60Â°C for 30 minutes in a reaction volume of 250 ml containing 1x Agilent fragmentation buffer and 2x Agilent blocking agent following the manufacturers instructions. On completion of the fragmentation reaction, 250 ml of 2x Agilent hybridization buffer was added to the fragmentation mixture and hybridized to Agilent Whole Human Genome Oligo Microarrays (G4112A) for 17 hours at 65Ã‚Â°C in a rotating Agilent hybridization oven.  After hybridization, microarrays were washed 1 minute at room temperature with GE Wash Buffer 1 (Agilent) and 1 minute with 37Ã‚Â°C GE Wash buffer 2 (Agilent), then dried immediately by brief centrifugation.'],\n",
       " 'scan_protocol': ['Slides were scanned immediately after washing on the Agilent DNA Microarray Scanner (G2505B) using one color scan setting for 1x44k array slides (Scan Area 61x21.6 mm, Scan resolution 10um, Dye channel is set to Green and Green PMT is set to 100%).'],\n",
       " 'description': ['Gene expression in human plasma'],\n",
       " 'data_processing': ['The scanned images were analyzed with Feature Extraction Software 9.1 (Agilent) using default parameters (protocol GE1-v1_91 and Grid: 070156_D_F_20141006) to obtain background subtracted and spatially detrended Processed Signal intensities.  Features flagged in Feature Extraction as Feature Non-uniform outliers were excluded.'],\n",
       " 'platform_id': ['GPL21576'],\n",
       " 'contact_name': ['Xiao-Qing,,Liu'],\n",
       " 'contact_email': ['13381004722@163.com'],\n",
       " 'contact_department': ['Department of Lung Cancer'],\n",
       " 'contact_institute': ['Affiliated Hospital of Academy of Military Medical Sciences'],\n",
       " 'contact_address': ['8 Dongda Road'],\n",
       " 'contact_city': ['Beijing'],\n",
       " 'contact_zip/postal_code': ['100071'],\n",
       " 'contact_country': ['China'],\n",
       " 'supplementary_file': ['ftp://ftp.ncbi.nlm.nih.gov/geo/samples/GSM2477nnn/GSM2477855/suppl/GSM2477855_257015610720_S01_ALK-neg-2.txt.gz'],\n",
       " 'series_id': ['GSE94536'],\n",
       " 'data_row_count': ['2549']}"
      ]
     },
     "execution_count": 5,
     "metadata": {},
     "output_type": "execute_result"
    }
   ],
   "source": [
    "list(data.gsms.values())[1].metadata"
   ]
  },
  {
   "cell_type": "code",
   "execution_count": 6,
   "metadata": {},
   "outputs": [
    {
     "data": {
      "text/plain": [
       "{'plasma: healthy donor', 'plasma: primary lung cancer'}"
      ]
     },
     "execution_count": 6,
     "metadata": {},
     "output_type": "execute_result"
    }
   ],
   "source": [
    "set([k.metadata[\"characteristics_ch1\"][0] for k in list(data.gsms.values())])"
   ]
  },
  {
   "cell_type": "code",
   "execution_count": 7,
   "metadata": {},
   "outputs": [],
   "source": [
    "sick = np.array([\"cancer\" in k.metadata[\"characteristics_ch1\"][0] for k in list(data.gsms.values())])\n",
    "controls = 1 - sick"
   ]
  },
  {
   "cell_type": "code",
   "execution_count": 8,
   "metadata": {},
   "outputs": [
    {
     "data": {
      "text/plain": [
       "3"
      ]
     },
     "execution_count": 8,
     "metadata": {},
     "output_type": "execute_result"
    }
   ],
   "source": [
    "sum(controls)"
   ]
  },
  {
   "cell_type": "markdown",
   "metadata": {},
   "source": [
    "### Drop NAN"
   ]
  },
  {
   "cell_type": "code",
   "execution_count": 9,
   "metadata": {},
   "outputs": [],
   "source": [
    "mask = table.std() != 0\n",
    "table = table.loc[:, mask]\n",
    "mirnas = mirnas[mask]"
   ]
  },
  {
   "cell_type": "code",
   "execution_count": 10,
   "metadata": {},
   "outputs": [
    {
     "name": "stderr",
     "output_type": "stream",
     "text": [
      "C:\\Users\\olefr\\AppData\\Local\\Temp/ipykernel_26288/1927661217.py:1: FutureWarning: In a future version of pandas all arguments of DataFrame.dropna will be keyword-only\n",
      "  table = table.dropna(1)\n"
     ]
    }
   ],
   "source": [
    "table = table.dropna(1)"
   ]
  },
  {
   "cell_type": "markdown",
   "metadata": {},
   "source": [
    "### T-test"
   ]
  },
  {
   "cell_type": "code",
   "execution_count": 11,
   "metadata": {},
   "outputs": [],
   "source": [
    "X = table"
   ]
  },
  {
   "cell_type": "code",
   "execution_count": 12,
   "metadata": {},
   "outputs": [
    {
     "data": {
      "text/html": [
       "<div>\n",
       "<style scoped>\n",
       "    .dataframe tbody tr th:only-of-type {\n",
       "        vertical-align: middle;\n",
       "    }\n",
       "\n",
       "    .dataframe tbody tr th {\n",
       "        vertical-align: top;\n",
       "    }\n",
       "\n",
       "    .dataframe thead th {\n",
       "        text-align: right;\n",
       "    }\n",
       "</style>\n",
       "<table border=\"1\" class=\"dataframe\">\n",
       "  <thead>\n",
       "    <tr style=\"text-align: right;\">\n",
       "      <th></th>\n",
       "      <th>0</th>\n",
       "      <th>1</th>\n",
       "      <th>5</th>\n",
       "      <th>6</th>\n",
       "      <th>7</th>\n",
       "      <th>9</th>\n",
       "      <th>12</th>\n",
       "      <th>14</th>\n",
       "      <th>16</th>\n",
       "      <th>19</th>\n",
       "      <th>...</th>\n",
       "      <th>2516</th>\n",
       "      <th>2519</th>\n",
       "      <th>2523</th>\n",
       "      <th>2526</th>\n",
       "      <th>2529</th>\n",
       "      <th>2531</th>\n",
       "      <th>2532</th>\n",
       "      <th>2542</th>\n",
       "      <th>2544</th>\n",
       "      <th>2548</th>\n",
       "    </tr>\n",
       "  </thead>\n",
       "  <tbody>\n",
       "    <tr>\n",
       "      <th>VALUE</th>\n",
       "      <td>0.10000</td>\n",
       "      <td>0.10000</td>\n",
       "      <td>0.10000</td>\n",
       "      <td>0.10000</td>\n",
       "      <td>0.1000</td>\n",
       "      <td>0.10000</td>\n",
       "      <td>0.10000</td>\n",
       "      <td>0.10000</td>\n",
       "      <td>2.81054</td>\n",
       "      <td>0.10000</td>\n",
       "      <td>...</td>\n",
       "      <td>119.19110</td>\n",
       "      <td>0.10000</td>\n",
       "      <td>5.03178</td>\n",
       "      <td>0.10000</td>\n",
       "      <td>1.84522</td>\n",
       "      <td>9.35345</td>\n",
       "      <td>0.10000</td>\n",
       "      <td>3.78867</td>\n",
       "      <td>0.10000</td>\n",
       "      <td>0.10000</td>\n",
       "    </tr>\n",
       "    <tr>\n",
       "      <th>VALUE</th>\n",
       "      <td>0.10000</td>\n",
       "      <td>2.84215</td>\n",
       "      <td>0.10000</td>\n",
       "      <td>0.10000</td>\n",
       "      <td>0.1000</td>\n",
       "      <td>0.10000</td>\n",
       "      <td>3.48693</td>\n",
       "      <td>2.85913</td>\n",
       "      <td>8.86201</td>\n",
       "      <td>0.10000</td>\n",
       "      <td>...</td>\n",
       "      <td>74.26930</td>\n",
       "      <td>0.10000</td>\n",
       "      <td>8.81913</td>\n",
       "      <td>0.10000</td>\n",
       "      <td>3.32140</td>\n",
       "      <td>4.58324</td>\n",
       "      <td>0.10000</td>\n",
       "      <td>9.53514</td>\n",
       "      <td>0.10000</td>\n",
       "      <td>0.10000</td>\n",
       "    </tr>\n",
       "    <tr>\n",
       "      <th>VALUE</th>\n",
       "      <td>0.10000</td>\n",
       "      <td>4.16109</td>\n",
       "      <td>0.10000</td>\n",
       "      <td>0.10000</td>\n",
       "      <td>0.1000</td>\n",
       "      <td>0.10000</td>\n",
       "      <td>4.04358</td>\n",
       "      <td>2.80796</td>\n",
       "      <td>7.24243</td>\n",
       "      <td>0.10000</td>\n",
       "      <td>...</td>\n",
       "      <td>38.17760</td>\n",
       "      <td>0.10000</td>\n",
       "      <td>3.63730</td>\n",
       "      <td>0.10000</td>\n",
       "      <td>0.10000</td>\n",
       "      <td>7.84305</td>\n",
       "      <td>0.10000</td>\n",
       "      <td>5.93378</td>\n",
       "      <td>0.10000</td>\n",
       "      <td>0.10000</td>\n",
       "    </tr>\n",
       "    <tr>\n",
       "      <th>VALUE</th>\n",
       "      <td>0.10000</td>\n",
       "      <td>0.10000</td>\n",
       "      <td>0.10000</td>\n",
       "      <td>0.10000</td>\n",
       "      <td>0.1000</td>\n",
       "      <td>0.10000</td>\n",
       "      <td>0.10000</td>\n",
       "      <td>0.10000</td>\n",
       "      <td>0.10000</td>\n",
       "      <td>0.10000</td>\n",
       "      <td>...</td>\n",
       "      <td>20.03903</td>\n",
       "      <td>0.10000</td>\n",
       "      <td>2.25616</td>\n",
       "      <td>0.10000</td>\n",
       "      <td>0.10000</td>\n",
       "      <td>3.04235</td>\n",
       "      <td>1.56216</td>\n",
       "      <td>0.10000</td>\n",
       "      <td>0.10000</td>\n",
       "      <td>0.10000</td>\n",
       "    </tr>\n",
       "    <tr>\n",
       "      <th>VALUE</th>\n",
       "      <td>1.55445</td>\n",
       "      <td>0.10000</td>\n",
       "      <td>0.10000</td>\n",
       "      <td>0.10000</td>\n",
       "      <td>0.1000</td>\n",
       "      <td>0.10000</td>\n",
       "      <td>0.10000</td>\n",
       "      <td>0.10000</td>\n",
       "      <td>0.10000</td>\n",
       "      <td>0.10000</td>\n",
       "      <td>...</td>\n",
       "      <td>24.17352</td>\n",
       "      <td>1.25686</td>\n",
       "      <td>0.10000</td>\n",
       "      <td>3.59980</td>\n",
       "      <td>8.85093</td>\n",
       "      <td>11.77476</td>\n",
       "      <td>0.10000</td>\n",
       "      <td>2.10564</td>\n",
       "      <td>0.10000</td>\n",
       "      <td>0.10000</td>\n",
       "    </tr>\n",
       "    <tr>\n",
       "      <th>VALUE</th>\n",
       "      <td>0.10000</td>\n",
       "      <td>0.10000</td>\n",
       "      <td>0.10000</td>\n",
       "      <td>0.10000</td>\n",
       "      <td>0.1000</td>\n",
       "      <td>0.10000</td>\n",
       "      <td>0.10000</td>\n",
       "      <td>0.10000</td>\n",
       "      <td>0.10000</td>\n",
       "      <td>0.10000</td>\n",
       "      <td>...</td>\n",
       "      <td>6.70371</td>\n",
       "      <td>0.10000</td>\n",
       "      <td>0.10000</td>\n",
       "      <td>0.10000</td>\n",
       "      <td>0.10000</td>\n",
       "      <td>5.57755</td>\n",
       "      <td>0.10000</td>\n",
       "      <td>0.10000</td>\n",
       "      <td>0.10000</td>\n",
       "      <td>0.10000</td>\n",
       "    </tr>\n",
       "    <tr>\n",
       "      <th>VALUE</th>\n",
       "      <td>0.10000</td>\n",
       "      <td>283.80890</td>\n",
       "      <td>63.38276</td>\n",
       "      <td>10.58558</td>\n",
       "      <td>124.8117</td>\n",
       "      <td>15.65303</td>\n",
       "      <td>188.35280</td>\n",
       "      <td>114.28900</td>\n",
       "      <td>222.61160</td>\n",
       "      <td>3.33573</td>\n",
       "      <td>...</td>\n",
       "      <td>368.86600</td>\n",
       "      <td>0.10000</td>\n",
       "      <td>82.53000</td>\n",
       "      <td>6.89714</td>\n",
       "      <td>15.07545</td>\n",
       "      <td>7.70800</td>\n",
       "      <td>0.10000</td>\n",
       "      <td>344.32600</td>\n",
       "      <td>6.70158</td>\n",
       "      <td>2.75548</td>\n",
       "    </tr>\n",
       "    <tr>\n",
       "      <th>VALUE</th>\n",
       "      <td>0.10000</td>\n",
       "      <td>249.27970</td>\n",
       "      <td>68.02007</td>\n",
       "      <td>9.89041</td>\n",
       "      <td>107.1587</td>\n",
       "      <td>2.45958</td>\n",
       "      <td>144.14910</td>\n",
       "      <td>100.13010</td>\n",
       "      <td>235.91000</td>\n",
       "      <td>2.64779</td>\n",
       "      <td>...</td>\n",
       "      <td>470.08000</td>\n",
       "      <td>0.10000</td>\n",
       "      <td>103.08610</td>\n",
       "      <td>8.66296</td>\n",
       "      <td>23.73170</td>\n",
       "      <td>11.11048</td>\n",
       "      <td>0.10000</td>\n",
       "      <td>394.66400</td>\n",
       "      <td>4.75734</td>\n",
       "      <td>0.10000</td>\n",
       "    </tr>\n",
       "    <tr>\n",
       "      <th>VALUE</th>\n",
       "      <td>0.10000</td>\n",
       "      <td>0.10000</td>\n",
       "      <td>0.10000</td>\n",
       "      <td>3.77247</td>\n",
       "      <td>0.1000</td>\n",
       "      <td>0.10000</td>\n",
       "      <td>1.66250</td>\n",
       "      <td>0.10000</td>\n",
       "      <td>0.10000</td>\n",
       "      <td>0.10000</td>\n",
       "      <td>...</td>\n",
       "      <td>85.64210</td>\n",
       "      <td>0.10000</td>\n",
       "      <td>2.14897</td>\n",
       "      <td>4.22067</td>\n",
       "      <td>6.49181</td>\n",
       "      <td>14.77457</td>\n",
       "      <td>0.10000</td>\n",
       "      <td>3.71492</td>\n",
       "      <td>0.10000</td>\n",
       "      <td>0.10000</td>\n",
       "    </tr>\n",
       "  </tbody>\n",
       "</table>\n",
       "<p>9 rows × 454 columns</p>\n",
       "</div>"
      ],
      "text/plain": [
       "          0          1         5         6         7         9          12    \\\n",
       "VALUE  0.10000    0.10000   0.10000   0.10000    0.1000   0.10000    0.10000   \n",
       "VALUE  0.10000    2.84215   0.10000   0.10000    0.1000   0.10000    3.48693   \n",
       "VALUE  0.10000    4.16109   0.10000   0.10000    0.1000   0.10000    4.04358   \n",
       "VALUE  0.10000    0.10000   0.10000   0.10000    0.1000   0.10000    0.10000   \n",
       "VALUE  1.55445    0.10000   0.10000   0.10000    0.1000   0.10000    0.10000   \n",
       "VALUE  0.10000    0.10000   0.10000   0.10000    0.1000   0.10000    0.10000   \n",
       "VALUE  0.10000  283.80890  63.38276  10.58558  124.8117  15.65303  188.35280   \n",
       "VALUE  0.10000  249.27970  68.02007   9.89041  107.1587   2.45958  144.14910   \n",
       "VALUE  0.10000    0.10000   0.10000   3.77247    0.1000   0.10000    1.66250   \n",
       "\n",
       "            14         16       19    ...       2516     2519       2523  \\\n",
       "VALUE    0.10000    2.81054  0.10000  ...  119.19110  0.10000    5.03178   \n",
       "VALUE    2.85913    8.86201  0.10000  ...   74.26930  0.10000    8.81913   \n",
       "VALUE    2.80796    7.24243  0.10000  ...   38.17760  0.10000    3.63730   \n",
       "VALUE    0.10000    0.10000  0.10000  ...   20.03903  0.10000    2.25616   \n",
       "VALUE    0.10000    0.10000  0.10000  ...   24.17352  1.25686    0.10000   \n",
       "VALUE    0.10000    0.10000  0.10000  ...    6.70371  0.10000    0.10000   \n",
       "VALUE  114.28900  222.61160  3.33573  ...  368.86600  0.10000   82.53000   \n",
       "VALUE  100.13010  235.91000  2.64779  ...  470.08000  0.10000  103.08610   \n",
       "VALUE    0.10000    0.10000  0.10000  ...   85.64210  0.10000    2.14897   \n",
       "\n",
       "          2526      2529      2531     2532       2542     2544     2548  \n",
       "VALUE  0.10000   1.84522   9.35345  0.10000    3.78867  0.10000  0.10000  \n",
       "VALUE  0.10000   3.32140   4.58324  0.10000    9.53514  0.10000  0.10000  \n",
       "VALUE  0.10000   0.10000   7.84305  0.10000    5.93378  0.10000  0.10000  \n",
       "VALUE  0.10000   0.10000   3.04235  1.56216    0.10000  0.10000  0.10000  \n",
       "VALUE  3.59980   8.85093  11.77476  0.10000    2.10564  0.10000  0.10000  \n",
       "VALUE  0.10000   0.10000   5.57755  0.10000    0.10000  0.10000  0.10000  \n",
       "VALUE  6.89714  15.07545   7.70800  0.10000  344.32600  6.70158  2.75548  \n",
       "VALUE  8.66296  23.73170  11.11048  0.10000  394.66400  4.75734  0.10000  \n",
       "VALUE  4.22067   6.49181  14.77457  0.10000    3.71492  0.10000  0.10000  \n",
       "\n",
       "[9 rows x 454 columns]"
      ]
     },
     "execution_count": 12,
     "metadata": {},
     "output_type": "execute_result"
    }
   ],
   "source": [
    "X"
   ]
  },
  {
   "cell_type": "code",
   "execution_count": 13,
   "metadata": {},
   "outputs": [],
   "source": [
    "X_healthy, X_cancer = X[controls == 1], X[sick == 1]"
   ]
  },
  {
   "cell_type": "code",
   "execution_count": 14,
   "metadata": {},
   "outputs": [],
   "source": [
    "results = ttest_ind(X_healthy, X_cancer).pvalue"
   ]
  },
  {
   "cell_type": "code",
   "execution_count": 15,
   "metadata": {},
   "outputs": [],
   "source": [
    "lowest, pvalues = np.argsort(results)[:5], np.sort(results)[:5]"
   ]
  },
  {
   "cell_type": "code",
   "execution_count": 16,
   "metadata": {},
   "outputs": [
    {
     "data": {
      "text/plain": [
       "(1220    A_25_P00016339\n",
       " 1091    A_25_P00017131\n",
       " 1440    A_25_P00010431\n",
       " 126     A_25_P00015195\n",
       " 1863    A_25_P00017983\n",
       " Name: ID_REF, dtype: object,\n",
       " array([2.20065395e-08, 1.63215772e-07, 1.36146586e-06, 2.99123328e-06,\n",
       "        3.26820982e-06]))"
      ]
     },
     "execution_count": 16,
     "metadata": {},
     "output_type": "execute_result"
    }
   ],
   "source": [
    "mirnas.iloc[lowest], pvalues"
   ]
  },
  {
   "cell_type": "markdown",
   "metadata": {},
   "source": [
    "### F-test"
   ]
  },
  {
   "cell_type": "code",
   "execution_count": 17,
   "metadata": {},
   "outputs": [],
   "source": [
    "t3 = table"
   ]
  },
  {
   "cell_type": "code",
   "execution_count": 18,
   "metadata": {},
   "outputs": [],
   "source": [
    "f, p = f_classif(t3, sick)"
   ]
  },
  {
   "cell_type": "code",
   "execution_count": 19,
   "metadata": {},
   "outputs": [
    {
     "data": {
      "text/plain": [
       "0.15056040848702015"
      ]
     },
     "execution_count": 19,
     "metadata": {},
     "output_type": "execute_result"
    }
   ],
   "source": [
    "np.mean(p)"
   ]
  },
  {
   "cell_type": "markdown",
   "metadata": {},
   "source": [
    "### ANOVA"
   ]
  },
  {
   "cell_type": "code",
   "execution_count": 20,
   "metadata": {},
   "outputs": [
    {
     "data": {
      "text/html": [
       "<div>\n",
       "<style scoped>\n",
       "    .dataframe tbody tr th:only-of-type {\n",
       "        vertical-align: middle;\n",
       "    }\n",
       "\n",
       "    .dataframe tbody tr th {\n",
       "        vertical-align: top;\n",
       "    }\n",
       "\n",
       "    .dataframe thead th {\n",
       "        text-align: right;\n",
       "    }\n",
       "</style>\n",
       "<table border=\"1\" class=\"dataframe\">\n",
       "  <thead>\n",
       "    <tr style=\"text-align: right;\">\n",
       "      <th></th>\n",
       "      <th>0</th>\n",
       "      <th>1</th>\n",
       "      <th>5</th>\n",
       "      <th>6</th>\n",
       "      <th>7</th>\n",
       "      <th>9</th>\n",
       "      <th>12</th>\n",
       "      <th>14</th>\n",
       "      <th>16</th>\n",
       "      <th>19</th>\n",
       "      <th>...</th>\n",
       "      <th>2516</th>\n",
       "      <th>2519</th>\n",
       "      <th>2523</th>\n",
       "      <th>2526</th>\n",
       "      <th>2529</th>\n",
       "      <th>2531</th>\n",
       "      <th>2532</th>\n",
       "      <th>2542</th>\n",
       "      <th>2544</th>\n",
       "      <th>2548</th>\n",
       "    </tr>\n",
       "  </thead>\n",
       "  <tbody>\n",
       "    <tr>\n",
       "      <th>VALUE</th>\n",
       "      <td>0.10000</td>\n",
       "      <td>0.10000</td>\n",
       "      <td>0.10000</td>\n",
       "      <td>0.10000</td>\n",
       "      <td>0.1000</td>\n",
       "      <td>0.10000</td>\n",
       "      <td>0.10000</td>\n",
       "      <td>0.10000</td>\n",
       "      <td>2.81054</td>\n",
       "      <td>0.10000</td>\n",
       "      <td>...</td>\n",
       "      <td>119.19110</td>\n",
       "      <td>0.10000</td>\n",
       "      <td>5.03178</td>\n",
       "      <td>0.10000</td>\n",
       "      <td>1.84522</td>\n",
       "      <td>9.35345</td>\n",
       "      <td>0.10000</td>\n",
       "      <td>3.78867</td>\n",
       "      <td>0.10000</td>\n",
       "      <td>0.10000</td>\n",
       "    </tr>\n",
       "    <tr>\n",
       "      <th>VALUE</th>\n",
       "      <td>0.10000</td>\n",
       "      <td>2.84215</td>\n",
       "      <td>0.10000</td>\n",
       "      <td>0.10000</td>\n",
       "      <td>0.1000</td>\n",
       "      <td>0.10000</td>\n",
       "      <td>3.48693</td>\n",
       "      <td>2.85913</td>\n",
       "      <td>8.86201</td>\n",
       "      <td>0.10000</td>\n",
       "      <td>...</td>\n",
       "      <td>74.26930</td>\n",
       "      <td>0.10000</td>\n",
       "      <td>8.81913</td>\n",
       "      <td>0.10000</td>\n",
       "      <td>3.32140</td>\n",
       "      <td>4.58324</td>\n",
       "      <td>0.10000</td>\n",
       "      <td>9.53514</td>\n",
       "      <td>0.10000</td>\n",
       "      <td>0.10000</td>\n",
       "    </tr>\n",
       "    <tr>\n",
       "      <th>VALUE</th>\n",
       "      <td>0.10000</td>\n",
       "      <td>4.16109</td>\n",
       "      <td>0.10000</td>\n",
       "      <td>0.10000</td>\n",
       "      <td>0.1000</td>\n",
       "      <td>0.10000</td>\n",
       "      <td>4.04358</td>\n",
       "      <td>2.80796</td>\n",
       "      <td>7.24243</td>\n",
       "      <td>0.10000</td>\n",
       "      <td>...</td>\n",
       "      <td>38.17760</td>\n",
       "      <td>0.10000</td>\n",
       "      <td>3.63730</td>\n",
       "      <td>0.10000</td>\n",
       "      <td>0.10000</td>\n",
       "      <td>7.84305</td>\n",
       "      <td>0.10000</td>\n",
       "      <td>5.93378</td>\n",
       "      <td>0.10000</td>\n",
       "      <td>0.10000</td>\n",
       "    </tr>\n",
       "    <tr>\n",
       "      <th>VALUE</th>\n",
       "      <td>0.10000</td>\n",
       "      <td>0.10000</td>\n",
       "      <td>0.10000</td>\n",
       "      <td>0.10000</td>\n",
       "      <td>0.1000</td>\n",
       "      <td>0.10000</td>\n",
       "      <td>0.10000</td>\n",
       "      <td>0.10000</td>\n",
       "      <td>0.10000</td>\n",
       "      <td>0.10000</td>\n",
       "      <td>...</td>\n",
       "      <td>20.03903</td>\n",
       "      <td>0.10000</td>\n",
       "      <td>2.25616</td>\n",
       "      <td>0.10000</td>\n",
       "      <td>0.10000</td>\n",
       "      <td>3.04235</td>\n",
       "      <td>1.56216</td>\n",
       "      <td>0.10000</td>\n",
       "      <td>0.10000</td>\n",
       "      <td>0.10000</td>\n",
       "    </tr>\n",
       "    <tr>\n",
       "      <th>VALUE</th>\n",
       "      <td>1.55445</td>\n",
       "      <td>0.10000</td>\n",
       "      <td>0.10000</td>\n",
       "      <td>0.10000</td>\n",
       "      <td>0.1000</td>\n",
       "      <td>0.10000</td>\n",
       "      <td>0.10000</td>\n",
       "      <td>0.10000</td>\n",
       "      <td>0.10000</td>\n",
       "      <td>0.10000</td>\n",
       "      <td>...</td>\n",
       "      <td>24.17352</td>\n",
       "      <td>1.25686</td>\n",
       "      <td>0.10000</td>\n",
       "      <td>3.59980</td>\n",
       "      <td>8.85093</td>\n",
       "      <td>11.77476</td>\n",
       "      <td>0.10000</td>\n",
       "      <td>2.10564</td>\n",
       "      <td>0.10000</td>\n",
       "      <td>0.10000</td>\n",
       "    </tr>\n",
       "    <tr>\n",
       "      <th>VALUE</th>\n",
       "      <td>0.10000</td>\n",
       "      <td>0.10000</td>\n",
       "      <td>0.10000</td>\n",
       "      <td>0.10000</td>\n",
       "      <td>0.1000</td>\n",
       "      <td>0.10000</td>\n",
       "      <td>0.10000</td>\n",
       "      <td>0.10000</td>\n",
       "      <td>0.10000</td>\n",
       "      <td>0.10000</td>\n",
       "      <td>...</td>\n",
       "      <td>6.70371</td>\n",
       "      <td>0.10000</td>\n",
       "      <td>0.10000</td>\n",
       "      <td>0.10000</td>\n",
       "      <td>0.10000</td>\n",
       "      <td>5.57755</td>\n",
       "      <td>0.10000</td>\n",
       "      <td>0.10000</td>\n",
       "      <td>0.10000</td>\n",
       "      <td>0.10000</td>\n",
       "    </tr>\n",
       "    <tr>\n",
       "      <th>VALUE</th>\n",
       "      <td>0.10000</td>\n",
       "      <td>283.80890</td>\n",
       "      <td>63.38276</td>\n",
       "      <td>10.58558</td>\n",
       "      <td>124.8117</td>\n",
       "      <td>15.65303</td>\n",
       "      <td>188.35280</td>\n",
       "      <td>114.28900</td>\n",
       "      <td>222.61160</td>\n",
       "      <td>3.33573</td>\n",
       "      <td>...</td>\n",
       "      <td>368.86600</td>\n",
       "      <td>0.10000</td>\n",
       "      <td>82.53000</td>\n",
       "      <td>6.89714</td>\n",
       "      <td>15.07545</td>\n",
       "      <td>7.70800</td>\n",
       "      <td>0.10000</td>\n",
       "      <td>344.32600</td>\n",
       "      <td>6.70158</td>\n",
       "      <td>2.75548</td>\n",
       "    </tr>\n",
       "    <tr>\n",
       "      <th>VALUE</th>\n",
       "      <td>0.10000</td>\n",
       "      <td>249.27970</td>\n",
       "      <td>68.02007</td>\n",
       "      <td>9.89041</td>\n",
       "      <td>107.1587</td>\n",
       "      <td>2.45958</td>\n",
       "      <td>144.14910</td>\n",
       "      <td>100.13010</td>\n",
       "      <td>235.91000</td>\n",
       "      <td>2.64779</td>\n",
       "      <td>...</td>\n",
       "      <td>470.08000</td>\n",
       "      <td>0.10000</td>\n",
       "      <td>103.08610</td>\n",
       "      <td>8.66296</td>\n",
       "      <td>23.73170</td>\n",
       "      <td>11.11048</td>\n",
       "      <td>0.10000</td>\n",
       "      <td>394.66400</td>\n",
       "      <td>4.75734</td>\n",
       "      <td>0.10000</td>\n",
       "    </tr>\n",
       "    <tr>\n",
       "      <th>VALUE</th>\n",
       "      <td>0.10000</td>\n",
       "      <td>0.10000</td>\n",
       "      <td>0.10000</td>\n",
       "      <td>3.77247</td>\n",
       "      <td>0.1000</td>\n",
       "      <td>0.10000</td>\n",
       "      <td>1.66250</td>\n",
       "      <td>0.10000</td>\n",
       "      <td>0.10000</td>\n",
       "      <td>0.10000</td>\n",
       "      <td>...</td>\n",
       "      <td>85.64210</td>\n",
       "      <td>0.10000</td>\n",
       "      <td>2.14897</td>\n",
       "      <td>4.22067</td>\n",
       "      <td>6.49181</td>\n",
       "      <td>14.77457</td>\n",
       "      <td>0.10000</td>\n",
       "      <td>3.71492</td>\n",
       "      <td>0.10000</td>\n",
       "      <td>0.10000</td>\n",
       "    </tr>\n",
       "  </tbody>\n",
       "</table>\n",
       "<p>9 rows × 454 columns</p>\n",
       "</div>"
      ],
      "text/plain": [
       "          0          1         5         6         7         9          12    \\\n",
       "VALUE  0.10000    0.10000   0.10000   0.10000    0.1000   0.10000    0.10000   \n",
       "VALUE  0.10000    2.84215   0.10000   0.10000    0.1000   0.10000    3.48693   \n",
       "VALUE  0.10000    4.16109   0.10000   0.10000    0.1000   0.10000    4.04358   \n",
       "VALUE  0.10000    0.10000   0.10000   0.10000    0.1000   0.10000    0.10000   \n",
       "VALUE  1.55445    0.10000   0.10000   0.10000    0.1000   0.10000    0.10000   \n",
       "VALUE  0.10000    0.10000   0.10000   0.10000    0.1000   0.10000    0.10000   \n",
       "VALUE  0.10000  283.80890  63.38276  10.58558  124.8117  15.65303  188.35280   \n",
       "VALUE  0.10000  249.27970  68.02007   9.89041  107.1587   2.45958  144.14910   \n",
       "VALUE  0.10000    0.10000   0.10000   3.77247    0.1000   0.10000    1.66250   \n",
       "\n",
       "            14         16       19    ...       2516     2519       2523  \\\n",
       "VALUE    0.10000    2.81054  0.10000  ...  119.19110  0.10000    5.03178   \n",
       "VALUE    2.85913    8.86201  0.10000  ...   74.26930  0.10000    8.81913   \n",
       "VALUE    2.80796    7.24243  0.10000  ...   38.17760  0.10000    3.63730   \n",
       "VALUE    0.10000    0.10000  0.10000  ...   20.03903  0.10000    2.25616   \n",
       "VALUE    0.10000    0.10000  0.10000  ...   24.17352  1.25686    0.10000   \n",
       "VALUE    0.10000    0.10000  0.10000  ...    6.70371  0.10000    0.10000   \n",
       "VALUE  114.28900  222.61160  3.33573  ...  368.86600  0.10000   82.53000   \n",
       "VALUE  100.13010  235.91000  2.64779  ...  470.08000  0.10000  103.08610   \n",
       "VALUE    0.10000    0.10000  0.10000  ...   85.64210  0.10000    2.14897   \n",
       "\n",
       "          2526      2529      2531     2532       2542     2544     2548  \n",
       "VALUE  0.10000   1.84522   9.35345  0.10000    3.78867  0.10000  0.10000  \n",
       "VALUE  0.10000   3.32140   4.58324  0.10000    9.53514  0.10000  0.10000  \n",
       "VALUE  0.10000   0.10000   7.84305  0.10000    5.93378  0.10000  0.10000  \n",
       "VALUE  0.10000   0.10000   3.04235  1.56216    0.10000  0.10000  0.10000  \n",
       "VALUE  3.59980   8.85093  11.77476  0.10000    2.10564  0.10000  0.10000  \n",
       "VALUE  0.10000   0.10000   5.57755  0.10000    0.10000  0.10000  0.10000  \n",
       "VALUE  6.89714  15.07545   7.70800  0.10000  344.32600  6.70158  2.75548  \n",
       "VALUE  8.66296  23.73170  11.11048  0.10000  394.66400  4.75734  0.10000  \n",
       "VALUE  4.22067   6.49181  14.77457  0.10000    3.71492  0.10000  0.10000  \n",
       "\n",
       "[9 rows x 454 columns]"
      ]
     },
     "execution_count": 20,
     "metadata": {},
     "output_type": "execute_result"
    }
   ],
   "source": [
    "t3"
   ]
  },
  {
   "cell_type": "code",
   "execution_count": 21,
   "metadata": {},
   "outputs": [],
   "source": [
    "X = np.array(sick).reshape(-1, 1)"
   ]
  },
  {
   "cell_type": "code",
   "execution_count": 22,
   "metadata": {},
   "outputs": [
    {
     "data": {
      "text/plain": [
       "LinearRegression()"
      ]
     },
     "execution_count": 22,
     "metadata": {},
     "output_type": "execute_result"
    }
   ],
   "source": [
    "linreg = LinearRegression()\n",
    "linreg.fit(X, t3)"
   ]
  },
  {
   "cell_type": "code",
   "execution_count": 23,
   "metadata": {},
   "outputs": [
    {
     "data": {
      "text/plain": [
       "0.4753435358031404"
      ]
     },
     "execution_count": 23,
     "metadata": {},
     "output_type": "execute_result"
    }
   ],
   "source": [
    "fitted = linreg.predict(X)\n",
    "explained_variance_score(t3, fitted)"
   ]
  },
  {
   "cell_type": "markdown",
   "metadata": {},
   "source": [
    "### Mean-variance-plot"
   ]
  },
  {
   "cell_type": "code",
   "execution_count": 24,
   "metadata": {},
   "outputs": [
    {
     "data": {
      "text/plain": [
       "0        0.261606\n",
       "1       60.065760\n",
       "5       14.678092\n",
       "6        2.760940\n",
       "7       25.852267\n",
       "          ...    \n",
       "2531     8.418606\n",
       "2532     0.262462\n",
       "2542    84.918683\n",
       "2544     1.350991\n",
       "2548     0.395053\n",
       "Length: 454, dtype: float64"
      ]
     },
     "execution_count": 24,
     "metadata": {},
     "output_type": "execute_result"
    }
   ],
   "source": [
    "np.mean(table)"
   ]
  },
  {
   "cell_type": "code",
   "execution_count": 25,
   "metadata": {
    "tags": []
   },
   "outputs": [],
   "source": [
    "def get_means_and_variances(table):\n",
    "    return np.mean(table), np.var(table, ddof=1)"
   ]
  },
  {
   "cell_type": "code",
   "execution_count": 26,
   "metadata": {
    "tags": []
   },
   "outputs": [],
   "source": [
    "def mean_variance_plot(table):\n",
    "    means, variances = get_means_and_variances(table)\n",
    "    plt.scatter(means, variances)\n",
    "    plt.xlabel(\"mean\")\n",
    "    plt.ylabel(\"variance\")\n",
    "    plt.plot()"
   ]
  },
  {
   "cell_type": "code",
   "execution_count": 27,
   "metadata": {},
   "outputs": [
    {
     "data": {
      "image/png": "[encoded data removed]",
      "text/plain": [
       "<Figure size 432x288 with 1 Axes>"
      ]
     },
     "metadata": {
      "needs_background": "light"
     },
     "output_type": "display_data"
    }
   ],
   "source": [
    "mean_variance_plot(table)"
   ]
  },
  {
   "cell_type": "markdown",
   "metadata": {
    "tags": []
   },
   "source": [
    "### Log transformation"
   ]
  },
  {
   "cell_type": "code",
   "execution_count": 28,
   "metadata": {},
   "outputs": [],
   "source": [
    "log_table = table #np.log2(table)"
   ]
  },
  {
   "cell_type": "code",
   "execution_count": 29,
   "metadata": {},
   "outputs": [
    {
     "data": {
      "image/png": "[encoded data removed]",
      "text/plain": [
       "<Figure size 432x288 with 1 Axes>"
      ]
     },
     "metadata": {
      "needs_background": "light"
     },
     "output_type": "display_data"
    }
   ],
   "source": [
    "mean_variance_plot(log_table)"
   ]
  },
  {
   "cell_type": "markdown",
   "metadata": {
    "tags": []
   },
   "source": [
    "### Loess regression"
   ]
  },
  {
   "cell_type": "code",
   "execution_count": 30,
   "metadata": {
    "tags": []
   },
   "outputs": [],
   "source": [
    "lowess = LowessRegression(sigma=1, span=0.1)"
   ]
  },
  {
   "cell_type": "code",
   "execution_count": 31,
   "metadata": {},
   "outputs": [
    {
     "data": {
      "text/plain": [
       "LowessRegression(span=0.1)"
      ]
     },
     "execution_count": 31,
     "metadata": {},
     "output_type": "execute_result"
    }
   ],
   "source": [
    "means, variances = get_means_and_variances(log_table)\n",
    "lowess.fit(means.to_numpy().reshape(-1,1), variances)"
   ]
  },
  {
   "cell_type": "code",
   "execution_count": 32,
   "metadata": {},
   "outputs": [],
   "source": [
    "x_axis = np.linspace(-2, 14, 100)\n",
    "y_axis = lowess.predict(x_axis.reshape(-1,1))"
   ]
  },
  {
   "cell_type": "code",
   "execution_count": 33,
   "metadata": {},
   "outputs": [
    {
     "data": {
      "text/plain": [
       "[]"
      ]
     },
     "execution_count": 33,
     "metadata": {},
     "output_type": "execute_result"
    },
    {
     "data": {
      "image/png": "[encoded data removed]",
      "text/plain": [
       "<Figure size 432x288 with 1 Axes>"
      ]
     },
     "metadata": {
      "needs_background": "light"
     },
     "output_type": "display_data"
    }
   ],
   "source": [
    "plt.scatter(means, variances, color=\"b\")\n",
    "plt.scatter(x_axis, y_axis, color=\"y\")\n",
    "plt.xlabel(\"mean\")\n",
    "plt.ylabel(\"variance\")\n",
    "plt.legend([\"Sample points\", \"Lowess regression\"])\n",
    "plt.plot()"
   ]
  },
  {
   "cell_type": "code",
   "execution_count": 34,
   "metadata": {},
   "outputs": [],
   "source": [
    "norm_log_table = log_table #- np.mean(log_table)"
   ]
  },
  {
   "cell_type": "code",
   "execution_count": 35,
   "metadata": {},
   "outputs": [],
   "source": [
    "#norm_log_table /= np.sqrt(np.mean(np.var(norm_log_table, ddof=1)))"
   ]
  },
  {
   "cell_type": "code",
   "execution_count": 36,
   "metadata": {},
   "outputs": [
    {
     "data": {
      "image/png": "[encoded data removed]",
      "text/plain": [
       "<Figure size 432x288 with 1 Axes>"
      ]
     },
     "metadata": {
      "needs_background": "light"
     },
     "output_type": "display_data"
    }
   ],
   "source": [
    "mean_variance_plot(norm_log_table)"
   ]
  },
  {
   "cell_type": "markdown",
   "metadata": {},
   "source": [
    "### PCA"
   ]
  },
  {
   "cell_type": "code",
   "execution_count": 37,
   "metadata": {
    "tags": []
   },
   "outputs": [],
   "source": [
    "pca = decomposition.PCA(n_components=2)"
   ]
  },
  {
   "cell_type": "code",
   "execution_count": 38,
   "metadata": {},
   "outputs": [
    {
     "data": {
      "text/plain": [
       "PCA(n_components=2)"
      ]
     },
     "execution_count": 38,
     "metadata": {},
     "output_type": "execute_result"
    }
   ],
   "source": [
    "pca.fit(norm_log_table)"
   ]
  },
  {
   "cell_type": "code",
   "execution_count": 39,
   "metadata": {},
   "outputs": [
    {
     "data": {
      "text/plain": [
       "array([0.8002302 , 0.16125823])"
      ]
     },
     "execution_count": 39,
     "metadata": {},
     "output_type": "execute_result"
    }
   ],
   "source": [
    "pca.explained_variance_ratio_"
   ]
  },
  {
   "cell_type": "code",
   "execution_count": 40,
   "metadata": {
    "tags": []
   },
   "outputs": [],
   "source": [
    "components = pca.transform(norm_log_table)"
   ]
  },
  {
   "cell_type": "code",
   "execution_count": 41,
   "metadata": {},
   "outputs": [
    {
     "data": {
      "text/plain": [
       "(9, 2)"
      ]
     },
     "execution_count": 41,
     "metadata": {},
     "output_type": "execute_result"
    }
   ],
   "source": [
    "components.shape"
   ]
  },
  {
   "cell_type": "code",
   "execution_count": 42,
   "metadata": {},
   "outputs": [
    {
     "data": {
      "text/plain": [
       "3"
      ]
     },
     "execution_count": 42,
     "metadata": {},
     "output_type": "execute_result"
    }
   ],
   "source": [
    "sum(controls)"
   ]
  },
  {
   "cell_type": "code",
   "execution_count": 43,
   "metadata": {},
   "outputs": [
    {
     "data": {
      "image/png": "[encoded data removed]",
      "text/plain": [
       "<Figure size 576x576 with 1 Axes>"
      ]
     },
     "metadata": {
      "needs_background": "light"
     },
     "output_type": "display_data"
    }
   ],
   "source": [
    "fig = plt.figure(figsize = (8,8))\n",
    "ax = fig.add_subplot(1,1,1)\n",
    "\n",
    "ax.set_xlabel('Principal Component 1', fontsize = 15)\n",
    "ax.set_ylabel('Principal Component 2', fontsize = 15)\n",
    "ax.set_title('2 component PCA', fontsize = 20)\n",
    "targets = ['Cancer', 'Healthy']\n",
    "colors = ['r', 'g']\n",
    "ax.scatter(components[controls == False, 0], components[controls == False, 1], c = 'r', s = 10)\n",
    "ax.scatter(components[controls == True, 0], components[controls == True, 1], c = 'g', s = 10)\n",
    "ax.legend(targets)\n",
    "ax.grid()"
   ]
  },
  {
   "cell_type": "code",
   "execution_count": 44,
   "metadata": {
    "tags": []
   },
   "outputs": [],
   "source": [
    "components2 = components[components[:,0] < 20, :]\n",
    "controls2 = controls[components[:,0] < 20]"
   ]
  },
  {
   "cell_type": "code",
   "execution_count": 45,
   "metadata": {},
   "outputs": [
    {
     "data": {
      "image/png": "[encoded data removed]",
      "text/plain": [
       "<Figure size 576x576 with 1 Axes>"
      ]
     },
     "metadata": {
      "needs_background": "light"
     },
     "output_type": "display_data"
    }
   ],
   "source": [
    "fig = plt.figure(figsize = (8,8))\n",
    "ax = fig.add_subplot(1,1,1)\n",
    "\n",
    "ax.set_xlabel('Principal Component 1', fontsize = 15)\n",
    "ax.set_ylabel('Principal Component 2', fontsize = 15)\n",
    "ax.set_title('2 component PCA', fontsize = 20)\n",
    "targets = ['Cancer', 'Healthy']\n",
    "colors = ['r', 'g']\n",
    "ax.scatter(components2[controls2 == False, 0], components2[controls2 == False, 1], c = 'r', s = 10)\n",
    "ax.scatter(components2[controls2 == True, 0], components2[controls2 == True, 1], c = 'g', s = 10)\n",
    "ax.legend(targets)\n",
    "ax.grid()"
   ]
  },
  {
   "cell_type": "markdown",
   "metadata": {
    "tags": []
   },
   "source": [
    "### Linear regression adjustments"
   ]
  },
  {
   "cell_type": "code",
   "execution_count": 46,
   "metadata": {},
   "outputs": [],
   "source": [
    "sex = np.array([\"Female\" in k.metadata[\"characteristics_ch1\"][2] for k in list(data.gsms.values()) if \"post\" not in k.metadata[\"characteristics_ch1\"][0]])\n",
    "age = np.array([float(k.metadata[\"characteristics_ch1\"][1].split(\" \")[1].replace(\"NA\", \"NaN\")) for k in list(data.gsms.values()) if \"post\" not in k.metadata[\"characteristics_ch1\"][0]])"
   ]
  },
  {
   "cell_type": "code",
   "execution_count": 47,
   "metadata": {},
   "outputs": [],
   "source": [
    "covars = pd.DataFrame(np.array([sex, age]).transpose(), columns=[\"sex\", \"age\"])"
   ]
  },
  {
   "cell_type": "code",
   "execution_count": 48,
   "metadata": {},
   "outputs": [],
   "source": [
    "covars = covars.fillna(covars.mean())"
   ]
  },
  {
   "cell_type": "code",
   "execution_count": 49,
   "metadata": {},
   "outputs": [
    {
     "data": {
      "text/plain": [
       "LinearRegression()"
      ]
     },
     "execution_count": 49,
     "metadata": {},
     "output_type": "execute_result"
    }
   ],
   "source": [
    "linreg = LinearRegression()\n",
    "linreg.fit(covars, norm_log_table)"
   ]
  },
  {
   "cell_type": "code",
   "execution_count": 50,
   "metadata": {},
   "outputs": [],
   "source": [
    "adj_norm_log_table = norm_log_table #- linreg.predict(covars)"
   ]
  },
  {
   "cell_type": "markdown",
   "metadata": {
    "tags": []
   },
   "source": [
    "# PCA"
   ]
  },
  {
   "cell_type": "code",
   "execution_count": 51,
   "metadata": {
    "tags": []
   },
   "outputs": [],
   "source": [
    "pca = decomposition.PCA(n_components=2)"
   ]
  },
  {
   "cell_type": "code",
   "execution_count": 52,
   "metadata": {},
   "outputs": [
    {
     "data": {
      "text/plain": [
       "PCA(n_components=2)"
      ]
     },
     "execution_count": 52,
     "metadata": {},
     "output_type": "execute_result"
    }
   ],
   "source": [
    "pca.fit(adj_norm_log_table)"
   ]
  },
  {
   "cell_type": "code",
   "execution_count": 53,
   "metadata": {
    "tags": []
   },
   "outputs": [],
   "source": [
    "components = pca.transform(adj_norm_log_table)"
   ]
  },
  {
   "cell_type": "code",
   "execution_count": 54,
   "metadata": {},
   "outputs": [
    {
     "data": {
      "text/plain": [
       "array([[-1469.78530888,  -199.49522348],\n",
       "       [ -455.5751798 ,    92.46965098],\n",
       "       [-1607.92750419,  -590.34885389],\n",
       "       [-1826.47763559,  -594.49003031],\n",
       "       [-1035.71751874,   -64.10904247],\n",
       "       [-1981.87791311, -1345.19792665],\n",
       "       [ 1859.66871107,  1009.24336877],\n",
       "       [ 6564.57593218, -1030.95250644],\n",
       "       [  -46.88358294,  2722.88056349]])"
      ]
     },
     "execution_count": 54,
     "metadata": {},
     "output_type": "execute_result"
    }
   ],
   "source": [
    "components"
   ]
  },
  {
   "cell_type": "code",
   "execution_count": 55,
   "metadata": {},
   "outputs": [
    {
     "data": {
      "image/png": "[encoded data removed]",
      "text/plain": [
       "<Figure size 576x576 with 1 Axes>"
      ]
     },
     "metadata": {
      "needs_background": "light"
     },
     "output_type": "display_data"
    }
   ],
   "source": [
    "fig = plt.figure(figsize = (8,8))\n",
    "ax = fig.add_subplot(1,1,1)\n",
    "\n",
    "ax.set_xlabel('Principal Component 1', fontsize = 15)\n",
    "ax.set_ylabel('Principal Component 2', fontsize = 15)\n",
    "ax.set_title('2 component PCA', fontsize = 20)\n",
    "targets = ['Cancer', 'Healthy']\n",
    "colors = ['r', 'g']\n",
    "ax.scatter(components[controls == False, 0], components[controls == False, 1], c = 'r', s = 10)\n",
    "ax.scatter(components[controls == True, 0], components[controls == True, 1], c = 'g', s = 10)\n",
    "ax.legend(targets)\n",
    "ax.grid()"
   ]
  },
  {
   "cell_type": "markdown",
   "metadata": {},
   "source": [
    "### Logistic Regression"
   ]
  },
  {
   "cell_type": "code",
   "execution_count": 56,
   "metadata": {},
   "outputs": [],
   "source": [
    "X_train, X_test, y_train, y_test = train_test_split(adj_norm_log_table, controls, test_size=0.33, random_state=42)"
   ]
  },
  {
   "cell_type": "code",
   "execution_count": 57,
   "metadata": {},
   "outputs": [
    {
     "data": {
      "text/plain": [
       "LogisticRegression()"
      ]
     },
     "execution_count": 57,
     "metadata": {},
     "output_type": "execute_result"
    }
   ],
   "source": [
    "model = LogisticRegression()\n",
    "model.fit(X_train, y_train)"
   ]
  },
  {
   "cell_type": "code",
   "execution_count": 58,
   "metadata": {},
   "outputs": [
    {
     "name": "stderr",
     "output_type": "stream",
     "text": [
      "C:\\Users\\olefr\\AppData\\Local\\Programs\\Python\\Python310\\lib\\site-packages\\sklearn\\utils\\deprecation.py:87: FutureWarning: Function plot_roc_curve is deprecated; Function :func:`plot_roc_curve` is deprecated in 1.0 and will be removed in 1.2. Use one of the class methods: :meth:`sklearn.metric.RocCurveDisplay.from_predictions` or :meth:`sklearn.metric.RocCurveDisplay.from_estimator`.\n",
      "  warnings.warn(msg, category=FutureWarning)\n"
     ]
    },
    {
     "data": {
      "text/plain": [
       "<sklearn.metrics._plot.roc_curve.RocCurveDisplay at 0x284186a57b0>"
      ]
     },
     "execution_count": 58,
     "metadata": {},
     "output_type": "execute_result"
    },
    {
     "data": {
      "image/png": "[encoded data removed]",
      "text/plain": [
       "<Figure size 432x288 with 1 Axes>"
      ]
     },
     "metadata": {
      "needs_background": "light"
     },
     "output_type": "display_data"
    }
   ],
   "source": [
    "plot_roc_curve(model, X_test, y_test)"
   ]
  },
  {
   "cell_type": "markdown",
   "metadata": {
    "jupyter": {
     "outputs_hidden": true
    }
   },
   "source": [
    "### XGBoost"
   ]
  },
  {
   "cell_type": "code",
   "execution_count": 59,
   "metadata": {},
   "outputs": [
    {
     "name": "stdout",
     "output_type": "stream",
     "text": [
      "[19:01:11] WARNING: C:/Users/Administrator/workspace/xgboost-win64_release_1.5.1/src/learner.cc:1115: Starting in XGBoost 1.3.0, the default evaluation metric used with the objective 'binary:logistic' was changed from 'error' to 'logloss'. Explicitly set eval_metric if you'd like to restore the old behavior.\n"
     ]
    },
    {
     "data": {
      "text/plain": [
       "XGBClassifier(base_score=0.5, booster='gbtree', colsample_bylevel=1,\n",
       "              colsample_bynode=1, colsample_bytree=1, enable_categorical=False,\n",
       "              gamma=0, gpu_id=-1, importance_type=None,\n",
       "              interaction_constraints='', learning_rate=0.300000012,\n",
       "              max_delta_step=0, max_depth=6, min_child_weight=1, missing=nan,\n",
       "              monotone_constraints='()', n_estimators=100, n_jobs=16,\n",
       "              num_parallel_tree=1, predictor='auto', random_state=0,\n",
       "              reg_alpha=0, reg_lambda=1, scale_pos_weight=1, subsample=1,\n",
       "              tree_method='exact', use_label_encoder=False,\n",
       "              validate_parameters=1, verbosity=None)"
      ]
     },
     "execution_count": 59,
     "metadata": {},
     "output_type": "execute_result"
    }
   ],
   "source": [
    "model = XGBClassifier(use_label_encoder=False)\n",
    "model.fit(X_train, y_train)"
   ]
  },
  {
   "cell_type": "code",
   "execution_count": 60,
   "metadata": {},
   "outputs": [
    {
     "name": "stderr",
     "output_type": "stream",
     "text": [
      "C:\\Users\\olefr\\AppData\\Local\\Programs\\Python\\Python310\\lib\\site-packages\\sklearn\\utils\\deprecation.py:87: FutureWarning: Function plot_roc_curve is deprecated; Function :func:`plot_roc_curve` is deprecated in 1.0 and will be removed in 1.2. Use one of the class methods: :meth:`sklearn.metric.RocCurveDisplay.from_predictions` or :meth:`sklearn.metric.RocCurveDisplay.from_estimator`.\n",
      "  warnings.warn(msg, category=FutureWarning)\n"
     ]
    },
    {
     "data": {
      "text/plain": [
       "<sklearn.metrics._plot.roc_curve.RocCurveDisplay at 0x28418652fb0>"
      ]
     },
     "execution_count": 60,
     "metadata": {},
     "output_type": "execute_result"
    },
    {
     "data": {
      "image/png": "[encoded data removed]",
      "text/plain": [
       "<Figure size 432x288 with 1 Axes>"
      ]
     },
     "metadata": {
      "needs_background": "light"
     },
     "output_type": "display_data"
    }
   ],
   "source": [
    "plot_roc_curve(model, X_test, y_test)"
   ]
  },
  {
   "cell_type": "markdown",
   "metadata": {},
   "source": [
    "### Export data"
   ]
  },
  {
   "cell_type": "code",
   "execution_count": 61,
   "metadata": {},
   "outputs": [],
   "source": [
    "lookup_table = data.gpls[\"GPL21576\"].table"
   ]
  },
  {
   "cell_type": "code",
   "execution_count": 62,
   "metadata": {},
   "outputs": [
    {
     "data": {
      "text/html": [
       "<div>\n",
       "<style scoped>\n",
       "    .dataframe tbody tr th:only-of-type {\n",
       "        vertical-align: middle;\n",
       "    }\n",
       "\n",
       "    .dataframe tbody tr th {\n",
       "        vertical-align: top;\n",
       "    }\n",
       "\n",
       "    .dataframe thead th {\n",
       "        text-align: right;\n",
       "    }\n",
       "</style>\n",
       "<table border=\"1\" class=\"dataframe\">\n",
       "  <thead>\n",
       "    <tr style=\"text-align: right;\">\n",
       "      <th></th>\n",
       "      <th>miRNA_ID</th>\n",
       "      <th>SPOT_ID</th>\n",
       "      <th>GENE_SYMBOL</th>\n",
       "      <th>GENE_NAME</th>\n",
       "      <th>ACCESSION_STRING</th>\n",
       "      <th>CHROMOSOMAL_LOCATION</th>\n",
       "      <th>SPOT_ID.1</th>\n",
       "    </tr>\n",
       "    <tr>\n",
       "      <th>ID</th>\n",
       "      <th></th>\n",
       "      <th></th>\n",
       "      <th></th>\n",
       "      <th></th>\n",
       "      <th></th>\n",
       "      <th></th>\n",
       "      <th></th>\n",
       "    </tr>\n",
       "  </thead>\n",
       "  <tbody>\n",
       "    <tr>\n",
       "      <th>(-)3xSLv1</th>\n",
       "      <td>NaN</td>\n",
       "      <td>--NegativeControl</td>\n",
       "      <td>NaN</td>\n",
       "      <td>NaN</td>\n",
       "      <td>NaN</td>\n",
       "      <td>NaN</td>\n",
       "      <td>NaN</td>\n",
       "    </tr>\n",
       "    <tr>\n",
       "      <th>A_25_P00010019</th>\n",
       "      <td>hsa-miR-329-3p</td>\n",
       "      <td>NaN</td>\n",
       "      <td>hsa-miR-329-3p</td>\n",
       "      <td>hsa-miR-329-3p</td>\n",
       "      <td>mir|hsa-miR-329-3p|mir|MIMAT0001629|mir|hsa-mi...</td>\n",
       "      <td>chr14:101493173-101493192,chr14:101493490-1014...</td>\n",
       "      <td>NaN</td>\n",
       "    </tr>\n",
       "    <tr>\n",
       "      <th>A_25_P00010020</th>\n",
       "      <td>hsa-miR-329-3p</td>\n",
       "      <td>NaN</td>\n",
       "      <td>hsa-miR-329-3p</td>\n",
       "      <td>hsa-miR-329-3p</td>\n",
       "      <td>mir|hsa-miR-329-3p|mir|MIMAT0001629|mir|hsa-mi...</td>\n",
       "      <td>chr14:101493174-101493192,chr14:101493491-1014...</td>\n",
       "      <td>NaN</td>\n",
       "    </tr>\n",
       "    <tr>\n",
       "      <th>A_25_P00010021</th>\n",
       "      <td>hsa-miR-655-3p</td>\n",
       "      <td>NaN</td>\n",
       "      <td>hsa-miR-655-3p</td>\n",
       "      <td>hsa-miR-655-3p</td>\n",
       "      <td>mir|hsa-miR-655-3p|mir|MIMAT0003331|mir|hsa-mi...</td>\n",
       "      <td>chr14:101515949-101515968</td>\n",
       "      <td>NaN</td>\n",
       "    </tr>\n",
       "    <tr>\n",
       "      <th>A_25_P00010023</th>\n",
       "      <td>hsa-miR-369-3p</td>\n",
       "      <td>NaN</td>\n",
       "      <td>hsa-miR-369-3p</td>\n",
       "      <td>hsa-miR-369-3p</td>\n",
       "      <td>mir|hsa-miR-369-3p|mir|MIMAT0000721</td>\n",
       "      <td>unmapped</td>\n",
       "      <td>NaN</td>\n",
       "    </tr>\n",
       "  </tbody>\n",
       "</table>\n",
       "</div>"
      ],
      "text/plain": [
       "                      miRNA_ID            SPOT_ID     GENE_SYMBOL  \\\n",
       "ID                                                                  \n",
       "(-)3xSLv1                  NaN  --NegativeControl             NaN   \n",
       "A_25_P00010019  hsa-miR-329-3p                NaN  hsa-miR-329-3p   \n",
       "A_25_P00010020  hsa-miR-329-3p                NaN  hsa-miR-329-3p   \n",
       "A_25_P00010021  hsa-miR-655-3p                NaN  hsa-miR-655-3p   \n",
       "A_25_P00010023  hsa-miR-369-3p                NaN  hsa-miR-369-3p   \n",
       "\n",
       "                     GENE_NAME  \\\n",
       "ID                               \n",
       "(-)3xSLv1                  NaN   \n",
       "A_25_P00010019  hsa-miR-329-3p   \n",
       "A_25_P00010020  hsa-miR-329-3p   \n",
       "A_25_P00010021  hsa-miR-655-3p   \n",
       "A_25_P00010023  hsa-miR-369-3p   \n",
       "\n",
       "                                                 ACCESSION_STRING  \\\n",
       "ID                                                                  \n",
       "(-)3xSLv1                                                     NaN   \n",
       "A_25_P00010019  mir|hsa-miR-329-3p|mir|MIMAT0001629|mir|hsa-mi...   \n",
       "A_25_P00010020  mir|hsa-miR-329-3p|mir|MIMAT0001629|mir|hsa-mi...   \n",
       "A_25_P00010021  mir|hsa-miR-655-3p|mir|MIMAT0003331|mir|hsa-mi...   \n",
       "A_25_P00010023                mir|hsa-miR-369-3p|mir|MIMAT0000721   \n",
       "\n",
       "                                             CHROMOSOMAL_LOCATION  SPOT_ID.1  \n",
       "ID                                                                            \n",
       "(-)3xSLv1                                                     NaN        NaN  \n",
       "A_25_P00010019  chr14:101493173-101493192,chr14:101493490-1014...        NaN  \n",
       "A_25_P00010020  chr14:101493174-101493192,chr14:101493491-1014...        NaN  \n",
       "A_25_P00010021                          chr14:101515949-101515968        NaN  \n",
       "A_25_P00010023                                           unmapped        NaN  "
      ]
     },
     "execution_count": 62,
     "metadata": {},
     "output_type": "execute_result"
    }
   ],
   "source": [
    "lookup_table = lookup_table.set_index(\"ID\")\n",
    "lookup_table.head()"
   ]
  },
  {
   "cell_type": "code",
   "execution_count": 63,
   "metadata": {},
   "outputs": [],
   "source": [
    "access_ids = lookup_table.loc[mirnas][\"ACCESSION_STRING\"]"
   ]
  },
  {
   "cell_type": "code",
   "execution_count": 64,
   "metadata": {},
   "outputs": [],
   "source": [
    "access_ids = [a.split(\"|\")[-1] for a in access_ids]"
   ]
  },
  {
   "cell_type": "code",
   "execution_count": 65,
   "metadata": {},
   "outputs": [
    {
     "data": {
      "text/plain": [
       "['MIMAT0004481',\n",
       " 'MIMAT0000062',\n",
       " 'MIMAT0000064',\n",
       " 'MIMAT0004484',\n",
       " 'MIMAT0000065',\n",
       " 'MIMAT0000066',\n",
       " 'MIMAT0000067',\n",
       " 'MIMAT0000414',\n",
       " 'MIMAT0000415',\n",
       " 'MIMAT0000099']"
      ]
     },
     "execution_count": 65,
     "metadata": {},
     "output_type": "execute_result"
    }
   ],
   "source": [
    "access_ids[:10]"
   ]
  },
  {
   "cell_type": "code",
   "execution_count": 66,
   "metadata": {},
   "outputs": [],
   "source": [
    "from Scripts import converters"
   ]
  },
  {
   "cell_type": "code",
   "execution_count": 67,
   "metadata": {},
   "outputs": [],
   "source": [
    "sequences = converters.mirbase_to_seq(access_ids)"
   ]
  },
  {
   "cell_type": "code",
   "execution_count": 68,
   "metadata": {},
   "outputs": [
    {
     "data": {
      "text/plain": [
       "['CUAUACAAUCUACUGUCUUUC',\n",
       " 'UGAGGUAGUAGGUUGUAUAGUU',\n",
       " 'UGAGGUAGUAGGUUGUAUGGUU',\n",
       " 'CUAUACGACCUGCUGCCUUUCU',\n",
       " 'AGAGGUAGUAGGUUGCAUAGUU',\n",
       " 'UGAGGUAGGAGGUUGUAUAGUU',\n",
       " 'UGAGGUAGUAGAUUGUAUAGUU',\n",
       " 'UGAGGUAGUAGUUUGUACAGUU',\n",
       " 'UGAGGUAGUAGUUUGUGCUGUU',\n",
       " 'UACAGUACUGUGAUAACUGAA']"
      ]
     },
     "execution_count": 68,
     "metadata": {},
     "output_type": "execute_result"
    }
   ],
   "source": [
    "sequences[:10]"
   ]
  },
  {
   "cell_type": "code",
   "execution_count": 69,
   "metadata": {},
   "outputs": [
    {
     "data": {
      "text/html": [
       "<div>\n",
       "<style scoped>\n",
       "    .dataframe tbody tr th:only-of-type {\n",
       "        vertical-align: middle;\n",
       "    }\n",
       "\n",
       "    .dataframe tbody tr th {\n",
       "        vertical-align: top;\n",
       "    }\n",
       "\n",
       "    .dataframe thead th {\n",
       "        text-align: right;\n",
       "    }\n",
       "</style>\n",
       "<table border=\"1\" class=\"dataframe\">\n",
       "  <thead>\n",
       "    <tr style=\"text-align: right;\">\n",
       "      <th></th>\n",
       "      <th>CUAUACAAUCUACUGUCUUUC</th>\n",
       "      <th>UGAGGUAGUAGGUUGUAUAGUU</th>\n",
       "      <th>UGAGGUAGUAGGUUGUAUGGUU</th>\n",
       "      <th>CUAUACGACCUGCUGCCUUUCU</th>\n",
       "      <th>AGAGGUAGUAGGUUGCAUAGUU</th>\n",
       "      <th>UGAGGUAGGAGGUUGUAUAGUU</th>\n",
       "      <th>UGAGGUAGUAGAUUGUAUAGUU</th>\n",
       "      <th>UGAGGUAGUAGUUUGUACAGUU</th>\n",
       "      <th>UGAGGUAGUAGUUUGUGCUGUU</th>\n",
       "      <th>UACAGUACUGUGAUAACUGAA</th>\n",
       "      <th>...</th>\n",
       "      <th>ACUGCUGAGCUAGCACUUCCCG</th>\n",
       "      <th>ACAGUAGAGGGAGGAAUCGCAG</th>\n",
       "      <th>UGCCCUUAAAGGUGAACCCAGU</th>\n",
       "      <th>AUAAAGCUAGAUAACCGAAAGU</th>\n",
       "      <th>CACCCGGCUGUGUGCACAUGUGC</th>\n",
       "      <th>CACAUGGCCGAAACAGAGAAGU</th>\n",
       "      <th>UGAGGUAGUAAGUUGUAUUGUU</th>\n",
       "      <th>AACCCGUAGAUCCGAUCUUGUG</th>\n",
       "      <th>CACCCGUAGAACCGACCUUGCG</th>\n",
       "      <th>cancer</th>\n",
       "    </tr>\n",
       "  </thead>\n",
       "  <tbody>\n",
       "    <tr>\n",
       "      <th>VALUE</th>\n",
       "      <td>0.10000</td>\n",
       "      <td>0.10000</td>\n",
       "      <td>0.1</td>\n",
       "      <td>0.1</td>\n",
       "      <td>0.1</td>\n",
       "      <td>0.1</td>\n",
       "      <td>0.10000</td>\n",
       "      <td>0.10000</td>\n",
       "      <td>2.81054</td>\n",
       "      <td>0.1</td>\n",
       "      <td>...</td>\n",
       "      <td>0.10000</td>\n",
       "      <td>5.03178</td>\n",
       "      <td>0.1000</td>\n",
       "      <td>1.84522</td>\n",
       "      <td>9.35345</td>\n",
       "      <td>0.10000</td>\n",
       "      <td>3.78867</td>\n",
       "      <td>0.1</td>\n",
       "      <td>0.1</td>\n",
       "      <td>True</td>\n",
       "    </tr>\n",
       "    <tr>\n",
       "      <th>VALUE</th>\n",
       "      <td>0.10000</td>\n",
       "      <td>2.84215</td>\n",
       "      <td>0.1</td>\n",
       "      <td>0.1</td>\n",
       "      <td>0.1</td>\n",
       "      <td>0.1</td>\n",
       "      <td>3.48693</td>\n",
       "      <td>2.85913</td>\n",
       "      <td>8.86201</td>\n",
       "      <td>0.1</td>\n",
       "      <td>...</td>\n",
       "      <td>0.10000</td>\n",
       "      <td>8.81913</td>\n",
       "      <td>0.1000</td>\n",
       "      <td>3.32140</td>\n",
       "      <td>4.58324</td>\n",
       "      <td>0.10000</td>\n",
       "      <td>9.53514</td>\n",
       "      <td>0.1</td>\n",
       "      <td>0.1</td>\n",
       "      <td>True</td>\n",
       "    </tr>\n",
       "    <tr>\n",
       "      <th>VALUE</th>\n",
       "      <td>0.10000</td>\n",
       "      <td>4.16109</td>\n",
       "      <td>0.1</td>\n",
       "      <td>0.1</td>\n",
       "      <td>0.1</td>\n",
       "      <td>0.1</td>\n",
       "      <td>4.04358</td>\n",
       "      <td>2.80796</td>\n",
       "      <td>7.24243</td>\n",
       "      <td>0.1</td>\n",
       "      <td>...</td>\n",
       "      <td>0.10000</td>\n",
       "      <td>3.63730</td>\n",
       "      <td>0.1000</td>\n",
       "      <td>0.10000</td>\n",
       "      <td>7.84305</td>\n",
       "      <td>0.10000</td>\n",
       "      <td>5.93378</td>\n",
       "      <td>0.1</td>\n",
       "      <td>0.1</td>\n",
       "      <td>True</td>\n",
       "    </tr>\n",
       "    <tr>\n",
       "      <th>VALUE</th>\n",
       "      <td>0.10000</td>\n",
       "      <td>0.10000</td>\n",
       "      <td>0.1</td>\n",
       "      <td>0.1</td>\n",
       "      <td>0.1</td>\n",
       "      <td>0.1</td>\n",
       "      <td>0.10000</td>\n",
       "      <td>0.10000</td>\n",
       "      <td>0.10000</td>\n",
       "      <td>0.1</td>\n",
       "      <td>...</td>\n",
       "      <td>0.10000</td>\n",
       "      <td>2.25616</td>\n",
       "      <td>0.1000</td>\n",
       "      <td>0.10000</td>\n",
       "      <td>3.04235</td>\n",
       "      <td>1.56216</td>\n",
       "      <td>0.10000</td>\n",
       "      <td>0.1</td>\n",
       "      <td>0.1</td>\n",
       "      <td>True</td>\n",
       "    </tr>\n",
       "    <tr>\n",
       "      <th>VALUE</th>\n",
       "      <td>1.55445</td>\n",
       "      <td>0.10000</td>\n",
       "      <td>0.1</td>\n",
       "      <td>0.1</td>\n",
       "      <td>0.1</td>\n",
       "      <td>0.1</td>\n",
       "      <td>0.10000</td>\n",
       "      <td>0.10000</td>\n",
       "      <td>0.10000</td>\n",
       "      <td>0.1</td>\n",
       "      <td>...</td>\n",
       "      <td>1.25686</td>\n",
       "      <td>0.10000</td>\n",
       "      <td>3.5998</td>\n",
       "      <td>8.85093</td>\n",
       "      <td>11.77476</td>\n",
       "      <td>0.10000</td>\n",
       "      <td>2.10564</td>\n",
       "      <td>0.1</td>\n",
       "      <td>0.1</td>\n",
       "      <td>True</td>\n",
       "    </tr>\n",
       "  </tbody>\n",
       "</table>\n",
       "<p>5 rows × 455 columns</p>\n",
       "</div>"
      ],
      "text/plain": [
       "       CUAUACAAUCUACUGUCUUUC  UGAGGUAGUAGGUUGUAUAGUU  UGAGGUAGUAGGUUGUAUGGUU  \\\n",
       "VALUE                0.10000                 0.10000                     0.1   \n",
       "VALUE                0.10000                 2.84215                     0.1   \n",
       "VALUE                0.10000                 4.16109                     0.1   \n",
       "VALUE                0.10000                 0.10000                     0.1   \n",
       "VALUE                1.55445                 0.10000                     0.1   \n",
       "\n",
       "       CUAUACGACCUGCUGCCUUUCU  AGAGGUAGUAGGUUGCAUAGUU  UGAGGUAGGAGGUUGUAUAGUU  \\\n",
       "VALUE                     0.1                     0.1                     0.1   \n",
       "VALUE                     0.1                     0.1                     0.1   \n",
       "VALUE                     0.1                     0.1                     0.1   \n",
       "VALUE                     0.1                     0.1                     0.1   \n",
       "VALUE                     0.1                     0.1                     0.1   \n",
       "\n",
       "       UGAGGUAGUAGAUUGUAUAGUU  UGAGGUAGUAGUUUGUACAGUU  UGAGGUAGUAGUUUGUGCUGUU  \\\n",
       "VALUE                 0.10000                 0.10000                 2.81054   \n",
       "VALUE                 3.48693                 2.85913                 8.86201   \n",
       "VALUE                 4.04358                 2.80796                 7.24243   \n",
       "VALUE                 0.10000                 0.10000                 0.10000   \n",
       "VALUE                 0.10000                 0.10000                 0.10000   \n",
       "\n",
       "       UACAGUACUGUGAUAACUGAA  ...  ACUGCUGAGCUAGCACUUCCCG  \\\n",
       "VALUE                    0.1  ...                 0.10000   \n",
       "VALUE                    0.1  ...                 0.10000   \n",
       "VALUE                    0.1  ...                 0.10000   \n",
       "VALUE                    0.1  ...                 0.10000   \n",
       "VALUE                    0.1  ...                 1.25686   \n",
       "\n",
       "       ACAGUAGAGGGAGGAAUCGCAG  UGCCCUUAAAGGUGAACCCAGU  AUAAAGCUAGAUAACCGAAAGU  \\\n",
       "VALUE                 5.03178                  0.1000                 1.84522   \n",
       "VALUE                 8.81913                  0.1000                 3.32140   \n",
       "VALUE                 3.63730                  0.1000                 0.10000   \n",
       "VALUE                 2.25616                  0.1000                 0.10000   \n",
       "VALUE                 0.10000                  3.5998                 8.85093   \n",
       "\n",
       "       CACCCGGCUGUGUGCACAUGUGC  CACAUGGCCGAAACAGAGAAGU  \\\n",
       "VALUE                  9.35345                 0.10000   \n",
       "VALUE                  4.58324                 0.10000   \n",
       "VALUE                  7.84305                 0.10000   \n",
       "VALUE                  3.04235                 1.56216   \n",
       "VALUE                 11.77476                 0.10000   \n",
       "\n",
       "       UGAGGUAGUAAGUUGUAUUGUU  AACCCGUAGAUCCGAUCUUGUG  CACCCGUAGAACCGACCUUGCG  \\\n",
       "VALUE                 3.78867                     0.1                     0.1   \n",
       "VALUE                 9.53514                     0.1                     0.1   \n",
       "VALUE                 5.93378                     0.1                     0.1   \n",
       "VALUE                 0.10000                     0.1                     0.1   \n",
       "VALUE                 2.10564                     0.1                     0.1   \n",
       "\n",
       "       cancer  \n",
       "VALUE    True  \n",
       "VALUE    True  \n",
       "VALUE    True  \n",
       "VALUE    True  \n",
       "VALUE    True  \n",
       "\n",
       "[5 rows x 455 columns]"
      ]
     },
     "execution_count": 69,
     "metadata": {},
     "output_type": "execute_result"
    }
   ],
   "source": [
    "adj_norm_log_table.columns = sequences\n",
    "adj_norm_log_table[\"cancer\"] = sick\n",
    "adj_norm_log_table.head()"
   ]
  },
  {
   "cell_type": "code",
   "execution_count": 70,
   "metadata": {},
   "outputs": [],
   "source": [
    "adj_norm_log_table.to_csv(\"../TransformedData/Li2017_raw.csv\", index=False)"
   ]
  },
  {
   "cell_type": "code",
   "execution_count": null,
   "metadata": {},
   "outputs": [],
   "source": []
  }
 ],
 "metadata": {
  "kernelspec": {
   "display_name": "Python 3 (ipykernel)",
   "language": "python",
   "name": "python3"
  },
  "language_info": {
   "codemirror_mode": {
    "name": "ipython",
    "version": 3
   },
   "file_extension": ".py",
   "mimetype": "text/x-python",
   "name": "python",
   "nbconvert_exporter": "python",
   "pygments_lexer": "ipython3",
   "version": "3.10.1"
  }
 },
 "nbformat": 4,
 "nbformat_minor": 4
}
