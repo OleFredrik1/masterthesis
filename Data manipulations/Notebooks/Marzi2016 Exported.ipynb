{
 "cells": [
  {
   "cell_type": "code",
   "execution_count": 1,
   "metadata": {
    "tags": []
   },
   "outputs": [],
   "source": [
    "%matplotlib inline\n",
    "import GEOparse\n",
    "import matplotlib.pyplot as plt\n",
    "import pandas as pd\n",
    "import numpy as np\n",
    "from sklearn import decomposition\n",
    "from sklearn.feature_selection import f_classif\n",
    "from sklearn.linear_model import LinearRegression, LogisticRegression\n",
    "from sklearn.metrics import explained_variance_score, plot_roc_curve\n",
    "import statsmodels.api as sm\n",
    "from scipy.stats import ttest_ind\n",
    "from xgboost import XGBClassifier\n",
    "from sklearn.model_selection import train_test_split\n",
    "\n",
    "geo = \"GSE76462\""
   ]
  },
  {
   "cell_type": "code",
   "execution_count": 2,
   "metadata": {},
   "outputs": [],
   "source": [
    "data = GEOparse.get_GEO(geo=geo, destdir=\"../Dataset/Marzi2016\", silent=True)"
   ]
  },
  {
   "cell_type": "code",
   "execution_count": 6,
   "metadata": {},
   "outputs": [
    {
     "data": {
      "text/plain": [
       "'GPL21291'"
      ]
     },
     "execution_count": 6,
     "metadata": {},
     "output_type": "execute_result"
    }
   ],
   "source": [
    "data.metadata[\"platform_id\"][0]"
   ]
  },
  {
   "cell_type": "code",
   "execution_count": 7,
   "metadata": {},
   "outputs": [
    {
     "data": {
      "text/html": [
       "<div>\n",
       "<style scoped>\n",
       "    .dataframe tbody tr th:only-of-type {\n",
       "        vertical-align: middle;\n",
       "    }\n",
       "\n",
       "    .dataframe tbody tr th {\n",
       "        vertical-align: top;\n",
       "    }\n",
       "\n",
       "    .dataframe thead th {\n",
       "        text-align: right;\n",
       "    }\n",
       "</style>\n",
       "<table border=\"1\" class=\"dataframe\">\n",
       "  <thead>\n",
       "    <tr style=\"text-align: right;\">\n",
       "      <th></th>\n",
       "      <th>ID</th>\n",
       "      <th>miRNA_ID</th>\n",
       "      <th>Accession</th>\n",
       "      <th>SEQUENCE</th>\n",
       "    </tr>\n",
       "  </thead>\n",
       "  <tbody>\n",
       "    <tr>\n",
       "      <th>0</th>\n",
       "      <td>hsa-mir-92a-000431</td>\n",
       "      <td>hsa-mir-92a-3p</td>\n",
       "      <td>MI0000094</td>\n",
       "      <td>UAUUGCACUUGUCCCGGCCUGU</td>\n",
       "    </tr>\n",
       "    <tr>\n",
       "      <th>1</th>\n",
       "      <td>hsa-mir-484-001821</td>\n",
       "      <td>hsa-mir-484</td>\n",
       "      <td>MI0002468</td>\n",
       "      <td>UCAGGCUCAGUCCCCUCCCGAU</td>\n",
       "    </tr>\n",
       "    <tr>\n",
       "      <th>2</th>\n",
       "      <td>hsa-mir-328-000543</td>\n",
       "      <td>hsa-mir-328-3p</td>\n",
       "      <td>MI0000804</td>\n",
       "      <td>CUGGCCCUCUCUGCCCUUCCGU</td>\n",
       "    </tr>\n",
       "    <tr>\n",
       "      <th>3</th>\n",
       "      <td>hsa-mir-191-002299</td>\n",
       "      <td>hsa-mir-191-5p</td>\n",
       "      <td>MI0000465</td>\n",
       "      <td>CAACGGAAUCCCAAAAGCAGCUG</td>\n",
       "    </tr>\n",
       "    <tr>\n",
       "      <th>4</th>\n",
       "      <td>hsa-mir-331-3p-000545</td>\n",
       "      <td>hsa-mir-331-3p</td>\n",
       "      <td>MI0000812</td>\n",
       "      <td>GCCCCUGGGCCUAUCCUAGAA</td>\n",
       "    </tr>\n",
       "    <tr>\n",
       "      <th>5</th>\n",
       "      <td>hsa-mir-30c-000419</td>\n",
       "      <td>hsa-mir-30c-5p</td>\n",
       "      <td>MI0000736</td>\n",
       "      <td>UGUAAACAUCCUACACUCUCAGC</td>\n",
       "    </tr>\n",
       "    <tr>\n",
       "      <th>6</th>\n",
       "      <td>hsa-miR-374a-000563</td>\n",
       "      <td>hsa-miR-374a-5p</td>\n",
       "      <td>MI0000782</td>\n",
       "      <td>UUAUAAUACAACCUGAUAAGUG</td>\n",
       "    </tr>\n",
       "    <tr>\n",
       "      <th>7</th>\n",
       "      <td>hsa-mir-30b-000602</td>\n",
       "      <td>hsa-mir-30b-5p</td>\n",
       "      <td>MI0000441</td>\n",
       "      <td>UGUAAACAUCCUACACUCAGCU</td>\n",
       "    </tr>\n",
       "    <tr>\n",
       "      <th>8</th>\n",
       "      <td>hsa-let-7d-002283</td>\n",
       "      <td>hsa-let-7d-5p</td>\n",
       "      <td>MI0000065</td>\n",
       "      <td>AGAGGUAGUAGGUUGCAUAGUU</td>\n",
       "    </tr>\n",
       "    <tr>\n",
       "      <th>9</th>\n",
       "      <td>hsa-mir-223-002295</td>\n",
       "      <td>hsa-mir-223-3p</td>\n",
       "      <td>MI0000300</td>\n",
       "      <td>UGUCAGUUUGUCAAAUACCCCA</td>\n",
       "    </tr>\n",
       "    <tr>\n",
       "      <th>10</th>\n",
       "      <td>hsa-mir-29a-002112</td>\n",
       "      <td>hsa-mir-29a-3p</td>\n",
       "      <td>MI0000087</td>\n",
       "      <td>UAGCACCAUCUGAAAUCGGUUA</td>\n",
       "    </tr>\n",
       "    <tr>\n",
       "      <th>11</th>\n",
       "      <td>hsa-mir-148a-000470</td>\n",
       "      <td>hsa-mir-148a-3p</td>\n",
       "      <td>MI0000253</td>\n",
       "      <td>UCAGUGCACUACAGAACUUUGU</td>\n",
       "    </tr>\n",
       "    <tr>\n",
       "      <th>12</th>\n",
       "      <td>hsa-mir-140-5p-001187</td>\n",
       "      <td>hsa-mir-140-5p</td>\n",
       "      <td>MI0000456</td>\n",
       "      <td>CAGUGGUUUUACCCUAUGGUAG</td>\n",
       "    </tr>\n",
       "  </tbody>\n",
       "</table>\n",
       "</div>"
      ],
      "text/plain": [
       "                       ID         miRNA_ID  Accession                 SEQUENCE\n",
       "0      hsa-mir-92a-000431   hsa-mir-92a-3p  MI0000094   UAUUGCACUUGUCCCGGCCUGU\n",
       "1      hsa-mir-484-001821      hsa-mir-484  MI0002468   UCAGGCUCAGUCCCCUCCCGAU\n",
       "2      hsa-mir-328-000543   hsa-mir-328-3p  MI0000804   CUGGCCCUCUCUGCCCUUCCGU\n",
       "3      hsa-mir-191-002299   hsa-mir-191-5p  MI0000465  CAACGGAAUCCCAAAAGCAGCUG\n",
       "4   hsa-mir-331-3p-000545   hsa-mir-331-3p  MI0000812    GCCCCUGGGCCUAUCCUAGAA\n",
       "5      hsa-mir-30c-000419   hsa-mir-30c-5p  MI0000736  UGUAAACAUCCUACACUCUCAGC\n",
       "6     hsa-miR-374a-000563  hsa-miR-374a-5p  MI0000782   UUAUAAUACAACCUGAUAAGUG\n",
       "7      hsa-mir-30b-000602   hsa-mir-30b-5p  MI0000441   UGUAAACAUCCUACACUCAGCU\n",
       "8       hsa-let-7d-002283    hsa-let-7d-5p  MI0000065   AGAGGUAGUAGGUUGCAUAGUU\n",
       "9      hsa-mir-223-002295   hsa-mir-223-3p  MI0000300   UGUCAGUUUGUCAAAUACCCCA\n",
       "10     hsa-mir-29a-002112   hsa-mir-29a-3p  MI0000087   UAGCACCAUCUGAAAUCGGUUA\n",
       "11    hsa-mir-148a-000470  hsa-mir-148a-3p  MI0000253   UCAGUGCACUACAGAACUUUGU\n",
       "12  hsa-mir-140-5p-001187   hsa-mir-140-5p  MI0000456   CAGUGGUUUUACCCUAUGGUAG"
      ]
     },
     "execution_count": 7,
     "metadata": {},
     "output_type": "execute_result"
    }
   ],
   "source": [
    "data.gpls[data.metadata[\"platform_id\"][0]].table"
   ]
  },
  {
   "cell_type": "code",
   "execution_count": 10,
   "metadata": {},
   "outputs": [
    {
     "data": {
      "text/plain": [
       "{'title': ['T02'],\n",
       " 'geo_accession': ['GSM2025020'],\n",
       " 'status': ['Public on Feb 29 2016'],\n",
       " 'submission_date': ['Dec 31 2015'],\n",
       " 'last_update_date': ['Feb 29 2016'],\n",
       " 'type': ['RNA'],\n",
       " 'channel_count': ['1'],\n",
       " 'source_name_ch1': ['Serum'],\n",
       " 'organism_ch1': ['Homo sapiens'],\n",
       " 'taxid_ch1': ['9606'],\n",
       " 'characteristics_ch1': ['group: TUMOR-CALIBRATION',\n",
       "  'sample type: Case',\n",
       "  'tumor type: Lung Adenocarcinoma'],\n",
       " 'molecule_ch1': ['total RNA'],\n",
       " 'extract_protocol_ch1': ['Blood collection: Blood samples (10 ml) were collected by standard phlebotomy before any analysis or instrumental procedure. The first 3 mL of blood were not used for serum preparation to prevent contamination by skin. Serum was prepared by collecting blood in tubes with clot activator (S-Monovette 7.5ml REF01.1601 â€“ Sarstedt), left at room temperature for 3 hours to clot, then spun at 3000 rpm (1000 g, Megafuge 2.0 Heraeus) for 10 minutes at RT. The serum was removed immediately after centrifugation, leaving a 0.5 cm leftover to avoid disturbing the serum-clot interface. Serum was then aliquoted in barcoded cryotubes and snap frozen in dry ice. Aliquots were stored in a dedicated -80Â°C fridge.  Serum miRNA purification: Total RNA purification, including miRNAs, was based on lysis with Guanidinium thiocyanate-phenol-chloroform extraction (TriZol-LS, Applied Biosystem) and Spin Column-based total RNA purification (MiRneasy Mini Kit, Qiagen). Briefly, 0.3 mL of serum were mixed with Trizol-LS in volumetric ratios of 3:1 for lysis. After denaturation, a spike of synthetic miRNA (5x108 copies of miR-34a) was added to the solution to monitor the extraction efficiency. A volume of 0.24 mL of Chloroform was added to the solution, which was then centrifuged for 15 min at 11,800g at 4Â°C. A fixed amount (0.35 mL; around 70% of the final volume of the sample) of aqueous phase was recovered. This choice was preferred to limit contamination from the interphase. The subsequent steps were performed in automation through a Qiacube machine (QIAGEN), according to the â€œmiRNEASY Miniâ€ standard protocol. RNA was eluted in 30 uL and stored at -80Â°C until further analysis.'],\n",
       " 'label_ch1': ['n/a'],\n",
       " 'label_protocol_ch1': [\"Reverse transcription (RT) and pre-amplification reaction (Pre-AMP) protocols were optimized by using a MicroLab Star Liquid Handling. RT was performed from a fixed volume (3 uL) of total RNA with TaqMan MicroRNA Reverse Transcription Kit and a custom pool of Human miRNA-specific stem-loop primers (Applied Biosystem) according to the manufacturer's instruction, in a 2720 Thermo Cycler (Applied Biosystem). RT product was then diluted 1:2 with water; 5 uL of diluted RT product were pre-amplified (12 cycles of PCR) with TaqMan PreAmp Master Mix (2X) and Megaplex PreAmp Primers Human PoolA (Applied Biosystem), according to the manufacturer's instruction. The pre-amplification reaction was diluted 1:4 with Tris-EDTA buffer 0.1X. Next, 6 uL of diluted pre-amplification reaction were combined with 46.5 uL of water and with 52.5 uL of TaqMan Universal Master Mix II (Applied Biosystem). The final solution (105 uL) was loaded into one lane of a custom TaqManÂ¨ Low Density Array microRNA Custom Panel (Applied Biosystem). RTQ-PCR was carried out on an Applied Biosystems 7900HT thermocycler using the manufacturer's recommended cycling conditions. We used a Hamilton MICROLABÂ¨ STAR liquid handling workstation to automate most of the described processes.\"],\n",
       " 'hyb_protocol': ['n/a'],\n",
       " 'scan_protocol': ['n/a'],\n",
       " 'data_processing': ['Data were exported into text format for further analysis. If qRT-PCR amplification curves presented a â€œTholdfailâ€ error flag (i.e. the automatic thresholding algorithm failed), data were discarded. Subsequently, raw Ct values were normalized. In the case of techincal replicates, data were averaged after normalization procedure described hereafter. To run the miR-Test, data were normalized using mean CTs (HK-mean) of six â€œhousekeepingâ€ miRNAs genes (miR-197, miR-19b, miR-24, miR-146, miR-15b, miR-19a; (1)) using the following procedure: a scaling factor (SF) was calculated for each sample by subtracting the â€œHK-meanâ€ to a constant value (K = 21.646). Data were then normalized by these SFs to eliminate technical fluctuations, using the formula: SF + miRNA CTraw = CTnormalized. If CT raw was greater than 30.01 or â€˜undeterminedâ€™ by qRT-PCR, data was set to 30.01 and normalization skipped. This normalization strategy assures an independency from the original set of samples used to train the miR-Test, and allow new samples classification without the need of an internal reference.   The Calibration set was used to: i) refine DLDA weight coefficients (wi) of the miRNA signature by using diagonal linear discriminant analysis (DLDA) as class metric (BRB-ArrayTools version 4.3.0 - Beta_2 Release); ii) reduce the number of miRNAs in the signature. The leaveâ€“one-out (LOO) cross-validation procedure was used to cross-validate the classifier and estimate sensitivity and specificity in the calibration set. Parametric t-test set at 0.05 significance level was used for feature selection. Statistical significance of the performance of the classifier was assessed by performing 1000 permutations of class labels. Samples were then classified as positive or negative if the absolute value of the inner sum of weighted expressions (CTnorm*wi) was greater than the absolute value of the threshold. Since both weights and threshold are negative, the risk score was calculated as:     RS= - (âˆ‘i wi xi - THRES), for i=1â€¦13 (13-miRNA signature).    Where THRES = -261.779, wi is the weight coefficient of the ith miRNA (Supplemental Table 2), and xi is the expression value (CT) of the ith miRNA.    All bioinformatical analyses were automated using a custom R script developed in-house using the R statistical software version 2.14.1. The script allows to read the information content of the output documents from the Applied Biosystems ViiA 7â„¢ and provides miR-Test risk scores automatically.'],\n",
       " 'platform_id': ['GPL21291'],\n",
       " 'contact_name': ['Fabrizio,,Bianchi'],\n",
       " 'contact_email': ['f.bianchi@operapadrepio.it'],\n",
       " 'contact_laboratory': ['Cancer Biomarkers'],\n",
       " 'contact_department': ['Institute for Stem-cell Biology, Regenerative Medicine and Innovative Therapies (ISBReMIT)'],\n",
       " 'contact_institute': ['Fondazione IRCCS Casa Sollievo della Sofferenza'],\n",
       " 'contact_address': ['Viale Padre Pio 7'],\n",
       " 'contact_city': ['San Giovanni Rotondo (FG)'],\n",
       " 'contact_state': ['Outside U.S. & Canada'],\n",
       " 'contact_zip/postal_code': ['71013'],\n",
       " 'contact_country': ['Italy'],\n",
       " 'supplementary_file': ['NONE'],\n",
       " 'series_id': ['GSE76462'],\n",
       " 'data_row_count': ['13']}"
      ]
     },
     "execution_count": 10,
     "metadata": {},
     "output_type": "execute_result"
    }
   ],
   "source": [
    "list(data.gsms.values())[1].metadata"
   ]
  },
  {
   "cell_type": "code",
   "execution_count": 9,
   "metadata": {
    "tags": []
   },
   "outputs": [],
   "source": [
    "table = pd.concat((val.table.iloc[:,1:2] for val in data.gsms.values()), axis=1).transpose()"
   ]
  },
  {
   "cell_type": "code",
   "execution_count": 10,
   "metadata": {},
   "outputs": [
    {
     "data": {
      "text/plain": [
       "0     True\n",
       "1     True\n",
       "2     True\n",
       "3     True\n",
       "4     True\n",
       "5     True\n",
       "6     True\n",
       "7     True\n",
       "8     True\n",
       "9     True\n",
       "10    True\n",
       "11    True\n",
       "12    True\n",
       "dtype: bool"
      ]
     },
     "execution_count": 10,
     "metadata": {},
     "output_type": "execute_result"
    }
   ],
   "source": [
    "(table > 0).all(0)"
   ]
  },
  {
   "cell_type": "code",
   "execution_count": 11,
   "metadata": {
    "tags": []
   },
   "outputs": [
    {
     "name": "stderr",
     "output_type": "stream",
     "text": [
      "C:\\Users\\olefr\\AppData\\Local\\Temp/ipykernel_25924/3290136690.py:2: FutureWarning: In a future version of pandas all arguments of DataFrame.dropna will be keyword-only\n",
      "  table = table.dropna(1)\n"
     ]
    }
   ],
   "source": [
    "#table = table.loc[:, (table > 0).all(0)]\n",
    "table = table.dropna(1)"
   ]
  },
  {
   "cell_type": "code",
   "execution_count": 12,
   "metadata": {},
   "outputs": [
    {
     "data": {
      "text/html": [
       "<div>\n",
       "<style scoped>\n",
       "    .dataframe tbody tr th:only-of-type {\n",
       "        vertical-align: middle;\n",
       "    }\n",
       "\n",
       "    .dataframe tbody tr th {\n",
       "        vertical-align: top;\n",
       "    }\n",
       "\n",
       "    .dataframe thead th {\n",
       "        text-align: right;\n",
       "    }\n",
       "</style>\n",
       "<table border=\"1\" class=\"dataframe\">\n",
       "  <thead>\n",
       "    <tr style=\"text-align: right;\">\n",
       "      <th></th>\n",
       "      <th>0</th>\n",
       "      <th>1</th>\n",
       "      <th>2</th>\n",
       "      <th>3</th>\n",
       "      <th>4</th>\n",
       "      <th>5</th>\n",
       "      <th>6</th>\n",
       "      <th>7</th>\n",
       "      <th>8</th>\n",
       "      <th>9</th>\n",
       "      <th>10</th>\n",
       "      <th>11</th>\n",
       "      <th>12</th>\n",
       "    </tr>\n",
       "  </thead>\n",
       "  <tbody>\n",
       "    <tr>\n",
       "      <th>VALUE</th>\n",
       "      <td>20.35</td>\n",
       "      <td>19.55</td>\n",
       "      <td>23.06</td>\n",
       "      <td>19.40</td>\n",
       "      <td>25.30</td>\n",
       "      <td>21.84</td>\n",
       "      <td>27.28</td>\n",
       "      <td>22.45</td>\n",
       "      <td>25.03</td>\n",
       "      <td>12.62</td>\n",
       "      <td>24.17</td>\n",
       "      <td>23.83</td>\n",
       "      <td>22.36</td>\n",
       "    </tr>\n",
       "    <tr>\n",
       "      <th>VALUE</th>\n",
       "      <td>20.42</td>\n",
       "      <td>19.18</td>\n",
       "      <td>22.83</td>\n",
       "      <td>18.95</td>\n",
       "      <td>24.49</td>\n",
       "      <td>22.50</td>\n",
       "      <td>26.24</td>\n",
       "      <td>21.10</td>\n",
       "      <td>26.34</td>\n",
       "      <td>13.04</td>\n",
       "      <td>25.09</td>\n",
       "      <td>25.10</td>\n",
       "      <td>22.78</td>\n",
       "    </tr>\n",
       "    <tr>\n",
       "      <th>VALUE</th>\n",
       "      <td>20.50</td>\n",
       "      <td>19.49</td>\n",
       "      <td>23.24</td>\n",
       "      <td>19.23</td>\n",
       "      <td>24.65</td>\n",
       "      <td>22.37</td>\n",
       "      <td>25.96</td>\n",
       "      <td>21.44</td>\n",
       "      <td>26.48</td>\n",
       "      <td>13.25</td>\n",
       "      <td>25.12</td>\n",
       "      <td>25.16</td>\n",
       "      <td>22.93</td>\n",
       "    </tr>\n",
       "    <tr>\n",
       "      <th>VALUE</th>\n",
       "      <td>20.31</td>\n",
       "      <td>19.01</td>\n",
       "      <td>23.12</td>\n",
       "      <td>19.25</td>\n",
       "      <td>25.21</td>\n",
       "      <td>22.33</td>\n",
       "      <td>26.52</td>\n",
       "      <td>21.68</td>\n",
       "      <td>26.29</td>\n",
       "      <td>14.37</td>\n",
       "      <td>25.84</td>\n",
       "      <td>25.38</td>\n",
       "      <td>23.50</td>\n",
       "    </tr>\n",
       "    <tr>\n",
       "      <th>VALUE</th>\n",
       "      <td>20.01</td>\n",
       "      <td>18.82</td>\n",
       "      <td>23.70</td>\n",
       "      <td>19.89</td>\n",
       "      <td>25.63</td>\n",
       "      <td>22.76</td>\n",
       "      <td>26.81</td>\n",
       "      <td>21.94</td>\n",
       "      <td>26.17</td>\n",
       "      <td>14.42</td>\n",
       "      <td>25.73</td>\n",
       "      <td>25.59</td>\n",
       "      <td>23.38</td>\n",
       "    </tr>\n",
       "    <tr>\n",
       "      <th>...</th>\n",
       "      <td>...</td>\n",
       "      <td>...</td>\n",
       "      <td>...</td>\n",
       "      <td>...</td>\n",
       "      <td>...</td>\n",
       "      <td>...</td>\n",
       "      <td>...</td>\n",
       "      <td>...</td>\n",
       "      <td>...</td>\n",
       "      <td>...</td>\n",
       "      <td>...</td>\n",
       "      <td>...</td>\n",
       "      <td>...</td>\n",
       "    </tr>\n",
       "    <tr>\n",
       "      <th>VALUE</th>\n",
       "      <td>19.25</td>\n",
       "      <td>17.34</td>\n",
       "      <td>22.90</td>\n",
       "      <td>18.06</td>\n",
       "      <td>23.97</td>\n",
       "      <td>22.25</td>\n",
       "      <td>26.32</td>\n",
       "      <td>22.45</td>\n",
       "      <td>27.45</td>\n",
       "      <td>14.59</td>\n",
       "      <td>26.29</td>\n",
       "      <td>25.76</td>\n",
       "      <td>23.67</td>\n",
       "    </tr>\n",
       "    <tr>\n",
       "      <th>VALUE</th>\n",
       "      <td>20.47</td>\n",
       "      <td>19.14</td>\n",
       "      <td>24.27</td>\n",
       "      <td>19.68</td>\n",
       "      <td>25.73</td>\n",
       "      <td>24.45</td>\n",
       "      <td>27.52</td>\n",
       "      <td>24.15</td>\n",
       "      <td>28.28</td>\n",
       "      <td>15.47</td>\n",
       "      <td>26.04</td>\n",
       "      <td>25.31</td>\n",
       "      <td>24.44</td>\n",
       "    </tr>\n",
       "    <tr>\n",
       "      <th>VALUE</th>\n",
       "      <td>21.76</td>\n",
       "      <td>19.41</td>\n",
       "      <td>23.56</td>\n",
       "      <td>18.66</td>\n",
       "      <td>25.14</td>\n",
       "      <td>23.47</td>\n",
       "      <td>27.61</td>\n",
       "      <td>23.37</td>\n",
       "      <td>27.38</td>\n",
       "      <td>13.73</td>\n",
       "      <td>26.14</td>\n",
       "      <td>26.74</td>\n",
       "      <td>23.78</td>\n",
       "    </tr>\n",
       "    <tr>\n",
       "      <th>VALUE</th>\n",
       "      <td>20.78</td>\n",
       "      <td>19.15</td>\n",
       "      <td>24.14</td>\n",
       "      <td>19.25</td>\n",
       "      <td>25.80</td>\n",
       "      <td>24.38</td>\n",
       "      <td>27.38</td>\n",
       "      <td>23.92</td>\n",
       "      <td>28.14</td>\n",
       "      <td>14.39</td>\n",
       "      <td>26.19</td>\n",
       "      <td>27.25</td>\n",
       "      <td>24.47</td>\n",
       "    </tr>\n",
       "    <tr>\n",
       "      <th>VALUE</th>\n",
       "      <td>21.84</td>\n",
       "      <td>19.56</td>\n",
       "      <td>24.60</td>\n",
       "      <td>19.40</td>\n",
       "      <td>26.01</td>\n",
       "      <td>23.92</td>\n",
       "      <td>27.47</td>\n",
       "      <td>23.56</td>\n",
       "      <td>27.73</td>\n",
       "      <td>14.68</td>\n",
       "      <td>26.38</td>\n",
       "      <td>27.31</td>\n",
       "      <td>24.26</td>\n",
       "    </tr>\n",
       "  </tbody>\n",
       "</table>\n",
       "<p>1032 rows × 13 columns</p>\n",
       "</div>"
      ],
      "text/plain": [
       "          0      1      2      3      4      5      6      7      8      9   \\\n",
       "VALUE  20.35  19.55  23.06  19.40  25.30  21.84  27.28  22.45  25.03  12.62   \n",
       "VALUE  20.42  19.18  22.83  18.95  24.49  22.50  26.24  21.10  26.34  13.04   \n",
       "VALUE  20.50  19.49  23.24  19.23  24.65  22.37  25.96  21.44  26.48  13.25   \n",
       "VALUE  20.31  19.01  23.12  19.25  25.21  22.33  26.52  21.68  26.29  14.37   \n",
       "VALUE  20.01  18.82  23.70  19.89  25.63  22.76  26.81  21.94  26.17  14.42   \n",
       "...      ...    ...    ...    ...    ...    ...    ...    ...    ...    ...   \n",
       "VALUE  19.25  17.34  22.90  18.06  23.97  22.25  26.32  22.45  27.45  14.59   \n",
       "VALUE  20.47  19.14  24.27  19.68  25.73  24.45  27.52  24.15  28.28  15.47   \n",
       "VALUE  21.76  19.41  23.56  18.66  25.14  23.47  27.61  23.37  27.38  13.73   \n",
       "VALUE  20.78  19.15  24.14  19.25  25.80  24.38  27.38  23.92  28.14  14.39   \n",
       "VALUE  21.84  19.56  24.60  19.40  26.01  23.92  27.47  23.56  27.73  14.68   \n",
       "\n",
       "          10     11     12  \n",
       "VALUE  24.17  23.83  22.36  \n",
       "VALUE  25.09  25.10  22.78  \n",
       "VALUE  25.12  25.16  22.93  \n",
       "VALUE  25.84  25.38  23.50  \n",
       "VALUE  25.73  25.59  23.38  \n",
       "...      ...    ...    ...  \n",
       "VALUE  26.29  25.76  23.67  \n",
       "VALUE  26.04  25.31  24.44  \n",
       "VALUE  26.14  26.74  23.78  \n",
       "VALUE  26.19  27.25  24.47  \n",
       "VALUE  26.38  27.31  24.26  \n",
       "\n",
       "[1032 rows x 13 columns]"
      ]
     },
     "execution_count": 12,
     "metadata": {},
     "output_type": "execute_result"
    }
   ],
   "source": [
    "table"
   ]
  },
  {
   "cell_type": "code",
   "execution_count": 13,
   "metadata": {},
   "outputs": [
    {
     "data": {
      "text/plain": [
       "0     20.130426\n",
       "1     19.393973\n",
       "2     23.665107\n",
       "3     19.538130\n",
       "4     25.409593\n",
       "5     23.246269\n",
       "6     26.473624\n",
       "7     22.588479\n",
       "8     26.393110\n",
       "9     15.181308\n",
       "10    26.584729\n",
       "11    26.800388\n",
       "12    24.635155\n",
       "dtype: float64"
      ]
     },
     "execution_count": 13,
     "metadata": {},
     "output_type": "execute_result"
    }
   ],
   "source": [
    "np.mean(table)"
   ]
  },
  {
   "cell_type": "code",
   "execution_count": 14,
   "metadata": {
    "tags": []
   },
   "outputs": [],
   "source": [
    "def get_means_and_variances(table):\n",
    "    return np.mean(table), np.var(table, ddof=1)"
   ]
  },
  {
   "cell_type": "code",
   "execution_count": 15,
   "metadata": {
    "tags": []
   },
   "outputs": [],
   "source": [
    "def mean_variance_plot(table):\n",
    "    means, variances = get_means_and_variances(table)\n",
    "    plt.scatter(means, variances)\n",
    "    plt.xlabel(\"mean\")\n",
    "    plt.ylabel(\"variance\")\n",
    "    plt.plot()"
   ]
  },
  {
   "cell_type": "code",
   "execution_count": 16,
   "metadata": {},
   "outputs": [
    {
     "data": {
      "image/png": "[encoded data removed]",
      "text/plain": [
       "<Figure size 432x288 with 1 Axes>"
      ]
     },
     "metadata": {
      "needs_background": "light"
     },
     "output_type": "display_data"
    }
   ],
   "source": [
    "mean_variance_plot(table)"
   ]
  },
  {
   "cell_type": "markdown",
   "metadata": {},
   "source": [
    "### Trying log-transformation"
   ]
  },
  {
   "cell_type": "code",
   "execution_count": 17,
   "metadata": {
    "tags": []
   },
   "outputs": [],
   "source": [
    "log_table = table#np.log2(table)"
   ]
  },
  {
   "cell_type": "code",
   "execution_count": 18,
   "metadata": {},
   "outputs": [
    {
     "data": {
      "image/png": "[encoded data removed]",
      "text/plain": [
       "<Figure size 432x288 with 1 Axes>"
      ]
     },
     "metadata": {
      "needs_background": "light"
     },
     "output_type": "display_data"
    }
   ],
   "source": [
    "mean_variance_plot(log_table)"
   ]
  },
  {
   "cell_type": "code",
   "execution_count": 19,
   "metadata": {
    "tags": []
   },
   "outputs": [],
   "source": [
    "norm_log_table = log_table - np.mean(log_table)"
   ]
  },
  {
   "cell_type": "code",
   "execution_count": 20,
   "metadata": {},
   "outputs": [],
   "source": [
    "norm_log_table /= np.sqrt(np.mean(np.var(norm_log_table, ddof=1)))"
   ]
  },
  {
   "cell_type": "code",
   "execution_count": 21,
   "metadata": {},
   "outputs": [
    {
     "data": {
      "image/png": "[encoded data removed]",
      "text/plain": [
       "<Figure size 432x288 with 1 Axes>"
      ]
     },
     "metadata": {
      "needs_background": "light"
     },
     "output_type": "display_data"
    }
   ],
   "source": [
    "mean_variance_plot(norm_log_table)"
   ]
  },
  {
   "cell_type": "code",
   "execution_count": 22,
   "metadata": {
    "tags": []
   },
   "outputs": [],
   "source": [
    "pca = decomposition.PCA(n_components=2)"
   ]
  },
  {
   "cell_type": "code",
   "execution_count": 23,
   "metadata": {},
   "outputs": [
    {
     "data": {
      "text/plain": [
       "PCA(n_components=2)"
      ]
     },
     "execution_count": 23,
     "metadata": {},
     "output_type": "execute_result"
    }
   ],
   "source": [
    "pca.fit(norm_log_table)"
   ]
  },
  {
   "cell_type": "code",
   "execution_count": 24,
   "metadata": {
    "tags": []
   },
   "outputs": [],
   "source": [
    "components = pca.transform(norm_log_table)"
   ]
  },
  {
   "cell_type": "code",
   "execution_count": 25,
   "metadata": {},
   "outputs": [
    {
     "data": {
      "text/plain": [
       "array([[ 0.91161454, -8.14110219],\n",
       "       [-0.58860009, -6.23568997],\n",
       "       [-0.18413697, -5.80924946],\n",
       "       ...,\n",
       "       [ 2.28136731, -1.35188992],\n",
       "       [ 3.83183451,  0.83384814],\n",
       "       [ 3.34456109,  0.8747452 ]])"
      ]
     },
     "execution_count": 25,
     "metadata": {},
     "output_type": "execute_result"
    }
   ],
   "source": [
    "components"
   ]
  },
  {
   "cell_type": "code",
   "execution_count": 26,
   "metadata": {},
   "outputs": [
    {
     "data": {
      "text/plain": [
       "{'title': ['W999'],\n",
       " 'geo_accession': ['GSM2026050'],\n",
       " 'status': ['Public on Feb 29 2016'],\n",
       " 'submission_date': ['Dec 31 2015'],\n",
       " 'last_update_date': ['Feb 29 2016'],\n",
       " 'type': ['RNA'],\n",
       " 'channel_count': ['1'],\n",
       " 'source_name_ch1': ['Serum'],\n",
       " 'organism_ch1': ['Homo sapiens'],\n",
       " 'taxid_ch1': ['9606'],\n",
       " 'characteristics_ch1': ['group: SCREENING', 'sample type: Control'],\n",
       " 'molecule_ch1': ['total RNA'],\n",
       " 'extract_protocol_ch1': ['Blood collection: Blood samples (10 ml) were collected by standard phlebotomy before any analysis or instrumental procedure. The first 3 mL of blood were not used for serum preparation to prevent contamination by skin. Serum was prepared by collecting blood in tubes with clot activator (S-Monovette 7.5ml REF01.1601 â€“ Sarstedt), left at room temperature for 3 hours to clot, then spun at 3000 rpm (1000 g, Megafuge 2.0 Heraeus) for 10 minutes at RT. The serum was removed immediately after centrifugation, leaving a 0.5 cm leftover to avoid disturbing the serum-clot interface. Serum was then aliquoted in barcoded cryotubes and snap frozen in dry ice. Aliquots were stored in a dedicated -80Â°C fridge.  Serum miRNA purification: Total RNA purification, including miRNAs, was based on lysis with Guanidinium thiocyanate-phenol-chloroform extraction (TriZol-LS, Applied Biosystem) and Spin Column-based total RNA purification (MiRneasy Mini Kit, Qiagen). Briefly, 0.3 mL of serum were mixed with Trizol-LS in volumetric ratios of 3:1 for lysis. After denaturation, a spike of synthetic miRNA (5x108 copies of miR-34a) was added to the solution to monitor the extraction efficiency. A volume of 0.24 mL of Chloroform was added to the solution, which was then centrifuged for 15 min at 11,800g at 4Â°C. A fixed amount (0.35 mL; around 70% of the final volume of the sample) of aqueous phase was recovered. This choice was preferred to limit contamination from the interphase. The subsequent steps were performed in automation through a Qiacube machine (QIAGEN), according to the â€œmiRNEASY Miniâ€ standard protocol. RNA was eluted in 30 uL and stored at -80Â°C until further analysis.'],\n",
       " 'label_ch1': ['n/a'],\n",
       " 'label_protocol_ch1': [\"Reverse transcription (RT) and pre-amplification reaction (Pre-AMP) protocols were optimized by using a MicroLab Star Liquid Handling. RT was performed from a fixed volume (3 uL) of total RNA with TaqMan MicroRNA Reverse Transcription Kit and a custom pool of Human miRNA-specific stem-loop primers (Applied Biosystem) according to the manufacturer's instruction, in a 2720 Thermo Cycler (Applied Biosystem). RT product was then diluted 1:2 with water; 5 uL of diluted RT product were pre-amplified (12 cycles of PCR) with TaqMan PreAmp Master Mix (2X) and Megaplex PreAmp Primers Human PoolA (Applied Biosystem), according to the manufacturer's instruction. The pre-amplification reaction was diluted 1:4 with Tris-EDTA buffer 0.1X. Next, 6 uL of diluted pre-amplification reaction were combined with 46.5 uL of water and with 52.5 uL of TaqMan Universal Master Mix II (Applied Biosystem). The final solution (105 uL) was loaded into one lane of a custom TaqManÂ¨ Low Density Array microRNA Custom Panel (Applied Biosystem). RTQ-PCR was carried out on an Applied Biosystems 7900HT thermocycler using the manufacturer's recommended cycling conditions. We used a Hamilton MICROLABÂ¨ STAR liquid handling workstation to automate most of the described processes.\"],\n",
       " 'hyb_protocol': ['n/a'],\n",
       " 'scan_protocol': ['n/a'],\n",
       " 'data_processing': ['Data were exported into text format for further analysis. If qRT-PCR amplification curves presented a â€œTholdfailâ€ error flag (i.e. the automatic thresholding algorithm failed), data were discarded. Subsequently, raw Ct values were normalized. In the case of techincal replicates, data were averaged after normalization procedure described hereafter. To run the miR-Test, data were normalized using mean CTs (HK-mean) of six â€œhousekeepingâ€ miRNAs genes (miR-197, miR-19b, miR-24, miR-146, miR-15b, miR-19a; (1)) using the following procedure: a scaling factor (SF) was calculated for each sample by subtracting the â€œHK-meanâ€ to a constant value (K = 21.646). Data were then normalized by these SFs to eliminate technical fluctuations, using the formula: SF + miRNA CTraw = CTnormalized. If CT raw was greater than 30.01 or â€˜undeterminedâ€™ by qRT-PCR, data was set to 30.01 and normalization skipped. This normalization strategy assures an independency from the original set of samples used to train the miR-Test, and allow new samples classification without the need of an internal reference.   The Calibration set was used to: i) refine DLDA weight coefficients (wi) of the miRNA signature by using diagonal linear discriminant analysis (DLDA) as class metric (BRB-ArrayTools version 4.3.0 - Beta_2 Release); ii) reduce the number of miRNAs in the signature. The leaveâ€“one-out (LOO) cross-validation procedure was used to cross-validate the classifier and estimate sensitivity and specificity in the calibration set. Parametric t-test set at 0.05 significance level was used for feature selection. Statistical significance of the performance of the classifier was assessed by performing 1000 permutations of class labels. Samples were then classified as positive or negative if the absolute value of the inner sum of weighted expressions (CTnorm*wi) was greater than the absolute value of the threshold. Since both weights and threshold are negative, the risk score was calculated as:     RS= - (âˆ‘i wi xi - THRES), for i=1â€¦13 (13-miRNA signature).    Where THRES = -261.779, wi is the weight coefficient of the ith miRNA (Supplemental Table 2), and xi is the expression value (CT) of the ith miRNA.    All bioinformatical analyses were automated using a custom R script developed in-house using the R statistical software version 2.14.1. The script allows to read the information content of the output documents from the Applied Biosystems ViiA 7â„¢ and provides miR-Test risk scores automatically.'],\n",
       " 'platform_id': ['GPL21291'],\n",
       " 'contact_name': ['Fabrizio,,Bianchi'],\n",
       " 'contact_email': ['f.bianchi@operapadrepio.it'],\n",
       " 'contact_laboratory': ['Cancer Biomarkers'],\n",
       " 'contact_department': ['Institute for Stem-cell Biology, Regenerative Medicine and Innovative Therapies (ISBReMIT)'],\n",
       " 'contact_institute': ['Fondazione IRCCS Casa Sollievo della Sofferenza'],\n",
       " 'contact_address': ['Viale Padre Pio 7'],\n",
       " 'contact_city': ['San Giovanni Rotondo (FG)'],\n",
       " 'contact_state': ['Outside U.S. & Canada'],\n",
       " 'contact_zip/postal_code': ['71013'],\n",
       " 'contact_country': ['Italy'],\n",
       " 'supplementary_file': ['NONE'],\n",
       " 'series_id': ['GSE76462'],\n",
       " 'data_row_count': ['13']}"
      ]
     },
     "execution_count": 26,
     "metadata": {},
     "output_type": "execute_result"
    }
   ],
   "source": [
    "list(data.gsms.values())[-1].metadata"
   ]
  },
  {
   "cell_type": "code",
   "execution_count": 27,
   "metadata": {
    "tags": []
   },
   "outputs": [],
   "source": [
    "controls = np.array([\"Control\" in k.metadata[\"characteristics_ch1\"][1] for k in list(data.gsms.values())])"
   ]
  },
  {
   "cell_type": "code",
   "execution_count": 28,
   "metadata": {},
   "outputs": [
    {
     "data": {
      "image/png": "[encoded data removed]",
      "text/plain": [
       "<Figure size 576x576 with 1 Axes>"
      ]
     },
     "metadata": {
      "needs_background": "light"
     },
     "output_type": "display_data"
    }
   ],
   "source": [
    "fig = plt.figure(figsize = (8,8))\n",
    "ax = fig.add_subplot(1,1,1)\n",
    "\n",
    "ax.set_xlabel('Principal Component 1', fontsize = 15)\n",
    "ax.set_ylabel('Principal Component 2', fontsize = 15)\n",
    "ax.set_title('2 component PCA', fontsize = 20)\n",
    "targets = ['Cancer', 'Healthy']\n",
    "colors = ['r', 'g']\n",
    "ax.scatter(components[controls == False, 0], components[controls == False, 1], c = 'r', s = 10)\n",
    "ax.scatter(components[controls == True, 0], components[controls == True, 1], c = 'g', s = 10)\n",
    "ax.legend(targets)\n",
    "ax.grid()"
   ]
  },
  {
   "cell_type": "code",
   "execution_count": 29,
   "metadata": {},
   "outputs": [
    {
     "data": {
      "image/png": "[encoded data removed]",
      "text/plain": [
       "<Figure size 576x576 with 1 Axes>"
      ]
     },
     "metadata": {
      "needs_background": "light"
     },
     "output_type": "display_data"
    }
   ],
   "source": [
    "fig = plt.figure(figsize = (8,8))\n",
    "ax = fig.add_subplot(1,1,1)\n",
    "\n",
    "ax.set_xlabel('Principal Component 1', fontsize = 15)\n",
    "ax.set_ylabel('Principal Component 2', fontsize = 15)\n",
    "ax.set_title('2 component PCA', fontsize = 20)\n",
    "targets = ['Cancer', 'Healthy'][::-1]\n",
    "colors = ['r', 'g']\n",
    "ax.scatter(components[controls == True, 0], components[controls == True, 1], c = 'g', s = 10)\n",
    "ax.scatter(components[controls == False, 0], components[controls == False, 1], c = 'r', s = 10)\n",
    "ax.legend(targets)\n",
    "ax.grid()"
   ]
  },
  {
   "cell_type": "markdown",
   "metadata": {},
   "source": [
    "### Logistic Regression"
   ]
  },
  {
   "cell_type": "code",
   "execution_count": 30,
   "metadata": {},
   "outputs": [],
   "source": [
    "X_train, X_test, y_train, y_test = train_test_split(norm_log_table, controls, test_size=0.33, random_state=42)"
   ]
  },
  {
   "cell_type": "code",
   "execution_count": 31,
   "metadata": {},
   "outputs": [
    {
     "data": {
      "text/plain": [
       "LogisticRegression()"
      ]
     },
     "execution_count": 31,
     "metadata": {},
     "output_type": "execute_result"
    }
   ],
   "source": [
    "model = LogisticRegression()\n",
    "model.fit(X_train, y_train)"
   ]
  },
  {
   "cell_type": "code",
   "execution_count": 32,
   "metadata": {},
   "outputs": [
    {
     "name": "stderr",
     "output_type": "stream",
     "text": [
      "C:\\Users\\olefr\\AppData\\Local\\Programs\\Python\\Python310\\lib\\site-packages\\sklearn\\utils\\deprecation.py:87: FutureWarning: Function plot_roc_curve is deprecated; Function :func:`plot_roc_curve` is deprecated in 1.0 and will be removed in 1.2. Use one of the class methods: :meth:`sklearn.metric.RocCurveDisplay.from_predictions` or :meth:`sklearn.metric.RocCurveDisplay.from_estimator`.\n",
      "  warnings.warn(msg, category=FutureWarning)\n"
     ]
    },
    {
     "data": {
      "text/plain": [
       "<sklearn.metrics._plot.roc_curve.RocCurveDisplay at 0x287de36b580>"
      ]
     },
     "execution_count": 32,
     "metadata": {},
     "output_type": "execute_result"
    },
    {
     "data": {
      "image/png": "[encoded data removed]",
      "text/plain": [
       "<Figure size 432x288 with 1 Axes>"
      ]
     },
     "metadata": {
      "needs_background": "light"
     },
     "output_type": "display_data"
    }
   ],
   "source": [
    "plot_roc_curve(model, X_test, y_test)"
   ]
  },
  {
   "cell_type": "markdown",
   "metadata": {
    "jupyter": {
     "outputs_hidden": true
    },
    "tags": []
   },
   "source": [
    "### XGBoost"
   ]
  },
  {
   "cell_type": "code",
   "execution_count": 33,
   "metadata": {},
   "outputs": [],
   "source": [
    "X_train, X_test, y_train, y_test = train_test_split(norm_log_table, controls, test_size=0.33, random_state=42)"
   ]
  },
  {
   "cell_type": "code",
   "execution_count": 34,
   "metadata": {},
   "outputs": [
    {
     "name": "stdout",
     "output_type": "stream",
     "text": [
      "[07:07:32] WARNING: C:/Users/Administrator/workspace/xgboost-win64_release_1.5.1/src/learner.cc:1115: Starting in XGBoost 1.3.0, the default evaluation metric used with the objective 'binary:logistic' was changed from 'error' to 'logloss'. Explicitly set eval_metric if you'd like to restore the old behavior.\n"
     ]
    },
    {
     "data": {
      "text/plain": [
       "XGBClassifier(base_score=0.5, booster='gbtree', colsample_bylevel=1,\n",
       "              colsample_bynode=1, colsample_bytree=1, enable_categorical=False,\n",
       "              gamma=0, gpu_id=-1, importance_type=None,\n",
       "              interaction_constraints='', learning_rate=0.300000012,\n",
       "              max_delta_step=0, max_depth=6, min_child_weight=1, missing=nan,\n",
       "              monotone_constraints='()', n_estimators=100, n_jobs=16,\n",
       "              num_parallel_tree=1, predictor='auto', random_state=0,\n",
       "              reg_alpha=0, reg_lambda=1, scale_pos_weight=1, subsample=1,\n",
       "              tree_method='exact', use_label_encoder=False,\n",
       "              validate_parameters=1, verbosity=None)"
      ]
     },
     "execution_count": 34,
     "metadata": {},
     "output_type": "execute_result"
    }
   ],
   "source": [
    "model = XGBClassifier(use_label_encoder=False)\n",
    "model.fit(X_train, y_train)"
   ]
  },
  {
   "cell_type": "code",
   "execution_count": 35,
   "metadata": {},
   "outputs": [
    {
     "name": "stderr",
     "output_type": "stream",
     "text": [
      "C:\\Users\\olefr\\AppData\\Local\\Programs\\Python\\Python310\\lib\\site-packages\\sklearn\\utils\\deprecation.py:87: FutureWarning: Function plot_roc_curve is deprecated; Function :func:`plot_roc_curve` is deprecated in 1.0 and will be removed in 1.2. Use one of the class methods: :meth:`sklearn.metric.RocCurveDisplay.from_predictions` or :meth:`sklearn.metric.RocCurveDisplay.from_estimator`.\n",
      "  warnings.warn(msg, category=FutureWarning)\n"
     ]
    },
    {
     "data": {
      "text/plain": [
       "<sklearn.metrics._plot.roc_curve.RocCurveDisplay at 0x287de4115a0>"
      ]
     },
     "execution_count": 35,
     "metadata": {},
     "output_type": "execute_result"
    },
    {
     "data": {
      "image/png": "[encoded data removed]",
      "text/plain": [
       "<Figure size 432x288 with 1 Axes>"
      ]
     },
     "metadata": {
      "needs_background": "light"
     },
     "output_type": "display_data"
    }
   ],
   "source": [
    "plot_roc_curve(model, X_test, y_test)"
   ]
  },
  {
   "cell_type": "markdown",
   "metadata": {},
   "source": [
    "### Export dataset"
   ]
  },
  {
   "cell_type": "code",
   "execution_count": 36,
   "metadata": {},
   "outputs": [],
   "source": [
    "mirnas = list(data.gsms.values())[0].table.iloc[:, 0]"
   ]
  },
  {
   "cell_type": "code",
   "execution_count": 37,
   "metadata": {},
   "outputs": [
    {
     "data": {
      "text/plain": [
       "0        hsa-mir-92a-000431\n",
       "1        hsa-mir-484-001821\n",
       "2        hsa-mir-328-000543\n",
       "3        hsa-mir-191-002299\n",
       "4     hsa-mir-331-3p-000545\n",
       "5        hsa-mir-30c-000419\n",
       "6       hsa-miR-374a-000563\n",
       "7        hsa-mir-30b-000602\n",
       "8         hsa-let-7d-002283\n",
       "9        hsa-mir-223-002295\n",
       "10       hsa-mir-29a-002112\n",
       "11      hsa-mir-148a-000470\n",
       "12    hsa-mir-140-5p-001187\n",
       "Name: ID_REF, dtype: object"
      ]
     },
     "execution_count": 37,
     "metadata": {},
     "output_type": "execute_result"
    }
   ],
   "source": [
    "mirnas"
   ]
  },
  {
   "cell_type": "code",
   "execution_count": 38,
   "metadata": {},
   "outputs": [],
   "source": [
    "lookup_table = data.gpls[data.metadata[\"platform_id\"][0]].table.set_index(\"ID\")"
   ]
  },
  {
   "cell_type": "code",
   "execution_count": 39,
   "metadata": {},
   "outputs": [
    {
     "data": {
      "text/html": [
       "<div>\n",
       "<style scoped>\n",
       "    .dataframe tbody tr th:only-of-type {\n",
       "        vertical-align: middle;\n",
       "    }\n",
       "\n",
       "    .dataframe tbody tr th {\n",
       "        vertical-align: top;\n",
       "    }\n",
       "\n",
       "    .dataframe thead th {\n",
       "        text-align: right;\n",
       "    }\n",
       "</style>\n",
       "<table border=\"1\" class=\"dataframe\">\n",
       "  <thead>\n",
       "    <tr style=\"text-align: right;\">\n",
       "      <th></th>\n",
       "      <th>miRNA_ID</th>\n",
       "      <th>Accession</th>\n",
       "      <th>SEQUENCE</th>\n",
       "    </tr>\n",
       "    <tr>\n",
       "      <th>ID</th>\n",
       "      <th></th>\n",
       "      <th></th>\n",
       "      <th></th>\n",
       "    </tr>\n",
       "  </thead>\n",
       "  <tbody>\n",
       "    <tr>\n",
       "      <th>hsa-mir-92a-000431</th>\n",
       "      <td>hsa-mir-92a-3p</td>\n",
       "      <td>MI0000094</td>\n",
       "      <td>UAUUGCACUUGUCCCGGCCUGU</td>\n",
       "    </tr>\n",
       "    <tr>\n",
       "      <th>hsa-mir-484-001821</th>\n",
       "      <td>hsa-mir-484</td>\n",
       "      <td>MI0002468</td>\n",
       "      <td>UCAGGCUCAGUCCCCUCCCGAU</td>\n",
       "    </tr>\n",
       "    <tr>\n",
       "      <th>hsa-mir-328-000543</th>\n",
       "      <td>hsa-mir-328-3p</td>\n",
       "      <td>MI0000804</td>\n",
       "      <td>CUGGCCCUCUCUGCCCUUCCGU</td>\n",
       "    </tr>\n",
       "    <tr>\n",
       "      <th>hsa-mir-191-002299</th>\n",
       "      <td>hsa-mir-191-5p</td>\n",
       "      <td>MI0000465</td>\n",
       "      <td>CAACGGAAUCCCAAAAGCAGCUG</td>\n",
       "    </tr>\n",
       "    <tr>\n",
       "      <th>hsa-mir-331-3p-000545</th>\n",
       "      <td>hsa-mir-331-3p</td>\n",
       "      <td>MI0000812</td>\n",
       "      <td>GCCCCUGGGCCUAUCCUAGAA</td>\n",
       "    </tr>\n",
       "  </tbody>\n",
       "</table>\n",
       "</div>"
      ],
      "text/plain": [
       "                             miRNA_ID  Accession                 SEQUENCE\n",
       "ID                                                                       \n",
       "hsa-mir-92a-000431     hsa-mir-92a-3p  MI0000094   UAUUGCACUUGUCCCGGCCUGU\n",
       "hsa-mir-484-001821        hsa-mir-484  MI0002468   UCAGGCUCAGUCCCCUCCCGAU\n",
       "hsa-mir-328-000543     hsa-mir-328-3p  MI0000804   CUGGCCCUCUCUGCCCUUCCGU\n",
       "hsa-mir-191-002299     hsa-mir-191-5p  MI0000465  CAACGGAAUCCCAAAAGCAGCUG\n",
       "hsa-mir-331-3p-000545  hsa-mir-331-3p  MI0000812    GCCCCUGGGCCUAUCCUAGAA"
      ]
     },
     "execution_count": 39,
     "metadata": {},
     "output_type": "execute_result"
    }
   ],
   "source": [
    "lookup_table.head()"
   ]
  },
  {
   "cell_type": "code",
   "execution_count": 40,
   "metadata": {},
   "outputs": [],
   "source": [
    "sequences = lookup_table.loc[mirnas][\"SEQUENCE\"]"
   ]
  },
  {
   "cell_type": "code",
   "execution_count": 41,
   "metadata": {},
   "outputs": [],
   "source": [
    "norm_log_table.columns = sequences"
   ]
  },
  {
   "cell_type": "code",
   "execution_count": 42,
   "metadata": {},
   "outputs": [
    {
     "data": {
      "text/html": [
       "<div>\n",
       "<style scoped>\n",
       "    .dataframe tbody tr th:only-of-type {\n",
       "        vertical-align: middle;\n",
       "    }\n",
       "\n",
       "    .dataframe tbody tr th {\n",
       "        vertical-align: top;\n",
       "    }\n",
       "\n",
       "    .dataframe thead th {\n",
       "        text-align: right;\n",
       "    }\n",
       "</style>\n",
       "<table border=\"1\" class=\"dataframe\">\n",
       "  <thead>\n",
       "    <tr style=\"text-align: right;\">\n",
       "      <th>SEQUENCE</th>\n",
       "      <th>UAUUGCACUUGUCCCGGCCUGU</th>\n",
       "      <th>UCAGGCUCAGUCCCCUCCCGAU</th>\n",
       "      <th>CUGGCCCUCUCUGCCCUUCCGU</th>\n",
       "      <th>CAACGGAAUCCCAAAAGCAGCUG</th>\n",
       "      <th>GCCCCUGGGCCUAUCCUAGAA</th>\n",
       "      <th>UGUAAACAUCCUACACUCUCAGC</th>\n",
       "      <th>UUAUAAUACAACCUGAUAAGUG</th>\n",
       "      <th>UGUAAACAUCCUACACUCAGCU</th>\n",
       "      <th>AGAGGUAGUAGGUUGCAUAGUU</th>\n",
       "      <th>UGUCAGUUUGUCAAAUACCCCA</th>\n",
       "      <th>UAGCACCAUCUGAAAUCGGUUA</th>\n",
       "      <th>UCAGUGCACUACAGAACUUUGU</th>\n",
       "      <th>CAGUGGUUUUACCCUAUGGUAG</th>\n",
       "      <th>cancer</th>\n",
       "    </tr>\n",
       "  </thead>\n",
       "  <tbody>\n",
       "    <tr>\n",
       "      <th>VALUE</th>\n",
       "      <td>-0.344880</td>\n",
       "      <td>-0.245069</td>\n",
       "      <td>0.950429</td>\n",
       "      <td>0.216958</td>\n",
       "      <td>0.172136</td>\n",
       "      <td>2.208799</td>\n",
       "      <td>-1.266558</td>\n",
       "      <td>0.217506</td>\n",
       "      <td>2.141010</td>\n",
       "      <td>4.022995</td>\n",
       "      <td>3.792765</td>\n",
       "      <td>4.665528</td>\n",
       "      <td>3.573540</td>\n",
       "      <td>1</td>\n",
       "    </tr>\n",
       "    <tr>\n",
       "      <th>VALUE</th>\n",
       "      <td>-0.454827</td>\n",
       "      <td>0.336083</td>\n",
       "      <td>1.311685</td>\n",
       "      <td>0.923764</td>\n",
       "      <td>1.444386</td>\n",
       "      <td>1.172150</td>\n",
       "      <td>0.366949</td>\n",
       "      <td>2.337923</td>\n",
       "      <td>0.083420</td>\n",
       "      <td>3.363309</td>\n",
       "      <td>2.347740</td>\n",
       "      <td>2.670764</td>\n",
       "      <td>2.913854</td>\n",
       "      <td>1</td>\n",
       "    </tr>\n",
       "    <tr>\n",
       "      <th>VALUE</th>\n",
       "      <td>-0.580482</td>\n",
       "      <td>-0.150828</td>\n",
       "      <td>0.667706</td>\n",
       "      <td>0.483973</td>\n",
       "      <td>1.193077</td>\n",
       "      <td>1.376339</td>\n",
       "      <td>0.806739</td>\n",
       "      <td>1.803892</td>\n",
       "      <td>-0.136476</td>\n",
       "      <td>3.033467</td>\n",
       "      <td>2.300620</td>\n",
       "      <td>2.576524</td>\n",
       "      <td>2.678253</td>\n",
       "      <td>1</td>\n",
       "    </tr>\n",
       "    <tr>\n",
       "      <th>VALUE</th>\n",
       "      <td>-0.282053</td>\n",
       "      <td>0.603098</td>\n",
       "      <td>0.856188</td>\n",
       "      <td>0.452560</td>\n",
       "      <td>0.313497</td>\n",
       "      <td>1.439166</td>\n",
       "      <td>-0.072842</td>\n",
       "      <td>1.426929</td>\n",
       "      <td>0.161954</td>\n",
       "      <td>1.274305</td>\n",
       "      <td>1.169730</td>\n",
       "      <td>2.230974</td>\n",
       "      <td>1.782965</td>\n",
       "      <td>1</td>\n",
       "    </tr>\n",
       "    <tr>\n",
       "      <th>VALUE</th>\n",
       "      <td>0.189151</td>\n",
       "      <td>0.901528</td>\n",
       "      <td>-0.054806</td>\n",
       "      <td>-0.552675</td>\n",
       "      <td>-0.346189</td>\n",
       "      <td>0.763773</td>\n",
       "      <td>-0.528339</td>\n",
       "      <td>1.018552</td>\n",
       "      <td>0.350435</td>\n",
       "      <td>1.195771</td>\n",
       "      <td>1.342505</td>\n",
       "      <td>1.901131</td>\n",
       "      <td>1.971447</td>\n",
       "      <td>1</td>\n",
       "    </tr>\n",
       "  </tbody>\n",
       "</table>\n",
       "</div>"
      ],
      "text/plain": [
       "SEQUENCE  UAUUGCACUUGUCCCGGCCUGU  UCAGGCUCAGUCCCCUCCCGAU  \\\n",
       "VALUE                  -0.344880               -0.245069   \n",
       "VALUE                  -0.454827                0.336083   \n",
       "VALUE                  -0.580482               -0.150828   \n",
       "VALUE                  -0.282053                0.603098   \n",
       "VALUE                   0.189151                0.901528   \n",
       "\n",
       "SEQUENCE  CUGGCCCUCUCUGCCCUUCCGU  CAACGGAAUCCCAAAAGCAGCUG  \\\n",
       "VALUE                   0.950429                 0.216958   \n",
       "VALUE                   1.311685                 0.923764   \n",
       "VALUE                   0.667706                 0.483973   \n",
       "VALUE                   0.856188                 0.452560   \n",
       "VALUE                  -0.054806                -0.552675   \n",
       "\n",
       "SEQUENCE  GCCCCUGGGCCUAUCCUAGAA  UGUAAACAUCCUACACUCUCAGC  \\\n",
       "VALUE                  0.172136                 2.208799   \n",
       "VALUE                  1.444386                 1.172150   \n",
       "VALUE                  1.193077                 1.376339   \n",
       "VALUE                  0.313497                 1.439166   \n",
       "VALUE                 -0.346189                 0.763773   \n",
       "\n",
       "SEQUENCE  UUAUAAUACAACCUGAUAAGUG  UGUAAACAUCCUACACUCAGCU  \\\n",
       "VALUE                  -1.266558                0.217506   \n",
       "VALUE                   0.366949                2.337923   \n",
       "VALUE                   0.806739                1.803892   \n",
       "VALUE                  -0.072842                1.426929   \n",
       "VALUE                  -0.528339                1.018552   \n",
       "\n",
       "SEQUENCE  AGAGGUAGUAGGUUGCAUAGUU  UGUCAGUUUGUCAAAUACCCCA  \\\n",
       "VALUE                   2.141010                4.022995   \n",
       "VALUE                   0.083420                3.363309   \n",
       "VALUE                  -0.136476                3.033467   \n",
       "VALUE                   0.161954                1.274305   \n",
       "VALUE                   0.350435                1.195771   \n",
       "\n",
       "SEQUENCE  UAGCACCAUCUGAAAUCGGUUA  UCAGUGCACUACAGAACUUUGU  \\\n",
       "VALUE                   3.792765                4.665528   \n",
       "VALUE                   2.347740                2.670764   \n",
       "VALUE                   2.300620                2.576524   \n",
       "VALUE                   1.169730                2.230974   \n",
       "VALUE                   1.342505                1.901131   \n",
       "\n",
       "SEQUENCE  CAGUGGUUUUACCCUAUGGUAG  cancer  \n",
       "VALUE                   3.573540       1  \n",
       "VALUE                   2.913854       1  \n",
       "VALUE                   2.678253       1  \n",
       "VALUE                   1.782965       1  \n",
       "VALUE                   1.971447       1  "
      ]
     },
     "execution_count": 42,
     "metadata": {},
     "output_type": "execute_result"
    }
   ],
   "source": [
    "norm_log_table *= -1\n",
    "norm_log_table[\"cancer\"] = 1-controls\n",
    "norm_log_table.head()"
   ]
  },
  {
   "cell_type": "code",
   "execution_count": 43,
   "metadata": {},
   "outputs": [],
   "source": [
    "norm_log_table.to_csv(\"../TransformedData/Marzi2016.csv\", index=False)"
   ]
  },
  {
   "cell_type": "code",
   "execution_count": null,
   "metadata": {},
   "outputs": [],
   "source": []
  }
 ],
 "metadata": {
  "kernelspec": {
   "display_name": "Python 3 (ipykernel)",
   "language": "python",
   "name": "python3"
  },
  "language_info": {
   "codemirror_mode": {
    "name": "ipython",
    "version": 3
   },
   "file_extension": ".py",
   "mimetype": "text/x-python",
   "name": "python",
   "nbconvert_exporter": "python",
   "pygments_lexer": "ipython3",
   "version": "3.10.1"
  }
 },
 "nbformat": 4,
 "nbformat_minor": 4
}
