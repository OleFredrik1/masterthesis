{
 "cells": [
  {
   "cell_type": "code",
   "execution_count": 298,
   "metadata": {
    "tags": []
   },
   "outputs": [],
   "source": [
    "%matplotlib inline\n",
    "import GEOparse\n",
    "import matplotlib.pyplot as plt\n",
    "import pandas as pd\n",
    "import numpy as np\n",
    "from sklearn import decomposition\n",
    "from sklearn.feature_selection import f_classif\n",
    "from sklearn.linear_model import LinearRegression, LogisticRegression\n",
    "from sklearn.metrics import explained_variance_score, plot_roc_curve\n",
    "import statsmodels.api as sm\n",
    "from scipy.stats import ttest_ind\n",
    "from xgboost import XGBClassifier\n",
    "from sklearn.model_selection import train_test_split\n",
    "from sklego.linear_model import LowessRegression\n",
    "import os\n",
    "import re"
   ]
  },
  {
   "cell_type": "code",
   "execution_count": 299,
   "metadata": {},
   "outputs": [],
   "source": [
    "threshold = 1000"
   ]
  },
  {
   "cell_type": "markdown",
   "metadata": {},
   "source": [
    "### Reading in from external source"
   ]
  },
  {
   "cell_type": "code",
   "execution_count": 300,
   "metadata": {},
   "outputs": [],
   "source": [
    "geo = \"GSE114711\"\n",
    "geo_data = GEOparse.get_GEO(geo=geo, destdir=\"../Dataset/Nigita2018\", silent=True)\n",
    "#table = pd.read_csv(\"../Dataset/Fehlman2020/expression_matrix.csv\", sep=\"\\t\")\n",
    "#table = pd.read_csv(\"../Dataset/Wozniak2015/GSE64591_non-normalized.txt\", sep=\"\\t\", header=5)"
   ]
  },
  {
   "cell_type": "code",
   "execution_count": 301,
   "metadata": {},
   "outputs": [
    {
     "data": {
      "text/plain": [
       "{'title': ['LATE STAGE rep8'],\n",
       " 'geo_accession': ['GSM3148019'],\n",
       " 'status': ['Public on Jun 29 2018'],\n",
       " 'submission_date': ['May 21 2018'],\n",
       " 'last_update_date': ['Jun 29 2018'],\n",
       " 'type': ['SRA'],\n",
       " 'channel_count': ['1'],\n",
       " 'source_name_ch1': ['Plasma-derived exosome'],\n",
       " 'organism_ch1': ['Homo sapiens'],\n",
       " 'taxid_ch1': ['9606'],\n",
       " 'characteristics_ch1': ['dissease state: late stage NSCLC',\n",
       "  'Stage: IV',\n",
       "  'Sex: Female',\n",
       "  'sample type: PEV'],\n",
       " 'growth_protocol_ch1': ['PEVs were isolated using the Izon qEV size exclusion column (Izon qEV, iZON science, Cambridge MA). 190uL of plasma (centrifuged for 10 minutes at 10,000xG) was added to the column membrane, followed by 310uL of PBS.  PBS was then added in 500uL increments for a total of 32 fractions. The fractions were run on a NuPAGE Bis-Tris gel to evaluate protein contamination.  Fractions 7-9 were combined as the EV fraction and fractions 12-32 were combined as the depleted fraction.  Both the EV and depleted fractions were concentrated to ~150uL using an Amicon Ultra-4 10K centrifugal filter (Millipore cat#UFC801024).'],\n",
       " 'molecule_ch1': ['total RNA'],\n",
       " 'extract_protocol_ch1': ['Total RNA from all 3 fractions (whole plasma, EVs and EV-depleted) was isolated using the Qiagen miRNeasy kit (Qiagen) and eluted twice with 30uL H2O. RNA was isolated from 100 uL of plasma using the Qiagen miRNeasy Mini prep kit and eluted from the binding column in 15 uL H2O. The quality and quantity of RNA was checked with Bioanalyzer.',\n",
       "  \"The small RNA sequencing library was constructed with NEBNext library construction kit following manufacture's instruction. The library with proper insert size was selected by using PippinHT from Sage Scientific. For pooling samples, NEBNext Library Quant Kit was used to quantify the library and equimolar amount of libraries from different samples was pooled for sequencing using Illumina NextSeq 500 (50 bp single-end reads were generated).\"],\n",
       " 'description': ['L8', 'miRNA editing profiling from PEV'],\n",
       " 'data_processing': ['The detection and quantification analysis of modification events from sRNAseq data were based on two principal phases: 1) detection of miRNA editing sites by applying the Alon-Eisenberg pipeline (PMID:23872974) and 2) differential expression analysis of miRNA editing hotspots.',\n",
       "  \"Briefly, we filtered all reads according to a Phred quality â‰¥20, with at most three positions with a lower quality. In addition, we removed sequences identified as 5' or 3' adaptors. Subsequently, we also removed reads whose length did not fall within the typical length range for a mature miRNA (16-27 bases).\",\n",
       "  'Subsequently, all filtered reads were aligned to the human genome (hg19) employing the Bowtie software (PMID:19261174), allowing for one mismatch at most and trimming the last two bases of the read (PMID:20719920) (Bowtie parameters: -e 50 -a -m 1 -trim3 2 -best -strata). All the reads mapped to the known pre-miRNA sequences were considered for downstream analysis.',\n",
       "  'Finally, all miRNA MEs with the mismatch base quality score â‰¥30 and a Bonferroni-adjusted P-value <0.05, were taken into account for downstream analysis. The expression of each filtered miRNA MEs was calculated in RPMs. Among miRNA MEs, we have selected those which we consider to be high confidence miRNA editing sites, namely, having geometric mean of ED miRNA expression >1 RPM and geometric mean of editing level â‰¥5, in at least one condition (normal or tumor).',\n",
       "  'Finally, we identified as miRNA editing hotspots all high confidence miRNA editing sites present in â‰¥50% of samples, in at least one condition (tumor or normal).',\n",
       "  'Genome_build: hg19',\n",
       "  'Supplementary_files_format_and_content: Txt files contains the abundance measurements for all miRNAs in each sample.'],\n",
       " 'platform_id': ['GPL18573'],\n",
       " 'contact_name': ['Serge,Patrick,Nana-Sinkam'],\n",
       " 'contact_department': ['Department of Internal Medicine Division of Pulmonary Disease and Critical Care Medicine'],\n",
       " 'contact_institute': ['Virginia Commonwealth University'],\n",
       " 'contact_address': ['1200 East Broad Street'],\n",
       " 'contact_city': ['Richmond'],\n",
       " 'contact_state': ['Virgina'],\n",
       " 'contact_zip/postal_code': ['23298'],\n",
       " 'contact_country': ['USA'],\n",
       " 'instrument_model': ['Illumina NextSeq 500'],\n",
       " 'library_selection': ['size fractionation'],\n",
       " 'library_source': ['transcriptomic'],\n",
       " 'library_strategy': ['miRNA-Seq'],\n",
       " 'relation': ['BioSample: https://www.ncbi.nlm.nih.gov/biosample/SAMN09231853',\n",
       "  'SRA: https://www.ncbi.nlm.nih.gov/sra?term=SRX4106306'],\n",
       " 'supplementary_file_1': ['ftp://ftp.ncbi.nlm.nih.gov/geo/samples/GSM3148nnn/GSM3148019/suppl/GSM3148019_L8.txt.gz'],\n",
       " 'series_id': ['GSE114711'],\n",
       " 'data_row_count': ['0']}"
      ]
     },
     "execution_count": 301,
     "metadata": {},
     "output_type": "execute_result"
    }
   ],
   "source": [
    "list(geo_data.gsms.values())[-1].metadata"
   ]
  },
  {
   "cell_type": "code",
   "execution_count": 302,
   "metadata": {},
   "outputs": [
    {
     "data": {
      "text/html": [
       "<div>\n",
       "<style scoped>\n",
       "    .dataframe tbody tr th:only-of-type {\n",
       "        vertical-align: middle;\n",
       "    }\n",
       "\n",
       "    .dataframe tbody tr th {\n",
       "        vertical-align: top;\n",
       "    }\n",
       "\n",
       "    .dataframe thead th {\n",
       "        text-align: right;\n",
       "    }\n",
       "</style>\n",
       "<table border=\"1\" class=\"dataframe\">\n",
       "  <thead>\n",
       "    <tr style=\"text-align: right;\">\n",
       "      <th></th>\n",
       "      <th>miRNA</th>\n",
       "      <th>value</th>\n",
       "    </tr>\n",
       "  </thead>\n",
       "  <tbody>\n",
       "    <tr>\n",
       "      <th>0</th>\n",
       "      <td>hsa-let-7a-1</td>\n",
       "      <td>0</td>\n",
       "    </tr>\n",
       "    <tr>\n",
       "      <th>1</th>\n",
       "      <td>hsa-let-7a-1*</td>\n",
       "      <td>0</td>\n",
       "    </tr>\n",
       "    <tr>\n",
       "      <th>2</th>\n",
       "      <td>hsa-let-7a-2</td>\n",
       "      <td>0</td>\n",
       "    </tr>\n",
       "    <tr>\n",
       "      <th>3</th>\n",
       "      <td>hsa-let-7a-2*</td>\n",
       "      <td>0</td>\n",
       "    </tr>\n",
       "    <tr>\n",
       "      <th>4</th>\n",
       "      <td>hsa-let-7a-3</td>\n",
       "      <td>0</td>\n",
       "    </tr>\n",
       "    <tr>\n",
       "      <th>...</th>\n",
       "      <td>...</td>\n",
       "      <td>...</td>\n",
       "    </tr>\n",
       "    <tr>\n",
       "      <th>3757</th>\n",
       "      <td>hsa-mir-98*</td>\n",
       "      <td>0</td>\n",
       "    </tr>\n",
       "    <tr>\n",
       "      <th>3758</th>\n",
       "      <td>hsa-mir-99a</td>\n",
       "      <td>0</td>\n",
       "    </tr>\n",
       "    <tr>\n",
       "      <th>3759</th>\n",
       "      <td>hsa-mir-99a*</td>\n",
       "      <td>0</td>\n",
       "    </tr>\n",
       "    <tr>\n",
       "      <th>3760</th>\n",
       "      <td>hsa-mir-99b</td>\n",
       "      <td>5</td>\n",
       "    </tr>\n",
       "    <tr>\n",
       "      <th>3761</th>\n",
       "      <td>hsa-mir-99b*</td>\n",
       "      <td>0</td>\n",
       "    </tr>\n",
       "  </tbody>\n",
       "</table>\n",
       "<p>3762 rows × 2 columns</p>\n",
       "</div>"
      ],
      "text/plain": [
       "              miRNA  value\n",
       "0      hsa-let-7a-1      0\n",
       "1     hsa-let-7a-1*      0\n",
       "2      hsa-let-7a-2      0\n",
       "3     hsa-let-7a-2*      0\n",
       "4      hsa-let-7a-3      0\n",
       "...             ...    ...\n",
       "3757    hsa-mir-98*      0\n",
       "3758    hsa-mir-99a      0\n",
       "3759   hsa-mir-99a*      0\n",
       "3760    hsa-mir-99b      5\n",
       "3761   hsa-mir-99b*      0\n",
       "\n",
       "[3762 rows x 2 columns]"
      ]
     },
     "execution_count": 302,
     "metadata": {},
     "output_type": "execute_result"
    }
   ],
   "source": [
    "data = pd.read_csv(\"../Dataset/Nigita2018/Cases/GSM3147994_C1.txt\", sep=\"\\t\", names=[\"miRNA\", \"value\"])\n",
    "data"
   ]
  },
  {
   "cell_type": "code",
   "execution_count": 303,
   "metadata": {},
   "outputs": [],
   "source": [
    "cases = []\n",
    "controls = []\n",
    "for d in os.listdir(\"../Dataset/Nigita2018/Cases/\"):\n",
    "    pat = \"[0-9]+.txt$\"\n",
    "    if re.search(\"E\" + pat, d) or re.search(\"L\" + pat, d):\n",
    "        cases.append(pd.read_csv(\"../Dataset/Nigita2018/Cases/\" + d, sep=\"\\t\", names=[\"miRNA\", \"value\"]))\n",
    "    if re.search(\"C\" + pat, d):\n",
    "        controls.append(pd.read_csv(\"../Dataset/Nigita2018/Cases/\" + d, sep=\"\\t\", names=[\"miRNA\", \"value\"]))"
   ]
  },
  {
   "cell_type": "code",
   "execution_count": 304,
   "metadata": {},
   "outputs": [],
   "source": [
    "table = pd.concat([c.iloc[:,1] for c in controls] + [c.iloc[:,1] for c in cases], axis=1).transpose()\n",
    "mirnas = cases[0].iloc[:,0]"
   ]
  },
  {
   "cell_type": "markdown",
   "metadata": {},
   "source": [
    "### Seperate case and controls"
   ]
  },
  {
   "cell_type": "code",
   "execution_count": 305,
   "metadata": {},
   "outputs": [],
   "source": [
    "controls = np.array(len(controls)*[1] + len(cases)*[0])\n",
    "sick = 1 - controls"
   ]
  },
  {
   "cell_type": "code",
   "execution_count": 306,
   "metadata": {},
   "outputs": [
    {
     "data": {
      "text/plain": [
       "7"
      ]
     },
     "execution_count": 306,
     "metadata": {},
     "output_type": "execute_result"
    }
   ],
   "source": [
    "sum(controls)"
   ]
  },
  {
   "cell_type": "markdown",
   "metadata": {},
   "source": [
    "### Drop NAN"
   ]
  },
  {
   "cell_type": "code",
   "execution_count": 307,
   "metadata": {},
   "outputs": [],
   "source": [
    "table = table.apply(lambda x: 1e6 * x / x.sum(), axis=1)"
   ]
  },
  {
   "cell_type": "code",
   "execution_count": 308,
   "metadata": {},
   "outputs": [],
   "source": [
    "mask = table.std() > threshold\n",
    "table = table.loc[:, mask]\n",
    "mirnas = mirnas[mask]"
   ]
  },
  {
   "cell_type": "code",
   "execution_count": 309,
   "metadata": {},
   "outputs": [
    {
     "name": "stderr",
     "output_type": "stream",
     "text": [
      "C:\\Users\\olefr\\AppData\\Local\\Temp/ipykernel_21592/1927661217.py:1: FutureWarning: In a future version of pandas all arguments of DataFrame.dropna will be keyword-only\n",
      "  table = table.dropna(1)\n"
     ]
    }
   ],
   "source": [
    "table = table.dropna(1)"
   ]
  },
  {
   "cell_type": "markdown",
   "metadata": {},
   "source": [
    "### T-test"
   ]
  },
  {
   "cell_type": "code",
   "execution_count": 310,
   "metadata": {},
   "outputs": [],
   "source": [
    "X = table"
   ]
  },
  {
   "cell_type": "code",
   "execution_count": 311,
   "metadata": {},
   "outputs": [],
   "source": [
    "X_healthy, X_cancer = X[controls == 1], X[sick == 1]"
   ]
  },
  {
   "cell_type": "code",
   "execution_count": 312,
   "metadata": {},
   "outputs": [],
   "source": [
    "results = ttest_ind(X_healthy, X_cancer).pvalue"
   ]
  },
  {
   "cell_type": "code",
   "execution_count": 313,
   "metadata": {},
   "outputs": [],
   "source": [
    "lowest, pvalues = np.argsort(results)[:5], np.sort(results)[:5]"
   ]
  },
  {
   "cell_type": "code",
   "execution_count": 314,
   "metadata": {},
   "outputs": [
    {
     "data": {
      "text/plain": [
       "(1760    hsa-mir-451a\n",
       " 678      hsa-mir-29c\n",
       " 184      hsa-mir-126\n",
       " 562     hsa-mir-208a\n",
       " 654      hsa-mir-27a\n",
       " Name: miRNA, dtype: object,\n",
       " array([0.00736405, 0.03828997, 0.03839871, 0.08745402, 0.11950505]))"
      ]
     },
     "execution_count": 314,
     "metadata": {},
     "output_type": "execute_result"
    }
   ],
   "source": [
    "mirnas.iloc[lowest], pvalues"
   ]
  },
  {
   "cell_type": "markdown",
   "metadata": {},
   "source": [
    "### F-test"
   ]
  },
  {
   "cell_type": "code",
   "execution_count": 315,
   "metadata": {},
   "outputs": [],
   "source": [
    "t3 = table"
   ]
  },
  {
   "cell_type": "code",
   "execution_count": 316,
   "metadata": {},
   "outputs": [],
   "source": [
    "f, p = f_classif(t3, sick)"
   ]
  },
  {
   "cell_type": "code",
   "execution_count": 317,
   "metadata": {},
   "outputs": [
    {
     "data": {
      "text/plain": [
       "0.3827004017498824"
      ]
     },
     "execution_count": 317,
     "metadata": {},
     "output_type": "execute_result"
    }
   ],
   "source": [
    "np.mean(p)"
   ]
  },
  {
   "cell_type": "markdown",
   "metadata": {},
   "source": [
    "### ANOVA"
   ]
  },
  {
   "cell_type": "code",
   "execution_count": 318,
   "metadata": {},
   "outputs": [
    {
     "data": {
      "text/html": [
       "<div>\n",
       "<style scoped>\n",
       "    .dataframe tbody tr th:only-of-type {\n",
       "        vertical-align: middle;\n",
       "    }\n",
       "\n",
       "    .dataframe tbody tr th {\n",
       "        vertical-align: top;\n",
       "    }\n",
       "\n",
       "    .dataframe thead th {\n",
       "        text-align: right;\n",
       "    }\n",
       "</style>\n",
       "<table border=\"1\" class=\"dataframe\">\n",
       "  <thead>\n",
       "    <tr style=\"text-align: right;\">\n",
       "      <th></th>\n",
       "      <th>184</th>\n",
       "      <th>372</th>\n",
       "      <th>374</th>\n",
       "      <th>378</th>\n",
       "      <th>532</th>\n",
       "      <th>562</th>\n",
       "      <th>612</th>\n",
       "      <th>614</th>\n",
       "      <th>616</th>\n",
       "      <th>630</th>\n",
       "      <th>...</th>\n",
       "      <th>656</th>\n",
       "      <th>672</th>\n",
       "      <th>678</th>\n",
       "      <th>850</th>\n",
       "      <th>940</th>\n",
       "      <th>990</th>\n",
       "      <th>1190</th>\n",
       "      <th>1342</th>\n",
       "      <th>1760</th>\n",
       "      <th>2182</th>\n",
       "    </tr>\n",
       "  </thead>\n",
       "  <tbody>\n",
       "    <tr>\n",
       "      <th>value</th>\n",
       "      <td>172797.923205</td>\n",
       "      <td>19223.501963</td>\n",
       "      <td>4666.217571</td>\n",
       "      <td>2316.678442</td>\n",
       "      <td>19338.514368</td>\n",
       "      <td>131.442748</td>\n",
       "      <td>9808.915104</td>\n",
       "      <td>5734.189902</td>\n",
       "      <td>116786.882014</td>\n",
       "      <td>20685.802540</td>\n",
       "      <td>...</td>\n",
       "      <td>3844.700393</td>\n",
       "      <td>20570.790135</td>\n",
       "      <td>16266.040123</td>\n",
       "      <td>5684.898871</td>\n",
       "      <td>4222.598295</td>\n",
       "      <td>4666.217571</td>\n",
       "      <td>262.885497</td>\n",
       "      <td>10909.748123</td>\n",
       "      <td>450750.045183</td>\n",
       "      <td>7229.351166</td>\n",
       "    </tr>\n",
       "    <tr>\n",
       "      <th>value</th>\n",
       "      <td>366311.668491</td>\n",
       "      <td>13027.658892</td>\n",
       "      <td>309.655729</td>\n",
       "      <td>1039.558519</td>\n",
       "      <td>4600.599405</td>\n",
       "      <td>11.059133</td>\n",
       "      <td>4279.884543</td>\n",
       "      <td>4589.540272</td>\n",
       "      <td>34382.845073</td>\n",
       "      <td>21797.551508</td>\n",
       "      <td>...</td>\n",
       "      <td>6137.818918</td>\n",
       "      <td>18888.999480</td>\n",
       "      <td>11789.035975</td>\n",
       "      <td>2455.127567</td>\n",
       "      <td>3295.621689</td>\n",
       "      <td>6591.243378</td>\n",
       "      <td>110.591332</td>\n",
       "      <td>2997.025093</td>\n",
       "      <td>423620.096657</td>\n",
       "      <td>2775.842429</td>\n",
       "    </tr>\n",
       "    <tr>\n",
       "      <th>value</th>\n",
       "      <td>266131.101593</td>\n",
       "      <td>19238.234346</td>\n",
       "      <td>631.624657</td>\n",
       "      <td>1783.023771</td>\n",
       "      <td>7447.907414</td>\n",
       "      <td>16632.782636</td>\n",
       "      <td>3908.177565</td>\n",
       "      <td>5849.107501</td>\n",
       "      <td>78163.551310</td>\n",
       "      <td>14211.554784</td>\n",
       "      <td>...</td>\n",
       "      <td>3598.944660</td>\n",
       "      <td>20481.745389</td>\n",
       "      <td>11112.646310</td>\n",
       "      <td>4934.567633</td>\n",
       "      <td>4335.840094</td>\n",
       "      <td>6283.349453</td>\n",
       "      <td>72.373659</td>\n",
       "      <td>7743.981472</td>\n",
       "      <td>451914.283270</td>\n",
       "      <td>4467.428564</td>\n",
       "    </tr>\n",
       "    <tr>\n",
       "      <th>value</th>\n",
       "      <td>260960.067969</td>\n",
       "      <td>27591.333900</td>\n",
       "      <td>1529.311810</td>\n",
       "      <td>1890.399320</td>\n",
       "      <td>5734.919286</td>\n",
       "      <td>12064.570943</td>\n",
       "      <td>1932.880204</td>\n",
       "      <td>5989.804588</td>\n",
       "      <td>74808.836024</td>\n",
       "      <td>24107.901444</td>\n",
       "      <td>...</td>\n",
       "      <td>4375.531011</td>\n",
       "      <td>24256.584537</td>\n",
       "      <td>14655.904843</td>\n",
       "      <td>11023.789295</td>\n",
       "      <td>3504.672897</td>\n",
       "      <td>14804.587935</td>\n",
       "      <td>84.961767</td>\n",
       "      <td>5437.553101</td>\n",
       "      <td>413997.451147</td>\n",
       "      <td>5586.236194</td>\n",
       "    </tr>\n",
       "    <tr>\n",
       "      <th>value</th>\n",
       "      <td>171137.667716</td>\n",
       "      <td>20660.943095</td>\n",
       "      <td>629.880495</td>\n",
       "      <td>1246.818241</td>\n",
       "      <td>13706.372147</td>\n",
       "      <td>103.541999</td>\n",
       "      <td>7493.852194</td>\n",
       "      <td>4499.762716</td>\n",
       "      <td>133590.750248</td>\n",
       "      <td>21006.083092</td>\n",
       "      <td>...</td>\n",
       "      <td>3369.429225</td>\n",
       "      <td>17304.456620</td>\n",
       "      <td>14405.280642</td>\n",
       "      <td>2566.978731</td>\n",
       "      <td>2446.179732</td>\n",
       "      <td>6380.775702</td>\n",
       "      <td>112.170499</td>\n",
       "      <td>5604.210708</td>\n",
       "      <td>458626.342810</td>\n",
       "      <td>7364.424695</td>\n",
       "    </tr>\n",
       "    <tr>\n",
       "      <th>value</th>\n",
       "      <td>234558.659160</td>\n",
       "      <td>28187.172809</td>\n",
       "      <td>488.674704</td>\n",
       "      <td>3056.816232</td>\n",
       "      <td>4569.628347</td>\n",
       "      <td>358.708027</td>\n",
       "      <td>4132.940314</td>\n",
       "      <td>4382.476333</td>\n",
       "      <td>65066.516945</td>\n",
       "      <td>12175.278259</td>\n",
       "      <td>...</td>\n",
       "      <td>4891.945705</td>\n",
       "      <td>32294.119788</td>\n",
       "      <td>15258.087826</td>\n",
       "      <td>6586.711167</td>\n",
       "      <td>2958.041558</td>\n",
       "      <td>7293.729888</td>\n",
       "      <td>228.741351</td>\n",
       "      <td>5593.765758</td>\n",
       "      <td>467074.242164</td>\n",
       "      <td>6987.008531</td>\n",
       "    </tr>\n",
       "    <tr>\n",
       "      <th>value</th>\n",
       "      <td>173452.961909</td>\n",
       "      <td>22095.702860</td>\n",
       "      <td>237.223804</td>\n",
       "      <td>2304.459808</td>\n",
       "      <td>6150.874339</td>\n",
       "      <td>334943.066287</td>\n",
       "      <td>2482.377660</td>\n",
       "      <td>4075.166057</td>\n",
       "      <td>73869.798021</td>\n",
       "      <td>15555.103701</td>\n",
       "      <td>...</td>\n",
       "      <td>2745.018300</td>\n",
       "      <td>19486.241019</td>\n",
       "      <td>9904.093805</td>\n",
       "      <td>4837.671140</td>\n",
       "      <td>2787.379694</td>\n",
       "      <td>8235.054900</td>\n",
       "      <td>76.250508</td>\n",
       "      <td>6811.712078</td>\n",
       "      <td>231632.099770</td>\n",
       "      <td>5227.395960</td>\n",
       "    </tr>\n",
       "    <tr>\n",
       "      <th>value</th>\n",
       "      <td>211765.383066</td>\n",
       "      <td>26995.913199</td>\n",
       "      <td>0.000000</td>\n",
       "      <td>1726.817475</td>\n",
       "      <td>5238.013009</td>\n",
       "      <td>57.560583</td>\n",
       "      <td>4835.088931</td>\n",
       "      <td>6101.421746</td>\n",
       "      <td>72929.258044</td>\n",
       "      <td>14562.827376</td>\n",
       "      <td>...</td>\n",
       "      <td>5640.937086</td>\n",
       "      <td>39544.120186</td>\n",
       "      <td>17095.493006</td>\n",
       "      <td>30334.426984</td>\n",
       "      <td>2705.347378</td>\n",
       "      <td>12317.964658</td>\n",
       "      <td>2129.741553</td>\n",
       "      <td>6734.588154</td>\n",
       "      <td>432510.217003</td>\n",
       "      <td>4835.088931</td>\n",
       "    </tr>\n",
       "    <tr>\n",
       "      <th>value</th>\n",
       "      <td>136539.692385</td>\n",
       "      <td>12022.196855</td>\n",
       "      <td>105.573628</td>\n",
       "      <td>475.081325</td>\n",
       "      <td>6994.252836</td>\n",
       "      <td>1860.735188</td>\n",
       "      <td>1339.465402</td>\n",
       "      <td>1906.923650</td>\n",
       "      <td>36462.491670</td>\n",
       "      <td>8525.070437</td>\n",
       "      <td>...</td>\n",
       "      <td>2118.070906</td>\n",
       "      <td>10141.666612</td>\n",
       "      <td>6512.573159</td>\n",
       "      <td>3747.863784</td>\n",
       "      <td>1141.514850</td>\n",
       "      <td>4341.715439</td>\n",
       "      <td>72.581869</td>\n",
       "      <td>2250.037941</td>\n",
       "      <td>698092.416514</td>\n",
       "      <td>3926.019280</td>\n",
       "    </tr>\n",
       "    <tr>\n",
       "      <th>value</th>\n",
       "      <td>281082.634812</td>\n",
       "      <td>17470.442277</td>\n",
       "      <td>194.444797</td>\n",
       "      <td>1293.480604</td>\n",
       "      <td>9050.137168</td>\n",
       "      <td>431.160201</td>\n",
       "      <td>5296.507180</td>\n",
       "      <td>5051.337653</td>\n",
       "      <td>50674.004844</td>\n",
       "      <td>15238.554176</td>\n",
       "      <td>...</td>\n",
       "      <td>3850.852387</td>\n",
       "      <td>19440.252609</td>\n",
       "      <td>11159.440506</td>\n",
       "      <td>2950.488437</td>\n",
       "      <td>3745.175867</td>\n",
       "      <td>3660.634651</td>\n",
       "      <td>63.405912</td>\n",
       "      <td>8306.174468</td>\n",
       "      <td>478942.896636</td>\n",
       "      <td>5660.034408</td>\n",
       "    </tr>\n",
       "    <tr>\n",
       "      <th>value</th>\n",
       "      <td>155064.585005</td>\n",
       "      <td>16157.608613</td>\n",
       "      <td>45.429078</td>\n",
       "      <td>1302.300226</td>\n",
       "      <td>5512.061420</td>\n",
       "      <td>439.147751</td>\n",
       "      <td>1983.736390</td>\n",
       "      <td>2634.886503</td>\n",
       "      <td>27696.594333</td>\n",
       "      <td>6647.788361</td>\n",
       "      <td>...</td>\n",
       "      <td>1680.875873</td>\n",
       "      <td>13855.868680</td>\n",
       "      <td>7556.369914</td>\n",
       "      <td>11130.124021</td>\n",
       "      <td>1150.869967</td>\n",
       "      <td>4391.477505</td>\n",
       "      <td>318.003543</td>\n",
       "      <td>2907.460969</td>\n",
       "      <td>672713.781668</td>\n",
       "      <td>2862.031891</td>\n",
       "    </tr>\n",
       "    <tr>\n",
       "      <th>value</th>\n",
       "      <td>154364.296538</td>\n",
       "      <td>18109.043085</td>\n",
       "      <td>228.721731</td>\n",
       "      <td>3499.442491</td>\n",
       "      <td>8868.685136</td>\n",
       "      <td>22.872173</td>\n",
       "      <td>7930.926037</td>\n",
       "      <td>4059.810733</td>\n",
       "      <td>66066.272122</td>\n",
       "      <td>15924.750550</td>\n",
       "      <td>...</td>\n",
       "      <td>4019.784430</td>\n",
       "      <td>13637.533236</td>\n",
       "      <td>8171.083855</td>\n",
       "      <td>2859.021643</td>\n",
       "      <td>4237.070075</td>\n",
       "      <td>4208.479858</td>\n",
       "      <td>257.311948</td>\n",
       "      <td>7936.644080</td>\n",
       "      <td>590833.976613</td>\n",
       "      <td>6192.640878</td>\n",
       "    </tr>\n",
       "    <tr>\n",
       "      <th>value</th>\n",
       "      <td>171529.359888</td>\n",
       "      <td>14339.024848</td>\n",
       "      <td>179.646097</td>\n",
       "      <td>1477.997436</td>\n",
       "      <td>4499.318161</td>\n",
       "      <td>24.497195</td>\n",
       "      <td>3200.966823</td>\n",
       "      <td>4189.020357</td>\n",
       "      <td>69041.261442</td>\n",
       "      <td>13228.485338</td>\n",
       "      <td>...</td>\n",
       "      <td>3160.138164</td>\n",
       "      <td>15596.547529</td>\n",
       "      <td>7389.987180</td>\n",
       "      <td>2800.845970</td>\n",
       "      <td>2384.393654</td>\n",
       "      <td>6173.293158</td>\n",
       "      <td>204.143292</td>\n",
       "      <td>4458.489503</td>\n",
       "      <td>612144.076170</td>\n",
       "      <td>3535.761822</td>\n",
       "    </tr>\n",
       "    <tr>\n",
       "      <th>value</th>\n",
       "      <td>184251.645790</td>\n",
       "      <td>30866.569328</td>\n",
       "      <td>563.539025</td>\n",
       "      <td>3022.618407</td>\n",
       "      <td>6890.545352</td>\n",
       "      <td>25.615410</td>\n",
       "      <td>4200.927278</td>\n",
       "      <td>4021.619406</td>\n",
       "      <td>49975.665360</td>\n",
       "      <td>13986.013986</td>\n",
       "      <td>...</td>\n",
       "      <td>3048.233817</td>\n",
       "      <td>19211.557673</td>\n",
       "      <td>9349.624734</td>\n",
       "      <td>9195.932273</td>\n",
       "      <td>2920.156766</td>\n",
       "      <td>6762.468301</td>\n",
       "      <td>76.846231</td>\n",
       "      <td>6916.160762</td>\n",
       "      <td>516073.669920</td>\n",
       "      <td>8094.469633</td>\n",
       "    </tr>\n",
       "    <tr>\n",
       "      <th>value</th>\n",
       "      <td>151429.728635</td>\n",
       "      <td>23232.077764</td>\n",
       "      <td>307.816930</td>\n",
       "      <td>4147.428109</td>\n",
       "      <td>6318.347509</td>\n",
       "      <td>16.200891</td>\n",
       "      <td>3369.785338</td>\n",
       "      <td>3904.414743</td>\n",
       "      <td>74929.121102</td>\n",
       "      <td>13414.337789</td>\n",
       "      <td>...</td>\n",
       "      <td>2770.352369</td>\n",
       "      <td>26002.430134</td>\n",
       "      <td>12750.101256</td>\n",
       "      <td>5216.686918</td>\n",
       "      <td>3094.370190</td>\n",
       "      <td>7744.025921</td>\n",
       "      <td>4633.454840</td>\n",
       "      <td>4471.445930</td>\n",
       "      <td>552077.764277</td>\n",
       "      <td>4260.834346</td>\n",
       "    </tr>\n",
       "    <tr>\n",
       "      <th>value</th>\n",
       "      <td>137978.026988</td>\n",
       "      <td>16274.102670</td>\n",
       "      <td>302.289970</td>\n",
       "      <td>1536.227719</td>\n",
       "      <td>5832.709757</td>\n",
       "      <td>24.777866</td>\n",
       "      <td>2958.477251</td>\n",
       "      <td>2636.364988</td>\n",
       "      <td>40021.209854</td>\n",
       "      <td>13885.516346</td>\n",
       "      <td>...</td>\n",
       "      <td>4103.214680</td>\n",
       "      <td>18712.244726</td>\n",
       "      <td>9212.410738</td>\n",
       "      <td>4291.526465</td>\n",
       "      <td>2021.873900</td>\n",
       "      <td>5738.553865</td>\n",
       "      <td>64.422453</td>\n",
       "      <td>4375.771211</td>\n",
       "      <td>652044.421759</td>\n",
       "      <td>6224.200047</td>\n",
       "    </tr>\n",
       "    <tr>\n",
       "      <th>value</th>\n",
       "      <td>117278.564947</td>\n",
       "      <td>20090.272446</td>\n",
       "      <td>238.477467</td>\n",
       "      <td>3286.335823</td>\n",
       "      <td>9091.226356</td>\n",
       "      <td>11.633047</td>\n",
       "      <td>7119.424862</td>\n",
       "      <td>6322.561132</td>\n",
       "      <td>148109.048184</td>\n",
       "      <td>24153.114167</td>\n",
       "      <td>...</td>\n",
       "      <td>3196.179707</td>\n",
       "      <td>15562.108839</td>\n",
       "      <td>9821.200065</td>\n",
       "      <td>1454.130895</td>\n",
       "      <td>2748.307392</td>\n",
       "      <td>5548.963495</td>\n",
       "      <td>127.963519</td>\n",
       "      <td>12447.360462</td>\n",
       "      <td>515704.613667</td>\n",
       "      <td>7104.883553</td>\n",
       "    </tr>\n",
       "    <tr>\n",
       "      <th>value</th>\n",
       "      <td>162880.405518</td>\n",
       "      <td>19208.273762</td>\n",
       "      <td>199.602651</td>\n",
       "      <td>1879.978461</td>\n",
       "      <td>11990.084854</td>\n",
       "      <td>88.196520</td>\n",
       "      <td>9358.115008</td>\n",
       "      <td>10267.931745</td>\n",
       "      <td>95860.333847</td>\n",
       "      <td>18344.876246</td>\n",
       "      <td>...</td>\n",
       "      <td>2984.755928</td>\n",
       "      <td>16130.679392</td>\n",
       "      <td>9483.446906</td>\n",
       "      <td>1466.847392</td>\n",
       "      <td>4822.957090</td>\n",
       "      <td>3866.721132</td>\n",
       "      <td>51.061143</td>\n",
       "      <td>20470.876581</td>\n",
       "      <td>517012.644596</td>\n",
       "      <td>7784.503407</td>\n",
       "    </tr>\n",
       "    <tr>\n",
       "      <th>value</th>\n",
       "      <td>272603.599833</td>\n",
       "      <td>20406.027627</td>\n",
       "      <td>1639.458630</td>\n",
       "      <td>2999.860472</td>\n",
       "      <td>4499.790707</td>\n",
       "      <td>34.882099</td>\n",
       "      <td>2162.690107</td>\n",
       "      <td>4046.323427</td>\n",
       "      <td>44614.203991</td>\n",
       "      <td>18068.927027</td>\n",
       "      <td>...</td>\n",
       "      <td>6941.537603</td>\n",
       "      <td>24417.468955</td>\n",
       "      <td>12348.262871</td>\n",
       "      <td>13115.669039</td>\n",
       "      <td>1848.751221</td>\n",
       "      <td>5860.192549</td>\n",
       "      <td>418.585182</td>\n",
       "      <td>3244.035161</td>\n",
       "      <td>459362.355239</td>\n",
       "      <td>3871.912934</td>\n",
       "    </tr>\n",
       "    <tr>\n",
       "      <th>value</th>\n",
       "      <td>84727.906317</td>\n",
       "      <td>17407.512460</td>\n",
       "      <td>24.312168</td>\n",
       "      <td>1839.620730</td>\n",
       "      <td>6985.696341</td>\n",
       "      <td>121.560841</td>\n",
       "      <td>2471.737104</td>\n",
       "      <td>1920.661291</td>\n",
       "      <td>54742.898821</td>\n",
       "      <td>7423.315369</td>\n",
       "      <td>...</td>\n",
       "      <td>2698.650675</td>\n",
       "      <td>11353.782568</td>\n",
       "      <td>8444.426435</td>\n",
       "      <td>3282.142712</td>\n",
       "      <td>1653.227440</td>\n",
       "      <td>4303.253779</td>\n",
       "      <td>64.832449</td>\n",
       "      <td>3735.969853</td>\n",
       "      <td>716641.679160</td>\n",
       "      <td>5178.491835</td>\n",
       "    </tr>\n",
       "    <tr>\n",
       "      <th>value</th>\n",
       "      <td>297019.687184</td>\n",
       "      <td>20543.148393</td>\n",
       "      <td>3190.413197</td>\n",
       "      <td>4980.157186</td>\n",
       "      <td>6614.271263</td>\n",
       "      <td>3423.858066</td>\n",
       "      <td>8014.940472</td>\n",
       "      <td>6108.474049</td>\n",
       "      <td>114387.985371</td>\n",
       "      <td>25173.138277</td>\n",
       "      <td>...</td>\n",
       "      <td>7509.143257</td>\n",
       "      <td>36261.769512</td>\n",
       "      <td>17041.475372</td>\n",
       "      <td>7470.235779</td>\n",
       "      <td>2918.060851</td>\n",
       "      <td>7976.032994</td>\n",
       "      <td>2295.541203</td>\n",
       "      <td>8637.460120</td>\n",
       "      <td>284335.849350</td>\n",
       "      <td>4513.267450</td>\n",
       "    </tr>\n",
       "    <tr>\n",
       "      <th>value</th>\n",
       "      <td>211908.483729</td>\n",
       "      <td>19525.365923</td>\n",
       "      <td>1648.429729</td>\n",
       "      <td>1449.481313</td>\n",
       "      <td>4547.392355</td>\n",
       "      <td>341.054427</td>\n",
       "      <td>4433.707546</td>\n",
       "      <td>6281.085690</td>\n",
       "      <td>59172.943015</td>\n",
       "      <td>13443.228649</td>\n",
       "      <td>...</td>\n",
       "      <td>4462.128748</td>\n",
       "      <td>21543.271280</td>\n",
       "      <td>13642.177064</td>\n",
       "      <td>13471.649851</td>\n",
       "      <td>1364.217706</td>\n",
       "      <td>12022.168538</td>\n",
       "      <td>284.212022</td>\n",
       "      <td>4661.077164</td>\n",
       "      <td>514366.917721</td>\n",
       "      <td>3751.598693</td>\n",
       "    </tr>\n",
       "    <tr>\n",
       "      <th>value</th>\n",
       "      <td>133242.333242</td>\n",
       "      <td>18491.218491</td>\n",
       "      <td>1528.801529</td>\n",
       "      <td>1692.601693</td>\n",
       "      <td>6533.806534</td>\n",
       "      <td>38984.438984</td>\n",
       "      <td>2675.402675</td>\n",
       "      <td>3003.003003</td>\n",
       "      <td>57038.857039</td>\n",
       "      <td>10829.010829</td>\n",
       "      <td>...</td>\n",
       "      <td>3075.803076</td>\n",
       "      <td>19437.619438</td>\n",
       "      <td>10228.410228</td>\n",
       "      <td>6624.806625</td>\n",
       "      <td>2220.402220</td>\n",
       "      <td>6624.806625</td>\n",
       "      <td>637.000637</td>\n",
       "      <td>2038.402038</td>\n",
       "      <td>575575.575576</td>\n",
       "      <td>4513.604514</td>\n",
       "    </tr>\n",
       "    <tr>\n",
       "      <th>value</th>\n",
       "      <td>182017.240830</td>\n",
       "      <td>18101.808055</td>\n",
       "      <td>1211.747574</td>\n",
       "      <td>1817.621361</td>\n",
       "      <td>21673.274588</td>\n",
       "      <td>42.517459</td>\n",
       "      <td>13286.705854</td>\n",
       "      <td>8259.016359</td>\n",
       "      <td>115849.445679</td>\n",
       "      <td>23267.679291</td>\n",
       "      <td>...</td>\n",
       "      <td>3805.312556</td>\n",
       "      <td>24415.650677</td>\n",
       "      <td>9417.617109</td>\n",
       "      <td>2210.907854</td>\n",
       "      <td>4761.955378</td>\n",
       "      <td>2232.166583</td>\n",
       "      <td>531.468234</td>\n",
       "      <td>22396.071387</td>\n",
       "      <td>442479.193019</td>\n",
       "      <td>8450.344923</td>\n",
       "    </tr>\n",
       "    <tr>\n",
       "      <th>value</th>\n",
       "      <td>112568.379018</td>\n",
       "      <td>12766.557557</td>\n",
       "      <td>326.586356</td>\n",
       "      <td>2011.475057</td>\n",
       "      <td>6168.028680</td>\n",
       "      <td>593.793375</td>\n",
       "      <td>4238.200212</td>\n",
       "      <td>2263.837241</td>\n",
       "      <td>117585.933035</td>\n",
       "      <td>14265.885828</td>\n",
       "      <td>...</td>\n",
       "      <td>2813.096113</td>\n",
       "      <td>15126.886222</td>\n",
       "      <td>7073.563577</td>\n",
       "      <td>3518.225745</td>\n",
       "      <td>1239.543670</td>\n",
       "      <td>3740.898261</td>\n",
       "      <td>126.181092</td>\n",
       "      <td>4305.001967</td>\n",
       "      <td>612356.840129</td>\n",
       "      <td>3347.510150</td>\n",
       "    </tr>\n",
       "    <tr>\n",
       "      <th>value</th>\n",
       "      <td>176537.139984</td>\n",
       "      <td>22362.209124</td>\n",
       "      <td>405.061877</td>\n",
       "      <td>2374.500656</td>\n",
       "      <td>9288.487862</td>\n",
       "      <td>41.902953</td>\n",
       "      <td>5838.478085</td>\n",
       "      <td>6034.025198</td>\n",
       "      <td>97410.397519</td>\n",
       "      <td>20183.255580</td>\n",
       "      <td>...</td>\n",
       "      <td>3980.780512</td>\n",
       "      <td>20071.514373</td>\n",
       "      <td>12822.303545</td>\n",
       "      <td>5056.289633</td>\n",
       "      <td>2821.465486</td>\n",
       "      <td>7752.046261</td>\n",
       "      <td>125.708858</td>\n",
       "      <td>8883.425985</td>\n",
       "      <td>494133.586613</td>\n",
       "      <td>7933.625723</td>\n",
       "    </tr>\n",
       "  </tbody>\n",
       "</table>\n",
       "<p>26 rows × 23 columns</p>\n",
       "</div>"
      ],
      "text/plain": [
       "                184           372          374          378           532   \\\n",
       "value  172797.923205  19223.501963  4666.217571  2316.678442  19338.514368   \n",
       "value  366311.668491  13027.658892   309.655729  1039.558519   4600.599405   \n",
       "value  266131.101593  19238.234346   631.624657  1783.023771   7447.907414   \n",
       "value  260960.067969  27591.333900  1529.311810  1890.399320   5734.919286   \n",
       "value  171137.667716  20660.943095   629.880495  1246.818241  13706.372147   \n",
       "value  234558.659160  28187.172809   488.674704  3056.816232   4569.628347   \n",
       "value  173452.961909  22095.702860   237.223804  2304.459808   6150.874339   \n",
       "value  211765.383066  26995.913199     0.000000  1726.817475   5238.013009   \n",
       "value  136539.692385  12022.196855   105.573628   475.081325   6994.252836   \n",
       "value  281082.634812  17470.442277   194.444797  1293.480604   9050.137168   \n",
       "value  155064.585005  16157.608613    45.429078  1302.300226   5512.061420   \n",
       "value  154364.296538  18109.043085   228.721731  3499.442491   8868.685136   \n",
       "value  171529.359888  14339.024848   179.646097  1477.997436   4499.318161   \n",
       "value  184251.645790  30866.569328   563.539025  3022.618407   6890.545352   \n",
       "value  151429.728635  23232.077764   307.816930  4147.428109   6318.347509   \n",
       "value  137978.026988  16274.102670   302.289970  1536.227719   5832.709757   \n",
       "value  117278.564947  20090.272446   238.477467  3286.335823   9091.226356   \n",
       "value  162880.405518  19208.273762   199.602651  1879.978461  11990.084854   \n",
       "value  272603.599833  20406.027627  1639.458630  2999.860472   4499.790707   \n",
       "value   84727.906317  17407.512460    24.312168  1839.620730   6985.696341   \n",
       "value  297019.687184  20543.148393  3190.413197  4980.157186   6614.271263   \n",
       "value  211908.483729  19525.365923  1648.429729  1449.481313   4547.392355   \n",
       "value  133242.333242  18491.218491  1528.801529  1692.601693   6533.806534   \n",
       "value  182017.240830  18101.808055  1211.747574  1817.621361  21673.274588   \n",
       "value  112568.379018  12766.557557   326.586356  2011.475057   6168.028680   \n",
       "value  176537.139984  22362.209124   405.061877  2374.500656   9288.487862   \n",
       "\n",
       "                562           612           614            616           630   \\\n",
       "value     131.442748   9808.915104   5734.189902  116786.882014  20685.802540   \n",
       "value      11.059133   4279.884543   4589.540272   34382.845073  21797.551508   \n",
       "value   16632.782636   3908.177565   5849.107501   78163.551310  14211.554784   \n",
       "value   12064.570943   1932.880204   5989.804588   74808.836024  24107.901444   \n",
       "value     103.541999   7493.852194   4499.762716  133590.750248  21006.083092   \n",
       "value     358.708027   4132.940314   4382.476333   65066.516945  12175.278259   \n",
       "value  334943.066287   2482.377660   4075.166057   73869.798021  15555.103701   \n",
       "value      57.560583   4835.088931   6101.421746   72929.258044  14562.827376   \n",
       "value    1860.735188   1339.465402   1906.923650   36462.491670   8525.070437   \n",
       "value     431.160201   5296.507180   5051.337653   50674.004844  15238.554176   \n",
       "value     439.147751   1983.736390   2634.886503   27696.594333   6647.788361   \n",
       "value      22.872173   7930.926037   4059.810733   66066.272122  15924.750550   \n",
       "value      24.497195   3200.966823   4189.020357   69041.261442  13228.485338   \n",
       "value      25.615410   4200.927278   4021.619406   49975.665360  13986.013986   \n",
       "value      16.200891   3369.785338   3904.414743   74929.121102  13414.337789   \n",
       "value      24.777866   2958.477251   2636.364988   40021.209854  13885.516346   \n",
       "value      11.633047   7119.424862   6322.561132  148109.048184  24153.114167   \n",
       "value      88.196520   9358.115008  10267.931745   95860.333847  18344.876246   \n",
       "value      34.882099   2162.690107   4046.323427   44614.203991  18068.927027   \n",
       "value     121.560841   2471.737104   1920.661291   54742.898821   7423.315369   \n",
       "value    3423.858066   8014.940472   6108.474049  114387.985371  25173.138277   \n",
       "value     341.054427   4433.707546   6281.085690   59172.943015  13443.228649   \n",
       "value   38984.438984   2675.402675   3003.003003   57038.857039  10829.010829   \n",
       "value      42.517459  13286.705854   8259.016359  115849.445679  23267.679291   \n",
       "value     593.793375   4238.200212   2263.837241  117585.933035  14265.885828   \n",
       "value      41.902953   5838.478085   6034.025198   97410.397519  20183.255580   \n",
       "\n",
       "       ...         656           672           678           850   \\\n",
       "value  ...  3844.700393  20570.790135  16266.040123   5684.898871   \n",
       "value  ...  6137.818918  18888.999480  11789.035975   2455.127567   \n",
       "value  ...  3598.944660  20481.745389  11112.646310   4934.567633   \n",
       "value  ...  4375.531011  24256.584537  14655.904843  11023.789295   \n",
       "value  ...  3369.429225  17304.456620  14405.280642   2566.978731   \n",
       "value  ...  4891.945705  32294.119788  15258.087826   6586.711167   \n",
       "value  ...  2745.018300  19486.241019   9904.093805   4837.671140   \n",
       "value  ...  5640.937086  39544.120186  17095.493006  30334.426984   \n",
       "value  ...  2118.070906  10141.666612   6512.573159   3747.863784   \n",
       "value  ...  3850.852387  19440.252609  11159.440506   2950.488437   \n",
       "value  ...  1680.875873  13855.868680   7556.369914  11130.124021   \n",
       "value  ...  4019.784430  13637.533236   8171.083855   2859.021643   \n",
       "value  ...  3160.138164  15596.547529   7389.987180   2800.845970   \n",
       "value  ...  3048.233817  19211.557673   9349.624734   9195.932273   \n",
       "value  ...  2770.352369  26002.430134  12750.101256   5216.686918   \n",
       "value  ...  4103.214680  18712.244726   9212.410738   4291.526465   \n",
       "value  ...  3196.179707  15562.108839   9821.200065   1454.130895   \n",
       "value  ...  2984.755928  16130.679392   9483.446906   1466.847392   \n",
       "value  ...  6941.537603  24417.468955  12348.262871  13115.669039   \n",
       "value  ...  2698.650675  11353.782568   8444.426435   3282.142712   \n",
       "value  ...  7509.143257  36261.769512  17041.475372   7470.235779   \n",
       "value  ...  4462.128748  21543.271280  13642.177064  13471.649851   \n",
       "value  ...  3075.803076  19437.619438  10228.410228   6624.806625   \n",
       "value  ...  3805.312556  24415.650677   9417.617109   2210.907854   \n",
       "value  ...  2813.096113  15126.886222   7073.563577   3518.225745   \n",
       "value  ...  3980.780512  20071.514373  12822.303545   5056.289633   \n",
       "\n",
       "              940           990          1190          1342           1760  \\\n",
       "value  4222.598295   4666.217571   262.885497  10909.748123  450750.045183   \n",
       "value  3295.621689   6591.243378   110.591332   2997.025093  423620.096657   \n",
       "value  4335.840094   6283.349453    72.373659   7743.981472  451914.283270   \n",
       "value  3504.672897  14804.587935    84.961767   5437.553101  413997.451147   \n",
       "value  2446.179732   6380.775702   112.170499   5604.210708  458626.342810   \n",
       "value  2958.041558   7293.729888   228.741351   5593.765758  467074.242164   \n",
       "value  2787.379694   8235.054900    76.250508   6811.712078  231632.099770   \n",
       "value  2705.347378  12317.964658  2129.741553   6734.588154  432510.217003   \n",
       "value  1141.514850   4341.715439    72.581869   2250.037941  698092.416514   \n",
       "value  3745.175867   3660.634651    63.405912   8306.174468  478942.896636   \n",
       "value  1150.869967   4391.477505   318.003543   2907.460969  672713.781668   \n",
       "value  4237.070075   4208.479858   257.311948   7936.644080  590833.976613   \n",
       "value  2384.393654   6173.293158   204.143292   4458.489503  612144.076170   \n",
       "value  2920.156766   6762.468301    76.846231   6916.160762  516073.669920   \n",
       "value  3094.370190   7744.025921  4633.454840   4471.445930  552077.764277   \n",
       "value  2021.873900   5738.553865    64.422453   4375.771211  652044.421759   \n",
       "value  2748.307392   5548.963495   127.963519  12447.360462  515704.613667   \n",
       "value  4822.957090   3866.721132    51.061143  20470.876581  517012.644596   \n",
       "value  1848.751221   5860.192549   418.585182   3244.035161  459362.355239   \n",
       "value  1653.227440   4303.253779    64.832449   3735.969853  716641.679160   \n",
       "value  2918.060851   7976.032994  2295.541203   8637.460120  284335.849350   \n",
       "value  1364.217706  12022.168538   284.212022   4661.077164  514366.917721   \n",
       "value  2220.402220   6624.806625   637.000637   2038.402038  575575.575576   \n",
       "value  4761.955378   2232.166583   531.468234  22396.071387  442479.193019   \n",
       "value  1239.543670   3740.898261   126.181092   4305.001967  612356.840129   \n",
       "value  2821.465486   7752.046261   125.708858   8883.425985  494133.586613   \n",
       "\n",
       "              2182  \n",
       "value  7229.351166  \n",
       "value  2775.842429  \n",
       "value  4467.428564  \n",
       "value  5586.236194  \n",
       "value  7364.424695  \n",
       "value  6987.008531  \n",
       "value  5227.395960  \n",
       "value  4835.088931  \n",
       "value  3926.019280  \n",
       "value  5660.034408  \n",
       "value  2862.031891  \n",
       "value  6192.640878  \n",
       "value  3535.761822  \n",
       "value  8094.469633  \n",
       "value  4260.834346  \n",
       "value  6224.200047  \n",
       "value  7104.883553  \n",
       "value  7784.503407  \n",
       "value  3871.912934  \n",
       "value  5178.491835  \n",
       "value  4513.267450  \n",
       "value  3751.598693  \n",
       "value  4513.604514  \n",
       "value  8450.344923  \n",
       "value  3347.510150  \n",
       "value  7933.625723  \n",
       "\n",
       "[26 rows x 23 columns]"
      ]
     },
     "execution_count": 318,
     "metadata": {},
     "output_type": "execute_result"
    }
   ],
   "source": [
    "t3"
   ]
  },
  {
   "cell_type": "code",
   "execution_count": 319,
   "metadata": {},
   "outputs": [],
   "source": [
    "X = np.array(sick).reshape(-1, 1)"
   ]
  },
  {
   "cell_type": "code",
   "execution_count": 320,
   "metadata": {},
   "outputs": [
    {
     "data": {
      "text/plain": [
       "LinearRegression()"
      ]
     },
     "execution_count": 320,
     "metadata": {},
     "output_type": "execute_result"
    }
   ],
   "source": [
    "linreg = LinearRegression()\n",
    "linreg.fit(X, t3)"
   ]
  },
  {
   "cell_type": "code",
   "execution_count": 321,
   "metadata": {},
   "outputs": [
    {
     "data": {
      "text/plain": [
       "0.20359677967883166"
      ]
     },
     "execution_count": 321,
     "metadata": {},
     "output_type": "execute_result"
    }
   ],
   "source": [
    "fitted = linreg.predict(X)\n",
    "explained_variance_score(t3, fitted, multioutput=\"variance_weighted\")"
   ]
  },
  {
   "cell_type": "markdown",
   "metadata": {},
   "source": [
    "### Mean-variance-plot"
   ]
  },
  {
   "cell_type": "code",
   "execution_count": 322,
   "metadata": {},
   "outputs": [
    {
     "data": {
      "text/plain": [
       "184     191543.813221\n",
       "372      19784.381552\n",
       "374        801.266969\n",
       "378       2171.183880\n",
       "532       8005.574815\n",
       "562      15801.214492\n",
       "612       4952.088852\n",
       "614       4774.337165\n",
       "616      75739.888650\n",
       "630      16157.886575\n",
       "632       8703.754845\n",
       "642      26090.214609\n",
       "654      11803.423416\n",
       "656       3877.816773\n",
       "672      20528.688831\n",
       "678      11265.809886\n",
       "850       6472.598709\n",
       "940       2821.153656\n",
       "990       6520.031631\n",
       "1190       516.555407\n",
       "1342      7087.478849\n",
       "1760    509039.116794\n",
       "2182      5449.173537\n",
       "dtype: float64"
      ]
     },
     "execution_count": 322,
     "metadata": {},
     "output_type": "execute_result"
    }
   ],
   "source": [
    "np.mean(table)"
   ]
  },
  {
   "cell_type": "code",
   "execution_count": 323,
   "metadata": {
    "tags": []
   },
   "outputs": [],
   "source": [
    "def get_means_and_variances(table):\n",
    "    return np.mean(table), np.var(table, ddof=1)"
   ]
  },
  {
   "cell_type": "code",
   "execution_count": 324,
   "metadata": {
    "tags": []
   },
   "outputs": [],
   "source": [
    "def mean_variance_plot(table):\n",
    "    means, variances = get_means_and_variances(table)\n",
    "    plt.scatter(means, variances)\n",
    "    plt.xlabel(\"mean\")\n",
    "    plt.ylabel(\"variance\")\n",
    "    plt.plot()"
   ]
  },
  {
   "cell_type": "code",
   "execution_count": 325,
   "metadata": {},
   "outputs": [
    {
     "data": {
      "image/png": "[encoded data removed]",
      "text/plain": [
       "<Figure size 432x288 with 1 Axes>"
      ]
     },
     "metadata": {
      "needs_background": "light"
     },
     "output_type": "display_data"
    }
   ],
   "source": [
    "mean_variance_plot(table)"
   ]
  },
  {
   "cell_type": "markdown",
   "metadata": {
    "tags": []
   },
   "source": [
    "### Log transformation"
   ]
  },
  {
   "cell_type": "code",
   "execution_count": 326,
   "metadata": {},
   "outputs": [],
   "source": [
    "log_table = np.log2(table + 1)"
   ]
  },
  {
   "cell_type": "code",
   "execution_count": 327,
   "metadata": {},
   "outputs": [
    {
     "data": {
      "image/png": "[encoded data removed]",
      "text/plain": [
       "<Figure size 432x288 with 1 Axes>"
      ]
     },
     "metadata": {
      "needs_background": "light"
     },
     "output_type": "display_data"
    }
   ],
   "source": [
    "mean_variance_plot(log_table)"
   ]
  },
  {
   "cell_type": "code",
   "execution_count": 328,
   "metadata": {},
   "outputs": [],
   "source": [
    "mask = np.mean(log_table) > 2\n",
    "log_table = log_table.loc[:, mask]\n",
    "mirnas = mirnas[mask]"
   ]
  },
  {
   "cell_type": "markdown",
   "metadata": {
    "tags": []
   },
   "source": [
    "### Loess regression"
   ]
  },
  {
   "cell_type": "code",
   "execution_count": 329,
   "metadata": {
    "tags": []
   },
   "outputs": [],
   "source": [
    "lowess = LowessRegression(sigma=1, span=0.1)"
   ]
  },
  {
   "cell_type": "code",
   "execution_count": 330,
   "metadata": {},
   "outputs": [
    {
     "data": {
      "text/plain": [
       "LowessRegression(span=0.1)"
      ]
     },
     "execution_count": 330,
     "metadata": {},
     "output_type": "execute_result"
    }
   ],
   "source": [
    "means, variances = get_means_and_variances(log_table)\n",
    "lowess.fit(means.to_numpy().reshape(-1,1), variances)"
   ]
  },
  {
   "cell_type": "code",
   "execution_count": 331,
   "metadata": {},
   "outputs": [],
   "source": [
    "x_axis = np.linspace(-2, 14, 100)\n",
    "y_axis = lowess.predict(x_axis.reshape(-1,1))"
   ]
  },
  {
   "cell_type": "code",
   "execution_count": 332,
   "metadata": {},
   "outputs": [
    {
     "data": {
      "text/plain": [
       "[]"
      ]
     },
     "execution_count": 332,
     "metadata": {},
     "output_type": "execute_result"
    },
    {
     "data": {
      "image/png": "[encoded data removed]",
      "text/plain": [
       "<Figure size 432x288 with 1 Axes>"
      ]
     },
     "metadata": {
      "needs_background": "light"
     },
     "output_type": "display_data"
    }
   ],
   "source": [
    "plt.scatter(means, variances, color=\"b\")\n",
    "plt.scatter(x_axis, y_axis, color=\"y\")\n",
    "plt.xlabel(\"mean\")\n",
    "plt.ylabel(\"variance\")\n",
    "plt.legend([\"Sample points\", \"Lowess regression\"])\n",
    "plt.plot()"
   ]
  },
  {
   "cell_type": "markdown",
   "metadata": {
    "tags": []
   },
   "source": [
    "### Lowess normalization"
   ]
  },
  {
   "cell_type": "code",
   "execution_count": 333,
   "metadata": {},
   "outputs": [],
   "source": [
    "adj_var = lowess.predict(means.to_numpy().reshape(-1, 1))"
   ]
  },
  {
   "cell_type": "code",
   "execution_count": 334,
   "metadata": {
    "tags": []
   },
   "outputs": [],
   "source": [
    "log_table /= np.sqrt(adj_var)"
   ]
  },
  {
   "cell_type": "code",
   "execution_count": 335,
   "metadata": {},
   "outputs": [
    {
     "data": {
      "image/png": "[encoded data removed]",
      "text/plain": [
       "<Figure size 432x288 with 1 Axes>"
      ]
     },
     "metadata": {
      "needs_background": "light"
     },
     "output_type": "display_data"
    }
   ],
   "source": [
    "mean_variance_plot(log_table)"
   ]
  },
  {
   "cell_type": "code",
   "execution_count": 336,
   "metadata": {},
   "outputs": [],
   "source": [
    "norm_log_table = log_table - np.mean(log_table)\n",
    "norm_log_table /= np.sqrt(np.mean(np.var(norm_log_table, ddof=1)))"
   ]
  },
  {
   "cell_type": "code",
   "execution_count": 337,
   "metadata": {},
   "outputs": [
    {
     "data": {
      "image/png": "[encoded data removed]",
      "text/plain": [
       "<Figure size 432x288 with 1 Axes>"
      ]
     },
     "metadata": {
      "needs_background": "light"
     },
     "output_type": "display_data"
    }
   ],
   "source": [
    "mean_variance_plot(norm_log_table)"
   ]
  },
  {
   "cell_type": "markdown",
   "metadata": {},
   "source": [
    "### PCA"
   ]
  },
  {
   "cell_type": "code",
   "execution_count": 338,
   "metadata": {
    "tags": []
   },
   "outputs": [],
   "source": [
    "pca = decomposition.PCA(n_components=10)"
   ]
  },
  {
   "cell_type": "code",
   "execution_count": 339,
   "metadata": {},
   "outputs": [
    {
     "data": {
      "text/plain": [
       "PCA(n_components=10)"
      ]
     },
     "execution_count": 339,
     "metadata": {},
     "output_type": "execute_result"
    }
   ],
   "source": [
    "pca.fit(norm_log_table)"
   ]
  },
  {
   "cell_type": "code",
   "execution_count": 340,
   "metadata": {},
   "outputs": [
    {
     "data": {
      "text/plain": [
       "array([0.34154107, 0.23750383, 0.09766296, 0.08112424, 0.05481895,\n",
       "       0.04263752, 0.03428918, 0.02846199, 0.01693895, 0.01483314])"
      ]
     },
     "execution_count": 340,
     "metadata": {},
     "output_type": "execute_result"
    }
   ],
   "source": [
    "pca.explained_variance_ratio_"
   ]
  },
  {
   "cell_type": "code",
   "execution_count": 341,
   "metadata": {
    "tags": []
   },
   "outputs": [],
   "source": [
    "components = pca.transform(norm_log_table)"
   ]
  },
  {
   "cell_type": "code",
   "execution_count": 342,
   "metadata": {},
   "outputs": [
    {
     "data": {
      "text/plain": [
       "(26, 10)"
      ]
     },
     "execution_count": 342,
     "metadata": {},
     "output_type": "execute_result"
    }
   ],
   "source": [
    "components.shape"
   ]
  },
  {
   "cell_type": "code",
   "execution_count": 343,
   "metadata": {},
   "outputs": [
    {
     "data": {
      "text/plain": [
       "7"
      ]
     },
     "execution_count": 343,
     "metadata": {},
     "output_type": "execute_result"
    }
   ],
   "source": [
    "sum(controls)"
   ]
  },
  {
   "cell_type": "code",
   "execution_count": 344,
   "metadata": {},
   "outputs": [
    {
     "data": {
      "image/png": "[encoded data removed]",
      "text/plain": [
       "<Figure size 576x576 with 1 Axes>"
      ]
     },
     "metadata": {
      "needs_background": "light"
     },
     "output_type": "display_data"
    }
   ],
   "source": [
    "fig = plt.figure(figsize = (8,8))\n",
    "ax = fig.add_subplot(1,1,1)\n",
    "\n",
    "ax.set_xlabel('Principal Component 1', fontsize = 15)\n",
    "ax.set_ylabel('Principal Component 2', fontsize = 15)\n",
    "ax.set_title('2 component PCA', fontsize = 20)\n",
    "targets = ['Cancer', 'Healthy']\n",
    "colors = ['r', 'g']\n",
    "ax.scatter(components[controls == False, 0], components[controls == False, 1], c = 'r', s = 10)\n",
    "ax.scatter(components[controls == True, 0], components[controls == True, 1], c = 'g', s = 10)\n",
    "ax.legend(targets)\n",
    "ax.grid()"
   ]
  },
  {
   "cell_type": "code",
   "execution_count": 345,
   "metadata": {
    "tags": []
   },
   "outputs": [],
   "source": [
    "components2 = components[components[:,0] < 20, :]\n",
    "controls2 = controls[components[:,0] < 20]"
   ]
  },
  {
   "cell_type": "code",
   "execution_count": 346,
   "metadata": {},
   "outputs": [
    {
     "data": {
      "image/png": "[encoded data removed]",
      "text/plain": [
       "<Figure size 576x576 with 1 Axes>"
      ]
     },
     "metadata": {
      "needs_background": "light"
     },
     "output_type": "display_data"
    }
   ],
   "source": [
    "fig = plt.figure(figsize = (8,8))\n",
    "ax = fig.add_subplot(1,1,1)\n",
    "\n",
    "ax.set_xlabel('Principal Component 1', fontsize = 15)\n",
    "ax.set_ylabel('Principal Component 2', fontsize = 15)\n",
    "ax.set_title('2 component PCA', fontsize = 20)\n",
    "targets = ['Cancer', 'Healthy']\n",
    "colors = ['r', 'g']\n",
    "ax.scatter(components2[controls2 == False, 0], components2[controls2 == False, 1], c = 'r', s = 10)\n",
    "ax.scatter(components2[controls2 == True, 0], components2[controls2 == True, 1], c = 'g', s = 10)\n",
    "ax.legend(targets)\n",
    "ax.grid()"
   ]
  },
  {
   "cell_type": "markdown",
   "metadata": {
    "tags": []
   },
   "source": [
    "### Linear regression adjustments"
   ]
  },
  {
   "cell_type": "code",
   "execution_count": 347,
   "metadata": {},
   "outputs": [],
   "source": [
    "sex = np.array([\"Female\" in k.metadata[\"characteristics_ch1\"][2] for k in list(geo_data.gsms.values())])"
   ]
  },
  {
   "cell_type": "code",
   "execution_count": 348,
   "metadata": {},
   "outputs": [
    {
     "data": {
      "text/plain": [
       "array([ True,  True, False, False, False,  True, False,  True,  True,\n",
       "       False,  True,  True,  True, False,  True, False,  True, False,\n",
       "        True,  True,  True,  True,  True, False, False,  True])"
      ]
     },
     "execution_count": 348,
     "metadata": {},
     "output_type": "execute_result"
    }
   ],
   "source": [
    "sex"
   ]
  },
  {
   "cell_type": "code",
   "execution_count": 349,
   "metadata": {},
   "outputs": [],
   "source": [
    "covars = pd.DataFrame(np.array([sex]).transpose(), columns=[\"sex\"])"
   ]
  },
  {
   "cell_type": "code",
   "execution_count": 350,
   "metadata": {},
   "outputs": [],
   "source": [
    "covars = covars.fillna(covars.mean())"
   ]
  },
  {
   "cell_type": "code",
   "execution_count": 351,
   "metadata": {},
   "outputs": [
    {
     "data": {
      "text/plain": [
       "LinearRegression()"
      ]
     },
     "execution_count": 351,
     "metadata": {},
     "output_type": "execute_result"
    }
   ],
   "source": [
    "linreg = LinearRegression()\n",
    "linreg.fit(covars, norm_log_table)"
   ]
  },
  {
   "cell_type": "code",
   "execution_count": 352,
   "metadata": {},
   "outputs": [],
   "source": [
    "adj_norm_log_table = norm_log_table - linreg.predict(covars)"
   ]
  },
  {
   "cell_type": "markdown",
   "metadata": {
    "tags": []
   },
   "source": [
    "# PCA"
   ]
  },
  {
   "cell_type": "code",
   "execution_count": 353,
   "metadata": {
    "tags": []
   },
   "outputs": [],
   "source": [
    "pca = decomposition.PCA(n_components=2)"
   ]
  },
  {
   "cell_type": "code",
   "execution_count": 354,
   "metadata": {},
   "outputs": [
    {
     "data": {
      "text/plain": [
       "PCA(n_components=2)"
      ]
     },
     "execution_count": 354,
     "metadata": {},
     "output_type": "execute_result"
    }
   ],
   "source": [
    "pca.fit(adj_norm_log_table)"
   ]
  },
  {
   "cell_type": "code",
   "execution_count": 355,
   "metadata": {
    "tags": []
   },
   "outputs": [],
   "source": [
    "components = pca.transform(adj_norm_log_table)"
   ]
  },
  {
   "cell_type": "code",
   "execution_count": 356,
   "metadata": {},
   "outputs": [
    {
     "data": {
      "text/plain": [
       "array([[-3.20742866, -2.41369672],\n",
       "       [-0.37166133,  0.53517755],\n",
       "       [-0.18767645,  1.4717362 ],\n",
       "       [-1.21946107,  4.2178866 ],\n",
       "       [-1.02081805, -1.05893401],\n",
       "       [-1.80012391,  1.58907036],\n",
       "       [ 0.48635848,  2.57111676],\n",
       "       [-2.64204647,  3.41804447],\n",
       "       [ 6.46071296, -0.41145971],\n",
       "       [ 0.06759836, -0.21062765],\n",
       "       [ 5.16610897,  0.97241787],\n",
       "       [-0.45136725, -3.33306226],\n",
       "       [ 1.87941251, -1.16832295],\n",
       "       [ 0.06377575,  0.80492403],\n",
       "       [-0.73832492, -0.08341354],\n",
       "       [ 2.90917291,  0.20257966],\n",
       "       [-2.2005263 , -3.99756464],\n",
       "       [-1.17823682, -3.58649855],\n",
       "       [-0.80142111,  2.69829288],\n",
       "       [ 4.68843295, -2.18010007],\n",
       "       [-5.53296437,  1.86259749],\n",
       "       [-0.07229282,  2.08771153],\n",
       "       [ 1.96344504,  1.55079215],\n",
       "       [-2.90413776, -3.80039222],\n",
       "       [ 2.98342465, -0.61179082],\n",
       "       [-2.33995529, -1.12648441]])"
      ]
     },
     "execution_count": 356,
     "metadata": {},
     "output_type": "execute_result"
    }
   ],
   "source": [
    "components"
   ]
  },
  {
   "cell_type": "code",
   "execution_count": 357,
   "metadata": {},
   "outputs": [
    {
     "data": {
      "image/png": "[encoded data removed]",
      "text/plain": [
       "<Figure size 576x576 with 1 Axes>"
      ]
     },
     "metadata": {
      "needs_background": "light"
     },
     "output_type": "display_data"
    }
   ],
   "source": [
    "fig = plt.figure(figsize = (8,8))\n",
    "ax = fig.add_subplot(1,1,1)\n",
    "\n",
    "ax.set_xlabel('Principal Component 1', fontsize = 15)\n",
    "ax.set_ylabel('Principal Component 2', fontsize = 15)\n",
    "ax.set_title('2 component PCA', fontsize = 20)\n",
    "targets = ['Cancer', 'Healthy']\n",
    "colors = ['r', 'g']\n",
    "ax.scatter(components[controls == False, 0], components[controls == False, 1], c = 'r', s = 10)\n",
    "ax.scatter(components[controls == True, 0], components[controls == True, 1], c = 'g', s = 10)\n",
    "ax.legend(targets)\n",
    "ax.grid()"
   ]
  },
  {
   "cell_type": "markdown",
   "metadata": {},
   "source": [
    "### Logistic Regression"
   ]
  },
  {
   "cell_type": "code",
   "execution_count": 358,
   "metadata": {},
   "outputs": [],
   "source": [
    "X_train, X_test, y_train, y_test = train_test_split(adj_norm_log_table, controls, test_size=0.33, random_state=42)"
   ]
  },
  {
   "cell_type": "code",
   "execution_count": 359,
   "metadata": {},
   "outputs": [
    {
     "data": {
      "text/plain": [
       "LogisticRegression()"
      ]
     },
     "execution_count": 359,
     "metadata": {},
     "output_type": "execute_result"
    }
   ],
   "source": [
    "model = LogisticRegression()\n",
    "model.fit(X_train, y_train)"
   ]
  },
  {
   "cell_type": "code",
   "execution_count": 360,
   "metadata": {},
   "outputs": [
    {
     "name": "stderr",
     "output_type": "stream",
     "text": [
      "C:\\Users\\olefr\\AppData\\Local\\Programs\\Python\\Python310\\lib\\site-packages\\sklearn\\utils\\deprecation.py:87: FutureWarning: Function plot_roc_curve is deprecated; Function :func:`plot_roc_curve` is deprecated in 1.0 and will be removed in 1.2. Use one of the class methods: :meth:`sklearn.metric.RocCurveDisplay.from_predictions` or :meth:`sklearn.metric.RocCurveDisplay.from_estimator`.\n",
      "  warnings.warn(msg, category=FutureWarning)\n"
     ]
    },
    {
     "data": {
      "text/plain": [
       "<sklearn.metrics._plot.roc_curve.RocCurveDisplay at 0x2bd05672470>"
      ]
     },
     "execution_count": 360,
     "metadata": {},
     "output_type": "execute_result"
    },
    {
     "data": {
      "image/png": "[encoded data removed]",
      "text/plain": [
       "<Figure size 432x288 with 1 Axes>"
      ]
     },
     "metadata": {
      "needs_background": "light"
     },
     "output_type": "display_data"
    }
   ],
   "source": [
    "plot_roc_curve(model, X_test, y_test)"
   ]
  },
  {
   "cell_type": "markdown",
   "metadata": {
    "jupyter": {
     "outputs_hidden": true
    }
   },
   "source": [
    "### XGBoost"
   ]
  },
  {
   "cell_type": "code",
   "execution_count": 361,
   "metadata": {},
   "outputs": [
    {
     "name": "stdout",
     "output_type": "stream",
     "text": [
      "[15:59:19] WARNING: C:/Users/Administrator/workspace/xgboost-win64_release_1.5.1/src/learner.cc:1115: Starting in XGBoost 1.3.0, the default evaluation metric used with the objective 'binary:logistic' was changed from 'error' to 'logloss'. Explicitly set eval_metric if you'd like to restore the old behavior.\n"
     ]
    },
    {
     "data": {
      "text/plain": [
       "XGBClassifier(base_score=0.5, booster='gbtree', colsample_bylevel=1,\n",
       "              colsample_bynode=1, colsample_bytree=1, enable_categorical=False,\n",
       "              gamma=0, gpu_id=-1, importance_type=None,\n",
       "              interaction_constraints='', learning_rate=0.300000012,\n",
       "              max_delta_step=0, max_depth=6, min_child_weight=1, missing=nan,\n",
       "              monotone_constraints='()', n_estimators=100, n_jobs=16,\n",
       "              num_parallel_tree=1, predictor='auto', random_state=0,\n",
       "              reg_alpha=0, reg_lambda=1, scale_pos_weight=1, subsample=1,\n",
       "              tree_method='exact', use_label_encoder=False,\n",
       "              validate_parameters=1, verbosity=None)"
      ]
     },
     "execution_count": 361,
     "metadata": {},
     "output_type": "execute_result"
    }
   ],
   "source": [
    "model = XGBClassifier(use_label_encoder=False)\n",
    "model.fit(X_train, y_train)"
   ]
  },
  {
   "cell_type": "code",
   "execution_count": 362,
   "metadata": {},
   "outputs": [
    {
     "name": "stderr",
     "output_type": "stream",
     "text": [
      "C:\\Users\\olefr\\AppData\\Local\\Programs\\Python\\Python310\\lib\\site-packages\\sklearn\\utils\\deprecation.py:87: FutureWarning: Function plot_roc_curve is deprecated; Function :func:`plot_roc_curve` is deprecated in 1.0 and will be removed in 1.2. Use one of the class methods: :meth:`sklearn.metric.RocCurveDisplay.from_predictions` or :meth:`sklearn.metric.RocCurveDisplay.from_estimator`.\n",
      "  warnings.warn(msg, category=FutureWarning)\n"
     ]
    },
    {
     "data": {
      "text/plain": [
       "<sklearn.metrics._plot.roc_curve.RocCurveDisplay at 0x2bd056710f0>"
      ]
     },
     "execution_count": 362,
     "metadata": {},
     "output_type": "execute_result"
    },
    {
     "data": {
      "image/png": "[encoded data removed]",
      "text/plain": [
       "<Figure size 432x288 with 1 Axes>"
      ]
     },
     "metadata": {
      "needs_background": "light"
     },
     "output_type": "display_data"
    }
   ],
   "source": [
    "plot_roc_curve(model, X_test, y_test)"
   ]
  },
  {
   "cell_type": "markdown",
   "metadata": {},
   "source": [
    "### Export data"
   ]
  },
  {
   "cell_type": "code",
   "execution_count": 363,
   "metadata": {},
   "outputs": [
    {
     "data": {
      "text/html": [
       "<div>\n",
       "<style scoped>\n",
       "    .dataframe tbody tr th:only-of-type {\n",
       "        vertical-align: middle;\n",
       "    }\n",
       "\n",
       "    .dataframe tbody tr th {\n",
       "        vertical-align: top;\n",
       "    }\n",
       "\n",
       "    .dataframe thead th {\n",
       "        text-align: right;\n",
       "    }\n",
       "</style>\n",
       "<table border=\"1\" class=\"dataframe\">\n",
       "  <thead>\n",
       "    <tr style=\"text-align: right;\">\n",
       "      <th></th>\n",
       "    </tr>\n",
       "  </thead>\n",
       "  <tbody>\n",
       "  </tbody>\n",
       "</table>\n",
       "</div>"
      ],
      "text/plain": [
       "Empty DataFrame\n",
       "Columns: []\n",
       "Index: []"
      ]
     },
     "execution_count": 363,
     "metadata": {},
     "output_type": "execute_result"
    }
   ],
   "source": [
    "geo_data.gpls[\"GPL18573\"].table"
   ]
  },
  {
   "cell_type": "code",
   "execution_count": 364,
   "metadata": {},
   "outputs": [],
   "source": [
    "mirnas = [m.replace(\"r\", \"R\") for m in mirnas]"
   ]
  },
  {
   "cell_type": "code",
   "execution_count": 365,
   "metadata": {},
   "outputs": [],
   "source": [
    "from Scripts import converters"
   ]
  },
  {
   "cell_type": "code",
   "execution_count": 366,
   "metadata": {},
   "outputs": [],
   "source": [
    "sequences = converters.canonical_to_seq(mirnas, True)"
   ]
  },
  {
   "cell_type": "code",
   "execution_count": 367,
   "metadata": {},
   "outputs": [
    {
     "data": {
      "text/plain": [
       "0"
      ]
     },
     "execution_count": 367,
     "metadata": {},
     "output_type": "execute_result"
    }
   ],
   "source": [
    "sequences.count(None)"
   ]
  },
  {
   "cell_type": "code",
   "execution_count": 368,
   "metadata": {},
   "outputs": [],
   "source": [
    "sequences = np.array(sequences)\n",
    "mirnas = np.array(mirnas)"
   ]
  },
  {
   "cell_type": "code",
   "execution_count": 369,
   "metadata": {},
   "outputs": [],
   "source": [
    "mask = sequences != None\n",
    "adj_norm_log_table = adj_norm_log_table.loc[:, mask]\n",
    "sequences = sequences[mask]"
   ]
  },
  {
   "cell_type": "code",
   "execution_count": 370,
   "metadata": {},
   "outputs": [
    {
     "data": {
      "text/html": [
       "<div>\n",
       "<style scoped>\n",
       "    .dataframe tbody tr th:only-of-type {\n",
       "        vertical-align: middle;\n",
       "    }\n",
       "\n",
       "    .dataframe tbody tr th {\n",
       "        vertical-align: top;\n",
       "    }\n",
       "\n",
       "    .dataframe thead th {\n",
       "        text-align: right;\n",
       "    }\n",
       "</style>\n",
       "<table border=\"1\" class=\"dataframe\">\n",
       "  <thead>\n",
       "    <tr style=\"text-align: right;\">\n",
       "      <th></th>\n",
       "      <th>UCGUACCGUGAGUAAUAAUGCG</th>\n",
       "      <th>CAGUGGUUUUACCCUAUGGUAG</th>\n",
       "      <th>UAACACUGUCUGGUAAAGAUGG</th>\n",
       "      <th>UGAGAUGAAGCACUGUAGCUC</th>\n",
       "      <th>UGUGCAAAUCUAUGCAAAACUGA</th>\n",
       "      <th>AUAAGACGAGCAAAAAGCUUGU</th>\n",
       "      <th>AGCUACAUUGUCUGCUGGGUUUC</th>\n",
       "      <th>AGCUACAUCUGGCUACUGGGU</th>\n",
       "      <th>UGUCAGUUUGUCAAAUACCCCA</th>\n",
       "      <th>AUCACAUUGCCAGGGAUUUCC</th>\n",
       "      <th>...</th>\n",
       "      <th>UAGCACCAUCUGAAAUCGGUUA</th>\n",
       "      <th>UAGCACCAUUUGAAAUCGGUUA</th>\n",
       "      <th>GAGUUCUACAGUCAGAC</th>\n",
       "      <th>AAAAGCUGGGUUGAGAGGGCGA</th>\n",
       "      <th>UCUCACACAGAAAUCGCACCCGU</th>\n",
       "      <th>UUUGUUCGUUCGGCUCGCGUGA</th>\n",
       "      <th>AGCUCGGUCUGAGGCCCCUCAGU</th>\n",
       "      <th>AAACCGUUACCAUUACUGAGUU</th>\n",
       "      <th>UCAGGCUCAGUCCCCUCCCGAU</th>\n",
       "      <th>cancer</th>\n",
       "    </tr>\n",
       "  </thead>\n",
       "  <tbody>\n",
       "    <tr>\n",
       "      <th>value</th>\n",
       "      <td>-0.094533</td>\n",
       "      <td>0.055304</td>\n",
       "      <td>1.381040</td>\n",
       "      <td>0.286272</td>\n",
       "      <td>2.724213</td>\n",
       "      <td>-0.038585</td>\n",
       "      <td>1.938178</td>\n",
       "      <td>0.541002</td>\n",
       "      <td>1.387063</td>\n",
       "      <td>1.176269</td>\n",
       "      <td>...</td>\n",
       "      <td>0.147109</td>\n",
       "      <td>1.204141</td>\n",
       "      <td>0.017502</td>\n",
       "      <td>1.344075</td>\n",
       "      <td>-0.661690</td>\n",
       "      <td>-0.103785</td>\n",
       "      <td>1.672937</td>\n",
       "      <td>-0.509741</td>\n",
       "      <td>0.731738</td>\n",
       "      <td>0</td>\n",
       "    </tr>\n",
       "    <tr>\n",
       "      <th>value</th>\n",
       "      <td>2.061307</td>\n",
       "      <td>-1.199291</td>\n",
       "      <td>0.050250</td>\n",
       "      <td>-1.506703</td>\n",
       "      <td>-0.876204</td>\n",
       "      <td>-1.217975</td>\n",
       "      <td>0.154005</td>\n",
       "      <td>0.165838</td>\n",
       "      <td>-1.468925</td>\n",
       "      <td>1.343163</td>\n",
       "      <td>...</td>\n",
       "      <td>-0.136973</td>\n",
       "      <td>0.171489</td>\n",
       "      <td>-1.570069</td>\n",
       "      <td>0.769292</td>\n",
       "      <td>0.073467</td>\n",
       "      <td>-0.531105</td>\n",
       "      <td>-1.078774</td>\n",
       "      <td>-0.742587</td>\n",
       "      <td>-0.913832</td>\n",
       "      <td>0</td>\n",
       "    </tr>\n",
       "    <tr>\n",
       "      <th>value</th>\n",
       "      <td>1.030182</td>\n",
       "      <td>-0.098996</td>\n",
       "      <td>0.160878</td>\n",
       "      <td>-0.046555</td>\n",
       "      <td>-0.347442</td>\n",
       "      <td>1.646357</td>\n",
       "      <td>-0.380569</td>\n",
       "      <td>0.330112</td>\n",
       "      <td>0.025339</td>\n",
       "      <td>-0.571371</td>\n",
       "      <td>...</td>\n",
       "      <td>0.207163</td>\n",
       "      <td>0.227974</td>\n",
       "      <td>0.426368</td>\n",
       "      <td>0.830965</td>\n",
       "      <td>0.309340</td>\n",
       "      <td>-0.131379</td>\n",
       "      <td>-0.005969</td>\n",
       "      <td>-0.087598</td>\n",
       "      <td>-0.506698</td>\n",
       "      <td>0</td>\n",
       "    </tr>\n",
       "    <tr>\n",
       "      <th>value</th>\n",
       "      <td>0.973883</td>\n",
       "      <td>1.063858</td>\n",
       "      <td>0.594720</td>\n",
       "      <td>0.084302</td>\n",
       "      <td>-1.002752</td>\n",
       "      <td>1.488332</td>\n",
       "      <td>-1.894856</td>\n",
       "      <td>0.370162</td>\n",
       "      <td>-0.077120</td>\n",
       "      <td>1.113436</td>\n",
       "      <td>...</td>\n",
       "      <td>0.770564</td>\n",
       "      <td>1.115784</td>\n",
       "      <td>1.946374</td>\n",
       "      <td>0.337428</td>\n",
       "      <td>2.133643</td>\n",
       "      <td>-0.052765</td>\n",
       "      <td>-0.759044</td>\n",
       "      <td>-0.416308</td>\n",
       "      <td>-0.122466</td>\n",
       "      <td>0</td>\n",
       "    </tr>\n",
       "    <tr>\n",
       "      <th>value</th>\n",
       "      <td>-0.236647</td>\n",
       "      <td>0.131075</td>\n",
       "      <td>0.159522</td>\n",
       "      <td>-0.846926</td>\n",
       "      <td>1.181918</td>\n",
       "      <td>-0.848727</td>\n",
       "      <td>1.019879</td>\n",
       "      <td>-0.111769</td>\n",
       "      <td>1.277191</td>\n",
       "      <td>0.674356</td>\n",
       "      <td>...</td>\n",
       "      <td>-0.354289</td>\n",
       "      <td>1.060452</td>\n",
       "      <td>-0.809316</td>\n",
       "      <td>-0.496361</td>\n",
       "      <td>0.342090</td>\n",
       "      <td>0.083768</td>\n",
       "      <td>-0.694749</td>\n",
       "      <td>-0.032296</td>\n",
       "      <td>0.352668</td>\n",
       "      <td>0</td>\n",
       "    </tr>\n",
       "  </tbody>\n",
       "</table>\n",
       "<p>5 rows × 24 columns</p>\n",
       "</div>"
      ],
      "text/plain": [
       "       UCGUACCGUGAGUAAUAAUGCG  CAGUGGUUUUACCCUAUGGUAG  UAACACUGUCUGGUAAAGAUGG  \\\n",
       "value               -0.094533                0.055304                1.381040   \n",
       "value                2.061307               -1.199291                0.050250   \n",
       "value                1.030182               -0.098996                0.160878   \n",
       "value                0.973883                1.063858                0.594720   \n",
       "value               -0.236647                0.131075                0.159522   \n",
       "\n",
       "       UGAGAUGAAGCACUGUAGCUC  UGUGCAAAUCUAUGCAAAACUGA  AUAAGACGAGCAAAAAGCUUGU  \\\n",
       "value               0.286272                 2.724213               -0.038585   \n",
       "value              -1.506703                -0.876204               -1.217975   \n",
       "value              -0.046555                -0.347442                1.646357   \n",
       "value               0.084302                -1.002752                1.488332   \n",
       "value              -0.846926                 1.181918               -0.848727   \n",
       "\n",
       "       AGCUACAUUGUCUGCUGGGUUUC  AGCUACAUCUGGCUACUGGGU  UGUCAGUUUGUCAAAUACCCCA  \\\n",
       "value                 1.938178               0.541002                1.387063   \n",
       "value                 0.154005               0.165838               -1.468925   \n",
       "value                -0.380569               0.330112                0.025339   \n",
       "value                -1.894856               0.370162               -0.077120   \n",
       "value                 1.019879              -0.111769                1.277191   \n",
       "\n",
       "       AUCACAUUGCCAGGGAUUUCC  ...  UAGCACCAUCUGAAAUCGGUUA  \\\n",
       "value               1.176269  ...                0.147109   \n",
       "value               1.343163  ...               -0.136973   \n",
       "value              -0.571371  ...                0.207163   \n",
       "value               1.113436  ...                0.770564   \n",
       "value               0.674356  ...               -0.354289   \n",
       "\n",
       "       UAGCACCAUUUGAAAUCGGUUA  GAGUUCUACAGUCAGAC  AAAAGCUGGGUUGAGAGGGCGA  \\\n",
       "value                1.204141           0.017502                1.344075   \n",
       "value                0.171489          -1.570069                0.769292   \n",
       "value                0.227974           0.426368                0.830965   \n",
       "value                1.115784           1.946374                0.337428   \n",
       "value                1.060452          -0.809316               -0.496361   \n",
       "\n",
       "       UCUCACACAGAAAUCGCACCCGU  UUUGUUCGUUCGGCUCGCGUGA  \\\n",
       "value                -0.661690               -0.103785   \n",
       "value                 0.073467               -0.531105   \n",
       "value                 0.309340               -0.131379   \n",
       "value                 2.133643               -0.052765   \n",
       "value                 0.342090                0.083768   \n",
       "\n",
       "       AGCUCGGUCUGAGGCCCCUCAGU  AAACCGUUACCAUUACUGAGUU  \\\n",
       "value                 1.672937               -0.509741   \n",
       "value                -1.078774               -0.742587   \n",
       "value                -0.005969               -0.087598   \n",
       "value                -0.759044               -0.416308   \n",
       "value                -0.694749               -0.032296   \n",
       "\n",
       "       UCAGGCUCAGUCCCCUCCCGAU  cancer  \n",
       "value                0.731738       0  \n",
       "value               -0.913832       0  \n",
       "value               -0.506698       0  \n",
       "value               -0.122466       0  \n",
       "value                0.352668       0  \n",
       "\n",
       "[5 rows x 24 columns]"
      ]
     },
     "execution_count": 370,
     "metadata": {},
     "output_type": "execute_result"
    }
   ],
   "source": [
    "adj_norm_log_table.columns = sequences\n",
    "adj_norm_log_table[\"cancer\"] = sick\n",
    "adj_norm_log_table.head()"
   ]
  },
  {
   "cell_type": "code",
   "execution_count": 371,
   "metadata": {},
   "outputs": [],
   "source": [
    "adj_norm_log_table.to_csv(f\"../TransformedData/Nigita2018_threshold_{threshold}.csv\", index=False)"
   ]
  },
  {
   "cell_type": "code",
   "execution_count": null,
   "metadata": {},
   "outputs": [],
   "source": []
  }
 ],
 "metadata": {
  "kernelspec": {
   "display_name": "Python 3 (ipykernel)",
   "language": "python",
   "name": "python3"
  },
  "language_info": {
   "codemirror_mode": {
    "name": "ipython",
    "version": 3
   },
   "file_extension": ".py",
   "mimetype": "text/x-python",
   "name": "python",
   "nbconvert_exporter": "python",
   "pygments_lexer": "ipython3",
   "version": "3.10.1"
  }
 },
 "nbformat": 4,
 "nbformat_minor": 4
}
