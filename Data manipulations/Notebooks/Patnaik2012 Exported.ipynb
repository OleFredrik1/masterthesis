{
 "cells": [
  {
   "cell_type": "code",
   "execution_count": 1,
   "metadata": {
    "tags": []
   },
   "outputs": [],
   "source": [
    "%matplotlib inline\n",
    "import GEOparse\n",
    "import matplotlib.pyplot as plt\n",
    "import pandas as pd\n",
    "import numpy as np\n",
    "from sklearn import decomposition\n",
    "from sklearn.linear_model import LinearRegression\n",
    "\n",
    "geo = \"GSE27486\""
   ]
  },
  {
   "cell_type": "code",
   "execution_count": 2,
   "metadata": {},
   "outputs": [],
   "source": [
    "data = GEOparse.get_GEO(geo=geo, destdir=\"../Dataset/Patnaik2012\", silent=True)"
   ]
  },
  {
   "cell_type": "code",
   "execution_count": 3,
   "metadata": {},
   "outputs": [
    {
     "data": {
      "text/plain": [
       "'GPL11432'"
      ]
     },
     "execution_count": 3,
     "metadata": {},
     "output_type": "execute_result"
    }
   ],
   "source": [
    "data.metadata[\"platform_id\"][0]"
   ]
  },
  {
   "cell_type": "code",
   "execution_count": 4,
   "metadata": {},
   "outputs": [
    {
     "data": {
      "text/html": [
       "<div>\n",
       "<style scoped>\n",
       "    .dataframe tbody tr th:only-of-type {\n",
       "        vertical-align: middle;\n",
       "    }\n",
       "\n",
       "    .dataframe tbody tr th {\n",
       "        vertical-align: top;\n",
       "    }\n",
       "\n",
       "    .dataframe thead th {\n",
       "        text-align: right;\n",
       "    }\n",
       "</style>\n",
       "<table border=\"1\" class=\"dataframe\">\n",
       "  <thead>\n",
       "    <tr style=\"text-align: right;\">\n",
       "      <th></th>\n",
       "      <th>ID</th>\n",
       "      <th>name</th>\n",
       "      <th>accession</th>\n",
       "      <th>miRNA_LIST</th>\n",
       "      <th>SEQUENCE</th>\n",
       "      <th>database</th>\n",
       "      <th>SPOT_ID</th>\n",
       "    </tr>\n",
       "  </thead>\n",
       "  <tbody>\n",
       "    <tr>\n",
       "      <th>0</th>\n",
       "      <td>10916</td>\n",
       "      <td>hsa-miR-1/mmu-miR-1</td>\n",
       "      <td>MIMAT0000416/MIMAT0000123</td>\n",
       "      <td>hsa-miR-1/mmu-miR-1</td>\n",
       "      <td>UGGAAUGUAAAGAAGUAUGUAU</td>\n",
       "      <td>miRBase 14.0</td>\n",
       "      <td>NaN</td>\n",
       "    </tr>\n",
       "    <tr>\n",
       "      <th>1</th>\n",
       "      <td>10998</td>\n",
       "      <td>hsa-miR-19b/mmu-miR-19b/rno-miR-19b</td>\n",
       "      <td>MIMAT0000074/MIMAT0000513/MIMAT0000788</td>\n",
       "      <td>hsa-miR-19b/mmu-miR-19b/rno-miR-19b</td>\n",
       "      <td>UGUGCAAAUCCAUGCAAAACUGA</td>\n",
       "      <td>miRBase 14.0</td>\n",
       "      <td>NaN</td>\n",
       "    </tr>\n",
       "    <tr>\n",
       "      <th>2</th>\n",
       "      <td>42918</td>\n",
       "      <td>hsa-miR-19b-2*</td>\n",
       "      <td>MIMAT0004492</td>\n",
       "      <td>hsa-miR-19b-2*</td>\n",
       "      <td>AGUUUUGCAGGUUUGCAUUUCA</td>\n",
       "      <td>miRBase 14.0</td>\n",
       "      <td>NaN</td>\n",
       "    </tr>\n",
       "    <tr>\n",
       "      <th>3</th>\n",
       "      <td>17883</td>\n",
       "      <td>hsa-miR-19b-1*</td>\n",
       "      <td>MIMAT0004491</td>\n",
       "      <td>hsa-miR-19b-1*</td>\n",
       "      <td>AGUUUUGCAGGUUUGCAUCCAGC</td>\n",
       "      <td>miRBase 14.0</td>\n",
       "      <td>NaN</td>\n",
       "    </tr>\n",
       "    <tr>\n",
       "      <th>4</th>\n",
       "      <td>10997</td>\n",
       "      <td>hsa-miR-19a/mmu-miR-19a/rno-miR-19a</td>\n",
       "      <td>MIMAT0000073/MIMAT0000651/MIMAT0000789</td>\n",
       "      <td>hsa-miR-19a/mmu-miR-19a/rno-miR-19a</td>\n",
       "      <td>UGUGCAAAUCUAUGCAAAACUGA</td>\n",
       "      <td>miRBase 14.0</td>\n",
       "      <td>NaN</td>\n",
       "    </tr>\n",
       "    <tr>\n",
       "      <th>...</th>\n",
       "      <td>...</td>\n",
       "      <td>...</td>\n",
       "      <td>...</td>\n",
       "      <td>...</td>\n",
       "      <td>...</td>\n",
       "      <td>...</td>\n",
       "      <td>...</td>\n",
       "    </tr>\n",
       "    <tr>\n",
       "      <th>2024</th>\n",
       "      <td>146204</td>\n",
       "      <td>-</td>\n",
       "      <td>NaN</td>\n",
       "      <td>NaN</td>\n",
       "      <td>NaN</td>\n",
       "      <td>NaN</td>\n",
       "      <td>146204</td>\n",
       "    </tr>\n",
       "    <tr>\n",
       "      <th>2025</th>\n",
       "      <td>42860</td>\n",
       "      <td>-</td>\n",
       "      <td>NaN</td>\n",
       "      <td>NaN</td>\n",
       "      <td>NaN</td>\n",
       "      <td>NaN</td>\n",
       "      <td>42860</td>\n",
       "    </tr>\n",
       "    <tr>\n",
       "      <th>2026</th>\n",
       "      <td>4040</td>\n",
       "      <td>-</td>\n",
       "      <td>NaN</td>\n",
       "      <td>NaN</td>\n",
       "      <td>NaN</td>\n",
       "      <td>NaN</td>\n",
       "      <td>4040</td>\n",
       "    </tr>\n",
       "    <tr>\n",
       "      <th>2027</th>\n",
       "      <td>146210</td>\n",
       "      <td>-</td>\n",
       "      <td>NaN</td>\n",
       "      <td>NaN</td>\n",
       "      <td>NaN</td>\n",
       "      <td>NaN</td>\n",
       "      <td>146210</td>\n",
       "    </tr>\n",
       "    <tr>\n",
       "      <th>2028</th>\n",
       "      <td>11177</td>\n",
       "      <td>-</td>\n",
       "      <td>NaN</td>\n",
       "      <td>NaN</td>\n",
       "      <td>NaN</td>\n",
       "      <td>NaN</td>\n",
       "      <td>11177</td>\n",
       "    </tr>\n",
       "  </tbody>\n",
       "</table>\n",
       "<p>2029 rows × 7 columns</p>\n",
       "</div>"
      ],
      "text/plain": [
       "          ID                                 name  \\\n",
       "0      10916                  hsa-miR-1/mmu-miR-1   \n",
       "1      10998  hsa-miR-19b/mmu-miR-19b/rno-miR-19b   \n",
       "2      42918                       hsa-miR-19b-2*   \n",
       "3      17883                       hsa-miR-19b-1*   \n",
       "4      10997  hsa-miR-19a/mmu-miR-19a/rno-miR-19a   \n",
       "...      ...                                  ...   \n",
       "2024  146204                                    -   \n",
       "2025   42860                                    -   \n",
       "2026    4040                                    -   \n",
       "2027  146210                                    -   \n",
       "2028   11177                                    -   \n",
       "\n",
       "                                   accession  \\\n",
       "0                  MIMAT0000416/MIMAT0000123   \n",
       "1     MIMAT0000074/MIMAT0000513/MIMAT0000788   \n",
       "2                               MIMAT0004492   \n",
       "3                               MIMAT0004491   \n",
       "4     MIMAT0000073/MIMAT0000651/MIMAT0000789   \n",
       "...                                      ...   \n",
       "2024                                     NaN   \n",
       "2025                                     NaN   \n",
       "2026                                     NaN   \n",
       "2027                                     NaN   \n",
       "2028                                     NaN   \n",
       "\n",
       "                               miRNA_LIST                 SEQUENCE  \\\n",
       "0                     hsa-miR-1/mmu-miR-1   UGGAAUGUAAAGAAGUAUGUAU   \n",
       "1     hsa-miR-19b/mmu-miR-19b/rno-miR-19b  UGUGCAAAUCCAUGCAAAACUGA   \n",
       "2                          hsa-miR-19b-2*   AGUUUUGCAGGUUUGCAUUUCA   \n",
       "3                          hsa-miR-19b-1*  AGUUUUGCAGGUUUGCAUCCAGC   \n",
       "4     hsa-miR-19a/mmu-miR-19a/rno-miR-19a  UGUGCAAAUCUAUGCAAAACUGA   \n",
       "...                                   ...                      ...   \n",
       "2024                                  NaN                      NaN   \n",
       "2025                                  NaN                      NaN   \n",
       "2026                                  NaN                      NaN   \n",
       "2027                                  NaN                      NaN   \n",
       "2028                                  NaN                      NaN   \n",
       "\n",
       "          database SPOT_ID  \n",
       "0     miRBase 14.0     NaN  \n",
       "1     miRBase 14.0     NaN  \n",
       "2     miRBase 14.0     NaN  \n",
       "3     miRBase 14.0     NaN  \n",
       "4     miRBase 14.0     NaN  \n",
       "...            ...     ...  \n",
       "2024           NaN  146204  \n",
       "2025           NaN   42860  \n",
       "2026           NaN    4040  \n",
       "2027           NaN  146210  \n",
       "2028           NaN   11177  \n",
       "\n",
       "[2029 rows x 7 columns]"
      ]
     },
     "execution_count": 4,
     "metadata": {},
     "output_type": "execute_result"
    }
   ],
   "source": [
    "data.gpls[data.metadata[\"platform_id\"][0]].table"
   ]
  },
  {
   "cell_type": "code",
   "execution_count": 5,
   "metadata": {},
   "outputs": [
    {
     "data": {
      "text/plain": [
       "{'title': ['lung_adenocarcinoma_1'],\n",
       " 'geo_accession': ['GSM679368'],\n",
       " 'status': ['Public on May 20 2011'],\n",
       " 'submission_date': ['Feb 24 2011'],\n",
       " 'last_update_date': ['May 20 2011'],\n",
       " 'type': ['RNA'],\n",
       " 'channel_count': ['2'],\n",
       " 'source_name_ch1': ['Lung adenocarcinoma case ID 1'],\n",
       " 'organism_ch1': ['Homo sapiens'],\n",
       " 'taxid_ch1': ['9606'],\n",
       " 'characteristics_ch1': ['gender: Female',\n",
       "  'age: 76 y',\n",
       "  'tissue: Lung adenocarcinoma',\n",
       "  'disease: Lung adenocarcinoma'],\n",
       " 'molecule_ch1': ['total RNA'],\n",
       " 'extract_protocol_ch1': ['Total RNA was isolated from blood collected and stored in PAXgene Blood RNA tubes using a PAXgene Blood RNA isolation kit at the University of Pennsylvania as per the protocol suggested by the manufacturer (QiagenÂ®, Valencia, CA, USA). The human universal reference RNA was made by pooling contents of FirstChoice total RNA panel that is made of RNA from different tissues of multiple individuals (AmbionÂ®, Austin, TX, USA; catalog no. AM6000.'],\n",
       " 'label_ch1': ['Hy3'],\n",
       " 'label_protocol_ch1': ['RNA was labeled by ExiqonÂ®, Vedbaek, Denmark using the miRCURY LNA microRNA Power labeling kit. Five hundred ng of RNA, as quantified using Bioanalyzer (AgilentÂ®, Santa Clara, CA, USA), was used per labeling reaction with the Hy3 dye. A human universal reference RNA, made by pooling contents of FirstChoice total RNA panel (AmbionÂ®, Austin, TX, USA; catalog no. AM6000), was similarly labeled with the Hy5 dye. Synthetic small RNAs were spiked-in to the RNA samples before labeling as per the kit protocol.'],\n",
       " 'source_name_ch2': ['Human universal reference RNA from AmbionÂ®'],\n",
       " 'organism_ch2': ['Homo sapiens'],\n",
       " 'taxid_ch2': ['9606'],\n",
       " 'characteristics_ch2': ['sample type: universal reference RNA was made by pooling contents of FirstChoice total RNA panel that is made of RNA from different tissues of multiple individuals,  Ambion, Austin, TX, USA; catalog no. AM6000',\n",
       "  'gender: Mixed'],\n",
       " 'molecule_ch2': ['total RNA'],\n",
       " 'extract_protocol_ch2': ['Total RNA was isolated from blood collected and stored in PAXgene Blood RNA tubes using a PAXgene Blood RNA isolation kit at the University of Pennsylvania as per the protocol suggested by the manufacturer (QiagenÂ®, Valencia, CA, USA). The human universal reference RNA was made by pooling contents of FirstChoice total RNA panel that is made of RNA from different tissues of multiple individuals (AmbionÂ®, Austin, TX, USA; catalog no. AM6000.'],\n",
       " 'label_ch2': ['Hy5'],\n",
       " 'label_protocol_ch2': ['RNA was labeled by ExiqonÂ®, Vedbaek, Denmark using the miRCURY LNA microRNA Power labeling kit. Five hundred ng of RNA, as quantified using Bioanalyzer (AgilentÂ®, Santa Clara, CA, USA), was used per labeling reaction with the Hy3 dye. A human universal reference RNA, made by pooling contents of FirstChoice total RNA panel (AmbionÂ®, Austin, TX, USA; catalog no. AM6000), was similarly labeled with the Hy5 dye. Synthetic small RNAs were spiked-in to the RNA samples before labeling as per the kit protocol.'],\n",
       " 'hyb_protocol': ['Hybridization of the mix of Hy3-labeled sample and Hy5-labeled reference RNAs to the arrays at 56 ÂºC for 16 hours followed by washing was performed by ExiqonÂ® (Vedbaek, Denmark) on an HS Pro instrument (TecanÂ®, MÃ¤nnedorf, Switzerland). The 5th generation miRCURY LNA microRNA arrays (ExiqonÂ®, Vedbaek,Denmark) that were used have approx. 1891 locked nucleic acid oligonucleotide probes on quadruplicate 105 ÂµM-sized probe-spots to detect 74%, 72% and 68% of the 1223, 1055 and 680 human, mouse and rat microRNAs, respectively, of miRbase v.16.'],\n",
       " 'scan_protocol': ['Arrays were scanned, after hybridization and washing, using the G2505B scanning system (AgilentÂ®, Santa Clara, CA, USA) by ExiqonÂ® (Vedbaek, Denmark).'],\n",
       " 'description': ['Hy3 and Hy5 are Cy3- and Cy5-like dyes, respectively.'],\n",
       " 'data_processing': [\"Data processing was done in R (version 2.12.1) using the limma (version 3.4.5) Bioconductor package. The 'normexp' method with offset=10 was used for background-correction, and followed with within-array global 'loess' normalization, with span=1/3 and values from probe-spots with flag-values >1 ignored, and then, between-array 'Rquantile' normalization. For probe-set summarization, the median of the values from multiple spots was used when the ratio of the maximum and minimum values was > 1.5; else, the mean was used. The ratios of the summarized normalized Hy3/Hy5 (test/reference) signal-intensities were log2-transformed.\"],\n",
       " 'platform_id': ['GPL11432'],\n",
       " 'contact_name': ['Santosh,Kumar,Patnaik'],\n",
       " 'contact_phone': ['716-8458364'],\n",
       " 'contact_department': ['Thoracic Surgery'],\n",
       " 'contact_institute': ['Roswell Park Comprehensive Cancer Center'],\n",
       " 'contact_address': ['Elm and Carlton Streets'],\n",
       " 'contact_city': ['Buffalo'],\n",
       " 'contact_state': ['NY'],\n",
       " 'contact_zip/postal_code': ['14263'],\n",
       " 'contact_country': ['USA'],\n",
       " 'supplementary_file': ['ftp://ftp.ncbi.nlm.nih.gov/geo/samples/GSM679nnn/GSM679368/suppl/GSM679368_0_Exiqon_14223619_S01_Hy5.txt.gz',\n",
       "  'ftp://ftp.ncbi.nlm.nih.gov/geo/samples/GSM679nnn/GSM679368/suppl/GSM679368_1_Exiqon_14223619_S01_Hy3.txt.gz'],\n",
       " 'series_id': ['GSE27486'],\n",
       " 'data_row_count': ['2026']}"
      ]
     },
     "execution_count": 5,
     "metadata": {},
     "output_type": "execute_result"
    }
   ],
   "source": [
    "list(data.gsms.values())[0].metadata"
   ]
  },
  {
   "cell_type": "code",
   "execution_count": 6,
   "metadata": {
    "tags": []
   },
   "outputs": [],
   "source": [
    "table = pd.concat((val.table.iloc[:,1:2] for val in data.gsms.values()), axis=1).transpose()"
   ]
  },
  {
   "cell_type": "code",
   "execution_count": 10,
   "metadata": {
    "tags": []
   },
   "outputs": [
    {
     "name": "stderr",
     "output_type": "stream",
     "text": [
      "C:\\Users\\OLEFRE~1\\AppData\\Local\\Temp/ipykernel_7796/3290136690.py:2: FutureWarning: In a future version of pandas all arguments of DataFrame.dropna will be keyword-only\n",
      "  table = table.dropna(1)\n"
     ]
    }
   ],
   "source": [
    "#table = table.loc[:, (table > 0).all(0)]\n",
    "table = table.dropna(1)"
   ]
  },
  {
   "cell_type": "code",
   "execution_count": 11,
   "metadata": {},
   "outputs": [
    {
     "data": {
      "text/html": [
       "<div>\n",
       "<style scoped>\n",
       "    .dataframe tbody tr th:only-of-type {\n",
       "        vertical-align: middle;\n",
       "    }\n",
       "\n",
       "    .dataframe tbody tr th {\n",
       "        vertical-align: top;\n",
       "    }\n",
       "\n",
       "    .dataframe thead th {\n",
       "        text-align: right;\n",
       "    }\n",
       "</style>\n",
       "<table border=\"1\" class=\"dataframe\">\n",
       "  <thead>\n",
       "    <tr style=\"text-align: right;\">\n",
       "      <th></th>\n",
       "      <th>0</th>\n",
       "      <th>1</th>\n",
       "      <th>2</th>\n",
       "      <th>3</th>\n",
       "      <th>4</th>\n",
       "      <th>5</th>\n",
       "      <th>6</th>\n",
       "      <th>7</th>\n",
       "      <th>8</th>\n",
       "      <th>9</th>\n",
       "      <th>...</th>\n",
       "      <th>2016</th>\n",
       "      <th>2017</th>\n",
       "      <th>2018</th>\n",
       "      <th>2019</th>\n",
       "      <th>2020</th>\n",
       "      <th>2021</th>\n",
       "      <th>2022</th>\n",
       "      <th>2023</th>\n",
       "      <th>2024</th>\n",
       "      <th>2025</th>\n",
       "    </tr>\n",
       "  </thead>\n",
       "  <tbody>\n",
       "    <tr>\n",
       "      <th>VALUE</th>\n",
       "      <td>-0.121811</td>\n",
       "      <td>0.681523</td>\n",
       "      <td>-0.278424</td>\n",
       "      <td>1.022933</td>\n",
       "      <td>-1.339246</td>\n",
       "      <td>-1.707187</td>\n",
       "      <td>0.224305</td>\n",
       "      <td>-1.029435</td>\n",
       "      <td>-1.895646</td>\n",
       "      <td>0.036548</td>\n",
       "      <td>...</td>\n",
       "      <td>2.580954</td>\n",
       "      <td>-0.657848</td>\n",
       "      <td>-0.020885</td>\n",
       "      <td>-0.329779</td>\n",
       "      <td>-2.630664</td>\n",
       "      <td>2.295395</td>\n",
       "      <td>-0.308364</td>\n",
       "      <td>0.206460</td>\n",
       "      <td>1.869079</td>\n",
       "      <td>0.182939</td>\n",
       "    </tr>\n",
       "    <tr>\n",
       "      <th>VALUE</th>\n",
       "      <td>-0.618272</td>\n",
       "      <td>0.968333</td>\n",
       "      <td>-0.047769</td>\n",
       "      <td>0.992508</td>\n",
       "      <td>-0.885852</td>\n",
       "      <td>-1.833941</td>\n",
       "      <td>0.099629</td>\n",
       "      <td>-0.952269</td>\n",
       "      <td>-1.355567</td>\n",
       "      <td>0.080132</td>\n",
       "      <td>...</td>\n",
       "      <td>3.030934</td>\n",
       "      <td>-0.824794</td>\n",
       "      <td>0.028160</td>\n",
       "      <td>-0.298583</td>\n",
       "      <td>-2.428550</td>\n",
       "      <td>2.702078</td>\n",
       "      <td>-0.267518</td>\n",
       "      <td>0.367792</td>\n",
       "      <td>1.185955</td>\n",
       "      <td>0.063379</td>\n",
       "    </tr>\n",
       "    <tr>\n",
       "      <th>VALUE</th>\n",
       "      <td>-0.371160</td>\n",
       "      <td>0.539894</td>\n",
       "      <td>-0.263893</td>\n",
       "      <td>0.968399</td>\n",
       "      <td>-0.109677</td>\n",
       "      <td>-1.938270</td>\n",
       "      <td>0.383531</td>\n",
       "      <td>-0.860962</td>\n",
       "      <td>-1.614382</td>\n",
       "      <td>0.099028</td>\n",
       "      <td>...</td>\n",
       "      <td>3.041195</td>\n",
       "      <td>-0.738480</td>\n",
       "      <td>-0.069795</td>\n",
       "      <td>-0.322930</td>\n",
       "      <td>-2.660806</td>\n",
       "      <td>2.856584</td>\n",
       "      <td>-0.154032</td>\n",
       "      <td>0.382982</td>\n",
       "      <td>0.911585</td>\n",
       "      <td>0.107294</td>\n",
       "    </tr>\n",
       "    <tr>\n",
       "      <th>VALUE</th>\n",
       "      <td>-0.545492</td>\n",
       "      <td>0.088346</td>\n",
       "      <td>-0.412304</td>\n",
       "      <td>0.784207</td>\n",
       "      <td>0.791398</td>\n",
       "      <td>-1.041545</td>\n",
       "      <td>0.626381</td>\n",
       "      <td>-0.957148</td>\n",
       "      <td>-0.406542</td>\n",
       "      <td>0.147417</td>\n",
       "      <td>...</td>\n",
       "      <td>4.764078</td>\n",
       "      <td>-0.676830</td>\n",
       "      <td>0.717817</td>\n",
       "      <td>-0.021230</td>\n",
       "      <td>-2.549759</td>\n",
       "      <td>4.531142</td>\n",
       "      <td>0.165427</td>\n",
       "      <td>0.828675</td>\n",
       "      <td>1.674162</td>\n",
       "      <td>-0.008375</td>\n",
       "    </tr>\n",
       "    <tr>\n",
       "      <th>VALUE</th>\n",
       "      <td>-0.669354</td>\n",
       "      <td>1.035114</td>\n",
       "      <td>-0.095419</td>\n",
       "      <td>0.948915</td>\n",
       "      <td>-1.700610</td>\n",
       "      <td>-1.163883</td>\n",
       "      <td>0.280384</td>\n",
       "      <td>-1.094740</td>\n",
       "      <td>-1.028080</td>\n",
       "      <td>0.022821</td>\n",
       "      <td>...</td>\n",
       "      <td>2.702192</td>\n",
       "      <td>-0.951415</td>\n",
       "      <td>0.095480</td>\n",
       "      <td>-0.398614</td>\n",
       "      <td>-2.167204</td>\n",
       "      <td>2.303261</td>\n",
       "      <td>-0.473805</td>\n",
       "      <td>0.107087</td>\n",
       "      <td>1.476674</td>\n",
       "      <td>0.382402</td>\n",
       "    </tr>\n",
       "  </tbody>\n",
       "</table>\n",
       "<p>5 rows × 2026 columns</p>\n",
       "</div>"
      ],
      "text/plain": [
       "           0         1         2         3         4         5         6     \\\n",
       "VALUE -0.121811  0.681523 -0.278424  1.022933 -1.339246 -1.707187  0.224305   \n",
       "VALUE -0.618272  0.968333 -0.047769  0.992508 -0.885852 -1.833941  0.099629   \n",
       "VALUE -0.371160  0.539894 -0.263893  0.968399 -0.109677 -1.938270  0.383531   \n",
       "VALUE -0.545492  0.088346 -0.412304  0.784207  0.791398 -1.041545  0.626381   \n",
       "VALUE -0.669354  1.035114 -0.095419  0.948915 -1.700610 -1.163883  0.280384   \n",
       "\n",
       "           7         8         9     ...      2016      2017      2018  \\\n",
       "VALUE -1.029435 -1.895646  0.036548  ...  2.580954 -0.657848 -0.020885   \n",
       "VALUE -0.952269 -1.355567  0.080132  ...  3.030934 -0.824794  0.028160   \n",
       "VALUE -0.860962 -1.614382  0.099028  ...  3.041195 -0.738480 -0.069795   \n",
       "VALUE -0.957148 -0.406542  0.147417  ...  4.764078 -0.676830  0.717817   \n",
       "VALUE -1.094740 -1.028080  0.022821  ...  2.702192 -0.951415  0.095480   \n",
       "\n",
       "           2019      2020      2021      2022      2023      2024      2025  \n",
       "VALUE -0.329779 -2.630664  2.295395 -0.308364  0.206460  1.869079  0.182939  \n",
       "VALUE -0.298583 -2.428550  2.702078 -0.267518  0.367792  1.185955  0.063379  \n",
       "VALUE -0.322930 -2.660806  2.856584 -0.154032  0.382982  0.911585  0.107294  \n",
       "VALUE -0.021230 -2.549759  4.531142  0.165427  0.828675  1.674162 -0.008375  \n",
       "VALUE -0.398614 -2.167204  2.303261 -0.473805  0.107087  1.476674  0.382402  \n",
       "\n",
       "[5 rows x 2026 columns]"
      ]
     },
     "execution_count": 11,
     "metadata": {},
     "output_type": "execute_result"
    }
   ],
   "source": [
    "table.head()"
   ]
  },
  {
   "cell_type": "code",
   "execution_count": 12,
   "metadata": {},
   "outputs": [
    {
     "data": {
      "text/plain": [
       "0      -0.470605\n",
       "1       0.455437\n",
       "2      -0.251423\n",
       "3       0.995960\n",
       "4      -0.622546\n",
       "          ...   \n",
       "2021    3.197722\n",
       "2022   -0.466500\n",
       "2023    0.306423\n",
       "2024    1.476855\n",
       "2025    0.045873\n",
       "Length: 2026, dtype: float64"
      ]
     },
     "execution_count": 12,
     "metadata": {},
     "output_type": "execute_result"
    }
   ],
   "source": [
    "np.mean(table)"
   ]
  },
  {
   "cell_type": "code",
   "execution_count": 13,
   "metadata": {
    "tags": []
   },
   "outputs": [],
   "source": [
    "def get_means_and_variances(table):\n",
    "    return np.mean(table), np.var(table, ddof=1)"
   ]
  },
  {
   "cell_type": "code",
   "execution_count": 14,
   "metadata": {
    "tags": []
   },
   "outputs": [],
   "source": [
    "def mean_variance_plot(table):\n",
    "    means, variances = get_means_and_variances(table)\n",
    "    plt.scatter(means, variances)\n",
    "    plt.xlabel(\"mean\")\n",
    "    plt.ylabel(\"variance\")\n",
    "    plt.plot()"
   ]
  },
  {
   "cell_type": "code",
   "execution_count": 15,
   "metadata": {},
   "outputs": [
    {
     "data": {
      "image/png": "[encoded data removed]",
      "text/plain": [
       "<Figure size 432x288 with 1 Axes>"
      ]
     },
     "metadata": {
      "needs_background": "light"
     },
     "output_type": "display_data"
    }
   ],
   "source": [
    "mean_variance_plot(table)"
   ]
  },
  {
   "cell_type": "markdown",
   "metadata": {},
   "source": [
    "### Trying log-transformation"
   ]
  },
  {
   "cell_type": "code",
   "execution_count": 16,
   "metadata": {
    "tags": []
   },
   "outputs": [],
   "source": [
    "log_table = table#np.log2(table)"
   ]
  },
  {
   "cell_type": "code",
   "execution_count": 17,
   "metadata": {},
   "outputs": [
    {
     "data": {
      "image/png": "[encoded data removed]",
      "text/plain": [
       "<Figure size 432x288 with 1 Axes>"
      ]
     },
     "metadata": {
      "needs_background": "light"
     },
     "output_type": "display_data"
    }
   ],
   "source": [
    "mean_variance_plot(log_table)"
   ]
  },
  {
   "cell_type": "code",
   "execution_count": 18,
   "metadata": {
    "tags": []
   },
   "outputs": [],
   "source": [
    "norm_log_table = log_table - np.mean(log_table)\n",
    "norm_log_table /= np.sqrt(np.mean(np.var(norm_log_table, ddof=1)))"
   ]
  },
  {
   "cell_type": "code",
   "execution_count": 19,
   "metadata": {},
   "outputs": [
    {
     "data": {
      "image/png": "[encoded data removed]",
      "text/plain": [
       "<Figure size 432x288 with 1 Axes>"
      ]
     },
     "metadata": {
      "needs_background": "light"
     },
     "output_type": "display_data"
    }
   ],
   "source": [
    "mean_variance_plot(norm_log_table)"
   ]
  },
  {
   "cell_type": "code",
   "execution_count": 20,
   "metadata": {
    "tags": []
   },
   "outputs": [],
   "source": [
    "pca = decomposition.PCA(n_components=2)"
   ]
  },
  {
   "cell_type": "code",
   "execution_count": 21,
   "metadata": {},
   "outputs": [
    {
     "data": {
      "text/plain": [
       "PCA(n_components=2)"
      ]
     },
     "execution_count": 21,
     "metadata": {},
     "output_type": "execute_result"
    }
   ],
   "source": [
    "pca.fit(norm_log_table)"
   ]
  },
  {
   "cell_type": "code",
   "execution_count": 22,
   "metadata": {
    "tags": []
   },
   "outputs": [],
   "source": [
    "components = pca.transform(norm_log_table)"
   ]
  },
  {
   "cell_type": "code",
   "execution_count": 23,
   "metadata": {},
   "outputs": [
    {
     "data": {
      "text/plain": [
       "array([[ 1.26125255e+01, -1.99199850e+01],\n",
       "       [ 8.47446819e+00,  8.83870571e+00],\n",
       "       [ 2.97073209e+00,  1.33023621e+01],\n",
       "       [-4.16189797e+01,  2.70804989e+01],\n",
       "       [ 2.20664711e+01,  1.38114968e+01],\n",
       "       [ 2.02350940e+01,  4.65792755e+00],\n",
       "       [ 2.88165499e+01,  1.28679548e+01],\n",
       "       [-1.32469000e+01,  2.43379699e+01],\n",
       "       [ 4.50938232e+01, -1.51892606e+01],\n",
       "       [ 5.81336680e+01,  4.54936029e-02],\n",
       "       [ 1.47288672e+01, -1.12775106e+01],\n",
       "       [ 3.43984557e+01, -1.28245485e+01],\n",
       "       [-2.21450685e+01, -8.30909562e+00],\n",
       "       [ 2.18542353e+00, -3.12590875e+01],\n",
       "       [ 4.02919702e+01, -1.99372949e+01],\n",
       "       [ 9.54548731e+00,  9.10109618e+00],\n",
       "       [-2.13546604e+01,  6.18614362e+00],\n",
       "       [-1.32355594e+01, -1.16103438e+01],\n",
       "       [-9.84184308e+00, -3.45585809e+01],\n",
       "       [ 2.77246902e+01, -3.16793965e+00],\n",
       "       [-1.11632637e+01, -1.36744018e+01],\n",
       "       [ 4.98876693e+01,  8.58056591e+00],\n",
       "       [ 5.16953098e+01,  4.05378058e+01],\n",
       "       [ 1.29377816e+01,  6.72079323e+00],\n",
       "       [ 2.95906219e+01,  8.58097892e+00],\n",
       "       [ 6.61548835e-01, -4.55161082e+00],\n",
       "       [-1.58992532e+01, -1.58288153e+00],\n",
       "       [ 2.29780007e+01, -5.46376264e+00],\n",
       "       [-6.79637018e+00,  7.17268044e+00],\n",
       "       [ 1.66597115e+01, -1.05974350e+01],\n",
       "       [-1.79203714e+01, -1.22923295e+01],\n",
       "       [ 1.01087118e+01,  3.83187683e+00],\n",
       "       [-2.21633347e+01,  3.82395467e+00],\n",
       "       [-1.78589611e+01,  7.80351946e-01],\n",
       "       [-4.01245473e+01,  3.88742507e+00],\n",
       "       [-2.73632221e+01,  1.23523505e+01],\n",
       "       [-2.77976940e+01, -1.56518620e+00],\n",
       "       [-2.96108042e+01,  1.70205261e+01],\n",
       "       [-4.50569579e+01, -5.54796683e+00],\n",
       "       [-2.61733807e+01, -9.37782573e-01],\n",
       "       [ 1.43145915e-01,  4.89181727e+00],\n",
       "       [-4.92665544e+01, -2.38102649e+00],\n",
       "       [-2.65758656e+00, -9.36309977e+00],\n",
       "       [-2.69672978e+01,  6.00367017e+00],\n",
       "       [-3.36781174e+01, -8.40331582e+00]])"
      ]
     },
     "execution_count": 23,
     "metadata": {},
     "output_type": "execute_result"
    }
   ],
   "source": [
    "components"
   ]
  },
  {
   "cell_type": "code",
   "execution_count": 24,
   "metadata": {},
   "outputs": [
    {
     "data": {
      "text/plain": [
       "{'title': ['no_cancer_49'],\n",
       " 'geo_accession': ['GSM679412'],\n",
       " 'status': ['Public on May 20 2011'],\n",
       " 'submission_date': ['Feb 24 2011'],\n",
       " 'last_update_date': ['May 20 2011'],\n",
       " 'type': ['RNA'],\n",
       " 'channel_count': ['2'],\n",
       " 'source_name_ch1': ['No cancer control ID 49'],\n",
       " 'organism_ch1': ['Homo sapiens'],\n",
       " 'taxid_ch1': ['9606'],\n",
       " 'characteristics_ch1': ['gender: Male',\n",
       "  'age: 53 y',\n",
       "  'tissue: Normal lung',\n",
       "  'disease: No cancer'],\n",
       " 'molecule_ch1': ['total RNA'],\n",
       " 'extract_protocol_ch1': ['Total RNA was isolated from blood collected and stored in PAXgene Blood RNA tubes using a PAXgene Blood RNA isolation kit at the University of Pennsylvania as per the protocol suggested by the manufacturer (QiagenÂ®, Valencia, CA, USA). The human universal reference RNA was made by pooling contents of FirstChoice total RNA panel that is made of RNA from different tissues of multiple individuals (AmbionÂ®, Austin, TX, USA; catalog no. AM6000.'],\n",
       " 'label_ch1': ['Hy3'],\n",
       " 'label_protocol_ch1': ['RNA was labeled by ExiqonÂ®, Vedbaek, Denmark using the miRCURY LNA microRNA Power labeling kit. Five hundred ng of RNA, as quantified using Bioanalyzer (AgilentÂ®, Santa Clara, CA, USA), was used per labeling reaction with the Hy3 dye. A human universal reference RNA, made by pooling contents of FirstChoice total RNA panel (AmbionÂ®, Austin, TX, USA; catalog no. AM6000), was similarly labeled with the Hy5 dye. Synthetic small RNAs were spiked-in to the RNA samples before labeling as per the kit protocol.'],\n",
       " 'source_name_ch2': ['Human universal reference RNA from AmbionÂ®'],\n",
       " 'organism_ch2': ['Homo sapiens'],\n",
       " 'taxid_ch2': ['9606'],\n",
       " 'characteristics_ch2': ['sample type: universal reference RNA was made by pooling contents of FirstChoice total RNA panel that is made of RNA from different tissues of multiple individuals,  Ambion, Austin, TX, USA; catalog no. AM6000',\n",
       "  'gender: Mixed'],\n",
       " 'molecule_ch2': ['total RNA'],\n",
       " 'extract_protocol_ch2': ['Total RNA was isolated from blood collected and stored in PAXgene Blood RNA tubes using a PAXgene Blood RNA isolation kit at the University of Pennsylvania as per the protocol suggested by the manufacturer (QiagenÂ®, Valencia, CA, USA). The human universal reference RNA was made by pooling contents of FirstChoice total RNA panel that is made of RNA from different tissues of multiple individuals (AmbionÂ®, Austin, TX, USA; catalog no. AM6000.'],\n",
       " 'label_ch2': ['Hy5'],\n",
       " 'label_protocol_ch2': ['RNA was labeled by ExiqonÂ®, Vedbaek, Denmark using the miRCURY LNA microRNA Power labeling kit. Five hundred ng of RNA, as quantified using Bioanalyzer (AgilentÂ®, Santa Clara, CA, USA), was used per labeling reaction with the Hy3 dye. A human universal reference RNA, made by pooling contents of FirstChoice total RNA panel (AmbionÂ®, Austin, TX, USA; catalog no. AM6000), was similarly labeled with the Hy5 dye. Synthetic small RNAs were spiked-in to the RNA samples before labeling as per the kit protocol.'],\n",
       " 'hyb_protocol': ['Hybridization of the mix of Hy3-labeled sample and Hy5-labeled reference RNAs to the arrays at 56 ÂºC for 16 hours followed by washing was performed by ExiqonÂ® (Vedbaek, Denmark) on an HS Pro instrument (TecanÂ®, MÃ¤nnedorf, Switzerland). The 5th generation miRCURY LNA microRNA arrays (ExiqonÂ®, Vedbaek,Denmark) that were used have approx. 1891 locked nucleic acid oligonucleotide probes on quadruplicate 105 ÂµM-sized probe-spots to detect 74%, 72% and 68% of the 1223, 1055 and 680 human, mouse and rat microRNAs, respectively, of miRbase v.16.'],\n",
       " 'scan_protocol': ['Arrays were scanned, after hybridization and washing, using the G2505B scanning system (AgilentÂ®, Santa Clara, CA, USA) by ExiqonÂ® (Vedbaek, Denmark).'],\n",
       " 'description': ['Hy3 and Hy5 are Cy3- and Cy5-like dyes, respectively.'],\n",
       " 'data_processing': [\"Data processing was done in R (version 2.12.1) using the limma (version 3.4.5) Bioconductor package. The 'normexp' method with offset=10 was used for background-correction, and followed with within-array global 'loess' normalization, with span=1/3 and values from probe-spots with flag-values >1 ignored, and then, between-array 'Rquantile' normalization. For probe-set summarization, the median of the values from multiple spots was used when the ratio of the maximum and minimum values was > 1.5; else, the mean was used. The ratios of the summarized normalized Hy3/Hy5 (test/reference) signal-intensities were log2-transformed.\"],\n",
       " 'platform_id': ['GPL11432'],\n",
       " 'contact_name': ['Santosh,Kumar,Patnaik'],\n",
       " 'contact_phone': ['716-8458364'],\n",
       " 'contact_department': ['Thoracic Surgery'],\n",
       " 'contact_institute': ['Roswell Park Comprehensive Cancer Center'],\n",
       " 'contact_address': ['Elm and Carlton Streets'],\n",
       " 'contact_city': ['Buffalo'],\n",
       " 'contact_state': ['NY'],\n",
       " 'contact_zip/postal_code': ['14263'],\n",
       " 'contact_country': ['USA'],\n",
       " 'supplementary_file': ['ftp://ftp.ncbi.nlm.nih.gov/geo/samples/GSM679nnn/GSM679412/suppl/GSM679412_0_Exiqon_14223709_S01_Hy5.txt.gz',\n",
       "  'ftp://ftp.ncbi.nlm.nih.gov/geo/samples/GSM679nnn/GSM679412/suppl/GSM679412_1_Exiqon_14223709_S01_Hy3.txt.gz'],\n",
       " 'series_id': ['GSE27486'],\n",
       " 'data_row_count': ['2026']}"
      ]
     },
     "execution_count": 24,
     "metadata": {},
     "output_type": "execute_result"
    }
   ],
   "source": [
    "list(data.gsms.values())[-1].metadata"
   ]
  },
  {
   "cell_type": "code",
   "execution_count": 25,
   "metadata": {
    "tags": []
   },
   "outputs": [],
   "source": [
    "controls = np.array([\"no_cancer\" in k.metadata[\"title\"][0] for k in list(data.gsms.values())])"
   ]
  },
  {
   "cell_type": "code",
   "execution_count": 26,
   "metadata": {},
   "outputs": [
    {
     "data": {
      "image/png": "[encoded data removed]",
      "text/plain": [
       "<Figure size 576x576 with 1 Axes>"
      ]
     },
     "metadata": {
      "needs_background": "light"
     },
     "output_type": "display_data"
    }
   ],
   "source": [
    "fig = plt.figure(figsize = (8,8))\n",
    "ax = fig.add_subplot(1,1,1)\n",
    "\n",
    "ax.set_xlabel('Principal Component 1', fontsize = 15)\n",
    "ax.set_ylabel('Principal Component 2', fontsize = 15)\n",
    "ax.set_title('2 component PCA', fontsize = 20)\n",
    "targets = ['Cancer', 'Healthy']\n",
    "colors = ['r', 'g']\n",
    "ax.scatter(components[controls == False, 0], components[controls == False, 1], c = 'r', s = 10)\n",
    "ax.scatter(components[controls == True, 0], components[controls == True, 1], c = 'g', s = 10)\n",
    "ax.legend(targets)\n",
    "ax.grid()"
   ]
  },
  {
   "cell_type": "code",
   "execution_count": 27,
   "metadata": {
    "tags": []
   },
   "outputs": [
    {
     "data": {
      "image/png": "[encoded data removed]",
      "text/plain": [
       "<Figure size 576x576 with 1 Axes>"
      ]
     },
     "metadata": {
      "needs_background": "light"
     },
     "output_type": "display_data"
    }
   ],
   "source": [
    "fig = plt.figure(figsize = (8,8))\n",
    "ax = fig.add_subplot(1,1,1)\n",
    "\n",
    "ax.set_xlabel('Principal Component 1', fontsize = 15)\n",
    "ax.set_ylabel('Principal Component 2', fontsize = 15)\n",
    "ax.set_title('2 component PCA', fontsize = 20)\n",
    "targets = ['Cancer', 'Healthy'][::-1]\n",
    "colors = ['r', 'g']\n",
    "ax.scatter(components[controls == True, 0], components[controls == True, 1], c = 'g', s = 10)\n",
    "ax.scatter(components[controls == False, 0], components[controls == False, 1], c = 'r', s = 10)\n",
    "ax.legend(targets)\n",
    "ax.grid()"
   ]
  },
  {
   "cell_type": "markdown",
   "metadata": {
    "tags": []
   },
   "source": [
    "### Linear regression adjustments"
   ]
  },
  {
   "cell_type": "code",
   "execution_count": 28,
   "metadata": {},
   "outputs": [],
   "source": [
    "sex = np.array([\"Female\" in k.metadata[\"characteristics_ch1\"][0] for k in list(data.gsms.values()) if \"post\" not in k.metadata[\"characteristics_ch1\"][0]])\n",
    "age = np.array([float(k.metadata[\"characteristics_ch1\"][1].split(\" \")[1].replace(\"NA\", \"NaN\")) for k in list(data.gsms.values()) if \"post\" not in k.metadata[\"characteristics_ch1\"][0]])"
   ]
  },
  {
   "cell_type": "code",
   "execution_count": 29,
   "metadata": {},
   "outputs": [],
   "source": [
    "covars = pd.DataFrame(np.array([sex, age]).transpose(), columns=[\"sex\", \"age\"])"
   ]
  },
  {
   "cell_type": "code",
   "execution_count": 30,
   "metadata": {},
   "outputs": [],
   "source": [
    "covars = covars.fillna(covars.mean())"
   ]
  },
  {
   "cell_type": "code",
   "execution_count": 35,
   "metadata": {},
   "outputs": [
    {
     "data": {
      "text/plain": [
       "LinearRegression()"
      ]
     },
     "execution_count": 35,
     "metadata": {},
     "output_type": "execute_result"
    }
   ],
   "source": [
    "linreg = LinearRegression()\n",
    "linreg.fit(covars, norm_log_table)"
   ]
  },
  {
   "cell_type": "code",
   "execution_count": 36,
   "metadata": {},
   "outputs": [],
   "source": [
    "adj_norm_log_table = norm_log_table - linreg.predict(covars)"
   ]
  },
  {
   "cell_type": "markdown",
   "metadata": {
    "tags": []
   },
   "source": [
    "# PCA"
   ]
  },
  {
   "cell_type": "code",
   "execution_count": 37,
   "metadata": {
    "tags": []
   },
   "outputs": [],
   "source": [
    "pca = decomposition.PCA(n_components=2)"
   ]
  },
  {
   "cell_type": "code",
   "execution_count": 38,
   "metadata": {},
   "outputs": [
    {
     "data": {
      "text/plain": [
       "PCA(n_components=2)"
      ]
     },
     "execution_count": 38,
     "metadata": {},
     "output_type": "execute_result"
    }
   ],
   "source": [
    "pca.fit(adj_norm_log_table)"
   ]
  },
  {
   "cell_type": "code",
   "execution_count": 39,
   "metadata": {
    "tags": []
   },
   "outputs": [],
   "source": [
    "components = pca.transform(adj_norm_log_table)"
   ]
  },
  {
   "cell_type": "code",
   "execution_count": 40,
   "metadata": {},
   "outputs": [
    {
     "data": {
      "text/plain": [
       "array([[-15.19569621, -15.55787564],\n",
       "       [ 10.13339397,   6.55112077],\n",
       "       [  8.51891175,  12.31770003],\n",
       "       [-33.91648211,  28.71615369],\n",
       "       [ 42.67513145,   7.12434387],\n",
       "       [ -0.69358963,   6.66635809],\n",
       "       [ 19.50706905,  10.45007867],\n",
       "       [-15.41140435,  24.93110232],\n",
       "       [ 20.53102002, -11.98834687],\n",
       "       [ 39.29032014,   1.08951758],\n",
       "       [-11.00571218,  -7.79582803],\n",
       "       [ 23.31792174, -16.83199464],\n",
       "       [-20.55939669,  -8.27615253],\n",
       "       [-13.05882389, -27.55020329],\n",
       "       [ 21.29852932, -19.05943128],\n",
       "       [ 14.9007876 ,   8.37654813],\n",
       "       [-17.39454733,   5.09225388],\n",
       "       [-32.09825643,  -6.22660559],\n",
       "       [ -0.55294276, -36.54873206],\n",
       "       [ 23.53793062,  -6.58929567],\n",
       "       [-10.88264119, -14.04077946],\n",
       "       [ 33.20564823,   9.3843823 ],\n",
       "       [ 45.65300036,  39.41010247],\n",
       "       [ 49.82966735,  -1.38169154],\n",
       "       [  7.95726891,  10.22686554],\n",
       "       [ 20.90184301,  -5.95492104],\n",
       "       [ -8.80035715,  -2.51104239],\n",
       "       [ 13.31075116,  -4.57650929],\n",
       "       [  2.27942609,   5.11432627],\n",
       "       [ 19.97445656, -14.04386195],\n",
       "       [-14.50773977, -10.3581933 ],\n",
       "       [ -1.52123176,   6.69637489],\n",
       "       [-25.24622183,   7.89458189],\n",
       "       [-26.12362046,   5.67019826],\n",
       "       [-42.42799114,   9.41469759],\n",
       "       [-15.02736825,  11.51999974],\n",
       "       [ -4.88767118,  -3.7552265 ],\n",
       "       [-11.07115857,  15.81073732],\n",
       "       [-21.48259109,  -6.8266463 ],\n",
       "       [-35.17028544,   4.2382876 ],\n",
       "       [  1.2713955 ,   3.15827025],\n",
       "       [-37.2725233 ,  -0.89420641],\n",
       "       [ 18.76268989, -13.5299937 ],\n",
       "       [-12.52169914,   4.88466577],\n",
       "       [-10.02721086, -10.44112944]])"
      ]
     },
     "execution_count": 40,
     "metadata": {},
     "output_type": "execute_result"
    }
   ],
   "source": [
    "components"
   ]
  },
  {
   "cell_type": "code",
   "execution_count": 41,
   "metadata": {},
   "outputs": [
    {
     "data": {
      "image/png": "[encoded data removed]",
      "text/plain": [
       "<Figure size 576x576 with 1 Axes>"
      ]
     },
     "metadata": {
      "needs_background": "light"
     },
     "output_type": "display_data"
    }
   ],
   "source": [
    "fig = plt.figure(figsize = (8,8))\n",
    "ax = fig.add_subplot(1,1,1)\n",
    "\n",
    "ax.set_xlabel('Principal Component 1', fontsize = 15)\n",
    "ax.set_ylabel('Principal Component 2', fontsize = 15)\n",
    "ax.set_title('2 component PCA', fontsize = 20)\n",
    "targets = ['Cancer', 'Healthy']\n",
    "colors = ['r', 'g']\n",
    "ax.scatter(components[controls == False, 0], components[controls == False, 1], c = 'r', s = 10)\n",
    "ax.scatter(components[controls == True, 0], components[controls == True, 1], c = 'g', s = 10)\n",
    "ax.legend(targets)\n",
    "ax.grid()"
   ]
  },
  {
   "cell_type": "markdown",
   "metadata": {
    "jupyter": {
     "outputs_hidden": true
    }
   },
   "source": [
    "### Export data"
   ]
  },
  {
   "cell_type": "code",
   "execution_count": 43,
   "metadata": {},
   "outputs": [],
   "source": [
    "lookup_table = data.gpls[data.metadata[\"platform_id\"][0]].table"
   ]
  },
  {
   "cell_type": "code",
   "execution_count": 44,
   "metadata": {},
   "outputs": [],
   "source": [
    "lookup_table = lookup_table.set_index(\"ID\")"
   ]
  },
  {
   "cell_type": "code",
   "execution_count": 45,
   "metadata": {},
   "outputs": [
    {
     "data": {
      "text/html": [
       "<div>\n",
       "<style scoped>\n",
       "    .dataframe tbody tr th:only-of-type {\n",
       "        vertical-align: middle;\n",
       "    }\n",
       "\n",
       "    .dataframe tbody tr th {\n",
       "        vertical-align: top;\n",
       "    }\n",
       "\n",
       "    .dataframe thead th {\n",
       "        text-align: right;\n",
       "    }\n",
       "</style>\n",
       "<table border=\"1\" class=\"dataframe\">\n",
       "  <thead>\n",
       "    <tr style=\"text-align: right;\">\n",
       "      <th></th>\n",
       "      <th>name</th>\n",
       "      <th>accession</th>\n",
       "      <th>miRNA_LIST</th>\n",
       "      <th>SEQUENCE</th>\n",
       "      <th>database</th>\n",
       "      <th>SPOT_ID</th>\n",
       "    </tr>\n",
       "    <tr>\n",
       "      <th>ID</th>\n",
       "      <th></th>\n",
       "      <th></th>\n",
       "      <th></th>\n",
       "      <th></th>\n",
       "      <th></th>\n",
       "      <th></th>\n",
       "    </tr>\n",
       "  </thead>\n",
       "  <tbody>\n",
       "    <tr>\n",
       "      <th>10916</th>\n",
       "      <td>hsa-miR-1/mmu-miR-1</td>\n",
       "      <td>MIMAT0000416/MIMAT0000123</td>\n",
       "      <td>hsa-miR-1/mmu-miR-1</td>\n",
       "      <td>UGGAAUGUAAAGAAGUAUGUAU</td>\n",
       "      <td>miRBase 14.0</td>\n",
       "      <td>NaN</td>\n",
       "    </tr>\n",
       "    <tr>\n",
       "      <th>10998</th>\n",
       "      <td>hsa-miR-19b/mmu-miR-19b/rno-miR-19b</td>\n",
       "      <td>MIMAT0000074/MIMAT0000513/MIMAT0000788</td>\n",
       "      <td>hsa-miR-19b/mmu-miR-19b/rno-miR-19b</td>\n",
       "      <td>UGUGCAAAUCCAUGCAAAACUGA</td>\n",
       "      <td>miRBase 14.0</td>\n",
       "      <td>NaN</td>\n",
       "    </tr>\n",
       "    <tr>\n",
       "      <th>42918</th>\n",
       "      <td>hsa-miR-19b-2*</td>\n",
       "      <td>MIMAT0004492</td>\n",
       "      <td>hsa-miR-19b-2*</td>\n",
       "      <td>AGUUUUGCAGGUUUGCAUUUCA</td>\n",
       "      <td>miRBase 14.0</td>\n",
       "      <td>NaN</td>\n",
       "    </tr>\n",
       "    <tr>\n",
       "      <th>17883</th>\n",
       "      <td>hsa-miR-19b-1*</td>\n",
       "      <td>MIMAT0004491</td>\n",
       "      <td>hsa-miR-19b-1*</td>\n",
       "      <td>AGUUUUGCAGGUUUGCAUCCAGC</td>\n",
       "      <td>miRBase 14.0</td>\n",
       "      <td>NaN</td>\n",
       "    </tr>\n",
       "    <tr>\n",
       "      <th>10997</th>\n",
       "      <td>hsa-miR-19a/mmu-miR-19a/rno-miR-19a</td>\n",
       "      <td>MIMAT0000073/MIMAT0000651/MIMAT0000789</td>\n",
       "      <td>hsa-miR-19a/mmu-miR-19a/rno-miR-19a</td>\n",
       "      <td>UGUGCAAAUCUAUGCAAAACUGA</td>\n",
       "      <td>miRBase 14.0</td>\n",
       "      <td>NaN</td>\n",
       "    </tr>\n",
       "  </tbody>\n",
       "</table>\n",
       "</div>"
      ],
      "text/plain": [
       "                                      name  \\\n",
       "ID                                           \n",
       "10916                  hsa-miR-1/mmu-miR-1   \n",
       "10998  hsa-miR-19b/mmu-miR-19b/rno-miR-19b   \n",
       "42918                       hsa-miR-19b-2*   \n",
       "17883                       hsa-miR-19b-1*   \n",
       "10997  hsa-miR-19a/mmu-miR-19a/rno-miR-19a   \n",
       "\n",
       "                                    accession  \\\n",
       "ID                                              \n",
       "10916               MIMAT0000416/MIMAT0000123   \n",
       "10998  MIMAT0000074/MIMAT0000513/MIMAT0000788   \n",
       "42918                            MIMAT0004492   \n",
       "17883                            MIMAT0004491   \n",
       "10997  MIMAT0000073/MIMAT0000651/MIMAT0000789   \n",
       "\n",
       "                                miRNA_LIST                 SEQUENCE  \\\n",
       "ID                                                                    \n",
       "10916                  hsa-miR-1/mmu-miR-1   UGGAAUGUAAAGAAGUAUGUAU   \n",
       "10998  hsa-miR-19b/mmu-miR-19b/rno-miR-19b  UGUGCAAAUCCAUGCAAAACUGA   \n",
       "42918                       hsa-miR-19b-2*   AGUUUUGCAGGUUUGCAUUUCA   \n",
       "17883                       hsa-miR-19b-1*  AGUUUUGCAGGUUUGCAUCCAGC   \n",
       "10997  hsa-miR-19a/mmu-miR-19a/rno-miR-19a  UGUGCAAAUCUAUGCAAAACUGA   \n",
       "\n",
       "           database SPOT_ID  \n",
       "ID                           \n",
       "10916  miRBase 14.0     NaN  \n",
       "10998  miRBase 14.0     NaN  \n",
       "42918  miRBase 14.0     NaN  \n",
       "17883  miRBase 14.0     NaN  \n",
       "10997  miRBase 14.0     NaN  "
      ]
     },
     "execution_count": 45,
     "metadata": {},
     "output_type": "execute_result"
    }
   ],
   "source": [
    "lookup_table.head()"
   ]
  },
  {
   "cell_type": "code",
   "execution_count": 46,
   "metadata": {},
   "outputs": [],
   "source": [
    "mirnas = list(data.gsms.values())[0].table.iloc[:, 0]"
   ]
  },
  {
   "cell_type": "code",
   "execution_count": 47,
   "metadata": {},
   "outputs": [],
   "source": [
    "sequences = lookup_table.loc[mirnas][\"SEQUENCE\"]"
   ]
  },
  {
   "cell_type": "code",
   "execution_count": 48,
   "metadata": {},
   "outputs": [],
   "source": [
    "mask = np.array([set(str(s)).issubset(set(\"ACGU\")) for s in sequences])\n",
    "sequences = sequences[mask]\n",
    "adj_norm_log_table = adj_norm_log_table.loc[:, mask]"
   ]
  },
  {
   "cell_type": "code",
   "execution_count": 49,
   "metadata": {},
   "outputs": [
    {
     "data": {
      "text/html": [
       "<div>\n",
       "<style scoped>\n",
       "    .dataframe tbody tr th:only-of-type {\n",
       "        vertical-align: middle;\n",
       "    }\n",
       "\n",
       "    .dataframe tbody tr th {\n",
       "        vertical-align: top;\n",
       "    }\n",
       "\n",
       "    .dataframe thead th {\n",
       "        text-align: right;\n",
       "    }\n",
       "</style>\n",
       "<table border=\"1\" class=\"dataframe\">\n",
       "  <thead>\n",
       "    <tr style=\"text-align: right;\">\n",
       "      <th>SEQUENCE</th>\n",
       "      <th>UGGAAGACUUGUGAUUUUGUUGU</th>\n",
       "      <th>UCGUACCGUGAGUAAUAAUGCG</th>\n",
       "      <th>CAGUGGUUUUACCCUAUGGUAG</th>\n",
       "      <th>UCAAAUGCUCAGACUCCUGUGGU</th>\n",
       "      <th>AUAAGACGAGCAAAAAGCUUGU</th>\n",
       "      <th>UAGCUUAUCAGACUGAUGUUGA</th>\n",
       "      <th>UGAGGUAGUAGUUUGUGCUGUU</th>\n",
       "      <th>CAGUGCAAUGUUAAAAGGGCAU</th>\n",
       "      <th>UGGAAUGUAAAGAAGUAUGUAU</th>\n",
       "      <th>AGCAGCAUUGUACAGGGCUAUGA</th>\n",
       "      <th>...</th>\n",
       "      <th>AAGGGAACGGGCUUGGCGGAAU</th>\n",
       "      <th>AGAGGUCUUGGGGCCGAAAC</th>\n",
       "      <th>UGAGGUAGUAGUUAGAA</th>\n",
       "      <th>UGGUUGUAGUCCGUGCGAGAAUA</th>\n",
       "      <th>AGACCUACUUAUCUACCAACAGC</th>\n",
       "      <th>AAAGGGGUCUGCAACCAAAGG</th>\n",
       "      <th>AUAGUUGUGUGUGGAUGUGUGU</th>\n",
       "      <th>CUUCCGCCCGGCCGGGUGUCG</th>\n",
       "      <th>AGCUUCUUUACAGUGCUGCCUUG</th>\n",
       "      <th>cancer</th>\n",
       "    </tr>\n",
       "  </thead>\n",
       "  <tbody>\n",
       "    <tr>\n",
       "      <th>VALUE</th>\n",
       "      <td>-0.037828</td>\n",
       "      <td>-0.860290</td>\n",
       "      <td>-0.759881</td>\n",
       "      <td>-0.246837</td>\n",
       "      <td>0.008769</td>\n",
       "      <td>-2.336226</td>\n",
       "      <td>-1.464087</td>\n",
       "      <td>0.706377</td>\n",
       "      <td>-3.421661</td>\n",
       "      <td>-0.091375</td>\n",
       "      <td>...</td>\n",
       "      <td>0.465624</td>\n",
       "      <td>0.172977</td>\n",
       "      <td>0.991664</td>\n",
       "      <td>2.111226</td>\n",
       "      <td>0.737761</td>\n",
       "      <td>0.786151</td>\n",
       "      <td>0.185192</td>\n",
       "      <td>-0.465756</td>\n",
       "      <td>2.310088</td>\n",
       "      <td>1</td>\n",
       "    </tr>\n",
       "    <tr>\n",
       "      <th>VALUE</th>\n",
       "      <td>-0.093803</td>\n",
       "      <td>-0.948459</td>\n",
       "      <td>-1.746458</td>\n",
       "      <td>-0.548351</td>\n",
       "      <td>0.221348</td>\n",
       "      <td>-1.229038</td>\n",
       "      <td>-1.900802</td>\n",
       "      <td>-0.696585</td>\n",
       "      <td>-1.006187</td>\n",
       "      <td>-1.331603</td>\n",
       "      <td>...</td>\n",
       "      <td>0.286950</td>\n",
       "      <td>1.032347</td>\n",
       "      <td>-0.753197</td>\n",
       "      <td>-1.117073</td>\n",
       "      <td>-1.196173</td>\n",
       "      <td>1.796282</td>\n",
       "      <td>0.404448</td>\n",
       "      <td>0.102461</td>\n",
       "      <td>-1.223892</td>\n",
       "      <td>1</td>\n",
       "    </tr>\n",
       "    <tr>\n",
       "      <th>VALUE</th>\n",
       "      <td>-0.140834</td>\n",
       "      <td>1.687281</td>\n",
       "      <td>-2.494838</td>\n",
       "      <td>0.590747</td>\n",
       "      <td>0.617186</td>\n",
       "      <td>-2.511191</td>\n",
       "      <td>2.503869</td>\n",
       "      <td>-2.884745</td>\n",
       "      <td>-1.780356</td>\n",
       "      <td>-1.369467</td>\n",
       "      <td>...</td>\n",
       "      <td>-0.352390</td>\n",
       "      <td>-0.236590</td>\n",
       "      <td>3.171035</td>\n",
       "      <td>5.387584</td>\n",
       "      <td>-3.257894</td>\n",
       "      <td>0.408925</td>\n",
       "      <td>1.020685</td>\n",
       "      <td>0.209456</td>\n",
       "      <td>-2.423845</td>\n",
       "      <td>1</td>\n",
       "    </tr>\n",
       "    <tr>\n",
       "      <th>VALUE</th>\n",
       "      <td>-0.847895</td>\n",
       "      <td>5.105468</td>\n",
       "      <td>0.919402</td>\n",
       "      <td>1.546277</td>\n",
       "      <td>0.251687</td>\n",
       "      <td>2.134487</td>\n",
       "      <td>5.459467</td>\n",
       "      <td>1.153813</td>\n",
       "      <td>-1.346315</td>\n",
       "      <td>2.193798</td>\n",
       "      <td>...</td>\n",
       "      <td>0.598148</td>\n",
       "      <td>1.956676</td>\n",
       "      <td>4.637716</td>\n",
       "      <td>-1.959215</td>\n",
       "      <td>0.201063</td>\n",
       "      <td>-0.433095</td>\n",
       "      <td>2.310737</td>\n",
       "      <td>1.960744</td>\n",
       "      <td>0.519878</td>\n",
       "      <td>1</td>\n",
       "    </tr>\n",
       "    <tr>\n",
       "      <th>VALUE</th>\n",
       "      <td>-0.087471</td>\n",
       "      <td>-5.603191</td>\n",
       "      <td>-0.411101</td>\n",
       "      <td>0.273858</td>\n",
       "      <td>-0.186522</td>\n",
       "      <td>-0.971383</td>\n",
       "      <td>-5.429882</td>\n",
       "      <td>-4.195499</td>\n",
       "      <td>4.552361</td>\n",
       "      <td>-2.090615</td>\n",
       "      <td>...</td>\n",
       "      <td>-0.029141</td>\n",
       "      <td>-0.387285</td>\n",
       "      <td>-6.685353</td>\n",
       "      <td>-2.751566</td>\n",
       "      <td>-3.781472</td>\n",
       "      <td>0.583766</td>\n",
       "      <td>0.249444</td>\n",
       "      <td>-0.736023</td>\n",
       "      <td>-0.573840</td>\n",
       "      <td>1</td>\n",
       "    </tr>\n",
       "  </tbody>\n",
       "</table>\n",
       "<p>5 rows × 1397 columns</p>\n",
       "</div>"
      ],
      "text/plain": [
       "SEQUENCE  UGGAAGACUUGUGAUUUUGUUGU  UCGUACCGUGAGUAAUAAUGCG  \\\n",
       "VALUE                   -0.037828               -0.860290   \n",
       "VALUE                   -0.093803               -0.948459   \n",
       "VALUE                   -0.140834                1.687281   \n",
       "VALUE                   -0.847895                5.105468   \n",
       "VALUE                   -0.087471               -5.603191   \n",
       "\n",
       "SEQUENCE  CAGUGGUUUUACCCUAUGGUAG  UCAAAUGCUCAGACUCCUGUGGU  \\\n",
       "VALUE                  -0.759881                -0.246837   \n",
       "VALUE                  -1.746458                -0.548351   \n",
       "VALUE                  -2.494838                 0.590747   \n",
       "VALUE                   0.919402                 1.546277   \n",
       "VALUE                  -0.411101                 0.273858   \n",
       "\n",
       "SEQUENCE  AUAAGACGAGCAAAAAGCUUGU  UAGCUUAUCAGACUGAUGUUGA  \\\n",
       "VALUE                   0.008769               -2.336226   \n",
       "VALUE                   0.221348               -1.229038   \n",
       "VALUE                   0.617186               -2.511191   \n",
       "VALUE                   0.251687                2.134487   \n",
       "VALUE                  -0.186522               -0.971383   \n",
       "\n",
       "SEQUENCE  UGAGGUAGUAGUUUGUGCUGUU  CAGUGCAAUGUUAAAAGGGCAU  \\\n",
       "VALUE                  -1.464087                0.706377   \n",
       "VALUE                  -1.900802               -0.696585   \n",
       "VALUE                   2.503869               -2.884745   \n",
       "VALUE                   5.459467                1.153813   \n",
       "VALUE                  -5.429882               -4.195499   \n",
       "\n",
       "SEQUENCE  UGGAAUGUAAAGAAGUAUGUAU  AGCAGCAUUGUACAGGGCUAUGA  ...  \\\n",
       "VALUE                  -3.421661                -0.091375  ...   \n",
       "VALUE                  -1.006187                -1.331603  ...   \n",
       "VALUE                  -1.780356                -1.369467  ...   \n",
       "VALUE                  -1.346315                 2.193798  ...   \n",
       "VALUE                   4.552361                -2.090615  ...   \n",
       "\n",
       "SEQUENCE  AAGGGAACGGGCUUGGCGGAAU  AGAGGUCUUGGGGCCGAAAC  UGAGGUAGUAGUUAGAA  \\\n",
       "VALUE                   0.465624              0.172977           0.991664   \n",
       "VALUE                   0.286950              1.032347          -0.753197   \n",
       "VALUE                  -0.352390             -0.236590           3.171035   \n",
       "VALUE                   0.598148              1.956676           4.637716   \n",
       "VALUE                  -0.029141             -0.387285          -6.685353   \n",
       "\n",
       "SEQUENCE  UGGUUGUAGUCCGUGCGAGAAUA  AGACCUACUUAUCUACCAACAGC  \\\n",
       "VALUE                    2.111226                 0.737761   \n",
       "VALUE                   -1.117073                -1.196173   \n",
       "VALUE                    5.387584                -3.257894   \n",
       "VALUE                   -1.959215                 0.201063   \n",
       "VALUE                   -2.751566                -3.781472   \n",
       "\n",
       "SEQUENCE  AAAGGGGUCUGCAACCAAAGG  AUAGUUGUGUGUGGAUGUGUGU  \\\n",
       "VALUE                  0.786151                0.185192   \n",
       "VALUE                  1.796282                0.404448   \n",
       "VALUE                  0.408925                1.020685   \n",
       "VALUE                 -0.433095                2.310737   \n",
       "VALUE                  0.583766                0.249444   \n",
       "\n",
       "SEQUENCE  CUUCCGCCCGGCCGGGUGUCG  AGCUUCUUUACAGUGCUGCCUUG  cancer  \n",
       "VALUE                 -0.465756                 2.310088       1  \n",
       "VALUE                  0.102461                -1.223892       1  \n",
       "VALUE                  0.209456                -2.423845       1  \n",
       "VALUE                  1.960744                 0.519878       1  \n",
       "VALUE                 -0.736023                -0.573840       1  \n",
       "\n",
       "[5 rows x 1397 columns]"
      ]
     },
     "execution_count": 49,
     "metadata": {},
     "output_type": "execute_result"
    }
   ],
   "source": [
    "adj_norm_log_table.columns = sequences\n",
    "adj_norm_log_table[\"cancer\"] = 1-controls\n",
    "adj_norm_log_table.head()"
   ]
  },
  {
   "cell_type": "code",
   "execution_count": 50,
   "metadata": {},
   "outputs": [],
   "source": [
    "adj_norm_log_table.to_csv(\"../TransformedData/Patnaik2012.csv\", index=False)"
   ]
  },
  {
   "cell_type": "code",
   "execution_count": null,
   "metadata": {},
   "outputs": [],
   "source": []
  }
 ],
 "metadata": {
  "kernelspec": {
   "display_name": "Python 3 (ipykernel)",
   "language": "python",
   "name": "python3"
  },
  "language_info": {
   "codemirror_mode": {
    "name": "ipython",
    "version": 3
   },
   "file_extension": ".py",
   "mimetype": "text/x-python",
   "name": "python",
   "nbconvert_exporter": "python",
   "pygments_lexer": "ipython3",
   "version": "3.10.1"
  }
 },
 "nbformat": 4,
 "nbformat_minor": 4
}
