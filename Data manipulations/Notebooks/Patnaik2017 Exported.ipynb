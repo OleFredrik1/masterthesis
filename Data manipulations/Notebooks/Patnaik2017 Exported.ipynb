{
 "cells": [
  {
   "cell_type": "code",
   "execution_count": 42,
   "metadata": {
    "tags": []
   },
   "outputs": [],
   "source": [
    "%matplotlib inline\n",
    "import GEOparse\n",
    "import matplotlib.pyplot as plt\n",
    "import pandas as pd\n",
    "import numpy as np\n",
    "from sklearn import decomposition\n",
    "from sklearn.feature_selection import f_classif\n",
    "from sklearn.linear_model import LinearRegression, LogisticRegression\n",
    "from sklearn.metrics import explained_variance_score, plot_roc_curve\n",
    "import statsmodels.api as sm\n",
    "from scipy.stats import ttest_ind\n",
    "from xgboost import XGBClassifier\n",
    "from sklearn.model_selection import train_test_split\n",
    "from sklego.linear_model import LowessRegression"
   ]
  },
  {
   "cell_type": "markdown",
   "metadata": {},
   "source": [
    "### Reading in from external source"
   ]
  },
  {
   "cell_type": "code",
   "execution_count": 43,
   "metadata": {},
   "outputs": [],
   "source": [
    "geo = \"GSE40738\"\n",
    "data = GEOparse.get_GEO(geo=geo, destdir=\"../Dataset/Patnaik2017\", silent=True)\n",
    "#table = pd.read_csv(\"../Dataset/Fehlman2020/expression_matrix.csv\", sep=\"\\t\")\n",
    "#table = pd.read_csv(\"../Dataset/Wozniak2015/GSE64591_non-normalized.txt\", sep=\"\\t\", header=5)"
   ]
  },
  {
   "cell_type": "code",
   "execution_count": 44,
   "metadata": {},
   "outputs": [
    {
     "data": {
      "text/plain": [
       "{'title': ['cancer preop 1'],\n",
       " 'geo_accession': ['GSM1000223'],\n",
       " 'status': ['Public on Sep 11 2012'],\n",
       " 'submission_date': ['Sep 10 2012'],\n",
       " 'last_update_date': ['Sep 11 2012'],\n",
       " 'type': ['RNA'],\n",
       " 'channel_count': ['2'],\n",
       " 'source_name_ch1': ['blood, lung cancer, individual 1'],\n",
       " 'organism_ch1': ['Homo sapiens'],\n",
       " 'taxid_ch1': ['9606'],\n",
       " 'characteristics_ch1': ['tissue: blood',\n",
       "  'time: preop',\n",
       "  'gender: female',\n",
       "  'age: 41 y',\n",
       "  'disease state: adenocarcinoma of lung',\n",
       "  'lung disease: Lung cancer (before surgical resection of lung cancer)',\n",
       "  'individual: 1'],\n",
       " 'molecule_ch1': ['total RNA'],\n",
       " 'extract_protocol_ch1': ['Total RNA was isolated from blood collected and stored in PAXgene Blood RNA tubes using a PAXgene Blood miRNA kit at the Roswell Park Cancer Institute, Buffalo, NY, USA as per the protocol suggested by the manufacturer (Qiagen, Valencia, CA, USA). The human universal reference RNA was made by pooling contents of FirstChoice total RNA panel that is made of RNA from different tissues of multiple individuals (Ambion, Austin, TX, USA; catalog no. AM6000).'],\n",
       " 'label_ch1': ['Hy3'],\n",
       " 'label_protocol_ch1': ['RNA was labeled by Exiqon, Vedbaek, Denmark using the miRCURY LNA microRNA Power labeling kit. Five hundred ng of RNA, as quantified using Bioanalyzer (Agilent, Santa Clara, CA, USA), was used per labeling reaction with the Cy3-like Hy3 dye. A human universal reference RNA, made by pooling contents of FirstChoice total RNA panel (Ambion, Austin, TX, USA; catalog no. AM6000), was similarly labeled with the Cy5-like Hy5 dye. Sixty-two synthetic small RNAs were spiked-in to the RNA samples before labeling as per the kit protocol.'],\n",
       " 'source_name_ch2': ['Human universal reference RNA from Ambion'],\n",
       " 'organism_ch2': ['Homo sapiens'],\n",
       " 'taxid_ch2': ['9606'],\n",
       " 'characteristics_ch2': ['tissue: Multiple',\n",
       "  'gender: Mixed',\n",
       "  'sample type: Human universal reference RNA from Ambion'],\n",
       " 'molecule_ch2': ['total RNA'],\n",
       " 'extract_protocol_ch2': ['Total RNA was isolated from blood collected and stored in PAXgene Blood RNA tubes using a PAXgene Blood miRNA kit at the Roswell Park Cancer Institute, Buffalo, NY, USA as per the protocol suggested by the manufacturer (Qiagen, Valencia, CA, USA). The human universal reference RNA was made by pooling contents of FirstChoice total RNA panel that is made of RNA from different tissues of multiple individuals (Ambion, Austin, TX, USA; catalog no. AM6000).'],\n",
       " 'label_ch2': ['Hy5'],\n",
       " 'label_protocol_ch2': ['RNA was labeled by Exiqon, Vedbaek, Denmark using the miRCURY LNA microRNA Power labeling kit. Five hundred ng of RNA, as quantified using Bioanalyzer (Agilent, Santa Clara, CA, USA), was used per labeling reaction with the Cy3-like Hy3 dye. A human universal reference RNA, made by pooling contents of FirstChoice total RNA panel (Ambion, Austin, TX, USA; catalog no. AM6000), was similarly labeled with the Cy5-like Hy5 dye. Sixty-two synthetic small RNAs were spiked-in to the RNA samples before labeling as per the kit protocol.'],\n",
       " 'hyb_protocol': ['Hybridization of the mix of Hy3-labeled sample and Hy5-labeled reference RNAs to the arrays at 56 C for 16 hours followed by washing was performed by Exiqon (Vedbaek, Denmark) on an HS Pro instrument (Tecan, MÃ¤nnedorf, Switzerland). The seventh generation miRCURY LNA microRNA arrays (Exiqon, Vedbaek, Denmark) that were used have approx. 1892 locked nucleic acid oligonucleotide probes on quadruplicate 100 ÂµM-sized probe-spots (185 ÂµM inter-spot distance) to detect 20 human non-microRNA small RNAs (20 array probes), 25 Exion-proprietary human miRPlus microRNAs (25 probes) and 1916 human miRBase microRNA database microRNAs (1892 probes). Thirty of the 1892+25=1917 probes recognize a total of 72 multiple microRNAs (2-6 per probe). Some of the microRNAs recognized by the 30 are also recognized by other, one-microRNA-specific probes. The array also has probes for viral, mouse and rat microRNAs.'],\n",
       " 'scan_protocol': ['Arrays were scanned, after hybridization and washing, using the G2505B scanning system (Agilent, Santa Clara, CA, USA) by Exiqon (Vedbaek, Denmark).'],\n",
       " 'description': ['files with prefix 1_ are for Hy3 (Cy3) signals and 2_ for Hy5'],\n",
       " 'data_processing': [\"Array data processing was done in R (version 2.14.1) using the limma (version 3.10.2) Bioconductor package. The 'normexp' method with offset=10 was used for background-correction, and followed with within-array global 'loess' normalization, with span=1/3 and values from probe-spots with flag-values >1 ignored, and then, between-array 'quantile' normalization. For probe-set summarization, the median of the values from multiple spots was used when the ratio of the maximum and minimum values was >1.5; else, the mean was used.\"],\n",
       " 'platform_id': ['GPL16016'],\n",
       " 'contact_name': ['Santosh,Kumar,Patnaik'],\n",
       " 'contact_phone': ['716-8458364'],\n",
       " 'contact_department': ['Thoracic Surgery'],\n",
       " 'contact_institute': ['Roswell Park Comprehensive Cancer Center'],\n",
       " 'contact_address': ['Elm and Carlton Streets'],\n",
       " 'contact_city': ['Buffalo'],\n",
       " 'contact_state': ['NY'],\n",
       " 'contact_zip/postal_code': ['14263'],\n",
       " 'contact_country': ['USA'],\n",
       " 'supplementary_file': ['ftp://ftp.ncbi.nlm.nih.gov/geo/samples/GSM1000nnn/GSM1000223/suppl/GSM1000223_0_Hy5_Exiqon_19705748_S01.txt.gz',\n",
       "  'ftp://ftp.ncbi.nlm.nih.gov/geo/samples/GSM1000nnn/GSM1000223/suppl/GSM1000223_1_Hy3_Exiqon_19705748_S01.txt.gz'],\n",
       " 'series_id': ['GSE40738'],\n",
       " 'data_row_count': ['3547']}"
      ]
     },
     "execution_count": 44,
     "metadata": {},
     "output_type": "execute_result"
    }
   ],
   "source": [
    "list(data.gsms.values())[0].metadata"
   ]
  },
  {
   "cell_type": "code",
   "execution_count": 45,
   "metadata": {},
   "outputs": [],
   "source": [
    "table = pd.concat((val.table.iloc[:,1:] for val in data.gsms.values()), axis=1).transpose()\n",
    "mirnas = list(data.gsms.values())[0].table.iloc[:,0]\n",
    "gsm_list = np.array(list(data.gsms.values()))"
   ]
  },
  {
   "cell_type": "code",
   "execution_count": 46,
   "metadata": {},
   "outputs": [
    {
     "data": {
      "text/html": [
       "<div>\n",
       "<style scoped>\n",
       "    .dataframe tbody tr th:only-of-type {\n",
       "        vertical-align: middle;\n",
       "    }\n",
       "\n",
       "    .dataframe tbody tr th {\n",
       "        vertical-align: top;\n",
       "    }\n",
       "\n",
       "    .dataframe thead th {\n",
       "        text-align: right;\n",
       "    }\n",
       "</style>\n",
       "<table border=\"1\" class=\"dataframe\">\n",
       "  <thead>\n",
       "    <tr style=\"text-align: right;\">\n",
       "      <th></th>\n",
       "      <th>0</th>\n",
       "      <th>1</th>\n",
       "      <th>2</th>\n",
       "      <th>3</th>\n",
       "      <th>4</th>\n",
       "      <th>5</th>\n",
       "      <th>6</th>\n",
       "      <th>7</th>\n",
       "      <th>8</th>\n",
       "      <th>9</th>\n",
       "      <th>...</th>\n",
       "      <th>3537</th>\n",
       "      <th>3538</th>\n",
       "      <th>3539</th>\n",
       "      <th>3540</th>\n",
       "      <th>3541</th>\n",
       "      <th>3542</th>\n",
       "      <th>3543</th>\n",
       "      <th>3544</th>\n",
       "      <th>3545</th>\n",
       "      <th>3546</th>\n",
       "    </tr>\n",
       "  </thead>\n",
       "  <tbody>\n",
       "    <tr>\n",
       "      <th>VALUE</th>\n",
       "      <td>0.010494</td>\n",
       "      <td>-1.407409</td>\n",
       "      <td>1.475053</td>\n",
       "      <td>-3.202545</td>\n",
       "      <td>-0.559560</td>\n",
       "      <td>0.026980</td>\n",
       "      <td>-0.732104</td>\n",
       "      <td>-3.151635</td>\n",
       "      <td>0.444564</td>\n",
       "      <td>0.677118</td>\n",
       "      <td>...</td>\n",
       "      <td>-0.189455</td>\n",
       "      <td>-0.671585</td>\n",
       "      <td>-1.955679</td>\n",
       "      <td>-1.516398</td>\n",
       "      <td>0.094447</td>\n",
       "      <td>-1.569766</td>\n",
       "      <td>-0.678858</td>\n",
       "      <td>-0.559935</td>\n",
       "      <td>-0.656613</td>\n",
       "      <td>-0.619179</td>\n",
       "    </tr>\n",
       "    <tr>\n",
       "      <th>VALUE</th>\n",
       "      <td>-0.046461</td>\n",
       "      <td>-1.683871</td>\n",
       "      <td>1.405158</td>\n",
       "      <td>-3.574522</td>\n",
       "      <td>-0.319152</td>\n",
       "      <td>0.269934</td>\n",
       "      <td>-0.604729</td>\n",
       "      <td>-3.084154</td>\n",
       "      <td>0.485789</td>\n",
       "      <td>0.328734</td>\n",
       "      <td>...</td>\n",
       "      <td>-0.032436</td>\n",
       "      <td>-0.611187</td>\n",
       "      <td>-2.025718</td>\n",
       "      <td>-1.464776</td>\n",
       "      <td>0.274390</td>\n",
       "      <td>-1.174481</td>\n",
       "      <td>-0.627605</td>\n",
       "      <td>-0.669845</td>\n",
       "      <td>-0.562442</td>\n",
       "      <td>-0.814464</td>\n",
       "    </tr>\n",
       "    <tr>\n",
       "      <th>VALUE</th>\n",
       "      <td>-0.434401</td>\n",
       "      <td>-1.779390</td>\n",
       "      <td>1.471687</td>\n",
       "      <td>-4.407035</td>\n",
       "      <td>-1.026731</td>\n",
       "      <td>0.326473</td>\n",
       "      <td>-0.602487</td>\n",
       "      <td>-3.589156</td>\n",
       "      <td>0.591669</td>\n",
       "      <td>-0.187806</td>\n",
       "      <td>...</td>\n",
       "      <td>-0.204983</td>\n",
       "      <td>-0.621601</td>\n",
       "      <td>-2.275938</td>\n",
       "      <td>-1.417229</td>\n",
       "      <td>-0.134084</td>\n",
       "      <td>-1.447181</td>\n",
       "      <td>-0.809580</td>\n",
       "      <td>-0.727625</td>\n",
       "      <td>-0.659716</td>\n",
       "      <td>-0.742287</td>\n",
       "    </tr>\n",
       "    <tr>\n",
       "      <th>VALUE</th>\n",
       "      <td>-0.700871</td>\n",
       "      <td>-1.586739</td>\n",
       "      <td>1.384012</td>\n",
       "      <td>-2.408802</td>\n",
       "      <td>0.082291</td>\n",
       "      <td>0.109722</td>\n",
       "      <td>-0.572143</td>\n",
       "      <td>-1.415818</td>\n",
       "      <td>0.576520</td>\n",
       "      <td>0.787149</td>\n",
       "      <td>...</td>\n",
       "      <td>0.035057</td>\n",
       "      <td>-0.603761</td>\n",
       "      <td>-2.322062</td>\n",
       "      <td>-1.593372</td>\n",
       "      <td>-0.101195</td>\n",
       "      <td>0.183775</td>\n",
       "      <td>-0.868510</td>\n",
       "      <td>-0.166346</td>\n",
       "      <td>-0.547396</td>\n",
       "      <td>-0.721662</td>\n",
       "    </tr>\n",
       "    <tr>\n",
       "      <th>VALUE</th>\n",
       "      <td>-0.260650</td>\n",
       "      <td>-1.182717</td>\n",
       "      <td>1.335324</td>\n",
       "      <td>-3.541777</td>\n",
       "      <td>-1.094086</td>\n",
       "      <td>0.426749</td>\n",
       "      <td>-0.391624</td>\n",
       "      <td>-3.103124</td>\n",
       "      <td>0.402727</td>\n",
       "      <td>0.474227</td>\n",
       "      <td>...</td>\n",
       "      <td>-0.396745</td>\n",
       "      <td>-0.733530</td>\n",
       "      <td>-1.607247</td>\n",
       "      <td>-1.423773</td>\n",
       "      <td>-0.114282</td>\n",
       "      <td>-0.726970</td>\n",
       "      <td>-0.730110</td>\n",
       "      <td>-0.739246</td>\n",
       "      <td>-1.010341</td>\n",
       "      <td>-0.846827</td>\n",
       "    </tr>\n",
       "    <tr>\n",
       "      <th>...</th>\n",
       "      <td>...</td>\n",
       "      <td>...</td>\n",
       "      <td>...</td>\n",
       "      <td>...</td>\n",
       "      <td>...</td>\n",
       "      <td>...</td>\n",
       "      <td>...</td>\n",
       "      <td>...</td>\n",
       "      <td>...</td>\n",
       "      <td>...</td>\n",
       "      <td>...</td>\n",
       "      <td>...</td>\n",
       "      <td>...</td>\n",
       "      <td>...</td>\n",
       "      <td>...</td>\n",
       "      <td>...</td>\n",
       "      <td>...</td>\n",
       "      <td>...</td>\n",
       "      <td>...</td>\n",
       "      <td>...</td>\n",
       "      <td>...</td>\n",
       "    </tr>\n",
       "    <tr>\n",
       "      <th>VALUE</th>\n",
       "      <td>-0.849401</td>\n",
       "      <td>-1.704188</td>\n",
       "      <td>1.258121</td>\n",
       "      <td>-3.291897</td>\n",
       "      <td>-0.940261</td>\n",
       "      <td>0.081012</td>\n",
       "      <td>-0.610622</td>\n",
       "      <td>-2.702150</td>\n",
       "      <td>0.458538</td>\n",
       "      <td>0.781526</td>\n",
       "      <td>...</td>\n",
       "      <td>-0.084094</td>\n",
       "      <td>-0.694373</td>\n",
       "      <td>-1.750953</td>\n",
       "      <td>-1.581935</td>\n",
       "      <td>0.257665</td>\n",
       "      <td>-1.039112</td>\n",
       "      <td>-0.704940</td>\n",
       "      <td>-0.658960</td>\n",
       "      <td>-0.523236</td>\n",
       "      <td>-0.792110</td>\n",
       "    </tr>\n",
       "    <tr>\n",
       "      <th>VALUE</th>\n",
       "      <td>-1.095159</td>\n",
       "      <td>-1.811575</td>\n",
       "      <td>1.403459</td>\n",
       "      <td>-2.535752</td>\n",
       "      <td>-0.406089</td>\n",
       "      <td>0.000447</td>\n",
       "      <td>-0.679938</td>\n",
       "      <td>-2.384535</td>\n",
       "      <td>0.662613</td>\n",
       "      <td>1.218111</td>\n",
       "      <td>...</td>\n",
       "      <td>-0.204615</td>\n",
       "      <td>-0.554988</td>\n",
       "      <td>-1.834644</td>\n",
       "      <td>-1.612957</td>\n",
       "      <td>0.286119</td>\n",
       "      <td>-1.180161</td>\n",
       "      <td>0.519697</td>\n",
       "      <td>-0.745760</td>\n",
       "      <td>-0.501697</td>\n",
       "      <td>-0.810299</td>\n",
       "    </tr>\n",
       "    <tr>\n",
       "      <th>VALUE</th>\n",
       "      <td>-1.464105</td>\n",
       "      <td>-2.018576</td>\n",
       "      <td>1.523334</td>\n",
       "      <td>-3.172166</td>\n",
       "      <td>-0.256080</td>\n",
       "      <td>0.373576</td>\n",
       "      <td>-0.635107</td>\n",
       "      <td>-2.487154</td>\n",
       "      <td>0.482363</td>\n",
       "      <td>0.923342</td>\n",
       "      <td>...</td>\n",
       "      <td>-0.082325</td>\n",
       "      <td>-0.701619</td>\n",
       "      <td>-2.009718</td>\n",
       "      <td>-1.720748</td>\n",
       "      <td>-0.314919</td>\n",
       "      <td>-1.789872</td>\n",
       "      <td>-0.669051</td>\n",
       "      <td>-0.583276</td>\n",
       "      <td>-0.446627</td>\n",
       "      <td>-0.845082</td>\n",
       "    </tr>\n",
       "    <tr>\n",
       "      <th>VALUE</th>\n",
       "      <td>-0.700562</td>\n",
       "      <td>-1.508051</td>\n",
       "      <td>1.556278</td>\n",
       "      <td>-4.315787</td>\n",
       "      <td>-1.884412</td>\n",
       "      <td>0.475398</td>\n",
       "      <td>-0.576680</td>\n",
       "      <td>-3.827294</td>\n",
       "      <td>0.632676</td>\n",
       "      <td>-0.362867</td>\n",
       "      <td>...</td>\n",
       "      <td>0.078660</td>\n",
       "      <td>-0.920747</td>\n",
       "      <td>-1.929514</td>\n",
       "      <td>-1.702724</td>\n",
       "      <td>0.049282</td>\n",
       "      <td>-1.007424</td>\n",
       "      <td>-0.663182</td>\n",
       "      <td>-0.437739</td>\n",
       "      <td>-0.386830</td>\n",
       "      <td>-0.713551</td>\n",
       "    </tr>\n",
       "    <tr>\n",
       "      <th>VALUE</th>\n",
       "      <td>-0.414108</td>\n",
       "      <td>-1.932599</td>\n",
       "      <td>1.311914</td>\n",
       "      <td>-4.301587</td>\n",
       "      <td>-1.323204</td>\n",
       "      <td>0.476292</td>\n",
       "      <td>-0.496884</td>\n",
       "      <td>-3.864762</td>\n",
       "      <td>0.606913</td>\n",
       "      <td>-0.280230</td>\n",
       "      <td>...</td>\n",
       "      <td>0.181879</td>\n",
       "      <td>-0.467513</td>\n",
       "      <td>-1.727289</td>\n",
       "      <td>-1.662486</td>\n",
       "      <td>-0.024255</td>\n",
       "      <td>-1.099350</td>\n",
       "      <td>-0.668666</td>\n",
       "      <td>-0.559509</td>\n",
       "      <td>-0.388331</td>\n",
       "      <td>-0.791472</td>\n",
       "    </tr>\n",
       "  </tbody>\n",
       "</table>\n",
       "<p>177 rows × 3547 columns</p>\n",
       "</div>"
      ],
      "text/plain": [
       "           0         1         2         3         4         5         6     \\\n",
       "VALUE  0.010494 -1.407409  1.475053 -3.202545 -0.559560  0.026980 -0.732104   \n",
       "VALUE -0.046461 -1.683871  1.405158 -3.574522 -0.319152  0.269934 -0.604729   \n",
       "VALUE -0.434401 -1.779390  1.471687 -4.407035 -1.026731  0.326473 -0.602487   \n",
       "VALUE -0.700871 -1.586739  1.384012 -2.408802  0.082291  0.109722 -0.572143   \n",
       "VALUE -0.260650 -1.182717  1.335324 -3.541777 -1.094086  0.426749 -0.391624   \n",
       "...         ...       ...       ...       ...       ...       ...       ...   \n",
       "VALUE -0.849401 -1.704188  1.258121 -3.291897 -0.940261  0.081012 -0.610622   \n",
       "VALUE -1.095159 -1.811575  1.403459 -2.535752 -0.406089  0.000447 -0.679938   \n",
       "VALUE -1.464105 -2.018576  1.523334 -3.172166 -0.256080  0.373576 -0.635107   \n",
       "VALUE -0.700562 -1.508051  1.556278 -4.315787 -1.884412  0.475398 -0.576680   \n",
       "VALUE -0.414108 -1.932599  1.311914 -4.301587 -1.323204  0.476292 -0.496884   \n",
       "\n",
       "           7         8         9     ...      3537      3538      3539  \\\n",
       "VALUE -3.151635  0.444564  0.677118  ... -0.189455 -0.671585 -1.955679   \n",
       "VALUE -3.084154  0.485789  0.328734  ... -0.032436 -0.611187 -2.025718   \n",
       "VALUE -3.589156  0.591669 -0.187806  ... -0.204983 -0.621601 -2.275938   \n",
       "VALUE -1.415818  0.576520  0.787149  ...  0.035057 -0.603761 -2.322062   \n",
       "VALUE -3.103124  0.402727  0.474227  ... -0.396745 -0.733530 -1.607247   \n",
       "...         ...       ...       ...  ...       ...       ...       ...   \n",
       "VALUE -2.702150  0.458538  0.781526  ... -0.084094 -0.694373 -1.750953   \n",
       "VALUE -2.384535  0.662613  1.218111  ... -0.204615 -0.554988 -1.834644   \n",
       "VALUE -2.487154  0.482363  0.923342  ... -0.082325 -0.701619 -2.009718   \n",
       "VALUE -3.827294  0.632676 -0.362867  ...  0.078660 -0.920747 -1.929514   \n",
       "VALUE -3.864762  0.606913 -0.280230  ...  0.181879 -0.467513 -1.727289   \n",
       "\n",
       "           3540      3541      3542      3543      3544      3545      3546  \n",
       "VALUE -1.516398  0.094447 -1.569766 -0.678858 -0.559935 -0.656613 -0.619179  \n",
       "VALUE -1.464776  0.274390 -1.174481 -0.627605 -0.669845 -0.562442 -0.814464  \n",
       "VALUE -1.417229 -0.134084 -1.447181 -0.809580 -0.727625 -0.659716 -0.742287  \n",
       "VALUE -1.593372 -0.101195  0.183775 -0.868510 -0.166346 -0.547396 -0.721662  \n",
       "VALUE -1.423773 -0.114282 -0.726970 -0.730110 -0.739246 -1.010341 -0.846827  \n",
       "...         ...       ...       ...       ...       ...       ...       ...  \n",
       "VALUE -1.581935  0.257665 -1.039112 -0.704940 -0.658960 -0.523236 -0.792110  \n",
       "VALUE -1.612957  0.286119 -1.180161  0.519697 -0.745760 -0.501697 -0.810299  \n",
       "VALUE -1.720748 -0.314919 -1.789872 -0.669051 -0.583276 -0.446627 -0.845082  \n",
       "VALUE -1.702724  0.049282 -1.007424 -0.663182 -0.437739 -0.386830 -0.713551  \n",
       "VALUE -1.662486 -0.024255 -1.099350 -0.668666 -0.559509 -0.388331 -0.791472  \n",
       "\n",
       "[177 rows x 3547 columns]"
      ]
     },
     "execution_count": 46,
     "metadata": {},
     "output_type": "execute_result"
    }
   ],
   "source": [
    "table"
   ]
  },
  {
   "cell_type": "markdown",
   "metadata": {},
   "source": [
    "### Get controls"
   ]
  },
  {
   "cell_type": "code",
   "execution_count": 47,
   "metadata": {},
   "outputs": [
    {
     "data": {
      "text/plain": [
       "{'cancer postop 1',\n",
       " 'cancer postop 10',\n",
       " 'cancer postop 11',\n",
       " 'cancer postop 12',\n",
       " 'cancer postop 13',\n",
       " 'cancer postop 2',\n",
       " 'cancer postop 2 later timepoint',\n",
       " 'cancer postop 3',\n",
       " 'cancer postop 4',\n",
       " 'cancer postop 5',\n",
       " 'cancer postop 6',\n",
       " 'cancer postop 7',\n",
       " 'cancer postop 8',\n",
       " 'cancer postop 9',\n",
       " 'cancer preop 1',\n",
       " 'cancer preop 10',\n",
       " 'cancer preop 11',\n",
       " 'cancer preop 12',\n",
       " 'cancer preop 13',\n",
       " 'cancer preop 14',\n",
       " 'cancer preop 15',\n",
       " 'cancer preop 16',\n",
       " 'cancer preop 17',\n",
       " 'cancer preop 18',\n",
       " 'cancer preop 19',\n",
       " 'cancer preop 2',\n",
       " 'cancer preop 20',\n",
       " 'cancer preop 21',\n",
       " 'cancer preop 22',\n",
       " 'cancer preop 23',\n",
       " 'cancer preop 24',\n",
       " 'cancer preop 25',\n",
       " 'cancer preop 26',\n",
       " 'cancer preop 27',\n",
       " 'cancer preop 28',\n",
       " 'cancer preop 29',\n",
       " 'cancer preop 3',\n",
       " 'cancer preop 30',\n",
       " 'cancer preop 31',\n",
       " 'cancer preop 32',\n",
       " 'cancer preop 33',\n",
       " 'cancer preop 34',\n",
       " 'cancer preop 35',\n",
       " 'cancer preop 36',\n",
       " 'cancer preop 37',\n",
       " 'cancer preop 38',\n",
       " 'cancer preop 39',\n",
       " 'cancer preop 4',\n",
       " 'cancer preop 40',\n",
       " 'cancer preop 41',\n",
       " 'cancer preop 42',\n",
       " 'cancer preop 43',\n",
       " 'cancer preop 44',\n",
       " 'cancer preop 45',\n",
       " 'cancer preop 46',\n",
       " 'cancer preop 47',\n",
       " 'cancer preop 48',\n",
       " 'cancer preop 49',\n",
       " 'cancer preop 5',\n",
       " 'cancer preop 50',\n",
       " 'cancer preop 51',\n",
       " 'cancer preop 52',\n",
       " 'cancer preop 53',\n",
       " 'cancer preop 54',\n",
       " 'cancer preop 55',\n",
       " 'cancer preop 56',\n",
       " 'cancer preop 57',\n",
       " 'cancer preop 58',\n",
       " 'cancer preop 59',\n",
       " 'cancer preop 6',\n",
       " 'cancer preop 60',\n",
       " 'cancer preop 61',\n",
       " 'cancer preop 62',\n",
       " 'cancer preop 63',\n",
       " 'cancer preop 64',\n",
       " 'cancer preop 65',\n",
       " 'cancer preop 66',\n",
       " 'cancer preop 67',\n",
       " 'cancer preop 68',\n",
       " 'cancer preop 69',\n",
       " 'cancer preop 7',\n",
       " 'cancer preop 70',\n",
       " 'cancer preop 71',\n",
       " 'cancer preop 72',\n",
       " 'cancer preop 73',\n",
       " 'cancer preop 74 replicate 1',\n",
       " 'cancer preop 74 replicate 2',\n",
       " 'cancer preop 75',\n",
       " 'cancer preop 76',\n",
       " 'cancer preop 77',\n",
       " 'cancer preop 78',\n",
       " 'cancer preop 79',\n",
       " 'cancer preop 8',\n",
       " 'cancer preop 80',\n",
       " 'cancer preop 81',\n",
       " 'cancer preop 82',\n",
       " 'cancer preop 83',\n",
       " 'cancer preop 84',\n",
       " 'cancer preop 85',\n",
       " 'cancer preop 9',\n",
       " 'control highrisk 1',\n",
       " 'control highrisk 10',\n",
       " 'control highrisk 11',\n",
       " 'control highrisk 12',\n",
       " 'control highrisk 13',\n",
       " 'control highrisk 14',\n",
       " 'control highrisk 15',\n",
       " 'control highrisk 16',\n",
       " 'control highrisk 17',\n",
       " 'control highrisk 18',\n",
       " 'control highrisk 19',\n",
       " 'control highrisk 2',\n",
       " 'control highrisk 20',\n",
       " 'control highrisk 21',\n",
       " 'control highrisk 22',\n",
       " 'control highrisk 23',\n",
       " 'control highrisk 24',\n",
       " 'control highrisk 25',\n",
       " 'control highrisk 26',\n",
       " 'control highrisk 27',\n",
       " 'control highrisk 28',\n",
       " 'control highrisk 29 replicate 1',\n",
       " 'control highrisk 29 replicate 2',\n",
       " 'control highrisk 3',\n",
       " 'control highrisk 30',\n",
       " 'control highrisk 31',\n",
       " 'control highrisk 32',\n",
       " 'control highrisk 33',\n",
       " 'control highrisk 34',\n",
       " 'control highrisk 35',\n",
       " 'control highrisk 36',\n",
       " 'control highrisk 37',\n",
       " 'control highrisk 38',\n",
       " 'control highrisk 39',\n",
       " 'control highrisk 4',\n",
       " 'control highrisk 40',\n",
       " 'control highrisk 41',\n",
       " 'control highrisk 42',\n",
       " 'control highrisk 43',\n",
       " 'control highrisk 44',\n",
       " 'control highrisk 45',\n",
       " 'control highrisk 46',\n",
       " 'control highrisk 47',\n",
       " 'control highrisk 48',\n",
       " 'control highrisk 49',\n",
       " 'control highrisk 5',\n",
       " 'control highrisk 50',\n",
       " 'control highrisk 51',\n",
       " 'control highrisk 52',\n",
       " 'control highrisk 53',\n",
       " 'control highrisk 54',\n",
       " 'control highrisk 55',\n",
       " 'control highrisk 56',\n",
       " 'control highrisk 57',\n",
       " 'control highrisk 58',\n",
       " 'control highrisk 6',\n",
       " 'control highrisk 7',\n",
       " 'control highrisk 8',\n",
       " 'control highrisk 9',\n",
       " 'control nodule 1',\n",
       " 'control nodule 10',\n",
       " 'control nodule 11',\n",
       " 'control nodule 12',\n",
       " 'control nodule 13',\n",
       " 'control nodule 14',\n",
       " 'control nodule 15',\n",
       " 'control nodule 16',\n",
       " 'control nodule 17',\n",
       " 'control nodule 18',\n",
       " 'control nodule 2',\n",
       " 'control nodule 3',\n",
       " 'control nodule 4',\n",
       " 'control nodule 5',\n",
       " 'control nodule 6',\n",
       " 'control nodule 7',\n",
       " 'control nodule 8',\n",
       " 'control nodule 9'}"
      ]
     },
     "execution_count": 47,
     "metadata": {},
     "output_type": "execute_result"
    }
   ],
   "source": [
    "set([list(data.gsms.values())[i].metadata[\"title\"][0] for i in range(177)])"
   ]
  },
  {
   "cell_type": "markdown",
   "metadata": {},
   "source": [
    "### Remove postop"
   ]
  },
  {
   "cell_type": "code",
   "execution_count": 48,
   "metadata": {},
   "outputs": [],
   "source": [
    "mask = np.array([\"postop\" not in k.metadata[\"title\"][0] for k in gsm_list])\n",
    "table = table.loc[mask]\n",
    "gsm_list = gsm_list[mask]"
   ]
  },
  {
   "cell_type": "markdown",
   "metadata": {},
   "source": [
    "### Seperate case and controls"
   ]
  },
  {
   "cell_type": "code",
   "execution_count": 49,
   "metadata": {},
   "outputs": [],
   "source": [
    "controls = np.array([\"control\" in k.metadata[\"title\"][0] for k in gsm_list])\n",
    "sick = 1 - controls"
   ]
  },
  {
   "cell_type": "code",
   "execution_count": 50,
   "metadata": {},
   "outputs": [
    {
     "data": {
      "text/plain": [
       "77"
      ]
     },
     "execution_count": 50,
     "metadata": {},
     "output_type": "execute_result"
    }
   ],
   "source": [
    "sum(controls)"
   ]
  },
  {
   "cell_type": "markdown",
   "metadata": {},
   "source": [
    "### Drop NAN"
   ]
  },
  {
   "cell_type": "code",
   "execution_count": 51,
   "metadata": {},
   "outputs": [
    {
     "data": {
      "text/plain": [
       "0"
      ]
     },
     "execution_count": 51,
     "metadata": {},
     "output_type": "execute_result"
    }
   ],
   "source": [
    "table.isna().sum().sum()"
   ]
  },
  {
   "cell_type": "code",
   "execution_count": 52,
   "metadata": {},
   "outputs": [
    {
     "name": "stderr",
     "output_type": "stream",
     "text": [
      "C:\\Users\\olefr\\AppData\\Local\\Temp/ipykernel_11388/1927661217.py:1: FutureWarning: In a future version of pandas all arguments of DataFrame.dropna will be keyword-only\n",
      "  table = table.dropna(1)\n"
     ]
    }
   ],
   "source": [
    "table = table.dropna(1)"
   ]
  },
  {
   "cell_type": "markdown",
   "metadata": {},
   "source": [
    "### T-test"
   ]
  },
  {
   "cell_type": "code",
   "execution_count": 53,
   "metadata": {},
   "outputs": [],
   "source": [
    "X = table"
   ]
  },
  {
   "cell_type": "code",
   "execution_count": 54,
   "metadata": {},
   "outputs": [
    {
     "data": {
      "text/html": [
       "<div>\n",
       "<style scoped>\n",
       "    .dataframe tbody tr th:only-of-type {\n",
       "        vertical-align: middle;\n",
       "    }\n",
       "\n",
       "    .dataframe tbody tr th {\n",
       "        vertical-align: top;\n",
       "    }\n",
       "\n",
       "    .dataframe thead th {\n",
       "        text-align: right;\n",
       "    }\n",
       "</style>\n",
       "<table border=\"1\" class=\"dataframe\">\n",
       "  <thead>\n",
       "    <tr style=\"text-align: right;\">\n",
       "      <th></th>\n",
       "      <th>0</th>\n",
       "      <th>1</th>\n",
       "      <th>2</th>\n",
       "      <th>3</th>\n",
       "      <th>4</th>\n",
       "      <th>5</th>\n",
       "      <th>6</th>\n",
       "      <th>7</th>\n",
       "      <th>8</th>\n",
       "      <th>9</th>\n",
       "      <th>...</th>\n",
       "      <th>3537</th>\n",
       "      <th>3538</th>\n",
       "      <th>3539</th>\n",
       "      <th>3540</th>\n",
       "      <th>3541</th>\n",
       "      <th>3542</th>\n",
       "      <th>3543</th>\n",
       "      <th>3544</th>\n",
       "      <th>3545</th>\n",
       "      <th>3546</th>\n",
       "    </tr>\n",
       "  </thead>\n",
       "  <tbody>\n",
       "    <tr>\n",
       "      <th>VALUE</th>\n",
       "      <td>0.010494</td>\n",
       "      <td>-1.407409</td>\n",
       "      <td>1.475053</td>\n",
       "      <td>-3.202545</td>\n",
       "      <td>-0.559560</td>\n",
       "      <td>0.026980</td>\n",
       "      <td>-0.732104</td>\n",
       "      <td>-3.151635</td>\n",
       "      <td>0.444564</td>\n",
       "      <td>0.677118</td>\n",
       "      <td>...</td>\n",
       "      <td>-0.189455</td>\n",
       "      <td>-0.671585</td>\n",
       "      <td>-1.955679</td>\n",
       "      <td>-1.516398</td>\n",
       "      <td>0.094447</td>\n",
       "      <td>-1.569766</td>\n",
       "      <td>-0.678858</td>\n",
       "      <td>-0.559935</td>\n",
       "      <td>-0.656613</td>\n",
       "      <td>-0.619179</td>\n",
       "    </tr>\n",
       "    <tr>\n",
       "      <th>VALUE</th>\n",
       "      <td>-0.046461</td>\n",
       "      <td>-1.683871</td>\n",
       "      <td>1.405158</td>\n",
       "      <td>-3.574522</td>\n",
       "      <td>-0.319152</td>\n",
       "      <td>0.269934</td>\n",
       "      <td>-0.604729</td>\n",
       "      <td>-3.084154</td>\n",
       "      <td>0.485789</td>\n",
       "      <td>0.328734</td>\n",
       "      <td>...</td>\n",
       "      <td>-0.032436</td>\n",
       "      <td>-0.611187</td>\n",
       "      <td>-2.025718</td>\n",
       "      <td>-1.464776</td>\n",
       "      <td>0.274390</td>\n",
       "      <td>-1.174481</td>\n",
       "      <td>-0.627605</td>\n",
       "      <td>-0.669845</td>\n",
       "      <td>-0.562442</td>\n",
       "      <td>-0.814464</td>\n",
       "    </tr>\n",
       "    <tr>\n",
       "      <th>VALUE</th>\n",
       "      <td>-0.434401</td>\n",
       "      <td>-1.779390</td>\n",
       "      <td>1.471687</td>\n",
       "      <td>-4.407035</td>\n",
       "      <td>-1.026731</td>\n",
       "      <td>0.326473</td>\n",
       "      <td>-0.602487</td>\n",
       "      <td>-3.589156</td>\n",
       "      <td>0.591669</td>\n",
       "      <td>-0.187806</td>\n",
       "      <td>...</td>\n",
       "      <td>-0.204983</td>\n",
       "      <td>-0.621601</td>\n",
       "      <td>-2.275938</td>\n",
       "      <td>-1.417229</td>\n",
       "      <td>-0.134084</td>\n",
       "      <td>-1.447181</td>\n",
       "      <td>-0.809580</td>\n",
       "      <td>-0.727625</td>\n",
       "      <td>-0.659716</td>\n",
       "      <td>-0.742287</td>\n",
       "    </tr>\n",
       "    <tr>\n",
       "      <th>VALUE</th>\n",
       "      <td>-0.700871</td>\n",
       "      <td>-1.586739</td>\n",
       "      <td>1.384012</td>\n",
       "      <td>-2.408802</td>\n",
       "      <td>0.082291</td>\n",
       "      <td>0.109722</td>\n",
       "      <td>-0.572143</td>\n",
       "      <td>-1.415818</td>\n",
       "      <td>0.576520</td>\n",
       "      <td>0.787149</td>\n",
       "      <td>...</td>\n",
       "      <td>0.035057</td>\n",
       "      <td>-0.603761</td>\n",
       "      <td>-2.322062</td>\n",
       "      <td>-1.593372</td>\n",
       "      <td>-0.101195</td>\n",
       "      <td>0.183775</td>\n",
       "      <td>-0.868510</td>\n",
       "      <td>-0.166346</td>\n",
       "      <td>-0.547396</td>\n",
       "      <td>-0.721662</td>\n",
       "    </tr>\n",
       "    <tr>\n",
       "      <th>VALUE</th>\n",
       "      <td>-0.260650</td>\n",
       "      <td>-1.182717</td>\n",
       "      <td>1.335324</td>\n",
       "      <td>-3.541777</td>\n",
       "      <td>-1.094086</td>\n",
       "      <td>0.426749</td>\n",
       "      <td>-0.391624</td>\n",
       "      <td>-3.103124</td>\n",
       "      <td>0.402727</td>\n",
       "      <td>0.474227</td>\n",
       "      <td>...</td>\n",
       "      <td>-0.396745</td>\n",
       "      <td>-0.733530</td>\n",
       "      <td>-1.607247</td>\n",
       "      <td>-1.423773</td>\n",
       "      <td>-0.114282</td>\n",
       "      <td>-0.726970</td>\n",
       "      <td>-0.730110</td>\n",
       "      <td>-0.739246</td>\n",
       "      <td>-1.010341</td>\n",
       "      <td>-0.846827</td>\n",
       "    </tr>\n",
       "    <tr>\n",
       "      <th>...</th>\n",
       "      <td>...</td>\n",
       "      <td>...</td>\n",
       "      <td>...</td>\n",
       "      <td>...</td>\n",
       "      <td>...</td>\n",
       "      <td>...</td>\n",
       "      <td>...</td>\n",
       "      <td>...</td>\n",
       "      <td>...</td>\n",
       "      <td>...</td>\n",
       "      <td>...</td>\n",
       "      <td>...</td>\n",
       "      <td>...</td>\n",
       "      <td>...</td>\n",
       "      <td>...</td>\n",
       "      <td>...</td>\n",
       "      <td>...</td>\n",
       "      <td>...</td>\n",
       "      <td>...</td>\n",
       "      <td>...</td>\n",
       "      <td>...</td>\n",
       "    </tr>\n",
       "    <tr>\n",
       "      <th>VALUE</th>\n",
       "      <td>-0.849401</td>\n",
       "      <td>-1.704188</td>\n",
       "      <td>1.258121</td>\n",
       "      <td>-3.291897</td>\n",
       "      <td>-0.940261</td>\n",
       "      <td>0.081012</td>\n",
       "      <td>-0.610622</td>\n",
       "      <td>-2.702150</td>\n",
       "      <td>0.458538</td>\n",
       "      <td>0.781526</td>\n",
       "      <td>...</td>\n",
       "      <td>-0.084094</td>\n",
       "      <td>-0.694373</td>\n",
       "      <td>-1.750953</td>\n",
       "      <td>-1.581935</td>\n",
       "      <td>0.257665</td>\n",
       "      <td>-1.039112</td>\n",
       "      <td>-0.704940</td>\n",
       "      <td>-0.658960</td>\n",
       "      <td>-0.523236</td>\n",
       "      <td>-0.792110</td>\n",
       "    </tr>\n",
       "    <tr>\n",
       "      <th>VALUE</th>\n",
       "      <td>-1.095159</td>\n",
       "      <td>-1.811575</td>\n",
       "      <td>1.403459</td>\n",
       "      <td>-2.535752</td>\n",
       "      <td>-0.406089</td>\n",
       "      <td>0.000447</td>\n",
       "      <td>-0.679938</td>\n",
       "      <td>-2.384535</td>\n",
       "      <td>0.662613</td>\n",
       "      <td>1.218111</td>\n",
       "      <td>...</td>\n",
       "      <td>-0.204615</td>\n",
       "      <td>-0.554988</td>\n",
       "      <td>-1.834644</td>\n",
       "      <td>-1.612957</td>\n",
       "      <td>0.286119</td>\n",
       "      <td>-1.180161</td>\n",
       "      <td>0.519697</td>\n",
       "      <td>-0.745760</td>\n",
       "      <td>-0.501697</td>\n",
       "      <td>-0.810299</td>\n",
       "    </tr>\n",
       "    <tr>\n",
       "      <th>VALUE</th>\n",
       "      <td>-1.464105</td>\n",
       "      <td>-2.018576</td>\n",
       "      <td>1.523334</td>\n",
       "      <td>-3.172166</td>\n",
       "      <td>-0.256080</td>\n",
       "      <td>0.373576</td>\n",
       "      <td>-0.635107</td>\n",
       "      <td>-2.487154</td>\n",
       "      <td>0.482363</td>\n",
       "      <td>0.923342</td>\n",
       "      <td>...</td>\n",
       "      <td>-0.082325</td>\n",
       "      <td>-0.701619</td>\n",
       "      <td>-2.009718</td>\n",
       "      <td>-1.720748</td>\n",
       "      <td>-0.314919</td>\n",
       "      <td>-1.789872</td>\n",
       "      <td>-0.669051</td>\n",
       "      <td>-0.583276</td>\n",
       "      <td>-0.446627</td>\n",
       "      <td>-0.845082</td>\n",
       "    </tr>\n",
       "    <tr>\n",
       "      <th>VALUE</th>\n",
       "      <td>-0.700562</td>\n",
       "      <td>-1.508051</td>\n",
       "      <td>1.556278</td>\n",
       "      <td>-4.315787</td>\n",
       "      <td>-1.884412</td>\n",
       "      <td>0.475398</td>\n",
       "      <td>-0.576680</td>\n",
       "      <td>-3.827294</td>\n",
       "      <td>0.632676</td>\n",
       "      <td>-0.362867</td>\n",
       "      <td>...</td>\n",
       "      <td>0.078660</td>\n",
       "      <td>-0.920747</td>\n",
       "      <td>-1.929514</td>\n",
       "      <td>-1.702724</td>\n",
       "      <td>0.049282</td>\n",
       "      <td>-1.007424</td>\n",
       "      <td>-0.663182</td>\n",
       "      <td>-0.437739</td>\n",
       "      <td>-0.386830</td>\n",
       "      <td>-0.713551</td>\n",
       "    </tr>\n",
       "    <tr>\n",
       "      <th>VALUE</th>\n",
       "      <td>-0.414108</td>\n",
       "      <td>-1.932599</td>\n",
       "      <td>1.311914</td>\n",
       "      <td>-4.301587</td>\n",
       "      <td>-1.323204</td>\n",
       "      <td>0.476292</td>\n",
       "      <td>-0.496884</td>\n",
       "      <td>-3.864762</td>\n",
       "      <td>0.606913</td>\n",
       "      <td>-0.280230</td>\n",
       "      <td>...</td>\n",
       "      <td>0.181879</td>\n",
       "      <td>-0.467513</td>\n",
       "      <td>-1.727289</td>\n",
       "      <td>-1.662486</td>\n",
       "      <td>-0.024255</td>\n",
       "      <td>-1.099350</td>\n",
       "      <td>-0.668666</td>\n",
       "      <td>-0.559509</td>\n",
       "      <td>-0.388331</td>\n",
       "      <td>-0.791472</td>\n",
       "    </tr>\n",
       "  </tbody>\n",
       "</table>\n",
       "<p>163 rows × 3547 columns</p>\n",
       "</div>"
      ],
      "text/plain": [
       "           0         1         2         3         4         5         6     \\\n",
       "VALUE  0.010494 -1.407409  1.475053 -3.202545 -0.559560  0.026980 -0.732104   \n",
       "VALUE -0.046461 -1.683871  1.405158 -3.574522 -0.319152  0.269934 -0.604729   \n",
       "VALUE -0.434401 -1.779390  1.471687 -4.407035 -1.026731  0.326473 -0.602487   \n",
       "VALUE -0.700871 -1.586739  1.384012 -2.408802  0.082291  0.109722 -0.572143   \n",
       "VALUE -0.260650 -1.182717  1.335324 -3.541777 -1.094086  0.426749 -0.391624   \n",
       "...         ...       ...       ...       ...       ...       ...       ...   \n",
       "VALUE -0.849401 -1.704188  1.258121 -3.291897 -0.940261  0.081012 -0.610622   \n",
       "VALUE -1.095159 -1.811575  1.403459 -2.535752 -0.406089  0.000447 -0.679938   \n",
       "VALUE -1.464105 -2.018576  1.523334 -3.172166 -0.256080  0.373576 -0.635107   \n",
       "VALUE -0.700562 -1.508051  1.556278 -4.315787 -1.884412  0.475398 -0.576680   \n",
       "VALUE -0.414108 -1.932599  1.311914 -4.301587 -1.323204  0.476292 -0.496884   \n",
       "\n",
       "           7         8         9     ...      3537      3538      3539  \\\n",
       "VALUE -3.151635  0.444564  0.677118  ... -0.189455 -0.671585 -1.955679   \n",
       "VALUE -3.084154  0.485789  0.328734  ... -0.032436 -0.611187 -2.025718   \n",
       "VALUE -3.589156  0.591669 -0.187806  ... -0.204983 -0.621601 -2.275938   \n",
       "VALUE -1.415818  0.576520  0.787149  ...  0.035057 -0.603761 -2.322062   \n",
       "VALUE -3.103124  0.402727  0.474227  ... -0.396745 -0.733530 -1.607247   \n",
       "...         ...       ...       ...  ...       ...       ...       ...   \n",
       "VALUE -2.702150  0.458538  0.781526  ... -0.084094 -0.694373 -1.750953   \n",
       "VALUE -2.384535  0.662613  1.218111  ... -0.204615 -0.554988 -1.834644   \n",
       "VALUE -2.487154  0.482363  0.923342  ... -0.082325 -0.701619 -2.009718   \n",
       "VALUE -3.827294  0.632676 -0.362867  ...  0.078660 -0.920747 -1.929514   \n",
       "VALUE -3.864762  0.606913 -0.280230  ...  0.181879 -0.467513 -1.727289   \n",
       "\n",
       "           3540      3541      3542      3543      3544      3545      3546  \n",
       "VALUE -1.516398  0.094447 -1.569766 -0.678858 -0.559935 -0.656613 -0.619179  \n",
       "VALUE -1.464776  0.274390 -1.174481 -0.627605 -0.669845 -0.562442 -0.814464  \n",
       "VALUE -1.417229 -0.134084 -1.447181 -0.809580 -0.727625 -0.659716 -0.742287  \n",
       "VALUE -1.593372 -0.101195  0.183775 -0.868510 -0.166346 -0.547396 -0.721662  \n",
       "VALUE -1.423773 -0.114282 -0.726970 -0.730110 -0.739246 -1.010341 -0.846827  \n",
       "...         ...       ...       ...       ...       ...       ...       ...  \n",
       "VALUE -1.581935  0.257665 -1.039112 -0.704940 -0.658960 -0.523236 -0.792110  \n",
       "VALUE -1.612957  0.286119 -1.180161  0.519697 -0.745760 -0.501697 -0.810299  \n",
       "VALUE -1.720748 -0.314919 -1.789872 -0.669051 -0.583276 -0.446627 -0.845082  \n",
       "VALUE -1.702724  0.049282 -1.007424 -0.663182 -0.437739 -0.386830 -0.713551  \n",
       "VALUE -1.662486 -0.024255 -1.099350 -0.668666 -0.559509 -0.388331 -0.791472  \n",
       "\n",
       "[163 rows x 3547 columns]"
      ]
     },
     "execution_count": 54,
     "metadata": {},
     "output_type": "execute_result"
    }
   ],
   "source": [
    "X"
   ]
  },
  {
   "cell_type": "code",
   "execution_count": 55,
   "metadata": {},
   "outputs": [],
   "source": [
    "X_healthy, X_cancer = X[controls == 1], X[sick == 1]"
   ]
  },
  {
   "cell_type": "code",
   "execution_count": 56,
   "metadata": {},
   "outputs": [],
   "source": [
    "results = ttest_ind(X_healthy, X_cancer).pvalue"
   ]
  },
  {
   "cell_type": "code",
   "execution_count": 57,
   "metadata": {},
   "outputs": [],
   "source": [
    "lowest, pvalues = np.argsort(results)[:5], np.sort(results)[:5]"
   ]
  },
  {
   "cell_type": "code",
   "execution_count": 58,
   "metadata": {},
   "outputs": [
    {
     "data": {
      "text/plain": [
       "(2280    148276\n",
       " 2958    168828\n",
       " 1016     42953\n",
       " 913      42823\n",
       " 1450    145988\n",
       " Name: ID_REF, dtype: int64,\n",
       " array([1.06819761e-05, 1.09182673e-05, 2.47977493e-05, 2.49944720e-05,\n",
       "        2.53269565e-05]))"
      ]
     },
     "execution_count": 58,
     "metadata": {},
     "output_type": "execute_result"
    }
   ],
   "source": [
    "mirnas.iloc[lowest], pvalues"
   ]
  },
  {
   "cell_type": "markdown",
   "metadata": {},
   "source": [
    "### F-test"
   ]
  },
  {
   "cell_type": "code",
   "execution_count": 59,
   "metadata": {},
   "outputs": [],
   "source": [
    "t3 = table"
   ]
  },
  {
   "cell_type": "code",
   "execution_count": 60,
   "metadata": {},
   "outputs": [],
   "source": [
    "f, p = f_classif(t3, sick)"
   ]
  },
  {
   "cell_type": "code",
   "execution_count": 61,
   "metadata": {},
   "outputs": [
    {
     "data": {
      "text/plain": [
       "0.39949717150584324"
      ]
     },
     "execution_count": 61,
     "metadata": {},
     "output_type": "execute_result"
    }
   ],
   "source": [
    "np.mean(p)"
   ]
  },
  {
   "cell_type": "markdown",
   "metadata": {},
   "source": [
    "### ANOVA"
   ]
  },
  {
   "cell_type": "code",
   "execution_count": 62,
   "metadata": {},
   "outputs": [
    {
     "data": {
      "text/html": [
       "<div>\n",
       "<style scoped>\n",
       "    .dataframe tbody tr th:only-of-type {\n",
       "        vertical-align: middle;\n",
       "    }\n",
       "\n",
       "    .dataframe tbody tr th {\n",
       "        vertical-align: top;\n",
       "    }\n",
       "\n",
       "    .dataframe thead th {\n",
       "        text-align: right;\n",
       "    }\n",
       "</style>\n",
       "<table border=\"1\" class=\"dataframe\">\n",
       "  <thead>\n",
       "    <tr style=\"text-align: right;\">\n",
       "      <th></th>\n",
       "      <th>0</th>\n",
       "      <th>1</th>\n",
       "      <th>2</th>\n",
       "      <th>3</th>\n",
       "      <th>4</th>\n",
       "      <th>5</th>\n",
       "      <th>6</th>\n",
       "      <th>7</th>\n",
       "      <th>8</th>\n",
       "      <th>9</th>\n",
       "      <th>...</th>\n",
       "      <th>3537</th>\n",
       "      <th>3538</th>\n",
       "      <th>3539</th>\n",
       "      <th>3540</th>\n",
       "      <th>3541</th>\n",
       "      <th>3542</th>\n",
       "      <th>3543</th>\n",
       "      <th>3544</th>\n",
       "      <th>3545</th>\n",
       "      <th>3546</th>\n",
       "    </tr>\n",
       "  </thead>\n",
       "  <tbody>\n",
       "    <tr>\n",
       "      <th>VALUE</th>\n",
       "      <td>0.010494</td>\n",
       "      <td>-1.407409</td>\n",
       "      <td>1.475053</td>\n",
       "      <td>-3.202545</td>\n",
       "      <td>-0.559560</td>\n",
       "      <td>0.026980</td>\n",
       "      <td>-0.732104</td>\n",
       "      <td>-3.151635</td>\n",
       "      <td>0.444564</td>\n",
       "      <td>0.677118</td>\n",
       "      <td>...</td>\n",
       "      <td>-0.189455</td>\n",
       "      <td>-0.671585</td>\n",
       "      <td>-1.955679</td>\n",
       "      <td>-1.516398</td>\n",
       "      <td>0.094447</td>\n",
       "      <td>-1.569766</td>\n",
       "      <td>-0.678858</td>\n",
       "      <td>-0.559935</td>\n",
       "      <td>-0.656613</td>\n",
       "      <td>-0.619179</td>\n",
       "    </tr>\n",
       "    <tr>\n",
       "      <th>VALUE</th>\n",
       "      <td>-0.046461</td>\n",
       "      <td>-1.683871</td>\n",
       "      <td>1.405158</td>\n",
       "      <td>-3.574522</td>\n",
       "      <td>-0.319152</td>\n",
       "      <td>0.269934</td>\n",
       "      <td>-0.604729</td>\n",
       "      <td>-3.084154</td>\n",
       "      <td>0.485789</td>\n",
       "      <td>0.328734</td>\n",
       "      <td>...</td>\n",
       "      <td>-0.032436</td>\n",
       "      <td>-0.611187</td>\n",
       "      <td>-2.025718</td>\n",
       "      <td>-1.464776</td>\n",
       "      <td>0.274390</td>\n",
       "      <td>-1.174481</td>\n",
       "      <td>-0.627605</td>\n",
       "      <td>-0.669845</td>\n",
       "      <td>-0.562442</td>\n",
       "      <td>-0.814464</td>\n",
       "    </tr>\n",
       "    <tr>\n",
       "      <th>VALUE</th>\n",
       "      <td>-0.434401</td>\n",
       "      <td>-1.779390</td>\n",
       "      <td>1.471687</td>\n",
       "      <td>-4.407035</td>\n",
       "      <td>-1.026731</td>\n",
       "      <td>0.326473</td>\n",
       "      <td>-0.602487</td>\n",
       "      <td>-3.589156</td>\n",
       "      <td>0.591669</td>\n",
       "      <td>-0.187806</td>\n",
       "      <td>...</td>\n",
       "      <td>-0.204983</td>\n",
       "      <td>-0.621601</td>\n",
       "      <td>-2.275938</td>\n",
       "      <td>-1.417229</td>\n",
       "      <td>-0.134084</td>\n",
       "      <td>-1.447181</td>\n",
       "      <td>-0.809580</td>\n",
       "      <td>-0.727625</td>\n",
       "      <td>-0.659716</td>\n",
       "      <td>-0.742287</td>\n",
       "    </tr>\n",
       "    <tr>\n",
       "      <th>VALUE</th>\n",
       "      <td>-0.700871</td>\n",
       "      <td>-1.586739</td>\n",
       "      <td>1.384012</td>\n",
       "      <td>-2.408802</td>\n",
       "      <td>0.082291</td>\n",
       "      <td>0.109722</td>\n",
       "      <td>-0.572143</td>\n",
       "      <td>-1.415818</td>\n",
       "      <td>0.576520</td>\n",
       "      <td>0.787149</td>\n",
       "      <td>...</td>\n",
       "      <td>0.035057</td>\n",
       "      <td>-0.603761</td>\n",
       "      <td>-2.322062</td>\n",
       "      <td>-1.593372</td>\n",
       "      <td>-0.101195</td>\n",
       "      <td>0.183775</td>\n",
       "      <td>-0.868510</td>\n",
       "      <td>-0.166346</td>\n",
       "      <td>-0.547396</td>\n",
       "      <td>-0.721662</td>\n",
       "    </tr>\n",
       "    <tr>\n",
       "      <th>VALUE</th>\n",
       "      <td>-0.260650</td>\n",
       "      <td>-1.182717</td>\n",
       "      <td>1.335324</td>\n",
       "      <td>-3.541777</td>\n",
       "      <td>-1.094086</td>\n",
       "      <td>0.426749</td>\n",
       "      <td>-0.391624</td>\n",
       "      <td>-3.103124</td>\n",
       "      <td>0.402727</td>\n",
       "      <td>0.474227</td>\n",
       "      <td>...</td>\n",
       "      <td>-0.396745</td>\n",
       "      <td>-0.733530</td>\n",
       "      <td>-1.607247</td>\n",
       "      <td>-1.423773</td>\n",
       "      <td>-0.114282</td>\n",
       "      <td>-0.726970</td>\n",
       "      <td>-0.730110</td>\n",
       "      <td>-0.739246</td>\n",
       "      <td>-1.010341</td>\n",
       "      <td>-0.846827</td>\n",
       "    </tr>\n",
       "    <tr>\n",
       "      <th>...</th>\n",
       "      <td>...</td>\n",
       "      <td>...</td>\n",
       "      <td>...</td>\n",
       "      <td>...</td>\n",
       "      <td>...</td>\n",
       "      <td>...</td>\n",
       "      <td>...</td>\n",
       "      <td>...</td>\n",
       "      <td>...</td>\n",
       "      <td>...</td>\n",
       "      <td>...</td>\n",
       "      <td>...</td>\n",
       "      <td>...</td>\n",
       "      <td>...</td>\n",
       "      <td>...</td>\n",
       "      <td>...</td>\n",
       "      <td>...</td>\n",
       "      <td>...</td>\n",
       "      <td>...</td>\n",
       "      <td>...</td>\n",
       "      <td>...</td>\n",
       "    </tr>\n",
       "    <tr>\n",
       "      <th>VALUE</th>\n",
       "      <td>-0.849401</td>\n",
       "      <td>-1.704188</td>\n",
       "      <td>1.258121</td>\n",
       "      <td>-3.291897</td>\n",
       "      <td>-0.940261</td>\n",
       "      <td>0.081012</td>\n",
       "      <td>-0.610622</td>\n",
       "      <td>-2.702150</td>\n",
       "      <td>0.458538</td>\n",
       "      <td>0.781526</td>\n",
       "      <td>...</td>\n",
       "      <td>-0.084094</td>\n",
       "      <td>-0.694373</td>\n",
       "      <td>-1.750953</td>\n",
       "      <td>-1.581935</td>\n",
       "      <td>0.257665</td>\n",
       "      <td>-1.039112</td>\n",
       "      <td>-0.704940</td>\n",
       "      <td>-0.658960</td>\n",
       "      <td>-0.523236</td>\n",
       "      <td>-0.792110</td>\n",
       "    </tr>\n",
       "    <tr>\n",
       "      <th>VALUE</th>\n",
       "      <td>-1.095159</td>\n",
       "      <td>-1.811575</td>\n",
       "      <td>1.403459</td>\n",
       "      <td>-2.535752</td>\n",
       "      <td>-0.406089</td>\n",
       "      <td>0.000447</td>\n",
       "      <td>-0.679938</td>\n",
       "      <td>-2.384535</td>\n",
       "      <td>0.662613</td>\n",
       "      <td>1.218111</td>\n",
       "      <td>...</td>\n",
       "      <td>-0.204615</td>\n",
       "      <td>-0.554988</td>\n",
       "      <td>-1.834644</td>\n",
       "      <td>-1.612957</td>\n",
       "      <td>0.286119</td>\n",
       "      <td>-1.180161</td>\n",
       "      <td>0.519697</td>\n",
       "      <td>-0.745760</td>\n",
       "      <td>-0.501697</td>\n",
       "      <td>-0.810299</td>\n",
       "    </tr>\n",
       "    <tr>\n",
       "      <th>VALUE</th>\n",
       "      <td>-1.464105</td>\n",
       "      <td>-2.018576</td>\n",
       "      <td>1.523334</td>\n",
       "      <td>-3.172166</td>\n",
       "      <td>-0.256080</td>\n",
       "      <td>0.373576</td>\n",
       "      <td>-0.635107</td>\n",
       "      <td>-2.487154</td>\n",
       "      <td>0.482363</td>\n",
       "      <td>0.923342</td>\n",
       "      <td>...</td>\n",
       "      <td>-0.082325</td>\n",
       "      <td>-0.701619</td>\n",
       "      <td>-2.009718</td>\n",
       "      <td>-1.720748</td>\n",
       "      <td>-0.314919</td>\n",
       "      <td>-1.789872</td>\n",
       "      <td>-0.669051</td>\n",
       "      <td>-0.583276</td>\n",
       "      <td>-0.446627</td>\n",
       "      <td>-0.845082</td>\n",
       "    </tr>\n",
       "    <tr>\n",
       "      <th>VALUE</th>\n",
       "      <td>-0.700562</td>\n",
       "      <td>-1.508051</td>\n",
       "      <td>1.556278</td>\n",
       "      <td>-4.315787</td>\n",
       "      <td>-1.884412</td>\n",
       "      <td>0.475398</td>\n",
       "      <td>-0.576680</td>\n",
       "      <td>-3.827294</td>\n",
       "      <td>0.632676</td>\n",
       "      <td>-0.362867</td>\n",
       "      <td>...</td>\n",
       "      <td>0.078660</td>\n",
       "      <td>-0.920747</td>\n",
       "      <td>-1.929514</td>\n",
       "      <td>-1.702724</td>\n",
       "      <td>0.049282</td>\n",
       "      <td>-1.007424</td>\n",
       "      <td>-0.663182</td>\n",
       "      <td>-0.437739</td>\n",
       "      <td>-0.386830</td>\n",
       "      <td>-0.713551</td>\n",
       "    </tr>\n",
       "    <tr>\n",
       "      <th>VALUE</th>\n",
       "      <td>-0.414108</td>\n",
       "      <td>-1.932599</td>\n",
       "      <td>1.311914</td>\n",
       "      <td>-4.301587</td>\n",
       "      <td>-1.323204</td>\n",
       "      <td>0.476292</td>\n",
       "      <td>-0.496884</td>\n",
       "      <td>-3.864762</td>\n",
       "      <td>0.606913</td>\n",
       "      <td>-0.280230</td>\n",
       "      <td>...</td>\n",
       "      <td>0.181879</td>\n",
       "      <td>-0.467513</td>\n",
       "      <td>-1.727289</td>\n",
       "      <td>-1.662486</td>\n",
       "      <td>-0.024255</td>\n",
       "      <td>-1.099350</td>\n",
       "      <td>-0.668666</td>\n",
       "      <td>-0.559509</td>\n",
       "      <td>-0.388331</td>\n",
       "      <td>-0.791472</td>\n",
       "    </tr>\n",
       "  </tbody>\n",
       "</table>\n",
       "<p>163 rows × 3547 columns</p>\n",
       "</div>"
      ],
      "text/plain": [
       "           0         1         2         3         4         5         6     \\\n",
       "VALUE  0.010494 -1.407409  1.475053 -3.202545 -0.559560  0.026980 -0.732104   \n",
       "VALUE -0.046461 -1.683871  1.405158 -3.574522 -0.319152  0.269934 -0.604729   \n",
       "VALUE -0.434401 -1.779390  1.471687 -4.407035 -1.026731  0.326473 -0.602487   \n",
       "VALUE -0.700871 -1.586739  1.384012 -2.408802  0.082291  0.109722 -0.572143   \n",
       "VALUE -0.260650 -1.182717  1.335324 -3.541777 -1.094086  0.426749 -0.391624   \n",
       "...         ...       ...       ...       ...       ...       ...       ...   \n",
       "VALUE -0.849401 -1.704188  1.258121 -3.291897 -0.940261  0.081012 -0.610622   \n",
       "VALUE -1.095159 -1.811575  1.403459 -2.535752 -0.406089  0.000447 -0.679938   \n",
       "VALUE -1.464105 -2.018576  1.523334 -3.172166 -0.256080  0.373576 -0.635107   \n",
       "VALUE -0.700562 -1.508051  1.556278 -4.315787 -1.884412  0.475398 -0.576680   \n",
       "VALUE -0.414108 -1.932599  1.311914 -4.301587 -1.323204  0.476292 -0.496884   \n",
       "\n",
       "           7         8         9     ...      3537      3538      3539  \\\n",
       "VALUE -3.151635  0.444564  0.677118  ... -0.189455 -0.671585 -1.955679   \n",
       "VALUE -3.084154  0.485789  0.328734  ... -0.032436 -0.611187 -2.025718   \n",
       "VALUE -3.589156  0.591669 -0.187806  ... -0.204983 -0.621601 -2.275938   \n",
       "VALUE -1.415818  0.576520  0.787149  ...  0.035057 -0.603761 -2.322062   \n",
       "VALUE -3.103124  0.402727  0.474227  ... -0.396745 -0.733530 -1.607247   \n",
       "...         ...       ...       ...  ...       ...       ...       ...   \n",
       "VALUE -2.702150  0.458538  0.781526  ... -0.084094 -0.694373 -1.750953   \n",
       "VALUE -2.384535  0.662613  1.218111  ... -0.204615 -0.554988 -1.834644   \n",
       "VALUE -2.487154  0.482363  0.923342  ... -0.082325 -0.701619 -2.009718   \n",
       "VALUE -3.827294  0.632676 -0.362867  ...  0.078660 -0.920747 -1.929514   \n",
       "VALUE -3.864762  0.606913 -0.280230  ...  0.181879 -0.467513 -1.727289   \n",
       "\n",
       "           3540      3541      3542      3543      3544      3545      3546  \n",
       "VALUE -1.516398  0.094447 -1.569766 -0.678858 -0.559935 -0.656613 -0.619179  \n",
       "VALUE -1.464776  0.274390 -1.174481 -0.627605 -0.669845 -0.562442 -0.814464  \n",
       "VALUE -1.417229 -0.134084 -1.447181 -0.809580 -0.727625 -0.659716 -0.742287  \n",
       "VALUE -1.593372 -0.101195  0.183775 -0.868510 -0.166346 -0.547396 -0.721662  \n",
       "VALUE -1.423773 -0.114282 -0.726970 -0.730110 -0.739246 -1.010341 -0.846827  \n",
       "...         ...       ...       ...       ...       ...       ...       ...  \n",
       "VALUE -1.581935  0.257665 -1.039112 -0.704940 -0.658960 -0.523236 -0.792110  \n",
       "VALUE -1.612957  0.286119 -1.180161  0.519697 -0.745760 -0.501697 -0.810299  \n",
       "VALUE -1.720748 -0.314919 -1.789872 -0.669051 -0.583276 -0.446627 -0.845082  \n",
       "VALUE -1.702724  0.049282 -1.007424 -0.663182 -0.437739 -0.386830 -0.713551  \n",
       "VALUE -1.662486 -0.024255 -1.099350 -0.668666 -0.559509 -0.388331 -0.791472  \n",
       "\n",
       "[163 rows x 3547 columns]"
      ]
     },
     "execution_count": 62,
     "metadata": {},
     "output_type": "execute_result"
    }
   ],
   "source": [
    "t3"
   ]
  },
  {
   "cell_type": "code",
   "execution_count": 63,
   "metadata": {},
   "outputs": [],
   "source": [
    "X = np.array(sick).reshape(-1, 1)"
   ]
  },
  {
   "cell_type": "code",
   "execution_count": 64,
   "metadata": {},
   "outputs": [
    {
     "data": {
      "text/plain": [
       "LinearRegression()"
      ]
     },
     "execution_count": 64,
     "metadata": {},
     "output_type": "execute_result"
    }
   ],
   "source": [
    "linreg = LinearRegression()\n",
    "linreg.fit(X, t3)"
   ]
  },
  {
   "cell_type": "code",
   "execution_count": 65,
   "metadata": {},
   "outputs": [
    {
     "data": {
      "text/plain": [
       "0.010860571135169809"
      ]
     },
     "execution_count": 65,
     "metadata": {},
     "output_type": "execute_result"
    }
   ],
   "source": [
    "fitted = linreg.predict(X)\n",
    "explained_variance_score(t3, fitted)"
   ]
  },
  {
   "cell_type": "markdown",
   "metadata": {},
   "source": [
    "### Mean-variance-plot"
   ]
  },
  {
   "cell_type": "code",
   "execution_count": 66,
   "metadata": {},
   "outputs": [
    {
     "data": {
      "text/plain": [
       "0      -0.604452\n",
       "1      -1.596269\n",
       "2       1.408494\n",
       "3      -3.739683\n",
       "4      -1.115383\n",
       "          ...   \n",
       "3542   -1.511151\n",
       "3543   -0.765627\n",
       "3544   -0.555159\n",
       "3545   -0.550201\n",
       "3546   -0.769894\n",
       "Length: 3547, dtype: float64"
      ]
     },
     "execution_count": 66,
     "metadata": {},
     "output_type": "execute_result"
    }
   ],
   "source": [
    "np.mean(table)"
   ]
  },
  {
   "cell_type": "code",
   "execution_count": 67,
   "metadata": {
    "tags": []
   },
   "outputs": [],
   "source": [
    "def get_means_and_variances(table):\n",
    "    return np.mean(table), np.var(table, ddof=1)"
   ]
  },
  {
   "cell_type": "code",
   "execution_count": 68,
   "metadata": {
    "tags": []
   },
   "outputs": [],
   "source": [
    "def mean_variance_plot(table):\n",
    "    means, variances = get_means_and_variances(table)\n",
    "    plt.scatter(means, variances)\n",
    "    plt.xlabel(\"mean\")\n",
    "    plt.ylabel(\"variance\")\n",
    "    plt.plot()"
   ]
  },
  {
   "cell_type": "code",
   "execution_count": 69,
   "metadata": {},
   "outputs": [
    {
     "data": {
      "image/png": "[encoded data removed]",
      "text/plain": [
       "<Figure size 432x288 with 1 Axes>"
      ]
     },
     "metadata": {
      "needs_background": "light"
     },
     "output_type": "display_data"
    }
   ],
   "source": [
    "mean_variance_plot(table)"
   ]
  },
  {
   "cell_type": "markdown",
   "metadata": {
    "tags": []
   },
   "source": [
    "### Log transformation"
   ]
  },
  {
   "cell_type": "code",
   "execution_count": 70,
   "metadata": {},
   "outputs": [],
   "source": [
    "log_table = table #np.log2(table)"
   ]
  },
  {
   "cell_type": "code",
   "execution_count": 71,
   "metadata": {},
   "outputs": [
    {
     "data": {
      "image/png": "[encoded data removed]",
      "text/plain": [
       "<Figure size 432x288 with 1 Axes>"
      ]
     },
     "metadata": {
      "needs_background": "light"
     },
     "output_type": "display_data"
    }
   ],
   "source": [
    "mean_variance_plot(log_table)"
   ]
  },
  {
   "cell_type": "code",
   "execution_count": 72,
   "metadata": {
    "tags": []
   },
   "outputs": [],
   "source": [
    "norm_log_table = log_table - np.mean(log_table)"
   ]
  },
  {
   "cell_type": "code",
   "execution_count": 73,
   "metadata": {},
   "outputs": [],
   "source": [
    "norm_log_table /= np.sqrt(np.mean(np.var(norm_log_table, ddof=1)))"
   ]
  },
  {
   "cell_type": "code",
   "execution_count": 74,
   "metadata": {},
   "outputs": [
    {
     "data": {
      "image/png": "[encoded data removed]",
      "text/plain": [
       "<Figure size 432x288 with 1 Axes>"
      ]
     },
     "metadata": {
      "needs_background": "light"
     },
     "output_type": "display_data"
    }
   ],
   "source": [
    "mean_variance_plot(norm_log_table)"
   ]
  },
  {
   "cell_type": "markdown",
   "metadata": {},
   "source": [
    "### PCA"
   ]
  },
  {
   "cell_type": "code",
   "execution_count": 75,
   "metadata": {
    "tags": []
   },
   "outputs": [],
   "source": [
    "pca = decomposition.PCA(n_components=10)"
   ]
  },
  {
   "cell_type": "code",
   "execution_count": 76,
   "metadata": {},
   "outputs": [
    {
     "data": {
      "text/plain": [
       "PCA(n_components=10)"
      ]
     },
     "execution_count": 76,
     "metadata": {},
     "output_type": "execute_result"
    }
   ],
   "source": [
    "pca.fit(norm_log_table)"
   ]
  },
  {
   "cell_type": "code",
   "execution_count": 77,
   "metadata": {},
   "outputs": [
    {
     "data": {
      "text/plain": [
       "array([0.118042  , 0.10529381, 0.08550708, 0.06696114, 0.05081276,\n",
       "       0.04746768, 0.03730284, 0.03182292, 0.0284573 , 0.02488633])"
      ]
     },
     "execution_count": 77,
     "metadata": {},
     "output_type": "execute_result"
    }
   ],
   "source": [
    "pca.explained_variance_ratio_"
   ]
  },
  {
   "cell_type": "code",
   "execution_count": 78,
   "metadata": {
    "tags": []
   },
   "outputs": [],
   "source": [
    "components = pca.transform(norm_log_table)"
   ]
  },
  {
   "cell_type": "code",
   "execution_count": 79,
   "metadata": {},
   "outputs": [
    {
     "data": {
      "text/plain": [
       "(163, 10)"
      ]
     },
     "execution_count": 79,
     "metadata": {},
     "output_type": "execute_result"
    }
   ],
   "source": [
    "components.shape"
   ]
  },
  {
   "cell_type": "code",
   "execution_count": 80,
   "metadata": {},
   "outputs": [
    {
     "data": {
      "text/plain": [
       "77"
      ]
     },
     "execution_count": 80,
     "metadata": {},
     "output_type": "execute_result"
    }
   ],
   "source": [
    "sum(controls)"
   ]
  },
  {
   "cell_type": "code",
   "execution_count": 81,
   "metadata": {},
   "outputs": [
    {
     "data": {
      "image/png": "[encoded data removed]",
      "text/plain": [
       "<Figure size 576x576 with 1 Axes>"
      ]
     },
     "metadata": {
      "needs_background": "light"
     },
     "output_type": "display_data"
    }
   ],
   "source": [
    "fig = plt.figure(figsize = (8,8))\n",
    "ax = fig.add_subplot(1,1,1)\n",
    "\n",
    "ax.set_xlabel('Principal Component 1', fontsize = 15)\n",
    "ax.set_ylabel('Principal Component 2', fontsize = 15)\n",
    "ax.set_title('2 component PCA', fontsize = 20)\n",
    "targets = ['Cancer', 'Healthy']\n",
    "colors = ['r', 'g']\n",
    "ax.scatter(components[controls == False, 0], components[controls == False, 1], c = 'r', s = 10)\n",
    "ax.scatter(components[controls == True, 0], components[controls == True, 1], c = 'g', s = 10)\n",
    "ax.legend(targets)\n",
    "ax.grid()"
   ]
  },
  {
   "cell_type": "code",
   "execution_count": 82,
   "metadata": {
    "tags": []
   },
   "outputs": [],
   "source": [
    "components2 = components[components[:,0] < 20, :]\n",
    "controls2 = controls[components[:,0] < 20]"
   ]
  },
  {
   "cell_type": "code",
   "execution_count": 83,
   "metadata": {},
   "outputs": [
    {
     "data": {
      "image/png": "[encoded data removed]",
      "text/plain": [
       "<Figure size 576x576 with 1 Axes>"
      ]
     },
     "metadata": {
      "needs_background": "light"
     },
     "output_type": "display_data"
    }
   ],
   "source": [
    "fig = plt.figure(figsize = (8,8))\n",
    "ax = fig.add_subplot(1,1,1)\n",
    "\n",
    "ax.set_xlabel('Principal Component 1', fontsize = 15)\n",
    "ax.set_ylabel('Principal Component 2', fontsize = 15)\n",
    "ax.set_title('2 component PCA', fontsize = 20)\n",
    "targets = ['Cancer', 'Healthy']\n",
    "colors = ['r', 'g']\n",
    "ax.scatter(components2[controls2 == False, 0], components2[controls2 == False, 1], c = 'r', s = 10)\n",
    "ax.scatter(components2[controls2 == True, 0], components2[controls2 == True, 1], c = 'g', s = 10)\n",
    "ax.legend(targets)\n",
    "ax.grid()"
   ]
  },
  {
   "cell_type": "markdown",
   "metadata": {},
   "source": [
    "### Linear regression adjustments"
   ]
  },
  {
   "cell_type": "code",
   "execution_count": 84,
   "metadata": {},
   "outputs": [
    {
     "data": {
      "text/plain": [
       "{'title': ['control highrisk 12'],\n",
       " 'geo_accession': ['GSM1000253'],\n",
       " 'status': ['Public on Sep 11 2012'],\n",
       " 'submission_date': ['Sep 10 2012'],\n",
       " 'last_update_date': ['Sep 11 2012'],\n",
       " 'type': ['RNA'],\n",
       " 'channel_count': ['2'],\n",
       " 'source_name_ch1': ['blood, no lung cancer or nodule, individual 115'],\n",
       " 'organism_ch1': ['Homo sapiens'],\n",
       " 'taxid_ch1': ['9606'],\n",
       " 'characteristics_ch1': ['tissue: blood',\n",
       "  'gender: male',\n",
       "  'age: 57 y',\n",
       "  'disease state: lung without lung cancer or non-cancerous nodule',\n",
       "  'lung disease: None (no current or past lung cancer or non-cancerous nodule)',\n",
       "  'individual: 115'],\n",
       " 'molecule_ch1': ['total RNA'],\n",
       " 'extract_protocol_ch1': ['Total RNA was isolated from blood collected and stored in PAXgene Blood RNA tubes using a PAXgene Blood miRNA kit at the Roswell Park Cancer Institute, Buffalo, NY, USA as per the protocol suggested by the manufacturer (Qiagen, Valencia, CA, USA). The human universal reference RNA was made by pooling contents of FirstChoice total RNA panel that is made of RNA from different tissues of multiple individuals (Ambion, Austin, TX, USA; catalog no. AM6000).'],\n",
       " 'label_ch1': ['Hy3'],\n",
       " 'label_protocol_ch1': ['RNA was labeled by Exiqon, Vedbaek, Denmark using the miRCURY LNA microRNA Power labeling kit. Five hundred ng of RNA, as quantified using Bioanalyzer (Agilent, Santa Clara, CA, USA), was used per labeling reaction with the Cy3-like Hy3 dye. A human universal reference RNA, made by pooling contents of FirstChoice total RNA panel (Ambion, Austin, TX, USA; catalog no. AM6000), was similarly labeled with the Cy5-like Hy5 dye. Sixty-two synthetic small RNAs were spiked-in to the RNA samples before labeling as per the kit protocol.'],\n",
       " 'source_name_ch2': ['Human universal reference RNA from Ambion'],\n",
       " 'organism_ch2': ['Homo sapiens'],\n",
       " 'taxid_ch2': ['9606'],\n",
       " 'characteristics_ch2': ['tissue: Multiple',\n",
       "  'gender: Mixed',\n",
       "  'sample type: Human universal reference RNA from Ambion'],\n",
       " 'molecule_ch2': ['total RNA'],\n",
       " 'extract_protocol_ch2': ['Total RNA was isolated from blood collected and stored in PAXgene Blood RNA tubes using a PAXgene Blood miRNA kit at the Roswell Park Cancer Institute, Buffalo, NY, USA as per the protocol suggested by the manufacturer (Qiagen, Valencia, CA, USA). The human universal reference RNA was made by pooling contents of FirstChoice total RNA panel that is made of RNA from different tissues of multiple individuals (Ambion, Austin, TX, USA; catalog no. AM6000).'],\n",
       " 'label_ch2': ['Hy5'],\n",
       " 'label_protocol_ch2': ['RNA was labeled by Exiqon, Vedbaek, Denmark using the miRCURY LNA microRNA Power labeling kit. Five hundred ng of RNA, as quantified using Bioanalyzer (Agilent, Santa Clara, CA, USA), was used per labeling reaction with the Cy3-like Hy3 dye. A human universal reference RNA, made by pooling contents of FirstChoice total RNA panel (Ambion, Austin, TX, USA; catalog no. AM6000), was similarly labeled with the Cy5-like Hy5 dye. Sixty-two synthetic small RNAs were spiked-in to the RNA samples before labeling as per the kit protocol.'],\n",
       " 'hyb_protocol': ['Hybridization of the mix of Hy3-labeled sample and Hy5-labeled reference RNAs to the arrays at 56 C for 16 hours followed by washing was performed by Exiqon (Vedbaek, Denmark) on an HS Pro instrument (Tecan, MÃ¤nnedorf, Switzerland). The seventh generation miRCURY LNA microRNA arrays (Exiqon, Vedbaek, Denmark) that were used have approx. 1892 locked nucleic acid oligonucleotide probes on quadruplicate 100 ÂµM-sized probe-spots (185 ÂµM inter-spot distance) to detect 20 human non-microRNA small RNAs (20 array probes), 25 Exion-proprietary human miRPlus microRNAs (25 probes) and 1916 human miRBase microRNA database microRNAs (1892 probes). Thirty of the 1892+25=1917 probes recognize a total of 72 multiple microRNAs (2-6 per probe). Some of the microRNAs recognized by the 30 are also recognized by other, one-microRNA-specific probes. The array also has probes for viral, mouse and rat microRNAs.'],\n",
       " 'scan_protocol': ['Arrays were scanned, after hybridization and washing, using the G2505B scanning system (Agilent, Santa Clara, CA, USA) by Exiqon (Vedbaek, Denmark).'],\n",
       " 'description': ['files with prefix 1_ are for Hy3 (Cy3) signals and 2_ for Hy5'],\n",
       " 'data_processing': [\"Array data processing was done in R (version 2.14.1) using the limma (version 3.10.2) Bioconductor package. The 'normexp' method with offset=10 was used for background-correction, and followed with within-array global 'loess' normalization, with span=1/3 and values from probe-spots with flag-values >1 ignored, and then, between-array 'quantile' normalization. For probe-set summarization, the median of the values from multiple spots was used when the ratio of the maximum and minimum values was >1.5; else, the mean was used.\"],\n",
       " 'platform_id': ['GPL16016'],\n",
       " 'contact_name': ['Santosh,Kumar,Patnaik'],\n",
       " 'contact_phone': ['716-8458364'],\n",
       " 'contact_department': ['Thoracic Surgery'],\n",
       " 'contact_institute': ['Roswell Park Comprehensive Cancer Center'],\n",
       " 'contact_address': ['Elm and Carlton Streets'],\n",
       " 'contact_city': ['Buffalo'],\n",
       " 'contact_state': ['NY'],\n",
       " 'contact_zip/postal_code': ['14263'],\n",
       " 'contact_country': ['USA'],\n",
       " 'supplementary_file': ['ftp://ftp.ncbi.nlm.nih.gov/geo/samples/GSM1000nnn/GSM1000253/suppl/GSM1000253_0_Hy5_Exiqon_19705785_S01.txt.gz',\n",
       "  'ftp://ftp.ncbi.nlm.nih.gov/geo/samples/GSM1000nnn/GSM1000253/suppl/GSM1000253_1_Hy3_Exiqon_19705785_S01.txt.gz'],\n",
       " 'series_id': ['GSE40738'],\n",
       " 'data_row_count': ['3547']}"
      ]
     },
     "execution_count": 84,
     "metadata": {},
     "output_type": "execute_result"
    }
   ],
   "source": [
    "gsm_list[30].metadata"
   ]
  },
  {
   "cell_type": "code",
   "execution_count": 85,
   "metadata": {},
   "outputs": [],
   "source": [
    "sex = np.array([\"female\" in k.metadata[\"characteristics_ch1\"][2] if \"gender\" in k.metadata[\"characteristics_ch1\"][2] else \"female\" in k.metadata[\"characteristics_ch1\"][1] for k in gsm_list])\n",
    "age = np.array([float(k.metadata[\"characteristics_ch1\"][3].split(\" \")[1].replace(\"NA\", \"NaN\")) if \"age\" in k.metadata[\"characteristics_ch1\"][3] else float(k.metadata[\"characteristics_ch1\"][2].split(\" \")[1].replace(\"NA\", \"NaN\")) for k in gsm_list])"
   ]
  },
  {
   "cell_type": "code",
   "execution_count": 86,
   "metadata": {},
   "outputs": [],
   "source": [
    "covars = pd.DataFrame(np.array([sex, age]).transpose(), columns=[\"sex\", \"age\"])"
   ]
  },
  {
   "cell_type": "code",
   "execution_count": 87,
   "metadata": {},
   "outputs": [],
   "source": [
    "covars = covars.fillna(covars.mean())"
   ]
  },
  {
   "cell_type": "code",
   "execution_count": 88,
   "metadata": {},
   "outputs": [
    {
     "data": {
      "text/plain": [
       "LinearRegression()"
      ]
     },
     "execution_count": 88,
     "metadata": {},
     "output_type": "execute_result"
    }
   ],
   "source": [
    "linreg = LinearRegression()\n",
    "linreg.fit(covars, norm_log_table)"
   ]
  },
  {
   "cell_type": "code",
   "execution_count": 89,
   "metadata": {},
   "outputs": [],
   "source": [
    "adj_norm_log_table = norm_log_table - linreg.predict(covars)"
   ]
  },
  {
   "cell_type": "markdown",
   "metadata": {
    "tags": []
   },
   "source": [
    "# PCA"
   ]
  },
  {
   "cell_type": "code",
   "execution_count": 90,
   "metadata": {
    "tags": []
   },
   "outputs": [],
   "source": [
    "pca = decomposition.PCA(n_components=2)"
   ]
  },
  {
   "cell_type": "code",
   "execution_count": 91,
   "metadata": {},
   "outputs": [
    {
     "data": {
      "text/plain": [
       "PCA(n_components=2)"
      ]
     },
     "execution_count": 91,
     "metadata": {},
     "output_type": "execute_result"
    }
   ],
   "source": [
    "pca.fit(adj_norm_log_table)"
   ]
  },
  {
   "cell_type": "code",
   "execution_count": 92,
   "metadata": {
    "tags": []
   },
   "outputs": [],
   "source": [
    "components = pca.transform(adj_norm_log_table)"
   ]
  },
  {
   "cell_type": "code",
   "execution_count": 93,
   "metadata": {},
   "outputs": [
    {
     "data": {
      "text/plain": [
       "array([[ 12.61847771, -10.24477748],\n",
       "       [ 18.96302733, -14.8361086 ],\n",
       "       [ -0.2903837 ,   3.955851  ],\n",
       "       [ 53.66552444,  10.31294522],\n",
       "       [  7.9117214 ,   9.78385621],\n",
       "       [  2.93974548, -34.55521389],\n",
       "       [  0.8445088 , -21.47601674],\n",
       "       [ 17.82534988, -33.2518731 ],\n",
       "       [ 36.94190925,   6.84249542],\n",
       "       [ 21.2913773 ,  -5.18159097],\n",
       "       [ 29.69554182, -14.85708369],\n",
       "       [  9.68763692, -14.67155476],\n",
       "       [ 22.13043721,  -2.82610781],\n",
       "       [ 12.05317218,  18.3216687 ],\n",
       "       [ -4.2345321 , -35.28171402],\n",
       "       [ 32.87394016,  -8.82927715],\n",
       "       [  5.71375321,   5.72484624],\n",
       "       [  7.28830905, -24.22810741],\n",
       "       [  5.28972485, -24.49321107],\n",
       "       [ 10.95200127,   1.1086683 ],\n",
       "       [ 22.39439697,   8.07700344],\n",
       "       [ 18.20620724,   4.2349582 ],\n",
       "       [ 19.04377337,  29.15249394],\n",
       "       [  9.19912958,  25.7465161 ],\n",
       "       [ 18.09402561, -26.20553226],\n",
       "       [ 38.62877966,   4.56647195],\n",
       "       [ 38.5913592 ,  53.98595942],\n",
       "       [ 26.67255127, -15.0521389 ],\n",
       "       [ 19.60701156, -26.42243801],\n",
       "       [ 21.07505369, -14.3450118 ],\n",
       "       [ 38.02048763,  -8.11768897],\n",
       "       [ 25.77343841,   4.78446069],\n",
       "       [ 36.80599898,   0.87799929],\n",
       "       [ 29.45795187, -16.37041585],\n",
       "       [  8.83094182,  18.89173888],\n",
       "       [-40.56589876, -44.502048  ],\n",
       "       [ -0.77512888,  -8.59542533],\n",
       "       [  8.55312519,  -9.58772165],\n",
       "       [ -0.71284161,  -9.92172367],\n",
       "       [ 13.86585731,  -5.03276811],\n",
       "       [  4.981204  , -16.19615844],\n",
       "       [ -6.17993729, -18.61864767],\n",
       "       [ 26.77589518,  -2.84112278],\n",
       "       [  6.40185684,   3.75264814],\n",
       "       [  5.61987804, -11.54054109],\n",
       "       [  8.83985507, -17.7720999 ],\n",
       "       [ 24.5588484 ,  19.38761719],\n",
       "       [ -6.43189263, -23.87604971],\n",
       "       [ 17.04049426,  -9.0862441 ],\n",
       "       [ 13.50913708, -20.89511871],\n",
       "       [ 32.71464338,  30.00473349],\n",
       "       [  2.71012551,  23.05210102],\n",
       "       [ 31.06163619,  14.30635666],\n",
       "       [ 30.52273595, -22.34996018],\n",
       "       [  9.73925935,  -7.09967486],\n",
       "       [ -9.99729984,  32.49500273],\n",
       "       [ -0.6830646 , -17.57643596],\n",
       "       [-25.01267368,  -9.92640254],\n",
       "       [ -9.99735996, -14.53397419],\n",
       "       [-23.90446436,  -6.17950551],\n",
       "       [-50.44764008,   6.37139326],\n",
       "       [-26.4095381 , -32.71943218],\n",
       "       [ -4.82181093,   2.59848543],\n",
       "       [ -8.66808533,  11.34705892],\n",
       "       [ 10.53132737,  21.82061351],\n",
       "       [-27.13809008,   6.91062738],\n",
       "       [-22.71061878, -22.25383131],\n",
       "       [-24.40676846,  34.26539877],\n",
       "       [ -7.08049528,  -1.96389871],\n",
       "       [-16.1469419 ,  -4.98947612],\n",
       "       [ 12.59058809,  -4.25055523],\n",
       "       [ -8.90554394,  21.48713975],\n",
       "       [  4.06971378,  17.59444598],\n",
       "       [  3.6895974 ,  -1.51542904],\n",
       "       [-34.52379967,  -0.91043242],\n",
       "       [ -6.84213368,  -4.24630439],\n",
       "       [  4.00043862, -10.64342709],\n",
       "       [ -4.07618289,  11.84012211],\n",
       "       [-19.90161958,  -0.90859754],\n",
       "       [-34.36221252,  29.29091913],\n",
       "       [  0.64695793,  34.50996379],\n",
       "       [ -7.87206387,  28.17967509],\n",
       "       [ -9.15380405,   6.83907477],\n",
       "       [-21.50053321,  -6.57913837],\n",
       "       [  1.15780911,  48.26894621],\n",
       "       [  9.77556788,  -1.63854903],\n",
       "       [ -3.95610023,   1.89042828],\n",
       "       [-22.58729155,  -6.50989388],\n",
       "       [  3.73525278,  50.34496232],\n",
       "       [-21.31153958, -21.42483695],\n",
       "       [-12.5318318 ,  13.41861441],\n",
       "       [  2.8597511 , -19.56825944],\n",
       "       [ -6.10751404, -19.59970157],\n",
       "       [ -4.39871541,   7.97557402],\n",
       "       [ -5.24064102,   3.79386544],\n",
       "       [-26.96325788,  -0.21697449],\n",
       "       [-24.75815653,  32.43844167],\n",
       "       [-23.43620684,  30.00480654],\n",
       "       [-16.16610449, -24.36344621],\n",
       "       [  5.21914795,  46.40832316],\n",
       "       [ 17.24611943,  19.51114018],\n",
       "       [-41.48464281,  18.79729044],\n",
       "       [-33.50783516,   4.94136838],\n",
       "       [ -4.39535599, -17.12487481],\n",
       "       [-15.37096539, -12.7263934 ],\n",
       "       [-25.57569339,  -9.19722736],\n",
       "       [-13.38909983,   8.1811794 ],\n",
       "       [ 20.33704722,   4.64421763],\n",
       "       [ 43.49268492,   7.08790092],\n",
       "       [ -5.0484399 ,   8.33999323],\n",
       "       [ -8.8242039 ,   1.26516715],\n",
       "       [  1.97850264,  -4.49549703],\n",
       "       [  7.38551404, -35.57151902],\n",
       "       [  5.90445159,  -0.22873759],\n",
       "       [  3.98723434,  38.66282858],\n",
       "       [-21.02320058,  17.6325574 ],\n",
       "       [ 19.53520313,  -2.62629471],\n",
       "       [  4.59103145,  -0.54675484],\n",
       "       [-25.51923357,  44.58848211],\n",
       "       [ -6.94643085,   2.4840088 ],\n",
       "       [ -0.61586302,   0.23404247],\n",
       "       [-15.52513561,   4.57216033],\n",
       "       [-19.35815473,  -2.66995267],\n",
       "       [  9.88672939,  -7.12479965],\n",
       "       [-16.03155495,  19.78090827],\n",
       "       [ -1.24527658,  14.25086075],\n",
       "       [-45.10362227, -27.7198333 ],\n",
       "       [ -3.31594073,  17.95517322],\n",
       "       [-12.87531849,  -8.42556309],\n",
       "       [-25.01948909,   4.20182159],\n",
       "       [ -1.20854445,  -6.90854839],\n",
       "       [-22.50447694,   4.47422861],\n",
       "       [ -7.21970177,  17.22608151],\n",
       "       [  2.98482068,  -3.72252162],\n",
       "       [-44.45237105,   8.86702289],\n",
       "       [-18.14790312,  25.04654129],\n",
       "       [-20.91361938,  17.16271451],\n",
       "       [ 13.21953644,  -3.08033552],\n",
       "       [ -9.67834381,  37.97393112],\n",
       "       [ -9.84446839,  -1.93407813],\n",
       "       [  3.25014839,   9.62279796],\n",
       "       [ -4.63685581,  12.34987502],\n",
       "       [-32.05220787,  23.13425942],\n",
       "       [ 23.20613982, -16.03043007],\n",
       "       [-21.38353773, -20.19378336],\n",
       "       [ 13.23298004,  42.89378481],\n",
       "       [-11.49093161, -24.27753278],\n",
       "       [-12.18725914, -28.15540885],\n",
       "       [-39.0132972 , -27.87506898],\n",
       "       [-26.27296663,  -3.4157908 ],\n",
       "       [-10.49147498, -24.37355639],\n",
       "       [  1.94283943, -15.77386155],\n",
       "       [-16.46193971,  -2.28178691],\n",
       "       [ 10.61666007,  -4.80770309],\n",
       "       [ 41.18415162,  -9.15131386],\n",
       "       [ 25.90917316,   1.94326122],\n",
       "       [  2.6711057 , -13.65694009],\n",
       "       [ -8.52434126, -18.41069985],\n",
       "       [ 14.33968931, -14.7206021 ],\n",
       "       [ 39.80236803, -14.73907031],\n",
       "       [ 32.29421413,  -5.67871518],\n",
       "       [-31.36871497,  -9.40297976],\n",
       "       [-14.01718206, -26.06302753]])"
      ]
     },
     "execution_count": 93,
     "metadata": {},
     "output_type": "execute_result"
    }
   ],
   "source": [
    "components"
   ]
  },
  {
   "cell_type": "code",
   "execution_count": 94,
   "metadata": {},
   "outputs": [
    {
     "data": {
      "image/png": "[encoded data removed]",
      "text/plain": [
       "<Figure size 576x576 with 1 Axes>"
      ]
     },
     "metadata": {
      "needs_background": "light"
     },
     "output_type": "display_data"
    }
   ],
   "source": [
    "fig = plt.figure(figsize = (8,8))\n",
    "ax = fig.add_subplot(1,1,1)\n",
    "\n",
    "ax.set_xlabel('Principal Component 1', fontsize = 15)\n",
    "ax.set_ylabel('Principal Component 2', fontsize = 15)\n",
    "ax.set_title('2 component PCA', fontsize = 20)\n",
    "targets = ['Cancer', 'Healthy']\n",
    "colors = ['r', 'g']\n",
    "ax.scatter(components[controls == False, 0], components[controls == False, 1], c = 'r', s = 10)\n",
    "ax.scatter(components[controls == True, 0], components[controls == True, 1], c = 'g', s = 10)\n",
    "ax.legend(targets)\n",
    "ax.grid()"
   ]
  },
  {
   "cell_type": "markdown",
   "metadata": {},
   "source": [
    "### Logistic Regression"
   ]
  },
  {
   "cell_type": "code",
   "execution_count": 95,
   "metadata": {},
   "outputs": [],
   "source": [
    "X_train, X_test, y_train, y_test = train_test_split(adj_norm_log_table, controls, test_size=0.33, random_state=42)"
   ]
  },
  {
   "cell_type": "code",
   "execution_count": 96,
   "metadata": {},
   "outputs": [
    {
     "data": {
      "text/plain": [
       "LogisticRegression()"
      ]
     },
     "execution_count": 96,
     "metadata": {},
     "output_type": "execute_result"
    }
   ],
   "source": [
    "model = LogisticRegression()\n",
    "model.fit(X_train, y_train)"
   ]
  },
  {
   "cell_type": "code",
   "execution_count": 97,
   "metadata": {},
   "outputs": [
    {
     "name": "stderr",
     "output_type": "stream",
     "text": [
      "C:\\Users\\olefr\\AppData\\Local\\Programs\\Python\\Python310\\lib\\site-packages\\sklearn\\utils\\deprecation.py:87: FutureWarning: Function plot_roc_curve is deprecated; Function :func:`plot_roc_curve` is deprecated in 1.0 and will be removed in 1.2. Use one of the class methods: :meth:`sklearn.metric.RocCurveDisplay.from_predictions` or :meth:`sklearn.metric.RocCurveDisplay.from_estimator`.\n",
      "  warnings.warn(msg, category=FutureWarning)\n"
     ]
    },
    {
     "data": {
      "text/plain": [
       "<sklearn.metrics._plot.roc_curve.RocCurveDisplay at 0x1ac0685ea70>"
      ]
     },
     "execution_count": 97,
     "metadata": {},
     "output_type": "execute_result"
    },
    {
     "data": {
      "image/png": "[encoded data removed]",
      "text/plain": [
       "<Figure size 432x288 with 1 Axes>"
      ]
     },
     "metadata": {
      "needs_background": "light"
     },
     "output_type": "display_data"
    }
   ],
   "source": [
    "plot_roc_curve(model, X_test, y_test)"
   ]
  },
  {
   "cell_type": "markdown",
   "metadata": {
    "jupyter": {
     "outputs_hidden": true
    }
   },
   "source": [
    "### XGBoost"
   ]
  },
  {
   "cell_type": "code",
   "execution_count": 98,
   "metadata": {},
   "outputs": [
    {
     "name": "stdout",
     "output_type": "stream",
     "text": [
      "[20:07:09] WARNING: C:/Users/Administrator/workspace/xgboost-win64_release_1.5.1/src/learner.cc:1115: Starting in XGBoost 1.3.0, the default evaluation metric used with the objective 'binary:logistic' was changed from 'error' to 'logloss'. Explicitly set eval_metric if you'd like to restore the old behavior.\n"
     ]
    },
    {
     "data": {
      "text/plain": [
       "XGBClassifier(base_score=0.5, booster='gbtree', colsample_bylevel=1,\n",
       "              colsample_bynode=1, colsample_bytree=1, enable_categorical=False,\n",
       "              gamma=0, gpu_id=-1, importance_type=None,\n",
       "              interaction_constraints='', learning_rate=0.300000012,\n",
       "              max_delta_step=0, max_depth=6, min_child_weight=1, missing=nan,\n",
       "              monotone_constraints='()', n_estimators=100, n_jobs=16,\n",
       "              num_parallel_tree=1, predictor='auto', random_state=0,\n",
       "              reg_alpha=0, reg_lambda=1, scale_pos_weight=1, subsample=1,\n",
       "              tree_method='exact', use_label_encoder=False,\n",
       "              validate_parameters=1, verbosity=None)"
      ]
     },
     "execution_count": 98,
     "metadata": {},
     "output_type": "execute_result"
    }
   ],
   "source": [
    "model = XGBClassifier(use_label_encoder=False)\n",
    "model.fit(X_train, y_train)"
   ]
  },
  {
   "cell_type": "code",
   "execution_count": 99,
   "metadata": {},
   "outputs": [
    {
     "name": "stderr",
     "output_type": "stream",
     "text": [
      "C:\\Users\\olefr\\AppData\\Local\\Programs\\Python\\Python310\\lib\\site-packages\\sklearn\\utils\\deprecation.py:87: FutureWarning: Function plot_roc_curve is deprecated; Function :func:`plot_roc_curve` is deprecated in 1.0 and will be removed in 1.2. Use one of the class methods: :meth:`sklearn.metric.RocCurveDisplay.from_predictions` or :meth:`sklearn.metric.RocCurveDisplay.from_estimator`.\n",
      "  warnings.warn(msg, category=FutureWarning)\n"
     ]
    },
    {
     "data": {
      "text/plain": [
       "<sklearn.metrics._plot.roc_curve.RocCurveDisplay at 0x1ac061a3a30>"
      ]
     },
     "execution_count": 99,
     "metadata": {},
     "output_type": "execute_result"
    },
    {
     "data": {
      "image/png": "[encoded data removed]",
      "text/plain": [
       "<Figure size 432x288 with 1 Axes>"
      ]
     },
     "metadata": {
      "needs_background": "light"
     },
     "output_type": "display_data"
    }
   ],
   "source": [
    "plot_roc_curve(model, X_test, y_test)"
   ]
  },
  {
   "cell_type": "markdown",
   "metadata": {},
   "source": [
    "### Export data"
   ]
  },
  {
   "cell_type": "code",
   "execution_count": 100,
   "metadata": {},
   "outputs": [],
   "source": [
    "lookup_table = data.gpls[\"GPL16016\"].table"
   ]
  },
  {
   "cell_type": "code",
   "execution_count": 101,
   "metadata": {},
   "outputs": [],
   "source": [
    "lookup_table = lookup_table.set_index(\"ID\")"
   ]
  },
  {
   "cell_type": "code",
   "execution_count": 102,
   "metadata": {},
   "outputs": [
    {
     "data": {
      "text/html": [
       "<div>\n",
       "<style scoped>\n",
       "    .dataframe tbody tr th:only-of-type {\n",
       "        vertical-align: middle;\n",
       "    }\n",
       "\n",
       "    .dataframe tbody tr th {\n",
       "        vertical-align: top;\n",
       "    }\n",
       "\n",
       "    .dataframe thead th {\n",
       "        text-align: right;\n",
       "    }\n",
       "</style>\n",
       "<table border=\"1\" class=\"dataframe\">\n",
       "  <thead>\n",
       "    <tr style=\"text-align: right;\">\n",
       "      <th></th>\n",
       "      <th>Name</th>\n",
       "      <th>miRNA_ID_LIST</th>\n",
       "      <th>Database</th>\n",
       "      <th>SPOT_ID</th>\n",
       "    </tr>\n",
       "    <tr>\n",
       "      <th>ID</th>\n",
       "      <th></th>\n",
       "      <th></th>\n",
       "      <th></th>\n",
       "      <th></th>\n",
       "    </tr>\n",
       "  </thead>\n",
       "  <tbody>\n",
       "    <tr>\n",
       "      <th>46202</th>\n",
       "      <td>5S_rRNA</td>\n",
       "      <td>NaN</td>\n",
       "      <td>NaN</td>\n",
       "      <td>5S_rRNA</td>\n",
       "    </tr>\n",
       "    <tr>\n",
       "      <th>146014</th>\n",
       "      <td>bkv-miR-B1-3p/jcv-miR-J1-3p</td>\n",
       "      <td>bkv-miR-B1-3p,jcv-miR-J1-3p</td>\n",
       "      <td>miRBase 18.0</td>\n",
       "      <td>NaN</td>\n",
       "    </tr>\n",
       "    <tr>\n",
       "      <th>146185</th>\n",
       "      <td>bkv-miR-B1-5p</td>\n",
       "      <td>bkv-miR-B1-5p</td>\n",
       "      <td>miRBase 18.0</td>\n",
       "      <td>NaN</td>\n",
       "    </tr>\n",
       "    <tr>\n",
       "      <th>17415</th>\n",
       "      <td>ebv-miR-BART10</td>\n",
       "      <td>ebv-miR-BART10</td>\n",
       "      <td>miRBase 18.0</td>\n",
       "      <td>NaN</td>\n",
       "    </tr>\n",
       "    <tr>\n",
       "      <th>42485</th>\n",
       "      <td>ebv-miR-BART10*</td>\n",
       "      <td>ebv-miR-BART10*</td>\n",
       "      <td>miRBase 18.0</td>\n",
       "      <td>NaN</td>\n",
       "    </tr>\n",
       "  </tbody>\n",
       "</table>\n",
       "</div>"
      ],
      "text/plain": [
       "                               Name                miRNA_ID_LIST  \\\n",
       "ID                                                                 \n",
       "46202                       5S_rRNA                          NaN   \n",
       "146014  bkv-miR-B1-3p/jcv-miR-J1-3p  bkv-miR-B1-3p,jcv-miR-J1-3p   \n",
       "146185                bkv-miR-B1-5p                bkv-miR-B1-5p   \n",
       "17415                ebv-miR-BART10               ebv-miR-BART10   \n",
       "42485               ebv-miR-BART10*              ebv-miR-BART10*   \n",
       "\n",
       "            Database  SPOT_ID  \n",
       "ID                             \n",
       "46202            NaN  5S_rRNA  \n",
       "146014  miRBase 18.0      NaN  \n",
       "146185  miRBase 18.0      NaN  \n",
       "17415   miRBase 18.0      NaN  \n",
       "42485   miRBase 18.0      NaN  "
      ]
     },
     "execution_count": 102,
     "metadata": {},
     "output_type": "execute_result"
    }
   ],
   "source": [
    "lookup_table.head()"
   ]
  },
  {
   "cell_type": "code",
   "execution_count": 103,
   "metadata": {},
   "outputs": [],
   "source": [
    "mirbase = lookup_table.loc[mirnas][\"miRNA_ID_LIST\"]"
   ]
  },
  {
   "cell_type": "code",
   "execution_count": 104,
   "metadata": {},
   "outputs": [],
   "source": [
    "from Scripts import converters"
   ]
  },
  {
   "cell_type": "code",
   "execution_count": 105,
   "metadata": {},
   "outputs": [],
   "source": [
    "mask = mirbase.notna().to_numpy()\n",
    "mirbase = mirbase[mask]\n",
    "adj_norm_log_table = adj_norm_log_table.loc[:, mask]"
   ]
  },
  {
   "cell_type": "code",
   "execution_count": 106,
   "metadata": {},
   "outputs": [],
   "source": [
    "mirbase = [m.split(\",\")[0] for m in mirbase]"
   ]
  },
  {
   "cell_type": "code",
   "execution_count": 107,
   "metadata": {},
   "outputs": [],
   "source": [
    "sequences = converters.canonical_to_seq(mirbase, True)"
   ]
  },
  {
   "cell_type": "code",
   "execution_count": 108,
   "metadata": {},
   "outputs": [
    {
     "data": {
      "text/plain": [
       "37"
      ]
     },
     "execution_count": 108,
     "metadata": {},
     "output_type": "execute_result"
    }
   ],
   "source": [
    "sequences.count(None)"
   ]
  },
  {
   "cell_type": "code",
   "execution_count": 109,
   "metadata": {},
   "outputs": [],
   "source": [
    "sequences = np.array(sequences)\n",
    "mask = sequences != None\n",
    "sequences = sequences[mask]\n",
    "adj_norm_log_table = adj_norm_log_table.loc[:, mask]\n",
    "#adj_norm_log_table /= adj_norm_log_table.var().mean()**0.5"
   ]
  },
  {
   "cell_type": "code",
   "execution_count": 110,
   "metadata": {},
   "outputs": [
    {
     "data": {
      "text/html": [
       "<div>\n",
       "<style scoped>\n",
       "    .dataframe tbody tr th:only-of-type {\n",
       "        vertical-align: middle;\n",
       "    }\n",
       "\n",
       "    .dataframe tbody tr th {\n",
       "        vertical-align: top;\n",
       "    }\n",
       "\n",
       "    .dataframe thead th {\n",
       "        text-align: right;\n",
       "    }\n",
       "</style>\n",
       "<table border=\"1\" class=\"dataframe\">\n",
       "  <thead>\n",
       "    <tr style=\"text-align: right;\">\n",
       "      <th></th>\n",
       "      <th>UCUUUGGUUAUCUAGCUGUAUGA</th>\n",
       "      <th>UGGAAGACUUGUGAUUUUGUUGUU</th>\n",
       "      <th>UCGUACCGUGAGUAAUAAUGCG</th>\n",
       "      <th>CAGUGGUUUUACCCUAUGGUAG</th>\n",
       "      <th>UCAAAUGCUCAGACUCCUGUGGU</th>\n",
       "      <th>AUGUAUGUGUGCAUGUGCAUG</th>\n",
       "      <th>UGAGGUAGUAGUUUGUGCUGUU</th>\n",
       "      <th>CAGUGCAAUGUUAAAAGGGCAU</th>\n",
       "      <th>UGAGAACUGAAUUCCAUAGGCUG</th>\n",
       "      <th>UGGAAUGUAAAGAAGUAUGUAU</th>\n",
       "      <th>...</th>\n",
       "      <th>ACCCCACUCCUGGUACC</th>\n",
       "      <th>GAUGAGCUCAUUGUAAUAUGAG</th>\n",
       "      <th>GAUUUCAGUGGAGUGAAGUUC</th>\n",
       "      <th>AUCCCACCUCUGCCACCA</th>\n",
       "      <th>CUCCAGAGGGAUGCACUUUCU</th>\n",
       "      <th>GGCUACAACACAGGACCCGGGC</th>\n",
       "      <th>GAAAUCAAGCGUGGGUGAGACC</th>\n",
       "      <th>UAUACAAGGGCAGACUCUCUCU</th>\n",
       "      <th>CGGGGUUUUGAGGGCGAGAUGA</th>\n",
       "      <th>cancer</th>\n",
       "    </tr>\n",
       "  </thead>\n",
       "  <tbody>\n",
       "    <tr>\n",
       "      <th>VALUE</th>\n",
       "      <td>0.741590</td>\n",
       "      <td>0.261356</td>\n",
       "      <td>2.109164</td>\n",
       "      <td>2.182533</td>\n",
       "      <td>-0.762065</td>\n",
       "      <td>-0.180006</td>\n",
       "      <td>1.540209</td>\n",
       "      <td>-1.088015</td>\n",
       "      <td>1.179823</td>\n",
       "      <td>-4.318497</td>\n",
       "      <td>...</td>\n",
       "      <td>1.371899</td>\n",
       "      <td>-1.114726</td>\n",
       "      <td>0.353282</td>\n",
       "      <td>-0.530247</td>\n",
       "      <td>0.030980</td>\n",
       "      <td>0.222620</td>\n",
       "      <td>0.340716</td>\n",
       "      <td>-0.417844</td>\n",
       "      <td>0.591807</td>\n",
       "      <td>1</td>\n",
       "    </tr>\n",
       "    <tr>\n",
       "      <th>VALUE</th>\n",
       "      <td>-0.343985</td>\n",
       "      <td>-0.013099</td>\n",
       "      <td>0.648532</td>\n",
       "      <td>3.126534</td>\n",
       "      <td>0.191934</td>\n",
       "      <td>-0.018128</td>\n",
       "      <td>0.172220</td>\n",
       "      <td>1.009291</td>\n",
       "      <td>0.992971</td>\n",
       "      <td>-3.618777</td>\n",
       "      <td>...</td>\n",
       "      <td>0.231477</td>\n",
       "      <td>-0.498167</td>\n",
       "      <td>0.590445</td>\n",
       "      <td>-0.805265</td>\n",
       "      <td>0.233680</td>\n",
       "      <td>0.929198</td>\n",
       "      <td>0.541968</td>\n",
       "      <td>-0.048067</td>\n",
       "      <td>-0.175013</td>\n",
       "      <td>1</td>\n",
       "    </tr>\n",
       "    <tr>\n",
       "      <th>VALUE</th>\n",
       "      <td>-0.719056</td>\n",
       "      <td>0.248140</td>\n",
       "      <td>-2.620473</td>\n",
       "      <td>0.348105</td>\n",
       "      <td>0.413945</td>\n",
       "      <td>0.397625</td>\n",
       "      <td>-1.856065</td>\n",
       "      <td>1.568414</td>\n",
       "      <td>-0.369948</td>\n",
       "      <td>-3.160005</td>\n",
       "      <td>...</td>\n",
       "      <td>-0.338053</td>\n",
       "      <td>-1.175701</td>\n",
       "      <td>0.549555</td>\n",
       "      <td>-1.787795</td>\n",
       "      <td>0.420381</td>\n",
       "      <td>-0.674744</td>\n",
       "      <td>-0.172587</td>\n",
       "      <td>-0.430029</td>\n",
       "      <td>0.108402</td>\n",
       "      <td>1</td>\n",
       "    </tr>\n",
       "    <tr>\n",
       "      <th>VALUE</th>\n",
       "      <td>0.037420</td>\n",
       "      <td>-0.096131</td>\n",
       "      <td>5.225930</td>\n",
       "      <td>4.702868</td>\n",
       "      <td>-0.437164</td>\n",
       "      <td>0.338143</td>\n",
       "      <td>1.972264</td>\n",
       "      <td>4.300055</td>\n",
       "      <td>3.961860</td>\n",
       "      <td>-2.760687</td>\n",
       "      <td>...</td>\n",
       "      <td>0.710115</td>\n",
       "      <td>-0.233142</td>\n",
       "      <td>0.619606</td>\n",
       "      <td>-1.968909</td>\n",
       "      <td>-0.271272</td>\n",
       "      <td>-0.545601</td>\n",
       "      <td>-0.403987</td>\n",
       "      <td>0.011012</td>\n",
       "      <td>0.189391</td>\n",
       "      <td>1</td>\n",
       "    </tr>\n",
       "    <tr>\n",
       "      <th>VALUE</th>\n",
       "      <td>1.623881</td>\n",
       "      <td>-0.287314</td>\n",
       "      <td>0.777111</td>\n",
       "      <td>0.083625</td>\n",
       "      <td>0.807695</td>\n",
       "      <td>-0.344286</td>\n",
       "      <td>0.743520</td>\n",
       "      <td>-0.170428</td>\n",
       "      <td>0.534185</td>\n",
       "      <td>-1.708858</td>\n",
       "      <td>...</td>\n",
       "      <td>-3.093799</td>\n",
       "      <td>-1.928689</td>\n",
       "      <td>0.110045</td>\n",
       "      <td>0.837932</td>\n",
       "      <td>0.394686</td>\n",
       "      <td>-0.596991</td>\n",
       "      <td>0.139465</td>\n",
       "      <td>-1.806821</td>\n",
       "      <td>-0.302091</td>\n",
       "      <td>1</td>\n",
       "    </tr>\n",
       "  </tbody>\n",
       "</table>\n",
       "<p>5 rows × 3037 columns</p>\n",
       "</div>"
      ],
      "text/plain": [
       "       UCUUUGGUUAUCUAGCUGUAUGA  UGGAAGACUUGUGAUUUUGUUGUU  \\\n",
       "VALUE                 0.741590                  0.261356   \n",
       "VALUE                -0.343985                 -0.013099   \n",
       "VALUE                -0.719056                  0.248140   \n",
       "VALUE                 0.037420                 -0.096131   \n",
       "VALUE                 1.623881                 -0.287314   \n",
       "\n",
       "       UCGUACCGUGAGUAAUAAUGCG  CAGUGGUUUUACCCUAUGGUAG  \\\n",
       "VALUE                2.109164                2.182533   \n",
       "VALUE                0.648532                3.126534   \n",
       "VALUE               -2.620473                0.348105   \n",
       "VALUE                5.225930                4.702868   \n",
       "VALUE                0.777111                0.083625   \n",
       "\n",
       "       UCAAAUGCUCAGACUCCUGUGGU  AUGUAUGUGUGCAUGUGCAUG  UGAGGUAGUAGUUUGUGCUGUU  \\\n",
       "VALUE                -0.762065              -0.180006                1.540209   \n",
       "VALUE                 0.191934              -0.018128                0.172220   \n",
       "VALUE                 0.413945               0.397625               -1.856065   \n",
       "VALUE                -0.437164               0.338143                1.972264   \n",
       "VALUE                 0.807695              -0.344286                0.743520   \n",
       "\n",
       "       CAGUGCAAUGUUAAAAGGGCAU  UGAGAACUGAAUUCCAUAGGCUG  \\\n",
       "VALUE               -1.088015                 1.179823   \n",
       "VALUE                1.009291                 0.992971   \n",
       "VALUE                1.568414                -0.369948   \n",
       "VALUE                4.300055                 3.961860   \n",
       "VALUE               -0.170428                 0.534185   \n",
       "\n",
       "       UGGAAUGUAAAGAAGUAUGUAU  ...  ACCCCACUCCUGGUACC  GAUGAGCUCAUUGUAAUAUGAG  \\\n",
       "VALUE               -4.318497  ...           1.371899               -1.114726   \n",
       "VALUE               -3.618777  ...           0.231477               -0.498167   \n",
       "VALUE               -3.160005  ...          -0.338053               -1.175701   \n",
       "VALUE               -2.760687  ...           0.710115               -0.233142   \n",
       "VALUE               -1.708858  ...          -3.093799               -1.928689   \n",
       "\n",
       "       GAUUUCAGUGGAGUGAAGUUC  AUCCCACCUCUGCCACCA  CUCCAGAGGGAUGCACUUUCU  \\\n",
       "VALUE               0.353282           -0.530247               0.030980   \n",
       "VALUE               0.590445           -0.805265               0.233680   \n",
       "VALUE               0.549555           -1.787795               0.420381   \n",
       "VALUE               0.619606           -1.968909              -0.271272   \n",
       "VALUE               0.110045            0.837932               0.394686   \n",
       "\n",
       "       GGCUACAACACAGGACCCGGGC  GAAAUCAAGCGUGGGUGAGACC  UAUACAAGGGCAGACUCUCUCU  \\\n",
       "VALUE                0.222620                0.340716               -0.417844   \n",
       "VALUE                0.929198                0.541968               -0.048067   \n",
       "VALUE               -0.674744               -0.172587               -0.430029   \n",
       "VALUE               -0.545601               -0.403987                0.011012   \n",
       "VALUE               -0.596991                0.139465               -1.806821   \n",
       "\n",
       "       CGGGGUUUUGAGGGCGAGAUGA  cancer  \n",
       "VALUE                0.591807       1  \n",
       "VALUE               -0.175013       1  \n",
       "VALUE                0.108402       1  \n",
       "VALUE                0.189391       1  \n",
       "VALUE               -0.302091       1  \n",
       "\n",
       "[5 rows x 3037 columns]"
      ]
     },
     "execution_count": 110,
     "metadata": {},
     "output_type": "execute_result"
    }
   ],
   "source": [
    "adj_norm_log_table.columns = sequences\n",
    "adj_norm_log_table = adj_norm_log_table.loc[:,~adj_norm_log_table.columns.duplicated()]\n",
    "adj_norm_log_table[\"cancer\"] = sick\n",
    "adj_norm_log_table.head()"
   ]
  },
  {
   "cell_type": "code",
   "execution_count": 111,
   "metadata": {},
   "outputs": [],
   "source": [
    "adj_norm_log_table.to_csv(\"../TransformedData/Patnaik2017.csv\", index=False)"
   ]
  },
  {
   "cell_type": "code",
   "execution_count": null,
   "metadata": {},
   "outputs": [],
   "source": []
  }
 ],
 "metadata": {
  "kernelspec": {
   "display_name": "Python 3 (ipykernel)",
   "language": "python",
   "name": "python3"
  },
  "language_info": {
   "codemirror_mode": {
    "name": "ipython",
    "version": 3
   },
   "file_extension": ".py",
   "mimetype": "text/x-python",
   "name": "python",
   "nbconvert_exporter": "python",
   "pygments_lexer": "ipython3",
   "version": "3.10.1"
  }
 },
 "nbformat": 4,
 "nbformat_minor": 4
}
