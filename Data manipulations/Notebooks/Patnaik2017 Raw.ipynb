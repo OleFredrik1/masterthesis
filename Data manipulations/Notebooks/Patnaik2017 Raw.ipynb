{
 "cells": [
  {
   "cell_type": "code",
   "execution_count": 1,
   "metadata": {
    "tags": []
   },
   "outputs": [],
   "source": [
    "%matplotlib inline\n",
    "import GEOparse\n",
    "import matplotlib.pyplot as plt\n",
    "import pandas as pd\n",
    "import numpy as np\n",
    "from sklearn import decomposition\n",
    "from sklearn.feature_selection import f_classif\n",
    "from sklearn.linear_model import LinearRegression, LogisticRegression\n",
    "from sklearn.metrics import explained_variance_score, plot_roc_curve\n",
    "import statsmodels.api as sm\n",
    "from scipy.stats import ttest_ind\n",
    "from xgboost import XGBClassifier\n",
    "from sklearn.model_selection import train_test_split\n",
    "from sklego.linear_model import LowessRegression"
   ]
  },
  {
   "cell_type": "markdown",
   "metadata": {},
   "source": [
    "### Reading in from external source"
   ]
  },
  {
   "cell_type": "code",
   "execution_count": 2,
   "metadata": {},
   "outputs": [],
   "source": [
    "geo = \"GSE40738\"\n",
    "data = GEOparse.get_GEO(geo=geo, destdir=\"../Dataset/Patnaik2017\", silent=True)\n",
    "#table = pd.read_csv(\"../Dataset/Fehlman2020/expression_matrix.csv\", sep=\"\\t\")\n",
    "#table = pd.read_csv(\"../Dataset/Wozniak2015/GSE64591_non-normalized.txt\", sep=\"\\t\", header=5)"
   ]
  },
  {
   "cell_type": "code",
   "execution_count": 3,
   "metadata": {},
   "outputs": [
    {
     "data": {
      "text/plain": [
       "{'title': ['cancer preop 1'],\n",
       " 'geo_accession': ['GSM1000223'],\n",
       " 'status': ['Public on Sep 11 2012'],\n",
       " 'submission_date': ['Sep 10 2012'],\n",
       " 'last_update_date': ['Sep 11 2012'],\n",
       " 'type': ['RNA'],\n",
       " 'channel_count': ['2'],\n",
       " 'source_name_ch1': ['blood, lung cancer, individual 1'],\n",
       " 'organism_ch1': ['Homo sapiens'],\n",
       " 'taxid_ch1': ['9606'],\n",
       " 'characteristics_ch1': ['tissue: blood',\n",
       "  'time: preop',\n",
       "  'gender: female',\n",
       "  'age: 41 y',\n",
       "  'disease state: adenocarcinoma of lung',\n",
       "  'lung disease: Lung cancer (before surgical resection of lung cancer)',\n",
       "  'individual: 1'],\n",
       " 'molecule_ch1': ['total RNA'],\n",
       " 'extract_protocol_ch1': ['Total RNA was isolated from blood collected and stored in PAXgene Blood RNA tubes using a PAXgene Blood miRNA kit at the Roswell Park Cancer Institute, Buffalo, NY, USA as per the protocol suggested by the manufacturer (Qiagen, Valencia, CA, USA). The human universal reference RNA was made by pooling contents of FirstChoice total RNA panel that is made of RNA from different tissues of multiple individuals (Ambion, Austin, TX, USA; catalog no. AM6000).'],\n",
       " 'label_ch1': ['Hy3'],\n",
       " 'label_protocol_ch1': ['RNA was labeled by Exiqon, Vedbaek, Denmark using the miRCURY LNA microRNA Power labeling kit. Five hundred ng of RNA, as quantified using Bioanalyzer (Agilent, Santa Clara, CA, USA), was used per labeling reaction with the Cy3-like Hy3 dye. A human universal reference RNA, made by pooling contents of FirstChoice total RNA panel (Ambion, Austin, TX, USA; catalog no. AM6000), was similarly labeled with the Cy5-like Hy5 dye. Sixty-two synthetic small RNAs were spiked-in to the RNA samples before labeling as per the kit protocol.'],\n",
       " 'source_name_ch2': ['Human universal reference RNA from Ambion'],\n",
       " 'organism_ch2': ['Homo sapiens'],\n",
       " 'taxid_ch2': ['9606'],\n",
       " 'characteristics_ch2': ['tissue: Multiple',\n",
       "  'gender: Mixed',\n",
       "  'sample type: Human universal reference RNA from Ambion'],\n",
       " 'molecule_ch2': ['total RNA'],\n",
       " 'extract_protocol_ch2': ['Total RNA was isolated from blood collected and stored in PAXgene Blood RNA tubes using a PAXgene Blood miRNA kit at the Roswell Park Cancer Institute, Buffalo, NY, USA as per the protocol suggested by the manufacturer (Qiagen, Valencia, CA, USA). The human universal reference RNA was made by pooling contents of FirstChoice total RNA panel that is made of RNA from different tissues of multiple individuals (Ambion, Austin, TX, USA; catalog no. AM6000).'],\n",
       " 'label_ch2': ['Hy5'],\n",
       " 'label_protocol_ch2': ['RNA was labeled by Exiqon, Vedbaek, Denmark using the miRCURY LNA microRNA Power labeling kit. Five hundred ng of RNA, as quantified using Bioanalyzer (Agilent, Santa Clara, CA, USA), was used per labeling reaction with the Cy3-like Hy3 dye. A human universal reference RNA, made by pooling contents of FirstChoice total RNA panel (Ambion, Austin, TX, USA; catalog no. AM6000), was similarly labeled with the Cy5-like Hy5 dye. Sixty-two synthetic small RNAs were spiked-in to the RNA samples before labeling as per the kit protocol.'],\n",
       " 'hyb_protocol': ['Hybridization of the mix of Hy3-labeled sample and Hy5-labeled reference RNAs to the arrays at 56 C for 16 hours followed by washing was performed by Exiqon (Vedbaek, Denmark) on an HS Pro instrument (Tecan, MÃ¤nnedorf, Switzerland). The seventh generation miRCURY LNA microRNA arrays (Exiqon, Vedbaek, Denmark) that were used have approx. 1892 locked nucleic acid oligonucleotide probes on quadruplicate 100 ÂµM-sized probe-spots (185 ÂµM inter-spot distance) to detect 20 human non-microRNA small RNAs (20 array probes), 25 Exion-proprietary human miRPlus microRNAs (25 probes) and 1916 human miRBase microRNA database microRNAs (1892 probes). Thirty of the 1892+25=1917 probes recognize a total of 72 multiple microRNAs (2-6 per probe). Some of the microRNAs recognized by the 30 are also recognized by other, one-microRNA-specific probes. The array also has probes for viral, mouse and rat microRNAs.'],\n",
       " 'scan_protocol': ['Arrays were scanned, after hybridization and washing, using the G2505B scanning system (Agilent, Santa Clara, CA, USA) by Exiqon (Vedbaek, Denmark).'],\n",
       " 'description': ['files with prefix 1_ are for Hy3 (Cy3) signals and 2_ for Hy5'],\n",
       " 'data_processing': [\"Array data processing was done in R (version 2.14.1) using the limma (version 3.10.2) Bioconductor package. The 'normexp' method with offset=10 was used for background-correction, and followed with within-array global 'loess' normalization, with span=1/3 and values from probe-spots with flag-values >1 ignored, and then, between-array 'quantile' normalization. For probe-set summarization, the median of the values from multiple spots was used when the ratio of the maximum and minimum values was >1.5; else, the mean was used.\"],\n",
       " 'platform_id': ['GPL16016'],\n",
       " 'contact_name': ['Santosh,Kumar,Patnaik'],\n",
       " 'contact_phone': ['716-8458364'],\n",
       " 'contact_department': ['Thoracic Surgery'],\n",
       " 'contact_institute': ['Roswell Park Comprehensive Cancer Center'],\n",
       " 'contact_address': ['Elm and Carlton Streets'],\n",
       " 'contact_city': ['Buffalo'],\n",
       " 'contact_state': ['NY'],\n",
       " 'contact_zip/postal_code': ['14263'],\n",
       " 'contact_country': ['USA'],\n",
       " 'supplementary_file': ['ftp://ftp.ncbi.nlm.nih.gov/geo/samples/GSM1000nnn/GSM1000223/suppl/GSM1000223_0_Hy5_Exiqon_19705748_S01.txt.gz',\n",
       "  'ftp://ftp.ncbi.nlm.nih.gov/geo/samples/GSM1000nnn/GSM1000223/suppl/GSM1000223_1_Hy3_Exiqon_19705748_S01.txt.gz'],\n",
       " 'series_id': ['GSE40738'],\n",
       " 'data_row_count': ['3547']}"
      ]
     },
     "execution_count": 3,
     "metadata": {},
     "output_type": "execute_result"
    }
   ],
   "source": [
    "list(data.gsms.values())[0].metadata"
   ]
  },
  {
   "cell_type": "code",
   "execution_count": 4,
   "metadata": {},
   "outputs": [],
   "source": [
    "table = pd.concat((val.table.iloc[:,1:] for val in data.gsms.values()), axis=1).transpose()\n",
    "mirnas = list(data.gsms.values())[0].table.iloc[:,0]\n",
    "gsm_list = np.array(list(data.gsms.values()))"
   ]
  },
  {
   "cell_type": "code",
   "execution_count": 5,
   "metadata": {},
   "outputs": [
    {
     "data": {
      "text/html": [
       "<div>\n",
       "<style scoped>\n",
       "    .dataframe tbody tr th:only-of-type {\n",
       "        vertical-align: middle;\n",
       "    }\n",
       "\n",
       "    .dataframe tbody tr th {\n",
       "        vertical-align: top;\n",
       "    }\n",
       "\n",
       "    .dataframe thead th {\n",
       "        text-align: right;\n",
       "    }\n",
       "</style>\n",
       "<table border=\"1\" class=\"dataframe\">\n",
       "  <thead>\n",
       "    <tr style=\"text-align: right;\">\n",
       "      <th></th>\n",
       "      <th>0</th>\n",
       "      <th>1</th>\n",
       "      <th>2</th>\n",
       "      <th>3</th>\n",
       "      <th>4</th>\n",
       "      <th>5</th>\n",
       "      <th>6</th>\n",
       "      <th>7</th>\n",
       "      <th>8</th>\n",
       "      <th>9</th>\n",
       "      <th>...</th>\n",
       "      <th>3537</th>\n",
       "      <th>3538</th>\n",
       "      <th>3539</th>\n",
       "      <th>3540</th>\n",
       "      <th>3541</th>\n",
       "      <th>3542</th>\n",
       "      <th>3543</th>\n",
       "      <th>3544</th>\n",
       "      <th>3545</th>\n",
       "      <th>3546</th>\n",
       "    </tr>\n",
       "  </thead>\n",
       "  <tbody>\n",
       "    <tr>\n",
       "      <th>VALUE</th>\n",
       "      <td>0.010494</td>\n",
       "      <td>-1.407409</td>\n",
       "      <td>1.475053</td>\n",
       "      <td>-3.202545</td>\n",
       "      <td>-0.559560</td>\n",
       "      <td>0.026980</td>\n",
       "      <td>-0.732104</td>\n",
       "      <td>-3.151635</td>\n",
       "      <td>0.444564</td>\n",
       "      <td>0.677118</td>\n",
       "      <td>...</td>\n",
       "      <td>-0.189455</td>\n",
       "      <td>-0.671585</td>\n",
       "      <td>-1.955679</td>\n",
       "      <td>-1.516398</td>\n",
       "      <td>0.094447</td>\n",
       "      <td>-1.569766</td>\n",
       "      <td>-0.678858</td>\n",
       "      <td>-0.559935</td>\n",
       "      <td>-0.656613</td>\n",
       "      <td>-0.619179</td>\n",
       "    </tr>\n",
       "    <tr>\n",
       "      <th>VALUE</th>\n",
       "      <td>-0.046461</td>\n",
       "      <td>-1.683871</td>\n",
       "      <td>1.405158</td>\n",
       "      <td>-3.574522</td>\n",
       "      <td>-0.319152</td>\n",
       "      <td>0.269934</td>\n",
       "      <td>-0.604729</td>\n",
       "      <td>-3.084154</td>\n",
       "      <td>0.485789</td>\n",
       "      <td>0.328734</td>\n",
       "      <td>...</td>\n",
       "      <td>-0.032436</td>\n",
       "      <td>-0.611187</td>\n",
       "      <td>-2.025718</td>\n",
       "      <td>-1.464776</td>\n",
       "      <td>0.274390</td>\n",
       "      <td>-1.174481</td>\n",
       "      <td>-0.627605</td>\n",
       "      <td>-0.669845</td>\n",
       "      <td>-0.562442</td>\n",
       "      <td>-0.814464</td>\n",
       "    </tr>\n",
       "    <tr>\n",
       "      <th>VALUE</th>\n",
       "      <td>-0.434401</td>\n",
       "      <td>-1.779390</td>\n",
       "      <td>1.471687</td>\n",
       "      <td>-4.407035</td>\n",
       "      <td>-1.026731</td>\n",
       "      <td>0.326473</td>\n",
       "      <td>-0.602487</td>\n",
       "      <td>-3.589156</td>\n",
       "      <td>0.591669</td>\n",
       "      <td>-0.187806</td>\n",
       "      <td>...</td>\n",
       "      <td>-0.204983</td>\n",
       "      <td>-0.621601</td>\n",
       "      <td>-2.275938</td>\n",
       "      <td>-1.417229</td>\n",
       "      <td>-0.134084</td>\n",
       "      <td>-1.447181</td>\n",
       "      <td>-0.809580</td>\n",
       "      <td>-0.727625</td>\n",
       "      <td>-0.659716</td>\n",
       "      <td>-0.742287</td>\n",
       "    </tr>\n",
       "    <tr>\n",
       "      <th>VALUE</th>\n",
       "      <td>-0.700871</td>\n",
       "      <td>-1.586739</td>\n",
       "      <td>1.384012</td>\n",
       "      <td>-2.408802</td>\n",
       "      <td>0.082291</td>\n",
       "      <td>0.109722</td>\n",
       "      <td>-0.572143</td>\n",
       "      <td>-1.415818</td>\n",
       "      <td>0.576520</td>\n",
       "      <td>0.787149</td>\n",
       "      <td>...</td>\n",
       "      <td>0.035057</td>\n",
       "      <td>-0.603761</td>\n",
       "      <td>-2.322062</td>\n",
       "      <td>-1.593372</td>\n",
       "      <td>-0.101195</td>\n",
       "      <td>0.183775</td>\n",
       "      <td>-0.868510</td>\n",
       "      <td>-0.166346</td>\n",
       "      <td>-0.547396</td>\n",
       "      <td>-0.721662</td>\n",
       "    </tr>\n",
       "    <tr>\n",
       "      <th>VALUE</th>\n",
       "      <td>-0.260650</td>\n",
       "      <td>-1.182717</td>\n",
       "      <td>1.335324</td>\n",
       "      <td>-3.541777</td>\n",
       "      <td>-1.094086</td>\n",
       "      <td>0.426749</td>\n",
       "      <td>-0.391624</td>\n",
       "      <td>-3.103124</td>\n",
       "      <td>0.402727</td>\n",
       "      <td>0.474227</td>\n",
       "      <td>...</td>\n",
       "      <td>-0.396745</td>\n",
       "      <td>-0.733530</td>\n",
       "      <td>-1.607247</td>\n",
       "      <td>-1.423773</td>\n",
       "      <td>-0.114282</td>\n",
       "      <td>-0.726970</td>\n",
       "      <td>-0.730110</td>\n",
       "      <td>-0.739246</td>\n",
       "      <td>-1.010341</td>\n",
       "      <td>-0.846827</td>\n",
       "    </tr>\n",
       "    <tr>\n",
       "      <th>...</th>\n",
       "      <td>...</td>\n",
       "      <td>...</td>\n",
       "      <td>...</td>\n",
       "      <td>...</td>\n",
       "      <td>...</td>\n",
       "      <td>...</td>\n",
       "      <td>...</td>\n",
       "      <td>...</td>\n",
       "      <td>...</td>\n",
       "      <td>...</td>\n",
       "      <td>...</td>\n",
       "      <td>...</td>\n",
       "      <td>...</td>\n",
       "      <td>...</td>\n",
       "      <td>...</td>\n",
       "      <td>...</td>\n",
       "      <td>...</td>\n",
       "      <td>...</td>\n",
       "      <td>...</td>\n",
       "      <td>...</td>\n",
       "      <td>...</td>\n",
       "    </tr>\n",
       "    <tr>\n",
       "      <th>VALUE</th>\n",
       "      <td>-0.849401</td>\n",
       "      <td>-1.704188</td>\n",
       "      <td>1.258121</td>\n",
       "      <td>-3.291897</td>\n",
       "      <td>-0.940261</td>\n",
       "      <td>0.081012</td>\n",
       "      <td>-0.610622</td>\n",
       "      <td>-2.702150</td>\n",
       "      <td>0.458538</td>\n",
       "      <td>0.781526</td>\n",
       "      <td>...</td>\n",
       "      <td>-0.084094</td>\n",
       "      <td>-0.694373</td>\n",
       "      <td>-1.750953</td>\n",
       "      <td>-1.581935</td>\n",
       "      <td>0.257665</td>\n",
       "      <td>-1.039112</td>\n",
       "      <td>-0.704940</td>\n",
       "      <td>-0.658960</td>\n",
       "      <td>-0.523236</td>\n",
       "      <td>-0.792110</td>\n",
       "    </tr>\n",
       "    <tr>\n",
       "      <th>VALUE</th>\n",
       "      <td>-1.095159</td>\n",
       "      <td>-1.811575</td>\n",
       "      <td>1.403459</td>\n",
       "      <td>-2.535752</td>\n",
       "      <td>-0.406089</td>\n",
       "      <td>0.000447</td>\n",
       "      <td>-0.679938</td>\n",
       "      <td>-2.384535</td>\n",
       "      <td>0.662613</td>\n",
       "      <td>1.218111</td>\n",
       "      <td>...</td>\n",
       "      <td>-0.204615</td>\n",
       "      <td>-0.554988</td>\n",
       "      <td>-1.834644</td>\n",
       "      <td>-1.612957</td>\n",
       "      <td>0.286119</td>\n",
       "      <td>-1.180161</td>\n",
       "      <td>0.519697</td>\n",
       "      <td>-0.745760</td>\n",
       "      <td>-0.501697</td>\n",
       "      <td>-0.810299</td>\n",
       "    </tr>\n",
       "    <tr>\n",
       "      <th>VALUE</th>\n",
       "      <td>-1.464105</td>\n",
       "      <td>-2.018576</td>\n",
       "      <td>1.523334</td>\n",
       "      <td>-3.172166</td>\n",
       "      <td>-0.256080</td>\n",
       "      <td>0.373576</td>\n",
       "      <td>-0.635107</td>\n",
       "      <td>-2.487154</td>\n",
       "      <td>0.482363</td>\n",
       "      <td>0.923342</td>\n",
       "      <td>...</td>\n",
       "      <td>-0.082325</td>\n",
       "      <td>-0.701619</td>\n",
       "      <td>-2.009718</td>\n",
       "      <td>-1.720748</td>\n",
       "      <td>-0.314919</td>\n",
       "      <td>-1.789872</td>\n",
       "      <td>-0.669051</td>\n",
       "      <td>-0.583276</td>\n",
       "      <td>-0.446627</td>\n",
       "      <td>-0.845082</td>\n",
       "    </tr>\n",
       "    <tr>\n",
       "      <th>VALUE</th>\n",
       "      <td>-0.700562</td>\n",
       "      <td>-1.508051</td>\n",
       "      <td>1.556278</td>\n",
       "      <td>-4.315787</td>\n",
       "      <td>-1.884412</td>\n",
       "      <td>0.475398</td>\n",
       "      <td>-0.576680</td>\n",
       "      <td>-3.827294</td>\n",
       "      <td>0.632676</td>\n",
       "      <td>-0.362867</td>\n",
       "      <td>...</td>\n",
       "      <td>0.078660</td>\n",
       "      <td>-0.920747</td>\n",
       "      <td>-1.929514</td>\n",
       "      <td>-1.702724</td>\n",
       "      <td>0.049282</td>\n",
       "      <td>-1.007424</td>\n",
       "      <td>-0.663182</td>\n",
       "      <td>-0.437739</td>\n",
       "      <td>-0.386830</td>\n",
       "      <td>-0.713551</td>\n",
       "    </tr>\n",
       "    <tr>\n",
       "      <th>VALUE</th>\n",
       "      <td>-0.414108</td>\n",
       "      <td>-1.932599</td>\n",
       "      <td>1.311914</td>\n",
       "      <td>-4.301587</td>\n",
       "      <td>-1.323204</td>\n",
       "      <td>0.476292</td>\n",
       "      <td>-0.496884</td>\n",
       "      <td>-3.864762</td>\n",
       "      <td>0.606913</td>\n",
       "      <td>-0.280230</td>\n",
       "      <td>...</td>\n",
       "      <td>0.181879</td>\n",
       "      <td>-0.467513</td>\n",
       "      <td>-1.727289</td>\n",
       "      <td>-1.662486</td>\n",
       "      <td>-0.024255</td>\n",
       "      <td>-1.099350</td>\n",
       "      <td>-0.668666</td>\n",
       "      <td>-0.559509</td>\n",
       "      <td>-0.388331</td>\n",
       "      <td>-0.791472</td>\n",
       "    </tr>\n",
       "  </tbody>\n",
       "</table>\n",
       "<p>177 rows × 3547 columns</p>\n",
       "</div>"
      ],
      "text/plain": [
       "           0         1         2         3         4         5         6     \\\n",
       "VALUE  0.010494 -1.407409  1.475053 -3.202545 -0.559560  0.026980 -0.732104   \n",
       "VALUE -0.046461 -1.683871  1.405158 -3.574522 -0.319152  0.269934 -0.604729   \n",
       "VALUE -0.434401 -1.779390  1.471687 -4.407035 -1.026731  0.326473 -0.602487   \n",
       "VALUE -0.700871 -1.586739  1.384012 -2.408802  0.082291  0.109722 -0.572143   \n",
       "VALUE -0.260650 -1.182717  1.335324 -3.541777 -1.094086  0.426749 -0.391624   \n",
       "...         ...       ...       ...       ...       ...       ...       ...   \n",
       "VALUE -0.849401 -1.704188  1.258121 -3.291897 -0.940261  0.081012 -0.610622   \n",
       "VALUE -1.095159 -1.811575  1.403459 -2.535752 -0.406089  0.000447 -0.679938   \n",
       "VALUE -1.464105 -2.018576  1.523334 -3.172166 -0.256080  0.373576 -0.635107   \n",
       "VALUE -0.700562 -1.508051  1.556278 -4.315787 -1.884412  0.475398 -0.576680   \n",
       "VALUE -0.414108 -1.932599  1.311914 -4.301587 -1.323204  0.476292 -0.496884   \n",
       "\n",
       "           7         8         9     ...      3537      3538      3539  \\\n",
       "VALUE -3.151635  0.444564  0.677118  ... -0.189455 -0.671585 -1.955679   \n",
       "VALUE -3.084154  0.485789  0.328734  ... -0.032436 -0.611187 -2.025718   \n",
       "VALUE -3.589156  0.591669 -0.187806  ... -0.204983 -0.621601 -2.275938   \n",
       "VALUE -1.415818  0.576520  0.787149  ...  0.035057 -0.603761 -2.322062   \n",
       "VALUE -3.103124  0.402727  0.474227  ... -0.396745 -0.733530 -1.607247   \n",
       "...         ...       ...       ...  ...       ...       ...       ...   \n",
       "VALUE -2.702150  0.458538  0.781526  ... -0.084094 -0.694373 -1.750953   \n",
       "VALUE -2.384535  0.662613  1.218111  ... -0.204615 -0.554988 -1.834644   \n",
       "VALUE -2.487154  0.482363  0.923342  ... -0.082325 -0.701619 -2.009718   \n",
       "VALUE -3.827294  0.632676 -0.362867  ...  0.078660 -0.920747 -1.929514   \n",
       "VALUE -3.864762  0.606913 -0.280230  ...  0.181879 -0.467513 -1.727289   \n",
       "\n",
       "           3540      3541      3542      3543      3544      3545      3546  \n",
       "VALUE -1.516398  0.094447 -1.569766 -0.678858 -0.559935 -0.656613 -0.619179  \n",
       "VALUE -1.464776  0.274390 -1.174481 -0.627605 -0.669845 -0.562442 -0.814464  \n",
       "VALUE -1.417229 -0.134084 -1.447181 -0.809580 -0.727625 -0.659716 -0.742287  \n",
       "VALUE -1.593372 -0.101195  0.183775 -0.868510 -0.166346 -0.547396 -0.721662  \n",
       "VALUE -1.423773 -0.114282 -0.726970 -0.730110 -0.739246 -1.010341 -0.846827  \n",
       "...         ...       ...       ...       ...       ...       ...       ...  \n",
       "VALUE -1.581935  0.257665 -1.039112 -0.704940 -0.658960 -0.523236 -0.792110  \n",
       "VALUE -1.612957  0.286119 -1.180161  0.519697 -0.745760 -0.501697 -0.810299  \n",
       "VALUE -1.720748 -0.314919 -1.789872 -0.669051 -0.583276 -0.446627 -0.845082  \n",
       "VALUE -1.702724  0.049282 -1.007424 -0.663182 -0.437739 -0.386830 -0.713551  \n",
       "VALUE -1.662486 -0.024255 -1.099350 -0.668666 -0.559509 -0.388331 -0.791472  \n",
       "\n",
       "[177 rows x 3547 columns]"
      ]
     },
     "execution_count": 5,
     "metadata": {},
     "output_type": "execute_result"
    }
   ],
   "source": [
    "table"
   ]
  },
  {
   "cell_type": "markdown",
   "metadata": {},
   "source": [
    "### Get controls"
   ]
  },
  {
   "cell_type": "code",
   "execution_count": 6,
   "metadata": {},
   "outputs": [
    {
     "data": {
      "text/plain": [
       "{'cancer postop 1',\n",
       " 'cancer postop 10',\n",
       " 'cancer postop 11',\n",
       " 'cancer postop 12',\n",
       " 'cancer postop 13',\n",
       " 'cancer postop 2',\n",
       " 'cancer postop 2 later timepoint',\n",
       " 'cancer postop 3',\n",
       " 'cancer postop 4',\n",
       " 'cancer postop 5',\n",
       " 'cancer postop 6',\n",
       " 'cancer postop 7',\n",
       " 'cancer postop 8',\n",
       " 'cancer postop 9',\n",
       " 'cancer preop 1',\n",
       " 'cancer preop 10',\n",
       " 'cancer preop 11',\n",
       " 'cancer preop 12',\n",
       " 'cancer preop 13',\n",
       " 'cancer preop 14',\n",
       " 'cancer preop 15',\n",
       " 'cancer preop 16',\n",
       " 'cancer preop 17',\n",
       " 'cancer preop 18',\n",
       " 'cancer preop 19',\n",
       " 'cancer preop 2',\n",
       " 'cancer preop 20',\n",
       " 'cancer preop 21',\n",
       " 'cancer preop 22',\n",
       " 'cancer preop 23',\n",
       " 'cancer preop 24',\n",
       " 'cancer preop 25',\n",
       " 'cancer preop 26',\n",
       " 'cancer preop 27',\n",
       " 'cancer preop 28',\n",
       " 'cancer preop 29',\n",
       " 'cancer preop 3',\n",
       " 'cancer preop 30',\n",
       " 'cancer preop 31',\n",
       " 'cancer preop 32',\n",
       " 'cancer preop 33',\n",
       " 'cancer preop 34',\n",
       " 'cancer preop 35',\n",
       " 'cancer preop 36',\n",
       " 'cancer preop 37',\n",
       " 'cancer preop 38',\n",
       " 'cancer preop 39',\n",
       " 'cancer preop 4',\n",
       " 'cancer preop 40',\n",
       " 'cancer preop 41',\n",
       " 'cancer preop 42',\n",
       " 'cancer preop 43',\n",
       " 'cancer preop 44',\n",
       " 'cancer preop 45',\n",
       " 'cancer preop 46',\n",
       " 'cancer preop 47',\n",
       " 'cancer preop 48',\n",
       " 'cancer preop 49',\n",
       " 'cancer preop 5',\n",
       " 'cancer preop 50',\n",
       " 'cancer preop 51',\n",
       " 'cancer preop 52',\n",
       " 'cancer preop 53',\n",
       " 'cancer preop 54',\n",
       " 'cancer preop 55',\n",
       " 'cancer preop 56',\n",
       " 'cancer preop 57',\n",
       " 'cancer preop 58',\n",
       " 'cancer preop 59',\n",
       " 'cancer preop 6',\n",
       " 'cancer preop 60',\n",
       " 'cancer preop 61',\n",
       " 'cancer preop 62',\n",
       " 'cancer preop 63',\n",
       " 'cancer preop 64',\n",
       " 'cancer preop 65',\n",
       " 'cancer preop 66',\n",
       " 'cancer preop 67',\n",
       " 'cancer preop 68',\n",
       " 'cancer preop 69',\n",
       " 'cancer preop 7',\n",
       " 'cancer preop 70',\n",
       " 'cancer preop 71',\n",
       " 'cancer preop 72',\n",
       " 'cancer preop 73',\n",
       " 'cancer preop 74 replicate 1',\n",
       " 'cancer preop 74 replicate 2',\n",
       " 'cancer preop 75',\n",
       " 'cancer preop 76',\n",
       " 'cancer preop 77',\n",
       " 'cancer preop 78',\n",
       " 'cancer preop 79',\n",
       " 'cancer preop 8',\n",
       " 'cancer preop 80',\n",
       " 'cancer preop 81',\n",
       " 'cancer preop 82',\n",
       " 'cancer preop 83',\n",
       " 'cancer preop 84',\n",
       " 'cancer preop 85',\n",
       " 'cancer preop 9',\n",
       " 'control highrisk 1',\n",
       " 'control highrisk 10',\n",
       " 'control highrisk 11',\n",
       " 'control highrisk 12',\n",
       " 'control highrisk 13',\n",
       " 'control highrisk 14',\n",
       " 'control highrisk 15',\n",
       " 'control highrisk 16',\n",
       " 'control highrisk 17',\n",
       " 'control highrisk 18',\n",
       " 'control highrisk 19',\n",
       " 'control highrisk 2',\n",
       " 'control highrisk 20',\n",
       " 'control highrisk 21',\n",
       " 'control highrisk 22',\n",
       " 'control highrisk 23',\n",
       " 'control highrisk 24',\n",
       " 'control highrisk 25',\n",
       " 'control highrisk 26',\n",
       " 'control highrisk 27',\n",
       " 'control highrisk 28',\n",
       " 'control highrisk 29 replicate 1',\n",
       " 'control highrisk 29 replicate 2',\n",
       " 'control highrisk 3',\n",
       " 'control highrisk 30',\n",
       " 'control highrisk 31',\n",
       " 'control highrisk 32',\n",
       " 'control highrisk 33',\n",
       " 'control highrisk 34',\n",
       " 'control highrisk 35',\n",
       " 'control highrisk 36',\n",
       " 'control highrisk 37',\n",
       " 'control highrisk 38',\n",
       " 'control highrisk 39',\n",
       " 'control highrisk 4',\n",
       " 'control highrisk 40',\n",
       " 'control highrisk 41',\n",
       " 'control highrisk 42',\n",
       " 'control highrisk 43',\n",
       " 'control highrisk 44',\n",
       " 'control highrisk 45',\n",
       " 'control highrisk 46',\n",
       " 'control highrisk 47',\n",
       " 'control highrisk 48',\n",
       " 'control highrisk 49',\n",
       " 'control highrisk 5',\n",
       " 'control highrisk 50',\n",
       " 'control highrisk 51',\n",
       " 'control highrisk 52',\n",
       " 'control highrisk 53',\n",
       " 'control highrisk 54',\n",
       " 'control highrisk 55',\n",
       " 'control highrisk 56',\n",
       " 'control highrisk 57',\n",
       " 'control highrisk 58',\n",
       " 'control highrisk 6',\n",
       " 'control highrisk 7',\n",
       " 'control highrisk 8',\n",
       " 'control highrisk 9',\n",
       " 'control nodule 1',\n",
       " 'control nodule 10',\n",
       " 'control nodule 11',\n",
       " 'control nodule 12',\n",
       " 'control nodule 13',\n",
       " 'control nodule 14',\n",
       " 'control nodule 15',\n",
       " 'control nodule 16',\n",
       " 'control nodule 17',\n",
       " 'control nodule 18',\n",
       " 'control nodule 2',\n",
       " 'control nodule 3',\n",
       " 'control nodule 4',\n",
       " 'control nodule 5',\n",
       " 'control nodule 6',\n",
       " 'control nodule 7',\n",
       " 'control nodule 8',\n",
       " 'control nodule 9'}"
      ]
     },
     "execution_count": 6,
     "metadata": {},
     "output_type": "execute_result"
    }
   ],
   "source": [
    "set([list(data.gsms.values())[i].metadata[\"title\"][0] for i in range(177)])"
   ]
  },
  {
   "cell_type": "markdown",
   "metadata": {},
   "source": [
    "### Remove postop"
   ]
  },
  {
   "cell_type": "code",
   "execution_count": 7,
   "metadata": {},
   "outputs": [],
   "source": [
    "mask = np.array([\"postop\" not in k.metadata[\"title\"][0] for k in gsm_list])\n",
    "table = table.loc[mask]\n",
    "gsm_list = gsm_list[mask]"
   ]
  },
  {
   "cell_type": "markdown",
   "metadata": {},
   "source": [
    "### Seperate case and controls"
   ]
  },
  {
   "cell_type": "code",
   "execution_count": 8,
   "metadata": {},
   "outputs": [],
   "source": [
    "controls = np.array([\"control\" in k.metadata[\"title\"][0] for k in gsm_list])\n",
    "sick = 1 - controls"
   ]
  },
  {
   "cell_type": "code",
   "execution_count": 9,
   "metadata": {},
   "outputs": [
    {
     "data": {
      "text/plain": [
       "77"
      ]
     },
     "execution_count": 9,
     "metadata": {},
     "output_type": "execute_result"
    }
   ],
   "source": [
    "sum(controls)"
   ]
  },
  {
   "cell_type": "markdown",
   "metadata": {},
   "source": [
    "### Drop NAN"
   ]
  },
  {
   "cell_type": "code",
   "execution_count": 10,
   "metadata": {},
   "outputs": [
    {
     "data": {
      "text/plain": [
       "0"
      ]
     },
     "execution_count": 10,
     "metadata": {},
     "output_type": "execute_result"
    }
   ],
   "source": [
    "table.isna().sum().sum()"
   ]
  },
  {
   "cell_type": "code",
   "execution_count": 11,
   "metadata": {},
   "outputs": [
    {
     "name": "stderr",
     "output_type": "stream",
     "text": [
      "C:\\Users\\olefr\\AppData\\Local\\Temp/ipykernel_33956/1927661217.py:1: FutureWarning: In a future version of pandas all arguments of DataFrame.dropna will be keyword-only\n",
      "  table = table.dropna(1)\n"
     ]
    }
   ],
   "source": [
    "table = table.dropna(1)"
   ]
  },
  {
   "cell_type": "markdown",
   "metadata": {},
   "source": [
    "### T-test"
   ]
  },
  {
   "cell_type": "code",
   "execution_count": 12,
   "metadata": {},
   "outputs": [],
   "source": [
    "X = table"
   ]
  },
  {
   "cell_type": "code",
   "execution_count": 13,
   "metadata": {},
   "outputs": [
    {
     "data": {
      "text/html": [
       "<div>\n",
       "<style scoped>\n",
       "    .dataframe tbody tr th:only-of-type {\n",
       "        vertical-align: middle;\n",
       "    }\n",
       "\n",
       "    .dataframe tbody tr th {\n",
       "        vertical-align: top;\n",
       "    }\n",
       "\n",
       "    .dataframe thead th {\n",
       "        text-align: right;\n",
       "    }\n",
       "</style>\n",
       "<table border=\"1\" class=\"dataframe\">\n",
       "  <thead>\n",
       "    <tr style=\"text-align: right;\">\n",
       "      <th></th>\n",
       "      <th>0</th>\n",
       "      <th>1</th>\n",
       "      <th>2</th>\n",
       "      <th>3</th>\n",
       "      <th>4</th>\n",
       "      <th>5</th>\n",
       "      <th>6</th>\n",
       "      <th>7</th>\n",
       "      <th>8</th>\n",
       "      <th>9</th>\n",
       "      <th>...</th>\n",
       "      <th>3537</th>\n",
       "      <th>3538</th>\n",
       "      <th>3539</th>\n",
       "      <th>3540</th>\n",
       "      <th>3541</th>\n",
       "      <th>3542</th>\n",
       "      <th>3543</th>\n",
       "      <th>3544</th>\n",
       "      <th>3545</th>\n",
       "      <th>3546</th>\n",
       "    </tr>\n",
       "  </thead>\n",
       "  <tbody>\n",
       "    <tr>\n",
       "      <th>VALUE</th>\n",
       "      <td>0.010494</td>\n",
       "      <td>-1.407409</td>\n",
       "      <td>1.475053</td>\n",
       "      <td>-3.202545</td>\n",
       "      <td>-0.559560</td>\n",
       "      <td>0.026980</td>\n",
       "      <td>-0.732104</td>\n",
       "      <td>-3.151635</td>\n",
       "      <td>0.444564</td>\n",
       "      <td>0.677118</td>\n",
       "      <td>...</td>\n",
       "      <td>-0.189455</td>\n",
       "      <td>-0.671585</td>\n",
       "      <td>-1.955679</td>\n",
       "      <td>-1.516398</td>\n",
       "      <td>0.094447</td>\n",
       "      <td>-1.569766</td>\n",
       "      <td>-0.678858</td>\n",
       "      <td>-0.559935</td>\n",
       "      <td>-0.656613</td>\n",
       "      <td>-0.619179</td>\n",
       "    </tr>\n",
       "    <tr>\n",
       "      <th>VALUE</th>\n",
       "      <td>-0.046461</td>\n",
       "      <td>-1.683871</td>\n",
       "      <td>1.405158</td>\n",
       "      <td>-3.574522</td>\n",
       "      <td>-0.319152</td>\n",
       "      <td>0.269934</td>\n",
       "      <td>-0.604729</td>\n",
       "      <td>-3.084154</td>\n",
       "      <td>0.485789</td>\n",
       "      <td>0.328734</td>\n",
       "      <td>...</td>\n",
       "      <td>-0.032436</td>\n",
       "      <td>-0.611187</td>\n",
       "      <td>-2.025718</td>\n",
       "      <td>-1.464776</td>\n",
       "      <td>0.274390</td>\n",
       "      <td>-1.174481</td>\n",
       "      <td>-0.627605</td>\n",
       "      <td>-0.669845</td>\n",
       "      <td>-0.562442</td>\n",
       "      <td>-0.814464</td>\n",
       "    </tr>\n",
       "    <tr>\n",
       "      <th>VALUE</th>\n",
       "      <td>-0.434401</td>\n",
       "      <td>-1.779390</td>\n",
       "      <td>1.471687</td>\n",
       "      <td>-4.407035</td>\n",
       "      <td>-1.026731</td>\n",
       "      <td>0.326473</td>\n",
       "      <td>-0.602487</td>\n",
       "      <td>-3.589156</td>\n",
       "      <td>0.591669</td>\n",
       "      <td>-0.187806</td>\n",
       "      <td>...</td>\n",
       "      <td>-0.204983</td>\n",
       "      <td>-0.621601</td>\n",
       "      <td>-2.275938</td>\n",
       "      <td>-1.417229</td>\n",
       "      <td>-0.134084</td>\n",
       "      <td>-1.447181</td>\n",
       "      <td>-0.809580</td>\n",
       "      <td>-0.727625</td>\n",
       "      <td>-0.659716</td>\n",
       "      <td>-0.742287</td>\n",
       "    </tr>\n",
       "    <tr>\n",
       "      <th>VALUE</th>\n",
       "      <td>-0.700871</td>\n",
       "      <td>-1.586739</td>\n",
       "      <td>1.384012</td>\n",
       "      <td>-2.408802</td>\n",
       "      <td>0.082291</td>\n",
       "      <td>0.109722</td>\n",
       "      <td>-0.572143</td>\n",
       "      <td>-1.415818</td>\n",
       "      <td>0.576520</td>\n",
       "      <td>0.787149</td>\n",
       "      <td>...</td>\n",
       "      <td>0.035057</td>\n",
       "      <td>-0.603761</td>\n",
       "      <td>-2.322062</td>\n",
       "      <td>-1.593372</td>\n",
       "      <td>-0.101195</td>\n",
       "      <td>0.183775</td>\n",
       "      <td>-0.868510</td>\n",
       "      <td>-0.166346</td>\n",
       "      <td>-0.547396</td>\n",
       "      <td>-0.721662</td>\n",
       "    </tr>\n",
       "    <tr>\n",
       "      <th>VALUE</th>\n",
       "      <td>-0.260650</td>\n",
       "      <td>-1.182717</td>\n",
       "      <td>1.335324</td>\n",
       "      <td>-3.541777</td>\n",
       "      <td>-1.094086</td>\n",
       "      <td>0.426749</td>\n",
       "      <td>-0.391624</td>\n",
       "      <td>-3.103124</td>\n",
       "      <td>0.402727</td>\n",
       "      <td>0.474227</td>\n",
       "      <td>...</td>\n",
       "      <td>-0.396745</td>\n",
       "      <td>-0.733530</td>\n",
       "      <td>-1.607247</td>\n",
       "      <td>-1.423773</td>\n",
       "      <td>-0.114282</td>\n",
       "      <td>-0.726970</td>\n",
       "      <td>-0.730110</td>\n",
       "      <td>-0.739246</td>\n",
       "      <td>-1.010341</td>\n",
       "      <td>-0.846827</td>\n",
       "    </tr>\n",
       "    <tr>\n",
       "      <th>...</th>\n",
       "      <td>...</td>\n",
       "      <td>...</td>\n",
       "      <td>...</td>\n",
       "      <td>...</td>\n",
       "      <td>...</td>\n",
       "      <td>...</td>\n",
       "      <td>...</td>\n",
       "      <td>...</td>\n",
       "      <td>...</td>\n",
       "      <td>...</td>\n",
       "      <td>...</td>\n",
       "      <td>...</td>\n",
       "      <td>...</td>\n",
       "      <td>...</td>\n",
       "      <td>...</td>\n",
       "      <td>...</td>\n",
       "      <td>...</td>\n",
       "      <td>...</td>\n",
       "      <td>...</td>\n",
       "      <td>...</td>\n",
       "      <td>...</td>\n",
       "    </tr>\n",
       "    <tr>\n",
       "      <th>VALUE</th>\n",
       "      <td>-0.849401</td>\n",
       "      <td>-1.704188</td>\n",
       "      <td>1.258121</td>\n",
       "      <td>-3.291897</td>\n",
       "      <td>-0.940261</td>\n",
       "      <td>0.081012</td>\n",
       "      <td>-0.610622</td>\n",
       "      <td>-2.702150</td>\n",
       "      <td>0.458538</td>\n",
       "      <td>0.781526</td>\n",
       "      <td>...</td>\n",
       "      <td>-0.084094</td>\n",
       "      <td>-0.694373</td>\n",
       "      <td>-1.750953</td>\n",
       "      <td>-1.581935</td>\n",
       "      <td>0.257665</td>\n",
       "      <td>-1.039112</td>\n",
       "      <td>-0.704940</td>\n",
       "      <td>-0.658960</td>\n",
       "      <td>-0.523236</td>\n",
       "      <td>-0.792110</td>\n",
       "    </tr>\n",
       "    <tr>\n",
       "      <th>VALUE</th>\n",
       "      <td>-1.095159</td>\n",
       "      <td>-1.811575</td>\n",
       "      <td>1.403459</td>\n",
       "      <td>-2.535752</td>\n",
       "      <td>-0.406089</td>\n",
       "      <td>0.000447</td>\n",
       "      <td>-0.679938</td>\n",
       "      <td>-2.384535</td>\n",
       "      <td>0.662613</td>\n",
       "      <td>1.218111</td>\n",
       "      <td>...</td>\n",
       "      <td>-0.204615</td>\n",
       "      <td>-0.554988</td>\n",
       "      <td>-1.834644</td>\n",
       "      <td>-1.612957</td>\n",
       "      <td>0.286119</td>\n",
       "      <td>-1.180161</td>\n",
       "      <td>0.519697</td>\n",
       "      <td>-0.745760</td>\n",
       "      <td>-0.501697</td>\n",
       "      <td>-0.810299</td>\n",
       "    </tr>\n",
       "    <tr>\n",
       "      <th>VALUE</th>\n",
       "      <td>-1.464105</td>\n",
       "      <td>-2.018576</td>\n",
       "      <td>1.523334</td>\n",
       "      <td>-3.172166</td>\n",
       "      <td>-0.256080</td>\n",
       "      <td>0.373576</td>\n",
       "      <td>-0.635107</td>\n",
       "      <td>-2.487154</td>\n",
       "      <td>0.482363</td>\n",
       "      <td>0.923342</td>\n",
       "      <td>...</td>\n",
       "      <td>-0.082325</td>\n",
       "      <td>-0.701619</td>\n",
       "      <td>-2.009718</td>\n",
       "      <td>-1.720748</td>\n",
       "      <td>-0.314919</td>\n",
       "      <td>-1.789872</td>\n",
       "      <td>-0.669051</td>\n",
       "      <td>-0.583276</td>\n",
       "      <td>-0.446627</td>\n",
       "      <td>-0.845082</td>\n",
       "    </tr>\n",
       "    <tr>\n",
       "      <th>VALUE</th>\n",
       "      <td>-0.700562</td>\n",
       "      <td>-1.508051</td>\n",
       "      <td>1.556278</td>\n",
       "      <td>-4.315787</td>\n",
       "      <td>-1.884412</td>\n",
       "      <td>0.475398</td>\n",
       "      <td>-0.576680</td>\n",
       "      <td>-3.827294</td>\n",
       "      <td>0.632676</td>\n",
       "      <td>-0.362867</td>\n",
       "      <td>...</td>\n",
       "      <td>0.078660</td>\n",
       "      <td>-0.920747</td>\n",
       "      <td>-1.929514</td>\n",
       "      <td>-1.702724</td>\n",
       "      <td>0.049282</td>\n",
       "      <td>-1.007424</td>\n",
       "      <td>-0.663182</td>\n",
       "      <td>-0.437739</td>\n",
       "      <td>-0.386830</td>\n",
       "      <td>-0.713551</td>\n",
       "    </tr>\n",
       "    <tr>\n",
       "      <th>VALUE</th>\n",
       "      <td>-0.414108</td>\n",
       "      <td>-1.932599</td>\n",
       "      <td>1.311914</td>\n",
       "      <td>-4.301587</td>\n",
       "      <td>-1.323204</td>\n",
       "      <td>0.476292</td>\n",
       "      <td>-0.496884</td>\n",
       "      <td>-3.864762</td>\n",
       "      <td>0.606913</td>\n",
       "      <td>-0.280230</td>\n",
       "      <td>...</td>\n",
       "      <td>0.181879</td>\n",
       "      <td>-0.467513</td>\n",
       "      <td>-1.727289</td>\n",
       "      <td>-1.662486</td>\n",
       "      <td>-0.024255</td>\n",
       "      <td>-1.099350</td>\n",
       "      <td>-0.668666</td>\n",
       "      <td>-0.559509</td>\n",
       "      <td>-0.388331</td>\n",
       "      <td>-0.791472</td>\n",
       "    </tr>\n",
       "  </tbody>\n",
       "</table>\n",
       "<p>163 rows × 3547 columns</p>\n",
       "</div>"
      ],
      "text/plain": [
       "           0         1         2         3         4         5         6     \\\n",
       "VALUE  0.010494 -1.407409  1.475053 -3.202545 -0.559560  0.026980 -0.732104   \n",
       "VALUE -0.046461 -1.683871  1.405158 -3.574522 -0.319152  0.269934 -0.604729   \n",
       "VALUE -0.434401 -1.779390  1.471687 -4.407035 -1.026731  0.326473 -0.602487   \n",
       "VALUE -0.700871 -1.586739  1.384012 -2.408802  0.082291  0.109722 -0.572143   \n",
       "VALUE -0.260650 -1.182717  1.335324 -3.541777 -1.094086  0.426749 -0.391624   \n",
       "...         ...       ...       ...       ...       ...       ...       ...   \n",
       "VALUE -0.849401 -1.704188  1.258121 -3.291897 -0.940261  0.081012 -0.610622   \n",
       "VALUE -1.095159 -1.811575  1.403459 -2.535752 -0.406089  0.000447 -0.679938   \n",
       "VALUE -1.464105 -2.018576  1.523334 -3.172166 -0.256080  0.373576 -0.635107   \n",
       "VALUE -0.700562 -1.508051  1.556278 -4.315787 -1.884412  0.475398 -0.576680   \n",
       "VALUE -0.414108 -1.932599  1.311914 -4.301587 -1.323204  0.476292 -0.496884   \n",
       "\n",
       "           7         8         9     ...      3537      3538      3539  \\\n",
       "VALUE -3.151635  0.444564  0.677118  ... -0.189455 -0.671585 -1.955679   \n",
       "VALUE -3.084154  0.485789  0.328734  ... -0.032436 -0.611187 -2.025718   \n",
       "VALUE -3.589156  0.591669 -0.187806  ... -0.204983 -0.621601 -2.275938   \n",
       "VALUE -1.415818  0.576520  0.787149  ...  0.035057 -0.603761 -2.322062   \n",
       "VALUE -3.103124  0.402727  0.474227  ... -0.396745 -0.733530 -1.607247   \n",
       "...         ...       ...       ...  ...       ...       ...       ...   \n",
       "VALUE -2.702150  0.458538  0.781526  ... -0.084094 -0.694373 -1.750953   \n",
       "VALUE -2.384535  0.662613  1.218111  ... -0.204615 -0.554988 -1.834644   \n",
       "VALUE -2.487154  0.482363  0.923342  ... -0.082325 -0.701619 -2.009718   \n",
       "VALUE -3.827294  0.632676 -0.362867  ...  0.078660 -0.920747 -1.929514   \n",
       "VALUE -3.864762  0.606913 -0.280230  ...  0.181879 -0.467513 -1.727289   \n",
       "\n",
       "           3540      3541      3542      3543      3544      3545      3546  \n",
       "VALUE -1.516398  0.094447 -1.569766 -0.678858 -0.559935 -0.656613 -0.619179  \n",
       "VALUE -1.464776  0.274390 -1.174481 -0.627605 -0.669845 -0.562442 -0.814464  \n",
       "VALUE -1.417229 -0.134084 -1.447181 -0.809580 -0.727625 -0.659716 -0.742287  \n",
       "VALUE -1.593372 -0.101195  0.183775 -0.868510 -0.166346 -0.547396 -0.721662  \n",
       "VALUE -1.423773 -0.114282 -0.726970 -0.730110 -0.739246 -1.010341 -0.846827  \n",
       "...         ...       ...       ...       ...       ...       ...       ...  \n",
       "VALUE -1.581935  0.257665 -1.039112 -0.704940 -0.658960 -0.523236 -0.792110  \n",
       "VALUE -1.612957  0.286119 -1.180161  0.519697 -0.745760 -0.501697 -0.810299  \n",
       "VALUE -1.720748 -0.314919 -1.789872 -0.669051 -0.583276 -0.446627 -0.845082  \n",
       "VALUE -1.702724  0.049282 -1.007424 -0.663182 -0.437739 -0.386830 -0.713551  \n",
       "VALUE -1.662486 -0.024255 -1.099350 -0.668666 -0.559509 -0.388331 -0.791472  \n",
       "\n",
       "[163 rows x 3547 columns]"
      ]
     },
     "execution_count": 13,
     "metadata": {},
     "output_type": "execute_result"
    }
   ],
   "source": [
    "X"
   ]
  },
  {
   "cell_type": "code",
   "execution_count": 14,
   "metadata": {},
   "outputs": [],
   "source": [
    "X_healthy, X_cancer = X[controls == 1], X[sick == 1]"
   ]
  },
  {
   "cell_type": "code",
   "execution_count": 15,
   "metadata": {},
   "outputs": [],
   "source": [
    "results = ttest_ind(X_healthy, X_cancer).pvalue"
   ]
  },
  {
   "cell_type": "code",
   "execution_count": 16,
   "metadata": {},
   "outputs": [],
   "source": [
    "lowest, pvalues = np.argsort(results)[:5], np.sort(results)[:5]"
   ]
  },
  {
   "cell_type": "code",
   "execution_count": 17,
   "metadata": {},
   "outputs": [
    {
     "data": {
      "text/plain": [
       "(2280    148276\n",
       " 2958    168828\n",
       " 1016     42953\n",
       " 913      42823\n",
       " 1450    145988\n",
       " Name: ID_REF, dtype: int64,\n",
       " array([1.06819761e-05, 1.09182673e-05, 2.47977493e-05, 2.49944720e-05,\n",
       "        2.53269565e-05]))"
      ]
     },
     "execution_count": 17,
     "metadata": {},
     "output_type": "execute_result"
    }
   ],
   "source": [
    "mirnas.iloc[lowest], pvalues"
   ]
  },
  {
   "cell_type": "markdown",
   "metadata": {},
   "source": [
    "### F-test"
   ]
  },
  {
   "cell_type": "code",
   "execution_count": 18,
   "metadata": {},
   "outputs": [],
   "source": [
    "t3 = table"
   ]
  },
  {
   "cell_type": "code",
   "execution_count": 19,
   "metadata": {},
   "outputs": [],
   "source": [
    "f, p = f_classif(t3, sick)"
   ]
  },
  {
   "cell_type": "code",
   "execution_count": 20,
   "metadata": {},
   "outputs": [
    {
     "data": {
      "text/plain": [
       "0.39949717150584324"
      ]
     },
     "execution_count": 20,
     "metadata": {},
     "output_type": "execute_result"
    }
   ],
   "source": [
    "np.mean(p)"
   ]
  },
  {
   "cell_type": "markdown",
   "metadata": {},
   "source": [
    "### ANOVA"
   ]
  },
  {
   "cell_type": "code",
   "execution_count": 21,
   "metadata": {},
   "outputs": [
    {
     "data": {
      "text/html": [
       "<div>\n",
       "<style scoped>\n",
       "    .dataframe tbody tr th:only-of-type {\n",
       "        vertical-align: middle;\n",
       "    }\n",
       "\n",
       "    .dataframe tbody tr th {\n",
       "        vertical-align: top;\n",
       "    }\n",
       "\n",
       "    .dataframe thead th {\n",
       "        text-align: right;\n",
       "    }\n",
       "</style>\n",
       "<table border=\"1\" class=\"dataframe\">\n",
       "  <thead>\n",
       "    <tr style=\"text-align: right;\">\n",
       "      <th></th>\n",
       "      <th>0</th>\n",
       "      <th>1</th>\n",
       "      <th>2</th>\n",
       "      <th>3</th>\n",
       "      <th>4</th>\n",
       "      <th>5</th>\n",
       "      <th>6</th>\n",
       "      <th>7</th>\n",
       "      <th>8</th>\n",
       "      <th>9</th>\n",
       "      <th>...</th>\n",
       "      <th>3537</th>\n",
       "      <th>3538</th>\n",
       "      <th>3539</th>\n",
       "      <th>3540</th>\n",
       "      <th>3541</th>\n",
       "      <th>3542</th>\n",
       "      <th>3543</th>\n",
       "      <th>3544</th>\n",
       "      <th>3545</th>\n",
       "      <th>3546</th>\n",
       "    </tr>\n",
       "  </thead>\n",
       "  <tbody>\n",
       "    <tr>\n",
       "      <th>VALUE</th>\n",
       "      <td>0.010494</td>\n",
       "      <td>-1.407409</td>\n",
       "      <td>1.475053</td>\n",
       "      <td>-3.202545</td>\n",
       "      <td>-0.559560</td>\n",
       "      <td>0.026980</td>\n",
       "      <td>-0.732104</td>\n",
       "      <td>-3.151635</td>\n",
       "      <td>0.444564</td>\n",
       "      <td>0.677118</td>\n",
       "      <td>...</td>\n",
       "      <td>-0.189455</td>\n",
       "      <td>-0.671585</td>\n",
       "      <td>-1.955679</td>\n",
       "      <td>-1.516398</td>\n",
       "      <td>0.094447</td>\n",
       "      <td>-1.569766</td>\n",
       "      <td>-0.678858</td>\n",
       "      <td>-0.559935</td>\n",
       "      <td>-0.656613</td>\n",
       "      <td>-0.619179</td>\n",
       "    </tr>\n",
       "    <tr>\n",
       "      <th>VALUE</th>\n",
       "      <td>-0.046461</td>\n",
       "      <td>-1.683871</td>\n",
       "      <td>1.405158</td>\n",
       "      <td>-3.574522</td>\n",
       "      <td>-0.319152</td>\n",
       "      <td>0.269934</td>\n",
       "      <td>-0.604729</td>\n",
       "      <td>-3.084154</td>\n",
       "      <td>0.485789</td>\n",
       "      <td>0.328734</td>\n",
       "      <td>...</td>\n",
       "      <td>-0.032436</td>\n",
       "      <td>-0.611187</td>\n",
       "      <td>-2.025718</td>\n",
       "      <td>-1.464776</td>\n",
       "      <td>0.274390</td>\n",
       "      <td>-1.174481</td>\n",
       "      <td>-0.627605</td>\n",
       "      <td>-0.669845</td>\n",
       "      <td>-0.562442</td>\n",
       "      <td>-0.814464</td>\n",
       "    </tr>\n",
       "    <tr>\n",
       "      <th>VALUE</th>\n",
       "      <td>-0.434401</td>\n",
       "      <td>-1.779390</td>\n",
       "      <td>1.471687</td>\n",
       "      <td>-4.407035</td>\n",
       "      <td>-1.026731</td>\n",
       "      <td>0.326473</td>\n",
       "      <td>-0.602487</td>\n",
       "      <td>-3.589156</td>\n",
       "      <td>0.591669</td>\n",
       "      <td>-0.187806</td>\n",
       "      <td>...</td>\n",
       "      <td>-0.204983</td>\n",
       "      <td>-0.621601</td>\n",
       "      <td>-2.275938</td>\n",
       "      <td>-1.417229</td>\n",
       "      <td>-0.134084</td>\n",
       "      <td>-1.447181</td>\n",
       "      <td>-0.809580</td>\n",
       "      <td>-0.727625</td>\n",
       "      <td>-0.659716</td>\n",
       "      <td>-0.742287</td>\n",
       "    </tr>\n",
       "    <tr>\n",
       "      <th>VALUE</th>\n",
       "      <td>-0.700871</td>\n",
       "      <td>-1.586739</td>\n",
       "      <td>1.384012</td>\n",
       "      <td>-2.408802</td>\n",
       "      <td>0.082291</td>\n",
       "      <td>0.109722</td>\n",
       "      <td>-0.572143</td>\n",
       "      <td>-1.415818</td>\n",
       "      <td>0.576520</td>\n",
       "      <td>0.787149</td>\n",
       "      <td>...</td>\n",
       "      <td>0.035057</td>\n",
       "      <td>-0.603761</td>\n",
       "      <td>-2.322062</td>\n",
       "      <td>-1.593372</td>\n",
       "      <td>-0.101195</td>\n",
       "      <td>0.183775</td>\n",
       "      <td>-0.868510</td>\n",
       "      <td>-0.166346</td>\n",
       "      <td>-0.547396</td>\n",
       "      <td>-0.721662</td>\n",
       "    </tr>\n",
       "    <tr>\n",
       "      <th>VALUE</th>\n",
       "      <td>-0.260650</td>\n",
       "      <td>-1.182717</td>\n",
       "      <td>1.335324</td>\n",
       "      <td>-3.541777</td>\n",
       "      <td>-1.094086</td>\n",
       "      <td>0.426749</td>\n",
       "      <td>-0.391624</td>\n",
       "      <td>-3.103124</td>\n",
       "      <td>0.402727</td>\n",
       "      <td>0.474227</td>\n",
       "      <td>...</td>\n",
       "      <td>-0.396745</td>\n",
       "      <td>-0.733530</td>\n",
       "      <td>-1.607247</td>\n",
       "      <td>-1.423773</td>\n",
       "      <td>-0.114282</td>\n",
       "      <td>-0.726970</td>\n",
       "      <td>-0.730110</td>\n",
       "      <td>-0.739246</td>\n",
       "      <td>-1.010341</td>\n",
       "      <td>-0.846827</td>\n",
       "    </tr>\n",
       "    <tr>\n",
       "      <th>...</th>\n",
       "      <td>...</td>\n",
       "      <td>...</td>\n",
       "      <td>...</td>\n",
       "      <td>...</td>\n",
       "      <td>...</td>\n",
       "      <td>...</td>\n",
       "      <td>...</td>\n",
       "      <td>...</td>\n",
       "      <td>...</td>\n",
       "      <td>...</td>\n",
       "      <td>...</td>\n",
       "      <td>...</td>\n",
       "      <td>...</td>\n",
       "      <td>...</td>\n",
       "      <td>...</td>\n",
       "      <td>...</td>\n",
       "      <td>...</td>\n",
       "      <td>...</td>\n",
       "      <td>...</td>\n",
       "      <td>...</td>\n",
       "      <td>...</td>\n",
       "    </tr>\n",
       "    <tr>\n",
       "      <th>VALUE</th>\n",
       "      <td>-0.849401</td>\n",
       "      <td>-1.704188</td>\n",
       "      <td>1.258121</td>\n",
       "      <td>-3.291897</td>\n",
       "      <td>-0.940261</td>\n",
       "      <td>0.081012</td>\n",
       "      <td>-0.610622</td>\n",
       "      <td>-2.702150</td>\n",
       "      <td>0.458538</td>\n",
       "      <td>0.781526</td>\n",
       "      <td>...</td>\n",
       "      <td>-0.084094</td>\n",
       "      <td>-0.694373</td>\n",
       "      <td>-1.750953</td>\n",
       "      <td>-1.581935</td>\n",
       "      <td>0.257665</td>\n",
       "      <td>-1.039112</td>\n",
       "      <td>-0.704940</td>\n",
       "      <td>-0.658960</td>\n",
       "      <td>-0.523236</td>\n",
       "      <td>-0.792110</td>\n",
       "    </tr>\n",
       "    <tr>\n",
       "      <th>VALUE</th>\n",
       "      <td>-1.095159</td>\n",
       "      <td>-1.811575</td>\n",
       "      <td>1.403459</td>\n",
       "      <td>-2.535752</td>\n",
       "      <td>-0.406089</td>\n",
       "      <td>0.000447</td>\n",
       "      <td>-0.679938</td>\n",
       "      <td>-2.384535</td>\n",
       "      <td>0.662613</td>\n",
       "      <td>1.218111</td>\n",
       "      <td>...</td>\n",
       "      <td>-0.204615</td>\n",
       "      <td>-0.554988</td>\n",
       "      <td>-1.834644</td>\n",
       "      <td>-1.612957</td>\n",
       "      <td>0.286119</td>\n",
       "      <td>-1.180161</td>\n",
       "      <td>0.519697</td>\n",
       "      <td>-0.745760</td>\n",
       "      <td>-0.501697</td>\n",
       "      <td>-0.810299</td>\n",
       "    </tr>\n",
       "    <tr>\n",
       "      <th>VALUE</th>\n",
       "      <td>-1.464105</td>\n",
       "      <td>-2.018576</td>\n",
       "      <td>1.523334</td>\n",
       "      <td>-3.172166</td>\n",
       "      <td>-0.256080</td>\n",
       "      <td>0.373576</td>\n",
       "      <td>-0.635107</td>\n",
       "      <td>-2.487154</td>\n",
       "      <td>0.482363</td>\n",
       "      <td>0.923342</td>\n",
       "      <td>...</td>\n",
       "      <td>-0.082325</td>\n",
       "      <td>-0.701619</td>\n",
       "      <td>-2.009718</td>\n",
       "      <td>-1.720748</td>\n",
       "      <td>-0.314919</td>\n",
       "      <td>-1.789872</td>\n",
       "      <td>-0.669051</td>\n",
       "      <td>-0.583276</td>\n",
       "      <td>-0.446627</td>\n",
       "      <td>-0.845082</td>\n",
       "    </tr>\n",
       "    <tr>\n",
       "      <th>VALUE</th>\n",
       "      <td>-0.700562</td>\n",
       "      <td>-1.508051</td>\n",
       "      <td>1.556278</td>\n",
       "      <td>-4.315787</td>\n",
       "      <td>-1.884412</td>\n",
       "      <td>0.475398</td>\n",
       "      <td>-0.576680</td>\n",
       "      <td>-3.827294</td>\n",
       "      <td>0.632676</td>\n",
       "      <td>-0.362867</td>\n",
       "      <td>...</td>\n",
       "      <td>0.078660</td>\n",
       "      <td>-0.920747</td>\n",
       "      <td>-1.929514</td>\n",
       "      <td>-1.702724</td>\n",
       "      <td>0.049282</td>\n",
       "      <td>-1.007424</td>\n",
       "      <td>-0.663182</td>\n",
       "      <td>-0.437739</td>\n",
       "      <td>-0.386830</td>\n",
       "      <td>-0.713551</td>\n",
       "    </tr>\n",
       "    <tr>\n",
       "      <th>VALUE</th>\n",
       "      <td>-0.414108</td>\n",
       "      <td>-1.932599</td>\n",
       "      <td>1.311914</td>\n",
       "      <td>-4.301587</td>\n",
       "      <td>-1.323204</td>\n",
       "      <td>0.476292</td>\n",
       "      <td>-0.496884</td>\n",
       "      <td>-3.864762</td>\n",
       "      <td>0.606913</td>\n",
       "      <td>-0.280230</td>\n",
       "      <td>...</td>\n",
       "      <td>0.181879</td>\n",
       "      <td>-0.467513</td>\n",
       "      <td>-1.727289</td>\n",
       "      <td>-1.662486</td>\n",
       "      <td>-0.024255</td>\n",
       "      <td>-1.099350</td>\n",
       "      <td>-0.668666</td>\n",
       "      <td>-0.559509</td>\n",
       "      <td>-0.388331</td>\n",
       "      <td>-0.791472</td>\n",
       "    </tr>\n",
       "  </tbody>\n",
       "</table>\n",
       "<p>163 rows × 3547 columns</p>\n",
       "</div>"
      ],
      "text/plain": [
       "           0         1         2         3         4         5         6     \\\n",
       "VALUE  0.010494 -1.407409  1.475053 -3.202545 -0.559560  0.026980 -0.732104   \n",
       "VALUE -0.046461 -1.683871  1.405158 -3.574522 -0.319152  0.269934 -0.604729   \n",
       "VALUE -0.434401 -1.779390  1.471687 -4.407035 -1.026731  0.326473 -0.602487   \n",
       "VALUE -0.700871 -1.586739  1.384012 -2.408802  0.082291  0.109722 -0.572143   \n",
       "VALUE -0.260650 -1.182717  1.335324 -3.541777 -1.094086  0.426749 -0.391624   \n",
       "...         ...       ...       ...       ...       ...       ...       ...   \n",
       "VALUE -0.849401 -1.704188  1.258121 -3.291897 -0.940261  0.081012 -0.610622   \n",
       "VALUE -1.095159 -1.811575  1.403459 -2.535752 -0.406089  0.000447 -0.679938   \n",
       "VALUE -1.464105 -2.018576  1.523334 -3.172166 -0.256080  0.373576 -0.635107   \n",
       "VALUE -0.700562 -1.508051  1.556278 -4.315787 -1.884412  0.475398 -0.576680   \n",
       "VALUE -0.414108 -1.932599  1.311914 -4.301587 -1.323204  0.476292 -0.496884   \n",
       "\n",
       "           7         8         9     ...      3537      3538      3539  \\\n",
       "VALUE -3.151635  0.444564  0.677118  ... -0.189455 -0.671585 -1.955679   \n",
       "VALUE -3.084154  0.485789  0.328734  ... -0.032436 -0.611187 -2.025718   \n",
       "VALUE -3.589156  0.591669 -0.187806  ... -0.204983 -0.621601 -2.275938   \n",
       "VALUE -1.415818  0.576520  0.787149  ...  0.035057 -0.603761 -2.322062   \n",
       "VALUE -3.103124  0.402727  0.474227  ... -0.396745 -0.733530 -1.607247   \n",
       "...         ...       ...       ...  ...       ...       ...       ...   \n",
       "VALUE -2.702150  0.458538  0.781526  ... -0.084094 -0.694373 -1.750953   \n",
       "VALUE -2.384535  0.662613  1.218111  ... -0.204615 -0.554988 -1.834644   \n",
       "VALUE -2.487154  0.482363  0.923342  ... -0.082325 -0.701619 -2.009718   \n",
       "VALUE -3.827294  0.632676 -0.362867  ...  0.078660 -0.920747 -1.929514   \n",
       "VALUE -3.864762  0.606913 -0.280230  ...  0.181879 -0.467513 -1.727289   \n",
       "\n",
       "           3540      3541      3542      3543      3544      3545      3546  \n",
       "VALUE -1.516398  0.094447 -1.569766 -0.678858 -0.559935 -0.656613 -0.619179  \n",
       "VALUE -1.464776  0.274390 -1.174481 -0.627605 -0.669845 -0.562442 -0.814464  \n",
       "VALUE -1.417229 -0.134084 -1.447181 -0.809580 -0.727625 -0.659716 -0.742287  \n",
       "VALUE -1.593372 -0.101195  0.183775 -0.868510 -0.166346 -0.547396 -0.721662  \n",
       "VALUE -1.423773 -0.114282 -0.726970 -0.730110 -0.739246 -1.010341 -0.846827  \n",
       "...         ...       ...       ...       ...       ...       ...       ...  \n",
       "VALUE -1.581935  0.257665 -1.039112 -0.704940 -0.658960 -0.523236 -0.792110  \n",
       "VALUE -1.612957  0.286119 -1.180161  0.519697 -0.745760 -0.501697 -0.810299  \n",
       "VALUE -1.720748 -0.314919 -1.789872 -0.669051 -0.583276 -0.446627 -0.845082  \n",
       "VALUE -1.702724  0.049282 -1.007424 -0.663182 -0.437739 -0.386830 -0.713551  \n",
       "VALUE -1.662486 -0.024255 -1.099350 -0.668666 -0.559509 -0.388331 -0.791472  \n",
       "\n",
       "[163 rows x 3547 columns]"
      ]
     },
     "execution_count": 21,
     "metadata": {},
     "output_type": "execute_result"
    }
   ],
   "source": [
    "t3"
   ]
  },
  {
   "cell_type": "code",
   "execution_count": 22,
   "metadata": {},
   "outputs": [],
   "source": [
    "X = np.array(sick).reshape(-1, 1)"
   ]
  },
  {
   "cell_type": "code",
   "execution_count": 23,
   "metadata": {},
   "outputs": [
    {
     "data": {
      "text/plain": [
       "LinearRegression()"
      ]
     },
     "execution_count": 23,
     "metadata": {},
     "output_type": "execute_result"
    }
   ],
   "source": [
    "linreg = LinearRegression()\n",
    "linreg.fit(X, t3)"
   ]
  },
  {
   "cell_type": "code",
   "execution_count": 24,
   "metadata": {},
   "outputs": [
    {
     "data": {
      "text/plain": [
       "0.010860571135169809"
      ]
     },
     "execution_count": 24,
     "metadata": {},
     "output_type": "execute_result"
    }
   ],
   "source": [
    "fitted = linreg.predict(X)\n",
    "explained_variance_score(t3, fitted)"
   ]
  },
  {
   "cell_type": "markdown",
   "metadata": {},
   "source": [
    "### Mean-variance-plot"
   ]
  },
  {
   "cell_type": "code",
   "execution_count": 25,
   "metadata": {},
   "outputs": [
    {
     "data": {
      "text/plain": [
       "0      -0.604452\n",
       "1      -1.596269\n",
       "2       1.408494\n",
       "3      -3.739683\n",
       "4      -1.115383\n",
       "          ...   \n",
       "3542   -1.511151\n",
       "3543   -0.765627\n",
       "3544   -0.555159\n",
       "3545   -0.550201\n",
       "3546   -0.769894\n",
       "Length: 3547, dtype: float64"
      ]
     },
     "execution_count": 25,
     "metadata": {},
     "output_type": "execute_result"
    }
   ],
   "source": [
    "np.mean(table)"
   ]
  },
  {
   "cell_type": "code",
   "execution_count": 26,
   "metadata": {
    "tags": []
   },
   "outputs": [],
   "source": [
    "def get_means_and_variances(table):\n",
    "    return np.mean(table), np.var(table, ddof=1)"
   ]
  },
  {
   "cell_type": "code",
   "execution_count": 27,
   "metadata": {
    "tags": []
   },
   "outputs": [],
   "source": [
    "def mean_variance_plot(table):\n",
    "    means, variances = get_means_and_variances(table)\n",
    "    plt.scatter(means, variances)\n",
    "    plt.xlabel(\"mean\")\n",
    "    plt.ylabel(\"variance\")\n",
    "    plt.plot()"
   ]
  },
  {
   "cell_type": "code",
   "execution_count": 28,
   "metadata": {},
   "outputs": [
    {
     "data": {
      "image/png": "[encoded data removed]",
      "text/plain": [
       "<Figure size 432x288 with 1 Axes>"
      ]
     },
     "metadata": {
      "needs_background": "light"
     },
     "output_type": "display_data"
    }
   ],
   "source": [
    "mean_variance_plot(table)"
   ]
  },
  {
   "cell_type": "markdown",
   "metadata": {
    "tags": []
   },
   "source": [
    "### Log transformation"
   ]
  },
  {
   "cell_type": "code",
   "execution_count": 29,
   "metadata": {},
   "outputs": [],
   "source": [
    "log_table = table #np.log2(table)"
   ]
  },
  {
   "cell_type": "code",
   "execution_count": 30,
   "metadata": {},
   "outputs": [
    {
     "data": {
      "image/png": "[encoded data removed]",
      "text/plain": [
       "<Figure size 432x288 with 1 Axes>"
      ]
     },
     "metadata": {
      "needs_background": "light"
     },
     "output_type": "display_data"
    }
   ],
   "source": [
    "mean_variance_plot(log_table)"
   ]
  },
  {
   "cell_type": "code",
   "execution_count": 31,
   "metadata": {
    "tags": []
   },
   "outputs": [],
   "source": [
    "norm_log_table = log_table #- np.mean(log_table)"
   ]
  },
  {
   "cell_type": "code",
   "execution_count": 32,
   "metadata": {},
   "outputs": [],
   "source": [
    "#norm_log_table /= np.sqrt(np.mean(np.var(norm_log_table, ddof=1)))"
   ]
  },
  {
   "cell_type": "code",
   "execution_count": 33,
   "metadata": {},
   "outputs": [
    {
     "data": {
      "image/png": "[encoded data removed]",
      "text/plain": [
       "<Figure size 432x288 with 1 Axes>"
      ]
     },
     "metadata": {
      "needs_background": "light"
     },
     "output_type": "display_data"
    }
   ],
   "source": [
    "mean_variance_plot(norm_log_table)"
   ]
  },
  {
   "cell_type": "markdown",
   "metadata": {},
   "source": [
    "### PCA"
   ]
  },
  {
   "cell_type": "code",
   "execution_count": 34,
   "metadata": {
    "tags": []
   },
   "outputs": [],
   "source": [
    "pca = decomposition.PCA(n_components=10)"
   ]
  },
  {
   "cell_type": "code",
   "execution_count": 35,
   "metadata": {},
   "outputs": [
    {
     "data": {
      "text/plain": [
       "PCA(n_components=10)"
      ]
     },
     "execution_count": 35,
     "metadata": {},
     "output_type": "execute_result"
    }
   ],
   "source": [
    "pca.fit(norm_log_table)"
   ]
  },
  {
   "cell_type": "code",
   "execution_count": 36,
   "metadata": {},
   "outputs": [
    {
     "data": {
      "text/plain": [
       "array([0.118042  , 0.10529381, 0.08550708, 0.06696114, 0.05081276,\n",
       "       0.04746768, 0.03730284, 0.03182292, 0.0284573 , 0.02488633])"
      ]
     },
     "execution_count": 36,
     "metadata": {},
     "output_type": "execute_result"
    }
   ],
   "source": [
    "pca.explained_variance_ratio_"
   ]
  },
  {
   "cell_type": "code",
   "execution_count": 37,
   "metadata": {
    "tags": []
   },
   "outputs": [],
   "source": [
    "components = pca.transform(norm_log_table)"
   ]
  },
  {
   "cell_type": "code",
   "execution_count": 38,
   "metadata": {},
   "outputs": [
    {
     "data": {
      "text/plain": [
       "(163, 10)"
      ]
     },
     "execution_count": 38,
     "metadata": {},
     "output_type": "execute_result"
    }
   ],
   "source": [
    "components.shape"
   ]
  },
  {
   "cell_type": "code",
   "execution_count": 39,
   "metadata": {},
   "outputs": [
    {
     "data": {
      "text/plain": [
       "77"
      ]
     },
     "execution_count": 39,
     "metadata": {},
     "output_type": "execute_result"
    }
   ],
   "source": [
    "sum(controls)"
   ]
  },
  {
   "cell_type": "code",
   "execution_count": 40,
   "metadata": {},
   "outputs": [
    {
     "data": {
      "image/png": "[encoded data removed]",
      "text/plain": [
       "<Figure size 576x576 with 1 Axes>"
      ]
     },
     "metadata": {
      "needs_background": "light"
     },
     "output_type": "display_data"
    }
   ],
   "source": [
    "fig = plt.figure(figsize = (8,8))\n",
    "ax = fig.add_subplot(1,1,1)\n",
    "\n",
    "ax.set_xlabel('Principal Component 1', fontsize = 15)\n",
    "ax.set_ylabel('Principal Component 2', fontsize = 15)\n",
    "ax.set_title('2 component PCA', fontsize = 20)\n",
    "targets = ['Cancer', 'Healthy']\n",
    "colors = ['r', 'g']\n",
    "ax.scatter(components[controls == False, 0], components[controls == False, 1], c = 'r', s = 10)\n",
    "ax.scatter(components[controls == True, 0], components[controls == True, 1], c = 'g', s = 10)\n",
    "ax.legend(targets)\n",
    "ax.grid()"
   ]
  },
  {
   "cell_type": "code",
   "execution_count": 41,
   "metadata": {
    "tags": []
   },
   "outputs": [],
   "source": [
    "components2 = components[components[:,0] < 20, :]\n",
    "controls2 = controls[components[:,0] < 20]"
   ]
  },
  {
   "cell_type": "code",
   "execution_count": 42,
   "metadata": {},
   "outputs": [
    {
     "data": {
      "image/png": "[encoded data removed]",
      "text/plain": [
       "<Figure size 576x576 with 1 Axes>"
      ]
     },
     "metadata": {
      "needs_background": "light"
     },
     "output_type": "display_data"
    }
   ],
   "source": [
    "fig = plt.figure(figsize = (8,8))\n",
    "ax = fig.add_subplot(1,1,1)\n",
    "\n",
    "ax.set_xlabel('Principal Component 1', fontsize = 15)\n",
    "ax.set_ylabel('Principal Component 2', fontsize = 15)\n",
    "ax.set_title('2 component PCA', fontsize = 20)\n",
    "targets = ['Cancer', 'Healthy']\n",
    "colors = ['r', 'g']\n",
    "ax.scatter(components2[controls2 == False, 0], components2[controls2 == False, 1], c = 'r', s = 10)\n",
    "ax.scatter(components2[controls2 == True, 0], components2[controls2 == True, 1], c = 'g', s = 10)\n",
    "ax.legend(targets)\n",
    "ax.grid()"
   ]
  },
  {
   "cell_type": "markdown",
   "metadata": {},
   "source": [
    "### Linear regression adjustments"
   ]
  },
  {
   "cell_type": "code",
   "execution_count": 43,
   "metadata": {},
   "outputs": [
    {
     "data": {
      "text/plain": [
       "{'title': ['control highrisk 12'],\n",
       " 'geo_accession': ['GSM1000253'],\n",
       " 'status': ['Public on Sep 11 2012'],\n",
       " 'submission_date': ['Sep 10 2012'],\n",
       " 'last_update_date': ['Sep 11 2012'],\n",
       " 'type': ['RNA'],\n",
       " 'channel_count': ['2'],\n",
       " 'source_name_ch1': ['blood, no lung cancer or nodule, individual 115'],\n",
       " 'organism_ch1': ['Homo sapiens'],\n",
       " 'taxid_ch1': ['9606'],\n",
       " 'characteristics_ch1': ['tissue: blood',\n",
       "  'gender: male',\n",
       "  'age: 57 y',\n",
       "  'disease state: lung without lung cancer or non-cancerous nodule',\n",
       "  'lung disease: None (no current or past lung cancer or non-cancerous nodule)',\n",
       "  'individual: 115'],\n",
       " 'molecule_ch1': ['total RNA'],\n",
       " 'extract_protocol_ch1': ['Total RNA was isolated from blood collected and stored in PAXgene Blood RNA tubes using a PAXgene Blood miRNA kit at the Roswell Park Cancer Institute, Buffalo, NY, USA as per the protocol suggested by the manufacturer (Qiagen, Valencia, CA, USA). The human universal reference RNA was made by pooling contents of FirstChoice total RNA panel that is made of RNA from different tissues of multiple individuals (Ambion, Austin, TX, USA; catalog no. AM6000).'],\n",
       " 'label_ch1': ['Hy3'],\n",
       " 'label_protocol_ch1': ['RNA was labeled by Exiqon, Vedbaek, Denmark using the miRCURY LNA microRNA Power labeling kit. Five hundred ng of RNA, as quantified using Bioanalyzer (Agilent, Santa Clara, CA, USA), was used per labeling reaction with the Cy3-like Hy3 dye. A human universal reference RNA, made by pooling contents of FirstChoice total RNA panel (Ambion, Austin, TX, USA; catalog no. AM6000), was similarly labeled with the Cy5-like Hy5 dye. Sixty-two synthetic small RNAs were spiked-in to the RNA samples before labeling as per the kit protocol.'],\n",
       " 'source_name_ch2': ['Human universal reference RNA from Ambion'],\n",
       " 'organism_ch2': ['Homo sapiens'],\n",
       " 'taxid_ch2': ['9606'],\n",
       " 'characteristics_ch2': ['tissue: Multiple',\n",
       "  'gender: Mixed',\n",
       "  'sample type: Human universal reference RNA from Ambion'],\n",
       " 'molecule_ch2': ['total RNA'],\n",
       " 'extract_protocol_ch2': ['Total RNA was isolated from blood collected and stored in PAXgene Blood RNA tubes using a PAXgene Blood miRNA kit at the Roswell Park Cancer Institute, Buffalo, NY, USA as per the protocol suggested by the manufacturer (Qiagen, Valencia, CA, USA). The human universal reference RNA was made by pooling contents of FirstChoice total RNA panel that is made of RNA from different tissues of multiple individuals (Ambion, Austin, TX, USA; catalog no. AM6000).'],\n",
       " 'label_ch2': ['Hy5'],\n",
       " 'label_protocol_ch2': ['RNA was labeled by Exiqon, Vedbaek, Denmark using the miRCURY LNA microRNA Power labeling kit. Five hundred ng of RNA, as quantified using Bioanalyzer (Agilent, Santa Clara, CA, USA), was used per labeling reaction with the Cy3-like Hy3 dye. A human universal reference RNA, made by pooling contents of FirstChoice total RNA panel (Ambion, Austin, TX, USA; catalog no. AM6000), was similarly labeled with the Cy5-like Hy5 dye. Sixty-two synthetic small RNAs were spiked-in to the RNA samples before labeling as per the kit protocol.'],\n",
       " 'hyb_protocol': ['Hybridization of the mix of Hy3-labeled sample and Hy5-labeled reference RNAs to the arrays at 56 C for 16 hours followed by washing was performed by Exiqon (Vedbaek, Denmark) on an HS Pro instrument (Tecan, MÃ¤nnedorf, Switzerland). The seventh generation miRCURY LNA microRNA arrays (Exiqon, Vedbaek, Denmark) that were used have approx. 1892 locked nucleic acid oligonucleotide probes on quadruplicate 100 ÂµM-sized probe-spots (185 ÂµM inter-spot distance) to detect 20 human non-microRNA small RNAs (20 array probes), 25 Exion-proprietary human miRPlus microRNAs (25 probes) and 1916 human miRBase microRNA database microRNAs (1892 probes). Thirty of the 1892+25=1917 probes recognize a total of 72 multiple microRNAs (2-6 per probe). Some of the microRNAs recognized by the 30 are also recognized by other, one-microRNA-specific probes. The array also has probes for viral, mouse and rat microRNAs.'],\n",
       " 'scan_protocol': ['Arrays were scanned, after hybridization and washing, using the G2505B scanning system (Agilent, Santa Clara, CA, USA) by Exiqon (Vedbaek, Denmark).'],\n",
       " 'description': ['files with prefix 1_ are for Hy3 (Cy3) signals and 2_ for Hy5'],\n",
       " 'data_processing': [\"Array data processing was done in R (version 2.14.1) using the limma (version 3.10.2) Bioconductor package. The 'normexp' method with offset=10 was used for background-correction, and followed with within-array global 'loess' normalization, with span=1/3 and values from probe-spots with flag-values >1 ignored, and then, between-array 'quantile' normalization. For probe-set summarization, the median of the values from multiple spots was used when the ratio of the maximum and minimum values was >1.5; else, the mean was used.\"],\n",
       " 'platform_id': ['GPL16016'],\n",
       " 'contact_name': ['Santosh,Kumar,Patnaik'],\n",
       " 'contact_phone': ['716-8458364'],\n",
       " 'contact_department': ['Thoracic Surgery'],\n",
       " 'contact_institute': ['Roswell Park Comprehensive Cancer Center'],\n",
       " 'contact_address': ['Elm and Carlton Streets'],\n",
       " 'contact_city': ['Buffalo'],\n",
       " 'contact_state': ['NY'],\n",
       " 'contact_zip/postal_code': ['14263'],\n",
       " 'contact_country': ['USA'],\n",
       " 'supplementary_file': ['ftp://ftp.ncbi.nlm.nih.gov/geo/samples/GSM1000nnn/GSM1000253/suppl/GSM1000253_0_Hy5_Exiqon_19705785_S01.txt.gz',\n",
       "  'ftp://ftp.ncbi.nlm.nih.gov/geo/samples/GSM1000nnn/GSM1000253/suppl/GSM1000253_1_Hy3_Exiqon_19705785_S01.txt.gz'],\n",
       " 'series_id': ['GSE40738'],\n",
       " 'data_row_count': ['3547']}"
      ]
     },
     "execution_count": 43,
     "metadata": {},
     "output_type": "execute_result"
    }
   ],
   "source": [
    "gsm_list[30].metadata"
   ]
  },
  {
   "cell_type": "code",
   "execution_count": 44,
   "metadata": {},
   "outputs": [],
   "source": [
    "sex = np.array([\"female\" in k.metadata[\"characteristics_ch1\"][2] if \"gender\" in k.metadata[\"characteristics_ch1\"][2] else \"female\" in k.metadata[\"characteristics_ch1\"][1] for k in gsm_list])\n",
    "age = np.array([float(k.metadata[\"characteristics_ch1\"][3].split(\" \")[1].replace(\"NA\", \"NaN\")) if \"age\" in k.metadata[\"characteristics_ch1\"][3] else float(k.metadata[\"characteristics_ch1\"][2].split(\" \")[1].replace(\"NA\", \"NaN\")) for k in gsm_list])"
   ]
  },
  {
   "cell_type": "code",
   "execution_count": 45,
   "metadata": {},
   "outputs": [],
   "source": [
    "covars = pd.DataFrame(np.array([sex, age]).transpose(), columns=[\"sex\", \"age\"])"
   ]
  },
  {
   "cell_type": "code",
   "execution_count": 46,
   "metadata": {},
   "outputs": [],
   "source": [
    "covars = covars.fillna(covars.mean())"
   ]
  },
  {
   "cell_type": "code",
   "execution_count": 47,
   "metadata": {},
   "outputs": [
    {
     "data": {
      "text/plain": [
       "LinearRegression()"
      ]
     },
     "execution_count": 47,
     "metadata": {},
     "output_type": "execute_result"
    }
   ],
   "source": [
    "linreg = LinearRegression()\n",
    "linreg.fit(covars, norm_log_table)"
   ]
  },
  {
   "cell_type": "code",
   "execution_count": 48,
   "metadata": {},
   "outputs": [],
   "source": [
    "adj_norm_log_table = norm_log_table #- linreg.predict(covars)"
   ]
  },
  {
   "cell_type": "markdown",
   "metadata": {
    "tags": []
   },
   "source": [
    "# PCA"
   ]
  },
  {
   "cell_type": "code",
   "execution_count": 49,
   "metadata": {
    "tags": []
   },
   "outputs": [],
   "source": [
    "pca = decomposition.PCA(n_components=2)"
   ]
  },
  {
   "cell_type": "code",
   "execution_count": 50,
   "metadata": {},
   "outputs": [
    {
     "data": {
      "text/plain": [
       "PCA(n_components=2)"
      ]
     },
     "execution_count": 50,
     "metadata": {},
     "output_type": "execute_result"
    }
   ],
   "source": [
    "pca.fit(adj_norm_log_table)"
   ]
  },
  {
   "cell_type": "code",
   "execution_count": 51,
   "metadata": {
    "tags": []
   },
   "outputs": [],
   "source": [
    "components = pca.transform(adj_norm_log_table)"
   ]
  },
  {
   "cell_type": "code",
   "execution_count": 52,
   "metadata": {},
   "outputs": [
    {
     "data": {
      "text/plain": [
       "array([[  3.21353208,  -2.60901966],\n",
       "       [  4.82928996,  -3.7782921 ],\n",
       "       [ -0.07395126,   1.00743464],\n",
       "       [ 13.66693115,   2.62638926],\n",
       "       [  2.0148687 ,   2.49164982],\n",
       "       [  0.74866142,  -8.80013012],\n",
       "       [  0.21507022,  -5.4692677 ],\n",
       "       [  4.53955911,  -8.46821198],\n",
       "       [  9.40794902,   1.74257211],\n",
       "       [  5.42224833,  -1.31958753],\n",
       "       [  7.56252565,  -3.78363447],\n",
       "       [  2.46713781,  -3.73638858],\n",
       "       [  5.6359303 ,  -0.71972164],\n",
       "       [  3.06956617,   4.66595531],\n",
       "       [ -1.07840303,  -8.98515075],\n",
       "       [  8.37196439,  -2.24854173],\n",
       "       [  1.45511453,   1.4579422 ],\n",
       "       [  1.85610436,  -6.17014184],\n",
       "       [  1.34712757,  -6.23765346],\n",
       "       [  2.78913232,   0.28234488],\n",
       "       [  5.70315203,   2.05695786],\n",
       "       [  4.63655153,   1.07851029],\n",
       "       [  4.84985297,   7.42422739],\n",
       "       [  2.34273024,   6.55683109],\n",
       "       [  4.60798203,  -6.67373168],\n",
       "       [  9.83754175,   1.16293625],\n",
       "       [  9.82801173,  13.74853445],\n",
       "       [  6.79266462,  -3.8333087 ],\n",
       "       [  4.99329273,  -6.72896854],\n",
       "       [  5.36715729,  -3.6532253 ],\n",
       "       [  9.68262924,  -2.06732176],\n",
       "       [  6.56368859,   1.21844922],\n",
       "       [  9.3733368 ,   0.22359785],\n",
       "       [  7.50201917,  -4.16903346],\n",
       "       [  2.24896435,   4.81113291],\n",
       "       [-10.3308657 , -11.33327518],\n",
       "       [ -0.19740162,  -2.18898896],\n",
       "       [  2.17821285,  -2.4416974 ],\n",
       "       [ -0.18153868,  -2.5267534 ],\n",
       "       [  3.53119986,  -1.28169087],\n",
       "       [  1.26855707,  -4.12465588],\n",
       "       [ -1.57383698,  -4.74158975],\n",
       "       [  6.81898258,  -0.72354936],\n",
       "       [  1.63035267,   0.95567994],\n",
       "       [  1.43120718,  -2.93901796],\n",
       "       [  2.25123455,  -4.52600045],\n",
       "       [  6.25437053,   4.93741733],\n",
       "       [ -1.6380018 ,  -6.08048459],\n",
       "       [  4.33968074,  -2.31398411],\n",
       "       [  3.44035496,  -5.32133235],\n",
       "       [  8.33139665,   7.6412686 ],\n",
       "       [  0.69018493,   5.87065346],\n",
       "       [  7.91042766,   3.6433825 ],\n",
       "       [  7.77318643,  -5.69183556],\n",
       "       [  2.48028503,  -1.80806529],\n",
       "       [ -2.54600004,   8.27545964],\n",
       "       [ -0.17395497,  -4.47616822],\n",
       "       [ -6.36994568,  -2.52794556],\n",
       "       [ -2.54601492,  -3.70135086],\n",
       "       [ -6.08771995,  -1.57373078],\n",
       "       [-12.84743636,   1.62259421],\n",
       "       [ -6.72568439,  -8.33262215],\n",
       "       [ -1.22796425,   0.66175514],\n",
       "       [ -2.20749025,   2.88974296],\n",
       "       [  2.68200014,   5.55702998],\n",
       "       [ -6.91122285,   1.75992237],\n",
       "       [ -5.78368436,  -5.66735589],\n",
       "       [ -6.21564098,   8.72632351],\n",
       "       [ -1.80318168,  -0.50015035],\n",
       "       [ -4.11212112,  -1.27066523],\n",
       "       [  3.20642879,  -1.08248496],\n",
       "       [ -2.26796373,   5.47210156],\n",
       "       [  1.03642878,   4.48075674],\n",
       "       [  0.93962519,  -0.38593202],\n",
       "       [ -8.79213196,  -0.23185899],\n",
       "       [ -1.74247781,  -1.08140487],\n",
       "       [  1.01878702,  -2.71054536],\n",
       "       [ -1.03807636,   3.01530692],\n",
       "       [ -5.06831975,  -0.23138946],\n",
       "       [ -8.75098055,   7.45948378],\n",
       "       [  0.1647605 ,   8.78861186],\n",
       "       [ -2.00476795,   7.17648468],\n",
       "       [ -2.33118698,   1.74170171],\n",
       "       [ -5.47551237,  -1.67549451],\n",
       "       [  0.29485855,  12.29259503],\n",
       "       [  2.48953174,  -0.41728615],\n",
       "       [ -1.00749526,   0.48142859],\n",
       "       [ -5.75227666,  -1.65786744],\n",
       "       [  0.9512522 ,  12.82128625],\n",
       "       [ -5.42738208,  -5.45623311],\n",
       "       [ -3.19146572,   3.41729934],\n",
       "       [  0.72828945,  -4.98342361],\n",
       "       [ -1.55539269,  -4.9914311 ],\n",
       "       [ -1.12021534,   2.03112689],\n",
       "       [ -1.33462723,   0.96617902],\n",
       "       [ -6.86669854,  -0.05525731],\n",
       "       [ -6.30512859,   8.26105377],\n",
       "       [ -5.96846871,   7.64128671],\n",
       "       [ -4.11700129,  -6.20460738],\n",
       "       [  1.32915363,  11.81874744],\n",
       "       [  4.39204716,   4.96887487],\n",
       "       [-10.56484142,   4.78707973],\n",
       "       [ -8.53339767,   1.25841032],\n",
       "       [ -1.1193596 ,  -4.36116911],\n",
       "       [ -3.91450415,  -3.24101495],\n",
       "       [ -6.51332945,  -2.34224922],\n",
       "       [ -3.40978506,   2.08348986],\n",
       "       [  5.17921007,   1.18273655],\n",
       "       [ 11.07622663,   1.80506557],\n",
       "       [ -1.28567995,   2.12393231],\n",
       "       [ -2.24724898,   0.32219622],\n",
       "       [  0.5038632 ,  -1.1448559 ],\n",
       "       [  1.88085913,  -9.05895512],\n",
       "       [  1.50367896,  -0.0582546 ],\n",
       "       [  1.01542422,   9.84621629],\n",
       "       [ -5.35395237,   4.49045645],\n",
       "       [  4.97500533,  -0.66883443],\n",
       "       [  1.169192  ,  -0.13924237],\n",
       "       [ -6.49895068,  11.35529143],\n",
       "       [ -1.76903862,   0.63260067],\n",
       "       [ -0.15684093,   0.05960453],\n",
       "       [ -3.95376676,   1.16438379],\n",
       "       [ -4.92991686,  -0.67995648],\n",
       "       [  2.51784088,  -1.81446444],\n",
       "       [ -4.08273562,   5.03758209],\n",
       "       [ -0.31713313,   3.62924654],\n",
       "       [-11.48648173,  -7.0593693 ],\n",
       "       [ -0.8444662 ,   4.5726224 ],\n",
       "       [ -3.27894064,  -2.1457247 ],\n",
       "       [ -6.37168055,   1.07007923],\n",
       "       [ -0.30777755,  -1.75938288],\n",
       "       [ -5.7311863 ,   1.13944882],\n",
       "       [ -1.83863239,   4.38694355],\n",
       "       [  0.76014059,  -0.94800845],\n",
       "       [-11.32062907,   2.25815181],\n",
       "       [ -4.62170348,   6.37857032],\n",
       "       [ -5.32604495,   4.37080715],\n",
       "       [  3.36660242,  -0.78446521],\n",
       "       [ -2.46477209,   9.67077057],\n",
       "       [ -2.50707861,  -0.49255185],\n",
       "       [  0.82771109,   2.45062517],\n",
       "       [ -1.18086228,   3.14512745],\n",
       "       [ -8.16269479,   5.89157427],\n",
       "       [  5.90987797,  -4.08244712],\n",
       "       [ -5.44571832,  -5.14272367],\n",
       "       [  3.37002608,  10.92370518],\n",
       "       [ -2.92638125,  -6.18272987],\n",
       "       [ -3.10371367,  -7.17030074],\n",
       "       [ -9.93546649,  -7.09890783],\n",
       "       [ -6.69090287,  -0.86989492],\n",
       "       [ -2.67185058,  -6.20718147],\n",
       "       [  0.49477997,  -4.01711026],\n",
       "       [ -4.19234133,  -0.58110015],\n",
       "       [  2.70373115,  -1.22437147],\n",
       "       [ 10.48831549,  -2.33055145],\n",
       "       [  6.59825599,   0.49488783],\n",
       "       [  0.68024695,  -3.4779956 ],\n",
       "       [ -2.17088281,  -4.68862592],\n",
       "       [  3.65187055,  -3.74887454],\n",
       "       [ 10.13641847,  -3.75357893],\n",
       "       [  8.2243263 ,  -1.44619103],\n",
       "       [ -7.98863062,  -2.39464464],\n",
       "       [ -3.56973823,  -6.63744038]])"
      ]
     },
     "execution_count": 52,
     "metadata": {},
     "output_type": "execute_result"
    }
   ],
   "source": [
    "components"
   ]
  },
  {
   "cell_type": "code",
   "execution_count": 53,
   "metadata": {},
   "outputs": [
    {
     "data": {
      "image/png": "[encoded data removed]",
      "text/plain": [
       "<Figure size 576x576 with 1 Axes>"
      ]
     },
     "metadata": {
      "needs_background": "light"
     },
     "output_type": "display_data"
    }
   ],
   "source": [
    "fig = plt.figure(figsize = (8,8))\n",
    "ax = fig.add_subplot(1,1,1)\n",
    "\n",
    "ax.set_xlabel('Principal Component 1', fontsize = 15)\n",
    "ax.set_ylabel('Principal Component 2', fontsize = 15)\n",
    "ax.set_title('2 component PCA', fontsize = 20)\n",
    "targets = ['Cancer', 'Healthy']\n",
    "colors = ['r', 'g']\n",
    "ax.scatter(components[controls == False, 0], components[controls == False, 1], c = 'r', s = 10)\n",
    "ax.scatter(components[controls == True, 0], components[controls == True, 1], c = 'g', s = 10)\n",
    "ax.legend(targets)\n",
    "ax.grid()"
   ]
  },
  {
   "cell_type": "markdown",
   "metadata": {},
   "source": [
    "### Logistic Regression"
   ]
  },
  {
   "cell_type": "code",
   "execution_count": 54,
   "metadata": {},
   "outputs": [],
   "source": [
    "X_train, X_test, y_train, y_test = train_test_split(adj_norm_log_table, controls, test_size=0.33, random_state=42)"
   ]
  },
  {
   "cell_type": "code",
   "execution_count": 55,
   "metadata": {},
   "outputs": [
    {
     "name": "stderr",
     "output_type": "stream",
     "text": [
      "C:\\Users\\olefr\\AppData\\Local\\Programs\\Python\\Python310\\lib\\site-packages\\sklearn\\linear_model\\_logistic.py:814: ConvergenceWarning: lbfgs failed to converge (status=1):\n",
      "STOP: TOTAL NO. of ITERATIONS REACHED LIMIT.\n",
      "\n",
      "Increase the number of iterations (max_iter) or scale the data as shown in:\n",
      "    https://scikit-learn.org/stable/modules/preprocessing.html\n",
      "Please also refer to the documentation for alternative solver options:\n",
      "    https://scikit-learn.org/stable/modules/linear_model.html#logistic-regression\n",
      "  n_iter_i = _check_optimize_result(\n"
     ]
    },
    {
     "data": {
      "text/plain": [
       "LogisticRegression()"
      ]
     },
     "execution_count": 55,
     "metadata": {},
     "output_type": "execute_result"
    }
   ],
   "source": [
    "model = LogisticRegression()\n",
    "model.fit(X_train, y_train)"
   ]
  },
  {
   "cell_type": "code",
   "execution_count": 56,
   "metadata": {},
   "outputs": [
    {
     "name": "stderr",
     "output_type": "stream",
     "text": [
      "C:\\Users\\olefr\\AppData\\Local\\Programs\\Python\\Python310\\lib\\site-packages\\sklearn\\utils\\deprecation.py:87: FutureWarning: Function plot_roc_curve is deprecated; Function :func:`plot_roc_curve` is deprecated in 1.0 and will be removed in 1.2. Use one of the class methods: :meth:`sklearn.metric.RocCurveDisplay.from_predictions` or :meth:`sklearn.metric.RocCurveDisplay.from_estimator`.\n",
      "  warnings.warn(msg, category=FutureWarning)\n"
     ]
    },
    {
     "data": {
      "text/plain": [
       "<sklearn.metrics._plot.roc_curve.RocCurveDisplay at 0x222c4edf5e0>"
      ]
     },
     "execution_count": 56,
     "metadata": {},
     "output_type": "execute_result"
    },
    {
     "data": {
      "image/png": "[encoded data removed]",
      "text/plain": [
       "<Figure size 432x288 with 1 Axes>"
      ]
     },
     "metadata": {
      "needs_background": "light"
     },
     "output_type": "display_data"
    }
   ],
   "source": [
    "plot_roc_curve(model, X_test, y_test)"
   ]
  },
  {
   "cell_type": "markdown",
   "metadata": {
    "jupyter": {
     "outputs_hidden": true
    }
   },
   "source": [
    "### XGBoost"
   ]
  },
  {
   "cell_type": "code",
   "execution_count": 57,
   "metadata": {},
   "outputs": [
    {
     "name": "stdout",
     "output_type": "stream",
     "text": [
      "[20:08:47] WARNING: C:/Users/Administrator/workspace/xgboost-win64_release_1.5.1/src/learner.cc:1115: Starting in XGBoost 1.3.0, the default evaluation metric used with the objective 'binary:logistic' was changed from 'error' to 'logloss'. Explicitly set eval_metric if you'd like to restore the old behavior.\n"
     ]
    },
    {
     "data": {
      "text/plain": [
       "XGBClassifier(base_score=0.5, booster='gbtree', colsample_bylevel=1,\n",
       "              colsample_bynode=1, colsample_bytree=1, enable_categorical=False,\n",
       "              gamma=0, gpu_id=-1, importance_type=None,\n",
       "              interaction_constraints='', learning_rate=0.300000012,\n",
       "              max_delta_step=0, max_depth=6, min_child_weight=1, missing=nan,\n",
       "              monotone_constraints='()', n_estimators=100, n_jobs=16,\n",
       "              num_parallel_tree=1, predictor='auto', random_state=0,\n",
       "              reg_alpha=0, reg_lambda=1, scale_pos_weight=1, subsample=1,\n",
       "              tree_method='exact', use_label_encoder=False,\n",
       "              validate_parameters=1, verbosity=None)"
      ]
     },
     "execution_count": 57,
     "metadata": {},
     "output_type": "execute_result"
    }
   ],
   "source": [
    "model = XGBClassifier(use_label_encoder=False)\n",
    "model.fit(X_train, y_train)"
   ]
  },
  {
   "cell_type": "code",
   "execution_count": 58,
   "metadata": {},
   "outputs": [
    {
     "name": "stderr",
     "output_type": "stream",
     "text": [
      "C:\\Users\\olefr\\AppData\\Local\\Programs\\Python\\Python310\\lib\\site-packages\\sklearn\\utils\\deprecation.py:87: FutureWarning: Function plot_roc_curve is deprecated; Function :func:`plot_roc_curve` is deprecated in 1.0 and will be removed in 1.2. Use one of the class methods: :meth:`sklearn.metric.RocCurveDisplay.from_predictions` or :meth:`sklearn.metric.RocCurveDisplay.from_estimator`.\n",
      "  warnings.warn(msg, category=FutureWarning)\n"
     ]
    },
    {
     "data": {
      "text/plain": [
       "<sklearn.metrics._plot.roc_curve.RocCurveDisplay at 0x222c4e8c520>"
      ]
     },
     "execution_count": 58,
     "metadata": {},
     "output_type": "execute_result"
    },
    {
     "data": {
      "image/png": "[encoded data removed]",
      "text/plain": [
       "<Figure size 432x288 with 1 Axes>"
      ]
     },
     "metadata": {
      "needs_background": "light"
     },
     "output_type": "display_data"
    }
   ],
   "source": [
    "plot_roc_curve(model, X_test, y_test)"
   ]
  },
  {
   "cell_type": "markdown",
   "metadata": {},
   "source": [
    "### Export data"
   ]
  },
  {
   "cell_type": "code",
   "execution_count": 59,
   "metadata": {},
   "outputs": [],
   "source": [
    "lookup_table = data.gpls[\"GPL16016\"].table"
   ]
  },
  {
   "cell_type": "code",
   "execution_count": 60,
   "metadata": {},
   "outputs": [],
   "source": [
    "lookup_table = lookup_table.set_index(\"ID\")"
   ]
  },
  {
   "cell_type": "code",
   "execution_count": 61,
   "metadata": {},
   "outputs": [
    {
     "data": {
      "text/html": [
       "<div>\n",
       "<style scoped>\n",
       "    .dataframe tbody tr th:only-of-type {\n",
       "        vertical-align: middle;\n",
       "    }\n",
       "\n",
       "    .dataframe tbody tr th {\n",
       "        vertical-align: top;\n",
       "    }\n",
       "\n",
       "    .dataframe thead th {\n",
       "        text-align: right;\n",
       "    }\n",
       "</style>\n",
       "<table border=\"1\" class=\"dataframe\">\n",
       "  <thead>\n",
       "    <tr style=\"text-align: right;\">\n",
       "      <th></th>\n",
       "      <th>Name</th>\n",
       "      <th>miRNA_ID_LIST</th>\n",
       "      <th>Database</th>\n",
       "      <th>SPOT_ID</th>\n",
       "    </tr>\n",
       "    <tr>\n",
       "      <th>ID</th>\n",
       "      <th></th>\n",
       "      <th></th>\n",
       "      <th></th>\n",
       "      <th></th>\n",
       "    </tr>\n",
       "  </thead>\n",
       "  <tbody>\n",
       "    <tr>\n",
       "      <th>46202</th>\n",
       "      <td>5S_rRNA</td>\n",
       "      <td>NaN</td>\n",
       "      <td>NaN</td>\n",
       "      <td>5S_rRNA</td>\n",
       "    </tr>\n",
       "    <tr>\n",
       "      <th>146014</th>\n",
       "      <td>bkv-miR-B1-3p/jcv-miR-J1-3p</td>\n",
       "      <td>bkv-miR-B1-3p,jcv-miR-J1-3p</td>\n",
       "      <td>miRBase 18.0</td>\n",
       "      <td>NaN</td>\n",
       "    </tr>\n",
       "    <tr>\n",
       "      <th>146185</th>\n",
       "      <td>bkv-miR-B1-5p</td>\n",
       "      <td>bkv-miR-B1-5p</td>\n",
       "      <td>miRBase 18.0</td>\n",
       "      <td>NaN</td>\n",
       "    </tr>\n",
       "    <tr>\n",
       "      <th>17415</th>\n",
       "      <td>ebv-miR-BART10</td>\n",
       "      <td>ebv-miR-BART10</td>\n",
       "      <td>miRBase 18.0</td>\n",
       "      <td>NaN</td>\n",
       "    </tr>\n",
       "    <tr>\n",
       "      <th>42485</th>\n",
       "      <td>ebv-miR-BART10*</td>\n",
       "      <td>ebv-miR-BART10*</td>\n",
       "      <td>miRBase 18.0</td>\n",
       "      <td>NaN</td>\n",
       "    </tr>\n",
       "  </tbody>\n",
       "</table>\n",
       "</div>"
      ],
      "text/plain": [
       "                               Name                miRNA_ID_LIST  \\\n",
       "ID                                                                 \n",
       "46202                       5S_rRNA                          NaN   \n",
       "146014  bkv-miR-B1-3p/jcv-miR-J1-3p  bkv-miR-B1-3p,jcv-miR-J1-3p   \n",
       "146185                bkv-miR-B1-5p                bkv-miR-B1-5p   \n",
       "17415                ebv-miR-BART10               ebv-miR-BART10   \n",
       "42485               ebv-miR-BART10*              ebv-miR-BART10*   \n",
       "\n",
       "            Database  SPOT_ID  \n",
       "ID                             \n",
       "46202            NaN  5S_rRNA  \n",
       "146014  miRBase 18.0      NaN  \n",
       "146185  miRBase 18.0      NaN  \n",
       "17415   miRBase 18.0      NaN  \n",
       "42485   miRBase 18.0      NaN  "
      ]
     },
     "execution_count": 61,
     "metadata": {},
     "output_type": "execute_result"
    }
   ],
   "source": [
    "lookup_table.head()"
   ]
  },
  {
   "cell_type": "code",
   "execution_count": 62,
   "metadata": {},
   "outputs": [],
   "source": [
    "mirbase = lookup_table.loc[mirnas][\"miRNA_ID_LIST\"]"
   ]
  },
  {
   "cell_type": "code",
   "execution_count": 63,
   "metadata": {},
   "outputs": [],
   "source": [
    "from Scripts import converters"
   ]
  },
  {
   "cell_type": "code",
   "execution_count": 64,
   "metadata": {},
   "outputs": [],
   "source": [
    "mask = mirbase.notna().to_numpy()\n",
    "mirbase = mirbase[mask]\n",
    "adj_norm_log_table = adj_norm_log_table.loc[:, mask]"
   ]
  },
  {
   "cell_type": "code",
   "execution_count": 65,
   "metadata": {},
   "outputs": [],
   "source": [
    "mirbase = [m.split(\",\")[0] for m in mirbase]"
   ]
  },
  {
   "cell_type": "code",
   "execution_count": 66,
   "metadata": {},
   "outputs": [],
   "source": [
    "sequences = converters.canonical_to_seq(mirbase, True)"
   ]
  },
  {
   "cell_type": "code",
   "execution_count": 67,
   "metadata": {},
   "outputs": [
    {
     "data": {
      "text/plain": [
       "37"
      ]
     },
     "execution_count": 67,
     "metadata": {},
     "output_type": "execute_result"
    }
   ],
   "source": [
    "sequences.count(None)"
   ]
  },
  {
   "cell_type": "code",
   "execution_count": 68,
   "metadata": {},
   "outputs": [],
   "source": [
    "sequences = np.array(sequences)\n",
    "mask = sequences != None\n",
    "sequences = sequences[mask]\n",
    "adj_norm_log_table = adj_norm_log_table.loc[:, mask]\n",
    "#adj_norm_log_table /= adj_norm_log_table.var().mean()**0.5"
   ]
  },
  {
   "cell_type": "code",
   "execution_count": 69,
   "metadata": {},
   "outputs": [
    {
     "data": {
      "text/html": [
       "<div>\n",
       "<style scoped>\n",
       "    .dataframe tbody tr th:only-of-type {\n",
       "        vertical-align: middle;\n",
       "    }\n",
       "\n",
       "    .dataframe tbody tr th {\n",
       "        vertical-align: top;\n",
       "    }\n",
       "\n",
       "    .dataframe thead th {\n",
       "        text-align: right;\n",
       "    }\n",
       "</style>\n",
       "<table border=\"1\" class=\"dataframe\">\n",
       "  <thead>\n",
       "    <tr style=\"text-align: right;\">\n",
       "      <th></th>\n",
       "      <th>UCUUUGGUUAUCUAGCUGUAUGA</th>\n",
       "      <th>UGGAAGACUUGUGAUUUUGUUGUU</th>\n",
       "      <th>UCGUACCGUGAGUAAUAAUGCG</th>\n",
       "      <th>CAGUGGUUUUACCCUAUGGUAG</th>\n",
       "      <th>UCAAAUGCUCAGACUCCUGUGGU</th>\n",
       "      <th>AUGUAUGUGUGCAUGUGCAUG</th>\n",
       "      <th>UGAGGUAGUAGUUUGUGCUGUU</th>\n",
       "      <th>CAGUGCAAUGUUAAAAGGGCAU</th>\n",
       "      <th>UGAGAACUGAAUUCCAUAGGCUG</th>\n",
       "      <th>UGGAAUGUAAAGAAGUAUGUAU</th>\n",
       "      <th>...</th>\n",
       "      <th>ACCCCACUCCUGGUACC</th>\n",
       "      <th>GAUGAGCUCAUUGUAAUAUGAG</th>\n",
       "      <th>GAUUUCAGUGGAGUGAAGUUC</th>\n",
       "      <th>AUCCCACCUCUGCCACCA</th>\n",
       "      <th>CUCCAGAGGGAUGCACUUUCU</th>\n",
       "      <th>GGCUACAACACAGGACCCGGGC</th>\n",
       "      <th>GAAAUCAAGCGUGGGUGAGACC</th>\n",
       "      <th>UAUACAAGGGCAGACUCUCUCU</th>\n",
       "      <th>CGGGGUUUUGAGGGCGAGAUGA</th>\n",
       "      <th>cancer</th>\n",
       "    </tr>\n",
       "  </thead>\n",
       "  <tbody>\n",
       "    <tr>\n",
       "      <th>VALUE</th>\n",
       "      <td>-1.407409</td>\n",
       "      <td>1.475053</td>\n",
       "      <td>-3.202545</td>\n",
       "      <td>-0.559560</td>\n",
       "      <td>0.026980</td>\n",
       "      <td>0.444564</td>\n",
       "      <td>0.677118</td>\n",
       "      <td>0.179910</td>\n",
       "      <td>-0.275664</td>\n",
       "      <td>-5.624394</td>\n",
       "      <td>...</td>\n",
       "      <td>-0.426093</td>\n",
       "      <td>-0.189455</td>\n",
       "      <td>-0.671585</td>\n",
       "      <td>-1.955679</td>\n",
       "      <td>-1.516398</td>\n",
       "      <td>0.094447</td>\n",
       "      <td>-0.678858</td>\n",
       "      <td>-0.656613</td>\n",
       "      <td>-0.619179</td>\n",
       "      <td>1</td>\n",
       "    </tr>\n",
       "    <tr>\n",
       "      <th>VALUE</th>\n",
       "      <td>-1.683871</td>\n",
       "      <td>1.405158</td>\n",
       "      <td>-3.574522</td>\n",
       "      <td>-0.319152</td>\n",
       "      <td>0.269934</td>\n",
       "      <td>0.485789</td>\n",
       "      <td>0.328734</td>\n",
       "      <td>0.714028</td>\n",
       "      <td>-0.323249</td>\n",
       "      <td>-5.446198</td>\n",
       "      <td>...</td>\n",
       "      <td>-0.716523</td>\n",
       "      <td>-0.032436</td>\n",
       "      <td>-0.611187</td>\n",
       "      <td>-2.025718</td>\n",
       "      <td>-1.464776</td>\n",
       "      <td>0.274390</td>\n",
       "      <td>-0.627605</td>\n",
       "      <td>-0.562442</td>\n",
       "      <td>-0.814464</td>\n",
       "      <td>1</td>\n",
       "    </tr>\n",
       "    <tr>\n",
       "      <th>VALUE</th>\n",
       "      <td>-1.779390</td>\n",
       "      <td>1.471687</td>\n",
       "      <td>-4.407035</td>\n",
       "      <td>-1.026731</td>\n",
       "      <td>0.326473</td>\n",
       "      <td>0.591669</td>\n",
       "      <td>-0.187806</td>\n",
       "      <td>0.856419</td>\n",
       "      <td>-0.670342</td>\n",
       "      <td>-5.329363</td>\n",
       "      <td>...</td>\n",
       "      <td>-0.861565</td>\n",
       "      <td>-0.204983</td>\n",
       "      <td>-0.621601</td>\n",
       "      <td>-2.275938</td>\n",
       "      <td>-1.417229</td>\n",
       "      <td>-0.134084</td>\n",
       "      <td>-0.809580</td>\n",
       "      <td>-0.659716</td>\n",
       "      <td>-0.742287</td>\n",
       "      <td>1</td>\n",
       "    </tr>\n",
       "    <tr>\n",
       "      <th>VALUE</th>\n",
       "      <td>-1.586739</td>\n",
       "      <td>1.384012</td>\n",
       "      <td>-2.408802</td>\n",
       "      <td>0.082291</td>\n",
       "      <td>0.109722</td>\n",
       "      <td>0.576520</td>\n",
       "      <td>0.787149</td>\n",
       "      <td>1.552082</td>\n",
       "      <td>0.432834</td>\n",
       "      <td>-5.227669</td>\n",
       "      <td>...</td>\n",
       "      <td>-0.594629</td>\n",
       "      <td>0.035057</td>\n",
       "      <td>-0.603761</td>\n",
       "      <td>-2.322062</td>\n",
       "      <td>-1.593372</td>\n",
       "      <td>-0.101195</td>\n",
       "      <td>-0.868510</td>\n",
       "      <td>-0.547396</td>\n",
       "      <td>-0.721662</td>\n",
       "      <td>1</td>\n",
       "    </tr>\n",
       "    <tr>\n",
       "      <th>VALUE</th>\n",
       "      <td>-1.182717</td>\n",
       "      <td>1.335324</td>\n",
       "      <td>-3.541777</td>\n",
       "      <td>-1.094086</td>\n",
       "      <td>0.426749</td>\n",
       "      <td>0.402727</td>\n",
       "      <td>0.474227</td>\n",
       "      <td>0.413590</td>\n",
       "      <td>-0.440088</td>\n",
       "      <td>-4.959801</td>\n",
       "      <td>...</td>\n",
       "      <td>-1.563367</td>\n",
       "      <td>-0.396745</td>\n",
       "      <td>-0.733530</td>\n",
       "      <td>-1.607247</td>\n",
       "      <td>-1.423773</td>\n",
       "      <td>-0.114282</td>\n",
       "      <td>-0.730110</td>\n",
       "      <td>-1.010341</td>\n",
       "      <td>-0.846827</td>\n",
       "      <td>1</td>\n",
       "    </tr>\n",
       "  </tbody>\n",
       "</table>\n",
       "<p>5 rows × 3037 columns</p>\n",
       "</div>"
      ],
      "text/plain": [
       "       UCUUUGGUUAUCUAGCUGUAUGA  UGGAAGACUUGUGAUUUUGUUGUU  \\\n",
       "VALUE                -1.407409                  1.475053   \n",
       "VALUE                -1.683871                  1.405158   \n",
       "VALUE                -1.779390                  1.471687   \n",
       "VALUE                -1.586739                  1.384012   \n",
       "VALUE                -1.182717                  1.335324   \n",
       "\n",
       "       UCGUACCGUGAGUAAUAAUGCG  CAGUGGUUUUACCCUAUGGUAG  \\\n",
       "VALUE               -3.202545               -0.559560   \n",
       "VALUE               -3.574522               -0.319152   \n",
       "VALUE               -4.407035               -1.026731   \n",
       "VALUE               -2.408802                0.082291   \n",
       "VALUE               -3.541777               -1.094086   \n",
       "\n",
       "       UCAAAUGCUCAGACUCCUGUGGU  AUGUAUGUGUGCAUGUGCAUG  UGAGGUAGUAGUUUGUGCUGUU  \\\n",
       "VALUE                 0.026980               0.444564                0.677118   \n",
       "VALUE                 0.269934               0.485789                0.328734   \n",
       "VALUE                 0.326473               0.591669               -0.187806   \n",
       "VALUE                 0.109722               0.576520                0.787149   \n",
       "VALUE                 0.426749               0.402727                0.474227   \n",
       "\n",
       "       CAGUGCAAUGUUAAAAGGGCAU  UGAGAACUGAAUUCCAUAGGCUG  \\\n",
       "VALUE                0.179910                -0.275664   \n",
       "VALUE                0.714028                -0.323249   \n",
       "VALUE                0.856419                -0.670342   \n",
       "VALUE                1.552082                 0.432834   \n",
       "VALUE                0.413590                -0.440088   \n",
       "\n",
       "       UGGAAUGUAAAGAAGUAUGUAU  ...  ACCCCACUCCUGGUACC  GAUGAGCUCAUUGUAAUAUGAG  \\\n",
       "VALUE               -5.624394  ...          -0.426093               -0.189455   \n",
       "VALUE               -5.446198  ...          -0.716523               -0.032436   \n",
       "VALUE               -5.329363  ...          -0.861565               -0.204983   \n",
       "VALUE               -5.227669  ...          -0.594629                0.035057   \n",
       "VALUE               -4.959801  ...          -1.563367               -0.396745   \n",
       "\n",
       "       GAUUUCAGUGGAGUGAAGUUC  AUCCCACCUCUGCCACCA  CUCCAGAGGGAUGCACUUUCU  \\\n",
       "VALUE              -0.671585           -1.955679              -1.516398   \n",
       "VALUE              -0.611187           -2.025718              -1.464776   \n",
       "VALUE              -0.621601           -2.275938              -1.417229   \n",
       "VALUE              -0.603761           -2.322062              -1.593372   \n",
       "VALUE              -0.733530           -1.607247              -1.423773   \n",
       "\n",
       "       GGCUACAACACAGGACCCGGGC  GAAAUCAAGCGUGGGUGAGACC  UAUACAAGGGCAGACUCUCUCU  \\\n",
       "VALUE                0.094447               -0.678858               -0.656613   \n",
       "VALUE                0.274390               -0.627605               -0.562442   \n",
       "VALUE               -0.134084               -0.809580               -0.659716   \n",
       "VALUE               -0.101195               -0.868510               -0.547396   \n",
       "VALUE               -0.114282               -0.730110               -1.010341   \n",
       "\n",
       "       CGGGGUUUUGAGGGCGAGAUGA  cancer  \n",
       "VALUE               -0.619179       1  \n",
       "VALUE               -0.814464       1  \n",
       "VALUE               -0.742287       1  \n",
       "VALUE               -0.721662       1  \n",
       "VALUE               -0.846827       1  \n",
       "\n",
       "[5 rows x 3037 columns]"
      ]
     },
     "execution_count": 69,
     "metadata": {},
     "output_type": "execute_result"
    }
   ],
   "source": [
    "adj_norm_log_table.columns = sequences\n",
    "adj_norm_log_table = adj_norm_log_table.loc[:,~adj_norm_log_table.columns.duplicated()]\n",
    "adj_norm_log_table[\"cancer\"] = sick\n",
    "adj_norm_log_table.head()"
   ]
  },
  {
   "cell_type": "code",
   "execution_count": 70,
   "metadata": {},
   "outputs": [],
   "source": [
    "adj_norm_log_table.to_csv(\"../TransformedData/Patnaik2017_raw.csv\", index=False)"
   ]
  },
  {
   "cell_type": "code",
   "execution_count": null,
   "metadata": {},
   "outputs": [],
   "source": []
  }
 ],
 "metadata": {
  "kernelspec": {
   "display_name": "Python 3 (ipykernel)",
   "language": "python",
   "name": "python3"
  },
  "language_info": {
   "codemirror_mode": {
    "name": "ipython",
    "version": 3
   },
   "file_extension": ".py",
   "mimetype": "text/x-python",
   "name": "python",
   "nbconvert_exporter": "python",
   "pygments_lexer": "ipython3",
   "version": "3.10.1"
  }
 },
 "nbformat": 4,
 "nbformat_minor": 4
}
