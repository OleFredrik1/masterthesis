{
 "cells": [
  {
   "cell_type": "code",
   "execution_count": 10,
   "metadata": {
    "tags": []
   },
   "outputs": [],
   "source": [
    "%matplotlib inline\n",
    "import GEOparse\n",
    "import matplotlib.pyplot as plt\n",
    "import pandas as pd\n",
    "import numpy as np\n",
    "from sklearn import decomposition\n",
    "from sklearn.feature_selection import f_classif\n",
    "from sklearn.linear_model import LinearRegression, LogisticRegression\n",
    "from sklearn.metrics import explained_variance_score, plot_roc_curve\n",
    "import statsmodels.api as sm\n",
    "from scipy.stats import ttest_ind\n",
    "from xgboost import XGBClassifier\n",
    "from sklearn.model_selection import train_test_split\n",
    "from sklego.linear_model import LowessRegression"
   ]
  },
  {
   "cell_type": "markdown",
   "metadata": {},
   "source": [
    "### Reading in from external source"
   ]
  },
  {
   "cell_type": "code",
   "execution_count": 11,
   "metadata": {},
   "outputs": [],
   "source": [
    "geo = \"GSE93300\"\n",
    "data = GEOparse.get_GEO(geo=geo, destdir=\"../Dataset/Qu2017\", silent=True)\n",
    "#table = pd.read_csv(\"../Dataset/Fehlman2020/expression_matrix.csv\", sep=\"\\t\")\n",
    "#table = pd.read_csv(\"../Dataset/Wozniak2015/GSE64591_non-normalized.txt\", sep=\"\\t\", header=5)"
   ]
  },
  {
   "cell_type": "code",
   "execution_count": 12,
   "metadata": {},
   "outputs": [],
   "source": [
    "table = pd.concat((val.table.iloc[:,1:] for val in data.gsms.values()), axis=1).transpose()\n",
    "mirnas = list(data.gsms.values())[0].table.iloc[:,0]"
   ]
  },
  {
   "cell_type": "code",
   "execution_count": 13,
   "metadata": {},
   "outputs": [
    {
     "data": {
      "text/html": [
       "<div>\n",
       "<style scoped>\n",
       "    .dataframe tbody tr th:only-of-type {\n",
       "        vertical-align: middle;\n",
       "    }\n",
       "\n",
       "    .dataframe tbody tr th {\n",
       "        vertical-align: top;\n",
       "    }\n",
       "\n",
       "    .dataframe thead th {\n",
       "        text-align: right;\n",
       "    }\n",
       "</style>\n",
       "<table border=\"1\" class=\"dataframe\">\n",
       "  <thead>\n",
       "    <tr style=\"text-align: right;\">\n",
       "      <th></th>\n",
       "      <th>0</th>\n",
       "      <th>1</th>\n",
       "      <th>2</th>\n",
       "      <th>3</th>\n",
       "      <th>4</th>\n",
       "      <th>5</th>\n",
       "      <th>6</th>\n",
       "      <th>7</th>\n",
       "      <th>8</th>\n",
       "      <th>9</th>\n",
       "      <th>...</th>\n",
       "      <th>2539</th>\n",
       "      <th>2540</th>\n",
       "      <th>2541</th>\n",
       "      <th>2542</th>\n",
       "      <th>2543</th>\n",
       "      <th>2544</th>\n",
       "      <th>2545</th>\n",
       "      <th>2546</th>\n",
       "      <th>2547</th>\n",
       "      <th>2548</th>\n",
       "    </tr>\n",
       "  </thead>\n",
       "  <tbody>\n",
       "    <tr>\n",
       "      <th>VALUE</th>\n",
       "      <td>-6.055994</td>\n",
       "      <td>-6.055994</td>\n",
       "      <td>-6.055994</td>\n",
       "      <td>-6.055994</td>\n",
       "      <td>-6.055994</td>\n",
       "      <td>-6.055994</td>\n",
       "      <td>-6.055994</td>\n",
       "      <td>-6.055994</td>\n",
       "      <td>-6.055994</td>\n",
       "      <td>-6.055994</td>\n",
       "      <td>...</td>\n",
       "      <td>-6.055994</td>\n",
       "      <td>-6.055994</td>\n",
       "      <td>-6.055994</td>\n",
       "      <td>-6.055994</td>\n",
       "      <td>-6.055994</td>\n",
       "      <td>-6.055994</td>\n",
       "      <td>-6.055994</td>\n",
       "      <td>-6.055994</td>\n",
       "      <td>-6.055994</td>\n",
       "      <td>-6.055994</td>\n",
       "    </tr>\n",
       "    <tr>\n",
       "      <th>VALUE</th>\n",
       "      <td>-6.953311</td>\n",
       "      <td>-6.953311</td>\n",
       "      <td>-6.953311</td>\n",
       "      <td>-6.953311</td>\n",
       "      <td>-6.953311</td>\n",
       "      <td>-6.953311</td>\n",
       "      <td>-6.953311</td>\n",
       "      <td>-6.953311</td>\n",
       "      <td>-6.953311</td>\n",
       "      <td>-6.953311</td>\n",
       "      <td>...</td>\n",
       "      <td>-6.953311</td>\n",
       "      <td>-6.953311</td>\n",
       "      <td>-6.953311</td>\n",
       "      <td>-6.953311</td>\n",
       "      <td>-6.953311</td>\n",
       "      <td>-6.953311</td>\n",
       "      <td>-6.953311</td>\n",
       "      <td>-6.953311</td>\n",
       "      <td>-6.953311</td>\n",
       "      <td>-6.953311</td>\n",
       "    </tr>\n",
       "    <tr>\n",
       "      <th>VALUE</th>\n",
       "      <td>-6.005052</td>\n",
       "      <td>-6.005052</td>\n",
       "      <td>-6.005052</td>\n",
       "      <td>-6.005052</td>\n",
       "      <td>-6.005052</td>\n",
       "      <td>-6.005052</td>\n",
       "      <td>-6.005052</td>\n",
       "      <td>-6.005052</td>\n",
       "      <td>-6.005052</td>\n",
       "      <td>-6.005052</td>\n",
       "      <td>...</td>\n",
       "      <td>-6.005052</td>\n",
       "      <td>-6.005052</td>\n",
       "      <td>-6.005052</td>\n",
       "      <td>-1.093576</td>\n",
       "      <td>-6.005052</td>\n",
       "      <td>-6.005052</td>\n",
       "      <td>-6.005052</td>\n",
       "      <td>-6.005052</td>\n",
       "      <td>-6.005052</td>\n",
       "      <td>-6.005052</td>\n",
       "    </tr>\n",
       "    <tr>\n",
       "      <th>VALUE</th>\n",
       "      <td>-5.188978</td>\n",
       "      <td>-5.188978</td>\n",
       "      <td>-5.188978</td>\n",
       "      <td>-5.188978</td>\n",
       "      <td>-5.188978</td>\n",
       "      <td>-5.188978</td>\n",
       "      <td>-5.188978</td>\n",
       "      <td>-5.188978</td>\n",
       "      <td>-5.188978</td>\n",
       "      <td>-5.188978</td>\n",
       "      <td>...</td>\n",
       "      <td>-5.188978</td>\n",
       "      <td>-5.188978</td>\n",
       "      <td>-5.188978</td>\n",
       "      <td>-5.188978</td>\n",
       "      <td>-5.188978</td>\n",
       "      <td>-5.188978</td>\n",
       "      <td>-5.188978</td>\n",
       "      <td>-5.188978</td>\n",
       "      <td>-5.188978</td>\n",
       "      <td>-5.188978</td>\n",
       "    </tr>\n",
       "    <tr>\n",
       "      <th>VALUE</th>\n",
       "      <td>-7.405798</td>\n",
       "      <td>-7.405798</td>\n",
       "      <td>0.561665</td>\n",
       "      <td>-7.405798</td>\n",
       "      <td>-7.405798</td>\n",
       "      <td>-2.051536</td>\n",
       "      <td>-7.405798</td>\n",
       "      <td>-7.405798</td>\n",
       "      <td>-7.405798</td>\n",
       "      <td>-7.405798</td>\n",
       "      <td>...</td>\n",
       "      <td>-7.405798</td>\n",
       "      <td>-7.405798</td>\n",
       "      <td>-7.405798</td>\n",
       "      <td>-7.405798</td>\n",
       "      <td>-7.405798</td>\n",
       "      <td>-7.405798</td>\n",
       "      <td>-7.405798</td>\n",
       "      <td>-7.405798</td>\n",
       "      <td>-7.405798</td>\n",
       "      <td>-7.405798</td>\n",
       "    </tr>\n",
       "    <tr>\n",
       "      <th>VALUE</th>\n",
       "      <td>-6.887403</td>\n",
       "      <td>-6.887403</td>\n",
       "      <td>-6.887403</td>\n",
       "      <td>-6.887403</td>\n",
       "      <td>-6.887403</td>\n",
       "      <td>-6.887403</td>\n",
       "      <td>-6.887403</td>\n",
       "      <td>-6.887403</td>\n",
       "      <td>-6.887403</td>\n",
       "      <td>-6.887403</td>\n",
       "      <td>...</td>\n",
       "      <td>-6.887403</td>\n",
       "      <td>-6.887403</td>\n",
       "      <td>-1.452145</td>\n",
       "      <td>-6.887403</td>\n",
       "      <td>-6.887403</td>\n",
       "      <td>-6.887403</td>\n",
       "      <td>-6.887403</td>\n",
       "      <td>-6.887403</td>\n",
       "      <td>-6.887403</td>\n",
       "      <td>-6.887403</td>\n",
       "    </tr>\n",
       "    <tr>\n",
       "      <th>VALUE</th>\n",
       "      <td>-4.498704</td>\n",
       "      <td>-4.498704</td>\n",
       "      <td>-4.498704</td>\n",
       "      <td>-4.498704</td>\n",
       "      <td>-4.498704</td>\n",
       "      <td>-4.498704</td>\n",
       "      <td>-4.498704</td>\n",
       "      <td>-4.498704</td>\n",
       "      <td>-4.498704</td>\n",
       "      <td>-4.498704</td>\n",
       "      <td>...</td>\n",
       "      <td>-4.498704</td>\n",
       "      <td>-4.498704</td>\n",
       "      <td>-4.498704</td>\n",
       "      <td>-4.498704</td>\n",
       "      <td>-4.498704</td>\n",
       "      <td>-4.498704</td>\n",
       "      <td>-4.498704</td>\n",
       "      <td>-4.498704</td>\n",
       "      <td>-4.498704</td>\n",
       "      <td>-4.498704</td>\n",
       "    </tr>\n",
       "    <tr>\n",
       "      <th>VALUE</th>\n",
       "      <td>-6.467757</td>\n",
       "      <td>-6.467757</td>\n",
       "      <td>-6.467757</td>\n",
       "      <td>-6.467757</td>\n",
       "      <td>-6.467757</td>\n",
       "      <td>-6.467757</td>\n",
       "      <td>-6.467757</td>\n",
       "      <td>-6.467757</td>\n",
       "      <td>-6.467757</td>\n",
       "      <td>-6.467757</td>\n",
       "      <td>...</td>\n",
       "      <td>-6.467757</td>\n",
       "      <td>-6.467757</td>\n",
       "      <td>-6.467757</td>\n",
       "      <td>-6.467757</td>\n",
       "      <td>-6.467757</td>\n",
       "      <td>-6.467757</td>\n",
       "      <td>-6.467757</td>\n",
       "      <td>-6.467757</td>\n",
       "      <td>-6.467757</td>\n",
       "      <td>-6.467757</td>\n",
       "    </tr>\n",
       "    <tr>\n",
       "      <th>VALUE</th>\n",
       "      <td>-4.934224</td>\n",
       "      <td>-4.934224</td>\n",
       "      <td>-4.934224</td>\n",
       "      <td>-4.934224</td>\n",
       "      <td>-4.934224</td>\n",
       "      <td>-4.934224</td>\n",
       "      <td>-4.934224</td>\n",
       "      <td>-4.934224</td>\n",
       "      <td>-4.934224</td>\n",
       "      <td>-4.934224</td>\n",
       "      <td>...</td>\n",
       "      <td>-4.934224</td>\n",
       "      <td>-4.934224</td>\n",
       "      <td>-4.934224</td>\n",
       "      <td>-4.934224</td>\n",
       "      <td>-4.934224</td>\n",
       "      <td>-4.934224</td>\n",
       "      <td>-4.934224</td>\n",
       "      <td>-4.934224</td>\n",
       "      <td>-4.934224</td>\n",
       "      <td>-4.934224</td>\n",
       "    </tr>\n",
       "    <tr>\n",
       "      <th>VALUE</th>\n",
       "      <td>-8.948247</td>\n",
       "      <td>-8.948247</td>\n",
       "      <td>-2.495316</td>\n",
       "      <td>-8.948247</td>\n",
       "      <td>-8.948247</td>\n",
       "      <td>-8.948247</td>\n",
       "      <td>-8.948247</td>\n",
       "      <td>-8.948247</td>\n",
       "      <td>-8.948247</td>\n",
       "      <td>-8.948247</td>\n",
       "      <td>...</td>\n",
       "      <td>-8.948247</td>\n",
       "      <td>-8.948247</td>\n",
       "      <td>-3.548126</td>\n",
       "      <td>-8.948247</td>\n",
       "      <td>-8.948247</td>\n",
       "      <td>-8.948247</td>\n",
       "      <td>-8.948247</td>\n",
       "      <td>-8.948247</td>\n",
       "      <td>-8.948247</td>\n",
       "      <td>-8.948247</td>\n",
       "    </tr>\n",
       "    <tr>\n",
       "      <th>VALUE</th>\n",
       "      <td>-9.186548</td>\n",
       "      <td>-9.186548</td>\n",
       "      <td>-1.989159</td>\n",
       "      <td>-9.186548</td>\n",
       "      <td>-9.186548</td>\n",
       "      <td>-9.186548</td>\n",
       "      <td>-9.186548</td>\n",
       "      <td>-9.186548</td>\n",
       "      <td>-9.186548</td>\n",
       "      <td>-9.186548</td>\n",
       "      <td>...</td>\n",
       "      <td>-9.186548</td>\n",
       "      <td>-9.186548</td>\n",
       "      <td>-2.786151</td>\n",
       "      <td>-9.186548</td>\n",
       "      <td>-9.186548</td>\n",
       "      <td>-9.186548</td>\n",
       "      <td>-9.186548</td>\n",
       "      <td>-9.186548</td>\n",
       "      <td>-9.186548</td>\n",
       "      <td>-9.186548</td>\n",
       "    </tr>\n",
       "    <tr>\n",
       "      <th>VALUE</th>\n",
       "      <td>-7.339405</td>\n",
       "      <td>-7.339405</td>\n",
       "      <td>-7.339405</td>\n",
       "      <td>-7.339405</td>\n",
       "      <td>-7.339405</td>\n",
       "      <td>-7.339405</td>\n",
       "      <td>-7.339405</td>\n",
       "      <td>-7.339405</td>\n",
       "      <td>-7.339405</td>\n",
       "      <td>-7.339405</td>\n",
       "      <td>...</td>\n",
       "      <td>-7.339405</td>\n",
       "      <td>-7.339405</td>\n",
       "      <td>-7.339405</td>\n",
       "      <td>-7.339405</td>\n",
       "      <td>-7.339405</td>\n",
       "      <td>-7.339405</td>\n",
       "      <td>-7.339405</td>\n",
       "      <td>-7.339405</td>\n",
       "      <td>-7.339405</td>\n",
       "      <td>-7.339405</td>\n",
       "    </tr>\n",
       "    <tr>\n",
       "      <th>VALUE</th>\n",
       "      <td>-7.273349</td>\n",
       "      <td>-7.273349</td>\n",
       "      <td>-7.273349</td>\n",
       "      <td>-7.273349</td>\n",
       "      <td>-7.273349</td>\n",
       "      <td>-7.273349</td>\n",
       "      <td>-7.273349</td>\n",
       "      <td>-7.273349</td>\n",
       "      <td>-7.273349</td>\n",
       "      <td>-7.273349</td>\n",
       "      <td>...</td>\n",
       "      <td>-7.273349</td>\n",
       "      <td>-7.273349</td>\n",
       "      <td>-7.273349</td>\n",
       "      <td>-7.273349</td>\n",
       "      <td>-7.273349</td>\n",
       "      <td>-7.273349</td>\n",
       "      <td>-7.273349</td>\n",
       "      <td>-7.273349</td>\n",
       "      <td>-7.273349</td>\n",
       "      <td>-7.273349</td>\n",
       "    </tr>\n",
       "  </tbody>\n",
       "</table>\n",
       "<p>13 rows × 2549 columns</p>\n",
       "</div>"
      ],
      "text/plain": [
       "           0         1         2         3         4         5         6     \\\n",
       "VALUE -6.055994 -6.055994 -6.055994 -6.055994 -6.055994 -6.055994 -6.055994   \n",
       "VALUE -6.953311 -6.953311 -6.953311 -6.953311 -6.953311 -6.953311 -6.953311   \n",
       "VALUE -6.005052 -6.005052 -6.005052 -6.005052 -6.005052 -6.005052 -6.005052   \n",
       "VALUE -5.188978 -5.188978 -5.188978 -5.188978 -5.188978 -5.188978 -5.188978   \n",
       "VALUE -7.405798 -7.405798  0.561665 -7.405798 -7.405798 -2.051536 -7.405798   \n",
       "VALUE -6.887403 -6.887403 -6.887403 -6.887403 -6.887403 -6.887403 -6.887403   \n",
       "VALUE -4.498704 -4.498704 -4.498704 -4.498704 -4.498704 -4.498704 -4.498704   \n",
       "VALUE -6.467757 -6.467757 -6.467757 -6.467757 -6.467757 -6.467757 -6.467757   \n",
       "VALUE -4.934224 -4.934224 -4.934224 -4.934224 -4.934224 -4.934224 -4.934224   \n",
       "VALUE -8.948247 -8.948247 -2.495316 -8.948247 -8.948247 -8.948247 -8.948247   \n",
       "VALUE -9.186548 -9.186548 -1.989159 -9.186548 -9.186548 -9.186548 -9.186548   \n",
       "VALUE -7.339405 -7.339405 -7.339405 -7.339405 -7.339405 -7.339405 -7.339405   \n",
       "VALUE -7.273349 -7.273349 -7.273349 -7.273349 -7.273349 -7.273349 -7.273349   \n",
       "\n",
       "           7         8         9     ...      2539      2540      2541  \\\n",
       "VALUE -6.055994 -6.055994 -6.055994  ... -6.055994 -6.055994 -6.055994   \n",
       "VALUE -6.953311 -6.953311 -6.953311  ... -6.953311 -6.953311 -6.953311   \n",
       "VALUE -6.005052 -6.005052 -6.005052  ... -6.005052 -6.005052 -6.005052   \n",
       "VALUE -5.188978 -5.188978 -5.188978  ... -5.188978 -5.188978 -5.188978   \n",
       "VALUE -7.405798 -7.405798 -7.405798  ... -7.405798 -7.405798 -7.405798   \n",
       "VALUE -6.887403 -6.887403 -6.887403  ... -6.887403 -6.887403 -1.452145   \n",
       "VALUE -4.498704 -4.498704 -4.498704  ... -4.498704 -4.498704 -4.498704   \n",
       "VALUE -6.467757 -6.467757 -6.467757  ... -6.467757 -6.467757 -6.467757   \n",
       "VALUE -4.934224 -4.934224 -4.934224  ... -4.934224 -4.934224 -4.934224   \n",
       "VALUE -8.948247 -8.948247 -8.948247  ... -8.948247 -8.948247 -3.548126   \n",
       "VALUE -9.186548 -9.186548 -9.186548  ... -9.186548 -9.186548 -2.786151   \n",
       "VALUE -7.339405 -7.339405 -7.339405  ... -7.339405 -7.339405 -7.339405   \n",
       "VALUE -7.273349 -7.273349 -7.273349  ... -7.273349 -7.273349 -7.273349   \n",
       "\n",
       "           2542      2543      2544      2545      2546      2547      2548  \n",
       "VALUE -6.055994 -6.055994 -6.055994 -6.055994 -6.055994 -6.055994 -6.055994  \n",
       "VALUE -6.953311 -6.953311 -6.953311 -6.953311 -6.953311 -6.953311 -6.953311  \n",
       "VALUE -1.093576 -6.005052 -6.005052 -6.005052 -6.005052 -6.005052 -6.005052  \n",
       "VALUE -5.188978 -5.188978 -5.188978 -5.188978 -5.188978 -5.188978 -5.188978  \n",
       "VALUE -7.405798 -7.405798 -7.405798 -7.405798 -7.405798 -7.405798 -7.405798  \n",
       "VALUE -6.887403 -6.887403 -6.887403 -6.887403 -6.887403 -6.887403 -6.887403  \n",
       "VALUE -4.498704 -4.498704 -4.498704 -4.498704 -4.498704 -4.498704 -4.498704  \n",
       "VALUE -6.467757 -6.467757 -6.467757 -6.467757 -6.467757 -6.467757 -6.467757  \n",
       "VALUE -4.934224 -4.934224 -4.934224 -4.934224 -4.934224 -4.934224 -4.934224  \n",
       "VALUE -8.948247 -8.948247 -8.948247 -8.948247 -8.948247 -8.948247 -8.948247  \n",
       "VALUE -9.186548 -9.186548 -9.186548 -9.186548 -9.186548 -9.186548 -9.186548  \n",
       "VALUE -7.339405 -7.339405 -7.339405 -7.339405 -7.339405 -7.339405 -7.339405  \n",
       "VALUE -7.273349 -7.273349 -7.273349 -7.273349 -7.273349 -7.273349 -7.273349  \n",
       "\n",
       "[13 rows x 2549 columns]"
      ]
     },
     "execution_count": 13,
     "metadata": {},
     "output_type": "execute_result"
    }
   ],
   "source": [
    "table"
   ]
  },
  {
   "cell_type": "markdown",
   "metadata": {},
   "source": [
    "### Seperate case and controls"
   ]
  },
  {
   "cell_type": "code",
   "execution_count": 14,
   "metadata": {},
   "outputs": [
    {
     "data": {
      "text/plain": [
       "{'title': ['Patient 2 150690A_TKI-19-2'],\n",
       " 'geo_accession': ['GSM2450564'],\n",
       " 'status': ['Public on Jan 10 2017'],\n",
       " 'submission_date': ['Jan 09 2017'],\n",
       " 'last_update_date': ['Jan 10 2017'],\n",
       " 'type': ['RNA'],\n",
       " 'channel_count': ['1'],\n",
       " 'source_name_ch1': ['primary lung cancer'],\n",
       " 'organism_ch1': ['Homo sapiens'],\n",
       " 'taxid_ch1': ['9606'],\n",
       " 'characteristics_ch1': ['plasma: primary lung cancer',\n",
       "  'age: 43 years',\n",
       "  'gender: Female',\n",
       "  'smoking history: No',\n",
       "  'histology: Adenocarcinoma',\n",
       "  'clinical stage: IV',\n",
       "  'egfr mutational status: 19DEL'],\n",
       " 'treatment_protocol_ch1': ['All the participants enrolled had 7ml peripheral venous blood samples collected in the fasting state at morning. Plasma was separated within 30 minutes since the sample collection with the centrifugation at 4,500Ã—g for 10 minutes at 4 â„ƒ and then stored immediately at -80â„ƒ for further measurements.'],\n",
       " 'growth_protocol_ch1': ['Not applicable'],\n",
       " 'molecule_ch1': ['total RNA'],\n",
       " 'extract_protocol_ch1': ['Total RNA containing miRNAs was isolated from 200Î¼l plasma with the QIAzol Lysis Reagent (QIAGEN) and purified with the miRNeasy Serum/Plasma Kit (QIAGEN) according to the manufacturerâ€²s instructions.'],\n",
       " 'label_ch1': ['Cy3'],\n",
       " 'label_protocol_ch1': [\"Cyanine-3 (Cy3) labeled cRNA was prepared from 0.5 ug RNA using the One-Color Low RNA Input Linear Amplification PLUS kit (Agilent) according to the manufacturer's instructions, followed by RNAeasy column purification (QIAGEN, Valencia, CA).  Dye incorporation and cRNA yield were checked with the NanoDrop ND-1000 Spectrophotometer.\"],\n",
       " 'hyb_protocol': ['1.5 ug of Cy3-labelled cRNA (specific activity >10.0 pmol Cy3/ug cRNA) was fragmented at 60Â°C for 30 minutes in a reaction volume of 250 ml containing 1x Agilent fragmentation buffer and 2x Agilent blocking agent following the manufacturers instructions. On completion of the fragmentation reaction, 250 ml of 2x Agilent hybridization buffer was added to the fragmentation mixture and hybridized to Agilent Whole Human Genome Oligo Microarrays (G4112A) for 17 hours at 65Ã‚Â°C in a rotating Agilent hybridization oven.  After hybridization, microarrays were washed 1 minute at room temperature with GE Wash Buffer 1 (Agilent) and 1 minute with 37Ã‚Â°C GE Wash buffer 2 (Agilent), then dried immediately by brief centrifugation.'],\n",
       " 'scan_protocol': ['Slides were scanned immediately after washing on the Agilent DNA Microarray Scanner (G2505B) using one color scan setting for 1x44k array slides (Scan Area 61x21.6 mm, Scan resolution 10um, Dye channel is set to Green and Green PMT is set to 100%).'],\n",
       " 'description': ['Gene expression in human plasma'],\n",
       " 'data_processing': ['The scanned images were analyzed with Feature Extraction Software 9.1 (Agilent) using default parameters (protocol GE1-v1_91 and Grid: 012391_D_20060331) to obtain background subtracted and spatially detrended Processed Signal intensities.  Features flagged in Feature Extraction as Feature Non-uniform outliers were excluded.'],\n",
       " 'platform_id': ['GPL21576'],\n",
       " 'contact_name': ['qu,,lili'],\n",
       " 'contact_email': ['qulili1130@126.com'],\n",
       " 'contact_institute': ['Affiliated Hospital of the Academy of Military Medical Science'],\n",
       " 'contact_address': ['No 8 East Road, Fengtai District'],\n",
       " 'contact_city': ['Beijing'],\n",
       " 'contact_zip/postal_code': ['100071'],\n",
       " 'contact_country': ['China'],\n",
       " 'supplementary_file': ['ftp://ftp.ncbi.nlm.nih.gov/geo/samples/GSM2450nnn/GSM2450564/suppl/GSM2450564_257015610720_1_2_150690A_TKI-19-2.txt.gz'],\n",
       " 'series_id': ['GSE93300'],\n",
       " 'data_row_count': ['2549']}"
      ]
     },
     "execution_count": 14,
     "metadata": {},
     "output_type": "execute_result"
    }
   ],
   "source": [
    "list(data.gsms.values())[1].metadata"
   ]
  },
  {
   "cell_type": "code",
   "execution_count": 15,
   "metadata": {},
   "outputs": [
    {
     "data": {
      "text/plain": [
       "{'plasma: healthy donor', 'plasma: primary lung cancer'}"
      ]
     },
     "execution_count": 15,
     "metadata": {},
     "output_type": "execute_result"
    }
   ],
   "source": [
    "set([k.metadata[\"characteristics_ch1\"][0] for k in list(data.gsms.values())])"
   ]
  },
  {
   "cell_type": "code",
   "execution_count": 16,
   "metadata": {},
   "outputs": [],
   "source": [
    "sick = np.array([\"cancer\" in k.metadata[\"characteristics_ch1\"][0] for k in list(data.gsms.values())])\n",
    "controls = 1 - sick"
   ]
  },
  {
   "cell_type": "code",
   "execution_count": 17,
   "metadata": {},
   "outputs": [
    {
     "data": {
      "text/plain": [
       "4"
      ]
     },
     "execution_count": 17,
     "metadata": {},
     "output_type": "execute_result"
    }
   ],
   "source": [
    "sum(controls)"
   ]
  },
  {
   "cell_type": "markdown",
   "metadata": {},
   "source": [
    "### Drop NAN"
   ]
  },
  {
   "cell_type": "code",
   "execution_count": 18,
   "metadata": {},
   "outputs": [
    {
     "data": {
      "text/plain": [
       "0"
      ]
     },
     "execution_count": 18,
     "metadata": {},
     "output_type": "execute_result"
    }
   ],
   "source": [
    "table.isna().sum().sum()"
   ]
  },
  {
   "cell_type": "code",
   "execution_count": 19,
   "metadata": {},
   "outputs": [
    {
     "name": "stderr",
     "output_type": "stream",
     "text": [
      "C:\\Users\\olefr\\AppData\\Local\\Temp/ipykernel_2832/1927661217.py:1: FutureWarning: In a future version of pandas all arguments of DataFrame.dropna will be keyword-only\n",
      "  table = table.dropna(1)\n"
     ]
    }
   ],
   "source": [
    "table = table.dropna(1)"
   ]
  },
  {
   "cell_type": "markdown",
   "metadata": {},
   "source": [
    "### T-test"
   ]
  },
  {
   "cell_type": "code",
   "execution_count": 20,
   "metadata": {},
   "outputs": [],
   "source": [
    "X = table"
   ]
  },
  {
   "cell_type": "code",
   "execution_count": 21,
   "metadata": {},
   "outputs": [
    {
     "data": {
      "text/html": [
       "<div>\n",
       "<style scoped>\n",
       "    .dataframe tbody tr th:only-of-type {\n",
       "        vertical-align: middle;\n",
       "    }\n",
       "\n",
       "    .dataframe tbody tr th {\n",
       "        vertical-align: top;\n",
       "    }\n",
       "\n",
       "    .dataframe thead th {\n",
       "        text-align: right;\n",
       "    }\n",
       "</style>\n",
       "<table border=\"1\" class=\"dataframe\">\n",
       "  <thead>\n",
       "    <tr style=\"text-align: right;\">\n",
       "      <th></th>\n",
       "      <th>0</th>\n",
       "      <th>1</th>\n",
       "      <th>2</th>\n",
       "      <th>3</th>\n",
       "      <th>4</th>\n",
       "      <th>5</th>\n",
       "      <th>6</th>\n",
       "      <th>7</th>\n",
       "      <th>8</th>\n",
       "      <th>9</th>\n",
       "      <th>...</th>\n",
       "      <th>2539</th>\n",
       "      <th>2540</th>\n",
       "      <th>2541</th>\n",
       "      <th>2542</th>\n",
       "      <th>2543</th>\n",
       "      <th>2544</th>\n",
       "      <th>2545</th>\n",
       "      <th>2546</th>\n",
       "      <th>2547</th>\n",
       "      <th>2548</th>\n",
       "    </tr>\n",
       "  </thead>\n",
       "  <tbody>\n",
       "    <tr>\n",
       "      <th>VALUE</th>\n",
       "      <td>-6.055994</td>\n",
       "      <td>-6.055994</td>\n",
       "      <td>-6.055994</td>\n",
       "      <td>-6.055994</td>\n",
       "      <td>-6.055994</td>\n",
       "      <td>-6.055994</td>\n",
       "      <td>-6.055994</td>\n",
       "      <td>-6.055994</td>\n",
       "      <td>-6.055994</td>\n",
       "      <td>-6.055994</td>\n",
       "      <td>...</td>\n",
       "      <td>-6.055994</td>\n",
       "      <td>-6.055994</td>\n",
       "      <td>-6.055994</td>\n",
       "      <td>-6.055994</td>\n",
       "      <td>-6.055994</td>\n",
       "      <td>-6.055994</td>\n",
       "      <td>-6.055994</td>\n",
       "      <td>-6.055994</td>\n",
       "      <td>-6.055994</td>\n",
       "      <td>-6.055994</td>\n",
       "    </tr>\n",
       "    <tr>\n",
       "      <th>VALUE</th>\n",
       "      <td>-6.953311</td>\n",
       "      <td>-6.953311</td>\n",
       "      <td>-6.953311</td>\n",
       "      <td>-6.953311</td>\n",
       "      <td>-6.953311</td>\n",
       "      <td>-6.953311</td>\n",
       "      <td>-6.953311</td>\n",
       "      <td>-6.953311</td>\n",
       "      <td>-6.953311</td>\n",
       "      <td>-6.953311</td>\n",
       "      <td>...</td>\n",
       "      <td>-6.953311</td>\n",
       "      <td>-6.953311</td>\n",
       "      <td>-6.953311</td>\n",
       "      <td>-6.953311</td>\n",
       "      <td>-6.953311</td>\n",
       "      <td>-6.953311</td>\n",
       "      <td>-6.953311</td>\n",
       "      <td>-6.953311</td>\n",
       "      <td>-6.953311</td>\n",
       "      <td>-6.953311</td>\n",
       "    </tr>\n",
       "    <tr>\n",
       "      <th>VALUE</th>\n",
       "      <td>-6.005052</td>\n",
       "      <td>-6.005052</td>\n",
       "      <td>-6.005052</td>\n",
       "      <td>-6.005052</td>\n",
       "      <td>-6.005052</td>\n",
       "      <td>-6.005052</td>\n",
       "      <td>-6.005052</td>\n",
       "      <td>-6.005052</td>\n",
       "      <td>-6.005052</td>\n",
       "      <td>-6.005052</td>\n",
       "      <td>...</td>\n",
       "      <td>-6.005052</td>\n",
       "      <td>-6.005052</td>\n",
       "      <td>-6.005052</td>\n",
       "      <td>-1.093576</td>\n",
       "      <td>-6.005052</td>\n",
       "      <td>-6.005052</td>\n",
       "      <td>-6.005052</td>\n",
       "      <td>-6.005052</td>\n",
       "      <td>-6.005052</td>\n",
       "      <td>-6.005052</td>\n",
       "    </tr>\n",
       "    <tr>\n",
       "      <th>VALUE</th>\n",
       "      <td>-5.188978</td>\n",
       "      <td>-5.188978</td>\n",
       "      <td>-5.188978</td>\n",
       "      <td>-5.188978</td>\n",
       "      <td>-5.188978</td>\n",
       "      <td>-5.188978</td>\n",
       "      <td>-5.188978</td>\n",
       "      <td>-5.188978</td>\n",
       "      <td>-5.188978</td>\n",
       "      <td>-5.188978</td>\n",
       "      <td>...</td>\n",
       "      <td>-5.188978</td>\n",
       "      <td>-5.188978</td>\n",
       "      <td>-5.188978</td>\n",
       "      <td>-5.188978</td>\n",
       "      <td>-5.188978</td>\n",
       "      <td>-5.188978</td>\n",
       "      <td>-5.188978</td>\n",
       "      <td>-5.188978</td>\n",
       "      <td>-5.188978</td>\n",
       "      <td>-5.188978</td>\n",
       "    </tr>\n",
       "    <tr>\n",
       "      <th>VALUE</th>\n",
       "      <td>-7.405798</td>\n",
       "      <td>-7.405798</td>\n",
       "      <td>0.561665</td>\n",
       "      <td>-7.405798</td>\n",
       "      <td>-7.405798</td>\n",
       "      <td>-2.051536</td>\n",
       "      <td>-7.405798</td>\n",
       "      <td>-7.405798</td>\n",
       "      <td>-7.405798</td>\n",
       "      <td>-7.405798</td>\n",
       "      <td>...</td>\n",
       "      <td>-7.405798</td>\n",
       "      <td>-7.405798</td>\n",
       "      <td>-7.405798</td>\n",
       "      <td>-7.405798</td>\n",
       "      <td>-7.405798</td>\n",
       "      <td>-7.405798</td>\n",
       "      <td>-7.405798</td>\n",
       "      <td>-7.405798</td>\n",
       "      <td>-7.405798</td>\n",
       "      <td>-7.405798</td>\n",
       "    </tr>\n",
       "    <tr>\n",
       "      <th>VALUE</th>\n",
       "      <td>-6.887403</td>\n",
       "      <td>-6.887403</td>\n",
       "      <td>-6.887403</td>\n",
       "      <td>-6.887403</td>\n",
       "      <td>-6.887403</td>\n",
       "      <td>-6.887403</td>\n",
       "      <td>-6.887403</td>\n",
       "      <td>-6.887403</td>\n",
       "      <td>-6.887403</td>\n",
       "      <td>-6.887403</td>\n",
       "      <td>...</td>\n",
       "      <td>-6.887403</td>\n",
       "      <td>-6.887403</td>\n",
       "      <td>-1.452145</td>\n",
       "      <td>-6.887403</td>\n",
       "      <td>-6.887403</td>\n",
       "      <td>-6.887403</td>\n",
       "      <td>-6.887403</td>\n",
       "      <td>-6.887403</td>\n",
       "      <td>-6.887403</td>\n",
       "      <td>-6.887403</td>\n",
       "    </tr>\n",
       "    <tr>\n",
       "      <th>VALUE</th>\n",
       "      <td>-4.498704</td>\n",
       "      <td>-4.498704</td>\n",
       "      <td>-4.498704</td>\n",
       "      <td>-4.498704</td>\n",
       "      <td>-4.498704</td>\n",
       "      <td>-4.498704</td>\n",
       "      <td>-4.498704</td>\n",
       "      <td>-4.498704</td>\n",
       "      <td>-4.498704</td>\n",
       "      <td>-4.498704</td>\n",
       "      <td>...</td>\n",
       "      <td>-4.498704</td>\n",
       "      <td>-4.498704</td>\n",
       "      <td>-4.498704</td>\n",
       "      <td>-4.498704</td>\n",
       "      <td>-4.498704</td>\n",
       "      <td>-4.498704</td>\n",
       "      <td>-4.498704</td>\n",
       "      <td>-4.498704</td>\n",
       "      <td>-4.498704</td>\n",
       "      <td>-4.498704</td>\n",
       "    </tr>\n",
       "    <tr>\n",
       "      <th>VALUE</th>\n",
       "      <td>-6.467757</td>\n",
       "      <td>-6.467757</td>\n",
       "      <td>-6.467757</td>\n",
       "      <td>-6.467757</td>\n",
       "      <td>-6.467757</td>\n",
       "      <td>-6.467757</td>\n",
       "      <td>-6.467757</td>\n",
       "      <td>-6.467757</td>\n",
       "      <td>-6.467757</td>\n",
       "      <td>-6.467757</td>\n",
       "      <td>...</td>\n",
       "      <td>-6.467757</td>\n",
       "      <td>-6.467757</td>\n",
       "      <td>-6.467757</td>\n",
       "      <td>-6.467757</td>\n",
       "      <td>-6.467757</td>\n",
       "      <td>-6.467757</td>\n",
       "      <td>-6.467757</td>\n",
       "      <td>-6.467757</td>\n",
       "      <td>-6.467757</td>\n",
       "      <td>-6.467757</td>\n",
       "    </tr>\n",
       "    <tr>\n",
       "      <th>VALUE</th>\n",
       "      <td>-4.934224</td>\n",
       "      <td>-4.934224</td>\n",
       "      <td>-4.934224</td>\n",
       "      <td>-4.934224</td>\n",
       "      <td>-4.934224</td>\n",
       "      <td>-4.934224</td>\n",
       "      <td>-4.934224</td>\n",
       "      <td>-4.934224</td>\n",
       "      <td>-4.934224</td>\n",
       "      <td>-4.934224</td>\n",
       "      <td>...</td>\n",
       "      <td>-4.934224</td>\n",
       "      <td>-4.934224</td>\n",
       "      <td>-4.934224</td>\n",
       "      <td>-4.934224</td>\n",
       "      <td>-4.934224</td>\n",
       "      <td>-4.934224</td>\n",
       "      <td>-4.934224</td>\n",
       "      <td>-4.934224</td>\n",
       "      <td>-4.934224</td>\n",
       "      <td>-4.934224</td>\n",
       "    </tr>\n",
       "    <tr>\n",
       "      <th>VALUE</th>\n",
       "      <td>-8.948247</td>\n",
       "      <td>-8.948247</td>\n",
       "      <td>-2.495316</td>\n",
       "      <td>-8.948247</td>\n",
       "      <td>-8.948247</td>\n",
       "      <td>-8.948247</td>\n",
       "      <td>-8.948247</td>\n",
       "      <td>-8.948247</td>\n",
       "      <td>-8.948247</td>\n",
       "      <td>-8.948247</td>\n",
       "      <td>...</td>\n",
       "      <td>-8.948247</td>\n",
       "      <td>-8.948247</td>\n",
       "      <td>-3.548126</td>\n",
       "      <td>-8.948247</td>\n",
       "      <td>-8.948247</td>\n",
       "      <td>-8.948247</td>\n",
       "      <td>-8.948247</td>\n",
       "      <td>-8.948247</td>\n",
       "      <td>-8.948247</td>\n",
       "      <td>-8.948247</td>\n",
       "    </tr>\n",
       "    <tr>\n",
       "      <th>VALUE</th>\n",
       "      <td>-9.186548</td>\n",
       "      <td>-9.186548</td>\n",
       "      <td>-1.989159</td>\n",
       "      <td>-9.186548</td>\n",
       "      <td>-9.186548</td>\n",
       "      <td>-9.186548</td>\n",
       "      <td>-9.186548</td>\n",
       "      <td>-9.186548</td>\n",
       "      <td>-9.186548</td>\n",
       "      <td>-9.186548</td>\n",
       "      <td>...</td>\n",
       "      <td>-9.186548</td>\n",
       "      <td>-9.186548</td>\n",
       "      <td>-2.786151</td>\n",
       "      <td>-9.186548</td>\n",
       "      <td>-9.186548</td>\n",
       "      <td>-9.186548</td>\n",
       "      <td>-9.186548</td>\n",
       "      <td>-9.186548</td>\n",
       "      <td>-9.186548</td>\n",
       "      <td>-9.186548</td>\n",
       "    </tr>\n",
       "    <tr>\n",
       "      <th>VALUE</th>\n",
       "      <td>-7.339405</td>\n",
       "      <td>-7.339405</td>\n",
       "      <td>-7.339405</td>\n",
       "      <td>-7.339405</td>\n",
       "      <td>-7.339405</td>\n",
       "      <td>-7.339405</td>\n",
       "      <td>-7.339405</td>\n",
       "      <td>-7.339405</td>\n",
       "      <td>-7.339405</td>\n",
       "      <td>-7.339405</td>\n",
       "      <td>...</td>\n",
       "      <td>-7.339405</td>\n",
       "      <td>-7.339405</td>\n",
       "      <td>-7.339405</td>\n",
       "      <td>-7.339405</td>\n",
       "      <td>-7.339405</td>\n",
       "      <td>-7.339405</td>\n",
       "      <td>-7.339405</td>\n",
       "      <td>-7.339405</td>\n",
       "      <td>-7.339405</td>\n",
       "      <td>-7.339405</td>\n",
       "    </tr>\n",
       "    <tr>\n",
       "      <th>VALUE</th>\n",
       "      <td>-7.273349</td>\n",
       "      <td>-7.273349</td>\n",
       "      <td>-7.273349</td>\n",
       "      <td>-7.273349</td>\n",
       "      <td>-7.273349</td>\n",
       "      <td>-7.273349</td>\n",
       "      <td>-7.273349</td>\n",
       "      <td>-7.273349</td>\n",
       "      <td>-7.273349</td>\n",
       "      <td>-7.273349</td>\n",
       "      <td>...</td>\n",
       "      <td>-7.273349</td>\n",
       "      <td>-7.273349</td>\n",
       "      <td>-7.273349</td>\n",
       "      <td>-7.273349</td>\n",
       "      <td>-7.273349</td>\n",
       "      <td>-7.273349</td>\n",
       "      <td>-7.273349</td>\n",
       "      <td>-7.273349</td>\n",
       "      <td>-7.273349</td>\n",
       "      <td>-7.273349</td>\n",
       "    </tr>\n",
       "  </tbody>\n",
       "</table>\n",
       "<p>13 rows × 2549 columns</p>\n",
       "</div>"
      ],
      "text/plain": [
       "           0         1         2         3         4         5         6     \\\n",
       "VALUE -6.055994 -6.055994 -6.055994 -6.055994 -6.055994 -6.055994 -6.055994   \n",
       "VALUE -6.953311 -6.953311 -6.953311 -6.953311 -6.953311 -6.953311 -6.953311   \n",
       "VALUE -6.005052 -6.005052 -6.005052 -6.005052 -6.005052 -6.005052 -6.005052   \n",
       "VALUE -5.188978 -5.188978 -5.188978 -5.188978 -5.188978 -5.188978 -5.188978   \n",
       "VALUE -7.405798 -7.405798  0.561665 -7.405798 -7.405798 -2.051536 -7.405798   \n",
       "VALUE -6.887403 -6.887403 -6.887403 -6.887403 -6.887403 -6.887403 -6.887403   \n",
       "VALUE -4.498704 -4.498704 -4.498704 -4.498704 -4.498704 -4.498704 -4.498704   \n",
       "VALUE -6.467757 -6.467757 -6.467757 -6.467757 -6.467757 -6.467757 -6.467757   \n",
       "VALUE -4.934224 -4.934224 -4.934224 -4.934224 -4.934224 -4.934224 -4.934224   \n",
       "VALUE -8.948247 -8.948247 -2.495316 -8.948247 -8.948247 -8.948247 -8.948247   \n",
       "VALUE -9.186548 -9.186548 -1.989159 -9.186548 -9.186548 -9.186548 -9.186548   \n",
       "VALUE -7.339405 -7.339405 -7.339405 -7.339405 -7.339405 -7.339405 -7.339405   \n",
       "VALUE -7.273349 -7.273349 -7.273349 -7.273349 -7.273349 -7.273349 -7.273349   \n",
       "\n",
       "           7         8         9     ...      2539      2540      2541  \\\n",
       "VALUE -6.055994 -6.055994 -6.055994  ... -6.055994 -6.055994 -6.055994   \n",
       "VALUE -6.953311 -6.953311 -6.953311  ... -6.953311 -6.953311 -6.953311   \n",
       "VALUE -6.005052 -6.005052 -6.005052  ... -6.005052 -6.005052 -6.005052   \n",
       "VALUE -5.188978 -5.188978 -5.188978  ... -5.188978 -5.188978 -5.188978   \n",
       "VALUE -7.405798 -7.405798 -7.405798  ... -7.405798 -7.405798 -7.405798   \n",
       "VALUE -6.887403 -6.887403 -6.887403  ... -6.887403 -6.887403 -1.452145   \n",
       "VALUE -4.498704 -4.498704 -4.498704  ... -4.498704 -4.498704 -4.498704   \n",
       "VALUE -6.467757 -6.467757 -6.467757  ... -6.467757 -6.467757 -6.467757   \n",
       "VALUE -4.934224 -4.934224 -4.934224  ... -4.934224 -4.934224 -4.934224   \n",
       "VALUE -8.948247 -8.948247 -8.948247  ... -8.948247 -8.948247 -3.548126   \n",
       "VALUE -9.186548 -9.186548 -9.186548  ... -9.186548 -9.186548 -2.786151   \n",
       "VALUE -7.339405 -7.339405 -7.339405  ... -7.339405 -7.339405 -7.339405   \n",
       "VALUE -7.273349 -7.273349 -7.273349  ... -7.273349 -7.273349 -7.273349   \n",
       "\n",
       "           2542      2543      2544      2545      2546      2547      2548  \n",
       "VALUE -6.055994 -6.055994 -6.055994 -6.055994 -6.055994 -6.055994 -6.055994  \n",
       "VALUE -6.953311 -6.953311 -6.953311 -6.953311 -6.953311 -6.953311 -6.953311  \n",
       "VALUE -1.093576 -6.005052 -6.005052 -6.005052 -6.005052 -6.005052 -6.005052  \n",
       "VALUE -5.188978 -5.188978 -5.188978 -5.188978 -5.188978 -5.188978 -5.188978  \n",
       "VALUE -7.405798 -7.405798 -7.405798 -7.405798 -7.405798 -7.405798 -7.405798  \n",
       "VALUE -6.887403 -6.887403 -6.887403 -6.887403 -6.887403 -6.887403 -6.887403  \n",
       "VALUE -4.498704 -4.498704 -4.498704 -4.498704 -4.498704 -4.498704 -4.498704  \n",
       "VALUE -6.467757 -6.467757 -6.467757 -6.467757 -6.467757 -6.467757 -6.467757  \n",
       "VALUE -4.934224 -4.934224 -4.934224 -4.934224 -4.934224 -4.934224 -4.934224  \n",
       "VALUE -8.948247 -8.948247 -8.948247 -8.948247 -8.948247 -8.948247 -8.948247  \n",
       "VALUE -9.186548 -9.186548 -9.186548 -9.186548 -9.186548 -9.186548 -9.186548  \n",
       "VALUE -7.339405 -7.339405 -7.339405 -7.339405 -7.339405 -7.339405 -7.339405  \n",
       "VALUE -7.273349 -7.273349 -7.273349 -7.273349 -7.273349 -7.273349 -7.273349  \n",
       "\n",
       "[13 rows x 2549 columns]"
      ]
     },
     "execution_count": 21,
     "metadata": {},
     "output_type": "execute_result"
    }
   ],
   "source": [
    "X"
   ]
  },
  {
   "cell_type": "code",
   "execution_count": 22,
   "metadata": {},
   "outputs": [],
   "source": [
    "X_healthy, X_cancer = X[controls == 1], X[sick == 1]"
   ]
  },
  {
   "cell_type": "code",
   "execution_count": 23,
   "metadata": {},
   "outputs": [],
   "source": [
    "results = ttest_ind(X_healthy, X_cancer).pvalue"
   ]
  },
  {
   "cell_type": "code",
   "execution_count": 24,
   "metadata": {},
   "outputs": [],
   "source": [
    "lowest, pvalues = np.argsort(results)[:5], np.sort(results)[:5]"
   ]
  },
  {
   "cell_type": "code",
   "execution_count": 25,
   "metadata": {},
   "outputs": [
    {
     "data": {
      "text/plain": [
       "(1366    A_25_P00010438\n",
       " 725     A_25_P00013981\n",
       " 1344    A_25_P00014844\n",
       " 1586    A_25_P00014020\n",
       " 1762    A_25_P00014832\n",
       " Name: ID_REF, dtype: object,\n",
       " array([1.46004280e-05, 3.98421396e-05, 8.41147629e-05, 1.19516628e-04,\n",
       "        1.83403803e-04]))"
      ]
     },
     "execution_count": 25,
     "metadata": {},
     "output_type": "execute_result"
    }
   ],
   "source": [
    "mirnas.iloc[lowest], pvalues"
   ]
  },
  {
   "cell_type": "markdown",
   "metadata": {},
   "source": [
    "### F-test"
   ]
  },
  {
   "cell_type": "code",
   "execution_count": 26,
   "metadata": {},
   "outputs": [],
   "source": [
    "t3 = table"
   ]
  },
  {
   "cell_type": "code",
   "execution_count": 27,
   "metadata": {},
   "outputs": [],
   "source": [
    "f, p = f_classif(t3, sick)"
   ]
  },
  {
   "cell_type": "code",
   "execution_count": 28,
   "metadata": {},
   "outputs": [
    {
     "data": {
      "text/plain": [
       "0.05717715037549747"
      ]
     },
     "execution_count": 28,
     "metadata": {},
     "output_type": "execute_result"
    }
   ],
   "source": [
    "np.mean(p)"
   ]
  },
  {
   "cell_type": "markdown",
   "metadata": {},
   "source": [
    "### ANOVA"
   ]
  },
  {
   "cell_type": "code",
   "execution_count": 29,
   "metadata": {},
   "outputs": [
    {
     "data": {
      "text/html": [
       "<div>\n",
       "<style scoped>\n",
       "    .dataframe tbody tr th:only-of-type {\n",
       "        vertical-align: middle;\n",
       "    }\n",
       "\n",
       "    .dataframe tbody tr th {\n",
       "        vertical-align: top;\n",
       "    }\n",
       "\n",
       "    .dataframe thead th {\n",
       "        text-align: right;\n",
       "    }\n",
       "</style>\n",
       "<table border=\"1\" class=\"dataframe\">\n",
       "  <thead>\n",
       "    <tr style=\"text-align: right;\">\n",
       "      <th></th>\n",
       "      <th>0</th>\n",
       "      <th>1</th>\n",
       "      <th>2</th>\n",
       "      <th>3</th>\n",
       "      <th>4</th>\n",
       "      <th>5</th>\n",
       "      <th>6</th>\n",
       "      <th>7</th>\n",
       "      <th>8</th>\n",
       "      <th>9</th>\n",
       "      <th>...</th>\n",
       "      <th>2539</th>\n",
       "      <th>2540</th>\n",
       "      <th>2541</th>\n",
       "      <th>2542</th>\n",
       "      <th>2543</th>\n",
       "      <th>2544</th>\n",
       "      <th>2545</th>\n",
       "      <th>2546</th>\n",
       "      <th>2547</th>\n",
       "      <th>2548</th>\n",
       "    </tr>\n",
       "  </thead>\n",
       "  <tbody>\n",
       "    <tr>\n",
       "      <th>VALUE</th>\n",
       "      <td>-6.055994</td>\n",
       "      <td>-6.055994</td>\n",
       "      <td>-6.055994</td>\n",
       "      <td>-6.055994</td>\n",
       "      <td>-6.055994</td>\n",
       "      <td>-6.055994</td>\n",
       "      <td>-6.055994</td>\n",
       "      <td>-6.055994</td>\n",
       "      <td>-6.055994</td>\n",
       "      <td>-6.055994</td>\n",
       "      <td>...</td>\n",
       "      <td>-6.055994</td>\n",
       "      <td>-6.055994</td>\n",
       "      <td>-6.055994</td>\n",
       "      <td>-6.055994</td>\n",
       "      <td>-6.055994</td>\n",
       "      <td>-6.055994</td>\n",
       "      <td>-6.055994</td>\n",
       "      <td>-6.055994</td>\n",
       "      <td>-6.055994</td>\n",
       "      <td>-6.055994</td>\n",
       "    </tr>\n",
       "    <tr>\n",
       "      <th>VALUE</th>\n",
       "      <td>-6.953311</td>\n",
       "      <td>-6.953311</td>\n",
       "      <td>-6.953311</td>\n",
       "      <td>-6.953311</td>\n",
       "      <td>-6.953311</td>\n",
       "      <td>-6.953311</td>\n",
       "      <td>-6.953311</td>\n",
       "      <td>-6.953311</td>\n",
       "      <td>-6.953311</td>\n",
       "      <td>-6.953311</td>\n",
       "      <td>...</td>\n",
       "      <td>-6.953311</td>\n",
       "      <td>-6.953311</td>\n",
       "      <td>-6.953311</td>\n",
       "      <td>-6.953311</td>\n",
       "      <td>-6.953311</td>\n",
       "      <td>-6.953311</td>\n",
       "      <td>-6.953311</td>\n",
       "      <td>-6.953311</td>\n",
       "      <td>-6.953311</td>\n",
       "      <td>-6.953311</td>\n",
       "    </tr>\n",
       "    <tr>\n",
       "      <th>VALUE</th>\n",
       "      <td>-6.005052</td>\n",
       "      <td>-6.005052</td>\n",
       "      <td>-6.005052</td>\n",
       "      <td>-6.005052</td>\n",
       "      <td>-6.005052</td>\n",
       "      <td>-6.005052</td>\n",
       "      <td>-6.005052</td>\n",
       "      <td>-6.005052</td>\n",
       "      <td>-6.005052</td>\n",
       "      <td>-6.005052</td>\n",
       "      <td>...</td>\n",
       "      <td>-6.005052</td>\n",
       "      <td>-6.005052</td>\n",
       "      <td>-6.005052</td>\n",
       "      <td>-1.093576</td>\n",
       "      <td>-6.005052</td>\n",
       "      <td>-6.005052</td>\n",
       "      <td>-6.005052</td>\n",
       "      <td>-6.005052</td>\n",
       "      <td>-6.005052</td>\n",
       "      <td>-6.005052</td>\n",
       "    </tr>\n",
       "    <tr>\n",
       "      <th>VALUE</th>\n",
       "      <td>-5.188978</td>\n",
       "      <td>-5.188978</td>\n",
       "      <td>-5.188978</td>\n",
       "      <td>-5.188978</td>\n",
       "      <td>-5.188978</td>\n",
       "      <td>-5.188978</td>\n",
       "      <td>-5.188978</td>\n",
       "      <td>-5.188978</td>\n",
       "      <td>-5.188978</td>\n",
       "      <td>-5.188978</td>\n",
       "      <td>...</td>\n",
       "      <td>-5.188978</td>\n",
       "      <td>-5.188978</td>\n",
       "      <td>-5.188978</td>\n",
       "      <td>-5.188978</td>\n",
       "      <td>-5.188978</td>\n",
       "      <td>-5.188978</td>\n",
       "      <td>-5.188978</td>\n",
       "      <td>-5.188978</td>\n",
       "      <td>-5.188978</td>\n",
       "      <td>-5.188978</td>\n",
       "    </tr>\n",
       "    <tr>\n",
       "      <th>VALUE</th>\n",
       "      <td>-7.405798</td>\n",
       "      <td>-7.405798</td>\n",
       "      <td>0.561665</td>\n",
       "      <td>-7.405798</td>\n",
       "      <td>-7.405798</td>\n",
       "      <td>-2.051536</td>\n",
       "      <td>-7.405798</td>\n",
       "      <td>-7.405798</td>\n",
       "      <td>-7.405798</td>\n",
       "      <td>-7.405798</td>\n",
       "      <td>...</td>\n",
       "      <td>-7.405798</td>\n",
       "      <td>-7.405798</td>\n",
       "      <td>-7.405798</td>\n",
       "      <td>-7.405798</td>\n",
       "      <td>-7.405798</td>\n",
       "      <td>-7.405798</td>\n",
       "      <td>-7.405798</td>\n",
       "      <td>-7.405798</td>\n",
       "      <td>-7.405798</td>\n",
       "      <td>-7.405798</td>\n",
       "    </tr>\n",
       "    <tr>\n",
       "      <th>VALUE</th>\n",
       "      <td>-6.887403</td>\n",
       "      <td>-6.887403</td>\n",
       "      <td>-6.887403</td>\n",
       "      <td>-6.887403</td>\n",
       "      <td>-6.887403</td>\n",
       "      <td>-6.887403</td>\n",
       "      <td>-6.887403</td>\n",
       "      <td>-6.887403</td>\n",
       "      <td>-6.887403</td>\n",
       "      <td>-6.887403</td>\n",
       "      <td>...</td>\n",
       "      <td>-6.887403</td>\n",
       "      <td>-6.887403</td>\n",
       "      <td>-1.452145</td>\n",
       "      <td>-6.887403</td>\n",
       "      <td>-6.887403</td>\n",
       "      <td>-6.887403</td>\n",
       "      <td>-6.887403</td>\n",
       "      <td>-6.887403</td>\n",
       "      <td>-6.887403</td>\n",
       "      <td>-6.887403</td>\n",
       "    </tr>\n",
       "    <tr>\n",
       "      <th>VALUE</th>\n",
       "      <td>-4.498704</td>\n",
       "      <td>-4.498704</td>\n",
       "      <td>-4.498704</td>\n",
       "      <td>-4.498704</td>\n",
       "      <td>-4.498704</td>\n",
       "      <td>-4.498704</td>\n",
       "      <td>-4.498704</td>\n",
       "      <td>-4.498704</td>\n",
       "      <td>-4.498704</td>\n",
       "      <td>-4.498704</td>\n",
       "      <td>...</td>\n",
       "      <td>-4.498704</td>\n",
       "      <td>-4.498704</td>\n",
       "      <td>-4.498704</td>\n",
       "      <td>-4.498704</td>\n",
       "      <td>-4.498704</td>\n",
       "      <td>-4.498704</td>\n",
       "      <td>-4.498704</td>\n",
       "      <td>-4.498704</td>\n",
       "      <td>-4.498704</td>\n",
       "      <td>-4.498704</td>\n",
       "    </tr>\n",
       "    <tr>\n",
       "      <th>VALUE</th>\n",
       "      <td>-6.467757</td>\n",
       "      <td>-6.467757</td>\n",
       "      <td>-6.467757</td>\n",
       "      <td>-6.467757</td>\n",
       "      <td>-6.467757</td>\n",
       "      <td>-6.467757</td>\n",
       "      <td>-6.467757</td>\n",
       "      <td>-6.467757</td>\n",
       "      <td>-6.467757</td>\n",
       "      <td>-6.467757</td>\n",
       "      <td>...</td>\n",
       "      <td>-6.467757</td>\n",
       "      <td>-6.467757</td>\n",
       "      <td>-6.467757</td>\n",
       "      <td>-6.467757</td>\n",
       "      <td>-6.467757</td>\n",
       "      <td>-6.467757</td>\n",
       "      <td>-6.467757</td>\n",
       "      <td>-6.467757</td>\n",
       "      <td>-6.467757</td>\n",
       "      <td>-6.467757</td>\n",
       "    </tr>\n",
       "    <tr>\n",
       "      <th>VALUE</th>\n",
       "      <td>-4.934224</td>\n",
       "      <td>-4.934224</td>\n",
       "      <td>-4.934224</td>\n",
       "      <td>-4.934224</td>\n",
       "      <td>-4.934224</td>\n",
       "      <td>-4.934224</td>\n",
       "      <td>-4.934224</td>\n",
       "      <td>-4.934224</td>\n",
       "      <td>-4.934224</td>\n",
       "      <td>-4.934224</td>\n",
       "      <td>...</td>\n",
       "      <td>-4.934224</td>\n",
       "      <td>-4.934224</td>\n",
       "      <td>-4.934224</td>\n",
       "      <td>-4.934224</td>\n",
       "      <td>-4.934224</td>\n",
       "      <td>-4.934224</td>\n",
       "      <td>-4.934224</td>\n",
       "      <td>-4.934224</td>\n",
       "      <td>-4.934224</td>\n",
       "      <td>-4.934224</td>\n",
       "    </tr>\n",
       "    <tr>\n",
       "      <th>VALUE</th>\n",
       "      <td>-8.948247</td>\n",
       "      <td>-8.948247</td>\n",
       "      <td>-2.495316</td>\n",
       "      <td>-8.948247</td>\n",
       "      <td>-8.948247</td>\n",
       "      <td>-8.948247</td>\n",
       "      <td>-8.948247</td>\n",
       "      <td>-8.948247</td>\n",
       "      <td>-8.948247</td>\n",
       "      <td>-8.948247</td>\n",
       "      <td>...</td>\n",
       "      <td>-8.948247</td>\n",
       "      <td>-8.948247</td>\n",
       "      <td>-3.548126</td>\n",
       "      <td>-8.948247</td>\n",
       "      <td>-8.948247</td>\n",
       "      <td>-8.948247</td>\n",
       "      <td>-8.948247</td>\n",
       "      <td>-8.948247</td>\n",
       "      <td>-8.948247</td>\n",
       "      <td>-8.948247</td>\n",
       "    </tr>\n",
       "    <tr>\n",
       "      <th>VALUE</th>\n",
       "      <td>-9.186548</td>\n",
       "      <td>-9.186548</td>\n",
       "      <td>-1.989159</td>\n",
       "      <td>-9.186548</td>\n",
       "      <td>-9.186548</td>\n",
       "      <td>-9.186548</td>\n",
       "      <td>-9.186548</td>\n",
       "      <td>-9.186548</td>\n",
       "      <td>-9.186548</td>\n",
       "      <td>-9.186548</td>\n",
       "      <td>...</td>\n",
       "      <td>-9.186548</td>\n",
       "      <td>-9.186548</td>\n",
       "      <td>-2.786151</td>\n",
       "      <td>-9.186548</td>\n",
       "      <td>-9.186548</td>\n",
       "      <td>-9.186548</td>\n",
       "      <td>-9.186548</td>\n",
       "      <td>-9.186548</td>\n",
       "      <td>-9.186548</td>\n",
       "      <td>-9.186548</td>\n",
       "    </tr>\n",
       "    <tr>\n",
       "      <th>VALUE</th>\n",
       "      <td>-7.339405</td>\n",
       "      <td>-7.339405</td>\n",
       "      <td>-7.339405</td>\n",
       "      <td>-7.339405</td>\n",
       "      <td>-7.339405</td>\n",
       "      <td>-7.339405</td>\n",
       "      <td>-7.339405</td>\n",
       "      <td>-7.339405</td>\n",
       "      <td>-7.339405</td>\n",
       "      <td>-7.339405</td>\n",
       "      <td>...</td>\n",
       "      <td>-7.339405</td>\n",
       "      <td>-7.339405</td>\n",
       "      <td>-7.339405</td>\n",
       "      <td>-7.339405</td>\n",
       "      <td>-7.339405</td>\n",
       "      <td>-7.339405</td>\n",
       "      <td>-7.339405</td>\n",
       "      <td>-7.339405</td>\n",
       "      <td>-7.339405</td>\n",
       "      <td>-7.339405</td>\n",
       "    </tr>\n",
       "    <tr>\n",
       "      <th>VALUE</th>\n",
       "      <td>-7.273349</td>\n",
       "      <td>-7.273349</td>\n",
       "      <td>-7.273349</td>\n",
       "      <td>-7.273349</td>\n",
       "      <td>-7.273349</td>\n",
       "      <td>-7.273349</td>\n",
       "      <td>-7.273349</td>\n",
       "      <td>-7.273349</td>\n",
       "      <td>-7.273349</td>\n",
       "      <td>-7.273349</td>\n",
       "      <td>...</td>\n",
       "      <td>-7.273349</td>\n",
       "      <td>-7.273349</td>\n",
       "      <td>-7.273349</td>\n",
       "      <td>-7.273349</td>\n",
       "      <td>-7.273349</td>\n",
       "      <td>-7.273349</td>\n",
       "      <td>-7.273349</td>\n",
       "      <td>-7.273349</td>\n",
       "      <td>-7.273349</td>\n",
       "      <td>-7.273349</td>\n",
       "    </tr>\n",
       "  </tbody>\n",
       "</table>\n",
       "<p>13 rows × 2549 columns</p>\n",
       "</div>"
      ],
      "text/plain": [
       "           0         1         2         3         4         5         6     \\\n",
       "VALUE -6.055994 -6.055994 -6.055994 -6.055994 -6.055994 -6.055994 -6.055994   \n",
       "VALUE -6.953311 -6.953311 -6.953311 -6.953311 -6.953311 -6.953311 -6.953311   \n",
       "VALUE -6.005052 -6.005052 -6.005052 -6.005052 -6.005052 -6.005052 -6.005052   \n",
       "VALUE -5.188978 -5.188978 -5.188978 -5.188978 -5.188978 -5.188978 -5.188978   \n",
       "VALUE -7.405798 -7.405798  0.561665 -7.405798 -7.405798 -2.051536 -7.405798   \n",
       "VALUE -6.887403 -6.887403 -6.887403 -6.887403 -6.887403 -6.887403 -6.887403   \n",
       "VALUE -4.498704 -4.498704 -4.498704 -4.498704 -4.498704 -4.498704 -4.498704   \n",
       "VALUE -6.467757 -6.467757 -6.467757 -6.467757 -6.467757 -6.467757 -6.467757   \n",
       "VALUE -4.934224 -4.934224 -4.934224 -4.934224 -4.934224 -4.934224 -4.934224   \n",
       "VALUE -8.948247 -8.948247 -2.495316 -8.948247 -8.948247 -8.948247 -8.948247   \n",
       "VALUE -9.186548 -9.186548 -1.989159 -9.186548 -9.186548 -9.186548 -9.186548   \n",
       "VALUE -7.339405 -7.339405 -7.339405 -7.339405 -7.339405 -7.339405 -7.339405   \n",
       "VALUE -7.273349 -7.273349 -7.273349 -7.273349 -7.273349 -7.273349 -7.273349   \n",
       "\n",
       "           7         8         9     ...      2539      2540      2541  \\\n",
       "VALUE -6.055994 -6.055994 -6.055994  ... -6.055994 -6.055994 -6.055994   \n",
       "VALUE -6.953311 -6.953311 -6.953311  ... -6.953311 -6.953311 -6.953311   \n",
       "VALUE -6.005052 -6.005052 -6.005052  ... -6.005052 -6.005052 -6.005052   \n",
       "VALUE -5.188978 -5.188978 -5.188978  ... -5.188978 -5.188978 -5.188978   \n",
       "VALUE -7.405798 -7.405798 -7.405798  ... -7.405798 -7.405798 -7.405798   \n",
       "VALUE -6.887403 -6.887403 -6.887403  ... -6.887403 -6.887403 -1.452145   \n",
       "VALUE -4.498704 -4.498704 -4.498704  ... -4.498704 -4.498704 -4.498704   \n",
       "VALUE -6.467757 -6.467757 -6.467757  ... -6.467757 -6.467757 -6.467757   \n",
       "VALUE -4.934224 -4.934224 -4.934224  ... -4.934224 -4.934224 -4.934224   \n",
       "VALUE -8.948247 -8.948247 -8.948247  ... -8.948247 -8.948247 -3.548126   \n",
       "VALUE -9.186548 -9.186548 -9.186548  ... -9.186548 -9.186548 -2.786151   \n",
       "VALUE -7.339405 -7.339405 -7.339405  ... -7.339405 -7.339405 -7.339405   \n",
       "VALUE -7.273349 -7.273349 -7.273349  ... -7.273349 -7.273349 -7.273349   \n",
       "\n",
       "           2542      2543      2544      2545      2546      2547      2548  \n",
       "VALUE -6.055994 -6.055994 -6.055994 -6.055994 -6.055994 -6.055994 -6.055994  \n",
       "VALUE -6.953311 -6.953311 -6.953311 -6.953311 -6.953311 -6.953311 -6.953311  \n",
       "VALUE -1.093576 -6.005052 -6.005052 -6.005052 -6.005052 -6.005052 -6.005052  \n",
       "VALUE -5.188978 -5.188978 -5.188978 -5.188978 -5.188978 -5.188978 -5.188978  \n",
       "VALUE -7.405798 -7.405798 -7.405798 -7.405798 -7.405798 -7.405798 -7.405798  \n",
       "VALUE -6.887403 -6.887403 -6.887403 -6.887403 -6.887403 -6.887403 -6.887403  \n",
       "VALUE -4.498704 -4.498704 -4.498704 -4.498704 -4.498704 -4.498704 -4.498704  \n",
       "VALUE -6.467757 -6.467757 -6.467757 -6.467757 -6.467757 -6.467757 -6.467757  \n",
       "VALUE -4.934224 -4.934224 -4.934224 -4.934224 -4.934224 -4.934224 -4.934224  \n",
       "VALUE -8.948247 -8.948247 -8.948247 -8.948247 -8.948247 -8.948247 -8.948247  \n",
       "VALUE -9.186548 -9.186548 -9.186548 -9.186548 -9.186548 -9.186548 -9.186548  \n",
       "VALUE -7.339405 -7.339405 -7.339405 -7.339405 -7.339405 -7.339405 -7.339405  \n",
       "VALUE -7.273349 -7.273349 -7.273349 -7.273349 -7.273349 -7.273349 -7.273349  \n",
       "\n",
       "[13 rows x 2549 columns]"
      ]
     },
     "execution_count": 29,
     "metadata": {},
     "output_type": "execute_result"
    }
   ],
   "source": [
    "t3"
   ]
  },
  {
   "cell_type": "code",
   "execution_count": 30,
   "metadata": {},
   "outputs": [],
   "source": [
    "X = np.array(sick).reshape(-1, 1)"
   ]
  },
  {
   "cell_type": "code",
   "execution_count": 31,
   "metadata": {},
   "outputs": [
    {
     "data": {
      "text/plain": [
       "LinearRegression()"
      ]
     },
     "execution_count": 31,
     "metadata": {},
     "output_type": "execute_result"
    }
   ],
   "source": [
    "linreg = LinearRegression()\n",
    "linreg.fit(X, t3)"
   ]
  },
  {
   "cell_type": "code",
   "execution_count": 32,
   "metadata": {},
   "outputs": [
    {
     "data": {
      "text/plain": [
       "0.4717486956519398"
      ]
     },
     "execution_count": 32,
     "metadata": {},
     "output_type": "execute_result"
    }
   ],
   "source": [
    "fitted = linreg.predict(X)\n",
    "explained_variance_score(t3, fitted)"
   ]
  },
  {
   "cell_type": "markdown",
   "metadata": {},
   "source": [
    "### Mean-variance-plot"
   ]
  },
  {
   "cell_type": "code",
   "execution_count": 33,
   "metadata": {},
   "outputs": [
    {
     "data": {
      "text/plain": [
       "0      -6.703444\n",
       "1      -6.703444\n",
       "2      -5.040537\n",
       "3      -6.703444\n",
       "4      -6.703444\n",
       "          ...   \n",
       "2544   -6.703444\n",
       "2545   -6.703444\n",
       "2546   -6.703444\n",
       "2547   -6.703444\n",
       "2548   -6.703444\n",
       "Length: 2549, dtype: float64"
      ]
     },
     "execution_count": 33,
     "metadata": {},
     "output_type": "execute_result"
    }
   ],
   "source": [
    "np.mean(table)"
   ]
  },
  {
   "cell_type": "code",
   "execution_count": 34,
   "metadata": {
    "tags": []
   },
   "outputs": [],
   "source": [
    "def get_means_and_variances(table):\n",
    "    return np.mean(table), np.var(table, ddof=1)"
   ]
  },
  {
   "cell_type": "code",
   "execution_count": 35,
   "metadata": {
    "tags": []
   },
   "outputs": [],
   "source": [
    "def mean_variance_plot(table):\n",
    "    means, variances = get_means_and_variances(table)\n",
    "    plt.scatter(means, variances)\n",
    "    plt.xlabel(\"mean\")\n",
    "    plt.ylabel(\"variance\")\n",
    "    plt.plot()"
   ]
  },
  {
   "cell_type": "code",
   "execution_count": 36,
   "metadata": {},
   "outputs": [
    {
     "data": {
      "image/png": "[encoded data removed]",
      "text/plain": [
       "<Figure size 432x288 with 1 Axes>"
      ]
     },
     "metadata": {
      "needs_background": "light"
     },
     "output_type": "display_data"
    }
   ],
   "source": [
    "mean_variance_plot(table)"
   ]
  },
  {
   "cell_type": "code",
   "execution_count": 37,
   "metadata": {},
   "outputs": [
    {
     "data": {
      "image/png": "[encoded data removed]",
      "text/plain": [
       "<Figure size 432x288 with 1 Axes>"
      ]
     },
     "metadata": {
      "needs_background": "light"
     },
     "output_type": "display_data"
    }
   ],
   "source": [
    "mean_variance_plot(table)"
   ]
  },
  {
   "cell_type": "markdown",
   "metadata": {
    "tags": []
   },
   "source": [
    "### Loess regression"
   ]
  },
  {
   "cell_type": "code",
   "execution_count": 38,
   "metadata": {
    "tags": []
   },
   "outputs": [],
   "source": [
    "lowess = LowessRegression(sigma=1, span=0.1)"
   ]
  },
  {
   "cell_type": "code",
   "execution_count": 39,
   "metadata": {},
   "outputs": [
    {
     "data": {
      "text/plain": [
       "LowessRegression(span=0.1)"
      ]
     },
     "execution_count": 39,
     "metadata": {},
     "output_type": "execute_result"
    }
   ],
   "source": [
    "means, variances = get_means_and_variances(table)\n",
    "lowess.fit(means.to_numpy().reshape(-1,1), variances)"
   ]
  },
  {
   "cell_type": "code",
   "execution_count": 40,
   "metadata": {},
   "outputs": [],
   "source": [
    "x_axis = np.linspace(-2, 14, 100)\n",
    "y_axis = lowess.predict(x_axis.reshape(-1,1))"
   ]
  },
  {
   "cell_type": "code",
   "execution_count": 41,
   "metadata": {},
   "outputs": [
    {
     "data": {
      "text/plain": [
       "[]"
      ]
     },
     "execution_count": 41,
     "metadata": {},
     "output_type": "execute_result"
    },
    {
     "data": {
      "image/png": "[encoded data removed]",
      "text/plain": [
       "<Figure size 432x288 with 1 Axes>"
      ]
     },
     "metadata": {
      "needs_background": "light"
     },
     "output_type": "display_data"
    }
   ],
   "source": [
    "plt.scatter(means, variances, color=\"b\")\n",
    "plt.scatter(x_axis, y_axis, color=\"y\")\n",
    "plt.xlabel(\"mean\")\n",
    "plt.ylabel(\"variance\")\n",
    "plt.legend([\"Sample points\", \"Lowess regression\"])\n",
    "plt.plot()"
   ]
  },
  {
   "cell_type": "code",
   "execution_count": 42,
   "metadata": {},
   "outputs": [],
   "source": [
    "adj_var = lowess.predict(means.to_numpy().reshape(-1, 1))"
   ]
  },
  {
   "cell_type": "code",
   "execution_count": 43,
   "metadata": {
    "tags": []
   },
   "outputs": [],
   "source": [
    "table /= np.sqrt(adj_var)"
   ]
  },
  {
   "cell_type": "code",
   "execution_count": 44,
   "metadata": {},
   "outputs": [
    {
     "data": {
      "image/png": "[encoded data removed]",
      "text/plain": [
       "<Figure size 432x288 with 1 Axes>"
      ]
     },
     "metadata": {
      "needs_background": "light"
     },
     "output_type": "display_data"
    }
   ],
   "source": [
    "mean_variance_plot(table)"
   ]
  },
  {
   "cell_type": "markdown",
   "metadata": {
    "tags": []
   },
   "source": [
    "### Log transformation"
   ]
  },
  {
   "cell_type": "code",
   "execution_count": 45,
   "metadata": {},
   "outputs": [],
   "source": [
    "log_table = table #np.log2(table)"
   ]
  },
  {
   "cell_type": "code",
   "execution_count": 46,
   "metadata": {},
   "outputs": [
    {
     "data": {
      "image/png": "[encoded data removed]",
      "text/plain": [
       "<Figure size 432x288 with 1 Axes>"
      ]
     },
     "metadata": {
      "needs_background": "light"
     },
     "output_type": "display_data"
    }
   ],
   "source": [
    "mean_variance_plot(log_table)"
   ]
  },
  {
   "cell_type": "code",
   "execution_count": 47,
   "metadata": {
    "tags": []
   },
   "outputs": [],
   "source": [
    "norm_log_table = log_table #- np.mean(log_table)"
   ]
  },
  {
   "cell_type": "code",
   "execution_count": 48,
   "metadata": {},
   "outputs": [],
   "source": [
    "#norm_log_table /= np.sqrt(np.mean(np.var(norm_log_table, ddof=1)))"
   ]
  },
  {
   "cell_type": "code",
   "execution_count": 49,
   "metadata": {},
   "outputs": [
    {
     "data": {
      "image/png": "[encoded data removed]",
      "text/plain": [
       "<Figure size 432x288 with 1 Axes>"
      ]
     },
     "metadata": {
      "needs_background": "light"
     },
     "output_type": "display_data"
    }
   ],
   "source": [
    "mean_variance_plot(norm_log_table)"
   ]
  },
  {
   "cell_type": "markdown",
   "metadata": {},
   "source": [
    "### PCA"
   ]
  },
  {
   "cell_type": "code",
   "execution_count": 50,
   "metadata": {
    "tags": []
   },
   "outputs": [],
   "source": [
    "pca = decomposition.PCA(n_components=10)"
   ]
  },
  {
   "cell_type": "code",
   "execution_count": 51,
   "metadata": {},
   "outputs": [
    {
     "data": {
      "text/plain": [
       "PCA(n_components=10)"
      ]
     },
     "execution_count": 51,
     "metadata": {},
     "output_type": "execute_result"
    }
   ],
   "source": [
    "pca.fit(norm_log_table)"
   ]
  },
  {
   "cell_type": "code",
   "execution_count": 52,
   "metadata": {},
   "outputs": [
    {
     "data": {
      "text/plain": [
       "array([0.83589151, 0.0650706 , 0.02698589, 0.01704358, 0.01192106,\n",
       "       0.01059864, 0.00772589, 0.00710814, 0.00523716, 0.00512864])"
      ]
     },
     "execution_count": 52,
     "metadata": {},
     "output_type": "execute_result"
    }
   ],
   "source": [
    "pca.explained_variance_ratio_"
   ]
  },
  {
   "cell_type": "code",
   "execution_count": 53,
   "metadata": {
    "tags": []
   },
   "outputs": [],
   "source": [
    "components = pca.transform(norm_log_table)"
   ]
  },
  {
   "cell_type": "code",
   "execution_count": 54,
   "metadata": {},
   "outputs": [
    {
     "data": {
      "text/plain": [
       "(13, 10)"
      ]
     },
     "execution_count": 54,
     "metadata": {},
     "output_type": "execute_result"
    }
   ],
   "source": [
    "components.shape"
   ]
  },
  {
   "cell_type": "code",
   "execution_count": 55,
   "metadata": {},
   "outputs": [
    {
     "data": {
      "text/plain": [
       "4"
      ]
     },
     "execution_count": 55,
     "metadata": {},
     "output_type": "execute_result"
    }
   ],
   "source": [
    "sum(controls)"
   ]
  },
  {
   "cell_type": "code",
   "execution_count": 56,
   "metadata": {},
   "outputs": [
    {
     "data": {
      "image/png": "[encoded data removed]",
      "text/plain": [
       "<Figure size 576x576 with 1 Axes>"
      ]
     },
     "metadata": {
      "needs_background": "light"
     },
     "output_type": "display_data"
    }
   ],
   "source": [
    "fig = plt.figure(figsize = (8,8))\n",
    "ax = fig.add_subplot(1,1,1)\n",
    "\n",
    "ax.set_xlabel('Principal Component 1', fontsize = 15)\n",
    "ax.set_ylabel('Principal Component 2', fontsize = 15)\n",
    "ax.set_title('2 component PCA', fontsize = 20)\n",
    "targets = ['Cancer', 'Healthy']\n",
    "colors = ['r', 'g']\n",
    "ax.scatter(components[controls == False, 0], components[controls == False, 1], c = 'r', s = 10)\n",
    "ax.scatter(components[controls == True, 0], components[controls == True, 1], c = 'g', s = 10)\n",
    "ax.legend(targets)\n",
    "ax.grid()"
   ]
  },
  {
   "cell_type": "code",
   "execution_count": 57,
   "metadata": {
    "tags": []
   },
   "outputs": [],
   "source": [
    "components2 = components[components[:,0] < 20, :]\n",
    "controls2 = controls[components[:,0] < 20]"
   ]
  },
  {
   "cell_type": "code",
   "execution_count": 58,
   "metadata": {},
   "outputs": [
    {
     "data": {
      "image/png": "[encoded data removed]",
      "text/plain": [
       "<Figure size 576x576 with 1 Axes>"
      ]
     },
     "metadata": {
      "needs_background": "light"
     },
     "output_type": "display_data"
    }
   ],
   "source": [
    "fig = plt.figure(figsize = (8,8))\n",
    "ax = fig.add_subplot(1,1,1)\n",
    "\n",
    "ax.set_xlabel('Principal Component 1', fontsize = 15)\n",
    "ax.set_ylabel('Principal Component 2', fontsize = 15)\n",
    "ax.set_title('2 component PCA', fontsize = 20)\n",
    "targets = ['Cancer', 'Healthy']\n",
    "colors = ['r', 'g']\n",
    "ax.scatter(components2[controls2 == False, 0], components2[controls2 == False, 1], c = 'r', s = 10)\n",
    "ax.scatter(components2[controls2 == True, 0], components2[controls2 == True, 1], c = 'g', s = 10)\n",
    "ax.legend(targets)\n",
    "ax.grid()"
   ]
  },
  {
   "cell_type": "markdown",
   "metadata": {
    "tags": []
   },
   "source": [
    "### Linear regression adjustments"
   ]
  },
  {
   "cell_type": "code",
   "execution_count": 59,
   "metadata": {},
   "outputs": [],
   "source": [
    "sex = np.array([\"Female\" in k.metadata[\"characteristics_ch1\"][2] for k in list(data.gsms.values())])\n",
    "age = np.array([float(k.metadata[\"characteristics_ch1\"][1].split(\" \")[1].replace(\"NA\", \"NaN\")) for k in list(data.gsms.values())])"
   ]
  },
  {
   "cell_type": "code",
   "execution_count": 60,
   "metadata": {},
   "outputs": [],
   "source": [
    "covars = pd.DataFrame(np.array([sex, age]).transpose(), columns=[\"sex\", \"age\"])"
   ]
  },
  {
   "cell_type": "code",
   "execution_count": 61,
   "metadata": {},
   "outputs": [],
   "source": [
    "covars = covars.fillna(covars.mean())"
   ]
  },
  {
   "cell_type": "code",
   "execution_count": 62,
   "metadata": {},
   "outputs": [
    {
     "data": {
      "text/plain": [
       "LinearRegression()"
      ]
     },
     "execution_count": 62,
     "metadata": {},
     "output_type": "execute_result"
    }
   ],
   "source": [
    "linreg = LinearRegression()\n",
    "linreg.fit(covars, norm_log_table)"
   ]
  },
  {
   "cell_type": "code",
   "execution_count": 63,
   "metadata": {},
   "outputs": [],
   "source": [
    "adj_norm_log_table = norm_log_table #- linreg.predict(covars)"
   ]
  },
  {
   "cell_type": "markdown",
   "metadata": {
    "tags": []
   },
   "source": [
    "# PCA"
   ]
  },
  {
   "cell_type": "code",
   "execution_count": 64,
   "metadata": {
    "tags": []
   },
   "outputs": [],
   "source": [
    "pca = decomposition.PCA(n_components=2)"
   ]
  },
  {
   "cell_type": "code",
   "execution_count": 65,
   "metadata": {},
   "outputs": [
    {
     "data": {
      "text/plain": [
       "PCA(n_components=2)"
      ]
     },
     "execution_count": 65,
     "metadata": {},
     "output_type": "execute_result"
    }
   ],
   "source": [
    "pca.fit(adj_norm_log_table)"
   ]
  },
  {
   "cell_type": "code",
   "execution_count": 66,
   "metadata": {
    "tags": []
   },
   "outputs": [],
   "source": [
    "components = pca.transform(adj_norm_log_table)"
   ]
  },
  {
   "cell_type": "code",
   "execution_count": 67,
   "metadata": {},
   "outputs": [
    {
     "data": {
      "text/plain": [
       "array([[-20.65755195,  -4.03665789],\n",
       "       [  9.22916129,  -5.42675198],\n",
       "       [-23.08406038,  -5.20948762],\n",
       "       [-50.41760409,  -4.34641001],\n",
       "       [ 16.5602388 ,  42.04416778],\n",
       "       [  6.46491351,  -1.4742018 ],\n",
       "       [-72.87370269,  -6.39950241],\n",
       "       [ -9.3136526 ,  -0.82605494],\n",
       "       [-57.93620584,   5.19860018],\n",
       "       [ 76.47283138,  -7.25039614],\n",
       "       [ 84.32347382,  -6.7034769 ],\n",
       "       [ 21.00474484,   0.12153017],\n",
       "       [ 20.22741392,  -5.69135843]])"
      ]
     },
     "execution_count": 67,
     "metadata": {},
     "output_type": "execute_result"
    }
   ],
   "source": [
    "components"
   ]
  },
  {
   "cell_type": "code",
   "execution_count": 68,
   "metadata": {},
   "outputs": [
    {
     "data": {
      "image/png": "[encoded data removed]",
      "text/plain": [
       "<Figure size 576x576 with 1 Axes>"
      ]
     },
     "metadata": {
      "needs_background": "light"
     },
     "output_type": "display_data"
    }
   ],
   "source": [
    "fig = plt.figure(figsize = (8,8))\n",
    "ax = fig.add_subplot(1,1,1)\n",
    "\n",
    "ax.set_xlabel('Principal Component 1', fontsize = 15)\n",
    "ax.set_ylabel('Principal Component 2', fontsize = 15)\n",
    "ax.set_title('2 component PCA', fontsize = 20)\n",
    "targets = ['Cancer', 'Healthy']\n",
    "colors = ['r', 'g']\n",
    "ax.scatter(components[controls == False, 0], components[controls == False, 1], c = 'r', s = 10)\n",
    "ax.scatter(components[controls == True, 0], components[controls == True, 1], c = 'g', s = 10)\n",
    "ax.legend(targets)\n",
    "ax.grid()"
   ]
  },
  {
   "cell_type": "markdown",
   "metadata": {},
   "source": [
    "### Logistic Regression"
   ]
  },
  {
   "cell_type": "code",
   "execution_count": 69,
   "metadata": {},
   "outputs": [],
   "source": [
    "X_train, X_test, y_train, y_test = train_test_split(adj_norm_log_table, controls, test_size=0.33, random_state=42)"
   ]
  },
  {
   "cell_type": "code",
   "execution_count": 70,
   "metadata": {},
   "outputs": [
    {
     "name": "stderr",
     "output_type": "stream",
     "text": [
      "C:\\Users\\olefr\\AppData\\Local\\Programs\\Python\\Python310\\lib\\site-packages\\sklearn\\linear_model\\_logistic.py:814: ConvergenceWarning: lbfgs failed to converge (status=1):\n",
      "STOP: TOTAL NO. of ITERATIONS REACHED LIMIT.\n",
      "\n",
      "Increase the number of iterations (max_iter) or scale the data as shown in:\n",
      "    https://scikit-learn.org/stable/modules/preprocessing.html\n",
      "Please also refer to the documentation for alternative solver options:\n",
      "    https://scikit-learn.org/stable/modules/linear_model.html#logistic-regression\n",
      "  n_iter_i = _check_optimize_result(\n"
     ]
    },
    {
     "data": {
      "text/plain": [
       "LogisticRegression()"
      ]
     },
     "execution_count": 70,
     "metadata": {},
     "output_type": "execute_result"
    }
   ],
   "source": [
    "model = LogisticRegression()\n",
    "model.fit(X_train, y_train)"
   ]
  },
  {
   "cell_type": "code",
   "execution_count": 71,
   "metadata": {},
   "outputs": [
    {
     "name": "stderr",
     "output_type": "stream",
     "text": [
      "C:\\Users\\olefr\\AppData\\Local\\Programs\\Python\\Python310\\lib\\site-packages\\sklearn\\utils\\deprecation.py:87: FutureWarning: Function plot_roc_curve is deprecated; Function :func:`plot_roc_curve` is deprecated in 1.0 and will be removed in 1.2. Use one of the class methods: :meth:`sklearn.metric.RocCurveDisplay.from_predictions` or :meth:`sklearn.metric.RocCurveDisplay.from_estimator`.\n",
      "  warnings.warn(msg, category=FutureWarning)\n"
     ]
    },
    {
     "data": {
      "text/plain": [
       "<sklearn.metrics._plot.roc_curve.RocCurveDisplay at 0x21ef7d0bee0>"
      ]
     },
     "execution_count": 71,
     "metadata": {},
     "output_type": "execute_result"
    },
    {
     "data": {
      "image/png": "[encoded data removed]",
      "text/plain": [
       "<Figure size 432x288 with 1 Axes>"
      ]
     },
     "metadata": {
      "needs_background": "light"
     },
     "output_type": "display_data"
    }
   ],
   "source": [
    "plot_roc_curve(model, X_test, y_test)"
   ]
  },
  {
   "cell_type": "markdown",
   "metadata": {
    "jupyter": {
     "outputs_hidden": true
    }
   },
   "source": [
    "### XGBoost"
   ]
  },
  {
   "cell_type": "code",
   "execution_count": 72,
   "metadata": {},
   "outputs": [
    {
     "name": "stdout",
     "output_type": "stream",
     "text": [
      "[20:17:17] WARNING: C:/Users/Administrator/workspace/xgboost-win64_release_1.5.1/src/learner.cc:1115: Starting in XGBoost 1.3.0, the default evaluation metric used with the objective 'binary:logistic' was changed from 'error' to 'logloss'. Explicitly set eval_metric if you'd like to restore the old behavior.\n"
     ]
    },
    {
     "data": {
      "text/plain": [
       "XGBClassifier(base_score=0.5, booster='gbtree', colsample_bylevel=1,\n",
       "              colsample_bynode=1, colsample_bytree=1, enable_categorical=False,\n",
       "              gamma=0, gpu_id=-1, importance_type=None,\n",
       "              interaction_constraints='', learning_rate=0.300000012,\n",
       "              max_delta_step=0, max_depth=6, min_child_weight=1, missing=nan,\n",
       "              monotone_constraints='()', n_estimators=100, n_jobs=16,\n",
       "              num_parallel_tree=1, predictor='auto', random_state=0,\n",
       "              reg_alpha=0, reg_lambda=1, scale_pos_weight=1, subsample=1,\n",
       "              tree_method='exact', use_label_encoder=False,\n",
       "              validate_parameters=1, verbosity=None)"
      ]
     },
     "execution_count": 72,
     "metadata": {},
     "output_type": "execute_result"
    }
   ],
   "source": [
    "model = XGBClassifier(use_label_encoder=False)\n",
    "model.fit(X_train, y_train)"
   ]
  },
  {
   "cell_type": "code",
   "execution_count": 73,
   "metadata": {},
   "outputs": [
    {
     "name": "stderr",
     "output_type": "stream",
     "text": [
      "C:\\Users\\olefr\\AppData\\Local\\Programs\\Python\\Python310\\lib\\site-packages\\sklearn\\utils\\deprecation.py:87: FutureWarning: Function plot_roc_curve is deprecated; Function :func:`plot_roc_curve` is deprecated in 1.0 and will be removed in 1.2. Use one of the class methods: :meth:`sklearn.metric.RocCurveDisplay.from_predictions` or :meth:`sklearn.metric.RocCurveDisplay.from_estimator`.\n",
      "  warnings.warn(msg, category=FutureWarning)\n"
     ]
    },
    {
     "data": {
      "text/plain": [
       "<sklearn.metrics._plot.roc_curve.RocCurveDisplay at 0x21ef9599f30>"
      ]
     },
     "execution_count": 73,
     "metadata": {},
     "output_type": "execute_result"
    },
    {
     "data": {
      "image/png": "[encoded data removed]",
      "text/plain": [
       "<Figure size 432x288 with 1 Axes>"
      ]
     },
     "metadata": {
      "needs_background": "light"
     },
     "output_type": "display_data"
    }
   ],
   "source": [
    "plot_roc_curve(model, X_test, y_test)"
   ]
  },
  {
   "cell_type": "markdown",
   "metadata": {},
   "source": [
    "### Exporting data"
   ]
  },
  {
   "cell_type": "code",
   "execution_count": 74,
   "metadata": {},
   "outputs": [],
   "source": [
    "lookup_table = data.gpls[\"GPL21576\"].table"
   ]
  },
  {
   "cell_type": "code",
   "execution_count": 75,
   "metadata": {},
   "outputs": [
    {
     "data": {
      "text/html": [
       "<div>\n",
       "<style scoped>\n",
       "    .dataframe tbody tr th:only-of-type {\n",
       "        vertical-align: middle;\n",
       "    }\n",
       "\n",
       "    .dataframe tbody tr th {\n",
       "        vertical-align: top;\n",
       "    }\n",
       "\n",
       "    .dataframe thead th {\n",
       "        text-align: right;\n",
       "    }\n",
       "</style>\n",
       "<table border=\"1\" class=\"dataframe\">\n",
       "  <thead>\n",
       "    <tr style=\"text-align: right;\">\n",
       "      <th></th>\n",
       "      <th>miRNA_ID</th>\n",
       "      <th>SPOT_ID</th>\n",
       "      <th>GENE_SYMBOL</th>\n",
       "      <th>GENE_NAME</th>\n",
       "      <th>ACCESSION_STRING</th>\n",
       "      <th>CHROMOSOMAL_LOCATION</th>\n",
       "      <th>SPOT_ID.1</th>\n",
       "    </tr>\n",
       "    <tr>\n",
       "      <th>ID</th>\n",
       "      <th></th>\n",
       "      <th></th>\n",
       "      <th></th>\n",
       "      <th></th>\n",
       "      <th></th>\n",
       "      <th></th>\n",
       "      <th></th>\n",
       "    </tr>\n",
       "  </thead>\n",
       "  <tbody>\n",
       "    <tr>\n",
       "      <th>(-)3xSLv1</th>\n",
       "      <td>NaN</td>\n",
       "      <td>--NegativeControl</td>\n",
       "      <td>NaN</td>\n",
       "      <td>NaN</td>\n",
       "      <td>NaN</td>\n",
       "      <td>NaN</td>\n",
       "      <td>NaN</td>\n",
       "    </tr>\n",
       "    <tr>\n",
       "      <th>A_25_P00010019</th>\n",
       "      <td>hsa-miR-329-3p</td>\n",
       "      <td>NaN</td>\n",
       "      <td>hsa-miR-329-3p</td>\n",
       "      <td>hsa-miR-329-3p</td>\n",
       "      <td>mir|hsa-miR-329-3p|mir|MIMAT0001629|mir|hsa-mi...</td>\n",
       "      <td>chr14:101493173-101493192,chr14:101493490-1014...</td>\n",
       "      <td>NaN</td>\n",
       "    </tr>\n",
       "    <tr>\n",
       "      <th>A_25_P00010020</th>\n",
       "      <td>hsa-miR-329-3p</td>\n",
       "      <td>NaN</td>\n",
       "      <td>hsa-miR-329-3p</td>\n",
       "      <td>hsa-miR-329-3p</td>\n",
       "      <td>mir|hsa-miR-329-3p|mir|MIMAT0001629|mir|hsa-mi...</td>\n",
       "      <td>chr14:101493174-101493192,chr14:101493491-1014...</td>\n",
       "      <td>NaN</td>\n",
       "    </tr>\n",
       "    <tr>\n",
       "      <th>A_25_P00010021</th>\n",
       "      <td>hsa-miR-655-3p</td>\n",
       "      <td>NaN</td>\n",
       "      <td>hsa-miR-655-3p</td>\n",
       "      <td>hsa-miR-655-3p</td>\n",
       "      <td>mir|hsa-miR-655-3p|mir|MIMAT0003331|mir|hsa-mi...</td>\n",
       "      <td>chr14:101515949-101515968</td>\n",
       "      <td>NaN</td>\n",
       "    </tr>\n",
       "    <tr>\n",
       "      <th>A_25_P00010023</th>\n",
       "      <td>hsa-miR-369-3p</td>\n",
       "      <td>NaN</td>\n",
       "      <td>hsa-miR-369-3p</td>\n",
       "      <td>hsa-miR-369-3p</td>\n",
       "      <td>mir|hsa-miR-369-3p|mir|MIMAT0000721</td>\n",
       "      <td>unmapped</td>\n",
       "      <td>NaN</td>\n",
       "    </tr>\n",
       "  </tbody>\n",
       "</table>\n",
       "</div>"
      ],
      "text/plain": [
       "                      miRNA_ID            SPOT_ID     GENE_SYMBOL  \\\n",
       "ID                                                                  \n",
       "(-)3xSLv1                  NaN  --NegativeControl             NaN   \n",
       "A_25_P00010019  hsa-miR-329-3p                NaN  hsa-miR-329-3p   \n",
       "A_25_P00010020  hsa-miR-329-3p                NaN  hsa-miR-329-3p   \n",
       "A_25_P00010021  hsa-miR-655-3p                NaN  hsa-miR-655-3p   \n",
       "A_25_P00010023  hsa-miR-369-3p                NaN  hsa-miR-369-3p   \n",
       "\n",
       "                     GENE_NAME  \\\n",
       "ID                               \n",
       "(-)3xSLv1                  NaN   \n",
       "A_25_P00010019  hsa-miR-329-3p   \n",
       "A_25_P00010020  hsa-miR-329-3p   \n",
       "A_25_P00010021  hsa-miR-655-3p   \n",
       "A_25_P00010023  hsa-miR-369-3p   \n",
       "\n",
       "                                                 ACCESSION_STRING  \\\n",
       "ID                                                                  \n",
       "(-)3xSLv1                                                     NaN   \n",
       "A_25_P00010019  mir|hsa-miR-329-3p|mir|MIMAT0001629|mir|hsa-mi...   \n",
       "A_25_P00010020  mir|hsa-miR-329-3p|mir|MIMAT0001629|mir|hsa-mi...   \n",
       "A_25_P00010021  mir|hsa-miR-655-3p|mir|MIMAT0003331|mir|hsa-mi...   \n",
       "A_25_P00010023                mir|hsa-miR-369-3p|mir|MIMAT0000721   \n",
       "\n",
       "                                             CHROMOSOMAL_LOCATION  SPOT_ID.1  \n",
       "ID                                                                            \n",
       "(-)3xSLv1                                                     NaN        NaN  \n",
       "A_25_P00010019  chr14:101493173-101493192,chr14:101493490-1014...        NaN  \n",
       "A_25_P00010020  chr14:101493174-101493192,chr14:101493491-1014...        NaN  \n",
       "A_25_P00010021                          chr14:101515949-101515968        NaN  \n",
       "A_25_P00010023                                           unmapped        NaN  "
      ]
     },
     "execution_count": 75,
     "metadata": {},
     "output_type": "execute_result"
    }
   ],
   "source": [
    "lookup_table = lookup_table.set_index(\"ID\")\n",
    "lookup_table.head()"
   ]
  },
  {
   "cell_type": "code",
   "execution_count": 76,
   "metadata": {},
   "outputs": [],
   "source": [
    "access_ids = lookup_table.loc[mirnas][\"ACCESSION_STRING\"]"
   ]
  },
  {
   "cell_type": "code",
   "execution_count": 77,
   "metadata": {},
   "outputs": [],
   "source": [
    "access_ids = [a.split(\"|\")[-1] for a in access_ids]"
   ]
  },
  {
   "cell_type": "code",
   "execution_count": 78,
   "metadata": {},
   "outputs": [
    {
     "data": {
      "text/plain": [
       "['MIMAT0014997',\n",
       " 'MIMAT0010251',\n",
       " 'MIMAT0019015',\n",
       " 'MIMAT0027476',\n",
       " 'MIMAT0002883',\n",
       " 'MIMAT0018179',\n",
       " 'MIMAT0002859',\n",
       " 'MIMAT0028217',\n",
       " 'MIMAT0030412',\n",
       " 'MIMAT0027591']"
      ]
     },
     "execution_count": 78,
     "metadata": {},
     "output_type": "execute_result"
    }
   ],
   "source": [
    "access_ids[:10]"
   ]
  },
  {
   "cell_type": "code",
   "execution_count": 79,
   "metadata": {},
   "outputs": [],
   "source": [
    "from Scripts import converters"
   ]
  },
  {
   "cell_type": "code",
   "execution_count": 80,
   "metadata": {},
   "outputs": [
    {
     "ename": "Exception",
     "evalue": "No sequence found for access id: MIMAT0020299",
     "output_type": "error",
     "traceback": [
      "\u001b[1;31m---------------------------------------------------------------------------\u001b[0m",
      "\u001b[1;31mException\u001b[0m                                 Traceback (most recent call last)",
      "\u001b[1;32m~\\AppData\\Local\\Temp/ipykernel_2832/2795611602.py\u001b[0m in \u001b[0;36m<module>\u001b[1;34m\u001b[0m\n\u001b[1;32m----> 1\u001b[1;33m \u001b[0msequences\u001b[0m \u001b[1;33m=\u001b[0m \u001b[0mconverters\u001b[0m\u001b[1;33m.\u001b[0m\u001b[0mmirbase_to_seq\u001b[0m\u001b[1;33m(\u001b[0m\u001b[0maccess_ids\u001b[0m\u001b[1;33m)\u001b[0m\u001b[1;33m\u001b[0m\u001b[1;33m\u001b[0m\u001b[0m\n\u001b[0m",
      "\u001b[1;32m~\\Documents\\masterthesis\\Databehandling\\Notebooks\\Scripts\\converters.py\u001b[0m in \u001b[0;36mmirbase_to_seq\u001b[1;34m(mirna_list, ignore_not_found)\u001b[0m\n\u001b[0;32m     25\u001b[0m                     \u001b[1;32mpass\u001b[0m\u001b[1;33m\u001b[0m\u001b[1;33m\u001b[0m\u001b[0m\n\u001b[0;32m     26\u001b[0m         \u001b[1;32mif\u001b[0m \u001b[0mn\u001b[0m \u001b[1;32mis\u001b[0m \u001b[1;32mNone\u001b[0m \u001b[1;32mand\u001b[0m \u001b[1;32mnot\u001b[0m \u001b[0mignore_not_found\u001b[0m\u001b[1;33m:\u001b[0m\u001b[1;33m\u001b[0m\u001b[1;33m\u001b[0m\u001b[0m\n\u001b[1;32m---> 27\u001b[1;33m             \u001b[1;32mraise\u001b[0m \u001b[0mException\u001b[0m\u001b[1;33m(\u001b[0m\u001b[1;34mf\"No sequence found for access id: {mirna}\"\u001b[0m\u001b[1;33m)\u001b[0m\u001b[1;33m\u001b[0m\u001b[1;33m\u001b[0m\u001b[0m\n\u001b[0m\u001b[0;32m     28\u001b[0m         \u001b[0mseq\u001b[0m\u001b[1;33m.\u001b[0m\u001b[0mappend\u001b[0m\u001b[1;33m(\u001b[0m\u001b[0mn\u001b[0m\u001b[1;33m)\u001b[0m\u001b[1;33m\u001b[0m\u001b[1;33m\u001b[0m\u001b[0m\n\u001b[0;32m     29\u001b[0m     \u001b[1;32mreturn\u001b[0m \u001b[0mseq\u001b[0m\u001b[1;33m\u001b[0m\u001b[1;33m\u001b[0m\u001b[0m\n",
      "\u001b[1;31mException\u001b[0m: No sequence found for access id: MIMAT0020299"
     ]
    }
   ],
   "source": [
    "sequences = converters.mirbase_to_seq(access_ids)"
   ]
  },
  {
   "cell_type": "code",
   "execution_count": null,
   "metadata": {},
   "outputs": [],
   "source": [
    "sequences[:10]"
   ]
  },
  {
   "cell_type": "code",
   "execution_count": null,
   "metadata": {},
   "outputs": [],
   "source": [
    "adj_norm_log_table.columns = sequences\n",
    "adj_norm_log_table[\"cancer\"] = sick\n",
    "adj_norm_log_table.head()"
   ]
  },
  {
   "cell_type": "code",
   "execution_count": null,
   "metadata": {},
   "outputs": [],
   "source": [
    "adj_norm_log_table.to_csv(\"../TransformedData/Qu2017_raw.csv\", index=False)"
   ]
  },
  {
   "cell_type": "code",
   "execution_count": null,
   "metadata": {},
   "outputs": [],
   "source": []
  }
 ],
 "metadata": {
  "kernelspec": {
   "display_name": "Python 3 (ipykernel)",
   "language": "python",
   "name": "python3"
  },
  "language_info": {
   "codemirror_mode": {
    "name": "ipython",
    "version": 3
   },
   "file_extension": ".py",
   "mimetype": "text/x-python",
   "name": "python",
   "nbconvert_exporter": "python",
   "pygments_lexer": "ipython3",
   "version": "3.10.1"
  }
 },
 "nbformat": 4,
 "nbformat_minor": 4
}
