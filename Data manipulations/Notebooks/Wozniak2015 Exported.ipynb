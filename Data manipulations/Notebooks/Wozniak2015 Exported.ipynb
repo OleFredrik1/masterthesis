{
 "cells": [
  {
   "cell_type": "code",
   "execution_count": 11,
   "metadata": {
    "tags": []
   },
   "outputs": [],
   "source": [
    "%matplotlib inline\n",
    "import GEOparse\n",
    "import matplotlib.pyplot as plt\n",
    "import pandas as pd\n",
    "import numpy as np\n",
    "from sklearn import decomposition\n",
    "from sklearn.feature_selection import f_classif\n",
    "from sklearn.linear_model import LinearRegression, LogisticRegression\n",
    "from sklearn.metrics import explained_variance_score, plot_roc_curve\n",
    "import statsmodels.api as sm\n",
    "from scipy.stats import ttest_ind\n",
    "from xgboost import XGBClassifier\n",
    "from sklearn.model_selection import train_test_split\n",
    "import matplotlib\n",
    "from xgboost import XGBClassifier\n",
    "from sklearn.model_selection import train_test_split\n",
    "\n",
    "\n",
    "\n",
    "\n",
    "geo = \"GSE64591\""
   ]
  },
  {
   "cell_type": "code",
   "execution_count": 12,
   "metadata": {},
   "outputs": [],
   "source": [
    "data = GEOparse.get_GEO(geo=geo, destdir=\"../Dataset/Wozniak2015\", silent=True)"
   ]
  },
  {
   "cell_type": "code",
   "execution_count": 13,
   "metadata": {},
   "outputs": [
    {
     "data": {
      "text/plain": [
       "'GPL18942'"
      ]
     },
     "execution_count": 13,
     "metadata": {},
     "output_type": "execute_result"
    }
   ],
   "source": [
    "data.metadata[\"platform_id\"][0]"
   ]
  },
  {
   "cell_type": "markdown",
   "metadata": {},
   "source": [
    "### Reading in from external source"
   ]
  },
  {
   "cell_type": "code",
   "execution_count": 14,
   "metadata": {},
   "outputs": [],
   "source": [
    "table = pd.read_csv(\"../Dataset/Wozniak2015/GSE64591_normalized.txt\", sep=\"\\t\", header=7)\n",
    "#table = pd.read_csv(\"../Dataset/Wozniak2015/GSE64591_non-normalized.txt\", sep=\"\\t\", header=5)"
   ]
  },
  {
   "cell_type": "code",
   "execution_count": 15,
   "metadata": {},
   "outputs": [],
   "source": [
    "mirnas = table.iloc[:, 0]\n",
    "table = table.iloc[:, 1:].transpose()"
   ]
  },
  {
   "cell_type": "code",
   "execution_count": 18,
   "metadata": {},
   "outputs": [
    {
     "data": {
      "text/plain": [
       "['hsa-miR-155-002623']"
      ]
     },
     "execution_count": 18,
     "metadata": {},
     "output_type": "execute_result"
    }
   ],
   "source": [
    "[m for m in mirnas if \"-155\" in m]"
   ]
  },
  {
   "cell_type": "code",
   "execution_count": 6,
   "metadata": {},
   "outputs": [
    {
     "data": {
      "text/plain": [
       "350"
      ]
     },
     "execution_count": 6,
     "metadata": {},
     "output_type": "execute_result"
    }
   ],
   "source": [
    "len(mirnas)"
   ]
  },
  {
   "cell_type": "code",
   "execution_count": 10,
   "metadata": {},
   "outputs": [
    {
     "data": {
      "text/plain": [
       "{'title': ['NSCLC 61'],\n",
       " 'geo_accession': ['GSM1574969'],\n",
       " 'status': ['Public on Dec 31 2015'],\n",
       " 'submission_date': ['Dec 30 2014'],\n",
       " 'last_update_date': ['Dec 31 2015'],\n",
       " 'type': ['RNA'],\n",
       " 'channel_count': ['1'],\n",
       " 'source_name_ch1': ['plasma'],\n",
       " 'organism_ch1': ['Homo sapiens'],\n",
       " 'taxid_ch1': ['9606'],\n",
       " 'characteristics_ch1': ['gender: Male',\n",
       "  'age at interview: 55',\n",
       "  'smoking status: Ever smoker',\n",
       "  'morphology (for patients only): 8140/3',\n",
       "  'disease state: Non-small cell lung cancer patient'],\n",
       " 'treatment_protocol_ch1': ['Peripheral blood was collected in EDTA tubes at the time of interview.'],\n",
       " 'growth_protocol_ch1': ['n/a'],\n",
       " 'molecule_ch1': ['total RNA'],\n",
       " 'extract_protocol_ch1': ['Total RNA was isolated from 300ï\\xadL of plasma using NucleoSpinÂ® miRNA Plasma kit (Macherey-Nagel, DÃ¼ren, Germany) according to the manufacturerâ€™s protocol with Proteinase K digest, addition of 2Î¼g of glycogen carrier and DNAse digest steps. All samples were spiked-in with 10pmol of Arabidopsis thaliana synthetic miR-159a (synthesized by Eurofins MWG Operon, Ebersberg, Germany) to control for variations in the RNA preparation step.'],\n",
       " 'label_ch1': ['FAM'],\n",
       " 'label_protocol_ch1': [\"Expression levels of 754 miRNAs (Sanger miRBase v14) were quantified using the TaqMan Human MicroRNA Array A + B Card Set v3.0 (Applied Biosystems, Foster City, CA) as per the manufacturer's instructions (including pre-amplification).\"],\n",
       " 'hyb_protocol': ['n/a'],\n",
       " 'scan_protocol': ['n/a'],\n",
       " 'description': ['Case'],\n",
       " 'data_processing': ['The data were analysed in HTqPCR package using R Bioconductor. miRNAs with undetermined Ct values in more than 120 samples were filtered out. Data were quantile normalized. Following normalization Ct values with an interquartile range (IQR) of less than 1.5 and endogenous controls were removed from subsequent analysis, and limma analysis was performed to identify differentially regulated miRNA between cases and controls. With limma, a one-factorial linear model is fitted for each miRNA and the standard errors (SE) are moderated using an empirical Bayes model resulting in moderated t-statistics for each miRNA. These analysis were performed separately for CARD A and CARD B.',\n",
       "  'Matrix normalized worksheet reports normalized signal (quantile normalization).  Fold Change worksheet reports fold changes across all cases and controls.'],\n",
       " 'platform_id': ['GPL18942'],\n",
       " 'contact_name': ['Magdalena,B,Wozniak'],\n",
       " 'contact_department': ['Genetic Epidemiology'],\n",
       " 'contact_institute': ['International Agency for Research on Cancer'],\n",
       " 'contact_address': ['150 cours Albert Thomas'],\n",
       " 'contact_city': ['Lyon'],\n",
       " 'contact_zip/postal_code': ['69008'],\n",
       " 'contact_country': ['France'],\n",
       " 'supplementary_file': ['NONE'],\n",
       " 'series_id': ['GSE64591'],\n",
       " 'data_row_count': ['0']}"
      ]
     },
     "execution_count": 10,
     "metadata": {},
     "output_type": "execute_result"
    }
   ],
   "source": [
    "list(data.gsms.values())[-40].metadata"
   ]
  },
  {
   "cell_type": "markdown",
   "metadata": {},
   "source": [
    "### T-test"
   ]
  },
  {
   "cell_type": "code",
   "execution_count": 94,
   "metadata": {},
   "outputs": [],
   "source": [
    "X = table"
   ]
  },
  {
   "cell_type": "code",
   "execution_count": 95,
   "metadata": {},
   "outputs": [],
   "source": [
    "X_healthy, X_cancer = X[:100], X[100:]"
   ]
  },
  {
   "cell_type": "code",
   "execution_count": 96,
   "metadata": {},
   "outputs": [],
   "source": [
    "results = ttest_ind(X_healthy, X_cancer).pvalue"
   ]
  },
  {
   "cell_type": "code",
   "execution_count": 97,
   "metadata": {},
   "outputs": [],
   "source": [
    "lowest, pvalues = np.argsort(results)[:5], np.sort(results)[:5]"
   ]
  },
  {
   "cell_type": "code",
   "execution_count": 98,
   "metadata": {},
   "outputs": [
    {
     "data": {
      "text/plain": [
       "(106        hsa-miR-218-000521\n",
       " 293       hsa-miR-340#-002259\n",
       " 160    hsa-miR-450b-5p-002207\n",
       " 96        hsa-miR-200c-002300\n",
       " 205        hsa-miR-642-001592\n",
       " Name: ID_REF, dtype: object,\n",
       " array([3.06930673e-06, 5.41324041e-06, 1.70091386e-05, 5.78109257e-05,\n",
       "        2.61842093e-04]))"
      ]
     },
     "execution_count": 98,
     "metadata": {},
     "output_type": "execute_result"
    }
   ],
   "source": [
    "mirnas[lowest], pvalues"
   ]
  },
  {
   "cell_type": "markdown",
   "metadata": {},
   "source": [
    "### F-test"
   ]
  },
  {
   "cell_type": "code",
   "execution_count": 99,
   "metadata": {},
   "outputs": [],
   "source": [
    "t3 = table"
   ]
  },
  {
   "cell_type": "code",
   "execution_count": 100,
   "metadata": {},
   "outputs": [],
   "source": [
    "f, p = f_classif(t3, 100*[0] + 100*[1])"
   ]
  },
  {
   "cell_type": "markdown",
   "metadata": {
    "tags": []
   },
   "source": [
    "### ANOVA"
   ]
  },
  {
   "cell_type": "code",
   "execution_count": 101,
   "metadata": {},
   "outputs": [
    {
     "data": {
      "text/html": [
       "<div>\n",
       "<style scoped>\n",
       "    .dataframe tbody tr th:only-of-type {\n",
       "        vertical-align: middle;\n",
       "    }\n",
       "\n",
       "    .dataframe tbody tr th {\n",
       "        vertical-align: top;\n",
       "    }\n",
       "\n",
       "    .dataframe thead th {\n",
       "        text-align: right;\n",
       "    }\n",
       "</style>\n",
       "<table border=\"1\" class=\"dataframe\">\n",
       "  <thead>\n",
       "    <tr style=\"text-align: right;\">\n",
       "      <th></th>\n",
       "      <th>0</th>\n",
       "      <th>1</th>\n",
       "      <th>2</th>\n",
       "      <th>3</th>\n",
       "      <th>4</th>\n",
       "      <th>5</th>\n",
       "      <th>6</th>\n",
       "      <th>7</th>\n",
       "      <th>8</th>\n",
       "      <th>9</th>\n",
       "      <th>...</th>\n",
       "      <th>340</th>\n",
       "      <th>341</th>\n",
       "      <th>342</th>\n",
       "      <th>343</th>\n",
       "      <th>344</th>\n",
       "      <th>345</th>\n",
       "      <th>346</th>\n",
       "      <th>347</th>\n",
       "      <th>348</th>\n",
       "      <th>349</th>\n",
       "    </tr>\n",
       "  </thead>\n",
       "  <tbody>\n",
       "    <tr>\n",
       "      <th>CRTL 1</th>\n",
       "      <td>27.25</td>\n",
       "      <td>36.71</td>\n",
       "      <td>31.79</td>\n",
       "      <td>32.27</td>\n",
       "      <td>31.85</td>\n",
       "      <td>25.28</td>\n",
       "      <td>21.44</td>\n",
       "      <td>22.90</td>\n",
       "      <td>29.82</td>\n",
       "      <td>32.12</td>\n",
       "      <td>...</td>\n",
       "      <td>30.93</td>\n",
       "      <td>11.58</td>\n",
       "      <td>24.80</td>\n",
       "      <td>26.70</td>\n",
       "      <td>27.32</td>\n",
       "      <td>27.84</td>\n",
       "      <td>28.12</td>\n",
       "      <td>28.95</td>\n",
       "      <td>25.12</td>\n",
       "      <td>19.13</td>\n",
       "    </tr>\n",
       "    <tr>\n",
       "      <th>CRTL 2</th>\n",
       "      <td>27.39</td>\n",
       "      <td>32.81</td>\n",
       "      <td>30.92</td>\n",
       "      <td>30.30</td>\n",
       "      <td>26.65</td>\n",
       "      <td>24.64</td>\n",
       "      <td>21.95</td>\n",
       "      <td>20.86</td>\n",
       "      <td>28.30</td>\n",
       "      <td>32.61</td>\n",
       "      <td>...</td>\n",
       "      <td>30.83</td>\n",
       "      <td>9.01</td>\n",
       "      <td>25.44</td>\n",
       "      <td>26.01</td>\n",
       "      <td>26.88</td>\n",
       "      <td>27.84</td>\n",
       "      <td>27.49</td>\n",
       "      <td>28.82</td>\n",
       "      <td>26.47</td>\n",
       "      <td>35.89</td>\n",
       "    </tr>\n",
       "    <tr>\n",
       "      <th>CRTL 3</th>\n",
       "      <td>30.97</td>\n",
       "      <td>32.95</td>\n",
       "      <td>34.10</td>\n",
       "      <td>34.39</td>\n",
       "      <td>31.73</td>\n",
       "      <td>27.47</td>\n",
       "      <td>22.90</td>\n",
       "      <td>24.06</td>\n",
       "      <td>31.03</td>\n",
       "      <td>33.20</td>\n",
       "      <td>...</td>\n",
       "      <td>29.43</td>\n",
       "      <td>11.58</td>\n",
       "      <td>26.88</td>\n",
       "      <td>26.70</td>\n",
       "      <td>29.55</td>\n",
       "      <td>27.84</td>\n",
       "      <td>28.12</td>\n",
       "      <td>27.49</td>\n",
       "      <td>25.44</td>\n",
       "      <td>22.02</td>\n",
       "    </tr>\n",
       "    <tr>\n",
       "      <th>CRTL 4</th>\n",
       "      <td>25.38</td>\n",
       "      <td>33.99</td>\n",
       "      <td>33.73</td>\n",
       "      <td>33.82</td>\n",
       "      <td>32.95</td>\n",
       "      <td>25.18</td>\n",
       "      <td>23.37</td>\n",
       "      <td>22.74</td>\n",
       "      <td>30.50</td>\n",
       "      <td>31.98</td>\n",
       "      <td>...</td>\n",
       "      <td>31.63</td>\n",
       "      <td>11.58</td>\n",
       "      <td>24.04</td>\n",
       "      <td>25.12</td>\n",
       "      <td>26.70</td>\n",
       "      <td>28.54</td>\n",
       "      <td>28.24</td>\n",
       "      <td>27.32</td>\n",
       "      <td>25.73</td>\n",
       "      <td>36.53</td>\n",
       "    </tr>\n",
       "    <tr>\n",
       "      <th>CRTL 5</th>\n",
       "      <td>36.78</td>\n",
       "      <td>36.78</td>\n",
       "      <td>28.97</td>\n",
       "      <td>29.87</td>\n",
       "      <td>36.78</td>\n",
       "      <td>28.81</td>\n",
       "      <td>22.74</td>\n",
       "      <td>23.67</td>\n",
       "      <td>31.79</td>\n",
       "      <td>36.78</td>\n",
       "      <td>...</td>\n",
       "      <td>28.24</td>\n",
       "      <td>15.25</td>\n",
       "      <td>32.83</td>\n",
       "      <td>36.42</td>\n",
       "      <td>9.01</td>\n",
       "      <td>32.44</td>\n",
       "      <td>24.80</td>\n",
       "      <td>19.13</td>\n",
       "      <td>24.04</td>\n",
       "      <td>36.42</td>\n",
       "    </tr>\n",
       "    <tr>\n",
       "      <th>...</th>\n",
       "      <td>...</td>\n",
       "      <td>...</td>\n",
       "      <td>...</td>\n",
       "      <td>...</td>\n",
       "      <td>...</td>\n",
       "      <td>...</td>\n",
       "      <td>...</td>\n",
       "      <td>...</td>\n",
       "      <td>...</td>\n",
       "      <td>...</td>\n",
       "      <td>...</td>\n",
       "      <td>...</td>\n",
       "      <td>...</td>\n",
       "      <td>...</td>\n",
       "      <td>...</td>\n",
       "      <td>...</td>\n",
       "      <td>...</td>\n",
       "      <td>...</td>\n",
       "      <td>...</td>\n",
       "      <td>...</td>\n",
       "      <td>...</td>\n",
       "    </tr>\n",
       "    <tr>\n",
       "      <th>NSCLC 96</th>\n",
       "      <td>29.95</td>\n",
       "      <td>37.32</td>\n",
       "      <td>31.15</td>\n",
       "      <td>30.35</td>\n",
       "      <td>33.54</td>\n",
       "      <td>26.15</td>\n",
       "      <td>23.94</td>\n",
       "      <td>24.41</td>\n",
       "      <td>30.87</td>\n",
       "      <td>37.32</td>\n",
       "      <td>...</td>\n",
       "      <td>32.94</td>\n",
       "      <td>10.75</td>\n",
       "      <td>26.88</td>\n",
       "      <td>22.89</td>\n",
       "      <td>29.74</td>\n",
       "      <td>27.49</td>\n",
       "      <td>25.73</td>\n",
       "      <td>28.12</td>\n",
       "      <td>26.47</td>\n",
       "      <td>31.75</td>\n",
       "    </tr>\n",
       "    <tr>\n",
       "      <th>NSCLC 97</th>\n",
       "      <td>28.11</td>\n",
       "      <td>38.98</td>\n",
       "      <td>30.41</td>\n",
       "      <td>30.00</td>\n",
       "      <td>38.98</td>\n",
       "      <td>26.15</td>\n",
       "      <td>22.90</td>\n",
       "      <td>23.37</td>\n",
       "      <td>30.16</td>\n",
       "      <td>34.60</td>\n",
       "      <td>...</td>\n",
       "      <td>29.83</td>\n",
       "      <td>12.50</td>\n",
       "      <td>28.24</td>\n",
       "      <td>25.44</td>\n",
       "      <td>29.43</td>\n",
       "      <td>27.66</td>\n",
       "      <td>27.32</td>\n",
       "      <td>20.71</td>\n",
       "      <td>26.01</td>\n",
       "      <td>17.63</td>\n",
       "    </tr>\n",
       "    <tr>\n",
       "      <th>NSCLC 98</th>\n",
       "      <td>26.24</td>\n",
       "      <td>33.73</td>\n",
       "      <td>31.76</td>\n",
       "      <td>32.12</td>\n",
       "      <td>30.76</td>\n",
       "      <td>25.38</td>\n",
       "      <td>19.62</td>\n",
       "      <td>20.04</td>\n",
       "      <td>28.17</td>\n",
       "      <td>29.67</td>\n",
       "      <td>...</td>\n",
       "      <td>28.24</td>\n",
       "      <td>12.50</td>\n",
       "      <td>22.89</td>\n",
       "      <td>25.12</td>\n",
       "      <td>27.49</td>\n",
       "      <td>39.99</td>\n",
       "      <td>31.63</td>\n",
       "      <td>27.09</td>\n",
       "      <td>22.02</td>\n",
       "      <td>33.07</td>\n",
       "    </tr>\n",
       "    <tr>\n",
       "      <th>NSCLC 99</th>\n",
       "      <td>29.95</td>\n",
       "      <td>38.35</td>\n",
       "      <td>32.34</td>\n",
       "      <td>33.63</td>\n",
       "      <td>29.51</td>\n",
       "      <td>25.96</td>\n",
       "      <td>20.47</td>\n",
       "      <td>21.16</td>\n",
       "      <td>27.47</td>\n",
       "      <td>31.60</td>\n",
       "      <td>...</td>\n",
       "      <td>33.61</td>\n",
       "      <td>10.75</td>\n",
       "      <td>25.44</td>\n",
       "      <td>28.95</td>\n",
       "      <td>28.41</td>\n",
       "      <td>27.98</td>\n",
       "      <td>28.54</td>\n",
       "      <td>29.74</td>\n",
       "      <td>26.88</td>\n",
       "      <td>14.23</td>\n",
       "    </tr>\n",
       "    <tr>\n",
       "      <th>NSCLC 100</th>\n",
       "      <td>31.21</td>\n",
       "      <td>32.73</td>\n",
       "      <td>31.79</td>\n",
       "      <td>30.00</td>\n",
       "      <td>27.86</td>\n",
       "      <td>28.11</td>\n",
       "      <td>22.16</td>\n",
       "      <td>23.06</td>\n",
       "      <td>27.32</td>\n",
       "      <td>38.28</td>\n",
       "      <td>...</td>\n",
       "      <td>31.63</td>\n",
       "      <td>13.37</td>\n",
       "      <td>26.25</td>\n",
       "      <td>20.71</td>\n",
       "      <td>29.64</td>\n",
       "      <td>35.09</td>\n",
       "      <td>27.66</td>\n",
       "      <td>28.24</td>\n",
       "      <td>25.12</td>\n",
       "      <td>19.13</td>\n",
       "    </tr>\n",
       "  </tbody>\n",
       "</table>\n",
       "<p>200 rows × 350 columns</p>\n",
       "</div>"
      ],
      "text/plain": [
       "             0      1      2      3      4      5      6      7      8    \\\n",
       "CRTL 1     27.25  36.71  31.79  32.27  31.85  25.28  21.44  22.90  29.82   \n",
       "CRTL 2     27.39  32.81  30.92  30.30  26.65  24.64  21.95  20.86  28.30   \n",
       "CRTL 3     30.97  32.95  34.10  34.39  31.73  27.47  22.90  24.06  31.03   \n",
       "CRTL 4     25.38  33.99  33.73  33.82  32.95  25.18  23.37  22.74  30.50   \n",
       "CRTL 5     36.78  36.78  28.97  29.87  36.78  28.81  22.74  23.67  31.79   \n",
       "...          ...    ...    ...    ...    ...    ...    ...    ...    ...   \n",
       "NSCLC 96   29.95  37.32  31.15  30.35  33.54  26.15  23.94  24.41  30.87   \n",
       "NSCLC 97   28.11  38.98  30.41  30.00  38.98  26.15  22.90  23.37  30.16   \n",
       "NSCLC 98   26.24  33.73  31.76  32.12  30.76  25.38  19.62  20.04  28.17   \n",
       "NSCLC 99   29.95  38.35  32.34  33.63  29.51  25.96  20.47  21.16  27.47   \n",
       "NSCLC 100  31.21  32.73  31.79  30.00  27.86  28.11  22.16  23.06  27.32   \n",
       "\n",
       "             9    ...    340    341    342    343    344    345    346    347  \\\n",
       "CRTL 1     32.12  ...  30.93  11.58  24.80  26.70  27.32  27.84  28.12  28.95   \n",
       "CRTL 2     32.61  ...  30.83   9.01  25.44  26.01  26.88  27.84  27.49  28.82   \n",
       "CRTL 3     33.20  ...  29.43  11.58  26.88  26.70  29.55  27.84  28.12  27.49   \n",
       "CRTL 4     31.98  ...  31.63  11.58  24.04  25.12  26.70  28.54  28.24  27.32   \n",
       "CRTL 5     36.78  ...  28.24  15.25  32.83  36.42   9.01  32.44  24.80  19.13   \n",
       "...          ...  ...    ...    ...    ...    ...    ...    ...    ...    ...   \n",
       "NSCLC 96   37.32  ...  32.94  10.75  26.88  22.89  29.74  27.49  25.73  28.12   \n",
       "NSCLC 97   34.60  ...  29.83  12.50  28.24  25.44  29.43  27.66  27.32  20.71   \n",
       "NSCLC 98   29.67  ...  28.24  12.50  22.89  25.12  27.49  39.99  31.63  27.09   \n",
       "NSCLC 99   31.60  ...  33.61  10.75  25.44  28.95  28.41  27.98  28.54  29.74   \n",
       "NSCLC 100  38.28  ...  31.63  13.37  26.25  20.71  29.64  35.09  27.66  28.24   \n",
       "\n",
       "             348    349  \n",
       "CRTL 1     25.12  19.13  \n",
       "CRTL 2     26.47  35.89  \n",
       "CRTL 3     25.44  22.02  \n",
       "CRTL 4     25.73  36.53  \n",
       "CRTL 5     24.04  36.42  \n",
       "...          ...    ...  \n",
       "NSCLC 96   26.47  31.75  \n",
       "NSCLC 97   26.01  17.63  \n",
       "NSCLC 98   22.02  33.07  \n",
       "NSCLC 99   26.88  14.23  \n",
       "NSCLC 100  25.12  19.13  \n",
       "\n",
       "[200 rows x 350 columns]"
      ]
     },
     "execution_count": 101,
     "metadata": {},
     "output_type": "execute_result"
    }
   ],
   "source": [
    "t3"
   ]
  },
  {
   "cell_type": "code",
   "execution_count": 102,
   "metadata": {},
   "outputs": [],
   "source": [
    "X = np.array(100*[0] + 100*[1]).reshape(-1, 1)"
   ]
  },
  {
   "cell_type": "code",
   "execution_count": 103,
   "metadata": {},
   "outputs": [
    {
     "data": {
      "text/plain": [
       "LinearRegression()"
      ]
     },
     "execution_count": 103,
     "metadata": {},
     "output_type": "execute_result"
    }
   ],
   "source": [
    "linreg = LinearRegression()\n",
    "linreg.fit(X, t3)"
   ]
  },
  {
   "cell_type": "code",
   "execution_count": 104,
   "metadata": {},
   "outputs": [
    {
     "data": {
      "text/plain": [
       "0.007093279213505511"
      ]
     },
     "execution_count": 104,
     "metadata": {},
     "output_type": "execute_result"
    }
   ],
   "source": [
    "fitted = linreg.predict(X)\n",
    "explained_variance_score(t3, fitted, multioutput=\"variance_weighted\")"
   ]
  },
  {
   "cell_type": "markdown",
   "metadata": {},
   "source": [
    "### Mean-variance-plot"
   ]
  },
  {
   "cell_type": "code",
   "execution_count": 105,
   "metadata": {},
   "outputs": [
    {
     "data": {
      "text/plain": [
       "0      28.97075\n",
       "1      35.30615\n",
       "2      31.34230\n",
       "3      31.41905\n",
       "4      33.30520\n",
       "         ...   \n",
       "345    28.96770\n",
       "346    28.08465\n",
       "347    27.27385\n",
       "348    24.33615\n",
       "349    23.13760\n",
       "Length: 350, dtype: float64"
      ]
     },
     "execution_count": 105,
     "metadata": {},
     "output_type": "execute_result"
    }
   ],
   "source": [
    "np.mean(table)"
   ]
  },
  {
   "cell_type": "code",
   "execution_count": 106,
   "metadata": {
    "tags": []
   },
   "outputs": [],
   "source": [
    "def get_means_and_variances(table):\n",
    "    return np.mean(table), np.var(table, ddof=1)"
   ]
  },
  {
   "cell_type": "code",
   "execution_count": 107,
   "metadata": {
    "tags": []
   },
   "outputs": [],
   "source": [
    "def mean_variance_plot(table):\n",
    "    means, variances = get_means_and_variances(table)\n",
    "    plt.scatter(means, variances)\n",
    "    plt.xlabel(\"mean\")\n",
    "    plt.ylabel(\"variance\")\n",
    "    plt.plot()"
   ]
  },
  {
   "cell_type": "code",
   "execution_count": 108,
   "metadata": {},
   "outputs": [
    {
     "data": {
      "image/png": "[encoded data removed]",
      "text/plain": [
       "<Figure size 432x288 with 1 Axes>"
      ]
     },
     "metadata": {
      "needs_background": "light"
     },
     "output_type": "display_data"
    }
   ],
   "source": [
    "mean_variance_plot(table)"
   ]
  },
  {
   "cell_type": "code",
   "execution_count": 109,
   "metadata": {
    "tags": []
   },
   "outputs": [],
   "source": [
    "norm_log_table = table - np.mean(table)"
   ]
  },
  {
   "cell_type": "code",
   "execution_count": 110,
   "metadata": {},
   "outputs": [],
   "source": [
    "norm_log_table /= np.sqrt(np.mean(np.var(table, ddof=1)))"
   ]
  },
  {
   "cell_type": "code",
   "execution_count": 111,
   "metadata": {},
   "outputs": [
    {
     "data": {
      "image/png": "[encoded data removed]",
      "text/plain": [
       "<Figure size 432x288 with 1 Axes>"
      ]
     },
     "metadata": {
      "needs_background": "light"
     },
     "output_type": "display_data"
    }
   ],
   "source": [
    "mean_variance_plot(norm_log_table)"
   ]
  },
  {
   "cell_type": "markdown",
   "metadata": {},
   "source": [
    "### PCA"
   ]
  },
  {
   "cell_type": "code",
   "execution_count": 112,
   "metadata": {
    "tags": []
   },
   "outputs": [],
   "source": [
    "pca = decomposition.PCA(n_components=10)"
   ]
  },
  {
   "cell_type": "code",
   "execution_count": 113,
   "metadata": {},
   "outputs": [
    {
     "data": {
      "text/plain": [
       "PCA(n_components=10)"
      ]
     },
     "execution_count": 113,
     "metadata": {},
     "output_type": "execute_result"
    }
   ],
   "source": [
    "pca.fit(norm_log_table)"
   ]
  },
  {
   "cell_type": "code",
   "execution_count": 114,
   "metadata": {},
   "outputs": [
    {
     "data": {
      "text/plain": [
       "array([0.17919158, 0.08831582, 0.06164837, 0.03834048, 0.02825164,\n",
       "       0.02396395, 0.02158986, 0.01981144, 0.01867752, 0.01713379])"
      ]
     },
     "execution_count": 114,
     "metadata": {},
     "output_type": "execute_result"
    }
   ],
   "source": [
    "pca.explained_variance_ratio_"
   ]
  },
  {
   "cell_type": "code",
   "execution_count": 115,
   "metadata": {
    "tags": []
   },
   "outputs": [],
   "source": [
    "components = pca.transform(norm_log_table)"
   ]
  },
  {
   "cell_type": "code",
   "execution_count": 116,
   "metadata": {},
   "outputs": [
    {
     "data": {
      "text/plain": [
       "array([[ 0.1081389 , -6.94505038,  3.1676522 , ..., -1.81432082,\n",
       "        -2.06527009, -0.78575977],\n",
       "       [-2.21500124,  0.24383309,  3.21321047, ...,  7.07919348,\n",
       "         4.6210699 , -2.92333616],\n",
       "       [ 1.75917101, -7.06455242, -0.29196824, ...,  0.81376781,\n",
       "        -3.68435096, -1.39298883],\n",
       "       ...,\n",
       "       [ 3.22406363, -1.7752188 , 10.33902363, ...,  2.61321106,\n",
       "         6.66127461, -2.20346459],\n",
       "       [-8.89487041,  5.17478086,  0.45973379, ...,  1.51696513,\n",
       "        -1.29351017,  0.7396624 ],\n",
       "       [-9.6230713 ,  2.2921703 , -2.12548701, ..., -4.3424153 ,\n",
       "        -2.19908614,  1.96230282]])"
      ]
     },
     "execution_count": 116,
     "metadata": {},
     "output_type": "execute_result"
    }
   ],
   "source": [
    "components"
   ]
  },
  {
   "cell_type": "code",
   "execution_count": 117,
   "metadata": {},
   "outputs": [
    {
     "data": {
      "text/plain": [
       "{'title': ['NSCLC 1'],\n",
       " 'geo_accession': ['GSM1574909'],\n",
       " 'status': ['Public on Dec 31 2015'],\n",
       " 'submission_date': ['Dec 30 2014'],\n",
       " 'last_update_date': ['Dec 31 2015'],\n",
       " 'type': ['RNA'],\n",
       " 'channel_count': ['1'],\n",
       " 'source_name_ch1': ['plasma'],\n",
       " 'organism_ch1': ['Homo sapiens'],\n",
       " 'taxid_ch1': ['9606'],\n",
       " 'characteristics_ch1': ['gender: Male',\n",
       "  'age at interview: 68',\n",
       "  'smoking status: Ever smoker',\n",
       "  'morphology (for patients only): 8070/3',\n",
       "  'disease state: Non-small cell lung cancer patient'],\n",
       " 'treatment_protocol_ch1': ['Peripheral blood was collected in EDTA tubes at the time of interview.'],\n",
       " 'growth_protocol_ch1': ['n/a'],\n",
       " 'molecule_ch1': ['total RNA'],\n",
       " 'extract_protocol_ch1': ['Total RNA was isolated from 300ï\\xadL of plasma using NucleoSpinÂ® miRNA Plasma kit (Macherey-Nagel, DÃ¼ren, Germany) according to the manufacturerâ€™s protocol with Proteinase K digest, addition of 2Î¼g of glycogen carrier and DNAse digest steps. All samples were spiked-in with 10pmol of Arabidopsis thaliana synthetic miR-159a (synthesized by Eurofins MWG Operon, Ebersberg, Germany) to control for variations in the RNA preparation step.'],\n",
       " 'label_ch1': ['FAM'],\n",
       " 'label_protocol_ch1': [\"Expression levels of 754 miRNAs (Sanger miRBase v14) were quantified using the TaqMan Human MicroRNA Array A + B Card Set v3.0 (Applied Biosystems, Foster City, CA) as per the manufacturer's instructions (including pre-amplification).\"],\n",
       " 'hyb_protocol': ['n/a'],\n",
       " 'scan_protocol': ['n/a'],\n",
       " 'description': ['Case'],\n",
       " 'data_processing': ['The data were analysed in HTqPCR package using R Bioconductor. miRNAs with undetermined Ct values in more than 120 samples were filtered out. Data were quantile normalized. Following normalization Ct values with an interquartile range (IQR) of less than 1.5 and endogenous controls were removed from subsequent analysis, and limma analysis was performed to identify differentially regulated miRNA between cases and controls. With limma, a one-factorial linear model is fitted for each miRNA and the standard errors (SE) are moderated using an empirical Bayes model resulting in moderated t-statistics for each miRNA. These analysis were performed separately for CARD A and CARD B.',\n",
       "  'Matrix normalized worksheet reports normalized signal (quantile normalization).  Fold Change worksheet reports fold changes across all cases and controls.'],\n",
       " 'platform_id': ['GPL18942'],\n",
       " 'contact_name': ['Magdalena,B,Wozniak'],\n",
       " 'contact_department': ['Genetic Epidemiology'],\n",
       " 'contact_institute': ['International Agency for Research on Cancer'],\n",
       " 'contact_address': ['150 cours Albert Thomas'],\n",
       " 'contact_city': ['Lyon'],\n",
       " 'contact_zip/postal_code': ['69008'],\n",
       " 'contact_country': ['France'],\n",
       " 'supplementary_file': ['NONE'],\n",
       " 'series_id': ['GSE64591'],\n",
       " 'data_row_count': ['0']}"
      ]
     },
     "execution_count": 117,
     "metadata": {},
     "output_type": "execute_result"
    }
   ],
   "source": [
    "list(data.gsms.values())[100].metadata"
   ]
  },
  {
   "cell_type": "code",
   "execution_count": 118,
   "metadata": {
    "tags": []
   },
   "outputs": [],
   "source": [
    "controls = np.array([\"CRTL\" in k.metadata[\"title\"][0] for k in list(data.gsms.values())])"
   ]
  },
  {
   "cell_type": "code",
   "execution_count": 119,
   "metadata": {},
   "outputs": [
    {
     "data": {
      "text/plain": [
       "100"
      ]
     },
     "execution_count": 119,
     "metadata": {},
     "output_type": "execute_result"
    }
   ],
   "source": [
    "sum(controls)"
   ]
  },
  {
   "cell_type": "code",
   "execution_count": 120,
   "metadata": {},
   "outputs": [
    {
     "data": {
      "image/png": "[encoded data removed]",
      "text/plain": [
       "<Figure size 576x576 with 1 Axes>"
      ]
     },
     "metadata": {
      "needs_background": "light"
     },
     "output_type": "display_data"
    }
   ],
   "source": [
    "fig = plt.figure(figsize = (8,8))\n",
    "ax = fig.add_subplot(1,1,1)\n",
    "\n",
    "ax.set_xlabel('Principal Component 1', fontsize = 15)\n",
    "ax.set_ylabel('Principal Component 2', fontsize = 15)\n",
    "ax.set_title('2 component PCA', fontsize = 20)\n",
    "targets = ['Cancer', 'Healthy']\n",
    "colors = ['r', 'g']\n",
    "ax.scatter(components[controls == False, 0], components[controls == False, 1], c = 'r', s = 10)\n",
    "ax.scatter(components[controls == True, 0], components[controls == True, 1], c = 'g', s = 10)\n",
    "ax.legend(targets)\n",
    "ax.grid()"
   ]
  },
  {
   "cell_type": "code",
   "execution_count": 121,
   "metadata": {
    "tags": []
   },
   "outputs": [],
   "source": [
    "components2 = components[components[:,0] < 20, :]\n",
    "controls2 = controls[components[:,0] < 20]"
   ]
  },
  {
   "cell_type": "code",
   "execution_count": 122,
   "metadata": {},
   "outputs": [
    {
     "data": {
      "image/png": "[encoded data removed]",
      "text/plain": [
       "<Figure size 576x576 with 1 Axes>"
      ]
     },
     "metadata": {
      "needs_background": "light"
     },
     "output_type": "display_data"
    }
   ],
   "source": [
    "fig = plt.figure(figsize = (8,8))\n",
    "ax = fig.add_subplot(1,1,1)\n",
    "\n",
    "ax.set_xlabel('Principal Component 1', fontsize = 15)\n",
    "ax.set_ylabel('Principal Component 2', fontsize = 15)\n",
    "ax.set_title('2 component PCA', fontsize = 20)\n",
    "targets = ['Cancer', 'Healthy']\n",
    "colors = ['r', 'g']\n",
    "ax.scatter(components2[controls2 == False, 0], components2[controls2 == False, 1], c = 'r', s = 10)\n",
    "ax.scatter(components2[controls2 == True, 0], components2[controls2 == True, 1], c = 'g', s = 10)\n",
    "ax.legend(targets)\n",
    "ax.grid()"
   ]
  },
  {
   "cell_type": "markdown",
   "metadata": {
    "tags": []
   },
   "source": [
    "### Linear regression adjustments"
   ]
  },
  {
   "cell_type": "code",
   "execution_count": 123,
   "metadata": {},
   "outputs": [],
   "source": [
    "sex = np.array([\"Female\" in k.metadata[\"characteristics_ch1\"][0] for k in list(data.gsms.values())])\n",
    "age = np.array([float(k.metadata[\"characteristics_ch1\"][1].split(\": \")[1].replace(\"NA\", \"NaN\")) for k in list(data.gsms.values())])\n",
    "smoke = np.array([\"Ever\" in k.metadata[\"characteristics_ch1\"][2] for k in list(data.gsms.values())])"
   ]
  },
  {
   "cell_type": "code",
   "execution_count": 124,
   "metadata": {},
   "outputs": [],
   "source": [
    "covars = pd.DataFrame(np.array([sex, age, smoke]).transpose(), columns=[\"sex\", \"age\", \"smoke\"])"
   ]
  },
  {
   "cell_type": "code",
   "execution_count": 125,
   "metadata": {},
   "outputs": [],
   "source": [
    "covars = covars.fillna(covars.mean())"
   ]
  },
  {
   "cell_type": "code",
   "execution_count": 126,
   "metadata": {},
   "outputs": [
    {
     "data": {
      "text/plain": [
       "LinearRegression()"
      ]
     },
     "execution_count": 126,
     "metadata": {},
     "output_type": "execute_result"
    }
   ],
   "source": [
    "linreg = LinearRegression()\n",
    "linreg.fit(covars, norm_log_table)"
   ]
  },
  {
   "cell_type": "code",
   "execution_count": 127,
   "metadata": {},
   "outputs": [],
   "source": [
    "adj_norm_log_table = norm_log_table - linreg.predict(covars)"
   ]
  },
  {
   "cell_type": "markdown",
   "metadata": {
    "tags": []
   },
   "source": [
    "# PCA"
   ]
  },
  {
   "cell_type": "code",
   "execution_count": 128,
   "metadata": {
    "tags": []
   },
   "outputs": [],
   "source": [
    "pca = decomposition.PCA(n_components=10)"
   ]
  },
  {
   "cell_type": "code",
   "execution_count": 129,
   "metadata": {},
   "outputs": [
    {
     "data": {
      "text/plain": [
       "PCA(n_components=10)"
      ]
     },
     "execution_count": 129,
     "metadata": {},
     "output_type": "execute_result"
    }
   ],
   "source": [
    "pca.fit(adj_norm_log_table)"
   ]
  },
  {
   "cell_type": "code",
   "execution_count": 130,
   "metadata": {
    "tags": []
   },
   "outputs": [],
   "source": [
    "components = pca.transform(adj_norm_log_table)"
   ]
  },
  {
   "cell_type": "code",
   "execution_count": 131,
   "metadata": {},
   "outputs": [
    {
     "data": {
      "text/plain": [
       "array([[-0.37671467,  6.82068277,  3.29841122, ..., -2.19195628,\n",
       "        -2.05235235, -0.8748464 ],\n",
       "       [-2.82548579, -0.14969314,  3.57208201, ...,  6.82508856,\n",
       "         5.21820521, -2.58336842],\n",
       "       [ 2.24952477,  7.2383756 , -0.68671296, ...,  1.08169916,\n",
       "        -3.3177152 , -1.44960377],\n",
       "       ...,\n",
       "       [ 1.91799418,  1.4405175 , 11.18650878, ...,  2.43378692,\n",
       "         7.18707418, -1.13205198],\n",
       "       [-8.95490863, -5.31135489,  0.72112863, ...,  1.18927535,\n",
       "        -1.45055712,  0.25750682],\n",
       "       [-8.86264145, -2.11723834, -2.45763803, ..., -3.53658611,\n",
       "        -2.44405059,  1.84934943]])"
      ]
     },
     "execution_count": 131,
     "metadata": {},
     "output_type": "execute_result"
    }
   ],
   "source": [
    "components"
   ]
  },
  {
   "cell_type": "code",
   "execution_count": 132,
   "metadata": {},
   "outputs": [
    {
     "data": {
      "image/png": "[encoded data removed]",
      "text/plain": [
       "<Figure size 576x576 with 1 Axes>"
      ]
     },
     "metadata": {
      "needs_background": "light"
     },
     "output_type": "display_data"
    }
   ],
   "source": [
    "fig = plt.figure(figsize = (8,8))\n",
    "ax = fig.add_subplot(1,1,1)\n",
    "\n",
    "ax.set_xlabel('Principal Component 1', fontsize = 15)\n",
    "ax.set_ylabel('Principal Component 2', fontsize = 15)\n",
    "ax.set_title('2 component PCA', fontsize = 20)\n",
    "targets = ['Cancer', 'Healthy']\n",
    "colors = ['r', 'g']\n",
    "ax.scatter(components[controls == False, 4], components[controls == False, 5], c = 'r', s = 10)\n",
    "ax.scatter(components[controls == True, 4], components[controls == True, 5], c = 'g', s = 10)\n",
    "ax.legend(targets)\n",
    "ax.grid()"
   ]
  },
  {
   "cell_type": "markdown",
   "metadata": {},
   "source": [
    "### Logistic Regression"
   ]
  },
  {
   "cell_type": "code",
   "execution_count": 133,
   "metadata": {},
   "outputs": [],
   "source": [
    "X_train, X_test, y_train, y_test = train_test_split(adj_norm_log_table, controls, test_size=0.33, random_state=42)"
   ]
  },
  {
   "cell_type": "code",
   "execution_count": 134,
   "metadata": {},
   "outputs": [
    {
     "data": {
      "text/plain": [
       "LogisticRegression(max_iter=2000)"
      ]
     },
     "execution_count": 134,
     "metadata": {},
     "output_type": "execute_result"
    }
   ],
   "source": [
    "model = LogisticRegression(max_iter=2000)\n",
    "model.fit(X_train, y_train)"
   ]
  },
  {
   "cell_type": "code",
   "execution_count": 135,
   "metadata": {},
   "outputs": [
    {
     "name": "stderr",
     "output_type": "stream",
     "text": [
      "C:\\Users\\Ole Fredrik\\AppData\\Local\\Programs\\Python\\Python39\\lib\\site-packages\\sklearn\\utils\\deprecation.py:87: FutureWarning: Function plot_roc_curve is deprecated; Function `plot_roc_curve` is deprecated in 1.0 and will be removed in 1.2. Use one of the class methods: RocCurveDisplay.from_predictions or RocCurveDisplay.from_estimator.\n",
      "  warnings.warn(msg, category=FutureWarning)\n"
     ]
    },
    {
     "data": {
      "text/plain": [
       "<sklearn.metrics._plot.roc_curve.RocCurveDisplay at 0x1e08733b0a0>"
      ]
     },
     "execution_count": 135,
     "metadata": {},
     "output_type": "execute_result"
    },
    {
     "data": {
      "image/png": "[encoded data removed]",
      "text/plain": [
       "<Figure size 432x288 with 1 Axes>"
      ]
     },
     "metadata": {
      "needs_background": "light"
     },
     "output_type": "display_data"
    }
   ],
   "source": [
    "plot_roc_curve(model, X_test, y_test)"
   ]
  },
  {
   "cell_type": "markdown",
   "metadata": {
    "jupyter": {
     "outputs_hidden": true
    },
    "tags": []
   },
   "source": [
    "### XGBoost"
   ]
  },
  {
   "cell_type": "code",
   "execution_count": 136,
   "metadata": {},
   "outputs": [],
   "source": [
    "X_train, X_test, y_train, y_test = train_test_split(norm_log_table, controls, test_size=0.33, random_state=42)"
   ]
  },
  {
   "cell_type": "code",
   "execution_count": 137,
   "metadata": {},
   "outputs": [
    {
     "name": "stdout",
     "output_type": "stream",
     "text": [
      "[15:35:02] WARNING: C:/Users/Administrator/workspace/xgboost-win64_release_1.4.0/src/learner.cc:1095: Starting in XGBoost 1.3.0, the default evaluation metric used with the objective 'binary:logistic' was changed from 'error' to 'logloss'. Explicitly set eval_metric if you'd like to restore the old behavior.\n"
     ]
    },
    {
     "data": {
      "text/plain": [
       "XGBClassifier(base_score=0.5, booster='gbtree', colsample_bylevel=1,\n",
       "              colsample_bynode=1, colsample_bytree=1, gamma=0, gpu_id=-1,\n",
       "              importance_type='gain', interaction_constraints='',\n",
       "              learning_rate=0.300000012, max_delta_step=0, max_depth=6,\n",
       "              min_child_weight=1, missing=nan, monotone_constraints='()',\n",
       "              n_estimators=100, n_jobs=4, num_parallel_tree=1, random_state=0,\n",
       "              reg_alpha=0, reg_lambda=1, scale_pos_weight=1, subsample=1,\n",
       "              tree_method='exact', use_label_encoder=False,\n",
       "              validate_parameters=1, verbosity=None)"
      ]
     },
     "execution_count": 137,
     "metadata": {},
     "output_type": "execute_result"
    }
   ],
   "source": [
    "model = XGBClassifier(use_label_encoder=False)\n",
    "model.fit(X_train, y_train)"
   ]
  },
  {
   "cell_type": "code",
   "execution_count": 138,
   "metadata": {},
   "outputs": [
    {
     "name": "stderr",
     "output_type": "stream",
     "text": [
      "C:\\Users\\Ole Fredrik\\AppData\\Local\\Programs\\Python\\Python39\\lib\\site-packages\\sklearn\\utils\\deprecation.py:87: FutureWarning: Function plot_roc_curve is deprecated; Function `plot_roc_curve` is deprecated in 1.0 and will be removed in 1.2. Use one of the class methods: RocCurveDisplay.from_predictions or RocCurveDisplay.from_estimator.\n",
      "  warnings.warn(msg, category=FutureWarning)\n"
     ]
    },
    {
     "data": {
      "text/plain": [
       "<sklearn.metrics._plot.roc_curve.RocCurveDisplay at 0x1e0872b1ee0>"
      ]
     },
     "execution_count": 138,
     "metadata": {},
     "output_type": "execute_result"
    },
    {
     "data": {
      "image/png": "[encoded data removed]",
      "text/plain": [
       "<Figure size 432x288 with 1 Axes>"
      ]
     },
     "metadata": {
      "needs_background": "light"
     },
     "output_type": "display_data"
    }
   ],
   "source": [
    "plot_roc_curve(model, X_test, y_test)"
   ]
  },
  {
   "cell_type": "markdown",
   "metadata": {},
   "source": [
    "### Export data"
   ]
  },
  {
   "cell_type": "code",
   "execution_count": 139,
   "metadata": {},
   "outputs": [
    {
     "data": {
      "text/html": [
       "<div>\n",
       "<style scoped>\n",
       "    .dataframe tbody tr th:only-of-type {\n",
       "        vertical-align: middle;\n",
       "    }\n",
       "\n",
       "    .dataframe tbody tr th {\n",
       "        vertical-align: top;\n",
       "    }\n",
       "\n",
       "    .dataframe thead th {\n",
       "        text-align: right;\n",
       "    }\n",
       "</style>\n",
       "<table border=\"1\" class=\"dataframe\">\n",
       "  <thead>\n",
       "    <tr style=\"text-align: right;\">\n",
       "      <th></th>\n",
       "      <th>Well Number</th>\n",
       "      <th>Well Name</th>\n",
       "      <th>Assay Name</th>\n",
       "      <th>Control Assay</th>\n",
       "      <th>Assay Target Sequence</th>\n",
       "      <th>miRBase ID (v22)</th>\n",
       "      <th>miRBase Alias</th>\n",
       "    </tr>\n",
       "    <tr>\n",
       "      <th>Assay ID</th>\n",
       "      <th></th>\n",
       "      <th></th>\n",
       "      <th></th>\n",
       "      <th></th>\n",
       "      <th></th>\n",
       "      <th></th>\n",
       "      <th></th>\n",
       "    </tr>\n",
       "  </thead>\n",
       "  <tbody>\n",
       "    <tr>\n",
       "      <th>377</th>\n",
       "      <td>1</td>\n",
       "      <td>A1</td>\n",
       "      <td>hsa-let-7a</td>\n",
       "      <td>NaN</td>\n",
       "      <td>UGAGGUAGUAGGUUGUAUAGUU</td>\n",
       "      <td>hsa-let-7a-5p</td>\n",
       "      <td>hsa-let-7a(17)</td>\n",
       "    </tr>\n",
       "    <tr>\n",
       "      <th>379</th>\n",
       "      <td>2</td>\n",
       "      <td>A2</td>\n",
       "      <td>hsa-let-7c</td>\n",
       "      <td>NaN</td>\n",
       "      <td>UGAGGUAGUAGGUUGUAUGGUU</td>\n",
       "      <td>hsa-let-7c-5p</td>\n",
       "      <td>hsa-let-7c(19)</td>\n",
       "    </tr>\n",
       "    <tr>\n",
       "      <th>2283</th>\n",
       "      <td>3</td>\n",
       "      <td>A3</td>\n",
       "      <td>hsa-let-7d</td>\n",
       "      <td>NaN</td>\n",
       "      <td>AGAGGUAGUAGGUUGCAUAGUU</td>\n",
       "      <td>hsa-let-7d-5p</td>\n",
       "      <td>hsa-let-7d(17)</td>\n",
       "    </tr>\n",
       "    <tr>\n",
       "      <th>2406</th>\n",
       "      <td>4</td>\n",
       "      <td>A4</td>\n",
       "      <td>hsa-let-7e</td>\n",
       "      <td>NaN</td>\n",
       "      <td>UGAGGUAGGAGGUUGUAUAGUU</td>\n",
       "      <td>hsa-let-7e-5p</td>\n",
       "      <td>hsa-let-7e(17)</td>\n",
       "    </tr>\n",
       "    <tr>\n",
       "      <th>382</th>\n",
       "      <td>5</td>\n",
       "      <td>A5</td>\n",
       "      <td>hsa-let-7f</td>\n",
       "      <td>NaN</td>\n",
       "      <td>UGAGGUAGUAGAUUGUAUAGUU</td>\n",
       "      <td>hsa-let-7f-5p</td>\n",
       "      <td>hsa-let-7f(17)</td>\n",
       "    </tr>\n",
       "  </tbody>\n",
       "</table>\n",
       "</div>"
      ],
      "text/plain": [
       "          Well Number Well Name  Assay Name Control Assay  \\\n",
       "Assay ID                                                    \n",
       "377                 1        A1  hsa-let-7a           NaN   \n",
       "379                 2        A2  hsa-let-7c           NaN   \n",
       "2283                3        A3  hsa-let-7d           NaN   \n",
       "2406                4        A4  hsa-let-7e           NaN   \n",
       "382                 5        A5  hsa-let-7f           NaN   \n",
       "\n",
       "           Assay Target Sequence miRBase ID (v22)   miRBase Alias  \n",
       "Assay ID                                                           \n",
       "377       UGAGGUAGUAGGUUGUAUAGUU    hsa-let-7a-5p  hsa-let-7a(17)  \n",
       "379       UGAGGUAGUAGGUUGUAUGGUU    hsa-let-7c-5p  hsa-let-7c(19)  \n",
       "2283      AGAGGUAGUAGGUUGCAUAGUU    hsa-let-7d-5p  hsa-let-7d(17)  \n",
       "2406      UGAGGUAGGAGGUUGUAUAGUU    hsa-let-7e-5p  hsa-let-7e(17)  \n",
       "382       UGAGGUAGUAGAUUGUAUAGUU    hsa-let-7f-5p  hsa-let-7f(17)  "
      ]
     },
     "execution_count": 139,
     "metadata": {},
     "output_type": "execute_result"
    }
   ],
   "source": [
    "lookup_table = pd.read_csv(\"../Others/taqman.csv\", index_col=2)\n",
    "lookup_table.head()"
   ]
  },
  {
   "cell_type": "code",
   "execution_count": 140,
   "metadata": {},
   "outputs": [],
   "source": [
    "lookup_table = lookup_table.drop_duplicates(\"Assay Target Sequence\")"
   ]
  },
  {
   "cell_type": "code",
   "execution_count": 141,
   "metadata": {},
   "outputs": [
    {
     "data": {
      "text/plain": [
       "758"
      ]
     },
     "execution_count": 141,
     "metadata": {},
     "output_type": "execute_result"
    }
   ],
   "source": [
    "len(lookup_table)"
   ]
  },
  {
   "cell_type": "code",
   "execution_count": 142,
   "metadata": {},
   "outputs": [
    {
     "data": {
      "text/plain": [
       "0     hsa-let-7a-000377\n",
       "1    hsa-miR-10b-002218\n",
       "2        U6snRNA-001973\n",
       "3        U6snRNA-001973\n",
       "4    hsa-miR-15a-000389\n",
       "5    hsa-miR-15b-000390\n",
       "6     hsa-miR-16-000391\n",
       "7     hsa-miR-17-002308\n",
       "8    hsa-miR-18a-002422\n",
       "9    hsa-miR-18b-002217\n",
       "Name: ID_REF, dtype: object"
      ]
     },
     "execution_count": 142,
     "metadata": {},
     "output_type": "execute_result"
    }
   ],
   "source": [
    "mirnas[:10]"
   ]
  },
  {
   "cell_type": "code",
   "execution_count": 143,
   "metadata": {},
   "outputs": [
    {
     "data": {
      "text/plain": [
       "[377, 2218, 1973, 1973, 389, 390, 391, 2308, 2422, 2217]"
      ]
     },
     "execution_count": 143,
     "metadata": {},
     "output_type": "execute_result"
    }
   ],
   "source": [
    "mirnas = [int(m[-6:]) for m in mirnas]\n",
    "mirnas[:10]"
   ]
  },
  {
   "cell_type": "code",
   "execution_count": 144,
   "metadata": {},
   "outputs": [],
   "source": [
    "sequences = lookup_table.loc[mirnas][\"Assay Target Sequence\"]"
   ]
  },
  {
   "cell_type": "code",
   "execution_count": 145,
   "metadata": {},
   "outputs": [
    {
     "data": {
      "text/plain": [
       "350"
      ]
     },
     "execution_count": 145,
     "metadata": {},
     "output_type": "execute_result"
    }
   ],
   "source": [
    "len(mirnas)"
   ]
  },
  {
   "cell_type": "code",
   "execution_count": 146,
   "metadata": {},
   "outputs": [
    {
     "data": {
      "text/plain": [
       "350"
      ]
     },
     "execution_count": 146,
     "metadata": {},
     "output_type": "execute_result"
    }
   ],
   "source": [
    "len(sequences)"
   ]
  },
  {
   "cell_type": "code",
   "execution_count": 147,
   "metadata": {},
   "outputs": [
    {
     "data": {
      "text/html": [
       "<div>\n",
       "<style scoped>\n",
       "    .dataframe tbody tr th:only-of-type {\n",
       "        vertical-align: middle;\n",
       "    }\n",
       "\n",
       "    .dataframe tbody tr th {\n",
       "        vertical-align: top;\n",
       "    }\n",
       "\n",
       "    .dataframe thead th {\n",
       "        text-align: right;\n",
       "    }\n",
       "</style>\n",
       "<table border=\"1\" class=\"dataframe\">\n",
       "  <thead>\n",
       "    <tr style=\"text-align: right;\">\n",
       "      <th>Assay Target Sequence</th>\n",
       "      <th>UGAGGUAGUAGGUUGUAUAGUU</th>\n",
       "      <th>UACCCUGUAGAACCGAAUUUGUG</th>\n",
       "      <th>GUGCUCGCUUCGGCAGCACAUAUACUAAAAUUGGAACGAUACAGAGAAGAUUAGCAUGGCCCCUGCGCAAGGAUGACACGCAAAUUCGUGAAGCGUUCCAUAUUUU</th>\n",
       "      <th>UAGCAGCACAUAAUGGUUUGUG</th>\n",
       "      <th>UAGCAGCACAUCAUGGUUUACA</th>\n",
       "      <th>UAGCAGCACGUAAAUAUUGGCG</th>\n",
       "      <th>CAAAGUGCUUACAGUGCAGGUAG</th>\n",
       "      <th>UAAGGUGCAUCUAGUGCAGAUAG</th>\n",
       "      <th>UAAGGUGCAUCUAGUGCAGUUAG</th>\n",
       "      <th>UGUGCAAAUCUAUGCAAAACUGA</th>\n",
       "      <th>...</th>\n",
       "      <th>ACCCGUCCCGUUCGUCCCCGGA</th>\n",
       "      <th>UCUCGCUGGGGCCUCCA</th>\n",
       "      <th>AUCCCACCUCUGCCACCA</th>\n",
       "      <th>UAUUCAUUUAUCCCCAGCCUACA</th>\n",
       "      <th>UCCAGUGCCCUCCUCUCC</th>\n",
       "      <th>UCACUGUUCAGACAGGCGGA</th>\n",
       "      <th>GUCCCUGUUCAGGCGCCA</th>\n",
       "      <th>UCCCUGUUCGGGCGCCA</th>\n",
       "      <th>CCUGUUGAAGUGUAAUCCCCA</th>\n",
       "      <th>cancer</th>\n",
       "    </tr>\n",
       "  </thead>\n",
       "  <tbody>\n",
       "    <tr>\n",
       "      <th>CRTL 1</th>\n",
       "      <td>0.377522</td>\n",
       "      <td>-0.386196</td>\n",
       "      <td>-0.063276</td>\n",
       "      <td>0.335690</td>\n",
       "      <td>0.300612</td>\n",
       "      <td>0.028797</td>\n",
       "      <td>-0.041859</td>\n",
       "      <td>0.121493</td>\n",
       "      <td>0.515646</td>\n",
       "      <td>-0.014927</td>\n",
       "      <td>...</td>\n",
       "      <td>1.532646</td>\n",
       "      <td>0.275397</td>\n",
       "      <td>-0.153296</td>\n",
       "      <td>0.471052</td>\n",
       "      <td>0.145859</td>\n",
       "      <td>-0.007844</td>\n",
       "      <td>-0.379683</td>\n",
       "      <td>-0.113385</td>\n",
       "      <td>0.930134</td>\n",
       "      <td>0</td>\n",
       "    </tr>\n",
       "    <tr>\n",
       "      <th>CRTL 2</th>\n",
       "      <td>0.505069</td>\n",
       "      <td>0.744009</td>\n",
       "      <td>0.034816</td>\n",
       "      <td>1.605951</td>\n",
       "      <td>0.427841</td>\n",
       "      <td>-0.216751</td>\n",
       "      <td>0.384034</td>\n",
       "      <td>0.472392</td>\n",
       "      <td>0.293792</td>\n",
       "      <td>-2.237091</td>\n",
       "      <td>...</td>\n",
       "      <td>2.186778</td>\n",
       "      <td>0.091824</td>\n",
       "      <td>-0.207593</td>\n",
       "      <td>0.782031</td>\n",
       "      <td>0.558211</td>\n",
       "      <td>0.165247</td>\n",
       "      <td>-0.398491</td>\n",
       "      <td>-0.617123</td>\n",
       "      <td>-3.107896</td>\n",
       "      <td>0</td>\n",
       "    </tr>\n",
       "    <tr>\n",
       "      <th>CRTL 3</th>\n",
       "      <td>-0.307447</td>\n",
       "      <td>0.618340</td>\n",
       "      <td>-0.771592</td>\n",
       "      <td>0.420418</td>\n",
       "      <td>-0.297135</td>\n",
       "      <td>-0.347554</td>\n",
       "      <td>-0.388340</td>\n",
       "      <td>-0.292331</td>\n",
       "      <td>0.201967</td>\n",
       "      <td>-0.103378</td>\n",
       "      <td>...</td>\n",
       "      <td>1.114928</td>\n",
       "      <td>-0.305076</td>\n",
       "      <td>-0.314331</td>\n",
       "      <td>-0.079802</td>\n",
       "      <td>0.495541</td>\n",
       "      <td>-0.020508</td>\n",
       "      <td>-0.085892</td>\n",
       "      <td>-0.451582</td>\n",
       "      <td>0.381920</td>\n",
       "      <td>0</td>\n",
       "    </tr>\n",
       "    <tr>\n",
       "      <th>CRTL 4</th>\n",
       "      <td>0.765443</td>\n",
       "      <td>0.338934</td>\n",
       "      <td>-0.551168</td>\n",
       "      <td>0.071652</td>\n",
       "      <td>0.292815</td>\n",
       "      <td>-0.437167</td>\n",
       "      <td>-0.031403</td>\n",
       "      <td>-0.075011</td>\n",
       "      <td>0.524787</td>\n",
       "      <td>-0.362966</td>\n",
       "      <td>...</td>\n",
       "      <td>1.430779</td>\n",
       "      <td>0.427713</td>\n",
       "      <td>0.184228</td>\n",
       "      <td>0.634471</td>\n",
       "      <td>0.099622</td>\n",
       "      <td>-0.032072</td>\n",
       "      <td>-0.018262</td>\n",
       "      <td>-0.300211</td>\n",
       "      <td>-3.238515</td>\n",
       "      <td>0</td>\n",
       "    </tr>\n",
       "    <tr>\n",
       "      <th>CRTL 5</th>\n",
       "      <td>-1.579118</td>\n",
       "      <td>-0.446276</td>\n",
       "      <td>0.503607</td>\n",
       "      <td>-0.788109</td>\n",
       "      <td>-0.554608</td>\n",
       "      <td>-0.301893</td>\n",
       "      <td>-0.239185</td>\n",
       "      <td>-0.407129</td>\n",
       "      <td>-0.606770</td>\n",
       "      <td>0.020219</td>\n",
       "      <td>...</td>\n",
       "      <td>0.439581</td>\n",
       "      <td>-1.670833</td>\n",
       "      <td>-2.560704</td>\n",
       "      <td>4.810354</td>\n",
       "      <td>-0.849173</td>\n",
       "      <td>0.765706</td>\n",
       "      <td>1.974619</td>\n",
       "      <td>-0.034813</td>\n",
       "      <td>-3.065727</td>\n",
       "      <td>0</td>\n",
       "    </tr>\n",
       "  </tbody>\n",
       "</table>\n",
       "<p>5 rows × 343 columns</p>\n",
       "</div>"
      ],
      "text/plain": [
       "Assay Target Sequence  UGAGGUAGUAGGUUGUAUAGUU  UACCCUGUAGAACCGAAUUUGUG  \\\n",
       "CRTL 1                               0.377522                -0.386196   \n",
       "CRTL 2                               0.505069                 0.744009   \n",
       "CRTL 3                              -0.307447                 0.618340   \n",
       "CRTL 4                               0.765443                 0.338934   \n",
       "CRTL 5                              -1.579118                -0.446276   \n",
       "\n",
       "Assay Target Sequence  GUGCUCGCUUCGGCAGCACAUAUACUAAAAUUGGAACGAUACAGAGAAGAUUAGCAUGGCCCCUGCGCAAGGAUGACACGCAAAUUCGUGAAGCGUUCCAUAUUUU  \\\n",
       "CRTL 1                                                         -0.063276                                                            \n",
       "CRTL 2                                                          0.034816                                                            \n",
       "CRTL 3                                                         -0.771592                                                            \n",
       "CRTL 4                                                         -0.551168                                                            \n",
       "CRTL 5                                                          0.503607                                                            \n",
       "\n",
       "Assay Target Sequence  UAGCAGCACAUAAUGGUUUGUG  UAGCAGCACAUCAUGGUUUACA  \\\n",
       "CRTL 1                               0.335690                0.300612   \n",
       "CRTL 2                               1.605951                0.427841   \n",
       "CRTL 3                               0.420418               -0.297135   \n",
       "CRTL 4                               0.071652                0.292815   \n",
       "CRTL 5                              -0.788109               -0.554608   \n",
       "\n",
       "Assay Target Sequence  UAGCAGCACGUAAAUAUUGGCG  CAAAGUGCUUACAGUGCAGGUAG  \\\n",
       "CRTL 1                               0.028797                -0.041859   \n",
       "CRTL 2                              -0.216751                 0.384034   \n",
       "CRTL 3                              -0.347554                -0.388340   \n",
       "CRTL 4                              -0.437167                -0.031403   \n",
       "CRTL 5                              -0.301893                -0.239185   \n",
       "\n",
       "Assay Target Sequence  UAAGGUGCAUCUAGUGCAGAUAG  UAAGGUGCAUCUAGUGCAGUUAG  \\\n",
       "CRTL 1                                0.121493                 0.515646   \n",
       "CRTL 2                                0.472392                 0.293792   \n",
       "CRTL 3                               -0.292331                 0.201967   \n",
       "CRTL 4                               -0.075011                 0.524787   \n",
       "CRTL 5                               -0.407129                -0.606770   \n",
       "\n",
       "Assay Target Sequence  UGUGCAAAUCUAUGCAAAACUGA  ...  ACCCGUCCCGUUCGUCCCCGGA  \\\n",
       "CRTL 1                               -0.014927  ...                1.532646   \n",
       "CRTL 2                               -2.237091  ...                2.186778   \n",
       "CRTL 3                               -0.103378  ...                1.114928   \n",
       "CRTL 4                               -0.362966  ...                1.430779   \n",
       "CRTL 5                                0.020219  ...                0.439581   \n",
       "\n",
       "Assay Target Sequence  UCUCGCUGGGGCCUCCA  AUCCCACCUCUGCCACCA  \\\n",
       "CRTL 1                          0.275397           -0.153296   \n",
       "CRTL 2                          0.091824           -0.207593   \n",
       "CRTL 3                         -0.305076           -0.314331   \n",
       "CRTL 4                          0.427713            0.184228   \n",
       "CRTL 5                         -1.670833           -2.560704   \n",
       "\n",
       "Assay Target Sequence  UAUUCAUUUAUCCCCAGCCUACA  UCCAGUGCCCUCCUCUCC  \\\n",
       "CRTL 1                                0.471052            0.145859   \n",
       "CRTL 2                                0.782031            0.558211   \n",
       "CRTL 3                               -0.079802            0.495541   \n",
       "CRTL 4                                0.634471            0.099622   \n",
       "CRTL 5                                4.810354           -0.849173   \n",
       "\n",
       "Assay Target Sequence  UCACUGUUCAGACAGGCGGA  GUCCCUGUUCAGGCGCCA  \\\n",
       "CRTL 1                            -0.007844           -0.379683   \n",
       "CRTL 2                             0.165247           -0.398491   \n",
       "CRTL 3                            -0.020508           -0.085892   \n",
       "CRTL 4                            -0.032072           -0.018262   \n",
       "CRTL 5                             0.765706            1.974619   \n",
       "\n",
       "Assay Target Sequence  UCCCUGUUCGGGCGCCA  CCUGUUGAAGUGUAAUCCCCA  cancer  \n",
       "CRTL 1                         -0.113385               0.930134       0  \n",
       "CRTL 2                         -0.617123              -3.107896       0  \n",
       "CRTL 3                         -0.451582               0.381920       0  \n",
       "CRTL 4                         -0.300211              -3.238515       0  \n",
       "CRTL 5                         -0.034813              -3.065727       0  \n",
       "\n",
       "[5 rows x 343 columns]"
      ]
     },
     "execution_count": 147,
     "metadata": {},
     "output_type": "execute_result"
    }
   ],
   "source": [
    "adj_norm_log_table.columns = sequences\n",
    "adj_norm_log_table *= -1\n",
    "adj_norm_log_table = adj_norm_log_table.loc[:,~adj_norm_log_table.columns.duplicated()]\n",
    "adj_norm_log_table[\"cancer\"] = 1 - controls\n",
    "adj_norm_log_table.head()"
   ]
  },
  {
   "cell_type": "code",
   "execution_count": 148,
   "metadata": {},
   "outputs": [],
   "source": [
    "adj_norm_log_table.to_csv(\"../TransformedData/Wozniak2015_adjusted.csv\", index=False)"
   ]
  },
  {
   "cell_type": "code",
   "execution_count": null,
   "metadata": {},
   "outputs": [],
   "source": []
  }
 ],
 "metadata": {
  "kernelspec": {
   "display_name": "Python 3 (ipykernel)",
   "language": "python",
   "name": "python3"
  },
  "language_info": {
   "codemirror_mode": {
    "name": "ipython",
    "version": 3
   },
   "file_extension": ".py",
   "mimetype": "text/x-python",
   "name": "python",
   "nbconvert_exporter": "python",
   "pygments_lexer": "ipython3",
   "version": "3.10.1"
  }
 },
 "nbformat": 4,
 "nbformat_minor": 4
}
