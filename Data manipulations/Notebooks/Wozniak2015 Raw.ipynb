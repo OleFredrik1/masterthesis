{
 "cells": [
  {
   "cell_type": "code",
   "execution_count": 17,
   "metadata": {
    "tags": []
   },
   "outputs": [],
   "source": [
    "%matplotlib inline\n",
    "import GEOparse\n",
    "import matplotlib.pyplot as plt\n",
    "import pandas as pd\n",
    "import numpy as np\n",
    "from sklearn import decomposition\n",
    "from sklearn.feature_selection import f_classif\n",
    "from sklearn.linear_model import LinearRegression, LogisticRegression\n",
    "from sklearn.metrics import explained_variance_score, plot_roc_curve\n",
    "import statsmodels.api as sm\n",
    "from scipy.stats import ttest_ind\n",
    "from xgboost import XGBClassifier\n",
    "from sklearn.model_selection import train_test_split\n",
    "import matplotlib\n",
    "from xgboost import XGBClassifier\n",
    "from sklearn.model_selection import train_test_split\n",
    "\n",
    "\n",
    "\n",
    "\n",
    "geo = \"GSE64591\""
   ]
  },
  {
   "cell_type": "code",
   "execution_count": 18,
   "metadata": {},
   "outputs": [],
   "source": [
    "data = GEOparse.get_GEO(geo=geo, destdir=\"../Dataset/Wozniak2015\", silent=True)"
   ]
  },
  {
   "cell_type": "code",
   "execution_count": 19,
   "metadata": {},
   "outputs": [
    {
     "data": {
      "text/plain": [
       "'GPL18942'"
      ]
     },
     "execution_count": 19,
     "metadata": {},
     "output_type": "execute_result"
    }
   ],
   "source": [
    "data.metadata[\"platform_id\"][0]"
   ]
  },
  {
   "cell_type": "markdown",
   "metadata": {},
   "source": [
    "### Reading in from external source"
   ]
  },
  {
   "cell_type": "code",
   "execution_count": 20,
   "metadata": {},
   "outputs": [],
   "source": [
    "#table = pd.read_csv(\"../Dataset/Wozniak2015/GSE64591_normalized.txt\", sep=\"\\t\", header=7)\n",
    "table = pd.read_csv(\"../Dataset/Wozniak2015/GSE64591_non-normalized.txt\", sep=\"\\t\", header=5)"
   ]
  },
  {
   "cell_type": "code",
   "execution_count": 21,
   "metadata": {},
   "outputs": [],
   "source": [
    "mirnas = table.iloc[:, 0]\n",
    "table = table.iloc[:, 1:].transpose()"
   ]
  },
  {
   "cell_type": "code",
   "execution_count": 22,
   "metadata": {},
   "outputs": [
    {
     "data": {
      "text/plain": [
       "['hsa-miR-155-002623', 'hsa-miR-155#-002287']"
      ]
     },
     "execution_count": 22,
     "metadata": {},
     "output_type": "execute_result"
    }
   ],
   "source": [
    "[m for m in mirnas if \"-155\" in m]"
   ]
  },
  {
   "cell_type": "code",
   "execution_count": 23,
   "metadata": {},
   "outputs": [
    {
     "data": {
      "text/plain": [
       "768"
      ]
     },
     "execution_count": 23,
     "metadata": {},
     "output_type": "execute_result"
    }
   ],
   "source": [
    "len(mirnas)"
   ]
  },
  {
   "cell_type": "code",
   "execution_count": 24,
   "metadata": {},
   "outputs": [
    {
     "data": {
      "text/plain": [
       "{'title': ['NSCLC 61'],\n",
       " 'geo_accession': ['GSM1574969'],\n",
       " 'status': ['Public on Dec 31 2015'],\n",
       " 'submission_date': ['Dec 30 2014'],\n",
       " 'last_update_date': ['Dec 31 2015'],\n",
       " 'type': ['RNA'],\n",
       " 'channel_count': ['1'],\n",
       " 'source_name_ch1': ['plasma'],\n",
       " 'organism_ch1': ['Homo sapiens'],\n",
       " 'taxid_ch1': ['9606'],\n",
       " 'characteristics_ch1': ['gender: Male',\n",
       "  'age at interview: 55',\n",
       "  'smoking status: Ever smoker',\n",
       "  'morphology (for patients only): 8140/3',\n",
       "  'disease state: Non-small cell lung cancer patient'],\n",
       " 'treatment_protocol_ch1': ['Peripheral blood was collected in EDTA tubes at the time of interview.'],\n",
       " 'growth_protocol_ch1': ['n/a'],\n",
       " 'molecule_ch1': ['total RNA'],\n",
       " 'extract_protocol_ch1': ['Total RNA was isolated from 300ï\\xadL of plasma using NucleoSpinÂ® miRNA Plasma kit (Macherey-Nagel, DÃ¼ren, Germany) according to the manufacturerâ€™s protocol with Proteinase K digest, addition of 2Î¼g of glycogen carrier and DNAse digest steps. All samples were spiked-in with 10pmol of Arabidopsis thaliana synthetic miR-159a (synthesized by Eurofins MWG Operon, Ebersberg, Germany) to control for variations in the RNA preparation step.'],\n",
       " 'label_ch1': ['FAM'],\n",
       " 'label_protocol_ch1': [\"Expression levels of 754 miRNAs (Sanger miRBase v14) were quantified using the TaqMan Human MicroRNA Array A + B Card Set v3.0 (Applied Biosystems, Foster City, CA) as per the manufacturer's instructions (including pre-amplification).\"],\n",
       " 'hyb_protocol': ['n/a'],\n",
       " 'scan_protocol': ['n/a'],\n",
       " 'description': ['Case'],\n",
       " 'data_processing': ['The data were analysed in HTqPCR package using R Bioconductor. miRNAs with undetermined Ct values in more than 120 samples were filtered out. Data were quantile normalized. Following normalization Ct values with an interquartile range (IQR) of less than 1.5 and endogenous controls were removed from subsequent analysis, and limma analysis was performed to identify differentially regulated miRNA between cases and controls. With limma, a one-factorial linear model is fitted for each miRNA and the standard errors (SE) are moderated using an empirical Bayes model resulting in moderated t-statistics for each miRNA. These analysis were performed separately for CARD A and CARD B.',\n",
       "  'Matrix normalized worksheet reports normalized signal (quantile normalization).  Fold Change worksheet reports fold changes across all cases and controls.'],\n",
       " 'platform_id': ['GPL18942'],\n",
       " 'contact_name': ['Magdalena,B,Wozniak'],\n",
       " 'contact_department': ['Genetic Epidemiology'],\n",
       " 'contact_institute': ['International Agency for Research on Cancer'],\n",
       " 'contact_address': ['150 cours Albert Thomas'],\n",
       " 'contact_city': ['Lyon'],\n",
       " 'contact_zip/postal_code': ['69008'],\n",
       " 'contact_country': ['France'],\n",
       " 'supplementary_file': ['NONE'],\n",
       " 'series_id': ['GSE64591'],\n",
       " 'data_row_count': ['0']}"
      ]
     },
     "execution_count": 24,
     "metadata": {},
     "output_type": "execute_result"
    }
   ],
   "source": [
    "list(data.gsms.values())[-40].metadata"
   ]
  },
  {
   "cell_type": "markdown",
   "metadata": {},
   "source": [
    "### T-test"
   ]
  },
  {
   "cell_type": "code",
   "execution_count": 25,
   "metadata": {},
   "outputs": [],
   "source": [
    "X = table"
   ]
  },
  {
   "cell_type": "code",
   "execution_count": 26,
   "metadata": {},
   "outputs": [],
   "source": [
    "X_healthy, X_cancer = X[:100], X[100:]"
   ]
  },
  {
   "cell_type": "code",
   "execution_count": 27,
   "metadata": {},
   "outputs": [],
   "source": [
    "results = ttest_ind(X_healthy, X_cancer).pvalue"
   ]
  },
  {
   "cell_type": "code",
   "execution_count": 28,
   "metadata": {},
   "outputs": [],
   "source": [
    "lowest, pvalues = np.argsort(results)[:5], np.sort(results)[:5]"
   ]
  },
  {
   "cell_type": "code",
   "execution_count": 29,
   "metadata": {},
   "outputs": [
    {
     "data": {
      "text/plain": [
       "(591    hsa-miR-340#-002259\n",
       " 121    hsa-miR-200c-002300\n",
       " 106     hsa-miR-191-002299\n",
       " 58      hsa-miR-126-002228\n",
       " 190      hsa-let-7b-002619\n",
       " Name: ID_REF, dtype: object,\n",
       " array([5.37744921e-06, 9.92183430e-06, 2.32982318e-05, 3.12034727e-05,\n",
       "        3.36242947e-05]))"
      ]
     },
     "execution_count": 29,
     "metadata": {},
     "output_type": "execute_result"
    }
   ],
   "source": [
    "mirnas[lowest], pvalues"
   ]
  },
  {
   "cell_type": "markdown",
   "metadata": {},
   "source": [
    "### F-test"
   ]
  },
  {
   "cell_type": "code",
   "execution_count": 30,
   "metadata": {},
   "outputs": [],
   "source": [
    "t3 = table"
   ]
  },
  {
   "cell_type": "code",
   "execution_count": 31,
   "metadata": {},
   "outputs": [
    {
     "name": "stderr",
     "output_type": "stream",
     "text": [
      "C:\\Users\\olefr\\AppData\\Local\\Programs\\Python\\Python310\\lib\\site-packages\\sklearn\\feature_selection\\_univariate_selection.py:112: UserWarning: Features [248 278 344 460 461 474 479 497 514 563 573 574 575 618 623 625 629 631\n",
      " 643 646 672 674 686 747 761 762] are constant.\n",
      "  warnings.warn(\"Features %s are constant.\" % constant_features_idx, UserWarning)\n",
      "C:\\Users\\olefr\\AppData\\Local\\Programs\\Python\\Python310\\lib\\site-packages\\sklearn\\feature_selection\\_univariate_selection.py:113: RuntimeWarning: invalid value encountered in true_divide\n",
      "  f = msb / msw\n"
     ]
    }
   ],
   "source": [
    "f, p = f_classif(t3, 100*[0] + 100*[1])"
   ]
  },
  {
   "cell_type": "markdown",
   "metadata": {
    "tags": []
   },
   "source": [
    "### ANOVA"
   ]
  },
  {
   "cell_type": "code",
   "execution_count": 32,
   "metadata": {},
   "outputs": [
    {
     "data": {
      "text/html": [
       "<div>\n",
       "<style scoped>\n",
       "    .dataframe tbody tr th:only-of-type {\n",
       "        vertical-align: middle;\n",
       "    }\n",
       "\n",
       "    .dataframe tbody tr th {\n",
       "        vertical-align: top;\n",
       "    }\n",
       "\n",
       "    .dataframe thead th {\n",
       "        text-align: right;\n",
       "    }\n",
       "</style>\n",
       "<table border=\"1\" class=\"dataframe\">\n",
       "  <thead>\n",
       "    <tr style=\"text-align: right;\">\n",
       "      <th></th>\n",
       "      <th>0</th>\n",
       "      <th>1</th>\n",
       "      <th>2</th>\n",
       "      <th>3</th>\n",
       "      <th>4</th>\n",
       "      <th>5</th>\n",
       "      <th>6</th>\n",
       "      <th>7</th>\n",
       "      <th>8</th>\n",
       "      <th>9</th>\n",
       "      <th>...</th>\n",
       "      <th>758</th>\n",
       "      <th>759</th>\n",
       "      <th>760</th>\n",
       "      <th>761</th>\n",
       "      <th>762</th>\n",
       "      <th>763</th>\n",
       "      <th>764</th>\n",
       "      <th>765</th>\n",
       "      <th>766</th>\n",
       "      <th>767</th>\n",
       "    </tr>\n",
       "  </thead>\n",
       "  <tbody>\n",
       "    <tr>\n",
       "      <th>CRTL 1</th>\n",
       "      <td>26.422</td>\n",
       "      <td>35.279</td>\n",
       "      <td>30.846</td>\n",
       "      <td>31.054</td>\n",
       "      <td>30.867</td>\n",
       "      <td>24.499</td>\n",
       "      <td>20.429</td>\n",
       "      <td>22.118</td>\n",
       "      <td>29.446</td>\n",
       "      <td>30.972</td>\n",
       "      <td>...</td>\n",
       "      <td>40.000</td>\n",
       "      <td>27.992</td>\n",
       "      <td>22.692</td>\n",
       "      <td>40.0</td>\n",
       "      <td>40.0</td>\n",
       "      <td>28.440</td>\n",
       "      <td>40.000</td>\n",
       "      <td>28.897</td>\n",
       "      <td>25.646</td>\n",
       "      <td>19.190</td>\n",
       "    </tr>\n",
       "    <tr>\n",
       "      <th>CRTL 2</th>\n",
       "      <td>28.967</td>\n",
       "      <td>34.915</td>\n",
       "      <td>32.807</td>\n",
       "      <td>32.266</td>\n",
       "      <td>28.442</td>\n",
       "      <td>26.992</td>\n",
       "      <td>24.904</td>\n",
       "      <td>24.215</td>\n",
       "      <td>29.930</td>\n",
       "      <td>34.407</td>\n",
       "      <td>...</td>\n",
       "      <td>40.000</td>\n",
       "      <td>28.339</td>\n",
       "      <td>40.000</td>\n",
       "      <td>40.0</td>\n",
       "      <td>40.0</td>\n",
       "      <td>28.179</td>\n",
       "      <td>40.000</td>\n",
       "      <td>29.744</td>\n",
       "      <td>27.101</td>\n",
       "      <td>36.475</td>\n",
       "    </tr>\n",
       "    <tr>\n",
       "      <th>CRTL 3</th>\n",
       "      <td>29.565</td>\n",
       "      <td>31.084</td>\n",
       "      <td>31.726</td>\n",
       "      <td>31.778</td>\n",
       "      <td>30.171</td>\n",
       "      <td>26.232</td>\n",
       "      <td>21.014</td>\n",
       "      <td>22.370</td>\n",
       "      <td>29.688</td>\n",
       "      <td>31.244</td>\n",
       "      <td>...</td>\n",
       "      <td>40.000</td>\n",
       "      <td>26.837</td>\n",
       "      <td>29.079</td>\n",
       "      <td>40.0</td>\n",
       "      <td>40.0</td>\n",
       "      <td>26.888</td>\n",
       "      <td>40.000</td>\n",
       "      <td>25.946</td>\n",
       "      <td>24.137</td>\n",
       "      <td>20.107</td>\n",
       "    </tr>\n",
       "    <tr>\n",
       "      <th>CRTL 4</th>\n",
       "      <td>23.395</td>\n",
       "      <td>30.185</td>\n",
       "      <td>30.117</td>\n",
       "      <td>30.131</td>\n",
       "      <td>29.829</td>\n",
       "      <td>23.148</td>\n",
       "      <td>21.463</td>\n",
       "      <td>21.168</td>\n",
       "      <td>28.267</td>\n",
       "      <td>29.289</td>\n",
       "      <td>...</td>\n",
       "      <td>22.917</td>\n",
       "      <td>27.755</td>\n",
       "      <td>28.367</td>\n",
       "      <td>40.0</td>\n",
       "      <td>40.0</td>\n",
       "      <td>27.480</td>\n",
       "      <td>33.336</td>\n",
       "      <td>27.307</td>\n",
       "      <td>25.629</td>\n",
       "      <td>32.897</td>\n",
       "    </tr>\n",
       "    <tr>\n",
       "      <th>CRTL 5</th>\n",
       "      <td>40.000</td>\n",
       "      <td>40.000</td>\n",
       "      <td>31.255</td>\n",
       "      <td>32.312</td>\n",
       "      <td>40.000</td>\n",
       "      <td>31.177</td>\n",
       "      <td>24.590</td>\n",
       "      <td>25.456</td>\n",
       "      <td>34.951</td>\n",
       "      <td>40.000</td>\n",
       "      <td>...</td>\n",
       "      <td>40.000</td>\n",
       "      <td>37.126</td>\n",
       "      <td>40.000</td>\n",
       "      <td>40.0</td>\n",
       "      <td>40.0</td>\n",
       "      <td>26.640</td>\n",
       "      <td>40.000</td>\n",
       "      <td>21.958</td>\n",
       "      <td>26.579</td>\n",
       "      <td>40.000</td>\n",
       "    </tr>\n",
       "    <tr>\n",
       "      <th>...</th>\n",
       "      <td>...</td>\n",
       "      <td>...</td>\n",
       "      <td>...</td>\n",
       "      <td>...</td>\n",
       "      <td>...</td>\n",
       "      <td>...</td>\n",
       "      <td>...</td>\n",
       "      <td>...</td>\n",
       "      <td>...</td>\n",
       "      <td>...</td>\n",
       "      <td>...</td>\n",
       "      <td>...</td>\n",
       "      <td>...</td>\n",
       "      <td>...</td>\n",
       "      <td>...</td>\n",
       "      <td>...</td>\n",
       "      <td>...</td>\n",
       "      <td>...</td>\n",
       "      <td>...</td>\n",
       "      <td>...</td>\n",
       "      <td>...</td>\n",
       "    </tr>\n",
       "    <tr>\n",
       "      <th>NSCLC 96</th>\n",
       "      <td>31.903</td>\n",
       "      <td>40.000</td>\n",
       "      <td>33.290</td>\n",
       "      <td>32.489</td>\n",
       "      <td>36.312</td>\n",
       "      <td>27.493</td>\n",
       "      <td>24.327</td>\n",
       "      <td>25.134</td>\n",
       "      <td>32.910</td>\n",
       "      <td>40.000</td>\n",
       "      <td>...</td>\n",
       "      <td>39.643</td>\n",
       "      <td>28.476</td>\n",
       "      <td>33.000</td>\n",
       "      <td>40.0</td>\n",
       "      <td>40.0</td>\n",
       "      <td>27.321</td>\n",
       "      <td>40.000</td>\n",
       "      <td>29.344</td>\n",
       "      <td>27.745</td>\n",
       "      <td>33.230</td>\n",
       "    </tr>\n",
       "    <tr>\n",
       "      <th>NSCLC 97</th>\n",
       "      <td>28.019</td>\n",
       "      <td>40.000</td>\n",
       "      <td>30.399</td>\n",
       "      <td>30.159</td>\n",
       "      <td>40.000</td>\n",
       "      <td>25.604</td>\n",
       "      <td>22.389</td>\n",
       "      <td>22.919</td>\n",
       "      <td>30.275</td>\n",
       "      <td>33.870</td>\n",
       "      <td>...</td>\n",
       "      <td>40.000</td>\n",
       "      <td>27.671</td>\n",
       "      <td>40.000</td>\n",
       "      <td>40.0</td>\n",
       "      <td>40.0</td>\n",
       "      <td>27.346</td>\n",
       "      <td>40.000</td>\n",
       "      <td>23.920</td>\n",
       "      <td>26.313</td>\n",
       "      <td>20.022</td>\n",
       "    </tr>\n",
       "    <tr>\n",
       "      <th>NSCLC 98</th>\n",
       "      <td>22.790</td>\n",
       "      <td>28.738</td>\n",
       "      <td>27.797</td>\n",
       "      <td>27.998</td>\n",
       "      <td>26.939</td>\n",
       "      <td>22.233</td>\n",
       "      <td>18.187</td>\n",
       "      <td>18.527</td>\n",
       "      <td>24.147</td>\n",
       "      <td>25.640</td>\n",
       "      <td>...</td>\n",
       "      <td>23.781</td>\n",
       "      <td>40.000</td>\n",
       "      <td>6.284</td>\n",
       "      <td>40.0</td>\n",
       "      <td>40.0</td>\n",
       "      <td>28.510</td>\n",
       "      <td>32.195</td>\n",
       "      <td>24.670</td>\n",
       "      <td>21.605</td>\n",
       "      <td>29.168</td>\n",
       "    </tr>\n",
       "    <tr>\n",
       "      <th>NSCLC 99</th>\n",
       "      <td>30.293</td>\n",
       "      <td>40.000</td>\n",
       "      <td>32.229</td>\n",
       "      <td>33.748</td>\n",
       "      <td>29.851</td>\n",
       "      <td>26.102</td>\n",
       "      <td>21.429</td>\n",
       "      <td>22.059</td>\n",
       "      <td>28.040</td>\n",
       "      <td>31.723</td>\n",
       "      <td>...</td>\n",
       "      <td>40.000</td>\n",
       "      <td>27.757</td>\n",
       "      <td>40.000</td>\n",
       "      <td>40.0</td>\n",
       "      <td>40.0</td>\n",
       "      <td>28.455</td>\n",
       "      <td>40.000</td>\n",
       "      <td>29.631</td>\n",
       "      <td>27.297</td>\n",
       "      <td>18.898</td>\n",
       "    </tr>\n",
       "    <tr>\n",
       "      <th>NSCLC 100</th>\n",
       "      <td>31.770</td>\n",
       "      <td>32.608</td>\n",
       "      <td>32.007</td>\n",
       "      <td>31.018</td>\n",
       "      <td>28.618</td>\n",
       "      <td>28.844</td>\n",
       "      <td>22.234</td>\n",
       "      <td>23.785</td>\n",
       "      <td>28.094</td>\n",
       "      <td>40.000</td>\n",
       "      <td>...</td>\n",
       "      <td>40.000</td>\n",
       "      <td>37.166</td>\n",
       "      <td>40.000</td>\n",
       "      <td>40.0</td>\n",
       "      <td>40.0</td>\n",
       "      <td>27.835</td>\n",
       "      <td>40.000</td>\n",
       "      <td>28.395</td>\n",
       "      <td>25.685</td>\n",
       "      <td>19.703</td>\n",
       "    </tr>\n",
       "  </tbody>\n",
       "</table>\n",
       "<p>200 rows × 768 columns</p>\n",
       "</div>"
      ],
      "text/plain": [
       "              0       1       2       3       4       5       6       7    \\\n",
       "CRTL 1     26.422  35.279  30.846  31.054  30.867  24.499  20.429  22.118   \n",
       "CRTL 2     28.967  34.915  32.807  32.266  28.442  26.992  24.904  24.215   \n",
       "CRTL 3     29.565  31.084  31.726  31.778  30.171  26.232  21.014  22.370   \n",
       "CRTL 4     23.395  30.185  30.117  30.131  29.829  23.148  21.463  21.168   \n",
       "CRTL 5     40.000  40.000  31.255  32.312  40.000  31.177  24.590  25.456   \n",
       "...           ...     ...     ...     ...     ...     ...     ...     ...   \n",
       "NSCLC 96   31.903  40.000  33.290  32.489  36.312  27.493  24.327  25.134   \n",
       "NSCLC 97   28.019  40.000  30.399  30.159  40.000  25.604  22.389  22.919   \n",
       "NSCLC 98   22.790  28.738  27.797  27.998  26.939  22.233  18.187  18.527   \n",
       "NSCLC 99   30.293  40.000  32.229  33.748  29.851  26.102  21.429  22.059   \n",
       "NSCLC 100  31.770  32.608  32.007  31.018  28.618  28.844  22.234  23.785   \n",
       "\n",
       "              8       9    ...     758     759     760   761   762     763  \\\n",
       "CRTL 1     29.446  30.972  ...  40.000  27.992  22.692  40.0  40.0  28.440   \n",
       "CRTL 2     29.930  34.407  ...  40.000  28.339  40.000  40.0  40.0  28.179   \n",
       "CRTL 3     29.688  31.244  ...  40.000  26.837  29.079  40.0  40.0  26.888   \n",
       "CRTL 4     28.267  29.289  ...  22.917  27.755  28.367  40.0  40.0  27.480   \n",
       "CRTL 5     34.951  40.000  ...  40.000  37.126  40.000  40.0  40.0  26.640   \n",
       "...           ...     ...  ...     ...     ...     ...   ...   ...     ...   \n",
       "NSCLC 96   32.910  40.000  ...  39.643  28.476  33.000  40.0  40.0  27.321   \n",
       "NSCLC 97   30.275  33.870  ...  40.000  27.671  40.000  40.0  40.0  27.346   \n",
       "NSCLC 98   24.147  25.640  ...  23.781  40.000   6.284  40.0  40.0  28.510   \n",
       "NSCLC 99   28.040  31.723  ...  40.000  27.757  40.000  40.0  40.0  28.455   \n",
       "NSCLC 100  28.094  40.000  ...  40.000  37.166  40.000  40.0  40.0  27.835   \n",
       "\n",
       "              764     765     766     767  \n",
       "CRTL 1     40.000  28.897  25.646  19.190  \n",
       "CRTL 2     40.000  29.744  27.101  36.475  \n",
       "CRTL 3     40.000  25.946  24.137  20.107  \n",
       "CRTL 4     33.336  27.307  25.629  32.897  \n",
       "CRTL 5     40.000  21.958  26.579  40.000  \n",
       "...           ...     ...     ...     ...  \n",
       "NSCLC 96   40.000  29.344  27.745  33.230  \n",
       "NSCLC 97   40.000  23.920  26.313  20.022  \n",
       "NSCLC 98   32.195  24.670  21.605  29.168  \n",
       "NSCLC 99   40.000  29.631  27.297  18.898  \n",
       "NSCLC 100  40.000  28.395  25.685  19.703  \n",
       "\n",
       "[200 rows x 768 columns]"
      ]
     },
     "execution_count": 32,
     "metadata": {},
     "output_type": "execute_result"
    }
   ],
   "source": [
    "t3"
   ]
  },
  {
   "cell_type": "code",
   "execution_count": 33,
   "metadata": {},
   "outputs": [],
   "source": [
    "X = np.array(100*[0] + 100*[1]).reshape(-1, 1)"
   ]
  },
  {
   "cell_type": "code",
   "execution_count": 34,
   "metadata": {},
   "outputs": [
    {
     "data": {
      "text/plain": [
       "LinearRegression()"
      ]
     },
     "execution_count": 34,
     "metadata": {},
     "output_type": "execute_result"
    }
   ],
   "source": [
    "linreg = LinearRegression()\n",
    "linreg.fit(X, t3)"
   ]
  },
  {
   "cell_type": "code",
   "execution_count": 35,
   "metadata": {},
   "outputs": [
    {
     "data": {
      "text/plain": [
       "0.008153505435840074"
      ]
     },
     "execution_count": 35,
     "metadata": {},
     "output_type": "execute_result"
    }
   ],
   "source": [
    "fitted = linreg.predict(X)\n",
    "explained_variance_score(t3, fitted, multioutput=\"variance_weighted\")"
   ]
  },
  {
   "cell_type": "markdown",
   "metadata": {},
   "source": [
    "### Mean-variance-plot"
   ]
  },
  {
   "cell_type": "code",
   "execution_count": 36,
   "metadata": {},
   "outputs": [
    {
     "data": {
      "text/plain": [
       "0      29.183745\n",
       "1      35.294295\n",
       "2      31.074000\n",
       "3      31.153310\n",
       "4      33.186415\n",
       "         ...    \n",
       "763    27.955345\n",
       "764    39.387195\n",
       "765    27.473235\n",
       "766    24.524425\n",
       "767    22.706135\n",
       "Length: 768, dtype: float64"
      ]
     },
     "execution_count": 36,
     "metadata": {},
     "output_type": "execute_result"
    }
   ],
   "source": [
    "np.mean(table)"
   ]
  },
  {
   "cell_type": "code",
   "execution_count": 37,
   "metadata": {
    "tags": []
   },
   "outputs": [],
   "source": [
    "def get_means_and_variances(table):\n",
    "    return np.mean(table), np.var(table, ddof=1)"
   ]
  },
  {
   "cell_type": "code",
   "execution_count": 38,
   "metadata": {
    "tags": []
   },
   "outputs": [],
   "source": [
    "def mean_variance_plot(table):\n",
    "    means, variances = get_means_and_variances(table)\n",
    "    plt.scatter(means, variances)\n",
    "    plt.xlabel(\"mean\")\n",
    "    plt.ylabel(\"variance\")\n",
    "    plt.plot()"
   ]
  },
  {
   "cell_type": "code",
   "execution_count": 39,
   "metadata": {},
   "outputs": [
    {
     "data": {
      "image/png": "[encoded data removed]",
      "text/plain": [
       "<Figure size 432x288 with 1 Axes>"
      ]
     },
     "metadata": {
      "needs_background": "light"
     },
     "output_type": "display_data"
    }
   ],
   "source": [
    "mean_variance_plot(table)"
   ]
  },
  {
   "cell_type": "code",
   "execution_count": 40,
   "metadata": {
    "tags": []
   },
   "outputs": [],
   "source": [
    "norm_log_table = table #- np.mean(table)"
   ]
  },
  {
   "cell_type": "code",
   "execution_count": 41,
   "metadata": {},
   "outputs": [],
   "source": [
    "#norm_log_table /= np.sqrt(np.mean(np.var(table, ddof=1)))"
   ]
  },
  {
   "cell_type": "code",
   "execution_count": 42,
   "metadata": {},
   "outputs": [
    {
     "data": {
      "image/png": "[encoded data removed]",
      "text/plain": [
       "<Figure size 432x288 with 1 Axes>"
      ]
     },
     "metadata": {
      "needs_background": "light"
     },
     "output_type": "display_data"
    }
   ],
   "source": [
    "mean_variance_plot(norm_log_table)"
   ]
  },
  {
   "cell_type": "markdown",
   "metadata": {},
   "source": [
    "### PCA"
   ]
  },
  {
   "cell_type": "code",
   "execution_count": 43,
   "metadata": {
    "tags": []
   },
   "outputs": [],
   "source": [
    "pca = decomposition.PCA(n_components=10)"
   ]
  },
  {
   "cell_type": "code",
   "execution_count": 44,
   "metadata": {},
   "outputs": [
    {
     "data": {
      "text/plain": [
       "PCA(n_components=10)"
      ]
     },
     "execution_count": 44,
     "metadata": {},
     "output_type": "execute_result"
    }
   ],
   "source": [
    "pca.fit(norm_log_table)"
   ]
  },
  {
   "cell_type": "code",
   "execution_count": 45,
   "metadata": {},
   "outputs": [
    {
     "data": {
      "text/plain": [
       "array([0.13781371, 0.08099746, 0.0544605 , 0.03061048, 0.01944033,\n",
       "       0.01827839, 0.01735844, 0.01657279, 0.01572385, 0.01475912])"
      ]
     },
     "execution_count": 45,
     "metadata": {},
     "output_type": "execute_result"
    }
   ],
   "source": [
    "pca.explained_variance_ratio_"
   ]
  },
  {
   "cell_type": "code",
   "execution_count": 46,
   "metadata": {
    "tags": []
   },
   "outputs": [],
   "source": [
    "components = pca.transform(norm_log_table)"
   ]
  },
  {
   "cell_type": "code",
   "execution_count": 47,
   "metadata": {},
   "outputs": [
    {
     "data": {
      "text/plain": [
       "array([[ -0.83371574,  -4.52129431, -35.55870019, ...,   4.62091773,\n",
       "        -13.58517541,  -8.78393493],\n",
       "       [-13.81016671,   1.58982484,   4.95743968, ...,  26.44450358,\n",
       "         20.70430192, -34.46232229],\n",
       "       [ 16.79729152,   0.69280708, -37.6279903 , ...,  -4.96077164,\n",
       "        -37.28848837,  -7.15917056],\n",
       "       ...,\n",
       "       [ 76.44193868,  44.97289672, -26.71086976, ...,  12.56129127,\n",
       "        -24.24205657,   5.92935371],\n",
       "       [-32.55614822,  32.9739496 ,  19.4486478 , ...,  10.69684522,\n",
       "         29.63530411,  11.82204219],\n",
       "       [-47.69457868,  27.87056467,  14.15544253, ..., -11.71554875,\n",
       "        -11.68436467,   2.3806825 ]])"
      ]
     },
     "execution_count": 47,
     "metadata": {},
     "output_type": "execute_result"
    }
   ],
   "source": [
    "components"
   ]
  },
  {
   "cell_type": "code",
   "execution_count": 48,
   "metadata": {},
   "outputs": [
    {
     "data": {
      "text/plain": [
       "{'title': ['NSCLC 1'],\n",
       " 'geo_accession': ['GSM1574909'],\n",
       " 'status': ['Public on Dec 31 2015'],\n",
       " 'submission_date': ['Dec 30 2014'],\n",
       " 'last_update_date': ['Dec 31 2015'],\n",
       " 'type': ['RNA'],\n",
       " 'channel_count': ['1'],\n",
       " 'source_name_ch1': ['plasma'],\n",
       " 'organism_ch1': ['Homo sapiens'],\n",
       " 'taxid_ch1': ['9606'],\n",
       " 'characteristics_ch1': ['gender: Male',\n",
       "  'age at interview: 68',\n",
       "  'smoking status: Ever smoker',\n",
       "  'morphology (for patients only): 8070/3',\n",
       "  'disease state: Non-small cell lung cancer patient'],\n",
       " 'treatment_protocol_ch1': ['Peripheral blood was collected in EDTA tubes at the time of interview.'],\n",
       " 'growth_protocol_ch1': ['n/a'],\n",
       " 'molecule_ch1': ['total RNA'],\n",
       " 'extract_protocol_ch1': ['Total RNA was isolated from 300ï\\xadL of plasma using NucleoSpinÂ® miRNA Plasma kit (Macherey-Nagel, DÃ¼ren, Germany) according to the manufacturerâ€™s protocol with Proteinase K digest, addition of 2Î¼g of glycogen carrier and DNAse digest steps. All samples were spiked-in with 10pmol of Arabidopsis thaliana synthetic miR-159a (synthesized by Eurofins MWG Operon, Ebersberg, Germany) to control for variations in the RNA preparation step.'],\n",
       " 'label_ch1': ['FAM'],\n",
       " 'label_protocol_ch1': [\"Expression levels of 754 miRNAs (Sanger miRBase v14) were quantified using the TaqMan Human MicroRNA Array A + B Card Set v3.0 (Applied Biosystems, Foster City, CA) as per the manufacturer's instructions (including pre-amplification).\"],\n",
       " 'hyb_protocol': ['n/a'],\n",
       " 'scan_protocol': ['n/a'],\n",
       " 'description': ['Case'],\n",
       " 'data_processing': ['The data were analysed in HTqPCR package using R Bioconductor. miRNAs with undetermined Ct values in more than 120 samples were filtered out. Data were quantile normalized. Following normalization Ct values with an interquartile range (IQR) of less than 1.5 and endogenous controls were removed from subsequent analysis, and limma analysis was performed to identify differentially regulated miRNA between cases and controls. With limma, a one-factorial linear model is fitted for each miRNA and the standard errors (SE) are moderated using an empirical Bayes model resulting in moderated t-statistics for each miRNA. These analysis were performed separately for CARD A and CARD B.',\n",
       "  'Matrix normalized worksheet reports normalized signal (quantile normalization).  Fold Change worksheet reports fold changes across all cases and controls.'],\n",
       " 'platform_id': ['GPL18942'],\n",
       " 'contact_name': ['Magdalena,B,Wozniak'],\n",
       " 'contact_department': ['Genetic Epidemiology'],\n",
       " 'contact_institute': ['International Agency for Research on Cancer'],\n",
       " 'contact_address': ['150 cours Albert Thomas'],\n",
       " 'contact_city': ['Lyon'],\n",
       " 'contact_zip/postal_code': ['69008'],\n",
       " 'contact_country': ['France'],\n",
       " 'supplementary_file': ['NONE'],\n",
       " 'series_id': ['GSE64591'],\n",
       " 'data_row_count': ['0']}"
      ]
     },
     "execution_count": 48,
     "metadata": {},
     "output_type": "execute_result"
    }
   ],
   "source": [
    "list(data.gsms.values())[100].metadata"
   ]
  },
  {
   "cell_type": "code",
   "execution_count": 49,
   "metadata": {
    "tags": []
   },
   "outputs": [],
   "source": [
    "controls = np.array([\"CRTL\" in k.metadata[\"title\"][0] for k in list(data.gsms.values())])"
   ]
  },
  {
   "cell_type": "code",
   "execution_count": 50,
   "metadata": {},
   "outputs": [
    {
     "data": {
      "text/plain": [
       "100"
      ]
     },
     "execution_count": 50,
     "metadata": {},
     "output_type": "execute_result"
    }
   ],
   "source": [
    "sum(controls)"
   ]
  },
  {
   "cell_type": "code",
   "execution_count": 51,
   "metadata": {},
   "outputs": [
    {
     "data": {
      "image/png": "[encoded data removed]",
      "text/plain": [
       "<Figure size 576x576 with 1 Axes>"
      ]
     },
     "metadata": {
      "needs_background": "light"
     },
     "output_type": "display_data"
    }
   ],
   "source": [
    "fig = plt.figure(figsize = (8,8))\n",
    "ax = fig.add_subplot(1,1,1)\n",
    "\n",
    "ax.set_xlabel('Principal Component 1', fontsize = 15)\n",
    "ax.set_ylabel('Principal Component 2', fontsize = 15)\n",
    "ax.set_title('2 component PCA', fontsize = 20)\n",
    "targets = ['Cancer', 'Healthy']\n",
    "colors = ['r', 'g']\n",
    "ax.scatter(components[controls == False, 0], components[controls == False, 1], c = 'r', s = 10)\n",
    "ax.scatter(components[controls == True, 0], components[controls == True, 1], c = 'g', s = 10)\n",
    "ax.legend(targets)\n",
    "ax.grid()"
   ]
  },
  {
   "cell_type": "code",
   "execution_count": 52,
   "metadata": {
    "tags": []
   },
   "outputs": [],
   "source": [
    "components2 = components[components[:,0] < 20, :]\n",
    "controls2 = controls[components[:,0] < 20]"
   ]
  },
  {
   "cell_type": "code",
   "execution_count": 53,
   "metadata": {},
   "outputs": [
    {
     "data": {
      "image/png": "[encoded data removed]",
      "text/plain": [
       "<Figure size 576x576 with 1 Axes>"
      ]
     },
     "metadata": {
      "needs_background": "light"
     },
     "output_type": "display_data"
    }
   ],
   "source": [
    "fig = plt.figure(figsize = (8,8))\n",
    "ax = fig.add_subplot(1,1,1)\n",
    "\n",
    "ax.set_xlabel('Principal Component 1', fontsize = 15)\n",
    "ax.set_ylabel('Principal Component 2', fontsize = 15)\n",
    "ax.set_title('2 component PCA', fontsize = 20)\n",
    "targets = ['Cancer', 'Healthy']\n",
    "colors = ['r', 'g']\n",
    "ax.scatter(components2[controls2 == False, 0], components2[controls2 == False, 1], c = 'r', s = 10)\n",
    "ax.scatter(components2[controls2 == True, 0], components2[controls2 == True, 1], c = 'g', s = 10)\n",
    "ax.legend(targets)\n",
    "ax.grid()"
   ]
  },
  {
   "cell_type": "markdown",
   "metadata": {
    "tags": []
   },
   "source": [
    "### Linear regression adjustments"
   ]
  },
  {
   "cell_type": "code",
   "execution_count": 54,
   "metadata": {},
   "outputs": [],
   "source": [
    "sex = np.array([\"Female\" in k.metadata[\"characteristics_ch1\"][0] for k in list(data.gsms.values())])\n",
    "age = np.array([float(k.metadata[\"characteristics_ch1\"][1].split(\": \")[1].replace(\"NA\", \"NaN\")) for k in list(data.gsms.values())])\n",
    "smoke = np.array([\"Ever\" in k.metadata[\"characteristics_ch1\"][2] for k in list(data.gsms.values())])"
   ]
  },
  {
   "cell_type": "code",
   "execution_count": 55,
   "metadata": {},
   "outputs": [],
   "source": [
    "covars = pd.DataFrame(np.array([sex, age, smoke]).transpose(), columns=[\"sex\", \"age\", \"smoke\"])"
   ]
  },
  {
   "cell_type": "code",
   "execution_count": 56,
   "metadata": {},
   "outputs": [],
   "source": [
    "covars = covars.fillna(covars.mean())"
   ]
  },
  {
   "cell_type": "code",
   "execution_count": 57,
   "metadata": {},
   "outputs": [
    {
     "data": {
      "text/plain": [
       "LinearRegression()"
      ]
     },
     "execution_count": 57,
     "metadata": {},
     "output_type": "execute_result"
    }
   ],
   "source": [
    "linreg = LinearRegression()\n",
    "linreg.fit(covars, norm_log_table)"
   ]
  },
  {
   "cell_type": "code",
   "execution_count": 58,
   "metadata": {},
   "outputs": [],
   "source": [
    "adj_norm_log_table = norm_log_table #- linreg.predict(covars)"
   ]
  },
  {
   "cell_type": "markdown",
   "metadata": {
    "tags": []
   },
   "source": [
    "# PCA"
   ]
  },
  {
   "cell_type": "code",
   "execution_count": 59,
   "metadata": {
    "tags": []
   },
   "outputs": [],
   "source": [
    "pca = decomposition.PCA(n_components=10)"
   ]
  },
  {
   "cell_type": "code",
   "execution_count": 60,
   "metadata": {},
   "outputs": [
    {
     "data": {
      "text/plain": [
       "PCA(n_components=10)"
      ]
     },
     "execution_count": 60,
     "metadata": {},
     "output_type": "execute_result"
    }
   ],
   "source": [
    "pca.fit(adj_norm_log_table)"
   ]
  },
  {
   "cell_type": "code",
   "execution_count": 61,
   "metadata": {
    "tags": []
   },
   "outputs": [],
   "source": [
    "components = pca.transform(adj_norm_log_table)"
   ]
  },
  {
   "cell_type": "code",
   "execution_count": 62,
   "metadata": {},
   "outputs": [
    {
     "data": {
      "text/plain": [
       "array([[ -0.83371574,  -4.52129254, -35.55869032, ...,   4.65787484,\n",
       "        -13.53922473,  -8.91984049],\n",
       "       [-13.81016672,   1.58983021,   4.95753791, ...,  26.52080488,\n",
       "         21.0218022 , -34.75510089],\n",
       "       [ 16.79729149,   0.69280114, -37.62796643, ...,  -4.84054358,\n",
       "        -37.63847107,  -6.74999642],\n",
       "       ...,\n",
       "       [ 76.4419387 ,  44.97289977, -26.7109161 , ...,  12.78631847,\n",
       "        -25.14560514,   5.77316889],\n",
       "       [-32.55614822,  32.9739496 ,  19.44865971, ...,  10.54136514,\n",
       "         29.86456456,  11.70257205],\n",
       "       [-47.6945787 ,  27.87056382,  14.15549025, ..., -11.37126822,\n",
       "        -11.09713899,   1.7353752 ]])"
      ]
     },
     "execution_count": 62,
     "metadata": {},
     "output_type": "execute_result"
    }
   ],
   "source": [
    "components"
   ]
  },
  {
   "cell_type": "code",
   "execution_count": 63,
   "metadata": {},
   "outputs": [
    {
     "data": {
      "image/png": "[encoded data removed]",
      "text/plain": [
       "<Figure size 576x576 with 1 Axes>"
      ]
     },
     "metadata": {
      "needs_background": "light"
     },
     "output_type": "display_data"
    }
   ],
   "source": [
    "fig = plt.figure(figsize = (8,8))\n",
    "ax = fig.add_subplot(1,1,1)\n",
    "\n",
    "ax.set_xlabel('Principal Component 1', fontsize = 15)\n",
    "ax.set_ylabel('Principal Component 2', fontsize = 15)\n",
    "ax.set_title('2 component PCA', fontsize = 20)\n",
    "targets = ['Cancer', 'Healthy']\n",
    "colors = ['r', 'g']\n",
    "ax.scatter(components[controls == False, 4], components[controls == False, 5], c = 'r', s = 10)\n",
    "ax.scatter(components[controls == True, 4], components[controls == True, 5], c = 'g', s = 10)\n",
    "ax.legend(targets)\n",
    "ax.grid()"
   ]
  },
  {
   "cell_type": "markdown",
   "metadata": {},
   "source": [
    "### Logistic Regression"
   ]
  },
  {
   "cell_type": "code",
   "execution_count": 64,
   "metadata": {},
   "outputs": [],
   "source": [
    "X_train, X_test, y_train, y_test = train_test_split(adj_norm_log_table, controls, test_size=0.33, random_state=42)"
   ]
  },
  {
   "cell_type": "code",
   "execution_count": 65,
   "metadata": {},
   "outputs": [
    {
     "data": {
      "text/plain": [
       "LogisticRegression(max_iter=2000)"
      ]
     },
     "execution_count": 65,
     "metadata": {},
     "output_type": "execute_result"
    }
   ],
   "source": [
    "model = LogisticRegression(max_iter=2000)\n",
    "model.fit(X_train, y_train)"
   ]
  },
  {
   "cell_type": "code",
   "execution_count": 66,
   "metadata": {},
   "outputs": [
    {
     "name": "stderr",
     "output_type": "stream",
     "text": [
      "C:\\Users\\olefr\\AppData\\Local\\Programs\\Python\\Python310\\lib\\site-packages\\sklearn\\utils\\deprecation.py:87: FutureWarning: Function plot_roc_curve is deprecated; Function :func:`plot_roc_curve` is deprecated in 1.0 and will be removed in 1.2. Use one of the class methods: :meth:`sklearn.metric.RocCurveDisplay.from_predictions` or :meth:`sklearn.metric.RocCurveDisplay.from_estimator`.\n",
      "  warnings.warn(msg, category=FutureWarning)\n"
     ]
    },
    {
     "data": {
      "text/plain": [
       "<sklearn.metrics._plot.roc_curve.RocCurveDisplay at 0x254d6acd1e0>"
      ]
     },
     "execution_count": 66,
     "metadata": {},
     "output_type": "execute_result"
    },
    {
     "data": {
      "image/png": "[encoded data removed]",
      "text/plain": [
       "<Figure size 432x288 with 1 Axes>"
      ]
     },
     "metadata": {
      "needs_background": "light"
     },
     "output_type": "display_data"
    }
   ],
   "source": [
    "plot_roc_curve(model, X_test, y_test)"
   ]
  },
  {
   "cell_type": "markdown",
   "metadata": {
    "jupyter": {
     "outputs_hidden": true
    },
    "tags": []
   },
   "source": [
    "### XGBoost"
   ]
  },
  {
   "cell_type": "code",
   "execution_count": 67,
   "metadata": {},
   "outputs": [],
   "source": [
    "X_train, X_test, y_train, y_test = train_test_split(norm_log_table, controls, test_size=0.33, random_state=42)"
   ]
  },
  {
   "cell_type": "code",
   "execution_count": 68,
   "metadata": {},
   "outputs": [
    {
     "name": "stdout",
     "output_type": "stream",
     "text": [
      "[20:23:18] WARNING: C:/Users/Administrator/workspace/xgboost-win64_release_1.5.1/src/learner.cc:1115: Starting in XGBoost 1.3.0, the default evaluation metric used with the objective 'binary:logistic' was changed from 'error' to 'logloss'. Explicitly set eval_metric if you'd like to restore the old behavior.\n"
     ]
    },
    {
     "data": {
      "text/plain": [
       "XGBClassifier(base_score=0.5, booster='gbtree', colsample_bylevel=1,\n",
       "              colsample_bynode=1, colsample_bytree=1, enable_categorical=False,\n",
       "              gamma=0, gpu_id=-1, importance_type=None,\n",
       "              interaction_constraints='', learning_rate=0.300000012,\n",
       "              max_delta_step=0, max_depth=6, min_child_weight=1, missing=nan,\n",
       "              monotone_constraints='()', n_estimators=100, n_jobs=16,\n",
       "              num_parallel_tree=1, predictor='auto', random_state=0,\n",
       "              reg_alpha=0, reg_lambda=1, scale_pos_weight=1, subsample=1,\n",
       "              tree_method='exact', use_label_encoder=False,\n",
       "              validate_parameters=1, verbosity=None)"
      ]
     },
     "execution_count": 68,
     "metadata": {},
     "output_type": "execute_result"
    }
   ],
   "source": [
    "model = XGBClassifier(use_label_encoder=False)\n",
    "model.fit(X_train, y_train)"
   ]
  },
  {
   "cell_type": "code",
   "execution_count": 69,
   "metadata": {},
   "outputs": [
    {
     "name": "stderr",
     "output_type": "stream",
     "text": [
      "C:\\Users\\olefr\\AppData\\Local\\Programs\\Python\\Python310\\lib\\site-packages\\sklearn\\utils\\deprecation.py:87: FutureWarning: Function plot_roc_curve is deprecated; Function :func:`plot_roc_curve` is deprecated in 1.0 and will be removed in 1.2. Use one of the class methods: :meth:`sklearn.metric.RocCurveDisplay.from_predictions` or :meth:`sklearn.metric.RocCurveDisplay.from_estimator`.\n",
      "  warnings.warn(msg, category=FutureWarning)\n"
     ]
    },
    {
     "data": {
      "text/plain": [
       "<sklearn.metrics._plot.roc_curve.RocCurveDisplay at 0x254d6b05570>"
      ]
     },
     "execution_count": 69,
     "metadata": {},
     "output_type": "execute_result"
    },
    {
     "data": {
      "image/png": "[encoded data removed]",
      "text/plain": [
       "<Figure size 432x288 with 1 Axes>"
      ]
     },
     "metadata": {
      "needs_background": "light"
     },
     "output_type": "display_data"
    }
   ],
   "source": [
    "plot_roc_curve(model, X_test, y_test)"
   ]
  },
  {
   "cell_type": "markdown",
   "metadata": {},
   "source": [
    "### Export data"
   ]
  },
  {
   "cell_type": "code",
   "execution_count": 70,
   "metadata": {},
   "outputs": [
    {
     "data": {
      "text/html": [
       "<div>\n",
       "<style scoped>\n",
       "    .dataframe tbody tr th:only-of-type {\n",
       "        vertical-align: middle;\n",
       "    }\n",
       "\n",
       "    .dataframe tbody tr th {\n",
       "        vertical-align: top;\n",
       "    }\n",
       "\n",
       "    .dataframe thead th {\n",
       "        text-align: right;\n",
       "    }\n",
       "</style>\n",
       "<table border=\"1\" class=\"dataframe\">\n",
       "  <thead>\n",
       "    <tr style=\"text-align: right;\">\n",
       "      <th></th>\n",
       "      <th>Well Number</th>\n",
       "      <th>Well Name</th>\n",
       "      <th>Assay Name</th>\n",
       "      <th>Control Assay</th>\n",
       "      <th>Assay Target Sequence</th>\n",
       "      <th>miRBase ID (v22)</th>\n",
       "      <th>miRBase Alias</th>\n",
       "    </tr>\n",
       "    <tr>\n",
       "      <th>Assay ID</th>\n",
       "      <th></th>\n",
       "      <th></th>\n",
       "      <th></th>\n",
       "      <th></th>\n",
       "      <th></th>\n",
       "      <th></th>\n",
       "      <th></th>\n",
       "    </tr>\n",
       "  </thead>\n",
       "  <tbody>\n",
       "    <tr>\n",
       "      <th>377</th>\n",
       "      <td>1</td>\n",
       "      <td>A1</td>\n",
       "      <td>hsa-let-7a</td>\n",
       "      <td>NaN</td>\n",
       "      <td>UGAGGUAGUAGGUUGUAUAGUU</td>\n",
       "      <td>hsa-let-7a-5p</td>\n",
       "      <td>hsa-let-7a(17)</td>\n",
       "    </tr>\n",
       "    <tr>\n",
       "      <th>379</th>\n",
       "      <td>2</td>\n",
       "      <td>A2</td>\n",
       "      <td>hsa-let-7c</td>\n",
       "      <td>NaN</td>\n",
       "      <td>UGAGGUAGUAGGUUGUAUGGUU</td>\n",
       "      <td>hsa-let-7c-5p</td>\n",
       "      <td>hsa-let-7c(19)</td>\n",
       "    </tr>\n",
       "    <tr>\n",
       "      <th>2283</th>\n",
       "      <td>3</td>\n",
       "      <td>A3</td>\n",
       "      <td>hsa-let-7d</td>\n",
       "      <td>NaN</td>\n",
       "      <td>AGAGGUAGUAGGUUGCAUAGUU</td>\n",
       "      <td>hsa-let-7d-5p</td>\n",
       "      <td>hsa-let-7d(17)</td>\n",
       "    </tr>\n",
       "    <tr>\n",
       "      <th>2406</th>\n",
       "      <td>4</td>\n",
       "      <td>A4</td>\n",
       "      <td>hsa-let-7e</td>\n",
       "      <td>NaN</td>\n",
       "      <td>UGAGGUAGGAGGUUGUAUAGUU</td>\n",
       "      <td>hsa-let-7e-5p</td>\n",
       "      <td>hsa-let-7e(17)</td>\n",
       "    </tr>\n",
       "    <tr>\n",
       "      <th>382</th>\n",
       "      <td>5</td>\n",
       "      <td>A5</td>\n",
       "      <td>hsa-let-7f</td>\n",
       "      <td>NaN</td>\n",
       "      <td>UGAGGUAGUAGAUUGUAUAGUU</td>\n",
       "      <td>hsa-let-7f-5p</td>\n",
       "      <td>hsa-let-7f(17)</td>\n",
       "    </tr>\n",
       "  </tbody>\n",
       "</table>\n",
       "</div>"
      ],
      "text/plain": [
       "          Well Number Well Name  Assay Name Control Assay  \\\n",
       "Assay ID                                                    \n",
       "377                 1        A1  hsa-let-7a           NaN   \n",
       "379                 2        A2  hsa-let-7c           NaN   \n",
       "2283                3        A3  hsa-let-7d           NaN   \n",
       "2406                4        A4  hsa-let-7e           NaN   \n",
       "382                 5        A5  hsa-let-7f           NaN   \n",
       "\n",
       "           Assay Target Sequence miRBase ID (v22)   miRBase Alias  \n",
       "Assay ID                                                           \n",
       "377       UGAGGUAGUAGGUUGUAUAGUU    hsa-let-7a-5p  hsa-let-7a(17)  \n",
       "379       UGAGGUAGUAGGUUGUAUGGUU    hsa-let-7c-5p  hsa-let-7c(19)  \n",
       "2283      AGAGGUAGUAGGUUGCAUAGUU    hsa-let-7d-5p  hsa-let-7d(17)  \n",
       "2406      UGAGGUAGGAGGUUGUAUAGUU    hsa-let-7e-5p  hsa-let-7e(17)  \n",
       "382       UGAGGUAGUAGAUUGUAUAGUU    hsa-let-7f-5p  hsa-let-7f(17)  "
      ]
     },
     "execution_count": 70,
     "metadata": {},
     "output_type": "execute_result"
    }
   ],
   "source": [
    "lookup_table = pd.read_csv(\"../Others/taqman.csv\", index_col=2)\n",
    "lookup_table.head()"
   ]
  },
  {
   "cell_type": "code",
   "execution_count": 71,
   "metadata": {},
   "outputs": [],
   "source": [
    "lookup_table = lookup_table.drop_duplicates(\"Assay Target Sequence\")"
   ]
  },
  {
   "cell_type": "code",
   "execution_count": 72,
   "metadata": {},
   "outputs": [
    {
     "data": {
      "text/plain": [
       "758"
      ]
     },
     "execution_count": 72,
     "metadata": {},
     "output_type": "execute_result"
    }
   ],
   "source": [
    "len(lookup_table)"
   ]
  },
  {
   "cell_type": "code",
   "execution_count": 73,
   "metadata": {},
   "outputs": [
    {
     "data": {
      "text/plain": [
       "0     hsa-let-7a-000377\n",
       "1    hsa-miR-10b-002218\n",
       "2        U6snRNA-001973\n",
       "3        U6snRNA-001973\n",
       "4    hsa-miR-15a-000389\n",
       "5    hsa-miR-15b-000390\n",
       "6     hsa-miR-16-000391\n",
       "7     hsa-miR-17-002308\n",
       "8    hsa-miR-18a-002422\n",
       "9    hsa-miR-18b-002217\n",
       "Name: ID_REF, dtype: object"
      ]
     },
     "execution_count": 73,
     "metadata": {},
     "output_type": "execute_result"
    }
   ],
   "source": [
    "mirnas[:10]"
   ]
  },
  {
   "cell_type": "code",
   "execution_count": 74,
   "metadata": {},
   "outputs": [
    {
     "data": {
      "text/plain": [
       "[377, 2218, 1973, 1973, 389, 390, 391, 2308, 2422, 2217]"
      ]
     },
     "execution_count": 74,
     "metadata": {},
     "output_type": "execute_result"
    }
   ],
   "source": [
    "mirnas = [int(m[-6:]) for m in mirnas]\n",
    "mirnas[:10]"
   ]
  },
  {
   "cell_type": "code",
   "execution_count": 75,
   "metadata": {},
   "outputs": [],
   "source": [
    "sequences = lookup_table.loc[mirnas][\"Assay Target Sequence\"]"
   ]
  },
  {
   "cell_type": "code",
   "execution_count": 76,
   "metadata": {},
   "outputs": [
    {
     "data": {
      "text/plain": [
       "768"
      ]
     },
     "execution_count": 76,
     "metadata": {},
     "output_type": "execute_result"
    }
   ],
   "source": [
    "len(mirnas)"
   ]
  },
  {
   "cell_type": "code",
   "execution_count": 77,
   "metadata": {},
   "outputs": [
    {
     "data": {
      "text/plain": [
       "768"
      ]
     },
     "execution_count": 77,
     "metadata": {},
     "output_type": "execute_result"
    }
   ],
   "source": [
    "len(sequences)"
   ]
  },
  {
   "cell_type": "code",
   "execution_count": 78,
   "metadata": {},
   "outputs": [
    {
     "name": "stderr",
     "output_type": "stream",
     "text": [
      "C:\\Users\\olefr\\AppData\\Local\\Temp/ipykernel_2908/3781353790.py:4: SettingWithCopyWarning: \n",
      "A value is trying to be set on a copy of a slice from a DataFrame.\n",
      "Try using .loc[row_indexer,col_indexer] = value instead\n",
      "\n",
      "See the caveats in the documentation: https://pandas.pydata.org/pandas-docs/stable/user_guide/indexing.html#returning-a-view-versus-a-copy\n",
      "  adj_norm_log_table[\"cancer\"] = 1 - controls\n"
     ]
    },
    {
     "data": {
      "text/html": [
       "<div>\n",
       "<style scoped>\n",
       "    .dataframe tbody tr th:only-of-type {\n",
       "        vertical-align: middle;\n",
       "    }\n",
       "\n",
       "    .dataframe tbody tr th {\n",
       "        vertical-align: top;\n",
       "    }\n",
       "\n",
       "    .dataframe thead th {\n",
       "        text-align: right;\n",
       "    }\n",
       "</style>\n",
       "<table border=\"1\" class=\"dataframe\">\n",
       "  <thead>\n",
       "    <tr style=\"text-align: right;\">\n",
       "      <th>Assay Target Sequence</th>\n",
       "      <th>UGAGGUAGUAGGUUGUAUAGUU</th>\n",
       "      <th>UACCCUGUAGAACCGAAUUUGUG</th>\n",
       "      <th>GUGCUCGCUUCGGCAGCACAUAUACUAAAAUUGGAACGAUACAGAGAAGAUUAGCAUGGCCCCUGCGCAAGGAUGACACGCAAAUUCGUGAAGCGUUCCAUAUUUU</th>\n",
       "      <th>UAGCAGCACAUAAUGGUUUGUG</th>\n",
       "      <th>UAGCAGCACAUCAUGGUUUACA</th>\n",
       "      <th>UAGCAGCACGUAAAUAUUGGCG</th>\n",
       "      <th>CAAAGUGCUUACAGUGCAGGUAG</th>\n",
       "      <th>UAAGGUGCAUCUAGUGCAGAUAG</th>\n",
       "      <th>UAAGGUGCAUCUAGUGCAGUUAG</th>\n",
       "      <th>UGUGCAAAUCUAUGCAAAACUGA</th>\n",
       "      <th>...</th>\n",
       "      <th>UCCAGUGCCCUCCUCUCC</th>\n",
       "      <th>UUAGGGCCCUGGCUCCAUCUCC</th>\n",
       "      <th>UGUUCAUGUAGAUGUUUAAGC</th>\n",
       "      <th>AAAACUGUAAUUACUUUUGUAC</th>\n",
       "      <th>UCACUGUUCAGACAGGCGGA</th>\n",
       "      <th>AAAAACUGAGACUACUUUUGCA</th>\n",
       "      <th>GUCCCUGUUCAGGCGCCA</th>\n",
       "      <th>UCCCUGUUCGGGCGCCA</th>\n",
       "      <th>CCUGUUGAAGUGUAAUCCCCA</th>\n",
       "      <th>cancer</th>\n",
       "    </tr>\n",
       "  </thead>\n",
       "  <tbody>\n",
       "    <tr>\n",
       "      <th>CRTL 1</th>\n",
       "      <td>-26.422</td>\n",
       "      <td>-35.279</td>\n",
       "      <td>-30.846</td>\n",
       "      <td>-30.867</td>\n",
       "      <td>-24.499</td>\n",
       "      <td>-20.429</td>\n",
       "      <td>-22.118</td>\n",
       "      <td>-29.446</td>\n",
       "      <td>-30.972</td>\n",
       "      <td>-25.006</td>\n",
       "      <td>...</td>\n",
       "      <td>-27.992</td>\n",
       "      <td>-22.692</td>\n",
       "      <td>-40.0</td>\n",
       "      <td>-40.0</td>\n",
       "      <td>-28.440</td>\n",
       "      <td>-40.000</td>\n",
       "      <td>-28.897</td>\n",
       "      <td>-25.646</td>\n",
       "      <td>-19.190</td>\n",
       "      <td>0</td>\n",
       "    </tr>\n",
       "    <tr>\n",
       "      <th>CRTL 2</th>\n",
       "      <td>-28.967</td>\n",
       "      <td>-34.915</td>\n",
       "      <td>-32.807</td>\n",
       "      <td>-28.442</td>\n",
       "      <td>-26.992</td>\n",
       "      <td>-24.904</td>\n",
       "      <td>-24.215</td>\n",
       "      <td>-29.930</td>\n",
       "      <td>-34.407</td>\n",
       "      <td>-38.499</td>\n",
       "      <td>...</td>\n",
       "      <td>-28.339</td>\n",
       "      <td>-40.000</td>\n",
       "      <td>-40.0</td>\n",
       "      <td>-40.0</td>\n",
       "      <td>-28.179</td>\n",
       "      <td>-40.000</td>\n",
       "      <td>-29.744</td>\n",
       "      <td>-27.101</td>\n",
       "      <td>-36.475</td>\n",
       "      <td>0</td>\n",
       "    </tr>\n",
       "    <tr>\n",
       "      <th>CRTL 3</th>\n",
       "      <td>-29.565</td>\n",
       "      <td>-31.084</td>\n",
       "      <td>-31.726</td>\n",
       "      <td>-30.171</td>\n",
       "      <td>-26.232</td>\n",
       "      <td>-21.014</td>\n",
       "      <td>-22.370</td>\n",
       "      <td>-29.688</td>\n",
       "      <td>-31.244</td>\n",
       "      <td>-24.795</td>\n",
       "      <td>...</td>\n",
       "      <td>-26.837</td>\n",
       "      <td>-29.079</td>\n",
       "      <td>-40.0</td>\n",
       "      <td>-40.0</td>\n",
       "      <td>-26.888</td>\n",
       "      <td>-40.000</td>\n",
       "      <td>-25.946</td>\n",
       "      <td>-24.137</td>\n",
       "      <td>-20.107</td>\n",
       "      <td>0</td>\n",
       "    </tr>\n",
       "    <tr>\n",
       "      <th>CRTL 4</th>\n",
       "      <td>-23.395</td>\n",
       "      <td>-30.185</td>\n",
       "      <td>-30.117</td>\n",
       "      <td>-29.829</td>\n",
       "      <td>-23.148</td>\n",
       "      <td>-21.463</td>\n",
       "      <td>-21.168</td>\n",
       "      <td>-28.267</td>\n",
       "      <td>-29.289</td>\n",
       "      <td>-24.962</td>\n",
       "      <td>...</td>\n",
       "      <td>-27.755</td>\n",
       "      <td>-28.367</td>\n",
       "      <td>-40.0</td>\n",
       "      <td>-40.0</td>\n",
       "      <td>-27.480</td>\n",
       "      <td>-33.336</td>\n",
       "      <td>-27.307</td>\n",
       "      <td>-25.629</td>\n",
       "      <td>-32.897</td>\n",
       "      <td>0</td>\n",
       "    </tr>\n",
       "    <tr>\n",
       "      <th>CRTL 5</th>\n",
       "      <td>-40.000</td>\n",
       "      <td>-40.000</td>\n",
       "      <td>-31.255</td>\n",
       "      <td>-40.000</td>\n",
       "      <td>-31.177</td>\n",
       "      <td>-24.590</td>\n",
       "      <td>-25.456</td>\n",
       "      <td>-34.951</td>\n",
       "      <td>-40.000</td>\n",
       "      <td>-28.233</td>\n",
       "      <td>...</td>\n",
       "      <td>-37.126</td>\n",
       "      <td>-40.000</td>\n",
       "      <td>-40.0</td>\n",
       "      <td>-40.0</td>\n",
       "      <td>-26.640</td>\n",
       "      <td>-40.000</td>\n",
       "      <td>-21.958</td>\n",
       "      <td>-26.579</td>\n",
       "      <td>-40.000</td>\n",
       "      <td>0</td>\n",
       "    </tr>\n",
       "  </tbody>\n",
       "</table>\n",
       "<p>5 rows × 759 columns</p>\n",
       "</div>"
      ],
      "text/plain": [
       "Assay Target Sequence  UGAGGUAGUAGGUUGUAUAGUU  UACCCUGUAGAACCGAAUUUGUG  \\\n",
       "CRTL 1                                -26.422                  -35.279   \n",
       "CRTL 2                                -28.967                  -34.915   \n",
       "CRTL 3                                -29.565                  -31.084   \n",
       "CRTL 4                                -23.395                  -30.185   \n",
       "CRTL 5                                -40.000                  -40.000   \n",
       "\n",
       "Assay Target Sequence  GUGCUCGCUUCGGCAGCACAUAUACUAAAAUUGGAACGAUACAGAGAAGAUUAGCAUGGCCCCUGCGCAAGGAUGACACGCAAAUUCGUGAAGCGUUCCAUAUUUU  \\\n",
       "CRTL 1                                                           -30.846                                                            \n",
       "CRTL 2                                                           -32.807                                                            \n",
       "CRTL 3                                                           -31.726                                                            \n",
       "CRTL 4                                                           -30.117                                                            \n",
       "CRTL 5                                                           -31.255                                                            \n",
       "\n",
       "Assay Target Sequence  UAGCAGCACAUAAUGGUUUGUG  UAGCAGCACAUCAUGGUUUACA  \\\n",
       "CRTL 1                                -30.867                 -24.499   \n",
       "CRTL 2                                -28.442                 -26.992   \n",
       "CRTL 3                                -30.171                 -26.232   \n",
       "CRTL 4                                -29.829                 -23.148   \n",
       "CRTL 5                                -40.000                 -31.177   \n",
       "\n",
       "Assay Target Sequence  UAGCAGCACGUAAAUAUUGGCG  CAAAGUGCUUACAGUGCAGGUAG  \\\n",
       "CRTL 1                                -20.429                  -22.118   \n",
       "CRTL 2                                -24.904                  -24.215   \n",
       "CRTL 3                                -21.014                  -22.370   \n",
       "CRTL 4                                -21.463                  -21.168   \n",
       "CRTL 5                                -24.590                  -25.456   \n",
       "\n",
       "Assay Target Sequence  UAAGGUGCAUCUAGUGCAGAUAG  UAAGGUGCAUCUAGUGCAGUUAG  \\\n",
       "CRTL 1                                 -29.446                  -30.972   \n",
       "CRTL 2                                 -29.930                  -34.407   \n",
       "CRTL 3                                 -29.688                  -31.244   \n",
       "CRTL 4                                 -28.267                  -29.289   \n",
       "CRTL 5                                 -34.951                  -40.000   \n",
       "\n",
       "Assay Target Sequence  UGUGCAAAUCUAUGCAAAACUGA  ...  UCCAGUGCCCUCCUCUCC  \\\n",
       "CRTL 1                                 -25.006  ...             -27.992   \n",
       "CRTL 2                                 -38.499  ...             -28.339   \n",
       "CRTL 3                                 -24.795  ...             -26.837   \n",
       "CRTL 4                                 -24.962  ...             -27.755   \n",
       "CRTL 5                                 -28.233  ...             -37.126   \n",
       "\n",
       "Assay Target Sequence  UUAGGGCCCUGGCUCCAUCUCC  UGUUCAUGUAGAUGUUUAAGC  \\\n",
       "CRTL 1                                -22.692                  -40.0   \n",
       "CRTL 2                                -40.000                  -40.0   \n",
       "CRTL 3                                -29.079                  -40.0   \n",
       "CRTL 4                                -28.367                  -40.0   \n",
       "CRTL 5                                -40.000                  -40.0   \n",
       "\n",
       "Assay Target Sequence  AAAACUGUAAUUACUUUUGUAC  UCACUGUUCAGACAGGCGGA  \\\n",
       "CRTL 1                                  -40.0               -28.440   \n",
       "CRTL 2                                  -40.0               -28.179   \n",
       "CRTL 3                                  -40.0               -26.888   \n",
       "CRTL 4                                  -40.0               -27.480   \n",
       "CRTL 5                                  -40.0               -26.640   \n",
       "\n",
       "Assay Target Sequence  AAAAACUGAGACUACUUUUGCA  GUCCCUGUUCAGGCGCCA  \\\n",
       "CRTL 1                                -40.000             -28.897   \n",
       "CRTL 2                                -40.000             -29.744   \n",
       "CRTL 3                                -40.000             -25.946   \n",
       "CRTL 4                                -33.336             -27.307   \n",
       "CRTL 5                                -40.000             -21.958   \n",
       "\n",
       "Assay Target Sequence  UCCCUGUUCGGGCGCCA  CCUGUUGAAGUGUAAUCCCCA  cancer  \n",
       "CRTL 1                           -25.646                -19.190       0  \n",
       "CRTL 2                           -27.101                -36.475       0  \n",
       "CRTL 3                           -24.137                -20.107       0  \n",
       "CRTL 4                           -25.629                -32.897       0  \n",
       "CRTL 5                           -26.579                -40.000       0  \n",
       "\n",
       "[5 rows x 759 columns]"
      ]
     },
     "execution_count": 78,
     "metadata": {},
     "output_type": "execute_result"
    }
   ],
   "source": [
    "adj_norm_log_table.columns = sequences\n",
    "adj_norm_log_table *= -1\n",
    "adj_norm_log_table = adj_norm_log_table.loc[:,~adj_norm_log_table.columns.duplicated()]\n",
    "adj_norm_log_table[\"cancer\"] = 1 - controls\n",
    "adj_norm_log_table.head()"
   ]
  },
  {
   "cell_type": "code",
   "execution_count": 79,
   "metadata": {},
   "outputs": [],
   "source": [
    "adj_norm_log_table.to_csv(\"../TransformedData/Wozniak2015_raw.csv\", index=False)"
   ]
  },
  {
   "cell_type": "code",
   "execution_count": null,
   "metadata": {},
   "outputs": [],
   "source": []
  }
 ],
 "metadata": {
  "kernelspec": {
   "display_name": "Python 3 (ipykernel)",
   "language": "python",
   "name": "python3"
  },
  "language_info": {
   "codemirror_mode": {
    "name": "ipython",
    "version": 3
   },
   "file_extension": ".py",
   "mimetype": "text/x-python",
   "name": "python",
   "nbconvert_exporter": "python",
   "pygments_lexer": "ipython3",
   "version": "3.10.1"
  }
 },
 "nbformat": 4,
 "nbformat_minor": 4
}
