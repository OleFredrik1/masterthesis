{
 "cells": [
  {
   "cell_type": "code",
   "execution_count": 14,
   "metadata": {
    "tags": []
   },
   "outputs": [],
   "source": [
    "%matplotlib inline\n",
    "import GEOparse\n",
    "import matplotlib.pyplot as plt\n",
    "import pandas as pd\n",
    "import numpy as np\n",
    "from sklearn import decomposition\n",
    "from sklearn.feature_selection import f_classif\n",
    "from sklearn.linear_model import LinearRegression, LogisticRegression\n",
    "from sklearn.metrics import explained_variance_score, plot_roc_curve\n",
    "import statsmodels.api as sm\n",
    "from scipy.stats import ttest_ind\n",
    "from xgboost import XGBClassifier\n",
    "from sklearn.model_selection import train_test_split\n",
    "import matplotlib\n",
    "from xgboost import XGBClassifier\n",
    "from sklearn.model_selection import train_test_split\n",
    "\n",
    "geo = \"GSE111803\""
   ]
  },
  {
   "cell_type": "code",
   "execution_count": 15,
   "metadata": {},
   "outputs": [],
   "source": [
    "data = pd.read_csv(\"../Dataset/Yao2019/data.txt\", sep=\"\\t\")"
   ]
  },
  {
   "cell_type": "code",
   "execution_count": 16,
   "metadata": {},
   "outputs": [
    {
     "data": {
      "text/plain": [
       "Index(['miRNA_ID', 'LC11.readcount', 'LC3.readcount', 'LC4.readcount',\n",
       "       'LC5.readcount', 'LC6.readcount', 'NC1.readcount', 'NC2.readcount',\n",
       "       'NC3.readcount', 'NC4.readcount', 'NC5.readcount', 'LC11.tpm',\n",
       "       'LC3.tpm', 'LC4.tpm', 'LC5.tpm', 'LC6.tpm', 'NC1.tpm', 'NC2.tpm',\n",
       "       'NC3.tpm', 'NC4.tpm', 'NC5.tpm'],\n",
       "      dtype='object')"
      ]
     },
     "execution_count": 16,
     "metadata": {},
     "output_type": "execute_result"
    }
   ],
   "source": [
    "data.columns"
   ]
  },
  {
   "cell_type": "code",
   "execution_count": 17,
   "metadata": {},
   "outputs": [
    {
     "data": {
      "text/html": [
       "<div>\n",
       "<style scoped>\n",
       "    .dataframe tbody tr th:only-of-type {\n",
       "        vertical-align: middle;\n",
       "    }\n",
       "\n",
       "    .dataframe tbody tr th {\n",
       "        vertical-align: top;\n",
       "    }\n",
       "\n",
       "    .dataframe thead th {\n",
       "        text-align: right;\n",
       "    }\n",
       "</style>\n",
       "<table border=\"1\" class=\"dataframe\">\n",
       "  <thead>\n",
       "    <tr style=\"text-align: right;\">\n",
       "      <th></th>\n",
       "      <th>0</th>\n",
       "      <th>1</th>\n",
       "      <th>2</th>\n",
       "      <th>3</th>\n",
       "      <th>4</th>\n",
       "      <th>5</th>\n",
       "      <th>6</th>\n",
       "      <th>7</th>\n",
       "      <th>8</th>\n",
       "      <th>9</th>\n",
       "      <th>...</th>\n",
       "      <th>1244</th>\n",
       "      <th>1245</th>\n",
       "      <th>1246</th>\n",
       "      <th>1247</th>\n",
       "      <th>1248</th>\n",
       "      <th>1249</th>\n",
       "      <th>1250</th>\n",
       "      <th>1251</th>\n",
       "      <th>1252</th>\n",
       "      <th>1253</th>\n",
       "    </tr>\n",
       "  </thead>\n",
       "  <tbody>\n",
       "    <tr>\n",
       "      <th>LC11.tpm</th>\n",
       "      <td>84.810449</td>\n",
       "      <td>35945.49515</td>\n",
       "      <td>2.019296</td>\n",
       "      <td>6601.079920</td>\n",
       "      <td>0.000000</td>\n",
       "      <td>1524.568779</td>\n",
       "      <td>438.187318</td>\n",
       "      <td>6187.124158</td>\n",
       "      <td>2.019296</td>\n",
       "      <td>448.283800</td>\n",
       "      <td>...</td>\n",
       "      <td>0.000000</td>\n",
       "      <td>0.000000</td>\n",
       "      <td>0.000000</td>\n",
       "      <td>0.000000</td>\n",
       "      <td>0.000000</td>\n",
       "      <td>0.000000</td>\n",
       "      <td>0.000000</td>\n",
       "      <td>2.019296</td>\n",
       "      <td>0.000000</td>\n",
       "      <td>0.000000</td>\n",
       "    </tr>\n",
       "    <tr>\n",
       "      <th>LC3.tpm</th>\n",
       "      <td>81.564623</td>\n",
       "      <td>24061.56385</td>\n",
       "      <td>8.718977</td>\n",
       "      <td>4780.811951</td>\n",
       "      <td>0.000000</td>\n",
       "      <td>1379.004647</td>\n",
       "      <td>408.385631</td>\n",
       "      <td>5804.307343</td>\n",
       "      <td>0.843772</td>\n",
       "      <td>542.545373</td>\n",
       "      <td>...</td>\n",
       "      <td>0.281257</td>\n",
       "      <td>0.562515</td>\n",
       "      <td>1.687544</td>\n",
       "      <td>0.562515</td>\n",
       "      <td>0.281257</td>\n",
       "      <td>0.281257</td>\n",
       "      <td>0.281257</td>\n",
       "      <td>0.281257</td>\n",
       "      <td>0.000000</td>\n",
       "      <td>0.000000</td>\n",
       "    </tr>\n",
       "    <tr>\n",
       "      <th>LC4.tpm</th>\n",
       "      <td>116.614493</td>\n",
       "      <td>34847.67075</td>\n",
       "      <td>8.150475</td>\n",
       "      <td>5837.621215</td>\n",
       "      <td>0.626960</td>\n",
       "      <td>1502.822259</td>\n",
       "      <td>378.683623</td>\n",
       "      <td>8105.961195</td>\n",
       "      <td>0.626960</td>\n",
       "      <td>750.470690</td>\n",
       "      <td>...</td>\n",
       "      <td>0.000000</td>\n",
       "      <td>0.000000</td>\n",
       "      <td>0.000000</td>\n",
       "      <td>0.000000</td>\n",
       "      <td>0.000000</td>\n",
       "      <td>0.000000</td>\n",
       "      <td>0.000000</td>\n",
       "      <td>0.000000</td>\n",
       "      <td>0.000000</td>\n",
       "      <td>0.000000</td>\n",
       "    </tr>\n",
       "    <tr>\n",
       "      <th>LC5.tpm</th>\n",
       "      <td>91.876345</td>\n",
       "      <td>28593.96015</td>\n",
       "      <td>15.312724</td>\n",
       "      <td>10165.096690</td>\n",
       "      <td>0.000000</td>\n",
       "      <td>1686.951773</td>\n",
       "      <td>579.331395</td>\n",
       "      <td>5576.383696</td>\n",
       "      <td>0.000000</td>\n",
       "      <td>201.617534</td>\n",
       "      <td>...</td>\n",
       "      <td>2.552121</td>\n",
       "      <td>2.552121</td>\n",
       "      <td>0.000000</td>\n",
       "      <td>0.000000</td>\n",
       "      <td>0.000000</td>\n",
       "      <td>0.000000</td>\n",
       "      <td>0.000000</td>\n",
       "      <td>0.000000</td>\n",
       "      <td>0.000000</td>\n",
       "      <td>0.000000</td>\n",
       "    </tr>\n",
       "    <tr>\n",
       "      <th>LC6.tpm</th>\n",
       "      <td>81.566355</td>\n",
       "      <td>33601.82989</td>\n",
       "      <td>21.049382</td>\n",
       "      <td>11863.080790</td>\n",
       "      <td>0.000000</td>\n",
       "      <td>1524.326069</td>\n",
       "      <td>504.308107</td>\n",
       "      <td>6267.453446</td>\n",
       "      <td>3.508230</td>\n",
       "      <td>366.610067</td>\n",
       "      <td>...</td>\n",
       "      <td>0.000000</td>\n",
       "      <td>0.000000</td>\n",
       "      <td>2.631173</td>\n",
       "      <td>0.000000</td>\n",
       "      <td>0.000000</td>\n",
       "      <td>0.000000</td>\n",
       "      <td>0.000000</td>\n",
       "      <td>0.000000</td>\n",
       "      <td>0.000000</td>\n",
       "      <td>0.000000</td>\n",
       "    </tr>\n",
       "    <tr>\n",
       "      <th>NC1.tpm</th>\n",
       "      <td>57.658187</td>\n",
       "      <td>27294.59926</td>\n",
       "      <td>6.552067</td>\n",
       "      <td>4589.067484</td>\n",
       "      <td>0.000000</td>\n",
       "      <td>794.110478</td>\n",
       "      <td>517.613266</td>\n",
       "      <td>5409.386229</td>\n",
       "      <td>5.241653</td>\n",
       "      <td>681.414932</td>\n",
       "      <td>...</td>\n",
       "      <td>1.310413</td>\n",
       "      <td>0.000000</td>\n",
       "      <td>0.000000</td>\n",
       "      <td>0.000000</td>\n",
       "      <td>1.310413</td>\n",
       "      <td>0.000000</td>\n",
       "      <td>0.000000</td>\n",
       "      <td>0.000000</td>\n",
       "      <td>0.000000</td>\n",
       "      <td>1.310413</td>\n",
       "    </tr>\n",
       "    <tr>\n",
       "      <th>NC2.tpm</th>\n",
       "      <td>60.758241</td>\n",
       "      <td>23345.52549</td>\n",
       "      <td>5.523476</td>\n",
       "      <td>4267.437891</td>\n",
       "      <td>0.000000</td>\n",
       "      <td>1277.027751</td>\n",
       "      <td>407.632561</td>\n",
       "      <td>4757.922598</td>\n",
       "      <td>0.000000</td>\n",
       "      <td>269.545650</td>\n",
       "      <td>...</td>\n",
       "      <td>0.000000</td>\n",
       "      <td>0.000000</td>\n",
       "      <td>0.000000</td>\n",
       "      <td>0.000000</td>\n",
       "      <td>2.209391</td>\n",
       "      <td>4.418781</td>\n",
       "      <td>0.000000</td>\n",
       "      <td>0.000000</td>\n",
       "      <td>0.000000</td>\n",
       "      <td>1.104695</td>\n",
       "    </tr>\n",
       "    <tr>\n",
       "      <th>NC3.tpm</th>\n",
       "      <td>65.481015</td>\n",
       "      <td>27197.75136</td>\n",
       "      <td>2.931986</td>\n",
       "      <td>3570.181314</td>\n",
       "      <td>0.000000</td>\n",
       "      <td>1040.854941</td>\n",
       "      <td>397.446957</td>\n",
       "      <td>5409.187931</td>\n",
       "      <td>0.651552</td>\n",
       "      <td>430.350353</td>\n",
       "      <td>...</td>\n",
       "      <td>0.977329</td>\n",
       "      <td>0.325776</td>\n",
       "      <td>0.000000</td>\n",
       "      <td>0.000000</td>\n",
       "      <td>0.000000</td>\n",
       "      <td>0.325776</td>\n",
       "      <td>0.000000</td>\n",
       "      <td>0.325776</td>\n",
       "      <td>0.325776</td>\n",
       "      <td>0.000000</td>\n",
       "    </tr>\n",
       "    <tr>\n",
       "      <th>NC4.tpm</th>\n",
       "      <td>53.163034</td>\n",
       "      <td>25408.60776</td>\n",
       "      <td>9.968069</td>\n",
       "      <td>5724.994268</td>\n",
       "      <td>0.000000</td>\n",
       "      <td>1162.941378</td>\n",
       "      <td>348.882413</td>\n",
       "      <td>4113.489788</td>\n",
       "      <td>0.000000</td>\n",
       "      <td>624.665654</td>\n",
       "      <td>...</td>\n",
       "      <td>3.322690</td>\n",
       "      <td>0.000000</td>\n",
       "      <td>0.000000</td>\n",
       "      <td>3.322690</td>\n",
       "      <td>0.000000</td>\n",
       "      <td>0.000000</td>\n",
       "      <td>0.000000</td>\n",
       "      <td>0.000000</td>\n",
       "      <td>0.000000</td>\n",
       "      <td>0.000000</td>\n",
       "    </tr>\n",
       "    <tr>\n",
       "      <th>NC5.tpm</th>\n",
       "      <td>97.619309</td>\n",
       "      <td>24992.46983</td>\n",
       "      <td>2.568929</td>\n",
       "      <td>4310.663175</td>\n",
       "      <td>0.642232</td>\n",
       "      <td>1364.743631</td>\n",
       "      <td>474.609667</td>\n",
       "      <td>4970.235744</td>\n",
       "      <td>1.284465</td>\n",
       "      <td>880.500479</td>\n",
       "      <td>...</td>\n",
       "      <td>1.284465</td>\n",
       "      <td>0.642232</td>\n",
       "      <td>0.642232</td>\n",
       "      <td>0.000000</td>\n",
       "      <td>0.642232</td>\n",
       "      <td>0.642232</td>\n",
       "      <td>0.000000</td>\n",
       "      <td>0.000000</td>\n",
       "      <td>0.000000</td>\n",
       "      <td>0.000000</td>\n",
       "    </tr>\n",
       "  </tbody>\n",
       "</table>\n",
       "<p>10 rows × 1254 columns</p>\n",
       "</div>"
      ],
      "text/plain": [
       "                0            1          2             3         4     \\\n",
       "LC11.tpm   84.810449  35945.49515   2.019296   6601.079920  0.000000   \n",
       "LC3.tpm    81.564623  24061.56385   8.718977   4780.811951  0.000000   \n",
       "LC4.tpm   116.614493  34847.67075   8.150475   5837.621215  0.626960   \n",
       "LC5.tpm    91.876345  28593.96015  15.312724  10165.096690  0.000000   \n",
       "LC6.tpm    81.566355  33601.82989  21.049382  11863.080790  0.000000   \n",
       "NC1.tpm    57.658187  27294.59926   6.552067   4589.067484  0.000000   \n",
       "NC2.tpm    60.758241  23345.52549   5.523476   4267.437891  0.000000   \n",
       "NC3.tpm    65.481015  27197.75136   2.931986   3570.181314  0.000000   \n",
       "NC4.tpm    53.163034  25408.60776   9.968069   5724.994268  0.000000   \n",
       "NC5.tpm    97.619309  24992.46983   2.568929   4310.663175  0.642232   \n",
       "\n",
       "                 5           6            7         8           9     ...  \\\n",
       "LC11.tpm  1524.568779  438.187318  6187.124158  2.019296  448.283800  ...   \n",
       "LC3.tpm   1379.004647  408.385631  5804.307343  0.843772  542.545373  ...   \n",
       "LC4.tpm   1502.822259  378.683623  8105.961195  0.626960  750.470690  ...   \n",
       "LC5.tpm   1686.951773  579.331395  5576.383696  0.000000  201.617534  ...   \n",
       "LC6.tpm   1524.326069  504.308107  6267.453446  3.508230  366.610067  ...   \n",
       "NC1.tpm    794.110478  517.613266  5409.386229  5.241653  681.414932  ...   \n",
       "NC2.tpm   1277.027751  407.632561  4757.922598  0.000000  269.545650  ...   \n",
       "NC3.tpm   1040.854941  397.446957  5409.187931  0.651552  430.350353  ...   \n",
       "NC4.tpm   1162.941378  348.882413  4113.489788  0.000000  624.665654  ...   \n",
       "NC5.tpm   1364.743631  474.609667  4970.235744  1.284465  880.500479  ...   \n",
       "\n",
       "              1244      1245      1246      1247      1248      1249  \\\n",
       "LC11.tpm  0.000000  0.000000  0.000000  0.000000  0.000000  0.000000   \n",
       "LC3.tpm   0.281257  0.562515  1.687544  0.562515  0.281257  0.281257   \n",
       "LC4.tpm   0.000000  0.000000  0.000000  0.000000  0.000000  0.000000   \n",
       "LC5.tpm   2.552121  2.552121  0.000000  0.000000  0.000000  0.000000   \n",
       "LC6.tpm   0.000000  0.000000  2.631173  0.000000  0.000000  0.000000   \n",
       "NC1.tpm   1.310413  0.000000  0.000000  0.000000  1.310413  0.000000   \n",
       "NC2.tpm   0.000000  0.000000  0.000000  0.000000  2.209391  4.418781   \n",
       "NC3.tpm   0.977329  0.325776  0.000000  0.000000  0.000000  0.325776   \n",
       "NC4.tpm   3.322690  0.000000  0.000000  3.322690  0.000000  0.000000   \n",
       "NC5.tpm   1.284465  0.642232  0.642232  0.000000  0.642232  0.642232   \n",
       "\n",
       "              1250      1251      1252      1253  \n",
       "LC11.tpm  0.000000  2.019296  0.000000  0.000000  \n",
       "LC3.tpm   0.281257  0.281257  0.000000  0.000000  \n",
       "LC4.tpm   0.000000  0.000000  0.000000  0.000000  \n",
       "LC5.tpm   0.000000  0.000000  0.000000  0.000000  \n",
       "LC6.tpm   0.000000  0.000000  0.000000  0.000000  \n",
       "NC1.tpm   0.000000  0.000000  0.000000  1.310413  \n",
       "NC2.tpm   0.000000  0.000000  0.000000  1.104695  \n",
       "NC3.tpm   0.000000  0.325776  0.325776  0.000000  \n",
       "NC4.tpm   0.000000  0.000000  0.000000  0.000000  \n",
       "NC5.tpm   0.000000  0.000000  0.000000  0.000000  \n",
       "\n",
       "[10 rows x 1254 columns]"
      ]
     },
     "execution_count": 17,
     "metadata": {},
     "output_type": "execute_result"
    }
   ],
   "source": [
    "table = data.iloc[:, 11:].transpose()\n",
    "mirnas = data.iloc[:, 0]\n",
    "table"
   ]
  },
  {
   "cell_type": "code",
   "execution_count": 18,
   "metadata": {},
   "outputs": [],
   "source": [
    "controls = np.array([\"NC\" in c for c in table.index])\n",
    "sick = 1 - controls"
   ]
  },
  {
   "cell_type": "markdown",
   "metadata": {},
   "source": [
    "### Mean-variance-plot"
   ]
  },
  {
   "cell_type": "code",
   "execution_count": 19,
   "metadata": {},
   "outputs": [
    {
     "data": {
      "text/plain": [
       "0          79.111205\n",
       "1       28528.947349\n",
       "2           8.279538\n",
       "3        6171.003470\n",
       "4           0.126919\n",
       "            ...     \n",
       "1249        0.566805\n",
       "1250        0.028126\n",
       "1251        0.262633\n",
       "1252        0.032578\n",
       "1253        0.241511\n",
       "Length: 1254, dtype: float64"
      ]
     },
     "execution_count": 19,
     "metadata": {},
     "output_type": "execute_result"
    }
   ],
   "source": [
    "np.mean(table)"
   ]
  },
  {
   "cell_type": "code",
   "execution_count": 20,
   "metadata": {
    "tags": []
   },
   "outputs": [],
   "source": [
    "def get_means_and_variances(table):\n",
    "    return np.mean(table), np.var(table, ddof=1)"
   ]
  },
  {
   "cell_type": "code",
   "execution_count": 21,
   "metadata": {
    "tags": []
   },
   "outputs": [],
   "source": [
    "def mean_variance_plot(table):\n",
    "    means, variances = get_means_and_variances(table)\n",
    "    plt.scatter(means, variances)\n",
    "    plt.xlabel(\"mean\")\n",
    "    plt.ylabel(\"variance\")\n",
    "    plt.plot()"
   ]
  },
  {
   "cell_type": "code",
   "execution_count": 22,
   "metadata": {},
   "outputs": [
    {
     "data": {
      "image/png": "[encoded data removed]",
      "text/plain": [
       "<Figure size 432x288 with 1 Axes>"
      ]
     },
     "metadata": {
      "needs_background": "light"
     },
     "output_type": "display_data"
    }
   ],
   "source": [
    "mean_variance_plot(table)"
   ]
  },
  {
   "cell_type": "markdown",
   "metadata": {},
   "source": [
    "### Log transformation"
   ]
  },
  {
   "cell_type": "code",
   "execution_count": 23,
   "metadata": {},
   "outputs": [],
   "source": [
    "log_table = np.log2(table + 1)"
   ]
  },
  {
   "cell_type": "code",
   "execution_count": 24,
   "metadata": {},
   "outputs": [
    {
     "data": {
      "image/png": "[encoded data removed]",
      "text/plain": [
       "<Figure size 432x288 with 1 Axes>"
      ]
     },
     "metadata": {
      "needs_background": "light"
     },
     "output_type": "display_data"
    }
   ],
   "source": [
    "mean_variance_plot(log_table.loc[:, log_table.mean() < 2])"
   ]
  },
  {
   "cell_type": "code",
   "execution_count": 25,
   "metadata": {},
   "outputs": [],
   "source": [
    "mask = log_table.mean() < 0.75\n",
    "log_table = log_table.loc[:, mask]\n",
    "mirnas = mirnas[mask]"
   ]
  },
  {
   "cell_type": "markdown",
   "metadata": {},
   "source": [
    "### Standardizing"
   ]
  },
  {
   "cell_type": "code",
   "execution_count": 26,
   "metadata": {
    "tags": []
   },
   "outputs": [],
   "source": [
    "norm_log_table = log_table - np.mean(log_table)"
   ]
  },
  {
   "cell_type": "code",
   "execution_count": 27,
   "metadata": {},
   "outputs": [],
   "source": [
    "norm_log_table /= np.sqrt(np.mean(np.var(norm_log_table, ddof=1)))"
   ]
  },
  {
   "cell_type": "code",
   "execution_count": 28,
   "metadata": {},
   "outputs": [
    {
     "data": {
      "image/png": "[encoded data removed]",
      "text/plain": [
       "<Figure size 432x288 with 1 Axes>"
      ]
     },
     "metadata": {
      "needs_background": "light"
     },
     "output_type": "display_data"
    }
   ],
   "source": [
    "mean_variance_plot(norm_log_table)"
   ]
  },
  {
   "cell_type": "code",
   "execution_count": 29,
   "metadata": {},
   "outputs": [
    {
     "data": {
      "text/plain": [
       "0"
      ]
     },
     "execution_count": 29,
     "metadata": {},
     "output_type": "execute_result"
    }
   ],
   "source": [
    "norm_log_table.isna().sum().sum()"
   ]
  },
  {
   "cell_type": "markdown",
   "metadata": {},
   "source": [
    "### PCA"
   ]
  },
  {
   "cell_type": "code",
   "execution_count": 30,
   "metadata": {
    "tags": []
   },
   "outputs": [],
   "source": [
    "pca = decomposition.PCA(n_components=10)"
   ]
  },
  {
   "cell_type": "code",
   "execution_count": 31,
   "metadata": {},
   "outputs": [
    {
     "data": {
      "text/plain": [
       "PCA(n_components=10)"
      ]
     },
     "execution_count": 31,
     "metadata": {},
     "output_type": "execute_result"
    }
   ],
   "source": [
    "pca.fit(norm_log_table)"
   ]
  },
  {
   "cell_type": "code",
   "execution_count": 32,
   "metadata": {},
   "outputs": [
    {
     "data": {
      "text/plain": [
       "array([1.93587850e-01, 1.47469445e-01, 1.41358345e-01, 1.20323975e-01,\n",
       "       1.14692944e-01, 1.03216882e-01, 7.71554485e-02, 5.24107200e-02,\n",
       "       4.97843904e-02, 8.89808254e-33])"
      ]
     },
     "execution_count": 32,
     "metadata": {},
     "output_type": "execute_result"
    }
   ],
   "source": [
    "pca.explained_variance_ratio_"
   ]
  },
  {
   "cell_type": "code",
   "execution_count": 33,
   "metadata": {
    "tags": []
   },
   "outputs": [],
   "source": [
    "components = pca.transform(norm_log_table)"
   ]
  },
  {
   "cell_type": "code",
   "execution_count": 34,
   "metadata": {},
   "outputs": [
    {
     "data": {
      "text/plain": [
       "array([[-9.25371889e+00, -1.61180109e+01,  1.00083239e+01,\n",
       "        -8.58765613e+00, -1.29133197e+01, -9.27763618e-01,\n",
       "         1.96767163e+00, -5.79492713e-01,  3.11841908e-01,\n",
       "         1.66533454e-15],\n",
       "       [-2.71297767e+00,  1.82170618e+00, -2.25063871e+00,\n",
       "         1.56561320e+00,  4.05783210e+00, -1.18646422e+00,\n",
       "         3.88716325e+00, -3.09746808e+00,  1.47893926e+01,\n",
       "        -1.11022302e-16],\n",
       "       [-3.19450175e+00,  2.85112442e+00, -1.19076486e+00,\n",
       "        -1.10151308e+00,  7.34785661e+00, -3.53491632e+00,\n",
       "         1.54715260e+01, -4.20462462e+00, -6.64451284e+00,\n",
       "        -3.16413562e-15],\n",
       "       [ 1.06050573e+01,  1.21799133e+01,  2.14148480e+01,\n",
       "         3.57144551e+00, -7.47222707e-01,  2.67285366e+00,\n",
       "        -1.54888971e+00,  1.66556528e-01, -4.14090184e-01,\n",
       "        -4.74204009e-14],\n",
       "       [-8.51112596e+00,  1.79259046e+01, -1.02861454e+01,\n",
       "        -6.69983559e+00, -1.18554035e+01,  1.71810132e+00,\n",
       "        -2.35760355e+00,  8.73761748e-01, -1.24012239e+00,\n",
       "         7.39686090e-15],\n",
       "       [-2.51073229e+00, -3.15060695e+00, -3.51158361e+00,\n",
       "         1.76459572e+01, -4.42969857e+00, -1.18350667e+01,\n",
       "        -5.62257169e+00, -3.32212341e+00, -2.47372096e+00,\n",
       "         1.13858575e-14],\n",
       "       [-1.52234307e+00, -6.23023107e+00, -5.05439710e+00,\n",
       "         9.66390357e+00,  6.95668646e-01,  1.96707528e+01,\n",
       "         2.11186111e-01,  6.23119518e-01, -1.62791263e+00,\n",
       "         9.99200722e-16],\n",
       "       [-2.99258679e+00, -1.91325744e+00, -7.72900577e-01,\n",
       "         1.15801864e-01,  6.50969511e+00, -4.83779153e+00,\n",
       "         2.71392074e-01,  1.51403036e+01,  8.00591723e-03,\n",
       "         1.45439216e-14],\n",
       "       [ 2.70450584e+01, -5.47204204e+00, -9.08514206e+00,\n",
       "        -6.66869181e+00, -2.64067542e+00, -1.85781302e+00,\n",
       "        -7.00537233e-01, -6.63083947e-01, -3.49379919e-01,\n",
       "         1.29896094e-14],\n",
       "       [-6.95212935e+00, -1.89450012e+00,  7.28400427e-01,\n",
       "        -9.50502471e+00,  1.39752674e+01,  1.18107685e-01,\n",
       "        -1.15793369e+01, -4.93694865e+00, -2.35950151e+00,\n",
       "        -1.87783816e-15]])"
      ]
     },
     "execution_count": 34,
     "metadata": {},
     "output_type": "execute_result"
    }
   ],
   "source": [
    "components"
   ]
  },
  {
   "cell_type": "code",
   "execution_count": 35,
   "metadata": {},
   "outputs": [
    {
     "data": {
      "image/png": "[encoded data removed]",
      "text/plain": [
       "<Figure size 576x576 with 1 Axes>"
      ]
     },
     "metadata": {
      "needs_background": "light"
     },
     "output_type": "display_data"
    }
   ],
   "source": [
    "fig = plt.figure(figsize = (8,8))\n",
    "ax = fig.add_subplot(1,1,1)\n",
    "\n",
    "ax.set_xlabel('Principal Component 1', fontsize = 15)\n",
    "ax.set_ylabel('Principal Component 2', fontsize = 15)\n",
    "ax.set_title('2 component PCA', fontsize = 20)\n",
    "targets = ['Cancer', 'Healthy']\n",
    "colors = ['r', 'g']\n",
    "ax.scatter(components[controls == False, 0], components[controls == False, 1], c = 'r', s = 10)\n",
    "ax.scatter(components[controls == True, 0], components[controls == True, 1], c = 'g', s = 10)\n",
    "ax.legend(targets)\n",
    "ax.grid()"
   ]
  },
  {
   "cell_type": "code",
   "execution_count": 36,
   "metadata": {
    "tags": []
   },
   "outputs": [],
   "source": [
    "components2 = components[components[:,0] < 20, :]\n",
    "controls2 = controls[components[:,0] < 20]"
   ]
  },
  {
   "cell_type": "code",
   "execution_count": 37,
   "metadata": {},
   "outputs": [
    {
     "data": {
      "image/png": "[encoded data removed]",
      "text/plain": [
       "<Figure size 576x576 with 1 Axes>"
      ]
     },
     "metadata": {
      "needs_background": "light"
     },
     "output_type": "display_data"
    }
   ],
   "source": [
    "fig = plt.figure(figsize = (8,8))\n",
    "ax = fig.add_subplot(1,1,1)\n",
    "\n",
    "ax.set_xlabel('Principal Component 1', fontsize = 15)\n",
    "ax.set_ylabel('Principal Component 2', fontsize = 15)\n",
    "ax.set_title('2 component PCA', fontsize = 20)\n",
    "targets = ['Cancer', 'Healthy']\n",
    "colors = ['r', 'g']\n",
    "ax.scatter(components2[controls2 == False, 0], components2[controls2 == False, 1], c = 'r', s = 10)\n",
    "ax.scatter(components2[controls2 == True, 0], components2[controls2 == True, 1], c = 'g', s = 10)\n",
    "ax.legend(targets)\n",
    "ax.grid()"
   ]
  },
  {
   "cell_type": "markdown",
   "metadata": {},
   "source": [
    "### Logistic Regression"
   ]
  },
  {
   "cell_type": "code",
   "execution_count": 38,
   "metadata": {},
   "outputs": [],
   "source": [
    "X_train, X_test, y_train, y_test = train_test_split(norm_log_table, controls, test_size=0.33, random_state=42)"
   ]
  },
  {
   "cell_type": "code",
   "execution_count": 39,
   "metadata": {},
   "outputs": [
    {
     "data": {
      "text/plain": [
       "LogisticRegression(max_iter=2000)"
      ]
     },
     "execution_count": 39,
     "metadata": {},
     "output_type": "execute_result"
    }
   ],
   "source": [
    "model = LogisticRegression(max_iter=2000)\n",
    "model.fit(X_train, y_train)"
   ]
  },
  {
   "cell_type": "code",
   "execution_count": 40,
   "metadata": {},
   "outputs": [
    {
     "name": "stderr",
     "output_type": "stream",
     "text": [
      "C:\\Users\\olefr\\AppData\\Local\\Programs\\Python\\Python310\\lib\\site-packages\\sklearn\\utils\\deprecation.py:87: FutureWarning: Function plot_roc_curve is deprecated; Function :func:`plot_roc_curve` is deprecated in 1.0 and will be removed in 1.2. Use one of the class methods: :meth:`sklearn.metric.RocCurveDisplay.from_predictions` or :meth:`sklearn.metric.RocCurveDisplay.from_estimator`.\n",
      "  warnings.warn(msg, category=FutureWarning)\n"
     ]
    },
    {
     "data": {
      "text/plain": [
       "<sklearn.metrics._plot.roc_curve.RocCurveDisplay at 0x19fccbcc940>"
      ]
     },
     "execution_count": 40,
     "metadata": {},
     "output_type": "execute_result"
    },
    {
     "data": {
      "image/png": "[encoded data removed]",
      "text/plain": [
       "<Figure size 432x288 with 1 Axes>"
      ]
     },
     "metadata": {
      "needs_background": "light"
     },
     "output_type": "display_data"
    }
   ],
   "source": [
    "plot_roc_curve(model, X_test, y_test)"
   ]
  },
  {
   "cell_type": "markdown",
   "metadata": {
    "jupyter": {
     "outputs_hidden": true
    },
    "tags": []
   },
   "source": [
    "### XGBoost"
   ]
  },
  {
   "cell_type": "code",
   "execution_count": 41,
   "metadata": {},
   "outputs": [],
   "source": [
    "X_train, X_test, y_train, y_test = train_test_split(norm_log_table, controls, test_size=0.33, random_state=42)"
   ]
  },
  {
   "cell_type": "code",
   "execution_count": 42,
   "metadata": {},
   "outputs": [
    {
     "name": "stdout",
     "output_type": "stream",
     "text": [
      "[20:49:52] WARNING: C:/Users/Administrator/workspace/xgboost-win64_release_1.5.1/src/learner.cc:1115: Starting in XGBoost 1.3.0, the default evaluation metric used with the objective 'binary:logistic' was changed from 'error' to 'logloss'. Explicitly set eval_metric if you'd like to restore the old behavior.\n"
     ]
    },
    {
     "data": {
      "text/plain": [
       "XGBClassifier(base_score=0.5, booster='gbtree', colsample_bylevel=1,\n",
       "              colsample_bynode=1, colsample_bytree=1, enable_categorical=False,\n",
       "              gamma=0, gpu_id=-1, importance_type=None,\n",
       "              interaction_constraints='', learning_rate=0.300000012,\n",
       "              max_delta_step=0, max_depth=6, min_child_weight=1, missing=nan,\n",
       "              monotone_constraints='()', n_estimators=100, n_jobs=16,\n",
       "              num_parallel_tree=1, predictor='auto', random_state=0,\n",
       "              reg_alpha=0, reg_lambda=1, scale_pos_weight=1, subsample=1,\n",
       "              tree_method='exact', use_label_encoder=False,\n",
       "              validate_parameters=1, verbosity=None)"
      ]
     },
     "execution_count": 42,
     "metadata": {},
     "output_type": "execute_result"
    }
   ],
   "source": [
    "model = XGBClassifier(use_label_encoder=False)\n",
    "model.fit(X_train, y_train)"
   ]
  },
  {
   "cell_type": "code",
   "execution_count": 43,
   "metadata": {},
   "outputs": [
    {
     "name": "stderr",
     "output_type": "stream",
     "text": [
      "C:\\Users\\olefr\\AppData\\Local\\Programs\\Python\\Python310\\lib\\site-packages\\sklearn\\utils\\deprecation.py:87: FutureWarning: Function plot_roc_curve is deprecated; Function :func:`plot_roc_curve` is deprecated in 1.0 and will be removed in 1.2. Use one of the class methods: :meth:`sklearn.metric.RocCurveDisplay.from_predictions` or :meth:`sklearn.metric.RocCurveDisplay.from_estimator`.\n",
      "  warnings.warn(msg, category=FutureWarning)\n"
     ]
    },
    {
     "data": {
      "text/plain": [
       "<sklearn.metrics._plot.roc_curve.RocCurveDisplay at 0x19fcca50e20>"
      ]
     },
     "execution_count": 43,
     "metadata": {},
     "output_type": "execute_result"
    },
    {
     "data": {
      "image/png": "[encoded data removed]",
      "text/plain": [
       "<Figure size 432x288 with 1 Axes>"
      ]
     },
     "metadata": {
      "needs_background": "light"
     },
     "output_type": "display_data"
    }
   ],
   "source": [
    "plot_roc_curve(model, X_test, y_test)"
   ]
  },
  {
   "cell_type": "markdown",
   "metadata": {},
   "source": [
    "### Exporting data"
   ]
  },
  {
   "cell_type": "code",
   "execution_count": 44,
   "metadata": {},
   "outputs": [
    {
     "data": {
      "text/plain": [
       "4       hsa-let-7c-3p\n",
       "13      hsa-let-7g-3p\n",
       "19     hsa-miR-101-5p\n",
       "32       hsa-miR-1179\n",
       "34       hsa-miR-1183\n",
       "37    hsa-miR-1185-5p\n",
       "38       hsa-miR-1193\n",
       "39       hsa-miR-1197\n",
       "40     hsa-miR-122-3p\n",
       "41    hsa-miR-1224-5p\n",
       "Name: miRNA_ID, dtype: object"
      ]
     },
     "execution_count": 44,
     "metadata": {},
     "output_type": "execute_result"
    }
   ],
   "source": [
    "mirnas[:10]"
   ]
  },
  {
   "cell_type": "code",
   "execution_count": 45,
   "metadata": {},
   "outputs": [],
   "source": [
    "from Scripts import converters"
   ]
  },
  {
   "cell_type": "code",
   "execution_count": 46,
   "metadata": {},
   "outputs": [],
   "source": [
    "sequences = converters.canonical_to_seq(mirnas, True)"
   ]
  },
  {
   "cell_type": "code",
   "execution_count": 47,
   "metadata": {},
   "outputs": [],
   "source": [
    "sequences = np.array(sequences)"
   ]
  },
  {
   "cell_type": "code",
   "execution_count": 48,
   "metadata": {},
   "outputs": [
    {
     "data": {
      "text/plain": [
       "1190    novel_210\n",
       "1191    novel_217\n",
       "1192    novel_218\n",
       "1193    novel_232\n",
       "1194    novel_240\n",
       "1195    novel_241\n",
       "1196    novel_246\n",
       "1197    novel_259\n",
       "1198    novel_261\n",
       "1199    novel_271\n",
       "1200    novel_272\n",
       "1201    novel_273\n",
       "1202    novel_274\n",
       "1203    novel_290\n",
       "1204    novel_292\n",
       "1205    novel_299\n",
       "1207    novel_321\n",
       "1209    novel_357\n",
       "1210    novel_383\n",
       "1211    novel_386\n",
       "1214    novel_408\n",
       "1215    novel_421\n",
       "1216    novel_422\n",
       "1217    novel_433\n",
       "1218    novel_434\n",
       "1219    novel_441\n",
       "1220    novel_451\n",
       "1221    novel_453\n",
       "1222    novel_456\n",
       "1223    novel_458\n",
       "1224    novel_479\n",
       "1225    novel_490\n",
       "1226    novel_491\n",
       "1227    novel_503\n",
       "1230    novel_521\n",
       "1231    novel_522\n",
       "1232    novel_528\n",
       "1235    novel_545\n",
       "1236    novel_557\n",
       "1238    novel_595\n",
       "1239    novel_603\n",
       "1240    novel_615\n",
       "1241    novel_620\n",
       "1242    novel_622\n",
       "1243    novel_635\n",
       "1245    novel_649\n",
       "1246    novel_650\n",
       "1247    novel_653\n",
       "1248    novel_659\n",
       "1249    novel_670\n",
       "1250    novel_672\n",
       "1251    novel_677\n",
       "1252    novel_692\n",
       "1253    novel_699\n",
       "Name: miRNA_ID, dtype: object"
      ]
     },
     "execution_count": 48,
     "metadata": {},
     "output_type": "execute_result"
    }
   ],
   "source": [
    "mirnas[sequences == None]"
   ]
  },
  {
   "cell_type": "code",
   "execution_count": 49,
   "metadata": {},
   "outputs": [],
   "source": [
    "mask = sequences != None\n",
    "sequences = sequences[mask]\n",
    "norm_log_table = norm_log_table.loc[:, mask]"
   ]
  },
  {
   "cell_type": "code",
   "execution_count": 50,
   "metadata": {},
   "outputs": [
    {
     "data": {
      "text/html": [
       "<div>\n",
       "<style scoped>\n",
       "    .dataframe tbody tr th:only-of-type {\n",
       "        vertical-align: middle;\n",
       "    }\n",
       "\n",
       "    .dataframe tbody tr th {\n",
       "        vertical-align: top;\n",
       "    }\n",
       "\n",
       "    .dataframe thead th {\n",
       "        text-align: right;\n",
       "    }\n",
       "</style>\n",
       "<table border=\"1\" class=\"dataframe\">\n",
       "  <thead>\n",
       "    <tr style=\"text-align: right;\">\n",
       "      <th></th>\n",
       "      <th>CUGUACAACCUUCUAGCUUUCC</th>\n",
       "      <th>CUGUACAGGCCACUGCCUUGC</th>\n",
       "      <th>CAGUUAUCACAGUGCUGAUGCU</th>\n",
       "      <th>AAGCAUUCUUUCAUUGGUUGG</th>\n",
       "      <th>CACUGUAGGUGAUGGUGAGAGUGGGCA</th>\n",
       "      <th>AGAGGAUACCCUUUGUAUGUU</th>\n",
       "      <th>GGGAUGGUAGACCGGUGACGUGC</th>\n",
       "      <th>UAGGACACAUGGUCUACUUCU</th>\n",
       "      <th>AACGCCAUUAUCACACUAAAUA</th>\n",
       "      <th>GUGAGGACUCGGGAGGUGG</th>\n",
       "      <th>...</th>\n",
       "      <th>AAUGGCUGUCCGUAGUAUGGUC</th>\n",
       "      <th>UGCAACGAACCUGAGCCACUGA</th>\n",
       "      <th>CACUGUGUCCUUUCUGCGUAG</th>\n",
       "      <th>UGUGCGCAGGGAGACCUCUCCC</th>\n",
       "      <th>AUCCGCGCUCUGACUCUCUGCC</th>\n",
       "      <th>AAGGCAGGGCCCCCGCUCCCC</th>\n",
       "      <th>CUGACUGUUGCCGUCCUCCAG</th>\n",
       "      <th>AAUCAUGUGCAGUGCCAAUAUG</th>\n",
       "      <th>CAAGCUCGCUUCUAUGGGUCUG</th>\n",
       "      <th>cancer</th>\n",
       "    </tr>\n",
       "  </thead>\n",
       "  <tbody>\n",
       "    <tr>\n",
       "      <th>LC11.tpm</th>\n",
       "      <td>-0.286275</td>\n",
       "      <td>-1.062877</td>\n",
       "      <td>-0.583200</td>\n",
       "      <td>-0.557371</td>\n",
       "      <td>-0.369229</td>\n",
       "      <td>-0.295109</td>\n",
       "      <td>-0.255625</td>\n",
       "      <td>-1.344051</td>\n",
       "      <td>-0.749211</td>\n",
       "      <td>-0.661839</td>\n",
       "      <td>...</td>\n",
       "      <td>-0.226643</td>\n",
       "      <td>-0.829249</td>\n",
       "      <td>-1.088884</td>\n",
       "      <td>-1.489055</td>\n",
       "      <td>-0.410073</td>\n",
       "      <td>-1.018511</td>\n",
       "      <td>2.233208</td>\n",
       "      <td>-0.737021</td>\n",
       "      <td>-0.141777</td>\n",
       "      <td>1</td>\n",
       "    </tr>\n",
       "    <tr>\n",
       "      <th>LC3.tpm</th>\n",
       "      <td>-0.286275</td>\n",
       "      <td>1.132858</td>\n",
       "      <td>0.138749</td>\n",
       "      <td>0.742666</td>\n",
       "      <td>-0.369229</td>\n",
       "      <td>-0.295109</td>\n",
       "      <td>0.466325</td>\n",
       "      <td>-0.622101</td>\n",
       "      <td>-0.749211</td>\n",
       "      <td>0.638197</td>\n",
       "      <td>...</td>\n",
       "      <td>-0.226643</td>\n",
       "      <td>-0.829249</td>\n",
       "      <td>-1.088884</td>\n",
       "      <td>1.390763</td>\n",
       "      <td>-0.410073</td>\n",
       "      <td>0.763667</td>\n",
       "      <td>-0.263715</td>\n",
       "      <td>-0.737021</td>\n",
       "      <td>-0.141777</td>\n",
       "      <td>1</td>\n",
       "    </tr>\n",
       "    <tr>\n",
       "      <th>LC4.tpm</th>\n",
       "      <td>1.131493</td>\n",
       "      <td>-1.062877</td>\n",
       "      <td>0.834567</td>\n",
       "      <td>-0.557371</td>\n",
       "      <td>-0.369229</td>\n",
       "      <td>-0.295109</td>\n",
       "      <td>-0.255625</td>\n",
       "      <td>2.311694</td>\n",
       "      <td>-0.749211</td>\n",
       "      <td>1.705425</td>\n",
       "      <td>...</td>\n",
       "      <td>-0.226643</td>\n",
       "      <td>1.538015</td>\n",
       "      <td>-1.088884</td>\n",
       "      <td>-0.071287</td>\n",
       "      <td>-0.410073</td>\n",
       "      <td>1.348752</td>\n",
       "      <td>-0.985664</td>\n",
       "      <td>-0.737021</td>\n",
       "      <td>1.275991</td>\n",
       "      <td>1</td>\n",
       "    </tr>\n",
       "    <tr>\n",
       "      <th>LC5.tpm</th>\n",
       "      <td>-0.286275</td>\n",
       "      <td>2.629410</td>\n",
       "      <td>3.109087</td>\n",
       "      <td>-0.557371</td>\n",
       "      <td>3.323058</td>\n",
       "      <td>-0.295109</td>\n",
       "      <td>-0.255625</td>\n",
       "      <td>-1.344051</td>\n",
       "      <td>-0.749211</td>\n",
       "      <td>-0.661839</td>\n",
       "      <td>...</td>\n",
       "      <td>-0.226643</td>\n",
       "      <td>-0.829249</td>\n",
       "      <td>-1.088884</td>\n",
       "      <td>2.203232</td>\n",
       "      <td>-0.410073</td>\n",
       "      <td>-1.018511</td>\n",
       "      <td>-0.985664</td>\n",
       "      <td>-0.737021</td>\n",
       "      <td>-0.141777</td>\n",
       "      <td>1</td>\n",
       "    </tr>\n",
       "    <tr>\n",
       "      <th>LC6.tpm</th>\n",
       "      <td>-0.286275</td>\n",
       "      <td>0.771419</td>\n",
       "      <td>-0.583200</td>\n",
       "      <td>1.276926</td>\n",
       "      <td>-0.369229</td>\n",
       "      <td>2.655983</td>\n",
       "      <td>1.578672</td>\n",
       "      <td>0.490246</td>\n",
       "      <td>-0.749211</td>\n",
       "      <td>2.289253</td>\n",
       "      <td>...</td>\n",
       "      <td>-0.226643</td>\n",
       "      <td>-0.829249</td>\n",
       "      <td>-1.088884</td>\n",
       "      <td>1.462038</td>\n",
       "      <td>1.424224</td>\n",
       "      <td>-1.018511</td>\n",
       "      <td>-0.985664</td>\n",
       "      <td>-0.737021</td>\n",
       "      <td>-0.141777</td>\n",
       "      <td>1</td>\n",
       "    </tr>\n",
       "  </tbody>\n",
       "</table>\n",
       "<p>5 rows × 570 columns</p>\n",
       "</div>"
      ],
      "text/plain": [
       "          CUGUACAACCUUCUAGCUUUCC  CUGUACAGGCCACUGCCUUGC  \\\n",
       "LC11.tpm               -0.286275              -1.062877   \n",
       "LC3.tpm                -0.286275               1.132858   \n",
       "LC4.tpm                 1.131493              -1.062877   \n",
       "LC5.tpm                -0.286275               2.629410   \n",
       "LC6.tpm                -0.286275               0.771419   \n",
       "\n",
       "          CAGUUAUCACAGUGCUGAUGCU  AAGCAUUCUUUCAUUGGUUGG  \\\n",
       "LC11.tpm               -0.583200              -0.557371   \n",
       "LC3.tpm                 0.138749               0.742666   \n",
       "LC4.tpm                 0.834567              -0.557371   \n",
       "LC5.tpm                 3.109087              -0.557371   \n",
       "LC6.tpm                -0.583200               1.276926   \n",
       "\n",
       "          CACUGUAGGUGAUGGUGAGAGUGGGCA  AGAGGAUACCCUUUGUAUGUU  \\\n",
       "LC11.tpm                    -0.369229              -0.295109   \n",
       "LC3.tpm                     -0.369229              -0.295109   \n",
       "LC4.tpm                     -0.369229              -0.295109   \n",
       "LC5.tpm                      3.323058              -0.295109   \n",
       "LC6.tpm                     -0.369229               2.655983   \n",
       "\n",
       "          GGGAUGGUAGACCGGUGACGUGC  UAGGACACAUGGUCUACUUCU  \\\n",
       "LC11.tpm                -0.255625              -1.344051   \n",
       "LC3.tpm                  0.466325              -0.622101   \n",
       "LC4.tpm                 -0.255625               2.311694   \n",
       "LC5.tpm                 -0.255625              -1.344051   \n",
       "LC6.tpm                  1.578672               0.490246   \n",
       "\n",
       "          AACGCCAUUAUCACACUAAAUA  GUGAGGACUCGGGAGGUGG  ...  \\\n",
       "LC11.tpm               -0.749211            -0.661839  ...   \n",
       "LC3.tpm                -0.749211             0.638197  ...   \n",
       "LC4.tpm                -0.749211             1.705425  ...   \n",
       "LC5.tpm                -0.749211            -0.661839  ...   \n",
       "LC6.tpm                -0.749211             2.289253  ...   \n",
       "\n",
       "          AAUGGCUGUCCGUAGUAUGGUC  UGCAACGAACCUGAGCCACUGA  \\\n",
       "LC11.tpm               -0.226643               -0.829249   \n",
       "LC3.tpm                -0.226643               -0.829249   \n",
       "LC4.tpm                -0.226643                1.538015   \n",
       "LC5.tpm                -0.226643               -0.829249   \n",
       "LC6.tpm                -0.226643               -0.829249   \n",
       "\n",
       "          CACUGUGUCCUUUCUGCGUAG  UGUGCGCAGGGAGACCUCUCCC  \\\n",
       "LC11.tpm              -1.088884               -1.489055   \n",
       "LC3.tpm               -1.088884                1.390763   \n",
       "LC4.tpm               -1.088884               -0.071287   \n",
       "LC5.tpm               -1.088884                2.203232   \n",
       "LC6.tpm               -1.088884                1.462038   \n",
       "\n",
       "          AUCCGCGCUCUGACUCUCUGCC  AAGGCAGGGCCCCCGCUCCCC  \\\n",
       "LC11.tpm               -0.410073              -1.018511   \n",
       "LC3.tpm                -0.410073               0.763667   \n",
       "LC4.tpm                -0.410073               1.348752   \n",
       "LC5.tpm                -0.410073              -1.018511   \n",
       "LC6.tpm                 1.424224              -1.018511   \n",
       "\n",
       "          CUGACUGUUGCCGUCCUCCAG  AAUCAUGUGCAGUGCCAAUAUG  \\\n",
       "LC11.tpm               2.233208               -0.737021   \n",
       "LC3.tpm               -0.263715               -0.737021   \n",
       "LC4.tpm               -0.985664               -0.737021   \n",
       "LC5.tpm               -0.985664               -0.737021   \n",
       "LC6.tpm               -0.985664               -0.737021   \n",
       "\n",
       "          CAAGCUCGCUUCUAUGGGUCUG  cancer  \n",
       "LC11.tpm               -0.141777       1  \n",
       "LC3.tpm                -0.141777       1  \n",
       "LC4.tpm                 1.275991       1  \n",
       "LC5.tpm                -0.141777       1  \n",
       "LC6.tpm                -0.141777       1  \n",
       "\n",
       "[5 rows x 570 columns]"
      ]
     },
     "execution_count": 50,
     "metadata": {},
     "output_type": "execute_result"
    }
   ],
   "source": [
    "norm_log_table.columns = sequences\n",
    "norm_log_table[\"cancer\"] = sick\n",
    "norm_log_table.head()"
   ]
  },
  {
   "cell_type": "code",
   "execution_count": 51,
   "metadata": {},
   "outputs": [],
   "source": [
    "norm_log_table.to_csv(\"../TransformedData/Yao2019.csv\", index=False)"
   ]
  },
  {
   "cell_type": "code",
   "execution_count": null,
   "metadata": {},
   "outputs": [],
   "source": []
  }
 ],
 "metadata": {
  "kernelspec": {
   "display_name": "Python 3 (ipykernel)",
   "language": "python",
   "name": "python3"
  },
  "language_info": {
   "codemirror_mode": {
    "name": "ipython",
    "version": 3
   },
   "file_extension": ".py",
   "mimetype": "text/x-python",
   "name": "python",
   "nbconvert_exporter": "python",
   "pygments_lexer": "ipython3",
   "version": "3.10.1"
  }
 },
 "nbformat": 4,
 "nbformat_minor": 4
}
