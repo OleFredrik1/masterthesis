{
 "cells": [
  {
   "cell_type": "code",
   "execution_count": 1,
   "metadata": {
    "tags": []
   },
   "outputs": [],
   "source": [
    "%matplotlib inline\n",
    "import GEOparse\n",
    "import matplotlib.pyplot as plt\n",
    "import pandas as pd\n",
    "import numpy as np\n",
    "from sklearn import decomposition\n",
    "from sklearn.feature_selection import f_classif\n",
    "from sklearn.linear_model import LinearRegression, LogisticRegression\n",
    "from sklearn.metrics import explained_variance_score, plot_roc_curve\n",
    "import statsmodels.api as sm\n",
    "from scipy.stats import ttest_ind\n",
    "from xgboost import XGBClassifier\n",
    "from sklearn.model_selection import train_test_split\n",
    "import matplotlib\n",
    "from xgboost import XGBClassifier\n",
    "from sklearn.model_selection import train_test_split\n",
    "\n",
    "geo = \"GSE111803\""
   ]
  },
  {
   "cell_type": "code",
   "execution_count": 2,
   "metadata": {},
   "outputs": [],
   "source": [
    "data = pd.read_csv(\"../Dataset/Yao2019/data.txt\", sep=\"\\t\")"
   ]
  },
  {
   "cell_type": "code",
   "execution_count": 3,
   "metadata": {},
   "outputs": [
    {
     "data": {
      "text/plain": [
       "Index(['miRNA_ID', 'LC11.readcount', 'LC3.readcount', 'LC4.readcount',\n",
       "       'LC5.readcount', 'LC6.readcount', 'NC1.readcount', 'NC2.readcount',\n",
       "       'NC3.readcount', 'NC4.readcount', 'NC5.readcount', 'LC11.tpm',\n",
       "       'LC3.tpm', 'LC4.tpm', 'LC5.tpm', 'LC6.tpm', 'NC1.tpm', 'NC2.tpm',\n",
       "       'NC3.tpm', 'NC4.tpm', 'NC5.tpm'],\n",
       "      dtype='object')"
      ]
     },
     "execution_count": 3,
     "metadata": {},
     "output_type": "execute_result"
    }
   ],
   "source": [
    "data.columns"
   ]
  },
  {
   "cell_type": "code",
   "execution_count": 4,
   "metadata": {},
   "outputs": [
    {
     "data": {
      "text/html": [
       "<div>\n",
       "<style scoped>\n",
       "    .dataframe tbody tr th:only-of-type {\n",
       "        vertical-align: middle;\n",
       "    }\n",
       "\n",
       "    .dataframe tbody tr th {\n",
       "        vertical-align: top;\n",
       "    }\n",
       "\n",
       "    .dataframe thead th {\n",
       "        text-align: right;\n",
       "    }\n",
       "</style>\n",
       "<table border=\"1\" class=\"dataframe\">\n",
       "  <thead>\n",
       "    <tr style=\"text-align: right;\">\n",
       "      <th></th>\n",
       "      <th>0</th>\n",
       "      <th>1</th>\n",
       "      <th>2</th>\n",
       "      <th>3</th>\n",
       "      <th>4</th>\n",
       "      <th>5</th>\n",
       "      <th>6</th>\n",
       "      <th>7</th>\n",
       "      <th>8</th>\n",
       "      <th>9</th>\n",
       "      <th>...</th>\n",
       "      <th>1244</th>\n",
       "      <th>1245</th>\n",
       "      <th>1246</th>\n",
       "      <th>1247</th>\n",
       "      <th>1248</th>\n",
       "      <th>1249</th>\n",
       "      <th>1250</th>\n",
       "      <th>1251</th>\n",
       "      <th>1252</th>\n",
       "      <th>1253</th>\n",
       "    </tr>\n",
       "  </thead>\n",
       "  <tbody>\n",
       "    <tr>\n",
       "      <th>LC11.readcount</th>\n",
       "      <td>42</td>\n",
       "      <td>17801</td>\n",
       "      <td>1</td>\n",
       "      <td>3269</td>\n",
       "      <td>0</td>\n",
       "      <td>755</td>\n",
       "      <td>217</td>\n",
       "      <td>3064</td>\n",
       "      <td>1</td>\n",
       "      <td>222</td>\n",
       "      <td>...</td>\n",
       "      <td>0</td>\n",
       "      <td>0</td>\n",
       "      <td>0</td>\n",
       "      <td>0</td>\n",
       "      <td>0</td>\n",
       "      <td>0</td>\n",
       "      <td>0</td>\n",
       "      <td>1</td>\n",
       "      <td>0</td>\n",
       "      <td>0</td>\n",
       "    </tr>\n",
       "    <tr>\n",
       "      <th>LC3.readcount</th>\n",
       "      <td>290</td>\n",
       "      <td>85550</td>\n",
       "      <td>31</td>\n",
       "      <td>16998</td>\n",
       "      <td>0</td>\n",
       "      <td>4903</td>\n",
       "      <td>1452</td>\n",
       "      <td>20637</td>\n",
       "      <td>3</td>\n",
       "      <td>1929</td>\n",
       "      <td>...</td>\n",
       "      <td>1</td>\n",
       "      <td>2</td>\n",
       "      <td>6</td>\n",
       "      <td>2</td>\n",
       "      <td>1</td>\n",
       "      <td>1</td>\n",
       "      <td>1</td>\n",
       "      <td>1</td>\n",
       "      <td>0</td>\n",
       "      <td>0</td>\n",
       "    </tr>\n",
       "    <tr>\n",
       "      <th>LC4.readcount</th>\n",
       "      <td>186</td>\n",
       "      <td>55582</td>\n",
       "      <td>13</td>\n",
       "      <td>9311</td>\n",
       "      <td>1</td>\n",
       "      <td>2397</td>\n",
       "      <td>604</td>\n",
       "      <td>12929</td>\n",
       "      <td>1</td>\n",
       "      <td>1197</td>\n",
       "      <td>...</td>\n",
       "      <td>0</td>\n",
       "      <td>0</td>\n",
       "      <td>0</td>\n",
       "      <td>0</td>\n",
       "      <td>0</td>\n",
       "      <td>0</td>\n",
       "      <td>0</td>\n",
       "      <td>0</td>\n",
       "      <td>0</td>\n",
       "      <td>0</td>\n",
       "    </tr>\n",
       "    <tr>\n",
       "      <th>LC5.readcount</th>\n",
       "      <td>36</td>\n",
       "      <td>11204</td>\n",
       "      <td>6</td>\n",
       "      <td>3983</td>\n",
       "      <td>0</td>\n",
       "      <td>661</td>\n",
       "      <td>227</td>\n",
       "      <td>2185</td>\n",
       "      <td>0</td>\n",
       "      <td>79</td>\n",
       "      <td>...</td>\n",
       "      <td>1</td>\n",
       "      <td>1</td>\n",
       "      <td>0</td>\n",
       "      <td>0</td>\n",
       "      <td>0</td>\n",
       "      <td>0</td>\n",
       "      <td>0</td>\n",
       "      <td>0</td>\n",
       "      <td>0</td>\n",
       "      <td>0</td>\n",
       "    </tr>\n",
       "    <tr>\n",
       "      <th>LC6.readcount</th>\n",
       "      <td>93</td>\n",
       "      <td>38312</td>\n",
       "      <td>24</td>\n",
       "      <td>13526</td>\n",
       "      <td>0</td>\n",
       "      <td>1738</td>\n",
       "      <td>575</td>\n",
       "      <td>7146</td>\n",
       "      <td>4</td>\n",
       "      <td>418</td>\n",
       "      <td>...</td>\n",
       "      <td>0</td>\n",
       "      <td>0</td>\n",
       "      <td>3</td>\n",
       "      <td>0</td>\n",
       "      <td>0</td>\n",
       "      <td>0</td>\n",
       "      <td>0</td>\n",
       "      <td>0</td>\n",
       "      <td>0</td>\n",
       "      <td>0</td>\n",
       "    </tr>\n",
       "    <tr>\n",
       "      <th>NC1.readcount</th>\n",
       "      <td>44</td>\n",
       "      <td>20829</td>\n",
       "      <td>5</td>\n",
       "      <td>3502</td>\n",
       "      <td>0</td>\n",
       "      <td>606</td>\n",
       "      <td>395</td>\n",
       "      <td>4128</td>\n",
       "      <td>4</td>\n",
       "      <td>520</td>\n",
       "      <td>...</td>\n",
       "      <td>1</td>\n",
       "      <td>0</td>\n",
       "      <td>0</td>\n",
       "      <td>0</td>\n",
       "      <td>1</td>\n",
       "      <td>0</td>\n",
       "      <td>0</td>\n",
       "      <td>0</td>\n",
       "      <td>0</td>\n",
       "      <td>1</td>\n",
       "    </tr>\n",
       "    <tr>\n",
       "      <th>NC2.readcount</th>\n",
       "      <td>55</td>\n",
       "      <td>21133</td>\n",
       "      <td>5</td>\n",
       "      <td>3863</td>\n",
       "      <td>0</td>\n",
       "      <td>1156</td>\n",
       "      <td>369</td>\n",
       "      <td>4307</td>\n",
       "      <td>0</td>\n",
       "      <td>244</td>\n",
       "      <td>...</td>\n",
       "      <td>0</td>\n",
       "      <td>0</td>\n",
       "      <td>0</td>\n",
       "      <td>0</td>\n",
       "      <td>2</td>\n",
       "      <td>4</td>\n",
       "      <td>0</td>\n",
       "      <td>0</td>\n",
       "      <td>0</td>\n",
       "      <td>1</td>\n",
       "    </tr>\n",
       "    <tr>\n",
       "      <th>NC3.readcount</th>\n",
       "      <td>201</td>\n",
       "      <td>83486</td>\n",
       "      <td>9</td>\n",
       "      <td>10959</td>\n",
       "      <td>0</td>\n",
       "      <td>3195</td>\n",
       "      <td>1220</td>\n",
       "      <td>16604</td>\n",
       "      <td>2</td>\n",
       "      <td>1321</td>\n",
       "      <td>...</td>\n",
       "      <td>3</td>\n",
       "      <td>1</td>\n",
       "      <td>0</td>\n",
       "      <td>0</td>\n",
       "      <td>0</td>\n",
       "      <td>1</td>\n",
       "      <td>0</td>\n",
       "      <td>1</td>\n",
       "      <td>1</td>\n",
       "      <td>0</td>\n",
       "    </tr>\n",
       "    <tr>\n",
       "      <th>NC4.readcount</th>\n",
       "      <td>16</td>\n",
       "      <td>7647</td>\n",
       "      <td>3</td>\n",
       "      <td>1723</td>\n",
       "      <td>0</td>\n",
       "      <td>350</td>\n",
       "      <td>105</td>\n",
       "      <td>1238</td>\n",
       "      <td>0</td>\n",
       "      <td>188</td>\n",
       "      <td>...</td>\n",
       "      <td>1</td>\n",
       "      <td>0</td>\n",
       "      <td>0</td>\n",
       "      <td>1</td>\n",
       "      <td>0</td>\n",
       "      <td>0</td>\n",
       "      <td>0</td>\n",
       "      <td>0</td>\n",
       "      <td>0</td>\n",
       "      <td>0</td>\n",
       "    </tr>\n",
       "    <tr>\n",
       "      <th>NC5.readcount</th>\n",
       "      <td>152</td>\n",
       "      <td>38915</td>\n",
       "      <td>4</td>\n",
       "      <td>6712</td>\n",
       "      <td>1</td>\n",
       "      <td>2125</td>\n",
       "      <td>739</td>\n",
       "      <td>7739</td>\n",
       "      <td>2</td>\n",
       "      <td>1371</td>\n",
       "      <td>...</td>\n",
       "      <td>2</td>\n",
       "      <td>1</td>\n",
       "      <td>1</td>\n",
       "      <td>0</td>\n",
       "      <td>1</td>\n",
       "      <td>1</td>\n",
       "      <td>0</td>\n",
       "      <td>0</td>\n",
       "      <td>0</td>\n",
       "      <td>0</td>\n",
       "    </tr>\n",
       "  </tbody>\n",
       "</table>\n",
       "<p>10 rows × 1254 columns</p>\n",
       "</div>"
      ],
      "text/plain": [
       "                0      1     2      3     4     5     6      7     8     9     \\\n",
       "LC11.readcount    42  17801     1   3269     0   755   217   3064     1   222   \n",
       "LC3.readcount    290  85550    31  16998     0  4903  1452  20637     3  1929   \n",
       "LC4.readcount    186  55582    13   9311     1  2397   604  12929     1  1197   \n",
       "LC5.readcount     36  11204     6   3983     0   661   227   2185     0    79   \n",
       "LC6.readcount     93  38312    24  13526     0  1738   575   7146     4   418   \n",
       "NC1.readcount     44  20829     5   3502     0   606   395   4128     4   520   \n",
       "NC2.readcount     55  21133     5   3863     0  1156   369   4307     0   244   \n",
       "NC3.readcount    201  83486     9  10959     0  3195  1220  16604     2  1321   \n",
       "NC4.readcount     16   7647     3   1723     0   350   105   1238     0   188   \n",
       "NC5.readcount    152  38915     4   6712     1  2125   739   7739     2  1371   \n",
       "\n",
       "                ...  1244  1245  1246  1247  1248  1249  1250  1251  1252  \\\n",
       "LC11.readcount  ...     0     0     0     0     0     0     0     1     0   \n",
       "LC3.readcount   ...     1     2     6     2     1     1     1     1     0   \n",
       "LC4.readcount   ...     0     0     0     0     0     0     0     0     0   \n",
       "LC5.readcount   ...     1     1     0     0     0     0     0     0     0   \n",
       "LC6.readcount   ...     0     0     3     0     0     0     0     0     0   \n",
       "NC1.readcount   ...     1     0     0     0     1     0     0     0     0   \n",
       "NC2.readcount   ...     0     0     0     0     2     4     0     0     0   \n",
       "NC3.readcount   ...     3     1     0     0     0     1     0     1     1   \n",
       "NC4.readcount   ...     1     0     0     1     0     0     0     0     0   \n",
       "NC5.readcount   ...     2     1     1     0     1     1     0     0     0   \n",
       "\n",
       "                1253  \n",
       "LC11.readcount     0  \n",
       "LC3.readcount      0  \n",
       "LC4.readcount      0  \n",
       "LC5.readcount      0  \n",
       "LC6.readcount      0  \n",
       "NC1.readcount      1  \n",
       "NC2.readcount      1  \n",
       "NC3.readcount      0  \n",
       "NC4.readcount      0  \n",
       "NC5.readcount      0  \n",
       "\n",
       "[10 rows x 1254 columns]"
      ]
     },
     "execution_count": 4,
     "metadata": {},
     "output_type": "execute_result"
    }
   ],
   "source": [
    "table = data.iloc[:, 1:11].transpose()\n",
    "mirnas = data.iloc[:, 0]\n",
    "table"
   ]
  },
  {
   "cell_type": "code",
   "execution_count": 5,
   "metadata": {},
   "outputs": [],
   "source": [
    "controls = np.array([\"NC\" in c for c in table.index])\n",
    "sick = 1 - controls"
   ]
  },
  {
   "cell_type": "markdown",
   "metadata": {},
   "source": [
    "### Mean-variance-plot"
   ]
  },
  {
   "cell_type": "code",
   "execution_count": 6,
   "metadata": {},
   "outputs": [
    {
     "data": {
      "text/plain": [
       "0         111.5\n",
       "1       38045.9\n",
       "2          10.1\n",
       "3        7384.6\n",
       "4           0.2\n",
       "         ...   \n",
       "1249        0.7\n",
       "1250        0.1\n",
       "1251        0.3\n",
       "1252        0.1\n",
       "1253        0.2\n",
       "Length: 1254, dtype: float64"
      ]
     },
     "execution_count": 6,
     "metadata": {},
     "output_type": "execute_result"
    }
   ],
   "source": [
    "np.mean(table)"
   ]
  },
  {
   "cell_type": "code",
   "execution_count": 7,
   "metadata": {
    "tags": []
   },
   "outputs": [],
   "source": [
    "def get_means_and_variances(table):\n",
    "    return np.mean(table), np.var(table, ddof=1)"
   ]
  },
  {
   "cell_type": "code",
   "execution_count": 8,
   "metadata": {
    "tags": []
   },
   "outputs": [],
   "source": [
    "def mean_variance_plot(table):\n",
    "    means, variances = get_means_and_variances(table)\n",
    "    plt.scatter(means, variances)\n",
    "    plt.xlabel(\"mean\")\n",
    "    plt.ylabel(\"variance\")\n",
    "    plt.plot()"
   ]
  },
  {
   "cell_type": "code",
   "execution_count": 9,
   "metadata": {},
   "outputs": [
    {
     "data": {
      "image/png": "[encoded data removed]",
      "text/plain": [
       "<Figure size 432x288 with 1 Axes>"
      ]
     },
     "metadata": {
      "needs_background": "light"
     },
     "output_type": "display_data"
    }
   ],
   "source": [
    "mean_variance_plot(table)"
   ]
  },
  {
   "cell_type": "markdown",
   "metadata": {},
   "source": [
    "### Log transformation"
   ]
  },
  {
   "cell_type": "code",
   "execution_count": 10,
   "metadata": {},
   "outputs": [],
   "source": [
    "log_table = table #np.log2(table + 1e-6)"
   ]
  },
  {
   "cell_type": "code",
   "execution_count": 11,
   "metadata": {},
   "outputs": [
    {
     "data": {
      "image/png": "[encoded data removed]",
      "text/plain": [
       "<Figure size 432x288 with 1 Axes>"
      ]
     },
     "metadata": {
      "needs_background": "light"
     },
     "output_type": "display_data"
    }
   ],
   "source": [
    "mean_variance_plot(log_table)"
   ]
  },
  {
   "cell_type": "markdown",
   "metadata": {},
   "source": [
    "### Standardizing"
   ]
  },
  {
   "cell_type": "code",
   "execution_count": 12,
   "metadata": {
    "tags": []
   },
   "outputs": [],
   "source": [
    "norm_log_table = log_table #- np.mean(log_table)"
   ]
  },
  {
   "cell_type": "code",
   "execution_count": 13,
   "metadata": {},
   "outputs": [],
   "source": [
    "#norm_log_table /= np.sqrt(np.mean(np.var(norm_log_table, ddof=1)))"
   ]
  },
  {
   "cell_type": "code",
   "execution_count": 14,
   "metadata": {},
   "outputs": [
    {
     "data": {
      "image/png": "[encoded data removed]",
      "text/plain": [
       "<Figure size 432x288 with 1 Axes>"
      ]
     },
     "metadata": {
      "needs_background": "light"
     },
     "output_type": "display_data"
    }
   ],
   "source": [
    "mean_variance_plot(norm_log_table)"
   ]
  },
  {
   "cell_type": "code",
   "execution_count": 15,
   "metadata": {},
   "outputs": [
    {
     "data": {
      "text/plain": [
       "0"
      ]
     },
     "execution_count": 15,
     "metadata": {},
     "output_type": "execute_result"
    }
   ],
   "source": [
    "norm_log_table.isna().sum().sum()"
   ]
  },
  {
   "cell_type": "markdown",
   "metadata": {},
   "source": [
    "### PCA"
   ]
  },
  {
   "cell_type": "code",
   "execution_count": 16,
   "metadata": {
    "tags": []
   },
   "outputs": [],
   "source": [
    "pca = decomposition.PCA(n_components=10)"
   ]
  },
  {
   "cell_type": "code",
   "execution_count": 17,
   "metadata": {},
   "outputs": [
    {
     "data": {
      "text/plain": [
       "PCA(n_components=10)"
      ]
     },
     "execution_count": 17,
     "metadata": {},
     "output_type": "execute_result"
    }
   ],
   "source": [
    "pca.fit(norm_log_table)"
   ]
  },
  {
   "cell_type": "code",
   "execution_count": 18,
   "metadata": {},
   "outputs": [
    {
     "data": {
      "text/plain": [
       "array([8.30977994e-01, 1.51111589e-01, 1.11429609e-02, 3.48984501e-03,\n",
       "       1.84681135e-03, 8.23607376e-04, 3.91816701e-04, 1.64121913e-04,\n",
       "       5.12538995e-05, 1.28409733e-32])"
      ]
     },
     "execution_count": 18,
     "metadata": {},
     "output_type": "execute_result"
    }
   ],
   "source": [
    "pca.explained_variance_ratio_"
   ]
  },
  {
   "cell_type": "code",
   "execution_count": 19,
   "metadata": {
    "tags": []
   },
   "outputs": [],
   "source": [
    "components = pca.transform(norm_log_table)"
   ]
  },
  {
   "cell_type": "code",
   "execution_count": 20,
   "metadata": {},
   "outputs": [
    {
     "data": {
      "text/plain": [
       "array([[-2.28715650e+05,  1.02572616e+04, -8.83751909e+03,\n",
       "        -1.07651747e+04, -5.87802032e+03, -3.97937770e+03,\n",
       "        -1.03494934e+04,  7.38819052e+03,  2.17943149e+03,\n",
       "        -1.33617561e-11],\n",
       "       [ 5.54018788e+05, -2.16558307e+05,  1.29934339e+04,\n",
       "        -6.63507935e+03,  3.76889318e+03, -9.91797006e+03,\n",
       "        -3.69407418e+02, -9.88814169e+01,  5.27046421e+02,\n",
       "        -2.20147456e-10],\n",
       "       [ 6.60450736e+04, -3.59203695e+04, -5.98059614e+04,\n",
       "        -2.50273590e+04,  7.84034664e+03,  1.36192194e+04,\n",
       "         1.69890419e+02, -5.33591087e+02, -1.83750408e+03,\n",
       "         1.13054455e-10],\n",
       "       [-2.54213533e+05,  4.03599177e+03, -1.50768813e+04,\n",
       "         1.40043158e+03,  9.74925726e+03, -2.76439508e+03,\n",
       "         1.52625909e+03, -6.76995594e+03,  4.50317992e+03,\n",
       "         9.67386171e-11],\n",
       "       [-1.05976310e+05, -1.49880644e+05, -8.44701998e+03,\n",
       "         3.68915869e+04, -1.72081273e+04,  9.94582666e+03,\n",
       "         3.90594015e+02,  1.62896552e+02, -2.11821575e+02,\n",
       "         3.67199604e-11],\n",
       "       [-1.48297799e+05,  4.16959601e+04, -1.12787529e+04,\n",
       "         1.95923057e+04,  2.24038305e+04, -8.00704267e+03,\n",
       "         7.49889318e+03,  4.74641616e+03, -1.61111722e+03,\n",
       "         6.90523194e-11],\n",
       "       [-1.29386331e+05,  2.04966670e+04,  3.61120954e+04,\n",
       "        -2.36687557e+04, -1.63166320e+04,  2.01491240e+03,\n",
       "         1.19974946e+04,  1.75407311e+03,  4.93581503e+02,\n",
       "         8.46167580e-12],\n",
       "       [ 4.67674032e+05,  2.53839076e+05, -1.89111305e+04,\n",
       "         1.14007304e+04, -1.14305575e+04, -1.69645256e+03,\n",
       "        -3.12418089e+02, -7.34960903e+02,  4.35860985e+02,\n",
       "         3.62305741e-11],\n",
       "       [-2.75819648e+05,  1.20391109e+04,  6.53167179e+03,\n",
       "        -5.50077882e+03, -8.69909511e+03, -1.16799499e+04,\n",
       "        -4.97172246e+03, -5.06507493e+03, -3.98227708e+03,\n",
       "         1.04552811e-10],\n",
       "       [ 5.46713777e+04,  5.99952531e+04,  6.67200642e+04,\n",
       "         2.31209303e+03,  1.57701047e+04,  1.24652295e+04,\n",
       "        -5.58008996e+03, -8.49112061e+02, -4.96380362e+02,\n",
       "        -1.91247906e-10]])"
      ]
     },
     "execution_count": 20,
     "metadata": {},
     "output_type": "execute_result"
    }
   ],
   "source": [
    "components"
   ]
  },
  {
   "cell_type": "code",
   "execution_count": 21,
   "metadata": {},
   "outputs": [
    {
     "data": {
      "image/png": "[encoded data removed]",
      "text/plain": [
       "<Figure size 576x576 with 1 Axes>"
      ]
     },
     "metadata": {
      "needs_background": "light"
     },
     "output_type": "display_data"
    }
   ],
   "source": [
    "fig = plt.figure(figsize = (8,8))\n",
    "ax = fig.add_subplot(1,1,1)\n",
    "\n",
    "ax.set_xlabel('Principal Component 1', fontsize = 15)\n",
    "ax.set_ylabel('Principal Component 2', fontsize = 15)\n",
    "ax.set_title('2 component PCA', fontsize = 20)\n",
    "targets = ['Cancer', 'Healthy']\n",
    "colors = ['r', 'g']\n",
    "ax.scatter(components[controls == False, 0], components[controls == False, 1], c = 'r', s = 10)\n",
    "ax.scatter(components[controls == True, 0], components[controls == True, 1], c = 'g', s = 10)\n",
    "ax.legend(targets)\n",
    "ax.grid()"
   ]
  },
  {
   "cell_type": "code",
   "execution_count": 22,
   "metadata": {
    "tags": []
   },
   "outputs": [],
   "source": [
    "components2 = components[components[:,0] < 20, :]\n",
    "controls2 = controls[components[:,0] < 20]"
   ]
  },
  {
   "cell_type": "code",
   "execution_count": 23,
   "metadata": {},
   "outputs": [
    {
     "data": {
      "image/png": "[encoded data removed]",
      "text/plain": [
       "<Figure size 576x576 with 1 Axes>"
      ]
     },
     "metadata": {
      "needs_background": "light"
     },
     "output_type": "display_data"
    }
   ],
   "source": [
    "fig = plt.figure(figsize = (8,8))\n",
    "ax = fig.add_subplot(1,1,1)\n",
    "\n",
    "ax.set_xlabel('Principal Component 1', fontsize = 15)\n",
    "ax.set_ylabel('Principal Component 2', fontsize = 15)\n",
    "ax.set_title('2 component PCA', fontsize = 20)\n",
    "targets = ['Cancer', 'Healthy']\n",
    "colors = ['r', 'g']\n",
    "ax.scatter(components2[controls2 == False, 0], components2[controls2 == False, 1], c = 'r', s = 10)\n",
    "ax.scatter(components2[controls2 == True, 0], components2[controls2 == True, 1], c = 'g', s = 10)\n",
    "ax.legend(targets)\n",
    "ax.grid()"
   ]
  },
  {
   "cell_type": "markdown",
   "metadata": {},
   "source": [
    "### Logistic Regression"
   ]
  },
  {
   "cell_type": "code",
   "execution_count": 24,
   "metadata": {},
   "outputs": [],
   "source": [
    "X_train, X_test, y_train, y_test = train_test_split(norm_log_table, controls, test_size=0.33, random_state=42)"
   ]
  },
  {
   "cell_type": "code",
   "execution_count": 25,
   "metadata": {},
   "outputs": [
    {
     "data": {
      "text/plain": [
       "LogisticRegression(max_iter=2000)"
      ]
     },
     "execution_count": 25,
     "metadata": {},
     "output_type": "execute_result"
    }
   ],
   "source": [
    "model = LogisticRegression(max_iter=2000)\n",
    "model.fit(X_train, y_train)"
   ]
  },
  {
   "cell_type": "code",
   "execution_count": 26,
   "metadata": {},
   "outputs": [
    {
     "name": "stderr",
     "output_type": "stream",
     "text": [
      "C:\\Users\\olefr\\AppData\\Local\\Programs\\Python\\Python310\\lib\\site-packages\\sklearn\\utils\\deprecation.py:87: FutureWarning: Function plot_roc_curve is deprecated; Function :func:`plot_roc_curve` is deprecated in 1.0 and will be removed in 1.2. Use one of the class methods: :meth:`sklearn.metric.RocCurveDisplay.from_predictions` or :meth:`sklearn.metric.RocCurveDisplay.from_estimator`.\n",
      "  warnings.warn(msg, category=FutureWarning)\n"
     ]
    },
    {
     "data": {
      "text/plain": [
       "<sklearn.metrics._plot.roc_curve.RocCurveDisplay at 0x280346ef820>"
      ]
     },
     "execution_count": 26,
     "metadata": {},
     "output_type": "execute_result"
    },
    {
     "data": {
      "image/png": "[encoded data removed]",
      "text/plain": [
       "<Figure size 432x288 with 1 Axes>"
      ]
     },
     "metadata": {
      "needs_background": "light"
     },
     "output_type": "display_data"
    }
   ],
   "source": [
    "plot_roc_curve(model, X_test, y_test)"
   ]
  },
  {
   "cell_type": "markdown",
   "metadata": {
    "jupyter": {
     "outputs_hidden": true
    },
    "tags": []
   },
   "source": [
    "### XGBoost"
   ]
  },
  {
   "cell_type": "code",
   "execution_count": 27,
   "metadata": {},
   "outputs": [],
   "source": [
    "X_train, X_test, y_train, y_test = train_test_split(norm_log_table, controls, test_size=0.33, random_state=42)"
   ]
  },
  {
   "cell_type": "code",
   "execution_count": 28,
   "metadata": {},
   "outputs": [
    {
     "name": "stdout",
     "output_type": "stream",
     "text": [
      "[20:51:22] WARNING: C:/Users/Administrator/workspace/xgboost-win64_release_1.5.1/src/learner.cc:1115: Starting in XGBoost 1.3.0, the default evaluation metric used with the objective 'binary:logistic' was changed from 'error' to 'logloss'. Explicitly set eval_metric if you'd like to restore the old behavior.\n"
     ]
    },
    {
     "data": {
      "text/plain": [
       "XGBClassifier(base_score=0.5, booster='gbtree', colsample_bylevel=1,\n",
       "              colsample_bynode=1, colsample_bytree=1, enable_categorical=False,\n",
       "              gamma=0, gpu_id=-1, importance_type=None,\n",
       "              interaction_constraints='', learning_rate=0.300000012,\n",
       "              max_delta_step=0, max_depth=6, min_child_weight=1, missing=nan,\n",
       "              monotone_constraints='()', n_estimators=100, n_jobs=16,\n",
       "              num_parallel_tree=1, predictor='auto', random_state=0,\n",
       "              reg_alpha=0, reg_lambda=1, scale_pos_weight=1, subsample=1,\n",
       "              tree_method='exact', use_label_encoder=False,\n",
       "              validate_parameters=1, verbosity=None)"
      ]
     },
     "execution_count": 28,
     "metadata": {},
     "output_type": "execute_result"
    }
   ],
   "source": [
    "model = XGBClassifier(use_label_encoder=False)\n",
    "model.fit(X_train, y_train)"
   ]
  },
  {
   "cell_type": "code",
   "execution_count": 29,
   "metadata": {},
   "outputs": [
    {
     "name": "stderr",
     "output_type": "stream",
     "text": [
      "C:\\Users\\olefr\\AppData\\Local\\Programs\\Python\\Python310\\lib\\site-packages\\sklearn\\utils\\deprecation.py:87: FutureWarning: Function plot_roc_curve is deprecated; Function :func:`plot_roc_curve` is deprecated in 1.0 and will be removed in 1.2. Use one of the class methods: :meth:`sklearn.metric.RocCurveDisplay.from_predictions` or :meth:`sklearn.metric.RocCurveDisplay.from_estimator`.\n",
      "  warnings.warn(msg, category=FutureWarning)\n"
     ]
    },
    {
     "data": {
      "text/plain": [
       "<sklearn.metrics._plot.roc_curve.RocCurveDisplay at 0x280345d6290>"
      ]
     },
     "execution_count": 29,
     "metadata": {},
     "output_type": "execute_result"
    },
    {
     "data": {
      "image/png": "[encoded data removed]",
      "text/plain": [
       "<Figure size 432x288 with 1 Axes>"
      ]
     },
     "metadata": {
      "needs_background": "light"
     },
     "output_type": "display_data"
    }
   ],
   "source": [
    "plot_roc_curve(model, X_test, y_test)"
   ]
  },
  {
   "cell_type": "markdown",
   "metadata": {},
   "source": [
    "### Exporting data"
   ]
  },
  {
   "cell_type": "code",
   "execution_count": 30,
   "metadata": {},
   "outputs": [
    {
     "data": {
      "text/plain": [
       "0    hsa-let-7a-3p\n",
       "1    hsa-let-7a-5p\n",
       "2    hsa-let-7b-3p\n",
       "3    hsa-let-7b-5p\n",
       "4    hsa-let-7c-3p\n",
       "5    hsa-let-7c-5p\n",
       "6    hsa-let-7d-3p\n",
       "7    hsa-let-7d-5p\n",
       "8    hsa-let-7e-3p\n",
       "9    hsa-let-7e-5p\n",
       "Name: miRNA_ID, dtype: object"
      ]
     },
     "execution_count": 30,
     "metadata": {},
     "output_type": "execute_result"
    }
   ],
   "source": [
    "mirnas[:10]"
   ]
  },
  {
   "cell_type": "code",
   "execution_count": 31,
   "metadata": {},
   "outputs": [],
   "source": [
    "from Scripts import converters"
   ]
  },
  {
   "cell_type": "code",
   "execution_count": 32,
   "metadata": {},
   "outputs": [],
   "source": [
    "sequences = converters.canonical_to_seq(mirnas, True)"
   ]
  },
  {
   "cell_type": "code",
   "execution_count": 33,
   "metadata": {},
   "outputs": [],
   "source": [
    "sequences = np.array(sequences)"
   ]
  },
  {
   "cell_type": "code",
   "execution_count": 34,
   "metadata": {},
   "outputs": [
    {
     "data": {
      "text/plain": [
       "1186    novel_170\n",
       "1187    novel_179\n",
       "1188    novel_191\n",
       "1189    novel_194\n",
       "1190    novel_210\n",
       "          ...    \n",
       "1249    novel_670\n",
       "1250    novel_672\n",
       "1251    novel_677\n",
       "1252    novel_692\n",
       "1253    novel_699\n",
       "Name: miRNA_ID, Length: 68, dtype: object"
      ]
     },
     "execution_count": 34,
     "metadata": {},
     "output_type": "execute_result"
    }
   ],
   "source": [
    "mirnas[sequences == None]"
   ]
  },
  {
   "cell_type": "code",
   "execution_count": 35,
   "metadata": {},
   "outputs": [],
   "source": [
    "mask = sequences != None\n",
    "sequences = sequences[mask]\n",
    "norm_log_table = norm_log_table.loc[:, mask]"
   ]
  },
  {
   "cell_type": "code",
   "execution_count": 36,
   "metadata": {},
   "outputs": [
    {
     "name": "stderr",
     "output_type": "stream",
     "text": [
      "C:\\Users\\olefr\\AppData\\Local\\Temp/ipykernel_23168/3116894495.py:2: SettingWithCopyWarning: \n",
      "A value is trying to be set on a copy of a slice from a DataFrame.\n",
      "Try using .loc[row_indexer,col_indexer] = value instead\n",
      "\n",
      "See the caveats in the documentation: https://pandas.pydata.org/pandas-docs/stable/user_guide/indexing.html#returning-a-view-versus-a-copy\n",
      "  norm_log_table[\"cancer\"] = sick\n"
     ]
    },
    {
     "data": {
      "text/html": [
       "<div>\n",
       "<style scoped>\n",
       "    .dataframe tbody tr th:only-of-type {\n",
       "        vertical-align: middle;\n",
       "    }\n",
       "\n",
       "    .dataframe tbody tr th {\n",
       "        vertical-align: top;\n",
       "    }\n",
       "\n",
       "    .dataframe thead th {\n",
       "        text-align: right;\n",
       "    }\n",
       "</style>\n",
       "<table border=\"1\" class=\"dataframe\">\n",
       "  <thead>\n",
       "    <tr style=\"text-align: right;\">\n",
       "      <th></th>\n",
       "      <th>CUAUACAAUCUACUGUCUUUC</th>\n",
       "      <th>UGAGGUAGUAGGUUGUAUAGUU</th>\n",
       "      <th>CUAUACAACCUACUGCCUUCCC</th>\n",
       "      <th>UGAGGUAGUAGGUUGUGUGGUU</th>\n",
       "      <th>CUGUACAACCUUCUAGCUUUCC</th>\n",
       "      <th>UGAGGUAGUAGGUUGUAUGGUU</th>\n",
       "      <th>CUAUACGACCUGCUGCCUUUCU</th>\n",
       "      <th>AGAGGUAGUAGGUUGCAUAGUU</th>\n",
       "      <th>CUAUACGGCCUCCUAGCUUUCC</th>\n",
       "      <th>UGAGGUAGGAGGUUGUAUAGUU</th>\n",
       "      <th>...</th>\n",
       "      <th>UCUUUGGUUAUCUAGCUGUAUGA</th>\n",
       "      <th>AAUCAUGUGCAGUGCCAAUAUG</th>\n",
       "      <th>UUUGGCACUAGCACAUUUUUGCU</th>\n",
       "      <th>CUAUACAACUUACUACUUUCCC</th>\n",
       "      <th>UGAGGUAGUAAGUUGUAUUGUU</th>\n",
       "      <th>CAAGCUCGCUUCUAUGGGUCUG</th>\n",
       "      <th>AACCCGUAGAUCCGAUCUUGUG</th>\n",
       "      <th>CAAGCUCGUGUCUGUGGGUCCG</th>\n",
       "      <th>CACCCGUAGAACCGACCUUGCG</th>\n",
       "      <th>cancer</th>\n",
       "    </tr>\n",
       "  </thead>\n",
       "  <tbody>\n",
       "    <tr>\n",
       "      <th>LC11.readcount</th>\n",
       "      <td>42</td>\n",
       "      <td>17801</td>\n",
       "      <td>1</td>\n",
       "      <td>3269</td>\n",
       "      <td>0</td>\n",
       "      <td>755</td>\n",
       "      <td>217</td>\n",
       "      <td>3064</td>\n",
       "      <td>1</td>\n",
       "      <td>222</td>\n",
       "      <td>...</td>\n",
       "      <td>26</td>\n",
       "      <td>0</td>\n",
       "      <td>5</td>\n",
       "      <td>1</td>\n",
       "      <td>1313</td>\n",
       "      <td>0</td>\n",
       "      <td>1722</td>\n",
       "      <td>14</td>\n",
       "      <td>473</td>\n",
       "      <td>1</td>\n",
       "    </tr>\n",
       "    <tr>\n",
       "      <th>LC3.readcount</th>\n",
       "      <td>290</td>\n",
       "      <td>85550</td>\n",
       "      <td>31</td>\n",
       "      <td>16998</td>\n",
       "      <td>0</td>\n",
       "      <td>4903</td>\n",
       "      <td>1452</td>\n",
       "      <td>20637</td>\n",
       "      <td>3</td>\n",
       "      <td>1929</td>\n",
       "      <td>...</td>\n",
       "      <td>222</td>\n",
       "      <td>0</td>\n",
       "      <td>36</td>\n",
       "      <td>6</td>\n",
       "      <td>5707</td>\n",
       "      <td>0</td>\n",
       "      <td>5913</td>\n",
       "      <td>185</td>\n",
       "      <td>3540</td>\n",
       "      <td>1</td>\n",
       "    </tr>\n",
       "    <tr>\n",
       "      <th>LC4.readcount</th>\n",
       "      <td>186</td>\n",
       "      <td>55582</td>\n",
       "      <td>13</td>\n",
       "      <td>9311</td>\n",
       "      <td>1</td>\n",
       "      <td>2397</td>\n",
       "      <td>604</td>\n",
       "      <td>12929</td>\n",
       "      <td>1</td>\n",
       "      <td>1197</td>\n",
       "      <td>...</td>\n",
       "      <td>121</td>\n",
       "      <td>0</td>\n",
       "      <td>32</td>\n",
       "      <td>1</td>\n",
       "      <td>3346</td>\n",
       "      <td>1</td>\n",
       "      <td>1707</td>\n",
       "      <td>69</td>\n",
       "      <td>1507</td>\n",
       "      <td>1</td>\n",
       "    </tr>\n",
       "    <tr>\n",
       "      <th>LC5.readcount</th>\n",
       "      <td>36</td>\n",
       "      <td>11204</td>\n",
       "      <td>6</td>\n",
       "      <td>3983</td>\n",
       "      <td>0</td>\n",
       "      <td>661</td>\n",
       "      <td>227</td>\n",
       "      <td>2185</td>\n",
       "      <td>0</td>\n",
       "      <td>79</td>\n",
       "      <td>...</td>\n",
       "      <td>45</td>\n",
       "      <td>0</td>\n",
       "      <td>13</td>\n",
       "      <td>0</td>\n",
       "      <td>954</td>\n",
       "      <td>0</td>\n",
       "      <td>1010</td>\n",
       "      <td>5</td>\n",
       "      <td>271</td>\n",
       "      <td>1</td>\n",
       "    </tr>\n",
       "    <tr>\n",
       "      <th>LC6.readcount</th>\n",
       "      <td>93</td>\n",
       "      <td>38312</td>\n",
       "      <td>24</td>\n",
       "      <td>13526</td>\n",
       "      <td>0</td>\n",
       "      <td>1738</td>\n",
       "      <td>575</td>\n",
       "      <td>7146</td>\n",
       "      <td>4</td>\n",
       "      <td>418</td>\n",
       "      <td>...</td>\n",
       "      <td>33</td>\n",
       "      <td>0</td>\n",
       "      <td>57</td>\n",
       "      <td>7</td>\n",
       "      <td>2200</td>\n",
       "      <td>0</td>\n",
       "      <td>1703</td>\n",
       "      <td>64</td>\n",
       "      <td>1268</td>\n",
       "      <td>1</td>\n",
       "    </tr>\n",
       "  </tbody>\n",
       "</table>\n",
       "<p>5 rows × 1187 columns</p>\n",
       "</div>"
      ],
      "text/plain": [
       "                CUAUACAAUCUACUGUCUUUC  UGAGGUAGUAGGUUGUAUAGUU  \\\n",
       "LC11.readcount                     42                   17801   \n",
       "LC3.readcount                     290                   85550   \n",
       "LC4.readcount                     186                   55582   \n",
       "LC5.readcount                      36                   11204   \n",
       "LC6.readcount                      93                   38312   \n",
       "\n",
       "                CUAUACAACCUACUGCCUUCCC  UGAGGUAGUAGGUUGUGUGGUU  \\\n",
       "LC11.readcount                       1                    3269   \n",
       "LC3.readcount                       31                   16998   \n",
       "LC4.readcount                       13                    9311   \n",
       "LC5.readcount                        6                    3983   \n",
       "LC6.readcount                       24                   13526   \n",
       "\n",
       "                CUGUACAACCUUCUAGCUUUCC  UGAGGUAGUAGGUUGUAUGGUU  \\\n",
       "LC11.readcount                       0                     755   \n",
       "LC3.readcount                        0                    4903   \n",
       "LC4.readcount                        1                    2397   \n",
       "LC5.readcount                        0                     661   \n",
       "LC6.readcount                        0                    1738   \n",
       "\n",
       "                CUAUACGACCUGCUGCCUUUCU  AGAGGUAGUAGGUUGCAUAGUU  \\\n",
       "LC11.readcount                     217                    3064   \n",
       "LC3.readcount                     1452                   20637   \n",
       "LC4.readcount                      604                   12929   \n",
       "LC5.readcount                      227                    2185   \n",
       "LC6.readcount                      575                    7146   \n",
       "\n",
       "                CUAUACGGCCUCCUAGCUUUCC  UGAGGUAGGAGGUUGUAUAGUU  ...  \\\n",
       "LC11.readcount                       1                     222  ...   \n",
       "LC3.readcount                        3                    1929  ...   \n",
       "LC4.readcount                        1                    1197  ...   \n",
       "LC5.readcount                        0                      79  ...   \n",
       "LC6.readcount                        4                     418  ...   \n",
       "\n",
       "                UCUUUGGUUAUCUAGCUGUAUGA  AAUCAUGUGCAGUGCCAAUAUG  \\\n",
       "LC11.readcount                       26                       0   \n",
       "LC3.readcount                       222                       0   \n",
       "LC4.readcount                       121                       0   \n",
       "LC5.readcount                        45                       0   \n",
       "LC6.readcount                        33                       0   \n",
       "\n",
       "                UUUGGCACUAGCACAUUUUUGCU  CUAUACAACUUACUACUUUCCC  \\\n",
       "LC11.readcount                        5                       1   \n",
       "LC3.readcount                        36                       6   \n",
       "LC4.readcount                        32                       1   \n",
       "LC5.readcount                        13                       0   \n",
       "LC6.readcount                        57                       7   \n",
       "\n",
       "                UGAGGUAGUAAGUUGUAUUGUU  CAAGCUCGCUUCUAUGGGUCUG  \\\n",
       "LC11.readcount                    1313                       0   \n",
       "LC3.readcount                     5707                       0   \n",
       "LC4.readcount                     3346                       1   \n",
       "LC5.readcount                      954                       0   \n",
       "LC6.readcount                     2200                       0   \n",
       "\n",
       "                AACCCGUAGAUCCGAUCUUGUG  CAAGCUCGUGUCUGUGGGUCCG  \\\n",
       "LC11.readcount                    1722                      14   \n",
       "LC3.readcount                     5913                     185   \n",
       "LC4.readcount                     1707                      69   \n",
       "LC5.readcount                     1010                       5   \n",
       "LC6.readcount                     1703                      64   \n",
       "\n",
       "                CACCCGUAGAACCGACCUUGCG  cancer  \n",
       "LC11.readcount                     473       1  \n",
       "LC3.readcount                     3540       1  \n",
       "LC4.readcount                     1507       1  \n",
       "LC5.readcount                      271       1  \n",
       "LC6.readcount                     1268       1  \n",
       "\n",
       "[5 rows x 1187 columns]"
      ]
     },
     "execution_count": 36,
     "metadata": {},
     "output_type": "execute_result"
    }
   ],
   "source": [
    "norm_log_table.columns = sequences\n",
    "norm_log_table[\"cancer\"] = sick\n",
    "norm_log_table.head()"
   ]
  },
  {
   "cell_type": "code",
   "execution_count": 37,
   "metadata": {},
   "outputs": [],
   "source": [
    "norm_log_table.to_csv(\"../TransformedData/Yao2019_raw.csv\", index=False)"
   ]
  },
  {
   "cell_type": "code",
   "execution_count": null,
   "metadata": {},
   "outputs": [],
   "source": []
  }
 ],
 "metadata": {
  "kernelspec": {
   "display_name": "Python 3 (ipykernel)",
   "language": "python",
   "name": "python3"
  },
  "language_info": {
   "codemirror_mode": {
    "name": "ipython",
    "version": 3
   },
   "file_extension": ".py",
   "mimetype": "text/x-python",
   "name": "python",
   "nbconvert_exporter": "python",
   "pygments_lexer": "ipython3",
   "version": "3.10.1"
  }
 },
 "nbformat": 4,
 "nbformat_minor": 4
}
