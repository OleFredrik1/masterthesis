{
 "cells": [
  {
   "cell_type": "code",
   "execution_count": 162,
   "metadata": {
    "tags": []
   },
   "outputs": [],
   "source": [
    "%matplotlib inline\n",
    "import GEOparse\n",
    "import matplotlib.pyplot as plt\n",
    "import pandas as pd\n",
    "import numpy as np\n",
    "from sklearn import decomposition\n",
    "from sklearn.feature_selection import f_classif\n",
    "from sklearn.linear_model import LinearRegression, LogisticRegression\n",
    "from sklearn.metrics import explained_variance_score, plot_roc_curve\n",
    "import statsmodels.api as sm\n",
    "from scipy.stats import ttest_ind\n",
    "from xgboost import XGBClassifier\n",
    "from sklearn.model_selection import train_test_split\n",
    "import matplotlib\n",
    "from xgboost import XGBClassifier\n",
    "from sklearn.model_selection import train_test_split\n",
    "\n",
    "geo = \"GSE111803\""
   ]
  },
  {
   "cell_type": "code",
   "execution_count": 163,
   "metadata": {},
   "outputs": [],
   "source": [
    "threshold = 1000"
   ]
  },
  {
   "cell_type": "code",
   "execution_count": 164,
   "metadata": {},
   "outputs": [],
   "source": [
    "data = pd.read_csv(\"../Dataset/Yao2019/data.txt\", sep=\"\\t\")"
   ]
  },
  {
   "cell_type": "code",
   "execution_count": 165,
   "metadata": {},
   "outputs": [
    {
     "data": {
      "text/plain": [
       "Index(['miRNA_ID', 'LC11.readcount', 'LC3.readcount', 'LC4.readcount',\n",
       "       'LC5.readcount', 'LC6.readcount', 'NC1.readcount', 'NC2.readcount',\n",
       "       'NC3.readcount', 'NC4.readcount', 'NC5.readcount', 'LC11.tpm',\n",
       "       'LC3.tpm', 'LC4.tpm', 'LC5.tpm', 'LC6.tpm', 'NC1.tpm', 'NC2.tpm',\n",
       "       'NC3.tpm', 'NC4.tpm', 'NC5.tpm'],\n",
       "      dtype='object')"
      ]
     },
     "execution_count": 165,
     "metadata": {},
     "output_type": "execute_result"
    }
   ],
   "source": [
    "data.columns"
   ]
  },
  {
   "cell_type": "code",
   "execution_count": 166,
   "metadata": {},
   "outputs": [
    {
     "data": {
      "text/html": [
       "<div>\n",
       "<style scoped>\n",
       "    .dataframe tbody tr th:only-of-type {\n",
       "        vertical-align: middle;\n",
       "    }\n",
       "\n",
       "    .dataframe tbody tr th {\n",
       "        vertical-align: top;\n",
       "    }\n",
       "\n",
       "    .dataframe thead th {\n",
       "        text-align: right;\n",
       "    }\n",
       "</style>\n",
       "<table border=\"1\" class=\"dataframe\">\n",
       "  <thead>\n",
       "    <tr style=\"text-align: right;\">\n",
       "      <th></th>\n",
       "      <th>0</th>\n",
       "      <th>1</th>\n",
       "      <th>2</th>\n",
       "      <th>3</th>\n",
       "      <th>4</th>\n",
       "      <th>5</th>\n",
       "      <th>6</th>\n",
       "      <th>7</th>\n",
       "      <th>8</th>\n",
       "      <th>9</th>\n",
       "      <th>...</th>\n",
       "      <th>1244</th>\n",
       "      <th>1245</th>\n",
       "      <th>1246</th>\n",
       "      <th>1247</th>\n",
       "      <th>1248</th>\n",
       "      <th>1249</th>\n",
       "      <th>1250</th>\n",
       "      <th>1251</th>\n",
       "      <th>1252</th>\n",
       "      <th>1253</th>\n",
       "    </tr>\n",
       "  </thead>\n",
       "  <tbody>\n",
       "    <tr>\n",
       "      <th>LC11.tpm</th>\n",
       "      <td>84.810449</td>\n",
       "      <td>35945.49515</td>\n",
       "      <td>2.019296</td>\n",
       "      <td>6601.079920</td>\n",
       "      <td>0.000000</td>\n",
       "      <td>1524.568779</td>\n",
       "      <td>438.187318</td>\n",
       "      <td>6187.124158</td>\n",
       "      <td>2.019296</td>\n",
       "      <td>448.283800</td>\n",
       "      <td>...</td>\n",
       "      <td>0.000000</td>\n",
       "      <td>0.000000</td>\n",
       "      <td>0.000000</td>\n",
       "      <td>0.000000</td>\n",
       "      <td>0.000000</td>\n",
       "      <td>0.000000</td>\n",
       "      <td>0.000000</td>\n",
       "      <td>2.019296</td>\n",
       "      <td>0.000000</td>\n",
       "      <td>0.000000</td>\n",
       "    </tr>\n",
       "    <tr>\n",
       "      <th>LC3.tpm</th>\n",
       "      <td>81.564623</td>\n",
       "      <td>24061.56385</td>\n",
       "      <td>8.718977</td>\n",
       "      <td>4780.811951</td>\n",
       "      <td>0.000000</td>\n",
       "      <td>1379.004647</td>\n",
       "      <td>408.385631</td>\n",
       "      <td>5804.307343</td>\n",
       "      <td>0.843772</td>\n",
       "      <td>542.545373</td>\n",
       "      <td>...</td>\n",
       "      <td>0.281257</td>\n",
       "      <td>0.562515</td>\n",
       "      <td>1.687544</td>\n",
       "      <td>0.562515</td>\n",
       "      <td>0.281257</td>\n",
       "      <td>0.281257</td>\n",
       "      <td>0.281257</td>\n",
       "      <td>0.281257</td>\n",
       "      <td>0.000000</td>\n",
       "      <td>0.000000</td>\n",
       "    </tr>\n",
       "    <tr>\n",
       "      <th>LC4.tpm</th>\n",
       "      <td>116.614493</td>\n",
       "      <td>34847.67075</td>\n",
       "      <td>8.150475</td>\n",
       "      <td>5837.621215</td>\n",
       "      <td>0.626960</td>\n",
       "      <td>1502.822259</td>\n",
       "      <td>378.683623</td>\n",
       "      <td>8105.961195</td>\n",
       "      <td>0.626960</td>\n",
       "      <td>750.470690</td>\n",
       "      <td>...</td>\n",
       "      <td>0.000000</td>\n",
       "      <td>0.000000</td>\n",
       "      <td>0.000000</td>\n",
       "      <td>0.000000</td>\n",
       "      <td>0.000000</td>\n",
       "      <td>0.000000</td>\n",
       "      <td>0.000000</td>\n",
       "      <td>0.000000</td>\n",
       "      <td>0.000000</td>\n",
       "      <td>0.000000</td>\n",
       "    </tr>\n",
       "    <tr>\n",
       "      <th>LC5.tpm</th>\n",
       "      <td>91.876345</td>\n",
       "      <td>28593.96015</td>\n",
       "      <td>15.312724</td>\n",
       "      <td>10165.096690</td>\n",
       "      <td>0.000000</td>\n",
       "      <td>1686.951773</td>\n",
       "      <td>579.331395</td>\n",
       "      <td>5576.383696</td>\n",
       "      <td>0.000000</td>\n",
       "      <td>201.617534</td>\n",
       "      <td>...</td>\n",
       "      <td>2.552121</td>\n",
       "      <td>2.552121</td>\n",
       "      <td>0.000000</td>\n",
       "      <td>0.000000</td>\n",
       "      <td>0.000000</td>\n",
       "      <td>0.000000</td>\n",
       "      <td>0.000000</td>\n",
       "      <td>0.000000</td>\n",
       "      <td>0.000000</td>\n",
       "      <td>0.000000</td>\n",
       "    </tr>\n",
       "    <tr>\n",
       "      <th>LC6.tpm</th>\n",
       "      <td>81.566355</td>\n",
       "      <td>33601.82989</td>\n",
       "      <td>21.049382</td>\n",
       "      <td>11863.080790</td>\n",
       "      <td>0.000000</td>\n",
       "      <td>1524.326069</td>\n",
       "      <td>504.308107</td>\n",
       "      <td>6267.453446</td>\n",
       "      <td>3.508230</td>\n",
       "      <td>366.610067</td>\n",
       "      <td>...</td>\n",
       "      <td>0.000000</td>\n",
       "      <td>0.000000</td>\n",
       "      <td>2.631173</td>\n",
       "      <td>0.000000</td>\n",
       "      <td>0.000000</td>\n",
       "      <td>0.000000</td>\n",
       "      <td>0.000000</td>\n",
       "      <td>0.000000</td>\n",
       "      <td>0.000000</td>\n",
       "      <td>0.000000</td>\n",
       "    </tr>\n",
       "    <tr>\n",
       "      <th>NC1.tpm</th>\n",
       "      <td>57.658187</td>\n",
       "      <td>27294.59926</td>\n",
       "      <td>6.552067</td>\n",
       "      <td>4589.067484</td>\n",
       "      <td>0.000000</td>\n",
       "      <td>794.110478</td>\n",
       "      <td>517.613266</td>\n",
       "      <td>5409.386229</td>\n",
       "      <td>5.241653</td>\n",
       "      <td>681.414932</td>\n",
       "      <td>...</td>\n",
       "      <td>1.310413</td>\n",
       "      <td>0.000000</td>\n",
       "      <td>0.000000</td>\n",
       "      <td>0.000000</td>\n",
       "      <td>1.310413</td>\n",
       "      <td>0.000000</td>\n",
       "      <td>0.000000</td>\n",
       "      <td>0.000000</td>\n",
       "      <td>0.000000</td>\n",
       "      <td>1.310413</td>\n",
       "    </tr>\n",
       "    <tr>\n",
       "      <th>NC2.tpm</th>\n",
       "      <td>60.758241</td>\n",
       "      <td>23345.52549</td>\n",
       "      <td>5.523476</td>\n",
       "      <td>4267.437891</td>\n",
       "      <td>0.000000</td>\n",
       "      <td>1277.027751</td>\n",
       "      <td>407.632561</td>\n",
       "      <td>4757.922598</td>\n",
       "      <td>0.000000</td>\n",
       "      <td>269.545650</td>\n",
       "      <td>...</td>\n",
       "      <td>0.000000</td>\n",
       "      <td>0.000000</td>\n",
       "      <td>0.000000</td>\n",
       "      <td>0.000000</td>\n",
       "      <td>2.209391</td>\n",
       "      <td>4.418781</td>\n",
       "      <td>0.000000</td>\n",
       "      <td>0.000000</td>\n",
       "      <td>0.000000</td>\n",
       "      <td>1.104695</td>\n",
       "    </tr>\n",
       "    <tr>\n",
       "      <th>NC3.tpm</th>\n",
       "      <td>65.481015</td>\n",
       "      <td>27197.75136</td>\n",
       "      <td>2.931986</td>\n",
       "      <td>3570.181314</td>\n",
       "      <td>0.000000</td>\n",
       "      <td>1040.854941</td>\n",
       "      <td>397.446957</td>\n",
       "      <td>5409.187931</td>\n",
       "      <td>0.651552</td>\n",
       "      <td>430.350353</td>\n",
       "      <td>...</td>\n",
       "      <td>0.977329</td>\n",
       "      <td>0.325776</td>\n",
       "      <td>0.000000</td>\n",
       "      <td>0.000000</td>\n",
       "      <td>0.000000</td>\n",
       "      <td>0.325776</td>\n",
       "      <td>0.000000</td>\n",
       "      <td>0.325776</td>\n",
       "      <td>0.325776</td>\n",
       "      <td>0.000000</td>\n",
       "    </tr>\n",
       "    <tr>\n",
       "      <th>NC4.tpm</th>\n",
       "      <td>53.163034</td>\n",
       "      <td>25408.60776</td>\n",
       "      <td>9.968069</td>\n",
       "      <td>5724.994268</td>\n",
       "      <td>0.000000</td>\n",
       "      <td>1162.941378</td>\n",
       "      <td>348.882413</td>\n",
       "      <td>4113.489788</td>\n",
       "      <td>0.000000</td>\n",
       "      <td>624.665654</td>\n",
       "      <td>...</td>\n",
       "      <td>3.322690</td>\n",
       "      <td>0.000000</td>\n",
       "      <td>0.000000</td>\n",
       "      <td>3.322690</td>\n",
       "      <td>0.000000</td>\n",
       "      <td>0.000000</td>\n",
       "      <td>0.000000</td>\n",
       "      <td>0.000000</td>\n",
       "      <td>0.000000</td>\n",
       "      <td>0.000000</td>\n",
       "    </tr>\n",
       "    <tr>\n",
       "      <th>NC5.tpm</th>\n",
       "      <td>97.619309</td>\n",
       "      <td>24992.46983</td>\n",
       "      <td>2.568929</td>\n",
       "      <td>4310.663175</td>\n",
       "      <td>0.642232</td>\n",
       "      <td>1364.743631</td>\n",
       "      <td>474.609667</td>\n",
       "      <td>4970.235744</td>\n",
       "      <td>1.284465</td>\n",
       "      <td>880.500479</td>\n",
       "      <td>...</td>\n",
       "      <td>1.284465</td>\n",
       "      <td>0.642232</td>\n",
       "      <td>0.642232</td>\n",
       "      <td>0.000000</td>\n",
       "      <td>0.642232</td>\n",
       "      <td>0.642232</td>\n",
       "      <td>0.000000</td>\n",
       "      <td>0.000000</td>\n",
       "      <td>0.000000</td>\n",
       "      <td>0.000000</td>\n",
       "    </tr>\n",
       "  </tbody>\n",
       "</table>\n",
       "<p>10 rows × 1254 columns</p>\n",
       "</div>"
      ],
      "text/plain": [
       "                0            1          2             3         4     \\\n",
       "LC11.tpm   84.810449  35945.49515   2.019296   6601.079920  0.000000   \n",
       "LC3.tpm    81.564623  24061.56385   8.718977   4780.811951  0.000000   \n",
       "LC4.tpm   116.614493  34847.67075   8.150475   5837.621215  0.626960   \n",
       "LC5.tpm    91.876345  28593.96015  15.312724  10165.096690  0.000000   \n",
       "LC6.tpm    81.566355  33601.82989  21.049382  11863.080790  0.000000   \n",
       "NC1.tpm    57.658187  27294.59926   6.552067   4589.067484  0.000000   \n",
       "NC2.tpm    60.758241  23345.52549   5.523476   4267.437891  0.000000   \n",
       "NC3.tpm    65.481015  27197.75136   2.931986   3570.181314  0.000000   \n",
       "NC4.tpm    53.163034  25408.60776   9.968069   5724.994268  0.000000   \n",
       "NC5.tpm    97.619309  24992.46983   2.568929   4310.663175  0.642232   \n",
       "\n",
       "                 5           6            7         8           9     ...  \\\n",
       "LC11.tpm  1524.568779  438.187318  6187.124158  2.019296  448.283800  ...   \n",
       "LC3.tpm   1379.004647  408.385631  5804.307343  0.843772  542.545373  ...   \n",
       "LC4.tpm   1502.822259  378.683623  8105.961195  0.626960  750.470690  ...   \n",
       "LC5.tpm   1686.951773  579.331395  5576.383696  0.000000  201.617534  ...   \n",
       "LC6.tpm   1524.326069  504.308107  6267.453446  3.508230  366.610067  ...   \n",
       "NC1.tpm    794.110478  517.613266  5409.386229  5.241653  681.414932  ...   \n",
       "NC2.tpm   1277.027751  407.632561  4757.922598  0.000000  269.545650  ...   \n",
       "NC3.tpm   1040.854941  397.446957  5409.187931  0.651552  430.350353  ...   \n",
       "NC4.tpm   1162.941378  348.882413  4113.489788  0.000000  624.665654  ...   \n",
       "NC5.tpm   1364.743631  474.609667  4970.235744  1.284465  880.500479  ...   \n",
       "\n",
       "              1244      1245      1246      1247      1248      1249  \\\n",
       "LC11.tpm  0.000000  0.000000  0.000000  0.000000  0.000000  0.000000   \n",
       "LC3.tpm   0.281257  0.562515  1.687544  0.562515  0.281257  0.281257   \n",
       "LC4.tpm   0.000000  0.000000  0.000000  0.000000  0.000000  0.000000   \n",
       "LC5.tpm   2.552121  2.552121  0.000000  0.000000  0.000000  0.000000   \n",
       "LC6.tpm   0.000000  0.000000  2.631173  0.000000  0.000000  0.000000   \n",
       "NC1.tpm   1.310413  0.000000  0.000000  0.000000  1.310413  0.000000   \n",
       "NC2.tpm   0.000000  0.000000  0.000000  0.000000  2.209391  4.418781   \n",
       "NC3.tpm   0.977329  0.325776  0.000000  0.000000  0.000000  0.325776   \n",
       "NC4.tpm   3.322690  0.000000  0.000000  3.322690  0.000000  0.000000   \n",
       "NC5.tpm   1.284465  0.642232  0.642232  0.000000  0.642232  0.642232   \n",
       "\n",
       "              1250      1251      1252      1253  \n",
       "LC11.tpm  0.000000  2.019296  0.000000  0.000000  \n",
       "LC3.tpm   0.281257  0.281257  0.000000  0.000000  \n",
       "LC4.tpm   0.000000  0.000000  0.000000  0.000000  \n",
       "LC5.tpm   0.000000  0.000000  0.000000  0.000000  \n",
       "LC6.tpm   0.000000  0.000000  0.000000  0.000000  \n",
       "NC1.tpm   0.000000  0.000000  0.000000  1.310413  \n",
       "NC2.tpm   0.000000  0.000000  0.000000  1.104695  \n",
       "NC3.tpm   0.000000  0.325776  0.325776  0.000000  \n",
       "NC4.tpm   0.000000  0.000000  0.000000  0.000000  \n",
       "NC5.tpm   0.000000  0.000000  0.000000  0.000000  \n",
       "\n",
       "[10 rows x 1254 columns]"
      ]
     },
     "execution_count": 166,
     "metadata": {},
     "output_type": "execute_result"
    }
   ],
   "source": [
    "table = data.iloc[:, 11:].transpose()\n",
    "mirnas = data.iloc[:, 0]\n",
    "table"
   ]
  },
  {
   "cell_type": "code",
   "execution_count": 167,
   "metadata": {},
   "outputs": [],
   "source": [
    "mask = table.mean() > threshold\n",
    "table = table.loc[:, mask]\n",
    "mirnas = mirnas[mask]"
   ]
  },
  {
   "cell_type": "code",
   "execution_count": 168,
   "metadata": {},
   "outputs": [],
   "source": [
    "controls = np.array([\"NC\" in c for c in table.index])\n",
    "sick = 1 - controls"
   ]
  },
  {
   "cell_type": "markdown",
   "metadata": {},
   "source": [
    "### Mean-variance-plot"
   ]
  },
  {
   "cell_type": "code",
   "execution_count": 169,
   "metadata": {},
   "outputs": [
    {
     "data": {
      "text/plain": [
       "1       28528.947349\n",
       "3        6171.003470\n",
       "5        1325.735171\n",
       "7        5660.145213\n",
       "12      44921.677314\n",
       "            ...     \n",
       "1162     5083.049724\n",
       "1167     1162.511821\n",
       "1181     1930.759968\n",
       "1183     2172.383784\n",
       "1185     1206.273371\n",
       "Length: 74, dtype: float64"
      ]
     },
     "execution_count": 169,
     "metadata": {},
     "output_type": "execute_result"
    }
   ],
   "source": [
    "np.mean(table)"
   ]
  },
  {
   "cell_type": "code",
   "execution_count": 170,
   "metadata": {
    "tags": []
   },
   "outputs": [],
   "source": [
    "def get_means_and_variances(table):\n",
    "    return np.mean(table), np.var(table, ddof=1)"
   ]
  },
  {
   "cell_type": "code",
   "execution_count": 171,
   "metadata": {
    "tags": []
   },
   "outputs": [],
   "source": [
    "def mean_variance_plot(table):\n",
    "    means, variances = get_means_and_variances(table)\n",
    "    plt.scatter(means, variances)\n",
    "    plt.xlabel(\"mean\")\n",
    "    plt.ylabel(\"variance\")\n",
    "    plt.plot()"
   ]
  },
  {
   "cell_type": "code",
   "execution_count": 172,
   "metadata": {},
   "outputs": [
    {
     "data": {
      "image/png": "[encoded data removed]",
      "text/plain": [
       "<Figure size 432x288 with 1 Axes>"
      ]
     },
     "metadata": {
      "needs_background": "light"
     },
     "output_type": "display_data"
    }
   ],
   "source": [
    "mean_variance_plot(table)"
   ]
  },
  {
   "cell_type": "markdown",
   "metadata": {},
   "source": [
    "### Log transformation"
   ]
  },
  {
   "cell_type": "code",
   "execution_count": 173,
   "metadata": {},
   "outputs": [],
   "source": [
    "log_table = np.log2(table + 1e-6)"
   ]
  },
  {
   "cell_type": "code",
   "execution_count": 174,
   "metadata": {},
   "outputs": [
    {
     "data": {
      "image/png": "[encoded data removed]",
      "text/plain": [
       "<Figure size 432x288 with 1 Axes>"
      ]
     },
     "metadata": {
      "needs_background": "light"
     },
     "output_type": "display_data"
    }
   ],
   "source": [
    "mean_variance_plot(log_table)"
   ]
  },
  {
   "cell_type": "code",
   "execution_count": 175,
   "metadata": {},
   "outputs": [],
   "source": [
    "mask = log_table.var() < 20\n",
    "log_table = log_table.loc[:, mask]\n",
    "mirnas = mirnas[mask]"
   ]
  },
  {
   "cell_type": "markdown",
   "metadata": {},
   "source": [
    "### Standardizing"
   ]
  },
  {
   "cell_type": "code",
   "execution_count": 176,
   "metadata": {
    "tags": []
   },
   "outputs": [],
   "source": [
    "norm_log_table = log_table - np.mean(log_table)"
   ]
  },
  {
   "cell_type": "code",
   "execution_count": 177,
   "metadata": {},
   "outputs": [],
   "source": [
    "norm_log_table /= np.sqrt(np.mean(np.var(norm_log_table, ddof=1)))"
   ]
  },
  {
   "cell_type": "code",
   "execution_count": 178,
   "metadata": {},
   "outputs": [
    {
     "data": {
      "image/png": "[encoded data removed]",
      "text/plain": [
       "<Figure size 432x288 with 1 Axes>"
      ]
     },
     "metadata": {
      "needs_background": "light"
     },
     "output_type": "display_data"
    }
   ],
   "source": [
    "mean_variance_plot(norm_log_table)"
   ]
  },
  {
   "cell_type": "code",
   "execution_count": 179,
   "metadata": {},
   "outputs": [
    {
     "data": {
      "text/plain": [
       "0"
      ]
     },
     "execution_count": 179,
     "metadata": {},
     "output_type": "execute_result"
    }
   ],
   "source": [
    "norm_log_table.isna().sum().sum()"
   ]
  },
  {
   "cell_type": "markdown",
   "metadata": {},
   "source": [
    "### PCA"
   ]
  },
  {
   "cell_type": "code",
   "execution_count": 180,
   "metadata": {
    "tags": []
   },
   "outputs": [],
   "source": [
    "pca = decomposition.PCA(n_components=10)"
   ]
  },
  {
   "cell_type": "code",
   "execution_count": 181,
   "metadata": {},
   "outputs": [
    {
     "data": {
      "text/plain": [
       "PCA(n_components=10)"
      ]
     },
     "execution_count": 181,
     "metadata": {},
     "output_type": "execute_result"
    }
   ],
   "source": [
    "pca.fit(norm_log_table)"
   ]
  },
  {
   "cell_type": "code",
   "execution_count": 182,
   "metadata": {},
   "outputs": [
    {
     "data": {
      "text/plain": [
       "array([5.38018615e-01, 2.20681006e-01, 7.76408018e-02, 4.90695865e-02,\n",
       "       4.06590909e-02, 3.92463948e-02, 1.63221671e-02, 1.31999500e-02,\n",
       "       5.16238718e-03, 5.67252496e-33])"
      ]
     },
     "execution_count": 182,
     "metadata": {},
     "output_type": "execute_result"
    }
   ],
   "source": [
    "pca.explained_variance_ratio_"
   ]
  },
  {
   "cell_type": "code",
   "execution_count": 183,
   "metadata": {
    "tags": []
   },
   "outputs": [],
   "source": [
    "components = pca.transform(norm_log_table)"
   ]
  },
  {
   "cell_type": "code",
   "execution_count": 184,
   "metadata": {},
   "outputs": [
    {
     "data": {
      "text/plain": [
       "array([[-9.07453491e+00, -4.94278099e+00, -1.62978086e+00,\n",
       "         2.38463015e+00, -4.50841511e-01, -1.40814711e+00,\n",
       "        -1.25662944e+00,  6.36810651e-01,  1.14677018e-01,\n",
       "        -2.65300462e-15],\n",
       "       [ 2.50156930e+00,  3.21600719e+00,  1.91458874e-01,\n",
       "        -7.77015312e-01, -2.44161419e+00,  1.38723922e+00,\n",
       "        -8.02194239e-01,  4.95466157e-01,  1.19029312e+00,\n",
       "         6.44025110e-16],\n",
       "       [ 1.19363183e+00,  3.63729424e+00, -3.07675788e+00,\n",
       "        -8.98342668e-01, -9.25342288e-01,  1.16434271e+00,\n",
       "        -1.05510394e+00, -1.93424756e-01, -1.18451368e+00,\n",
       "         2.49109607e-16],\n",
       "       [-5.83946983e+00,  1.34933939e+00, -3.16086434e+00,\n",
       "        -2.85312633e+00,  1.47858614e+00, -1.33137763e+00,\n",
       "         1.18952397e+00, -2.64073993e-01,  4.67221123e-01,\n",
       "         4.17585325e-16],\n",
       "       [-3.56377086e+00,  6.47605586e+00,  1.49050596e+00,\n",
       "         2.92607872e+00, -7.25378599e-01, -5.80861938e-01,\n",
       "         1.57006601e+00,  8.98779741e-02, -2.21121214e-01,\n",
       "         5.95616156e-16],\n",
       "       [ 8.37368843e+00,  2.60531388e+00,  4.79553419e-01,\n",
       "         1.09972197e+00,  3.54673612e+00, -7.87097488e-01,\n",
       "        -1.07313413e+00,  2.73872477e-01,  2.19082861e-01,\n",
       "        -6.80437064e-16],\n",
       "       [-1.70137404e-02, -1.01927208e+00,  3.72486688e+00,\n",
       "        -1.55024853e+00, -1.04148367e+00, -2.20645244e+00,\n",
       "        -6.75381371e-01, -1.54534310e+00, -1.95772453e-01,\n",
       "         6.18150769e-16],\n",
       "       [ 9.68420375e+00, -5.44344720e+00, -2.15653975e+00,\n",
       "         1.50184976e+00, -8.16305440e-01,  4.53339218e-01,\n",
       "         1.17611678e+00, -1.00090795e+00,  1.17659260e-01,\n",
       "         3.63957385e-16],\n",
       "       [-6.74186728e+00, -2.45258117e+00,  2.17332813e+00,\n",
       "        -1.00782317e-01,  1.70492296e+00,  3.60346440e+00,\n",
       "         1.21181402e-01, -5.54459061e-01, -2.03328182e-02,\n",
       "         3.22124294e-16],\n",
       "       [ 3.48356332e+00, -3.42592913e+00,  1.96422957e+00,\n",
       "        -1.73276545e+00, -3.29279513e-01, -2.94448944e-01,\n",
       "         8.05554957e-01,  2.06218160e+00, -4.87193223e-01,\n",
       "         6.35366400e-16]])"
      ]
     },
     "execution_count": 184,
     "metadata": {},
     "output_type": "execute_result"
    }
   ],
   "source": [
    "components"
   ]
  },
  {
   "cell_type": "code",
   "execution_count": 185,
   "metadata": {},
   "outputs": [
    {
     "data": {
      "image/png": "[encoded data removed]",
      "text/plain": [
       "<Figure size 576x576 with 1 Axes>"
      ]
     },
     "metadata": {
      "needs_background": "light"
     },
     "output_type": "display_data"
    }
   ],
   "source": [
    "fig = plt.figure(figsize = (8,8))\n",
    "ax = fig.add_subplot(1,1,1)\n",
    "\n",
    "ax.set_xlabel('Principal Component 1', fontsize = 15)\n",
    "ax.set_ylabel('Principal Component 2', fontsize = 15)\n",
    "ax.set_title('2 component PCA', fontsize = 20)\n",
    "targets = ['Cancer', 'Healthy']\n",
    "colors = ['r', 'g']\n",
    "ax.scatter(components[controls == False, 0], components[controls == False, 1], c = 'r', s = 10)\n",
    "ax.scatter(components[controls == True, 0], components[controls == True, 1], c = 'g', s = 10)\n",
    "ax.legend(targets)\n",
    "ax.grid()"
   ]
  },
  {
   "cell_type": "code",
   "execution_count": 186,
   "metadata": {
    "tags": []
   },
   "outputs": [],
   "source": [
    "components2 = components[components[:,0] < 20, :]\n",
    "controls2 = controls[components[:,0] < 20]"
   ]
  },
  {
   "cell_type": "code",
   "execution_count": 187,
   "metadata": {},
   "outputs": [
    {
     "data": {
      "image/png": "[encoded data removed]",
      "text/plain": [
       "<Figure size 576x576 with 1 Axes>"
      ]
     },
     "metadata": {
      "needs_background": "light"
     },
     "output_type": "display_data"
    }
   ],
   "source": [
    "fig = plt.figure(figsize = (8,8))\n",
    "ax = fig.add_subplot(1,1,1)\n",
    "\n",
    "ax.set_xlabel('Principal Component 1', fontsize = 15)\n",
    "ax.set_ylabel('Principal Component 2', fontsize = 15)\n",
    "ax.set_title('2 component PCA', fontsize = 20)\n",
    "targets = ['Cancer', 'Healthy']\n",
    "colors = ['r', 'g']\n",
    "ax.scatter(components2[controls2 == False, 0], components2[controls2 == False, 1], c = 'r', s = 10)\n",
    "ax.scatter(components2[controls2 == True, 0], components2[controls2 == True, 1], c = 'g', s = 10)\n",
    "ax.legend(targets)\n",
    "ax.grid()"
   ]
  },
  {
   "cell_type": "markdown",
   "metadata": {},
   "source": [
    "### Logistic Regression"
   ]
  },
  {
   "cell_type": "code",
   "execution_count": 188,
   "metadata": {},
   "outputs": [],
   "source": [
    "X_train, X_test, y_train, y_test = train_test_split(norm_log_table, controls, test_size=0.33, random_state=42)"
   ]
  },
  {
   "cell_type": "code",
   "execution_count": 189,
   "metadata": {},
   "outputs": [
    {
     "data": {
      "text/plain": [
       "LogisticRegression(max_iter=2000)"
      ]
     },
     "execution_count": 189,
     "metadata": {},
     "output_type": "execute_result"
    }
   ],
   "source": [
    "model = LogisticRegression(max_iter=2000)\n",
    "model.fit(X_train, y_train)"
   ]
  },
  {
   "cell_type": "code",
   "execution_count": 190,
   "metadata": {},
   "outputs": [
    {
     "name": "stderr",
     "output_type": "stream",
     "text": [
      "C:\\Users\\olefr\\AppData\\Local\\Programs\\Python\\Python310\\lib\\site-packages\\sklearn\\utils\\deprecation.py:87: FutureWarning: Function plot_roc_curve is deprecated; Function :func:`plot_roc_curve` is deprecated in 1.0 and will be removed in 1.2. Use one of the class methods: :meth:`sklearn.metric.RocCurveDisplay.from_predictions` or :meth:`sklearn.metric.RocCurveDisplay.from_estimator`.\n",
      "  warnings.warn(msg, category=FutureWarning)\n"
     ]
    },
    {
     "data": {
      "text/plain": [
       "<sklearn.metrics._plot.roc_curve.RocCurveDisplay at 0x29f2a3dff70>"
      ]
     },
     "execution_count": 190,
     "metadata": {},
     "output_type": "execute_result"
    },
    {
     "data": {
      "image/png": "[encoded data removed]",
      "text/plain": [
       "<Figure size 432x288 with 1 Axes>"
      ]
     },
     "metadata": {
      "needs_background": "light"
     },
     "output_type": "display_data"
    }
   ],
   "source": [
    "plot_roc_curve(model, X_test, y_test)"
   ]
  },
  {
   "cell_type": "markdown",
   "metadata": {
    "jupyter": {
     "outputs_hidden": true
    },
    "tags": []
   },
   "source": [
    "### XGBoost"
   ]
  },
  {
   "cell_type": "code",
   "execution_count": 191,
   "metadata": {},
   "outputs": [],
   "source": [
    "X_train, X_test, y_train, y_test = train_test_split(norm_log_table, controls, test_size=0.33, random_state=42)"
   ]
  },
  {
   "cell_type": "code",
   "execution_count": 192,
   "metadata": {},
   "outputs": [
    {
     "name": "stdout",
     "output_type": "stream",
     "text": [
      "[16:13:46] WARNING: C:/Users/Administrator/workspace/xgboost-win64_release_1.5.1/src/learner.cc:1115: Starting in XGBoost 1.3.0, the default evaluation metric used with the objective 'binary:logistic' was changed from 'error' to 'logloss'. Explicitly set eval_metric if you'd like to restore the old behavior.\n"
     ]
    },
    {
     "data": {
      "text/plain": [
       "XGBClassifier(base_score=0.5, booster='gbtree', colsample_bylevel=1,\n",
       "              colsample_bynode=1, colsample_bytree=1, enable_categorical=False,\n",
       "              gamma=0, gpu_id=-1, importance_type=None,\n",
       "              interaction_constraints='', learning_rate=0.300000012,\n",
       "              max_delta_step=0, max_depth=6, min_child_weight=1, missing=nan,\n",
       "              monotone_constraints='()', n_estimators=100, n_jobs=16,\n",
       "              num_parallel_tree=1, predictor='auto', random_state=0,\n",
       "              reg_alpha=0, reg_lambda=1, scale_pos_weight=1, subsample=1,\n",
       "              tree_method='exact', use_label_encoder=False,\n",
       "              validate_parameters=1, verbosity=None)"
      ]
     },
     "execution_count": 192,
     "metadata": {},
     "output_type": "execute_result"
    }
   ],
   "source": [
    "model = XGBClassifier(use_label_encoder=False)\n",
    "model.fit(X_train, y_train)"
   ]
  },
  {
   "cell_type": "code",
   "execution_count": 193,
   "metadata": {},
   "outputs": [
    {
     "name": "stderr",
     "output_type": "stream",
     "text": [
      "C:\\Users\\olefr\\AppData\\Local\\Programs\\Python\\Python310\\lib\\site-packages\\sklearn\\utils\\deprecation.py:87: FutureWarning: Function plot_roc_curve is deprecated; Function :func:`plot_roc_curve` is deprecated in 1.0 and will be removed in 1.2. Use one of the class methods: :meth:`sklearn.metric.RocCurveDisplay.from_predictions` or :meth:`sklearn.metric.RocCurveDisplay.from_estimator`.\n",
      "  warnings.warn(msg, category=FutureWarning)\n"
     ]
    },
    {
     "data": {
      "text/plain": [
       "<sklearn.metrics._plot.roc_curve.RocCurveDisplay at 0x29f2a169b70>"
      ]
     },
     "execution_count": 193,
     "metadata": {},
     "output_type": "execute_result"
    },
    {
     "data": {
      "image/png": "[encoded data removed]",
      "text/plain": [
       "<Figure size 432x288 with 1 Axes>"
      ]
     },
     "metadata": {
      "needs_background": "light"
     },
     "output_type": "display_data"
    }
   ],
   "source": [
    "plot_roc_curve(model, X_test, y_test)"
   ]
  },
  {
   "cell_type": "markdown",
   "metadata": {},
   "source": [
    "### Exporting data"
   ]
  },
  {
   "cell_type": "code",
   "execution_count": 194,
   "metadata": {},
   "outputs": [
    {
     "data": {
      "text/plain": [
       "1       hsa-let-7a-5p\n",
       "3       hsa-let-7b-5p\n",
       "5       hsa-let-7c-5p\n",
       "7       hsa-let-7d-5p\n",
       "12      hsa-let-7f-5p\n",
       "14      hsa-let-7g-5p\n",
       "16      hsa-let-7i-5p\n",
       "18     hsa-miR-101-3p\n",
       "21    hsa-miR-103a-3p\n",
       "22       hsa-miR-103b\n",
       "Name: miRNA_ID, dtype: object"
      ]
     },
     "execution_count": 194,
     "metadata": {},
     "output_type": "execute_result"
    }
   ],
   "source": [
    "mirnas[:10]"
   ]
  },
  {
   "cell_type": "code",
   "execution_count": 195,
   "metadata": {},
   "outputs": [],
   "source": [
    "from Scripts import converters"
   ]
  },
  {
   "cell_type": "code",
   "execution_count": 196,
   "metadata": {},
   "outputs": [],
   "source": [
    "sequences = converters.canonical_to_seq(mirnas, True)"
   ]
  },
  {
   "cell_type": "code",
   "execution_count": 197,
   "metadata": {},
   "outputs": [],
   "source": [
    "sequences = np.array(sequences)"
   ]
  },
  {
   "cell_type": "code",
   "execution_count": 198,
   "metadata": {},
   "outputs": [
    {
     "data": {
      "text/plain": [
       "Series([], Name: miRNA_ID, dtype: object)"
      ]
     },
     "execution_count": 198,
     "metadata": {},
     "output_type": "execute_result"
    }
   ],
   "source": [
    "mirnas[sequences == None]"
   ]
  },
  {
   "cell_type": "code",
   "execution_count": 199,
   "metadata": {},
   "outputs": [],
   "source": [
    "mask = sequences != None\n",
    "sequences = sequences[mask]\n",
    "norm_log_table = norm_log_table.loc[:, mask]"
   ]
  },
  {
   "cell_type": "code",
   "execution_count": 200,
   "metadata": {},
   "outputs": [
    {
     "data": {
      "text/html": [
       "<div>\n",
       "<style scoped>\n",
       "    .dataframe tbody tr th:only-of-type {\n",
       "        vertical-align: middle;\n",
       "    }\n",
       "\n",
       "    .dataframe tbody tr th {\n",
       "        vertical-align: top;\n",
       "    }\n",
       "\n",
       "    .dataframe thead th {\n",
       "        text-align: right;\n",
       "    }\n",
       "</style>\n",
       "<table border=\"1\" class=\"dataframe\">\n",
       "  <thead>\n",
       "    <tr style=\"text-align: right;\">\n",
       "      <th></th>\n",
       "      <th>UGAGGUAGUAGGUUGUAUAGUU</th>\n",
       "      <th>UGAGGUAGUAGGUUGUGUGGUU</th>\n",
       "      <th>UGAGGUAGUAGGUUGUAUGGUU</th>\n",
       "      <th>AGAGGUAGUAGGUUGCAUAGUU</th>\n",
       "      <th>UGAGGUAGUAGAUUGUAUAGUU</th>\n",
       "      <th>UGAGGUAGUAGUUUGUACAGUU</th>\n",
       "      <th>UGAGGUAGUAGUUUGUGCUGUU</th>\n",
       "      <th>UACAGUACUGUGAUAACUGAA</th>\n",
       "      <th>AGCAGCAUUGUACAGGGCUAUGA</th>\n",
       "      <th>UCAUAGCCCUGUACAAUGCUGCU</th>\n",
       "      <th>...</th>\n",
       "      <th>CGGGGCAGCUCAGUACAGGAU</th>\n",
       "      <th>UCCUGUACUGAGCUGCCCCGAG</th>\n",
       "      <th>UGCGGGGCUAGGGCUAACAGCA</th>\n",
       "      <th>UGGAAGACUAGUGAUUUUGUUGUU</th>\n",
       "      <th>UAUUGCACUUGUCCCGGCCUGU</th>\n",
       "      <th>CAAAGUGCUGUUCGUGCAGGUAG</th>\n",
       "      <th>UGAGGUAGUAAGUUGUAUUGUU</th>\n",
       "      <th>AACCCGUAGAUCCGAUCUUGUG</th>\n",
       "      <th>CACCCGUAGAACCGACCUUGCG</th>\n",
       "      <th>cancer</th>\n",
       "    </tr>\n",
       "  </thead>\n",
       "  <tbody>\n",
       "    <tr>\n",
       "      <th>LC11.tpm</th>\n",
       "      <td>0.517366</td>\n",
       "      <td>0.300962</td>\n",
       "      <td>0.342723</td>\n",
       "      <td>0.222614</td>\n",
       "      <td>0.503700</td>\n",
       "      <td>-0.460835</td>\n",
       "      <td>0.483533</td>\n",
       "      <td>-0.750360</td>\n",
       "      <td>-0.430347</td>\n",
       "      <td>-0.437142</td>\n",
       "      <td>...</td>\n",
       "      <td>0.091297</td>\n",
       "      <td>0.097326</td>\n",
       "      <td>0.077452</td>\n",
       "      <td>0.903782</td>\n",
       "      <td>-0.122862</td>\n",
       "      <td>-0.952078</td>\n",
       "      <td>0.709969</td>\n",
       "      <td>1.196077</td>\n",
       "      <td>-0.311027</td>\n",
       "      <td>1</td>\n",
       "    </tr>\n",
       "    <tr>\n",
       "      <th>LC3.tpm</th>\n",
       "      <td>-0.339066</td>\n",
       "      <td>-0.387410</td>\n",
       "      <td>0.128610</td>\n",
       "      <td>0.086336</td>\n",
       "      <td>-0.357040</td>\n",
       "      <td>0.190676</td>\n",
       "      <td>-0.184653</td>\n",
       "      <td>0.548715</td>\n",
       "      <td>-0.112049</td>\n",
       "      <td>-0.106431</td>\n",
       "      <td>...</td>\n",
       "      <td>1.197095</td>\n",
       "      <td>1.111572</td>\n",
       "      <td>0.119516</td>\n",
       "      <td>-0.895506</td>\n",
       "      <td>-0.717518</td>\n",
       "      <td>0.104514</td>\n",
       "      <td>-0.360827</td>\n",
       "      <td>-0.377652</td>\n",
       "      <td>-0.222368</td>\n",
       "      <td>1</td>\n",
       "    </tr>\n",
       "    <tr>\n",
       "      <th>LC4.tpm</th>\n",
       "      <td>0.451185</td>\n",
       "      <td>0.038712</td>\n",
       "      <td>0.312069</td>\n",
       "      <td>0.798983</td>\n",
       "      <td>0.220560</td>\n",
       "      <td>0.078144</td>\n",
       "      <td>-0.047056</td>\n",
       "      <td>0.330236</td>\n",
       "      <td>-0.326228</td>\n",
       "      <td>-0.324610</td>\n",
       "      <td>...</td>\n",
       "      <td>1.069670</td>\n",
       "      <td>1.025629</td>\n",
       "      <td>-0.401303</td>\n",
       "      <td>0.234537</td>\n",
       "      <td>-0.218615</td>\n",
       "      <td>0.030290</td>\n",
       "      <td>0.210324</td>\n",
       "      <td>-1.318184</td>\n",
       "      <td>-0.334159</td>\n",
       "      <td>1</td>\n",
       "    </tr>\n",
       "    <tr>\n",
       "      <th>LC5.tpm</th>\n",
       "      <td>0.029164</td>\n",
       "      <td>1.222126</td>\n",
       "      <td>0.558676</td>\n",
       "      <td>0.000862</td>\n",
       "      <td>-0.759728</td>\n",
       "      <td>-1.234527</td>\n",
       "      <td>0.196511</td>\n",
       "      <td>0.372850</td>\n",
       "      <td>-1.150092</td>\n",
       "      <td>-1.157956</td>\n",
       "      <td>...</td>\n",
       "      <td>1.179893</td>\n",
       "      <td>1.142824</td>\n",
       "      <td>0.365281</td>\n",
       "      <td>0.993007</td>\n",
       "      <td>0.667537</td>\n",
       "      <td>-0.175233</td>\n",
       "      <td>0.528115</td>\n",
       "      <td>0.557339</td>\n",
       "      <td>-0.999779</td>\n",
       "      <td>1</td>\n",
       "    </tr>\n",
       "    <tr>\n",
       "      <th>LC6.tpm</th>\n",
       "      <td>0.373507</td>\n",
       "      <td>1.551718</td>\n",
       "      <td>0.342383</td>\n",
       "      <td>0.250138</td>\n",
       "      <td>-0.697438</td>\n",
       "      <td>-0.903929</td>\n",
       "      <td>-0.286812</td>\n",
       "      <td>-1.017400</td>\n",
       "      <td>-0.724773</td>\n",
       "      <td>-0.725442</td>\n",
       "      <td>...</td>\n",
       "      <td>3.024845</td>\n",
       "      <td>2.920671</td>\n",
       "      <td>-0.642415</td>\n",
       "      <td>-0.535647</td>\n",
       "      <td>0.590207</td>\n",
       "      <td>0.468181</td>\n",
       "      <td>0.031911</td>\n",
       "      <td>-0.606935</td>\n",
       "      <td>0.013652</td>\n",
       "      <td>1</td>\n",
       "    </tr>\n",
       "  </tbody>\n",
       "</table>\n",
       "<p>5 rows × 75 columns</p>\n",
       "</div>"
      ],
      "text/plain": [
       "          UGAGGUAGUAGGUUGUAUAGUU  UGAGGUAGUAGGUUGUGUGGUU  \\\n",
       "LC11.tpm                0.517366                0.300962   \n",
       "LC3.tpm                -0.339066               -0.387410   \n",
       "LC4.tpm                 0.451185                0.038712   \n",
       "LC5.tpm                 0.029164                1.222126   \n",
       "LC6.tpm                 0.373507                1.551718   \n",
       "\n",
       "          UGAGGUAGUAGGUUGUAUGGUU  AGAGGUAGUAGGUUGCAUAGUU  \\\n",
       "LC11.tpm                0.342723                0.222614   \n",
       "LC3.tpm                 0.128610                0.086336   \n",
       "LC4.tpm                 0.312069                0.798983   \n",
       "LC5.tpm                 0.558676                0.000862   \n",
       "LC6.tpm                 0.342383                0.250138   \n",
       "\n",
       "          UGAGGUAGUAGAUUGUAUAGUU  UGAGGUAGUAGUUUGUACAGUU  \\\n",
       "LC11.tpm                0.503700               -0.460835   \n",
       "LC3.tpm                -0.357040                0.190676   \n",
       "LC4.tpm                 0.220560                0.078144   \n",
       "LC5.tpm                -0.759728               -1.234527   \n",
       "LC6.tpm                -0.697438               -0.903929   \n",
       "\n",
       "          UGAGGUAGUAGUUUGUGCUGUU  UACAGUACUGUGAUAACUGAA  \\\n",
       "LC11.tpm                0.483533              -0.750360   \n",
       "LC3.tpm                -0.184653               0.548715   \n",
       "LC4.tpm                -0.047056               0.330236   \n",
       "LC5.tpm                 0.196511               0.372850   \n",
       "LC6.tpm                -0.286812              -1.017400   \n",
       "\n",
       "          AGCAGCAUUGUACAGGGCUAUGA  UCAUAGCCCUGUACAAUGCUGCU  ...  \\\n",
       "LC11.tpm                -0.430347                -0.437142  ...   \n",
       "LC3.tpm                 -0.112049                -0.106431  ...   \n",
       "LC4.tpm                 -0.326228                -0.324610  ...   \n",
       "LC5.tpm                 -1.150092                -1.157956  ...   \n",
       "LC6.tpm                 -0.724773                -0.725442  ...   \n",
       "\n",
       "          CGGGGCAGCUCAGUACAGGAU  UCCUGUACUGAGCUGCCCCGAG  \\\n",
       "LC11.tpm               0.091297                0.097326   \n",
       "LC3.tpm                1.197095                1.111572   \n",
       "LC4.tpm                1.069670                1.025629   \n",
       "LC5.tpm                1.179893                1.142824   \n",
       "LC6.tpm                3.024845                2.920671   \n",
       "\n",
       "          UGCGGGGCUAGGGCUAACAGCA  UGGAAGACUAGUGAUUUUGUUGUU  \\\n",
       "LC11.tpm                0.077452                  0.903782   \n",
       "LC3.tpm                 0.119516                 -0.895506   \n",
       "LC4.tpm                -0.401303                  0.234537   \n",
       "LC5.tpm                 0.365281                  0.993007   \n",
       "LC6.tpm                -0.642415                 -0.535647   \n",
       "\n",
       "          UAUUGCACUUGUCCCGGCCUGU  CAAAGUGCUGUUCGUGCAGGUAG  \\\n",
       "LC11.tpm               -0.122862                -0.952078   \n",
       "LC3.tpm                -0.717518                 0.104514   \n",
       "LC4.tpm                -0.218615                 0.030290   \n",
       "LC5.tpm                 0.667537                -0.175233   \n",
       "LC6.tpm                 0.590207                 0.468181   \n",
       "\n",
       "          UGAGGUAGUAAGUUGUAUUGUU  AACCCGUAGAUCCGAUCUUGUG  \\\n",
       "LC11.tpm                0.709969                1.196077   \n",
       "LC3.tpm                -0.360827               -0.377652   \n",
       "LC4.tpm                 0.210324               -1.318184   \n",
       "LC5.tpm                 0.528115                0.557339   \n",
       "LC6.tpm                 0.031911               -0.606935   \n",
       "\n",
       "          CACCCGUAGAACCGACCUUGCG  cancer  \n",
       "LC11.tpm               -0.311027       1  \n",
       "LC3.tpm                -0.222368       1  \n",
       "LC4.tpm                -0.334159       1  \n",
       "LC5.tpm                -0.999779       1  \n",
       "LC6.tpm                 0.013652       1  \n",
       "\n",
       "[5 rows x 75 columns]"
      ]
     },
     "execution_count": 200,
     "metadata": {},
     "output_type": "execute_result"
    }
   ],
   "source": [
    "norm_log_table.columns = sequences\n",
    "norm_log_table[\"cancer\"] = sick\n",
    "norm_log_table.head()"
   ]
  },
  {
   "cell_type": "code",
   "execution_count": 201,
   "metadata": {},
   "outputs": [],
   "source": [
    "norm_log_table.to_csv(f\"../TransformedData/Yao2019_threshold_{threshold}.csv\", index=False)"
   ]
  },
  {
   "cell_type": "code",
   "execution_count": null,
   "metadata": {},
   "outputs": [],
   "source": []
  }
 ],
 "metadata": {
  "kernelspec": {
   "display_name": "Python 3 (ipykernel)",
   "language": "python",
   "name": "python3"
  },
  "language_info": {
   "codemirror_mode": {
    "name": "ipython",
    "version": 3
   },
   "file_extension": ".py",
   "mimetype": "text/x-python",
   "name": "python",
   "nbconvert_exporter": "python",
   "pygments_lexer": "ipython3",
   "version": "3.10.1"
  }
 },
 "nbformat": 4,
 "nbformat_minor": 4
}
