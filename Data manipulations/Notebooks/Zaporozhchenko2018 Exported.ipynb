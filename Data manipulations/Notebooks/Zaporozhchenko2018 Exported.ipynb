{
 "cells": [
  {
   "cell_type": "code",
   "execution_count": 63,
   "id": "51571063-765e-4749-be5b-33b5e9efa9ed",
   "metadata": {},
   "outputs": [],
   "source": [
    "%matplotlib inline\n",
    "import GEOparse\n",
    "import matplotlib.pyplot as plt\n",
    "import pandas as pd\n",
    "import numpy as np\n",
    "from sklearn import decomposition\n",
    "from sklego.linear_model import LowessRegression\n",
    "from sklearn.feature_selection import f_classif\n",
    "from sklearn.linear_model import LinearRegression, LogisticRegression\n",
    "from sklearn.metrics import explained_variance_score, plot_roc_curve\n",
    "import statsmodels.api as sm\n",
    "from scipy.stats import ttest_ind\n",
    "from xgboost import XGBClassifier\n",
    "from sklearn.model_selection import train_test_split\n",
    "import matplotlib\n",
    "from xgboost import XGBClassifier\n",
    "from sklearn.model_selection import train_test_split"
   ]
  },
  {
   "cell_type": "code",
   "execution_count": 64,
   "id": "18fed604-f30f-4b19-b197-e7ac891f77d8",
   "metadata": {},
   "outputs": [],
   "source": [
    "metadata = pd.read_csv(\"../Dataset/Zaporozhchenko2018/E-MTAB-6304.sdrf.txt\", sep=\"\\t\", index_col=0)"
   ]
  },
  {
   "cell_type": "code",
   "execution_count": 65,
   "id": "182d912a-8445-406d-968a-da2809674aa6",
   "metadata": {},
   "outputs": [
    {
     "data": {
      "text/plain": [
       "{'  ', '1a/1b', '2a/2b', '2b', '3a'}"
      ]
     },
     "execution_count": 65,
     "metadata": {},
     "output_type": "execute_result"
    }
   ],
   "source": [
    "set(metadata[\"Characteristics[tumor grading]\"])"
   ]
  },
  {
   "cell_type": "code",
   "execution_count": 66,
   "id": "fae4a6ee-fb74-4d11-84c0-345e75bb77d2",
   "metadata": {},
   "outputs": [
    {
     "data": {
      "text/html": [
       "<div>\n",
       "<style scoped>\n",
       "    .dataframe tbody tr th:only-of-type {\n",
       "        vertical-align: middle;\n",
       "    }\n",
       "\n",
       "    .dataframe tbody tr th {\n",
       "        vertical-align: top;\n",
       "    }\n",
       "\n",
       "    .dataframe thead th {\n",
       "        text-align: right;\n",
       "    }\n",
       "</style>\n",
       "<table border=\"1\" class=\"dataframe\">\n",
       "  <thead>\n",
       "    <tr style=\"text-align: right;\">\n",
       "      <th></th>\n",
       "      <th>Unnamed: 0</th>\n",
       "      <th>cel-miR-39-3p CP</th>\n",
       "      <th>hsa-let-7a-5p</th>\n",
       "      <th>hsa-let-7b-3p</th>\n",
       "      <th>hsa-let-7b-5p</th>\n",
       "      <th>hsa-let-7c</th>\n",
       "      <th>hsa-let-7d-3p</th>\n",
       "      <th>hsa-let-7d-5p</th>\n",
       "      <th>hsa-let-7e-5p</th>\n",
       "      <th>hsa-let-7f-5p</th>\n",
       "      <th>...</th>\n",
       "      <th>hsa-miR-885-5p</th>\n",
       "      <th>hsa-miR-92a-3p</th>\n",
       "      <th>hsa-miR-92b-3p</th>\n",
       "      <th>hsa-miR-93-3p</th>\n",
       "      <th>hsa-miR-93-5p</th>\n",
       "      <th>hsa-miR-95</th>\n",
       "      <th>hsa-miR-99a-5p</th>\n",
       "      <th>hsa-miR-99b-5p</th>\n",
       "      <th>UniSp3 IPC</th>\n",
       "      <th>UniSp6 CP</th>\n",
       "    </tr>\n",
       "  </thead>\n",
       "  <tbody>\n",
       "    <tr>\n",
       "      <th>0</th>\n",
       "      <td>NaN</td>\n",
       "      <td>107.0</td>\n",
       "      <td>107.000000</td>\n",
       "      <td>107.000000</td>\n",
       "      <td>107.000000</td>\n",
       "      <td>107.000000</td>\n",
       "      <td>107.000000</td>\n",
       "      <td>107.000000</td>\n",
       "      <td>107.000000</td>\n",
       "      <td>107.000000</td>\n",
       "      <td>...</td>\n",
       "      <td>107.000000</td>\n",
       "      <td>107.000000</td>\n",
       "      <td>107.0</td>\n",
       "      <td>107.000000</td>\n",
       "      <td>107.000000</td>\n",
       "      <td>107.000000</td>\n",
       "      <td>107.000000</td>\n",
       "      <td>107.000000</td>\n",
       "      <td>107.000000</td>\n",
       "      <td>107.000000</td>\n",
       "    </tr>\n",
       "    <tr>\n",
       "      <th>1</th>\n",
       "      <td>H01</td>\n",
       "      <td>NaN</td>\n",
       "      <td>28.758668</td>\n",
       "      <td>34.982437</td>\n",
       "      <td>28.984358</td>\n",
       "      <td>33.021168</td>\n",
       "      <td>33.031645</td>\n",
       "      <td>32.134888</td>\n",
       "      <td>33.872718</td>\n",
       "      <td>31.636085</td>\n",
       "      <td>...</td>\n",
       "      <td>NaN</td>\n",
       "      <td>28.593853</td>\n",
       "      <td>NaN</td>\n",
       "      <td>37.119241</td>\n",
       "      <td>30.343426</td>\n",
       "      <td>NaN</td>\n",
       "      <td>32.538680</td>\n",
       "      <td>34.652577</td>\n",
       "      <td>21.179529</td>\n",
       "      <td>20.609685</td>\n",
       "    </tr>\n",
       "    <tr>\n",
       "      <th>2</th>\n",
       "      <td>S03</td>\n",
       "      <td>NaN</td>\n",
       "      <td>29.712003</td>\n",
       "      <td>36.534820</td>\n",
       "      <td>30.825836</td>\n",
       "      <td>33.290056</td>\n",
       "      <td>32.817465</td>\n",
       "      <td>32.539219</td>\n",
       "      <td>34.332494</td>\n",
       "      <td>32.621527</td>\n",
       "      <td>...</td>\n",
       "      <td>NaN</td>\n",
       "      <td>28.461714</td>\n",
       "      <td>NaN</td>\n",
       "      <td>NaN</td>\n",
       "      <td>30.262072</td>\n",
       "      <td>35.938857</td>\n",
       "      <td>31.901907</td>\n",
       "      <td>33.866242</td>\n",
       "      <td>21.093227</td>\n",
       "      <td>20.317635</td>\n",
       "    </tr>\n",
       "    <tr>\n",
       "      <th>3</th>\n",
       "      <td>S12</td>\n",
       "      <td>NaN</td>\n",
       "      <td>29.991424</td>\n",
       "      <td>32.970275</td>\n",
       "      <td>31.918557</td>\n",
       "      <td>33.476899</td>\n",
       "      <td>31.122068</td>\n",
       "      <td>32.842620</td>\n",
       "      <td>35.439817</td>\n",
       "      <td>32.170137</td>\n",
       "      <td>...</td>\n",
       "      <td>34.214609</td>\n",
       "      <td>26.554790</td>\n",
       "      <td>NaN</td>\n",
       "      <td>33.643150</td>\n",
       "      <td>27.108517</td>\n",
       "      <td>34.208271</td>\n",
       "      <td>31.094495</td>\n",
       "      <td>33.481884</td>\n",
       "      <td>21.196356</td>\n",
       "      <td>20.282360</td>\n",
       "    </tr>\n",
       "    <tr>\n",
       "      <th>4</th>\n",
       "      <td>A05</td>\n",
       "      <td>NaN</td>\n",
       "      <td>28.978809</td>\n",
       "      <td>36.295561</td>\n",
       "      <td>30.336321</td>\n",
       "      <td>32.794001</td>\n",
       "      <td>32.324980</td>\n",
       "      <td>32.813790</td>\n",
       "      <td>33.523878</td>\n",
       "      <td>30.966500</td>\n",
       "      <td>...</td>\n",
       "      <td>35.877971</td>\n",
       "      <td>28.043598</td>\n",
       "      <td>NaN</td>\n",
       "      <td>35.501765</td>\n",
       "      <td>28.781016</td>\n",
       "      <td>34.825218</td>\n",
       "      <td>32.034844</td>\n",
       "      <td>33.841013</td>\n",
       "      <td>20.977626</td>\n",
       "      <td>20.315291</td>\n",
       "    </tr>\n",
       "  </tbody>\n",
       "</table>\n",
       "<p>5 rows × 183 columns</p>\n",
       "</div>"
      ],
      "text/plain": [
       "  Unnamed: 0  cel-miR-39-3p CP  hsa-let-7a-5p  hsa-let-7b-3p  hsa-let-7b-5p  \\\n",
       "0        NaN             107.0     107.000000     107.000000     107.000000   \n",
       "1        H01               NaN      28.758668      34.982437      28.984358   \n",
       "2        S03               NaN      29.712003      36.534820      30.825836   \n",
       "3        S12               NaN      29.991424      32.970275      31.918557   \n",
       "4        A05               NaN      28.978809      36.295561      30.336321   \n",
       "\n",
       "   hsa-let-7c  hsa-let-7d-3p  hsa-let-7d-5p  hsa-let-7e-5p  hsa-let-7f-5p  \\\n",
       "0  107.000000     107.000000     107.000000     107.000000     107.000000   \n",
       "1   33.021168      33.031645      32.134888      33.872718      31.636085   \n",
       "2   33.290056      32.817465      32.539219      34.332494      32.621527   \n",
       "3   33.476899      31.122068      32.842620      35.439817      32.170137   \n",
       "4   32.794001      32.324980      32.813790      33.523878      30.966500   \n",
       "\n",
       "   ...  hsa-miR-885-5p  hsa-miR-92a-3p  hsa-miR-92b-3p  hsa-miR-93-3p  \\\n",
       "0  ...      107.000000      107.000000           107.0     107.000000   \n",
       "1  ...             NaN       28.593853             NaN      37.119241   \n",
       "2  ...             NaN       28.461714             NaN            NaN   \n",
       "3  ...       34.214609       26.554790             NaN      33.643150   \n",
       "4  ...       35.877971       28.043598             NaN      35.501765   \n",
       "\n",
       "   hsa-miR-93-5p  hsa-miR-95  hsa-miR-99a-5p  hsa-miR-99b-5p  UniSp3 IPC  \\\n",
       "0     107.000000  107.000000      107.000000      107.000000  107.000000   \n",
       "1      30.343426         NaN       32.538680       34.652577   21.179529   \n",
       "2      30.262072   35.938857       31.901907       33.866242   21.093227   \n",
       "3      27.108517   34.208271       31.094495       33.481884   21.196356   \n",
       "4      28.781016   34.825218       32.034844       33.841013   20.977626   \n",
       "\n",
       "    UniSp6 CP  \n",
       "0  107.000000  \n",
       "1   20.609685  \n",
       "2   20.317635  \n",
       "3   20.282360  \n",
       "4   20.315291  \n",
       "\n",
       "[5 rows x 183 columns]"
      ]
     },
     "execution_count": 66,
     "metadata": {},
     "output_type": "execute_result"
    }
   ],
   "source": [
    "data = pd.read_csv(\"../Dataset/Zaporozhchenko2018/NSCLC_miRNA_dis_set.txt\", sep=\"\\t\", na_values=[\"ND\"])\n",
    "data.head()"
   ]
  },
  {
   "cell_type": "code",
   "execution_count": 67,
   "id": "b85a961d-84ff-4890-b22e-32f9ce217e0b",
   "metadata": {},
   "outputs": [],
   "source": [
    "data = data[1:-1]"
   ]
  },
  {
   "cell_type": "markdown",
   "id": "f87d5cd3-7c50-4098-b93e-d8644ef0cae8",
   "metadata": {},
   "source": [
    "### Remove outlier"
   ]
  },
  {
   "cell_type": "code",
   "execution_count": 68,
   "id": "ec16dba4-8a9e-4ad4-a833-bc82d16024eb",
   "metadata": {},
   "outputs": [],
   "source": [
    "data = data.drop([5, 15, 21]) #, 14, 19, 21])"
   ]
  },
  {
   "cell_type": "code",
   "execution_count": 69,
   "id": "e173e43f-efc6-480a-a94f-bfd1c91c3694",
   "metadata": {},
   "outputs": [
    {
     "data": {
      "text/html": [
       "<div>\n",
       "<style scoped>\n",
       "    .dataframe tbody tr th:only-of-type {\n",
       "        vertical-align: middle;\n",
       "    }\n",
       "\n",
       "    .dataframe tbody tr th {\n",
       "        vertical-align: top;\n",
       "    }\n",
       "\n",
       "    .dataframe thead th {\n",
       "        text-align: right;\n",
       "    }\n",
       "</style>\n",
       "<table border=\"1\" class=\"dataframe\">\n",
       "  <thead>\n",
       "    <tr style=\"text-align: right;\">\n",
       "      <th></th>\n",
       "      <th>cel-miR-39-3p CP</th>\n",
       "      <th>hsa-let-7a-5p</th>\n",
       "      <th>hsa-let-7b-3p</th>\n",
       "      <th>hsa-let-7b-5p</th>\n",
       "      <th>hsa-let-7c</th>\n",
       "      <th>hsa-let-7d-3p</th>\n",
       "      <th>hsa-let-7d-5p</th>\n",
       "      <th>hsa-let-7e-5p</th>\n",
       "      <th>hsa-let-7f-5p</th>\n",
       "      <th>hsa-let-7g-5p</th>\n",
       "      <th>...</th>\n",
       "      <th>hsa-miR-885-5p</th>\n",
       "      <th>hsa-miR-92a-3p</th>\n",
       "      <th>hsa-miR-92b-3p</th>\n",
       "      <th>hsa-miR-93-3p</th>\n",
       "      <th>hsa-miR-93-5p</th>\n",
       "      <th>hsa-miR-95</th>\n",
       "      <th>hsa-miR-99a-5p</th>\n",
       "      <th>hsa-miR-99b-5p</th>\n",
       "      <th>UniSp3 IPC</th>\n",
       "      <th>UniSp6 CP</th>\n",
       "    </tr>\n",
       "    <tr>\n",
       "      <th>Unnamed: 0</th>\n",
       "      <th></th>\n",
       "      <th></th>\n",
       "      <th></th>\n",
       "      <th></th>\n",
       "      <th></th>\n",
       "      <th></th>\n",
       "      <th></th>\n",
       "      <th></th>\n",
       "      <th></th>\n",
       "      <th></th>\n",
       "      <th></th>\n",
       "      <th></th>\n",
       "      <th></th>\n",
       "      <th></th>\n",
       "      <th></th>\n",
       "      <th></th>\n",
       "      <th></th>\n",
       "      <th></th>\n",
       "      <th></th>\n",
       "      <th></th>\n",
       "      <th></th>\n",
       "    </tr>\n",
       "  </thead>\n",
       "  <tbody>\n",
       "    <tr>\n",
       "      <th>H01</th>\n",
       "      <td>NaN</td>\n",
       "      <td>28.758668</td>\n",
       "      <td>34.982437</td>\n",
       "      <td>28.984358</td>\n",
       "      <td>33.021168</td>\n",
       "      <td>33.031645</td>\n",
       "      <td>32.134888</td>\n",
       "      <td>33.872718</td>\n",
       "      <td>31.636085</td>\n",
       "      <td>29.808525</td>\n",
       "      <td>...</td>\n",
       "      <td>NaN</td>\n",
       "      <td>28.593853</td>\n",
       "      <td>NaN</td>\n",
       "      <td>37.119241</td>\n",
       "      <td>30.343426</td>\n",
       "      <td>NaN</td>\n",
       "      <td>32.538680</td>\n",
       "      <td>34.652577</td>\n",
       "      <td>21.179529</td>\n",
       "      <td>20.609685</td>\n",
       "    </tr>\n",
       "    <tr>\n",
       "      <th>S03</th>\n",
       "      <td>NaN</td>\n",
       "      <td>29.712003</td>\n",
       "      <td>36.534820</td>\n",
       "      <td>30.825836</td>\n",
       "      <td>33.290056</td>\n",
       "      <td>32.817465</td>\n",
       "      <td>32.539219</td>\n",
       "      <td>34.332494</td>\n",
       "      <td>32.621527</td>\n",
       "      <td>30.447355</td>\n",
       "      <td>...</td>\n",
       "      <td>NaN</td>\n",
       "      <td>28.461714</td>\n",
       "      <td>NaN</td>\n",
       "      <td>NaN</td>\n",
       "      <td>30.262072</td>\n",
       "      <td>35.938857</td>\n",
       "      <td>31.901907</td>\n",
       "      <td>33.866242</td>\n",
       "      <td>21.093227</td>\n",
       "      <td>20.317635</td>\n",
       "    </tr>\n",
       "    <tr>\n",
       "      <th>S12</th>\n",
       "      <td>NaN</td>\n",
       "      <td>29.991424</td>\n",
       "      <td>32.970275</td>\n",
       "      <td>31.918557</td>\n",
       "      <td>33.476899</td>\n",
       "      <td>31.122068</td>\n",
       "      <td>32.842620</td>\n",
       "      <td>35.439817</td>\n",
       "      <td>32.170137</td>\n",
       "      <td>28.607708</td>\n",
       "      <td>...</td>\n",
       "      <td>34.214609</td>\n",
       "      <td>26.554790</td>\n",
       "      <td>NaN</td>\n",
       "      <td>33.643150</td>\n",
       "      <td>27.108517</td>\n",
       "      <td>34.208271</td>\n",
       "      <td>31.094495</td>\n",
       "      <td>33.481884</td>\n",
       "      <td>21.196356</td>\n",
       "      <td>20.282360</td>\n",
       "    </tr>\n",
       "    <tr>\n",
       "      <th>A05</th>\n",
       "      <td>NaN</td>\n",
       "      <td>28.978809</td>\n",
       "      <td>36.295561</td>\n",
       "      <td>30.336321</td>\n",
       "      <td>32.794001</td>\n",
       "      <td>32.324980</td>\n",
       "      <td>32.813790</td>\n",
       "      <td>33.523878</td>\n",
       "      <td>30.966500</td>\n",
       "      <td>29.184318</td>\n",
       "      <td>...</td>\n",
       "      <td>35.877971</td>\n",
       "      <td>28.043598</td>\n",
       "      <td>NaN</td>\n",
       "      <td>35.501765</td>\n",
       "      <td>28.781016</td>\n",
       "      <td>34.825218</td>\n",
       "      <td>32.034844</td>\n",
       "      <td>33.841013</td>\n",
       "      <td>20.977626</td>\n",
       "      <td>20.315291</td>\n",
       "    </tr>\n",
       "    <tr>\n",
       "      <th>S11</th>\n",
       "      <td>NaN</td>\n",
       "      <td>28.234000</td>\n",
       "      <td>32.777309</td>\n",
       "      <td>28.548604</td>\n",
       "      <td>32.047543</td>\n",
       "      <td>30.254140</td>\n",
       "      <td>31.525169</td>\n",
       "      <td>32.761623</td>\n",
       "      <td>31.622205</td>\n",
       "      <td>28.077539</td>\n",
       "      <td>...</td>\n",
       "      <td>35.857980</td>\n",
       "      <td>26.668311</td>\n",
       "      <td>NaN</td>\n",
       "      <td>33.467991</td>\n",
       "      <td>25.861484</td>\n",
       "      <td>35.559428</td>\n",
       "      <td>30.991698</td>\n",
       "      <td>32.896229</td>\n",
       "      <td>21.140280</td>\n",
       "      <td>20.891393</td>\n",
       "    </tr>\n",
       "  </tbody>\n",
       "</table>\n",
       "<p>5 rows × 182 columns</p>\n",
       "</div>"
      ],
      "text/plain": [
       "            cel-miR-39-3p CP  hsa-let-7a-5p  hsa-let-7b-3p  hsa-let-7b-5p  \\\n",
       "Unnamed: 0                                                                  \n",
       "H01                      NaN      28.758668      34.982437      28.984358   \n",
       "S03                      NaN      29.712003      36.534820      30.825836   \n",
       "S12                      NaN      29.991424      32.970275      31.918557   \n",
       "A05                      NaN      28.978809      36.295561      30.336321   \n",
       "S11                      NaN      28.234000      32.777309      28.548604   \n",
       "\n",
       "            hsa-let-7c  hsa-let-7d-3p  hsa-let-7d-5p  hsa-let-7e-5p  \\\n",
       "Unnamed: 0                                                            \n",
       "H01          33.021168      33.031645      32.134888      33.872718   \n",
       "S03          33.290056      32.817465      32.539219      34.332494   \n",
       "S12          33.476899      31.122068      32.842620      35.439817   \n",
       "A05          32.794001      32.324980      32.813790      33.523878   \n",
       "S11          32.047543      30.254140      31.525169      32.761623   \n",
       "\n",
       "            hsa-let-7f-5p  hsa-let-7g-5p  ...  hsa-miR-885-5p  hsa-miR-92a-3p  \\\n",
       "Unnamed: 0                                ...                                   \n",
       "H01             31.636085      29.808525  ...             NaN       28.593853   \n",
       "S03             32.621527      30.447355  ...             NaN       28.461714   \n",
       "S12             32.170137      28.607708  ...       34.214609       26.554790   \n",
       "A05             30.966500      29.184318  ...       35.877971       28.043598   \n",
       "S11             31.622205      28.077539  ...       35.857980       26.668311   \n",
       "\n",
       "            hsa-miR-92b-3p  hsa-miR-93-3p  hsa-miR-93-5p  hsa-miR-95  \\\n",
       "Unnamed: 0                                                             \n",
       "H01                    NaN      37.119241      30.343426         NaN   \n",
       "S03                    NaN            NaN      30.262072   35.938857   \n",
       "S12                    NaN      33.643150      27.108517   34.208271   \n",
       "A05                    NaN      35.501765      28.781016   34.825218   \n",
       "S11                    NaN      33.467991      25.861484   35.559428   \n",
       "\n",
       "            hsa-miR-99a-5p  hsa-miR-99b-5p  UniSp3 IPC  UniSp6 CP  \n",
       "Unnamed: 0                                                         \n",
       "H01              32.538680       34.652577   21.179529  20.609685  \n",
       "S03              31.901907       33.866242   21.093227  20.317635  \n",
       "S12              31.094495       33.481884   21.196356  20.282360  \n",
       "A05              32.034844       33.841013   20.977626  20.315291  \n",
       "S11              30.991698       32.896229   21.140280  20.891393  \n",
       "\n",
       "[5 rows x 182 columns]"
      ]
     },
     "execution_count": 69,
     "metadata": {},
     "output_type": "execute_result"
    }
   ],
   "source": [
    "mirnas = data.columns[1:]\n",
    "table = data.set_index(\"Unnamed: 0\")\n",
    "table.head()"
   ]
  },
  {
   "cell_type": "code",
   "execution_count": 70,
   "id": "71bad80f-d869-412b-9588-d583aaa81220",
   "metadata": {},
   "outputs": [
    {
     "data": {
      "text/plain": [
       "10"
      ]
     },
     "execution_count": 70,
     "metadata": {},
     "output_type": "execute_result"
    }
   ],
   "source": [
    "controls = np.array([\"H\" in r for r in data.iloc[:, 0]])\n",
    "sum(controls)"
   ]
  },
  {
   "cell_type": "markdown",
   "id": "85666df7-1ae2-4727-ab57-e208dd960663",
   "metadata": {},
   "source": [
    "### Mean-variance-plot"
   ]
  },
  {
   "cell_type": "code",
   "execution_count": 71,
   "id": "a70a61e2-8c03-48e9-9920-8a8621c74e48",
   "metadata": {},
   "outputs": [],
   "source": [
    "mask = table.isna().sum() <= 20\n",
    "table = table.loc[:, mask]\n",
    "mirnas = mirnas[mask]"
   ]
  },
  {
   "cell_type": "code",
   "execution_count": 72,
   "id": "df74316b-8db2-435f-99c2-307e98b2a1f7",
   "metadata": {},
   "outputs": [],
   "source": [
    "table = table.fillna(table.min().min())"
   ]
  },
  {
   "cell_type": "code",
   "execution_count": 73,
   "id": "7854a51f-55f6-4ee0-b76f-057d22ded9ac",
   "metadata": {},
   "outputs": [
    {
     "data": {
      "text/plain": [
       "27"
      ]
     },
     "execution_count": 73,
     "metadata": {},
     "output_type": "execute_result"
    }
   ],
   "source": [
    "len(table)"
   ]
  },
  {
   "cell_type": "code",
   "execution_count": 74,
   "id": "4f522e28-84f7-4aec-b174-57fd1db62881",
   "metadata": {},
   "outputs": [
    {
     "data": {
      "text/plain": [
       "hsa-let-7a-5p     29.236889\n",
       "hsa-let-7b-3p     32.473054\n",
       "hsa-let-7b-5p     29.706266\n",
       "hsa-let-7c        33.032204\n",
       "hsa-let-7d-3p     30.932542\n",
       "                    ...    \n",
       "hsa-miR-95        31.349485\n",
       "hsa-miR-99a-5p    30.907213\n",
       "hsa-miR-99b-5p    32.562831\n",
       "UniSp3 IPC        21.257422\n",
       "UniSp6 CP         20.737558\n",
       "Length: 177, dtype: float64"
      ]
     },
     "execution_count": 74,
     "metadata": {},
     "output_type": "execute_result"
    }
   ],
   "source": [
    "np.mean(table)"
   ]
  },
  {
   "cell_type": "code",
   "execution_count": 75,
   "id": "731d5e94-4015-4311-9c57-f5fe3a3a6abc",
   "metadata": {
    "tags": []
   },
   "outputs": [],
   "source": [
    "def get_means_and_variances(table):\n",
    "    return np.mean(table), np.var(table, ddof=1)"
   ]
  },
  {
   "cell_type": "code",
   "execution_count": 76,
   "id": "c27ac64f-ed00-45ae-82ea-59a92282a06d",
   "metadata": {
    "tags": []
   },
   "outputs": [],
   "source": [
    "def mean_variance_plot(table):\n",
    "    means, variances = get_means_and_variances(table)\n",
    "    plt.scatter(means, variances)\n",
    "    plt.xlabel(\"mean\")\n",
    "    plt.ylabel(\"variance\")\n",
    "    plt.plot()"
   ]
  },
  {
   "cell_type": "code",
   "execution_count": 77,
   "id": "644ecfbe-136b-4e8e-b842-2cfcbb90a7af",
   "metadata": {},
   "outputs": [
    {
     "data": {
      "image/png": "[encoded data removed]",
      "text/plain": [
       "<Figure size 432x288 with 1 Axes>"
      ]
     },
     "metadata": {
      "needs_background": "light"
     },
     "output_type": "display_data"
    }
   ],
   "source": [
    "mean_variance_plot(table)"
   ]
  },
  {
   "cell_type": "markdown",
   "id": "c0a94800-0d51-452f-99a6-4d1fb10aaa2b",
   "metadata": {},
   "source": [
    "### Log transformation"
   ]
  },
  {
   "cell_type": "code",
   "execution_count": 78,
   "id": "0fb08e7c-5ec3-4b5b-adb3-1b435cd19e1f",
   "metadata": {},
   "outputs": [],
   "source": [
    "log_table = table #np.log2(table)"
   ]
  },
  {
   "cell_type": "code",
   "execution_count": 79,
   "id": "1f95d611-6706-4296-9547-885f546e61d8",
   "metadata": {},
   "outputs": [
    {
     "data": {
      "image/png": "[encoded data removed]",
      "text/plain": [
       "<Figure size 432x288 with 1 Axes>"
      ]
     },
     "metadata": {
      "needs_background": "light"
     },
     "output_type": "display_data"
    }
   ],
   "source": [
    "mean_variance_plot(log_table)"
   ]
  },
  {
   "cell_type": "markdown",
   "id": "d3989a55-b863-421b-b43c-364faf896108",
   "metadata": {
    "tags": []
   },
   "source": [
    "### Loess regression"
   ]
  },
  {
   "cell_type": "code",
   "execution_count": 80,
   "id": "e038e352-15a2-4d82-97d6-ee257b69cbda",
   "metadata": {
    "tags": []
   },
   "outputs": [],
   "source": [
    "lowess = LowessRegression(sigma=1, span=0.5)"
   ]
  },
  {
   "cell_type": "code",
   "execution_count": 81,
   "id": "3290a810-4700-49ec-aad2-173a58da158c",
   "metadata": {},
   "outputs": [
    {
     "data": {
      "text/plain": [
       "LowessRegression(span=0.5)"
      ]
     },
     "execution_count": 81,
     "metadata": {},
     "output_type": "execute_result"
    }
   ],
   "source": [
    "means, variances = get_means_and_variances(log_table)\n",
    "lowess.fit(means.to_numpy().reshape(-1,1), variances)"
   ]
  },
  {
   "cell_type": "code",
   "execution_count": 82,
   "id": "63d85600-99cb-4b6b-9274-adc95baf0118",
   "metadata": {},
   "outputs": [],
   "source": [
    "x_axis = np.linspace(30, 40, 100)\n",
    "y_axis = lowess.predict(x_axis.reshape(-1,1))"
   ]
  },
  {
   "cell_type": "code",
   "execution_count": 83,
   "id": "96c7df5b-76f7-4fb7-b3cf-d6ee734743d6",
   "metadata": {},
   "outputs": [
    {
     "data": {
      "text/plain": [
       "[]"
      ]
     },
     "execution_count": 83,
     "metadata": {},
     "output_type": "execute_result"
    },
    {
     "data": {
      "image/png": "[encoded data removed]",
      "text/plain": [
       "<Figure size 432x288 with 1 Axes>"
      ]
     },
     "metadata": {
      "needs_background": "light"
     },
     "output_type": "display_data"
    }
   ],
   "source": [
    "plt.scatter(means, variances, color=\"b\")\n",
    "plt.scatter(x_axis, y_axis, color=\"y\")\n",
    "plt.xlabel(\"mean\")\n",
    "plt.ylabel(\"variance\")\n",
    "plt.legend([\"Sample points\", \"Lowess regression\"])\n",
    "plt.plot()"
   ]
  },
  {
   "cell_type": "markdown",
   "id": "254881cd-7473-40f8-80f5-03c82134a900",
   "metadata": {},
   "source": [
    "### Lowess normalization"
   ]
  },
  {
   "cell_type": "code",
   "execution_count": 84,
   "id": "0c18d1bb-9d55-477c-858e-ffe47a1320a2",
   "metadata": {},
   "outputs": [],
   "source": [
    "adj_var = lowess.predict(means.to_numpy().reshape(-1, 1))"
   ]
  },
  {
   "cell_type": "code",
   "execution_count": 85,
   "id": "a6dc597e-f60f-4122-b8f9-1ec666b88809",
   "metadata": {
    "tags": []
   },
   "outputs": [],
   "source": [
    "log_table /= np.sqrt(adj_var)"
   ]
  },
  {
   "cell_type": "code",
   "execution_count": 86,
   "id": "ab28104d-e0e4-403e-87fc-6083502700a1",
   "metadata": {},
   "outputs": [
    {
     "data": {
      "image/png": "[encoded data removed]",
      "text/plain": [
       "<Figure size 432x288 with 1 Axes>"
      ]
     },
     "metadata": {
      "needs_background": "light"
     },
     "output_type": "display_data"
    }
   ],
   "source": [
    "mean_variance_plot(log_table)"
   ]
  },
  {
   "cell_type": "markdown",
   "id": "7baa3727-39a5-4d4f-8d8b-6563d678e948",
   "metadata": {},
   "source": [
    "### Standardizing"
   ]
  },
  {
   "cell_type": "code",
   "execution_count": 87,
   "id": "09895c2d-c449-41d3-a712-23d1773b0b80",
   "metadata": {
    "tags": []
   },
   "outputs": [],
   "source": [
    "norm_log_table = log_table - np.mean(log_table)"
   ]
  },
  {
   "cell_type": "code",
   "execution_count": 88,
   "id": "4bd66043-cf0d-45a5-abaa-6e61bd2e9e7f",
   "metadata": {},
   "outputs": [],
   "source": [
    "norm_log_table /= np.sqrt(np.mean(np.var(norm_log_table, ddof=1)))"
   ]
  },
  {
   "cell_type": "code",
   "execution_count": 89,
   "id": "293d07cb-4764-499a-b62e-427a548c562e",
   "metadata": {},
   "outputs": [
    {
     "data": {
      "image/png": "[encoded data removed]",
      "text/plain": [
       "<Figure size 432x288 with 1 Axes>"
      ]
     },
     "metadata": {
      "needs_background": "light"
     },
     "output_type": "display_data"
    }
   ],
   "source": [
    "mean_variance_plot(norm_log_table)"
   ]
  },
  {
   "cell_type": "markdown",
   "id": "8db6f133-3ad3-4876-825c-6c8ad02e50b3",
   "metadata": {},
   "source": [
    "### PCA"
   ]
  },
  {
   "cell_type": "code",
   "execution_count": 90,
   "id": "5f39b939-c9f8-4872-b791-d4f9300ce594",
   "metadata": {
    "tags": []
   },
   "outputs": [],
   "source": [
    "pca = decomposition.PCA(n_components=10)"
   ]
  },
  {
   "cell_type": "code",
   "execution_count": 91,
   "id": "78633132-922d-4158-92f2-2274b4df8445",
   "metadata": {},
   "outputs": [
    {
     "data": {
      "text/plain": [
       "PCA(n_components=10)"
      ]
     },
     "execution_count": 91,
     "metadata": {},
     "output_type": "execute_result"
    }
   ],
   "source": [
    "pca.fit(norm_log_table)"
   ]
  },
  {
   "cell_type": "code",
   "execution_count": 92,
   "id": "03817545-f6f6-4880-8558-14745b180346",
   "metadata": {},
   "outputs": [
    {
     "data": {
      "text/plain": [
       "array([0.31689202, 0.10680122, 0.07178314, 0.05852772, 0.05698059,\n",
       "       0.04600932, 0.04147007, 0.03918732, 0.03355463, 0.02977775])"
      ]
     },
     "execution_count": 92,
     "metadata": {},
     "output_type": "execute_result"
    }
   ],
   "source": [
    "pca.explained_variance_ratio_"
   ]
  },
  {
   "cell_type": "code",
   "execution_count": 93,
   "id": "ac13e688-5213-440f-a55d-3fb136d1666d",
   "metadata": {
    "tags": []
   },
   "outputs": [],
   "source": [
    "components = pca.transform(norm_log_table)"
   ]
  },
  {
   "cell_type": "code",
   "execution_count": 94,
   "id": "6128b38c-2c28-44dc-a944-df9b0cec435a",
   "metadata": {},
   "outputs": [
    {
     "data": {
      "text/plain": [
       "array([[ 1.80346193e+00, -6.62055713e+00, -1.94803270e+00,\n",
       "         8.03683225e+00, -2.67034032e+00, -2.79396469e+00,\n",
       "         2.06194631e+00,  5.66795162e+00, -9.67441737e-01,\n",
       "        -2.57312435e-01],\n",
       "       [-8.79215720e-01, -4.74821275e+00, -2.67881572e+00,\n",
       "        -7.67756354e-01,  1.34853289e-01, -4.59251970e+00,\n",
       "        -3.69761427e+00, -4.21473026e+00, -5.49235415e+00,\n",
       "         2.41282561e+00],\n",
       "       [-3.01795664e+00,  3.50338074e+00,  2.41122837e+00,\n",
       "         2.86831842e-01,  4.49868404e-01, -3.83643862e-01,\n",
       "         2.65997842e+00, -3.75251949e+00,  1.31696676e+00,\n",
       "         2.91874255e+00],\n",
       "       [-1.62236849e+00, -8.73656876e-01, -1.22096889e-01,\n",
       "         1.12289107e+00,  1.88175856e+00,  8.87965501e-01,\n",
       "         7.96192409e+00,  1.78677174e+00, -2.08940589e+00,\n",
       "        -4.88226433e-02],\n",
       "       [-3.03024591e+00,  2.98587058e+00,  8.37128621e-01,\n",
       "         2.17730554e-01,  2.08195392e+00,  5.33955536e-01,\n",
       "         7.17051503e-01,  6.18618002e-01, -7.34992829e-01,\n",
       "        -2.51599830e+00],\n",
       "       [-3.39437315e+00,  4.26908137e+00,  2.39394275e+00,\n",
       "         2.38254328e-01,  1.13532002e+00, -1.79349395e+00,\n",
       "         2.42612939e-01, -2.13467237e+00, -6.30447844e-01,\n",
       "        -2.94090286e-01],\n",
       "       [-2.72529565e+00,  4.14169066e+00,  2.01108821e+00,\n",
       "         9.19077227e-01, -9.00208877e-02, -2.67048578e+00,\n",
       "         1.57625978e+00,  3.26683556e+00, -1.98714503e+00,\n",
       "         2.87496194e+00],\n",
       "       [-3.21539605e+00, -4.36922206e-01,  3.31826542e-01,\n",
       "        -4.92477393e-01, -2.76715919e-01,  5.08155345e+00,\n",
       "        -3.03082243e+00,  1.89834070e+00,  2.33566538e+00,\n",
       "         2.09563484e-01],\n",
       "       [-3.79726199e+00,  5.15840867e+00,  2.08261163e+00,\n",
       "        -6.59634987e-01,  1.70384691e+00, -2.18677206e+00,\n",
       "        -9.63489491e-01, -2.10243748e+00, -4.85342371e-01,\n",
       "        -1.81495444e+00],\n",
       "       [-1.17786389e+00,  8.27203361e-01, -2.03414605e+00,\n",
       "         3.59594887e+00, -1.73740644e+00,  7.32066927e+00,\n",
       "        -3.90618789e+00,  3.43673003e-02, -3.49283496e+00,\n",
       "        -2.97009404e+00],\n",
       "       [-4.74842089e+00,  8.78757733e-01,  4.76893814e-01,\n",
       "        -1.24817114e+00, -1.59450603e+00,  1.01887104e+00,\n",
       "         2.99056019e-01,  1.25072222e+00, -3.27741788e-02,\n",
       "        -1.77217329e+00],\n",
       "       [ 1.70395064e+00, -8.75399872e+00, -2.98816533e+00,\n",
       "        -3.14737677e+00, -6.21877682e+00, -3.47820678e+00,\n",
       "         5.09500122e-01, -3.32882392e+00,  1.05563017e+00,\n",
       "        -3.18253112e+00],\n",
       "       [ 2.15865127e+01, -6.56568030e+00,  1.22047492e+01,\n",
       "         2.50325621e+00,  1.14769520e+00,  7.73590414e-01,\n",
       "        -1.36180532e+00, -1.11038614e+00,  2.27834283e-01,\n",
       "        -3.39355924e-01],\n",
       "       [-4.10802338e+00,  3.11757988e+00,  9.21496182e-01,\n",
       "        -1.19641382e+00, -3.66485235e-01, -1.17578123e+00,\n",
       "         4.44201289e-01,  1.61067771e+00,  8.58396334e-01,\n",
       "        -2.62098597e-01],\n",
       "       [ 2.64288620e+00, -6.66734402e+00, -2.29673535e+00,\n",
       "        -7.04779025e+00,  1.08260111e+01,  1.06202550e+00,\n",
       "         1.32568662e+00,  1.84833352e+00, -1.59956539e+00,\n",
       "        -1.42804940e+00],\n",
       "       [-2.54948652e+00,  1.00452242e+00,  3.50402116e-01,\n",
       "         2.40362115e+00, -1.41972710e+00,  1.43933348e+00,\n",
       "         3.65719149e+00, -2.94292269e+00, -4.00265123e-01,\n",
       "         2.28382551e+00],\n",
       "       [ 2.81970532e+01,  9.70796931e+00, -6.96523946e+00,\n",
       "        -2.83538069e+00, -2.42994954e+00, -8.15261252e-02,\n",
       "         6.02382099e-01,  1.12748295e+00, -3.91265914e-01,\n",
       "         5.99919871e-01],\n",
       "       [-3.48776251e+00,  2.45287368e+00,  1.69805663e+00,\n",
       "         1.19745424e-01, -1.21779897e+00, -4.94634126e+00,\n",
       "        -3.68674232e+00,  1.60391968e+00, -4.70150197e-01,\n",
       "        -2.68168601e+00],\n",
       "       [-2.05655169e+00, -2.38088654e+00, -3.58688312e+00,\n",
       "         1.27098612e+00, -1.34406917e+00,  4.81269327e+00,\n",
       "         2.20769853e-01, -2.31049312e+00,  9.45119887e-01,\n",
       "        -1.15650130e+00],\n",
       "       [-3.23753056e+00,  1.82698731e+00,  2.53219618e+00,\n",
       "        -2.18830390e+00, -2.04539971e+00,  2.99303575e-01,\n",
       "        -2.50798083e-01, -1.00472434e-01,  3.30152979e+00,\n",
       "         1.40836263e+00],\n",
       "       [-2.34931137e+00, -2.42895764e+00,  9.29875810e-01,\n",
       "        -2.53352715e+00, -7.46948642e-01,  2.78420577e+00,\n",
       "        -3.80953014e+00,  1.81988576e+00, -4.38381132e-01,\n",
       "         7.17728021e+00],\n",
       "       [-2.49858770e+00,  2.73319753e+00,  1.02340057e+00,\n",
       "        -3.30106716e+00,  3.98595222e-01, -1.12585020e+00,\n",
       "        -1.93805913e+00, -7.75712087e-02,  1.62527700e+00,\n",
       "        -1.83146002e+00],\n",
       "       [-1.69430275e+00, -3.10715262e+00,  1.38945170e+00,\n",
       "        -3.89484510e+00, -3.25031630e+00,  2.80129959e-01,\n",
       "         2.40770921e+00,  1.87012995e+00,  5.11334524e+00,\n",
       "        -8.04694534e-01],\n",
       "       [-3.81266378e+00, -1.06668915e+00, -2.46277825e+00,\n",
       "        -1.64211925e-01, -1.85277052e-02, -1.88845393e+00,\n",
       "        -2.81911908e+00,  4.98426837e+00, -2.38968903e-02,\n",
       "         1.10537952e+00],\n",
       "       [ 2.12315096e+00, -9.14384250e-01, -6.29419206e+00,\n",
       "         7.30360111e+00,  6.66690249e+00, -2.01916529e+00,\n",
       "        -1.88594479e+00, -2.82611808e+00,  6.39573168e+00,\n",
       "         1.13308252e+00],\n",
       "       [-2.48143502e+00,  4.74878923e+00,  2.11638480e+00,\n",
       "         3.20673196e+00,  1.52620402e+00,  1.06612644e+00,\n",
       "         4.63042703e-02, -1.22253917e+00, -2.01455139e+00,\n",
       "        -2.09859068e+00],\n",
       "       [-2.17296202e+00, -2.79187028e+00, -2.33364820e+00,\n",
       "        -1.74855148e+00, -2.52602036e+00,  1.77578163e+00,\n",
       "         2.61753894e+00, -3.26461873e+00, -1.92468150e+00,\n",
       "         1.33446919e+00]])"
      ]
     },
     "execution_count": 94,
     "metadata": {},
     "output_type": "execute_result"
    }
   ],
   "source": [
    "components"
   ]
  },
  {
   "cell_type": "code",
   "execution_count": 95,
   "id": "35f87bb8-ceda-4b8a-a5a8-553fe66ee84c",
   "metadata": {},
   "outputs": [
    {
     "data": {
      "image/png": "[encoded data removed]",
      "text/plain": [
       "<Figure size 576x576 with 1 Axes>"
      ]
     },
     "metadata": {
      "needs_background": "light"
     },
     "output_type": "display_data"
    }
   ],
   "source": [
    "fig = plt.figure(figsize = (8,8))\n",
    "ax = fig.add_subplot(1,1,1)\n",
    "\n",
    "ax.set_xlabel('Principal Component 1', fontsize = 15)\n",
    "ax.set_ylabel('Principal Component 2', fontsize = 15)\n",
    "ax.set_title('2 component PCA', fontsize = 20)\n",
    "targets = ['Cancer', 'Healthy']\n",
    "colors = ['r', 'g']\n",
    "ax.scatter(components[controls == False, 0], components[controls == False, 1], c = 'r', s = 10)\n",
    "ax.scatter(components[controls == True, 0], components[controls == True, 1], c = 'g', s = 10)\n",
    "ax.legend(targets)\n",
    "ax.grid()"
   ]
  },
  {
   "cell_type": "code",
   "execution_count": 96,
   "id": "bd985990-d8a1-4d91-ab5a-fa1ae571db55",
   "metadata": {},
   "outputs": [
    {
     "data": {
      "text/plain": [
       "(array([16], dtype=int64),)"
      ]
     },
     "execution_count": 96,
     "metadata": {},
     "output_type": "execute_result"
    }
   ],
   "source": [
    "np.nonzero(components[:, 1] > 8)"
   ]
  },
  {
   "cell_type": "code",
   "execution_count": 97,
   "id": "e9635074-f5ea-4f31-beb0-2f53888f5e37",
   "metadata": {
    "tags": []
   },
   "outputs": [],
   "source": [
    "components2 = components[components[:,0] < 20, :]\n",
    "controls2 = controls[components[:,0] < 20]"
   ]
  },
  {
   "cell_type": "code",
   "execution_count": 98,
   "id": "8f08733f-620a-4803-907d-55634da7aea4",
   "metadata": {},
   "outputs": [
    {
     "data": {
      "image/png": "[encoded data removed]",
      "text/plain": [
       "<Figure size 576x576 with 1 Axes>"
      ]
     },
     "metadata": {
      "needs_background": "light"
     },
     "output_type": "display_data"
    }
   ],
   "source": [
    "fig = plt.figure(figsize = (8,8))\n",
    "ax = fig.add_subplot(1,1,1)\n",
    "\n",
    "ax.set_xlabel('Principal Component 1', fontsize = 15)\n",
    "ax.set_ylabel('Principal Component 2', fontsize = 15)\n",
    "ax.set_title('2 component PCA', fontsize = 20)\n",
    "targets = ['Cancer', 'Healthy']\n",
    "colors = ['r', 'g']\n",
    "ax.scatter(components2[controls2 == False, 0], components2[controls2 == False, 1], c = 'r', s = 10)\n",
    "ax.scatter(components2[controls2 == True, 0], components2[controls2 == True, 1], c = 'g', s = 10)\n",
    "ax.legend(targets)\n",
    "ax.grid()"
   ]
  },
  {
   "cell_type": "markdown",
   "id": "dc1d1de9-03a0-49de-94e5-b702cdf57e34",
   "metadata": {
    "tags": []
   },
   "source": [
    "### Linear regression adjustments"
   ]
  },
  {
   "cell_type": "code",
   "execution_count": 99,
   "id": "cdc53954-dec8-4258-bda7-7fdd272d3459",
   "metadata": {},
   "outputs": [
    {
     "data": {
      "text/plain": [
       "Index(['Characteristics[organism]', 'Characteristics[disease]',\n",
       "       'Characteristics[tumor grading]', 'Characteristics[age]',\n",
       "       'Unit[time unit]', 'Characteristics[sex]',\n",
       "       'Characteristics[organism part]', 'Material Type', 'Protocol REF',\n",
       "       'Protocol REF.1', 'Extract Name', 'Protocol REF.2',\n",
       "       'Labeled Extract Name', 'Label', 'Protocol REF.3', 'Assay Name',\n",
       "       'Technology Type', 'Array Design REF', 'Term Source REF',\n",
       "       'Protocol REF.4', 'Array Data Matrix File',\n",
       "       'Comment [ArrayExpress Data Matrix FTP file]', 'Protocol REF.5',\n",
       "       'Derived Array Data File', 'Comment [Derived ArrayExpress FTP file]',\n",
       "       'Factor Value[disease]'],\n",
       "      dtype='object')"
      ]
     },
     "execution_count": 99,
     "metadata": {},
     "output_type": "execute_result"
    }
   ],
   "source": [
    "metadata.columns"
   ]
  },
  {
   "cell_type": "code",
   "execution_count": 100,
   "id": "7a0eb273-c04f-4ecc-8741-ee5586cb3795",
   "metadata": {},
   "outputs": [],
   "source": [
    "covars = metadata.loc[table.index, [\"Characteristics[age]\", \"Characteristics[sex]\"]]"
   ]
  },
  {
   "cell_type": "code",
   "execution_count": 101,
   "id": "81fec38d-6e34-442e-8e7f-35c4fdf88abb",
   "metadata": {},
   "outputs": [],
   "source": [
    "covars.columns = [\"age\", \"sex\"]"
   ]
  },
  {
   "cell_type": "code",
   "execution_count": 102,
   "id": "c5fdc6d1-2856-488c-a521-f9c7fb38920b",
   "metadata": {},
   "outputs": [],
   "source": [
    "covars[\"sex\"] = covars[\"sex\"] == \"female\""
   ]
  },
  {
   "cell_type": "code",
   "execution_count": 103,
   "id": "a83d0127-251a-42f5-9a9b-24a377724acf",
   "metadata": {},
   "outputs": [],
   "source": [
    "covars = covars.fillna(covars.mean())"
   ]
  },
  {
   "cell_type": "code",
   "execution_count": 104,
   "id": "1daec1e5-66f0-4c4d-96c9-ec20b0df5b1e",
   "metadata": {},
   "outputs": [
    {
     "data": {
      "text/plain": [
       "LinearRegression()"
      ]
     },
     "execution_count": 104,
     "metadata": {},
     "output_type": "execute_result"
    }
   ],
   "source": [
    "linreg = LinearRegression()\n",
    "linreg.fit(covars, norm_log_table)"
   ]
  },
  {
   "cell_type": "code",
   "execution_count": 105,
   "id": "231d5526-fe2d-403c-8666-51b4f4119365",
   "metadata": {},
   "outputs": [],
   "source": [
    "adj_norm_log_table = norm_log_table - linreg.predict(covars)"
   ]
  },
  {
   "cell_type": "markdown",
   "id": "63758622-52b7-48c0-bc8a-14d1dd086ebc",
   "metadata": {
    "tags": []
   },
   "source": [
    "# PCA"
   ]
  },
  {
   "cell_type": "code",
   "execution_count": 106,
   "id": "283c38ac-b150-4e86-8026-81822debb469",
   "metadata": {
    "tags": []
   },
   "outputs": [],
   "source": [
    "pca = decomposition.PCA(n_components=2)"
   ]
  },
  {
   "cell_type": "code",
   "execution_count": 107,
   "id": "a68710f4-b37e-46ac-b66b-164abc997119",
   "metadata": {},
   "outputs": [
    {
     "data": {
      "text/plain": [
       "PCA(n_components=2)"
      ]
     },
     "execution_count": 107,
     "metadata": {},
     "output_type": "execute_result"
    }
   ],
   "source": [
    "pca.fit(adj_norm_log_table)"
   ]
  },
  {
   "cell_type": "code",
   "execution_count": 108,
   "id": "de0de8c0-0624-4baf-b5ff-9a397b1c5dbd",
   "metadata": {
    "tags": []
   },
   "outputs": [],
   "source": [
    "components = pca.transform(adj_norm_log_table)"
   ]
  },
  {
   "cell_type": "code",
   "execution_count": 109,
   "id": "fff3f7f9-4c70-4d6b-88ba-363ad93275d5",
   "metadata": {},
   "outputs": [
    {
     "data": {
      "text/plain": [
       "array([[ 4.53082437, -5.40417378],\n",
       "       [ 5.7301109 , -1.81444217],\n",
       "       [-1.5298022 ,  3.60869744],\n",
       "       [-1.10068763, -0.97523788],\n",
       "       [-3.40050626,  2.65051836],\n",
       "       [-4.60477584,  3.75751557],\n",
       "       [-4.25829676,  3.34989164],\n",
       "       [-6.18641747, -2.38395254],\n",
       "       [-0.51752884,  6.24953193],\n",
       "       [-1.74060793,  0.20155791],\n",
       "       [-3.69705158,  0.36283456],\n",
       "       [ 7.77556436, -6.59151114],\n",
       "       [16.80611329, -6.49624227],\n",
       "       [-4.13087666,  2.53389147],\n",
       "       [ 7.61576879, -4.08430491],\n",
       "       [-2.57542828,  0.55881481],\n",
       "       [17.45759008,  9.71254777],\n",
       "       [ 2.32650103,  4.41151832],\n",
       "       [-4.54651575, -3.73164972],\n",
       "       [-7.87305559, -0.60833327],\n",
       "       [-2.59846975, -3.36221665],\n",
       "       [-1.05622458,  2.99739126],\n",
       "       [-6.5856782 , -5.79265359],\n",
       "       [-5.71653541, -2.0024581 ],\n",
       "       [ 6.43259297,  2.1088253 ],\n",
       "       [-2.62172138,  4.68121003],\n",
       "       [-3.93488569, -3.93757035]])"
      ]
     },
     "execution_count": 109,
     "metadata": {},
     "output_type": "execute_result"
    }
   ],
   "source": [
    "components"
   ]
  },
  {
   "cell_type": "code",
   "execution_count": 110,
   "id": "673ff4a8-c658-491a-ac4d-03f3dbca308d",
   "metadata": {},
   "outputs": [
    {
     "data": {
      "image/png": "[encoded data removed]",
      "text/plain": [
       "<Figure size 576x576 with 1 Axes>"
      ]
     },
     "metadata": {
      "needs_background": "light"
     },
     "output_type": "display_data"
    }
   ],
   "source": [
    "fig = plt.figure(figsize = (8,8))\n",
    "ax = fig.add_subplot(1,1,1)\n",
    "\n",
    "ax.set_xlabel('Principal Component 1', fontsize = 15)\n",
    "ax.set_ylabel('Principal Component 2', fontsize = 15)\n",
    "ax.set_title('2 component PCA', fontsize = 20)\n",
    "targets = ['Cancer', 'Healthy']\n",
    "colors = ['r', 'g']\n",
    "ax.scatter(components[controls == False, 0], components[controls == False, 1], c = 'r', s = 10)\n",
    "ax.scatter(components[controls == True, 0], components[controls == True, 1], c = 'g', s = 10)\n",
    "ax.legend(targets)\n",
    "ax.grid()"
   ]
  },
  {
   "cell_type": "markdown",
   "id": "7f0b6bb0-8b3e-4c2f-9929-7ee80742d732",
   "metadata": {},
   "source": [
    "### Logistic Regression"
   ]
  },
  {
   "cell_type": "code",
   "execution_count": 111,
   "id": "3da57f11-5df2-4aa1-8101-d9a04b61d872",
   "metadata": {},
   "outputs": [],
   "source": [
    "X_train, X_test, y_train, y_test = train_test_split(adj_norm_log_table, controls, test_size=0.33, random_state=42)"
   ]
  },
  {
   "cell_type": "code",
   "execution_count": 112,
   "id": "ddababa1-7393-40a6-9d34-3cf783c569da",
   "metadata": {},
   "outputs": [
    {
     "data": {
      "text/plain": [
       "LogisticRegression(max_iter=2000)"
      ]
     },
     "execution_count": 112,
     "metadata": {},
     "output_type": "execute_result"
    }
   ],
   "source": [
    "model = LogisticRegression(max_iter=2000)\n",
    "model.fit(X_train, y_train)"
   ]
  },
  {
   "cell_type": "code",
   "execution_count": 113,
   "id": "01141a63-649b-4ac4-92ca-a3e2dc3dbd52",
   "metadata": {},
   "outputs": [
    {
     "name": "stderr",
     "output_type": "stream",
     "text": [
      "C:\\Users\\olefr\\AppData\\Local\\Programs\\Python\\Python310\\lib\\site-packages\\sklearn\\utils\\deprecation.py:87: FutureWarning: Function plot_roc_curve is deprecated; Function :func:`plot_roc_curve` is deprecated in 1.0 and will be removed in 1.2. Use one of the class methods: :meth:`sklearn.metric.RocCurveDisplay.from_predictions` or :meth:`sklearn.metric.RocCurveDisplay.from_estimator`.\n",
      "  warnings.warn(msg, category=FutureWarning)\n"
     ]
    },
    {
     "data": {
      "text/plain": [
       "<sklearn.metrics._plot.roc_curve.RocCurveDisplay at 0x15d03c00460>"
      ]
     },
     "execution_count": 113,
     "metadata": {},
     "output_type": "execute_result"
    },
    {
     "data": {
      "image/png": "[encoded data removed]",
      "text/plain": [
       "<Figure size 432x288 with 1 Axes>"
      ]
     },
     "metadata": {
      "needs_background": "light"
     },
     "output_type": "display_data"
    }
   ],
   "source": [
    "plot_roc_curve(model, X_test, y_test)"
   ]
  },
  {
   "cell_type": "markdown",
   "id": "8be03e6c-5a10-4657-8343-475d960b2cda",
   "metadata": {
    "jupyter": {
     "outputs_hidden": true
    },
    "tags": []
   },
   "source": [
    "### XGBoost"
   ]
  },
  {
   "cell_type": "code",
   "execution_count": 114,
   "id": "da3c9662-1599-40d9-9877-7534e3579f1c",
   "metadata": {},
   "outputs": [],
   "source": [
    "X_train, X_test, y_train, y_test = train_test_split(norm_log_table, controls, test_size=0.33, random_state=42)"
   ]
  },
  {
   "cell_type": "code",
   "execution_count": 115,
   "id": "c36770cb-4207-49fa-b544-267ccb4f35fe",
   "metadata": {},
   "outputs": [
    {
     "name": "stdout",
     "output_type": "stream",
     "text": [
      "[20:54:51] WARNING: C:/Users/Administrator/workspace/xgboost-win64_release_1.5.1/src/learner.cc:1115: Starting in XGBoost 1.3.0, the default evaluation metric used with the objective 'binary:logistic' was changed from 'error' to 'logloss'. Explicitly set eval_metric if you'd like to restore the old behavior.\n"
     ]
    },
    {
     "data": {
      "text/plain": [
       "XGBClassifier(base_score=0.5, booster='gbtree', colsample_bylevel=1,\n",
       "              colsample_bynode=1, colsample_bytree=1, enable_categorical=False,\n",
       "              gamma=0, gpu_id=-1, importance_type=None,\n",
       "              interaction_constraints='', learning_rate=0.300000012,\n",
       "              max_delta_step=0, max_depth=6, min_child_weight=1, missing=nan,\n",
       "              monotone_constraints='()', n_estimators=100, n_jobs=16,\n",
       "              num_parallel_tree=1, predictor='auto', random_state=0,\n",
       "              reg_alpha=0, reg_lambda=1, scale_pos_weight=1, subsample=1,\n",
       "              tree_method='exact', use_label_encoder=False,\n",
       "              validate_parameters=1, verbosity=None)"
      ]
     },
     "execution_count": 115,
     "metadata": {},
     "output_type": "execute_result"
    }
   ],
   "source": [
    "model = XGBClassifier(use_label_encoder=False)\n",
    "model.fit(X_train, y_train)"
   ]
  },
  {
   "cell_type": "code",
   "execution_count": 116,
   "id": "67d673c3-3197-4ab7-8954-20c1bac56965",
   "metadata": {},
   "outputs": [
    {
     "name": "stderr",
     "output_type": "stream",
     "text": [
      "C:\\Users\\olefr\\AppData\\Local\\Programs\\Python\\Python310\\lib\\site-packages\\sklearn\\utils\\deprecation.py:87: FutureWarning: Function plot_roc_curve is deprecated; Function :func:`plot_roc_curve` is deprecated in 1.0 and will be removed in 1.2. Use one of the class methods: :meth:`sklearn.metric.RocCurveDisplay.from_predictions` or :meth:`sklearn.metric.RocCurveDisplay.from_estimator`.\n",
      "  warnings.warn(msg, category=FutureWarning)\n"
     ]
    },
    {
     "data": {
      "text/plain": [
       "<sklearn.metrics._plot.roc_curve.RocCurveDisplay at 0x15d0389cc40>"
      ]
     },
     "execution_count": 116,
     "metadata": {},
     "output_type": "execute_result"
    },
    {
     "data": {
      "image/png": "[encoded data removed]",
      "text/plain": [
       "<Figure size 432x288 with 1 Axes>"
      ]
     },
     "metadata": {
      "needs_background": "light"
     },
     "output_type": "display_data"
    }
   ],
   "source": [
    "plot_roc_curve(model, X_test, y_test)"
   ]
  },
  {
   "cell_type": "markdown",
   "id": "2b4924a3-b407-4117-b791-b19d0163dc59",
   "metadata": {},
   "source": [
    "### Exported data"
   ]
  },
  {
   "cell_type": "code",
   "execution_count": 117,
   "id": "a0dbc37a-60e8-4892-b8d3-5ecc598ea9f6",
   "metadata": {},
   "outputs": [
    {
     "data": {
      "text/plain": [
       "Index(['hsa-let-7a-5p', 'hsa-let-7b-3p', 'hsa-let-7b-5p', 'hsa-let-7c',\n",
       "       'hsa-let-7d-3p', 'hsa-let-7d-5p', 'hsa-let-7e-5p', 'hsa-let-7f-5p',\n",
       "       'hsa-let-7g-5p', 'hsa-let-7i-3p'],\n",
       "      dtype='object')"
      ]
     },
     "execution_count": 117,
     "metadata": {},
     "output_type": "execute_result"
    }
   ],
   "source": [
    "mirnas[:10]"
   ]
  },
  {
   "cell_type": "code",
   "execution_count": 118,
   "id": "bd0e46ac-c45e-404c-b326-2ab0cacc7e0b",
   "metadata": {},
   "outputs": [],
   "source": [
    "from Scripts import converters"
   ]
  },
  {
   "cell_type": "code",
   "execution_count": 119,
   "id": "386985f7-a620-4a54-91f2-58175e92df7c",
   "metadata": {},
   "outputs": [],
   "source": [
    "sequences = converters.canonical_to_seq(mirnas, True)"
   ]
  },
  {
   "cell_type": "code",
   "execution_count": 120,
   "id": "f0035db2-38aa-4d4c-9aeb-2af99f52b0a6",
   "metadata": {},
   "outputs": [
    {
     "data": {
      "text/plain": [
       "2"
      ]
     },
     "execution_count": 120,
     "metadata": {},
     "output_type": "execute_result"
    }
   ],
   "source": [
    "sequences.count(None)"
   ]
  },
  {
   "cell_type": "code",
   "execution_count": 121,
   "id": "ae771792-8b76-468c-afe7-7b86867c1286",
   "metadata": {},
   "outputs": [
    {
     "data": {
      "text/html": [
       "<div>\n",
       "<style scoped>\n",
       "    .dataframe tbody tr th:only-of-type {\n",
       "        vertical-align: middle;\n",
       "    }\n",
       "\n",
       "    .dataframe tbody tr th {\n",
       "        vertical-align: top;\n",
       "    }\n",
       "\n",
       "    .dataframe thead th {\n",
       "        text-align: right;\n",
       "    }\n",
       "</style>\n",
       "<table border=\"1\" class=\"dataframe\">\n",
       "  <thead>\n",
       "    <tr style=\"text-align: right;\">\n",
       "      <th></th>\n",
       "      <th>hsa-let-7a-5p</th>\n",
       "      <th>hsa-let-7b-3p</th>\n",
       "      <th>hsa-let-7b-5p</th>\n",
       "      <th>hsa-let-7c</th>\n",
       "      <th>hsa-let-7d-3p</th>\n",
       "      <th>hsa-let-7d-5p</th>\n",
       "      <th>hsa-let-7e-5p</th>\n",
       "      <th>hsa-let-7f-5p</th>\n",
       "      <th>hsa-let-7g-5p</th>\n",
       "      <th>hsa-let-7i-3p</th>\n",
       "      <th>...</th>\n",
       "      <th>hsa-miR-652-3p</th>\n",
       "      <th>hsa-miR-660-5p</th>\n",
       "      <th>hsa-miR-766-3p</th>\n",
       "      <th>hsa-miR-885-5p</th>\n",
       "      <th>hsa-miR-92a-3p</th>\n",
       "      <th>hsa-miR-93-3p</th>\n",
       "      <th>hsa-miR-93-5p</th>\n",
       "      <th>hsa-miR-95</th>\n",
       "      <th>hsa-miR-99a-5p</th>\n",
       "      <th>hsa-miR-99b-5p</th>\n",
       "    </tr>\n",
       "    <tr>\n",
       "      <th>Unnamed: 0</th>\n",
       "      <th></th>\n",
       "      <th></th>\n",
       "      <th></th>\n",
       "      <th></th>\n",
       "      <th></th>\n",
       "      <th></th>\n",
       "      <th></th>\n",
       "      <th></th>\n",
       "      <th></th>\n",
       "      <th></th>\n",
       "      <th></th>\n",
       "      <th></th>\n",
       "      <th></th>\n",
       "      <th></th>\n",
       "      <th></th>\n",
       "      <th></th>\n",
       "      <th></th>\n",
       "      <th></th>\n",
       "      <th></th>\n",
       "      <th></th>\n",
       "      <th></th>\n",
       "    </tr>\n",
       "  </thead>\n",
       "  <tbody>\n",
       "    <tr>\n",
       "      <th>H01</th>\n",
       "      <td>-0.023433</td>\n",
       "      <td>0.300421</td>\n",
       "      <td>-0.104219</td>\n",
       "      <td>0.065560</td>\n",
       "      <td>0.388513</td>\n",
       "      <td>-0.013147</td>\n",
       "      <td>0.035573</td>\n",
       "      <td>-0.033994</td>\n",
       "      <td>0.174358</td>\n",
       "      <td>-2.351530</td>\n",
       "      <td>...</td>\n",
       "      <td>0.335083</td>\n",
       "      <td>0.194019</td>\n",
       "      <td>-0.893666</td>\n",
       "      <td>-2.924905</td>\n",
       "      <td>0.172542</td>\n",
       "      <td>1.122805</td>\n",
       "      <td>0.408429</td>\n",
       "      <td>-3.751590</td>\n",
       "      <td>0.228958</td>\n",
       "      <td>0.157685</td>\n",
       "    </tr>\n",
       "    <tr>\n",
       "      <th>S03</th>\n",
       "      <td>0.306128</td>\n",
       "      <td>0.165135</td>\n",
       "      <td>0.357349</td>\n",
       "      <td>0.255630</td>\n",
       "      <td>0.117589</td>\n",
       "      <td>0.189425</td>\n",
       "      <td>-0.508285</td>\n",
       "      <td>0.321997</td>\n",
       "      <td>0.437010</td>\n",
       "      <td>0.825720</td>\n",
       "      <td>...</td>\n",
       "      <td>-0.356911</td>\n",
       "      <td>-0.236071</td>\n",
       "      <td>-1.216792</td>\n",
       "      <td>-2.331445</td>\n",
       "      <td>0.273439</td>\n",
       "      <td>-3.502655</td>\n",
       "      <td>0.530643</td>\n",
       "      <td>-0.139883</td>\n",
       "      <td>-0.233346</td>\n",
       "      <td>-0.582496</td>\n",
       "    </tr>\n",
       "    <tr>\n",
       "      <th>S12</th>\n",
       "      <td>0.234965</td>\n",
       "      <td>-0.178026</td>\n",
       "      <td>0.504163</td>\n",
       "      <td>0.176145</td>\n",
       "      <td>-0.087873</td>\n",
       "      <td>0.150542</td>\n",
       "      <td>0.321891</td>\n",
       "      <td>0.096992</td>\n",
       "      <td>-0.053237</td>\n",
       "      <td>0.976908</td>\n",
       "      <td>...</td>\n",
       "      <td>-0.246248</td>\n",
       "      <td>-0.342383</td>\n",
       "      <td>-0.923041</td>\n",
       "      <td>0.840379</td>\n",
       "      <td>-0.198643</td>\n",
       "      <td>0.314903</td>\n",
       "      <td>-0.208664</td>\n",
       "      <td>0.190779</td>\n",
       "      <td>-0.143541</td>\n",
       "      <td>-0.147081</td>\n",
       "    </tr>\n",
       "    <tr>\n",
       "      <th>A05</th>\n",
       "      <td>-0.030298</td>\n",
       "      <td>0.756088</td>\n",
       "      <td>0.141801</td>\n",
       "      <td>-0.031549</td>\n",
       "      <td>0.299515</td>\n",
       "      <td>0.092013</td>\n",
       "      <td>0.193354</td>\n",
       "      <td>-0.232507</td>\n",
       "      <td>0.000562</td>\n",
       "      <td>-2.226748</td>\n",
       "      <td>...</td>\n",
       "      <td>0.311982</td>\n",
       "      <td>0.232358</td>\n",
       "      <td>-0.776166</td>\n",
       "      <td>0.941106</td>\n",
       "      <td>0.023586</td>\n",
       "      <td>0.811422</td>\n",
       "      <td>0.054122</td>\n",
       "      <td>0.713591</td>\n",
       "      <td>0.221763</td>\n",
       "      <td>0.189733</td>\n",
       "    </tr>\n",
       "    <tr>\n",
       "      <th>S11</th>\n",
       "      <td>-0.204124</td>\n",
       "      <td>0.080149</td>\n",
       "      <td>-0.239561</td>\n",
       "      <td>-0.217021</td>\n",
       "      <td>-0.155487</td>\n",
       "      <td>-0.207902</td>\n",
       "      <td>0.142846</td>\n",
       "      <td>-0.111982</td>\n",
       "      <td>-0.245077</td>\n",
       "      <td>1.453607</td>\n",
       "      <td>...</td>\n",
       "      <td>-0.243050</td>\n",
       "      <td>-0.306777</td>\n",
       "      <td>-0.717415</td>\n",
       "      <td>0.828751</td>\n",
       "      <td>-0.257327</td>\n",
       "      <td>0.376106</td>\n",
       "      <td>-0.539236</td>\n",
       "      <td>1.040273</td>\n",
       "      <td>0.029549</td>\n",
       "      <td>0.089310</td>\n",
       "    </tr>\n",
       "  </tbody>\n",
       "</table>\n",
       "<p>5 rows × 175 columns</p>\n",
       "</div>"
      ],
      "text/plain": [
       "            hsa-let-7a-5p  hsa-let-7b-3p  hsa-let-7b-5p  hsa-let-7c  \\\n",
       "Unnamed: 0                                                            \n",
       "H01             -0.023433       0.300421      -0.104219    0.065560   \n",
       "S03              0.306128       0.165135       0.357349    0.255630   \n",
       "S12              0.234965      -0.178026       0.504163    0.176145   \n",
       "A05             -0.030298       0.756088       0.141801   -0.031549   \n",
       "S11             -0.204124       0.080149      -0.239561   -0.217021   \n",
       "\n",
       "            hsa-let-7d-3p  hsa-let-7d-5p  hsa-let-7e-5p  hsa-let-7f-5p  \\\n",
       "Unnamed: 0                                                               \n",
       "H01              0.388513      -0.013147       0.035573      -0.033994   \n",
       "S03              0.117589       0.189425      -0.508285       0.321997   \n",
       "S12             -0.087873       0.150542       0.321891       0.096992   \n",
       "A05              0.299515       0.092013       0.193354      -0.232507   \n",
       "S11             -0.155487      -0.207902       0.142846      -0.111982   \n",
       "\n",
       "            hsa-let-7g-5p  hsa-let-7i-3p  ...  hsa-miR-652-3p  hsa-miR-660-5p  \\\n",
       "Unnamed: 0                                ...                                   \n",
       "H01              0.174358      -2.351530  ...        0.335083        0.194019   \n",
       "S03              0.437010       0.825720  ...       -0.356911       -0.236071   \n",
       "S12             -0.053237       0.976908  ...       -0.246248       -0.342383   \n",
       "A05              0.000562      -2.226748  ...        0.311982        0.232358   \n",
       "S11             -0.245077       1.453607  ...       -0.243050       -0.306777   \n",
       "\n",
       "            hsa-miR-766-3p  hsa-miR-885-5p  hsa-miR-92a-3p  hsa-miR-93-3p  \\\n",
       "Unnamed: 0                                                                  \n",
       "H01              -0.893666       -2.924905        0.172542       1.122805   \n",
       "S03              -1.216792       -2.331445        0.273439      -3.502655   \n",
       "S12              -0.923041        0.840379       -0.198643       0.314903   \n",
       "A05              -0.776166        0.941106        0.023586       0.811422   \n",
       "S11              -0.717415        0.828751       -0.257327       0.376106   \n",
       "\n",
       "            hsa-miR-93-5p  hsa-miR-95  hsa-miR-99a-5p  hsa-miR-99b-5p  \n",
       "Unnamed: 0                                                             \n",
       "H01              0.408429   -3.751590        0.228958        0.157685  \n",
       "S03              0.530643   -0.139883       -0.233346       -0.582496  \n",
       "S12             -0.208664    0.190779       -0.143541       -0.147081  \n",
       "A05              0.054122    0.713591        0.221763        0.189733  \n",
       "S11             -0.539236    1.040273        0.029549        0.089310  \n",
       "\n",
       "[5 rows x 175 columns]"
      ]
     },
     "execution_count": 121,
     "metadata": {},
     "output_type": "execute_result"
    }
   ],
   "source": [
    "sequences = np.array(sequences)\n",
    "mask = sequences != None\n",
    "sequences = sequences[mask]\n",
    "adj_norm_log_table = adj_norm_log_table.loc[:, mask]\n",
    "#adj_norm_log_table *= -1\n",
    "adj_norm_log_table.head()"
   ]
  },
  {
   "cell_type": "code",
   "execution_count": 122,
   "id": "09e6aae4-2be8-475d-967e-11521e4c0600",
   "metadata": {},
   "outputs": [
    {
     "data": {
      "text/html": [
       "<div>\n",
       "<style scoped>\n",
       "    .dataframe tbody tr th:only-of-type {\n",
       "        vertical-align: middle;\n",
       "    }\n",
       "\n",
       "    .dataframe tbody tr th {\n",
       "        vertical-align: top;\n",
       "    }\n",
       "\n",
       "    .dataframe thead th {\n",
       "        text-align: right;\n",
       "    }\n",
       "</style>\n",
       "<table border=\"1\" class=\"dataframe\">\n",
       "  <thead>\n",
       "    <tr style=\"text-align: right;\">\n",
       "      <th></th>\n",
       "      <th>UGAGGUAGUAGGUUGUAUAGUU</th>\n",
       "      <th>CUAUACAACCUACUGCCUUCCC</th>\n",
       "      <th>UGAGGUAGUAGGUUGUGUGGUU</th>\n",
       "      <th>GCAUCCGGGUUGAGGUAGUAGGUUGUAUGGUUUAGAGUUACACCCUGGGAGUUAACUGUACAACCUUCUAGCUUUCCUUGGAGC</th>\n",
       "      <th>CUAUACGACCUGCUGCCUUUCU</th>\n",
       "      <th>AGAGGUAGUAGGUUGCAUAGUU</th>\n",
       "      <th>UGAGGUAGGAGGUUGUAUAGUU</th>\n",
       "      <th>UGAGGUAGUAGAUUGUAUAGUU</th>\n",
       "      <th>UGAGGUAGUAGUUUGUACAGUU</th>\n",
       "      <th>CUGCGCAAGCUACUGCCUUGCU</th>\n",
       "      <th>...</th>\n",
       "      <th>UACCCAUUGCAUAUCGGAGUUG</th>\n",
       "      <th>ACUCCAGCCCCACAGCCUCAGC</th>\n",
       "      <th>UCCAUUACACUACCCUGCCUCU</th>\n",
       "      <th>UAUUGCACUUGUCCCGGCCUGU</th>\n",
       "      <th>ACUGCUGAGCUAGCACUUCCCG</th>\n",
       "      <th>CAAAGUGCUGUUCGUGCAGGUAG</th>\n",
       "      <th>UUCAACGGGUAUUUAUUGAGCA</th>\n",
       "      <th>AACCCGUAGAUCCGAUCUUGUG</th>\n",
       "      <th>CACCCGUAGAACCGACCUUGCG</th>\n",
       "      <th>cancer</th>\n",
       "    </tr>\n",
       "    <tr>\n",
       "      <th>Unnamed: 0</th>\n",
       "      <th></th>\n",
       "      <th></th>\n",
       "      <th></th>\n",
       "      <th></th>\n",
       "      <th></th>\n",
       "      <th></th>\n",
       "      <th></th>\n",
       "      <th></th>\n",
       "      <th></th>\n",
       "      <th></th>\n",
       "      <th></th>\n",
       "      <th></th>\n",
       "      <th></th>\n",
       "      <th></th>\n",
       "      <th></th>\n",
       "      <th></th>\n",
       "      <th></th>\n",
       "      <th></th>\n",
       "      <th></th>\n",
       "      <th></th>\n",
       "      <th></th>\n",
       "    </tr>\n",
       "  </thead>\n",
       "  <tbody>\n",
       "    <tr>\n",
       "      <th>H01</th>\n",
       "      <td>-0.023433</td>\n",
       "      <td>0.300421</td>\n",
       "      <td>-0.104219</td>\n",
       "      <td>0.065560</td>\n",
       "      <td>0.388513</td>\n",
       "      <td>-0.013147</td>\n",
       "      <td>0.035573</td>\n",
       "      <td>-0.033994</td>\n",
       "      <td>0.174358</td>\n",
       "      <td>-2.351530</td>\n",
       "      <td>...</td>\n",
       "      <td>0.194019</td>\n",
       "      <td>-0.893666</td>\n",
       "      <td>-2.924905</td>\n",
       "      <td>0.172542</td>\n",
       "      <td>1.122805</td>\n",
       "      <td>0.408429</td>\n",
       "      <td>-3.751590</td>\n",
       "      <td>0.228958</td>\n",
       "      <td>0.157685</td>\n",
       "      <td>0</td>\n",
       "    </tr>\n",
       "    <tr>\n",
       "      <th>S03</th>\n",
       "      <td>0.306128</td>\n",
       "      <td>0.165135</td>\n",
       "      <td>0.357349</td>\n",
       "      <td>0.255630</td>\n",
       "      <td>0.117589</td>\n",
       "      <td>0.189425</td>\n",
       "      <td>-0.508285</td>\n",
       "      <td>0.321997</td>\n",
       "      <td>0.437010</td>\n",
       "      <td>0.825720</td>\n",
       "      <td>...</td>\n",
       "      <td>-0.236071</td>\n",
       "      <td>-1.216792</td>\n",
       "      <td>-2.331445</td>\n",
       "      <td>0.273439</td>\n",
       "      <td>-3.502655</td>\n",
       "      <td>0.530643</td>\n",
       "      <td>-0.139883</td>\n",
       "      <td>-0.233346</td>\n",
       "      <td>-0.582496</td>\n",
       "      <td>1</td>\n",
       "    </tr>\n",
       "    <tr>\n",
       "      <th>S12</th>\n",
       "      <td>0.234965</td>\n",
       "      <td>-0.178026</td>\n",
       "      <td>0.504163</td>\n",
       "      <td>0.176145</td>\n",
       "      <td>-0.087873</td>\n",
       "      <td>0.150542</td>\n",
       "      <td>0.321891</td>\n",
       "      <td>0.096992</td>\n",
       "      <td>-0.053237</td>\n",
       "      <td>0.976908</td>\n",
       "      <td>...</td>\n",
       "      <td>-0.342383</td>\n",
       "      <td>-0.923041</td>\n",
       "      <td>0.840379</td>\n",
       "      <td>-0.198643</td>\n",
       "      <td>0.314903</td>\n",
       "      <td>-0.208664</td>\n",
       "      <td>0.190779</td>\n",
       "      <td>-0.143541</td>\n",
       "      <td>-0.147081</td>\n",
       "      <td>1</td>\n",
       "    </tr>\n",
       "    <tr>\n",
       "      <th>A05</th>\n",
       "      <td>-0.030298</td>\n",
       "      <td>0.756088</td>\n",
       "      <td>0.141801</td>\n",
       "      <td>-0.031549</td>\n",
       "      <td>0.299515</td>\n",
       "      <td>0.092013</td>\n",
       "      <td>0.193354</td>\n",
       "      <td>-0.232507</td>\n",
       "      <td>0.000562</td>\n",
       "      <td>-2.226748</td>\n",
       "      <td>...</td>\n",
       "      <td>0.232358</td>\n",
       "      <td>-0.776166</td>\n",
       "      <td>0.941106</td>\n",
       "      <td>0.023586</td>\n",
       "      <td>0.811422</td>\n",
       "      <td>0.054122</td>\n",
       "      <td>0.713591</td>\n",
       "      <td>0.221763</td>\n",
       "      <td>0.189733</td>\n",
       "      <td>1</td>\n",
       "    </tr>\n",
       "    <tr>\n",
       "      <th>S11</th>\n",
       "      <td>-0.204124</td>\n",
       "      <td>0.080149</td>\n",
       "      <td>-0.239561</td>\n",
       "      <td>-0.217021</td>\n",
       "      <td>-0.155487</td>\n",
       "      <td>-0.207902</td>\n",
       "      <td>0.142846</td>\n",
       "      <td>-0.111982</td>\n",
       "      <td>-0.245077</td>\n",
       "      <td>1.453607</td>\n",
       "      <td>...</td>\n",
       "      <td>-0.306777</td>\n",
       "      <td>-0.717415</td>\n",
       "      <td>0.828751</td>\n",
       "      <td>-0.257327</td>\n",
       "      <td>0.376106</td>\n",
       "      <td>-0.539236</td>\n",
       "      <td>1.040273</td>\n",
       "      <td>0.029549</td>\n",
       "      <td>0.089310</td>\n",
       "      <td>1</td>\n",
       "    </tr>\n",
       "  </tbody>\n",
       "</table>\n",
       "<p>5 rows × 176 columns</p>\n",
       "</div>"
      ],
      "text/plain": [
       "            UGAGGUAGUAGGUUGUAUAGUU  CUAUACAACCUACUGCCUUCCC  \\\n",
       "Unnamed: 0                                                   \n",
       "H01                      -0.023433                0.300421   \n",
       "S03                       0.306128                0.165135   \n",
       "S12                       0.234965               -0.178026   \n",
       "A05                      -0.030298                0.756088   \n",
       "S11                      -0.204124                0.080149   \n",
       "\n",
       "            UGAGGUAGUAGGUUGUGUGGUU  \\\n",
       "Unnamed: 0                           \n",
       "H01                      -0.104219   \n",
       "S03                       0.357349   \n",
       "S12                       0.504163   \n",
       "A05                       0.141801   \n",
       "S11                      -0.239561   \n",
       "\n",
       "            GCAUCCGGGUUGAGGUAGUAGGUUGUAUGGUUUAGAGUUACACCCUGGGAGUUAACUGUACAACCUUCUAGCUUUCCUUGGAGC  \\\n",
       "Unnamed: 0                                                                                         \n",
       "H01                                                  0.065560                                      \n",
       "S03                                                  0.255630                                      \n",
       "S12                                                  0.176145                                      \n",
       "A05                                                 -0.031549                                      \n",
       "S11                                                 -0.217021                                      \n",
       "\n",
       "            CUAUACGACCUGCUGCCUUUCU  AGAGGUAGUAGGUUGCAUAGUU  \\\n",
       "Unnamed: 0                                                   \n",
       "H01                       0.388513               -0.013147   \n",
       "S03                       0.117589                0.189425   \n",
       "S12                      -0.087873                0.150542   \n",
       "A05                       0.299515                0.092013   \n",
       "S11                      -0.155487               -0.207902   \n",
       "\n",
       "            UGAGGUAGGAGGUUGUAUAGUU  UGAGGUAGUAGAUUGUAUAGUU  \\\n",
       "Unnamed: 0                                                   \n",
       "H01                       0.035573               -0.033994   \n",
       "S03                      -0.508285                0.321997   \n",
       "S12                       0.321891                0.096992   \n",
       "A05                       0.193354               -0.232507   \n",
       "S11                       0.142846               -0.111982   \n",
       "\n",
       "            UGAGGUAGUAGUUUGUACAGUU  CUGCGCAAGCUACUGCCUUGCU  ...  \\\n",
       "Unnamed: 0                                                  ...   \n",
       "H01                       0.174358               -2.351530  ...   \n",
       "S03                       0.437010                0.825720  ...   \n",
       "S12                      -0.053237                0.976908  ...   \n",
       "A05                       0.000562               -2.226748  ...   \n",
       "S11                      -0.245077                1.453607  ...   \n",
       "\n",
       "            UACCCAUUGCAUAUCGGAGUUG  ACUCCAGCCCCACAGCCUCAGC  \\\n",
       "Unnamed: 0                                                   \n",
       "H01                       0.194019               -0.893666   \n",
       "S03                      -0.236071               -1.216792   \n",
       "S12                      -0.342383               -0.923041   \n",
       "A05                       0.232358               -0.776166   \n",
       "S11                      -0.306777               -0.717415   \n",
       "\n",
       "            UCCAUUACACUACCCUGCCUCU  UAUUGCACUUGUCCCGGCCUGU  \\\n",
       "Unnamed: 0                                                   \n",
       "H01                      -2.924905                0.172542   \n",
       "S03                      -2.331445                0.273439   \n",
       "S12                       0.840379               -0.198643   \n",
       "A05                       0.941106                0.023586   \n",
       "S11                       0.828751               -0.257327   \n",
       "\n",
       "            ACUGCUGAGCUAGCACUUCCCG  CAAAGUGCUGUUCGUGCAGGUAG  \\\n",
       "Unnamed: 0                                                    \n",
       "H01                       1.122805                 0.408429   \n",
       "S03                      -3.502655                 0.530643   \n",
       "S12                       0.314903                -0.208664   \n",
       "A05                       0.811422                 0.054122   \n",
       "S11                       0.376106                -0.539236   \n",
       "\n",
       "            UUCAACGGGUAUUUAUUGAGCA  AACCCGUAGAUCCGAUCUUGUG  \\\n",
       "Unnamed: 0                                                   \n",
       "H01                      -3.751590                0.228958   \n",
       "S03                      -0.139883               -0.233346   \n",
       "S12                       0.190779               -0.143541   \n",
       "A05                       0.713591                0.221763   \n",
       "S11                       1.040273                0.029549   \n",
       "\n",
       "            CACCCGUAGAACCGACCUUGCG  cancer  \n",
       "Unnamed: 0                                  \n",
       "H01                       0.157685       0  \n",
       "S03                      -0.582496       1  \n",
       "S12                      -0.147081       1  \n",
       "A05                       0.189733       1  \n",
       "S11                       0.089310       1  \n",
       "\n",
       "[5 rows x 176 columns]"
      ]
     },
     "execution_count": 122,
     "metadata": {},
     "output_type": "execute_result"
    }
   ],
   "source": [
    "adj_norm_log_table.columns = sequences\n",
    "adj_norm_log_table[\"cancer\"] = 1 - controls\n",
    "adj_norm_log_table.head()"
   ]
  },
  {
   "cell_type": "code",
   "execution_count": 123,
   "id": "dd6eb33e-01e1-469a-a39e-14d401e09ddd",
   "metadata": {},
   "outputs": [],
   "source": [
    "adj_norm_log_table.to_csv(\"../TransformedData/Zaporozhchenko2018.csv\", index=False)"
   ]
  },
  {
   "cell_type": "code",
   "execution_count": null,
   "id": "85b81f4e-3bc4-4b27-9290-8c9bc07b7e72",
   "metadata": {},
   "outputs": [],
   "source": []
  }
 ],
 "metadata": {
  "kernelspec": {
   "display_name": "Python 3 (ipykernel)",
   "language": "python",
   "name": "python3"
  },
  "language_info": {
   "codemirror_mode": {
    "name": "ipython",
    "version": 3
   },
   "file_extension": ".py",
   "mimetype": "text/x-python",
   "name": "python",
   "nbconvert_exporter": "python",
   "pygments_lexer": "ipython3",
   "version": "3.10.1"
  }
 },
 "nbformat": 4,
 "nbformat_minor": 5
}
