{
 "cells": [
  {
   "cell_type": "code",
   "execution_count": 1,
   "id": "51571063-765e-4749-be5b-33b5e9efa9ed",
   "metadata": {},
   "outputs": [],
   "source": [
    "%matplotlib inline\n",
    "import GEOparse\n",
    "import matplotlib.pyplot as plt\n",
    "import pandas as pd\n",
    "import numpy as np\n",
    "from sklearn import decomposition\n",
    "from sklego.linear_model import LowessRegression\n",
    "from sklearn.feature_selection import f_classif\n",
    "from sklearn.linear_model import LinearRegression, LogisticRegression\n",
    "from sklearn.metrics import explained_variance_score, plot_roc_curve\n",
    "import statsmodels.api as sm\n",
    "from scipy.stats import ttest_ind\n",
    "from xgboost import XGBClassifier\n",
    "from sklearn.model_selection import train_test_split\n",
    "import matplotlib\n",
    "from xgboost import XGBClassifier\n",
    "from sklearn.model_selection import train_test_split"
   ]
  },
  {
   "cell_type": "code",
   "execution_count": 2,
   "id": "18fed604-f30f-4b19-b197-e7ac891f77d8",
   "metadata": {},
   "outputs": [],
   "source": [
    "metadata = pd.read_csv(\"../Dataset/Zaporozhchenko2018/E-MTAB-6304.sdrf.txt\", sep=\"\\t\", index_col=0)"
   ]
  },
  {
   "cell_type": "code",
   "execution_count": 3,
   "id": "182d912a-8445-406d-968a-da2809674aa6",
   "metadata": {},
   "outputs": [
    {
     "data": {
      "text/plain": [
       "{'  ', '1a/1b', '2a/2b', '2b', '3a'}"
      ]
     },
     "execution_count": 3,
     "metadata": {},
     "output_type": "execute_result"
    }
   ],
   "source": [
    "set(metadata[\"Characteristics[tumor grading]\"])"
   ]
  },
  {
   "cell_type": "code",
   "execution_count": 4,
   "id": "fae4a6ee-fb74-4d11-84c0-345e75bb77d2",
   "metadata": {},
   "outputs": [
    {
     "data": {
      "text/html": [
       "<div>\n",
       "<style scoped>\n",
       "    .dataframe tbody tr th:only-of-type {\n",
       "        vertical-align: middle;\n",
       "    }\n",
       "\n",
       "    .dataframe tbody tr th {\n",
       "        vertical-align: top;\n",
       "    }\n",
       "\n",
       "    .dataframe thead th {\n",
       "        text-align: right;\n",
       "    }\n",
       "</style>\n",
       "<table border=\"1\" class=\"dataframe\">\n",
       "  <thead>\n",
       "    <tr style=\"text-align: right;\">\n",
       "      <th></th>\n",
       "      <th>Unnamed: 0</th>\n",
       "      <th>cel-miR-39-3p CP</th>\n",
       "      <th>hsa-let-7a-5p</th>\n",
       "      <th>hsa-let-7b-3p</th>\n",
       "      <th>hsa-let-7b-5p</th>\n",
       "      <th>hsa-let-7c</th>\n",
       "      <th>hsa-let-7d-3p</th>\n",
       "      <th>hsa-let-7d-5p</th>\n",
       "      <th>hsa-let-7e-5p</th>\n",
       "      <th>hsa-let-7f-5p</th>\n",
       "      <th>...</th>\n",
       "      <th>hsa-miR-885-5p</th>\n",
       "      <th>hsa-miR-92a-3p</th>\n",
       "      <th>hsa-miR-92b-3p</th>\n",
       "      <th>hsa-miR-93-3p</th>\n",
       "      <th>hsa-miR-93-5p</th>\n",
       "      <th>hsa-miR-95</th>\n",
       "      <th>hsa-miR-99a-5p</th>\n",
       "      <th>hsa-miR-99b-5p</th>\n",
       "      <th>UniSp3 IPC</th>\n",
       "      <th>UniSp6 CP</th>\n",
       "    </tr>\n",
       "  </thead>\n",
       "  <tbody>\n",
       "    <tr>\n",
       "      <th>0</th>\n",
       "      <td>NaN</td>\n",
       "      <td>107.0</td>\n",
       "      <td>107.000000</td>\n",
       "      <td>107.000000</td>\n",
       "      <td>107.000000</td>\n",
       "      <td>107.000000</td>\n",
       "      <td>107.000000</td>\n",
       "      <td>107.000000</td>\n",
       "      <td>107.000000</td>\n",
       "      <td>107.000000</td>\n",
       "      <td>...</td>\n",
       "      <td>107.000000</td>\n",
       "      <td>107.000000</td>\n",
       "      <td>107.0</td>\n",
       "      <td>107.000000</td>\n",
       "      <td>107.000000</td>\n",
       "      <td>107.000000</td>\n",
       "      <td>107.000000</td>\n",
       "      <td>107.000000</td>\n",
       "      <td>107.000000</td>\n",
       "      <td>107.000000</td>\n",
       "    </tr>\n",
       "    <tr>\n",
       "      <th>1</th>\n",
       "      <td>H01</td>\n",
       "      <td>NaN</td>\n",
       "      <td>28.758668</td>\n",
       "      <td>34.982437</td>\n",
       "      <td>28.984358</td>\n",
       "      <td>33.021168</td>\n",
       "      <td>33.031645</td>\n",
       "      <td>32.134888</td>\n",
       "      <td>33.872718</td>\n",
       "      <td>31.636085</td>\n",
       "      <td>...</td>\n",
       "      <td>NaN</td>\n",
       "      <td>28.593853</td>\n",
       "      <td>NaN</td>\n",
       "      <td>37.119241</td>\n",
       "      <td>30.343426</td>\n",
       "      <td>NaN</td>\n",
       "      <td>32.538680</td>\n",
       "      <td>34.652577</td>\n",
       "      <td>21.179529</td>\n",
       "      <td>20.609685</td>\n",
       "    </tr>\n",
       "    <tr>\n",
       "      <th>2</th>\n",
       "      <td>S03</td>\n",
       "      <td>NaN</td>\n",
       "      <td>29.712003</td>\n",
       "      <td>36.534820</td>\n",
       "      <td>30.825836</td>\n",
       "      <td>33.290056</td>\n",
       "      <td>32.817465</td>\n",
       "      <td>32.539219</td>\n",
       "      <td>34.332494</td>\n",
       "      <td>32.621527</td>\n",
       "      <td>...</td>\n",
       "      <td>NaN</td>\n",
       "      <td>28.461714</td>\n",
       "      <td>NaN</td>\n",
       "      <td>NaN</td>\n",
       "      <td>30.262072</td>\n",
       "      <td>35.938857</td>\n",
       "      <td>31.901907</td>\n",
       "      <td>33.866242</td>\n",
       "      <td>21.093227</td>\n",
       "      <td>20.317635</td>\n",
       "    </tr>\n",
       "    <tr>\n",
       "      <th>3</th>\n",
       "      <td>S12</td>\n",
       "      <td>NaN</td>\n",
       "      <td>29.991424</td>\n",
       "      <td>32.970275</td>\n",
       "      <td>31.918557</td>\n",
       "      <td>33.476899</td>\n",
       "      <td>31.122068</td>\n",
       "      <td>32.842620</td>\n",
       "      <td>35.439817</td>\n",
       "      <td>32.170137</td>\n",
       "      <td>...</td>\n",
       "      <td>34.214609</td>\n",
       "      <td>26.554790</td>\n",
       "      <td>NaN</td>\n",
       "      <td>33.643150</td>\n",
       "      <td>27.108517</td>\n",
       "      <td>34.208271</td>\n",
       "      <td>31.094495</td>\n",
       "      <td>33.481884</td>\n",
       "      <td>21.196356</td>\n",
       "      <td>20.282360</td>\n",
       "    </tr>\n",
       "    <tr>\n",
       "      <th>4</th>\n",
       "      <td>A05</td>\n",
       "      <td>NaN</td>\n",
       "      <td>28.978809</td>\n",
       "      <td>36.295561</td>\n",
       "      <td>30.336321</td>\n",
       "      <td>32.794001</td>\n",
       "      <td>32.324980</td>\n",
       "      <td>32.813790</td>\n",
       "      <td>33.523878</td>\n",
       "      <td>30.966500</td>\n",
       "      <td>...</td>\n",
       "      <td>35.877971</td>\n",
       "      <td>28.043598</td>\n",
       "      <td>NaN</td>\n",
       "      <td>35.501765</td>\n",
       "      <td>28.781016</td>\n",
       "      <td>34.825218</td>\n",
       "      <td>32.034844</td>\n",
       "      <td>33.841013</td>\n",
       "      <td>20.977626</td>\n",
       "      <td>20.315291</td>\n",
       "    </tr>\n",
       "  </tbody>\n",
       "</table>\n",
       "<p>5 rows × 183 columns</p>\n",
       "</div>"
      ],
      "text/plain": [
       "  Unnamed: 0  cel-miR-39-3p CP  hsa-let-7a-5p  hsa-let-7b-3p  hsa-let-7b-5p  \\\n",
       "0        NaN             107.0     107.000000     107.000000     107.000000   \n",
       "1        H01               NaN      28.758668      34.982437      28.984358   \n",
       "2        S03               NaN      29.712003      36.534820      30.825836   \n",
       "3        S12               NaN      29.991424      32.970275      31.918557   \n",
       "4        A05               NaN      28.978809      36.295561      30.336321   \n",
       "\n",
       "   hsa-let-7c  hsa-let-7d-3p  hsa-let-7d-5p  hsa-let-7e-5p  hsa-let-7f-5p  \\\n",
       "0  107.000000     107.000000     107.000000     107.000000     107.000000   \n",
       "1   33.021168      33.031645      32.134888      33.872718      31.636085   \n",
       "2   33.290056      32.817465      32.539219      34.332494      32.621527   \n",
       "3   33.476899      31.122068      32.842620      35.439817      32.170137   \n",
       "4   32.794001      32.324980      32.813790      33.523878      30.966500   \n",
       "\n",
       "   ...  hsa-miR-885-5p  hsa-miR-92a-3p  hsa-miR-92b-3p  hsa-miR-93-3p  \\\n",
       "0  ...      107.000000      107.000000           107.0     107.000000   \n",
       "1  ...             NaN       28.593853             NaN      37.119241   \n",
       "2  ...             NaN       28.461714             NaN            NaN   \n",
       "3  ...       34.214609       26.554790             NaN      33.643150   \n",
       "4  ...       35.877971       28.043598             NaN      35.501765   \n",
       "\n",
       "   hsa-miR-93-5p  hsa-miR-95  hsa-miR-99a-5p  hsa-miR-99b-5p  UniSp3 IPC  \\\n",
       "0     107.000000  107.000000      107.000000      107.000000  107.000000   \n",
       "1      30.343426         NaN       32.538680       34.652577   21.179529   \n",
       "2      30.262072   35.938857       31.901907       33.866242   21.093227   \n",
       "3      27.108517   34.208271       31.094495       33.481884   21.196356   \n",
       "4      28.781016   34.825218       32.034844       33.841013   20.977626   \n",
       "\n",
       "    UniSp6 CP  \n",
       "0  107.000000  \n",
       "1   20.609685  \n",
       "2   20.317635  \n",
       "3   20.282360  \n",
       "4   20.315291  \n",
       "\n",
       "[5 rows x 183 columns]"
      ]
     },
     "execution_count": 4,
     "metadata": {},
     "output_type": "execute_result"
    }
   ],
   "source": [
    "data = pd.read_csv(\"../Dataset/Zaporozhchenko2018/NSCLC_miRNA_dis_set.txt\", sep=\"\\t\", na_values=[\"ND\"])\n",
    "data.head()"
   ]
  },
  {
   "cell_type": "code",
   "execution_count": 5,
   "id": "b85a961d-84ff-4890-b22e-32f9ce217e0b",
   "metadata": {},
   "outputs": [],
   "source": [
    "data = data[1:-1]"
   ]
  },
  {
   "cell_type": "markdown",
   "id": "f87d5cd3-7c50-4098-b93e-d8644ef0cae8",
   "metadata": {},
   "source": [
    "### Remove outlier"
   ]
  },
  {
   "cell_type": "code",
   "execution_count": 6,
   "id": "ec16dba4-8a9e-4ad4-a833-bc82d16024eb",
   "metadata": {},
   "outputs": [],
   "source": [
    "data = data.drop([5, 15, 21]) #, 14, 19, 21])"
   ]
  },
  {
   "cell_type": "code",
   "execution_count": 7,
   "id": "e173e43f-efc6-480a-a94f-bfd1c91c3694",
   "metadata": {},
   "outputs": [
    {
     "data": {
      "text/html": [
       "<div>\n",
       "<style scoped>\n",
       "    .dataframe tbody tr th:only-of-type {\n",
       "        vertical-align: middle;\n",
       "    }\n",
       "\n",
       "    .dataframe tbody tr th {\n",
       "        vertical-align: top;\n",
       "    }\n",
       "\n",
       "    .dataframe thead th {\n",
       "        text-align: right;\n",
       "    }\n",
       "</style>\n",
       "<table border=\"1\" class=\"dataframe\">\n",
       "  <thead>\n",
       "    <tr style=\"text-align: right;\">\n",
       "      <th></th>\n",
       "      <th>cel-miR-39-3p CP</th>\n",
       "      <th>hsa-let-7a-5p</th>\n",
       "      <th>hsa-let-7b-3p</th>\n",
       "      <th>hsa-let-7b-5p</th>\n",
       "      <th>hsa-let-7c</th>\n",
       "      <th>hsa-let-7d-3p</th>\n",
       "      <th>hsa-let-7d-5p</th>\n",
       "      <th>hsa-let-7e-5p</th>\n",
       "      <th>hsa-let-7f-5p</th>\n",
       "      <th>hsa-let-7g-5p</th>\n",
       "      <th>...</th>\n",
       "      <th>hsa-miR-885-5p</th>\n",
       "      <th>hsa-miR-92a-3p</th>\n",
       "      <th>hsa-miR-92b-3p</th>\n",
       "      <th>hsa-miR-93-3p</th>\n",
       "      <th>hsa-miR-93-5p</th>\n",
       "      <th>hsa-miR-95</th>\n",
       "      <th>hsa-miR-99a-5p</th>\n",
       "      <th>hsa-miR-99b-5p</th>\n",
       "      <th>UniSp3 IPC</th>\n",
       "      <th>UniSp6 CP</th>\n",
       "    </tr>\n",
       "    <tr>\n",
       "      <th>Unnamed: 0</th>\n",
       "      <th></th>\n",
       "      <th></th>\n",
       "      <th></th>\n",
       "      <th></th>\n",
       "      <th></th>\n",
       "      <th></th>\n",
       "      <th></th>\n",
       "      <th></th>\n",
       "      <th></th>\n",
       "      <th></th>\n",
       "      <th></th>\n",
       "      <th></th>\n",
       "      <th></th>\n",
       "      <th></th>\n",
       "      <th></th>\n",
       "      <th></th>\n",
       "      <th></th>\n",
       "      <th></th>\n",
       "      <th></th>\n",
       "      <th></th>\n",
       "      <th></th>\n",
       "    </tr>\n",
       "  </thead>\n",
       "  <tbody>\n",
       "    <tr>\n",
       "      <th>H01</th>\n",
       "      <td>NaN</td>\n",
       "      <td>28.758668</td>\n",
       "      <td>34.982437</td>\n",
       "      <td>28.984358</td>\n",
       "      <td>33.021168</td>\n",
       "      <td>33.031645</td>\n",
       "      <td>32.134888</td>\n",
       "      <td>33.872718</td>\n",
       "      <td>31.636085</td>\n",
       "      <td>29.808525</td>\n",
       "      <td>...</td>\n",
       "      <td>NaN</td>\n",
       "      <td>28.593853</td>\n",
       "      <td>NaN</td>\n",
       "      <td>37.119241</td>\n",
       "      <td>30.343426</td>\n",
       "      <td>NaN</td>\n",
       "      <td>32.538680</td>\n",
       "      <td>34.652577</td>\n",
       "      <td>21.179529</td>\n",
       "      <td>20.609685</td>\n",
       "    </tr>\n",
       "    <tr>\n",
       "      <th>S03</th>\n",
       "      <td>NaN</td>\n",
       "      <td>29.712003</td>\n",
       "      <td>36.534820</td>\n",
       "      <td>30.825836</td>\n",
       "      <td>33.290056</td>\n",
       "      <td>32.817465</td>\n",
       "      <td>32.539219</td>\n",
       "      <td>34.332494</td>\n",
       "      <td>32.621527</td>\n",
       "      <td>30.447355</td>\n",
       "      <td>...</td>\n",
       "      <td>NaN</td>\n",
       "      <td>28.461714</td>\n",
       "      <td>NaN</td>\n",
       "      <td>NaN</td>\n",
       "      <td>30.262072</td>\n",
       "      <td>35.938857</td>\n",
       "      <td>31.901907</td>\n",
       "      <td>33.866242</td>\n",
       "      <td>21.093227</td>\n",
       "      <td>20.317635</td>\n",
       "    </tr>\n",
       "    <tr>\n",
       "      <th>S12</th>\n",
       "      <td>NaN</td>\n",
       "      <td>29.991424</td>\n",
       "      <td>32.970275</td>\n",
       "      <td>31.918557</td>\n",
       "      <td>33.476899</td>\n",
       "      <td>31.122068</td>\n",
       "      <td>32.842620</td>\n",
       "      <td>35.439817</td>\n",
       "      <td>32.170137</td>\n",
       "      <td>28.607708</td>\n",
       "      <td>...</td>\n",
       "      <td>34.214609</td>\n",
       "      <td>26.554790</td>\n",
       "      <td>NaN</td>\n",
       "      <td>33.643150</td>\n",
       "      <td>27.108517</td>\n",
       "      <td>34.208271</td>\n",
       "      <td>31.094495</td>\n",
       "      <td>33.481884</td>\n",
       "      <td>21.196356</td>\n",
       "      <td>20.282360</td>\n",
       "    </tr>\n",
       "    <tr>\n",
       "      <th>A05</th>\n",
       "      <td>NaN</td>\n",
       "      <td>28.978809</td>\n",
       "      <td>36.295561</td>\n",
       "      <td>30.336321</td>\n",
       "      <td>32.794001</td>\n",
       "      <td>32.324980</td>\n",
       "      <td>32.813790</td>\n",
       "      <td>33.523878</td>\n",
       "      <td>30.966500</td>\n",
       "      <td>29.184318</td>\n",
       "      <td>...</td>\n",
       "      <td>35.877971</td>\n",
       "      <td>28.043598</td>\n",
       "      <td>NaN</td>\n",
       "      <td>35.501765</td>\n",
       "      <td>28.781016</td>\n",
       "      <td>34.825218</td>\n",
       "      <td>32.034844</td>\n",
       "      <td>33.841013</td>\n",
       "      <td>20.977626</td>\n",
       "      <td>20.315291</td>\n",
       "    </tr>\n",
       "    <tr>\n",
       "      <th>S11</th>\n",
       "      <td>NaN</td>\n",
       "      <td>28.234000</td>\n",
       "      <td>32.777309</td>\n",
       "      <td>28.548604</td>\n",
       "      <td>32.047543</td>\n",
       "      <td>30.254140</td>\n",
       "      <td>31.525169</td>\n",
       "      <td>32.761623</td>\n",
       "      <td>31.622205</td>\n",
       "      <td>28.077539</td>\n",
       "      <td>...</td>\n",
       "      <td>35.857980</td>\n",
       "      <td>26.668311</td>\n",
       "      <td>NaN</td>\n",
       "      <td>33.467991</td>\n",
       "      <td>25.861484</td>\n",
       "      <td>35.559428</td>\n",
       "      <td>30.991698</td>\n",
       "      <td>32.896229</td>\n",
       "      <td>21.140280</td>\n",
       "      <td>20.891393</td>\n",
       "    </tr>\n",
       "  </tbody>\n",
       "</table>\n",
       "<p>5 rows × 182 columns</p>\n",
       "</div>"
      ],
      "text/plain": [
       "            cel-miR-39-3p CP  hsa-let-7a-5p  hsa-let-7b-3p  hsa-let-7b-5p  \\\n",
       "Unnamed: 0                                                                  \n",
       "H01                      NaN      28.758668      34.982437      28.984358   \n",
       "S03                      NaN      29.712003      36.534820      30.825836   \n",
       "S12                      NaN      29.991424      32.970275      31.918557   \n",
       "A05                      NaN      28.978809      36.295561      30.336321   \n",
       "S11                      NaN      28.234000      32.777309      28.548604   \n",
       "\n",
       "            hsa-let-7c  hsa-let-7d-3p  hsa-let-7d-5p  hsa-let-7e-5p  \\\n",
       "Unnamed: 0                                                            \n",
       "H01          33.021168      33.031645      32.134888      33.872718   \n",
       "S03          33.290056      32.817465      32.539219      34.332494   \n",
       "S12          33.476899      31.122068      32.842620      35.439817   \n",
       "A05          32.794001      32.324980      32.813790      33.523878   \n",
       "S11          32.047543      30.254140      31.525169      32.761623   \n",
       "\n",
       "            hsa-let-7f-5p  hsa-let-7g-5p  ...  hsa-miR-885-5p  hsa-miR-92a-3p  \\\n",
       "Unnamed: 0                                ...                                   \n",
       "H01             31.636085      29.808525  ...             NaN       28.593853   \n",
       "S03             32.621527      30.447355  ...             NaN       28.461714   \n",
       "S12             32.170137      28.607708  ...       34.214609       26.554790   \n",
       "A05             30.966500      29.184318  ...       35.877971       28.043598   \n",
       "S11             31.622205      28.077539  ...       35.857980       26.668311   \n",
       "\n",
       "            hsa-miR-92b-3p  hsa-miR-93-3p  hsa-miR-93-5p  hsa-miR-95  \\\n",
       "Unnamed: 0                                                             \n",
       "H01                    NaN      37.119241      30.343426         NaN   \n",
       "S03                    NaN            NaN      30.262072   35.938857   \n",
       "S12                    NaN      33.643150      27.108517   34.208271   \n",
       "A05                    NaN      35.501765      28.781016   34.825218   \n",
       "S11                    NaN      33.467991      25.861484   35.559428   \n",
       "\n",
       "            hsa-miR-99a-5p  hsa-miR-99b-5p  UniSp3 IPC  UniSp6 CP  \n",
       "Unnamed: 0                                                         \n",
       "H01              32.538680       34.652577   21.179529  20.609685  \n",
       "S03              31.901907       33.866242   21.093227  20.317635  \n",
       "S12              31.094495       33.481884   21.196356  20.282360  \n",
       "A05              32.034844       33.841013   20.977626  20.315291  \n",
       "S11              30.991698       32.896229   21.140280  20.891393  \n",
       "\n",
       "[5 rows x 182 columns]"
      ]
     },
     "execution_count": 7,
     "metadata": {},
     "output_type": "execute_result"
    }
   ],
   "source": [
    "mirnas = data.columns[1:]\n",
    "table = data.set_index(\"Unnamed: 0\")\n",
    "table.head()"
   ]
  },
  {
   "cell_type": "code",
   "execution_count": 8,
   "id": "71bad80f-d869-412b-9588-d583aaa81220",
   "metadata": {},
   "outputs": [
    {
     "data": {
      "text/plain": [
       "10"
      ]
     },
     "execution_count": 8,
     "metadata": {},
     "output_type": "execute_result"
    }
   ],
   "source": [
    "controls = np.array([\"H\" in r for r in data.iloc[:, 0]])\n",
    "sum(controls)"
   ]
  },
  {
   "cell_type": "markdown",
   "id": "85666df7-1ae2-4727-ab57-e208dd960663",
   "metadata": {},
   "source": [
    "### Mean-variance-plot"
   ]
  },
  {
   "cell_type": "code",
   "execution_count": 9,
   "id": "a70a61e2-8c03-48e9-9920-8a8621c74e48",
   "metadata": {},
   "outputs": [],
   "source": [
    "mask = table.isna().sum() <= 20\n",
    "table = table.loc[:, mask]\n",
    "mirnas = mirnas[mask]"
   ]
  },
  {
   "cell_type": "code",
   "execution_count": 10,
   "id": "df74316b-8db2-435f-99c2-307e98b2a1f7",
   "metadata": {},
   "outputs": [],
   "source": [
    "table = table.fillna(table.min().min())"
   ]
  },
  {
   "cell_type": "code",
   "execution_count": 11,
   "id": "7854a51f-55f6-4ee0-b76f-057d22ded9ac",
   "metadata": {},
   "outputs": [
    {
     "data": {
      "text/plain": [
       "27"
      ]
     },
     "execution_count": 11,
     "metadata": {},
     "output_type": "execute_result"
    }
   ],
   "source": [
    "len(table)"
   ]
  },
  {
   "cell_type": "code",
   "execution_count": 12,
   "id": "4f522e28-84f7-4aec-b174-57fd1db62881",
   "metadata": {},
   "outputs": [
    {
     "data": {
      "text/plain": [
       "hsa-let-7a-5p     29.236889\n",
       "hsa-let-7b-3p     32.473054\n",
       "hsa-let-7b-5p     29.706266\n",
       "hsa-let-7c        33.032204\n",
       "hsa-let-7d-3p     30.932542\n",
       "                    ...    \n",
       "hsa-miR-95        31.349485\n",
       "hsa-miR-99a-5p    30.907213\n",
       "hsa-miR-99b-5p    32.562831\n",
       "UniSp3 IPC        21.257422\n",
       "UniSp6 CP         20.737558\n",
       "Length: 177, dtype: float64"
      ]
     },
     "execution_count": 12,
     "metadata": {},
     "output_type": "execute_result"
    }
   ],
   "source": [
    "np.mean(table)"
   ]
  },
  {
   "cell_type": "code",
   "execution_count": 13,
   "id": "731d5e94-4015-4311-9c57-f5fe3a3a6abc",
   "metadata": {
    "tags": []
   },
   "outputs": [],
   "source": [
    "def get_means_and_variances(table):\n",
    "    return np.mean(table), np.var(table, ddof=1)"
   ]
  },
  {
   "cell_type": "code",
   "execution_count": 14,
   "id": "c27ac64f-ed00-45ae-82ea-59a92282a06d",
   "metadata": {
    "tags": []
   },
   "outputs": [],
   "source": [
    "def mean_variance_plot(table):\n",
    "    means, variances = get_means_and_variances(table)\n",
    "    plt.scatter(means, variances)\n",
    "    plt.xlabel(\"mean\")\n",
    "    plt.ylabel(\"variance\")\n",
    "    plt.plot()"
   ]
  },
  {
   "cell_type": "code",
   "execution_count": 15,
   "id": "644ecfbe-136b-4e8e-b842-2cfcbb90a7af",
   "metadata": {},
   "outputs": [
    {
     "data": {
      "image/png": "[encoded data removed]",
      "text/plain": [
       "<Figure size 432x288 with 1 Axes>"
      ]
     },
     "metadata": {
      "needs_background": "light"
     },
     "output_type": "display_data"
    }
   ],
   "source": [
    "mean_variance_plot(table)"
   ]
  },
  {
   "cell_type": "markdown",
   "id": "c0a94800-0d51-452f-99a6-4d1fb10aaa2b",
   "metadata": {},
   "source": [
    "### Log transformation"
   ]
  },
  {
   "cell_type": "code",
   "execution_count": 16,
   "id": "0fb08e7c-5ec3-4b5b-adb3-1b435cd19e1f",
   "metadata": {},
   "outputs": [],
   "source": [
    "log_table = table #np.log2(table)"
   ]
  },
  {
   "cell_type": "code",
   "execution_count": 17,
   "id": "1f95d611-6706-4296-9547-885f546e61d8",
   "metadata": {},
   "outputs": [
    {
     "data": {
      "image/png": "[encoded data removed]",
      "text/plain": [
       "<Figure size 432x288 with 1 Axes>"
      ]
     },
     "metadata": {
      "needs_background": "light"
     },
     "output_type": "display_data"
    }
   ],
   "source": [
    "mean_variance_plot(log_table)"
   ]
  },
  {
   "cell_type": "markdown",
   "id": "d3989a55-b863-421b-b43c-364faf896108",
   "metadata": {
    "tags": []
   },
   "source": [
    "### Loess regression"
   ]
  },
  {
   "cell_type": "code",
   "execution_count": 18,
   "id": "e038e352-15a2-4d82-97d6-ee257b69cbda",
   "metadata": {
    "tags": []
   },
   "outputs": [],
   "source": [
    "lowess = LowessRegression(sigma=1, span=0.5)"
   ]
  },
  {
   "cell_type": "code",
   "execution_count": 19,
   "id": "3290a810-4700-49ec-aad2-173a58da158c",
   "metadata": {},
   "outputs": [
    {
     "data": {
      "text/plain": [
       "LowessRegression(span=0.5)"
      ]
     },
     "execution_count": 19,
     "metadata": {},
     "output_type": "execute_result"
    }
   ],
   "source": [
    "means, variances = get_means_and_variances(log_table)\n",
    "lowess.fit(means.to_numpy().reshape(-1,1), variances)"
   ]
  },
  {
   "cell_type": "code",
   "execution_count": 20,
   "id": "63d85600-99cb-4b6b-9274-adc95baf0118",
   "metadata": {},
   "outputs": [],
   "source": [
    "x_axis = np.linspace(30, 40, 100)\n",
    "y_axis = lowess.predict(x_axis.reshape(-1,1))"
   ]
  },
  {
   "cell_type": "code",
   "execution_count": 21,
   "id": "96c7df5b-76f7-4fb7-b3cf-d6ee734743d6",
   "metadata": {},
   "outputs": [
    {
     "data": {
      "text/plain": [
       "[]"
      ]
     },
     "execution_count": 21,
     "metadata": {},
     "output_type": "execute_result"
    },
    {
     "data": {
      "image/png": "[encoded data removed]",
      "text/plain": [
       "<Figure size 432x288 with 1 Axes>"
      ]
     },
     "metadata": {
      "needs_background": "light"
     },
     "output_type": "display_data"
    }
   ],
   "source": [
    "plt.scatter(means, variances, color=\"b\")\n",
    "plt.scatter(x_axis, y_axis, color=\"y\")\n",
    "plt.xlabel(\"mean\")\n",
    "plt.ylabel(\"variance\")\n",
    "plt.legend([\"Sample points\", \"Lowess regression\"])\n",
    "plt.plot()"
   ]
  },
  {
   "cell_type": "code",
   "execution_count": 22,
   "id": "0c18d1bb-9d55-477c-858e-ffe47a1320a2",
   "metadata": {},
   "outputs": [],
   "source": [
    "adj_var = lowess.predict(means.to_numpy().reshape(-1, 1))"
   ]
  },
  {
   "cell_type": "code",
   "execution_count": 23,
   "id": "a6dc597e-f60f-4122-b8f9-1ec666b88809",
   "metadata": {
    "tags": []
   },
   "outputs": [],
   "source": [
    "log_table /= np.sqrt(adj_var)"
   ]
  },
  {
   "cell_type": "code",
   "execution_count": 24,
   "id": "ab28104d-e0e4-403e-87fc-6083502700a1",
   "metadata": {},
   "outputs": [
    {
     "data": {
      "image/png": "[encoded data removed]",
      "text/plain": [
       "<Figure size 432x288 with 1 Axes>"
      ]
     },
     "metadata": {
      "needs_background": "light"
     },
     "output_type": "display_data"
    }
   ],
   "source": [
    "mean_variance_plot(log_table)"
   ]
  },
  {
   "cell_type": "markdown",
   "id": "7baa3727-39a5-4d4f-8d8b-6563d678e948",
   "metadata": {},
   "source": [
    "### Standardizing"
   ]
  },
  {
   "cell_type": "code",
   "execution_count": 25,
   "id": "09895c2d-c449-41d3-a712-23d1773b0b80",
   "metadata": {
    "tags": []
   },
   "outputs": [],
   "source": [
    "norm_log_table = log_table #- np.mean(log_table)"
   ]
  },
  {
   "cell_type": "code",
   "execution_count": 26,
   "id": "4bd66043-cf0d-45a5-abaa-6e61bd2e9e7f",
   "metadata": {},
   "outputs": [],
   "source": [
    "#norm_log_table /= np.sqrt(np.mean(np.var(norm_log_table, ddof=1)))"
   ]
  },
  {
   "cell_type": "code",
   "execution_count": 27,
   "id": "293d07cb-4764-499a-b62e-427a548c562e",
   "metadata": {},
   "outputs": [
    {
     "data": {
      "image/png": "[encoded data removed]",
      "text/plain": [
       "<Figure size 432x288 with 1 Axes>"
      ]
     },
     "metadata": {
      "needs_background": "light"
     },
     "output_type": "display_data"
    }
   ],
   "source": [
    "mean_variance_plot(norm_log_table)"
   ]
  },
  {
   "cell_type": "markdown",
   "id": "8db6f133-3ad3-4876-825c-6c8ad02e50b3",
   "metadata": {},
   "source": [
    "### PCA"
   ]
  },
  {
   "cell_type": "code",
   "execution_count": 28,
   "id": "5f39b939-c9f8-4872-b791-d4f9300ce594",
   "metadata": {
    "tags": []
   },
   "outputs": [],
   "source": [
    "pca = decomposition.PCA(n_components=10)"
   ]
  },
  {
   "cell_type": "code",
   "execution_count": 29,
   "id": "78633132-922d-4158-92f2-2274b4df8445",
   "metadata": {},
   "outputs": [
    {
     "data": {
      "text/plain": [
       "PCA(n_components=10)"
      ]
     },
     "execution_count": 29,
     "metadata": {},
     "output_type": "execute_result"
    }
   ],
   "source": [
    "pca.fit(norm_log_table)"
   ]
  },
  {
   "cell_type": "code",
   "execution_count": 30,
   "id": "03817545-f6f6-4880-8558-14745b180346",
   "metadata": {},
   "outputs": [
    {
     "data": {
      "text/plain": [
       "array([0.31689202, 0.10680122, 0.07178314, 0.05852772, 0.05698059,\n",
       "       0.04600932, 0.04147007, 0.03918732, 0.03355463, 0.02977775])"
      ]
     },
     "execution_count": 30,
     "metadata": {},
     "output_type": "execute_result"
    }
   ],
   "source": [
    "pca.explained_variance_ratio_"
   ]
  },
  {
   "cell_type": "code",
   "execution_count": 31,
   "id": "ac13e688-5213-440f-a55d-3fb136d1666d",
   "metadata": {
    "tags": []
   },
   "outputs": [],
   "source": [
    "components = pca.transform(norm_log_table)"
   ]
  },
  {
   "cell_type": "code",
   "execution_count": 32,
   "id": "6128b38c-2c28-44dc-a944-df9b0cec435a",
   "metadata": {},
   "outputs": [
    {
     "data": {
      "text/plain": [
       "array([[ 1.77432442e+00, -6.51359256e+00, -1.91655945e+00,\n",
       "         7.90698574e+00, -2.62719716e+00, -2.74882419e+00,\n",
       "         2.02863262e+00,  5.57637776e+00, -9.51811332e-01,\n",
       "        -2.53155185e-01],\n",
       "       [-8.65010733e-01, -4.67149858e+00, -2.63553562e+00,\n",
       "        -7.55352152e-01,  1.32674541e-01, -4.51832097e+00,\n",
       "        -3.63787403e+00, -4.14663526e+00, -5.40361731e+00,\n",
       "         2.37384296e+00],\n",
       "       [-2.96919723e+00,  3.44677862e+00,  2.37227153e+00,\n",
       "         2.82197664e-01,  4.42600136e-01, -3.77445547e-01,\n",
       "         2.61700266e+00, -3.69189217e+00,  1.29568928e+00,\n",
       "         2.87158609e+00],\n",
       "       [-1.59615681e+00, -8.59541700e-01, -1.20124239e-01,\n",
       "         1.10474916e+00,  1.85135606e+00,  8.73619149e-01,\n",
       "         7.83328782e+00,  1.75790389e+00, -2.05564855e+00,\n",
       "        -4.80338437e-02],\n",
       "       [-2.98128796e+00,  2.93762957e+00,  8.23603611e-01,\n",
       "         2.14212806e-01,  2.04831697e+00,  5.25328721e-01,\n",
       "         7.05466511e-01,  6.08623344e-01, -7.23117969e-01,\n",
       "        -2.47534875e+00],\n",
       "       [-3.33953220e+00,  4.20010825e+00,  2.35526519e+00,\n",
       "         2.34404988e-01,  1.11697730e+00, -1.76451749e+00,\n",
       "         2.38693180e-01, -2.10018369e+00, -6.20262058e-01,\n",
       "        -2.89338837e-01],\n",
       "       [-2.68126460e+00,  4.07477572e+00,  1.97859621e+00,\n",
       "         9.04228220e-01, -8.85664716e-02, -2.62734027e+00,\n",
       "         1.55079305e+00,  3.21405516e+00, -1.95503986e+00,\n",
       "         2.82851282e+00],\n",
       "       [-3.16344673e+00, -4.29863103e-01,  3.26465410e-01,\n",
       "        -4.84520717e-01, -2.72245177e-01,  4.99945368e+00,\n",
       "        -2.98185516e+00,  1.86767029e+00,  2.29792936e+00,\n",
       "         2.06177686e-01],\n",
       "       [-3.73591179e+00,  5.07506720e+00,  2.04896407e+00,\n",
       "        -6.48977640e-01,  1.67631883e+00, -2.15144163e+00,\n",
       "        -9.47922941e-01, -2.06846959e+00, -4.77500971e-01,\n",
       "        -1.78563126e+00],\n",
       "       [-1.15883381e+00,  8.13838708e-01, -2.00128151e+00,\n",
       "         3.53785117e+00, -1.70933616e+00,  7.20239339e+00,\n",
       "        -3.84307784e+00,  3.38120474e-02, -3.43640322e+00,\n",
       "        -2.92210792e+00],\n",
       "       [-4.67170336e+00,  8.64560145e-01,  4.69188913e-01,\n",
       "        -1.22800515e+00, -1.56874451e+00,  1.00240973e+00,\n",
       "         2.94224342e-01,  1.23051502e+00, -3.22446651e-02,\n",
       "        -1.74354130e+00],\n",
       "       [ 1.67642088e+00, -8.61256536e+00, -2.93988725e+00,\n",
       "        -3.09652639e+00, -6.11830358e+00, -3.42201137e+00,\n",
       "         5.01268419e-01, -3.27504201e+00,  1.03857495e+00,\n",
       "        -3.13111278e+00],\n",
       "       [ 2.12377518e+01, -6.45960234e+00,  1.20075640e+01,\n",
       "         2.46281252e+00,  1.12915255e+00,  7.61091955e-01,\n",
       "        -1.33980340e+00, -1.09244627e+00,  2.24153294e-01,\n",
       "        -3.33873143e-01],\n",
       "       [-4.04165238e+00,  3.06721092e+00,  9.06608094e-01,\n",
       "        -1.17708404e+00, -3.60564142e-01, -1.15678480e+00,\n",
       "         4.37024582e-01,  1.58465491e+00,  8.44527713e-01,\n",
       "        -2.57864020e-01],\n",
       "       [ 2.60018659e+00, -6.55962354e+00, -2.25962830e+00,\n",
       "        -6.93392312e+00,  1.06511014e+01,  1.04486696e+00,\n",
       "         1.30426825e+00,  1.81847105e+00, -1.57372212e+00,\n",
       "        -1.40497722e+00],\n",
       "       [-2.50829592e+00,  9.88292921e-01,  3.44740869e-01,\n",
       "         2.36478721e+00, -1.39678938e+00,  1.41607899e+00,\n",
       "         3.59810434e+00, -2.89537557e+00, -3.93798268e-01,\n",
       "         2.24692705e+00],\n",
       "       [ 2.77414895e+01,  9.55112318e+00, -6.85270605e+00,\n",
       "        -2.78957106e+00, -2.39069023e+00, -8.02089541e-02,\n",
       "         5.92649754e-01,  1.10926685e+00, -3.84944453e-01,\n",
       "         5.90227307e-01],\n",
       "       [-3.43141272e+00,  2.41324400e+00,  1.67062209e+00,\n",
       "         1.17810765e-01, -1.19812368e+00, -4.86642604e+00,\n",
       "        -3.62717772e+00,  1.57800606e+00, -4.62554248e-01,\n",
       "        -2.63835954e+00],\n",
       "       [-2.02332516e+00, -2.34241991e+00, -3.52893189e+00,\n",
       "         1.25045152e+00, -1.32235381e+00,  4.73493733e+00,\n",
       "         2.17203000e-01, -2.27316380e+00,  9.29850123e-01,\n",
       "        -1.13781637e+00],\n",
       "       [-3.18522362e+00,  1.79746971e+00,  2.49128493e+00,\n",
       "        -2.15294872e+00, -2.01235335e+00,  2.94467898e-01,\n",
       "        -2.46746082e-01, -9.88491582e-02,  3.24818886e+00,\n",
       "         1.38560852e+00],\n",
       "       [-2.31135489e+00, -2.38971435e+00,  9.14852337e-01,\n",
       "        -2.49259439e+00, -7.34880618e-01,  2.73922295e+00,\n",
       "        -3.74798174e+00,  1.79048290e+00, -4.31298458e-01,\n",
       "         7.06132099e+00],\n",
       "       [-2.45821944e+00,  2.68903882e+00,  1.00686607e+00,\n",
       "        -3.24773370e+00,  3.92155346e-01, -1.10766048e+00,\n",
       "        -1.90674702e+00, -7.63179349e-02,  1.59901832e+00,\n",
       "        -1.80187017e+00],\n",
       "       [-1.66692886e+00, -3.05695212e+00,  1.36700312e+00,\n",
       "        -3.83191831e+00, -3.19780279e+00,  2.75604059e-01,\n",
       "         2.36880922e+00,  1.83991532e+00,  5.03073184e+00,\n",
       "        -7.91693543e-01],\n",
       "       [-3.75106475e+00, -1.04945526e+00, -2.42298855e+00,\n",
       "        -1.61558846e-01, -1.82283636e-02, -1.85794325e+00,\n",
       "        -2.77357218e+00,  4.90374039e+00, -2.35108018e-02,\n",
       "         1.08752053e+00],\n",
       "       [ 2.08884842e+00, -8.99611065e-01, -6.19250039e+00,\n",
       "         7.18560099e+00,  6.55918915e+00, -1.98654278e+00,\n",
       "        -1.85547465e+00, -2.78045811e+00,  6.29239949e+00,\n",
       "         1.11477595e+00],\n",
       "       [-2.44134389e+00,  4.67206575e+00,  2.08219157e+00,\n",
       "         3.15492262e+00,  1.50154601e+00,  1.04890164e+00,\n",
       "         4.55561586e-02, -1.20278730e+00, -1.98200343e+00,\n",
       "        -2.06468495e+00],\n",
       "       [-2.13785471e+00, -2.74676362e+00, -2.29594478e+00,\n",
       "        -1.72030113e+00, -2.48520888e+00,  1.74709134e+00,\n",
       "         2.57524886e+00, -3.21187415e+00, -1.89358552e+00,\n",
       "         1.31290893e+00]])"
      ]
     },
     "execution_count": 32,
     "metadata": {},
     "output_type": "execute_result"
    }
   ],
   "source": [
    "components"
   ]
  },
  {
   "cell_type": "code",
   "execution_count": 33,
   "id": "35f87bb8-ceda-4b8a-a5a8-553fe66ee84c",
   "metadata": {},
   "outputs": [
    {
     "data": {
      "image/png": "[encoded data removed]",
      "text/plain": [
       "<Figure size 576x576 with 1 Axes>"
      ]
     },
     "metadata": {
      "needs_background": "light"
     },
     "output_type": "display_data"
    }
   ],
   "source": [
    "fig = plt.figure(figsize = (8,8))\n",
    "ax = fig.add_subplot(1,1,1)\n",
    "\n",
    "ax.set_xlabel('Principal Component 1', fontsize = 15)\n",
    "ax.set_ylabel('Principal Component 2', fontsize = 15)\n",
    "ax.set_title('2 component PCA', fontsize = 20)\n",
    "targets = ['Cancer', 'Healthy']\n",
    "colors = ['r', 'g']\n",
    "ax.scatter(components[controls == False, 0], components[controls == False, 1], c = 'r', s = 10)\n",
    "ax.scatter(components[controls == True, 0], components[controls == True, 1], c = 'g', s = 10)\n",
    "ax.legend(targets)\n",
    "ax.grid()"
   ]
  },
  {
   "cell_type": "code",
   "execution_count": 34,
   "id": "bd985990-d8a1-4d91-ab5a-fa1ae571db55",
   "metadata": {},
   "outputs": [
    {
     "data": {
      "text/plain": [
       "(array([16], dtype=int64),)"
      ]
     },
     "execution_count": 34,
     "metadata": {},
     "output_type": "execute_result"
    }
   ],
   "source": [
    "np.nonzero(components[:, 1] > 8)"
   ]
  },
  {
   "cell_type": "code",
   "execution_count": 35,
   "id": "e9635074-f5ea-4f31-beb0-2f53888f5e37",
   "metadata": {
    "tags": []
   },
   "outputs": [],
   "source": [
    "components2 = components[components[:,0] < 20, :]\n",
    "controls2 = controls[components[:,0] < 20]"
   ]
  },
  {
   "cell_type": "code",
   "execution_count": 36,
   "id": "8f08733f-620a-4803-907d-55634da7aea4",
   "metadata": {},
   "outputs": [
    {
     "data": {
      "image/png": "[encoded data removed]",
      "text/plain": [
       "<Figure size 576x576 with 1 Axes>"
      ]
     },
     "metadata": {
      "needs_background": "light"
     },
     "output_type": "display_data"
    }
   ],
   "source": [
    "fig = plt.figure(figsize = (8,8))\n",
    "ax = fig.add_subplot(1,1,1)\n",
    "\n",
    "ax.set_xlabel('Principal Component 1', fontsize = 15)\n",
    "ax.set_ylabel('Principal Component 2', fontsize = 15)\n",
    "ax.set_title('2 component PCA', fontsize = 20)\n",
    "targets = ['Cancer', 'Healthy']\n",
    "colors = ['r', 'g']\n",
    "ax.scatter(components2[controls2 == False, 0], components2[controls2 == False, 1], c = 'r', s = 10)\n",
    "ax.scatter(components2[controls2 == True, 0], components2[controls2 == True, 1], c = 'g', s = 10)\n",
    "ax.legend(targets)\n",
    "ax.grid()"
   ]
  },
  {
   "cell_type": "markdown",
   "id": "dc1d1de9-03a0-49de-94e5-b702cdf57e34",
   "metadata": {
    "tags": []
   },
   "source": [
    "### Linear regression adjustments"
   ]
  },
  {
   "cell_type": "code",
   "execution_count": 37,
   "id": "cdc53954-dec8-4258-bda7-7fdd272d3459",
   "metadata": {},
   "outputs": [
    {
     "data": {
      "text/plain": [
       "Index(['Characteristics[organism]', 'Characteristics[disease]',\n",
       "       'Characteristics[tumor grading]', 'Characteristics[age]',\n",
       "       'Unit[time unit]', 'Characteristics[sex]',\n",
       "       'Characteristics[organism part]', 'Material Type', 'Protocol REF',\n",
       "       'Protocol REF.1', 'Extract Name', 'Protocol REF.2',\n",
       "       'Labeled Extract Name', 'Label', 'Protocol REF.3', 'Assay Name',\n",
       "       'Technology Type', 'Array Design REF', 'Term Source REF',\n",
       "       'Protocol REF.4', 'Array Data Matrix File',\n",
       "       'Comment [ArrayExpress Data Matrix FTP file]', 'Protocol REF.5',\n",
       "       'Derived Array Data File', 'Comment [Derived ArrayExpress FTP file]',\n",
       "       'Factor Value[disease]'],\n",
       "      dtype='object')"
      ]
     },
     "execution_count": 37,
     "metadata": {},
     "output_type": "execute_result"
    }
   ],
   "source": [
    "metadata.columns"
   ]
  },
  {
   "cell_type": "code",
   "execution_count": 38,
   "id": "7a0eb273-c04f-4ecc-8741-ee5586cb3795",
   "metadata": {},
   "outputs": [],
   "source": [
    "covars = metadata.loc[table.index, [\"Characteristics[age]\", \"Characteristics[sex]\"]]"
   ]
  },
  {
   "cell_type": "code",
   "execution_count": 39,
   "id": "81fec38d-6e34-442e-8e7f-35c4fdf88abb",
   "metadata": {},
   "outputs": [],
   "source": [
    "covars.columns = [\"age\", \"sex\"]"
   ]
  },
  {
   "cell_type": "code",
   "execution_count": 40,
   "id": "c5fdc6d1-2856-488c-a521-f9c7fb38920b",
   "metadata": {},
   "outputs": [],
   "source": [
    "covars[\"sex\"] = covars[\"sex\"] == \"female\""
   ]
  },
  {
   "cell_type": "code",
   "execution_count": 41,
   "id": "a83d0127-251a-42f5-9a9b-24a377724acf",
   "metadata": {},
   "outputs": [],
   "source": [
    "covars = covars.fillna(covars.mean())"
   ]
  },
  {
   "cell_type": "code",
   "execution_count": 42,
   "id": "1daec1e5-66f0-4c4d-96c9-ec20b0df5b1e",
   "metadata": {},
   "outputs": [
    {
     "data": {
      "text/plain": [
       "LinearRegression()"
      ]
     },
     "execution_count": 42,
     "metadata": {},
     "output_type": "execute_result"
    }
   ],
   "source": [
    "linreg = LinearRegression()\n",
    "linreg.fit(covars, norm_log_table)"
   ]
  },
  {
   "cell_type": "code",
   "execution_count": 43,
   "id": "231d5526-fe2d-403c-8666-51b4f4119365",
   "metadata": {},
   "outputs": [],
   "source": [
    "adj_norm_log_table = norm_log_table #- linreg.predict(covars)"
   ]
  },
  {
   "cell_type": "markdown",
   "id": "63758622-52b7-48c0-bc8a-14d1dd086ebc",
   "metadata": {
    "tags": []
   },
   "source": [
    "# PCA"
   ]
  },
  {
   "cell_type": "code",
   "execution_count": 44,
   "id": "283c38ac-b150-4e86-8026-81822debb469",
   "metadata": {
    "tags": []
   },
   "outputs": [],
   "source": [
    "pca = decomposition.PCA(n_components=2)"
   ]
  },
  {
   "cell_type": "code",
   "execution_count": 45,
   "id": "a68710f4-b37e-46ac-b66b-164abc997119",
   "metadata": {},
   "outputs": [
    {
     "data": {
      "text/plain": [
       "PCA(n_components=2)"
      ]
     },
     "execution_count": 45,
     "metadata": {},
     "output_type": "execute_result"
    }
   ],
   "source": [
    "pca.fit(adj_norm_log_table)"
   ]
  },
  {
   "cell_type": "code",
   "execution_count": 46,
   "id": "de0de8c0-0624-4baf-b5ff-9a397b1c5dbd",
   "metadata": {
    "tags": []
   },
   "outputs": [],
   "source": [
    "components = pca.transform(adj_norm_log_table)"
   ]
  },
  {
   "cell_type": "code",
   "execution_count": 47,
   "id": "fff3f7f9-4c70-4d6b-88ba-363ad93275d5",
   "metadata": {},
   "outputs": [
    {
     "data": {
      "text/plain": [
       "array([[ 1.77432442, -6.51359256],\n",
       "       [-0.86501073, -4.67149858],\n",
       "       [-2.96919723,  3.44677862],\n",
       "       [-1.59615681, -0.8595417 ],\n",
       "       [-2.98128796,  2.93762957],\n",
       "       [-3.3395322 ,  4.20010825],\n",
       "       [-2.6812646 ,  4.07477572],\n",
       "       [-3.16344673, -0.4298631 ],\n",
       "       [-3.73591179,  5.0750672 ],\n",
       "       [-1.15883381,  0.81383871],\n",
       "       [-4.67170336,  0.86456014],\n",
       "       [ 1.67642088, -8.61256536],\n",
       "       [21.23775176, -6.45960234],\n",
       "       [-4.04165238,  3.06721092],\n",
       "       [ 2.60018659, -6.55962354],\n",
       "       [-2.50829592,  0.98829292],\n",
       "       [27.74148947,  9.55112318],\n",
       "       [-3.43141272,  2.413244  ],\n",
       "       [-2.02332516, -2.34241991],\n",
       "       [-3.18522362,  1.79746971],\n",
       "       [-2.31135489, -2.38971435],\n",
       "       [-2.45821944,  2.68903882],\n",
       "       [-1.66692886, -3.05695212],\n",
       "       [-3.75106475, -1.04945526],\n",
       "       [ 2.08884842, -0.89961106],\n",
       "       [-2.44134389,  4.67206575],\n",
       "       [-2.13785471, -2.74676362]])"
      ]
     },
     "execution_count": 47,
     "metadata": {},
     "output_type": "execute_result"
    }
   ],
   "source": [
    "components"
   ]
  },
  {
   "cell_type": "code",
   "execution_count": 48,
   "id": "673ff4a8-c658-491a-ac4d-03f3dbca308d",
   "metadata": {},
   "outputs": [
    {
     "data": {
      "image/png": "[encoded data removed]",
      "text/plain": [
       "<Figure size 576x576 with 1 Axes>"
      ]
     },
     "metadata": {
      "needs_background": "light"
     },
     "output_type": "display_data"
    }
   ],
   "source": [
    "fig = plt.figure(figsize = (8,8))\n",
    "ax = fig.add_subplot(1,1,1)\n",
    "\n",
    "ax.set_xlabel('Principal Component 1', fontsize = 15)\n",
    "ax.set_ylabel('Principal Component 2', fontsize = 15)\n",
    "ax.set_title('2 component PCA', fontsize = 20)\n",
    "targets = ['Cancer', 'Healthy']\n",
    "colors = ['r', 'g']\n",
    "ax.scatter(components[controls == False, 0], components[controls == False, 1], c = 'r', s = 10)\n",
    "ax.scatter(components[controls == True, 0], components[controls == True, 1], c = 'g', s = 10)\n",
    "ax.legend(targets)\n",
    "ax.grid()"
   ]
  },
  {
   "cell_type": "markdown",
   "id": "7f0b6bb0-8b3e-4c2f-9929-7ee80742d732",
   "metadata": {},
   "source": [
    "### Logistic Regression"
   ]
  },
  {
   "cell_type": "code",
   "execution_count": 49,
   "id": "3da57f11-5df2-4aa1-8101-d9a04b61d872",
   "metadata": {},
   "outputs": [],
   "source": [
    "X_train, X_test, y_train, y_test = train_test_split(adj_norm_log_table, controls, test_size=0.33, random_state=42)"
   ]
  },
  {
   "cell_type": "code",
   "execution_count": 50,
   "id": "ddababa1-7393-40a6-9d34-3cf783c569da",
   "metadata": {},
   "outputs": [
    {
     "data": {
      "text/plain": [
       "LogisticRegression(max_iter=2000)"
      ]
     },
     "execution_count": 50,
     "metadata": {},
     "output_type": "execute_result"
    }
   ],
   "source": [
    "model = LogisticRegression(max_iter=2000)\n",
    "model.fit(X_train, y_train)"
   ]
  },
  {
   "cell_type": "code",
   "execution_count": 51,
   "id": "01141a63-649b-4ac4-92ca-a3e2dc3dbd52",
   "metadata": {},
   "outputs": [
    {
     "name": "stderr",
     "output_type": "stream",
     "text": [
      "C:\\Users\\olefr\\AppData\\Local\\Programs\\Python\\Python310\\lib\\site-packages\\sklearn\\utils\\deprecation.py:87: FutureWarning: Function plot_roc_curve is deprecated; Function :func:`plot_roc_curve` is deprecated in 1.0 and will be removed in 1.2. Use one of the class methods: :meth:`sklearn.metric.RocCurveDisplay.from_predictions` or :meth:`sklearn.metric.RocCurveDisplay.from_estimator`.\n",
      "  warnings.warn(msg, category=FutureWarning)\n"
     ]
    },
    {
     "data": {
      "text/plain": [
       "<sklearn.metrics._plot.roc_curve.RocCurveDisplay at 0x273a3f81150>"
      ]
     },
     "execution_count": 51,
     "metadata": {},
     "output_type": "execute_result"
    },
    {
     "data": {
      "image/png": "[encoded data removed]",
      "text/plain": [
       "<Figure size 432x288 with 1 Axes>"
      ]
     },
     "metadata": {
      "needs_background": "light"
     },
     "output_type": "display_data"
    }
   ],
   "source": [
    "plot_roc_curve(model, X_test, y_test)"
   ]
  },
  {
   "cell_type": "markdown",
   "id": "8be03e6c-5a10-4657-8343-475d960b2cda",
   "metadata": {
    "jupyter": {
     "outputs_hidden": true
    },
    "tags": []
   },
   "source": [
    "### XGBoost"
   ]
  },
  {
   "cell_type": "code",
   "execution_count": 52,
   "id": "da3c9662-1599-40d9-9877-7534e3579f1c",
   "metadata": {},
   "outputs": [],
   "source": [
    "X_train, X_test, y_train, y_test = train_test_split(norm_log_table, controls, test_size=0.33, random_state=42)"
   ]
  },
  {
   "cell_type": "code",
   "execution_count": 53,
   "id": "c36770cb-4207-49fa-b544-267ccb4f35fe",
   "metadata": {},
   "outputs": [
    {
     "name": "stdout",
     "output_type": "stream",
     "text": [
      "[20:59:41] WARNING: C:/Users/Administrator/workspace/xgboost-win64_release_1.5.1/src/learner.cc:1115: Starting in XGBoost 1.3.0, the default evaluation metric used with the objective 'binary:logistic' was changed from 'error' to 'logloss'. Explicitly set eval_metric if you'd like to restore the old behavior.\n"
     ]
    },
    {
     "data": {
      "text/plain": [
       "XGBClassifier(base_score=0.5, booster='gbtree', colsample_bylevel=1,\n",
       "              colsample_bynode=1, colsample_bytree=1, enable_categorical=False,\n",
       "              gamma=0, gpu_id=-1, importance_type=None,\n",
       "              interaction_constraints='', learning_rate=0.300000012,\n",
       "              max_delta_step=0, max_depth=6, min_child_weight=1, missing=nan,\n",
       "              monotone_constraints='()', n_estimators=100, n_jobs=16,\n",
       "              num_parallel_tree=1, predictor='auto', random_state=0,\n",
       "              reg_alpha=0, reg_lambda=1, scale_pos_weight=1, subsample=1,\n",
       "              tree_method='exact', use_label_encoder=False,\n",
       "              validate_parameters=1, verbosity=None)"
      ]
     },
     "execution_count": 53,
     "metadata": {},
     "output_type": "execute_result"
    }
   ],
   "source": [
    "model = XGBClassifier(use_label_encoder=False)\n",
    "model.fit(X_train, y_train)"
   ]
  },
  {
   "cell_type": "code",
   "execution_count": 54,
   "id": "67d673c3-3197-4ab7-8954-20c1bac56965",
   "metadata": {},
   "outputs": [
    {
     "name": "stderr",
     "output_type": "stream",
     "text": [
      "C:\\Users\\olefr\\AppData\\Local\\Programs\\Python\\Python310\\lib\\site-packages\\sklearn\\utils\\deprecation.py:87: FutureWarning: Function plot_roc_curve is deprecated; Function :func:`plot_roc_curve` is deprecated in 1.0 and will be removed in 1.2. Use one of the class methods: :meth:`sklearn.metric.RocCurveDisplay.from_predictions` or :meth:`sklearn.metric.RocCurveDisplay.from_estimator`.\n",
      "  warnings.warn(msg, category=FutureWarning)\n"
     ]
    },
    {
     "data": {
      "text/plain": [
       "<sklearn.metrics._plot.roc_curve.RocCurveDisplay at 0x273a7588820>"
      ]
     },
     "execution_count": 54,
     "metadata": {},
     "output_type": "execute_result"
    },
    {
     "data": {
      "image/png": "[encoded data removed]",
      "text/plain": [
       "<Figure size 432x288 with 1 Axes>"
      ]
     },
     "metadata": {
      "needs_background": "light"
     },
     "output_type": "display_data"
    }
   ],
   "source": [
    "plot_roc_curve(model, X_test, y_test)"
   ]
  },
  {
   "cell_type": "markdown",
   "id": "2b4924a3-b407-4117-b791-b19d0163dc59",
   "metadata": {},
   "source": [
    "### Exported data"
   ]
  },
  {
   "cell_type": "code",
   "execution_count": 55,
   "id": "a0dbc37a-60e8-4892-b8d3-5ecc598ea9f6",
   "metadata": {},
   "outputs": [
    {
     "data": {
      "text/plain": [
       "Index(['hsa-let-7a-5p', 'hsa-let-7b-3p', 'hsa-let-7b-5p', 'hsa-let-7c',\n",
       "       'hsa-let-7d-3p', 'hsa-let-7d-5p', 'hsa-let-7e-5p', 'hsa-let-7f-5p',\n",
       "       'hsa-let-7g-5p', 'hsa-let-7i-3p'],\n",
       "      dtype='object')"
      ]
     },
     "execution_count": 55,
     "metadata": {},
     "output_type": "execute_result"
    }
   ],
   "source": [
    "mirnas[:10]"
   ]
  },
  {
   "cell_type": "code",
   "execution_count": 56,
   "id": "bd0e46ac-c45e-404c-b326-2ab0cacc7e0b",
   "metadata": {},
   "outputs": [],
   "source": [
    "from Scripts import converters"
   ]
  },
  {
   "cell_type": "code",
   "execution_count": 57,
   "id": "386985f7-a620-4a54-91f2-58175e92df7c",
   "metadata": {},
   "outputs": [],
   "source": [
    "sequences = converters.canonical_to_seq(mirnas, True)"
   ]
  },
  {
   "cell_type": "code",
   "execution_count": 58,
   "id": "f0035db2-38aa-4d4c-9aeb-2af99f52b0a6",
   "metadata": {},
   "outputs": [
    {
     "data": {
      "text/plain": [
       "2"
      ]
     },
     "execution_count": 58,
     "metadata": {},
     "output_type": "execute_result"
    }
   ],
   "source": [
    "sequences.count(None)"
   ]
  },
  {
   "cell_type": "code",
   "execution_count": 59,
   "id": "ae771792-8b76-468c-afe7-7b86867c1286",
   "metadata": {},
   "outputs": [
    {
     "data": {
      "text/html": [
       "<div>\n",
       "<style scoped>\n",
       "    .dataframe tbody tr th:only-of-type {\n",
       "        vertical-align: middle;\n",
       "    }\n",
       "\n",
       "    .dataframe tbody tr th {\n",
       "        vertical-align: top;\n",
       "    }\n",
       "\n",
       "    .dataframe thead th {\n",
       "        text-align: right;\n",
       "    }\n",
       "</style>\n",
       "<table border=\"1\" class=\"dataframe\">\n",
       "  <thead>\n",
       "    <tr style=\"text-align: right;\">\n",
       "      <th></th>\n",
       "      <th>hsa-let-7a-5p</th>\n",
       "      <th>hsa-let-7b-3p</th>\n",
       "      <th>hsa-let-7b-5p</th>\n",
       "      <th>hsa-let-7c</th>\n",
       "      <th>hsa-let-7d-3p</th>\n",
       "      <th>hsa-let-7d-5p</th>\n",
       "      <th>hsa-let-7e-5p</th>\n",
       "      <th>hsa-let-7f-5p</th>\n",
       "      <th>hsa-let-7g-5p</th>\n",
       "      <th>hsa-let-7i-3p</th>\n",
       "      <th>...</th>\n",
       "      <th>hsa-miR-652-3p</th>\n",
       "      <th>hsa-miR-660-5p</th>\n",
       "      <th>hsa-miR-766-3p</th>\n",
       "      <th>hsa-miR-885-5p</th>\n",
       "      <th>hsa-miR-92a-3p</th>\n",
       "      <th>hsa-miR-93-3p</th>\n",
       "      <th>hsa-miR-93-5p</th>\n",
       "      <th>hsa-miR-95</th>\n",
       "      <th>hsa-miR-99a-5p</th>\n",
       "      <th>hsa-miR-99b-5p</th>\n",
       "    </tr>\n",
       "    <tr>\n",
       "      <th>Unnamed: 0</th>\n",
       "      <th></th>\n",
       "      <th></th>\n",
       "      <th></th>\n",
       "      <th></th>\n",
       "      <th></th>\n",
       "      <th></th>\n",
       "      <th></th>\n",
       "      <th></th>\n",
       "      <th></th>\n",
       "      <th></th>\n",
       "      <th></th>\n",
       "      <th></th>\n",
       "      <th></th>\n",
       "      <th></th>\n",
       "      <th></th>\n",
       "      <th></th>\n",
       "      <th></th>\n",
       "      <th></th>\n",
       "      <th></th>\n",
       "      <th></th>\n",
       "      <th></th>\n",
       "    </tr>\n",
       "  </thead>\n",
       "  <tbody>\n",
       "    <tr>\n",
       "      <th>H01</th>\n",
       "      <td>5.639559</td>\n",
       "      <td>7.450720</td>\n",
       "      <td>5.837853</td>\n",
       "      <td>7.028476</td>\n",
       "      <td>7.767380</td>\n",
       "      <td>6.845148</td>\n",
       "      <td>7.335819</td>\n",
       "      <td>6.906337</td>\n",
       "      <td>5.858259</td>\n",
       "      <td>3.370452</td>\n",
       "      <td>...</td>\n",
       "      <td>7.871408</td>\n",
       "      <td>6.158268</td>\n",
       "      <td>2.336633</td>\n",
       "      <td>3.846127</td>\n",
       "      <td>5.278696</td>\n",
       "      <td>8.335886</td>\n",
       "      <td>5.810623</td>\n",
       "      <td>4.164659</td>\n",
       "      <td>7.631395</td>\n",
       "      <td>7.365496</td>\n",
       "    </tr>\n",
       "    <tr>\n",
       "      <th>S03</th>\n",
       "      <td>5.826507</td>\n",
       "      <td>7.781354</td>\n",
       "      <td>6.208752</td>\n",
       "      <td>7.085708</td>\n",
       "      <td>7.717015</td>\n",
       "      <td>6.931276</td>\n",
       "      <td>7.435393</td>\n",
       "      <td>7.121464</td>\n",
       "      <td>5.983808</td>\n",
       "      <td>6.833975</td>\n",
       "      <td>...</td>\n",
       "      <td>7.529330</td>\n",
       "      <td>5.967331</td>\n",
       "      <td>2.336633</td>\n",
       "      <td>3.846127</td>\n",
       "      <td>5.254302</td>\n",
       "      <td>3.941590</td>\n",
       "      <td>5.795044</td>\n",
       "      <td>8.527561</td>\n",
       "      <td>7.482051</td>\n",
       "      <td>7.198359</td>\n",
       "    </tr>\n",
       "    <tr>\n",
       "      <th>S12</th>\n",
       "      <td>5.881301</td>\n",
       "      <td>7.022161</td>\n",
       "      <td>6.428841</td>\n",
       "      <td>7.125478</td>\n",
       "      <td>7.318343</td>\n",
       "      <td>6.995904</td>\n",
       "      <td>7.675206</td>\n",
       "      <td>7.022923</td>\n",
       "      <td>5.622263</td>\n",
       "      <td>6.675805</td>\n",
       "      <td>...</td>\n",
       "      <td>7.330264</td>\n",
       "      <td>5.651642</td>\n",
       "      <td>2.336633</td>\n",
       "      <td>7.497499</td>\n",
       "      <td>4.902266</td>\n",
       "      <td>7.555258</td>\n",
       "      <td>5.191153</td>\n",
       "      <td>8.116929</td>\n",
       "      <td>7.292686</td>\n",
       "      <td>7.116662</td>\n",
       "    </tr>\n",
       "    <tr>\n",
       "      <th>A05</th>\n",
       "      <td>5.682728</td>\n",
       "      <td>7.730395</td>\n",
       "      <td>6.110157</td>\n",
       "      <td>6.980124</td>\n",
       "      <td>7.601208</td>\n",
       "      <td>6.989763</td>\n",
       "      <td>7.260271</td>\n",
       "      <td>6.760162</td>\n",
       "      <td>5.735584</td>\n",
       "      <td>3.370452</td>\n",
       "      <td>...</td>\n",
       "      <td>7.725504</td>\n",
       "      <td>6.111550</td>\n",
       "      <td>2.336633</td>\n",
       "      <td>7.861994</td>\n",
       "      <td>5.177114</td>\n",
       "      <td>7.972648</td>\n",
       "      <td>5.511429</td>\n",
       "      <td>8.263318</td>\n",
       "      <td>7.513229</td>\n",
       "      <td>7.192996</td>\n",
       "    </tr>\n",
       "    <tr>\n",
       "      <th>S11</th>\n",
       "      <td>5.536672</td>\n",
       "      <td>6.981062</td>\n",
       "      <td>5.750086</td>\n",
       "      <td>6.821242</td>\n",
       "      <td>7.114250</td>\n",
       "      <td>6.715270</td>\n",
       "      <td>7.095189</td>\n",
       "      <td>6.903307</td>\n",
       "      <td>5.518069</td>\n",
       "      <td>6.929963</td>\n",
       "      <td>...</td>\n",
       "      <td>7.117851</td>\n",
       "      <td>5.538906</td>\n",
       "      <td>2.336633</td>\n",
       "      <td>7.857613</td>\n",
       "      <td>4.923223</td>\n",
       "      <td>7.515923</td>\n",
       "      <td>4.952352</td>\n",
       "      <td>8.437531</td>\n",
       "      <td>7.268577</td>\n",
       "      <td>6.992180</td>\n",
       "    </tr>\n",
       "  </tbody>\n",
       "</table>\n",
       "<p>5 rows × 175 columns</p>\n",
       "</div>"
      ],
      "text/plain": [
       "            hsa-let-7a-5p  hsa-let-7b-3p  hsa-let-7b-5p  hsa-let-7c  \\\n",
       "Unnamed: 0                                                            \n",
       "H01              5.639559       7.450720       5.837853    7.028476   \n",
       "S03              5.826507       7.781354       6.208752    7.085708   \n",
       "S12              5.881301       7.022161       6.428841    7.125478   \n",
       "A05              5.682728       7.730395       6.110157    6.980124   \n",
       "S11              5.536672       6.981062       5.750086    6.821242   \n",
       "\n",
       "            hsa-let-7d-3p  hsa-let-7d-5p  hsa-let-7e-5p  hsa-let-7f-5p  \\\n",
       "Unnamed: 0                                                               \n",
       "H01              7.767380       6.845148       7.335819       6.906337   \n",
       "S03              7.717015       6.931276       7.435393       7.121464   \n",
       "S12              7.318343       6.995904       7.675206       7.022923   \n",
       "A05              7.601208       6.989763       7.260271       6.760162   \n",
       "S11              7.114250       6.715270       7.095189       6.903307   \n",
       "\n",
       "            hsa-let-7g-5p  hsa-let-7i-3p  ...  hsa-miR-652-3p  hsa-miR-660-5p  \\\n",
       "Unnamed: 0                                ...                                   \n",
       "H01              5.858259       3.370452  ...        7.871408        6.158268   \n",
       "S03              5.983808       6.833975  ...        7.529330        5.967331   \n",
       "S12              5.622263       6.675805  ...        7.330264        5.651642   \n",
       "A05              5.735584       3.370452  ...        7.725504        6.111550   \n",
       "S11              5.518069       6.929963  ...        7.117851        5.538906   \n",
       "\n",
       "            hsa-miR-766-3p  hsa-miR-885-5p  hsa-miR-92a-3p  hsa-miR-93-3p  \\\n",
       "Unnamed: 0                                                                  \n",
       "H01               2.336633        3.846127        5.278696       8.335886   \n",
       "S03               2.336633        3.846127        5.254302       3.941590   \n",
       "S12               2.336633        7.497499        4.902266       7.555258   \n",
       "A05               2.336633        7.861994        5.177114       7.972648   \n",
       "S11               2.336633        7.857613        4.923223       7.515923   \n",
       "\n",
       "            hsa-miR-93-5p  hsa-miR-95  hsa-miR-99a-5p  hsa-miR-99b-5p  \n",
       "Unnamed: 0                                                             \n",
       "H01              5.810623    4.164659        7.631395        7.365496  \n",
       "S03              5.795044    8.527561        7.482051        7.198359  \n",
       "S12              5.191153    8.116929        7.292686        7.116662  \n",
       "A05              5.511429    8.263318        7.513229        7.192996  \n",
       "S11              4.952352    8.437531        7.268577        6.992180  \n",
       "\n",
       "[5 rows x 175 columns]"
      ]
     },
     "execution_count": 59,
     "metadata": {},
     "output_type": "execute_result"
    }
   ],
   "source": [
    "sequences = np.array(sequences)\n",
    "mask = sequences != None\n",
    "sequences = sequences[mask]\n",
    "adj_norm_log_table = adj_norm_log_table.loc[:, mask]\n",
    "#adj_norm_log_table *= -1\n",
    "adj_norm_log_table.head()"
   ]
  },
  {
   "cell_type": "code",
   "execution_count": 60,
   "id": "09e6aae4-2be8-475d-967e-11521e4c0600",
   "metadata": {},
   "outputs": [
    {
     "name": "stderr",
     "output_type": "stream",
     "text": [
      "C:\\Users\\olefr\\AppData\\Local\\Temp/ipykernel_17848/2605232209.py:2: SettingWithCopyWarning: \n",
      "A value is trying to be set on a copy of a slice from a DataFrame.\n",
      "Try using .loc[row_indexer,col_indexer] = value instead\n",
      "\n",
      "See the caveats in the documentation: https://pandas.pydata.org/pandas-docs/stable/user_guide/indexing.html#returning-a-view-versus-a-copy\n",
      "  adj_norm_log_table[\"cancer\"] = 1 - controls\n"
     ]
    },
    {
     "data": {
      "text/html": [
       "<div>\n",
       "<style scoped>\n",
       "    .dataframe tbody tr th:only-of-type {\n",
       "        vertical-align: middle;\n",
       "    }\n",
       "\n",
       "    .dataframe tbody tr th {\n",
       "        vertical-align: top;\n",
       "    }\n",
       "\n",
       "    .dataframe thead th {\n",
       "        text-align: right;\n",
       "    }\n",
       "</style>\n",
       "<table border=\"1\" class=\"dataframe\">\n",
       "  <thead>\n",
       "    <tr style=\"text-align: right;\">\n",
       "      <th></th>\n",
       "      <th>UGAGGUAGUAGGUUGUAUAGUU</th>\n",
       "      <th>CUAUACAACCUACUGCCUUCCC</th>\n",
       "      <th>UGAGGUAGUAGGUUGUGUGGUU</th>\n",
       "      <th>GCAUCCGGGUUGAGGUAGUAGGUUGUAUGGUUUAGAGUUACACCCUGGGAGUUAACUGUACAACCUUCUAGCUUUCCUUGGAGC</th>\n",
       "      <th>CUAUACGACCUGCUGCCUUUCU</th>\n",
       "      <th>AGAGGUAGUAGGUUGCAUAGUU</th>\n",
       "      <th>UGAGGUAGGAGGUUGUAUAGUU</th>\n",
       "      <th>UGAGGUAGUAGAUUGUAUAGUU</th>\n",
       "      <th>UGAGGUAGUAGUUUGUACAGUU</th>\n",
       "      <th>CUGCGCAAGCUACUGCCUUGCU</th>\n",
       "      <th>...</th>\n",
       "      <th>UACCCAUUGCAUAUCGGAGUUG</th>\n",
       "      <th>ACUCCAGCCCCACAGCCUCAGC</th>\n",
       "      <th>UCCAUUACACUACCCUGCCUCU</th>\n",
       "      <th>UAUUGCACUUGUCCCGGCCUGU</th>\n",
       "      <th>ACUGCUGAGCUAGCACUUCCCG</th>\n",
       "      <th>CAAAGUGCUGUUCGUGCAGGUAG</th>\n",
       "      <th>UUCAACGGGUAUUUAUUGAGCA</th>\n",
       "      <th>AACCCGUAGAUCCGAUCUUGUG</th>\n",
       "      <th>CACCCGUAGAACCGACCUUGCG</th>\n",
       "      <th>cancer</th>\n",
       "    </tr>\n",
       "    <tr>\n",
       "      <th>Unnamed: 0</th>\n",
       "      <th></th>\n",
       "      <th></th>\n",
       "      <th></th>\n",
       "      <th></th>\n",
       "      <th></th>\n",
       "      <th></th>\n",
       "      <th></th>\n",
       "      <th></th>\n",
       "      <th></th>\n",
       "      <th></th>\n",
       "      <th></th>\n",
       "      <th></th>\n",
       "      <th></th>\n",
       "      <th></th>\n",
       "      <th></th>\n",
       "      <th></th>\n",
       "      <th></th>\n",
       "      <th></th>\n",
       "      <th></th>\n",
       "      <th></th>\n",
       "      <th></th>\n",
       "    </tr>\n",
       "  </thead>\n",
       "  <tbody>\n",
       "    <tr>\n",
       "      <th>H01</th>\n",
       "      <td>5.639559</td>\n",
       "      <td>7.450720</td>\n",
       "      <td>5.837853</td>\n",
       "      <td>7.028476</td>\n",
       "      <td>7.767380</td>\n",
       "      <td>6.845148</td>\n",
       "      <td>7.335819</td>\n",
       "      <td>6.906337</td>\n",
       "      <td>5.858259</td>\n",
       "      <td>3.370452</td>\n",
       "      <td>...</td>\n",
       "      <td>6.158268</td>\n",
       "      <td>2.336633</td>\n",
       "      <td>3.846127</td>\n",
       "      <td>5.278696</td>\n",
       "      <td>8.335886</td>\n",
       "      <td>5.810623</td>\n",
       "      <td>4.164659</td>\n",
       "      <td>7.631395</td>\n",
       "      <td>7.365496</td>\n",
       "      <td>0</td>\n",
       "    </tr>\n",
       "    <tr>\n",
       "      <th>S03</th>\n",
       "      <td>5.826507</td>\n",
       "      <td>7.781354</td>\n",
       "      <td>6.208752</td>\n",
       "      <td>7.085708</td>\n",
       "      <td>7.717015</td>\n",
       "      <td>6.931276</td>\n",
       "      <td>7.435393</td>\n",
       "      <td>7.121464</td>\n",
       "      <td>5.983808</td>\n",
       "      <td>6.833975</td>\n",
       "      <td>...</td>\n",
       "      <td>5.967331</td>\n",
       "      <td>2.336633</td>\n",
       "      <td>3.846127</td>\n",
       "      <td>5.254302</td>\n",
       "      <td>3.941590</td>\n",
       "      <td>5.795044</td>\n",
       "      <td>8.527561</td>\n",
       "      <td>7.482051</td>\n",
       "      <td>7.198359</td>\n",
       "      <td>1</td>\n",
       "    </tr>\n",
       "    <tr>\n",
       "      <th>S12</th>\n",
       "      <td>5.881301</td>\n",
       "      <td>7.022161</td>\n",
       "      <td>6.428841</td>\n",
       "      <td>7.125478</td>\n",
       "      <td>7.318343</td>\n",
       "      <td>6.995904</td>\n",
       "      <td>7.675206</td>\n",
       "      <td>7.022923</td>\n",
       "      <td>5.622263</td>\n",
       "      <td>6.675805</td>\n",
       "      <td>...</td>\n",
       "      <td>5.651642</td>\n",
       "      <td>2.336633</td>\n",
       "      <td>7.497499</td>\n",
       "      <td>4.902266</td>\n",
       "      <td>7.555258</td>\n",
       "      <td>5.191153</td>\n",
       "      <td>8.116929</td>\n",
       "      <td>7.292686</td>\n",
       "      <td>7.116662</td>\n",
       "      <td>1</td>\n",
       "    </tr>\n",
       "    <tr>\n",
       "      <th>A05</th>\n",
       "      <td>5.682728</td>\n",
       "      <td>7.730395</td>\n",
       "      <td>6.110157</td>\n",
       "      <td>6.980124</td>\n",
       "      <td>7.601208</td>\n",
       "      <td>6.989763</td>\n",
       "      <td>7.260271</td>\n",
       "      <td>6.760162</td>\n",
       "      <td>5.735584</td>\n",
       "      <td>3.370452</td>\n",
       "      <td>...</td>\n",
       "      <td>6.111550</td>\n",
       "      <td>2.336633</td>\n",
       "      <td>7.861994</td>\n",
       "      <td>5.177114</td>\n",
       "      <td>7.972648</td>\n",
       "      <td>5.511429</td>\n",
       "      <td>8.263318</td>\n",
       "      <td>7.513229</td>\n",
       "      <td>7.192996</td>\n",
       "      <td>1</td>\n",
       "    </tr>\n",
       "    <tr>\n",
       "      <th>S11</th>\n",
       "      <td>5.536672</td>\n",
       "      <td>6.981062</td>\n",
       "      <td>5.750086</td>\n",
       "      <td>6.821242</td>\n",
       "      <td>7.114250</td>\n",
       "      <td>6.715270</td>\n",
       "      <td>7.095189</td>\n",
       "      <td>6.903307</td>\n",
       "      <td>5.518069</td>\n",
       "      <td>6.929963</td>\n",
       "      <td>...</td>\n",
       "      <td>5.538906</td>\n",
       "      <td>2.336633</td>\n",
       "      <td>7.857613</td>\n",
       "      <td>4.923223</td>\n",
       "      <td>7.515923</td>\n",
       "      <td>4.952352</td>\n",
       "      <td>8.437531</td>\n",
       "      <td>7.268577</td>\n",
       "      <td>6.992180</td>\n",
       "      <td>1</td>\n",
       "    </tr>\n",
       "  </tbody>\n",
       "</table>\n",
       "<p>5 rows × 176 columns</p>\n",
       "</div>"
      ],
      "text/plain": [
       "            UGAGGUAGUAGGUUGUAUAGUU  CUAUACAACCUACUGCCUUCCC  \\\n",
       "Unnamed: 0                                                   \n",
       "H01                       5.639559                7.450720   \n",
       "S03                       5.826507                7.781354   \n",
       "S12                       5.881301                7.022161   \n",
       "A05                       5.682728                7.730395   \n",
       "S11                       5.536672                6.981062   \n",
       "\n",
       "            UGAGGUAGUAGGUUGUGUGGUU  \\\n",
       "Unnamed: 0                           \n",
       "H01                       5.837853   \n",
       "S03                       6.208752   \n",
       "S12                       6.428841   \n",
       "A05                       6.110157   \n",
       "S11                       5.750086   \n",
       "\n",
       "            GCAUCCGGGUUGAGGUAGUAGGUUGUAUGGUUUAGAGUUACACCCUGGGAGUUAACUGUACAACCUUCUAGCUUUCCUUGGAGC  \\\n",
       "Unnamed: 0                                                                                         \n",
       "H01                                                  7.028476                                      \n",
       "S03                                                  7.085708                                      \n",
       "S12                                                  7.125478                                      \n",
       "A05                                                  6.980124                                      \n",
       "S11                                                  6.821242                                      \n",
       "\n",
       "            CUAUACGACCUGCUGCCUUUCU  AGAGGUAGUAGGUUGCAUAGUU  \\\n",
       "Unnamed: 0                                                   \n",
       "H01                       7.767380                6.845148   \n",
       "S03                       7.717015                6.931276   \n",
       "S12                       7.318343                6.995904   \n",
       "A05                       7.601208                6.989763   \n",
       "S11                       7.114250                6.715270   \n",
       "\n",
       "            UGAGGUAGGAGGUUGUAUAGUU  UGAGGUAGUAGAUUGUAUAGUU  \\\n",
       "Unnamed: 0                                                   \n",
       "H01                       7.335819                6.906337   \n",
       "S03                       7.435393                7.121464   \n",
       "S12                       7.675206                7.022923   \n",
       "A05                       7.260271                6.760162   \n",
       "S11                       7.095189                6.903307   \n",
       "\n",
       "            UGAGGUAGUAGUUUGUACAGUU  CUGCGCAAGCUACUGCCUUGCU  ...  \\\n",
       "Unnamed: 0                                                  ...   \n",
       "H01                       5.858259                3.370452  ...   \n",
       "S03                       5.983808                6.833975  ...   \n",
       "S12                       5.622263                6.675805  ...   \n",
       "A05                       5.735584                3.370452  ...   \n",
       "S11                       5.518069                6.929963  ...   \n",
       "\n",
       "            UACCCAUUGCAUAUCGGAGUUG  ACUCCAGCCCCACAGCCUCAGC  \\\n",
       "Unnamed: 0                                                   \n",
       "H01                       6.158268                2.336633   \n",
       "S03                       5.967331                2.336633   \n",
       "S12                       5.651642                2.336633   \n",
       "A05                       6.111550                2.336633   \n",
       "S11                       5.538906                2.336633   \n",
       "\n",
       "            UCCAUUACACUACCCUGCCUCU  UAUUGCACUUGUCCCGGCCUGU  \\\n",
       "Unnamed: 0                                                   \n",
       "H01                       3.846127                5.278696   \n",
       "S03                       3.846127                5.254302   \n",
       "S12                       7.497499                4.902266   \n",
       "A05                       7.861994                5.177114   \n",
       "S11                       7.857613                4.923223   \n",
       "\n",
       "            ACUGCUGAGCUAGCACUUCCCG  CAAAGUGCUGUUCGUGCAGGUAG  \\\n",
       "Unnamed: 0                                                    \n",
       "H01                       8.335886                 5.810623   \n",
       "S03                       3.941590                 5.795044   \n",
       "S12                       7.555258                 5.191153   \n",
       "A05                       7.972648                 5.511429   \n",
       "S11                       7.515923                 4.952352   \n",
       "\n",
       "            UUCAACGGGUAUUUAUUGAGCA  AACCCGUAGAUCCGAUCUUGUG  \\\n",
       "Unnamed: 0                                                   \n",
       "H01                       4.164659                7.631395   \n",
       "S03                       8.527561                7.482051   \n",
       "S12                       8.116929                7.292686   \n",
       "A05                       8.263318                7.513229   \n",
       "S11                       8.437531                7.268577   \n",
       "\n",
       "            CACCCGUAGAACCGACCUUGCG  cancer  \n",
       "Unnamed: 0                                  \n",
       "H01                       7.365496       0  \n",
       "S03                       7.198359       1  \n",
       "S12                       7.116662       1  \n",
       "A05                       7.192996       1  \n",
       "S11                       6.992180       1  \n",
       "\n",
       "[5 rows x 176 columns]"
      ]
     },
     "execution_count": 60,
     "metadata": {},
     "output_type": "execute_result"
    }
   ],
   "source": [
    "adj_norm_log_table.columns = sequences\n",
    "adj_norm_log_table[\"cancer\"] = 1 - controls\n",
    "adj_norm_log_table.head()"
   ]
  },
  {
   "cell_type": "code",
   "execution_count": 61,
   "id": "dd6eb33e-01e1-469a-a39e-14d401e09ddd",
   "metadata": {},
   "outputs": [],
   "source": [
    "adj_norm_log_table.to_csv(\"../TransformedData/Zaporozhchenko2018_raw.csv\", index=False)"
   ]
  },
  {
   "cell_type": "code",
   "execution_count": null,
   "id": "85b81f4e-3bc4-4b27-9290-8c9bc07b7e72",
   "metadata": {},
   "outputs": [],
   "source": []
  }
 ],
 "metadata": {
  "kernelspec": {
   "display_name": "Python 3 (ipykernel)",
   "language": "python",
   "name": "python3"
  },
  "language_info": {
   "codemirror_mode": {
    "name": "ipython",
    "version": 3
   },
   "file_extension": ".py",
   "mimetype": "text/x-python",
   "name": "python",
   "nbconvert_exporter": "python",
   "pygments_lexer": "ipython3",
   "version": "3.10.1"
  }
 },
 "nbformat": 4,
 "nbformat_minor": 5
}
