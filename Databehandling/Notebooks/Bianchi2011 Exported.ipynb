{
 "cells": [
  {
   "cell_type": "code",
   "execution_count": 2,
   "id": "51571063-765e-4749-be5b-33b5e9efa9ed",
   "metadata": {},
   "outputs": [],
   "source": [
    "%matplotlib inline\n",
    "import GEOparse\n",
    "import matplotlib.pyplot as plt\n",
    "import pandas as pd\n",
    "import numpy as np\n",
    "from sklearn import decomposition\n",
    "from sklearn.feature_selection import f_classif\n",
    "from sklearn.linear_model import LinearRegression, LogisticRegression\n",
    "from sklearn.metrics import explained_variance_score, plot_roc_curve\n",
    "import statsmodels.api as sm\n",
    "from scipy.stats import ttest_ind, pearsonr\n",
    "from xgboost import XGBClassifier\n",
    "from sklearn.model_selection import train_test_split\n",
    "from sklego.linear_model import LowessRegression"
   ]
  },
  {
   "cell_type": "code",
   "execution_count": 3,
   "id": "18fed604-f30f-4b19-b197-e7ac891f77d8",
   "metadata": {},
   "outputs": [],
   "source": [
    "data = pd.read_csv(\"../Dataset/Bianchi2011/data.csv\", index_col=0, skiprows=1)"
   ]
  },
  {
   "cell_type": "code",
   "execution_count": 4,
   "id": "182d912a-8445-406d-968a-da2809674aa6",
   "metadata": {},
   "outputs": [],
   "source": [
    "# Remove breast problems\n",
    "data = data[41:]"
   ]
  },
  {
   "cell_type": "code",
   "execution_count": 5,
   "id": "9ec941e8-a2c2-4230-8cb9-11325207a4cc",
   "metadata": {},
   "outputs": [
    {
     "data": {
      "text/html": [
       "<div>\n",
       "<style scoped>\n",
       "    .dataframe tbody tr th:only-of-type {\n",
       "        vertical-align: middle;\n",
       "    }\n",
       "\n",
       "    .dataframe tbody tr th {\n",
       "        vertical-align: top;\n",
       "    }\n",
       "\n",
       "    .dataframe thead th {\n",
       "        text-align: right;\n",
       "    }\n",
       "</style>\n",
       "<table border=\"1\" class=\"dataframe\">\n",
       "  <thead>\n",
       "    <tr style=\"text-align: right;\">\n",
       "      <th></th>\n",
       "      <th>CLASS</th>\n",
       "      <th>BDO/TUMOR MATCH</th>\n",
       "      <th>SET</th>\n",
       "      <th>GENDER</th>\n",
       "      <th>AGE</th>\n",
       "      <th>TYPE</th>\n",
       "      <th>STAGE</th>\n",
       "      <th>NODE TYPE</th>\n",
       "      <th>SMOKING STATUS</th>\n",
       "      <th>PACK_YEARS</th>\n",
       "      <th>...</th>\n",
       "      <th>hsa-miR-331-4373046.1</th>\n",
       "      <th>hsa-miR-342-4373040.1</th>\n",
       "      <th>hsa-miR-374-4373028.1</th>\n",
       "      <th>hsa-miR-376a-4373026.1</th>\n",
       "      <th>hsa-miR-432-4378076.1</th>\n",
       "      <th>hsa-miR-484-4381032.1</th>\n",
       "      <th>hsa-miR-486-4378096.1</th>\n",
       "      <th>hsa-miR-566-4380943.1</th>\n",
       "      <th>hsa-miR-92-4373013.1</th>\n",
       "      <th>hsa-miR-98-4373009.1</th>\n",
       "    </tr>\n",
       "    <tr>\n",
       "      <th>ID</th>\n",
       "      <th></th>\n",
       "      <th></th>\n",
       "      <th></th>\n",
       "      <th></th>\n",
       "      <th></th>\n",
       "      <th></th>\n",
       "      <th></th>\n",
       "      <th></th>\n",
       "      <th></th>\n",
       "      <th></th>\n",
       "      <th></th>\n",
       "      <th></th>\n",
       "      <th></th>\n",
       "      <th></th>\n",
       "      <th></th>\n",
       "      <th></th>\n",
       "      <th></th>\n",
       "      <th></th>\n",
       "      <th></th>\n",
       "      <th></th>\n",
       "      <th></th>\n",
       "    </tr>\n",
       "  </thead>\n",
       "  <tbody>\n",
       "    <tr>\n",
       "      <th>42</th>\n",
       "      <td>Lung Hamartoma</td>\n",
       "      <td>NaN</td>\n",
       "      <td>SYMPTOMATICS - PH</td>\n",
       "      <td>M</td>\n",
       "      <td>32</td>\n",
       "      <td>NaN</td>\n",
       "      <td>NaN</td>\n",
       "      <td>NaN</td>\n",
       "      <td>NO</td>\n",
       "      <td>0</td>\n",
       "      <td>...</td>\n",
       "      <td>0.00</td>\n",
       "      <td>-2.33</td>\n",
       "      <td>-0.62</td>\n",
       "      <td>0.72</td>\n",
       "      <td>1.30</td>\n",
       "      <td>0.26</td>\n",
       "      <td>0.83</td>\n",
       "      <td>1.55</td>\n",
       "      <td>0.21</td>\n",
       "      <td>0.95</td>\n",
       "    </tr>\n",
       "    <tr>\n",
       "      <th>43</th>\n",
       "      <td>Lung Hamartoma</td>\n",
       "      <td>NaN</td>\n",
       "      <td>SYMPTOMATICS - PH</td>\n",
       "      <td>M</td>\n",
       "      <td>64</td>\n",
       "      <td>NaN</td>\n",
       "      <td>NaN</td>\n",
       "      <td>NaN</td>\n",
       "      <td>EX</td>\n",
       "      <td>53</td>\n",
       "      <td>...</td>\n",
       "      <td>-1.41</td>\n",
       "      <td>0.92</td>\n",
       "      <td>-0.61</td>\n",
       "      <td>-0.07</td>\n",
       "      <td>1.33</td>\n",
       "      <td>0.45</td>\n",
       "      <td>0.60</td>\n",
       "      <td>1.47</td>\n",
       "      <td>0.03</td>\n",
       "      <td>0.79</td>\n",
       "    </tr>\n",
       "    <tr>\n",
       "      <th>44</th>\n",
       "      <td>Lung Hamartoma</td>\n",
       "      <td>NaN</td>\n",
       "      <td>SYMPTOMATICS - PH</td>\n",
       "      <td>F</td>\n",
       "      <td>44</td>\n",
       "      <td>NaN</td>\n",
       "      <td>NaN</td>\n",
       "      <td>NaN</td>\n",
       "      <td>NO</td>\n",
       "      <td>0</td>\n",
       "      <td>...</td>\n",
       "      <td>-0.47</td>\n",
       "      <td>1.90</td>\n",
       "      <td>0.47</td>\n",
       "      <td>-0.18</td>\n",
       "      <td>-0.55</td>\n",
       "      <td>1.03</td>\n",
       "      <td>2.23</td>\n",
       "      <td>1.67</td>\n",
       "      <td>0.88</td>\n",
       "      <td>-0.13</td>\n",
       "    </tr>\n",
       "    <tr>\n",
       "      <th>45</th>\n",
       "      <td>Lung Hamartoma</td>\n",
       "      <td>NaN</td>\n",
       "      <td>SYMPTOMATICS - PH</td>\n",
       "      <td>F</td>\n",
       "      <td>56</td>\n",
       "      <td>NaN</td>\n",
       "      <td>NaN</td>\n",
       "      <td>NaN</td>\n",
       "      <td>YES</td>\n",
       "      <td>25</td>\n",
       "      <td>...</td>\n",
       "      <td>-0.97</td>\n",
       "      <td>-0.96</td>\n",
       "      <td>0.23</td>\n",
       "      <td>-0.24</td>\n",
       "      <td>0.62</td>\n",
       "      <td>2.57</td>\n",
       "      <td>2.19</td>\n",
       "      <td>0.00</td>\n",
       "      <td>0.54</td>\n",
       "      <td>0.90</td>\n",
       "    </tr>\n",
       "    <tr>\n",
       "      <th>46</th>\n",
       "      <td>Lung Hamartoma</td>\n",
       "      <td>NaN</td>\n",
       "      <td>SYMPTOMATICS - PH</td>\n",
       "      <td>M</td>\n",
       "      <td>55</td>\n",
       "      <td>NaN</td>\n",
       "      <td>NaN</td>\n",
       "      <td>NaN</td>\n",
       "      <td>EX</td>\n",
       "      <td>30</td>\n",
       "      <td>...</td>\n",
       "      <td>2.17</td>\n",
       "      <td>-0.20</td>\n",
       "      <td>1.53</td>\n",
       "      <td>0.94</td>\n",
       "      <td>-1.38</td>\n",
       "      <td>-0.32</td>\n",
       "      <td>-0.74</td>\n",
       "      <td>0.00</td>\n",
       "      <td>-0.20</td>\n",
       "      <td>-0.71</td>\n",
       "    </tr>\n",
       "    <tr>\n",
       "      <th>...</th>\n",
       "      <td>...</td>\n",
       "      <td>...</td>\n",
       "      <td>...</td>\n",
       "      <td>...</td>\n",
       "      <td>...</td>\n",
       "      <td>...</td>\n",
       "      <td>...</td>\n",
       "      <td>...</td>\n",
       "      <td>...</td>\n",
       "      <td>...</td>\n",
       "      <td>...</td>\n",
       "      <td>...</td>\n",
       "      <td>...</td>\n",
       "      <td>...</td>\n",
       "      <td>...</td>\n",
       "      <td>...</td>\n",
       "      <td>...</td>\n",
       "      <td>...</td>\n",
       "      <td>...</td>\n",
       "      <td>...</td>\n",
       "      <td>...</td>\n",
       "    </tr>\n",
       "    <tr>\n",
       "      <th>249</th>\n",
       "      <td>Lung Tumor</td>\n",
       "      <td>NaN</td>\n",
       "      <td>TESTING</td>\n",
       "      <td>F</td>\n",
       "      <td>61</td>\n",
       "      <td>ADENO</td>\n",
       "      <td>IA</td>\n",
       "      <td>NaN</td>\n",
       "      <td>YES</td>\n",
       "      <td>47</td>\n",
       "      <td>...</td>\n",
       "      <td>0.00</td>\n",
       "      <td>0.78</td>\n",
       "      <td>-0.09</td>\n",
       "      <td>-0.86</td>\n",
       "      <td>0.68</td>\n",
       "      <td>1.15</td>\n",
       "      <td>1.25</td>\n",
       "      <td>0.74</td>\n",
       "      <td>0.43</td>\n",
       "      <td>0.52</td>\n",
       "    </tr>\n",
       "    <tr>\n",
       "      <th>250</th>\n",
       "      <td>Lung Tumor</td>\n",
       "      <td>NaN</td>\n",
       "      <td>TESTING</td>\n",
       "      <td>M</td>\n",
       "      <td>64</td>\n",
       "      <td>ADENO</td>\n",
       "      <td>IIB</td>\n",
       "      <td>NaN</td>\n",
       "      <td>YES</td>\n",
       "      <td>49</td>\n",
       "      <td>...</td>\n",
       "      <td>-0.55</td>\n",
       "      <td>1.10</td>\n",
       "      <td>-0.32</td>\n",
       "      <td>1.12</td>\n",
       "      <td>1.48</td>\n",
       "      <td>0.18</td>\n",
       "      <td>-0.31</td>\n",
       "      <td>1.69</td>\n",
       "      <td>0.08</td>\n",
       "      <td>0.26</td>\n",
       "    </tr>\n",
       "    <tr>\n",
       "      <th>251</th>\n",
       "      <td>Lung Tumor</td>\n",
       "      <td>NaN</td>\n",
       "      <td>TESTING</td>\n",
       "      <td>M</td>\n",
       "      <td>73</td>\n",
       "      <td>ADENO</td>\n",
       "      <td>IA</td>\n",
       "      <td>NaN</td>\n",
       "      <td>YES</td>\n",
       "      <td>54</td>\n",
       "      <td>...</td>\n",
       "      <td>0.84</td>\n",
       "      <td>0.08</td>\n",
       "      <td>0.53</td>\n",
       "      <td>1.12</td>\n",
       "      <td>1.18</td>\n",
       "      <td>-0.88</td>\n",
       "      <td>-1.34</td>\n",
       "      <td>1.69</td>\n",
       "      <td>-0.91</td>\n",
       "      <td>0.90</td>\n",
       "    </tr>\n",
       "    <tr>\n",
       "      <th>252</th>\n",
       "      <td>Lung Tumor</td>\n",
       "      <td>NaN</td>\n",
       "      <td>TESTING</td>\n",
       "      <td>F</td>\n",
       "      <td>50</td>\n",
       "      <td>ADENO</td>\n",
       "      <td>IV</td>\n",
       "      <td>NaN</td>\n",
       "      <td>YES</td>\n",
       "      <td>63</td>\n",
       "      <td>...</td>\n",
       "      <td>1.04</td>\n",
       "      <td>1.59</td>\n",
       "      <td>-0.12</td>\n",
       "      <td>1.12</td>\n",
       "      <td>-0.98</td>\n",
       "      <td>-0.61</td>\n",
       "      <td>-2.19</td>\n",
       "      <td>-0.57</td>\n",
       "      <td>-1.23</td>\n",
       "      <td>0.03</td>\n",
       "    </tr>\n",
       "    <tr>\n",
       "      <th>253</th>\n",
       "      <td>Lung Tumor</td>\n",
       "      <td>NaN</td>\n",
       "      <td>TESTING</td>\n",
       "      <td>M</td>\n",
       "      <td>62</td>\n",
       "      <td>ADENO</td>\n",
       "      <td>IA</td>\n",
       "      <td>NaN</td>\n",
       "      <td>YES</td>\n",
       "      <td>41</td>\n",
       "      <td>...</td>\n",
       "      <td>-1.23</td>\n",
       "      <td>-0.92</td>\n",
       "      <td>-0.67</td>\n",
       "      <td>1.12</td>\n",
       "      <td>-0.38</td>\n",
       "      <td>0.00</td>\n",
       "      <td>0.03</td>\n",
       "      <td>-0.57</td>\n",
       "      <td>-0.28</td>\n",
       "      <td>-0.11</td>\n",
       "    </tr>\n",
       "  </tbody>\n",
       "</table>\n",
       "<p>212 rows × 79 columns</p>\n",
       "</div>"
      ],
      "text/plain": [
       "              CLASS BDO/TUMOR MATCH                SET GENDER  AGE   TYPE  \\\n",
       "ID                                                                          \n",
       "42   Lung Hamartoma             NaN  SYMPTOMATICS - PH      M   32    NaN   \n",
       "43   Lung Hamartoma             NaN  SYMPTOMATICS - PH      M   64    NaN   \n",
       "44   Lung Hamartoma             NaN  SYMPTOMATICS - PH      F   44    NaN   \n",
       "45   Lung Hamartoma             NaN  SYMPTOMATICS - PH      F   56    NaN   \n",
       "46   Lung Hamartoma             NaN  SYMPTOMATICS - PH      M   55    NaN   \n",
       "..              ...             ...                ...    ...  ...    ...   \n",
       "249      Lung Tumor             NaN            TESTING      F   61  ADENO   \n",
       "250      Lung Tumor             NaN            TESTING      M   64  ADENO   \n",
       "251      Lung Tumor             NaN            TESTING      M   73  ADENO   \n",
       "252      Lung Tumor             NaN            TESTING      F   50  ADENO   \n",
       "253      Lung Tumor             NaN            TESTING      M   62  ADENO   \n",
       "\n",
       "    STAGE NODE TYPE SMOKING STATUS PACK_YEARS  ...  hsa-miR-331-4373046.1  \\\n",
       "ID                                             ...                          \n",
       "42    NaN       NaN             NO          0  ...                   0.00   \n",
       "43    NaN       NaN             EX         53  ...                  -1.41   \n",
       "44    NaN       NaN             NO          0  ...                  -0.47   \n",
       "45    NaN       NaN            YES         25  ...                  -0.97   \n",
       "46    NaN       NaN             EX         30  ...                   2.17   \n",
       "..    ...       ...            ...        ...  ...                    ...   \n",
       "249    IA       NaN            YES         47  ...                   0.00   \n",
       "250   IIB       NaN            YES         49  ...                  -0.55   \n",
       "251    IA       NaN            YES         54  ...                   0.84   \n",
       "252    IV       NaN            YES         63  ...                   1.04   \n",
       "253    IA       NaN            YES         41  ...                  -1.23   \n",
       "\n",
       "     hsa-miR-342-4373040.1  hsa-miR-374-4373028.1  hsa-miR-376a-4373026.1  \\\n",
       "ID                                                                          \n",
       "42                   -2.33                  -0.62                    0.72   \n",
       "43                    0.92                  -0.61                   -0.07   \n",
       "44                    1.90                   0.47                   -0.18   \n",
       "45                   -0.96                   0.23                   -0.24   \n",
       "46                   -0.20                   1.53                    0.94   \n",
       "..                     ...                    ...                     ...   \n",
       "249                   0.78                  -0.09                   -0.86   \n",
       "250                   1.10                  -0.32                    1.12   \n",
       "251                   0.08                   0.53                    1.12   \n",
       "252                   1.59                  -0.12                    1.12   \n",
       "253                  -0.92                  -0.67                    1.12   \n",
       "\n",
       "     hsa-miR-432-4378076.1  hsa-miR-484-4381032.1  hsa-miR-486-4378096.1  \\\n",
       "ID                                                                         \n",
       "42                    1.30                   0.26                   0.83   \n",
       "43                    1.33                   0.45                   0.60   \n",
       "44                   -0.55                   1.03                   2.23   \n",
       "45                    0.62                   2.57                   2.19   \n",
       "46                   -1.38                  -0.32                  -0.74   \n",
       "..                     ...                    ...                    ...   \n",
       "249                   0.68                   1.15                   1.25   \n",
       "250                   1.48                   0.18                  -0.31   \n",
       "251                   1.18                  -0.88                  -1.34   \n",
       "252                  -0.98                  -0.61                  -2.19   \n",
       "253                  -0.38                   0.00                   0.03   \n",
       "\n",
       "     hsa-miR-566-4380943.1  hsa-miR-92-4373013.1  hsa-miR-98-4373009.1  \n",
       "ID                                                                      \n",
       "42                    1.55                  0.21                  0.95  \n",
       "43                    1.47                  0.03                  0.79  \n",
       "44                    1.67                  0.88                 -0.13  \n",
       "45                    0.00                  0.54                  0.90  \n",
       "46                    0.00                 -0.20                 -0.71  \n",
       "..                     ...                   ...                   ...  \n",
       "249                   0.74                  0.43                  0.52  \n",
       "250                   1.69                  0.08                  0.26  \n",
       "251                   1.69                 -0.91                  0.90  \n",
       "252                  -0.57                 -1.23                  0.03  \n",
       "253                  -0.57                 -0.28                 -0.11  \n",
       "\n",
       "[212 rows x 79 columns]"
      ]
     },
     "execution_count": 5,
     "metadata": {},
     "output_type": "execute_result"
    }
   ],
   "source": [
    "data"
   ]
  },
  {
   "cell_type": "code",
   "execution_count": 6,
   "id": "4be20a22-f350-4af6-8f9b-071ba7b272e7",
   "metadata": {},
   "outputs": [],
   "source": [
    "sick = data[\"CLASS\"] == \"Lung Tumor\"\n",
    "table = data.iloc[:, 11:]\n",
    "table = table.iloc[:, :29]"
   ]
  },
  {
   "cell_type": "code",
   "execution_count": 7,
   "id": "9aff21a7-9f6a-4681-9fa2-73cbbb5a5e28",
   "metadata": {},
   "outputs": [],
   "source": [
    "controls = 1 - sick\n",
    "mirnas = table.columns"
   ]
  },
  {
   "cell_type": "markdown",
   "id": "beb0168b-6bc4-4f7e-a5bd-0c85de993c1d",
   "metadata": {},
   "source": [
    "### Drop NAN"
   ]
  },
  {
   "cell_type": "code",
   "execution_count": 8,
   "id": "4644e9e4-79f7-4744-9586-6e0691786fcb",
   "metadata": {},
   "outputs": [
    {
     "name": "stderr",
     "output_type": "stream",
     "text": [
      "C:\\Users\\OLEFRE~1\\AppData\\Local\\Temp/ipykernel_8996/1927661217.py:1: FutureWarning: In a future version of pandas all arguments of DataFrame.dropna will be keyword-only\n",
      "  table = table.dropna(1)\n"
     ]
    }
   ],
   "source": [
    "table = table.dropna(1)"
   ]
  },
  {
   "cell_type": "markdown",
   "id": "7e5f99a7-628d-4705-9876-dfcdfc6c155e",
   "metadata": {},
   "source": [
    "### T-test"
   ]
  },
  {
   "cell_type": "code",
   "execution_count": 9,
   "id": "7ba06db5-2613-477a-87ff-765975bac6f7",
   "metadata": {},
   "outputs": [],
   "source": [
    "X = table"
   ]
  },
  {
   "cell_type": "code",
   "execution_count": 10,
   "id": "5781a19c-166e-4720-9800-3af0e812607e",
   "metadata": {},
   "outputs": [
    {
     "data": {
      "text/html": [
       "<div>\n",
       "<style scoped>\n",
       "    .dataframe tbody tr th:only-of-type {\n",
       "        vertical-align: middle;\n",
       "    }\n",
       "\n",
       "    .dataframe tbody tr th {\n",
       "        vertical-align: top;\n",
       "    }\n",
       "\n",
       "    .dataframe thead th {\n",
       "        text-align: right;\n",
       "    }\n",
       "</style>\n",
       "<table border=\"1\" class=\"dataframe\">\n",
       "  <thead>\n",
       "    <tr style=\"text-align: right;\">\n",
       "      <th></th>\n",
       "      <th>hsa-let-7d-4373166</th>\n",
       "      <th>hsa-miR-103-4373158</th>\n",
       "      <th>hsa-miR-126-4378064</th>\n",
       "      <th>hsa-miR-139-4373176</th>\n",
       "      <th>hsa-miR-140-4373138</th>\n",
       "      <th>hsa-miR-142-3p-4373136</th>\n",
       "      <th>hsa-miR-142-5p-4373135</th>\n",
       "      <th>hsa-miR-148a-4373130</th>\n",
       "      <th>hsa-miR-148b-4373129</th>\n",
       "      <th>hsa-miR-17-5p-4373119</th>\n",
       "      <th>...</th>\n",
       "      <th>hsa-miR-29a-4373065</th>\n",
       "      <th>hsa-miR-30b-4373290</th>\n",
       "      <th>hsa-miR-30c-4373060</th>\n",
       "      <th>hsa-miR-32-4373056</th>\n",
       "      <th>hsa-miR-328-4373049</th>\n",
       "      <th>hsa-miR-331-4373046</th>\n",
       "      <th>hsa-miR-342-4373040</th>\n",
       "      <th>hsa-miR-374-4373028</th>\n",
       "      <th>hsa-miR-376a-4373026</th>\n",
       "      <th>hsa-miR-432-4378076</th>\n",
       "    </tr>\n",
       "    <tr>\n",
       "      <th>ID</th>\n",
       "      <th></th>\n",
       "      <th></th>\n",
       "      <th></th>\n",
       "      <th></th>\n",
       "      <th></th>\n",
       "      <th></th>\n",
       "      <th></th>\n",
       "      <th></th>\n",
       "      <th></th>\n",
       "      <th></th>\n",
       "      <th></th>\n",
       "      <th></th>\n",
       "      <th></th>\n",
       "      <th></th>\n",
       "      <th></th>\n",
       "      <th></th>\n",
       "      <th></th>\n",
       "      <th></th>\n",
       "      <th></th>\n",
       "      <th></th>\n",
       "      <th></th>\n",
       "    </tr>\n",
       "  </thead>\n",
       "  <tbody>\n",
       "    <tr>\n",
       "      <th>42</th>\n",
       "      <td>0.68</td>\n",
       "      <td>-0.40</td>\n",
       "      <td>-0.68</td>\n",
       "      <td>-1.36</td>\n",
       "      <td>0.25</td>\n",
       "      <td>1.40</td>\n",
       "      <td>0.38</td>\n",
       "      <td>-0.08</td>\n",
       "      <td>-1.26</td>\n",
       "      <td>-1.17</td>\n",
       "      <td>...</td>\n",
       "      <td>1.42</td>\n",
       "      <td>0.54</td>\n",
       "      <td>0.27</td>\n",
       "      <td>0.03</td>\n",
       "      <td>-0.62</td>\n",
       "      <td>0.00</td>\n",
       "      <td>1.67</td>\n",
       "      <td>1.02</td>\n",
       "      <td>-3.62</td>\n",
       "      <td>1.88</td>\n",
       "    </tr>\n",
       "    <tr>\n",
       "      <th>43</th>\n",
       "      <td>0.41</td>\n",
       "      <td>-0.02</td>\n",
       "      <td>0.98</td>\n",
       "      <td>0.38</td>\n",
       "      <td>-0.09</td>\n",
       "      <td>-0.50</td>\n",
       "      <td>-0.36</td>\n",
       "      <td>-0.37</td>\n",
       "      <td>0.04</td>\n",
       "      <td>0.17</td>\n",
       "      <td>...</td>\n",
       "      <td>-0.72</td>\n",
       "      <td>0.45</td>\n",
       "      <td>-0.11</td>\n",
       "      <td>-0.85</td>\n",
       "      <td>-0.22</td>\n",
       "      <td>0.54</td>\n",
       "      <td>-0.66</td>\n",
       "      <td>1.00</td>\n",
       "      <td>0.34</td>\n",
       "      <td>1.92</td>\n",
       "    </tr>\n",
       "    <tr>\n",
       "      <th>44</th>\n",
       "      <td>-0.29</td>\n",
       "      <td>0.75</td>\n",
       "      <td>-0.08</td>\n",
       "      <td>1.41</td>\n",
       "      <td>0.10</td>\n",
       "      <td>-0.76</td>\n",
       "      <td>-0.09</td>\n",
       "      <td>-1.22</td>\n",
       "      <td>-1.62</td>\n",
       "      <td>0.32</td>\n",
       "      <td>...</td>\n",
       "      <td>-0.20</td>\n",
       "      <td>0.69</td>\n",
       "      <td>0.39</td>\n",
       "      <td>-1.90</td>\n",
       "      <td>0.11</td>\n",
       "      <td>0.18</td>\n",
       "      <td>-1.36</td>\n",
       "      <td>-0.77</td>\n",
       "      <td>0.89</td>\n",
       "      <td>-0.79</td>\n",
       "    </tr>\n",
       "    <tr>\n",
       "      <th>45</th>\n",
       "      <td>-1.10</td>\n",
       "      <td>0.49</td>\n",
       "      <td>0.71</td>\n",
       "      <td>1.78</td>\n",
       "      <td>0.46</td>\n",
       "      <td>-0.23</td>\n",
       "      <td>-0.45</td>\n",
       "      <td>0.16</td>\n",
       "      <td>-2.53</td>\n",
       "      <td>0.46</td>\n",
       "      <td>...</td>\n",
       "      <td>-0.43</td>\n",
       "      <td>0.44</td>\n",
       "      <td>0.59</td>\n",
       "      <td>-1.76</td>\n",
       "      <td>0.33</td>\n",
       "      <td>0.37</td>\n",
       "      <td>0.69</td>\n",
       "      <td>-0.37</td>\n",
       "      <td>1.22</td>\n",
       "      <td>0.90</td>\n",
       "    </tr>\n",
       "    <tr>\n",
       "      <th>46</th>\n",
       "      <td>-0.79</td>\n",
       "      <td>-0.67</td>\n",
       "      <td>-1.09</td>\n",
       "      <td>-0.94</td>\n",
       "      <td>-0.93</td>\n",
       "      <td>-0.26</td>\n",
       "      <td>-0.53</td>\n",
       "      <td>-0.46</td>\n",
       "      <td>-0.79</td>\n",
       "      <td>-0.01</td>\n",
       "      <td>...</td>\n",
       "      <td>-0.56</td>\n",
       "      <td>-0.86</td>\n",
       "      <td>0.09</td>\n",
       "      <td>-0.41</td>\n",
       "      <td>-0.19</td>\n",
       "      <td>-0.83</td>\n",
       "      <td>0.14</td>\n",
       "      <td>-2.51</td>\n",
       "      <td>-4.70</td>\n",
       "      <td>-1.99</td>\n",
       "    </tr>\n",
       "    <tr>\n",
       "      <th>...</th>\n",
       "      <td>...</td>\n",
       "      <td>...</td>\n",
       "      <td>...</td>\n",
       "      <td>...</td>\n",
       "      <td>...</td>\n",
       "      <td>...</td>\n",
       "      <td>...</td>\n",
       "      <td>...</td>\n",
       "      <td>...</td>\n",
       "      <td>...</td>\n",
       "      <td>...</td>\n",
       "      <td>...</td>\n",
       "      <td>...</td>\n",
       "      <td>...</td>\n",
       "      <td>...</td>\n",
       "      <td>...</td>\n",
       "      <td>...</td>\n",
       "      <td>...</td>\n",
       "      <td>...</td>\n",
       "      <td>...</td>\n",
       "      <td>...</td>\n",
       "    </tr>\n",
       "    <tr>\n",
       "      <th>249</th>\n",
       "      <td>-1.13</td>\n",
       "      <td>0.30</td>\n",
       "      <td>0.06</td>\n",
       "      <td>0.32</td>\n",
       "      <td>0.08</td>\n",
       "      <td>-0.63</td>\n",
       "      <td>0.59</td>\n",
       "      <td>1.83</td>\n",
       "      <td>0.12</td>\n",
       "      <td>-0.89</td>\n",
       "      <td>...</td>\n",
       "      <td>0.28</td>\n",
       "      <td>0.00</td>\n",
       "      <td>-0.82</td>\n",
       "      <td>3.22</td>\n",
       "      <td>-0.64</td>\n",
       "      <td>0.00</td>\n",
       "      <td>-0.56</td>\n",
       "      <td>0.14</td>\n",
       "      <td>4.34</td>\n",
       "      <td>0.98</td>\n",
       "    </tr>\n",
       "    <tr>\n",
       "      <th>250</th>\n",
       "      <td>-0.02</td>\n",
       "      <td>0.40</td>\n",
       "      <td>0.11</td>\n",
       "      <td>1.48</td>\n",
       "      <td>-0.15</td>\n",
       "      <td>-0.01</td>\n",
       "      <td>0.36</td>\n",
       "      <td>-0.42</td>\n",
       "      <td>-1.04</td>\n",
       "      <td>0.30</td>\n",
       "      <td>...</td>\n",
       "      <td>-0.75</td>\n",
       "      <td>-0.52</td>\n",
       "      <td>-0.02</td>\n",
       "      <td>3.69</td>\n",
       "      <td>0.41</td>\n",
       "      <td>0.21</td>\n",
       "      <td>-0.79</td>\n",
       "      <td>0.53</td>\n",
       "      <td>-5.64</td>\n",
       "      <td>2.13</td>\n",
       "    </tr>\n",
       "    <tr>\n",
       "      <th>251</th>\n",
       "      <td>-2.42</td>\n",
       "      <td>-2.37</td>\n",
       "      <td>-1.02</td>\n",
       "      <td>1.03</td>\n",
       "      <td>0.32</td>\n",
       "      <td>-1.82</td>\n",
       "      <td>-0.14</td>\n",
       "      <td>-0.87</td>\n",
       "      <td>-0.62</td>\n",
       "      <td>-0.63</td>\n",
       "      <td>...</td>\n",
       "      <td>-0.58</td>\n",
       "      <td>-1.33</td>\n",
       "      <td>-1.21</td>\n",
       "      <td>2.24</td>\n",
       "      <td>0.80</td>\n",
       "      <td>-0.32</td>\n",
       "      <td>-0.06</td>\n",
       "      <td>-0.86</td>\n",
       "      <td>-5.64</td>\n",
       "      <td>1.70</td>\n",
       "    </tr>\n",
       "    <tr>\n",
       "      <th>252</th>\n",
       "      <td>0.48</td>\n",
       "      <td>-0.45</td>\n",
       "      <td>-0.66</td>\n",
       "      <td>0.65</td>\n",
       "      <td>-1.67</td>\n",
       "      <td>-0.96</td>\n",
       "      <td>0.10</td>\n",
       "      <td>-1.68</td>\n",
       "      <td>-1.59</td>\n",
       "      <td>-3.58</td>\n",
       "      <td>...</td>\n",
       "      <td>-0.43</td>\n",
       "      <td>-2.73</td>\n",
       "      <td>-2.02</td>\n",
       "      <td>1.99</td>\n",
       "      <td>-0.80</td>\n",
       "      <td>-0.40</td>\n",
       "      <td>-1.14</td>\n",
       "      <td>0.19</td>\n",
       "      <td>-5.64</td>\n",
       "      <td>-1.42</td>\n",
       "    </tr>\n",
       "    <tr>\n",
       "      <th>253</th>\n",
       "      <td>0.42</td>\n",
       "      <td>0.85</td>\n",
       "      <td>0.41</td>\n",
       "      <td>-2.92</td>\n",
       "      <td>0.63</td>\n",
       "      <td>1.14</td>\n",
       "      <td>0.30</td>\n",
       "      <td>-0.44</td>\n",
       "      <td>-0.70</td>\n",
       "      <td>-0.23</td>\n",
       "      <td>...</td>\n",
       "      <td>1.97</td>\n",
       "      <td>-0.52</td>\n",
       "      <td>-0.53</td>\n",
       "      <td>3.87</td>\n",
       "      <td>-0.61</td>\n",
       "      <td>0.47</td>\n",
       "      <td>0.66</td>\n",
       "      <td>1.09</td>\n",
       "      <td>-5.64</td>\n",
       "      <td>-0.55</td>\n",
       "    </tr>\n",
       "  </tbody>\n",
       "</table>\n",
       "<p>212 rows × 25 columns</p>\n",
       "</div>"
      ],
      "text/plain": [
       "     hsa-let-7d-4373166  hsa-miR-103-4373158  hsa-miR-126-4378064  \\\n",
       "ID                                                                  \n",
       "42                 0.68                -0.40                -0.68   \n",
       "43                 0.41                -0.02                 0.98   \n",
       "44                -0.29                 0.75                -0.08   \n",
       "45                -1.10                 0.49                 0.71   \n",
       "46                -0.79                -0.67                -1.09   \n",
       "..                  ...                  ...                  ...   \n",
       "249               -1.13                 0.30                 0.06   \n",
       "250               -0.02                 0.40                 0.11   \n",
       "251               -2.42                -2.37                -1.02   \n",
       "252                0.48                -0.45                -0.66   \n",
       "253                0.42                 0.85                 0.41   \n",
       "\n",
       "     hsa-miR-139-4373176  hsa-miR-140-4373138  hsa-miR-142-3p-4373136  \\\n",
       "ID                                                                      \n",
       "42                 -1.36                 0.25                    1.40   \n",
       "43                  0.38                -0.09                   -0.50   \n",
       "44                  1.41                 0.10                   -0.76   \n",
       "45                  1.78                 0.46                   -0.23   \n",
       "46                 -0.94                -0.93                   -0.26   \n",
       "..                   ...                  ...                     ...   \n",
       "249                 0.32                 0.08                   -0.63   \n",
       "250                 1.48                -0.15                   -0.01   \n",
       "251                 1.03                 0.32                   -1.82   \n",
       "252                 0.65                -1.67                   -0.96   \n",
       "253                -2.92                 0.63                    1.14   \n",
       "\n",
       "     hsa-miR-142-5p-4373135  hsa-miR-148a-4373130  hsa-miR-148b-4373129  \\\n",
       "ID                                                                        \n",
       "42                     0.38                 -0.08                 -1.26   \n",
       "43                    -0.36                 -0.37                  0.04   \n",
       "44                    -0.09                 -1.22                 -1.62   \n",
       "45                    -0.45                  0.16                 -2.53   \n",
       "46                    -0.53                 -0.46                 -0.79   \n",
       "..                      ...                   ...                   ...   \n",
       "249                    0.59                  1.83                  0.12   \n",
       "250                    0.36                 -0.42                 -1.04   \n",
       "251                   -0.14                 -0.87                 -0.62   \n",
       "252                    0.10                 -1.68                 -1.59   \n",
       "253                    0.30                 -0.44                 -0.70   \n",
       "\n",
       "     hsa-miR-17-5p-4373119  ...  hsa-miR-29a-4373065  hsa-miR-30b-4373290  \\\n",
       "ID                          ...                                             \n",
       "42                   -1.17  ...                 1.42                 0.54   \n",
       "43                    0.17  ...                -0.72                 0.45   \n",
       "44                    0.32  ...                -0.20                 0.69   \n",
       "45                    0.46  ...                -0.43                 0.44   \n",
       "46                   -0.01  ...                -0.56                -0.86   \n",
       "..                     ...  ...                  ...                  ...   \n",
       "249                  -0.89  ...                 0.28                 0.00   \n",
       "250                   0.30  ...                -0.75                -0.52   \n",
       "251                  -0.63  ...                -0.58                -1.33   \n",
       "252                  -3.58  ...                -0.43                -2.73   \n",
       "253                  -0.23  ...                 1.97                -0.52   \n",
       "\n",
       "     hsa-miR-30c-4373060  hsa-miR-32-4373056  hsa-miR-328-4373049  \\\n",
       "ID                                                                  \n",
       "42                  0.27                0.03                -0.62   \n",
       "43                 -0.11               -0.85                -0.22   \n",
       "44                  0.39               -1.90                 0.11   \n",
       "45                  0.59               -1.76                 0.33   \n",
       "46                  0.09               -0.41                -0.19   \n",
       "..                   ...                 ...                  ...   \n",
       "249                -0.82                3.22                -0.64   \n",
       "250                -0.02                3.69                 0.41   \n",
       "251                -1.21                2.24                 0.80   \n",
       "252                -2.02                1.99                -0.80   \n",
       "253                -0.53                3.87                -0.61   \n",
       "\n",
       "     hsa-miR-331-4373046  hsa-miR-342-4373040  hsa-miR-374-4373028  \\\n",
       "ID                                                                   \n",
       "42                  0.00                 1.67                 1.02   \n",
       "43                  0.54                -0.66                 1.00   \n",
       "44                  0.18                -1.36                -0.77   \n",
       "45                  0.37                 0.69                -0.37   \n",
       "46                 -0.83                 0.14                -2.51   \n",
       "..                   ...                  ...                  ...   \n",
       "249                 0.00                -0.56                 0.14   \n",
       "250                 0.21                -0.79                 0.53   \n",
       "251                -0.32                -0.06                -0.86   \n",
       "252                -0.40                -1.14                 0.19   \n",
       "253                 0.47                 0.66                 1.09   \n",
       "\n",
       "     hsa-miR-376a-4373026  hsa-miR-432-4378076  \n",
       "ID                                              \n",
       "42                  -3.62                 1.88  \n",
       "43                   0.34                 1.92  \n",
       "44                   0.89                -0.79  \n",
       "45                   1.22                 0.90  \n",
       "46                  -4.70                -1.99  \n",
       "..                    ...                  ...  \n",
       "249                  4.34                 0.98  \n",
       "250                 -5.64                 2.13  \n",
       "251                 -5.64                 1.70  \n",
       "252                 -5.64                -1.42  \n",
       "253                 -5.64                -0.55  \n",
       "\n",
       "[212 rows x 25 columns]"
      ]
     },
     "execution_count": 10,
     "metadata": {},
     "output_type": "execute_result"
    }
   ],
   "source": [
    "X"
   ]
  },
  {
   "cell_type": "code",
   "execution_count": 11,
   "id": "33232d93-8346-4cba-83f4-c6e34fda0883",
   "metadata": {},
   "outputs": [],
   "source": [
    "X_healthy, X_cancer = X[controls == 1], X[sick == 1]"
   ]
  },
  {
   "cell_type": "code",
   "execution_count": 12,
   "id": "cbe4ea82-b5df-4b4e-b6df-4ac1825e7cf9",
   "metadata": {},
   "outputs": [],
   "source": [
    "results = ttest_ind(X_healthy, X_cancer).pvalue"
   ]
  },
  {
   "cell_type": "code",
   "execution_count": 13,
   "id": "d4c1f06a-70cc-49b8-b220-fbdf05dbc984",
   "metadata": {},
   "outputs": [],
   "source": [
    "tvalues = ttest_ind(X_healthy, X_cancer).statistic"
   ]
  },
  {
   "cell_type": "code",
   "execution_count": 14,
   "id": "1a44c374-2cff-433a-8123-a524d6ef4468",
   "metadata": {},
   "outputs": [],
   "source": [
    "lowest, pvalues = np.argsort(results)[:10], np.sort(results)[:10]"
   ]
  },
  {
   "cell_type": "code",
   "execution_count": 15,
   "id": "b84ec90b-9719-4ef4-a16c-92f0fa03d928",
   "metadata": {},
   "outputs": [
    {
     "data": {
      "text/plain": [
       "(Index(['hsa-miR-331-4373046', 'hsa-miR-142-5p-4373135', 'hsa-miR-26b-4373069',\n",
       "        'hsa-miR-140-4373138', 'hsa-miR-30c-4373060', 'hsa-miR-223-4373075',\n",
       "        'hsa-miR-139-4373176', 'hsa-miR-126-4378064', 'hsa-miR-191-4373109',\n",
       "        'hsa-miR-30b-4373290'],\n",
       "       dtype='object'),\n",
       " array([5.16656913e-13, 7.29952938e-11, 3.44775812e-09, 4.63639479e-09,\n",
       "        8.45041040e-07, 2.49414916e-06, 4.06596352e-06, 4.56669843e-06,\n",
       "        7.63240701e-06, 2.23890977e-05]),\n",
       " array([-7.70326556,  6.86663368,  6.17088538, -6.11539106,  5.07666615,\n",
       "        -4.8416803 , -4.73282396, -4.70668405,  4.58977611,  4.33733232]))"
      ]
     },
     "execution_count": 15,
     "metadata": {},
     "output_type": "execute_result"
    }
   ],
   "source": [
    "mirnas[lowest], pvalues, tvalues[lowest]"
   ]
  },
  {
   "cell_type": "markdown",
   "id": "ddf5533e-abae-4826-b672-7e85c824847f",
   "metadata": {},
   "source": [
    "### F-test"
   ]
  },
  {
   "cell_type": "code",
   "execution_count": 16,
   "id": "1f73c800-95a7-478f-9f34-11ad8d942d7a",
   "metadata": {},
   "outputs": [],
   "source": [
    "t3 = table"
   ]
  },
  {
   "cell_type": "code",
   "execution_count": 17,
   "id": "8881ed42-5d29-4371-8638-d097d5ed953a",
   "metadata": {},
   "outputs": [],
   "source": [
    "f, p = f_classif(t3, sick)"
   ]
  },
  {
   "cell_type": "code",
   "execution_count": 18,
   "id": "afd8effd-8309-41be-9be7-8acb347d7ad7",
   "metadata": {},
   "outputs": [
    {
     "data": {
      "text/plain": [
       "0.07928219438283562"
      ]
     },
     "execution_count": 18,
     "metadata": {},
     "output_type": "execute_result"
    }
   ],
   "source": [
    "np.mean(p)"
   ]
  },
  {
   "cell_type": "markdown",
   "id": "cf603647-ba89-4280-9383-ca110f83c926",
   "metadata": {},
   "source": [
    "### ANOVA"
   ]
  },
  {
   "cell_type": "code",
   "execution_count": 19,
   "id": "cfd81d2a-3917-42b9-91c6-f690d0f607dc",
   "metadata": {},
   "outputs": [
    {
     "data": {
      "text/html": [
       "<div>\n",
       "<style scoped>\n",
       "    .dataframe tbody tr th:only-of-type {\n",
       "        vertical-align: middle;\n",
       "    }\n",
       "\n",
       "    .dataframe tbody tr th {\n",
       "        vertical-align: top;\n",
       "    }\n",
       "\n",
       "    .dataframe thead th {\n",
       "        text-align: right;\n",
       "    }\n",
       "</style>\n",
       "<table border=\"1\" class=\"dataframe\">\n",
       "  <thead>\n",
       "    <tr style=\"text-align: right;\">\n",
       "      <th></th>\n",
       "      <th>hsa-let-7d-4373166</th>\n",
       "      <th>hsa-miR-103-4373158</th>\n",
       "      <th>hsa-miR-126-4378064</th>\n",
       "      <th>hsa-miR-139-4373176</th>\n",
       "      <th>hsa-miR-140-4373138</th>\n",
       "      <th>hsa-miR-142-3p-4373136</th>\n",
       "      <th>hsa-miR-142-5p-4373135</th>\n",
       "      <th>hsa-miR-148a-4373130</th>\n",
       "      <th>hsa-miR-148b-4373129</th>\n",
       "      <th>hsa-miR-17-5p-4373119</th>\n",
       "      <th>...</th>\n",
       "      <th>hsa-miR-29a-4373065</th>\n",
       "      <th>hsa-miR-30b-4373290</th>\n",
       "      <th>hsa-miR-30c-4373060</th>\n",
       "      <th>hsa-miR-32-4373056</th>\n",
       "      <th>hsa-miR-328-4373049</th>\n",
       "      <th>hsa-miR-331-4373046</th>\n",
       "      <th>hsa-miR-342-4373040</th>\n",
       "      <th>hsa-miR-374-4373028</th>\n",
       "      <th>hsa-miR-376a-4373026</th>\n",
       "      <th>hsa-miR-432-4378076</th>\n",
       "    </tr>\n",
       "    <tr>\n",
       "      <th>ID</th>\n",
       "      <th></th>\n",
       "      <th></th>\n",
       "      <th></th>\n",
       "      <th></th>\n",
       "      <th></th>\n",
       "      <th></th>\n",
       "      <th></th>\n",
       "      <th></th>\n",
       "      <th></th>\n",
       "      <th></th>\n",
       "      <th></th>\n",
       "      <th></th>\n",
       "      <th></th>\n",
       "      <th></th>\n",
       "      <th></th>\n",
       "      <th></th>\n",
       "      <th></th>\n",
       "      <th></th>\n",
       "      <th></th>\n",
       "      <th></th>\n",
       "      <th></th>\n",
       "    </tr>\n",
       "  </thead>\n",
       "  <tbody>\n",
       "    <tr>\n",
       "      <th>42</th>\n",
       "      <td>0.68</td>\n",
       "      <td>-0.40</td>\n",
       "      <td>-0.68</td>\n",
       "      <td>-1.36</td>\n",
       "      <td>0.25</td>\n",
       "      <td>1.40</td>\n",
       "      <td>0.38</td>\n",
       "      <td>-0.08</td>\n",
       "      <td>-1.26</td>\n",
       "      <td>-1.17</td>\n",
       "      <td>...</td>\n",
       "      <td>1.42</td>\n",
       "      <td>0.54</td>\n",
       "      <td>0.27</td>\n",
       "      <td>0.03</td>\n",
       "      <td>-0.62</td>\n",
       "      <td>0.00</td>\n",
       "      <td>1.67</td>\n",
       "      <td>1.02</td>\n",
       "      <td>-3.62</td>\n",
       "      <td>1.88</td>\n",
       "    </tr>\n",
       "    <tr>\n",
       "      <th>43</th>\n",
       "      <td>0.41</td>\n",
       "      <td>-0.02</td>\n",
       "      <td>0.98</td>\n",
       "      <td>0.38</td>\n",
       "      <td>-0.09</td>\n",
       "      <td>-0.50</td>\n",
       "      <td>-0.36</td>\n",
       "      <td>-0.37</td>\n",
       "      <td>0.04</td>\n",
       "      <td>0.17</td>\n",
       "      <td>...</td>\n",
       "      <td>-0.72</td>\n",
       "      <td>0.45</td>\n",
       "      <td>-0.11</td>\n",
       "      <td>-0.85</td>\n",
       "      <td>-0.22</td>\n",
       "      <td>0.54</td>\n",
       "      <td>-0.66</td>\n",
       "      <td>1.00</td>\n",
       "      <td>0.34</td>\n",
       "      <td>1.92</td>\n",
       "    </tr>\n",
       "    <tr>\n",
       "      <th>44</th>\n",
       "      <td>-0.29</td>\n",
       "      <td>0.75</td>\n",
       "      <td>-0.08</td>\n",
       "      <td>1.41</td>\n",
       "      <td>0.10</td>\n",
       "      <td>-0.76</td>\n",
       "      <td>-0.09</td>\n",
       "      <td>-1.22</td>\n",
       "      <td>-1.62</td>\n",
       "      <td>0.32</td>\n",
       "      <td>...</td>\n",
       "      <td>-0.20</td>\n",
       "      <td>0.69</td>\n",
       "      <td>0.39</td>\n",
       "      <td>-1.90</td>\n",
       "      <td>0.11</td>\n",
       "      <td>0.18</td>\n",
       "      <td>-1.36</td>\n",
       "      <td>-0.77</td>\n",
       "      <td>0.89</td>\n",
       "      <td>-0.79</td>\n",
       "    </tr>\n",
       "    <tr>\n",
       "      <th>45</th>\n",
       "      <td>-1.10</td>\n",
       "      <td>0.49</td>\n",
       "      <td>0.71</td>\n",
       "      <td>1.78</td>\n",
       "      <td>0.46</td>\n",
       "      <td>-0.23</td>\n",
       "      <td>-0.45</td>\n",
       "      <td>0.16</td>\n",
       "      <td>-2.53</td>\n",
       "      <td>0.46</td>\n",
       "      <td>...</td>\n",
       "      <td>-0.43</td>\n",
       "      <td>0.44</td>\n",
       "      <td>0.59</td>\n",
       "      <td>-1.76</td>\n",
       "      <td>0.33</td>\n",
       "      <td>0.37</td>\n",
       "      <td>0.69</td>\n",
       "      <td>-0.37</td>\n",
       "      <td>1.22</td>\n",
       "      <td>0.90</td>\n",
       "    </tr>\n",
       "    <tr>\n",
       "      <th>46</th>\n",
       "      <td>-0.79</td>\n",
       "      <td>-0.67</td>\n",
       "      <td>-1.09</td>\n",
       "      <td>-0.94</td>\n",
       "      <td>-0.93</td>\n",
       "      <td>-0.26</td>\n",
       "      <td>-0.53</td>\n",
       "      <td>-0.46</td>\n",
       "      <td>-0.79</td>\n",
       "      <td>-0.01</td>\n",
       "      <td>...</td>\n",
       "      <td>-0.56</td>\n",
       "      <td>-0.86</td>\n",
       "      <td>0.09</td>\n",
       "      <td>-0.41</td>\n",
       "      <td>-0.19</td>\n",
       "      <td>-0.83</td>\n",
       "      <td>0.14</td>\n",
       "      <td>-2.51</td>\n",
       "      <td>-4.70</td>\n",
       "      <td>-1.99</td>\n",
       "    </tr>\n",
       "    <tr>\n",
       "      <th>...</th>\n",
       "      <td>...</td>\n",
       "      <td>...</td>\n",
       "      <td>...</td>\n",
       "      <td>...</td>\n",
       "      <td>...</td>\n",
       "      <td>...</td>\n",
       "      <td>...</td>\n",
       "      <td>...</td>\n",
       "      <td>...</td>\n",
       "      <td>...</td>\n",
       "      <td>...</td>\n",
       "      <td>...</td>\n",
       "      <td>...</td>\n",
       "      <td>...</td>\n",
       "      <td>...</td>\n",
       "      <td>...</td>\n",
       "      <td>...</td>\n",
       "      <td>...</td>\n",
       "      <td>...</td>\n",
       "      <td>...</td>\n",
       "      <td>...</td>\n",
       "    </tr>\n",
       "    <tr>\n",
       "      <th>249</th>\n",
       "      <td>-1.13</td>\n",
       "      <td>0.30</td>\n",
       "      <td>0.06</td>\n",
       "      <td>0.32</td>\n",
       "      <td>0.08</td>\n",
       "      <td>-0.63</td>\n",
       "      <td>0.59</td>\n",
       "      <td>1.83</td>\n",
       "      <td>0.12</td>\n",
       "      <td>-0.89</td>\n",
       "      <td>...</td>\n",
       "      <td>0.28</td>\n",
       "      <td>0.00</td>\n",
       "      <td>-0.82</td>\n",
       "      <td>3.22</td>\n",
       "      <td>-0.64</td>\n",
       "      <td>0.00</td>\n",
       "      <td>-0.56</td>\n",
       "      <td>0.14</td>\n",
       "      <td>4.34</td>\n",
       "      <td>0.98</td>\n",
       "    </tr>\n",
       "    <tr>\n",
       "      <th>250</th>\n",
       "      <td>-0.02</td>\n",
       "      <td>0.40</td>\n",
       "      <td>0.11</td>\n",
       "      <td>1.48</td>\n",
       "      <td>-0.15</td>\n",
       "      <td>-0.01</td>\n",
       "      <td>0.36</td>\n",
       "      <td>-0.42</td>\n",
       "      <td>-1.04</td>\n",
       "      <td>0.30</td>\n",
       "      <td>...</td>\n",
       "      <td>-0.75</td>\n",
       "      <td>-0.52</td>\n",
       "      <td>-0.02</td>\n",
       "      <td>3.69</td>\n",
       "      <td>0.41</td>\n",
       "      <td>0.21</td>\n",
       "      <td>-0.79</td>\n",
       "      <td>0.53</td>\n",
       "      <td>-5.64</td>\n",
       "      <td>2.13</td>\n",
       "    </tr>\n",
       "    <tr>\n",
       "      <th>251</th>\n",
       "      <td>-2.42</td>\n",
       "      <td>-2.37</td>\n",
       "      <td>-1.02</td>\n",
       "      <td>1.03</td>\n",
       "      <td>0.32</td>\n",
       "      <td>-1.82</td>\n",
       "      <td>-0.14</td>\n",
       "      <td>-0.87</td>\n",
       "      <td>-0.62</td>\n",
       "      <td>-0.63</td>\n",
       "      <td>...</td>\n",
       "      <td>-0.58</td>\n",
       "      <td>-1.33</td>\n",
       "      <td>-1.21</td>\n",
       "      <td>2.24</td>\n",
       "      <td>0.80</td>\n",
       "      <td>-0.32</td>\n",
       "      <td>-0.06</td>\n",
       "      <td>-0.86</td>\n",
       "      <td>-5.64</td>\n",
       "      <td>1.70</td>\n",
       "    </tr>\n",
       "    <tr>\n",
       "      <th>252</th>\n",
       "      <td>0.48</td>\n",
       "      <td>-0.45</td>\n",
       "      <td>-0.66</td>\n",
       "      <td>0.65</td>\n",
       "      <td>-1.67</td>\n",
       "      <td>-0.96</td>\n",
       "      <td>0.10</td>\n",
       "      <td>-1.68</td>\n",
       "      <td>-1.59</td>\n",
       "      <td>-3.58</td>\n",
       "      <td>...</td>\n",
       "      <td>-0.43</td>\n",
       "      <td>-2.73</td>\n",
       "      <td>-2.02</td>\n",
       "      <td>1.99</td>\n",
       "      <td>-0.80</td>\n",
       "      <td>-0.40</td>\n",
       "      <td>-1.14</td>\n",
       "      <td>0.19</td>\n",
       "      <td>-5.64</td>\n",
       "      <td>-1.42</td>\n",
       "    </tr>\n",
       "    <tr>\n",
       "      <th>253</th>\n",
       "      <td>0.42</td>\n",
       "      <td>0.85</td>\n",
       "      <td>0.41</td>\n",
       "      <td>-2.92</td>\n",
       "      <td>0.63</td>\n",
       "      <td>1.14</td>\n",
       "      <td>0.30</td>\n",
       "      <td>-0.44</td>\n",
       "      <td>-0.70</td>\n",
       "      <td>-0.23</td>\n",
       "      <td>...</td>\n",
       "      <td>1.97</td>\n",
       "      <td>-0.52</td>\n",
       "      <td>-0.53</td>\n",
       "      <td>3.87</td>\n",
       "      <td>-0.61</td>\n",
       "      <td>0.47</td>\n",
       "      <td>0.66</td>\n",
       "      <td>1.09</td>\n",
       "      <td>-5.64</td>\n",
       "      <td>-0.55</td>\n",
       "    </tr>\n",
       "  </tbody>\n",
       "</table>\n",
       "<p>212 rows × 25 columns</p>\n",
       "</div>"
      ],
      "text/plain": [
       "     hsa-let-7d-4373166  hsa-miR-103-4373158  hsa-miR-126-4378064  \\\n",
       "ID                                                                  \n",
       "42                 0.68                -0.40                -0.68   \n",
       "43                 0.41                -0.02                 0.98   \n",
       "44                -0.29                 0.75                -0.08   \n",
       "45                -1.10                 0.49                 0.71   \n",
       "46                -0.79                -0.67                -1.09   \n",
       "..                  ...                  ...                  ...   \n",
       "249               -1.13                 0.30                 0.06   \n",
       "250               -0.02                 0.40                 0.11   \n",
       "251               -2.42                -2.37                -1.02   \n",
       "252                0.48                -0.45                -0.66   \n",
       "253                0.42                 0.85                 0.41   \n",
       "\n",
       "     hsa-miR-139-4373176  hsa-miR-140-4373138  hsa-miR-142-3p-4373136  \\\n",
       "ID                                                                      \n",
       "42                 -1.36                 0.25                    1.40   \n",
       "43                  0.38                -0.09                   -0.50   \n",
       "44                  1.41                 0.10                   -0.76   \n",
       "45                  1.78                 0.46                   -0.23   \n",
       "46                 -0.94                -0.93                   -0.26   \n",
       "..                   ...                  ...                     ...   \n",
       "249                 0.32                 0.08                   -0.63   \n",
       "250                 1.48                -0.15                   -0.01   \n",
       "251                 1.03                 0.32                   -1.82   \n",
       "252                 0.65                -1.67                   -0.96   \n",
       "253                -2.92                 0.63                    1.14   \n",
       "\n",
       "     hsa-miR-142-5p-4373135  hsa-miR-148a-4373130  hsa-miR-148b-4373129  \\\n",
       "ID                                                                        \n",
       "42                     0.38                 -0.08                 -1.26   \n",
       "43                    -0.36                 -0.37                  0.04   \n",
       "44                    -0.09                 -1.22                 -1.62   \n",
       "45                    -0.45                  0.16                 -2.53   \n",
       "46                    -0.53                 -0.46                 -0.79   \n",
       "..                      ...                   ...                   ...   \n",
       "249                    0.59                  1.83                  0.12   \n",
       "250                    0.36                 -0.42                 -1.04   \n",
       "251                   -0.14                 -0.87                 -0.62   \n",
       "252                    0.10                 -1.68                 -1.59   \n",
       "253                    0.30                 -0.44                 -0.70   \n",
       "\n",
       "     hsa-miR-17-5p-4373119  ...  hsa-miR-29a-4373065  hsa-miR-30b-4373290  \\\n",
       "ID                          ...                                             \n",
       "42                   -1.17  ...                 1.42                 0.54   \n",
       "43                    0.17  ...                -0.72                 0.45   \n",
       "44                    0.32  ...                -0.20                 0.69   \n",
       "45                    0.46  ...                -0.43                 0.44   \n",
       "46                   -0.01  ...                -0.56                -0.86   \n",
       "..                     ...  ...                  ...                  ...   \n",
       "249                  -0.89  ...                 0.28                 0.00   \n",
       "250                   0.30  ...                -0.75                -0.52   \n",
       "251                  -0.63  ...                -0.58                -1.33   \n",
       "252                  -3.58  ...                -0.43                -2.73   \n",
       "253                  -0.23  ...                 1.97                -0.52   \n",
       "\n",
       "     hsa-miR-30c-4373060  hsa-miR-32-4373056  hsa-miR-328-4373049  \\\n",
       "ID                                                                  \n",
       "42                  0.27                0.03                -0.62   \n",
       "43                 -0.11               -0.85                -0.22   \n",
       "44                  0.39               -1.90                 0.11   \n",
       "45                  0.59               -1.76                 0.33   \n",
       "46                  0.09               -0.41                -0.19   \n",
       "..                   ...                 ...                  ...   \n",
       "249                -0.82                3.22                -0.64   \n",
       "250                -0.02                3.69                 0.41   \n",
       "251                -1.21                2.24                 0.80   \n",
       "252                -2.02                1.99                -0.80   \n",
       "253                -0.53                3.87                -0.61   \n",
       "\n",
       "     hsa-miR-331-4373046  hsa-miR-342-4373040  hsa-miR-374-4373028  \\\n",
       "ID                                                                   \n",
       "42                  0.00                 1.67                 1.02   \n",
       "43                  0.54                -0.66                 1.00   \n",
       "44                  0.18                -1.36                -0.77   \n",
       "45                  0.37                 0.69                -0.37   \n",
       "46                 -0.83                 0.14                -2.51   \n",
       "..                   ...                  ...                  ...   \n",
       "249                 0.00                -0.56                 0.14   \n",
       "250                 0.21                -0.79                 0.53   \n",
       "251                -0.32                -0.06                -0.86   \n",
       "252                -0.40                -1.14                 0.19   \n",
       "253                 0.47                 0.66                 1.09   \n",
       "\n",
       "     hsa-miR-376a-4373026  hsa-miR-432-4378076  \n",
       "ID                                              \n",
       "42                  -3.62                 1.88  \n",
       "43                   0.34                 1.92  \n",
       "44                   0.89                -0.79  \n",
       "45                   1.22                 0.90  \n",
       "46                  -4.70                -1.99  \n",
       "..                    ...                  ...  \n",
       "249                  4.34                 0.98  \n",
       "250                 -5.64                 2.13  \n",
       "251                 -5.64                 1.70  \n",
       "252                 -5.64                -1.42  \n",
       "253                 -5.64                -0.55  \n",
       "\n",
       "[212 rows x 25 columns]"
      ]
     },
     "execution_count": 19,
     "metadata": {},
     "output_type": "execute_result"
    }
   ],
   "source": [
    "t3"
   ]
  },
  {
   "cell_type": "code",
   "execution_count": 20,
   "id": "91c6fea7-a902-4a18-954a-7d6da486d7fd",
   "metadata": {},
   "outputs": [],
   "source": [
    "X = np.array(sick).reshape(-1, 1)"
   ]
  },
  {
   "cell_type": "code",
   "execution_count": 21,
   "id": "cdbc8b8a-87d5-49bb-b251-a2a0928a72e1",
   "metadata": {},
   "outputs": [
    {
     "data": {
      "text/plain": [
       "LinearRegression()"
      ]
     },
     "execution_count": 21,
     "metadata": {},
     "output_type": "execute_result"
    }
   ],
   "source": [
    "linreg = LinearRegression()\n",
    "linreg.fit(X, t3)"
   ]
  },
  {
   "cell_type": "code",
   "execution_count": 22,
   "id": "52e47394-51fe-494b-a170-a4682e41d19e",
   "metadata": {},
   "outputs": [
    {
     "data": {
      "text/plain": [
       "0.06836620440239721"
      ]
     },
     "execution_count": 22,
     "metadata": {},
     "output_type": "execute_result"
    }
   ],
   "source": [
    "fitted = linreg.predict(X)\n",
    "explained_variance_score(t3, fitted)"
   ]
  },
  {
   "cell_type": "markdown",
   "id": "8c053ff9-b0c5-4d7c-be6f-2cc97c86efd9",
   "metadata": {},
   "source": [
    "### Mean-variance-plot"
   ]
  },
  {
   "cell_type": "code",
   "execution_count": 23,
   "id": "5d64f172-00f0-4006-a2ec-613f072691cd",
   "metadata": {},
   "outputs": [
    {
     "data": {
      "text/plain": [
       "hsa-let-7d-4373166       -0.076321\n",
       "hsa-miR-103-4373158       0.027075\n",
       "hsa-miR-126-4378064       0.013396\n",
       "hsa-miR-139-4373176      -0.366557\n",
       "hsa-miR-140-4373138      -0.062689\n",
       "hsa-miR-142-3p-4373136   -0.022170\n",
       "hsa-miR-142-5p-4373135    0.099528\n",
       "hsa-miR-148a-4373130      0.350991\n",
       "hsa-miR-148b-4373129      0.139104\n",
       "hsa-miR-17-5p-4373119    -0.206557\n",
       "hsa-miR-191-4373109       0.027830\n",
       "hsa-miR-22-4373079        0.072642\n",
       "hsa-miR-26a-4373070      -0.003962\n",
       "hsa-miR-26b-4373069      -0.078349\n",
       "hsa-miR-28-4373067       -0.391604\n",
       "hsa-miR-29a-4373065       0.176651\n",
       "hsa-miR-30b-4373290      -0.049151\n",
       "hsa-miR-30c-4373060      -0.176132\n",
       "hsa-miR-32-4373056       -0.195142\n",
       "hsa-miR-328-4373049      -0.047877\n",
       "hsa-miR-331-4373046      -0.100472\n",
       "hsa-miR-342-4373040      -0.049104\n",
       "hsa-miR-374-4373028       0.001038\n",
       "hsa-miR-376a-4373026     -0.505000\n",
       "hsa-miR-432-4378076       0.082689\n",
       "dtype: float64"
      ]
     },
     "execution_count": 23,
     "metadata": {},
     "output_type": "execute_result"
    }
   ],
   "source": [
    "np.mean(table)"
   ]
  },
  {
   "cell_type": "code",
   "execution_count": 24,
   "id": "a929bb64-8b3b-414e-92ce-030fd1160848",
   "metadata": {
    "tags": []
   },
   "outputs": [],
   "source": [
    "def get_means_and_variances(table):\n",
    "    return np.mean(table), np.var(table, ddof=1)"
   ]
  },
  {
   "cell_type": "code",
   "execution_count": 25,
   "id": "3897c53c-8be5-45ee-904a-a34332f16a73",
   "metadata": {
    "tags": []
   },
   "outputs": [],
   "source": [
    "def mean_variance_plot(table):\n",
    "    means, variances = get_means_and_variances(table)\n",
    "    plt.scatter(means, variances)\n",
    "    plt.xlabel(\"mean\")\n",
    "    plt.ylabel(\"variance\")\n",
    "    plt.plot()"
   ]
  },
  {
   "cell_type": "code",
   "execution_count": 26,
   "id": "3518684f-23f2-45df-913f-ebacde92cad4",
   "metadata": {},
   "outputs": [
    {
     "data": {
      "image/png": "[encoded data removed]",
      "text/plain": [
       "<Figure size 432x288 with 1 Axes>"
      ]
     },
     "metadata": {
      "needs_background": "light"
     },
     "output_type": "display_data"
    }
   ],
   "source": [
    "mean_variance_plot(table)"
   ]
  },
  {
   "cell_type": "markdown",
   "id": "6dd8cc3c-3b90-4cda-87ce-d94d029a958d",
   "metadata": {
    "tags": []
   },
   "source": [
    "### Log transformation"
   ]
  },
  {
   "cell_type": "code",
   "execution_count": 27,
   "id": "07d1b7be-1f0a-41d7-abe7-2b23eeef8ded",
   "metadata": {},
   "outputs": [],
   "source": [
    "log_table = table #np.log2(table)"
   ]
  },
  {
   "cell_type": "code",
   "execution_count": 28,
   "id": "e647d1fb-fdc7-419a-9081-cf34428ff19a",
   "metadata": {},
   "outputs": [
    {
     "data": {
      "image/png": "[encoded data removed]",
      "text/plain": [
       "<Figure size 432x288 with 1 Axes>"
      ]
     },
     "metadata": {
      "needs_background": "light"
     },
     "output_type": "display_data"
    }
   ],
   "source": [
    "mean_variance_plot(log_table)"
   ]
  },
  {
   "cell_type": "code",
   "execution_count": 29,
   "id": "fa85395c-84e3-4fca-b9d4-2de010901da8",
   "metadata": {
    "tags": []
   },
   "outputs": [],
   "source": [
    "norm_log_table = log_table - np.mean(log_table)"
   ]
  },
  {
   "cell_type": "code",
   "execution_count": 30,
   "id": "d60ceeec-5a79-49ec-9ff6-d6ab8cb339af",
   "metadata": {},
   "outputs": [],
   "source": [
    "norm_log_table /= np.sqrt(np.mean(np.var(norm_log_table, ddof=1)))"
   ]
  },
  {
   "cell_type": "code",
   "execution_count": 31,
   "id": "59515259-be85-4822-b4e4-ca1d8a66b46b",
   "metadata": {},
   "outputs": [
    {
     "data": {
      "image/png": "[encoded data removed]",
      "text/plain": [
       "<Figure size 432x288 with 1 Axes>"
      ]
     },
     "metadata": {
      "needs_background": "light"
     },
     "output_type": "display_data"
    }
   ],
   "source": [
    "mean_variance_plot(norm_log_table)"
   ]
  },
  {
   "cell_type": "markdown",
   "id": "fdf89b74-401c-451c-a7d5-338fe5899cc0",
   "metadata": {},
   "source": [
    "### PCA"
   ]
  },
  {
   "cell_type": "code",
   "execution_count": 32,
   "id": "80e9e2cf-ef38-4bf4-93e5-9dab1f3e8a82",
   "metadata": {
    "tags": []
   },
   "outputs": [],
   "source": [
    "pca = decomposition.PCA(n_components=10)"
   ]
  },
  {
   "cell_type": "code",
   "execution_count": 33,
   "id": "b8baded0-2456-4acd-bf37-4f85377fa902",
   "metadata": {},
   "outputs": [
    {
     "data": {
      "text/plain": [
       "PCA(n_components=10)"
      ]
     },
     "execution_count": 33,
     "metadata": {},
     "output_type": "execute_result"
    }
   ],
   "source": [
    "pca.fit(norm_log_table)"
   ]
  },
  {
   "cell_type": "code",
   "execution_count": 34,
   "id": "fb23ac6d-50e4-4817-bc06-f8a79ab4ee1a",
   "metadata": {},
   "outputs": [
    {
     "data": {
      "text/plain": [
       "array([0.25985115, 0.17298717, 0.13124761, 0.08898468, 0.08098517,\n",
       "       0.0457469 , 0.03458083, 0.03187313, 0.02289903, 0.01975127])"
      ]
     },
     "execution_count": 34,
     "metadata": {},
     "output_type": "execute_result"
    }
   ],
   "source": [
    "pca.explained_variance_ratio_"
   ]
  },
  {
   "cell_type": "code",
   "execution_count": 35,
   "id": "539c46eb-d81d-4369-a8aa-9d761c8eedf6",
   "metadata": {
    "tags": []
   },
   "outputs": [],
   "source": [
    "components = pca.transform(norm_log_table)"
   ]
  },
  {
   "cell_type": "code",
   "execution_count": 36,
   "id": "18aa3ea4-6f65-47fb-8ff8-cb667d333f00",
   "metadata": {},
   "outputs": [
    {
     "data": {
      "text/plain": [
       "(212, 10)"
      ]
     },
     "execution_count": 36,
     "metadata": {},
     "output_type": "execute_result"
    }
   ],
   "source": [
    "components.shape"
   ]
  },
  {
   "cell_type": "code",
   "execution_count": 37,
   "id": "4ac6d714-06af-4629-96b2-625df7952992",
   "metadata": {},
   "outputs": [
    {
     "data": {
      "text/plain": [
       "117"
      ]
     },
     "execution_count": 37,
     "metadata": {},
     "output_type": "execute_result"
    }
   ],
   "source": [
    "sum(controls)"
   ]
  },
  {
   "cell_type": "code",
   "execution_count": 38,
   "id": "8ab60218-1bd6-490d-b0b5-12507dd091cd",
   "metadata": {},
   "outputs": [
    {
     "data": {
      "image/png": "[encoded data removed]",
      "text/plain": [
       "<Figure size 576x576 with 1 Axes>"
      ]
     },
     "metadata": {
      "needs_background": "light"
     },
     "output_type": "display_data"
    }
   ],
   "source": [
    "fig = plt.figure(figsize = (8,8))\n",
    "ax = fig.add_subplot(1,1,1)\n",
    "\n",
    "ax.set_xlabel('Principal Component 1', fontsize = 15)\n",
    "ax.set_ylabel('Principal Component 2', fontsize = 15)\n",
    "ax.set_title('2 component PCA', fontsize = 20)\n",
    "targets = ['Cancer', 'Healthy']\n",
    "colors = ['r', 'g']\n",
    "ax.scatter(components[controls == False, 0], components[controls == False, 1], c = 'r', s = 10)\n",
    "ax.scatter(components[controls == True, 0], components[controls == True, 1], c = 'g', s = 10)\n",
    "ax.legend(targets)\n",
    "ax.grid()"
   ]
  },
  {
   "cell_type": "code",
   "execution_count": 39,
   "id": "4ecfe275-b56d-4bcc-9af8-6e8ac5a7fb14",
   "metadata": {
    "tags": []
   },
   "outputs": [],
   "source": [
    "components2 = components[components[:,0] < 20, :]\n",
    "controls2 = controls[components[:,0] < 20]"
   ]
  },
  {
   "cell_type": "code",
   "execution_count": 40,
   "id": "b5c59d7d-de82-4ce6-90a4-18dbf9f875f0",
   "metadata": {},
   "outputs": [
    {
     "data": {
      "image/png": "[encoded data removed]",
      "text/plain": [
       "<Figure size 576x576 with 1 Axes>"
      ]
     },
     "metadata": {
      "needs_background": "light"
     },
     "output_type": "display_data"
    }
   ],
   "source": [
    "fig = plt.figure(figsize = (8,8))\n",
    "ax = fig.add_subplot(1,1,1)\n",
    "\n",
    "ax.set_xlabel('Principal Component 1', fontsize = 15)\n",
    "ax.set_ylabel('Principal Component 2', fontsize = 15)\n",
    "ax.set_title('2 component PCA', fontsize = 20)\n",
    "targets = ['Cancer', 'Healthy']\n",
    "colors = ['r', 'g']\n",
    "ax.scatter(components2[controls2 == False, 0], components2[controls2 == False, 1], c = 'r', s = 10)\n",
    "ax.scatter(components2[controls2 == True, 0], components2[controls2 == True, 1], c = 'g', s = 10)\n",
    "ax.legend(targets)\n",
    "ax.grid()"
   ]
  },
  {
   "cell_type": "markdown",
   "id": "c17066bb-ea71-44b5-83d5-f17a890629c4",
   "metadata": {
    "tags": []
   },
   "source": [
    "### Linear regression adjustments"
   ]
  },
  {
   "cell_type": "code",
   "execution_count": 68,
   "id": "1a0be6d4-ff8e-4115-81bc-9d284acfb88d",
   "metadata": {},
   "outputs": [],
   "source": [
    "sex = data[\"GENDER\"] == \"F\"\n",
    "age = data[\"AGE\"]\n",
    "pack_years = data[\"PACK_YEARS\"].replace(\"na\", np.nan)"
   ]
  },
  {
   "cell_type": "code",
   "execution_count": 69,
   "id": "305de595-a673-4580-8c01-fab4855f5483",
   "metadata": {},
   "outputs": [],
   "source": [
    "covars = pd.DataFrame(np.array([sex, age, pack_years]).transpose(), columns=[\"sex\", \"age\", \"pack years\"])"
   ]
  },
  {
   "cell_type": "code",
   "execution_count": 77,
   "id": "dc136df9-9f26-408f-9a6e-24055f5a5ac8",
   "metadata": {},
   "outputs": [],
   "source": [
    "covars[\"pack years\"] = pd.to_numeric(covars[\"pack years\"])"
   ]
  },
  {
   "cell_type": "code",
   "execution_count": 78,
   "id": "2351e6e9-29a2-446c-945e-8ba967ce5e0b",
   "metadata": {},
   "outputs": [],
   "source": [
    "covars = covars.fillna(covars.mean())"
   ]
  },
  {
   "cell_type": "code",
   "execution_count": 79,
   "id": "c0b66640-4518-4469-a47e-922289147a14",
   "metadata": {},
   "outputs": [
    {
     "data": {
      "text/plain": [
       "sex           0\n",
       "age           0\n",
       "pack years    0\n",
       "dtype: int64"
      ]
     },
     "execution_count": 79,
     "metadata": {},
     "output_type": "execute_result"
    }
   ],
   "source": [
    "covars.isna().sum()"
   ]
  },
  {
   "cell_type": "code",
   "execution_count": 80,
   "id": "e5e9ba0c-94c5-4721-a887-e98801ff5779",
   "metadata": {},
   "outputs": [
    {
     "data": {
      "text/plain": [
       "LinearRegression()"
      ]
     },
     "execution_count": 80,
     "metadata": {},
     "output_type": "execute_result"
    }
   ],
   "source": [
    "linreg = LinearRegression()\n",
    "linreg.fit(covars, norm_log_table)"
   ]
  },
  {
   "cell_type": "code",
   "execution_count": 81,
   "id": "06f28ea0-0b93-4bd9-9e3d-6500aad76dba",
   "metadata": {},
   "outputs": [],
   "source": [
    "adj_norm_log_table = norm_log_table - linreg.predict(covars)"
   ]
  },
  {
   "cell_type": "markdown",
   "id": "1b618a30-207c-43b9-b981-0a3f74090410",
   "metadata": {
    "tags": []
   },
   "source": [
    "# PCA"
   ]
  },
  {
   "cell_type": "code",
   "execution_count": 82,
   "id": "28b92e70-8148-41ed-b571-668a2aac094c",
   "metadata": {
    "tags": []
   },
   "outputs": [],
   "source": [
    "pca = decomposition.PCA(n_components=2)"
   ]
  },
  {
   "cell_type": "code",
   "execution_count": 83,
   "id": "27843ffd-8c50-40ea-aa64-984576837846",
   "metadata": {},
   "outputs": [
    {
     "data": {
      "text/plain": [
       "PCA(n_components=2)"
      ]
     },
     "execution_count": 83,
     "metadata": {},
     "output_type": "execute_result"
    }
   ],
   "source": [
    "pca.fit(adj_norm_log_table)"
   ]
  },
  {
   "cell_type": "code",
   "execution_count": 84,
   "id": "35679840-9f1e-4ff1-9f6c-edeadcebf1cf",
   "metadata": {
    "tags": []
   },
   "outputs": [],
   "source": [
    "components = pca.transform(adj_norm_log_table)"
   ]
  },
  {
   "cell_type": "code",
   "execution_count": 85,
   "id": "7e7f4f25-7806-41be-a556-55fb63477e87",
   "metadata": {},
   "outputs": [
    {
     "data": {
      "text/plain": [
       "array([[-3.09220759e+00, -2.26586391e+00],\n",
       "       [ 7.80775387e-01,  2.35543636e-01],\n",
       "       [ 2.74131944e-01,  6.65889927e-01],\n",
       "       [ 1.08582181e+00,  9.05746948e-01],\n",
       "       [-4.19964955e+00,  6.22503993e-01],\n",
       "       [ 1.90138398e+00,  2.84500408e-01],\n",
       "       [ 1.36133510e+00, -1.60291035e+00],\n",
       "       [ 8.48723484e-01, -3.68718989e-01],\n",
       "       [-2.33860365e+00, -4.67622336e-01],\n",
       "       [ 8.17548609e-01,  3.78082295e+00],\n",
       "       [-2.10883242e+00, -9.53526879e-01],\n",
       "       [ 1.05721286e+00, -7.58537666e-01],\n",
       "       [ 2.86650293e+00,  1.50857942e+00],\n",
       "       [-2.26411845e+00, -2.31221350e+00],\n",
       "       [ 4.62718590e+00,  3.67635030e+00],\n",
       "       [-5.38598915e-02,  8.44221315e-01],\n",
       "       [-4.06969888e+00, -4.07535653e-01],\n",
       "       [ 1.17511887e+00,  9.30517984e-01],\n",
       "       [-3.85058983e+00, -3.05103292e-01],\n",
       "       [ 5.35796276e+00,  1.12453665e+00],\n",
       "       [-2.97603261e+00,  2.87007079e-01],\n",
       "       [ 9.61790203e-01,  1.60202884e+00],\n",
       "       [-2.62190133e+00, -1.30926918e+00],\n",
       "       [ 7.68565563e-01,  2.01336137e+00],\n",
       "       [ 5.36504445e+00,  2.36424194e+00],\n",
       "       [ 1.41844973e+00, -6.58056581e-01],\n",
       "       [ 4.61958154e-01,  2.08208309e+00],\n",
       "       [ 1.59937171e+00,  1.86411613e+00],\n",
       "       [-2.64586604e+00, -1.06802280e+00],\n",
       "       [-3.74251282e+00, -1.20675578e-01],\n",
       "       [ 2.62445703e+00,  1.44586575e+00],\n",
       "       [-3.46438815e+00,  4.66354689e-01],\n",
       "       [ 1.83746935e+00,  1.94184424e+00],\n",
       "       [-2.64002869e+00, -6.68597933e-01],\n",
       "       [ 1.02071984e-01,  6.75913039e-01],\n",
       "       [-2.43608654e+00, -1.28432785e+00],\n",
       "       [ 3.69176552e-01, -2.38722930e-01],\n",
       "       [-2.98718816e+00, -6.81086814e-01],\n",
       "       [-2.05392222e+00,  2.66735176e+00],\n",
       "       [-2.93288878e+00, -5.25252219e-01],\n",
       "       [-1.47109367e+00,  2.30166263e+00],\n",
       "       [ 2.09954633e-01,  1.48597608e+00],\n",
       "       [-3.49348888e+00,  5.12453598e-01],\n",
       "       [ 1.63478726e+00,  7.12744646e-03],\n",
       "       [ 3.65342595e+00,  5.95542209e-01],\n",
       "       [-4.17525721e+00,  1.58784935e+00],\n",
       "       [ 1.53759540e+00,  2.51772850e+00],\n",
       "       [-3.50039285e+00, -8.71319622e-01],\n",
       "       [ 1.65402677e+00,  1.30942826e+00],\n",
       "       [-3.94536969e+00,  9.12719607e-01],\n",
       "       [ 6.54521677e-02, -1.82232895e-01],\n",
       "       [ 1.28646301e+00,  5.72576855e-01],\n",
       "       [-1.55270774e+00, -1.01765152e+00],\n",
       "       [ 2.17309200e-01,  2.10635301e+00],\n",
       "       [-1.93285896e+00,  2.38527818e+00],\n",
       "       [ 3.09794801e+00, -2.59247893e+00],\n",
       "       [-6.58278302e-01, -6.47976997e-01],\n",
       "       [ 3.74386220e-01, -3.34352303e+00],\n",
       "       [ 2.92982847e+00, -3.22202973e+00],\n",
       "       [ 2.20457959e+00, -3.12962913e+00],\n",
       "       [-2.77720855e+00, -1.20959353e+00],\n",
       "       [ 2.30555655e+00, -1.87373420e+00],\n",
       "       [-1.00609204e-01,  5.80235553e-02],\n",
       "       [ 6.21407618e-01, -2.98732896e+00],\n",
       "       [ 1.68177481e+00, -2.76564708e+00],\n",
       "       [ 3.06414701e+00,  1.73661746e+00],\n",
       "       [-3.19446247e+00, -1.73481789e+00],\n",
       "       [-4.44741690e+00,  6.35876613e-01],\n",
       "       [-1.48783208e+00,  8.74982252e+00],\n",
       "       [ 3.14594873e+00,  1.28528411e+00],\n",
       "       [ 1.91991034e+00,  2.78986549e+00],\n",
       "       [ 8.93603731e-01,  1.06945477e+00],\n",
       "       [ 1.74729821e+00,  1.40352250e+00],\n",
       "       [ 7.70273302e-01,  2.06910208e+00],\n",
       "       [ 1.61511545e+00,  8.92374497e-01],\n",
       "       [ 1.69206187e+00,  5.18359771e-02],\n",
       "       [ 1.51631998e+00, -7.75129795e-01],\n",
       "       [ 1.41416461e+00,  1.07317418e+00],\n",
       "       [ 1.70630728e+00,  8.41184926e-01],\n",
       "       [-3.71401157e+00,  1.77005313e+00],\n",
       "       [-4.20756042e-01,  1.36088607e+00],\n",
       "       [ 6.58075380e-01,  9.01929325e-01],\n",
       "       [ 6.38664777e-01,  1.07440553e+00],\n",
       "       [-2.35793189e-01,  1.68011634e-01],\n",
       "       [ 5.46610313e-01,  1.48943818e+00],\n",
       "       [ 1.50287801e+00, -1.04447956e+00],\n",
       "       [ 1.77123271e+00, -1.44911350e+00],\n",
       "       [-9.70629854e-01, -2.35715209e+00],\n",
       "       [-3.38057007e+00, -2.12184339e+00],\n",
       "       [ 2.32888965e+00, -4.51199536e-01],\n",
       "       [ 4.86095088e-01,  4.42945126e-01],\n",
       "       [ 2.29667854e+00,  1.83402993e+00],\n",
       "       [-2.93650085e-01,  8.01832167e-02],\n",
       "       [ 3.60103955e-02,  2.19856173e+00],\n",
       "       [ 1.80833524e+00,  5.82558297e-01],\n",
       "       [-2.63518430e+00, -2.34271557e+00],\n",
       "       [-4.76268182e-01,  1.25254092e+00],\n",
       "       [ 2.47957489e+00,  1.55128923e+00],\n",
       "       [ 2.31184113e+00,  2.85335151e+00],\n",
       "       [-1.05672204e+00, -1.09914093e+00],\n",
       "       [ 2.12289827e-02,  1.64680401e+00],\n",
       "       [ 3.48704054e+00,  4.02261548e+00],\n",
       "       [ 3.55190362e+00,  8.10208038e-01],\n",
       "       [ 1.64960386e+00,  2.33493954e+00],\n",
       "       [-3.48879529e+00, -7.15990530e-01],\n",
       "       [-3.19968531e+00,  1.29332060e-01],\n",
       "       [ 2.68130368e+00,  2.27320729e+00],\n",
       "       [ 1.79434520e+00,  3.41816032e+00],\n",
       "       [ 3.02348497e+00,  1.49243906e+00],\n",
       "       [ 2.31189011e+00,  1.17053990e+00],\n",
       "       [-3.33939489e+00, -6.02171219e-01],\n",
       "       [ 2.96125681e+00,  1.67945853e+00],\n",
       "       [-2.95657413e+00, -2.05174279e-01],\n",
       "       [-1.06602411e-01,  1.76388988e+00],\n",
       "       [-7.44783273e-01,  1.97007854e+00],\n",
       "       [-1.01311417e-01,  1.40911954e+00],\n",
       "       [-1.40609227e-01,  8.66421780e-01],\n",
       "       [-1.03498693e+00, -3.88966070e-01],\n",
       "       [-1.59805917e-01, -1.03523068e+00],\n",
       "       [ 2.27433702e+00,  1.65895848e+00],\n",
       "       [-1.04321808e+00,  1.81692520e+00],\n",
       "       [ 5.06753564e+00, -5.87128925e+00],\n",
       "       [ 5.25042826e+00, -6.30262065e+00],\n",
       "       [ 1.20472358e+00, -6.76971061e-01],\n",
       "       [ 1.08633065e+00, -1.11785763e+00],\n",
       "       [-3.07850692e+00, -1.03503364e+00],\n",
       "       [-1.85546782e-01,  1.42709637e+00],\n",
       "       [-3.87273353e-01, -7.74141457e-01],\n",
       "       [ 1.62496530e+00,  3.76429467e-01],\n",
       "       [-1.09456895e-01, -5.34363997e-01],\n",
       "       [ 3.62936659e+00,  2.02898745e-01],\n",
       "       [-2.89895463e+00, -1.64596993e+00],\n",
       "       [ 2.07405163e+00,  1.58618826e+00],\n",
       "       [ 1.52235754e-01,  4.81532683e-01],\n",
       "       [-2.96102340e+00, -7.65714166e-01],\n",
       "       [-7.67967787e-01, -2.14483596e+00],\n",
       "       [ 3.23945788e-01, -1.16538238e-01],\n",
       "       [ 1.58960708e+00, -2.01911340e+00],\n",
       "       [-6.79053126e-02,  1.14237239e-01],\n",
       "       [ 1.75886847e+00,  2.76041042e+00],\n",
       "       [ 1.38867451e+00,  1.25109725e+00],\n",
       "       [-2.31110339e-01, -6.97416061e-01],\n",
       "       [-3.44731000e-02, -3.34262558e-01],\n",
       "       [-2.74096831e-01, -4.30934934e-02],\n",
       "       [ 7.83778893e-01, -1.36522516e-01],\n",
       "       [ 2.44082608e+00,  1.10761806e-02],\n",
       "       [ 7.86484637e+00, -6.30746448e+00],\n",
       "       [ 9.99304938e+00, -5.84710706e+00],\n",
       "       [-2.96408969e+00, -6.81109506e-01],\n",
       "       [-2.09134850e+00, -1.72031270e+00],\n",
       "       [-2.16698891e+00, -2.07868886e+00],\n",
       "       [-1.71535734e+00, -2.12638721e+00],\n",
       "       [ 1.70967623e+00,  2.62863530e-02],\n",
       "       [ 2.06938335e-02, -9.71094881e-01],\n",
       "       [ 4.00945323e+00,  3.67872837e+00],\n",
       "       [-3.48625697e+00, -5.74168498e-01],\n",
       "       [-4.75786181e-01,  8.42554965e-01],\n",
       "       [-1.75859142e+00, -1.06365761e+00],\n",
       "       [-5.39331836e-01, -4.86003796e-01],\n",
       "       [ 1.42416744e-01,  2.09678735e+00],\n",
       "       [-2.81939361e+00, -1.06490703e+00],\n",
       "       [-2.02277661e-01, -1.37110116e+00],\n",
       "       [ 1.02930367e+00, -3.47916900e+00],\n",
       "       [-2.07758044e+00, -3.43417213e+00],\n",
       "       [ 1.62584711e+00, -3.02978289e+00],\n",
       "       [-7.51390168e-01, -4.68659959e+00],\n",
       "       [ 1.61550262e+00, -1.61871840e+00],\n",
       "       [-1.22381116e-01, -2.90712899e+00],\n",
       "       [ 9.82985276e-01,  2.10542985e+00],\n",
       "       [-4.18232314e+00, -1.74604993e+00],\n",
       "       [ 5.03211323e+00, -3.98204971e+00],\n",
       "       [-4.45953746e+00, -7.81062806e-01],\n",
       "       [-2.72386077e-01,  7.34735675e-01],\n",
       "       [ 2.53053665e+00,  3.06603972e-01],\n",
       "       [ 9.22033821e-01,  1.03842327e+00],\n",
       "       [-4.44891258e+00, -9.84061767e-01],\n",
       "       [-1.99199079e+00, -5.53257665e-01],\n",
       "       [-5.22503643e+00, -1.31472152e-01],\n",
       "       [-1.98190115e+00,  9.62121635e-01],\n",
       "       [-2.67593403e-01,  1.54094440e+00],\n",
       "       [-3.22125513e-01,  8.22142596e-01],\n",
       "       [-2.07841455e-01,  7.57316550e-01],\n",
       "       [ 1.26841644e+00,  3.00924878e+00],\n",
       "       [-1.85152918e+00,  2.33030806e+00],\n",
       "       [-3.75804843e+00, -1.11880029e+00],\n",
       "       [ 1.84663010e+00, -3.93099081e-01],\n",
       "       [-2.77410038e-01,  1.62350843e-01],\n",
       "       [-2.27677613e-01, -1.41746263e+00],\n",
       "       [-2.97989881e+00, -1.48727795e+00],\n",
       "       [-3.05025352e+00, -7.83643216e-01],\n",
       "       [ 3.67290658e+00,  1.65655173e+00],\n",
       "       [-3.76626616e+00, -1.67270628e+00],\n",
       "       [ 1.67504670e+00,  1.30240187e+00],\n",
       "       [ 1.70365371e-01, -3.17302255e+00],\n",
       "       [-5.71107225e-01,  2.17381670e+00],\n",
       "       [-2.99014679e+00,  1.79411877e+00],\n",
       "       [ 1.78471832e+00, -2.45719796e+00],\n",
       "       [-1.19275443e+00, -1.59688744e+00],\n",
       "       [ 2.47607101e+00, -3.83613449e+00],\n",
       "       [-1.50648992e-01, -2.61266572e+00],\n",
       "       [-4.80282557e-02, -1.33031761e+00],\n",
       "       [ 2.30668605e+00, -1.61244727e+00],\n",
       "       [ 1.05031686e+00, -2.11061506e+00],\n",
       "       [ 2.54880916e+00, -9.21738650e-01],\n",
       "       [-2.87166980e+00, -2.05066663e+00],\n",
       "       [-3.34006527e+00,  8.04094455e+00],\n",
       "       [ 2.32235613e+00,  2.00065380e+00],\n",
       "       [ 3.22765697e+00,  6.30582487e-01],\n",
       "       [-3.81797542e+00, -9.18384716e-01],\n",
       "       [-4.31499943e+00,  4.59837533e-01],\n",
       "       [-4.00606033e+00, -1.35108832e+00],\n",
       "       [-3.99078042e+00, -7.99611251e-01]])"
      ]
     },
     "execution_count": 85,
     "metadata": {},
     "output_type": "execute_result"
    }
   ],
   "source": [
    "components"
   ]
  },
  {
   "cell_type": "code",
   "execution_count": 86,
   "id": "9a98bda9-f7d0-4b48-823a-e65f175192cc",
   "metadata": {},
   "outputs": [
    {
     "data": {
      "image/png": "[encoded data removed]",
      "text/plain": [
       "<Figure size 576x576 with 1 Axes>"
      ]
     },
     "metadata": {
      "needs_background": "light"
     },
     "output_type": "display_data"
    }
   ],
   "source": [
    "fig = plt.figure(figsize = (8,8))\n",
    "ax = fig.add_subplot(1,1,1)\n",
    "\n",
    "ax.set_xlabel('Principal Component 1', fontsize = 15)\n",
    "ax.set_ylabel('Principal Component 2', fontsize = 15)\n",
    "ax.set_title('2 component PCA', fontsize = 20)\n",
    "targets = ['Cancer', 'Healthy']\n",
    "colors = ['r', 'g']\n",
    "ax.scatter(components[controls == False, 0], components[controls == False, 1], c = 'r', s = 10)\n",
    "ax.scatter(components[controls == True, 0], components[controls == True, 1], c = 'g', s = 10)\n",
    "ax.legend(targets)\n",
    "ax.grid()"
   ]
  },
  {
   "cell_type": "markdown",
   "id": "24b0dc72-e6f9-4862-8d0a-faf1d0f2045c",
   "metadata": {},
   "source": [
    "### Logistic Regression"
   ]
  },
  {
   "cell_type": "code",
   "execution_count": 91,
   "id": "97cc4b8d-ca24-4064-855f-3504fefa93b3",
   "metadata": {},
   "outputs": [],
   "source": [
    "X_train, X_test, y_train, y_test = train_test_split(adj_norm_log_table, controls, test_size=0.33, random_state=42)"
   ]
  },
  {
   "cell_type": "code",
   "execution_count": 92,
   "id": "74ae75e7-92a0-4f6d-8159-e6dcca028ad6",
   "metadata": {},
   "outputs": [
    {
     "data": {
      "text/plain": [
       "LogisticRegression()"
      ]
     },
     "execution_count": 92,
     "metadata": {},
     "output_type": "execute_result"
    }
   ],
   "source": [
    "model = LogisticRegression()\n",
    "model.fit(X_train, y_train)"
   ]
  },
  {
   "cell_type": "code",
   "execution_count": 93,
   "id": "44e27022-062a-42b9-9a84-6b8c28c4044b",
   "metadata": {},
   "outputs": [
    {
     "name": "stderr",
     "output_type": "stream",
     "text": [
      "C:\\Users\\Ole Fredrik\\AppData\\Local\\Programs\\Python\\Python39\\lib\\site-packages\\sklearn\\utils\\deprecation.py:87: FutureWarning: Function plot_roc_curve is deprecated; Function `plot_roc_curve` is deprecated in 1.0 and will be removed in 1.2. Use one of the class methods: RocCurveDisplay.from_predictions or RocCurveDisplay.from_estimator.\n",
      "  warnings.warn(msg, category=FutureWarning)\n"
     ]
    },
    {
     "data": {
      "text/plain": [
       "<sklearn.metrics._plot.roc_curve.RocCurveDisplay at 0x1fe880c4af0>"
      ]
     },
     "execution_count": 93,
     "metadata": {},
     "output_type": "execute_result"
    },
    {
     "data": {
      "image/png": "[encoded data removed]",
      "text/plain": [
       "<Figure size 432x288 with 1 Axes>"
      ]
     },
     "metadata": {
      "needs_background": "light"
     },
     "output_type": "display_data"
    }
   ],
   "source": [
    "plot_roc_curve(model, X_test, y_test)"
   ]
  },
  {
   "cell_type": "markdown",
   "id": "5e500984-7924-4959-ba20-89f2166c714a",
   "metadata": {
    "jupyter": {
     "outputs_hidden": true
    }
   },
   "source": [
    "### XGBoost"
   ]
  },
  {
   "cell_type": "code",
   "execution_count": 94,
   "id": "9aadc386-a287-42d4-b19a-4be226a84575",
   "metadata": {},
   "outputs": [
    {
     "name": "stdout",
     "output_type": "stream",
     "text": [
      "[10:46:49] WARNING: C:/Users/Administrator/workspace/xgboost-win64_release_1.4.0/src/learner.cc:1095: Starting in XGBoost 1.3.0, the default evaluation metric used with the objective 'binary:logistic' was changed from 'error' to 'logloss'. Explicitly set eval_metric if you'd like to restore the old behavior.\n"
     ]
    },
    {
     "data": {
      "text/plain": [
       "XGBClassifier(base_score=0.5, booster='gbtree', colsample_bylevel=1,\n",
       "              colsample_bynode=1, colsample_bytree=1, gamma=0, gpu_id=-1,\n",
       "              importance_type='gain', interaction_constraints='',\n",
       "              learning_rate=0.300000012, max_delta_step=0, max_depth=6,\n",
       "              min_child_weight=1, missing=nan, monotone_constraints='()',\n",
       "              n_estimators=100, n_jobs=4, num_parallel_tree=1, random_state=0,\n",
       "              reg_alpha=0, reg_lambda=1, scale_pos_weight=1, subsample=1,\n",
       "              tree_method='exact', use_label_encoder=False,\n",
       "              validate_parameters=1, verbosity=None)"
      ]
     },
     "execution_count": 94,
     "metadata": {},
     "output_type": "execute_result"
    }
   ],
   "source": [
    "model = XGBClassifier(use_label_encoder=False)\n",
    "model.fit(X_train, y_train)"
   ]
  },
  {
   "cell_type": "code",
   "execution_count": 95,
   "id": "f2a1bfc9-cb59-4af9-bdd7-40b30c36fa12",
   "metadata": {},
   "outputs": [
    {
     "name": "stderr",
     "output_type": "stream",
     "text": [
      "C:\\Users\\Ole Fredrik\\AppData\\Local\\Programs\\Python\\Python39\\lib\\site-packages\\sklearn\\utils\\deprecation.py:87: FutureWarning: Function plot_roc_curve is deprecated; Function `plot_roc_curve` is deprecated in 1.0 and will be removed in 1.2. Use one of the class methods: RocCurveDisplay.from_predictions or RocCurveDisplay.from_estimator.\n",
      "  warnings.warn(msg, category=FutureWarning)\n"
     ]
    },
    {
     "data": {
      "text/plain": [
       "<sklearn.metrics._plot.roc_curve.RocCurveDisplay at 0x1fe818ff790>"
      ]
     },
     "execution_count": 95,
     "metadata": {},
     "output_type": "execute_result"
    },
    {
     "data": {
      "image/png": "[encoded data removed]",
      "text/plain": [
       "<Figure size 432x288 with 1 Axes>"
      ]
     },
     "metadata": {
      "needs_background": "light"
     },
     "output_type": "display_data"
    }
   ],
   "source": [
    "plot_roc_curve(model, X_test, y_test)"
   ]
  },
  {
   "cell_type": "markdown",
   "id": "e68647ea-e773-4ae0-8e62-1528a8fea51d",
   "metadata": {},
   "source": [
    "### Export data"
   ]
  },
  {
   "cell_type": "code",
   "execution_count": 96,
   "id": "5486c2fb-e521-4797-82bb-b7ca011bda82",
   "metadata": {},
   "outputs": [
    {
     "data": {
      "text/html": [
       "<div>\n",
       "<style scoped>\n",
       "    .dataframe tbody tr th:only-of-type {\n",
       "        vertical-align: middle;\n",
       "    }\n",
       "\n",
       "    .dataframe tbody tr th {\n",
       "        vertical-align: top;\n",
       "    }\n",
       "\n",
       "    .dataframe thead th {\n",
       "        text-align: right;\n",
       "    }\n",
       "</style>\n",
       "<table border=\"1\" class=\"dataframe\">\n",
       "  <thead>\n",
       "    <tr style=\"text-align: right;\">\n",
       "      <th></th>\n",
       "      <th>ID</th>\n",
       "      <th>miRNA_ID</th>\n",
       "      <th>Part Number</th>\n",
       "    </tr>\n",
       "  </thead>\n",
       "  <tbody>\n",
       "    <tr>\n",
       "      <th>0</th>\n",
       "      <td>hsa-miR-99b-4373007</td>\n",
       "      <td>hsa-miR-99b</td>\n",
       "      <td>4373007</td>\n",
       "    </tr>\n",
       "    <tr>\n",
       "      <th>1</th>\n",
       "      <td>hsa-miR-99a-4373008</td>\n",
       "      <td>hsa-miR-99a</td>\n",
       "      <td>4373008</td>\n",
       "    </tr>\n",
       "    <tr>\n",
       "      <th>2</th>\n",
       "      <td>hsa-miR-98-4373009</td>\n",
       "      <td>hsa-miR-98</td>\n",
       "      <td>4373009</td>\n",
       "    </tr>\n",
       "    <tr>\n",
       "      <th>3</th>\n",
       "      <td>hsa-miR-96-4373010</td>\n",
       "      <td>hsa-miR-96</td>\n",
       "      <td>4373010</td>\n",
       "    </tr>\n",
       "    <tr>\n",
       "      <th>4</th>\n",
       "      <td>hsa-miR-95-4373011</td>\n",
       "      <td>hsa-miR-95</td>\n",
       "      <td>4373011</td>\n",
       "    </tr>\n",
       "  </tbody>\n",
       "</table>\n",
       "</div>"
      ],
      "text/plain": [
       "                    ID     miRNA_ID  Part Number\n",
       "0  hsa-miR-99b-4373007  hsa-miR-99b      4373007\n",
       "1  hsa-miR-99a-4373008  hsa-miR-99a      4373008\n",
       "2   hsa-miR-98-4373009   hsa-miR-98      4373009\n",
       "3   hsa-miR-96-4373010   hsa-miR-96      4373010\n",
       "4   hsa-miR-95-4373011   hsa-miR-95      4373011"
      ]
     },
     "execution_count": 96,
     "metadata": {},
     "output_type": "execute_result"
    }
   ],
   "source": [
    "lookup_table_gpl = pd.read_csv(\"../Others/GPL8695.tsv\", sep=\"\\t\")\n",
    "lookup_table_gpl.head()"
   ]
  },
  {
   "cell_type": "code",
   "execution_count": 97,
   "id": "fe478773-b6d5-4dde-b9fd-4e3a4be198cd",
   "metadata": {},
   "outputs": [],
   "source": [
    "from Scripts.converters import canonical_to_seq"
   ]
  },
  {
   "cell_type": "code",
   "execution_count": 98,
   "id": "7ad693dd-64df-4bcd-9c6a-daa50fcdc729",
   "metadata": {},
   "outputs": [],
   "source": [
    "mirbase_names = [c[:-8] for c in table.columns]"
   ]
  },
  {
   "cell_type": "code",
   "execution_count": 99,
   "id": "cab7b2b0-3175-4335-b2ba-14ae70c471b3",
   "metadata": {},
   "outputs": [],
   "source": [
    "sequences = canonical_to_seq(mirbase_names)"
   ]
  },
  {
   "cell_type": "code",
   "execution_count": 100,
   "id": "e20cc9e9-d0fe-42d4-875e-b28882ddf6e4",
   "metadata": {},
   "outputs": [
    {
     "data": {
      "text/html": [
       "<div>\n",
       "<style scoped>\n",
       "    .dataframe tbody tr th:only-of-type {\n",
       "        vertical-align: middle;\n",
       "    }\n",
       "\n",
       "    .dataframe tbody tr th {\n",
       "        vertical-align: top;\n",
       "    }\n",
       "\n",
       "    .dataframe thead th {\n",
       "        text-align: right;\n",
       "    }\n",
       "</style>\n",
       "<table border=\"1\" class=\"dataframe\">\n",
       "  <thead>\n",
       "    <tr style=\"text-align: right;\">\n",
       "      <th></th>\n",
       "      <th>CCUAGGAAGAGGUAGUAGGUUGCAUAGUUUUAGGGCAGGGAUUUUGCCCACAAGGAGGUAACUAUACGACCUGCUGCCUUUCUUAGG</th>\n",
       "      <th>AGCAGCAUUGUACAGGGCUAUGA</th>\n",
       "      <th>UCGUACCGUGAGUAAUAAUGCG</th>\n",
       "      <th>UCUACAGUGCACGUGUCUCCAGU</th>\n",
       "      <th>CAGUGGUUUUACCCUAUGGUAG</th>\n",
       "      <th>UGUAGUGUUUCCUACUUUAUGGA</th>\n",
       "      <th>CAUAAAGUAGAAAGCACUACU</th>\n",
       "      <th>UCAGUGCACUACAGAACUUUGU</th>\n",
       "      <th>UCAGUGCAUCACAGAACUUUGU</th>\n",
       "      <th>CAAAGUGCUUACAGUGCAGGUAG</th>\n",
       "      <th>...</th>\n",
       "      <th>UGUAAACAUCCUACACUCAGCU</th>\n",
       "      <th>UGUAAACAUCCUACACUCUCAGC</th>\n",
       "      <th>UAUUGCACAUUACUAAGUUGCA</th>\n",
       "      <th>CUGGCCCUCUCUGCCCUUCCGU</th>\n",
       "      <th>GCCCCUGGGCCUAUCCUAGAA</th>\n",
       "      <th>UCUCACACAGAAAUCGCACCCGU</th>\n",
       "      <th>UUAUAAUACAACCUGAUAAGUG</th>\n",
       "      <th>AUCAUAGAGGAAAAUCCACGU</th>\n",
       "      <th>UCUUGGAGUAGGUCAUUGGGUGG</th>\n",
       "      <th>cancer</th>\n",
       "    </tr>\n",
       "    <tr>\n",
       "      <th>ID</th>\n",
       "      <th></th>\n",
       "      <th></th>\n",
       "      <th></th>\n",
       "      <th></th>\n",
       "      <th></th>\n",
       "      <th></th>\n",
       "      <th></th>\n",
       "      <th></th>\n",
       "      <th></th>\n",
       "      <th></th>\n",
       "      <th></th>\n",
       "      <th></th>\n",
       "      <th></th>\n",
       "      <th></th>\n",
       "      <th></th>\n",
       "      <th></th>\n",
       "      <th></th>\n",
       "      <th></th>\n",
       "      <th></th>\n",
       "      <th></th>\n",
       "      <th></th>\n",
       "    </tr>\n",
       "  </thead>\n",
       "  <tbody>\n",
       "    <tr>\n",
       "      <th>42</th>\n",
       "      <td>0.249444</td>\n",
       "      <td>-0.877524</td>\n",
       "      <td>-0.629899</td>\n",
       "      <td>-0.287636</td>\n",
       "      <td>0.288497</td>\n",
       "      <td>0.473081</td>\n",
       "      <td>0.199985</td>\n",
       "      <td>0.075390</td>\n",
       "      <td>-1.284068</td>\n",
       "      <td>-0.951493</td>\n",
       "      <td>...</td>\n",
       "      <td>0.266111</td>\n",
       "      <td>0.016548</td>\n",
       "      <td>0.604460</td>\n",
       "      <td>-0.497128</td>\n",
       "      <td>-0.072800</td>\n",
       "      <td>0.567907</td>\n",
       "      <td>0.465416</td>\n",
       "      <td>-3.467757</td>\n",
       "      <td>1.707112</td>\n",
       "      <td>False</td>\n",
       "    </tr>\n",
       "    <tr>\n",
       "      <th>43</th>\n",
       "      <td>0.376887</td>\n",
       "      <td>0.020484</td>\n",
       "      <td>0.706235</td>\n",
       "      <td>0.588852</td>\n",
       "      <td>-0.049592</td>\n",
       "      <td>-0.322094</td>\n",
       "      <td>-0.388929</td>\n",
       "      <td>-0.725147</td>\n",
       "      <td>-0.164460</td>\n",
       "      <td>0.331116</td>\n",
       "      <td>...</td>\n",
       "      <td>0.346207</td>\n",
       "      <td>0.107795</td>\n",
       "      <td>-0.454459</td>\n",
       "      <td>-0.208723</td>\n",
       "      <td>0.500939</td>\n",
       "      <td>-0.272122</td>\n",
       "      <td>0.671035</td>\n",
       "      <td>0.594452</td>\n",
       "      <td>1.288877</td>\n",
       "      <td>False</td>\n",
       "    </tr>\n",
       "    <tr>\n",
       "      <th>44</th>\n",
       "      <td>-0.262850</td>\n",
       "      <td>0.250894</td>\n",
       "      <td>-0.156822</td>\n",
       "      <td>1.189638</td>\n",
       "      <td>0.162327</td>\n",
       "      <td>-0.711435</td>\n",
       "      <td>-0.045879</td>\n",
       "      <td>-0.521766</td>\n",
       "      <td>-1.125644</td>\n",
       "      <td>0.178880</td>\n",
       "      <td>...</td>\n",
       "      <td>0.454477</td>\n",
       "      <td>0.233887</td>\n",
       "      <td>-0.970857</td>\n",
       "      <td>0.274988</td>\n",
       "      <td>0.077333</td>\n",
       "      <td>-1.463160</td>\n",
       "      <td>-0.524564</td>\n",
       "      <td>0.524922</td>\n",
       "      <td>-0.612233</td>\n",
       "      <td>False</td>\n",
       "    </tr>\n",
       "    <tr>\n",
       "      <th>45</th>\n",
       "      <td>-0.720558</td>\n",
       "      <td>0.304585</td>\n",
       "      <td>0.462181</td>\n",
       "      <td>1.317523</td>\n",
       "      <td>0.386950</td>\n",
       "      <td>-0.125731</td>\n",
       "      <td>-0.311142</td>\n",
       "      <td>0.234678</td>\n",
       "      <td>-1.679863</td>\n",
       "      <td>0.398978</td>\n",
       "      <td>...</td>\n",
       "      <td>0.341046</td>\n",
       "      <td>0.500441</td>\n",
       "      <td>-1.064783</td>\n",
       "      <td>0.439149</td>\n",
       "      <td>0.277574</td>\n",
       "      <td>0.284099</td>\n",
       "      <td>-0.157971</td>\n",
       "      <td>1.269548</td>\n",
       "      <td>0.430583</td>\n",
       "      <td>False</td>\n",
       "    </tr>\n",
       "    <tr>\n",
       "      <th>46</th>\n",
       "      <td>-0.549277</td>\n",
       "      <td>-0.616086</td>\n",
       "      <td>-0.799538</td>\n",
       "      <td>-0.240664</td>\n",
       "      <td>-0.626309</td>\n",
       "      <td>-0.318518</td>\n",
       "      <td>-0.511577</td>\n",
       "      <td>-0.632131</td>\n",
       "      <td>-0.824357</td>\n",
       "      <td>0.117579</td>\n",
       "      <td>...</td>\n",
       "      <td>-0.631907</td>\n",
       "      <td>0.162195</td>\n",
       "      <td>0.023577</td>\n",
       "      <td>-0.199892</td>\n",
       "      <td>-0.509569</td>\n",
       "      <td>0.064505</td>\n",
       "      <td>-1.868772</td>\n",
       "      <td>-3.372211</td>\n",
       "      <td>-1.371765</td>\n",
       "      <td>False</td>\n",
       "    </tr>\n",
       "  </tbody>\n",
       "</table>\n",
       "<p>5 rows × 26 columns</p>\n",
       "</div>"
      ],
      "text/plain": [
       "    CCUAGGAAGAGGUAGUAGGUUGCAUAGUUUUAGGGCAGGGAUUUUGCCCACAAGGAGGUAACUAUACGACCUGCUGCCUUUCUUAGG  \\\n",
       "ID                                                                                            \n",
       "42                                           0.249444                                         \n",
       "43                                           0.376887                                         \n",
       "44                                          -0.262850                                         \n",
       "45                                          -0.720558                                         \n",
       "46                                          -0.549277                                         \n",
       "\n",
       "    AGCAGCAUUGUACAGGGCUAUGA  UCGUACCGUGAGUAAUAAUGCG  UCUACAGUGCACGUGUCUCCAGU  \\\n",
       "ID                                                                             \n",
       "42                -0.877524               -0.629899                -0.287636   \n",
       "43                 0.020484                0.706235                 0.588852   \n",
       "44                 0.250894               -0.156822                 1.189638   \n",
       "45                 0.304585                0.462181                 1.317523   \n",
       "46                -0.616086               -0.799538                -0.240664   \n",
       "\n",
       "    CAGUGGUUUUACCCUAUGGUAG  UGUAGUGUUUCCUACUUUAUGGA  CAUAAAGUAGAAAGCACUACU  \\\n",
       "ID                                                                           \n",
       "42                0.288497                 0.473081               0.199985   \n",
       "43               -0.049592                -0.322094              -0.388929   \n",
       "44                0.162327                -0.711435              -0.045879   \n",
       "45                0.386950                -0.125731              -0.311142   \n",
       "46               -0.626309                -0.318518              -0.511577   \n",
       "\n",
       "    UCAGUGCACUACAGAACUUUGU  UCAGUGCAUCACAGAACUUUGU  CAAAGUGCUUACAGUGCAGGUAG  \\\n",
       "ID                                                                            \n",
       "42                0.075390               -1.284068                -0.951493   \n",
       "43               -0.725147               -0.164460                 0.331116   \n",
       "44               -0.521766               -1.125644                 0.178880   \n",
       "45                0.234678               -1.679863                 0.398978   \n",
       "46               -0.632131               -0.824357                 0.117579   \n",
       "\n",
       "    ...  UGUAAACAUCCUACACUCAGCU  UGUAAACAUCCUACACUCUCAGC  \\\n",
       "ID  ...                                                    \n",
       "42  ...                0.266111                 0.016548   \n",
       "43  ...                0.346207                 0.107795   \n",
       "44  ...                0.454477                 0.233887   \n",
       "45  ...                0.341046                 0.500441   \n",
       "46  ...               -0.631907                 0.162195   \n",
       "\n",
       "    UAUUGCACAUUACUAAGUUGCA  CUGGCCCUCUCUGCCCUUCCGU  GCCCCUGGGCCUAUCCUAGAA  \\\n",
       "ID                                                                          \n",
       "42                0.604460               -0.497128              -0.072800   \n",
       "43               -0.454459               -0.208723               0.500939   \n",
       "44               -0.970857                0.274988               0.077333   \n",
       "45               -1.064783                0.439149               0.277574   \n",
       "46                0.023577               -0.199892              -0.509569   \n",
       "\n",
       "    UCUCACACAGAAAUCGCACCCGU  UUAUAAUACAACCUGAUAAGUG  AUCAUAGAGGAAAAUCCACGU  \\\n",
       "ID                                                                           \n",
       "42                 0.567907                0.465416              -3.467757   \n",
       "43                -0.272122                0.671035               0.594452   \n",
       "44                -1.463160               -0.524564               0.524922   \n",
       "45                 0.284099               -0.157971               1.269548   \n",
       "46                 0.064505               -1.868772              -3.372211   \n",
       "\n",
       "    UCUUGGAGUAGGUCAUUGGGUGG  cancer  \n",
       "ID                                   \n",
       "42                 1.707112   False  \n",
       "43                 1.288877   False  \n",
       "44                -0.612233   False  \n",
       "45                 0.430583   False  \n",
       "46                -1.371765   False  \n",
       "\n",
       "[5 rows x 26 columns]"
      ]
     },
     "execution_count": 100,
     "metadata": {},
     "output_type": "execute_result"
    }
   ],
   "source": [
    "adj_norm_log_table.columns = sequences\n",
    "adj_norm_log_table[\"cancer\"] = sick\n",
    "adj_norm_log_table.head()"
   ]
  },
  {
   "cell_type": "code",
   "execution_count": 101,
   "id": "9f1dd24c-1c65-4dad-be56-ae9173af5abb",
   "metadata": {},
   "outputs": [],
   "source": [
    "adj_norm_log_table.to_csv(\"../TransformedData/Bianchi2011_adjusted.csv\", index=False)"
   ]
  },
  {
   "cell_type": "code",
   "execution_count": 105,
   "id": "6be8082f-d9cf-4dd2-aded-b93fecdfac38",
   "metadata": {},
   "outputs": [],
   "source": [
    "mask = np.array([m in [\"Lung Tumor\", \"Normal\"] for m in data[\"CLASS\"]])\n",
    "clean_adj_norm_log_table = adj_norm_log_table.loc[mask]"
   ]
  },
  {
   "cell_type": "code",
   "execution_count": 106,
   "id": "9bacbd87-80dd-4105-ae31-32d02d53fc5a",
   "metadata": {},
   "outputs": [],
   "source": [
    "clean_adj_norm_log_table.to_csv(\"../TransformedData/Bianchi2011_cleaned.csv\", index=False)"
   ]
  },
  {
   "cell_type": "code",
   "execution_count": null,
   "id": "1d11c0cb-20a8-4f98-9dc9-c79532c5849c",
   "metadata": {},
   "outputs": [],
   "source": []
  }
 ],
 "metadata": {
  "kernelspec": {
   "display_name": "Python 3 (ipykernel)",
   "language": "python",
   "name": "python3"
  },
  "language_info": {
   "codemirror_mode": {
    "name": "ipython",
    "version": 3
   },
   "file_extension": ".py",
   "mimetype": "text/x-python",
   "name": "python",
   "nbconvert_exporter": "python",
   "pygments_lexer": "ipython3",
   "version": "3.9.7"
  }
 },
 "nbformat": 4,
 "nbformat_minor": 5
}
