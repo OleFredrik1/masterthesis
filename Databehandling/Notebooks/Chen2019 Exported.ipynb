{
 "cells": [
  {
   "cell_type": "code",
   "execution_count": 135,
   "id": "51571063-765e-4749-be5b-33b5e9efa9ed",
   "metadata": {},
   "outputs": [],
   "source": [
    "%matplotlib inline\n",
    "import matplotlib.pyplot as plt\n",
    "import pandas as pd\n",
    "import numpy as np\n",
    "from sklego.linear_model import LowessRegression\n",
    "from sklearn import decomposition"
   ]
  },
  {
   "cell_type": "code",
   "execution_count": 136,
   "id": "18fed604-f30f-4b19-b197-e7ac891f77d8",
   "metadata": {},
   "outputs": [],
   "source": [
    "data = pd.read_csv(\"../Dataset/Chen2019/data.csv\")"
   ]
  },
  {
   "cell_type": "code",
   "execution_count": 137,
   "id": "182d912a-8445-406d-968a-da2809674aa6",
   "metadata": {},
   "outputs": [],
   "source": [
    "table = data.iloc[:, 1:].transpose()\n",
    "table.index = list(range(len(table)))\n",
    "mirnas = data.iloc[:, 0]"
   ]
  },
  {
   "cell_type": "code",
   "execution_count": 138,
   "id": "6f8415bb-f7c8-4f94-827c-42e51256095d",
   "metadata": {},
   "outputs": [],
   "source": [
    "table = table.drop([1, 4, 20])"
   ]
  },
  {
   "cell_type": "code",
   "execution_count": 139,
   "id": "761dab15-926a-4095-afaf-50b1d4ecbc66",
   "metadata": {},
   "outputs": [
    {
     "data": {
      "text/html": [
       "<div>\n",
       "<style scoped>\n",
       "    .dataframe tbody tr th:only-of-type {\n",
       "        vertical-align: middle;\n",
       "    }\n",
       "\n",
       "    .dataframe tbody tr th {\n",
       "        vertical-align: top;\n",
       "    }\n",
       "\n",
       "    .dataframe thead th {\n",
       "        text-align: right;\n",
       "    }\n",
       "</style>\n",
       "<table border=\"1\" class=\"dataframe\">\n",
       "  <thead>\n",
       "    <tr style=\"text-align: right;\">\n",
       "      <th></th>\n",
       "      <th>0</th>\n",
       "      <th>1</th>\n",
       "      <th>2</th>\n",
       "      <th>3</th>\n",
       "      <th>4</th>\n",
       "      <th>5</th>\n",
       "      <th>6</th>\n",
       "      <th>7</th>\n",
       "      <th>8</th>\n",
       "      <th>9</th>\n",
       "      <th>...</th>\n",
       "      <th>1499</th>\n",
       "      <th>1500</th>\n",
       "      <th>1501</th>\n",
       "      <th>1502</th>\n",
       "      <th>1503</th>\n",
       "      <th>1504</th>\n",
       "      <th>1505</th>\n",
       "      <th>1506</th>\n",
       "      <th>1507</th>\n",
       "      <th>1508</th>\n",
       "    </tr>\n",
       "  </thead>\n",
       "  <tbody>\n",
       "    <tr>\n",
       "      <th>0</th>\n",
       "      <td>306.514630</td>\n",
       "      <td>6504.479293</td>\n",
       "      <td>0.0</td>\n",
       "      <td>36055.276130</td>\n",
       "      <td>0.0</td>\n",
       "      <td>1273.827034</td>\n",
       "      <td>2814.361604</td>\n",
       "      <td>1228.048875</td>\n",
       "      <td>0.0</td>\n",
       "      <td>177.141572</td>\n",
       "      <td>...</td>\n",
       "      <td>332.389242</td>\n",
       "      <td>1.990355</td>\n",
       "      <td>25.874612</td>\n",
       "      <td>0.0</td>\n",
       "      <td>67.672061</td>\n",
       "      <td>0.0</td>\n",
       "      <td>340.350661</td>\n",
       "      <td>28802.423460</td>\n",
       "      <td>77.623835</td>\n",
       "      <td>1570.389891</td>\n",
       "    </tr>\n",
       "    <tr>\n",
       "      <th>2</th>\n",
       "      <td>142.481447</td>\n",
       "      <td>9437.584674</td>\n",
       "      <td>0.0</td>\n",
       "      <td>22678.699510</td>\n",
       "      <td>0.0</td>\n",
       "      <td>1381.345556</td>\n",
       "      <td>1388.590375</td>\n",
       "      <td>912.847238</td>\n",
       "      <td>0.0</td>\n",
       "      <td>84.522892</td>\n",
       "      <td>...</td>\n",
       "      <td>251.153738</td>\n",
       "      <td>2.414940</td>\n",
       "      <td>16.904578</td>\n",
       "      <td>0.0</td>\n",
       "      <td>21.734458</td>\n",
       "      <td>0.0</td>\n",
       "      <td>106.257351</td>\n",
       "      <td>46127.764800</td>\n",
       "      <td>7.244819</td>\n",
       "      <td>1714.607246</td>\n",
       "    </tr>\n",
       "    <tr>\n",
       "      <th>3</th>\n",
       "      <td>196.808885</td>\n",
       "      <td>1307.373304</td>\n",
       "      <td>0.0</td>\n",
       "      <td>11133.759750</td>\n",
       "      <td>0.0</td>\n",
       "      <td>267.097772</td>\n",
       "      <td>98.404442</td>\n",
       "      <td>238.982217</td>\n",
       "      <td>0.0</td>\n",
       "      <td>14.057777</td>\n",
       "      <td>...</td>\n",
       "      <td>323.328882</td>\n",
       "      <td>14.057777</td>\n",
       "      <td>0.000000</td>\n",
       "      <td>0.0</td>\n",
       "      <td>70.288887</td>\n",
       "      <td>0.0</td>\n",
       "      <td>112.462220</td>\n",
       "      <td>4470.373234</td>\n",
       "      <td>14.057777</td>\n",
       "      <td>140.577775</td>\n",
       "    </tr>\n",
       "    <tr>\n",
       "      <th>5</th>\n",
       "      <td>0.000000</td>\n",
       "      <td>3172.157520</td>\n",
       "      <td>0.0</td>\n",
       "      <td>15241.461610</td>\n",
       "      <td>0.0</td>\n",
       "      <td>619.325992</td>\n",
       "      <td>1253.757496</td>\n",
       "      <td>226.582680</td>\n",
       "      <td>0.0</td>\n",
       "      <td>30.211024</td>\n",
       "      <td>...</td>\n",
       "      <td>15.105512</td>\n",
       "      <td>15.105512</td>\n",
       "      <td>0.000000</td>\n",
       "      <td>0.0</td>\n",
       "      <td>0.000000</td>\n",
       "      <td>0.0</td>\n",
       "      <td>0.000000</td>\n",
       "      <td>12688.630080</td>\n",
       "      <td>75.527560</td>\n",
       "      <td>1676.711832</td>\n",
       "    </tr>\n",
       "    <tr>\n",
       "      <th>6</th>\n",
       "      <td>9.848239</td>\n",
       "      <td>1624.959376</td>\n",
       "      <td>0.0</td>\n",
       "      <td>6568.775175</td>\n",
       "      <td>0.0</td>\n",
       "      <td>502.260171</td>\n",
       "      <td>1940.103013</td>\n",
       "      <td>68.937670</td>\n",
       "      <td>0.0</td>\n",
       "      <td>19.696477</td>\n",
       "      <td>...</td>\n",
       "      <td>167.420057</td>\n",
       "      <td>9.848239</td>\n",
       "      <td>0.000000</td>\n",
       "      <td>0.0</td>\n",
       "      <td>0.000000</td>\n",
       "      <td>0.0</td>\n",
       "      <td>226.509489</td>\n",
       "      <td>17086.694040</td>\n",
       "      <td>0.000000</td>\n",
       "      <td>669.680228</td>\n",
       "    </tr>\n",
       "  </tbody>\n",
       "</table>\n",
       "<p>5 rows × 1509 columns</p>\n",
       "</div>"
      ],
      "text/plain": [
       "         0            1     2             3     4            5     \\\n",
       "0  306.514630  6504.479293   0.0  36055.276130   0.0  1273.827034   \n",
       "2  142.481447  9437.584674   0.0  22678.699510   0.0  1381.345556   \n",
       "3  196.808885  1307.373304   0.0  11133.759750   0.0   267.097772   \n",
       "5    0.000000  3172.157520   0.0  15241.461610   0.0   619.325992   \n",
       "6    9.848239  1624.959376   0.0   6568.775175   0.0   502.260171   \n",
       "\n",
       "          6            7     8           9     ...        1499       1500  \\\n",
       "0  2814.361604  1228.048875   0.0  177.141572  ...  332.389242   1.990355   \n",
       "2  1388.590375   912.847238   0.0   84.522892  ...  251.153738   2.414940   \n",
       "3    98.404442   238.982217   0.0   14.057777  ...  323.328882  14.057777   \n",
       "5  1253.757496   226.582680   0.0   30.211024  ...   15.105512  15.105512   \n",
       "6  1940.103013    68.937670   0.0   19.696477  ...  167.420057   9.848239   \n",
       "\n",
       "        1501  1502       1503  1504        1505          1506       1507  \\\n",
       "0  25.874612   0.0  67.672061   0.0  340.350661  28802.423460  77.623835   \n",
       "2  16.904578   0.0  21.734458   0.0  106.257351  46127.764800   7.244819   \n",
       "3   0.000000   0.0  70.288887   0.0  112.462220   4470.373234  14.057777   \n",
       "5   0.000000   0.0   0.000000   0.0    0.000000  12688.630080  75.527560   \n",
       "6   0.000000   0.0   0.000000   0.0  226.509489  17086.694040   0.000000   \n",
       "\n",
       "          1508  \n",
       "0  1570.389891  \n",
       "2  1714.607246  \n",
       "3   140.577775  \n",
       "5  1676.711832  \n",
       "6   669.680228  \n",
       "\n",
       "[5 rows x 1509 columns]"
      ]
     },
     "execution_count": 139,
     "metadata": {},
     "output_type": "execute_result"
    }
   ],
   "source": [
    "table.head()"
   ]
  },
  {
   "cell_type": "code",
   "execution_count": 140,
   "id": "c3bd2114-37e9-4202-8a94-354874a66834",
   "metadata": {},
   "outputs": [],
   "source": [
    "sick = np.array([\"cancer\" in k for k in data.columns[1:]])\n",
    "sick = np.delete(sick, [1, 4, 20])\n",
    "controls = 1 - sick"
   ]
  },
  {
   "cell_type": "code",
   "execution_count": 141,
   "id": "4be20a22-f350-4af6-8f9b-071ba7b272e7",
   "metadata": {},
   "outputs": [
    {
     "data": {
      "text/plain": [
       "array([False, False, False, False, False, False, False,  True,  True,\n",
       "        True,  True,  True,  True,  True,  True,  True,  True, False,\n",
       "       False, False, False, False, False, False, False,  True,  True,\n",
       "        True,  True,  True,  True,  True,  True,  True,  True, False,\n",
       "       False, False, False, False, False, False, False, False,  True,\n",
       "        True,  True,  True,  True,  True,  True,  True,  True,  True])"
      ]
     },
     "execution_count": 141,
     "metadata": {},
     "output_type": "execute_result"
    }
   ],
   "source": [
    "sick"
   ]
  },
  {
   "cell_type": "code",
   "execution_count": 142,
   "id": "d8e83671-ca89-41e3-8031-6bcf05c9bed5",
   "metadata": {
    "tags": []
   },
   "outputs": [],
   "source": [
    "def get_means_and_variances(table):\n",
    "    return np.mean(table), np.var(table, ddof=1)"
   ]
  },
  {
   "cell_type": "code",
   "execution_count": 143,
   "id": "eaa2d682-f25d-4e2a-8bbf-ebf71016017d",
   "metadata": {
    "tags": []
   },
   "outputs": [],
   "source": [
    "def mean_variance_plot(table):\n",
    "    means, variances = get_means_and_variances(table)\n",
    "    plt.scatter(means, variances)\n",
    "    plt.xlabel(\"mean\")\n",
    "    plt.ylabel(\"variance\")\n",
    "    plt.plot()"
   ]
  },
  {
   "cell_type": "code",
   "execution_count": 144,
   "id": "9635b022-30b0-450c-9cea-b8dce23794e4",
   "metadata": {},
   "outputs": [],
   "source": [
    "def mean_std_plot(table):\n",
    "    means, variances = get_means_and_variances(table)\n",
    "    plt.scatter(means, np.sqrt(variances))\n",
    "    plt.xlabel(\"mean\")\n",
    "    plt.ylabel(\"std dev\")\n",
    "    plt.plot()"
   ]
  },
  {
   "cell_type": "code",
   "execution_count": 145,
   "id": "cb902c65-85f4-4ddf-9212-4fffbfd74535",
   "metadata": {},
   "outputs": [
    {
     "data": {
      "image/png": "[encoded data removed]",
      "text/plain": [
       "<Figure size 432x288 with 1 Axes>"
      ]
     },
     "metadata": {
      "needs_background": "light"
     },
     "output_type": "display_data"
    }
   ],
   "source": [
    "mean_variance_plot(table.loc[:, np.mean(table) < 1000])"
   ]
  },
  {
   "cell_type": "code",
   "execution_count": 146,
   "id": "8616c596-d0fc-4859-9955-c61380bb01b7",
   "metadata": {},
   "outputs": [
    {
     "data": {
      "image/png": "[encoded data removed]",
      "text/plain": [
       "<Figure size 432x288 with 1 Axes>"
      ]
     },
     "metadata": {
      "needs_background": "light"
     },
     "output_type": "display_data"
    }
   ],
   "source": [
    "mean_std_plot(table.loc[:, np.mean(table) < 1000])"
   ]
  },
  {
   "cell_type": "code",
   "execution_count": 147,
   "id": "ed7038ea-74c1-4efc-9feb-82a01621f936",
   "metadata": {},
   "outputs": [
    {
     "data": {
      "image/png": "[encoded data removed]",
      "text/plain": [
       "<Figure size 432x288 with 1 Axes>"
      ]
     },
     "metadata": {
      "needs_background": "light"
     },
     "output_type": "display_data"
    }
   ],
   "source": [
    "mean_std_plot(table.loc[:, np.logical_and(np.mean(table) < 1000, 3 * np.mean(table) > np.std(table))])"
   ]
  },
  {
   "cell_type": "code",
   "execution_count": 148,
   "id": "7f2f3c87-319c-4160-8223-5c054e3cd917",
   "metadata": {},
   "outputs": [
    {
     "data": {
      "text/plain": [
       "(1509, 1509)"
      ]
     },
     "execution_count": 148,
     "metadata": {},
     "output_type": "execute_result"
    }
   ],
   "source": [
    "len(3 * np.mean(table) > np.std(table)), len(mirnas)"
   ]
  },
  {
   "cell_type": "code",
   "execution_count": 149,
   "id": "8589d8b7-8ea3-4881-a629-a6d903ac12ac",
   "metadata": {},
   "outputs": [],
   "source": [
    "mask = 3 * np.mean(table) > np.std(table)\n",
    "table = table.loc[:, mask]\n",
    "mirnas = mirnas[mask]"
   ]
  },
  {
   "cell_type": "markdown",
   "id": "a6d44b1d-acb6-4491-a623-e11fb93b77d4",
   "metadata": {
    "tags": []
   },
   "source": [
    "### Log transformation"
   ]
  },
  {
   "cell_type": "code",
   "execution_count": 150,
   "id": "6818fd08-674c-4b51-973c-b553c660ce98",
   "metadata": {},
   "outputs": [],
   "source": [
    "log_table = np.log2(table + 1)"
   ]
  },
  {
   "cell_type": "code",
   "execution_count": 151,
   "id": "ef3b908d-215c-49b7-817c-59844b6d2850",
   "metadata": {},
   "outputs": [
    {
     "data": {
      "image/png": "[encoded data removed]",
      "text/plain": [
       "<Figure size 432x288 with 1 Axes>"
      ]
     },
     "metadata": {
      "needs_background": "light"
     },
     "output_type": "display_data"
    }
   ],
   "source": [
    "mean_variance_plot(log_table)"
   ]
  },
  {
   "cell_type": "code",
   "execution_count": 152,
   "id": "11f1564f-e764-48e3-bd27-016b86f4d489",
   "metadata": {},
   "outputs": [],
   "source": [
    "mask = np.mean(log_table) > 5\n",
    "log_table = log_table.loc[:, mask]\n",
    "mirnas = mirnas[mask]"
   ]
  },
  {
   "cell_type": "markdown",
   "id": "b2273c3f-66d9-4da2-ad32-6f5be535b456",
   "metadata": {
    "tags": []
   },
   "source": [
    "### Loess regression"
   ]
  },
  {
   "cell_type": "code",
   "execution_count": 153,
   "id": "ef84cfdf-544b-439b-9126-3d6ce334380a",
   "metadata": {
    "tags": []
   },
   "outputs": [],
   "source": [
    "lowess = LowessRegression(sigma=1, span=0.1)"
   ]
  },
  {
   "cell_type": "code",
   "execution_count": 154,
   "id": "28ee42aa-b298-47cd-833f-f38dc3912a7e",
   "metadata": {},
   "outputs": [
    {
     "data": {
      "text/plain": [
       "LowessRegression(span=0.1)"
      ]
     },
     "execution_count": 154,
     "metadata": {},
     "output_type": "execute_result"
    }
   ],
   "source": [
    "means, variances = get_means_and_variances(log_table)\n",
    "lowess.fit(means.to_numpy().reshape(-1,1), variances)"
   ]
  },
  {
   "cell_type": "code",
   "execution_count": 155,
   "id": "0da42c97-999f-4a9b-842b-fb6686fa6b19",
   "metadata": {},
   "outputs": [],
   "source": [
    "x_axis = np.linspace(-2, 14, 100)\n",
    "y_axis = lowess.predict(x_axis.reshape(-1,1))"
   ]
  },
  {
   "cell_type": "code",
   "execution_count": 156,
   "id": "67196274-4a56-4236-b29f-5c347a002c2e",
   "metadata": {},
   "outputs": [
    {
     "data": {
      "text/plain": [
       "[]"
      ]
     },
     "execution_count": 156,
     "metadata": {},
     "output_type": "execute_result"
    },
    {
     "data": {
      "image/png": "[encoded data removed]",
      "text/plain": [
       "<Figure size 432x288 with 1 Axes>"
      ]
     },
     "metadata": {
      "needs_background": "light"
     },
     "output_type": "display_data"
    }
   ],
   "source": [
    "plt.scatter(means, variances, color=\"b\")\n",
    "plt.scatter(x_axis, y_axis, color=\"y\")\n",
    "plt.xlabel(\"mean\")\n",
    "plt.ylabel(\"variance\")\n",
    "plt.legend([\"Sample points\", \"Lowess regression\"])\n",
    "plt.plot()"
   ]
  },
  {
   "cell_type": "markdown",
   "id": "77c5554e-7a87-4273-982c-e2025d159c10",
   "metadata": {
    "tags": []
   },
   "source": [
    "### Lowess normalization"
   ]
  },
  {
   "cell_type": "code",
   "execution_count": 157,
   "id": "56e0a2e4-3122-4bf2-a58e-379e1bcbe2dd",
   "metadata": {},
   "outputs": [],
   "source": [
    "adj_var = lowess.predict(means.to_numpy().reshape(-1, 1))"
   ]
  },
  {
   "cell_type": "code",
   "execution_count": 158,
   "id": "3961e5cf-14b7-48ee-bbb2-0cc262b1c91a",
   "metadata": {
    "tags": []
   },
   "outputs": [],
   "source": [
    "log_table /= np.sqrt(adj_var)"
   ]
  },
  {
   "cell_type": "code",
   "execution_count": 159,
   "id": "9340429e-3b73-4c07-859c-5a096c97f145",
   "metadata": {},
   "outputs": [
    {
     "data": {
      "image/png": "[encoded data removed]",
      "text/plain": [
       "<Figure size 432x288 with 1 Axes>"
      ]
     },
     "metadata": {
      "needs_background": "light"
     },
     "output_type": "display_data"
    }
   ],
   "source": [
    "mean_variance_plot(log_table)"
   ]
  },
  {
   "cell_type": "code",
   "execution_count": 160,
   "id": "3e0b15bf-bd89-4a6d-900c-2ce5f91737b5",
   "metadata": {
    "tags": []
   },
   "outputs": [],
   "source": [
    "norm_log_table = log_table - np.mean(log_table)"
   ]
  },
  {
   "cell_type": "code",
   "execution_count": 161,
   "id": "644afa68-3b6c-4480-bb87-65391cdaab84",
   "metadata": {},
   "outputs": [],
   "source": [
    "norm_log_table /= np.sqrt(np.mean(np.var(norm_log_table, ddof=1)))"
   ]
  },
  {
   "cell_type": "code",
   "execution_count": 162,
   "id": "f8faca5c-44cc-47b4-8e81-fb1482fb2638",
   "metadata": {},
   "outputs": [
    {
     "data": {
      "image/png": "[encoded data removed]",
      "text/plain": [
       "<Figure size 432x288 with 1 Axes>"
      ]
     },
     "metadata": {
      "needs_background": "light"
     },
     "output_type": "display_data"
    }
   ],
   "source": [
    "mean_variance_plot(norm_log_table)"
   ]
  },
  {
   "cell_type": "markdown",
   "id": "af4d24c8-8ace-45e2-bc63-e3095e5e0645",
   "metadata": {
    "tags": []
   },
   "source": [
    "# PCA"
   ]
  },
  {
   "cell_type": "code",
   "execution_count": 163,
   "id": "a22c8cc3-8750-4025-a8ff-a9859aecb364",
   "metadata": {
    "tags": []
   },
   "outputs": [],
   "source": [
    "pca = decomposition.PCA(n_components=2)"
   ]
  },
  {
   "cell_type": "code",
   "execution_count": 164,
   "id": "42a36e02-ef1f-4886-8334-c2c0279aa222",
   "metadata": {},
   "outputs": [
    {
     "data": {
      "text/plain": [
       "PCA(n_components=2)"
      ]
     },
     "execution_count": 164,
     "metadata": {},
     "output_type": "execute_result"
    }
   ],
   "source": [
    "pca.fit(norm_log_table)"
   ]
  },
  {
   "cell_type": "code",
   "execution_count": 165,
   "id": "d046be37-ace2-4a94-997c-c23c14d18ec3",
   "metadata": {
    "tags": []
   },
   "outputs": [],
   "source": [
    "components = pca.transform(norm_log_table)"
   ]
  },
  {
   "cell_type": "code",
   "execution_count": 166,
   "id": "e5a61503-f8a6-447a-b3df-9e9a401e85ba",
   "metadata": {},
   "outputs": [
    {
     "data": {
      "text/plain": [
       "array([[ -4.46985057,   6.76346486],\n",
       "       [  1.01149352,   4.16239309],\n",
       "       [ 30.62635519,  -0.54616775],\n",
       "       [ 22.77852938,  16.32579604],\n",
       "       [ 15.01687839,  13.16571172],\n",
       "       [ 30.38083417,  -2.26373863],\n",
       "       [  4.99278918,   2.579732  ],\n",
       "       [ -4.31824172,   3.22049398],\n",
       "       [  2.4858075 ,  -0.41606742],\n",
       "       [  9.06684459,  -5.05453075],\n",
       "       [ -1.3309446 ,   1.21176614],\n",
       "       [  5.25852219,  -2.12168924],\n",
       "       [  5.92215989,   0.22791822],\n",
       "       [ 11.99168797,   0.30535348],\n",
       "       [  9.87502389,   9.47436639],\n",
       "       [ -6.40279194,   6.39438483],\n",
       "       [  0.78609575,  -3.97343811],\n",
       "       [ -9.23184818,   0.31078805],\n",
       "       [ -5.95289858,  -0.25274121],\n",
       "       [ -1.61078871,  -7.27571358],\n",
       "       [ -7.62991735,  -2.80129744],\n",
       "       [ -8.87444131,   5.77565082],\n",
       "       [ -8.69026343,   6.01632878],\n",
       "       [  1.25288131,  -6.94267881],\n",
       "       [ -3.5056974 ,   1.7570714 ],\n",
       "       [ -9.11794726,  -1.83134428],\n",
       "       [ -4.11600214,  -4.05560229],\n",
       "       [  1.24085692,  -8.90035634],\n",
       "       [ -1.04500296, -11.31430656],\n",
       "       [ -4.12637133,  -3.47625031],\n",
       "       [ -8.40883392,   1.42994267],\n",
       "       [ -5.54746314,  -5.96211025],\n",
       "       [-11.41837652,   1.29029066],\n",
       "       [-12.35780479,   3.19009104],\n",
       "       [ -5.92304374,  -6.07451356],\n",
       "       [ -8.41087964,   5.27425734],\n",
       "       [ -6.70865059,   6.28455658],\n",
       "       [ -0.33412149,  -2.82103599],\n",
       "       [  6.93463718, -10.03078011],\n",
       "       [ -4.1868797 ,  -3.86794567],\n",
       "       [ -0.44150723,  -2.4670064 ],\n",
       "       [ -6.29304998,   5.89964294],\n",
       "       [  8.38558603,  -0.25062861],\n",
       "       [ -8.19825488,   4.84157316],\n",
       "       [ -7.99997102,   6.52042049],\n",
       "       [ -4.33976017,   1.8571996 ],\n",
       "       [  5.78757196, -10.55417572],\n",
       "       [ -1.88282889,  -7.28848121],\n",
       "       [ -1.85884736,  -3.23694953],\n",
       "       [ -6.10371136,   5.18524668],\n",
       "       [  9.33580092,  -3.96317861],\n",
       "       [ -0.88858461,  -1.19186702],\n",
       "       [ -7.31396346,   2.08471518],\n",
       "       [  5.90918401,  -2.61456069]])"
      ]
     },
     "execution_count": 166,
     "metadata": {},
     "output_type": "execute_result"
    }
   ],
   "source": [
    "components"
   ]
  },
  {
   "cell_type": "code",
   "execution_count": 167,
   "id": "3fdf0eb5-a398-4551-9867-c2f1930fd5f0",
   "metadata": {},
   "outputs": [
    {
     "data": {
      "image/png": "[encoded data removed]",
      "text/plain": [
       "<Figure size 576x576 with 1 Axes>"
      ]
     },
     "metadata": {
      "needs_background": "light"
     },
     "output_type": "display_data"
    }
   ],
   "source": [
    "fig = plt.figure(figsize = (8,8))\n",
    "ax = fig.add_subplot(1,1,1)\n",
    "\n",
    "ax.set_xlabel('Principal Component 1', fontsize = 15)\n",
    "ax.set_ylabel('Principal Component 2', fontsize = 15)\n",
    "ax.set_title('2 component PCA', fontsize = 20)\n",
    "targets = ['Cancer', 'Healthy']\n",
    "colors = ['r', 'g']\n",
    "ax.scatter(components[controls == False, 0], components[controls == False, 1], c = 'r', s = 10)\n",
    "ax.scatter(components[controls == True, 0], components[controls == True, 1], c = 'g', s = 10)\n",
    "ax.legend(targets)\n",
    "ax.grid()"
   ]
  },
  {
   "cell_type": "code",
   "execution_count": 168,
   "id": "3f670b90-d839-4472-afbc-2a733a98ab2c",
   "metadata": {},
   "outputs": [
    {
     "data": {
      "text/plain": [
       "(array([2, 5], dtype=int64),)"
      ]
     },
     "execution_count": 168,
     "metadata": {},
     "output_type": "execute_result"
    }
   ],
   "source": [
    "np.nonzero(components[:, 0] > 30)"
   ]
  },
  {
   "cell_type": "markdown",
   "id": "ae82e403-bf6b-47bb-be6f-325cbe9eca36",
   "metadata": {},
   "source": [
    "### Export dataset"
   ]
  },
  {
   "cell_type": "code",
   "execution_count": 169,
   "id": "71cebfc7-6d15-4268-a8c6-1d4c1597ab1a",
   "metadata": {},
   "outputs": [],
   "source": [
    "from Scripts import converters"
   ]
  },
  {
   "cell_type": "code",
   "execution_count": 170,
   "id": "842710db-c56a-4c2b-80c7-824c3901c166",
   "metadata": {},
   "outputs": [
    {
     "data": {
      "text/plain": [
       "'hsa-let-7a-3p'"
      ]
     },
     "execution_count": 170,
     "metadata": {},
     "output_type": "execute_result"
    }
   ],
   "source": [
    "mirnas[0]"
   ]
  },
  {
   "cell_type": "code",
   "execution_count": 171,
   "id": "633a8813-9877-4315-822e-8ce0b42ee8c8",
   "metadata": {},
   "outputs": [],
   "source": [
    "sequences = converters.canonical_to_seq(mirnas)"
   ]
  },
  {
   "cell_type": "code",
   "execution_count": 172,
   "id": "e01f06c0-2bfb-4e65-ae84-e752dead9583",
   "metadata": {},
   "outputs": [
    {
     "data": {
      "text/plain": [
       "['CUAUACAAUCUACUGUCUUUC',\n",
       " 'UGAGGUAGUAGGUUGUAUAGUU',\n",
       " 'UGAGGUAGUAGGUUGUGUGGUU',\n",
       " 'UGAGGUAGUAGGUUGUAUGGUU',\n",
       " 'CUAUACGACCUGCUGCCUUUCU',\n",
       " 'AGAGGUAGUAGGUUGCAUAGUU',\n",
       " 'UGAGGUAGGAGGUUGUAUAGUU',\n",
       " 'UGAGGUAGUAGAUUGUAUAGUU',\n",
       " 'UGAGGUAGUAGUUUGUACAGUU',\n",
       " 'UGAGGUAGUAGUUUGUGCUGUU']"
      ]
     },
     "execution_count": 172,
     "metadata": {},
     "output_type": "execute_result"
    }
   ],
   "source": [
    "sequences[:10]"
   ]
  },
  {
   "cell_type": "code",
   "execution_count": 173,
   "id": "a95048a1-fe65-4693-896e-855a96af964f",
   "metadata": {},
   "outputs": [
    {
     "data": {
      "text/plain": [
       "254    hsa-miR-199a-3p\n",
       "256    hsa-miR-199b-3p\n",
       "Name: miRNA, dtype: object"
      ]
     },
     "execution_count": 173,
     "metadata": {},
     "output_type": "execute_result"
    }
   ],
   "source": [
    "sequences = np.array(sequences)\n",
    "mirnas[sequences == \"ACAGUAGUCUGCACAUUGGUUA\"]"
   ]
  },
  {
   "cell_type": "code",
   "execution_count": 174,
   "id": "4ae17864-fff2-4d04-a174-795bd2f69bc9",
   "metadata": {},
   "outputs": [
    {
     "data": {
      "text/plain": [
       "(array([0, 0], dtype=int64), array([82, 83], dtype=int64))"
      ]
     },
     "execution_count": 174,
     "metadata": {},
     "output_type": "execute_result"
    }
   ],
   "source": [
    "np.nonzero([sequences == \"ACAGUAGUCUGCACAUUGGUUA\"])"
   ]
  },
  {
   "cell_type": "code",
   "execution_count": 175,
   "id": "feda50fc-f93e-49f1-96a0-39357c7eea8b",
   "metadata": {},
   "outputs": [
    {
     "name": "stderr",
     "output_type": "stream",
     "text": [
      "C:\\Users\\OLEFRE~1\\AppData\\Local\\Temp/ipykernel_10776/890718696.py:2: FutureWarning: In a future version of pandas all arguments of DataFrame.drop except for the argument 'labels' will be keyword-only\n",
      "  norm_log_table = norm_log_table.drop(norm_log_table.columns[71], 1)\n"
     ]
    }
   ],
   "source": [
    "sequences = np.delete(sequences, [71])\n",
    "norm_log_table = norm_log_table.drop(norm_log_table.columns[71], 1)"
   ]
  },
  {
   "cell_type": "code",
   "execution_count": 176,
   "id": "1bd16f9a-c805-4161-aefd-d66c118fd2db",
   "metadata": {},
   "outputs": [
    {
     "data": {
      "text/html": [
       "<div>\n",
       "<style scoped>\n",
       "    .dataframe tbody tr th:only-of-type {\n",
       "        vertical-align: middle;\n",
       "    }\n",
       "\n",
       "    .dataframe tbody tr th {\n",
       "        vertical-align: top;\n",
       "    }\n",
       "\n",
       "    .dataframe thead th {\n",
       "        text-align: right;\n",
       "    }\n",
       "</style>\n",
       "<table border=\"1\" class=\"dataframe\">\n",
       "  <thead>\n",
       "    <tr style=\"text-align: right;\">\n",
       "      <th></th>\n",
       "      <th>CUAUACAAUCUACUGUCUUUC</th>\n",
       "      <th>UGAGGUAGUAGGUUGUAUAGUU</th>\n",
       "      <th>UGAGGUAGUAGGUUGUGUGGUU</th>\n",
       "      <th>UGAGGUAGUAGGUUGUAUGGUU</th>\n",
       "      <th>CUAUACGACCUGCUGCCUUUCU</th>\n",
       "      <th>AGAGGUAGUAGGUUGCAUAGUU</th>\n",
       "      <th>UGAGGUAGGAGGUUGUAUAGUU</th>\n",
       "      <th>UGAGGUAGUAGAUUGUAUAGUU</th>\n",
       "      <th>UGAGGUAGUAGUUUGUACAGUU</th>\n",
       "      <th>UGAGGUAGUAGUUUGUGCUGUU</th>\n",
       "      <th>...</th>\n",
       "      <th>UAUUGCACUCGUCCCGGCCUCC</th>\n",
       "      <th>AGGGACGGGACGCGGUGCAGUG</th>\n",
       "      <th>CAAAGUGCUGUUCGUGCAGGUAG</th>\n",
       "      <th>CACCCGGCUGUGUGCACAUGUGC</th>\n",
       "      <th>UCUUCUCUGUUUUGGCCAUGUG</th>\n",
       "      <th>UUUGGCACUAGCACAUUUUUGCU</th>\n",
       "      <th>UGAGGUAGUAAGUUGUAUUGUU</th>\n",
       "      <th>AACCCGUAGAUCCGAUCUUGUG</th>\n",
       "      <th>CACCCGUAGAACCGACCUUGCG</th>\n",
       "      <th>cancer</th>\n",
       "    </tr>\n",
       "  </thead>\n",
       "  <tbody>\n",
       "    <tr>\n",
       "      <th>0</th>\n",
       "      <td>0.442163</td>\n",
       "      <td>-1.087623</td>\n",
       "      <td>0.366386</td>\n",
       "      <td>-0.881819</td>\n",
       "      <td>0.476673</td>\n",
       "      <td>-0.429933</td>\n",
       "      <td>-0.211347</td>\n",
       "      <td>-1.198235</td>\n",
       "      <td>-0.230265</td>\n",
       "      <td>-0.456518</td>\n",
       "      <td>...</td>\n",
       "      <td>0.647254</td>\n",
       "      <td>-0.030975</td>\n",
       "      <td>-0.143301</td>\n",
       "      <td>-0.187441</td>\n",
       "      <td>0.230512</td>\n",
       "      <td>0.367821</td>\n",
       "      <td>0.436160</td>\n",
       "      <td>0.806971</td>\n",
       "      <td>0.584806</td>\n",
       "      <td>False</td>\n",
       "    </tr>\n",
       "    <tr>\n",
       "      <th>2</th>\n",
       "      <td>-0.189918</td>\n",
       "      <td>-0.577929</td>\n",
       "      <td>-0.332145</td>\n",
       "      <td>-0.773245</td>\n",
       "      <td>-0.343388</td>\n",
       "      <td>-0.768637</td>\n",
       "      <td>-0.829533</td>\n",
       "      <td>-0.848815</td>\n",
       "      <td>-0.326981</td>\n",
       "      <td>-0.508152</td>\n",
       "      <td>...</td>\n",
       "      <td>0.717524</td>\n",
       "      <td>-0.155148</td>\n",
       "      <td>-0.879165</td>\n",
       "      <td>-0.174740</td>\n",
       "      <td>-0.010656</td>\n",
       "      <td>-0.491936</td>\n",
       "      <td>-0.518990</td>\n",
       "      <td>1.457785</td>\n",
       "      <td>0.677404</td>\n",
       "      <td>False</td>\n",
       "    </tr>\n",
       "    <tr>\n",
       "      <th>3</th>\n",
       "      <td>0.076321</td>\n",
       "      <td>-3.284190</td>\n",
       "      <td>-1.404024</td>\n",
       "      <td>-2.972566</td>\n",
       "      <td>-3.406724</td>\n",
       "      <td>-2.296920</td>\n",
       "      <td>-2.292778</td>\n",
       "      <td>-1.583945</td>\n",
       "      <td>-1.938411</td>\n",
       "      <td>-1.928734</td>\n",
       "      <td>...</td>\n",
       "      <td>-3.082569</td>\n",
       "      <td>1.132261</td>\n",
       "      <td>-1.965411</td>\n",
       "      <td>-3.244336</td>\n",
       "      <td>0.206718</td>\n",
       "      <td>0.396907</td>\n",
       "      <td>-0.472590</td>\n",
       "      <td>-1.767306</td>\n",
       "      <td>-1.953412</td>\n",
       "      <td>False</td>\n",
       "    </tr>\n",
       "    <tr>\n",
       "      <th>5</th>\n",
       "      <td>-4.307689</td>\n",
       "      <td>-2.070847</td>\n",
       "      <td>-0.930894</td>\n",
       "      <td>-1.847696</td>\n",
       "      <td>-0.461930</td>\n",
       "      <td>-2.357557</td>\n",
       "      <td>-1.678735</td>\n",
       "      <td>-2.039921</td>\n",
       "      <td>-2.050892</td>\n",
       "      <td>-2.565515</td>\n",
       "      <td>...</td>\n",
       "      <td>-3.082569</td>\n",
       "      <td>0.412417</td>\n",
       "      <td>0.060734</td>\n",
       "      <td>-3.244336</td>\n",
       "      <td>-2.386201</td>\n",
       "      <td>-2.921493</td>\n",
       "      <td>-4.376317</td>\n",
       "      <td>-0.325818</td>\n",
       "      <td>0.653849</td>\n",
       "      <td>False</td>\n",
       "    </tr>\n",
       "    <tr>\n",
       "      <th>6</th>\n",
       "      <td>-2.330973</td>\n",
       "      <td>-2.986569</td>\n",
       "      <td>-2.198958</td>\n",
       "      <td>-2.128128</td>\n",
       "      <td>0.044816</td>\n",
       "      <td>-3.706175</td>\n",
       "      <td>-2.024821</td>\n",
       "      <td>-2.161789</td>\n",
       "      <td>-2.606624</td>\n",
       "      <td>-1.827057</td>\n",
       "      <td>...</td>\n",
       "      <td>0.967029</td>\n",
       "      <td>-2.504413</td>\n",
       "      <td>-1.858653</td>\n",
       "      <td>0.497920</td>\n",
       "      <td>-0.359169</td>\n",
       "      <td>-2.921493</td>\n",
       "      <td>0.101419</td>\n",
       "      <td>0.085411</td>\n",
       "      <td>-0.313083</td>\n",
       "      <td>False</td>\n",
       "    </tr>\n",
       "  </tbody>\n",
       "</table>\n",
       "<p>5 rows × 254 columns</p>\n",
       "</div>"
      ],
      "text/plain": [
       "   CUAUACAAUCUACUGUCUUUC  UGAGGUAGUAGGUUGUAUAGUU  UGAGGUAGUAGGUUGUGUGGUU  \\\n",
       "0               0.442163               -1.087623                0.366386   \n",
       "2              -0.189918               -0.577929               -0.332145   \n",
       "3               0.076321               -3.284190               -1.404024   \n",
       "5              -4.307689               -2.070847               -0.930894   \n",
       "6              -2.330973               -2.986569               -2.198958   \n",
       "\n",
       "   UGAGGUAGUAGGUUGUAUGGUU  CUAUACGACCUGCUGCCUUUCU  AGAGGUAGUAGGUUGCAUAGUU  \\\n",
       "0               -0.881819                0.476673               -0.429933   \n",
       "2               -0.773245               -0.343388               -0.768637   \n",
       "3               -2.972566               -3.406724               -2.296920   \n",
       "5               -1.847696               -0.461930               -2.357557   \n",
       "6               -2.128128                0.044816               -3.706175   \n",
       "\n",
       "   UGAGGUAGGAGGUUGUAUAGUU  UGAGGUAGUAGAUUGUAUAGUU  UGAGGUAGUAGUUUGUACAGUU  \\\n",
       "0               -0.211347               -1.198235               -0.230265   \n",
       "2               -0.829533               -0.848815               -0.326981   \n",
       "3               -2.292778               -1.583945               -1.938411   \n",
       "5               -1.678735               -2.039921               -2.050892   \n",
       "6               -2.024821               -2.161789               -2.606624   \n",
       "\n",
       "   UGAGGUAGUAGUUUGUGCUGUU  ...  UAUUGCACUCGUCCCGGCCUCC  \\\n",
       "0               -0.456518  ...                0.647254   \n",
       "2               -0.508152  ...                0.717524   \n",
       "3               -1.928734  ...               -3.082569   \n",
       "5               -2.565515  ...               -3.082569   \n",
       "6               -1.827057  ...                0.967029   \n",
       "\n",
       "   AGGGACGGGACGCGGUGCAGUG  CAAAGUGCUGUUCGUGCAGGUAG  CACCCGGCUGUGUGCACAUGUGC  \\\n",
       "0               -0.030975                -0.143301                -0.187441   \n",
       "2               -0.155148                -0.879165                -0.174740   \n",
       "3                1.132261                -1.965411                -3.244336   \n",
       "5                0.412417                 0.060734                -3.244336   \n",
       "6               -2.504413                -1.858653                 0.497920   \n",
       "\n",
       "   UCUUCUCUGUUUUGGCCAUGUG  UUUGGCACUAGCACAUUUUUGCU  UGAGGUAGUAAGUUGUAUUGUU  \\\n",
       "0                0.230512                 0.367821                0.436160   \n",
       "2               -0.010656                -0.491936               -0.518990   \n",
       "3                0.206718                 0.396907               -0.472590   \n",
       "5               -2.386201                -2.921493               -4.376317   \n",
       "6               -0.359169                -2.921493                0.101419   \n",
       "\n",
       "   AACCCGUAGAUCCGAUCUUGUG  CACCCGUAGAACCGACCUUGCG  cancer  \n",
       "0                0.806971                0.584806   False  \n",
       "2                1.457785                0.677404   False  \n",
       "3               -1.767306               -1.953412   False  \n",
       "5               -0.325818                0.653849   False  \n",
       "6                0.085411               -0.313083   False  \n",
       "\n",
       "[5 rows x 254 columns]"
      ]
     },
     "execution_count": 176,
     "metadata": {},
     "output_type": "execute_result"
    }
   ],
   "source": [
    "norm_log_table.columns = sequences\n",
    "norm_log_table[\"cancer\"] = sick\n",
    "norm_log_table.head()"
   ]
  },
  {
   "cell_type": "code",
   "execution_count": 177,
   "id": "4606a5b6-57aa-4937-9df0-d87e96ccc441",
   "metadata": {},
   "outputs": [],
   "source": [
    "norm_log_table.to_csv(\"../TransformedData/Chen2019.csv\", index=False)"
   ]
  },
  {
   "cell_type": "code",
   "execution_count": null,
   "id": "579f2236-2249-4c12-8b58-9028002d5e6a",
   "metadata": {},
   "outputs": [],
   "source": []
  }
 ],
 "metadata": {
  "kernelspec": {
   "display_name": "Python 3 (ipykernel)",
   "language": "python",
   "name": "python3"
  },
  "language_info": {
   "codemirror_mode": {
    "name": "ipython",
    "version": 3
   },
   "file_extension": ".py",
   "mimetype": "text/x-python",
   "name": "python",
   "nbconvert_exporter": "python",
   "pygments_lexer": "ipython3",
   "version": "3.9.7"
  }
 },
 "nbformat": 4,
 "nbformat_minor": 5
}
