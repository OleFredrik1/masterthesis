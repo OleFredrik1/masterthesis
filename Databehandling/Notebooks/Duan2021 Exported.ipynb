{
 "cells": [
  {
   "cell_type": "code",
   "execution_count": 93,
   "metadata": {
    "tags": []
   },
   "outputs": [],
   "source": [
    "%matplotlib inline\n",
    "import GEOparse\n",
    "import matplotlib.pyplot as plt\n",
    "import pandas as pd\n",
    "import numpy as np\n",
    "from sklearn import decomposition\n",
    "import matplotlib\n",
    "from matplotlib.backends.backend_pgf import FigureCanvasPgf\n",
    "matplotlib.backend_bases.register_backend('pdf', FigureCanvasPgf)\n",
    "\n",
    "geo = \"GSE171517\""
   ]
  },
  {
   "cell_type": "code",
   "execution_count": 94,
   "metadata": {},
   "outputs": [
    {
     "name": "stderr",
     "output_type": "stream",
     "text": [
      "23-Oct-2021 15:59:35 DEBUG utils - Directory ../Dataset/Duan2021 already exists. Skipping.\n",
      "23-Oct-2021 15:59:35 INFO GEOparse - File already exist: using local version.\n",
      "23-Oct-2021 15:59:35 INFO GEOparse - Parsing ../Dataset/Duan2021\\GSE171517_family.soft.gz: \n",
      "23-Oct-2021 15:59:35 DEBUG GEOparse - DATABASE: GeoMiame\n",
      "23-Oct-2021 15:59:35 DEBUG GEOparse - SERIES: GSE171517\n",
      "23-Oct-2021 15:59:35 DEBUG GEOparse - PLATFORM: GPL18058\n",
      "23-Oct-2021 15:59:35 DEBUG GEOparse - SAMPLE: GSM5226511\n",
      "23-Oct-2021 15:59:36 DEBUG GEOparse - SAMPLE: GSM5226512\n",
      "23-Oct-2021 15:59:36 DEBUG GEOparse - SAMPLE: GSM5226513\n",
      "23-Oct-2021 15:59:36 DEBUG GEOparse - SAMPLE: GSM5226514\n",
      "23-Oct-2021 15:59:36 DEBUG GEOparse - SAMPLE: GSM5226515\n",
      "23-Oct-2021 15:59:36 DEBUG GEOparse - SAMPLE: GSM5226516\n",
      "23-Oct-2021 15:59:36 DEBUG GEOparse - SAMPLE: GSM5226517\n",
      "23-Oct-2021 15:59:36 DEBUG GEOparse - SAMPLE: GSM5226518\n",
      "23-Oct-2021 15:59:36 DEBUG GEOparse - SAMPLE: GSM5226519\n",
      "23-Oct-2021 15:59:36 DEBUG GEOparse - SAMPLE: GSM5226520\n",
      "23-Oct-2021 15:59:36 DEBUG GEOparse - SAMPLE: GSM5226521\n",
      "23-Oct-2021 15:59:36 DEBUG GEOparse - SAMPLE: GSM5226522\n"
     ]
    }
   ],
   "source": [
    "data = GEOparse.get_GEO(geo=geo, destdir=\"../Dataset/Duan2021\")"
   ]
  },
  {
   "cell_type": "code",
   "execution_count": 95,
   "metadata": {},
   "outputs": [
    {
     "data": {
      "text/html": [
       "<div>\n",
       "<style scoped>\n",
       "    .dataframe tbody tr th:only-of-type {\n",
       "        vertical-align: middle;\n",
       "    }\n",
       "\n",
       "    .dataframe tbody tr th {\n",
       "        vertical-align: top;\n",
       "    }\n",
       "\n",
       "    .dataframe thead th {\n",
       "        text-align: right;\n",
       "    }\n",
       "</style>\n",
       "<table border=\"1\" class=\"dataframe\">\n",
       "  <thead>\n",
       "    <tr style=\"text-align: right;\">\n",
       "      <th></th>\n",
       "      <th>ID</th>\n",
       "      <th>Human_miRNA</th>\n",
       "      <th>Human_miRBase</th>\n",
       "      <th>Mouse_miRNA</th>\n",
       "      <th>Mouse_miRBase</th>\n",
       "      <th>Rat_miRNA</th>\n",
       "      <th>Rat_miRBase</th>\n",
       "      <th>miRNA_ID</th>\n",
       "      <th>SPOT_ID</th>\n",
       "    </tr>\n",
       "  </thead>\n",
       "  <tbody>\n",
       "    <tr>\n",
       "      <th>30</th>\n",
       "      <td>10976</td>\n",
       "      <td>hsa-miR-182-3p</td>\n",
       "      <td>MIMAT0000260</td>\n",
       "      <td>mmu-miR-182-3p</td>\n",
       "      <td>MIMAT0016995</td>\n",
       "      <td>NaN</td>\n",
       "      <td>NaN</td>\n",
       "      <td>hsa-miR-182-3p</td>\n",
       "      <td>NaN</td>\n",
       "    </tr>\n",
       "    <tr>\n",
       "      <th>31</th>\n",
       "      <td>10977</td>\n",
       "      <td>hsa-miR-183-5p</td>\n",
       "      <td>MIMAT0000261</td>\n",
       "      <td>mmu-miR-183-5p</td>\n",
       "      <td>MIMAT0000212</td>\n",
       "      <td>rno-miR-183</td>\n",
       "      <td>MIMAT0000860</td>\n",
       "      <td>hsa-miR-183-5p</td>\n",
       "      <td>NaN</td>\n",
       "    </tr>\n",
       "    <tr>\n",
       "      <th>32</th>\n",
       "      <td>10985</td>\n",
       "      <td>hsa-miR-191-5p</td>\n",
       "      <td>MIMAT0000440</td>\n",
       "      <td>mmu-miR-191-5p</td>\n",
       "      <td>MIMAT0000221</td>\n",
       "      <td>rno-miR-191</td>\n",
       "      <td>MIMAT0000866</td>\n",
       "      <td>hsa-miR-191-5p</td>\n",
       "      <td>NaN</td>\n",
       "    </tr>\n",
       "    <tr>\n",
       "      <th>33</th>\n",
       "      <td>10986</td>\n",
       "      <td>hsa-miR-193a-3p</td>\n",
       "      <td>MIMAT0000459</td>\n",
       "      <td>mmu-miR-193-3p</td>\n",
       "      <td>MIMAT0000223</td>\n",
       "      <td>rno-miR-193</td>\n",
       "      <td>MIMAT0000868</td>\n",
       "      <td>hsa-miR-193a-3p</td>\n",
       "      <td>NaN</td>\n",
       "    </tr>\n",
       "    <tr>\n",
       "      <th>34</th>\n",
       "      <td>10987</td>\n",
       "      <td>hsa-miR-193b-3p</td>\n",
       "      <td>MIMAT0002819</td>\n",
       "      <td>NaN</td>\n",
       "      <td>NaN</td>\n",
       "      <td>NaN</td>\n",
       "      <td>NaN</td>\n",
       "      <td>hsa-miR-193b-3p</td>\n",
       "      <td>NaN</td>\n",
       "    </tr>\n",
       "    <tr>\n",
       "      <th>35</th>\n",
       "      <td>10988</td>\n",
       "      <td>hsa-miR-194-5p</td>\n",
       "      <td>MIMAT0000460</td>\n",
       "      <td>mmu-miR-194-5p</td>\n",
       "      <td>MIMAT0000224</td>\n",
       "      <td>rno-miR-194</td>\n",
       "      <td>MIMAT0000869</td>\n",
       "      <td>hsa-miR-194-5p</td>\n",
       "      <td>NaN</td>\n",
       "    </tr>\n",
       "    <tr>\n",
       "      <th>36</th>\n",
       "      <td>10990</td>\n",
       "      <td>hsa-miR-196a-5p</td>\n",
       "      <td>MIMAT0000226</td>\n",
       "      <td>mmu-miR-196a-5p</td>\n",
       "      <td>MIMAT0000518</td>\n",
       "      <td>rno-miR-196a</td>\n",
       "      <td>MIMAT0000871</td>\n",
       "      <td>hsa-miR-196a-5p</td>\n",
       "      <td>NaN</td>\n",
       "    </tr>\n",
       "    <tr>\n",
       "      <th>37</th>\n",
       "      <td>10991</td>\n",
       "      <td>NaN</td>\n",
       "      <td>NaN</td>\n",
       "      <td>NaN</td>\n",
       "      <td>NaN</td>\n",
       "      <td>NaN</td>\n",
       "      <td>NaN</td>\n",
       "      <td>NaN</td>\n",
       "      <td>10991</td>\n",
       "    </tr>\n",
       "    <tr>\n",
       "      <th>38</th>\n",
       "      <td>10995</td>\n",
       "      <td>hsa-miR-199a-3p/hsa-miR-199b-3p</td>\n",
       "      <td>NaN</td>\n",
       "      <td>mmu-miR-199a-3p/mmu-miR-199b-3p</td>\n",
       "      <td>NaN</td>\n",
       "      <td>rno-miR-199a-3p</td>\n",
       "      <td>MIMAT0004738</td>\n",
       "      <td>hsa-miR-199a-3p/hsa-miR-199b-3p</td>\n",
       "      <td>NaN</td>\n",
       "    </tr>\n",
       "    <tr>\n",
       "      <th>39</th>\n",
       "      <td>10997</td>\n",
       "      <td>hsa-miR-19a-3p</td>\n",
       "      <td>MIMAT0000073</td>\n",
       "      <td>mmu-miR-19a-3p</td>\n",
       "      <td>MIMAT0000651</td>\n",
       "      <td>rno-miR-19a</td>\n",
       "      <td>MIMAT0000789</td>\n",
       "      <td>hsa-miR-19a-3p</td>\n",
       "      <td>NaN</td>\n",
       "    </tr>\n",
       "  </tbody>\n",
       "</table>\n",
       "</div>"
      ],
      "text/plain": [
       "       ID                      Human_miRNA Human_miRBase  \\\n",
       "30  10976                   hsa-miR-182-3p  MIMAT0000260   \n",
       "31  10977                   hsa-miR-183-5p  MIMAT0000261   \n",
       "32  10985                   hsa-miR-191-5p  MIMAT0000440   \n",
       "33  10986                  hsa-miR-193a-3p  MIMAT0000459   \n",
       "34  10987                  hsa-miR-193b-3p  MIMAT0002819   \n",
       "35  10988                   hsa-miR-194-5p  MIMAT0000460   \n",
       "36  10990                  hsa-miR-196a-5p  MIMAT0000226   \n",
       "37  10991                              NaN           NaN   \n",
       "38  10995  hsa-miR-199a-3p/hsa-miR-199b-3p           NaN   \n",
       "39  10997                   hsa-miR-19a-3p  MIMAT0000073   \n",
       "\n",
       "                        Mouse_miRNA Mouse_miRBase        Rat_miRNA  \\\n",
       "30                   mmu-miR-182-3p  MIMAT0016995              NaN   \n",
       "31                   mmu-miR-183-5p  MIMAT0000212      rno-miR-183   \n",
       "32                   mmu-miR-191-5p  MIMAT0000221      rno-miR-191   \n",
       "33                   mmu-miR-193-3p  MIMAT0000223      rno-miR-193   \n",
       "34                              NaN           NaN              NaN   \n",
       "35                   mmu-miR-194-5p  MIMAT0000224      rno-miR-194   \n",
       "36                  mmu-miR-196a-5p  MIMAT0000518     rno-miR-196a   \n",
       "37                              NaN           NaN              NaN   \n",
       "38  mmu-miR-199a-3p/mmu-miR-199b-3p           NaN  rno-miR-199a-3p   \n",
       "39                   mmu-miR-19a-3p  MIMAT0000651      rno-miR-19a   \n",
       "\n",
       "     Rat_miRBase                         miRNA_ID SPOT_ID  \n",
       "30           NaN                   hsa-miR-182-3p     NaN  \n",
       "31  MIMAT0000860                   hsa-miR-183-5p     NaN  \n",
       "32  MIMAT0000866                   hsa-miR-191-5p     NaN  \n",
       "33  MIMAT0000868                  hsa-miR-193a-3p     NaN  \n",
       "34           NaN                  hsa-miR-193b-3p     NaN  \n",
       "35  MIMAT0000869                   hsa-miR-194-5p     NaN  \n",
       "36  MIMAT0000871                  hsa-miR-196a-5p     NaN  \n",
       "37           NaN                              NaN   10991  \n",
       "38  MIMAT0004738  hsa-miR-199a-3p/hsa-miR-199b-3p     NaN  \n",
       "39  MIMAT0000789                   hsa-miR-19a-3p     NaN  "
      ]
     },
     "execution_count": 95,
     "metadata": {},
     "output_type": "execute_result"
    }
   ],
   "source": [
    "data.gpls[\"GPL18058\"].table.iloc[30:40]"
   ]
  },
  {
   "cell_type": "code",
   "execution_count": 96,
   "metadata": {},
   "outputs": [
    {
     "data": {
      "text/plain": [
       "{'title': ['LC_Serum_Exp1'],\n",
       " 'geo_accession': ['GSM5226511'],\n",
       " 'status': ['Public on Apr 06 2021'],\n",
       " 'submission_date': ['Apr 05 2021'],\n",
       " 'last_update_date': ['Apr 06 2021'],\n",
       " 'type': ['RNA'],\n",
       " 'channel_count': ['1'],\n",
       " 'source_name_ch1': ['Serum, Lung Cancer Patient, Experimental Group, 01'],\n",
       " 'organism_ch1': ['Homo sapiens'],\n",
       " 'taxid_ch1': ['9606'],\n",
       " 'characteristics_ch1': ['sample type: Serum',\n",
       "  'pathology: SCC',\n",
       "  'tnm: T2aN0M0',\n",
       "  'Stage: IB',\n",
       "  'disease state: lung cancer'],\n",
       " 'molecule_ch1': ['total RNA'],\n",
       " 'extract_protocol_ch1': ['Total RNA was isolated using TRI reagent BD (MRCgene, TB-126) according to manufacturerâ€™s instructions. RNA quality and quantity was measured by using nanodrop spectrophotometer (ND-1000, Nanodrop Technologies).'],\n",
       " 'label_ch1': ['Hy3'],\n",
       " 'label_protocol_ch1': [\"After RNA isolation from the samples, the miRCURYâ„¢ Hy3â„¢/Hy5â„¢ Power labeling kit (Exiqon, Vedbaek, Denmark) was used according to the manufacturerâ€™s guideline for miRNA labelling. One microgram of each sample was 3'-end-labeled with Hy3TM fluorescent label, using T4 RNA ligase by the following procedure: RNA in 2.0 Î¼L of water was combined with 1.0 Î¼L of CIP buffer and CIP (Exiqon). The mixture was incubated for 30 min at 37Â°C, and was terminated by incubation for 5 min at 95Â°C. Then 3.0 Î¼L of labeling buffer, 1.5 Î¼L of fluorescent label (Hy3TM), 2.0 Î¼L of DMSO, 2.0 Î¼L of labeling enzyme were added into the mixture. The labeling reaction was incubated for 1 h at 16Â°C, and terminated by incubation for 15 min at 65Â°C.\"],\n",
       " 'hyb_protocol': ['After stopping the labeling procedure, the Hy3TM-labeled samples were hybridized on the miRCURYTM LNA Array (v.18.0) (Exiqon) according to array manual. The total 25 Î¼L mixture from Hy3TM-labeled samples with 25 Î¼L hybridization buffer were first denatured for 2 min at 95Â°C, incubated on ice for 2 min and then hybridized to the microarray for 16â€“20 h at 56Â°C in a 12-Bay Hybridization Systems (Hybridization System - Nimblegen Systems, Inc., Madison, WI, USA), which provides an active mixing action and constant incubation temperature to improve hybridization uniformity and enhance signal.'],\n",
       " 'scan_protocol': ['Following hybridization, the slides were achieved, washed several times using Wash buffer kit (Exiqon), and finally dried by centrifugation for 5 min at 400 rpm. Then the slides were scanned using the Axon GenePix 4000B microarray scanner (Axon Instruments, Foster City, CA).'],\n",
       " 'description': ['miRNA expression in serum of lung cancer patient'],\n",
       " 'data_processing': ['Scanned images were then imported into GenePix Pro 6.0 software (Axon) for grid alignment and data extraction. Replicated miRNAs were averaged and miRNAs that intensities>=30 in all samples were chosen for calculating normalization factor. Expressed data were normalized using the Median normalization. After normalization, significant differentially expressed miRNAs were identified through Volcano Plot filtering. Hierarchical clustering was performed using MEV software (v4.6, TIGR).'],\n",
       " 'platform_id': ['GPL18058'],\n",
       " 'contact_name': ['Xiaoxia,,Zhu'],\n",
       " 'contact_email': ['zhuxx01@126.com'],\n",
       " 'contact_department': ['Radiation Oncology Department'],\n",
       " 'contact_institute': ['Zhujiang Hospital, Southern Medical University'],\n",
       " 'contact_address': ['No. 253 Gongye Street'],\n",
       " 'contact_city': ['Guangzhou'],\n",
       " 'contact_state': ['Guangdong'],\n",
       " 'contact_zip/postal_code': ['510280'],\n",
       " 'contact_country': ['China'],\n",
       " 'supplementary_file': ['ftp://ftp.ncbi.nlm.nih.gov/geo/samples/GSM5226nnn/GSM5226511/suppl/GSM5226511_dsx.gpr.gz'],\n",
       " 'series_id': ['GSE171517'],\n",
       " 'data_row_count': ['3543']}"
      ]
     },
     "execution_count": 96,
     "metadata": {},
     "output_type": "execute_result"
    }
   ],
   "source": [
    "list(data.gsms.values())[0].metadata"
   ]
  },
  {
   "cell_type": "code",
   "execution_count": 97,
   "metadata": {},
   "outputs": [],
   "source": [
    "table = pd.concat([val.table.iloc[:,min(1,i):] for i, val in enumerate(data.gsms.values())], axis=1).transpose()"
   ]
  },
  {
   "cell_type": "code",
   "execution_count": 98,
   "metadata": {},
   "outputs": [
    {
     "name": "stderr",
     "output_type": "stream",
     "text": [
      "C:\\Users\\OLEFRE~1\\AppData\\Local\\Temp/ipykernel_10596/1927661217.py:1: FutureWarning: In a future version of pandas all arguments of DataFrame.dropna will be keyword-only\n",
      "  table = table.dropna(1)\n"
     ]
    }
   ],
   "source": [
    "table = table.dropna(1)"
   ]
  },
  {
   "cell_type": "code",
   "execution_count": 99,
   "metadata": {},
   "outputs": [],
   "source": [
    "mirnas = table.iloc[0, :].transpose().astype(int)\n",
    "table = table.iloc[1:, :]"
   ]
  },
  {
   "cell_type": "code",
   "execution_count": 100,
   "metadata": {},
   "outputs": [
    {
     "data": {
      "text/plain": [
       "0       31.557016\n",
       "5        0.272795\n",
       "7        1.298599\n",
       "11       1.140279\n",
       "12       0.104513\n",
       "          ...    \n",
       "3522     2.330647\n",
       "3524    21.434297\n",
       "3526     0.336214\n",
       "3527     0.244579\n",
       "3529    11.895344\n",
       "Length: 786, dtype: float64"
      ]
     },
     "execution_count": 100,
     "metadata": {},
     "output_type": "execute_result"
    }
   ],
   "source": [
    "np.mean(table)"
   ]
  },
  {
   "cell_type": "code",
   "execution_count": 101,
   "metadata": {
    "tags": []
   },
   "outputs": [],
   "source": [
    "def get_means_and_variances(table):\n",
    "    return np.mean(table), np.var(table, ddof=1)"
   ]
  },
  {
   "cell_type": "code",
   "execution_count": 102,
   "metadata": {
    "tags": []
   },
   "outputs": [],
   "source": [
    "def mean_variance_plot(table):\n",
    "    means, variances = get_means_and_variances(table)\n",
    "    plt.scatter(means, variances)\n",
    "    plt.xlabel(\"mean\")\n",
    "    plt.ylabel(\"variance\")\n",
    "    plt.plot()"
   ]
  },
  {
   "cell_type": "code",
   "execution_count": 103,
   "metadata": {},
   "outputs": [
    {
     "data": {
      "image/png": "[encoded data removed]",
      "text/plain": [
       "<Figure size 432x288 with 1 Axes>"
      ]
     },
     "metadata": {
      "needs_background": "light"
     },
     "output_type": "display_data"
    }
   ],
   "source": [
    "mean_variance_plot(table)"
   ]
  },
  {
   "cell_type": "markdown",
   "metadata": {},
   "source": [
    "### Trying log-transformation"
   ]
  },
  {
   "cell_type": "code",
   "execution_count": 104,
   "metadata": {},
   "outputs": [],
   "source": [
    "log_table = np.log2(table)"
   ]
  },
  {
   "cell_type": "code",
   "execution_count": 105,
   "metadata": {},
   "outputs": [
    {
     "data": {
      "image/png": "[encoded data removed]",
      "text/plain": [
       "<Figure size 432x288 with 1 Axes>"
      ]
     },
     "metadata": {
      "needs_background": "light"
     },
     "output_type": "display_data"
    }
   ],
   "source": [
    "mean_variance_plot(log_table)"
   ]
  },
  {
   "cell_type": "code",
   "execution_count": 106,
   "metadata": {
    "tags": []
   },
   "outputs": [],
   "source": [
    "norm_log_table = log_table - np.mean(log_table)"
   ]
  },
  {
   "cell_type": "code",
   "execution_count": 107,
   "metadata": {},
   "outputs": [],
   "source": [
    "norm_log_table /= np.sqrt(np.mean(np.var(norm_log_table, ddof=1)))"
   ]
  },
  {
   "cell_type": "code",
   "execution_count": 108,
   "metadata": {},
   "outputs": [
    {
     "data": {
      "text/plain": [
       "1.0"
      ]
     },
     "execution_count": 108,
     "metadata": {},
     "output_type": "execute_result"
    }
   ],
   "source": [
    "norm_log_table.var().mean()"
   ]
  },
  {
   "cell_type": "code",
   "execution_count": 109,
   "metadata": {},
   "outputs": [
    {
     "data": {
      "image/png": "[encoded data removed]",
      "text/plain": [
       "<Figure size 432x288 with 1 Axes>"
      ]
     },
     "metadata": {
      "needs_background": "light"
     },
     "output_type": "display_data"
    }
   ],
   "source": [
    "mean_variance_plot(norm_log_table)"
   ]
  },
  {
   "cell_type": "code",
   "execution_count": 110,
   "metadata": {
    "tags": []
   },
   "outputs": [],
   "source": [
    "pca = decomposition.PCA(n_components=2)"
   ]
  },
  {
   "cell_type": "code",
   "execution_count": 111,
   "metadata": {},
   "outputs": [
    {
     "data": {
      "text/plain": [
       "PCA(n_components=2)"
      ]
     },
     "execution_count": 111,
     "metadata": {},
     "output_type": "execute_result"
    }
   ],
   "source": [
    "pca.fit(norm_log_table)"
   ]
  },
  {
   "cell_type": "code",
   "execution_count": 112,
   "metadata": {
    "tags": []
   },
   "outputs": [],
   "source": [
    "components = pca.transform(norm_log_table)"
   ]
  },
  {
   "cell_type": "code",
   "execution_count": 113,
   "metadata": {},
   "outputs": [
    {
     "data": {
      "text/plain": [
       "array([[ -6.21440201, -17.3618018 ],\n",
       "       [-20.7505224 ,   5.76397303],\n",
       "       [-11.71988461,  17.60981366],\n",
       "       [-15.95587241, -10.92963902],\n",
       "       [-24.19338705, -12.6921618 ],\n",
       "       [-17.33620535,  11.37262106],\n",
       "       [-10.10962328,   5.3207337 ],\n",
       "       [ 15.02551961,  18.93246637],\n",
       "       [ 23.98893711,   8.79474481],\n",
       "       [ 27.1258914 ,   1.59510228],\n",
       "       [ 17.77063317, -18.32867776],\n",
       "       [ 22.36891583, -10.07717453]])"
      ]
     },
     "execution_count": 113,
     "metadata": {},
     "output_type": "execute_result"
    }
   ],
   "source": [
    "components"
   ]
  },
  {
   "cell_type": "code",
   "execution_count": 114,
   "metadata": {},
   "outputs": [
    {
     "data": {
      "image/png": "[encoded data removed]",
      "text/plain": [
       "<Figure size 576x576 with 1 Axes>"
      ]
     },
     "metadata": {
      "needs_background": "light"
     },
     "output_type": "display_data"
    }
   ],
   "source": [
    "fig = plt.figure(figsize = (8,8))\n",
    "ax = fig.add_subplot(1,1,1)\n",
    "\n",
    "ax.set_xlabel('Principal Component 1', fontsize = 15)\n",
    "ax.set_ylabel('Principal Component 2', fontsize = 15)\n",
    "ax.set_title('2 component PCA', fontsize = 20)\n",
    "targets = ['Cancer', 'Healthy']\n",
    "colors = ['r', 'g']\n",
    "ax.scatter(components[:6, 0], components[:6, 1], c = 'r', s = 50)\n",
    "ax.scatter(components[6:, 0], components[6:, 1], c = 'g', s = 50)\n",
    "ax.legend(targets)\n",
    "ax.grid()\n",
    "plt.savefig(\"../Figures/PCA/Duan2021.pgf\")"
   ]
  },
  {
   "cell_type": "code",
   "execution_count": 115,
   "metadata": {},
   "outputs": [],
   "source": [
    "labels = np.array([\"Control\" if i > 6 else \"Cancer\" for i in range(12)])\n",
    "pca_data = pd.DataFrame(components)\n",
    "pca_data[\"Type\"] = labels\n",
    "pca_data.columns = [\"PCA1\", \"PCA2\", \"Type\"]\n",
    "pca_data.to_csv(\"../Outdata/PCA/Duan2021.csv\")"
   ]
  },
  {
   "cell_type": "markdown",
   "metadata": {},
   "source": [
    "### Exporting data"
   ]
  },
  {
   "cell_type": "code",
   "execution_count": null,
   "metadata": {},
   "outputs": [],
   "source": []
  },
  {
   "cell_type": "code",
   "execution_count": 116,
   "metadata": {},
   "outputs": [
    {
     "data": {
      "text/html": [
       "<div>\n",
       "<style scoped>\n",
       "    .dataframe tbody tr th:only-of-type {\n",
       "        vertical-align: middle;\n",
       "    }\n",
       "\n",
       "    .dataframe tbody tr th {\n",
       "        vertical-align: top;\n",
       "    }\n",
       "\n",
       "    .dataframe thead th {\n",
       "        text-align: right;\n",
       "    }\n",
       "</style>\n",
       "<table border=\"1\" class=\"dataframe\">\n",
       "  <thead>\n",
       "    <tr style=\"text-align: right;\">\n",
       "      <th></th>\n",
       "      <th>ID</th>\n",
       "      <th>Human_miRNA</th>\n",
       "      <th>Human_miRBase</th>\n",
       "      <th>Mouse_miRNA</th>\n",
       "      <th>Mouse_miRBase</th>\n",
       "      <th>Rat_miRNA</th>\n",
       "      <th>Rat_miRBase</th>\n",
       "      <th>miRNA_ID</th>\n",
       "      <th>SPOT_ID</th>\n",
       "    </tr>\n",
       "  </thead>\n",
       "  <tbody>\n",
       "    <tr>\n",
       "      <th>0</th>\n",
       "      <td>10138</td>\n",
       "      <td>hsa-miR-130a-3p</td>\n",
       "      <td>MIMAT0000425</td>\n",
       "      <td>mmu-miR-130a-3p</td>\n",
       "      <td>MIMAT0000141</td>\n",
       "      <td>rno-miR-130a</td>\n",
       "      <td>MIMAT0000836</td>\n",
       "      <td>hsa-miR-130a-3p</td>\n",
       "      <td>NaN</td>\n",
       "    </tr>\n",
       "    <tr>\n",
       "      <th>1</th>\n",
       "      <td>10306</td>\n",
       "      <td>hsa-miR-146b-5p</td>\n",
       "      <td>MIMAT0002809</td>\n",
       "      <td>mmu-miR-146b-5p</td>\n",
       "      <td>MIMAT0003475</td>\n",
       "      <td>rno-miR-146b</td>\n",
       "      <td>MIMAT0005595</td>\n",
       "      <td>hsa-miR-146b-5p</td>\n",
       "      <td>NaN</td>\n",
       "    </tr>\n",
       "    <tr>\n",
       "      <th>2</th>\n",
       "      <td>105441</td>\n",
       "      <td>hsa-miR-518c-3p</td>\n",
       "      <td>MIMAT0002848</td>\n",
       "      <td>NaN</td>\n",
       "      <td>NaN</td>\n",
       "      <td>NaN</td>\n",
       "      <td>NaN</td>\n",
       "      <td>hsa-miR-518c-3p</td>\n",
       "      <td>NaN</td>\n",
       "    </tr>\n",
       "    <tr>\n",
       "      <th>3</th>\n",
       "      <td>10899</td>\n",
       "      <td>spike_control_v1_j</td>\n",
       "      <td>NaN</td>\n",
       "      <td>spike_control_v1_j</td>\n",
       "      <td>NaN</td>\n",
       "      <td>spike_control_v1_j</td>\n",
       "      <td>NaN</td>\n",
       "      <td>NaN</td>\n",
       "      <td>spike_control_v1_j</td>\n",
       "    </tr>\n",
       "    <tr>\n",
       "      <th>4</th>\n",
       "      <td>10901</td>\n",
       "      <td>hsa_negative_control_6</td>\n",
       "      <td>NaN</td>\n",
       "      <td>hsa_negative_control_6</td>\n",
       "      <td>NaN</td>\n",
       "      <td>hsa_negative_control_6</td>\n",
       "      <td>NaN</td>\n",
       "      <td>NaN</td>\n",
       "      <td>hsa_negative_control_6</td>\n",
       "    </tr>\n",
       "  </tbody>\n",
       "</table>\n",
       "</div>"
      ],
      "text/plain": [
       "       ID             Human_miRNA Human_miRBase             Mouse_miRNA  \\\n",
       "0   10138         hsa-miR-130a-3p  MIMAT0000425         mmu-miR-130a-3p   \n",
       "1   10306         hsa-miR-146b-5p  MIMAT0002809         mmu-miR-146b-5p   \n",
       "2  105441         hsa-miR-518c-3p  MIMAT0002848                     NaN   \n",
       "3   10899      spike_control_v1_j           NaN      spike_control_v1_j   \n",
       "4   10901  hsa_negative_control_6           NaN  hsa_negative_control_6   \n",
       "\n",
       "  Mouse_miRBase               Rat_miRNA   Rat_miRBase         miRNA_ID  \\\n",
       "0  MIMAT0000141            rno-miR-130a  MIMAT0000836  hsa-miR-130a-3p   \n",
       "1  MIMAT0003475            rno-miR-146b  MIMAT0005595  hsa-miR-146b-5p   \n",
       "2           NaN                     NaN           NaN  hsa-miR-518c-3p   \n",
       "3           NaN      spike_control_v1_j           NaN              NaN   \n",
       "4           NaN  hsa_negative_control_6           NaN              NaN   \n",
       "\n",
       "                  SPOT_ID  \n",
       "0                     NaN  \n",
       "1                     NaN  \n",
       "2                     NaN  \n",
       "3      spike_control_v1_j  \n",
       "4  hsa_negative_control_6  "
      ]
     },
     "execution_count": 116,
     "metadata": {},
     "output_type": "execute_result"
    }
   ],
   "source": [
    "id_lookup = data.gpls[\"GPL18058\"].table\n",
    "id_lookup.head()"
   ]
  },
  {
   "cell_type": "code",
   "execution_count": 117,
   "metadata": {},
   "outputs": [],
   "source": [
    "id_lookup = id_lookup.set_index(\"ID\")"
   ]
  },
  {
   "cell_type": "code",
   "execution_count": 118,
   "metadata": {},
   "outputs": [
    {
     "data": {
      "text/html": [
       "<div>\n",
       "<style scoped>\n",
       "    .dataframe tbody tr th:only-of-type {\n",
       "        vertical-align: middle;\n",
       "    }\n",
       "\n",
       "    .dataframe tbody tr th {\n",
       "        vertical-align: top;\n",
       "    }\n",
       "\n",
       "    .dataframe thead th {\n",
       "        text-align: right;\n",
       "    }\n",
       "</style>\n",
       "<table border=\"1\" class=\"dataframe\">\n",
       "  <thead>\n",
       "    <tr style=\"text-align: right;\">\n",
       "      <th></th>\n",
       "      <th>Human_miRNA</th>\n",
       "      <th>Human_miRBase</th>\n",
       "      <th>Mouse_miRNA</th>\n",
       "      <th>Mouse_miRBase</th>\n",
       "      <th>Rat_miRNA</th>\n",
       "      <th>Rat_miRBase</th>\n",
       "      <th>miRNA_ID</th>\n",
       "      <th>SPOT_ID</th>\n",
       "    </tr>\n",
       "    <tr>\n",
       "      <th>ID</th>\n",
       "      <th></th>\n",
       "      <th></th>\n",
       "      <th></th>\n",
       "      <th></th>\n",
       "      <th></th>\n",
       "      <th></th>\n",
       "      <th></th>\n",
       "      <th></th>\n",
       "    </tr>\n",
       "  </thead>\n",
       "  <tbody>\n",
       "    <tr>\n",
       "      <th>13138</th>\n",
       "      <td>Hy3</td>\n",
       "      <td>NaN</td>\n",
       "      <td>Hy3</td>\n",
       "      <td>NaN</td>\n",
       "      <td>Hy3</td>\n",
       "      <td>NaN</td>\n",
       "      <td>NaN</td>\n",
       "      <td>Hy3</td>\n",
       "    </tr>\n",
       "    <tr>\n",
       "      <th>46507</th>\n",
       "      <td>hsa-miR-921</td>\n",
       "      <td>MIMAT0004971</td>\n",
       "      <td>NaN</td>\n",
       "      <td>NaN</td>\n",
       "      <td>NaN</td>\n",
       "      <td>NaN</td>\n",
       "      <td>hsa-miR-921</td>\n",
       "      <td>NaN</td>\n",
       "    </tr>\n",
       "    <tr>\n",
       "      <th>42826</th>\n",
       "      <td>NaN</td>\n",
       "      <td>NaN</td>\n",
       "      <td>mmu-miR-300-5p</td>\n",
       "      <td>MIMAT0004578</td>\n",
       "      <td>rno-miR-300-5p</td>\n",
       "      <td>MIMAT0004743</td>\n",
       "      <td>NaN</td>\n",
       "      <td>42826</td>\n",
       "    </tr>\n",
       "    <tr>\n",
       "      <th>46636</th>\n",
       "      <td>NaN</td>\n",
       "      <td>NaN</td>\n",
       "      <td>mcmv-miR-M23-1-5p</td>\n",
       "      <td>MIMAT0005542</td>\n",
       "      <td>NaN</td>\n",
       "      <td>NaN</td>\n",
       "      <td>NaN</td>\n",
       "      <td>46636</td>\n",
       "    </tr>\n",
       "    <tr>\n",
       "      <th>11134</th>\n",
       "      <td>hsa-miR-502-5p</td>\n",
       "      <td>MIMAT0002873</td>\n",
       "      <td>NaN</td>\n",
       "      <td>NaN</td>\n",
       "      <td>NaN</td>\n",
       "      <td>NaN</td>\n",
       "      <td>hsa-miR-502-5p</td>\n",
       "      <td>NaN</td>\n",
       "    </tr>\n",
       "    <tr>\n",
       "      <th>17295</th>\n",
       "      <td>NaN</td>\n",
       "      <td>NaN</td>\n",
       "      <td>NaN</td>\n",
       "      <td>NaN</td>\n",
       "      <td>NaN</td>\n",
       "      <td>NaN</td>\n",
       "      <td>NaN</td>\n",
       "      <td>17295</td>\n",
       "    </tr>\n",
       "    <tr>\n",
       "      <th>42812</th>\n",
       "      <td>hsa-miR-508-5p</td>\n",
       "      <td>MIMAT0004778</td>\n",
       "      <td>NaN</td>\n",
       "      <td>NaN</td>\n",
       "      <td>NaN</td>\n",
       "      <td>NaN</td>\n",
       "      <td>hsa-miR-508-5p</td>\n",
       "      <td>NaN</td>\n",
       "    </tr>\n",
       "    <tr>\n",
       "      <th>42469</th>\n",
       "      <td>NaN</td>\n",
       "      <td>NaN</td>\n",
       "      <td>mmu-miR-181a-2-3p</td>\n",
       "      <td>MIMAT0005443</td>\n",
       "      <td>NaN</td>\n",
       "      <td>NaN</td>\n",
       "      <td>NaN</td>\n",
       "      <td>42469</td>\n",
       "    </tr>\n",
       "    <tr>\n",
       "      <th>27575</th>\n",
       "      <td>NaN</td>\n",
       "      <td>NaN</td>\n",
       "      <td>mmu-miR-711</td>\n",
       "      <td>MIMAT0003501</td>\n",
       "      <td>NaN</td>\n",
       "      <td>NaN</td>\n",
       "      <td>NaN</td>\n",
       "      <td>27575</td>\n",
       "    </tr>\n",
       "    <tr>\n",
       "      <th>-1</th>\n",
       "      <td>NaN</td>\n",
       "      <td>NaN</td>\n",
       "      <td>NaN</td>\n",
       "      <td>NaN</td>\n",
       "      <td>NaN</td>\n",
       "      <td>NaN</td>\n",
       "      <td>NaN</td>\n",
       "      <td>-1</td>\n",
       "    </tr>\n",
       "  </tbody>\n",
       "</table>\n",
       "</div>"
      ],
      "text/plain": [
       "           Human_miRNA Human_miRBase        Mouse_miRNA Mouse_miRBase  \\\n",
       "ID                                                                      \n",
       " 13138             Hy3           NaN                Hy3           NaN   \n",
       " 46507     hsa-miR-921  MIMAT0004971                NaN           NaN   \n",
       " 42826             NaN           NaN     mmu-miR-300-5p  MIMAT0004578   \n",
       " 46636             NaN           NaN  mcmv-miR-M23-1-5p  MIMAT0005542   \n",
       " 11134  hsa-miR-502-5p  MIMAT0002873                NaN           NaN   \n",
       " 17295             NaN           NaN                NaN           NaN   \n",
       " 42812  hsa-miR-508-5p  MIMAT0004778                NaN           NaN   \n",
       " 42469             NaN           NaN  mmu-miR-181a-2-3p  MIMAT0005443   \n",
       " 27575             NaN           NaN        mmu-miR-711  MIMAT0003501   \n",
       "-1                 NaN           NaN                NaN           NaN   \n",
       "\n",
       "             Rat_miRNA   Rat_miRBase        miRNA_ID SPOT_ID  \n",
       "ID                                                            \n",
       " 13138             Hy3           NaN             NaN     Hy3  \n",
       " 46507             NaN           NaN     hsa-miR-921     NaN  \n",
       " 42826  rno-miR-300-5p  MIMAT0004743             NaN   42826  \n",
       " 46636             NaN           NaN             NaN   46636  \n",
       " 11134             NaN           NaN  hsa-miR-502-5p     NaN  \n",
       " 17295             NaN           NaN             NaN   17295  \n",
       " 42812             NaN           NaN  hsa-miR-508-5p     NaN  \n",
       " 42469             NaN           NaN             NaN   42469  \n",
       " 27575             NaN           NaN             NaN   27575  \n",
       "-1                 NaN           NaN             NaN      -1  "
      ]
     },
     "execution_count": 118,
     "metadata": {},
     "output_type": "execute_result"
    }
   ],
   "source": [
    "id_lookup.loc[mirnas[:10]]"
   ]
  },
  {
   "cell_type": "code",
   "execution_count": 119,
   "metadata": {},
   "outputs": [],
   "source": [
    "mirbase_ids = id_lookup.loc[mirnas][\"Human_miRBase\"]"
   ]
  },
  {
   "cell_type": "code",
   "execution_count": 120,
   "metadata": {},
   "outputs": [],
   "source": [
    "mask = np.logical_not(mirbase_ids.isna()).to_numpy()"
   ]
  },
  {
   "cell_type": "code",
   "execution_count": 121,
   "metadata": {},
   "outputs": [
    {
     "data": {
      "text/plain": [
       "array([False,  True, False, False,  True, False,  True, False, False,\n",
       "       False])"
      ]
     },
     "execution_count": 121,
     "metadata": {},
     "output_type": "execute_result"
    }
   ],
   "source": [
    "mask[:10]"
   ]
  },
  {
   "cell_type": "code",
   "execution_count": 122,
   "metadata": {},
   "outputs": [],
   "source": [
    "mirbase_ids = mirbase_ids[mask]"
   ]
  },
  {
   "cell_type": "code",
   "execution_count": 123,
   "metadata": {},
   "outputs": [],
   "source": [
    "norm_log_table = norm_log_table.loc[:, mask]"
   ]
  },
  {
   "cell_type": "code",
   "execution_count": 124,
   "metadata": {},
   "outputs": [],
   "source": [
    "from Scripts import converters"
   ]
  },
  {
   "cell_type": "code",
   "execution_count": 125,
   "metadata": {},
   "outputs": [],
   "source": [
    "sequences = converters.mirbase_to_seq(mirbase_ids, ignore_not_found=True)"
   ]
  },
  {
   "cell_type": "code",
   "execution_count": 126,
   "metadata": {},
   "outputs": [
    {
     "data": {
      "text/plain": [
       "2"
      ]
     },
     "execution_count": 126,
     "metadata": {},
     "output_type": "execute_result"
    }
   ],
   "source": [
    "sequences.count(None)"
   ]
  },
  {
   "cell_type": "code",
   "execution_count": 127,
   "metadata": {},
   "outputs": [],
   "source": [
    "sequences = np.array(sequences)"
   ]
  },
  {
   "cell_type": "code",
   "execution_count": 128,
   "metadata": {},
   "outputs": [],
   "source": [
    "mask = sequences != None"
   ]
  },
  {
   "cell_type": "code",
   "execution_count": 129,
   "metadata": {},
   "outputs": [],
   "source": [
    "sequences = sequences[mask]\n",
    "norm_log_table = norm_log_table.loc[:, mask]"
   ]
  },
  {
   "cell_type": "code",
   "execution_count": 131,
   "metadata": {},
   "outputs": [],
   "source": [
    "norm_log_table /= norm_log_table.var().mean()**0.5"
   ]
  },
  {
   "cell_type": "code",
   "execution_count": 132,
   "metadata": {},
   "outputs": [],
   "source": [
    "norm_log_table.columns = sequences\n",
    "norm_log_table[\"cancer\"] = np.array(6*[True] + 6*[False])"
   ]
  },
  {
   "cell_type": "code",
   "execution_count": 133,
   "metadata": {},
   "outputs": [],
   "source": [
    "norm_log_table.to_csv(\"../TransformedData/Duan2021.csv\", index=False)"
   ]
  },
  {
   "cell_type": "code",
   "execution_count": null,
   "metadata": {},
   "outputs": [],
   "source": []
  }
 ],
 "metadata": {
  "kernelspec": {
   "display_name": "Python 3 (ipykernel)",
   "language": "python",
   "name": "python3"
  },
  "language_info": {
   "codemirror_mode": {
    "name": "ipython",
    "version": 3
   },
   "file_extension": ".py",
   "mimetype": "text/x-python",
   "name": "python",
   "nbconvert_exporter": "python",
   "pygments_lexer": "ipython3",
   "version": "3.9.7"
  }
 },
 "nbformat": 4,
 "nbformat_minor": 4
}
