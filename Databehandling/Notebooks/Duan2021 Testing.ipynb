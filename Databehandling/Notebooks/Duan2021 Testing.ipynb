{
 "cells": [
  {
   "cell_type": "code",
   "execution_count": 1,
   "metadata": {
    "tags": []
   },
   "outputs": [],
   "source": [
    "%matplotlib inline\n",
    "import GEOparse\n",
    "import matplotlib.pyplot as plt\n",
    "import pandas as pd\n",
    "import numpy as np\n",
    "from sklearn import decomposition\n",
    "import matplotlib\n",
    "from matplotlib.backends.backend_pgf import FigureCanvasPgf\n",
    "matplotlib.backend_bases.register_backend('pdf', FigureCanvasPgf)\n",
    "\n",
    "geo = \"GSE171517\""
   ]
  },
  {
   "cell_type": "code",
   "execution_count": 2,
   "metadata": {},
   "outputs": [
    {
     "name": "stderr",
     "output_type": "stream",
     "text": [
      "27-Oct-2021 17:42:15 DEBUG utils - Directory ../Dataset/Duan2021 already exists. Skipping.\n",
      "27-Oct-2021 17:42:15 INFO GEOparse - File already exist: using local version.\n",
      "27-Oct-2021 17:42:15 INFO GEOparse - Parsing ../Dataset/Duan2021\\GSE171517_family.soft.gz: \n",
      "27-Oct-2021 17:42:15 DEBUG GEOparse - DATABASE: GeoMiame\n",
      "27-Oct-2021 17:42:15 DEBUG GEOparse - SERIES: GSE171517\n",
      "27-Oct-2021 17:42:15 DEBUG GEOparse - PLATFORM: GPL18058\n",
      "27-Oct-2021 17:42:15 DEBUG GEOparse - SAMPLE: GSM5226511\n",
      "27-Oct-2021 17:42:15 DEBUG GEOparse - SAMPLE: GSM5226512\n",
      "27-Oct-2021 17:42:15 DEBUG GEOparse - SAMPLE: GSM5226513\n",
      "27-Oct-2021 17:42:15 DEBUG GEOparse - SAMPLE: GSM5226514\n",
      "27-Oct-2021 17:42:16 DEBUG GEOparse - SAMPLE: GSM5226515\n",
      "27-Oct-2021 17:42:16 DEBUG GEOparse - SAMPLE: GSM5226516\n",
      "27-Oct-2021 17:42:16 DEBUG GEOparse - SAMPLE: GSM5226517\n",
      "27-Oct-2021 17:42:16 DEBUG GEOparse - SAMPLE: GSM5226518\n",
      "27-Oct-2021 17:42:16 DEBUG GEOparse - SAMPLE: GSM5226519\n",
      "27-Oct-2021 17:42:16 DEBUG GEOparse - SAMPLE: GSM5226520\n",
      "27-Oct-2021 17:42:16 DEBUG GEOparse - SAMPLE: GSM5226521\n",
      "27-Oct-2021 17:42:16 DEBUG GEOparse - SAMPLE: GSM5226522\n"
     ]
    }
   ],
   "source": [
    "data = GEOparse.get_GEO(geo=geo, destdir=\"../Dataset/Duan2021\")"
   ]
  },
  {
   "cell_type": "code",
   "execution_count": 4,
   "metadata": {},
   "outputs": [],
   "source": [
    "lookup_table = data.gpls[\"GPL18058\"].table"
   ]
  },
  {
   "cell_type": "code",
   "execution_count": 7,
   "metadata": {},
   "outputs": [
    {
     "data": {
      "text/html": [
       "<div>\n",
       "<style scoped>\n",
       "    .dataframe tbody tr th:only-of-type {\n",
       "        vertical-align: middle;\n",
       "    }\n",
       "\n",
       "    .dataframe tbody tr th {\n",
       "        vertical-align: top;\n",
       "    }\n",
       "\n",
       "    .dataframe thead th {\n",
       "        text-align: right;\n",
       "    }\n",
       "</style>\n",
       "<table border=\"1\" class=\"dataframe\">\n",
       "  <thead>\n",
       "    <tr style=\"text-align: right;\">\n",
       "      <th></th>\n",
       "      <th>ID</th>\n",
       "      <th>Human_miRNA</th>\n",
       "      <th>Human_miRBase</th>\n",
       "      <th>Mouse_miRNA</th>\n",
       "      <th>Mouse_miRBase</th>\n",
       "      <th>Rat_miRNA</th>\n",
       "      <th>Rat_miRBase</th>\n",
       "      <th>miRNA_ID</th>\n",
       "      <th>SPOT_ID</th>\n",
       "    </tr>\n",
       "  </thead>\n",
       "  <tbody>\n",
       "    <tr>\n",
       "      <th>3070</th>\n",
       "      <td>42700</td>\n",
       "      <td>hsa-miR-631</td>\n",
       "      <td>MIMAT0003300</td>\n",
       "      <td>NaN</td>\n",
       "      <td>NaN</td>\n",
       "      <td>NaN</td>\n",
       "      <td>NaN</td>\n",
       "      <td>hsa-miR-631</td>\n",
       "      <td>NaN</td>\n",
       "    </tr>\n",
       "  </tbody>\n",
       "</table>\n",
       "</div>"
      ],
      "text/plain": [
       "         ID  Human_miRNA Human_miRBase Mouse_miRNA Mouse_miRBase Rat_miRNA  \\\n",
       "3070  42700  hsa-miR-631  MIMAT0003300         NaN           NaN       NaN   \n",
       "\n",
       "     Rat_miRBase     miRNA_ID SPOT_ID  \n",
       "3070         NaN  hsa-miR-631     NaN  "
      ]
     },
     "execution_count": 7,
     "metadata": {},
     "output_type": "execute_result"
    }
   ],
   "source": [
    "lookup_table[lookup_table[\"Human_miRBase\"] == \"MIMAT0003300\"]"
   ]
  },
  {
   "cell_type": "code",
   "execution_count": 58,
   "metadata": {},
   "outputs": [
    {
     "data": {
      "text/plain": [
       "[VALUE    0.026926\n",
       " Name: 42700, dtype: float64,\n",
       " VALUE    0.001457\n",
       " Name: 42700, dtype: float64,\n",
       " VALUE    0.082211\n",
       " Name: 42700, dtype: float64,\n",
       " VALUE    0.031397\n",
       " Name: 42700, dtype: float64,\n",
       " VALUE   NaN\n",
       " Name: 42700, dtype: float64,\n",
       " VALUE    0.060398\n",
       " Name: 42700, dtype: float64,\n",
       " VALUE    0.081411\n",
       " Name: 42700, dtype: float64,\n",
       " VALUE    0.343711\n",
       " Name: 42700, dtype: float64,\n",
       " VALUE    0.185884\n",
       " Name: 42700, dtype: float64,\n",
       " VALUE    0.220117\n",
       " Name: 42700, dtype: float64,\n",
       " VALUE    0.126771\n",
       " Name: 42700, dtype: float64,\n",
       " VALUE    0.137128\n",
       " Name: 42700, dtype: float64]"
      ]
     },
     "execution_count": 58,
     "metadata": {},
     "output_type": "execute_result"
    }
   ],
   "source": [
    "[t.table.set_index(\"ID_REF\").loc[42700] for t in data.gsms.values()]"
   ]
  },
  {
   "cell_type": "code",
   "execution_count": 12,
   "metadata": {},
   "outputs": [
    {
     "data": {
      "text/plain": [
       "VALUE    0.026926\n",
       "Name: 42700, dtype: float64"
      ]
     },
     "execution_count": 12,
     "metadata": {},
     "output_type": "execute_result"
    }
   ],
   "source": [
    "data1.loc[42700]"
   ]
  },
  {
   "cell_type": "code",
   "execution_count": 52,
   "metadata": {},
   "outputs": [],
   "source": [
    "table = pd.concat([val.table.iloc[:,min(1,i):] for i, val in enumerate(data.gsms.values())], axis=1).transpose()"
   ]
  },
  {
   "cell_type": "code",
   "execution_count": 55,
   "metadata": {},
   "outputs": [
    {
     "data": {
      "text/html": [
       "<div>\n",
       "<style scoped>\n",
       "    .dataframe tbody tr th:only-of-type {\n",
       "        vertical-align: middle;\n",
       "    }\n",
       "\n",
       "    .dataframe tbody tr th {\n",
       "        vertical-align: top;\n",
       "    }\n",
       "\n",
       "    .dataframe thead th {\n",
       "        text-align: right;\n",
       "    }\n",
       "</style>\n",
       "<table border=\"1\" class=\"dataframe\">\n",
       "  <thead>\n",
       "    <tr style=\"text-align: right;\">\n",
       "      <th></th>\n",
       "      <th>0</th>\n",
       "      <th>1</th>\n",
       "      <th>2</th>\n",
       "      <th>3</th>\n",
       "      <th>4</th>\n",
       "      <th>5</th>\n",
       "      <th>6</th>\n",
       "      <th>7</th>\n",
       "      <th>8</th>\n",
       "      <th>9</th>\n",
       "      <th>...</th>\n",
       "      <th>3533</th>\n",
       "      <th>3534</th>\n",
       "      <th>3535</th>\n",
       "      <th>3536</th>\n",
       "      <th>3537</th>\n",
       "      <th>3538</th>\n",
       "      <th>3539</th>\n",
       "      <th>3540</th>\n",
       "      <th>3541</th>\n",
       "      <th>3542</th>\n",
       "    </tr>\n",
       "  </thead>\n",
       "  <tbody>\n",
       "    <tr>\n",
       "      <th>ID_REF</th>\n",
       "      <td>13138.000000</td>\n",
       "      <td>42638.000000</td>\n",
       "      <td>42888.000000</td>\n",
       "      <td>17519.000000</td>\n",
       "      <td>17278.000000</td>\n",
       "      <td>46507.000000</td>\n",
       "      <td>17928.000000</td>\n",
       "      <td>42826.000000</td>\n",
       "      <td>17537.000000</td>\n",
       "      <td>42722.000000</td>\n",
       "      <td>...</td>\n",
       "      <td>169021.000000</td>\n",
       "      <td>168774.0</td>\n",
       "      <td>169286.000000</td>\n",
       "      <td>168902.000000</td>\n",
       "      <td>168880.000000</td>\n",
       "      <td>169301.00000</td>\n",
       "      <td>169077.000000</td>\n",
       "      <td>168816.0</td>\n",
       "      <td>169280.0</td>\n",
       "      <td>168835.000000</td>\n",
       "    </tr>\n",
       "    <tr>\n",
       "      <th>VALUE</th>\n",
       "      <td>28.164547</td>\n",
       "      <td>0.064323</td>\n",
       "      <td>0.360509</td>\n",
       "      <td>0.047868</td>\n",
       "      <td>0.031414</td>\n",
       "      <td>0.107704</td>\n",
       "      <td>NaN</td>\n",
       "      <td>0.949888</td>\n",
       "      <td>0.080778</td>\n",
       "      <td>0.064323</td>\n",
       "      <td>...</td>\n",
       "      <td>0.038893</td>\n",
       "      <td>NaN</td>\n",
       "      <td>NaN</td>\n",
       "      <td>NaN</td>\n",
       "      <td>NaN</td>\n",
       "      <td>NaN</td>\n",
       "      <td>NaN</td>\n",
       "      <td>NaN</td>\n",
       "      <td>NaN</td>\n",
       "      <td>0.001496</td>\n",
       "    </tr>\n",
       "    <tr>\n",
       "      <th>VALUE</th>\n",
       "      <td>48.563729</td>\n",
       "      <td>0.034960</td>\n",
       "      <td>0.093227</td>\n",
       "      <td>NaN</td>\n",
       "      <td>NaN</td>\n",
       "      <td>0.796795</td>\n",
       "      <td>NaN</td>\n",
       "      <td>1.308084</td>\n",
       "      <td>NaN</td>\n",
       "      <td>NaN</td>\n",
       "      <td>...</td>\n",
       "      <td>NaN</td>\n",
       "      <td>NaN</td>\n",
       "      <td>NaN</td>\n",
       "      <td>NaN</td>\n",
       "      <td>NaN</td>\n",
       "      <td>NaN</td>\n",
       "      <td>NaN</td>\n",
       "      <td>NaN</td>\n",
       "      <td>NaN</td>\n",
       "      <td>NaN</td>\n",
       "    </tr>\n",
       "    <tr>\n",
       "      <th>VALUE</th>\n",
       "      <td>9.863926</td>\n",
       "      <td>0.114812</td>\n",
       "      <td>0.060950</td>\n",
       "      <td>NaN</td>\n",
       "      <td>NaN</td>\n",
       "      <td>0.133239</td>\n",
       "      <td>NaN</td>\n",
       "      <td>1.206237</td>\n",
       "      <td>0.082211</td>\n",
       "      <td>0.011339</td>\n",
       "      <td>...</td>\n",
       "      <td>0.109142</td>\n",
       "      <td>NaN</td>\n",
       "      <td>NaN</td>\n",
       "      <td>NaN</td>\n",
       "      <td>NaN</td>\n",
       "      <td>NaN</td>\n",
       "      <td>NaN</td>\n",
       "      <td>NaN</td>\n",
       "      <td>NaN</td>\n",
       "      <td>NaN</td>\n",
       "    </tr>\n",
       "    <tr>\n",
       "      <th>VALUE</th>\n",
       "      <td>91.649922</td>\n",
       "      <td>0.053375</td>\n",
       "      <td>0.067504</td>\n",
       "      <td>NaN</td>\n",
       "      <td>NaN</td>\n",
       "      <td>0.065934</td>\n",
       "      <td>NaN</td>\n",
       "      <td>1.043956</td>\n",
       "      <td>0.051805</td>\n",
       "      <td>0.040816</td>\n",
       "      <td>...</td>\n",
       "      <td>NaN</td>\n",
       "      <td>NaN</td>\n",
       "      <td>NaN</td>\n",
       "      <td>NaN</td>\n",
       "      <td>NaN</td>\n",
       "      <td>NaN</td>\n",
       "      <td>NaN</td>\n",
       "      <td>NaN</td>\n",
       "      <td>NaN</td>\n",
       "      <td>NaN</td>\n",
       "    </tr>\n",
       "    <tr>\n",
       "      <th>VALUE</th>\n",
       "      <td>118.200340</td>\n",
       "      <td>NaN</td>\n",
       "      <td>NaN</td>\n",
       "      <td>NaN</td>\n",
       "      <td>NaN</td>\n",
       "      <td>0.210526</td>\n",
       "      <td>NaN</td>\n",
       "      <td>1.920204</td>\n",
       "      <td>NaN</td>\n",
       "      <td>NaN</td>\n",
       "      <td>...</td>\n",
       "      <td>NaN</td>\n",
       "      <td>NaN</td>\n",
       "      <td>NaN</td>\n",
       "      <td>NaN</td>\n",
       "      <td>NaN</td>\n",
       "      <td>NaN</td>\n",
       "      <td>NaN</td>\n",
       "      <td>NaN</td>\n",
       "      <td>NaN</td>\n",
       "      <td>NaN</td>\n",
       "    </tr>\n",
       "    <tr>\n",
       "      <th>VALUE</th>\n",
       "      <td>26.656143</td>\n",
       "      <td>NaN</td>\n",
       "      <td>NaN</td>\n",
       "      <td>NaN</td>\n",
       "      <td>NaN</td>\n",
       "      <td>0.020590</td>\n",
       "      <td>NaN</td>\n",
       "      <td>0.997941</td>\n",
       "      <td>0.054907</td>\n",
       "      <td>0.012354</td>\n",
       "      <td>...</td>\n",
       "      <td>0.037062</td>\n",
       "      <td>NaN</td>\n",
       "      <td>NaN</td>\n",
       "      <td>NaN</td>\n",
       "      <td>NaN</td>\n",
       "      <td>NaN</td>\n",
       "      <td>NaN</td>\n",
       "      <td>NaN</td>\n",
       "      <td>NaN</td>\n",
       "      <td>NaN</td>\n",
       "    </tr>\n",
       "    <tr>\n",
       "      <th>VALUE</th>\n",
       "      <td>20.544098</td>\n",
       "      <td>0.065129</td>\n",
       "      <td>0.162822</td>\n",
       "      <td>NaN</td>\n",
       "      <td>NaN</td>\n",
       "      <td>0.028494</td>\n",
       "      <td>NaN</td>\n",
       "      <td>0.672999</td>\n",
       "      <td>0.100407</td>\n",
       "      <td>0.052917</td>\n",
       "      <td>...</td>\n",
       "      <td>0.075984</td>\n",
       "      <td>NaN</td>\n",
       "      <td>NaN</td>\n",
       "      <td>NaN</td>\n",
       "      <td>NaN</td>\n",
       "      <td>NaN</td>\n",
       "      <td>NaN</td>\n",
       "      <td>NaN</td>\n",
       "      <td>NaN</td>\n",
       "      <td>0.005427</td>\n",
       "    </tr>\n",
       "    <tr>\n",
       "      <th>VALUE</th>\n",
       "      <td>3.759651</td>\n",
       "      <td>0.170610</td>\n",
       "      <td>0.839352</td>\n",
       "      <td>0.004981</td>\n",
       "      <td>0.006227</td>\n",
       "      <td>0.230386</td>\n",
       "      <td>0.006227</td>\n",
       "      <td>2.073474</td>\n",
       "      <td>0.276463</td>\n",
       "      <td>0.022416</td>\n",
       "      <td>...</td>\n",
       "      <td>0.069738</td>\n",
       "      <td>NaN</td>\n",
       "      <td>NaN</td>\n",
       "      <td>0.014944</td>\n",
       "      <td>0.004981</td>\n",
       "      <td>NaN</td>\n",
       "      <td>0.002491</td>\n",
       "      <td>NaN</td>\n",
       "      <td>NaN</td>\n",
       "      <td>0.052304</td>\n",
       "    </tr>\n",
       "    <tr>\n",
       "      <th>VALUE</th>\n",
       "      <td>3.657582</td>\n",
       "      <td>0.360587</td>\n",
       "      <td>0.556254</td>\n",
       "      <td>0.005590</td>\n",
       "      <td>0.015374</td>\n",
       "      <td>0.381551</td>\n",
       "      <td>0.111810</td>\n",
       "      <td>1.327743</td>\n",
       "      <td>0.328442</td>\n",
       "      <td>0.048917</td>\n",
       "      <td>...</td>\n",
       "      <td>0.167715</td>\n",
       "      <td>NaN</td>\n",
       "      <td>NaN</td>\n",
       "      <td>0.012579</td>\n",
       "      <td>0.018169</td>\n",
       "      <td>0.00559</td>\n",
       "      <td>0.016771</td>\n",
       "      <td>NaN</td>\n",
       "      <td>NaN</td>\n",
       "      <td>0.064291</td>\n",
       "    </tr>\n",
       "    <tr>\n",
       "      <th>VALUE</th>\n",
       "      <td>6.068513</td>\n",
       "      <td>0.217201</td>\n",
       "      <td>0.648688</td>\n",
       "      <td>0.007289</td>\n",
       "      <td>0.026239</td>\n",
       "      <td>0.600583</td>\n",
       "      <td>0.384840</td>\n",
       "      <td>1.495627</td>\n",
       "      <td>0.523324</td>\n",
       "      <td>0.033528</td>\n",
       "      <td>...</td>\n",
       "      <td>0.142857</td>\n",
       "      <td>NaN</td>\n",
       "      <td>NaN</td>\n",
       "      <td>0.034985</td>\n",
       "      <td>0.005831</td>\n",
       "      <td>NaN</td>\n",
       "      <td>0.021866</td>\n",
       "      <td>NaN</td>\n",
       "      <td>NaN</td>\n",
       "      <td>0.048105</td>\n",
       "    </tr>\n",
       "    <tr>\n",
       "      <th>VALUE</th>\n",
       "      <td>11.917972</td>\n",
       "      <td>0.137211</td>\n",
       "      <td>0.887397</td>\n",
       "      <td>0.019389</td>\n",
       "      <td>0.028337</td>\n",
       "      <td>0.286353</td>\n",
       "      <td>0.053691</td>\n",
       "      <td>1.285608</td>\n",
       "      <td>0.307233</td>\n",
       "      <td>0.070097</td>\n",
       "      <td>...</td>\n",
       "      <td>0.099925</td>\n",
       "      <td>NaN</td>\n",
       "      <td>0.002983</td>\n",
       "      <td>0.022371</td>\n",
       "      <td>NaN</td>\n",
       "      <td>NaN</td>\n",
       "      <td>0.032811</td>\n",
       "      <td>NaN</td>\n",
       "      <td>NaN</td>\n",
       "      <td>0.010440</td>\n",
       "    </tr>\n",
       "    <tr>\n",
       "      <th>VALUE</th>\n",
       "      <td>9.637775</td>\n",
       "      <td>0.201811</td>\n",
       "      <td>0.892626</td>\n",
       "      <td>0.015524</td>\n",
       "      <td>0.018111</td>\n",
       "      <td>0.411384</td>\n",
       "      <td>0.138422</td>\n",
       "      <td>1.301423</td>\n",
       "      <td>0.460543</td>\n",
       "      <td>0.038810</td>\n",
       "      <td>...</td>\n",
       "      <td>0.091850</td>\n",
       "      <td>NaN</td>\n",
       "      <td>NaN</td>\n",
       "      <td>0.038810</td>\n",
       "      <td>0.006468</td>\n",
       "      <td>NaN</td>\n",
       "      <td>0.038810</td>\n",
       "      <td>NaN</td>\n",
       "      <td>NaN</td>\n",
       "      <td>0.037516</td>\n",
       "    </tr>\n",
       "  </tbody>\n",
       "</table>\n",
       "<p>13 rows × 3543 columns</p>\n",
       "</div>"
      ],
      "text/plain": [
       "                0             1             2             3             4     \\\n",
       "ID_REF  13138.000000  42638.000000  42888.000000  17519.000000  17278.000000   \n",
       "VALUE      28.164547      0.064323      0.360509      0.047868      0.031414   \n",
       "VALUE      48.563729      0.034960      0.093227           NaN           NaN   \n",
       "VALUE       9.863926      0.114812      0.060950           NaN           NaN   \n",
       "VALUE      91.649922      0.053375      0.067504           NaN           NaN   \n",
       "VALUE     118.200340           NaN           NaN           NaN           NaN   \n",
       "VALUE      26.656143           NaN           NaN           NaN           NaN   \n",
       "VALUE      20.544098      0.065129      0.162822           NaN           NaN   \n",
       "VALUE       3.759651      0.170610      0.839352      0.004981      0.006227   \n",
       "VALUE       3.657582      0.360587      0.556254      0.005590      0.015374   \n",
       "VALUE       6.068513      0.217201      0.648688      0.007289      0.026239   \n",
       "VALUE      11.917972      0.137211      0.887397      0.019389      0.028337   \n",
       "VALUE       9.637775      0.201811      0.892626      0.015524      0.018111   \n",
       "\n",
       "                5             6             7             8             9     \\\n",
       "ID_REF  46507.000000  17928.000000  42826.000000  17537.000000  42722.000000   \n",
       "VALUE       0.107704           NaN      0.949888      0.080778      0.064323   \n",
       "VALUE       0.796795           NaN      1.308084           NaN           NaN   \n",
       "VALUE       0.133239           NaN      1.206237      0.082211      0.011339   \n",
       "VALUE       0.065934           NaN      1.043956      0.051805      0.040816   \n",
       "VALUE       0.210526           NaN      1.920204           NaN           NaN   \n",
       "VALUE       0.020590           NaN      0.997941      0.054907      0.012354   \n",
       "VALUE       0.028494           NaN      0.672999      0.100407      0.052917   \n",
       "VALUE       0.230386      0.006227      2.073474      0.276463      0.022416   \n",
       "VALUE       0.381551      0.111810      1.327743      0.328442      0.048917   \n",
       "VALUE       0.600583      0.384840      1.495627      0.523324      0.033528   \n",
       "VALUE       0.286353      0.053691      1.285608      0.307233      0.070097   \n",
       "VALUE       0.411384      0.138422      1.301423      0.460543      0.038810   \n",
       "\n",
       "        ...           3533      3534           3535           3536  \\\n",
       "ID_REF  ...  169021.000000  168774.0  169286.000000  168902.000000   \n",
       "VALUE   ...       0.038893       NaN            NaN            NaN   \n",
       "VALUE   ...            NaN       NaN            NaN            NaN   \n",
       "VALUE   ...       0.109142       NaN            NaN            NaN   \n",
       "VALUE   ...            NaN       NaN            NaN            NaN   \n",
       "VALUE   ...            NaN       NaN            NaN            NaN   \n",
       "VALUE   ...       0.037062       NaN            NaN            NaN   \n",
       "VALUE   ...       0.075984       NaN            NaN            NaN   \n",
       "VALUE   ...       0.069738       NaN            NaN       0.014944   \n",
       "VALUE   ...       0.167715       NaN            NaN       0.012579   \n",
       "VALUE   ...       0.142857       NaN            NaN       0.034985   \n",
       "VALUE   ...       0.099925       NaN       0.002983       0.022371   \n",
       "VALUE   ...       0.091850       NaN            NaN       0.038810   \n",
       "\n",
       "                 3537          3538           3539      3540      3541  \\\n",
       "ID_REF  168880.000000  169301.00000  169077.000000  168816.0  169280.0   \n",
       "VALUE             NaN           NaN            NaN       NaN       NaN   \n",
       "VALUE             NaN           NaN            NaN       NaN       NaN   \n",
       "VALUE             NaN           NaN            NaN       NaN       NaN   \n",
       "VALUE             NaN           NaN            NaN       NaN       NaN   \n",
       "VALUE             NaN           NaN            NaN       NaN       NaN   \n",
       "VALUE             NaN           NaN            NaN       NaN       NaN   \n",
       "VALUE             NaN           NaN            NaN       NaN       NaN   \n",
       "VALUE        0.004981           NaN       0.002491       NaN       NaN   \n",
       "VALUE        0.018169       0.00559       0.016771       NaN       NaN   \n",
       "VALUE        0.005831           NaN       0.021866       NaN       NaN   \n",
       "VALUE             NaN           NaN       0.032811       NaN       NaN   \n",
       "VALUE        0.006468           NaN       0.038810       NaN       NaN   \n",
       "\n",
       "                 3542  \n",
       "ID_REF  168835.000000  \n",
       "VALUE        0.001496  \n",
       "VALUE             NaN  \n",
       "VALUE             NaN  \n",
       "VALUE             NaN  \n",
       "VALUE             NaN  \n",
       "VALUE             NaN  \n",
       "VALUE        0.005427  \n",
       "VALUE        0.052304  \n",
       "VALUE        0.064291  \n",
       "VALUE        0.048105  \n",
       "VALUE        0.010440  \n",
       "VALUE        0.037516  \n",
       "\n",
       "[13 rows x 3543 columns]"
      ]
     },
     "execution_count": 55,
     "metadata": {},
     "output_type": "execute_result"
    }
   ],
   "source": [
    "table"
   ]
  },
  {
   "cell_type": "code",
   "execution_count": 57,
   "metadata": {},
   "outputs": [
    {
     "data": {
      "text/plain": [
       "(array([ 0,  1,  2,  3,  4,  5,  6,  7,  8,  9, 10, 11, 12], dtype=int64),\n",
       " array([786, 174, 177, 179, 239, 415, 404, 472, 265, 148, 121,  99,  64],\n",
       "       dtype=int64))"
      ]
     },
     "execution_count": 57,
     "metadata": {},
     "output_type": "execute_result"
    }
   ],
   "source": [
    "np.unique(table.isna().sum(), return_counts=True)"
   ]
  },
  {
   "cell_type": "code",
   "execution_count": 14,
   "metadata": {},
   "outputs": [
    {
     "name": "stderr",
     "output_type": "stream",
     "text": [
      "C:\\Users\\OLEFRE~1\\AppData\\Local\\Temp/ipykernel_12756/1927661217.py:1: FutureWarning: In a future version of pandas all arguments of DataFrame.dropna will be keyword-only\n",
      "  table = table.dropna(1)\n"
     ]
    }
   ],
   "source": [
    "table = table.dropna(1)"
   ]
  },
  {
   "cell_type": "code",
   "execution_count": 15,
   "metadata": {},
   "outputs": [],
   "source": [
    "mirnas = table.iloc[0, :].transpose().astype(int)\n",
    "table = table.iloc[1:, :]"
   ]
  },
  {
   "cell_type": "code",
   "execution_count": 50,
   "metadata": {},
   "outputs": [
    {
     "data": {
      "text/plain": [
       "[13138, 46507, 42826, 46636, 11134, 17295, 42812, 42469, 27575, -1]"
      ]
     },
     "execution_count": 50,
     "metadata": {},
     "output_type": "execute_result"
    }
   ],
   "source": [
    "list(mirnas)[:10]"
   ]
  },
  {
   "cell_type": "code",
   "execution_count": 51,
   "metadata": {},
   "outputs": [
    {
     "data": {
      "text/plain": [
       "Int64Index([ 13138,  42638,  42888,  17519,  17278,  46507,  17928,  42826,\n",
       "             17537,  42722,\n",
       "            ...\n",
       "            169021, 168774, 169286, 168902, 168880, 169301, 169077, 168816,\n",
       "            169280, 168835],\n",
       "           dtype='int64', name='ID_REF', length=3543)"
      ]
     },
     "execution_count": 51,
     "metadata": {},
     "output_type": "execute_result"
    }
   ],
   "source": [
    "data1.index"
   ]
  },
  {
   "cell_type": "code",
   "execution_count": 16,
   "metadata": {},
   "outputs": [
    {
     "data": {
      "text/plain": [
       "0       31.557016\n",
       "5        0.272795\n",
       "7        1.298599\n",
       "11       1.140279\n",
       "12       0.104513\n",
       "          ...    \n",
       "3522     2.330647\n",
       "3524    21.434297\n",
       "3526     0.336214\n",
       "3527     0.244579\n",
       "3529    11.895344\n",
       "Length: 786, dtype: float64"
      ]
     },
     "execution_count": 16,
     "metadata": {},
     "output_type": "execute_result"
    }
   ],
   "source": [
    "np.mean(table)"
   ]
  },
  {
   "cell_type": "code",
   "execution_count": 17,
   "metadata": {
    "tags": []
   },
   "outputs": [],
   "source": [
    "def get_means_and_variances(table):\n",
    "    return np.mean(table), np.var(table, ddof=1)"
   ]
  },
  {
   "cell_type": "code",
   "execution_count": 18,
   "metadata": {
    "tags": []
   },
   "outputs": [],
   "source": [
    "def mean_variance_plot(table):\n",
    "    means, variances = get_means_and_variances(table)\n",
    "    plt.scatter(means, variances)\n",
    "    plt.xlabel(\"mean\")\n",
    "    plt.ylabel(\"variance\")\n",
    "    plt.plot()"
   ]
  },
  {
   "cell_type": "code",
   "execution_count": 19,
   "metadata": {},
   "outputs": [
    {
     "data": {
      "image/png": "[encoded data removed]",
      "text/plain": [
       "<Figure size 432x288 with 1 Axes>"
      ]
     },
     "metadata": {
      "needs_background": "light"
     },
     "output_type": "display_data"
    }
   ],
   "source": [
    "mean_variance_plot(table)"
   ]
  },
  {
   "cell_type": "markdown",
   "metadata": {},
   "source": [
    "### Trying log-transformation"
   ]
  },
  {
   "cell_type": "code",
   "execution_count": 20,
   "metadata": {},
   "outputs": [],
   "source": [
    "log_table = np.log2(table)"
   ]
  },
  {
   "cell_type": "code",
   "execution_count": 21,
   "metadata": {},
   "outputs": [
    {
     "data": {
      "image/png": "[encoded data removed]",
      "text/plain": [
       "<Figure size 432x288 with 1 Axes>"
      ]
     },
     "metadata": {
      "needs_background": "light"
     },
     "output_type": "display_data"
    }
   ],
   "source": [
    "mean_variance_plot(log_table)"
   ]
  },
  {
   "cell_type": "code",
   "execution_count": 22,
   "metadata": {
    "tags": []
   },
   "outputs": [],
   "source": [
    "norm_log_table = log_table - np.mean(log_table)"
   ]
  },
  {
   "cell_type": "code",
   "execution_count": 23,
   "metadata": {},
   "outputs": [],
   "source": [
    "norm_log_table /= np.sqrt(np.mean(np.var(norm_log_table, ddof=1)))"
   ]
  },
  {
   "cell_type": "code",
   "execution_count": 24,
   "metadata": {},
   "outputs": [
    {
     "data": {
      "text/plain": [
       "1.0"
      ]
     },
     "execution_count": 24,
     "metadata": {},
     "output_type": "execute_result"
    }
   ],
   "source": [
    "norm_log_table.var().mean()"
   ]
  },
  {
   "cell_type": "code",
   "execution_count": 25,
   "metadata": {},
   "outputs": [
    {
     "data": {
      "image/png": "[encoded data removed]",
      "text/plain": [
       "<Figure size 432x288 with 1 Axes>"
      ]
     },
     "metadata": {
      "needs_background": "light"
     },
     "output_type": "display_data"
    }
   ],
   "source": [
    "mean_variance_plot(norm_log_table)"
   ]
  },
  {
   "cell_type": "code",
   "execution_count": 26,
   "metadata": {
    "tags": []
   },
   "outputs": [],
   "source": [
    "pca = decomposition.PCA(n_components=2)"
   ]
  },
  {
   "cell_type": "code",
   "execution_count": 27,
   "metadata": {},
   "outputs": [
    {
     "data": {
      "text/plain": [
       "PCA(n_components=2)"
      ]
     },
     "execution_count": 27,
     "metadata": {},
     "output_type": "execute_result"
    }
   ],
   "source": [
    "pca.fit(norm_log_table)"
   ]
  },
  {
   "cell_type": "code",
   "execution_count": 28,
   "metadata": {
    "tags": []
   },
   "outputs": [],
   "source": [
    "components = pca.transform(norm_log_table)"
   ]
  },
  {
   "cell_type": "code",
   "execution_count": 29,
   "metadata": {},
   "outputs": [
    {
     "data": {
      "text/plain": [
       "array([[ -6.21440201, -17.3618018 ],\n",
       "       [-20.7505224 ,   5.76397303],\n",
       "       [-11.71988461,  17.60981366],\n",
       "       [-15.95587241, -10.92963902],\n",
       "       [-24.19338705, -12.6921618 ],\n",
       "       [-17.33620535,  11.37262106],\n",
       "       [-10.10962328,   5.3207337 ],\n",
       "       [ 15.02551961,  18.93246637],\n",
       "       [ 23.98893711,   8.79474481],\n",
       "       [ 27.1258914 ,   1.59510228],\n",
       "       [ 17.77063317, -18.32867776],\n",
       "       [ 22.36891583, -10.07717453]])"
      ]
     },
     "execution_count": 29,
     "metadata": {},
     "output_type": "execute_result"
    }
   ],
   "source": [
    "components"
   ]
  },
  {
   "cell_type": "markdown",
   "metadata": {},
   "source": [
    "### Exporting data"
   ]
  },
  {
   "cell_type": "code",
   "execution_count": null,
   "metadata": {},
   "outputs": [],
   "source": []
  },
  {
   "cell_type": "code",
   "execution_count": 31,
   "metadata": {},
   "outputs": [
    {
     "data": {
      "text/html": [
       "<div>\n",
       "<style scoped>\n",
       "    .dataframe tbody tr th:only-of-type {\n",
       "        vertical-align: middle;\n",
       "    }\n",
       "\n",
       "    .dataframe tbody tr th {\n",
       "        vertical-align: top;\n",
       "    }\n",
       "\n",
       "    .dataframe thead th {\n",
       "        text-align: right;\n",
       "    }\n",
       "</style>\n",
       "<table border=\"1\" class=\"dataframe\">\n",
       "  <thead>\n",
       "    <tr style=\"text-align: right;\">\n",
       "      <th></th>\n",
       "      <th>ID</th>\n",
       "      <th>Human_miRNA</th>\n",
       "      <th>Human_miRBase</th>\n",
       "      <th>Mouse_miRNA</th>\n",
       "      <th>Mouse_miRBase</th>\n",
       "      <th>Rat_miRNA</th>\n",
       "      <th>Rat_miRBase</th>\n",
       "      <th>miRNA_ID</th>\n",
       "      <th>SPOT_ID</th>\n",
       "    </tr>\n",
       "  </thead>\n",
       "  <tbody>\n",
       "    <tr>\n",
       "      <th>0</th>\n",
       "      <td>10138</td>\n",
       "      <td>hsa-miR-130a-3p</td>\n",
       "      <td>MIMAT0000425</td>\n",
       "      <td>mmu-miR-130a-3p</td>\n",
       "      <td>MIMAT0000141</td>\n",
       "      <td>rno-miR-130a</td>\n",
       "      <td>MIMAT0000836</td>\n",
       "      <td>hsa-miR-130a-3p</td>\n",
       "      <td>NaN</td>\n",
       "    </tr>\n",
       "    <tr>\n",
       "      <th>1</th>\n",
       "      <td>10306</td>\n",
       "      <td>hsa-miR-146b-5p</td>\n",
       "      <td>MIMAT0002809</td>\n",
       "      <td>mmu-miR-146b-5p</td>\n",
       "      <td>MIMAT0003475</td>\n",
       "      <td>rno-miR-146b</td>\n",
       "      <td>MIMAT0005595</td>\n",
       "      <td>hsa-miR-146b-5p</td>\n",
       "      <td>NaN</td>\n",
       "    </tr>\n",
       "    <tr>\n",
       "      <th>2</th>\n",
       "      <td>105441</td>\n",
       "      <td>hsa-miR-518c-3p</td>\n",
       "      <td>MIMAT0002848</td>\n",
       "      <td>NaN</td>\n",
       "      <td>NaN</td>\n",
       "      <td>NaN</td>\n",
       "      <td>NaN</td>\n",
       "      <td>hsa-miR-518c-3p</td>\n",
       "      <td>NaN</td>\n",
       "    </tr>\n",
       "    <tr>\n",
       "      <th>3</th>\n",
       "      <td>10899</td>\n",
       "      <td>spike_control_v1_j</td>\n",
       "      <td>NaN</td>\n",
       "      <td>spike_control_v1_j</td>\n",
       "      <td>NaN</td>\n",
       "      <td>spike_control_v1_j</td>\n",
       "      <td>NaN</td>\n",
       "      <td>NaN</td>\n",
       "      <td>spike_control_v1_j</td>\n",
       "    </tr>\n",
       "    <tr>\n",
       "      <th>4</th>\n",
       "      <td>10901</td>\n",
       "      <td>hsa_negative_control_6</td>\n",
       "      <td>NaN</td>\n",
       "      <td>hsa_negative_control_6</td>\n",
       "      <td>NaN</td>\n",
       "      <td>hsa_negative_control_6</td>\n",
       "      <td>NaN</td>\n",
       "      <td>NaN</td>\n",
       "      <td>hsa_negative_control_6</td>\n",
       "    </tr>\n",
       "  </tbody>\n",
       "</table>\n",
       "</div>"
      ],
      "text/plain": [
       "       ID             Human_miRNA Human_miRBase             Mouse_miRNA  \\\n",
       "0   10138         hsa-miR-130a-3p  MIMAT0000425         mmu-miR-130a-3p   \n",
       "1   10306         hsa-miR-146b-5p  MIMAT0002809         mmu-miR-146b-5p   \n",
       "2  105441         hsa-miR-518c-3p  MIMAT0002848                     NaN   \n",
       "3   10899      spike_control_v1_j           NaN      spike_control_v1_j   \n",
       "4   10901  hsa_negative_control_6           NaN  hsa_negative_control_6   \n",
       "\n",
       "  Mouse_miRBase               Rat_miRNA   Rat_miRBase         miRNA_ID  \\\n",
       "0  MIMAT0000141            rno-miR-130a  MIMAT0000836  hsa-miR-130a-3p   \n",
       "1  MIMAT0003475            rno-miR-146b  MIMAT0005595  hsa-miR-146b-5p   \n",
       "2           NaN                     NaN           NaN  hsa-miR-518c-3p   \n",
       "3           NaN      spike_control_v1_j           NaN              NaN   \n",
       "4           NaN  hsa_negative_control_6           NaN              NaN   \n",
       "\n",
       "                  SPOT_ID  \n",
       "0                     NaN  \n",
       "1                     NaN  \n",
       "2                     NaN  \n",
       "3      spike_control_v1_j  \n",
       "4  hsa_negative_control_6  "
      ]
     },
     "execution_count": 31,
     "metadata": {},
     "output_type": "execute_result"
    }
   ],
   "source": [
    "id_lookup = data.gpls[\"GPL18058\"].table\n",
    "id_lookup.head()"
   ]
  },
  {
   "cell_type": "code",
   "execution_count": 32,
   "metadata": {},
   "outputs": [],
   "source": [
    "id_lookup = id_lookup.set_index(\"ID\")"
   ]
  },
  {
   "cell_type": "code",
   "execution_count": 33,
   "metadata": {},
   "outputs": [
    {
     "data": {
      "text/html": [
       "<div>\n",
       "<style scoped>\n",
       "    .dataframe tbody tr th:only-of-type {\n",
       "        vertical-align: middle;\n",
       "    }\n",
       "\n",
       "    .dataframe tbody tr th {\n",
       "        vertical-align: top;\n",
       "    }\n",
       "\n",
       "    .dataframe thead th {\n",
       "        text-align: right;\n",
       "    }\n",
       "</style>\n",
       "<table border=\"1\" class=\"dataframe\">\n",
       "  <thead>\n",
       "    <tr style=\"text-align: right;\">\n",
       "      <th></th>\n",
       "      <th>Human_miRNA</th>\n",
       "      <th>Human_miRBase</th>\n",
       "      <th>Mouse_miRNA</th>\n",
       "      <th>Mouse_miRBase</th>\n",
       "      <th>Rat_miRNA</th>\n",
       "      <th>Rat_miRBase</th>\n",
       "      <th>miRNA_ID</th>\n",
       "      <th>SPOT_ID</th>\n",
       "    </tr>\n",
       "    <tr>\n",
       "      <th>ID</th>\n",
       "      <th></th>\n",
       "      <th></th>\n",
       "      <th></th>\n",
       "      <th></th>\n",
       "      <th></th>\n",
       "      <th></th>\n",
       "      <th></th>\n",
       "      <th></th>\n",
       "    </tr>\n",
       "  </thead>\n",
       "  <tbody>\n",
       "    <tr>\n",
       "      <th>13138</th>\n",
       "      <td>Hy3</td>\n",
       "      <td>NaN</td>\n",
       "      <td>Hy3</td>\n",
       "      <td>NaN</td>\n",
       "      <td>Hy3</td>\n",
       "      <td>NaN</td>\n",
       "      <td>NaN</td>\n",
       "      <td>Hy3</td>\n",
       "    </tr>\n",
       "    <tr>\n",
       "      <th>46507</th>\n",
       "      <td>hsa-miR-921</td>\n",
       "      <td>MIMAT0004971</td>\n",
       "      <td>NaN</td>\n",
       "      <td>NaN</td>\n",
       "      <td>NaN</td>\n",
       "      <td>NaN</td>\n",
       "      <td>hsa-miR-921</td>\n",
       "      <td>NaN</td>\n",
       "    </tr>\n",
       "    <tr>\n",
       "      <th>42826</th>\n",
       "      <td>NaN</td>\n",
       "      <td>NaN</td>\n",
       "      <td>mmu-miR-300-5p</td>\n",
       "      <td>MIMAT0004578</td>\n",
       "      <td>rno-miR-300-5p</td>\n",
       "      <td>MIMAT0004743</td>\n",
       "      <td>NaN</td>\n",
       "      <td>42826</td>\n",
       "    </tr>\n",
       "    <tr>\n",
       "      <th>46636</th>\n",
       "      <td>NaN</td>\n",
       "      <td>NaN</td>\n",
       "      <td>mcmv-miR-M23-1-5p</td>\n",
       "      <td>MIMAT0005542</td>\n",
       "      <td>NaN</td>\n",
       "      <td>NaN</td>\n",
       "      <td>NaN</td>\n",
       "      <td>46636</td>\n",
       "    </tr>\n",
       "    <tr>\n",
       "      <th>11134</th>\n",
       "      <td>hsa-miR-502-5p</td>\n",
       "      <td>MIMAT0002873</td>\n",
       "      <td>NaN</td>\n",
       "      <td>NaN</td>\n",
       "      <td>NaN</td>\n",
       "      <td>NaN</td>\n",
       "      <td>hsa-miR-502-5p</td>\n",
       "      <td>NaN</td>\n",
       "    </tr>\n",
       "    <tr>\n",
       "      <th>17295</th>\n",
       "      <td>NaN</td>\n",
       "      <td>NaN</td>\n",
       "      <td>NaN</td>\n",
       "      <td>NaN</td>\n",
       "      <td>NaN</td>\n",
       "      <td>NaN</td>\n",
       "      <td>NaN</td>\n",
       "      <td>17295</td>\n",
       "    </tr>\n",
       "    <tr>\n",
       "      <th>42812</th>\n",
       "      <td>hsa-miR-508-5p</td>\n",
       "      <td>MIMAT0004778</td>\n",
       "      <td>NaN</td>\n",
       "      <td>NaN</td>\n",
       "      <td>NaN</td>\n",
       "      <td>NaN</td>\n",
       "      <td>hsa-miR-508-5p</td>\n",
       "      <td>NaN</td>\n",
       "    </tr>\n",
       "    <tr>\n",
       "      <th>42469</th>\n",
       "      <td>NaN</td>\n",
       "      <td>NaN</td>\n",
       "      <td>mmu-miR-181a-2-3p</td>\n",
       "      <td>MIMAT0005443</td>\n",
       "      <td>NaN</td>\n",
       "      <td>NaN</td>\n",
       "      <td>NaN</td>\n",
       "      <td>42469</td>\n",
       "    </tr>\n",
       "    <tr>\n",
       "      <th>27575</th>\n",
       "      <td>NaN</td>\n",
       "      <td>NaN</td>\n",
       "      <td>mmu-miR-711</td>\n",
       "      <td>MIMAT0003501</td>\n",
       "      <td>NaN</td>\n",
       "      <td>NaN</td>\n",
       "      <td>NaN</td>\n",
       "      <td>27575</td>\n",
       "    </tr>\n",
       "    <tr>\n",
       "      <th>-1</th>\n",
       "      <td>NaN</td>\n",
       "      <td>NaN</td>\n",
       "      <td>NaN</td>\n",
       "      <td>NaN</td>\n",
       "      <td>NaN</td>\n",
       "      <td>NaN</td>\n",
       "      <td>NaN</td>\n",
       "      <td>-1</td>\n",
       "    </tr>\n",
       "  </tbody>\n",
       "</table>\n",
       "</div>"
      ],
      "text/plain": [
       "           Human_miRNA Human_miRBase        Mouse_miRNA Mouse_miRBase  \\\n",
       "ID                                                                      \n",
       " 13138             Hy3           NaN                Hy3           NaN   \n",
       " 46507     hsa-miR-921  MIMAT0004971                NaN           NaN   \n",
       " 42826             NaN           NaN     mmu-miR-300-5p  MIMAT0004578   \n",
       " 46636             NaN           NaN  mcmv-miR-M23-1-5p  MIMAT0005542   \n",
       " 11134  hsa-miR-502-5p  MIMAT0002873                NaN           NaN   \n",
       " 17295             NaN           NaN                NaN           NaN   \n",
       " 42812  hsa-miR-508-5p  MIMAT0004778                NaN           NaN   \n",
       " 42469             NaN           NaN  mmu-miR-181a-2-3p  MIMAT0005443   \n",
       " 27575             NaN           NaN        mmu-miR-711  MIMAT0003501   \n",
       "-1                 NaN           NaN                NaN           NaN   \n",
       "\n",
       "             Rat_miRNA   Rat_miRBase        miRNA_ID SPOT_ID  \n",
       "ID                                                            \n",
       " 13138             Hy3           NaN             NaN     Hy3  \n",
       " 46507             NaN           NaN     hsa-miR-921     NaN  \n",
       " 42826  rno-miR-300-5p  MIMAT0004743             NaN   42826  \n",
       " 46636             NaN           NaN             NaN   46636  \n",
       " 11134             NaN           NaN  hsa-miR-502-5p     NaN  \n",
       " 17295             NaN           NaN             NaN   17295  \n",
       " 42812             NaN           NaN  hsa-miR-508-5p     NaN  \n",
       " 42469             NaN           NaN             NaN   42469  \n",
       " 27575             NaN           NaN             NaN   27575  \n",
       "-1                 NaN           NaN             NaN      -1  "
      ]
     },
     "execution_count": 33,
     "metadata": {},
     "output_type": "execute_result"
    }
   ],
   "source": [
    "id_lookup.loc[mirnas[:10]]"
   ]
  },
  {
   "cell_type": "code",
   "execution_count": 42,
   "metadata": {},
   "outputs": [
    {
     "data": {
      "text/plain": [
       "False"
      ]
     },
     "execution_count": 42,
     "metadata": {},
     "output_type": "execute_result"
    }
   ],
   "source": [
    "42700 in list(mirnas)"
   ]
  },
  {
   "cell_type": "code",
   "execution_count": 34,
   "metadata": {},
   "outputs": [],
   "source": [
    "mirbase_ids = id_lookup.loc[mirnas][\"Human_miRBase\"]"
   ]
  },
  {
   "cell_type": "code",
   "execution_count": 40,
   "metadata": {},
   "outputs": [
    {
     "data": {
      "text/plain": [
       "False"
      ]
     },
     "execution_count": 40,
     "metadata": {},
     "output_type": "execute_result"
    }
   ],
   "source": [
    "\"MIMAT0003300\" in list(mirbase_ids)"
   ]
  },
  {
   "cell_type": "code",
   "execution_count": 120,
   "metadata": {},
   "outputs": [],
   "source": [
    "mask = np.logical_not(mirbase_ids.isna()).to_numpy()"
   ]
  },
  {
   "cell_type": "code",
   "execution_count": 121,
   "metadata": {},
   "outputs": [
    {
     "data": {
      "text/plain": [
       "array([False,  True, False, False,  True, False,  True, False, False,\n",
       "       False])"
      ]
     },
     "execution_count": 121,
     "metadata": {},
     "output_type": "execute_result"
    }
   ],
   "source": [
    "mask[:10]"
   ]
  },
  {
   "cell_type": "code",
   "execution_count": 122,
   "metadata": {},
   "outputs": [],
   "source": [
    "mirbase_ids = mirbase_ids[mask]"
   ]
  },
  {
   "cell_type": "code",
   "execution_count": 123,
   "metadata": {},
   "outputs": [],
   "source": [
    "norm_log_table = norm_log_table.loc[:, mask]"
   ]
  },
  {
   "cell_type": "code",
   "execution_count": 124,
   "metadata": {},
   "outputs": [],
   "source": [
    "from Scripts import converters"
   ]
  },
  {
   "cell_type": "code",
   "execution_count": 125,
   "metadata": {},
   "outputs": [],
   "source": [
    "sequences = converters.mirbase_to_seq(mirbase_ids, ignore_not_found=True)"
   ]
  },
  {
   "cell_type": "code",
   "execution_count": 126,
   "metadata": {},
   "outputs": [
    {
     "data": {
      "text/plain": [
       "2"
      ]
     },
     "execution_count": 126,
     "metadata": {},
     "output_type": "execute_result"
    }
   ],
   "source": [
    "sequences.count(None)"
   ]
  },
  {
   "cell_type": "code",
   "execution_count": 127,
   "metadata": {},
   "outputs": [],
   "source": [
    "sequences = np.array(sequences)"
   ]
  },
  {
   "cell_type": "code",
   "execution_count": 128,
   "metadata": {},
   "outputs": [],
   "source": [
    "mask = sequences != None"
   ]
  },
  {
   "cell_type": "code",
   "execution_count": 129,
   "metadata": {},
   "outputs": [],
   "source": [
    "sequences = sequences[mask]\n",
    "norm_log_table = norm_log_table.loc[:, mask]"
   ]
  },
  {
   "cell_type": "code",
   "execution_count": 131,
   "metadata": {},
   "outputs": [],
   "source": [
    "norm_log_table /= norm_log_table.var().mean()**0.5"
   ]
  },
  {
   "cell_type": "code",
   "execution_count": 132,
   "metadata": {},
   "outputs": [],
   "source": [
    "norm_log_table.columns = sequences\n",
    "norm_log_table[\"cancer\"] = np.array(6*[True] + 6*[False])"
   ]
  },
  {
   "cell_type": "code",
   "execution_count": 133,
   "metadata": {},
   "outputs": [],
   "source": [
    "norm_log_table.to_csv(\"../TransformedData/Duan2021.csv\", index=False)"
   ]
  },
  {
   "cell_type": "code",
   "execution_count": null,
   "metadata": {},
   "outputs": [],
   "source": []
  }
 ],
 "metadata": {
  "kernelspec": {
   "display_name": "Python 3 (ipykernel)",
   "language": "python",
   "name": "python3"
  },
  "language_info": {
   "codemirror_mode": {
    "name": "ipython",
    "version": 3
   },
   "file_extension": ".py",
   "mimetype": "text/x-python",
   "name": "python",
   "nbconvert_exporter": "python",
   "pygments_lexer": "ipython3",
   "version": "3.9.7"
  }
 },
 "nbformat": 4,
 "nbformat_minor": 4
}
