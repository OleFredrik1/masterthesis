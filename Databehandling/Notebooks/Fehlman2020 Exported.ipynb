{
 "cells": [
  {
   "cell_type": "code",
   "execution_count": 55,
   "metadata": {
    "tags": []
   },
   "outputs": [],
   "source": [
    "%matplotlib inline\n",
    "import GEOparse\n",
    "import matplotlib.pyplot as plt\n",
    "import pandas as pd\n",
    "import numpy as np\n",
    "from sklearn import decomposition\n",
    "from sklearn.feature_selection import f_classif\n",
    "from sklearn.linear_model import LinearRegression\n",
    "from sklearn.metrics import explained_variance_score, plot_roc_curve\n",
    "from sklego.linear_model import LowessRegression\n",
    "import statsmodels.api as sm\n",
    "from scipy.stats import ttest_ind, skewtest, boxcox\n",
    "from xgboost import XGBClassifier\n",
    "from sklearn.model_selection import train_test_split"
   ]
  },
  {
   "cell_type": "markdown",
   "metadata": {},
   "source": [
    "### Reading in from external source"
   ]
  },
  {
   "cell_type": "code",
   "execution_count": 56,
   "metadata": {},
   "outputs": [],
   "source": [
    "table = pd.read_csv(\"../Dataset/Fehlman2020/expression_matrix.csv\", sep=\"\\t\")\n",
    "#table = pd.read_csv(\"../Dataset/Wozniak2015/GSE64591_non-normalized.txt\", sep=\"\\t\", header=5)"
   ]
  },
  {
   "cell_type": "code",
   "execution_count": 57,
   "metadata": {},
   "outputs": [
    {
     "data": {
      "text/html": [
       "<div>\n",
       "<style scoped>\n",
       "    .dataframe tbody tr th:only-of-type {\n",
       "        vertical-align: middle;\n",
       "    }\n",
       "\n",
       "    .dataframe tbody tr th {\n",
       "        vertical-align: top;\n",
       "    }\n",
       "\n",
       "    .dataframe thead th {\n",
       "        text-align: right;\n",
       "    }\n",
       "</style>\n",
       "<table border=\"1\" class=\"dataframe\">\n",
       "  <thead>\n",
       "    <tr style=\"text-align: right;\">\n",
       "      <th></th>\n",
       "      <th>miRNA</th>\n",
       "      <th>Healthy control 1</th>\n",
       "      <th>Healthy control 2</th>\n",
       "      <th>Healthy control 3</th>\n",
       "      <th>Healthy control 4</th>\n",
       "      <th>Healthy control 5</th>\n",
       "      <th>Healthy control 6</th>\n",
       "      <th>Healthy control 7</th>\n",
       "      <th>Healthy control 8</th>\n",
       "      <th>Healthy control 9</th>\n",
       "      <th>...</th>\n",
       "      <th>OD 874</th>\n",
       "      <th>OD 875</th>\n",
       "      <th>OD 876</th>\n",
       "      <th>OD 877</th>\n",
       "      <th>OD 878</th>\n",
       "      <th>OD 879</th>\n",
       "      <th>OD 880</th>\n",
       "      <th>OD 881</th>\n",
       "      <th>OD 882</th>\n",
       "      <th>OD 883</th>\n",
       "    </tr>\n",
       "  </thead>\n",
       "  <tbody>\n",
       "    <tr>\n",
       "      <th>0</th>\n",
       "      <td>hsa-let-7a-3p</td>\n",
       "      <td>5.988790</td>\n",
       "      <td>7.380677</td>\n",
       "      <td>7.672810</td>\n",
       "      <td>6.613076</td>\n",
       "      <td>11.527153</td>\n",
       "      <td>6.802500</td>\n",
       "      <td>5.880256</td>\n",
       "      <td>11.543763</td>\n",
       "      <td>7.154083</td>\n",
       "      <td>...</td>\n",
       "      <td>8.581974</td>\n",
       "      <td>6.405327</td>\n",
       "      <td>9.592039</td>\n",
       "      <td>8.458054</td>\n",
       "      <td>5.231669</td>\n",
       "      <td>9.144063</td>\n",
       "      <td>5.153392</td>\n",
       "      <td>11.459711</td>\n",
       "      <td>20.250156</td>\n",
       "      <td>15.120563</td>\n",
       "    </tr>\n",
       "    <tr>\n",
       "      <th>1</th>\n",
       "      <td>hsa-let-7a-5p</td>\n",
       "      <td>2439.692620</td>\n",
       "      <td>20989.575296</td>\n",
       "      <td>31645.820205</td>\n",
       "      <td>39785.067842</td>\n",
       "      <td>31230.353897</td>\n",
       "      <td>38051.171659</td>\n",
       "      <td>958.540489</td>\n",
       "      <td>26414.154148</td>\n",
       "      <td>16586.484823</td>\n",
       "      <td>...</td>\n",
       "      <td>31887.613521</td>\n",
       "      <td>10253.447955</td>\n",
       "      <td>68895.120418</td>\n",
       "      <td>26718.589860</td>\n",
       "      <td>124.858642</td>\n",
       "      <td>63857.761619</td>\n",
       "      <td>856.267323</td>\n",
       "      <td>27600.463068</td>\n",
       "      <td>19488.570664</td>\n",
       "      <td>22283.226524</td>\n",
       "    </tr>\n",
       "    <tr>\n",
       "      <th>2</th>\n",
       "      <td>hsa-let-7b-3p</td>\n",
       "      <td>11.780320</td>\n",
       "      <td>15.448649</td>\n",
       "      <td>13.338528</td>\n",
       "      <td>13.885756</td>\n",
       "      <td>19.288142</td>\n",
       "      <td>15.084712</td>\n",
       "      <td>7.185237</td>\n",
       "      <td>16.824500</td>\n",
       "      <td>16.196026</td>\n",
       "      <td>...</td>\n",
       "      <td>21.361416</td>\n",
       "      <td>12.543551</td>\n",
       "      <td>20.264019</td>\n",
       "      <td>14.556385</td>\n",
       "      <td>6.220702</td>\n",
       "      <td>24.859740</td>\n",
       "      <td>7.389210</td>\n",
       "      <td>18.877957</td>\n",
       "      <td>37.245982</td>\n",
       "      <td>22.464665</td>\n",
       "    </tr>\n",
       "    <tr>\n",
       "      <th>3</th>\n",
       "      <td>hsa-let-7b-5p</td>\n",
       "      <td>1040.209620</td>\n",
       "      <td>18504.673331</td>\n",
       "      <td>7955.195696</td>\n",
       "      <td>24977.608432</td>\n",
       "      <td>39978.077062</td>\n",
       "      <td>37595.019787</td>\n",
       "      <td>1359.028489</td>\n",
       "      <td>4014.889159</td>\n",
       "      <td>16931.607811</td>\n",
       "      <td>...</td>\n",
       "      <td>4849.241869</td>\n",
       "      <td>1257.587019</td>\n",
       "      <td>10516.197060</td>\n",
       "      <td>10810.224198</td>\n",
       "      <td>479.614342</td>\n",
       "      <td>8749.304276</td>\n",
       "      <td>2202.739323</td>\n",
       "      <td>4600.033750</td>\n",
       "      <td>5339.333966</td>\n",
       "      <td>4008.972424</td>\n",
       "    </tr>\n",
       "    <tr>\n",
       "      <th>4</th>\n",
       "      <td>hsa-let-7c-3p</td>\n",
       "      <td>NaN</td>\n",
       "      <td>6.671031</td>\n",
       "      <td>6.848874</td>\n",
       "      <td>5.930795</td>\n",
       "      <td>10.633752</td>\n",
       "      <td>6.246456</td>\n",
       "      <td>5.475492</td>\n",
       "      <td>9.762535</td>\n",
       "      <td>7.198736</td>\n",
       "      <td>...</td>\n",
       "      <td>9.122395</td>\n",
       "      <td>6.682408</td>\n",
       "      <td>10.109299</td>\n",
       "      <td>7.948756</td>\n",
       "      <td>5.192131</td>\n",
       "      <td>8.088978</td>\n",
       "      <td>4.853054</td>\n",
       "      <td>10.748838</td>\n",
       "      <td>19.576433</td>\n",
       "      <td>13.555511</td>\n",
       "    </tr>\n",
       "    <tr>\n",
       "      <th>...</th>\n",
       "      <td>...</td>\n",
       "      <td>...</td>\n",
       "      <td>...</td>\n",
       "      <td>...</td>\n",
       "      <td>...</td>\n",
       "      <td>...</td>\n",
       "      <td>...</td>\n",
       "      <td>...</td>\n",
       "      <td>...</td>\n",
       "      <td>...</td>\n",
       "      <td>...</td>\n",
       "      <td>...</td>\n",
       "      <td>...</td>\n",
       "      <td>...</td>\n",
       "      <td>...</td>\n",
       "      <td>...</td>\n",
       "      <td>...</td>\n",
       "      <td>...</td>\n",
       "      <td>...</td>\n",
       "      <td>...</td>\n",
       "      <td>...</td>\n",
       "    </tr>\n",
       "    <tr>\n",
       "      <th>2544</th>\n",
       "      <td>hsa-miR-98-5p</td>\n",
       "      <td>20.964430</td>\n",
       "      <td>84.032030</td>\n",
       "      <td>159.892600</td>\n",
       "      <td>208.987800</td>\n",
       "      <td>125.215600</td>\n",
       "      <td>188.473300</td>\n",
       "      <td>7.963369</td>\n",
       "      <td>135.097300</td>\n",
       "      <td>70.247470</td>\n",
       "      <td>...</td>\n",
       "      <td>155.673200</td>\n",
       "      <td>30.870220</td>\n",
       "      <td>315.734100</td>\n",
       "      <td>165.893100</td>\n",
       "      <td>5.210187</td>\n",
       "      <td>494.706700</td>\n",
       "      <td>6.954913</td>\n",
       "      <td>138.359400</td>\n",
       "      <td>129.100000</td>\n",
       "      <td>97.391580</td>\n",
       "    </tr>\n",
       "    <tr>\n",
       "      <th>2545</th>\n",
       "      <td>hsa-miR-99a-3p</td>\n",
       "      <td>5.403362</td>\n",
       "      <td>5.327982</td>\n",
       "      <td>6.421957</td>\n",
       "      <td>5.693892</td>\n",
       "      <td>8.883525</td>\n",
       "      <td>5.658731</td>\n",
       "      <td>5.238846</td>\n",
       "      <td>9.544847</td>\n",
       "      <td>5.510658</td>\n",
       "      <td>...</td>\n",
       "      <td>7.606117</td>\n",
       "      <td>6.243903</td>\n",
       "      <td>9.437917</td>\n",
       "      <td>8.580856</td>\n",
       "      <td>4.516762</td>\n",
       "      <td>7.153301</td>\n",
       "      <td>4.612040</td>\n",
       "      <td>10.001480</td>\n",
       "      <td>17.708110</td>\n",
       "      <td>13.154730</td>\n",
       "    </tr>\n",
       "    <tr>\n",
       "      <th>2546</th>\n",
       "      <td>hsa-miR-99a-5p</td>\n",
       "      <td>13.697740</td>\n",
       "      <td>213.873700</td>\n",
       "      <td>184.569600</td>\n",
       "      <td>65.718150</td>\n",
       "      <td>140.656100</td>\n",
       "      <td>316.963400</td>\n",
       "      <td>8.551879</td>\n",
       "      <td>229.411500</td>\n",
       "      <td>83.380180</td>\n",
       "      <td>...</td>\n",
       "      <td>176.617300</td>\n",
       "      <td>13.073290</td>\n",
       "      <td>126.437400</td>\n",
       "      <td>84.271230</td>\n",
       "      <td>6.452502</td>\n",
       "      <td>176.668100</td>\n",
       "      <td>6.973993</td>\n",
       "      <td>64.588090</td>\n",
       "      <td>124.573200</td>\n",
       "      <td>180.569200</td>\n",
       "    </tr>\n",
       "    <tr>\n",
       "      <th>2547</th>\n",
       "      <td>hsa-miR-99b-3p</td>\n",
       "      <td>5.110449</td>\n",
       "      <td>5.773773</td>\n",
       "      <td>6.529618</td>\n",
       "      <td>6.206826</td>\n",
       "      <td>8.768461</td>\n",
       "      <td>6.298098</td>\n",
       "      <td>5.377624</td>\n",
       "      <td>11.095780</td>\n",
       "      <td>6.618033</td>\n",
       "      <td>...</td>\n",
       "      <td>8.079693</td>\n",
       "      <td>6.130816</td>\n",
       "      <td>8.947658</td>\n",
       "      <td>7.733689</td>\n",
       "      <td>5.346861</td>\n",
       "      <td>7.124403</td>\n",
       "      <td>4.610744</td>\n",
       "      <td>9.381164</td>\n",
       "      <td>17.945740</td>\n",
       "      <td>12.749490</td>\n",
       "    </tr>\n",
       "    <tr>\n",
       "      <th>2548</th>\n",
       "      <td>hsa-miR-99b-5p</td>\n",
       "      <td>11.077200</td>\n",
       "      <td>111.663100</td>\n",
       "      <td>197.377500</td>\n",
       "      <td>78.274060</td>\n",
       "      <td>103.701900</td>\n",
       "      <td>111.142000</td>\n",
       "      <td>8.635969</td>\n",
       "      <td>160.243100</td>\n",
       "      <td>68.589430</td>\n",
       "      <td>...</td>\n",
       "      <td>67.373750</td>\n",
       "      <td>28.384700</td>\n",
       "      <td>138.880500</td>\n",
       "      <td>41.484160</td>\n",
       "      <td>6.308142</td>\n",
       "      <td>136.889100</td>\n",
       "      <td>7.319033</td>\n",
       "      <td>67.766800</td>\n",
       "      <td>162.596200</td>\n",
       "      <td>160.133300</td>\n",
       "    </tr>\n",
       "  </tbody>\n",
       "</table>\n",
       "<p>2549 rows × 3047 columns</p>\n",
       "</div>"
      ],
      "text/plain": [
       "               miRNA  Healthy control 1  Healthy control 2  Healthy control 3  \\\n",
       "0      hsa-let-7a-3p           5.988790           7.380677           7.672810   \n",
       "1      hsa-let-7a-5p        2439.692620       20989.575296       31645.820205   \n",
       "2      hsa-let-7b-3p          11.780320          15.448649          13.338528   \n",
       "3      hsa-let-7b-5p        1040.209620       18504.673331        7955.195696   \n",
       "4      hsa-let-7c-3p                NaN           6.671031           6.848874   \n",
       "...              ...                ...                ...                ...   \n",
       "2544   hsa-miR-98-5p          20.964430          84.032030         159.892600   \n",
       "2545  hsa-miR-99a-3p           5.403362           5.327982           6.421957   \n",
       "2546  hsa-miR-99a-5p          13.697740         213.873700         184.569600   \n",
       "2547  hsa-miR-99b-3p           5.110449           5.773773           6.529618   \n",
       "2548  hsa-miR-99b-5p          11.077200         111.663100         197.377500   \n",
       "\n",
       "      Healthy control 4  Healthy control 5  Healthy control 6  \\\n",
       "0              6.613076          11.527153           6.802500   \n",
       "1          39785.067842       31230.353897       38051.171659   \n",
       "2             13.885756          19.288142          15.084712   \n",
       "3          24977.608432       39978.077062       37595.019787   \n",
       "4              5.930795          10.633752           6.246456   \n",
       "...                 ...                ...                ...   \n",
       "2544         208.987800         125.215600         188.473300   \n",
       "2545           5.693892           8.883525           5.658731   \n",
       "2546          65.718150         140.656100         316.963400   \n",
       "2547           6.206826           8.768461           6.298098   \n",
       "2548          78.274060         103.701900         111.142000   \n",
       "\n",
       "      Healthy control 7  Healthy control 8  Healthy control 9  ...  \\\n",
       "0              5.880256          11.543763           7.154083  ...   \n",
       "1            958.540489       26414.154148       16586.484823  ...   \n",
       "2              7.185237          16.824500          16.196026  ...   \n",
       "3           1359.028489        4014.889159       16931.607811  ...   \n",
       "4              5.475492           9.762535           7.198736  ...   \n",
       "...                 ...                ...                ...  ...   \n",
       "2544           7.963369         135.097300          70.247470  ...   \n",
       "2545           5.238846           9.544847           5.510658  ...   \n",
       "2546           8.551879         229.411500          83.380180  ...   \n",
       "2547           5.377624          11.095780           6.618033  ...   \n",
       "2548           8.635969         160.243100          68.589430  ...   \n",
       "\n",
       "            OD 874        OD 875        OD 876        OD 877      OD 878  \\\n",
       "0         8.581974      6.405327      9.592039      8.458054    5.231669   \n",
       "1     31887.613521  10253.447955  68895.120418  26718.589860  124.858642   \n",
       "2        21.361416     12.543551     20.264019     14.556385    6.220702   \n",
       "3      4849.241869   1257.587019  10516.197060  10810.224198  479.614342   \n",
       "4         9.122395      6.682408     10.109299      7.948756    5.192131   \n",
       "...            ...           ...           ...           ...         ...   \n",
       "2544    155.673200     30.870220    315.734100    165.893100    5.210187   \n",
       "2545      7.606117      6.243903      9.437917      8.580856    4.516762   \n",
       "2546    176.617300     13.073290    126.437400     84.271230    6.452502   \n",
       "2547      8.079693      6.130816      8.947658      7.733689    5.346861   \n",
       "2548     67.373750     28.384700    138.880500     41.484160    6.308142   \n",
       "\n",
       "            OD 879       OD 880        OD 881        OD 882        OD 883  \n",
       "0         9.144063     5.153392     11.459711     20.250156     15.120563  \n",
       "1     63857.761619   856.267323  27600.463068  19488.570664  22283.226524  \n",
       "2        24.859740     7.389210     18.877957     37.245982     22.464665  \n",
       "3      8749.304276  2202.739323   4600.033750   5339.333966   4008.972424  \n",
       "4         8.088978     4.853054     10.748838     19.576433     13.555511  \n",
       "...            ...          ...           ...           ...           ...  \n",
       "2544    494.706700     6.954913    138.359400    129.100000     97.391580  \n",
       "2545      7.153301     4.612040     10.001480     17.708110     13.154730  \n",
       "2546    176.668100     6.973993     64.588090    124.573200    180.569200  \n",
       "2547      7.124403     4.610744      9.381164     17.945740     12.749490  \n",
       "2548    136.889100     7.319033     67.766800    162.596200    160.133300  \n",
       "\n",
       "[2549 rows x 3047 columns]"
      ]
     },
     "execution_count": 57,
     "metadata": {},
     "output_type": "execute_result"
    }
   ],
   "source": [
    "table"
   ]
  },
  {
   "cell_type": "markdown",
   "metadata": {},
   "source": [
    "### Get controls"
   ]
  },
  {
   "cell_type": "code",
   "execution_count": 58,
   "metadata": {},
   "outputs": [],
   "source": [
    "sick = np.array([\"LCa\" in t for t in list(table)[1:]])\n",
    "controls = 1 - sick"
   ]
  },
  {
   "cell_type": "code",
   "execution_count": 59,
   "metadata": {},
   "outputs": [
    {
     "data": {
      "text/plain": [
       "606"
      ]
     },
     "execution_count": 59,
     "metadata": {},
     "output_type": "execute_result"
    }
   ],
   "source": [
    "sum(sick)"
   ]
  },
  {
   "cell_type": "markdown",
   "metadata": {},
   "source": [
    "### Drop NAN"
   ]
  },
  {
   "cell_type": "code",
   "execution_count": 60,
   "metadata": {},
   "outputs": [
    {
     "name": "stderr",
     "output_type": "stream",
     "text": [
      "C:\\Users\\OLEFRE~1\\AppData\\Local\\Temp/ipykernel_6412/338023607.py:1: FutureWarning: In a future version of pandas all arguments of DataFrame.dropna will be keyword-only\n",
      "  table = table.dropna(0)\n"
     ]
    }
   ],
   "source": [
    "table = table.dropna(0)"
   ]
  },
  {
   "cell_type": "markdown",
   "metadata": {},
   "source": [
    "### T-test"
   ]
  },
  {
   "cell_type": "code",
   "execution_count": 61,
   "metadata": {},
   "outputs": [],
   "source": [
    "X = table.iloc[:, 1:].transpose()"
   ]
  },
  {
   "cell_type": "code",
   "execution_count": 62,
   "metadata": {},
   "outputs": [
    {
     "data": {
      "text/html": [
       "<div>\n",
       "<style scoped>\n",
       "    .dataframe tbody tr th:only-of-type {\n",
       "        vertical-align: middle;\n",
       "    }\n",
       "\n",
       "    .dataframe tbody tr th {\n",
       "        vertical-align: top;\n",
       "    }\n",
       "\n",
       "    .dataframe thead th {\n",
       "        text-align: right;\n",
       "    }\n",
       "</style>\n",
       "<table border=\"1\" class=\"dataframe\">\n",
       "  <thead>\n",
       "    <tr style=\"text-align: right;\">\n",
       "      <th></th>\n",
       "      <th>0</th>\n",
       "      <th>1</th>\n",
       "      <th>2</th>\n",
       "      <th>3</th>\n",
       "      <th>5</th>\n",
       "      <th>6</th>\n",
       "      <th>7</th>\n",
       "      <th>8</th>\n",
       "      <th>9</th>\n",
       "      <th>10</th>\n",
       "      <th>...</th>\n",
       "      <th>2536</th>\n",
       "      <th>2537</th>\n",
       "      <th>2538</th>\n",
       "      <th>2541</th>\n",
       "      <th>2542</th>\n",
       "      <th>2544</th>\n",
       "      <th>2545</th>\n",
       "      <th>2546</th>\n",
       "      <th>2547</th>\n",
       "      <th>2548</th>\n",
       "    </tr>\n",
       "  </thead>\n",
       "  <tbody>\n",
       "    <tr>\n",
       "      <th>Healthy control 1</th>\n",
       "      <td>5.988790</td>\n",
       "      <td>2439.692620</td>\n",
       "      <td>11.780320</td>\n",
       "      <td>1040.209620</td>\n",
       "      <td>194.282820</td>\n",
       "      <td>7.189860</td>\n",
       "      <td>766.731620</td>\n",
       "      <td>5.351587</td>\n",
       "      <td>8.520220</td>\n",
       "      <td>12.028410</td>\n",
       "      <td>...</td>\n",
       "      <td>4.573345</td>\n",
       "      <td>5.137256</td>\n",
       "      <td>5.491173</td>\n",
       "      <td>4.746277</td>\n",
       "      <td>60.57162</td>\n",
       "      <td>20.964430</td>\n",
       "      <td>5.403362</td>\n",
       "      <td>13.697740</td>\n",
       "      <td>5.110449</td>\n",
       "      <td>11.077200</td>\n",
       "    </tr>\n",
       "    <tr>\n",
       "      <th>Healthy control 2</th>\n",
       "      <td>7.380677</td>\n",
       "      <td>20989.575296</td>\n",
       "      <td>15.448649</td>\n",
       "      <td>18504.673331</td>\n",
       "      <td>3965.491812</td>\n",
       "      <td>14.408822</td>\n",
       "      <td>5312.466200</td>\n",
       "      <td>6.295542</td>\n",
       "      <td>21.514407</td>\n",
       "      <td>13.892107</td>\n",
       "      <td>...</td>\n",
       "      <td>5.204015</td>\n",
       "      <td>5.192455</td>\n",
       "      <td>5.732409</td>\n",
       "      <td>5.220955</td>\n",
       "      <td>191.81740</td>\n",
       "      <td>84.032030</td>\n",
       "      <td>5.327982</td>\n",
       "      <td>213.873700</td>\n",
       "      <td>5.773773</td>\n",
       "      <td>111.663100</td>\n",
       "    </tr>\n",
       "    <tr>\n",
       "      <th>Healthy control 3</th>\n",
       "      <td>7.672810</td>\n",
       "      <td>31645.820205</td>\n",
       "      <td>13.338528</td>\n",
       "      <td>7955.195696</td>\n",
       "      <td>2217.527520</td>\n",
       "      <td>20.839338</td>\n",
       "      <td>7063.847958</td>\n",
       "      <td>6.827632</td>\n",
       "      <td>25.900714</td>\n",
       "      <td>13.863076</td>\n",
       "      <td>...</td>\n",
       "      <td>6.479215</td>\n",
       "      <td>6.616299</td>\n",
       "      <td>6.557615</td>\n",
       "      <td>5.990099</td>\n",
       "      <td>417.67460</td>\n",
       "      <td>159.892600</td>\n",
       "      <td>6.421957</td>\n",
       "      <td>184.569600</td>\n",
       "      <td>6.529618</td>\n",
       "      <td>197.377500</td>\n",
       "    </tr>\n",
       "    <tr>\n",
       "      <th>Healthy control 4</th>\n",
       "      <td>6.613076</td>\n",
       "      <td>39785.067842</td>\n",
       "      <td>13.885756</td>\n",
       "      <td>24977.608432</td>\n",
       "      <td>5927.803928</td>\n",
       "      <td>8.536264</td>\n",
       "      <td>11272.834600</td>\n",
       "      <td>6.348113</td>\n",
       "      <td>28.759241</td>\n",
       "      <td>11.372788</td>\n",
       "      <td>...</td>\n",
       "      <td>5.746677</td>\n",
       "      <td>5.548189</td>\n",
       "      <td>6.290292</td>\n",
       "      <td>5.307264</td>\n",
       "      <td>1573.82700</td>\n",
       "      <td>208.987800</td>\n",
       "      <td>5.693892</td>\n",
       "      <td>65.718150</td>\n",
       "      <td>6.206826</td>\n",
       "      <td>78.274060</td>\n",
       "    </tr>\n",
       "    <tr>\n",
       "      <th>Healthy control 5</th>\n",
       "      <td>11.527153</td>\n",
       "      <td>31230.353897</td>\n",
       "      <td>19.288142</td>\n",
       "      <td>39978.077062</td>\n",
       "      <td>9297.550922</td>\n",
       "      <td>17.881494</td>\n",
       "      <td>8031.057737</td>\n",
       "      <td>10.243077</td>\n",
       "      <td>28.621188</td>\n",
       "      <td>17.654802</td>\n",
       "      <td>...</td>\n",
       "      <td>9.177522</td>\n",
       "      <td>9.468003</td>\n",
       "      <td>9.567642</td>\n",
       "      <td>8.611114</td>\n",
       "      <td>452.85390</td>\n",
       "      <td>125.215600</td>\n",
       "      <td>8.883525</td>\n",
       "      <td>140.656100</td>\n",
       "      <td>8.768461</td>\n",
       "      <td>103.701900</td>\n",
       "    </tr>\n",
       "    <tr>\n",
       "      <th>...</th>\n",
       "      <td>...</td>\n",
       "      <td>...</td>\n",
       "      <td>...</td>\n",
       "      <td>...</td>\n",
       "      <td>...</td>\n",
       "      <td>...</td>\n",
       "      <td>...</td>\n",
       "      <td>...</td>\n",
       "      <td>...</td>\n",
       "      <td>...</td>\n",
       "      <td>...</td>\n",
       "      <td>...</td>\n",
       "      <td>...</td>\n",
       "      <td>...</td>\n",
       "      <td>...</td>\n",
       "      <td>...</td>\n",
       "      <td>...</td>\n",
       "      <td>...</td>\n",
       "      <td>...</td>\n",
       "      <td>...</td>\n",
       "      <td>...</td>\n",
       "    </tr>\n",
       "    <tr>\n",
       "      <th>OD 879</th>\n",
       "      <td>9.144063</td>\n",
       "      <td>63857.761619</td>\n",
       "      <td>24.859740</td>\n",
       "      <td>8749.304276</td>\n",
       "      <td>2909.559981</td>\n",
       "      <td>28.578137</td>\n",
       "      <td>20097.402512</td>\n",
       "      <td>7.490324</td>\n",
       "      <td>48.978989</td>\n",
       "      <td>21.122499</td>\n",
       "      <td>...</td>\n",
       "      <td>7.140392</td>\n",
       "      <td>6.615213</td>\n",
       "      <td>8.695841</td>\n",
       "      <td>6.951983</td>\n",
       "      <td>2131.15500</td>\n",
       "      <td>494.706700</td>\n",
       "      <td>7.153301</td>\n",
       "      <td>176.668100</td>\n",
       "      <td>7.124403</td>\n",
       "      <td>136.889100</td>\n",
       "    </tr>\n",
       "    <tr>\n",
       "      <th>OD 880</th>\n",
       "      <td>5.153392</td>\n",
       "      <td>856.267323</td>\n",
       "      <td>7.389210</td>\n",
       "      <td>2202.739323</td>\n",
       "      <td>250.299623</td>\n",
       "      <td>5.376270</td>\n",
       "      <td>269.119423</td>\n",
       "      <td>4.968522</td>\n",
       "      <td>5.996783</td>\n",
       "      <td>7.609608</td>\n",
       "      <td>...</td>\n",
       "      <td>4.310842</td>\n",
       "      <td>4.612252</td>\n",
       "      <td>4.396836</td>\n",
       "      <td>4.096209</td>\n",
       "      <td>12.14961</td>\n",
       "      <td>6.954913</td>\n",
       "      <td>4.612040</td>\n",
       "      <td>6.973993</td>\n",
       "      <td>4.610744</td>\n",
       "      <td>7.319033</td>\n",
       "    </tr>\n",
       "    <tr>\n",
       "      <th>OD 881</th>\n",
       "      <td>11.459711</td>\n",
       "      <td>27600.463068</td>\n",
       "      <td>18.877957</td>\n",
       "      <td>4600.033750</td>\n",
       "      <td>894.023748</td>\n",
       "      <td>19.264314</td>\n",
       "      <td>7342.882355</td>\n",
       "      <td>9.876033</td>\n",
       "      <td>20.532105</td>\n",
       "      <td>16.780401</td>\n",
       "      <td>...</td>\n",
       "      <td>9.455028</td>\n",
       "      <td>9.821029</td>\n",
       "      <td>9.606293</td>\n",
       "      <td>9.087831</td>\n",
       "      <td>1274.89100</td>\n",
       "      <td>138.359400</td>\n",
       "      <td>10.001480</td>\n",
       "      <td>64.588090</td>\n",
       "      <td>9.381164</td>\n",
       "      <td>67.766800</td>\n",
       "    </tr>\n",
       "    <tr>\n",
       "      <th>OD 882</th>\n",
       "      <td>20.250156</td>\n",
       "      <td>19488.570664</td>\n",
       "      <td>37.245982</td>\n",
       "      <td>5339.333966</td>\n",
       "      <td>1166.722235</td>\n",
       "      <td>26.898383</td>\n",
       "      <td>4405.036611</td>\n",
       "      <td>17.743496</td>\n",
       "      <td>44.263706</td>\n",
       "      <td>35.855775</td>\n",
       "      <td>...</td>\n",
       "      <td>18.200280</td>\n",
       "      <td>19.668460</td>\n",
       "      <td>19.277460</td>\n",
       "      <td>16.587790</td>\n",
       "      <td>938.91320</td>\n",
       "      <td>129.100000</td>\n",
       "      <td>17.708110</td>\n",
       "      <td>124.573200</td>\n",
       "      <td>17.945740</td>\n",
       "      <td>162.596200</td>\n",
       "    </tr>\n",
       "    <tr>\n",
       "      <th>OD 883</th>\n",
       "      <td>15.120563</td>\n",
       "      <td>22283.226524</td>\n",
       "      <td>22.464665</td>\n",
       "      <td>4008.972424</td>\n",
       "      <td>626.328078</td>\n",
       "      <td>27.210473</td>\n",
       "      <td>5546.123823</td>\n",
       "      <td>13.147709</td>\n",
       "      <td>50.319452</td>\n",
       "      <td>20.823255</td>\n",
       "      <td>...</td>\n",
       "      <td>12.744850</td>\n",
       "      <td>13.504740</td>\n",
       "      <td>13.523000</td>\n",
       "      <td>12.477010</td>\n",
       "      <td>537.14860</td>\n",
       "      <td>97.391580</td>\n",
       "      <td>13.154730</td>\n",
       "      <td>180.569200</td>\n",
       "      <td>12.749490</td>\n",
       "      <td>160.133300</td>\n",
       "    </tr>\n",
       "  </tbody>\n",
       "</table>\n",
       "<p>3046 rows × 1183 columns</p>\n",
       "</div>"
      ],
      "text/plain": [
       "                        0             1          2             3     \\\n",
       "Healthy control 1   5.988790   2439.692620  11.780320   1040.209620   \n",
       "Healthy control 2   7.380677  20989.575296  15.448649  18504.673331   \n",
       "Healthy control 3   7.672810  31645.820205  13.338528   7955.195696   \n",
       "Healthy control 4   6.613076  39785.067842  13.885756  24977.608432   \n",
       "Healthy control 5  11.527153  31230.353897  19.288142  39978.077062   \n",
       "...                      ...           ...        ...           ...   \n",
       "OD 879              9.144063  63857.761619  24.859740   8749.304276   \n",
       "OD 880              5.153392    856.267323   7.389210   2202.739323   \n",
       "OD 881             11.459711  27600.463068  18.877957   4600.033750   \n",
       "OD 882             20.250156  19488.570664  37.245982   5339.333966   \n",
       "OD 883             15.120563  22283.226524  22.464665   4008.972424   \n",
       "\n",
       "                          5          6             7          8          9     \\\n",
       "Healthy control 1   194.282820   7.189860    766.731620   5.351587   8.520220   \n",
       "Healthy control 2  3965.491812  14.408822   5312.466200   6.295542  21.514407   \n",
       "Healthy control 3  2217.527520  20.839338   7063.847958   6.827632  25.900714   \n",
       "Healthy control 4  5927.803928   8.536264  11272.834600   6.348113  28.759241   \n",
       "Healthy control 5  9297.550922  17.881494   8031.057737  10.243077  28.621188   \n",
       "...                        ...        ...           ...        ...        ...   \n",
       "OD 879             2909.559981  28.578137  20097.402512   7.490324  48.978989   \n",
       "OD 880              250.299623   5.376270    269.119423   4.968522   5.996783   \n",
       "OD 881              894.023748  19.264314   7342.882355   9.876033  20.532105   \n",
       "OD 882             1166.722235  26.898383   4405.036611  17.743496  44.263706   \n",
       "OD 883              626.328078  27.210473   5546.123823  13.147709  50.319452   \n",
       "\n",
       "                        10    ...       2536       2537       2538       2541  \\\n",
       "Healthy control 1  12.028410  ...   4.573345   5.137256   5.491173   4.746277   \n",
       "Healthy control 2  13.892107  ...   5.204015   5.192455   5.732409   5.220955   \n",
       "Healthy control 3  13.863076  ...   6.479215   6.616299   6.557615   5.990099   \n",
       "Healthy control 4  11.372788  ...   5.746677   5.548189   6.290292   5.307264   \n",
       "Healthy control 5  17.654802  ...   9.177522   9.468003   9.567642   8.611114   \n",
       "...                      ...  ...        ...        ...        ...        ...   \n",
       "OD 879             21.122499  ...   7.140392   6.615213   8.695841   6.951983   \n",
       "OD 880              7.609608  ...   4.310842   4.612252   4.396836   4.096209   \n",
       "OD 881             16.780401  ...   9.455028   9.821029   9.606293   9.087831   \n",
       "OD 882             35.855775  ...  18.200280  19.668460  19.277460  16.587790   \n",
       "OD 883             20.823255  ...  12.744850  13.504740  13.523000  12.477010   \n",
       "\n",
       "                         2542        2544       2545        2546       2547  \\\n",
       "Healthy control 1    60.57162   20.964430   5.403362   13.697740   5.110449   \n",
       "Healthy control 2   191.81740   84.032030   5.327982  213.873700   5.773773   \n",
       "Healthy control 3   417.67460  159.892600   6.421957  184.569600   6.529618   \n",
       "Healthy control 4  1573.82700  208.987800   5.693892   65.718150   6.206826   \n",
       "Healthy control 5   452.85390  125.215600   8.883525  140.656100   8.768461   \n",
       "...                       ...         ...        ...         ...        ...   \n",
       "OD 879             2131.15500  494.706700   7.153301  176.668100   7.124403   \n",
       "OD 880               12.14961    6.954913   4.612040    6.973993   4.610744   \n",
       "OD 881             1274.89100  138.359400  10.001480   64.588090   9.381164   \n",
       "OD 882              938.91320  129.100000  17.708110  124.573200  17.945740   \n",
       "OD 883              537.14860   97.391580  13.154730  180.569200  12.749490   \n",
       "\n",
       "                         2548  \n",
       "Healthy control 1   11.077200  \n",
       "Healthy control 2  111.663100  \n",
       "Healthy control 3  197.377500  \n",
       "Healthy control 4   78.274060  \n",
       "Healthy control 5  103.701900  \n",
       "...                       ...  \n",
       "OD 879             136.889100  \n",
       "OD 880               7.319033  \n",
       "OD 881              67.766800  \n",
       "OD 882             162.596200  \n",
       "OD 883             160.133300  \n",
       "\n",
       "[3046 rows x 1183 columns]"
      ]
     },
     "execution_count": 62,
     "metadata": {},
     "output_type": "execute_result"
    }
   ],
   "source": [
    "X"
   ]
  },
  {
   "cell_type": "code",
   "execution_count": 63,
   "metadata": {},
   "outputs": [],
   "source": [
    "X_healthy, X_cancer = X[controls == 1], X[sick == 1]"
   ]
  },
  {
   "cell_type": "code",
   "execution_count": 64,
   "metadata": {},
   "outputs": [],
   "source": [
    "results = ttest_ind(X_healthy, X_cancer).pvalue"
   ]
  },
  {
   "cell_type": "code",
   "execution_count": 65,
   "metadata": {},
   "outputs": [],
   "source": [
    "lowest, pvalues = np.argsort(results)[:5], np.sort(results)[:5]"
   ]
  },
  {
   "cell_type": "code",
   "execution_count": 66,
   "metadata": {},
   "outputs": [
    {
     "data": {
      "text/plain": [
       "(343      hsa-miR-197-3p\n",
       " 808     hsa-miR-374c-5p\n",
       " 806     hsa-miR-374b-5p\n",
       " 1788        hsa-miR-575\n",
       " 1977     hsa-miR-660-5p\n",
       " Name: miRNA, dtype: object,\n",
       " array([1.00274365e-41, 2.17979603e-39, 2.24938929e-39, 2.43941446e-35,\n",
       "        2.72115728e-33]))"
      ]
     },
     "execution_count": 66,
     "metadata": {},
     "output_type": "execute_result"
    }
   ],
   "source": [
    "table.iloc[lowest, 0], pvalues"
   ]
  },
  {
   "cell_type": "markdown",
   "metadata": {},
   "source": [
    "### F-test"
   ]
  },
  {
   "cell_type": "code",
   "execution_count": 67,
   "metadata": {},
   "outputs": [],
   "source": [
    "t3 = table.iloc[:, 1:].transpose()"
   ]
  },
  {
   "cell_type": "code",
   "execution_count": 68,
   "metadata": {},
   "outputs": [],
   "source": [
    "f, p = f_classif(t3, sick)"
   ]
  },
  {
   "cell_type": "markdown",
   "metadata": {},
   "source": [
    "### ANOVA"
   ]
  },
  {
   "cell_type": "code",
   "execution_count": 69,
   "metadata": {},
   "outputs": [
    {
     "data": {
      "text/html": [
       "<div>\n",
       "<style scoped>\n",
       "    .dataframe tbody tr th:only-of-type {\n",
       "        vertical-align: middle;\n",
       "    }\n",
       "\n",
       "    .dataframe tbody tr th {\n",
       "        vertical-align: top;\n",
       "    }\n",
       "\n",
       "    .dataframe thead th {\n",
       "        text-align: right;\n",
       "    }\n",
       "</style>\n",
       "<table border=\"1\" class=\"dataframe\">\n",
       "  <thead>\n",
       "    <tr style=\"text-align: right;\">\n",
       "      <th></th>\n",
       "      <th>0</th>\n",
       "      <th>1</th>\n",
       "      <th>2</th>\n",
       "      <th>3</th>\n",
       "      <th>5</th>\n",
       "      <th>6</th>\n",
       "      <th>7</th>\n",
       "      <th>8</th>\n",
       "      <th>9</th>\n",
       "      <th>10</th>\n",
       "      <th>...</th>\n",
       "      <th>2536</th>\n",
       "      <th>2537</th>\n",
       "      <th>2538</th>\n",
       "      <th>2541</th>\n",
       "      <th>2542</th>\n",
       "      <th>2544</th>\n",
       "      <th>2545</th>\n",
       "      <th>2546</th>\n",
       "      <th>2547</th>\n",
       "      <th>2548</th>\n",
       "    </tr>\n",
       "  </thead>\n",
       "  <tbody>\n",
       "    <tr>\n",
       "      <th>Healthy control 1</th>\n",
       "      <td>5.988790</td>\n",
       "      <td>2439.692620</td>\n",
       "      <td>11.780320</td>\n",
       "      <td>1040.209620</td>\n",
       "      <td>194.282820</td>\n",
       "      <td>7.189860</td>\n",
       "      <td>766.731620</td>\n",
       "      <td>5.351587</td>\n",
       "      <td>8.520220</td>\n",
       "      <td>12.028410</td>\n",
       "      <td>...</td>\n",
       "      <td>4.573345</td>\n",
       "      <td>5.137256</td>\n",
       "      <td>5.491173</td>\n",
       "      <td>4.746277</td>\n",
       "      <td>60.57162</td>\n",
       "      <td>20.964430</td>\n",
       "      <td>5.403362</td>\n",
       "      <td>13.697740</td>\n",
       "      <td>5.110449</td>\n",
       "      <td>11.077200</td>\n",
       "    </tr>\n",
       "    <tr>\n",
       "      <th>Healthy control 2</th>\n",
       "      <td>7.380677</td>\n",
       "      <td>20989.575296</td>\n",
       "      <td>15.448649</td>\n",
       "      <td>18504.673331</td>\n",
       "      <td>3965.491812</td>\n",
       "      <td>14.408822</td>\n",
       "      <td>5312.466200</td>\n",
       "      <td>6.295542</td>\n",
       "      <td>21.514407</td>\n",
       "      <td>13.892107</td>\n",
       "      <td>...</td>\n",
       "      <td>5.204015</td>\n",
       "      <td>5.192455</td>\n",
       "      <td>5.732409</td>\n",
       "      <td>5.220955</td>\n",
       "      <td>191.81740</td>\n",
       "      <td>84.032030</td>\n",
       "      <td>5.327982</td>\n",
       "      <td>213.873700</td>\n",
       "      <td>5.773773</td>\n",
       "      <td>111.663100</td>\n",
       "    </tr>\n",
       "    <tr>\n",
       "      <th>Healthy control 3</th>\n",
       "      <td>7.672810</td>\n",
       "      <td>31645.820205</td>\n",
       "      <td>13.338528</td>\n",
       "      <td>7955.195696</td>\n",
       "      <td>2217.527520</td>\n",
       "      <td>20.839338</td>\n",
       "      <td>7063.847958</td>\n",
       "      <td>6.827632</td>\n",
       "      <td>25.900714</td>\n",
       "      <td>13.863076</td>\n",
       "      <td>...</td>\n",
       "      <td>6.479215</td>\n",
       "      <td>6.616299</td>\n",
       "      <td>6.557615</td>\n",
       "      <td>5.990099</td>\n",
       "      <td>417.67460</td>\n",
       "      <td>159.892600</td>\n",
       "      <td>6.421957</td>\n",
       "      <td>184.569600</td>\n",
       "      <td>6.529618</td>\n",
       "      <td>197.377500</td>\n",
       "    </tr>\n",
       "    <tr>\n",
       "      <th>Healthy control 4</th>\n",
       "      <td>6.613076</td>\n",
       "      <td>39785.067842</td>\n",
       "      <td>13.885756</td>\n",
       "      <td>24977.608432</td>\n",
       "      <td>5927.803928</td>\n",
       "      <td>8.536264</td>\n",
       "      <td>11272.834600</td>\n",
       "      <td>6.348113</td>\n",
       "      <td>28.759241</td>\n",
       "      <td>11.372788</td>\n",
       "      <td>...</td>\n",
       "      <td>5.746677</td>\n",
       "      <td>5.548189</td>\n",
       "      <td>6.290292</td>\n",
       "      <td>5.307264</td>\n",
       "      <td>1573.82700</td>\n",
       "      <td>208.987800</td>\n",
       "      <td>5.693892</td>\n",
       "      <td>65.718150</td>\n",
       "      <td>6.206826</td>\n",
       "      <td>78.274060</td>\n",
       "    </tr>\n",
       "    <tr>\n",
       "      <th>Healthy control 5</th>\n",
       "      <td>11.527153</td>\n",
       "      <td>31230.353897</td>\n",
       "      <td>19.288142</td>\n",
       "      <td>39978.077062</td>\n",
       "      <td>9297.550922</td>\n",
       "      <td>17.881494</td>\n",
       "      <td>8031.057737</td>\n",
       "      <td>10.243077</td>\n",
       "      <td>28.621188</td>\n",
       "      <td>17.654802</td>\n",
       "      <td>...</td>\n",
       "      <td>9.177522</td>\n",
       "      <td>9.468003</td>\n",
       "      <td>9.567642</td>\n",
       "      <td>8.611114</td>\n",
       "      <td>452.85390</td>\n",
       "      <td>125.215600</td>\n",
       "      <td>8.883525</td>\n",
       "      <td>140.656100</td>\n",
       "      <td>8.768461</td>\n",
       "      <td>103.701900</td>\n",
       "    </tr>\n",
       "    <tr>\n",
       "      <th>...</th>\n",
       "      <td>...</td>\n",
       "      <td>...</td>\n",
       "      <td>...</td>\n",
       "      <td>...</td>\n",
       "      <td>...</td>\n",
       "      <td>...</td>\n",
       "      <td>...</td>\n",
       "      <td>...</td>\n",
       "      <td>...</td>\n",
       "      <td>...</td>\n",
       "      <td>...</td>\n",
       "      <td>...</td>\n",
       "      <td>...</td>\n",
       "      <td>...</td>\n",
       "      <td>...</td>\n",
       "      <td>...</td>\n",
       "      <td>...</td>\n",
       "      <td>...</td>\n",
       "      <td>...</td>\n",
       "      <td>...</td>\n",
       "      <td>...</td>\n",
       "    </tr>\n",
       "    <tr>\n",
       "      <th>OD 879</th>\n",
       "      <td>9.144063</td>\n",
       "      <td>63857.761619</td>\n",
       "      <td>24.859740</td>\n",
       "      <td>8749.304276</td>\n",
       "      <td>2909.559981</td>\n",
       "      <td>28.578137</td>\n",
       "      <td>20097.402512</td>\n",
       "      <td>7.490324</td>\n",
       "      <td>48.978989</td>\n",
       "      <td>21.122499</td>\n",
       "      <td>...</td>\n",
       "      <td>7.140392</td>\n",
       "      <td>6.615213</td>\n",
       "      <td>8.695841</td>\n",
       "      <td>6.951983</td>\n",
       "      <td>2131.15500</td>\n",
       "      <td>494.706700</td>\n",
       "      <td>7.153301</td>\n",
       "      <td>176.668100</td>\n",
       "      <td>7.124403</td>\n",
       "      <td>136.889100</td>\n",
       "    </tr>\n",
       "    <tr>\n",
       "      <th>OD 880</th>\n",
       "      <td>5.153392</td>\n",
       "      <td>856.267323</td>\n",
       "      <td>7.389210</td>\n",
       "      <td>2202.739323</td>\n",
       "      <td>250.299623</td>\n",
       "      <td>5.376270</td>\n",
       "      <td>269.119423</td>\n",
       "      <td>4.968522</td>\n",
       "      <td>5.996783</td>\n",
       "      <td>7.609608</td>\n",
       "      <td>...</td>\n",
       "      <td>4.310842</td>\n",
       "      <td>4.612252</td>\n",
       "      <td>4.396836</td>\n",
       "      <td>4.096209</td>\n",
       "      <td>12.14961</td>\n",
       "      <td>6.954913</td>\n",
       "      <td>4.612040</td>\n",
       "      <td>6.973993</td>\n",
       "      <td>4.610744</td>\n",
       "      <td>7.319033</td>\n",
       "    </tr>\n",
       "    <tr>\n",
       "      <th>OD 881</th>\n",
       "      <td>11.459711</td>\n",
       "      <td>27600.463068</td>\n",
       "      <td>18.877957</td>\n",
       "      <td>4600.033750</td>\n",
       "      <td>894.023748</td>\n",
       "      <td>19.264314</td>\n",
       "      <td>7342.882355</td>\n",
       "      <td>9.876033</td>\n",
       "      <td>20.532105</td>\n",
       "      <td>16.780401</td>\n",
       "      <td>...</td>\n",
       "      <td>9.455028</td>\n",
       "      <td>9.821029</td>\n",
       "      <td>9.606293</td>\n",
       "      <td>9.087831</td>\n",
       "      <td>1274.89100</td>\n",
       "      <td>138.359400</td>\n",
       "      <td>10.001480</td>\n",
       "      <td>64.588090</td>\n",
       "      <td>9.381164</td>\n",
       "      <td>67.766800</td>\n",
       "    </tr>\n",
       "    <tr>\n",
       "      <th>OD 882</th>\n",
       "      <td>20.250156</td>\n",
       "      <td>19488.570664</td>\n",
       "      <td>37.245982</td>\n",
       "      <td>5339.333966</td>\n",
       "      <td>1166.722235</td>\n",
       "      <td>26.898383</td>\n",
       "      <td>4405.036611</td>\n",
       "      <td>17.743496</td>\n",
       "      <td>44.263706</td>\n",
       "      <td>35.855775</td>\n",
       "      <td>...</td>\n",
       "      <td>18.200280</td>\n",
       "      <td>19.668460</td>\n",
       "      <td>19.277460</td>\n",
       "      <td>16.587790</td>\n",
       "      <td>938.91320</td>\n",
       "      <td>129.100000</td>\n",
       "      <td>17.708110</td>\n",
       "      <td>124.573200</td>\n",
       "      <td>17.945740</td>\n",
       "      <td>162.596200</td>\n",
       "    </tr>\n",
       "    <tr>\n",
       "      <th>OD 883</th>\n",
       "      <td>15.120563</td>\n",
       "      <td>22283.226524</td>\n",
       "      <td>22.464665</td>\n",
       "      <td>4008.972424</td>\n",
       "      <td>626.328078</td>\n",
       "      <td>27.210473</td>\n",
       "      <td>5546.123823</td>\n",
       "      <td>13.147709</td>\n",
       "      <td>50.319452</td>\n",
       "      <td>20.823255</td>\n",
       "      <td>...</td>\n",
       "      <td>12.744850</td>\n",
       "      <td>13.504740</td>\n",
       "      <td>13.523000</td>\n",
       "      <td>12.477010</td>\n",
       "      <td>537.14860</td>\n",
       "      <td>97.391580</td>\n",
       "      <td>13.154730</td>\n",
       "      <td>180.569200</td>\n",
       "      <td>12.749490</td>\n",
       "      <td>160.133300</td>\n",
       "    </tr>\n",
       "  </tbody>\n",
       "</table>\n",
       "<p>3046 rows × 1183 columns</p>\n",
       "</div>"
      ],
      "text/plain": [
       "                        0             1          2             3     \\\n",
       "Healthy control 1   5.988790   2439.692620  11.780320   1040.209620   \n",
       "Healthy control 2   7.380677  20989.575296  15.448649  18504.673331   \n",
       "Healthy control 3   7.672810  31645.820205  13.338528   7955.195696   \n",
       "Healthy control 4   6.613076  39785.067842  13.885756  24977.608432   \n",
       "Healthy control 5  11.527153  31230.353897  19.288142  39978.077062   \n",
       "...                      ...           ...        ...           ...   \n",
       "OD 879              9.144063  63857.761619  24.859740   8749.304276   \n",
       "OD 880              5.153392    856.267323   7.389210   2202.739323   \n",
       "OD 881             11.459711  27600.463068  18.877957   4600.033750   \n",
       "OD 882             20.250156  19488.570664  37.245982   5339.333966   \n",
       "OD 883             15.120563  22283.226524  22.464665   4008.972424   \n",
       "\n",
       "                          5          6             7          8          9     \\\n",
       "Healthy control 1   194.282820   7.189860    766.731620   5.351587   8.520220   \n",
       "Healthy control 2  3965.491812  14.408822   5312.466200   6.295542  21.514407   \n",
       "Healthy control 3  2217.527520  20.839338   7063.847958   6.827632  25.900714   \n",
       "Healthy control 4  5927.803928   8.536264  11272.834600   6.348113  28.759241   \n",
       "Healthy control 5  9297.550922  17.881494   8031.057737  10.243077  28.621188   \n",
       "...                        ...        ...           ...        ...        ...   \n",
       "OD 879             2909.559981  28.578137  20097.402512   7.490324  48.978989   \n",
       "OD 880              250.299623   5.376270    269.119423   4.968522   5.996783   \n",
       "OD 881              894.023748  19.264314   7342.882355   9.876033  20.532105   \n",
       "OD 882             1166.722235  26.898383   4405.036611  17.743496  44.263706   \n",
       "OD 883              626.328078  27.210473   5546.123823  13.147709  50.319452   \n",
       "\n",
       "                        10    ...       2536       2537       2538       2541  \\\n",
       "Healthy control 1  12.028410  ...   4.573345   5.137256   5.491173   4.746277   \n",
       "Healthy control 2  13.892107  ...   5.204015   5.192455   5.732409   5.220955   \n",
       "Healthy control 3  13.863076  ...   6.479215   6.616299   6.557615   5.990099   \n",
       "Healthy control 4  11.372788  ...   5.746677   5.548189   6.290292   5.307264   \n",
       "Healthy control 5  17.654802  ...   9.177522   9.468003   9.567642   8.611114   \n",
       "...                      ...  ...        ...        ...        ...        ...   \n",
       "OD 879             21.122499  ...   7.140392   6.615213   8.695841   6.951983   \n",
       "OD 880              7.609608  ...   4.310842   4.612252   4.396836   4.096209   \n",
       "OD 881             16.780401  ...   9.455028   9.821029   9.606293   9.087831   \n",
       "OD 882             35.855775  ...  18.200280  19.668460  19.277460  16.587790   \n",
       "OD 883             20.823255  ...  12.744850  13.504740  13.523000  12.477010   \n",
       "\n",
       "                         2542        2544       2545        2546       2547  \\\n",
       "Healthy control 1    60.57162   20.964430   5.403362   13.697740   5.110449   \n",
       "Healthy control 2   191.81740   84.032030   5.327982  213.873700   5.773773   \n",
       "Healthy control 3   417.67460  159.892600   6.421957  184.569600   6.529618   \n",
       "Healthy control 4  1573.82700  208.987800   5.693892   65.718150   6.206826   \n",
       "Healthy control 5   452.85390  125.215600   8.883525  140.656100   8.768461   \n",
       "...                       ...         ...        ...         ...        ...   \n",
       "OD 879             2131.15500  494.706700   7.153301  176.668100   7.124403   \n",
       "OD 880               12.14961    6.954913   4.612040    6.973993   4.610744   \n",
       "OD 881             1274.89100  138.359400  10.001480   64.588090   9.381164   \n",
       "OD 882              938.91320  129.100000  17.708110  124.573200  17.945740   \n",
       "OD 883              537.14860   97.391580  13.154730  180.569200  12.749490   \n",
       "\n",
       "                         2548  \n",
       "Healthy control 1   11.077200  \n",
       "Healthy control 2  111.663100  \n",
       "Healthy control 3  197.377500  \n",
       "Healthy control 4   78.274060  \n",
       "Healthy control 5  103.701900  \n",
       "...                       ...  \n",
       "OD 879             136.889100  \n",
       "OD 880               7.319033  \n",
       "OD 881              67.766800  \n",
       "OD 882             162.596200  \n",
       "OD 883             160.133300  \n",
       "\n",
       "[3046 rows x 1183 columns]"
      ]
     },
     "execution_count": 69,
     "metadata": {},
     "output_type": "execute_result"
    }
   ],
   "source": [
    "t3"
   ]
  },
  {
   "cell_type": "code",
   "execution_count": 70,
   "metadata": {},
   "outputs": [],
   "source": [
    "X = np.array(sick).reshape(-1, 1)"
   ]
  },
  {
   "cell_type": "code",
   "execution_count": 71,
   "metadata": {},
   "outputs": [
    {
     "data": {
      "text/plain": [
       "LinearRegression()"
      ]
     },
     "execution_count": 71,
     "metadata": {},
     "output_type": "execute_result"
    }
   ],
   "source": [
    "linreg = LinearRegression()\n",
    "linreg.fit(X, t3)"
   ]
  },
  {
   "cell_type": "code",
   "execution_count": 72,
   "metadata": {},
   "outputs": [
    {
     "data": {
      "text/plain": [
       "0.003680189431917301"
      ]
     },
     "execution_count": 72,
     "metadata": {},
     "output_type": "execute_result"
    }
   ],
   "source": [
    "fitted = linreg.predict(X)\n",
    "explained_variance_score(t3, fitted)"
   ]
  },
  {
   "cell_type": "markdown",
   "metadata": {},
   "source": [
    "### Mean-variance-plot"
   ]
  },
  {
   "cell_type": "code",
   "execution_count": 73,
   "metadata": {},
   "outputs": [],
   "source": [
    "mirnas = table.iloc[:, 0]\n",
    "table = table.iloc[:, 1:]"
   ]
  },
  {
   "cell_type": "code",
   "execution_count": 74,
   "metadata": {},
   "outputs": [],
   "source": [
    "table = table.transpose()"
   ]
  },
  {
   "cell_type": "code",
   "execution_count": 75,
   "metadata": {},
   "outputs": [
    {
     "data": {
      "text/plain": [
       "0           9.081349\n",
       "1       22968.943128\n",
       "2          18.962880\n",
       "3       14366.212882\n",
       "5        3288.513087\n",
       "            ...     \n",
       "2544      123.431074\n",
       "2545        7.839207\n",
       "2546       80.060869\n",
       "2547        8.341195\n",
       "2548       70.713978\n",
       "Length: 1183, dtype: float64"
      ]
     },
     "execution_count": 75,
     "metadata": {},
     "output_type": "execute_result"
    }
   ],
   "source": [
    "np.mean(table)"
   ]
  },
  {
   "cell_type": "code",
   "execution_count": 76,
   "metadata": {
    "tags": []
   },
   "outputs": [],
   "source": [
    "def get_means_and_variances(table):\n",
    "    return np.mean(table), np.var(table, ddof=1)"
   ]
  },
  {
   "cell_type": "code",
   "execution_count": 77,
   "metadata": {
    "tags": []
   },
   "outputs": [],
   "source": [
    "def mean_variance_plot(table):\n",
    "    means, variances = get_means_and_variances(table)\n",
    "    plt.scatter(means, variances)\n",
    "    plt.xlabel(\"mean\")\n",
    "    plt.ylabel(\"variance\")\n",
    "    plt.plot()"
   ]
  },
  {
   "cell_type": "code",
   "execution_count": 78,
   "metadata": {},
   "outputs": [
    {
     "data": {
      "image/png": "[encoded data removed]",
      "text/plain": [
       "<Figure size 432x288 with 1 Axes>"
      ]
     },
     "metadata": {
      "needs_background": "light"
     },
     "output_type": "display_data"
    }
   ],
   "source": [
    "mean_variance_plot(table)"
   ]
  },
  {
   "cell_type": "code",
   "execution_count": 79,
   "metadata": {},
   "outputs": [],
   "source": [
    "log_table = np.log2(table)"
   ]
  },
  {
   "cell_type": "code",
   "execution_count": 80,
   "metadata": {},
   "outputs": [
    {
     "data": {
      "image/png": "[encoded data removed]",
      "text/plain": [
       "<Figure size 432x288 with 1 Axes>"
      ]
     },
     "metadata": {
      "needs_background": "light"
     },
     "output_type": "display_data"
    }
   ],
   "source": [
    "mean_variance_plot(log_table.loc[:, np.mean(log_table) < 3.5])"
   ]
  },
  {
   "cell_type": "code",
   "execution_count": 81,
   "metadata": {},
   "outputs": [],
   "source": [
    "mask = np.mean(log_table) > 3.2\n",
    "mirnas = mirnas[mask]\n",
    "log_table = log_table.loc[:, mask]"
   ]
  },
  {
   "cell_type": "markdown",
   "metadata": {
    "tags": []
   },
   "source": [
    "### Loess regression"
   ]
  },
  {
   "cell_type": "code",
   "execution_count": 82,
   "metadata": {
    "tags": []
   },
   "outputs": [],
   "source": [
    "lowess = LowessRegression(sigma=1, span=0.1)"
   ]
  },
  {
   "cell_type": "code",
   "execution_count": 83,
   "metadata": {},
   "outputs": [
    {
     "data": {
      "text/plain": [
       "LowessRegression(span=0.1)"
      ]
     },
     "execution_count": 83,
     "metadata": {},
     "output_type": "execute_result"
    }
   ],
   "source": [
    "means, variances = get_means_and_variances(log_table)\n",
    "lowess.fit(means.to_numpy().reshape(-1,1), variances)"
   ]
  },
  {
   "cell_type": "code",
   "execution_count": 84,
   "metadata": {},
   "outputs": [],
   "source": [
    "x_axis = np.linspace(-2, 14, 100)\n",
    "y_axis = lowess.predict(x_axis.reshape(-1,1))"
   ]
  },
  {
   "cell_type": "code",
   "execution_count": 85,
   "metadata": {},
   "outputs": [
    {
     "data": {
      "text/plain": [
       "[]"
      ]
     },
     "execution_count": 85,
     "metadata": {},
     "output_type": "execute_result"
    },
    {
     "data": {
      "image/png": "[encoded data removed]",
      "text/plain": [
       "<Figure size 432x288 with 1 Axes>"
      ]
     },
     "metadata": {
      "needs_background": "light"
     },
     "output_type": "display_data"
    }
   ],
   "source": [
    "plt.scatter(means, variances, color=\"b\")\n",
    "plt.scatter(x_axis, y_axis, color=\"y\")\n",
    "plt.xlabel(\"mean\")\n",
    "plt.ylabel(\"variance\")\n",
    "plt.legend([\"Sample points\", \"Lowess regression\"])\n",
    "plt.plot()"
   ]
  },
  {
   "cell_type": "markdown",
   "metadata": {
    "tags": []
   },
   "source": [
    "### Lowess normalization"
   ]
  },
  {
   "cell_type": "code",
   "execution_count": 86,
   "metadata": {},
   "outputs": [],
   "source": [
    "adj_var = lowess.predict(means.to_numpy().reshape(-1, 1))"
   ]
  },
  {
   "cell_type": "code",
   "execution_count": 87,
   "metadata": {
    "tags": []
   },
   "outputs": [],
   "source": [
    "log_table /= np.sqrt(adj_var)"
   ]
  },
  {
   "cell_type": "code",
   "execution_count": 88,
   "metadata": {},
   "outputs": [
    {
     "data": {
      "image/png": "[encoded data removed]",
      "text/plain": [
       "<Figure size 432x288 with 1 Axes>"
      ]
     },
     "metadata": {
      "needs_background": "light"
     },
     "output_type": "display_data"
    }
   ],
   "source": [
    "mean_variance_plot(log_table)"
   ]
  },
  {
   "cell_type": "code",
   "execution_count": 89,
   "metadata": {},
   "outputs": [
    {
     "data": {
      "image/png": "[encoded data removed]",
      "text/plain": [
       "<Figure size 432x288 with 1 Axes>"
      ]
     },
     "metadata": {
      "needs_background": "light"
     },
     "output_type": "display_data"
    }
   ],
   "source": [
    "norm_log_table = log_table - np.mean(log_table)\n",
    "norm_log_table /= np.sqrt(np.mean(np.var(norm_log_table, ddof=1)))\n",
    "mean_variance_plot(norm_log_table)"
   ]
  },
  {
   "cell_type": "code",
   "execution_count": 90,
   "metadata": {
    "tags": []
   },
   "outputs": [],
   "source": [
    "norm_log_table = log_table - np.mean(log_table)"
   ]
  },
  {
   "cell_type": "code",
   "execution_count": 91,
   "metadata": {},
   "outputs": [],
   "source": [
    "norm_log_table /= np.mean(np.std(norm_log_table))"
   ]
  },
  {
   "cell_type": "code",
   "execution_count": 92,
   "metadata": {},
   "outputs": [
    {
     "data": {
      "image/png": "[encoded data removed]",
      "text/plain": [
       "<Figure size 432x288 with 1 Axes>"
      ]
     },
     "metadata": {
      "needs_background": "light"
     },
     "output_type": "display_data"
    }
   ],
   "source": [
    "mean_variance_plot(norm_log_table)"
   ]
  },
  {
   "cell_type": "markdown",
   "metadata": {},
   "source": [
    "### PCA"
   ]
  },
  {
   "cell_type": "code",
   "execution_count": 93,
   "metadata": {
    "tags": []
   },
   "outputs": [],
   "source": [
    "pca = decomposition.PCA(n_components=10)"
   ]
  },
  {
   "cell_type": "code",
   "execution_count": 94,
   "metadata": {},
   "outputs": [
    {
     "data": {
      "text/plain": [
       "PCA(n_components=10)"
      ]
     },
     "execution_count": 94,
     "metadata": {},
     "output_type": "execute_result"
    }
   ],
   "source": [
    "pca.fit(norm_log_table)"
   ]
  },
  {
   "cell_type": "code",
   "execution_count": 95,
   "metadata": {},
   "outputs": [
    {
     "data": {
      "text/plain": [
       "array([0.57273515, 0.11751098, 0.05833682, 0.0468864 , 0.02118602,\n",
       "       0.01723204, 0.01591434, 0.01322661, 0.01149101, 0.00856726])"
      ]
     },
     "execution_count": 95,
     "metadata": {},
     "output_type": "execute_result"
    }
   ],
   "source": [
    "pca.explained_variance_ratio_"
   ]
  },
  {
   "cell_type": "code",
   "execution_count": 96,
   "metadata": {
    "tags": []
   },
   "outputs": [],
   "source": [
    "components = pca.transform(norm_log_table)"
   ]
  },
  {
   "cell_type": "code",
   "execution_count": 97,
   "metadata": {},
   "outputs": [
    {
     "data": {
      "text/plain": [
       "array([[ 2.63772559e+01, -2.92728896e+00,  2.52978813e+00, ...,\n",
       "        -3.49952988e-01, -9.57459237e-01, -6.98941840e-01],\n",
       "       [-8.55974369e+00, -5.55509861e+00, -4.20377676e+00, ...,\n",
       "        -3.52479681e+00, -4.69851559e+00,  1.94378919e+00],\n",
       "       [-1.02960089e+01, -8.53601798e+00,  1.97291056e+00, ...,\n",
       "         3.72319901e-01,  1.82482319e-01,  4.01693745e+00],\n",
       "       ...,\n",
       "       [-8.63353945e+00, -3.93821137e+00,  5.38228452e+00, ...,\n",
       "        -1.96618321e-01,  4.50024295e+00,  8.87138078e-01],\n",
       "       [-2.18906065e+01,  1.10108977e+01,  8.76702239e+00, ...,\n",
       "        -6.57802614e-01,  7.48603447e-01,  1.17153861e-03],\n",
       "       [-1.37669589e+01, -2.17104155e+00,  9.29528872e+00, ...,\n",
       "        -6.07610079e-01, -1.57476107e+00,  2.46761866e+00]])"
      ]
     },
     "execution_count": 97,
     "metadata": {},
     "output_type": "execute_result"
    }
   ],
   "source": [
    "components"
   ]
  },
  {
   "cell_type": "code",
   "execution_count": 98,
   "metadata": {},
   "outputs": [
    {
     "data": {
      "text/plain": [
       "2440"
      ]
     },
     "execution_count": 98,
     "metadata": {},
     "output_type": "execute_result"
    }
   ],
   "source": [
    "sum(controls)"
   ]
  },
  {
   "cell_type": "code",
   "execution_count": 99,
   "metadata": {},
   "outputs": [
    {
     "data": {
      "image/png": "[encoded data removed]",
      "text/plain": [
       "<Figure size 576x576 with 1 Axes>"
      ]
     },
     "metadata": {
      "needs_background": "light"
     },
     "output_type": "display_data"
    }
   ],
   "source": [
    "fig = plt.figure(figsize = (8,8))\n",
    "ax = fig.add_subplot(1,1,1)\n",
    "\n",
    "ax.set_xlabel('Principal Component 1', fontsize = 15)\n",
    "ax.set_ylabel('Principal Component 2', fontsize = 15)\n",
    "ax.set_title('2 component PCA', fontsize = 20)\n",
    "targets = ['Cancer', 'Healthy']\n",
    "colors = ['r', 'g']\n",
    "ax.scatter(components[controls == False, 0], components[controls == False, 1], c = 'r', s = 10)\n",
    "ax.scatter(components[controls == True, 0], components[controls == True, 1], c = 'g', s = 10)\n",
    "ax.legend(targets)\n",
    "ax.grid()"
   ]
  },
  {
   "cell_type": "code",
   "execution_count": 100,
   "metadata": {
    "tags": []
   },
   "outputs": [],
   "source": [
    "components2 = components[components[:,0] < 20, :]\n",
    "controls2 = controls[components[:,0] < 20]"
   ]
  },
  {
   "cell_type": "code",
   "execution_count": 101,
   "metadata": {},
   "outputs": [
    {
     "data": {
      "image/png": "[encoded data removed]",
      "text/plain": [
       "<Figure size 576x576 with 1 Axes>"
      ]
     },
     "metadata": {
      "needs_background": "light"
     },
     "output_type": "display_data"
    }
   ],
   "source": [
    "fig = plt.figure(figsize = (8,8))\n",
    "ax = fig.add_subplot(1,1,1)\n",
    "\n",
    "ax.set_xlabel('Principal Component 1', fontsize = 15)\n",
    "ax.set_ylabel('Principal Component 2', fontsize = 15)\n",
    "ax.set_title('2 component PCA', fontsize = 20)\n",
    "targets = ['Cancer', 'Healthy']\n",
    "colors = ['r', 'g']\n",
    "ax.scatter(components2[controls2 == False, 0], components2[controls2 == False, 1], c = 'r', s = 10)\n",
    "ax.scatter(components2[controls2 == True, 0], components2[controls2 == True, 1], c = 'g', s = 10)\n",
    "ax.legend(targets)\n",
    "ax.grid()"
   ]
  },
  {
   "cell_type": "markdown",
   "metadata": {
    "jupyter": {
     "outputs_hidden": true
    }
   },
   "source": [
    "### XGBoost"
   ]
  },
  {
   "cell_type": "code",
   "execution_count": 102,
   "metadata": {},
   "outputs": [],
   "source": [
    "X_train, X_test, y_train, y_test = train_test_split(norm_log_table, controls, test_size=0.33, random_state=42)"
   ]
  },
  {
   "cell_type": "code",
   "execution_count": 103,
   "metadata": {},
   "outputs": [
    {
     "name": "stdout",
     "output_type": "stream",
     "text": [
      "[15:43:01] WARNING: C:/Users/Administrator/workspace/xgboost-win64_release_1.4.0/src/learner.cc:1095: Starting in XGBoost 1.3.0, the default evaluation metric used with the objective 'binary:logistic' was changed from 'error' to 'logloss'. Explicitly set eval_metric if you'd like to restore the old behavior.\n"
     ]
    },
    {
     "data": {
      "text/plain": [
       "XGBClassifier(base_score=0.5, booster='gbtree', colsample_bylevel=1,\n",
       "              colsample_bynode=1, colsample_bytree=1, gamma=0, gpu_id=-1,\n",
       "              importance_type='gain', interaction_constraints='',\n",
       "              learning_rate=0.300000012, max_delta_step=0, max_depth=6,\n",
       "              min_child_weight=1, missing=nan, monotone_constraints='()',\n",
       "              n_estimators=100, n_jobs=4, num_parallel_tree=1, random_state=0,\n",
       "              reg_alpha=0, reg_lambda=1, scale_pos_weight=1, subsample=1,\n",
       "              tree_method='exact', use_label_encoder=False,\n",
       "              validate_parameters=1, verbosity=None)"
      ]
     },
     "execution_count": 103,
     "metadata": {},
     "output_type": "execute_result"
    }
   ],
   "source": [
    "model = XGBClassifier(use_label_encoder=False)\n",
    "model.fit(X_train, y_train)"
   ]
  },
  {
   "cell_type": "code",
   "execution_count": 104,
   "metadata": {},
   "outputs": [
    {
     "data": {
      "text/plain": [
       "<sklearn.metrics._plot.roc_curve.RocCurveDisplay at 0x20a439aae80>"
      ]
     },
     "execution_count": 104,
     "metadata": {},
     "output_type": "execute_result"
    },
    {
     "data": {
      "image/png": "[encoded data removed]",
      "text/plain": [
       "<Figure size 432x288 with 1 Axes>"
      ]
     },
     "metadata": {
      "needs_background": "light"
     },
     "output_type": "display_data"
    }
   ],
   "source": [
    "plot_roc_curve(model, X_test, y_test)"
   ]
  },
  {
   "cell_type": "markdown",
   "metadata": {},
   "source": [
    "### Exporting data"
   ]
  },
  {
   "cell_type": "code",
   "execution_count": 105,
   "metadata": {},
   "outputs": [],
   "source": [
    "from Scripts import converters"
   ]
  },
  {
   "cell_type": "code",
   "execution_count": 106,
   "metadata": {},
   "outputs": [],
   "source": [
    "sequences = converters.canonical_to_seq(mirnas)"
   ]
  },
  {
   "cell_type": "code",
   "execution_count": 107,
   "metadata": {},
   "outputs": [
    {
     "data": {
      "text/html": [
       "<div>\n",
       "<style scoped>\n",
       "    .dataframe tbody tr th:only-of-type {\n",
       "        vertical-align: middle;\n",
       "    }\n",
       "\n",
       "    .dataframe tbody tr th {\n",
       "        vertical-align: top;\n",
       "    }\n",
       "\n",
       "    .dataframe thead th {\n",
       "        text-align: right;\n",
       "    }\n",
       "</style>\n",
       "<table border=\"1\" class=\"dataframe\">\n",
       "  <thead>\n",
       "    <tr style=\"text-align: right;\">\n",
       "      <th></th>\n",
       "      <th>UGAGGUAGUAGGUUGUAUAGUU</th>\n",
       "      <th>CUAUACAACCUACUGCCUUCCC</th>\n",
       "      <th>UGAGGUAGUAGGUUGUGUGGUU</th>\n",
       "      <th>UGAGGUAGUAGGUUGUAUGGUU</th>\n",
       "      <th>CUAUACGACCUGCUGCCUUUCU</th>\n",
       "      <th>AGAGGUAGUAGGUUGCAUAGUU</th>\n",
       "      <th>UGAGGUAGGAGGUUGUAUAGUU</th>\n",
       "      <th>CUAUACAAUCUAUUGCCUUCCC</th>\n",
       "      <th>UGAGGUAGUAGAUUGUAUAGUU</th>\n",
       "      <th>UGAGGUAGUAGUUUGUACAGUU</th>\n",
       "      <th>...</th>\n",
       "      <th>CAAAGUGCUGUUCGUGCAGGUAG</th>\n",
       "      <th>UGUGCGCAGGGAGACCUCUCCC</th>\n",
       "      <th>UGGGGAGCUGAGGCUCUGGGGGUG</th>\n",
       "      <th>AAGGCAGGGCCCCCGCUCCCC</th>\n",
       "      <th>UCUUCUCUGUUUUGGCCAUGUG</th>\n",
       "      <th>UUUGGCACUAGCACAUUUUUGCU</th>\n",
       "      <th>UGAGGUAGUAAGUUGUAUUGUU</th>\n",
       "      <th>AACCCGUAGAUCCGAUCUUGUG</th>\n",
       "      <th>CACCCGUAGAACCGACCUUGCG</th>\n",
       "      <th>cancer</th>\n",
       "    </tr>\n",
       "  </thead>\n",
       "  <tbody>\n",
       "    <tr>\n",
       "      <th>Healthy control 1</th>\n",
       "      <td>-1.346184</td>\n",
       "      <td>-0.668957</td>\n",
       "      <td>-1.649790</td>\n",
       "      <td>-1.799416</td>\n",
       "      <td>-1.260096</td>\n",
       "      <td>-1.242500</td>\n",
       "      <td>-1.412364</td>\n",
       "      <td>-0.532290</td>\n",
       "      <td>-1.251303</td>\n",
       "      <td>-1.166655</td>\n",
       "      <td>...</td>\n",
       "      <td>-1.126151</td>\n",
       "      <td>-0.663360</td>\n",
       "      <td>-0.923872</td>\n",
       "      <td>-1.055009</td>\n",
       "      <td>-1.688865</td>\n",
       "      <td>-1.110719</td>\n",
       "      <td>-1.332165</td>\n",
       "      <td>-1.431752</td>\n",
       "      <td>-1.647219</td>\n",
       "      <td>False</td>\n",
       "    </tr>\n",
       "    <tr>\n",
       "      <th>Healthy control 2</th>\n",
       "      <td>0.341706</td>\n",
       "      <td>-0.195561</td>\n",
       "      <td>0.616884</td>\n",
       "      <td>0.638735</td>\n",
       "      <td>0.052322</td>\n",
       "      <td>0.289248</td>\n",
       "      <td>-0.093661</td>\n",
       "      <td>-0.275762</td>\n",
       "      <td>0.348440</td>\n",
       "      <td>0.119682</td>\n",
       "      <td>...</td>\n",
       "      <td>0.287335</td>\n",
       "      <td>-0.077039</td>\n",
       "      <td>-0.014514</td>\n",
       "      <td>0.228393</td>\n",
       "      <td>1.060671</td>\n",
       "      <td>-0.150676</td>\n",
       "      <td>0.188154</td>\n",
       "      <td>1.527163</td>\n",
       "      <td>0.868147</td>\n",
       "      <td>False</td>\n",
       "    </tr>\n",
       "    <tr>\n",
       "      <th>Healthy control 3</th>\n",
       "      <td>0.663716</td>\n",
       "      <td>-0.452025</td>\n",
       "      <td>-0.047856</td>\n",
       "      <td>0.168871</td>\n",
       "      <td>0.748964</td>\n",
       "      <td>0.514723</td>\n",
       "      <td>0.170495</td>\n",
       "      <td>-0.279488</td>\n",
       "      <td>0.712059</td>\n",
       "      <td>0.504659</td>\n",
       "      <td>...</td>\n",
       "      <td>0.204486</td>\n",
       "      <td>-0.669859</td>\n",
       "      <td>0.022907</td>\n",
       "      <td>0.127937</td>\n",
       "      <td>1.495416</td>\n",
       "      <td>0.497415</td>\n",
       "      <td>0.892597</td>\n",
       "      <td>1.368503</td>\n",
       "      <td>1.488260</td>\n",
       "      <td>False</td>\n",
       "    </tr>\n",
       "    <tr>\n",
       "      <th>Healthy control 4</th>\n",
       "      <td>0.843226</td>\n",
       "      <td>-0.381814</td>\n",
       "      <td>0.853076</td>\n",
       "      <td>0.963726</td>\n",
       "      <td>-0.936032</td>\n",
       "      <td>0.884594</td>\n",
       "      <td>0.319535</td>\n",
       "      <td>-0.632102</td>\n",
       "      <td>1.081566</td>\n",
       "      <td>1.257505</td>\n",
       "      <td>...</td>\n",
       "      <td>1.050979</td>\n",
       "      <td>-0.466605</td>\n",
       "      <td>0.702837</td>\n",
       "      <td>-0.156118</td>\n",
       "      <td>0.222719</td>\n",
       "      <td>1.602246</td>\n",
       "      <td>1.185820</td>\n",
       "      <td>0.256656</td>\n",
       "      <td>0.481392</td>\n",
       "      <td>False</td>\n",
       "    </tr>\n",
       "    <tr>\n",
       "      <th>Healthy control 5</th>\n",
       "      <td>0.653351</td>\n",
       "      <td>0.192055</td>\n",
       "      <td>1.223441</td>\n",
       "      <td>1.327579</td>\n",
       "      <td>0.459970</td>\n",
       "      <td>0.616271</td>\n",
       "      <td>0.312685</td>\n",
       "      <td>0.151080</td>\n",
       "      <td>0.624390</td>\n",
       "      <td>0.284600</td>\n",
       "      <td>...</td>\n",
       "      <td>0.608666</td>\n",
       "      <td>0.399076</td>\n",
       "      <td>0.935711</td>\n",
       "      <td>0.244783</td>\n",
       "      <td>0.987530</td>\n",
       "      <td>0.564765</td>\n",
       "      <td>0.624898</td>\n",
       "      <td>1.075957</td>\n",
       "      <td>0.787626</td>\n",
       "      <td>False</td>\n",
       "    </tr>\n",
       "  </tbody>\n",
       "</table>\n",
       "<p>5 rows × 395 columns</p>\n",
       "</div>"
      ],
      "text/plain": [
       "                   UGAGGUAGUAGGUUGUAUAGUU  CUAUACAACCUACUGCCUUCCC  \\\n",
       "Healthy control 1               -1.346184               -0.668957   \n",
       "Healthy control 2                0.341706               -0.195561   \n",
       "Healthy control 3                0.663716               -0.452025   \n",
       "Healthy control 4                0.843226               -0.381814   \n",
       "Healthy control 5                0.653351                0.192055   \n",
       "\n",
       "                   UGAGGUAGUAGGUUGUGUGGUU  UGAGGUAGUAGGUUGUAUGGUU  \\\n",
       "Healthy control 1               -1.649790               -1.799416   \n",
       "Healthy control 2                0.616884                0.638735   \n",
       "Healthy control 3               -0.047856                0.168871   \n",
       "Healthy control 4                0.853076                0.963726   \n",
       "Healthy control 5                1.223441                1.327579   \n",
       "\n",
       "                   CUAUACGACCUGCUGCCUUUCU  AGAGGUAGUAGGUUGCAUAGUU  \\\n",
       "Healthy control 1               -1.260096               -1.242500   \n",
       "Healthy control 2                0.052322                0.289248   \n",
       "Healthy control 3                0.748964                0.514723   \n",
       "Healthy control 4               -0.936032                0.884594   \n",
       "Healthy control 5                0.459970                0.616271   \n",
       "\n",
       "                   UGAGGUAGGAGGUUGUAUAGUU  CUAUACAAUCUAUUGCCUUCCC  \\\n",
       "Healthy control 1               -1.412364               -0.532290   \n",
       "Healthy control 2               -0.093661               -0.275762   \n",
       "Healthy control 3                0.170495               -0.279488   \n",
       "Healthy control 4                0.319535               -0.632102   \n",
       "Healthy control 5                0.312685                0.151080   \n",
       "\n",
       "                   UGAGGUAGUAGAUUGUAUAGUU  UGAGGUAGUAGUUUGUACAGUU  ...  \\\n",
       "Healthy control 1               -1.251303               -1.166655  ...   \n",
       "Healthy control 2                0.348440                0.119682  ...   \n",
       "Healthy control 3                0.712059                0.504659  ...   \n",
       "Healthy control 4                1.081566                1.257505  ...   \n",
       "Healthy control 5                0.624390                0.284600  ...   \n",
       "\n",
       "                   CAAAGUGCUGUUCGUGCAGGUAG  UGUGCGCAGGGAGACCUCUCCC  \\\n",
       "Healthy control 1                -1.126151               -0.663360   \n",
       "Healthy control 2                 0.287335               -0.077039   \n",
       "Healthy control 3                 0.204486               -0.669859   \n",
       "Healthy control 4                 1.050979               -0.466605   \n",
       "Healthy control 5                 0.608666                0.399076   \n",
       "\n",
       "                   UGGGGAGCUGAGGCUCUGGGGGUG  AAGGCAGGGCCCCCGCUCCCC  \\\n",
       "Healthy control 1                 -0.923872              -1.055009   \n",
       "Healthy control 2                 -0.014514               0.228393   \n",
       "Healthy control 3                  0.022907               0.127937   \n",
       "Healthy control 4                  0.702837              -0.156118   \n",
       "Healthy control 5                  0.935711               0.244783   \n",
       "\n",
       "                   UCUUCUCUGUUUUGGCCAUGUG  UUUGGCACUAGCACAUUUUUGCU  \\\n",
       "Healthy control 1               -1.688865                -1.110719   \n",
       "Healthy control 2                1.060671                -0.150676   \n",
       "Healthy control 3                1.495416                 0.497415   \n",
       "Healthy control 4                0.222719                 1.602246   \n",
       "Healthy control 5                0.987530                 0.564765   \n",
       "\n",
       "                   UGAGGUAGUAAGUUGUAUUGUU  AACCCGUAGAUCCGAUCUUGUG  \\\n",
       "Healthy control 1               -1.332165               -1.431752   \n",
       "Healthy control 2                0.188154                1.527163   \n",
       "Healthy control 3                0.892597                1.368503   \n",
       "Healthy control 4                1.185820                0.256656   \n",
       "Healthy control 5                0.624898                1.075957   \n",
       "\n",
       "                   CACCCGUAGAACCGACCUUGCG  cancer  \n",
       "Healthy control 1               -1.647219   False  \n",
       "Healthy control 2                0.868147   False  \n",
       "Healthy control 3                1.488260   False  \n",
       "Healthy control 4                0.481392   False  \n",
       "Healthy control 5                0.787626   False  \n",
       "\n",
       "[5 rows x 395 columns]"
      ]
     },
     "execution_count": 107,
     "metadata": {},
     "output_type": "execute_result"
    }
   ],
   "source": [
    "norm_log_table.columns = sequences\n",
    "norm_log_table[\"cancer\"] = sick\n",
    "norm_log_table.head()"
   ]
  },
  {
   "cell_type": "code",
   "execution_count": 108,
   "metadata": {},
   "outputs": [],
   "source": [
    "norm_log_table.to_csv(\"../TransformedData/Fehlman2020.csv\", index=False)"
   ]
  },
  {
   "cell_type": "code",
   "execution_count": null,
   "metadata": {},
   "outputs": [],
   "source": []
  }
 ],
 "metadata": {
  "kernelspec": {
   "display_name": "Python 3 (ipykernel)",
   "language": "python",
   "name": "python3"
  },
  "language_info": {
   "codemirror_mode": {
    "name": "ipython",
    "version": 3
   },
   "file_extension": ".py",
   "mimetype": "text/x-python",
   "name": "python",
   "nbconvert_exporter": "python",
   "pygments_lexer": "ipython3",
   "version": "3.9.7"
  }
 },
 "nbformat": 4,
 "nbformat_minor": 4
}
