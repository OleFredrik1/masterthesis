{
 "cells": [
  {
   "cell_type": "code",
   "execution_count": 2,
   "metadata": {
    "tags": []
   },
   "outputs": [],
   "source": [
    "%matplotlib inline\n",
    "import GEOparse\n",
    "import matplotlib.pyplot as plt\n",
    "import pandas as pd\n",
    "import numpy as np\n",
    "from sklearn import decomposition\n",
    "from sklearn.feature_selection import f_classif\n",
    "from sklearn.linear_model import LinearRegression\n",
    "from sklearn.metrics import explained_variance_score, plot_roc_curve\n",
    "from sklego.linear_model import LowessRegression\n",
    "import statsmodels.api as sm\n",
    "from scipy.stats import ttest_ind, skewtest, boxcox\n",
    "from xgboost import XGBClassifier\n",
    "from sklearn.model_selection import train_test_split"
   ]
  },
  {
   "cell_type": "markdown",
   "metadata": {},
   "source": [
    "### Reading in from external source"
   ]
  },
  {
   "cell_type": "code",
   "execution_count": 14,
   "metadata": {},
   "outputs": [],
   "source": [
    "table = pd.read_csv(\"../Dataset/Fehlman2020/expression_matrix.csv\", sep=\"\\t\")\n",
    "#table = pd.read_csv(\"../Dataset/Wozniak2015/GSE64591_non-normalized.txt\", sep=\"\\t\", header=5)"
   ]
  },
  {
   "cell_type": "code",
   "execution_count": 15,
   "metadata": {},
   "outputs": [
    {
     "data": {
      "text/html": [
       "<div>\n",
       "<style scoped>\n",
       "    .dataframe tbody tr th:only-of-type {\n",
       "        vertical-align: middle;\n",
       "    }\n",
       "\n",
       "    .dataframe tbody tr th {\n",
       "        vertical-align: top;\n",
       "    }\n",
       "\n",
       "    .dataframe thead th {\n",
       "        text-align: right;\n",
       "    }\n",
       "</style>\n",
       "<table border=\"1\" class=\"dataframe\">\n",
       "  <thead>\n",
       "    <tr style=\"text-align: right;\">\n",
       "      <th></th>\n",
       "      <th>miRNA</th>\n",
       "      <th>Healthy control 1</th>\n",
       "      <th>Healthy control 2</th>\n",
       "      <th>Healthy control 3</th>\n",
       "      <th>Healthy control 4</th>\n",
       "      <th>Healthy control 5</th>\n",
       "      <th>Healthy control 6</th>\n",
       "      <th>Healthy control 7</th>\n",
       "      <th>Healthy control 8</th>\n",
       "      <th>Healthy control 9</th>\n",
       "      <th>...</th>\n",
       "      <th>OD 874</th>\n",
       "      <th>OD 875</th>\n",
       "      <th>OD 876</th>\n",
       "      <th>OD 877</th>\n",
       "      <th>OD 878</th>\n",
       "      <th>OD 879</th>\n",
       "      <th>OD 880</th>\n",
       "      <th>OD 881</th>\n",
       "      <th>OD 882</th>\n",
       "      <th>OD 883</th>\n",
       "    </tr>\n",
       "  </thead>\n",
       "  <tbody>\n",
       "    <tr>\n",
       "      <th>0</th>\n",
       "      <td>hsa-let-7a-3p</td>\n",
       "      <td>5.98879</td>\n",
       "      <td>7.380677</td>\n",
       "      <td>7.672810</td>\n",
       "      <td>6.613076</td>\n",
       "      <td>11.527153</td>\n",
       "      <td>6.802500</td>\n",
       "      <td>5.880256</td>\n",
       "      <td>11.543763</td>\n",
       "      <td>7.154083</td>\n",
       "      <td>...</td>\n",
       "      <td>8.581974</td>\n",
       "      <td>6.405327</td>\n",
       "      <td>9.592039</td>\n",
       "      <td>8.458054</td>\n",
       "      <td>5.231669</td>\n",
       "      <td>9.144063</td>\n",
       "      <td>5.153392</td>\n",
       "      <td>11.459711</td>\n",
       "      <td>20.250156</td>\n",
       "      <td>15.120563</td>\n",
       "    </tr>\n",
       "    <tr>\n",
       "      <th>1</th>\n",
       "      <td>hsa-let-7a-5p</td>\n",
       "      <td>2439.69262</td>\n",
       "      <td>20989.575296</td>\n",
       "      <td>31645.820205</td>\n",
       "      <td>39785.067842</td>\n",
       "      <td>31230.353897</td>\n",
       "      <td>38051.171659</td>\n",
       "      <td>958.540489</td>\n",
       "      <td>26414.154148</td>\n",
       "      <td>16586.484823</td>\n",
       "      <td>...</td>\n",
       "      <td>31887.613521</td>\n",
       "      <td>10253.447955</td>\n",
       "      <td>68895.120418</td>\n",
       "      <td>26718.589860</td>\n",
       "      <td>124.858642</td>\n",
       "      <td>63857.761619</td>\n",
       "      <td>856.267323</td>\n",
       "      <td>27600.463068</td>\n",
       "      <td>19488.570664</td>\n",
       "      <td>22283.226524</td>\n",
       "    </tr>\n",
       "    <tr>\n",
       "      <th>2</th>\n",
       "      <td>hsa-let-7b-3p</td>\n",
       "      <td>11.78032</td>\n",
       "      <td>15.448649</td>\n",
       "      <td>13.338528</td>\n",
       "      <td>13.885756</td>\n",
       "      <td>19.288142</td>\n",
       "      <td>15.084712</td>\n",
       "      <td>7.185237</td>\n",
       "      <td>16.824500</td>\n",
       "      <td>16.196026</td>\n",
       "      <td>...</td>\n",
       "      <td>21.361416</td>\n",
       "      <td>12.543551</td>\n",
       "      <td>20.264019</td>\n",
       "      <td>14.556385</td>\n",
       "      <td>6.220702</td>\n",
       "      <td>24.859740</td>\n",
       "      <td>7.389210</td>\n",
       "      <td>18.877957</td>\n",
       "      <td>37.245982</td>\n",
       "      <td>22.464665</td>\n",
       "    </tr>\n",
       "    <tr>\n",
       "      <th>3</th>\n",
       "      <td>hsa-let-7b-5p</td>\n",
       "      <td>1040.20962</td>\n",
       "      <td>18504.673331</td>\n",
       "      <td>7955.195696</td>\n",
       "      <td>24977.608432</td>\n",
       "      <td>39978.077062</td>\n",
       "      <td>37595.019787</td>\n",
       "      <td>1359.028489</td>\n",
       "      <td>4014.889159</td>\n",
       "      <td>16931.607811</td>\n",
       "      <td>...</td>\n",
       "      <td>4849.241869</td>\n",
       "      <td>1257.587019</td>\n",
       "      <td>10516.197060</td>\n",
       "      <td>10810.224198</td>\n",
       "      <td>479.614342</td>\n",
       "      <td>8749.304276</td>\n",
       "      <td>2202.739323</td>\n",
       "      <td>4600.033750</td>\n",
       "      <td>5339.333966</td>\n",
       "      <td>4008.972424</td>\n",
       "    </tr>\n",
       "    <tr>\n",
       "      <th>4</th>\n",
       "      <td>hsa-let-7c-3p</td>\n",
       "      <td>NaN</td>\n",
       "      <td>6.671031</td>\n",
       "      <td>6.848874</td>\n",
       "      <td>5.930795</td>\n",
       "      <td>10.633752</td>\n",
       "      <td>6.246456</td>\n",
       "      <td>5.475492</td>\n",
       "      <td>9.762535</td>\n",
       "      <td>7.198736</td>\n",
       "      <td>...</td>\n",
       "      <td>9.122395</td>\n",
       "      <td>6.682408</td>\n",
       "      <td>10.109299</td>\n",
       "      <td>7.948756</td>\n",
       "      <td>5.192131</td>\n",
       "      <td>8.088978</td>\n",
       "      <td>4.853054</td>\n",
       "      <td>10.748838</td>\n",
       "      <td>19.576433</td>\n",
       "      <td>13.555511</td>\n",
       "    </tr>\n",
       "  </tbody>\n",
       "</table>\n",
       "<p>5 rows × 3047 columns</p>\n",
       "</div>"
      ],
      "text/plain": [
       "           miRNA  Healthy control 1  Healthy control 2  Healthy control 3  \\\n",
       "0  hsa-let-7a-3p            5.98879           7.380677           7.672810   \n",
       "1  hsa-let-7a-5p         2439.69262       20989.575296       31645.820205   \n",
       "2  hsa-let-7b-3p           11.78032          15.448649          13.338528   \n",
       "3  hsa-let-7b-5p         1040.20962       18504.673331        7955.195696   \n",
       "4  hsa-let-7c-3p                NaN           6.671031           6.848874   \n",
       "\n",
       "   Healthy control 4  Healthy control 5  Healthy control 6  Healthy control 7  \\\n",
       "0           6.613076          11.527153           6.802500           5.880256   \n",
       "1       39785.067842       31230.353897       38051.171659         958.540489   \n",
       "2          13.885756          19.288142          15.084712           7.185237   \n",
       "3       24977.608432       39978.077062       37595.019787        1359.028489   \n",
       "4           5.930795          10.633752           6.246456           5.475492   \n",
       "\n",
       "   Healthy control 8  Healthy control 9  ...        OD 874        OD 875  \\\n",
       "0          11.543763           7.154083  ...      8.581974      6.405327   \n",
       "1       26414.154148       16586.484823  ...  31887.613521  10253.447955   \n",
       "2          16.824500          16.196026  ...     21.361416     12.543551   \n",
       "3        4014.889159       16931.607811  ...   4849.241869   1257.587019   \n",
       "4           9.762535           7.198736  ...      9.122395      6.682408   \n",
       "\n",
       "         OD 876        OD 877      OD 878        OD 879       OD 880  \\\n",
       "0      9.592039      8.458054    5.231669      9.144063     5.153392   \n",
       "1  68895.120418  26718.589860  124.858642  63857.761619   856.267323   \n",
       "2     20.264019     14.556385    6.220702     24.859740     7.389210   \n",
       "3  10516.197060  10810.224198  479.614342   8749.304276  2202.739323   \n",
       "4     10.109299      7.948756    5.192131      8.088978     4.853054   \n",
       "\n",
       "         OD 881        OD 882        OD 883  \n",
       "0     11.459711     20.250156     15.120563  \n",
       "1  27600.463068  19488.570664  22283.226524  \n",
       "2     18.877957     37.245982     22.464665  \n",
       "3   4600.033750   5339.333966   4008.972424  \n",
       "4     10.748838     19.576433     13.555511  \n",
       "\n",
       "[5 rows x 3047 columns]"
      ]
     },
     "execution_count": 15,
     "metadata": {},
     "output_type": "execute_result"
    }
   ],
   "source": [
    "table.head()"
   ]
  },
  {
   "cell_type": "code",
   "execution_count": 16,
   "metadata": {},
   "outputs": [],
   "source": [
    "table = table.loc[:, np.array(\"miRNA\" in v or \"Healthy\" in v or \"LCa\" in v for v  in table.columns)]"
   ]
  },
  {
   "cell_type": "markdown",
   "metadata": {},
   "source": [
    "### Get controls"
   ]
  },
  {
   "cell_type": "code",
   "execution_count": 17,
   "metadata": {},
   "outputs": [],
   "source": [
    "sick = np.array([\"LCa\" in t for t in list(table)[1:]])\n",
    "controls = 1 - sick"
   ]
  },
  {
   "cell_type": "code",
   "execution_count": 18,
   "metadata": {},
   "outputs": [
    {
     "data": {
      "text/plain": [
       "606"
      ]
     },
     "execution_count": 18,
     "metadata": {},
     "output_type": "execute_result"
    }
   ],
   "source": [
    "sum(sick)"
   ]
  },
  {
   "cell_type": "markdown",
   "metadata": {},
   "source": [
    "### Drop NAN"
   ]
  },
  {
   "cell_type": "code",
   "execution_count": 19,
   "metadata": {},
   "outputs": [
    {
     "name": "stderr",
     "output_type": "stream",
     "text": [
      "C:\\Users\\OLEFRE~1\\AppData\\Local\\Temp/ipykernel_9368/338023607.py:1: FutureWarning: In a future version of pandas all arguments of DataFrame.dropna will be keyword-only\n",
      "  table = table.dropna(0)\n"
     ]
    }
   ],
   "source": [
    "table = table.dropna(0)"
   ]
  },
  {
   "cell_type": "markdown",
   "metadata": {},
   "source": [
    "### T-test"
   ]
  },
  {
   "cell_type": "code",
   "execution_count": 20,
   "metadata": {},
   "outputs": [],
   "source": [
    "X = table.iloc[:, 1:].transpose()"
   ]
  },
  {
   "cell_type": "code",
   "execution_count": 21,
   "metadata": {},
   "outputs": [
    {
     "data": {
      "text/html": [
       "<div>\n",
       "<style scoped>\n",
       "    .dataframe tbody tr th:only-of-type {\n",
       "        vertical-align: middle;\n",
       "    }\n",
       "\n",
       "    .dataframe tbody tr th {\n",
       "        vertical-align: top;\n",
       "    }\n",
       "\n",
       "    .dataframe thead th {\n",
       "        text-align: right;\n",
       "    }\n",
       "</style>\n",
       "<table border=\"1\" class=\"dataframe\">\n",
       "  <thead>\n",
       "    <tr style=\"text-align: right;\">\n",
       "      <th></th>\n",
       "      <th>0</th>\n",
       "      <th>1</th>\n",
       "      <th>2</th>\n",
       "      <th>3</th>\n",
       "      <th>5</th>\n",
       "      <th>6</th>\n",
       "      <th>7</th>\n",
       "      <th>8</th>\n",
       "      <th>9</th>\n",
       "      <th>10</th>\n",
       "      <th>...</th>\n",
       "      <th>2536</th>\n",
       "      <th>2537</th>\n",
       "      <th>2538</th>\n",
       "      <th>2541</th>\n",
       "      <th>2542</th>\n",
       "      <th>2544</th>\n",
       "      <th>2545</th>\n",
       "      <th>2546</th>\n",
       "      <th>2547</th>\n",
       "      <th>2548</th>\n",
       "    </tr>\n",
       "  </thead>\n",
       "  <tbody>\n",
       "    <tr>\n",
       "      <th>Healthy control 1</th>\n",
       "      <td>5.988790</td>\n",
       "      <td>2439.692620</td>\n",
       "      <td>11.780320</td>\n",
       "      <td>1040.209620</td>\n",
       "      <td>194.282820</td>\n",
       "      <td>7.189860</td>\n",
       "      <td>766.731620</td>\n",
       "      <td>5.351587</td>\n",
       "      <td>8.520220</td>\n",
       "      <td>12.028410</td>\n",
       "      <td>...</td>\n",
       "      <td>4.573345</td>\n",
       "      <td>5.137256</td>\n",
       "      <td>5.491173</td>\n",
       "      <td>4.746277</td>\n",
       "      <td>60.57162</td>\n",
       "      <td>20.96443</td>\n",
       "      <td>5.403362</td>\n",
       "      <td>13.697740</td>\n",
       "      <td>5.110449</td>\n",
       "      <td>11.07720</td>\n",
       "    </tr>\n",
       "    <tr>\n",
       "      <th>Healthy control 2</th>\n",
       "      <td>7.380677</td>\n",
       "      <td>20989.575296</td>\n",
       "      <td>15.448649</td>\n",
       "      <td>18504.673331</td>\n",
       "      <td>3965.491812</td>\n",
       "      <td>14.408822</td>\n",
       "      <td>5312.466200</td>\n",
       "      <td>6.295542</td>\n",
       "      <td>21.514407</td>\n",
       "      <td>13.892107</td>\n",
       "      <td>...</td>\n",
       "      <td>5.204015</td>\n",
       "      <td>5.192455</td>\n",
       "      <td>5.732409</td>\n",
       "      <td>5.220955</td>\n",
       "      <td>191.81740</td>\n",
       "      <td>84.03203</td>\n",
       "      <td>5.327982</td>\n",
       "      <td>213.873700</td>\n",
       "      <td>5.773773</td>\n",
       "      <td>111.66310</td>\n",
       "    </tr>\n",
       "    <tr>\n",
       "      <th>Healthy control 3</th>\n",
       "      <td>7.672810</td>\n",
       "      <td>31645.820205</td>\n",
       "      <td>13.338528</td>\n",
       "      <td>7955.195696</td>\n",
       "      <td>2217.527520</td>\n",
       "      <td>20.839338</td>\n",
       "      <td>7063.847958</td>\n",
       "      <td>6.827632</td>\n",
       "      <td>25.900714</td>\n",
       "      <td>13.863076</td>\n",
       "      <td>...</td>\n",
       "      <td>6.479215</td>\n",
       "      <td>6.616299</td>\n",
       "      <td>6.557615</td>\n",
       "      <td>5.990099</td>\n",
       "      <td>417.67460</td>\n",
       "      <td>159.89260</td>\n",
       "      <td>6.421957</td>\n",
       "      <td>184.569600</td>\n",
       "      <td>6.529618</td>\n",
       "      <td>197.37750</td>\n",
       "    </tr>\n",
       "    <tr>\n",
       "      <th>Healthy control 4</th>\n",
       "      <td>6.613076</td>\n",
       "      <td>39785.067842</td>\n",
       "      <td>13.885756</td>\n",
       "      <td>24977.608432</td>\n",
       "      <td>5927.803928</td>\n",
       "      <td>8.536264</td>\n",
       "      <td>11272.834600</td>\n",
       "      <td>6.348113</td>\n",
       "      <td>28.759241</td>\n",
       "      <td>11.372788</td>\n",
       "      <td>...</td>\n",
       "      <td>5.746677</td>\n",
       "      <td>5.548189</td>\n",
       "      <td>6.290292</td>\n",
       "      <td>5.307264</td>\n",
       "      <td>1573.82700</td>\n",
       "      <td>208.98780</td>\n",
       "      <td>5.693892</td>\n",
       "      <td>65.718150</td>\n",
       "      <td>6.206826</td>\n",
       "      <td>78.27406</td>\n",
       "    </tr>\n",
       "    <tr>\n",
       "      <th>Healthy control 5</th>\n",
       "      <td>11.527153</td>\n",
       "      <td>31230.353897</td>\n",
       "      <td>19.288142</td>\n",
       "      <td>39978.077062</td>\n",
       "      <td>9297.550922</td>\n",
       "      <td>17.881494</td>\n",
       "      <td>8031.057737</td>\n",
       "      <td>10.243077</td>\n",
       "      <td>28.621188</td>\n",
       "      <td>17.654802</td>\n",
       "      <td>...</td>\n",
       "      <td>9.177522</td>\n",
       "      <td>9.468003</td>\n",
       "      <td>9.567642</td>\n",
       "      <td>8.611114</td>\n",
       "      <td>452.85390</td>\n",
       "      <td>125.21560</td>\n",
       "      <td>8.883525</td>\n",
       "      <td>140.656100</td>\n",
       "      <td>8.768461</td>\n",
       "      <td>103.70190</td>\n",
       "    </tr>\n",
       "    <tr>\n",
       "      <th>...</th>\n",
       "      <td>...</td>\n",
       "      <td>...</td>\n",
       "      <td>...</td>\n",
       "      <td>...</td>\n",
       "      <td>...</td>\n",
       "      <td>...</td>\n",
       "      <td>...</td>\n",
       "      <td>...</td>\n",
       "      <td>...</td>\n",
       "      <td>...</td>\n",
       "      <td>...</td>\n",
       "      <td>...</td>\n",
       "      <td>...</td>\n",
       "      <td>...</td>\n",
       "      <td>...</td>\n",
       "      <td>...</td>\n",
       "      <td>...</td>\n",
       "      <td>...</td>\n",
       "      <td>...</td>\n",
       "      <td>...</td>\n",
       "      <td>...</td>\n",
       "    </tr>\n",
       "    <tr>\n",
       "      <th>LCa 602</th>\n",
       "      <td>6.630315</td>\n",
       "      <td>14162.449093</td>\n",
       "      <td>15.723833</td>\n",
       "      <td>8783.679093</td>\n",
       "      <td>1469.398093</td>\n",
       "      <td>14.214003</td>\n",
       "      <td>3092.085093</td>\n",
       "      <td>6.302444</td>\n",
       "      <td>13.702293</td>\n",
       "      <td>13.905533</td>\n",
       "      <td>...</td>\n",
       "      <td>4.960116</td>\n",
       "      <td>5.736185</td>\n",
       "      <td>5.983633</td>\n",
       "      <td>4.914857</td>\n",
       "      <td>424.69410</td>\n",
       "      <td>100.07650</td>\n",
       "      <td>5.711783</td>\n",
       "      <td>29.032590</td>\n",
       "      <td>5.653348</td>\n",
       "      <td>20.05251</td>\n",
       "    </tr>\n",
       "    <tr>\n",
       "      <th>LCa 603</th>\n",
       "      <td>7.453972</td>\n",
       "      <td>5201.956430</td>\n",
       "      <td>16.366350</td>\n",
       "      <td>13082.113940</td>\n",
       "      <td>3018.114985</td>\n",
       "      <td>14.961406</td>\n",
       "      <td>1188.150099</td>\n",
       "      <td>6.501082</td>\n",
       "      <td>13.306738</td>\n",
       "      <td>15.428598</td>\n",
       "      <td>...</td>\n",
       "      <td>6.545988</td>\n",
       "      <td>6.846935</td>\n",
       "      <td>7.094767</td>\n",
       "      <td>6.184647</td>\n",
       "      <td>12.38445</td>\n",
       "      <td>22.04146</td>\n",
       "      <td>6.820604</td>\n",
       "      <td>8.885176</td>\n",
       "      <td>6.326701</td>\n",
       "      <td>37.88817</td>\n",
       "    </tr>\n",
       "    <tr>\n",
       "      <th>LCa 604</th>\n",
       "      <td>6.983482</td>\n",
       "      <td>18575.975345</td>\n",
       "      <td>16.554675</td>\n",
       "      <td>28722.812860</td>\n",
       "      <td>5012.765042</td>\n",
       "      <td>25.232413</td>\n",
       "      <td>3565.379494</td>\n",
       "      <td>6.092412</td>\n",
       "      <td>17.952115</td>\n",
       "      <td>14.885612</td>\n",
       "      <td>...</td>\n",
       "      <td>5.785760</td>\n",
       "      <td>6.216784</td>\n",
       "      <td>6.131028</td>\n",
       "      <td>5.597585</td>\n",
       "      <td>38.32273</td>\n",
       "      <td>69.05585</td>\n",
       "      <td>6.077839</td>\n",
       "      <td>40.444190</td>\n",
       "      <td>5.603081</td>\n",
       "      <td>52.21929</td>\n",
       "    </tr>\n",
       "    <tr>\n",
       "      <th>LCa 605</th>\n",
       "      <td>6.851022</td>\n",
       "      <td>10716.217321</td>\n",
       "      <td>11.882892</td>\n",
       "      <td>7241.941542</td>\n",
       "      <td>1693.282841</td>\n",
       "      <td>13.313735</td>\n",
       "      <td>3230.107094</td>\n",
       "      <td>6.054958</td>\n",
       "      <td>17.925160</td>\n",
       "      <td>11.668931</td>\n",
       "      <td>...</td>\n",
       "      <td>5.556342</td>\n",
       "      <td>6.039240</td>\n",
       "      <td>6.153074</td>\n",
       "      <td>5.965303</td>\n",
       "      <td>301.94230</td>\n",
       "      <td>42.11646</td>\n",
       "      <td>5.853967</td>\n",
       "      <td>75.401670</td>\n",
       "      <td>5.983184</td>\n",
       "      <td>100.36380</td>\n",
       "    </tr>\n",
       "    <tr>\n",
       "      <th>LCa 606</th>\n",
       "      <td>5.377675</td>\n",
       "      <td>9057.039551</td>\n",
       "      <td>25.144660</td>\n",
       "      <td>5599.221701</td>\n",
       "      <td>1378.488984</td>\n",
       "      <td>20.992494</td>\n",
       "      <td>2569.703041</td>\n",
       "      <td>4.766267</td>\n",
       "      <td>16.748630</td>\n",
       "      <td>21.887749</td>\n",
       "      <td>...</td>\n",
       "      <td>4.639933</td>\n",
       "      <td>4.687380</td>\n",
       "      <td>5.212914</td>\n",
       "      <td>4.701260</td>\n",
       "      <td>216.27410</td>\n",
       "      <td>45.05093</td>\n",
       "      <td>4.963592</td>\n",
       "      <td>53.248750</td>\n",
       "      <td>5.016786</td>\n",
       "      <td>53.66695</td>\n",
       "    </tr>\n",
       "  </tbody>\n",
       "</table>\n",
       "<p>1570 rows × 1183 columns</p>\n",
       "</div>"
      ],
      "text/plain": [
       "                        0             1          2             3     \\\n",
       "Healthy control 1   5.988790   2439.692620  11.780320   1040.209620   \n",
       "Healthy control 2   7.380677  20989.575296  15.448649  18504.673331   \n",
       "Healthy control 3   7.672810  31645.820205  13.338528   7955.195696   \n",
       "Healthy control 4   6.613076  39785.067842  13.885756  24977.608432   \n",
       "Healthy control 5  11.527153  31230.353897  19.288142  39978.077062   \n",
       "...                      ...           ...        ...           ...   \n",
       "LCa 602             6.630315  14162.449093  15.723833   8783.679093   \n",
       "LCa 603             7.453972   5201.956430  16.366350  13082.113940   \n",
       "LCa 604             6.983482  18575.975345  16.554675  28722.812860   \n",
       "LCa 605             6.851022  10716.217321  11.882892   7241.941542   \n",
       "LCa 606             5.377675   9057.039551  25.144660   5599.221701   \n",
       "\n",
       "                          5          6             7          8          9     \\\n",
       "Healthy control 1   194.282820   7.189860    766.731620   5.351587   8.520220   \n",
       "Healthy control 2  3965.491812  14.408822   5312.466200   6.295542  21.514407   \n",
       "Healthy control 3  2217.527520  20.839338   7063.847958   6.827632  25.900714   \n",
       "Healthy control 4  5927.803928   8.536264  11272.834600   6.348113  28.759241   \n",
       "Healthy control 5  9297.550922  17.881494   8031.057737  10.243077  28.621188   \n",
       "...                        ...        ...           ...        ...        ...   \n",
       "LCa 602            1469.398093  14.214003   3092.085093   6.302444  13.702293   \n",
       "LCa 603            3018.114985  14.961406   1188.150099   6.501082  13.306738   \n",
       "LCa 604            5012.765042  25.232413   3565.379494   6.092412  17.952115   \n",
       "LCa 605            1693.282841  13.313735   3230.107094   6.054958  17.925160   \n",
       "LCa 606            1378.488984  20.992494   2569.703041   4.766267  16.748630   \n",
       "\n",
       "                        10    ...      2536      2537      2538      2541  \\\n",
       "Healthy control 1  12.028410  ...  4.573345  5.137256  5.491173  4.746277   \n",
       "Healthy control 2  13.892107  ...  5.204015  5.192455  5.732409  5.220955   \n",
       "Healthy control 3  13.863076  ...  6.479215  6.616299  6.557615  5.990099   \n",
       "Healthy control 4  11.372788  ...  5.746677  5.548189  6.290292  5.307264   \n",
       "Healthy control 5  17.654802  ...  9.177522  9.468003  9.567642  8.611114   \n",
       "...                      ...  ...       ...       ...       ...       ...   \n",
       "LCa 602            13.905533  ...  4.960116  5.736185  5.983633  4.914857   \n",
       "LCa 603            15.428598  ...  6.545988  6.846935  7.094767  6.184647   \n",
       "LCa 604            14.885612  ...  5.785760  6.216784  6.131028  5.597585   \n",
       "LCa 605            11.668931  ...  5.556342  6.039240  6.153074  5.965303   \n",
       "LCa 606            21.887749  ...  4.639933  4.687380  5.212914  4.701260   \n",
       "\n",
       "                         2542       2544      2545        2546      2547  \\\n",
       "Healthy control 1    60.57162   20.96443  5.403362   13.697740  5.110449   \n",
       "Healthy control 2   191.81740   84.03203  5.327982  213.873700  5.773773   \n",
       "Healthy control 3   417.67460  159.89260  6.421957  184.569600  6.529618   \n",
       "Healthy control 4  1573.82700  208.98780  5.693892   65.718150  6.206826   \n",
       "Healthy control 5   452.85390  125.21560  8.883525  140.656100  8.768461   \n",
       "...                       ...        ...       ...         ...       ...   \n",
       "LCa 602             424.69410  100.07650  5.711783   29.032590  5.653348   \n",
       "LCa 603              12.38445   22.04146  6.820604    8.885176  6.326701   \n",
       "LCa 604              38.32273   69.05585  6.077839   40.444190  5.603081   \n",
       "LCa 605             301.94230   42.11646  5.853967   75.401670  5.983184   \n",
       "LCa 606             216.27410   45.05093  4.963592   53.248750  5.016786   \n",
       "\n",
       "                        2548  \n",
       "Healthy control 1   11.07720  \n",
       "Healthy control 2  111.66310  \n",
       "Healthy control 3  197.37750  \n",
       "Healthy control 4   78.27406  \n",
       "Healthy control 5  103.70190  \n",
       "...                      ...  \n",
       "LCa 602             20.05251  \n",
       "LCa 603             37.88817  \n",
       "LCa 604             52.21929  \n",
       "LCa 605            100.36380  \n",
       "LCa 606             53.66695  \n",
       "\n",
       "[1570 rows x 1183 columns]"
      ]
     },
     "execution_count": 21,
     "metadata": {},
     "output_type": "execute_result"
    }
   ],
   "source": [
    "X"
   ]
  },
  {
   "cell_type": "code",
   "execution_count": 22,
   "metadata": {},
   "outputs": [],
   "source": [
    "X_healthy, X_cancer = X[controls == 1], X[sick == 1]"
   ]
  },
  {
   "cell_type": "code",
   "execution_count": 23,
   "metadata": {},
   "outputs": [],
   "source": [
    "results = ttest_ind(X_healthy, X_cancer).pvalue"
   ]
  },
  {
   "cell_type": "code",
   "execution_count": 24,
   "metadata": {},
   "outputs": [],
   "source": [
    "lowest, pvalues = np.argsort(results)[:5], np.sort(results)[:5]"
   ]
  },
  {
   "cell_type": "code",
   "execution_count": 25,
   "metadata": {},
   "outputs": [
    {
     "data": {
      "text/plain": [
       "(669     hsa-miR-33b-3p\n",
       " 170       hsa-miR-1290\n",
       " 808    hsa-miR-374c-5p\n",
       " 343     hsa-miR-197-3p\n",
       " 806    hsa-miR-374b-5p\n",
       " Name: miRNA, dtype: object,\n",
       " array([1.58606926e-36, 8.98444609e-35, 2.47992908e-34, 1.53619046e-33,\n",
       "        5.45921846e-32]))"
      ]
     },
     "execution_count": 25,
     "metadata": {},
     "output_type": "execute_result"
    }
   ],
   "source": [
    "table.iloc[lowest, 0], pvalues"
   ]
  },
  {
   "cell_type": "markdown",
   "metadata": {},
   "source": [
    "### F-test"
   ]
  },
  {
   "cell_type": "code",
   "execution_count": 26,
   "metadata": {},
   "outputs": [],
   "source": [
    "t3 = table.iloc[:, 1:].transpose()"
   ]
  },
  {
   "cell_type": "code",
   "execution_count": 27,
   "metadata": {},
   "outputs": [],
   "source": [
    "f, p = f_classif(t3, sick)"
   ]
  },
  {
   "cell_type": "markdown",
   "metadata": {},
   "source": [
    "### ANOVA"
   ]
  },
  {
   "cell_type": "code",
   "execution_count": 28,
   "metadata": {},
   "outputs": [
    {
     "data": {
      "text/html": [
       "<div>\n",
       "<style scoped>\n",
       "    .dataframe tbody tr th:only-of-type {\n",
       "        vertical-align: middle;\n",
       "    }\n",
       "\n",
       "    .dataframe tbody tr th {\n",
       "        vertical-align: top;\n",
       "    }\n",
       "\n",
       "    .dataframe thead th {\n",
       "        text-align: right;\n",
       "    }\n",
       "</style>\n",
       "<table border=\"1\" class=\"dataframe\">\n",
       "  <thead>\n",
       "    <tr style=\"text-align: right;\">\n",
       "      <th></th>\n",
       "      <th>0</th>\n",
       "      <th>1</th>\n",
       "      <th>2</th>\n",
       "      <th>3</th>\n",
       "      <th>5</th>\n",
       "      <th>6</th>\n",
       "      <th>7</th>\n",
       "      <th>8</th>\n",
       "      <th>9</th>\n",
       "      <th>10</th>\n",
       "      <th>...</th>\n",
       "      <th>2536</th>\n",
       "      <th>2537</th>\n",
       "      <th>2538</th>\n",
       "      <th>2541</th>\n",
       "      <th>2542</th>\n",
       "      <th>2544</th>\n",
       "      <th>2545</th>\n",
       "      <th>2546</th>\n",
       "      <th>2547</th>\n",
       "      <th>2548</th>\n",
       "    </tr>\n",
       "  </thead>\n",
       "  <tbody>\n",
       "    <tr>\n",
       "      <th>Healthy control 1</th>\n",
       "      <td>5.988790</td>\n",
       "      <td>2439.692620</td>\n",
       "      <td>11.780320</td>\n",
       "      <td>1040.209620</td>\n",
       "      <td>194.282820</td>\n",
       "      <td>7.189860</td>\n",
       "      <td>766.731620</td>\n",
       "      <td>5.351587</td>\n",
       "      <td>8.520220</td>\n",
       "      <td>12.028410</td>\n",
       "      <td>...</td>\n",
       "      <td>4.573345</td>\n",
       "      <td>5.137256</td>\n",
       "      <td>5.491173</td>\n",
       "      <td>4.746277</td>\n",
       "      <td>60.57162</td>\n",
       "      <td>20.96443</td>\n",
       "      <td>5.403362</td>\n",
       "      <td>13.697740</td>\n",
       "      <td>5.110449</td>\n",
       "      <td>11.07720</td>\n",
       "    </tr>\n",
       "    <tr>\n",
       "      <th>Healthy control 2</th>\n",
       "      <td>7.380677</td>\n",
       "      <td>20989.575296</td>\n",
       "      <td>15.448649</td>\n",
       "      <td>18504.673331</td>\n",
       "      <td>3965.491812</td>\n",
       "      <td>14.408822</td>\n",
       "      <td>5312.466200</td>\n",
       "      <td>6.295542</td>\n",
       "      <td>21.514407</td>\n",
       "      <td>13.892107</td>\n",
       "      <td>...</td>\n",
       "      <td>5.204015</td>\n",
       "      <td>5.192455</td>\n",
       "      <td>5.732409</td>\n",
       "      <td>5.220955</td>\n",
       "      <td>191.81740</td>\n",
       "      <td>84.03203</td>\n",
       "      <td>5.327982</td>\n",
       "      <td>213.873700</td>\n",
       "      <td>5.773773</td>\n",
       "      <td>111.66310</td>\n",
       "    </tr>\n",
       "    <tr>\n",
       "      <th>Healthy control 3</th>\n",
       "      <td>7.672810</td>\n",
       "      <td>31645.820205</td>\n",
       "      <td>13.338528</td>\n",
       "      <td>7955.195696</td>\n",
       "      <td>2217.527520</td>\n",
       "      <td>20.839338</td>\n",
       "      <td>7063.847958</td>\n",
       "      <td>6.827632</td>\n",
       "      <td>25.900714</td>\n",
       "      <td>13.863076</td>\n",
       "      <td>...</td>\n",
       "      <td>6.479215</td>\n",
       "      <td>6.616299</td>\n",
       "      <td>6.557615</td>\n",
       "      <td>5.990099</td>\n",
       "      <td>417.67460</td>\n",
       "      <td>159.89260</td>\n",
       "      <td>6.421957</td>\n",
       "      <td>184.569600</td>\n",
       "      <td>6.529618</td>\n",
       "      <td>197.37750</td>\n",
       "    </tr>\n",
       "    <tr>\n",
       "      <th>Healthy control 4</th>\n",
       "      <td>6.613076</td>\n",
       "      <td>39785.067842</td>\n",
       "      <td>13.885756</td>\n",
       "      <td>24977.608432</td>\n",
       "      <td>5927.803928</td>\n",
       "      <td>8.536264</td>\n",
       "      <td>11272.834600</td>\n",
       "      <td>6.348113</td>\n",
       "      <td>28.759241</td>\n",
       "      <td>11.372788</td>\n",
       "      <td>...</td>\n",
       "      <td>5.746677</td>\n",
       "      <td>5.548189</td>\n",
       "      <td>6.290292</td>\n",
       "      <td>5.307264</td>\n",
       "      <td>1573.82700</td>\n",
       "      <td>208.98780</td>\n",
       "      <td>5.693892</td>\n",
       "      <td>65.718150</td>\n",
       "      <td>6.206826</td>\n",
       "      <td>78.27406</td>\n",
       "    </tr>\n",
       "    <tr>\n",
       "      <th>Healthy control 5</th>\n",
       "      <td>11.527153</td>\n",
       "      <td>31230.353897</td>\n",
       "      <td>19.288142</td>\n",
       "      <td>39978.077062</td>\n",
       "      <td>9297.550922</td>\n",
       "      <td>17.881494</td>\n",
       "      <td>8031.057737</td>\n",
       "      <td>10.243077</td>\n",
       "      <td>28.621188</td>\n",
       "      <td>17.654802</td>\n",
       "      <td>...</td>\n",
       "      <td>9.177522</td>\n",
       "      <td>9.468003</td>\n",
       "      <td>9.567642</td>\n",
       "      <td>8.611114</td>\n",
       "      <td>452.85390</td>\n",
       "      <td>125.21560</td>\n",
       "      <td>8.883525</td>\n",
       "      <td>140.656100</td>\n",
       "      <td>8.768461</td>\n",
       "      <td>103.70190</td>\n",
       "    </tr>\n",
       "    <tr>\n",
       "      <th>...</th>\n",
       "      <td>...</td>\n",
       "      <td>...</td>\n",
       "      <td>...</td>\n",
       "      <td>...</td>\n",
       "      <td>...</td>\n",
       "      <td>...</td>\n",
       "      <td>...</td>\n",
       "      <td>...</td>\n",
       "      <td>...</td>\n",
       "      <td>...</td>\n",
       "      <td>...</td>\n",
       "      <td>...</td>\n",
       "      <td>...</td>\n",
       "      <td>...</td>\n",
       "      <td>...</td>\n",
       "      <td>...</td>\n",
       "      <td>...</td>\n",
       "      <td>...</td>\n",
       "      <td>...</td>\n",
       "      <td>...</td>\n",
       "      <td>...</td>\n",
       "    </tr>\n",
       "    <tr>\n",
       "      <th>LCa 602</th>\n",
       "      <td>6.630315</td>\n",
       "      <td>14162.449093</td>\n",
       "      <td>15.723833</td>\n",
       "      <td>8783.679093</td>\n",
       "      <td>1469.398093</td>\n",
       "      <td>14.214003</td>\n",
       "      <td>3092.085093</td>\n",
       "      <td>6.302444</td>\n",
       "      <td>13.702293</td>\n",
       "      <td>13.905533</td>\n",
       "      <td>...</td>\n",
       "      <td>4.960116</td>\n",
       "      <td>5.736185</td>\n",
       "      <td>5.983633</td>\n",
       "      <td>4.914857</td>\n",
       "      <td>424.69410</td>\n",
       "      <td>100.07650</td>\n",
       "      <td>5.711783</td>\n",
       "      <td>29.032590</td>\n",
       "      <td>5.653348</td>\n",
       "      <td>20.05251</td>\n",
       "    </tr>\n",
       "    <tr>\n",
       "      <th>LCa 603</th>\n",
       "      <td>7.453972</td>\n",
       "      <td>5201.956430</td>\n",
       "      <td>16.366350</td>\n",
       "      <td>13082.113940</td>\n",
       "      <td>3018.114985</td>\n",
       "      <td>14.961406</td>\n",
       "      <td>1188.150099</td>\n",
       "      <td>6.501082</td>\n",
       "      <td>13.306738</td>\n",
       "      <td>15.428598</td>\n",
       "      <td>...</td>\n",
       "      <td>6.545988</td>\n",
       "      <td>6.846935</td>\n",
       "      <td>7.094767</td>\n",
       "      <td>6.184647</td>\n",
       "      <td>12.38445</td>\n",
       "      <td>22.04146</td>\n",
       "      <td>6.820604</td>\n",
       "      <td>8.885176</td>\n",
       "      <td>6.326701</td>\n",
       "      <td>37.88817</td>\n",
       "    </tr>\n",
       "    <tr>\n",
       "      <th>LCa 604</th>\n",
       "      <td>6.983482</td>\n",
       "      <td>18575.975345</td>\n",
       "      <td>16.554675</td>\n",
       "      <td>28722.812860</td>\n",
       "      <td>5012.765042</td>\n",
       "      <td>25.232413</td>\n",
       "      <td>3565.379494</td>\n",
       "      <td>6.092412</td>\n",
       "      <td>17.952115</td>\n",
       "      <td>14.885612</td>\n",
       "      <td>...</td>\n",
       "      <td>5.785760</td>\n",
       "      <td>6.216784</td>\n",
       "      <td>6.131028</td>\n",
       "      <td>5.597585</td>\n",
       "      <td>38.32273</td>\n",
       "      <td>69.05585</td>\n",
       "      <td>6.077839</td>\n",
       "      <td>40.444190</td>\n",
       "      <td>5.603081</td>\n",
       "      <td>52.21929</td>\n",
       "    </tr>\n",
       "    <tr>\n",
       "      <th>LCa 605</th>\n",
       "      <td>6.851022</td>\n",
       "      <td>10716.217321</td>\n",
       "      <td>11.882892</td>\n",
       "      <td>7241.941542</td>\n",
       "      <td>1693.282841</td>\n",
       "      <td>13.313735</td>\n",
       "      <td>3230.107094</td>\n",
       "      <td>6.054958</td>\n",
       "      <td>17.925160</td>\n",
       "      <td>11.668931</td>\n",
       "      <td>...</td>\n",
       "      <td>5.556342</td>\n",
       "      <td>6.039240</td>\n",
       "      <td>6.153074</td>\n",
       "      <td>5.965303</td>\n",
       "      <td>301.94230</td>\n",
       "      <td>42.11646</td>\n",
       "      <td>5.853967</td>\n",
       "      <td>75.401670</td>\n",
       "      <td>5.983184</td>\n",
       "      <td>100.36380</td>\n",
       "    </tr>\n",
       "    <tr>\n",
       "      <th>LCa 606</th>\n",
       "      <td>5.377675</td>\n",
       "      <td>9057.039551</td>\n",
       "      <td>25.144660</td>\n",
       "      <td>5599.221701</td>\n",
       "      <td>1378.488984</td>\n",
       "      <td>20.992494</td>\n",
       "      <td>2569.703041</td>\n",
       "      <td>4.766267</td>\n",
       "      <td>16.748630</td>\n",
       "      <td>21.887749</td>\n",
       "      <td>...</td>\n",
       "      <td>4.639933</td>\n",
       "      <td>4.687380</td>\n",
       "      <td>5.212914</td>\n",
       "      <td>4.701260</td>\n",
       "      <td>216.27410</td>\n",
       "      <td>45.05093</td>\n",
       "      <td>4.963592</td>\n",
       "      <td>53.248750</td>\n",
       "      <td>5.016786</td>\n",
       "      <td>53.66695</td>\n",
       "    </tr>\n",
       "  </tbody>\n",
       "</table>\n",
       "<p>1570 rows × 1183 columns</p>\n",
       "</div>"
      ],
      "text/plain": [
       "                        0             1          2             3     \\\n",
       "Healthy control 1   5.988790   2439.692620  11.780320   1040.209620   \n",
       "Healthy control 2   7.380677  20989.575296  15.448649  18504.673331   \n",
       "Healthy control 3   7.672810  31645.820205  13.338528   7955.195696   \n",
       "Healthy control 4   6.613076  39785.067842  13.885756  24977.608432   \n",
       "Healthy control 5  11.527153  31230.353897  19.288142  39978.077062   \n",
       "...                      ...           ...        ...           ...   \n",
       "LCa 602             6.630315  14162.449093  15.723833   8783.679093   \n",
       "LCa 603             7.453972   5201.956430  16.366350  13082.113940   \n",
       "LCa 604             6.983482  18575.975345  16.554675  28722.812860   \n",
       "LCa 605             6.851022  10716.217321  11.882892   7241.941542   \n",
       "LCa 606             5.377675   9057.039551  25.144660   5599.221701   \n",
       "\n",
       "                          5          6             7          8          9     \\\n",
       "Healthy control 1   194.282820   7.189860    766.731620   5.351587   8.520220   \n",
       "Healthy control 2  3965.491812  14.408822   5312.466200   6.295542  21.514407   \n",
       "Healthy control 3  2217.527520  20.839338   7063.847958   6.827632  25.900714   \n",
       "Healthy control 4  5927.803928   8.536264  11272.834600   6.348113  28.759241   \n",
       "Healthy control 5  9297.550922  17.881494   8031.057737  10.243077  28.621188   \n",
       "...                        ...        ...           ...        ...        ...   \n",
       "LCa 602            1469.398093  14.214003   3092.085093   6.302444  13.702293   \n",
       "LCa 603            3018.114985  14.961406   1188.150099   6.501082  13.306738   \n",
       "LCa 604            5012.765042  25.232413   3565.379494   6.092412  17.952115   \n",
       "LCa 605            1693.282841  13.313735   3230.107094   6.054958  17.925160   \n",
       "LCa 606            1378.488984  20.992494   2569.703041   4.766267  16.748630   \n",
       "\n",
       "                        10    ...      2536      2537      2538      2541  \\\n",
       "Healthy control 1  12.028410  ...  4.573345  5.137256  5.491173  4.746277   \n",
       "Healthy control 2  13.892107  ...  5.204015  5.192455  5.732409  5.220955   \n",
       "Healthy control 3  13.863076  ...  6.479215  6.616299  6.557615  5.990099   \n",
       "Healthy control 4  11.372788  ...  5.746677  5.548189  6.290292  5.307264   \n",
       "Healthy control 5  17.654802  ...  9.177522  9.468003  9.567642  8.611114   \n",
       "...                      ...  ...       ...       ...       ...       ...   \n",
       "LCa 602            13.905533  ...  4.960116  5.736185  5.983633  4.914857   \n",
       "LCa 603            15.428598  ...  6.545988  6.846935  7.094767  6.184647   \n",
       "LCa 604            14.885612  ...  5.785760  6.216784  6.131028  5.597585   \n",
       "LCa 605            11.668931  ...  5.556342  6.039240  6.153074  5.965303   \n",
       "LCa 606            21.887749  ...  4.639933  4.687380  5.212914  4.701260   \n",
       "\n",
       "                         2542       2544      2545        2546      2547  \\\n",
       "Healthy control 1    60.57162   20.96443  5.403362   13.697740  5.110449   \n",
       "Healthy control 2   191.81740   84.03203  5.327982  213.873700  5.773773   \n",
       "Healthy control 3   417.67460  159.89260  6.421957  184.569600  6.529618   \n",
       "Healthy control 4  1573.82700  208.98780  5.693892   65.718150  6.206826   \n",
       "Healthy control 5   452.85390  125.21560  8.883525  140.656100  8.768461   \n",
       "...                       ...        ...       ...         ...       ...   \n",
       "LCa 602             424.69410  100.07650  5.711783   29.032590  5.653348   \n",
       "LCa 603              12.38445   22.04146  6.820604    8.885176  6.326701   \n",
       "LCa 604              38.32273   69.05585  6.077839   40.444190  5.603081   \n",
       "LCa 605             301.94230   42.11646  5.853967   75.401670  5.983184   \n",
       "LCa 606             216.27410   45.05093  4.963592   53.248750  5.016786   \n",
       "\n",
       "                        2548  \n",
       "Healthy control 1   11.07720  \n",
       "Healthy control 2  111.66310  \n",
       "Healthy control 3  197.37750  \n",
       "Healthy control 4   78.27406  \n",
       "Healthy control 5  103.70190  \n",
       "...                      ...  \n",
       "LCa 602             20.05251  \n",
       "LCa 603             37.88817  \n",
       "LCa 604             52.21929  \n",
       "LCa 605            100.36380  \n",
       "LCa 606             53.66695  \n",
       "\n",
       "[1570 rows x 1183 columns]"
      ]
     },
     "execution_count": 28,
     "metadata": {},
     "output_type": "execute_result"
    }
   ],
   "source": [
    "t3"
   ]
  },
  {
   "cell_type": "code",
   "execution_count": 29,
   "metadata": {},
   "outputs": [],
   "source": [
    "X = np.array(sick).reshape(-1, 1)"
   ]
  },
  {
   "cell_type": "code",
   "execution_count": 30,
   "metadata": {},
   "outputs": [
    {
     "data": {
      "text/plain": [
       "LinearRegression()"
      ]
     },
     "execution_count": 30,
     "metadata": {},
     "output_type": "execute_result"
    }
   ],
   "source": [
    "linreg = LinearRegression()\n",
    "linreg.fit(X, t3)"
   ]
  },
  {
   "cell_type": "code",
   "execution_count": 31,
   "metadata": {},
   "outputs": [
    {
     "data": {
      "text/plain": [
       "0.017835140761690446"
      ]
     },
     "execution_count": 31,
     "metadata": {},
     "output_type": "execute_result"
    }
   ],
   "source": [
    "fitted = linreg.predict(X)\n",
    "explained_variance_score(t3, fitted)"
   ]
  },
  {
   "cell_type": "markdown",
   "metadata": {},
   "source": [
    "### Mean-variance-plot"
   ]
  },
  {
   "cell_type": "code",
   "execution_count": 32,
   "metadata": {},
   "outputs": [],
   "source": [
    "mirnas = table.iloc[:, 0]\n",
    "table = table.iloc[:, 1:]"
   ]
  },
  {
   "cell_type": "code",
   "execution_count": 33,
   "metadata": {},
   "outputs": [],
   "source": [
    "table = table.transpose()"
   ]
  },
  {
   "cell_type": "code",
   "execution_count": 34,
   "metadata": {},
   "outputs": [
    {
     "data": {
      "text/plain": [
       "0           8.698312\n",
       "1       21509.998919\n",
       "2          17.238233\n",
       "3       14910.120551\n",
       "5        3325.690826\n",
       "            ...     \n",
       "2544      113.034860\n",
       "2545        7.389639\n",
       "2546       78.029518\n",
       "2547        7.773996\n",
       "2548       74.078543\n",
       "Length: 1183, dtype: float64"
      ]
     },
     "execution_count": 34,
     "metadata": {},
     "output_type": "execute_result"
    }
   ],
   "source": [
    "np.mean(table)"
   ]
  },
  {
   "cell_type": "code",
   "execution_count": 35,
   "metadata": {
    "tags": []
   },
   "outputs": [],
   "source": [
    "def get_means_and_variances(table):\n",
    "    return np.mean(table), np.var(table, ddof=1)"
   ]
  },
  {
   "cell_type": "code",
   "execution_count": 36,
   "metadata": {
    "tags": []
   },
   "outputs": [],
   "source": [
    "def mean_variance_plot(table):\n",
    "    means, variances = get_means_and_variances(table)\n",
    "    plt.scatter(means, variances)\n",
    "    plt.xlabel(\"mean\")\n",
    "    plt.ylabel(\"variance\")\n",
    "    plt.plot()"
   ]
  },
  {
   "cell_type": "code",
   "execution_count": 37,
   "metadata": {},
   "outputs": [
    {
     "data": {
      "image/png": "[encoded data removed]",
      "text/plain": [
       "<Figure size 432x288 with 1 Axes>"
      ]
     },
     "metadata": {
      "needs_background": "light"
     },
     "output_type": "display_data"
    }
   ],
   "source": [
    "mean_variance_plot(table)"
   ]
  },
  {
   "cell_type": "code",
   "execution_count": 38,
   "metadata": {},
   "outputs": [],
   "source": [
    "log_table = np.log2(table)"
   ]
  },
  {
   "cell_type": "code",
   "execution_count": 39,
   "metadata": {},
   "outputs": [
    {
     "data": {
      "image/png": "[encoded data removed]",
      "text/plain": [
       "<Figure size 432x288 with 1 Axes>"
      ]
     },
     "metadata": {
      "needs_background": "light"
     },
     "output_type": "display_data"
    }
   ],
   "source": [
    "mean_variance_plot(log_table)"
   ]
  },
  {
   "cell_type": "code",
   "execution_count": 40,
   "metadata": {},
   "outputs": [
    {
     "data": {
      "image/png": "[encoded data removed]",
      "text/plain": [
       "<Figure size 432x288 with 1 Axes>"
      ]
     },
     "metadata": {
      "needs_background": "light"
     },
     "output_type": "display_data"
    }
   ],
   "source": [
    "mean_variance_plot(log_table.loc[:, np.mean(log_table) < 3.5])"
   ]
  },
  {
   "cell_type": "code",
   "execution_count": 41,
   "metadata": {},
   "outputs": [],
   "source": [
    "mask = np.mean(log_table) > 3.2\n",
    "mirnas = mirnas[mask]\n",
    "log_table = log_table.loc[:, mask]"
   ]
  },
  {
   "cell_type": "markdown",
   "metadata": {
    "tags": []
   },
   "source": [
    "### Loess regression"
   ]
  },
  {
   "cell_type": "code",
   "execution_count": 42,
   "metadata": {
    "tags": []
   },
   "outputs": [],
   "source": [
    "lowess = LowessRegression(sigma=1, span=0.1)"
   ]
  },
  {
   "cell_type": "code",
   "execution_count": 43,
   "metadata": {},
   "outputs": [
    {
     "data": {
      "text/plain": [
       "LowessRegression(span=0.1)"
      ]
     },
     "execution_count": 43,
     "metadata": {},
     "output_type": "execute_result"
    }
   ],
   "source": [
    "means, variances = get_means_and_variances(log_table)\n",
    "lowess.fit(means.to_numpy().reshape(-1,1), variances)"
   ]
  },
  {
   "cell_type": "code",
   "execution_count": 44,
   "metadata": {},
   "outputs": [],
   "source": [
    "x_axis = np.linspace(-2, 14, 100)\n",
    "y_axis = lowess.predict(x_axis.reshape(-1,1))"
   ]
  },
  {
   "cell_type": "code",
   "execution_count": 45,
   "metadata": {},
   "outputs": [
    {
     "data": {
      "text/plain": [
       "[]"
      ]
     },
     "execution_count": 45,
     "metadata": {},
     "output_type": "execute_result"
    },
    {
     "data": {
      "image/png": "[encoded data removed]",
      "text/plain": [
       "<Figure size 432x288 with 1 Axes>"
      ]
     },
     "metadata": {
      "needs_background": "light"
     },
     "output_type": "display_data"
    }
   ],
   "source": [
    "plt.scatter(means, variances, color=\"b\")\n",
    "plt.scatter(x_axis, y_axis, color=\"y\")\n",
    "plt.xlabel(\"mean\")\n",
    "plt.ylabel(\"variance\")\n",
    "plt.legend([\"Sample points\", \"Lowess regression\"])\n",
    "plt.plot()"
   ]
  },
  {
   "cell_type": "markdown",
   "metadata": {
    "tags": []
   },
   "source": [
    "### Lowess normalization"
   ]
  },
  {
   "cell_type": "code",
   "execution_count": 46,
   "metadata": {},
   "outputs": [],
   "source": [
    "adj_var = lowess.predict(means.to_numpy().reshape(-1, 1))"
   ]
  },
  {
   "cell_type": "code",
   "execution_count": 47,
   "metadata": {
    "tags": []
   },
   "outputs": [],
   "source": [
    "log_table /= np.sqrt(adj_var)"
   ]
  },
  {
   "cell_type": "code",
   "execution_count": 48,
   "metadata": {},
   "outputs": [
    {
     "data": {
      "image/png": "[encoded data removed]",
      "text/plain": [
       "<Figure size 432x288 with 1 Axes>"
      ]
     },
     "metadata": {
      "needs_background": "light"
     },
     "output_type": "display_data"
    }
   ],
   "source": [
    "mean_variance_plot(log_table)"
   ]
  },
  {
   "cell_type": "code",
   "execution_count": 49,
   "metadata": {},
   "outputs": [
    {
     "data": {
      "image/png": "[encoded data removed]",
      "text/plain": [
       "<Figure size 432x288 with 1 Axes>"
      ]
     },
     "metadata": {
      "needs_background": "light"
     },
     "output_type": "display_data"
    }
   ],
   "source": [
    "norm_log_table = log_table - np.mean(log_table)\n",
    "norm_log_table /= np.sqrt(np.mean(np.var(norm_log_table, ddof=1)))\n",
    "mean_variance_plot(norm_log_table)"
   ]
  },
  {
   "cell_type": "code",
   "execution_count": 50,
   "metadata": {
    "tags": []
   },
   "outputs": [],
   "source": [
    "norm_log_table = log_table - np.mean(log_table)"
   ]
  },
  {
   "cell_type": "code",
   "execution_count": 51,
   "metadata": {},
   "outputs": [],
   "source": [
    "norm_log_table /= np.mean(np.std(norm_log_table))"
   ]
  },
  {
   "cell_type": "code",
   "execution_count": 52,
   "metadata": {},
   "outputs": [
    {
     "data": {
      "image/png": "[encoded data removed]",
      "text/plain": [
       "<Figure size 432x288 with 1 Axes>"
      ]
     },
     "metadata": {
      "needs_background": "light"
     },
     "output_type": "display_data"
    }
   ],
   "source": [
    "mean_variance_plot(norm_log_table)"
   ]
  },
  {
   "cell_type": "markdown",
   "metadata": {},
   "source": [
    "### PCA"
   ]
  },
  {
   "cell_type": "code",
   "execution_count": 53,
   "metadata": {
    "tags": []
   },
   "outputs": [],
   "source": [
    "pca = decomposition.PCA(n_components=10)"
   ]
  },
  {
   "cell_type": "code",
   "execution_count": 54,
   "metadata": {},
   "outputs": [
    {
     "data": {
      "text/plain": [
       "PCA(n_components=10)"
      ]
     },
     "execution_count": 54,
     "metadata": {},
     "output_type": "execute_result"
    }
   ],
   "source": [
    "pca.fit(norm_log_table)"
   ]
  },
  {
   "cell_type": "code",
   "execution_count": 55,
   "metadata": {},
   "outputs": [
    {
     "data": {
      "text/plain": [
       "array([0.58078646, 0.10997117, 0.05605678, 0.04542249, 0.02142224,\n",
       "       0.01940129, 0.01557878, 0.01239268, 0.012188  , 0.00951069])"
      ]
     },
     "execution_count": 55,
     "metadata": {},
     "output_type": "execute_result"
    }
   ],
   "source": [
    "pca.explained_variance_ratio_"
   ]
  },
  {
   "cell_type": "code",
   "execution_count": 56,
   "metadata": {
    "tags": []
   },
   "outputs": [],
   "source": [
    "components = pca.transform(norm_log_table)"
   ]
  },
  {
   "cell_type": "code",
   "execution_count": 57,
   "metadata": {},
   "outputs": [
    {
     "data": {
      "text/plain": [
       "array([[ 25.77472328,  -4.14117952,   1.55314691, ...,   1.1602003 ,\n",
       "         -0.18630459,  -0.42546996],\n",
       "       [-10.11765159,  -4.14504529,  -7.7990883 , ...,   6.76965716,\n",
       "         -1.79270946,   2.3013167 ],\n",
       "       [-11.74284592,  -8.44551888,  -3.76542643, ...,  -0.63104288,\n",
       "          1.2906096 ,   3.08875415],\n",
       "       ...,\n",
       "       [ -2.44830061,  -2.80935606,  -7.82514775, ...,   2.52783692,\n",
       "          3.9572109 ,   2.636944  ],\n",
       "       [ -8.48241883,   0.06760335,  -4.18616057, ...,   2.16693153,\n",
       "          1.62585694,  -0.23296607],\n",
       "       [ -0.79032667,  -5.79150286,  -6.8807782 , ...,   6.31833045,\n",
       "          1.73284993,   1.00412167]])"
      ]
     },
     "execution_count": 57,
     "metadata": {},
     "output_type": "execute_result"
    }
   ],
   "source": [
    "components"
   ]
  },
  {
   "cell_type": "code",
   "execution_count": 58,
   "metadata": {},
   "outputs": [
    {
     "data": {
      "text/plain": [
       "964"
      ]
     },
     "execution_count": 58,
     "metadata": {},
     "output_type": "execute_result"
    }
   ],
   "source": [
    "sum(controls)"
   ]
  },
  {
   "cell_type": "code",
   "execution_count": 59,
   "metadata": {},
   "outputs": [
    {
     "data": {
      "image/png": "[encoded data removed]",
      "text/plain": [
       "<Figure size 576x576 with 1 Axes>"
      ]
     },
     "metadata": {
      "needs_background": "light"
     },
     "output_type": "display_data"
    }
   ],
   "source": [
    "fig = plt.figure(figsize = (8,8))\n",
    "ax = fig.add_subplot(1,1,1)\n",
    "\n",
    "ax.set_xlabel('Principal Component 1', fontsize = 15)\n",
    "ax.set_ylabel('Principal Component 2', fontsize = 15)\n",
    "ax.set_title('2 component PCA', fontsize = 20)\n",
    "targets = ['Cancer', 'Healthy']\n",
    "colors = ['r', 'g']\n",
    "ax.scatter(components[controls == False, 0], components[controls == False, 1], c = 'r', s = 10)\n",
    "ax.scatter(components[controls == True, 0], components[controls == True, 1], c = 'g', s = 10)\n",
    "ax.legend(targets)\n",
    "ax.grid()"
   ]
  },
  {
   "cell_type": "code",
   "execution_count": 60,
   "metadata": {
    "tags": []
   },
   "outputs": [],
   "source": [
    "components2 = components[components[:,0] < 20, :]\n",
    "controls2 = controls[components[:,0] < 20]"
   ]
  },
  {
   "cell_type": "code",
   "execution_count": 61,
   "metadata": {},
   "outputs": [
    {
     "data": {
      "image/png": "[encoded data removed]",
      "text/plain": [
       "<Figure size 576x576 with 1 Axes>"
      ]
     },
     "metadata": {
      "needs_background": "light"
     },
     "output_type": "display_data"
    }
   ],
   "source": [
    "fig = plt.figure(figsize = (8,8))\n",
    "ax = fig.add_subplot(1,1,1)\n",
    "\n",
    "ax.set_xlabel('Principal Component 1', fontsize = 15)\n",
    "ax.set_ylabel('Principal Component 2', fontsize = 15)\n",
    "ax.set_title('2 component PCA', fontsize = 20)\n",
    "targets = ['Cancer', 'Healthy']\n",
    "colors = ['r', 'g']\n",
    "ax.scatter(components2[controls2 == False, 0], components2[controls2 == False, 1], c = 'r', s = 10)\n",
    "ax.scatter(components2[controls2 == True, 0], components2[controls2 == True, 1], c = 'g', s = 10)\n",
    "ax.legend(targets)\n",
    "ax.grid()"
   ]
  },
  {
   "cell_type": "markdown",
   "metadata": {
    "jupyter": {
     "outputs_hidden": true
    }
   },
   "source": [
    "### XGBoost"
   ]
  },
  {
   "cell_type": "code",
   "execution_count": 62,
   "metadata": {},
   "outputs": [],
   "source": [
    "X_train, X_test, y_train, y_test = train_test_split(norm_log_table, controls, test_size=0.33, random_state=42)"
   ]
  },
  {
   "cell_type": "code",
   "execution_count": 63,
   "metadata": {},
   "outputs": [
    {
     "name": "stdout",
     "output_type": "stream",
     "text": [
      "[16:04:36] WARNING: C:/Users/Administrator/workspace/xgboost-win64_release_1.4.0/src/learner.cc:1095: Starting in XGBoost 1.3.0, the default evaluation metric used with the objective 'binary:logistic' was changed from 'error' to 'logloss'. Explicitly set eval_metric if you'd like to restore the old behavior.\n"
     ]
    },
    {
     "data": {
      "text/plain": [
       "XGBClassifier(base_score=0.5, booster='gbtree', colsample_bylevel=1,\n",
       "              colsample_bynode=1, colsample_bytree=1, gamma=0, gpu_id=-1,\n",
       "              importance_type='gain', interaction_constraints='',\n",
       "              learning_rate=0.300000012, max_delta_step=0, max_depth=6,\n",
       "              min_child_weight=1, missing=nan, monotone_constraints='()',\n",
       "              n_estimators=100, n_jobs=4, num_parallel_tree=1, random_state=0,\n",
       "              reg_alpha=0, reg_lambda=1, scale_pos_weight=1, subsample=1,\n",
       "              tree_method='exact', use_label_encoder=False,\n",
       "              validate_parameters=1, verbosity=None)"
      ]
     },
     "execution_count": 63,
     "metadata": {},
     "output_type": "execute_result"
    }
   ],
   "source": [
    "model = XGBClassifier(use_label_encoder=False)\n",
    "model.fit(X_train, y_train)"
   ]
  },
  {
   "cell_type": "code",
   "execution_count": 64,
   "metadata": {},
   "outputs": [
    {
     "name": "stderr",
     "output_type": "stream",
     "text": [
      "C:\\Users\\Ole Fredrik\\AppData\\Local\\Programs\\Python\\Python39\\lib\\site-packages\\sklearn\\utils\\deprecation.py:87: FutureWarning: Function plot_roc_curve is deprecated; Function `plot_roc_curve` is deprecated in 1.0 and will be removed in 1.2. Use one of the class methods: RocCurveDisplay.from_predictions or RocCurveDisplay.from_estimator.\n",
      "  warnings.warn(msg, category=FutureWarning)\n"
     ]
    },
    {
     "data": {
      "text/plain": [
       "<sklearn.metrics._plot.roc_curve.RocCurveDisplay at 0x15f59b78640>"
      ]
     },
     "execution_count": 64,
     "metadata": {},
     "output_type": "execute_result"
    },
    {
     "data": {
      "image/png": "[encoded data removed]",
      "text/plain": [
       "<Figure size 432x288 with 1 Axes>"
      ]
     },
     "metadata": {
      "needs_background": "light"
     },
     "output_type": "display_data"
    }
   ],
   "source": [
    "plot_roc_curve(model, X_test, y_test)"
   ]
  },
  {
   "cell_type": "markdown",
   "metadata": {},
   "source": [
    "### Exporting data"
   ]
  },
  {
   "cell_type": "code",
   "execution_count": 65,
   "metadata": {},
   "outputs": [],
   "source": [
    "from Scripts import converters"
   ]
  },
  {
   "cell_type": "code",
   "execution_count": 66,
   "metadata": {},
   "outputs": [],
   "source": [
    "sequences = converters.canonical_to_seq(mirnas)"
   ]
  },
  {
   "cell_type": "code",
   "execution_count": 67,
   "metadata": {},
   "outputs": [
    {
     "data": {
      "text/html": [
       "<div>\n",
       "<style scoped>\n",
       "    .dataframe tbody tr th:only-of-type {\n",
       "        vertical-align: middle;\n",
       "    }\n",
       "\n",
       "    .dataframe tbody tr th {\n",
       "        vertical-align: top;\n",
       "    }\n",
       "\n",
       "    .dataframe thead th {\n",
       "        text-align: right;\n",
       "    }\n",
       "</style>\n",
       "<table border=\"1\" class=\"dataframe\">\n",
       "  <thead>\n",
       "    <tr style=\"text-align: right;\">\n",
       "      <th></th>\n",
       "      <th>UGAGGUAGUAGGUUGUAUAGUU</th>\n",
       "      <th>CUAUACAACCUACUGCCUUCCC</th>\n",
       "      <th>UGAGGUAGUAGGUUGUGUGGUU</th>\n",
       "      <th>UGAGGUAGUAGGUUGUAUGGUU</th>\n",
       "      <th>CUAUACGACCUGCUGCCUUUCU</th>\n",
       "      <th>AGAGGUAGUAGGUUGCAUAGUU</th>\n",
       "      <th>UGAGGUAGGAGGUUGUAUAGUU</th>\n",
       "      <th>CUAUACAAUCUAUUGCCUUCCC</th>\n",
       "      <th>UGAGGUAGUAGAUUGUAUAGUU</th>\n",
       "      <th>UGAGGUAGUAGUUUGUACAGUU</th>\n",
       "      <th>...</th>\n",
       "      <th>CAAAGUGCUGUUCGUGCAGGUAG</th>\n",
       "      <th>UGUGCGCAGGGAGACCUCUCCC</th>\n",
       "      <th>UGGGGAGCUGAGGCUCUGGGGGUG</th>\n",
       "      <th>AAGGCAGGGCCCCCGCUCCCC</th>\n",
       "      <th>UCUUCUCUGUUUUGGCCAUGUG</th>\n",
       "      <th>UUUGGCACUAGCACAUUUUUGCU</th>\n",
       "      <th>UGAGGUAGUAAGUUGUAUUGUU</th>\n",
       "      <th>AACCCGUAGAUCCGAUCUUGUG</th>\n",
       "      <th>CACCCGUAGAACCGACCUUGCG</th>\n",
       "      <th>cancer</th>\n",
       "    </tr>\n",
       "  </thead>\n",
       "  <tbody>\n",
       "    <tr>\n",
       "      <th>Healthy control 1</th>\n",
       "      <td>-1.292483</td>\n",
       "      <td>-0.569387</td>\n",
       "      <td>-1.680382</td>\n",
       "      <td>-1.854255</td>\n",
       "      <td>-1.298409</td>\n",
       "      <td>-1.221968</td>\n",
       "      <td>-1.346920</td>\n",
       "      <td>-0.437675</td>\n",
       "      <td>-1.205962</td>\n",
       "      <td>-1.071660</td>\n",
       "      <td>...</td>\n",
       "      <td>-1.057200</td>\n",
       "      <td>-0.624479</td>\n",
       "      <td>-0.916349</td>\n",
       "      <td>-1.078083</td>\n",
       "      <td>-1.660707</td>\n",
       "      <td>-0.934106</td>\n",
       "      <td>-1.264512</td>\n",
       "      <td>-1.488856</td>\n",
       "      <td>-1.735063</td>\n",
       "      <td>False</td>\n",
       "    </tr>\n",
       "    <tr>\n",
       "      <th>Healthy control 2</th>\n",
       "      <td>0.389889</td>\n",
       "      <td>-0.076203</td>\n",
       "      <td>0.581650</td>\n",
       "      <td>0.615721</td>\n",
       "      <td>0.032105</td>\n",
       "      <td>0.341623</td>\n",
       "      <td>-0.006728</td>\n",
       "      <td>-0.163505</td>\n",
       "      <td>0.409956</td>\n",
       "      <td>0.245370</td>\n",
       "      <td>...</td>\n",
       "      <td>0.357333</td>\n",
       "      <td>0.017599</td>\n",
       "      <td>-0.023297</td>\n",
       "      <td>0.249493</td>\n",
       "      <td>1.068434</td>\n",
       "      <td>0.057345</td>\n",
       "      <td>0.261411</td>\n",
       "      <td>1.634556</td>\n",
       "      <td>0.874314</td>\n",
       "      <td>False</td>\n",
       "    </tr>\n",
       "    <tr>\n",
       "      <th>Healthy control 3</th>\n",
       "      <td>0.710846</td>\n",
       "      <td>-0.343388</td>\n",
       "      <td>-0.081729</td>\n",
       "      <td>0.139723</td>\n",
       "      <td>0.738353</td>\n",
       "      <td>0.571786</td>\n",
       "      <td>0.261733</td>\n",
       "      <td>-0.167486</td>\n",
       "      <td>0.777252</td>\n",
       "      <td>0.639533</td>\n",
       "      <td>...</td>\n",
       "      <td>0.274423</td>\n",
       "      <td>-0.631595</td>\n",
       "      <td>0.013453</td>\n",
       "      <td>0.145580</td>\n",
       "      <td>1.499954</td>\n",
       "      <td>0.726638</td>\n",
       "      <td>0.968450</td>\n",
       "      <td>1.467075</td>\n",
       "      <td>1.517604</td>\n",
       "      <td>False</td>\n",
       "    </tr>\n",
       "    <tr>\n",
       "      <th>Healthy control 4</th>\n",
       "      <td>0.889770</td>\n",
       "      <td>-0.270241</td>\n",
       "      <td>0.817359</td>\n",
       "      <td>0.944954</td>\n",
       "      <td>-0.969877</td>\n",
       "      <td>0.949345</td>\n",
       "      <td>0.413202</td>\n",
       "      <td>-0.544352</td>\n",
       "      <td>1.150495</td>\n",
       "      <td>1.410342</td>\n",
       "      <td>...</td>\n",
       "      <td>1.121544</td>\n",
       "      <td>-0.409013</td>\n",
       "      <td>0.681191</td>\n",
       "      <td>-0.148253</td>\n",
       "      <td>0.236697</td>\n",
       "      <td>1.867613</td>\n",
       "      <td>1.262753</td>\n",
       "      <td>0.293416</td>\n",
       "      <td>0.473105</td>\n",
       "      <td>False</td>\n",
       "    </tr>\n",
       "    <tr>\n",
       "      <th>Healthy control 5</th>\n",
       "      <td>0.700515</td>\n",
       "      <td>0.327615</td>\n",
       "      <td>1.186965</td>\n",
       "      <td>1.313556</td>\n",
       "      <td>0.445374</td>\n",
       "      <td>0.675445</td>\n",
       "      <td>0.406240</td>\n",
       "      <td>0.292693</td>\n",
       "      <td>0.688697</td>\n",
       "      <td>0.414223</td>\n",
       "      <td>...</td>\n",
       "      <td>0.678903</td>\n",
       "      <td>0.538991</td>\n",
       "      <td>0.909889</td>\n",
       "      <td>0.266447</td>\n",
       "      <td>0.995835</td>\n",
       "      <td>0.796192</td>\n",
       "      <td>0.699765</td>\n",
       "      <td>1.158265</td>\n",
       "      <td>0.790784</td>\n",
       "      <td>False</td>\n",
       "    </tr>\n",
       "  </tbody>\n",
       "</table>\n",
       "<p>5 rows × 389 columns</p>\n",
       "</div>"
      ],
      "text/plain": [
       "                   UGAGGUAGUAGGUUGUAUAGUU  CUAUACAACCUACUGCCUUCCC  \\\n",
       "Healthy control 1               -1.292483               -0.569387   \n",
       "Healthy control 2                0.389889               -0.076203   \n",
       "Healthy control 3                0.710846               -0.343388   \n",
       "Healthy control 4                0.889770               -0.270241   \n",
       "Healthy control 5                0.700515                0.327615   \n",
       "\n",
       "                   UGAGGUAGUAGGUUGUGUGGUU  UGAGGUAGUAGGUUGUAUGGUU  \\\n",
       "Healthy control 1               -1.680382               -1.854255   \n",
       "Healthy control 2                0.581650                0.615721   \n",
       "Healthy control 3               -0.081729                0.139723   \n",
       "Healthy control 4                0.817359                0.944954   \n",
       "Healthy control 5                1.186965                1.313556   \n",
       "\n",
       "                   CUAUACGACCUGCUGCCUUUCU  AGAGGUAGUAGGUUGCAUAGUU  \\\n",
       "Healthy control 1               -1.298409               -1.221968   \n",
       "Healthy control 2                0.032105                0.341623   \n",
       "Healthy control 3                0.738353                0.571786   \n",
       "Healthy control 4               -0.969877                0.949345   \n",
       "Healthy control 5                0.445374                0.675445   \n",
       "\n",
       "                   UGAGGUAGGAGGUUGUAUAGUU  CUAUACAAUCUAUUGCCUUCCC  \\\n",
       "Healthy control 1               -1.346920               -0.437675   \n",
       "Healthy control 2               -0.006728               -0.163505   \n",
       "Healthy control 3                0.261733               -0.167486   \n",
       "Healthy control 4                0.413202               -0.544352   \n",
       "Healthy control 5                0.406240                0.292693   \n",
       "\n",
       "                   UGAGGUAGUAGAUUGUAUAGUU  UGAGGUAGUAGUUUGUACAGUU  ...  \\\n",
       "Healthy control 1               -1.205962               -1.071660  ...   \n",
       "Healthy control 2                0.409956                0.245370  ...   \n",
       "Healthy control 3                0.777252                0.639533  ...   \n",
       "Healthy control 4                1.150495                1.410342  ...   \n",
       "Healthy control 5                0.688697                0.414223  ...   \n",
       "\n",
       "                   CAAAGUGCUGUUCGUGCAGGUAG  UGUGCGCAGGGAGACCUCUCCC  \\\n",
       "Healthy control 1                -1.057200               -0.624479   \n",
       "Healthy control 2                 0.357333                0.017599   \n",
       "Healthy control 3                 0.274423               -0.631595   \n",
       "Healthy control 4                 1.121544               -0.409013   \n",
       "Healthy control 5                 0.678903                0.538991   \n",
       "\n",
       "                   UGGGGAGCUGAGGCUCUGGGGGUG  AAGGCAGGGCCCCCGCUCCCC  \\\n",
       "Healthy control 1                 -0.916349              -1.078083   \n",
       "Healthy control 2                 -0.023297               0.249493   \n",
       "Healthy control 3                  0.013453               0.145580   \n",
       "Healthy control 4                  0.681191              -0.148253   \n",
       "Healthy control 5                  0.909889               0.266447   \n",
       "\n",
       "                   UCUUCUCUGUUUUGGCCAUGUG  UUUGGCACUAGCACAUUUUUGCU  \\\n",
       "Healthy control 1               -1.660707                -0.934106   \n",
       "Healthy control 2                1.068434                 0.057345   \n",
       "Healthy control 3                1.499954                 0.726638   \n",
       "Healthy control 4                0.236697                 1.867613   \n",
       "Healthy control 5                0.995835                 0.796192   \n",
       "\n",
       "                   UGAGGUAGUAAGUUGUAUUGUU  AACCCGUAGAUCCGAUCUUGUG  \\\n",
       "Healthy control 1               -1.264512               -1.488856   \n",
       "Healthy control 2                0.261411                1.634556   \n",
       "Healthy control 3                0.968450                1.467075   \n",
       "Healthy control 4                1.262753                0.293416   \n",
       "Healthy control 5                0.699765                1.158265   \n",
       "\n",
       "                   CACCCGUAGAACCGACCUUGCG  cancer  \n",
       "Healthy control 1               -1.735063   False  \n",
       "Healthy control 2                0.874314   False  \n",
       "Healthy control 3                1.517604   False  \n",
       "Healthy control 4                0.473105   False  \n",
       "Healthy control 5                0.790784   False  \n",
       "\n",
       "[5 rows x 389 columns]"
      ]
     },
     "execution_count": 67,
     "metadata": {},
     "output_type": "execute_result"
    }
   ],
   "source": [
    "norm_log_table.columns = sequences\n",
    "norm_log_table[\"cancer\"] = sick\n",
    "norm_log_table.head()"
   ]
  },
  {
   "cell_type": "code",
   "execution_count": 68,
   "metadata": {},
   "outputs": [],
   "source": [
    "norm_log_table.to_csv(\"../TransformedData/Fehlmann2020_cleaned.csv\", index=False)"
   ]
  },
  {
   "cell_type": "code",
   "execution_count": null,
   "metadata": {},
   "outputs": [],
   "source": []
  }
 ],
 "metadata": {
  "kernelspec": {
   "display_name": "Python 3 (ipykernel)",
   "language": "python",
   "name": "python3"
  },
  "language_info": {
   "codemirror_mode": {
    "name": "ipython",
    "version": 3
   },
   "file_extension": ".py",
   "mimetype": "text/x-python",
   "name": "python",
   "nbconvert_exporter": "python",
   "pygments_lexer": "ipython3",
   "version": "3.9.7"
  }
 },
 "nbformat": 4,
 "nbformat_minor": 4
}
