{
 "cells": [
  {
   "cell_type": "code",
   "execution_count": 2,
   "metadata": {
    "tags": []
   },
   "outputs": [],
   "source": [
    "%matplotlib inline\n",
    "import GEOparse\n",
    "import matplotlib.pyplot as plt\n",
    "import pandas as pd\n",
    "import numpy as np\n",
    "from sklearn import decomposition\n",
    "from sklearn.feature_selection import f_classif\n",
    "from sklearn.linear_model import LinearRegression, LogisticRegression\n",
    "from sklearn.metrics import explained_variance_score, plot_roc_curve\n",
    "import statsmodels.api as sm\n",
    "from scipy.stats import ttest_ind\n",
    "from xgboost import XGBClassifier\n",
    "from sklearn.model_selection import train_test_split\n",
    "from sklego.linear_model import LowessRegression"
   ]
  },
  {
   "cell_type": "markdown",
   "metadata": {},
   "source": [
    "### Reading in from external source"
   ]
  },
  {
   "cell_type": "code",
   "execution_count": 3,
   "metadata": {},
   "outputs": [],
   "source": [
    "geo = \"GSE70080\"\n",
    "data = GEOparse.get_GEO(geo=geo, destdir=\"../Dataset/Halvorsen2016\", silent=True)\n",
    "#table = pd.read_csv(\"../Dataset/Fehlman2020/expression_matrix.csv\", sep=\"\\t\")\n",
    "#table = pd.read_csv(\"../Dataset/Wozniak2015/GSE64591_non-normalized.txt\", sep=\"\\t\", header=5)"
   ]
  },
  {
   "cell_type": "code",
   "execution_count": 4,
   "metadata": {},
   "outputs": [],
   "source": [
    "table = pd.concat((val.table.iloc[:,1:] for i,val in enumerate(data.gsms.values())), axis=1).transpose()\n",
    "mirnas = list(data.gsms.values())[0].table.iloc[:,0]"
   ]
  },
  {
   "cell_type": "code",
   "execution_count": 5,
   "metadata": {},
   "outputs": [
    {
     "data": {
      "text/html": [
       "<div>\n",
       "<style scoped>\n",
       "    .dataframe tbody tr th:only-of-type {\n",
       "        vertical-align: middle;\n",
       "    }\n",
       "\n",
       "    .dataframe tbody tr th {\n",
       "        vertical-align: top;\n",
       "    }\n",
       "\n",
       "    .dataframe thead th {\n",
       "        text-align: right;\n",
       "    }\n",
       "</style>\n",
       "<table border=\"1\" class=\"dataframe\">\n",
       "  <thead>\n",
       "    <tr style=\"text-align: right;\">\n",
       "      <th></th>\n",
       "      <th>0</th>\n",
       "      <th>1</th>\n",
       "      <th>2</th>\n",
       "      <th>3</th>\n",
       "      <th>4</th>\n",
       "      <th>5</th>\n",
       "      <th>6</th>\n",
       "      <th>7</th>\n",
       "      <th>8</th>\n",
       "      <th>9</th>\n",
       "      <th>...</th>\n",
       "      <th>262</th>\n",
       "      <th>263</th>\n",
       "      <th>264</th>\n",
       "      <th>265</th>\n",
       "      <th>266</th>\n",
       "      <th>267</th>\n",
       "      <th>268</th>\n",
       "      <th>269</th>\n",
       "      <th>270</th>\n",
       "      <th>271</th>\n",
       "    </tr>\n",
       "  </thead>\n",
       "  <tbody>\n",
       "    <tr>\n",
       "      <th>VALUE</th>\n",
       "      <td>-0.086</td>\n",
       "      <td>-2.085</td>\n",
       "      <td>-6.007</td>\n",
       "      <td>3.639</td>\n",
       "      <td>-2.782</td>\n",
       "      <td>-1.760</td>\n",
       "      <td>4.292</td>\n",
       "      <td>-1.220</td>\n",
       "      <td>NaN</td>\n",
       "      <td>3.740</td>\n",
       "      <td>...</td>\n",
       "      <td>-0.050</td>\n",
       "      <td>-1.290</td>\n",
       "      <td>-2.453</td>\n",
       "      <td>-3.313</td>\n",
       "      <td>-0.540</td>\n",
       "      <td>-2.535</td>\n",
       "      <td>-7.001</td>\n",
       "      <td>1.606</td>\n",
       "      <td>-4.125</td>\n",
       "      <td>-4.471</td>\n",
       "    </tr>\n",
       "    <tr>\n",
       "      <th>VALUE</th>\n",
       "      <td>1.018</td>\n",
       "      <td>-0.822</td>\n",
       "      <td>-5.546</td>\n",
       "      <td>2.447</td>\n",
       "      <td>-2.371</td>\n",
       "      <td>-2.375</td>\n",
       "      <td>6.413</td>\n",
       "      <td>-3.416</td>\n",
       "      <td>3.332</td>\n",
       "      <td>0.129</td>\n",
       "      <td>...</td>\n",
       "      <td>0.764</td>\n",
       "      <td>-1.001</td>\n",
       "      <td>0.505</td>\n",
       "      <td>-3.245</td>\n",
       "      <td>-3.460</td>\n",
       "      <td>0.587</td>\n",
       "      <td>-8.424</td>\n",
       "      <td>0.272</td>\n",
       "      <td>-3.178</td>\n",
       "      <td>-4.245</td>\n",
       "    </tr>\n",
       "    <tr>\n",
       "      <th>VALUE</th>\n",
       "      <td>NaN</td>\n",
       "      <td>0.976</td>\n",
       "      <td>-5.825</td>\n",
       "      <td>2.211</td>\n",
       "      <td>-1.764</td>\n",
       "      <td>-1.214</td>\n",
       "      <td>3.948</td>\n",
       "      <td>-2.406</td>\n",
       "      <td>1.297</td>\n",
       "      <td>1.123</td>\n",
       "      <td>...</td>\n",
       "      <td>1.821</td>\n",
       "      <td>-1.280</td>\n",
       "      <td>3.894</td>\n",
       "      <td>-3.790</td>\n",
       "      <td>-2.928</td>\n",
       "      <td>1.259</td>\n",
       "      <td>-7.345</td>\n",
       "      <td>-0.775</td>\n",
       "      <td>-1.741</td>\n",
       "      <td>-4.186</td>\n",
       "    </tr>\n",
       "    <tr>\n",
       "      <th>VALUE</th>\n",
       "      <td>NaN</td>\n",
       "      <td>-1.065</td>\n",
       "      <td>-4.751</td>\n",
       "      <td>3.080</td>\n",
       "      <td>-2.885</td>\n",
       "      <td>-3.239</td>\n",
       "      <td>2.489</td>\n",
       "      <td>-2.800</td>\n",
       "      <td>1.990</td>\n",
       "      <td>2.002</td>\n",
       "      <td>...</td>\n",
       "      <td>-0.533</td>\n",
       "      <td>-3.182</td>\n",
       "      <td>-1.049</td>\n",
       "      <td>-2.469</td>\n",
       "      <td>-2.862</td>\n",
       "      <td>-0.022</td>\n",
       "      <td>-6.438</td>\n",
       "      <td>0.198</td>\n",
       "      <td>-3.498</td>\n",
       "      <td>-3.456</td>\n",
       "    </tr>\n",
       "    <tr>\n",
       "      <th>VALUE</th>\n",
       "      <td>1.812</td>\n",
       "      <td>-2.752</td>\n",
       "      <td>-4.889</td>\n",
       "      <td>3.192</td>\n",
       "      <td>-3.381</td>\n",
       "      <td>-3.825</td>\n",
       "      <td>0.867</td>\n",
       "      <td>-3.253</td>\n",
       "      <td>0.759</td>\n",
       "      <td>0.527</td>\n",
       "      <td>...</td>\n",
       "      <td>0.014</td>\n",
       "      <td>-3.146</td>\n",
       "      <td>-1.297</td>\n",
       "      <td>-3.431</td>\n",
       "      <td>-3.977</td>\n",
       "      <td>-0.883</td>\n",
       "      <td>-7.687</td>\n",
       "      <td>-0.358</td>\n",
       "      <td>-3.891</td>\n",
       "      <td>-4.055</td>\n",
       "    </tr>\n",
       "    <tr>\n",
       "      <th>...</th>\n",
       "      <td>...</td>\n",
       "      <td>...</td>\n",
       "      <td>...</td>\n",
       "      <td>...</td>\n",
       "      <td>...</td>\n",
       "      <td>...</td>\n",
       "      <td>...</td>\n",
       "      <td>...</td>\n",
       "      <td>...</td>\n",
       "      <td>...</td>\n",
       "      <td>...</td>\n",
       "      <td>...</td>\n",
       "      <td>...</td>\n",
       "      <td>...</td>\n",
       "      <td>...</td>\n",
       "      <td>...</td>\n",
       "      <td>...</td>\n",
       "      <td>...</td>\n",
       "      <td>...</td>\n",
       "      <td>...</td>\n",
       "      <td>...</td>\n",
       "    </tr>\n",
       "    <tr>\n",
       "      <th>VALUE</th>\n",
       "      <td>NaN</td>\n",
       "      <td>NaN</td>\n",
       "      <td>-2.328</td>\n",
       "      <td>NaN</td>\n",
       "      <td>-2.012</td>\n",
       "      <td>-1.437</td>\n",
       "      <td>NaN</td>\n",
       "      <td>-1.223</td>\n",
       "      <td>NaN</td>\n",
       "      <td>0.313</td>\n",
       "      <td>...</td>\n",
       "      <td>4.010</td>\n",
       "      <td>-2.256</td>\n",
       "      <td>-1.498</td>\n",
       "      <td>-1.365</td>\n",
       "      <td>-3.788</td>\n",
       "      <td>0.118</td>\n",
       "      <td>-7.083</td>\n",
       "      <td>1.794</td>\n",
       "      <td>-2.378</td>\n",
       "      <td>-2.358</td>\n",
       "    </tr>\n",
       "    <tr>\n",
       "      <th>VALUE</th>\n",
       "      <td>1.145</td>\n",
       "      <td>-2.733</td>\n",
       "      <td>-4.278</td>\n",
       "      <td>NaN</td>\n",
       "      <td>-2.200</td>\n",
       "      <td>-2.346</td>\n",
       "      <td>2.720</td>\n",
       "      <td>-1.154</td>\n",
       "      <td>NaN</td>\n",
       "      <td>2.345</td>\n",
       "      <td>...</td>\n",
       "      <td>0.588</td>\n",
       "      <td>-1.046</td>\n",
       "      <td>-0.605</td>\n",
       "      <td>-0.157</td>\n",
       "      <td>-1.067</td>\n",
       "      <td>NaN</td>\n",
       "      <td>-6.153</td>\n",
       "      <td>1.971</td>\n",
       "      <td>-0.990</td>\n",
       "      <td>-1.675</td>\n",
       "    </tr>\n",
       "    <tr>\n",
       "      <th>VALUE</th>\n",
       "      <td>1.738</td>\n",
       "      <td>-1.975</td>\n",
       "      <td>-4.457</td>\n",
       "      <td>2.894</td>\n",
       "      <td>-3.488</td>\n",
       "      <td>-3.926</td>\n",
       "      <td>0.865</td>\n",
       "      <td>-3.051</td>\n",
       "      <td>2.622</td>\n",
       "      <td>0.860</td>\n",
       "      <td>...</td>\n",
       "      <td>3.312</td>\n",
       "      <td>-2.469</td>\n",
       "      <td>-1.154</td>\n",
       "      <td>-1.339</td>\n",
       "      <td>-3.757</td>\n",
       "      <td>0.247</td>\n",
       "      <td>-5.837</td>\n",
       "      <td>0.143</td>\n",
       "      <td>-3.048</td>\n",
       "      <td>-2.335</td>\n",
       "    </tr>\n",
       "    <tr>\n",
       "      <th>VALUE</th>\n",
       "      <td>NaN</td>\n",
       "      <td>NaN</td>\n",
       "      <td>-2.641</td>\n",
       "      <td>4.693</td>\n",
       "      <td>-2.142</td>\n",
       "      <td>-1.725</td>\n",
       "      <td>NaN</td>\n",
       "      <td>-1.597</td>\n",
       "      <td>NaN</td>\n",
       "      <td>0.353</td>\n",
       "      <td>...</td>\n",
       "      <td>0.581</td>\n",
       "      <td>-2.877</td>\n",
       "      <td>-0.079</td>\n",
       "      <td>-0.870</td>\n",
       "      <td>-2.462</td>\n",
       "      <td>NaN</td>\n",
       "      <td>-7.227</td>\n",
       "      <td>4.120</td>\n",
       "      <td>-0.829</td>\n",
       "      <td>-2.072</td>\n",
       "    </tr>\n",
       "    <tr>\n",
       "      <th>VALUE</th>\n",
       "      <td>NaN</td>\n",
       "      <td>-0.506</td>\n",
       "      <td>-3.760</td>\n",
       "      <td>4.810</td>\n",
       "      <td>-2.414</td>\n",
       "      <td>-1.898</td>\n",
       "      <td>2.802</td>\n",
       "      <td>-1.125</td>\n",
       "      <td>2.091</td>\n",
       "      <td>2.902</td>\n",
       "      <td>...</td>\n",
       "      <td>3.238</td>\n",
       "      <td>-1.834</td>\n",
       "      <td>NaN</td>\n",
       "      <td>-0.611</td>\n",
       "      <td>-2.195</td>\n",
       "      <td>1.070</td>\n",
       "      <td>-4.414</td>\n",
       "      <td>NaN</td>\n",
       "      <td>-0.545</td>\n",
       "      <td>-1.606</td>\n",
       "    </tr>\n",
       "  </tbody>\n",
       "</table>\n",
       "<p>70 rows × 272 columns</p>\n",
       "</div>"
      ],
      "text/plain": [
       "         0      1      2      3      4      5      6      7      8      9    \\\n",
       "VALUE -0.086 -2.085 -6.007  3.639 -2.782 -1.760  4.292 -1.220    NaN  3.740   \n",
       "VALUE  1.018 -0.822 -5.546  2.447 -2.371 -2.375  6.413 -3.416  3.332  0.129   \n",
       "VALUE    NaN  0.976 -5.825  2.211 -1.764 -1.214  3.948 -2.406  1.297  1.123   \n",
       "VALUE    NaN -1.065 -4.751  3.080 -2.885 -3.239  2.489 -2.800  1.990  2.002   \n",
       "VALUE  1.812 -2.752 -4.889  3.192 -3.381 -3.825  0.867 -3.253  0.759  0.527   \n",
       "...      ...    ...    ...    ...    ...    ...    ...    ...    ...    ...   \n",
       "VALUE    NaN    NaN -2.328    NaN -2.012 -1.437    NaN -1.223    NaN  0.313   \n",
       "VALUE  1.145 -2.733 -4.278    NaN -2.200 -2.346  2.720 -1.154    NaN  2.345   \n",
       "VALUE  1.738 -1.975 -4.457  2.894 -3.488 -3.926  0.865 -3.051  2.622  0.860   \n",
       "VALUE    NaN    NaN -2.641  4.693 -2.142 -1.725    NaN -1.597    NaN  0.353   \n",
       "VALUE    NaN -0.506 -3.760  4.810 -2.414 -1.898  2.802 -1.125  2.091  2.902   \n",
       "\n",
       "       ...    262    263    264    265    266    267    268    269    270  \\\n",
       "VALUE  ... -0.050 -1.290 -2.453 -3.313 -0.540 -2.535 -7.001  1.606 -4.125   \n",
       "VALUE  ...  0.764 -1.001  0.505 -3.245 -3.460  0.587 -8.424  0.272 -3.178   \n",
       "VALUE  ...  1.821 -1.280  3.894 -3.790 -2.928  1.259 -7.345 -0.775 -1.741   \n",
       "VALUE  ... -0.533 -3.182 -1.049 -2.469 -2.862 -0.022 -6.438  0.198 -3.498   \n",
       "VALUE  ...  0.014 -3.146 -1.297 -3.431 -3.977 -0.883 -7.687 -0.358 -3.891   \n",
       "...    ...    ...    ...    ...    ...    ...    ...    ...    ...    ...   \n",
       "VALUE  ...  4.010 -2.256 -1.498 -1.365 -3.788  0.118 -7.083  1.794 -2.378   \n",
       "VALUE  ...  0.588 -1.046 -0.605 -0.157 -1.067    NaN -6.153  1.971 -0.990   \n",
       "VALUE  ...  3.312 -2.469 -1.154 -1.339 -3.757  0.247 -5.837  0.143 -3.048   \n",
       "VALUE  ...  0.581 -2.877 -0.079 -0.870 -2.462    NaN -7.227  4.120 -0.829   \n",
       "VALUE  ...  3.238 -1.834    NaN -0.611 -2.195  1.070 -4.414    NaN -0.545   \n",
       "\n",
       "         271  \n",
       "VALUE -4.471  \n",
       "VALUE -4.245  \n",
       "VALUE -4.186  \n",
       "VALUE -3.456  \n",
       "VALUE -4.055  \n",
       "...      ...  \n",
       "VALUE -2.358  \n",
       "VALUE -1.675  \n",
       "VALUE -2.335  \n",
       "VALUE -2.072  \n",
       "VALUE -1.606  \n",
       "\n",
       "[70 rows x 272 columns]"
      ]
     },
     "execution_count": 5,
     "metadata": {},
     "output_type": "execute_result"
    }
   ],
   "source": [
    "table"
   ]
  },
  {
   "cell_type": "markdown",
   "metadata": {},
   "source": [
    "### Seperate case and controls"
   ]
  },
  {
   "cell_type": "code",
   "execution_count": 6,
   "metadata": {},
   "outputs": [],
   "source": [
    "sick = np.array([\"lung\" in k.metadata[\"title\"][0] for k in list(data.gsms.values())[:-1]])\n",
    "controls = 1 - sick"
   ]
  },
  {
   "cell_type": "code",
   "execution_count": 7,
   "metadata": {},
   "outputs": [
    {
     "data": {
      "text/plain": [
       "32"
      ]
     },
     "execution_count": 7,
     "metadata": {},
     "output_type": "execute_result"
    }
   ],
   "source": [
    "sum(controls)"
   ]
  },
  {
   "cell_type": "markdown",
   "metadata": {},
   "source": [
    "### Drop NAN"
   ]
  },
  {
   "cell_type": "code",
   "execution_count": 8,
   "metadata": {},
   "outputs": [],
   "source": [
    "mask = table.isna().sum() < 10\n",
    "mirnas = mirnas[mask]\n",
    "table = table.loc[:, mask]"
   ]
  },
  {
   "cell_type": "code",
   "execution_count": 9,
   "metadata": {},
   "outputs": [
    {
     "data": {
      "text/plain": [
       "(157, 157)"
      ]
     },
     "execution_count": 9,
     "metadata": {},
     "output_type": "execute_result"
    }
   ],
   "source": [
    "len(mirnas), len(table.columns)"
   ]
  },
  {
   "cell_type": "code",
   "execution_count": 10,
   "metadata": {},
   "outputs": [],
   "source": [
    "table = table.fillna(table.mean())"
   ]
  },
  {
   "cell_type": "code",
   "execution_count": 11,
   "metadata": {},
   "outputs": [
    {
     "data": {
      "text/html": [
       "<div>\n",
       "<style scoped>\n",
       "    .dataframe tbody tr th:only-of-type {\n",
       "        vertical-align: middle;\n",
       "    }\n",
       "\n",
       "    .dataframe tbody tr th {\n",
       "        vertical-align: top;\n",
       "    }\n",
       "\n",
       "    .dataframe thead th {\n",
       "        text-align: right;\n",
       "    }\n",
       "</style>\n",
       "<table border=\"1\" class=\"dataframe\">\n",
       "  <thead>\n",
       "    <tr style=\"text-align: right;\">\n",
       "      <th></th>\n",
       "      <th>2</th>\n",
       "      <th>3</th>\n",
       "      <th>4</th>\n",
       "      <th>5</th>\n",
       "      <th>7</th>\n",
       "      <th>9</th>\n",
       "      <th>10</th>\n",
       "      <th>11</th>\n",
       "      <th>13</th>\n",
       "      <th>14</th>\n",
       "      <th>...</th>\n",
       "      <th>258</th>\n",
       "      <th>260</th>\n",
       "      <th>262</th>\n",
       "      <th>263</th>\n",
       "      <th>265</th>\n",
       "      <th>266</th>\n",
       "      <th>268</th>\n",
       "      <th>269</th>\n",
       "      <th>270</th>\n",
       "      <th>271</th>\n",
       "    </tr>\n",
       "  </thead>\n",
       "  <tbody>\n",
       "    <tr>\n",
       "      <th>VALUE</th>\n",
       "      <td>-6.007</td>\n",
       "      <td>3.639000</td>\n",
       "      <td>-2.782</td>\n",
       "      <td>-1.760</td>\n",
       "      <td>-1.220</td>\n",
       "      <td>3.740</td>\n",
       "      <td>-6.269</td>\n",
       "      <td>-3.394</td>\n",
       "      <td>-3.685</td>\n",
       "      <td>-5.669000</td>\n",
       "      <td>...</td>\n",
       "      <td>-5.445</td>\n",
       "      <td>1.591000</td>\n",
       "      <td>-0.050</td>\n",
       "      <td>-1.290</td>\n",
       "      <td>-3.313</td>\n",
       "      <td>-0.540</td>\n",
       "      <td>-7.001</td>\n",
       "      <td>1.606000</td>\n",
       "      <td>-4.125</td>\n",
       "      <td>-4.471</td>\n",
       "    </tr>\n",
       "    <tr>\n",
       "      <th>VALUE</th>\n",
       "      <td>-5.546</td>\n",
       "      <td>2.447000</td>\n",
       "      <td>-2.371</td>\n",
       "      <td>-2.375</td>\n",
       "      <td>-3.416</td>\n",
       "      <td>0.129</td>\n",
       "      <td>-7.171</td>\n",
       "      <td>-4.306</td>\n",
       "      <td>-6.404</td>\n",
       "      <td>-1.595000</td>\n",
       "      <td>...</td>\n",
       "      <td>-6.064</td>\n",
       "      <td>-0.694000</td>\n",
       "      <td>0.764</td>\n",
       "      <td>-1.001</td>\n",
       "      <td>-3.245</td>\n",
       "      <td>-3.460</td>\n",
       "      <td>-8.424</td>\n",
       "      <td>0.272000</td>\n",
       "      <td>-3.178</td>\n",
       "      <td>-4.245</td>\n",
       "    </tr>\n",
       "    <tr>\n",
       "      <th>VALUE</th>\n",
       "      <td>-5.825</td>\n",
       "      <td>2.211000</td>\n",
       "      <td>-1.764</td>\n",
       "      <td>-1.214</td>\n",
       "      <td>-2.406</td>\n",
       "      <td>1.123</td>\n",
       "      <td>-6.832</td>\n",
       "      <td>-3.880</td>\n",
       "      <td>-1.588</td>\n",
       "      <td>-2.431000</td>\n",
       "      <td>...</td>\n",
       "      <td>-5.632</td>\n",
       "      <td>0.587000</td>\n",
       "      <td>1.821</td>\n",
       "      <td>-1.280</td>\n",
       "      <td>-3.790</td>\n",
       "      <td>-2.928</td>\n",
       "      <td>-7.345</td>\n",
       "      <td>-0.775000</td>\n",
       "      <td>-1.741</td>\n",
       "      <td>-4.186</td>\n",
       "    </tr>\n",
       "    <tr>\n",
       "      <th>VALUE</th>\n",
       "      <td>-4.751</td>\n",
       "      <td>3.080000</td>\n",
       "      <td>-2.885</td>\n",
       "      <td>-3.239</td>\n",
       "      <td>-2.800</td>\n",
       "      <td>2.002</td>\n",
       "      <td>-5.800</td>\n",
       "      <td>-3.065</td>\n",
       "      <td>-4.183</td>\n",
       "      <td>-1.700000</td>\n",
       "      <td>...</td>\n",
       "      <td>-5.687</td>\n",
       "      <td>0.320000</td>\n",
       "      <td>-0.533</td>\n",
       "      <td>-3.182</td>\n",
       "      <td>-2.469</td>\n",
       "      <td>-2.862</td>\n",
       "      <td>-6.438</td>\n",
       "      <td>0.198000</td>\n",
       "      <td>-3.498</td>\n",
       "      <td>-3.456</td>\n",
       "    </tr>\n",
       "    <tr>\n",
       "      <th>VALUE</th>\n",
       "      <td>-4.889</td>\n",
       "      <td>3.192000</td>\n",
       "      <td>-3.381</td>\n",
       "      <td>-3.825</td>\n",
       "      <td>-3.253</td>\n",
       "      <td>0.527</td>\n",
       "      <td>-6.665</td>\n",
       "      <td>-3.661</td>\n",
       "      <td>-4.783</td>\n",
       "      <td>-0.675000</td>\n",
       "      <td>...</td>\n",
       "      <td>-6.467</td>\n",
       "      <td>-0.807000</td>\n",
       "      <td>0.014</td>\n",
       "      <td>-3.146</td>\n",
       "      <td>-3.431</td>\n",
       "      <td>-3.977</td>\n",
       "      <td>-7.687</td>\n",
       "      <td>-0.358000</td>\n",
       "      <td>-3.891</td>\n",
       "      <td>-4.055</td>\n",
       "    </tr>\n",
       "    <tr>\n",
       "      <th>...</th>\n",
       "      <td>...</td>\n",
       "      <td>...</td>\n",
       "      <td>...</td>\n",
       "      <td>...</td>\n",
       "      <td>...</td>\n",
       "      <td>...</td>\n",
       "      <td>...</td>\n",
       "      <td>...</td>\n",
       "      <td>...</td>\n",
       "      <td>...</td>\n",
       "      <td>...</td>\n",
       "      <td>...</td>\n",
       "      <td>...</td>\n",
       "      <td>...</td>\n",
       "      <td>...</td>\n",
       "      <td>...</td>\n",
       "      <td>...</td>\n",
       "      <td>...</td>\n",
       "      <td>...</td>\n",
       "      <td>...</td>\n",
       "      <td>...</td>\n",
       "    </tr>\n",
       "    <tr>\n",
       "      <th>VALUE</th>\n",
       "      <td>-2.328</td>\n",
       "      <td>1.878921</td>\n",
       "      <td>-2.012</td>\n",
       "      <td>-1.437</td>\n",
       "      <td>-1.223</td>\n",
       "      <td>0.313</td>\n",
       "      <td>-5.728</td>\n",
       "      <td>-3.298</td>\n",
       "      <td>-9.723</td>\n",
       "      <td>-0.042141</td>\n",
       "      <td>...</td>\n",
       "      <td>-5.469</td>\n",
       "      <td>2.161000</td>\n",
       "      <td>4.010</td>\n",
       "      <td>-2.256</td>\n",
       "      <td>-1.365</td>\n",
       "      <td>-3.788</td>\n",
       "      <td>-7.083</td>\n",
       "      <td>1.794000</td>\n",
       "      <td>-2.378</td>\n",
       "      <td>-2.358</td>\n",
       "    </tr>\n",
       "    <tr>\n",
       "      <th>VALUE</th>\n",
       "      <td>-4.278</td>\n",
       "      <td>1.878921</td>\n",
       "      <td>-2.200</td>\n",
       "      <td>-2.346</td>\n",
       "      <td>-1.154</td>\n",
       "      <td>2.345</td>\n",
       "      <td>-5.166</td>\n",
       "      <td>-1.666</td>\n",
       "      <td>-1.246</td>\n",
       "      <td>-0.344000</td>\n",
       "      <td>...</td>\n",
       "      <td>-5.473</td>\n",
       "      <td>4.017000</td>\n",
       "      <td>0.588</td>\n",
       "      <td>-1.046</td>\n",
       "      <td>-0.157</td>\n",
       "      <td>-1.067</td>\n",
       "      <td>-6.153</td>\n",
       "      <td>1.971000</td>\n",
       "      <td>-0.990</td>\n",
       "      <td>-1.675</td>\n",
       "    </tr>\n",
       "    <tr>\n",
       "      <th>VALUE</th>\n",
       "      <td>-4.457</td>\n",
       "      <td>2.894000</td>\n",
       "      <td>-3.488</td>\n",
       "      <td>-3.926</td>\n",
       "      <td>-3.051</td>\n",
       "      <td>0.860</td>\n",
       "      <td>-6.092</td>\n",
       "      <td>-2.179</td>\n",
       "      <td>-2.426</td>\n",
       "      <td>1.615000</td>\n",
       "      <td>...</td>\n",
       "      <td>-5.333</td>\n",
       "      <td>1.605000</td>\n",
       "      <td>3.312</td>\n",
       "      <td>-2.469</td>\n",
       "      <td>-1.339</td>\n",
       "      <td>-3.757</td>\n",
       "      <td>-5.837</td>\n",
       "      <td>0.143000</td>\n",
       "      <td>-3.048</td>\n",
       "      <td>-2.335</td>\n",
       "    </tr>\n",
       "    <tr>\n",
       "      <th>VALUE</th>\n",
       "      <td>-2.641</td>\n",
       "      <td>4.693000</td>\n",
       "      <td>-2.142</td>\n",
       "      <td>-1.725</td>\n",
       "      <td>-1.597</td>\n",
       "      <td>0.353</td>\n",
       "      <td>-5.226</td>\n",
       "      <td>-2.353</td>\n",
       "      <td>-5.285</td>\n",
       "      <td>0.724000</td>\n",
       "      <td>...</td>\n",
       "      <td>-7.019</td>\n",
       "      <td>0.986000</td>\n",
       "      <td>0.581</td>\n",
       "      <td>-2.877</td>\n",
       "      <td>-0.870</td>\n",
       "      <td>-2.462</td>\n",
       "      <td>-7.227</td>\n",
       "      <td>4.120000</td>\n",
       "      <td>-0.829</td>\n",
       "      <td>-2.072</td>\n",
       "    </tr>\n",
       "    <tr>\n",
       "      <th>VALUE</th>\n",
       "      <td>-3.760</td>\n",
       "      <td>4.810000</td>\n",
       "      <td>-2.414</td>\n",
       "      <td>-1.898</td>\n",
       "      <td>-1.125</td>\n",
       "      <td>2.902</td>\n",
       "      <td>-5.023</td>\n",
       "      <td>-1.973</td>\n",
       "      <td>3.779</td>\n",
       "      <td>2.918000</td>\n",
       "      <td>...</td>\n",
       "      <td>-4.486</td>\n",
       "      <td>0.083562</td>\n",
       "      <td>3.238</td>\n",
       "      <td>-1.834</td>\n",
       "      <td>-0.611</td>\n",
       "      <td>-2.195</td>\n",
       "      <td>-4.414</td>\n",
       "      <td>0.673554</td>\n",
       "      <td>-0.545</td>\n",
       "      <td>-1.606</td>\n",
       "    </tr>\n",
       "  </tbody>\n",
       "</table>\n",
       "<p>70 rows × 157 columns</p>\n",
       "</div>"
      ],
      "text/plain": [
       "         2         3      4      5      7      9      10     11     13   \\\n",
       "VALUE -6.007  3.639000 -2.782 -1.760 -1.220  3.740 -6.269 -3.394 -3.685   \n",
       "VALUE -5.546  2.447000 -2.371 -2.375 -3.416  0.129 -7.171 -4.306 -6.404   \n",
       "VALUE -5.825  2.211000 -1.764 -1.214 -2.406  1.123 -6.832 -3.880 -1.588   \n",
       "VALUE -4.751  3.080000 -2.885 -3.239 -2.800  2.002 -5.800 -3.065 -4.183   \n",
       "VALUE -4.889  3.192000 -3.381 -3.825 -3.253  0.527 -6.665 -3.661 -4.783   \n",
       "...      ...       ...    ...    ...    ...    ...    ...    ...    ...   \n",
       "VALUE -2.328  1.878921 -2.012 -1.437 -1.223  0.313 -5.728 -3.298 -9.723   \n",
       "VALUE -4.278  1.878921 -2.200 -2.346 -1.154  2.345 -5.166 -1.666 -1.246   \n",
       "VALUE -4.457  2.894000 -3.488 -3.926 -3.051  0.860 -6.092 -2.179 -2.426   \n",
       "VALUE -2.641  4.693000 -2.142 -1.725 -1.597  0.353 -5.226 -2.353 -5.285   \n",
       "VALUE -3.760  4.810000 -2.414 -1.898 -1.125  2.902 -5.023 -1.973  3.779   \n",
       "\n",
       "            14   ...    258       260    262    263    265    266    268  \\\n",
       "VALUE -5.669000  ... -5.445  1.591000 -0.050 -1.290 -3.313 -0.540 -7.001   \n",
       "VALUE -1.595000  ... -6.064 -0.694000  0.764 -1.001 -3.245 -3.460 -8.424   \n",
       "VALUE -2.431000  ... -5.632  0.587000  1.821 -1.280 -3.790 -2.928 -7.345   \n",
       "VALUE -1.700000  ... -5.687  0.320000 -0.533 -3.182 -2.469 -2.862 -6.438   \n",
       "VALUE -0.675000  ... -6.467 -0.807000  0.014 -3.146 -3.431 -3.977 -7.687   \n",
       "...         ...  ...    ...       ...    ...    ...    ...    ...    ...   \n",
       "VALUE -0.042141  ... -5.469  2.161000  4.010 -2.256 -1.365 -3.788 -7.083   \n",
       "VALUE -0.344000  ... -5.473  4.017000  0.588 -1.046 -0.157 -1.067 -6.153   \n",
       "VALUE  1.615000  ... -5.333  1.605000  3.312 -2.469 -1.339 -3.757 -5.837   \n",
       "VALUE  0.724000  ... -7.019  0.986000  0.581 -2.877 -0.870 -2.462 -7.227   \n",
       "VALUE  2.918000  ... -4.486  0.083562  3.238 -1.834 -0.611 -2.195 -4.414   \n",
       "\n",
       "            269    270    271  \n",
       "VALUE  1.606000 -4.125 -4.471  \n",
       "VALUE  0.272000 -3.178 -4.245  \n",
       "VALUE -0.775000 -1.741 -4.186  \n",
       "VALUE  0.198000 -3.498 -3.456  \n",
       "VALUE -0.358000 -3.891 -4.055  \n",
       "...         ...    ...    ...  \n",
       "VALUE  1.794000 -2.378 -2.358  \n",
       "VALUE  1.971000 -0.990 -1.675  \n",
       "VALUE  0.143000 -3.048 -2.335  \n",
       "VALUE  4.120000 -0.829 -2.072  \n",
       "VALUE  0.673554 -0.545 -1.606  \n",
       "\n",
       "[70 rows x 157 columns]"
      ]
     },
     "execution_count": 11,
     "metadata": {},
     "output_type": "execute_result"
    }
   ],
   "source": [
    "table"
   ]
  },
  {
   "cell_type": "markdown",
   "metadata": {},
   "source": [
    "### T-test"
   ]
  },
  {
   "cell_type": "code",
   "execution_count": 12,
   "metadata": {},
   "outputs": [],
   "source": [
    "X = table"
   ]
  },
  {
   "cell_type": "code",
   "execution_count": 13,
   "metadata": {},
   "outputs": [
    {
     "data": {
      "text/html": [
       "<div>\n",
       "<style scoped>\n",
       "    .dataframe tbody tr th:only-of-type {\n",
       "        vertical-align: middle;\n",
       "    }\n",
       "\n",
       "    .dataframe tbody tr th {\n",
       "        vertical-align: top;\n",
       "    }\n",
       "\n",
       "    .dataframe thead th {\n",
       "        text-align: right;\n",
       "    }\n",
       "</style>\n",
       "<table border=\"1\" class=\"dataframe\">\n",
       "  <thead>\n",
       "    <tr style=\"text-align: right;\">\n",
       "      <th></th>\n",
       "      <th>2</th>\n",
       "      <th>3</th>\n",
       "      <th>4</th>\n",
       "      <th>5</th>\n",
       "      <th>7</th>\n",
       "      <th>9</th>\n",
       "      <th>10</th>\n",
       "      <th>11</th>\n",
       "      <th>13</th>\n",
       "      <th>14</th>\n",
       "      <th>...</th>\n",
       "      <th>258</th>\n",
       "      <th>260</th>\n",
       "      <th>262</th>\n",
       "      <th>263</th>\n",
       "      <th>265</th>\n",
       "      <th>266</th>\n",
       "      <th>268</th>\n",
       "      <th>269</th>\n",
       "      <th>270</th>\n",
       "      <th>271</th>\n",
       "    </tr>\n",
       "  </thead>\n",
       "  <tbody>\n",
       "    <tr>\n",
       "      <th>VALUE</th>\n",
       "      <td>-6.007</td>\n",
       "      <td>3.639000</td>\n",
       "      <td>-2.782</td>\n",
       "      <td>-1.760</td>\n",
       "      <td>-1.220</td>\n",
       "      <td>3.740</td>\n",
       "      <td>-6.269</td>\n",
       "      <td>-3.394</td>\n",
       "      <td>-3.685</td>\n",
       "      <td>-5.669000</td>\n",
       "      <td>...</td>\n",
       "      <td>-5.445</td>\n",
       "      <td>1.591000</td>\n",
       "      <td>-0.050</td>\n",
       "      <td>-1.290</td>\n",
       "      <td>-3.313</td>\n",
       "      <td>-0.540</td>\n",
       "      <td>-7.001</td>\n",
       "      <td>1.606000</td>\n",
       "      <td>-4.125</td>\n",
       "      <td>-4.471</td>\n",
       "    </tr>\n",
       "    <tr>\n",
       "      <th>VALUE</th>\n",
       "      <td>-5.546</td>\n",
       "      <td>2.447000</td>\n",
       "      <td>-2.371</td>\n",
       "      <td>-2.375</td>\n",
       "      <td>-3.416</td>\n",
       "      <td>0.129</td>\n",
       "      <td>-7.171</td>\n",
       "      <td>-4.306</td>\n",
       "      <td>-6.404</td>\n",
       "      <td>-1.595000</td>\n",
       "      <td>...</td>\n",
       "      <td>-6.064</td>\n",
       "      <td>-0.694000</td>\n",
       "      <td>0.764</td>\n",
       "      <td>-1.001</td>\n",
       "      <td>-3.245</td>\n",
       "      <td>-3.460</td>\n",
       "      <td>-8.424</td>\n",
       "      <td>0.272000</td>\n",
       "      <td>-3.178</td>\n",
       "      <td>-4.245</td>\n",
       "    </tr>\n",
       "    <tr>\n",
       "      <th>VALUE</th>\n",
       "      <td>-5.825</td>\n",
       "      <td>2.211000</td>\n",
       "      <td>-1.764</td>\n",
       "      <td>-1.214</td>\n",
       "      <td>-2.406</td>\n",
       "      <td>1.123</td>\n",
       "      <td>-6.832</td>\n",
       "      <td>-3.880</td>\n",
       "      <td>-1.588</td>\n",
       "      <td>-2.431000</td>\n",
       "      <td>...</td>\n",
       "      <td>-5.632</td>\n",
       "      <td>0.587000</td>\n",
       "      <td>1.821</td>\n",
       "      <td>-1.280</td>\n",
       "      <td>-3.790</td>\n",
       "      <td>-2.928</td>\n",
       "      <td>-7.345</td>\n",
       "      <td>-0.775000</td>\n",
       "      <td>-1.741</td>\n",
       "      <td>-4.186</td>\n",
       "    </tr>\n",
       "    <tr>\n",
       "      <th>VALUE</th>\n",
       "      <td>-4.751</td>\n",
       "      <td>3.080000</td>\n",
       "      <td>-2.885</td>\n",
       "      <td>-3.239</td>\n",
       "      <td>-2.800</td>\n",
       "      <td>2.002</td>\n",
       "      <td>-5.800</td>\n",
       "      <td>-3.065</td>\n",
       "      <td>-4.183</td>\n",
       "      <td>-1.700000</td>\n",
       "      <td>...</td>\n",
       "      <td>-5.687</td>\n",
       "      <td>0.320000</td>\n",
       "      <td>-0.533</td>\n",
       "      <td>-3.182</td>\n",
       "      <td>-2.469</td>\n",
       "      <td>-2.862</td>\n",
       "      <td>-6.438</td>\n",
       "      <td>0.198000</td>\n",
       "      <td>-3.498</td>\n",
       "      <td>-3.456</td>\n",
       "    </tr>\n",
       "    <tr>\n",
       "      <th>VALUE</th>\n",
       "      <td>-4.889</td>\n",
       "      <td>3.192000</td>\n",
       "      <td>-3.381</td>\n",
       "      <td>-3.825</td>\n",
       "      <td>-3.253</td>\n",
       "      <td>0.527</td>\n",
       "      <td>-6.665</td>\n",
       "      <td>-3.661</td>\n",
       "      <td>-4.783</td>\n",
       "      <td>-0.675000</td>\n",
       "      <td>...</td>\n",
       "      <td>-6.467</td>\n",
       "      <td>-0.807000</td>\n",
       "      <td>0.014</td>\n",
       "      <td>-3.146</td>\n",
       "      <td>-3.431</td>\n",
       "      <td>-3.977</td>\n",
       "      <td>-7.687</td>\n",
       "      <td>-0.358000</td>\n",
       "      <td>-3.891</td>\n",
       "      <td>-4.055</td>\n",
       "    </tr>\n",
       "    <tr>\n",
       "      <th>...</th>\n",
       "      <td>...</td>\n",
       "      <td>...</td>\n",
       "      <td>...</td>\n",
       "      <td>...</td>\n",
       "      <td>...</td>\n",
       "      <td>...</td>\n",
       "      <td>...</td>\n",
       "      <td>...</td>\n",
       "      <td>...</td>\n",
       "      <td>...</td>\n",
       "      <td>...</td>\n",
       "      <td>...</td>\n",
       "      <td>...</td>\n",
       "      <td>...</td>\n",
       "      <td>...</td>\n",
       "      <td>...</td>\n",
       "      <td>...</td>\n",
       "      <td>...</td>\n",
       "      <td>...</td>\n",
       "      <td>...</td>\n",
       "      <td>...</td>\n",
       "    </tr>\n",
       "    <tr>\n",
       "      <th>VALUE</th>\n",
       "      <td>-2.328</td>\n",
       "      <td>1.878921</td>\n",
       "      <td>-2.012</td>\n",
       "      <td>-1.437</td>\n",
       "      <td>-1.223</td>\n",
       "      <td>0.313</td>\n",
       "      <td>-5.728</td>\n",
       "      <td>-3.298</td>\n",
       "      <td>-9.723</td>\n",
       "      <td>-0.042141</td>\n",
       "      <td>...</td>\n",
       "      <td>-5.469</td>\n",
       "      <td>2.161000</td>\n",
       "      <td>4.010</td>\n",
       "      <td>-2.256</td>\n",
       "      <td>-1.365</td>\n",
       "      <td>-3.788</td>\n",
       "      <td>-7.083</td>\n",
       "      <td>1.794000</td>\n",
       "      <td>-2.378</td>\n",
       "      <td>-2.358</td>\n",
       "    </tr>\n",
       "    <tr>\n",
       "      <th>VALUE</th>\n",
       "      <td>-4.278</td>\n",
       "      <td>1.878921</td>\n",
       "      <td>-2.200</td>\n",
       "      <td>-2.346</td>\n",
       "      <td>-1.154</td>\n",
       "      <td>2.345</td>\n",
       "      <td>-5.166</td>\n",
       "      <td>-1.666</td>\n",
       "      <td>-1.246</td>\n",
       "      <td>-0.344000</td>\n",
       "      <td>...</td>\n",
       "      <td>-5.473</td>\n",
       "      <td>4.017000</td>\n",
       "      <td>0.588</td>\n",
       "      <td>-1.046</td>\n",
       "      <td>-0.157</td>\n",
       "      <td>-1.067</td>\n",
       "      <td>-6.153</td>\n",
       "      <td>1.971000</td>\n",
       "      <td>-0.990</td>\n",
       "      <td>-1.675</td>\n",
       "    </tr>\n",
       "    <tr>\n",
       "      <th>VALUE</th>\n",
       "      <td>-4.457</td>\n",
       "      <td>2.894000</td>\n",
       "      <td>-3.488</td>\n",
       "      <td>-3.926</td>\n",
       "      <td>-3.051</td>\n",
       "      <td>0.860</td>\n",
       "      <td>-6.092</td>\n",
       "      <td>-2.179</td>\n",
       "      <td>-2.426</td>\n",
       "      <td>1.615000</td>\n",
       "      <td>...</td>\n",
       "      <td>-5.333</td>\n",
       "      <td>1.605000</td>\n",
       "      <td>3.312</td>\n",
       "      <td>-2.469</td>\n",
       "      <td>-1.339</td>\n",
       "      <td>-3.757</td>\n",
       "      <td>-5.837</td>\n",
       "      <td>0.143000</td>\n",
       "      <td>-3.048</td>\n",
       "      <td>-2.335</td>\n",
       "    </tr>\n",
       "    <tr>\n",
       "      <th>VALUE</th>\n",
       "      <td>-2.641</td>\n",
       "      <td>4.693000</td>\n",
       "      <td>-2.142</td>\n",
       "      <td>-1.725</td>\n",
       "      <td>-1.597</td>\n",
       "      <td>0.353</td>\n",
       "      <td>-5.226</td>\n",
       "      <td>-2.353</td>\n",
       "      <td>-5.285</td>\n",
       "      <td>0.724000</td>\n",
       "      <td>...</td>\n",
       "      <td>-7.019</td>\n",
       "      <td>0.986000</td>\n",
       "      <td>0.581</td>\n",
       "      <td>-2.877</td>\n",
       "      <td>-0.870</td>\n",
       "      <td>-2.462</td>\n",
       "      <td>-7.227</td>\n",
       "      <td>4.120000</td>\n",
       "      <td>-0.829</td>\n",
       "      <td>-2.072</td>\n",
       "    </tr>\n",
       "    <tr>\n",
       "      <th>VALUE</th>\n",
       "      <td>-3.760</td>\n",
       "      <td>4.810000</td>\n",
       "      <td>-2.414</td>\n",
       "      <td>-1.898</td>\n",
       "      <td>-1.125</td>\n",
       "      <td>2.902</td>\n",
       "      <td>-5.023</td>\n",
       "      <td>-1.973</td>\n",
       "      <td>3.779</td>\n",
       "      <td>2.918000</td>\n",
       "      <td>...</td>\n",
       "      <td>-4.486</td>\n",
       "      <td>0.083562</td>\n",
       "      <td>3.238</td>\n",
       "      <td>-1.834</td>\n",
       "      <td>-0.611</td>\n",
       "      <td>-2.195</td>\n",
       "      <td>-4.414</td>\n",
       "      <td>0.673554</td>\n",
       "      <td>-0.545</td>\n",
       "      <td>-1.606</td>\n",
       "    </tr>\n",
       "  </tbody>\n",
       "</table>\n",
       "<p>70 rows × 157 columns</p>\n",
       "</div>"
      ],
      "text/plain": [
       "         2         3      4      5      7      9      10     11     13   \\\n",
       "VALUE -6.007  3.639000 -2.782 -1.760 -1.220  3.740 -6.269 -3.394 -3.685   \n",
       "VALUE -5.546  2.447000 -2.371 -2.375 -3.416  0.129 -7.171 -4.306 -6.404   \n",
       "VALUE -5.825  2.211000 -1.764 -1.214 -2.406  1.123 -6.832 -3.880 -1.588   \n",
       "VALUE -4.751  3.080000 -2.885 -3.239 -2.800  2.002 -5.800 -3.065 -4.183   \n",
       "VALUE -4.889  3.192000 -3.381 -3.825 -3.253  0.527 -6.665 -3.661 -4.783   \n",
       "...      ...       ...    ...    ...    ...    ...    ...    ...    ...   \n",
       "VALUE -2.328  1.878921 -2.012 -1.437 -1.223  0.313 -5.728 -3.298 -9.723   \n",
       "VALUE -4.278  1.878921 -2.200 -2.346 -1.154  2.345 -5.166 -1.666 -1.246   \n",
       "VALUE -4.457  2.894000 -3.488 -3.926 -3.051  0.860 -6.092 -2.179 -2.426   \n",
       "VALUE -2.641  4.693000 -2.142 -1.725 -1.597  0.353 -5.226 -2.353 -5.285   \n",
       "VALUE -3.760  4.810000 -2.414 -1.898 -1.125  2.902 -5.023 -1.973  3.779   \n",
       "\n",
       "            14   ...    258       260    262    263    265    266    268  \\\n",
       "VALUE -5.669000  ... -5.445  1.591000 -0.050 -1.290 -3.313 -0.540 -7.001   \n",
       "VALUE -1.595000  ... -6.064 -0.694000  0.764 -1.001 -3.245 -3.460 -8.424   \n",
       "VALUE -2.431000  ... -5.632  0.587000  1.821 -1.280 -3.790 -2.928 -7.345   \n",
       "VALUE -1.700000  ... -5.687  0.320000 -0.533 -3.182 -2.469 -2.862 -6.438   \n",
       "VALUE -0.675000  ... -6.467 -0.807000  0.014 -3.146 -3.431 -3.977 -7.687   \n",
       "...         ...  ...    ...       ...    ...    ...    ...    ...    ...   \n",
       "VALUE -0.042141  ... -5.469  2.161000  4.010 -2.256 -1.365 -3.788 -7.083   \n",
       "VALUE -0.344000  ... -5.473  4.017000  0.588 -1.046 -0.157 -1.067 -6.153   \n",
       "VALUE  1.615000  ... -5.333  1.605000  3.312 -2.469 -1.339 -3.757 -5.837   \n",
       "VALUE  0.724000  ... -7.019  0.986000  0.581 -2.877 -0.870 -2.462 -7.227   \n",
       "VALUE  2.918000  ... -4.486  0.083562  3.238 -1.834 -0.611 -2.195 -4.414   \n",
       "\n",
       "            269    270    271  \n",
       "VALUE  1.606000 -4.125 -4.471  \n",
       "VALUE  0.272000 -3.178 -4.245  \n",
       "VALUE -0.775000 -1.741 -4.186  \n",
       "VALUE  0.198000 -3.498 -3.456  \n",
       "VALUE -0.358000 -3.891 -4.055  \n",
       "...         ...    ...    ...  \n",
       "VALUE  1.794000 -2.378 -2.358  \n",
       "VALUE  1.971000 -0.990 -1.675  \n",
       "VALUE  0.143000 -3.048 -2.335  \n",
       "VALUE  4.120000 -0.829 -2.072  \n",
       "VALUE  0.673554 -0.545 -1.606  \n",
       "\n",
       "[70 rows x 157 columns]"
      ]
     },
     "execution_count": 13,
     "metadata": {},
     "output_type": "execute_result"
    }
   ],
   "source": [
    "X"
   ]
  },
  {
   "cell_type": "code",
   "execution_count": 14,
   "metadata": {},
   "outputs": [],
   "source": [
    "X_healthy, X_cancer = X[controls == 1], X[sick == 1]"
   ]
  },
  {
   "cell_type": "code",
   "execution_count": 15,
   "metadata": {},
   "outputs": [],
   "source": [
    "results = ttest_ind(X_healthy, X_cancer).pvalue"
   ]
  },
  {
   "cell_type": "code",
   "execution_count": 16,
   "metadata": {},
   "outputs": [],
   "source": [
    "lowest, pvalues = np.argsort(results)[:5], np.sort(results)[:5]"
   ]
  },
  {
   "cell_type": "code",
   "execution_count": 17,
   "metadata": {},
   "outputs": [
    {
     "data": {
      "text/plain": [
       "(104       hsa-miR-214-002306\n",
       " 101       hsa-miR-210-000512\n",
       " 58        hsa-miR-145-002278\n",
       " 46        hsa-miR-132-000457\n",
       " 208    hsa-miR-532-3p-002355\n",
       " Name: ID_REF, dtype: object,\n",
       " array([1.11208767e-19, 1.16473871e-18, 8.69783694e-18, 3.40894688e-15,\n",
       "        1.45967687e-14]))"
      ]
     },
     "execution_count": 17,
     "metadata": {},
     "output_type": "execute_result"
    }
   ],
   "source": [
    "mirnas.iloc[lowest], pvalues"
   ]
  },
  {
   "cell_type": "markdown",
   "metadata": {},
   "source": [
    "### F-test"
   ]
  },
  {
   "cell_type": "code",
   "execution_count": 18,
   "metadata": {},
   "outputs": [],
   "source": [
    "t3 = table"
   ]
  },
  {
   "cell_type": "code",
   "execution_count": 19,
   "metadata": {},
   "outputs": [],
   "source": [
    "f, p = f_classif(t3, sick)"
   ]
  },
  {
   "cell_type": "code",
   "execution_count": 20,
   "metadata": {},
   "outputs": [
    {
     "data": {
      "text/plain": [
       "0.18223335896212325"
      ]
     },
     "execution_count": 20,
     "metadata": {},
     "output_type": "execute_result"
    }
   ],
   "source": [
    "np.mean(p)"
   ]
  },
  {
   "cell_type": "markdown",
   "metadata": {},
   "source": [
    "### ANOVA"
   ]
  },
  {
   "cell_type": "code",
   "execution_count": 21,
   "metadata": {},
   "outputs": [
    {
     "data": {
      "text/html": [
       "<div>\n",
       "<style scoped>\n",
       "    .dataframe tbody tr th:only-of-type {\n",
       "        vertical-align: middle;\n",
       "    }\n",
       "\n",
       "    .dataframe tbody tr th {\n",
       "        vertical-align: top;\n",
       "    }\n",
       "\n",
       "    .dataframe thead th {\n",
       "        text-align: right;\n",
       "    }\n",
       "</style>\n",
       "<table border=\"1\" class=\"dataframe\">\n",
       "  <thead>\n",
       "    <tr style=\"text-align: right;\">\n",
       "      <th></th>\n",
       "      <th>2</th>\n",
       "      <th>3</th>\n",
       "      <th>4</th>\n",
       "      <th>5</th>\n",
       "      <th>7</th>\n",
       "      <th>9</th>\n",
       "      <th>10</th>\n",
       "      <th>11</th>\n",
       "      <th>13</th>\n",
       "      <th>14</th>\n",
       "      <th>...</th>\n",
       "      <th>258</th>\n",
       "      <th>260</th>\n",
       "      <th>262</th>\n",
       "      <th>263</th>\n",
       "      <th>265</th>\n",
       "      <th>266</th>\n",
       "      <th>268</th>\n",
       "      <th>269</th>\n",
       "      <th>270</th>\n",
       "      <th>271</th>\n",
       "    </tr>\n",
       "  </thead>\n",
       "  <tbody>\n",
       "    <tr>\n",
       "      <th>VALUE</th>\n",
       "      <td>-6.007</td>\n",
       "      <td>3.639000</td>\n",
       "      <td>-2.782</td>\n",
       "      <td>-1.760</td>\n",
       "      <td>-1.220</td>\n",
       "      <td>3.740</td>\n",
       "      <td>-6.269</td>\n",
       "      <td>-3.394</td>\n",
       "      <td>-3.685</td>\n",
       "      <td>-5.669000</td>\n",
       "      <td>...</td>\n",
       "      <td>-5.445</td>\n",
       "      <td>1.591000</td>\n",
       "      <td>-0.050</td>\n",
       "      <td>-1.290</td>\n",
       "      <td>-3.313</td>\n",
       "      <td>-0.540</td>\n",
       "      <td>-7.001</td>\n",
       "      <td>1.606000</td>\n",
       "      <td>-4.125</td>\n",
       "      <td>-4.471</td>\n",
       "    </tr>\n",
       "    <tr>\n",
       "      <th>VALUE</th>\n",
       "      <td>-5.546</td>\n",
       "      <td>2.447000</td>\n",
       "      <td>-2.371</td>\n",
       "      <td>-2.375</td>\n",
       "      <td>-3.416</td>\n",
       "      <td>0.129</td>\n",
       "      <td>-7.171</td>\n",
       "      <td>-4.306</td>\n",
       "      <td>-6.404</td>\n",
       "      <td>-1.595000</td>\n",
       "      <td>...</td>\n",
       "      <td>-6.064</td>\n",
       "      <td>-0.694000</td>\n",
       "      <td>0.764</td>\n",
       "      <td>-1.001</td>\n",
       "      <td>-3.245</td>\n",
       "      <td>-3.460</td>\n",
       "      <td>-8.424</td>\n",
       "      <td>0.272000</td>\n",
       "      <td>-3.178</td>\n",
       "      <td>-4.245</td>\n",
       "    </tr>\n",
       "    <tr>\n",
       "      <th>VALUE</th>\n",
       "      <td>-5.825</td>\n",
       "      <td>2.211000</td>\n",
       "      <td>-1.764</td>\n",
       "      <td>-1.214</td>\n",
       "      <td>-2.406</td>\n",
       "      <td>1.123</td>\n",
       "      <td>-6.832</td>\n",
       "      <td>-3.880</td>\n",
       "      <td>-1.588</td>\n",
       "      <td>-2.431000</td>\n",
       "      <td>...</td>\n",
       "      <td>-5.632</td>\n",
       "      <td>0.587000</td>\n",
       "      <td>1.821</td>\n",
       "      <td>-1.280</td>\n",
       "      <td>-3.790</td>\n",
       "      <td>-2.928</td>\n",
       "      <td>-7.345</td>\n",
       "      <td>-0.775000</td>\n",
       "      <td>-1.741</td>\n",
       "      <td>-4.186</td>\n",
       "    </tr>\n",
       "    <tr>\n",
       "      <th>VALUE</th>\n",
       "      <td>-4.751</td>\n",
       "      <td>3.080000</td>\n",
       "      <td>-2.885</td>\n",
       "      <td>-3.239</td>\n",
       "      <td>-2.800</td>\n",
       "      <td>2.002</td>\n",
       "      <td>-5.800</td>\n",
       "      <td>-3.065</td>\n",
       "      <td>-4.183</td>\n",
       "      <td>-1.700000</td>\n",
       "      <td>...</td>\n",
       "      <td>-5.687</td>\n",
       "      <td>0.320000</td>\n",
       "      <td>-0.533</td>\n",
       "      <td>-3.182</td>\n",
       "      <td>-2.469</td>\n",
       "      <td>-2.862</td>\n",
       "      <td>-6.438</td>\n",
       "      <td>0.198000</td>\n",
       "      <td>-3.498</td>\n",
       "      <td>-3.456</td>\n",
       "    </tr>\n",
       "    <tr>\n",
       "      <th>VALUE</th>\n",
       "      <td>-4.889</td>\n",
       "      <td>3.192000</td>\n",
       "      <td>-3.381</td>\n",
       "      <td>-3.825</td>\n",
       "      <td>-3.253</td>\n",
       "      <td>0.527</td>\n",
       "      <td>-6.665</td>\n",
       "      <td>-3.661</td>\n",
       "      <td>-4.783</td>\n",
       "      <td>-0.675000</td>\n",
       "      <td>...</td>\n",
       "      <td>-6.467</td>\n",
       "      <td>-0.807000</td>\n",
       "      <td>0.014</td>\n",
       "      <td>-3.146</td>\n",
       "      <td>-3.431</td>\n",
       "      <td>-3.977</td>\n",
       "      <td>-7.687</td>\n",
       "      <td>-0.358000</td>\n",
       "      <td>-3.891</td>\n",
       "      <td>-4.055</td>\n",
       "    </tr>\n",
       "    <tr>\n",
       "      <th>...</th>\n",
       "      <td>...</td>\n",
       "      <td>...</td>\n",
       "      <td>...</td>\n",
       "      <td>...</td>\n",
       "      <td>...</td>\n",
       "      <td>...</td>\n",
       "      <td>...</td>\n",
       "      <td>...</td>\n",
       "      <td>...</td>\n",
       "      <td>...</td>\n",
       "      <td>...</td>\n",
       "      <td>...</td>\n",
       "      <td>...</td>\n",
       "      <td>...</td>\n",
       "      <td>...</td>\n",
       "      <td>...</td>\n",
       "      <td>...</td>\n",
       "      <td>...</td>\n",
       "      <td>...</td>\n",
       "      <td>...</td>\n",
       "      <td>...</td>\n",
       "    </tr>\n",
       "    <tr>\n",
       "      <th>VALUE</th>\n",
       "      <td>-2.328</td>\n",
       "      <td>1.878921</td>\n",
       "      <td>-2.012</td>\n",
       "      <td>-1.437</td>\n",
       "      <td>-1.223</td>\n",
       "      <td>0.313</td>\n",
       "      <td>-5.728</td>\n",
       "      <td>-3.298</td>\n",
       "      <td>-9.723</td>\n",
       "      <td>-0.042141</td>\n",
       "      <td>...</td>\n",
       "      <td>-5.469</td>\n",
       "      <td>2.161000</td>\n",
       "      <td>4.010</td>\n",
       "      <td>-2.256</td>\n",
       "      <td>-1.365</td>\n",
       "      <td>-3.788</td>\n",
       "      <td>-7.083</td>\n",
       "      <td>1.794000</td>\n",
       "      <td>-2.378</td>\n",
       "      <td>-2.358</td>\n",
       "    </tr>\n",
       "    <tr>\n",
       "      <th>VALUE</th>\n",
       "      <td>-4.278</td>\n",
       "      <td>1.878921</td>\n",
       "      <td>-2.200</td>\n",
       "      <td>-2.346</td>\n",
       "      <td>-1.154</td>\n",
       "      <td>2.345</td>\n",
       "      <td>-5.166</td>\n",
       "      <td>-1.666</td>\n",
       "      <td>-1.246</td>\n",
       "      <td>-0.344000</td>\n",
       "      <td>...</td>\n",
       "      <td>-5.473</td>\n",
       "      <td>4.017000</td>\n",
       "      <td>0.588</td>\n",
       "      <td>-1.046</td>\n",
       "      <td>-0.157</td>\n",
       "      <td>-1.067</td>\n",
       "      <td>-6.153</td>\n",
       "      <td>1.971000</td>\n",
       "      <td>-0.990</td>\n",
       "      <td>-1.675</td>\n",
       "    </tr>\n",
       "    <tr>\n",
       "      <th>VALUE</th>\n",
       "      <td>-4.457</td>\n",
       "      <td>2.894000</td>\n",
       "      <td>-3.488</td>\n",
       "      <td>-3.926</td>\n",
       "      <td>-3.051</td>\n",
       "      <td>0.860</td>\n",
       "      <td>-6.092</td>\n",
       "      <td>-2.179</td>\n",
       "      <td>-2.426</td>\n",
       "      <td>1.615000</td>\n",
       "      <td>...</td>\n",
       "      <td>-5.333</td>\n",
       "      <td>1.605000</td>\n",
       "      <td>3.312</td>\n",
       "      <td>-2.469</td>\n",
       "      <td>-1.339</td>\n",
       "      <td>-3.757</td>\n",
       "      <td>-5.837</td>\n",
       "      <td>0.143000</td>\n",
       "      <td>-3.048</td>\n",
       "      <td>-2.335</td>\n",
       "    </tr>\n",
       "    <tr>\n",
       "      <th>VALUE</th>\n",
       "      <td>-2.641</td>\n",
       "      <td>4.693000</td>\n",
       "      <td>-2.142</td>\n",
       "      <td>-1.725</td>\n",
       "      <td>-1.597</td>\n",
       "      <td>0.353</td>\n",
       "      <td>-5.226</td>\n",
       "      <td>-2.353</td>\n",
       "      <td>-5.285</td>\n",
       "      <td>0.724000</td>\n",
       "      <td>...</td>\n",
       "      <td>-7.019</td>\n",
       "      <td>0.986000</td>\n",
       "      <td>0.581</td>\n",
       "      <td>-2.877</td>\n",
       "      <td>-0.870</td>\n",
       "      <td>-2.462</td>\n",
       "      <td>-7.227</td>\n",
       "      <td>4.120000</td>\n",
       "      <td>-0.829</td>\n",
       "      <td>-2.072</td>\n",
       "    </tr>\n",
       "    <tr>\n",
       "      <th>VALUE</th>\n",
       "      <td>-3.760</td>\n",
       "      <td>4.810000</td>\n",
       "      <td>-2.414</td>\n",
       "      <td>-1.898</td>\n",
       "      <td>-1.125</td>\n",
       "      <td>2.902</td>\n",
       "      <td>-5.023</td>\n",
       "      <td>-1.973</td>\n",
       "      <td>3.779</td>\n",
       "      <td>2.918000</td>\n",
       "      <td>...</td>\n",
       "      <td>-4.486</td>\n",
       "      <td>0.083562</td>\n",
       "      <td>3.238</td>\n",
       "      <td>-1.834</td>\n",
       "      <td>-0.611</td>\n",
       "      <td>-2.195</td>\n",
       "      <td>-4.414</td>\n",
       "      <td>0.673554</td>\n",
       "      <td>-0.545</td>\n",
       "      <td>-1.606</td>\n",
       "    </tr>\n",
       "  </tbody>\n",
       "</table>\n",
       "<p>70 rows × 157 columns</p>\n",
       "</div>"
      ],
      "text/plain": [
       "         2         3      4      5      7      9      10     11     13   \\\n",
       "VALUE -6.007  3.639000 -2.782 -1.760 -1.220  3.740 -6.269 -3.394 -3.685   \n",
       "VALUE -5.546  2.447000 -2.371 -2.375 -3.416  0.129 -7.171 -4.306 -6.404   \n",
       "VALUE -5.825  2.211000 -1.764 -1.214 -2.406  1.123 -6.832 -3.880 -1.588   \n",
       "VALUE -4.751  3.080000 -2.885 -3.239 -2.800  2.002 -5.800 -3.065 -4.183   \n",
       "VALUE -4.889  3.192000 -3.381 -3.825 -3.253  0.527 -6.665 -3.661 -4.783   \n",
       "...      ...       ...    ...    ...    ...    ...    ...    ...    ...   \n",
       "VALUE -2.328  1.878921 -2.012 -1.437 -1.223  0.313 -5.728 -3.298 -9.723   \n",
       "VALUE -4.278  1.878921 -2.200 -2.346 -1.154  2.345 -5.166 -1.666 -1.246   \n",
       "VALUE -4.457  2.894000 -3.488 -3.926 -3.051  0.860 -6.092 -2.179 -2.426   \n",
       "VALUE -2.641  4.693000 -2.142 -1.725 -1.597  0.353 -5.226 -2.353 -5.285   \n",
       "VALUE -3.760  4.810000 -2.414 -1.898 -1.125  2.902 -5.023 -1.973  3.779   \n",
       "\n",
       "            14   ...    258       260    262    263    265    266    268  \\\n",
       "VALUE -5.669000  ... -5.445  1.591000 -0.050 -1.290 -3.313 -0.540 -7.001   \n",
       "VALUE -1.595000  ... -6.064 -0.694000  0.764 -1.001 -3.245 -3.460 -8.424   \n",
       "VALUE -2.431000  ... -5.632  0.587000  1.821 -1.280 -3.790 -2.928 -7.345   \n",
       "VALUE -1.700000  ... -5.687  0.320000 -0.533 -3.182 -2.469 -2.862 -6.438   \n",
       "VALUE -0.675000  ... -6.467 -0.807000  0.014 -3.146 -3.431 -3.977 -7.687   \n",
       "...         ...  ...    ...       ...    ...    ...    ...    ...    ...   \n",
       "VALUE -0.042141  ... -5.469  2.161000  4.010 -2.256 -1.365 -3.788 -7.083   \n",
       "VALUE -0.344000  ... -5.473  4.017000  0.588 -1.046 -0.157 -1.067 -6.153   \n",
       "VALUE  1.615000  ... -5.333  1.605000  3.312 -2.469 -1.339 -3.757 -5.837   \n",
       "VALUE  0.724000  ... -7.019  0.986000  0.581 -2.877 -0.870 -2.462 -7.227   \n",
       "VALUE  2.918000  ... -4.486  0.083562  3.238 -1.834 -0.611 -2.195 -4.414   \n",
       "\n",
       "            269    270    271  \n",
       "VALUE  1.606000 -4.125 -4.471  \n",
       "VALUE  0.272000 -3.178 -4.245  \n",
       "VALUE -0.775000 -1.741 -4.186  \n",
       "VALUE  0.198000 -3.498 -3.456  \n",
       "VALUE -0.358000 -3.891 -4.055  \n",
       "...         ...    ...    ...  \n",
       "VALUE  1.794000 -2.378 -2.358  \n",
       "VALUE  1.971000 -0.990 -1.675  \n",
       "VALUE  0.143000 -3.048 -2.335  \n",
       "VALUE  4.120000 -0.829 -2.072  \n",
       "VALUE  0.673554 -0.545 -1.606  \n",
       "\n",
       "[70 rows x 157 columns]"
      ]
     },
     "execution_count": 21,
     "metadata": {},
     "output_type": "execute_result"
    }
   ],
   "source": [
    "t3"
   ]
  },
  {
   "cell_type": "code",
   "execution_count": 22,
   "metadata": {},
   "outputs": [],
   "source": [
    "X = np.array(sick).reshape(-1, 1)"
   ]
  },
  {
   "cell_type": "code",
   "execution_count": 23,
   "metadata": {},
   "outputs": [
    {
     "data": {
      "text/plain": [
       "LinearRegression()"
      ]
     },
     "execution_count": 23,
     "metadata": {},
     "output_type": "execute_result"
    }
   ],
   "source": [
    "linreg = LinearRegression()\n",
    "linreg.fit(X, t3)"
   ]
  },
  {
   "cell_type": "code",
   "execution_count": 24,
   "metadata": {},
   "outputs": [
    {
     "data": {
      "text/plain": [
       "0.1334756717792269"
      ]
     },
     "execution_count": 24,
     "metadata": {},
     "output_type": "execute_result"
    }
   ],
   "source": [
    "fitted = linreg.predict(X)\n",
    "explained_variance_score(t3, fitted)"
   ]
  },
  {
   "cell_type": "markdown",
   "metadata": {},
   "source": [
    "### Mean-variance-plot"
   ]
  },
  {
   "cell_type": "code",
   "execution_count": 25,
   "metadata": {},
   "outputs": [
    {
     "data": {
      "text/plain": [
       "2     -4.964514\n",
       "3      1.878921\n",
       "4     -1.920145\n",
       "5     -0.896303\n",
       "7     -2.101652\n",
       "         ...   \n",
       "266   -2.695348\n",
       "268   -7.413629\n",
       "269    0.673554\n",
       "270   -1.166892\n",
       "271   -3.704814\n",
       "Length: 157, dtype: float64"
      ]
     },
     "execution_count": 25,
     "metadata": {},
     "output_type": "execute_result"
    }
   ],
   "source": [
    "np.mean(table)"
   ]
  },
  {
   "cell_type": "code",
   "execution_count": 26,
   "metadata": {
    "tags": []
   },
   "outputs": [],
   "source": [
    "def get_means_and_variances(table):\n",
    "    return np.mean(table), np.var(table, ddof=1)"
   ]
  },
  {
   "cell_type": "code",
   "execution_count": 27,
   "metadata": {
    "tags": []
   },
   "outputs": [],
   "source": [
    "def mean_variance_plot(table):\n",
    "    means, variances = get_means_and_variances(table)\n",
    "    plt.scatter(means, variances)\n",
    "    plt.xlabel(\"mean\")\n",
    "    plt.ylabel(\"variance\")\n",
    "    plt.plot()"
   ]
  },
  {
   "cell_type": "code",
   "execution_count": 28,
   "metadata": {},
   "outputs": [
    {
     "data": {
      "image/png": "[encoded data removed]",
      "text/plain": [
       "<Figure size 432x288 with 1 Axes>"
      ]
     },
     "metadata": {
      "needs_background": "light"
     },
     "output_type": "display_data"
    }
   ],
   "source": [
    "mean_variance_plot(table)"
   ]
  },
  {
   "cell_type": "markdown",
   "metadata": {},
   "source": [
    "### Lowess regression"
   ]
  },
  {
   "cell_type": "code",
   "execution_count": 29,
   "metadata": {
    "tags": []
   },
   "outputs": [],
   "source": [
    "lowess = LowessRegression(sigma=1, span=0.1)"
   ]
  },
  {
   "cell_type": "code",
   "execution_count": 30,
   "metadata": {},
   "outputs": [
    {
     "data": {
      "text/plain": [
       "LowessRegression(span=0.1)"
      ]
     },
     "execution_count": 30,
     "metadata": {},
     "output_type": "execute_result"
    }
   ],
   "source": [
    "means, variances = get_means_and_variances(table)\n",
    "lowess.fit(means.to_numpy().reshape(-1,1), variances)"
   ]
  },
  {
   "cell_type": "code",
   "execution_count": 31,
   "metadata": {},
   "outputs": [],
   "source": [
    "x_axis = np.linspace(-2, 14, 100)\n",
    "y_axis = lowess.predict(x_axis.reshape(-1,1))"
   ]
  },
  {
   "cell_type": "code",
   "execution_count": 32,
   "metadata": {},
   "outputs": [
    {
     "data": {
      "text/plain": [
       "[]"
      ]
     },
     "execution_count": 32,
     "metadata": {},
     "output_type": "execute_result"
    },
    {
     "data": {
      "image/png": "[encoded data removed]",
      "text/plain": [
       "<Figure size 432x288 with 1 Axes>"
      ]
     },
     "metadata": {
      "needs_background": "light"
     },
     "output_type": "display_data"
    }
   ],
   "source": [
    "plt.scatter(means, variances, color=\"b\")\n",
    "plt.scatter(x_axis, y_axis, color=\"y\")\n",
    "plt.xlabel(\"mean\")\n",
    "plt.ylabel(\"variance\")\n",
    "plt.legend([\"Sample points\", \"Lowess regression\"])\n",
    "plt.plot()"
   ]
  },
  {
   "cell_type": "code",
   "execution_count": 33,
   "metadata": {},
   "outputs": [],
   "source": [
    "adj_var = lowess.predict(means.to_numpy().reshape(-1, 1))"
   ]
  },
  {
   "cell_type": "code",
   "execution_count": 34,
   "metadata": {
    "tags": []
   },
   "outputs": [],
   "source": [
    "table /= np.sqrt(adj_var)"
   ]
  },
  {
   "cell_type": "code",
   "execution_count": 35,
   "metadata": {},
   "outputs": [
    {
     "data": {
      "image/png": "[encoded data removed]",
      "text/plain": [
       "<Figure size 432x288 with 1 Axes>"
      ]
     },
     "metadata": {
      "needs_background": "light"
     },
     "output_type": "display_data"
    }
   ],
   "source": [
    "mean_variance_plot(table)"
   ]
  },
  {
   "cell_type": "markdown",
   "metadata": {
    "tags": []
   },
   "source": [
    "### Log transformation"
   ]
  },
  {
   "cell_type": "code",
   "execution_count": 36,
   "metadata": {},
   "outputs": [],
   "source": [
    "log_table = table #np.log2(table)"
   ]
  },
  {
   "cell_type": "code",
   "execution_count": 37,
   "metadata": {},
   "outputs": [
    {
     "data": {
      "image/png": "[encoded data removed]",
      "text/plain": [
       "<Figure size 432x288 with 1 Axes>"
      ]
     },
     "metadata": {
      "needs_background": "light"
     },
     "output_type": "display_data"
    }
   ],
   "source": [
    "mean_variance_plot(log_table)"
   ]
  },
  {
   "cell_type": "code",
   "execution_count": 38,
   "metadata": {
    "tags": []
   },
   "outputs": [],
   "source": [
    "norm_log_table = log_table - np.mean(log_table)"
   ]
  },
  {
   "cell_type": "code",
   "execution_count": 39,
   "metadata": {},
   "outputs": [],
   "source": [
    "norm_log_table /= np.sqrt(np.mean(np.var(norm_log_table, ddof=1)))"
   ]
  },
  {
   "cell_type": "code",
   "execution_count": 40,
   "metadata": {},
   "outputs": [
    {
     "data": {
      "image/png": "[encoded data removed]",
      "text/plain": [
       "<Figure size 432x288 with 1 Axes>"
      ]
     },
     "metadata": {
      "needs_background": "light"
     },
     "output_type": "display_data"
    }
   ],
   "source": [
    "mean_variance_plot(norm_log_table)"
   ]
  },
  {
   "cell_type": "markdown",
   "metadata": {},
   "source": [
    "### PCA"
   ]
  },
  {
   "cell_type": "code",
   "execution_count": 41,
   "metadata": {
    "tags": []
   },
   "outputs": [],
   "source": [
    "pca = decomposition.PCA(n_components=10)"
   ]
  },
  {
   "cell_type": "code",
   "execution_count": 42,
   "metadata": {},
   "outputs": [
    {
     "data": {
      "text/plain": [
       "PCA(n_components=10)"
      ]
     },
     "execution_count": 42,
     "metadata": {},
     "output_type": "execute_result"
    }
   ],
   "source": [
    "pca.fit(norm_log_table)"
   ]
  },
  {
   "cell_type": "code",
   "execution_count": 43,
   "metadata": {},
   "outputs": [
    {
     "data": {
      "text/plain": [
       "array([0.21852316, 0.14843517, 0.05717269, 0.05570993, 0.04668069,\n",
       "       0.03932488, 0.03422783, 0.02980777, 0.02559302, 0.02528071])"
      ]
     },
     "execution_count": 43,
     "metadata": {},
     "output_type": "execute_result"
    }
   ],
   "source": [
    "pca.explained_variance_ratio_"
   ]
  },
  {
   "cell_type": "code",
   "execution_count": 44,
   "metadata": {
    "tags": []
   },
   "outputs": [],
   "source": [
    "components = pca.transform(norm_log_table)"
   ]
  },
  {
   "cell_type": "code",
   "execution_count": 45,
   "metadata": {},
   "outputs": [
    {
     "data": {
      "text/plain": [
       "(70, 10)"
      ]
     },
     "execution_count": 45,
     "metadata": {},
     "output_type": "execute_result"
    }
   ],
   "source": [
    "components.shape"
   ]
  },
  {
   "cell_type": "code",
   "execution_count": 46,
   "metadata": {},
   "outputs": [
    {
     "data": {
      "text/plain": [
       "32"
      ]
     },
     "execution_count": 46,
     "metadata": {},
     "output_type": "execute_result"
    }
   ],
   "source": [
    "sum(controls)"
   ]
  },
  {
   "cell_type": "code",
   "execution_count": 47,
   "metadata": {},
   "outputs": [
    {
     "data": {
      "image/png": "[encoded data removed]",
      "text/plain": [
       "<Figure size 576x576 with 1 Axes>"
      ]
     },
     "metadata": {
      "needs_background": "light"
     },
     "output_type": "display_data"
    }
   ],
   "source": [
    "fig = plt.figure(figsize = (8,8))\n",
    "ax = fig.add_subplot(1,1,1)\n",
    "\n",
    "ax.set_xlabel('Principal Component 1', fontsize = 15)\n",
    "ax.set_ylabel('Principal Component 2', fontsize = 15)\n",
    "ax.set_title('2 component PCA', fontsize = 20)\n",
    "targets = ['Cancer', 'Healthy']\n",
    "colors = ['r', 'g']\n",
    "ax.scatter(components[controls == False, 0], components[controls == False, 1], c = 'r', s = 10)\n",
    "ax.scatter(components[controls == True, 0], components[controls == True, 1], c = 'g', s = 10)\n",
    "ax.legend(targets)\n",
    "ax.grid()"
   ]
  },
  {
   "cell_type": "code",
   "execution_count": 48,
   "metadata": {
    "tags": []
   },
   "outputs": [],
   "source": [
    "components2 = components[components[:,0] < 20, :]\n",
    "controls2 = controls[components[:,0] < 20]"
   ]
  },
  {
   "cell_type": "code",
   "execution_count": 49,
   "metadata": {},
   "outputs": [
    {
     "data": {
      "image/png": "[encoded data removed]",
      "text/plain": [
       "<Figure size 576x576 with 1 Axes>"
      ]
     },
     "metadata": {
      "needs_background": "light"
     },
     "output_type": "display_data"
    }
   ],
   "source": [
    "fig = plt.figure(figsize = (8,8))\n",
    "ax = fig.add_subplot(1,1,1)\n",
    "\n",
    "ax.set_xlabel('Principal Component 1', fontsize = 15)\n",
    "ax.set_ylabel('Principal Component 2', fontsize = 15)\n",
    "ax.set_title('2 component PCA', fontsize = 20)\n",
    "targets = ['Cancer', 'Healthy']\n",
    "colors = ['r', 'g']\n",
    "ax.scatter(components2[controls2 == False, 0], components2[controls2 == False, 1], c = 'r', s = 10)\n",
    "ax.scatter(components2[controls2 == True, 0], components2[controls2 == True, 1], c = 'g', s = 10)\n",
    "ax.legend(targets)\n",
    "ax.grid()"
   ]
  },
  {
   "cell_type": "markdown",
   "metadata": {},
   "source": [
    "### Logistic Regression"
   ]
  },
  {
   "cell_type": "code",
   "execution_count": 117,
   "metadata": {},
   "outputs": [],
   "source": [
    "X_train, X_test, y_train, y_test = train_test_split(norm_log_table, controls, test_size=0.33, random_state=42)"
   ]
  },
  {
   "cell_type": "code",
   "execution_count": 118,
   "metadata": {},
   "outputs": [
    {
     "data": {
      "text/plain": [
       "LogisticRegression()"
      ]
     },
     "execution_count": 118,
     "metadata": {},
     "output_type": "execute_result"
    }
   ],
   "source": [
    "model = LogisticRegression()\n",
    "model.fit(X_train, y_train)"
   ]
  },
  {
   "cell_type": "code",
   "execution_count": 119,
   "metadata": {},
   "outputs": [
    {
     "data": {
      "text/plain": [
       "<sklearn.metrics._plot.roc_curve.RocCurveDisplay at 0x20bd0b31820>"
      ]
     },
     "execution_count": 119,
     "metadata": {},
     "output_type": "execute_result"
    },
    {
     "data": {
      "image/png": "[encoded data removed]",
      "text/plain": [
       "<Figure size 432x288 with 1 Axes>"
      ]
     },
     "metadata": {
      "needs_background": "light"
     },
     "output_type": "display_data"
    }
   ],
   "source": [
    "plot_roc_curve(model, X_test, y_test)"
   ]
  },
  {
   "cell_type": "markdown",
   "metadata": {
    "jupyter": {
     "outputs_hidden": true
    }
   },
   "source": [
    "### XGBoost"
   ]
  },
  {
   "cell_type": "code",
   "execution_count": 120,
   "metadata": {},
   "outputs": [
    {
     "name": "stdout",
     "output_type": "stream",
     "text": [
      "[15:43:20] WARNING: C:/Users/Administrator/workspace/xgboost-win64_release_1.4.0/src/learner.cc:1095: Starting in XGBoost 1.3.0, the default evaluation metric used with the objective 'binary:logistic' was changed from 'error' to 'logloss'. Explicitly set eval_metric if you'd like to restore the old behavior.\n"
     ]
    },
    {
     "data": {
      "text/plain": [
       "XGBClassifier(base_score=0.5, booster='gbtree', colsample_bylevel=1,\n",
       "              colsample_bynode=1, colsample_bytree=1, gamma=0, gpu_id=-1,\n",
       "              importance_type='gain', interaction_constraints='',\n",
       "              learning_rate=0.300000012, max_delta_step=0, max_depth=6,\n",
       "              min_child_weight=1, missing=nan, monotone_constraints='()',\n",
       "              n_estimators=100, n_jobs=4, num_parallel_tree=1, random_state=0,\n",
       "              reg_alpha=0, reg_lambda=1, scale_pos_weight=1, subsample=1,\n",
       "              tree_method='exact', use_label_encoder=False,\n",
       "              validate_parameters=1, verbosity=None)"
      ]
     },
     "execution_count": 120,
     "metadata": {},
     "output_type": "execute_result"
    }
   ],
   "source": [
    "model = XGBClassifier(use_label_encoder=False)\n",
    "model.fit(X_train, y_train)"
   ]
  },
  {
   "cell_type": "code",
   "execution_count": 121,
   "metadata": {},
   "outputs": [
    {
     "data": {
      "text/plain": [
       "<sklearn.metrics._plot.roc_curve.RocCurveDisplay at 0x20bd614e940>"
      ]
     },
     "execution_count": 121,
     "metadata": {},
     "output_type": "execute_result"
    },
    {
     "data": {
      "image/png": "[encoded data removed]",
      "text/plain": [
       "<Figure size 432x288 with 1 Axes>"
      ]
     },
     "metadata": {
      "needs_background": "light"
     },
     "output_type": "display_data"
    }
   ],
   "source": [
    "plot_roc_curve(model, X_test, y_test)"
   ]
  },
  {
   "cell_type": "markdown",
   "metadata": {},
   "source": [
    "### Exporting data"
   ]
  },
  {
   "cell_type": "code",
   "execution_count": 122,
   "metadata": {},
   "outputs": [],
   "source": [
    "mask = np.array([True if m[:3] == \"hsa\" else False for m in mirnas])"
   ]
  },
  {
   "cell_type": "code",
   "execution_count": 123,
   "metadata": {},
   "outputs": [
    {
     "data": {
      "text/plain": [
       "(157, 157, 157)"
      ]
     },
     "execution_count": 123,
     "metadata": {},
     "output_type": "execute_result"
    }
   ],
   "source": [
    "len(mask), len(mirnas), len(norm_log_table.columns)"
   ]
  },
  {
   "cell_type": "code",
   "execution_count": 124,
   "metadata": {},
   "outputs": [],
   "source": [
    "mirnas = mirnas[mask]\n",
    "norm_log_table = norm_log_table.loc[:, mask]"
   ]
  },
  {
   "cell_type": "code",
   "execution_count": 125,
   "metadata": {},
   "outputs": [],
   "source": [
    "mirnas = [m[:-7] for m in mirnas]"
   ]
  },
  {
   "cell_type": "code",
   "execution_count": 126,
   "metadata": {},
   "outputs": [],
   "source": [
    "mirnas = [m.replace(\"A\", \"a\").replace(\"B\", \"b\").replace(\"P\", \"p\") for m in mirnas]"
   ]
  },
  {
   "cell_type": "code",
   "execution_count": 127,
   "metadata": {},
   "outputs": [],
   "source": [
    "from Scripts import converters"
   ]
  },
  {
   "cell_type": "code",
   "execution_count": 128,
   "metadata": {},
   "outputs": [],
   "source": [
    "sequences = converters.canonical_to_seq(mirnas, True)"
   ]
  },
  {
   "cell_type": "code",
   "execution_count": 129,
   "metadata": {},
   "outputs": [
    {
     "data": {
      "text/plain": [
       "4"
      ]
     },
     "execution_count": 129,
     "metadata": {},
     "output_type": "execute_result"
    }
   ],
   "source": [
    "sequences.count(None)"
   ]
  },
  {
   "cell_type": "code",
   "execution_count": 130,
   "metadata": {},
   "outputs": [],
   "source": [
    "sequences = np.array(sequences)"
   ]
  },
  {
   "cell_type": "code",
   "execution_count": 131,
   "metadata": {},
   "outputs": [],
   "source": [
    "mask = sequences != None"
   ]
  },
  {
   "cell_type": "code",
   "execution_count": 132,
   "metadata": {},
   "outputs": [],
   "source": [
    "sequences = sequences[mask]\n",
    "norm_log_table = norm_log_table.loc[:, mask]"
   ]
  },
  {
   "cell_type": "code",
   "execution_count": 133,
   "metadata": {},
   "outputs": [
    {
     "data": {
      "text/plain": [
       "array(['CGGGGUGAGGUAGUAGGUUGUGUGGUUUCAGGGCAGUGAUGUUGCCCCUCGGAAGAUAACUAUACAACCUACUGCCUUCCCUG',\n",
       "       'GCAUCCGGGUUGAGGUAGUAGGUUGUAUGGUUUAGAGUUACACCCUGGGAGUUAACUGUACAACCUUCUAGCUUUCCUUGGAGC',\n",
       "       'CCUAGGAAGAGGUAGUAGGUUGCAUAGUUUUAGGGCAGGGAUUUUGCCCACAAGGAGGUAACUAUACGACCUGCUGCCUUUCUUAGG',\n",
       "       'CCCGGGCUGAGGUAGGAGGUUGUAUAGUUGAGGAGGACACCCAAGGAGAUCACUAUACGGCCUCCUAGCUUUCCCCAGG',\n",
       "       'AGGCUGAGGUAGUAGUUUGUACAGUUUGAGGGUCUAUGAUACCACCCGGUACAGGAGAUAACUGUACAGGCCACUGCCUUGCCA',\n",
       "       'UACAGUACUGUGAUAACUGAA', 'AAAAGUGCUUACAGUGCAGGUAG',\n",
       "       'UAAAGUGCUGACAGUGCAGAU', 'UACCCUGUAGAUCCGAAUUUGUG',\n",
       "       'UACCCUGUAGAACCGAAUUUGUG'], dtype=object)"
      ]
     },
     "execution_count": 133,
     "metadata": {},
     "output_type": "execute_result"
    }
   ],
   "source": [
    "sequences[:10]"
   ]
  },
  {
   "cell_type": "code",
   "execution_count": 134,
   "metadata": {},
   "outputs": [],
   "source": [
    "norm_log_table.columns = sequences\n",
    "norm_log_table[\"cancer\"] = sick"
   ]
  },
  {
   "cell_type": "code",
   "execution_count": 135,
   "metadata": {},
   "outputs": [
    {
     "data": {
      "text/html": [
       "<div>\n",
       "<style scoped>\n",
       "    .dataframe tbody tr th:only-of-type {\n",
       "        vertical-align: middle;\n",
       "    }\n",
       "\n",
       "    .dataframe tbody tr th {\n",
       "        vertical-align: top;\n",
       "    }\n",
       "\n",
       "    .dataframe thead th {\n",
       "        text-align: right;\n",
       "    }\n",
       "</style>\n",
       "<table border=\"1\" class=\"dataframe\">\n",
       "  <thead>\n",
       "    <tr style=\"text-align: right;\">\n",
       "      <th></th>\n",
       "      <th>CGGGGUGAGGUAGUAGGUUGUGUGGUUUCAGGGCAGUGAUGUUGCCCCUCGGAAGAUAACUAUACAACCUACUGCCUUCCCUG</th>\n",
       "      <th>GCAUCCGGGUUGAGGUAGUAGGUUGUAUGGUUUAGAGUUACACCCUGGGAGUUAACUGUACAACCUUCUAGCUUUCCUUGGAGC</th>\n",
       "      <th>CCUAGGAAGAGGUAGUAGGUUGCAUAGUUUUAGGGCAGGGAUUUUGCCCACAAGGAGGUAACUAUACGACCUGCUGCCUUUCUUAGG</th>\n",
       "      <th>CCCGGGCUGAGGUAGGAGGUUGUAUAGUUGAGGAGGACACCCAAGGAGAUCACUAUACGGCCUCCUAGCUUUCCCCAGG</th>\n",
       "      <th>AGGCUGAGGUAGUAGUUUGUACAGUUUGAGGGUCUAUGAUACCACCCGGUACAGGAGAUAACUGUACAGGCCACUGCCUUGCCA</th>\n",
       "      <th>UACAGUACUGUGAUAACUGAA</th>\n",
       "      <th>AAAAGUGCUUACAGUGCAGGUAG</th>\n",
       "      <th>UAAAGUGCUGACAGUGCAGAU</th>\n",
       "      <th>UACCCUGUAGAUCCGAAUUUGUG</th>\n",
       "      <th>UACCCUGUAGAACCGAAUUUGUG</th>\n",
       "      <th>...</th>\n",
       "      <th>UACCCAUUGCAUAUCGGAGUUG</th>\n",
       "      <th>UAUUCAUUUAUCCCCAGCCUACA</th>\n",
       "      <th>UGCGGGGCUAGGGCUAACAGCA</th>\n",
       "      <th>UGAGACCUCUGGGUUCUGAGCU</th>\n",
       "      <th>UCCAUUACACUACCCUGCCUCU</th>\n",
       "      <th>UAUUGCACUUGUCCCGGCCUGU</th>\n",
       "      <th>UCUUCUCUGUUUUGGCCAUGUG</th>\n",
       "      <th>AACCCGUAGAUCCGAUCUUGUG</th>\n",
       "      <th>CACCCGUAGAACCGACCUUGCG</th>\n",
       "      <th>cancer</th>\n",
       "    </tr>\n",
       "  </thead>\n",
       "  <tbody>\n",
       "    <tr>\n",
       "      <th>VALUE</th>\n",
       "      <td>-0.630478</td>\n",
       "      <td>1.304453</td>\n",
       "      <td>-0.490071</td>\n",
       "      <td>-0.468067</td>\n",
       "      <td>0.542230</td>\n",
       "      <td>2.138511</td>\n",
       "      <td>0.057020</td>\n",
       "      <td>0.057166</td>\n",
       "      <td>-1.474241</td>\n",
       "      <td>-3.645962</td>\n",
       "      <td>...</td>\n",
       "      <td>0.611968</td>\n",
       "      <td>-0.238259</td>\n",
       "      <td>0.154064</td>\n",
       "      <td>-0.523919</td>\n",
       "      <td>2.131543</td>\n",
       "      <td>0.307685</td>\n",
       "      <td>0.919094</td>\n",
       "      <td>-0.781946</td>\n",
       "      <td>0.172908</td>\n",
       "      <td>False</td>\n",
       "    </tr>\n",
       "    <tr>\n",
       "      <th>VALUE</th>\n",
       "      <td>-0.351673</td>\n",
       "      <td>0.421022</td>\n",
       "      <td>-0.256367</td>\n",
       "      <td>-0.801357</td>\n",
       "      <td>-0.808344</td>\n",
       "      <td>-0.307740</td>\n",
       "      <td>-0.511289</td>\n",
       "      <td>-0.517377</td>\n",
       "      <td>-2.859242</td>\n",
       "      <td>-1.006186</td>\n",
       "      <td>...</td>\n",
       "      <td>-0.339583</td>\n",
       "      <td>-0.413945</td>\n",
       "      <td>-0.169971</td>\n",
       "      <td>-0.064520</td>\n",
       "      <td>0.479673</td>\n",
       "      <td>-0.050230</td>\n",
       "      <td>-0.474085</td>\n",
       "      <td>-0.138424</td>\n",
       "      <td>0.344394</td>\n",
       "      <td>False</td>\n",
       "    </tr>\n",
       "    <tr>\n",
       "      <th>VALUE</th>\n",
       "      <td>-0.520407</td>\n",
       "      <td>0.246115</td>\n",
       "      <td>0.088788</td>\n",
       "      <td>-0.172171</td>\n",
       "      <td>-0.187179</td>\n",
       "      <td>0.365640</td>\n",
       "      <td>-0.297700</td>\n",
       "      <td>-0.249005</td>\n",
       "      <td>-0.406074</td>\n",
       "      <td>-1.547878</td>\n",
       "      <td>...</td>\n",
       "      <td>-0.535041</td>\n",
       "      <td>-0.507738</td>\n",
       "      <td>-0.071464</td>\n",
       "      <td>-0.071334</td>\n",
       "      <td>0.328010</td>\n",
       "      <td>0.199559</td>\n",
       "      <td>0.306949</td>\n",
       "      <td>0.697204</td>\n",
       "      <td>0.178842</td>\n",
       "      <td>False</td>\n",
       "    </tr>\n",
       "    <tr>\n",
       "      <th>VALUE</th>\n",
       "      <td>0.129130</td>\n",
       "      <td>0.890160</td>\n",
       "      <td>-0.548640</td>\n",
       "      <td>-1.269589</td>\n",
       "      <td>-0.429495</td>\n",
       "      <td>0.961113</td>\n",
       "      <td>0.352515</td>\n",
       "      <td>0.264430</td>\n",
       "      <td>-1.727912</td>\n",
       "      <td>-1.074221</td>\n",
       "      <td>...</td>\n",
       "      <td>-0.066917</td>\n",
       "      <td>-1.917425</td>\n",
       "      <td>-0.517983</td>\n",
       "      <td>-0.145156</td>\n",
       "      <td>-0.321314</td>\n",
       "      <td>0.167757</td>\n",
       "      <td>0.144157</td>\n",
       "      <td>-1.163789</td>\n",
       "      <td>-0.949760</td>\n",
       "      <td>False</td>\n",
       "    </tr>\n",
       "    <tr>\n",
       "      <th>VALUE</th>\n",
       "      <td>0.045670</td>\n",
       "      <td>0.973167</td>\n",
       "      <td>-0.830677</td>\n",
       "      <td>-1.587163</td>\n",
       "      <td>-0.708097</td>\n",
       "      <td>-0.038117</td>\n",
       "      <td>-0.192481</td>\n",
       "      <td>-0.111039</td>\n",
       "      <td>-2.033539</td>\n",
       "      <td>-0.410066</td>\n",
       "      <td>...</td>\n",
       "      <td>-1.127674</td>\n",
       "      <td>-1.329472</td>\n",
       "      <td>-0.565292</td>\n",
       "      <td>-0.397286</td>\n",
       "      <td>-1.189268</td>\n",
       "      <td>-0.283252</td>\n",
       "      <td>-0.542981</td>\n",
       "      <td>-0.731349</td>\n",
       "      <td>-0.928398</td>\n",
       "      <td>False</td>\n",
       "    </tr>\n",
       "  </tbody>\n",
       "</table>\n",
       "<p>5 rows × 148 columns</p>\n",
       "</div>"
      ],
      "text/plain": [
       "       CGGGGUGAGGUAGUAGGUUGUGUGGUUUCAGGGCAGUGAUGUUGCCCCUCGGAAGAUAACUAUACAACCUACUGCCUUCCCUG  \\\n",
       "VALUE                                          -0.630478                                     \n",
       "VALUE                                          -0.351673                                     \n",
       "VALUE                                          -0.520407                                     \n",
       "VALUE                                           0.129130                                     \n",
       "VALUE                                           0.045670                                     \n",
       "\n",
       "       GCAUCCGGGUUGAGGUAGUAGGUUGUAUGGUUUAGAGUUACACCCUGGGAGUUAACUGUACAACCUUCUAGCUUUCCUUGGAGC  \\\n",
       "VALUE                                           1.304453                                      \n",
       "VALUE                                           0.421022                                      \n",
       "VALUE                                           0.246115                                      \n",
       "VALUE                                           0.890160                                      \n",
       "VALUE                                           0.973167                                      \n",
       "\n",
       "       CCUAGGAAGAGGUAGUAGGUUGCAUAGUUUUAGGGCAGGGAUUUUGCCCACAAGGAGGUAACUAUACGACCUGCUGCCUUUCUUAGG  \\\n",
       "VALUE                                          -0.490071                                         \n",
       "VALUE                                          -0.256367                                         \n",
       "VALUE                                           0.088788                                         \n",
       "VALUE                                          -0.548640                                         \n",
       "VALUE                                          -0.830677                                         \n",
       "\n",
       "       CCCGGGCUGAGGUAGGAGGUUGUAUAGUUGAGGAGGACACCCAAGGAGAUCACUAUACGGCCUCCUAGCUUUCCCCAGG  \\\n",
       "VALUE                                          -0.468067                                 \n",
       "VALUE                                          -0.801357                                 \n",
       "VALUE                                          -0.172171                                 \n",
       "VALUE                                          -1.269589                                 \n",
       "VALUE                                          -1.587163                                 \n",
       "\n",
       "       AGGCUGAGGUAGUAGUUUGUACAGUUUGAGGGUCUAUGAUACCACCCGGUACAGGAGAUAACUGUACAGGCCACUGCCUUGCCA  \\\n",
       "VALUE                                           0.542230                                      \n",
       "VALUE                                          -0.808344                                      \n",
       "VALUE                                          -0.187179                                      \n",
       "VALUE                                          -0.429495                                      \n",
       "VALUE                                          -0.708097                                      \n",
       "\n",
       "       UACAGUACUGUGAUAACUGAA  AAAAGUGCUUACAGUGCAGGUAG  UAAAGUGCUGACAGUGCAGAU  \\\n",
       "VALUE               2.138511                 0.057020               0.057166   \n",
       "VALUE              -0.307740                -0.511289              -0.517377   \n",
       "VALUE               0.365640                -0.297700              -0.249005   \n",
       "VALUE               0.961113                 0.352515               0.264430   \n",
       "VALUE              -0.038117                -0.192481              -0.111039   \n",
       "\n",
       "       UACCCUGUAGAUCCGAAUUUGUG  UACCCUGUAGAACCGAAUUUGUG  ...  \\\n",
       "VALUE                -1.474241                -3.645962  ...   \n",
       "VALUE                -2.859242                -1.006186  ...   \n",
       "VALUE                -0.406074                -1.547878  ...   \n",
       "VALUE                -1.727912                -1.074221  ...   \n",
       "VALUE                -2.033539                -0.410066  ...   \n",
       "\n",
       "       UACCCAUUGCAUAUCGGAGUUG  UAUUCAUUUAUCCCCAGCCUACA  \\\n",
       "VALUE                0.611968                -0.238259   \n",
       "VALUE               -0.339583                -0.413945   \n",
       "VALUE               -0.535041                -0.507738   \n",
       "VALUE               -0.066917                -1.917425   \n",
       "VALUE               -1.127674                -1.329472   \n",
       "\n",
       "       UGCGGGGCUAGGGCUAACAGCA  UGAGACCUCUGGGUUCUGAGCU  UCCAUUACACUACCCUGCCUCU  \\\n",
       "VALUE                0.154064               -0.523919                2.131543   \n",
       "VALUE               -0.169971               -0.064520                0.479673   \n",
       "VALUE               -0.071464               -0.071334                0.328010   \n",
       "VALUE               -0.517983               -0.145156               -0.321314   \n",
       "VALUE               -0.565292               -0.397286               -1.189268   \n",
       "\n",
       "       UAUUGCACUUGUCCCGGCCUGU  UCUUCUCUGUUUUGGCCAUGUG  AACCCGUAGAUCCGAUCUUGUG  \\\n",
       "VALUE                0.307685                0.919094               -0.781946   \n",
       "VALUE               -0.050230               -0.474085               -0.138424   \n",
       "VALUE                0.199559                0.306949                0.697204   \n",
       "VALUE                0.167757                0.144157               -1.163789   \n",
       "VALUE               -0.283252               -0.542981               -0.731349   \n",
       "\n",
       "       CACCCGUAGAACCGACCUUGCG  cancer  \n",
       "VALUE                0.172908   False  \n",
       "VALUE                0.344394   False  \n",
       "VALUE                0.178842   False  \n",
       "VALUE               -0.949760   False  \n",
       "VALUE               -0.928398   False  \n",
       "\n",
       "[5 rows x 148 columns]"
      ]
     },
     "execution_count": 135,
     "metadata": {},
     "output_type": "execute_result"
    }
   ],
   "source": [
    "norm_log_table.head()"
   ]
  },
  {
   "cell_type": "code",
   "execution_count": 136,
   "metadata": {},
   "outputs": [],
   "source": [
    "norm_log_table.to_csv(\"../TransformedData/Halvorsen2016.csv\", index=False)"
   ]
  },
  {
   "cell_type": "code",
   "execution_count": null,
   "metadata": {},
   "outputs": [],
   "source": []
  }
 ],
 "metadata": {
  "kernelspec": {
   "display_name": "Python 3 (ipykernel)",
   "language": "python",
   "name": "python3"
  },
  "language_info": {
   "codemirror_mode": {
    "name": "ipython",
    "version": 3
   },
   "file_extension": ".py",
   "mimetype": "text/x-python",
   "name": "python",
   "nbconvert_exporter": "python",
   "pygments_lexer": "ipython3",
   "version": "3.9.7"
  }
 },
 "nbformat": 4,
 "nbformat_minor": 4
}
