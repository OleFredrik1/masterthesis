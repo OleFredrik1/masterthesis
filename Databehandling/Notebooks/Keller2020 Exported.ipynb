{
 "cells": [
  {
   "cell_type": "code",
   "execution_count": 51,
   "metadata": {
    "tags": []
   },
   "outputs": [],
   "source": [
    "%matplotlib inline\n",
    "import GEOparse\n",
    "import matplotlib.pyplot as plt\n",
    "import pandas as pd\n",
    "import numpy as np\n",
    "from sklearn import decomposition\n",
    "from sklearn.feature_selection import f_classif\n",
    "from sklearn.linear_model import LinearRegression, LogisticRegression\n",
    "from sklearn.metrics import explained_variance_score, plot_roc_curve\n",
    "import statsmodels.api as sm\n",
    "from scipy.stats import ttest_ind\n",
    "from xgboost import XGBClassifier\n",
    "from sklearn.model_selection import train_test_split\n",
    "from sklego.linear_model import LowessRegression"
   ]
  },
  {
   "cell_type": "markdown",
   "metadata": {},
   "source": [
    "### Reading in from external source"
   ]
  },
  {
   "cell_type": "code",
   "execution_count": 52,
   "metadata": {},
   "outputs": [],
   "source": [
    "data = pd.read_csv(\"../Dataset/Keller2020/data.csv\", header=[0,1,2])"
   ]
  },
  {
   "cell_type": "code",
   "execution_count": 53,
   "metadata": {},
   "outputs": [
    {
     "data": {
      "text/plain": [
       "0    hsa-miR-6879-5p\n",
       "1    hsa-miR-1914-3p\n",
       "2    hsa-miR-6873-3p\n",
       "3    hsa-miR-6749-5p\n",
       "4     hsa-miR-33b-3p\n",
       "5    hsa-miR-6722-3p\n",
       "6       hsa-miR-4497\n",
       "7       hsa-miR-4496\n",
       "8    hsa-miR-514b-5p\n",
       "9       hsa-miR-4499\n",
       "Name: (Disease, Case/Control, TimePoint), dtype: object"
      ]
     },
     "execution_count": 53,
     "metadata": {},
     "output_type": "execute_result"
    }
   ],
   "source": [
    "table = data.transpose()\n",
    "mirnas = data.iloc[:,0]\n",
    "mirnas[:10]"
   ]
  },
  {
   "cell_type": "code",
   "execution_count": 54,
   "metadata": {},
   "outputs": [],
   "source": [
    "cases = []\n",
    "controls = []\n",
    "for ind in table.index:\n",
    "    disease, case, time = ind\n",
    "    if disease == \"lung\" and case == \"1\" and time.startswith(\"4\"):\n",
    "        cases.append(ind)\n",
    "    elif case == \"0\":\n",
    "        controls.append(ind)\n",
    "cases = np.array(cases)\n",
    "controls = np.array(controls)"
   ]
  },
  {
   "cell_type": "code",
   "execution_count": 55,
   "metadata": {},
   "outputs": [
    {
     "data": {
      "text/plain": [
       "(10, 90)"
      ]
     },
     "execution_count": 55,
     "metadata": {},
     "output_type": "execute_result"
    }
   ],
   "source": [
    "len(cases), len(controls)"
   ]
  },
  {
   "cell_type": "code",
   "execution_count": 56,
   "metadata": {},
   "outputs": [
    {
     "data": {
      "text/html": [
       "<div>\n",
       "<style scoped>\n",
       "    .dataframe tbody tr th:only-of-type {\n",
       "        vertical-align: middle;\n",
       "    }\n",
       "\n",
       "    .dataframe tbody tr th {\n",
       "        vertical-align: top;\n",
       "    }\n",
       "\n",
       "    .dataframe thead th {\n",
       "        text-align: right;\n",
       "    }\n",
       "</style>\n",
       "<table border=\"1\" class=\"dataframe\">\n",
       "  <thead>\n",
       "    <tr style=\"text-align: right;\">\n",
       "      <th></th>\n",
       "      <th>0</th>\n",
       "      <th>1</th>\n",
       "      <th>2</th>\n",
       "      <th>3</th>\n",
       "      <th>4</th>\n",
       "      <th>5</th>\n",
       "      <th>6</th>\n",
       "      <th>7</th>\n",
       "      <th>8</th>\n",
       "      <th>9</th>\n",
       "      <th>...</th>\n",
       "      <th>425</th>\n",
       "      <th>426</th>\n",
       "      <th>427</th>\n",
       "      <th>428</th>\n",
       "      <th>429</th>\n",
       "      <th>430</th>\n",
       "      <th>431</th>\n",
       "      <th>432</th>\n",
       "      <th>433</th>\n",
       "      <th>434</th>\n",
       "    </tr>\n",
       "  </thead>\n",
       "  <tbody>\n",
       "    <tr>\n",
       "      <th>0</th>\n",
       "      <td>2.586579</td>\n",
       "      <td>1.984970</td>\n",
       "      <td>1.001199</td>\n",
       "      <td>67.783431</td>\n",
       "      <td>45.543636</td>\n",
       "      <td>13.936930</td>\n",
       "      <td>2.922348</td>\n",
       "      <td>1.919755</td>\n",
       "      <td>1.648331</td>\n",
       "      <td>4.904752</td>\n",
       "      <td>...</td>\n",
       "      <td>6.458223</td>\n",
       "      <td>3.600339</td>\n",
       "      <td>5.324236</td>\n",
       "      <td>3.692770</td>\n",
       "      <td>5.988129</td>\n",
       "      <td>1.733289</td>\n",
       "      <td>1.698204</td>\n",
       "      <td>2.036009</td>\n",
       "      <td>3.083484</td>\n",
       "      <td>19.849327</td>\n",
       "    </tr>\n",
       "    <tr>\n",
       "      <th>1</th>\n",
       "      <td>5.713781</td>\n",
       "      <td>2.234160</td>\n",
       "      <td>1.340979</td>\n",
       "      <td>59.474093</td>\n",
       "      <td>43.752316</td>\n",
       "      <td>14.981506</td>\n",
       "      <td>4.342706</td>\n",
       "      <td>1.698204</td>\n",
       "      <td>1.521796</td>\n",
       "      <td>3.279505</td>\n",
       "      <td>...</td>\n",
       "      <td>5.098393</td>\n",
       "      <td>3.207624</td>\n",
       "      <td>5.932174</td>\n",
       "      <td>2.756462</td>\n",
       "      <td>5.444247</td>\n",
       "      <td>1.470933</td>\n",
       "      <td>1.372984</td>\n",
       "      <td>0.993762</td>\n",
       "      <td>3.732401</td>\n",
       "      <td>17.123588</td>\n",
       "    </tr>\n",
       "    <tr>\n",
       "      <th>2</th>\n",
       "      <td>3.136505</td>\n",
       "      <td>2.062447</td>\n",
       "      <td>1.578979</td>\n",
       "      <td>43.752316</td>\n",
       "      <td>86.866796</td>\n",
       "      <td>16.124637</td>\n",
       "      <td>3.583264</td>\n",
       "      <td>1.041020</td>\n",
       "      <td>1.297070</td>\n",
       "      <td>3.069981</td>\n",
       "      <td>...</td>\n",
       "      <td>5.355190</td>\n",
       "      <td>3.634275</td>\n",
       "      <td>4.530009</td>\n",
       "      <td>2.057463</td>\n",
       "      <td>5.394346</td>\n",
       "      <td>1.885339</td>\n",
       "      <td>2.234160</td>\n",
       "      <td>1.145478</td>\n",
       "      <td>3.501534</td>\n",
       "      <td>15.748140</td>\n",
       "    </tr>\n",
       "    <tr>\n",
       "      <th>3</th>\n",
       "      <td>4.530009</td>\n",
       "      <td>3.518069</td>\n",
       "      <td>1.330037</td>\n",
       "      <td>38.233211</td>\n",
       "      <td>9.846221</td>\n",
       "      <td>6.816893</td>\n",
       "      <td>2.545676</td>\n",
       "      <td>1.542517</td>\n",
       "      <td>1.443457</td>\n",
       "      <td>5.988129</td>\n",
       "      <td>...</td>\n",
       "      <td>1.735977</td>\n",
       "      <td>1.411522</td>\n",
       "      <td>2.221556</td>\n",
       "      <td>2.992363</td>\n",
       "      <td>1.989384</td>\n",
       "      <td>2.687550</td>\n",
       "      <td>3.839025</td>\n",
       "      <td>1.793884</td>\n",
       "      <td>1.774053</td>\n",
       "      <td>8.740521</td>\n",
       "    </tr>\n",
       "    <tr>\n",
       "      <th>4</th>\n",
       "      <td>4.936459</td>\n",
       "      <td>2.046543</td>\n",
       "      <td>1.279034</td>\n",
       "      <td>43.752316</td>\n",
       "      <td>67.783431</td>\n",
       "      <td>16.814796</td>\n",
       "      <td>2.992363</td>\n",
       "      <td>1.287495</td>\n",
       "      <td>1.365078</td>\n",
       "      <td>3.802587</td>\n",
       "      <td>...</td>\n",
       "      <td>6.091902</td>\n",
       "      <td>3.436918</td>\n",
       "      <td>5.211109</td>\n",
       "      <td>2.595168</td>\n",
       "      <td>6.929546</td>\n",
       "      <td>1.122668</td>\n",
       "      <td>1.167561</td>\n",
       "      <td>1.030004</td>\n",
       "      <td>2.832109</td>\n",
       "      <td>31.096088</td>\n",
       "    </tr>\n",
       "  </tbody>\n",
       "</table>\n",
       "<p>5 rows × 435 columns</p>\n",
       "</div>"
      ],
      "text/plain": [
       "        0         1         2          3          4          5         6    \\\n",
       "0  2.586579  1.984970  1.001199  67.783431  45.543636  13.936930  2.922348   \n",
       "1  5.713781  2.234160  1.340979  59.474093  43.752316  14.981506  4.342706   \n",
       "2  3.136505  2.062447  1.578979  43.752316  86.866796  16.124637  3.583264   \n",
       "3  4.530009  3.518069  1.330037  38.233211   9.846221   6.816893  2.545676   \n",
       "4  4.936459  2.046543  1.279034  43.752316  67.783431  16.814796  2.992363   \n",
       "\n",
       "        7         8         9    ...       425       426       427       428  \\\n",
       "0  1.919755  1.648331  4.904752  ...  6.458223  3.600339  5.324236  3.692770   \n",
       "1  1.698204  1.521796  3.279505  ...  5.098393  3.207624  5.932174  2.756462   \n",
       "2  1.041020  1.297070  3.069981  ...  5.355190  3.634275  4.530009  2.057463   \n",
       "3  1.542517  1.443457  5.988129  ...  1.735977  1.411522  2.221556  2.992363   \n",
       "4  1.287495  1.365078  3.802587  ...  6.091902  3.436918  5.211109  2.595168   \n",
       "\n",
       "        429       430       431       432       433        434  \n",
       "0  5.988129  1.733289  1.698204  2.036009  3.083484  19.849327  \n",
       "1  5.444247  1.470933  1.372984  0.993762  3.732401  17.123588  \n",
       "2  5.394346  1.885339  2.234160  1.145478  3.501534  15.748140  \n",
       "3  1.989384  2.687550  3.839025  1.793884  1.774053   8.740521  \n",
       "4  6.929546  1.122668  1.167561  1.030004  2.832109  31.096088  \n",
       "\n",
       "[5 rows x 435 columns]"
      ]
     },
     "execution_count": 56,
     "metadata": {},
     "output_type": "execute_result"
    }
   ],
   "source": [
    "table = pd.concat([table.loc[pd.Index(cases)], table.loc[pd.Index(controls)]])\n",
    "table = table.apply(pd.to_numeric)\n",
    "table.index = list(range(len(table)))\n",
    "table.head()"
   ]
  },
  {
   "cell_type": "code",
   "execution_count": 57,
   "metadata": {},
   "outputs": [],
   "source": [
    "controls = np.array(len(cases)*[0] + len(controls)*[1])"
   ]
  },
  {
   "cell_type": "markdown",
   "metadata": {},
   "source": [
    "### Drop NAN"
   ]
  },
  {
   "cell_type": "code",
   "execution_count": 58,
   "metadata": {},
   "outputs": [],
   "source": [
    "mask = (table.isna().sum(axis=1) == 0).to_numpy()\n",
    "controls = controls[mask]\n",
    "table = table.loc[mask]"
   ]
  },
  {
   "cell_type": "code",
   "execution_count": 59,
   "metadata": {},
   "outputs": [],
   "source": [
    "sick = 1 - controls"
   ]
  },
  {
   "cell_type": "code",
   "execution_count": 60,
   "metadata": {},
   "outputs": [
    {
     "name": "stderr",
     "output_type": "stream",
     "text": [
      "C:\\Users\\OLEFRE~1\\AppData\\Local\\Temp/ipykernel_12284/1927661217.py:1: FutureWarning: In a future version of pandas all arguments of DataFrame.dropna will be keyword-only\n",
      "  table = table.dropna(1)\n"
     ]
    }
   ],
   "source": [
    "table = table.dropna(1)"
   ]
  },
  {
   "cell_type": "markdown",
   "metadata": {},
   "source": [
    "### T-test"
   ]
  },
  {
   "cell_type": "code",
   "execution_count": 61,
   "metadata": {},
   "outputs": [],
   "source": [
    "X = table"
   ]
  },
  {
   "cell_type": "code",
   "execution_count": 62,
   "metadata": {},
   "outputs": [
    {
     "data": {
      "text/plain": [
       "Int64Index([  0,   1,   2,   3,   4,   5,   6,   7,   8,   9,\n",
       "            ...\n",
       "            425, 426, 427, 428, 429, 430, 431, 432, 433, 434],\n",
       "           dtype='int64', length=435)"
      ]
     },
     "execution_count": 62,
     "metadata": {},
     "output_type": "execute_result"
    }
   ],
   "source": [
    "X.columns"
   ]
  },
  {
   "cell_type": "code",
   "execution_count": 63,
   "metadata": {},
   "outputs": [],
   "source": [
    "X_healthy, X_cancer = X[controls == 1], X[controls == 0]"
   ]
  },
  {
   "cell_type": "code",
   "execution_count": 64,
   "metadata": {},
   "outputs": [],
   "source": [
    "results = ttest_ind(X_healthy, X_cancer).pvalue"
   ]
  },
  {
   "cell_type": "code",
   "execution_count": 65,
   "metadata": {},
   "outputs": [],
   "source": [
    "lowest, pvalues = np.argsort(results)[:5], np.sort(results)[:5]"
   ]
  },
  {
   "cell_type": "code",
   "execution_count": 66,
   "metadata": {},
   "outputs": [
    {
     "data": {
      "text/plain": [
       "(305        hsa-miR-575\n",
       " 396    hsa-miR-6821-5p\n",
       " 328       hsa-miR-4459\n",
       " 71        hsa-miR-6090\n",
       " 320    hsa-miR-4707-3p\n",
       " Name: (Disease, Case/Control, TimePoint), dtype: object,\n",
       " array([7.23602220e-08, 1.45980133e-07, 4.30731398e-06, 4.17409870e-05,\n",
       "        4.84950878e-05]))"
      ]
     },
     "execution_count": 66,
     "metadata": {},
     "output_type": "execute_result"
    }
   ],
   "source": [
    "mirnas[lowest], pvalues"
   ]
  },
  {
   "cell_type": "markdown",
   "metadata": {},
   "source": [
    "### F-test"
   ]
  },
  {
   "cell_type": "code",
   "execution_count": 67,
   "metadata": {},
   "outputs": [],
   "source": [
    "t3 = table"
   ]
  },
  {
   "cell_type": "code",
   "execution_count": 68,
   "metadata": {},
   "outputs": [],
   "source": [
    "f, p = f_classif(t3, sick)"
   ]
  },
  {
   "cell_type": "code",
   "execution_count": 69,
   "metadata": {},
   "outputs": [
    {
     "data": {
      "text/plain": [
       "0.4249724112935167"
      ]
     },
     "execution_count": 69,
     "metadata": {},
     "output_type": "execute_result"
    }
   ],
   "source": [
    "np.mean(p)"
   ]
  },
  {
   "cell_type": "markdown",
   "metadata": {},
   "source": [
    "### ANOVA"
   ]
  },
  {
   "cell_type": "code",
   "execution_count": 70,
   "metadata": {},
   "outputs": [
    {
     "data": {
      "text/html": [
       "<div>\n",
       "<style scoped>\n",
       "    .dataframe tbody tr th:only-of-type {\n",
       "        vertical-align: middle;\n",
       "    }\n",
       "\n",
       "    .dataframe tbody tr th {\n",
       "        vertical-align: top;\n",
       "    }\n",
       "\n",
       "    .dataframe thead th {\n",
       "        text-align: right;\n",
       "    }\n",
       "</style>\n",
       "<table border=\"1\" class=\"dataframe\">\n",
       "  <thead>\n",
       "    <tr style=\"text-align: right;\">\n",
       "      <th></th>\n",
       "      <th>0</th>\n",
       "      <th>1</th>\n",
       "      <th>2</th>\n",
       "      <th>3</th>\n",
       "      <th>4</th>\n",
       "      <th>5</th>\n",
       "      <th>6</th>\n",
       "      <th>7</th>\n",
       "      <th>8</th>\n",
       "      <th>9</th>\n",
       "      <th>...</th>\n",
       "      <th>425</th>\n",
       "      <th>426</th>\n",
       "      <th>427</th>\n",
       "      <th>428</th>\n",
       "      <th>429</th>\n",
       "      <th>430</th>\n",
       "      <th>431</th>\n",
       "      <th>432</th>\n",
       "      <th>433</th>\n",
       "      <th>434</th>\n",
       "    </tr>\n",
       "  </thead>\n",
       "  <tbody>\n",
       "    <tr>\n",
       "      <th>0</th>\n",
       "      <td>2.586579</td>\n",
       "      <td>1.984970</td>\n",
       "      <td>1.001199</td>\n",
       "      <td>67.783431</td>\n",
       "      <td>45.543636</td>\n",
       "      <td>13.936930</td>\n",
       "      <td>2.922348</td>\n",
       "      <td>1.919755</td>\n",
       "      <td>1.648331</td>\n",
       "      <td>4.904752</td>\n",
       "      <td>...</td>\n",
       "      <td>6.458223</td>\n",
       "      <td>3.600339</td>\n",
       "      <td>5.324236</td>\n",
       "      <td>3.692770</td>\n",
       "      <td>5.988129</td>\n",
       "      <td>1.733289</td>\n",
       "      <td>1.698204</td>\n",
       "      <td>2.036009</td>\n",
       "      <td>3.083484</td>\n",
       "      <td>19.849327</td>\n",
       "    </tr>\n",
       "    <tr>\n",
       "      <th>1</th>\n",
       "      <td>5.713781</td>\n",
       "      <td>2.234160</td>\n",
       "      <td>1.340979</td>\n",
       "      <td>59.474093</td>\n",
       "      <td>43.752316</td>\n",
       "      <td>14.981506</td>\n",
       "      <td>4.342706</td>\n",
       "      <td>1.698204</td>\n",
       "      <td>1.521796</td>\n",
       "      <td>3.279505</td>\n",
       "      <td>...</td>\n",
       "      <td>5.098393</td>\n",
       "      <td>3.207624</td>\n",
       "      <td>5.932174</td>\n",
       "      <td>2.756462</td>\n",
       "      <td>5.444247</td>\n",
       "      <td>1.470933</td>\n",
       "      <td>1.372984</td>\n",
       "      <td>0.993762</td>\n",
       "      <td>3.732401</td>\n",
       "      <td>17.123588</td>\n",
       "    </tr>\n",
       "    <tr>\n",
       "      <th>2</th>\n",
       "      <td>3.136505</td>\n",
       "      <td>2.062447</td>\n",
       "      <td>1.578979</td>\n",
       "      <td>43.752316</td>\n",
       "      <td>86.866796</td>\n",
       "      <td>16.124637</td>\n",
       "      <td>3.583264</td>\n",
       "      <td>1.041020</td>\n",
       "      <td>1.297070</td>\n",
       "      <td>3.069981</td>\n",
       "      <td>...</td>\n",
       "      <td>5.355190</td>\n",
       "      <td>3.634275</td>\n",
       "      <td>4.530009</td>\n",
       "      <td>2.057463</td>\n",
       "      <td>5.394346</td>\n",
       "      <td>1.885339</td>\n",
       "      <td>2.234160</td>\n",
       "      <td>1.145478</td>\n",
       "      <td>3.501534</td>\n",
       "      <td>15.748140</td>\n",
       "    </tr>\n",
       "    <tr>\n",
       "      <th>3</th>\n",
       "      <td>4.530009</td>\n",
       "      <td>3.518069</td>\n",
       "      <td>1.330037</td>\n",
       "      <td>38.233211</td>\n",
       "      <td>9.846221</td>\n",
       "      <td>6.816893</td>\n",
       "      <td>2.545676</td>\n",
       "      <td>1.542517</td>\n",
       "      <td>1.443457</td>\n",
       "      <td>5.988129</td>\n",
       "      <td>...</td>\n",
       "      <td>1.735977</td>\n",
       "      <td>1.411522</td>\n",
       "      <td>2.221556</td>\n",
       "      <td>2.992363</td>\n",
       "      <td>1.989384</td>\n",
       "      <td>2.687550</td>\n",
       "      <td>3.839025</td>\n",
       "      <td>1.793884</td>\n",
       "      <td>1.774053</td>\n",
       "      <td>8.740521</td>\n",
       "    </tr>\n",
       "    <tr>\n",
       "      <th>4</th>\n",
       "      <td>4.936459</td>\n",
       "      <td>2.046543</td>\n",
       "      <td>1.279034</td>\n",
       "      <td>43.752316</td>\n",
       "      <td>67.783431</td>\n",
       "      <td>16.814796</td>\n",
       "      <td>2.992363</td>\n",
       "      <td>1.287495</td>\n",
       "      <td>1.365078</td>\n",
       "      <td>3.802587</td>\n",
       "      <td>...</td>\n",
       "      <td>6.091902</td>\n",
       "      <td>3.436918</td>\n",
       "      <td>5.211109</td>\n",
       "      <td>2.595168</td>\n",
       "      <td>6.929546</td>\n",
       "      <td>1.122668</td>\n",
       "      <td>1.167561</td>\n",
       "      <td>1.030004</td>\n",
       "      <td>2.832109</td>\n",
       "      <td>31.096088</td>\n",
       "    </tr>\n",
       "    <tr>\n",
       "      <th>...</th>\n",
       "      <td>...</td>\n",
       "      <td>...</td>\n",
       "      <td>...</td>\n",
       "      <td>...</td>\n",
       "      <td>...</td>\n",
       "      <td>...</td>\n",
       "      <td>...</td>\n",
       "      <td>...</td>\n",
       "      <td>...</td>\n",
       "      <td>...</td>\n",
       "      <td>...</td>\n",
       "      <td>...</td>\n",
       "      <td>...</td>\n",
       "      <td>...</td>\n",
       "      <td>...</td>\n",
       "      <td>...</td>\n",
       "      <td>...</td>\n",
       "      <td>...</td>\n",
       "      <td>...</td>\n",
       "      <td>...</td>\n",
       "      <td>...</td>\n",
       "    </tr>\n",
       "    <tr>\n",
       "      <th>95</th>\n",
       "      <td>7.515659</td>\n",
       "      <td>2.668237</td>\n",
       "      <td>1.873708</td>\n",
       "      <td>41.641526</td>\n",
       "      <td>78.550614</td>\n",
       "      <td>17.480883</td>\n",
       "      <td>3.387908</td>\n",
       "      <td>2.215011</td>\n",
       "      <td>1.401626</td>\n",
       "      <td>7.171026</td>\n",
       "      <td>...</td>\n",
       "      <td>3.768511</td>\n",
       "      <td>2.460019</td>\n",
       "      <td>4.127907</td>\n",
       "      <td>3.179283</td>\n",
       "      <td>2.747371</td>\n",
       "      <td>2.288662</td>\n",
       "      <td>2.887993</td>\n",
       "      <td>1.603383</td>\n",
       "      <td>2.877183</td>\n",
       "      <td>14.728697</td>\n",
       "    </tr>\n",
       "    <tr>\n",
       "      <th>96</th>\n",
       "      <td>10.232273</td>\n",
       "      <td>4.318441</td>\n",
       "      <td>1.753664</td>\n",
       "      <td>59.474093</td>\n",
       "      <td>32.288977</td>\n",
       "      <td>9.047622</td>\n",
       "      <td>6.144896</td>\n",
       "      <td>3.786425</td>\n",
       "      <td>1.989384</td>\n",
       "      <td>9.158041</td>\n",
       "      <td>...</td>\n",
       "      <td>2.246905</td>\n",
       "      <td>1.619397</td>\n",
       "      <td>3.653340</td>\n",
       "      <td>3.006228</td>\n",
       "      <td>2.595168</td>\n",
       "      <td>4.019735</td>\n",
       "      <td>4.680239</td>\n",
       "      <td>3.207624</td>\n",
       "      <td>1.453367</td>\n",
       "      <td>5.280803</td>\n",
       "    </tr>\n",
       "    <tr>\n",
       "      <th>97</th>\n",
       "      <td>11.293200</td>\n",
       "      <td>3.306345</td>\n",
       "      <td>1.591532</td>\n",
       "      <td>25.013250</td>\n",
       "      <td>86.866796</td>\n",
       "      <td>20.897139</td>\n",
       "      <td>5.932174</td>\n",
       "      <td>2.561605</td>\n",
       "      <td>1.612476</td>\n",
       "      <td>9.942280</td>\n",
       "      <td>...</td>\n",
       "      <td>3.470185</td>\n",
       "      <td>2.344041</td>\n",
       "      <td>3.977985</td>\n",
       "      <td>5.444247</td>\n",
       "      <td>3.953678</td>\n",
       "      <td>1.393112</td>\n",
       "      <td>3.996203</td>\n",
       "      <td>1.777235</td>\n",
       "      <td>2.898270</td>\n",
       "      <td>13.128558</td>\n",
       "    </tr>\n",
       "    <tr>\n",
       "      <th>98</th>\n",
       "      <td>7.591676</td>\n",
       "      <td>3.406488</td>\n",
       "      <td>2.435394</td>\n",
       "      <td>27.763915</td>\n",
       "      <td>82.654551</td>\n",
       "      <td>16.814796</td>\n",
       "      <td>4.710073</td>\n",
       "      <td>2.612104</td>\n",
       "      <td>1.915322</td>\n",
       "      <td>18.361865</td>\n",
       "      <td>...</td>\n",
       "      <td>3.263780</td>\n",
       "      <td>2.799438</td>\n",
       "      <td>3.533895</td>\n",
       "      <td>5.098393</td>\n",
       "      <td>2.648312</td>\n",
       "      <td>2.561605</td>\n",
       "      <td>2.767663</td>\n",
       "      <td>1.937086</td>\n",
       "      <td>2.502052</td>\n",
       "      <td>10.621846</td>\n",
       "    </tr>\n",
       "    <tr>\n",
       "      <th>99</th>\n",
       "      <td>24.154941</td>\n",
       "      <td>10.889074</td>\n",
       "      <td>4.080324</td>\n",
       "      <td>469.626688</td>\n",
       "      <td>19.849327</td>\n",
       "      <td>0.600784</td>\n",
       "      <td>0.934875</td>\n",
       "      <td>1.975028</td>\n",
       "      <td>1.005905</td>\n",
       "      <td>32.288977</td>\n",
       "      <td>...</td>\n",
       "      <td>6.409272</td>\n",
       "      <td>4.393662</td>\n",
       "      <td>9.626008</td>\n",
       "      <td>0.668013</td>\n",
       "      <td>7.964181</td>\n",
       "      <td>1.287495</td>\n",
       "      <td>1.101948</td>\n",
       "      <td>2.101981</td>\n",
       "      <td>4.876630</td>\n",
       "      <td>25.013250</td>\n",
       "    </tr>\n",
       "  </tbody>\n",
       "</table>\n",
       "<p>98 rows × 435 columns</p>\n",
       "</div>"
      ],
      "text/plain": [
       "          0          1         2           3          4          5    \\\n",
       "0    2.586579   1.984970  1.001199   67.783431  45.543636  13.936930   \n",
       "1    5.713781   2.234160  1.340979   59.474093  43.752316  14.981506   \n",
       "2    3.136505   2.062447  1.578979   43.752316  86.866796  16.124637   \n",
       "3    4.530009   3.518069  1.330037   38.233211   9.846221   6.816893   \n",
       "4    4.936459   2.046543  1.279034   43.752316  67.783431  16.814796   \n",
       "..        ...        ...       ...         ...        ...        ...   \n",
       "95   7.515659   2.668237  1.873708   41.641526  78.550614  17.480883   \n",
       "96  10.232273   4.318441  1.753664   59.474093  32.288977   9.047622   \n",
       "97  11.293200   3.306345  1.591532   25.013250  86.866796  20.897139   \n",
       "98   7.591676   3.406488  2.435394   27.763915  82.654551  16.814796   \n",
       "99  24.154941  10.889074  4.080324  469.626688  19.849327   0.600784   \n",
       "\n",
       "         6         7         8          9    ...       425       426  \\\n",
       "0   2.922348  1.919755  1.648331   4.904752  ...  6.458223  3.600339   \n",
       "1   4.342706  1.698204  1.521796   3.279505  ...  5.098393  3.207624   \n",
       "2   3.583264  1.041020  1.297070   3.069981  ...  5.355190  3.634275   \n",
       "3   2.545676  1.542517  1.443457   5.988129  ...  1.735977  1.411522   \n",
       "4   2.992363  1.287495  1.365078   3.802587  ...  6.091902  3.436918   \n",
       "..       ...       ...       ...        ...  ...       ...       ...   \n",
       "95  3.387908  2.215011  1.401626   7.171026  ...  3.768511  2.460019   \n",
       "96  6.144896  3.786425  1.989384   9.158041  ...  2.246905  1.619397   \n",
       "97  5.932174  2.561605  1.612476   9.942280  ...  3.470185  2.344041   \n",
       "98  4.710073  2.612104  1.915322  18.361865  ...  3.263780  2.799438   \n",
       "99  0.934875  1.975028  1.005905  32.288977  ...  6.409272  4.393662   \n",
       "\n",
       "         427       428       429       430       431       432       433  \\\n",
       "0   5.324236  3.692770  5.988129  1.733289  1.698204  2.036009  3.083484   \n",
       "1   5.932174  2.756462  5.444247  1.470933  1.372984  0.993762  3.732401   \n",
       "2   4.530009  2.057463  5.394346  1.885339  2.234160  1.145478  3.501534   \n",
       "3   2.221556  2.992363  1.989384  2.687550  3.839025  1.793884  1.774053   \n",
       "4   5.211109  2.595168  6.929546  1.122668  1.167561  1.030004  2.832109   \n",
       "..       ...       ...       ...       ...       ...       ...       ...   \n",
       "95  4.127907  3.179283  2.747371  2.288662  2.887993  1.603383  2.877183   \n",
       "96  3.653340  3.006228  2.595168  4.019735  4.680239  3.207624  1.453367   \n",
       "97  3.977985  5.444247  3.953678  1.393112  3.996203  1.777235  2.898270   \n",
       "98  3.533895  5.098393  2.648312  2.561605  2.767663  1.937086  2.502052   \n",
       "99  9.626008  0.668013  7.964181  1.287495  1.101948  2.101981  4.876630   \n",
       "\n",
       "          434  \n",
       "0   19.849327  \n",
       "1   17.123588  \n",
       "2   15.748140  \n",
       "3    8.740521  \n",
       "4   31.096088  \n",
       "..        ...  \n",
       "95  14.728697  \n",
       "96   5.280803  \n",
       "97  13.128558  \n",
       "98  10.621846  \n",
       "99  25.013250  \n",
       "\n",
       "[98 rows x 435 columns]"
      ]
     },
     "execution_count": 70,
     "metadata": {},
     "output_type": "execute_result"
    }
   ],
   "source": [
    "t3"
   ]
  },
  {
   "cell_type": "code",
   "execution_count": 71,
   "metadata": {},
   "outputs": [],
   "source": [
    "X = np.array(sick).reshape(-1, 1)"
   ]
  },
  {
   "cell_type": "code",
   "execution_count": 72,
   "metadata": {},
   "outputs": [
    {
     "data": {
      "text/plain": [
       "LinearRegression()"
      ]
     },
     "execution_count": 72,
     "metadata": {},
     "output_type": "execute_result"
    }
   ],
   "source": [
    "linreg = LinearRegression()\n",
    "linreg.fit(X, t3)"
   ]
  },
  {
   "cell_type": "code",
   "execution_count": 73,
   "metadata": {},
   "outputs": [
    {
     "data": {
      "text/plain": [
       "0.02220645689725823"
      ]
     },
     "execution_count": 73,
     "metadata": {},
     "output_type": "execute_result"
    }
   ],
   "source": [
    "fitted = linreg.predict(X)\n",
    "explained_variance_score(t3, fitted)"
   ]
  },
  {
   "cell_type": "markdown",
   "metadata": {},
   "source": [
    "### Mean-variance-plot"
   ]
  },
  {
   "cell_type": "code",
   "execution_count": 74,
   "metadata": {},
   "outputs": [
    {
     "data": {
      "text/plain": [
       "0       6.788414\n",
       "1       2.916841\n",
       "2       2.239763\n",
       "3      39.092832\n",
       "4      80.149972\n",
       "         ...    \n",
       "430     2.167988\n",
       "431     2.664243\n",
       "432     1.778027\n",
       "433     2.857663\n",
       "434    16.853799\n",
       "Length: 435, dtype: float64"
      ]
     },
     "execution_count": 74,
     "metadata": {},
     "output_type": "execute_result"
    }
   ],
   "source": [
    "np.mean(table)"
   ]
  },
  {
   "cell_type": "code",
   "execution_count": 75,
   "metadata": {
    "tags": []
   },
   "outputs": [],
   "source": [
    "def get_means_and_variances(table):\n",
    "    return np.mean(table), np.var(table, ddof=1)"
   ]
  },
  {
   "cell_type": "code",
   "execution_count": 76,
   "metadata": {
    "tags": []
   },
   "outputs": [],
   "source": [
    "def mean_variance_plot(table):\n",
    "    means, variances = get_means_and_variances(table)\n",
    "    plt.scatter(means, variances)\n",
    "    plt.xlabel(\"mean\")\n",
    "    plt.ylabel(\"variance\")\n",
    "    plt.plot()"
   ]
  },
  {
   "cell_type": "code",
   "execution_count": 77,
   "metadata": {},
   "outputs": [
    {
     "data": {
      "image/png": "[encoded data removed]",
      "text/plain": [
       "<Figure size 432x288 with 1 Axes>"
      ]
     },
     "metadata": {
      "needs_background": "light"
     },
     "output_type": "display_data"
    }
   ],
   "source": [
    "mean_variance_plot(table)"
   ]
  },
  {
   "cell_type": "markdown",
   "metadata": {
    "tags": []
   },
   "source": [
    "### Log transformation"
   ]
  },
  {
   "cell_type": "code",
   "execution_count": 78,
   "metadata": {},
   "outputs": [],
   "source": [
    "log_table = np.log2(table)"
   ]
  },
  {
   "cell_type": "code",
   "execution_count": 79,
   "metadata": {},
   "outputs": [
    {
     "data": {
      "image/png": "[encoded data removed]",
      "text/plain": [
       "<Figure size 432x288 with 1 Axes>"
      ]
     },
     "metadata": {
      "needs_background": "light"
     },
     "output_type": "display_data"
    }
   ],
   "source": [
    "mean_variance_plot(log_table)"
   ]
  },
  {
   "cell_type": "markdown",
   "metadata": {},
   "source": [
    "### Remove mean"
   ]
  },
  {
   "cell_type": "code",
   "execution_count": 80,
   "metadata": {},
   "outputs": [],
   "source": [
    "norm_log_table = log_table - np.mean(log_table)\n",
    "norm_log_table /= np.sqrt(np.mean(np.var(norm_log_table, ddof=1)))"
   ]
  },
  {
   "cell_type": "code",
   "execution_count": 81,
   "metadata": {},
   "outputs": [
    {
     "data": {
      "image/png": "[encoded data removed]",
      "text/plain": [
       "<Figure size 432x288 with 1 Axes>"
      ]
     },
     "metadata": {
      "needs_background": "light"
     },
     "output_type": "display_data"
    }
   ],
   "source": [
    "mean_variance_plot(norm_log_table)"
   ]
  },
  {
   "cell_type": "markdown",
   "metadata": {},
   "source": [
    "### PCA"
   ]
  },
  {
   "cell_type": "code",
   "execution_count": 82,
   "metadata": {
    "tags": []
   },
   "outputs": [],
   "source": [
    "pca = decomposition.PCA(n_components=10)"
   ]
  },
  {
   "cell_type": "code",
   "execution_count": 83,
   "metadata": {},
   "outputs": [
    {
     "data": {
      "text/plain": [
       "PCA(n_components=10)"
      ]
     },
     "execution_count": 83,
     "metadata": {},
     "output_type": "execute_result"
    }
   ],
   "source": [
    "pca.fit(norm_log_table)"
   ]
  },
  {
   "cell_type": "code",
   "execution_count": 84,
   "metadata": {},
   "outputs": [
    {
     "data": {
      "text/plain": [
       "array([0.44694081, 0.1383351 , 0.10097953, 0.05028025, 0.03447708,\n",
       "       0.02723753, 0.02144941, 0.01849242, 0.01345425, 0.0109849 ])"
      ]
     },
     "execution_count": 84,
     "metadata": {},
     "output_type": "execute_result"
    }
   ],
   "source": [
    "pca.explained_variance_ratio_"
   ]
  },
  {
   "cell_type": "code",
   "execution_count": 85,
   "metadata": {
    "tags": []
   },
   "outputs": [],
   "source": [
    "components = pca.transform(norm_log_table)"
   ]
  },
  {
   "cell_type": "code",
   "execution_count": 86,
   "metadata": {},
   "outputs": [
    {
     "data": {
      "text/plain": [
       "(98, 10)"
      ]
     },
     "execution_count": 86,
     "metadata": {},
     "output_type": "execute_result"
    }
   ],
   "source": [
    "components.shape"
   ]
  },
  {
   "cell_type": "code",
   "execution_count": 87,
   "metadata": {},
   "outputs": [
    {
     "data": {
      "text/plain": [
       "88"
      ]
     },
     "execution_count": 87,
     "metadata": {},
     "output_type": "execute_result"
    }
   ],
   "source": [
    "sum(controls)"
   ]
  },
  {
   "cell_type": "code",
   "execution_count": 88,
   "metadata": {},
   "outputs": [
    {
     "data": {
      "image/png": "[encoded data removed]",
      "text/plain": [
       "<Figure size 576x576 with 1 Axes>"
      ]
     },
     "metadata": {
      "needs_background": "light"
     },
     "output_type": "display_data"
    }
   ],
   "source": [
    "fig = plt.figure(figsize = (8,8))\n",
    "ax = fig.add_subplot(1,1,1)\n",
    "\n",
    "ax.set_xlabel('Principal Component 1', fontsize = 15)\n",
    "ax.set_ylabel('Principal Component 2', fontsize = 15)\n",
    "ax.set_title('2 component PCA', fontsize = 20)\n",
    "targets = ['Cancer', 'Healthy']\n",
    "colors = ['r', 'g']\n",
    "ax.scatter(components[controls == False, 0], components[controls == False, 1], c = 'r', s = 10)\n",
    "ax.scatter(components[controls == True, 0], components[controls == True, 1], c = 'g', s = 10)\n",
    "ax.legend(targets)\n",
    "ax.grid()"
   ]
  },
  {
   "cell_type": "code",
   "execution_count": 89,
   "metadata": {
    "tags": []
   },
   "outputs": [],
   "source": [
    "components2 = components[components[:,0] < 20, :]\n",
    "controls2 = controls[components[:,0] < 20]"
   ]
  },
  {
   "cell_type": "code",
   "execution_count": 90,
   "metadata": {},
   "outputs": [
    {
     "data": {
      "image/png": "[encoded data removed]",
      "text/plain": [
       "<Figure size 576x576 with 1 Axes>"
      ]
     },
     "metadata": {
      "needs_background": "light"
     },
     "output_type": "display_data"
    }
   ],
   "source": [
    "fig = plt.figure(figsize = (8,8))\n",
    "ax = fig.add_subplot(1,1,1)\n",
    "\n",
    "ax.set_xlabel('Principal Component 1', fontsize = 15)\n",
    "ax.set_ylabel('Principal Component 2', fontsize = 15)\n",
    "ax.set_title('2 component PCA', fontsize = 20)\n",
    "targets = ['Cancer', 'Healthy']\n",
    "colors = ['r', 'g']\n",
    "ax.scatter(components2[controls2 == False, 0], components2[controls2 == False, 1], c = 'r', s = 10)\n",
    "ax.scatter(components2[controls2 == True, 0], components2[controls2 == True, 1], c = 'g', s = 10)\n",
    "ax.legend(targets)\n",
    "ax.grid()"
   ]
  },
  {
   "cell_type": "markdown",
   "metadata": {},
   "source": [
    "### Logistic Regression"
   ]
  },
  {
   "cell_type": "code",
   "execution_count": 91,
   "metadata": {},
   "outputs": [],
   "source": [
    "X_train, X_test, y_train, y_test = train_test_split(norm_log_table, controls, test_size=0.33, random_state=42)"
   ]
  },
  {
   "cell_type": "code",
   "execution_count": 92,
   "metadata": {},
   "outputs": [
    {
     "data": {
      "text/plain": [
       "LogisticRegression()"
      ]
     },
     "execution_count": 92,
     "metadata": {},
     "output_type": "execute_result"
    }
   ],
   "source": [
    "model = LogisticRegression()\n",
    "model.fit(X_train, y_train)"
   ]
  },
  {
   "cell_type": "code",
   "execution_count": 93,
   "metadata": {},
   "outputs": [
    {
     "data": {
      "text/plain": [
       "<sklearn.metrics._plot.roc_curve.RocCurveDisplay at 0x22d2a16dbb0>"
      ]
     },
     "execution_count": 93,
     "metadata": {},
     "output_type": "execute_result"
    },
    {
     "data": {
      "image/png": "[encoded data removed]",
      "text/plain": [
       "<Figure size 432x288 with 1 Axes>"
      ]
     },
     "metadata": {
      "needs_background": "light"
     },
     "output_type": "display_data"
    }
   ],
   "source": [
    "plot_roc_curve(model, X_test, y_test)"
   ]
  },
  {
   "cell_type": "markdown",
   "metadata": {
    "jupyter": {
     "outputs_hidden": true
    }
   },
   "source": [
    "### XGBoost"
   ]
  },
  {
   "cell_type": "code",
   "execution_count": 94,
   "metadata": {},
   "outputs": [
    {
     "name": "stdout",
     "output_type": "stream",
     "text": [
      "[15:48:12] WARNING: C:/Users/Administrator/workspace/xgboost-win64_release_1.4.0/src/learner.cc:1095: Starting in XGBoost 1.3.0, the default evaluation metric used with the objective 'binary:logistic' was changed from 'error' to 'logloss'. Explicitly set eval_metric if you'd like to restore the old behavior.\n"
     ]
    },
    {
     "data": {
      "text/plain": [
       "XGBClassifier(base_score=0.5, booster='gbtree', colsample_bylevel=1,\n",
       "              colsample_bynode=1, colsample_bytree=1, gamma=0, gpu_id=-1,\n",
       "              importance_type='gain', interaction_constraints='',\n",
       "              learning_rate=0.300000012, max_delta_step=0, max_depth=6,\n",
       "              min_child_weight=1, missing=nan, monotone_constraints='()',\n",
       "              n_estimators=100, n_jobs=4, num_parallel_tree=1, random_state=0,\n",
       "              reg_alpha=0, reg_lambda=1, scale_pos_weight=1, subsample=1,\n",
       "              tree_method='exact', use_label_encoder=False,\n",
       "              validate_parameters=1, verbosity=None)"
      ]
     },
     "execution_count": 94,
     "metadata": {},
     "output_type": "execute_result"
    }
   ],
   "source": [
    "model = XGBClassifier(use_label_encoder=False)\n",
    "model.fit(X_train, y_train)"
   ]
  },
  {
   "cell_type": "code",
   "execution_count": 95,
   "metadata": {},
   "outputs": [
    {
     "data": {
      "text/plain": [
       "<sklearn.metrics._plot.roc_curve.RocCurveDisplay at 0x22d2aedf7c0>"
      ]
     },
     "execution_count": 95,
     "metadata": {},
     "output_type": "execute_result"
    },
    {
     "data": {
      "image/png": "[encoded data removed]",
      "text/plain": [
       "<Figure size 432x288 with 1 Axes>"
      ]
     },
     "metadata": {
      "needs_background": "light"
     },
     "output_type": "display_data"
    }
   ],
   "source": [
    "plot_roc_curve(model, X_test, y_test)"
   ]
  },
  {
   "cell_type": "markdown",
   "metadata": {},
   "source": [
    "### Export data"
   ]
  },
  {
   "cell_type": "code",
   "execution_count": 96,
   "metadata": {},
   "outputs": [
    {
     "data": {
      "text/plain": [
       "0    hsa-miR-6879-5p\n",
       "1    hsa-miR-1914-3p\n",
       "2    hsa-miR-6873-3p\n",
       "3    hsa-miR-6749-5p\n",
       "4     hsa-miR-33b-3p\n",
       "5    hsa-miR-6722-3p\n",
       "6       hsa-miR-4497\n",
       "7       hsa-miR-4496\n",
       "8    hsa-miR-514b-5p\n",
       "9       hsa-miR-4499\n",
       "Name: (Disease, Case/Control, TimePoint), dtype: object"
      ]
     },
     "execution_count": 96,
     "metadata": {},
     "output_type": "execute_result"
    }
   ],
   "source": [
    "mirnas[:10]"
   ]
  },
  {
   "cell_type": "code",
   "execution_count": 97,
   "metadata": {},
   "outputs": [],
   "source": [
    "from Scripts import converters"
   ]
  },
  {
   "cell_type": "code",
   "execution_count": 98,
   "metadata": {},
   "outputs": [],
   "source": [
    "sequences = converters.canonical_to_seq(mirnas)"
   ]
  },
  {
   "cell_type": "code",
   "execution_count": 99,
   "metadata": {},
   "outputs": [
    {
     "data": {
      "text/html": [
       "<div>\n",
       "<style scoped>\n",
       "    .dataframe tbody tr th:only-of-type {\n",
       "        vertical-align: middle;\n",
       "    }\n",
       "\n",
       "    .dataframe tbody tr th {\n",
       "        vertical-align: top;\n",
       "    }\n",
       "\n",
       "    .dataframe thead th {\n",
       "        text-align: right;\n",
       "    }\n",
       "</style>\n",
       "<table border=\"1\" class=\"dataframe\">\n",
       "  <thead>\n",
       "    <tr style=\"text-align: right;\">\n",
       "      <th></th>\n",
       "      <th>CAGGGCAGGGAAGGUGGGAGAG</th>\n",
       "      <th>GGAGGGGUCCCGCACUGGGAGG</th>\n",
       "      <th>UUCUCUCUGUCUUUCUCUCUCAG</th>\n",
       "      <th>UCGGGCCUGGGGUUGGGGGAGC</th>\n",
       "      <th>CAGUGCCUCGGCAGUGCAGCCC</th>\n",
       "      <th>UGCAGGGGUCGGGUGGGCCAGG</th>\n",
       "      <th>CUCCGGGACGGCUGGGC</th>\n",
       "      <th>GAGGAAACUGAAGCUGAGAGGG</th>\n",
       "      <th>UUCUCAAGAGGGAGGCAAUCAU</th>\n",
       "      <th>AAGACUGAGAGGAGGGA</th>\n",
       "      <th>...</th>\n",
       "      <th>AAGCCCUUACCCCAAAAAGCAU</th>\n",
       "      <th>UGAUUGUCUUCCCCCACCCUCA</th>\n",
       "      <th>GGCUACAACACAGGACCCGGGC</th>\n",
       "      <th>ACACUGUCCCCUUCUCCCCAG</th>\n",
       "      <th>UGUGUGGAUCCUGGAGGAGGCA</th>\n",
       "      <th>UGUGGGUUCUGGGUUGGGGUGA</th>\n",
       "      <th>AAAGACCCAUUGAGGAGAAGGU</th>\n",
       "      <th>CAGCCUCUGCCCUUGGCCUCC</th>\n",
       "      <th>UCGCCUCCUCCUCUCCC</th>\n",
       "      <th>cancer</th>\n",
       "    </tr>\n",
       "  </thead>\n",
       "  <tbody>\n",
       "    <tr>\n",
       "      <th>0</th>\n",
       "      <td>-1.752429</td>\n",
       "      <td>-0.662890</td>\n",
       "      <td>-1.500480</td>\n",
       "      <td>1.556918</td>\n",
       "      <td>-0.926410</td>\n",
       "      <td>-0.119258</td>\n",
       "      <td>-0.468877</td>\n",
       "      <td>0.228015</td>\n",
       "      <td>0.141744</td>\n",
       "      <td>-1.046940</td>\n",
       "      <td>...</td>\n",
       "      <td>0.584215</td>\n",
       "      <td>0.618859</td>\n",
       "      <td>0.263377</td>\n",
       "      <td>0.839192</td>\n",
       "      <td>-0.246544</td>\n",
       "      <td>-0.750701</td>\n",
       "      <td>0.510153</td>\n",
       "      <td>0.261578</td>\n",
       "      <td>0.660547</td>\n",
       "      <td>1</td>\n",
       "    </tr>\n",
       "    <tr>\n",
       "      <th>1</th>\n",
       "      <td>-0.130986</td>\n",
       "      <td>-0.420943</td>\n",
       "      <td>-0.902675</td>\n",
       "      <td>1.289365</td>\n",
       "      <td>-1.008503</td>\n",
       "      <td>0.028605</td>\n",
       "      <td>0.341512</td>\n",
       "      <td>-0.022862</td>\n",
       "      <td>-0.021665</td>\n",
       "      <td>-1.870426</td>\n",
       "      <td>...</td>\n",
       "      <td>0.347923</td>\n",
       "      <td>0.840062</td>\n",
       "      <td>-0.334894</td>\n",
       "      <td>0.644385</td>\n",
       "      <td>-0.582321</td>\n",
       "      <td>-1.185622</td>\n",
       "      <td>-0.957245</td>\n",
       "      <td>0.652322</td>\n",
       "      <td>0.358345</td>\n",
       "      <td>1</td>\n",
       "    </tr>\n",
       "    <tr>\n",
       "      <th>2</th>\n",
       "      <td>-1.358040</td>\n",
       "      <td>-0.584555</td>\n",
       "      <td>-0.568424</td>\n",
       "      <td>0.661291</td>\n",
       "      <td>0.394617</td>\n",
       "      <td>0.179042</td>\n",
       "      <td>-0.051751</td>\n",
       "      <td>-1.024050</td>\n",
       "      <td>-0.348560</td>\n",
       "      <td>-2.005497</td>\n",
       "      <td>...</td>\n",
       "      <td>0.603409</td>\n",
       "      <td>0.288359</td>\n",
       "      <td>-0.933258</td>\n",
       "      <td>0.625546</td>\n",
       "      <td>-0.074514</td>\n",
       "      <td>-0.189532</td>\n",
       "      <td>-0.666569</td>\n",
       "      <td>0.521692</td>\n",
       "      <td>0.187035</td>\n",
       "      <td>1</td>\n",
       "    </tr>\n",
       "    <tr>\n",
       "      <th>3</th>\n",
       "      <td>-0.605949</td>\n",
       "      <td>0.507977</td>\n",
       "      <td>-0.919436</td>\n",
       "      <td>0.385427</td>\n",
       "      <td>-4.059828</td>\n",
       "      <td>-1.582337</td>\n",
       "      <td>-0.751189</td>\n",
       "      <td>-0.219585</td>\n",
       "      <td>-0.129789</td>\n",
       "      <td>-0.638637</td>\n",
       "      <td>...</td>\n",
       "      <td>-1.331452</td>\n",
       "      <td>-1.169355</td>\n",
       "      <td>-0.166897</td>\n",
       "      <td>-1.415261</td>\n",
       "      <td>0.650793</td>\n",
       "      <td>0.918005</td>\n",
       "      <td>0.251128</td>\n",
       "      <td>-0.869364</td>\n",
       "      <td>-1.017475</td>\n",
       "      <td>1</td>\n",
       "    </tr>\n",
       "    <tr>\n",
       "      <th>4</th>\n",
       "      <td>-0.430159</td>\n",
       "      <td>-0.600392</td>\n",
       "      <td>-0.999433</td>\n",
       "      <td>0.661291</td>\n",
       "      <td>-0.112877</td>\n",
       "      <td>0.264786</td>\n",
       "      <td>-0.420439</td>\n",
       "      <td>-0.589308</td>\n",
       "      <td>-0.244009</td>\n",
       "      <td>-1.567660</td>\n",
       "      <td>...</td>\n",
       "      <td>0.489179</td>\n",
       "      <td>0.574921</td>\n",
       "      <td>-0.458253</td>\n",
       "      <td>1.137920</td>\n",
       "      <td>-1.135092</td>\n",
       "      <td>-1.517195</td>\n",
       "      <td>-0.883961</td>\n",
       "      <td>0.087601</td>\n",
       "      <td>1.578961</td>\n",
       "      <td>1</td>\n",
       "    </tr>\n",
       "  </tbody>\n",
       "</table>\n",
       "<p>5 rows × 436 columns</p>\n",
       "</div>"
      ],
      "text/plain": [
       "   CAGGGCAGGGAAGGUGGGAGAG  GGAGGGGUCCCGCACUGGGAGG  UUCUCUCUGUCUUUCUCUCUCAG  \\\n",
       "0               -1.752429               -0.662890                -1.500480   \n",
       "1               -0.130986               -0.420943                -0.902675   \n",
       "2               -1.358040               -0.584555                -0.568424   \n",
       "3               -0.605949                0.507977                -0.919436   \n",
       "4               -0.430159               -0.600392                -0.999433   \n",
       "\n",
       "   UCGGGCCUGGGGUUGGGGGAGC  CAGUGCCUCGGCAGUGCAGCCC  UGCAGGGGUCGGGUGGGCCAGG  \\\n",
       "0                1.556918               -0.926410               -0.119258   \n",
       "1                1.289365               -1.008503                0.028605   \n",
       "2                0.661291                0.394617                0.179042   \n",
       "3                0.385427               -4.059828               -1.582337   \n",
       "4                0.661291               -0.112877                0.264786   \n",
       "\n",
       "   CUCCGGGACGGCUGGGC  GAGGAAACUGAAGCUGAGAGGG  UUCUCAAGAGGGAGGCAAUCAU  \\\n",
       "0          -0.468877                0.228015                0.141744   \n",
       "1           0.341512               -0.022862               -0.021665   \n",
       "2          -0.051751               -1.024050               -0.348560   \n",
       "3          -0.751189               -0.219585               -0.129789   \n",
       "4          -0.420439               -0.589308               -0.244009   \n",
       "\n",
       "   AAGACUGAGAGGAGGGA  ...  AAGCCCUUACCCCAAAAAGCAU  UGAUUGUCUUCCCCCACCCUCA  \\\n",
       "0          -1.046940  ...                0.584215                0.618859   \n",
       "1          -1.870426  ...                0.347923                0.840062   \n",
       "2          -2.005497  ...                0.603409                0.288359   \n",
       "3          -0.638637  ...               -1.331452               -1.169355   \n",
       "4          -1.567660  ...                0.489179                0.574921   \n",
       "\n",
       "   GGCUACAACACAGGACCCGGGC  ACACUGUCCCCUUCUCCCCAG  UGUGUGGAUCCUGGAGGAGGCA  \\\n",
       "0                0.263377               0.839192               -0.246544   \n",
       "1               -0.334894               0.644385               -0.582321   \n",
       "2               -0.933258               0.625546               -0.074514   \n",
       "3               -0.166897              -1.415261                0.650793   \n",
       "4               -0.458253               1.137920               -1.135092   \n",
       "\n",
       "   UGUGGGUUCUGGGUUGGGGUGA  AAAGACCCAUUGAGGAGAAGGU  CAGCCUCUGCCCUUGGCCUCC  \\\n",
       "0               -0.750701                0.510153               0.261578   \n",
       "1               -1.185622               -0.957245               0.652322   \n",
       "2               -0.189532               -0.666569               0.521692   \n",
       "3                0.918005                0.251128              -0.869364   \n",
       "4               -1.517195               -0.883961               0.087601   \n",
       "\n",
       "   UCGCCUCCUCCUCUCCC  cancer  \n",
       "0           0.660547       1  \n",
       "1           0.358345       1  \n",
       "2           0.187035       1  \n",
       "3          -1.017475       1  \n",
       "4           1.578961       1  \n",
       "\n",
       "[5 rows x 436 columns]"
      ]
     },
     "execution_count": 99,
     "metadata": {},
     "output_type": "execute_result"
    }
   ],
   "source": [
    "norm_log_table.columns = sequences\n",
    "norm_log_table[\"cancer\"] = sick\n",
    "norm_log_table.head()"
   ]
  },
  {
   "cell_type": "code",
   "execution_count": 100,
   "metadata": {},
   "outputs": [],
   "source": [
    "norm_log_table.to_csv(\"../TransformedData/Keller2020.csv\", index=False)"
   ]
  },
  {
   "cell_type": "code",
   "execution_count": null,
   "metadata": {},
   "outputs": [],
   "source": []
  }
 ],
 "metadata": {
  "kernelspec": {
   "display_name": "Python 3 (ipykernel)",
   "language": "python",
   "name": "python3"
  },
  "language_info": {
   "codemirror_mode": {
    "name": "ipython",
    "version": 3
   },
   "file_extension": ".py",
   "mimetype": "text/x-python",
   "name": "python",
   "nbconvert_exporter": "python",
   "pygments_lexer": "ipython3",
   "version": "3.9.7"
  }
 },
 "nbformat": 4,
 "nbformat_minor": 4
}
