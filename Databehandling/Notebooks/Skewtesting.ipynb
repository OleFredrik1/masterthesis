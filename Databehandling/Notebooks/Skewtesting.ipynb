{
 "cells": [
  {
   "cell_type": "code",
   "execution_count": null,
   "id": "38054b79-eead-4d74-a8ae-a2df031ce397",
   "metadata": {},
   "outputs": [],
   "source": []
  },
  {
   "cell_type": "code",
   "execution_count": 36,
   "id": "c03a0b6e-266a-4883-8fc4-02035a6c9119",
   "metadata": {},
   "outputs": [],
   "source": [
    "lambdas = np.array([boxcox(table.iloc[:, i])[1] for i in range(table.shape[1])])"
   ]
  },
  {
   "cell_type": "code",
   "execution_count": 37,
   "id": "8d6e3677-93cf-4d21-9cd4-2dad82814bf8",
   "metadata": {},
   "outputs": [
    {
     "data": {
      "text/plain": [
       "-0.8861289741805367"
      ]
     },
     "execution_count": 37,
     "metadata": {},
     "output_type": "execute_result"
    }
   ],
   "source": [
    "np.mean(lambdas)"
   ]
  },
  {
   "cell_type": "code",
   "execution_count": 38,
   "id": "1af08c30-5004-4c62-a26b-db410cd0e6c9",
   "metadata": {},
   "outputs": [
    {
     "data": {
      "text/plain": [
       "[]"
      ]
     },
     "execution_count": 38,
     "metadata": {},
     "output_type": "execute_result"
    },
    {
     "data": {
      "image/png": "[encoded data removed]",
      "text/plain": [
       "<Figure size 432x288 with 1 Axes>"
      ]
     },
     "metadata": {
      "needs_background": "light"
     },
     "output_type": "display_data"
    }
   ],
   "source": [
    "plt.hist(table.iloc[:, 2], bins=100, range=(0,100))\n",
    "plt.plot()"
   ]
  },
  {
   "cell_type": "code",
   "execution_count": 39,
   "id": "e7ee112c-04b6-4d51-87a7-cc986e60de44",
   "metadata": {},
   "outputs": [
    {
     "data": {
      "text/plain": [
       "[]"
      ]
     },
     "execution_count": 39,
     "metadata": {},
     "output_type": "execute_result"
    },
    {
     "data": {
      "image/png": "[encoded data removed]",
      "text/plain": [
       "<Figure size 432x288 with 1 Axes>"
      ]
     },
     "metadata": {
      "needs_background": "light"
     },
     "output_type": "display_data"
    }
   ],
   "source": [
    "plt.hist(np.log2(np.log2(log_table)).iloc[:, 3], bins=100)\n",
    "plt.plot()"
   ]
  },
  {
   "cell_type": "code",
   "execution_count": 40,
   "id": "efc8c15f-8831-45f8-aaf6-c0e2c17a2d74",
   "metadata": {},
   "outputs": [
    {
     "name": "stdout",
     "output_type": "stream",
     "text": [
      "6.488721914845272e-06 0.0187020382542901 0.027804925958791225 0.022705972828462772\n"
     ]
    }
   ],
   "source": [
    "test1 = skewtest(table)\n",
    "test2 = skewtest(log_table)\n",
    "test3 = skewtest(np.log2(log_table))\n",
    "test4 = skewtest(np.log2(np.log2(log_table)))\n",
    "print(np.mean(test1.pvalue), np.mean(test2.pvalue), np.mean(test3.pvalue), np.mean(test4.pvalue))"
   ]
  }
 ],
 "metadata": {
  "kernelspec": {
   "display_name": "Python 3 (ipykernel)",
   "language": "python",
   "name": "python3"
  },
  "language_info": {
   "codemirror_mode": {
    "name": "ipython",
    "version": 3
   },
   "file_extension": ".py",
   "mimetype": "text/x-python",
   "name": "python",
   "nbconvert_exporter": "python",
   "pygments_lexer": "ipython3",
   "version": "3.9.7"
  }
 },
 "nbformat": 4,
 "nbformat_minor": 5
}
