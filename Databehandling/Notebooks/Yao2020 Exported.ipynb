{
 "cells": [
  {
   "cell_type": "code",
   "execution_count": 40,
   "metadata": {
    "tags": []
   },
   "outputs": [],
   "source": [
    "%matplotlib inline\n",
    "import GEOparse\n",
    "import matplotlib.pyplot as plt\n",
    "import pandas as pd\n",
    "import numpy as np\n",
    "from sklearn import decomposition\n",
    "from sklearn.feature_selection import f_classif\n",
    "from sklearn.linear_model import LinearRegression, LogisticRegression\n",
    "from sklearn.metrics import explained_variance_score, plot_roc_curve\n",
    "import statsmodels.api as sm\n",
    "from scipy.stats import ttest_ind\n",
    "from xgboost import XGBClassifier\n",
    "from sklearn.model_selection import train_test_split\n",
    "import matplotlib\n",
    "from xgboost import XGBClassifier\n",
    "from sklearn.model_selection import train_test_split\n",
    "\n",
    "geo = \"GSE111803\""
   ]
  },
  {
   "cell_type": "code",
   "execution_count": 41,
   "metadata": {},
   "outputs": [],
   "source": [
    "data = pd.read_csv(\"../Dataset/Yao2020/data.txt\", sep=\"\\t\")"
   ]
  },
  {
   "cell_type": "code",
   "execution_count": 42,
   "metadata": {},
   "outputs": [
    {
     "data": {
      "text/plain": [
       "Index(['miRNA_ID', 'LC11.readcount', 'LC3.readcount', 'LC4.readcount',\n",
       "       'LC5.readcount', 'LC6.readcount', 'NC1.readcount', 'NC2.readcount',\n",
       "       'NC3.readcount', 'NC4.readcount', 'NC5.readcount', 'LC11.tpm',\n",
       "       'LC3.tpm', 'LC4.tpm', 'LC5.tpm', 'LC6.tpm', 'NC1.tpm', 'NC2.tpm',\n",
       "       'NC3.tpm', 'NC4.tpm', 'NC5.tpm'],\n",
       "      dtype='object')"
      ]
     },
     "execution_count": 42,
     "metadata": {},
     "output_type": "execute_result"
    }
   ],
   "source": [
    "data.columns"
   ]
  },
  {
   "cell_type": "code",
   "execution_count": 43,
   "metadata": {},
   "outputs": [
    {
     "data": {
      "text/html": [
       "<div>\n",
       "<style scoped>\n",
       "    .dataframe tbody tr th:only-of-type {\n",
       "        vertical-align: middle;\n",
       "    }\n",
       "\n",
       "    .dataframe tbody tr th {\n",
       "        vertical-align: top;\n",
       "    }\n",
       "\n",
       "    .dataframe thead th {\n",
       "        text-align: right;\n",
       "    }\n",
       "</style>\n",
       "<table border=\"1\" class=\"dataframe\">\n",
       "  <thead>\n",
       "    <tr style=\"text-align: right;\">\n",
       "      <th></th>\n",
       "      <th>0</th>\n",
       "      <th>1</th>\n",
       "      <th>2</th>\n",
       "      <th>3</th>\n",
       "      <th>4</th>\n",
       "      <th>5</th>\n",
       "      <th>6</th>\n",
       "      <th>7</th>\n",
       "      <th>8</th>\n",
       "      <th>9</th>\n",
       "      <th>...</th>\n",
       "      <th>1244</th>\n",
       "      <th>1245</th>\n",
       "      <th>1246</th>\n",
       "      <th>1247</th>\n",
       "      <th>1248</th>\n",
       "      <th>1249</th>\n",
       "      <th>1250</th>\n",
       "      <th>1251</th>\n",
       "      <th>1252</th>\n",
       "      <th>1253</th>\n",
       "    </tr>\n",
       "  </thead>\n",
       "  <tbody>\n",
       "    <tr>\n",
       "      <th>LC11.tpm</th>\n",
       "      <td>84.810449</td>\n",
       "      <td>35945.49515</td>\n",
       "      <td>2.019296</td>\n",
       "      <td>6601.079920</td>\n",
       "      <td>0.000000</td>\n",
       "      <td>1524.568779</td>\n",
       "      <td>438.187318</td>\n",
       "      <td>6187.124158</td>\n",
       "      <td>2.019296</td>\n",
       "      <td>448.283800</td>\n",
       "      <td>...</td>\n",
       "      <td>0.000000</td>\n",
       "      <td>0.000000</td>\n",
       "      <td>0.000000</td>\n",
       "      <td>0.000000</td>\n",
       "      <td>0.000000</td>\n",
       "      <td>0.000000</td>\n",
       "      <td>0.000000</td>\n",
       "      <td>2.019296</td>\n",
       "      <td>0.000000</td>\n",
       "      <td>0.000000</td>\n",
       "    </tr>\n",
       "    <tr>\n",
       "      <th>LC3.tpm</th>\n",
       "      <td>81.564623</td>\n",
       "      <td>24061.56385</td>\n",
       "      <td>8.718977</td>\n",
       "      <td>4780.811951</td>\n",
       "      <td>0.000000</td>\n",
       "      <td>1379.004647</td>\n",
       "      <td>408.385631</td>\n",
       "      <td>5804.307343</td>\n",
       "      <td>0.843772</td>\n",
       "      <td>542.545373</td>\n",
       "      <td>...</td>\n",
       "      <td>0.281257</td>\n",
       "      <td>0.562515</td>\n",
       "      <td>1.687544</td>\n",
       "      <td>0.562515</td>\n",
       "      <td>0.281257</td>\n",
       "      <td>0.281257</td>\n",
       "      <td>0.281257</td>\n",
       "      <td>0.281257</td>\n",
       "      <td>0.000000</td>\n",
       "      <td>0.000000</td>\n",
       "    </tr>\n",
       "    <tr>\n",
       "      <th>LC4.tpm</th>\n",
       "      <td>116.614493</td>\n",
       "      <td>34847.67075</td>\n",
       "      <td>8.150475</td>\n",
       "      <td>5837.621215</td>\n",
       "      <td>0.626960</td>\n",
       "      <td>1502.822259</td>\n",
       "      <td>378.683623</td>\n",
       "      <td>8105.961195</td>\n",
       "      <td>0.626960</td>\n",
       "      <td>750.470690</td>\n",
       "      <td>...</td>\n",
       "      <td>0.000000</td>\n",
       "      <td>0.000000</td>\n",
       "      <td>0.000000</td>\n",
       "      <td>0.000000</td>\n",
       "      <td>0.000000</td>\n",
       "      <td>0.000000</td>\n",
       "      <td>0.000000</td>\n",
       "      <td>0.000000</td>\n",
       "      <td>0.000000</td>\n",
       "      <td>0.000000</td>\n",
       "    </tr>\n",
       "    <tr>\n",
       "      <th>LC5.tpm</th>\n",
       "      <td>91.876345</td>\n",
       "      <td>28593.96015</td>\n",
       "      <td>15.312724</td>\n",
       "      <td>10165.096690</td>\n",
       "      <td>0.000000</td>\n",
       "      <td>1686.951773</td>\n",
       "      <td>579.331395</td>\n",
       "      <td>5576.383696</td>\n",
       "      <td>0.000000</td>\n",
       "      <td>201.617534</td>\n",
       "      <td>...</td>\n",
       "      <td>2.552121</td>\n",
       "      <td>2.552121</td>\n",
       "      <td>0.000000</td>\n",
       "      <td>0.000000</td>\n",
       "      <td>0.000000</td>\n",
       "      <td>0.000000</td>\n",
       "      <td>0.000000</td>\n",
       "      <td>0.000000</td>\n",
       "      <td>0.000000</td>\n",
       "      <td>0.000000</td>\n",
       "    </tr>\n",
       "    <tr>\n",
       "      <th>LC6.tpm</th>\n",
       "      <td>81.566355</td>\n",
       "      <td>33601.82989</td>\n",
       "      <td>21.049382</td>\n",
       "      <td>11863.080790</td>\n",
       "      <td>0.000000</td>\n",
       "      <td>1524.326069</td>\n",
       "      <td>504.308107</td>\n",
       "      <td>6267.453446</td>\n",
       "      <td>3.508230</td>\n",
       "      <td>366.610067</td>\n",
       "      <td>...</td>\n",
       "      <td>0.000000</td>\n",
       "      <td>0.000000</td>\n",
       "      <td>2.631173</td>\n",
       "      <td>0.000000</td>\n",
       "      <td>0.000000</td>\n",
       "      <td>0.000000</td>\n",
       "      <td>0.000000</td>\n",
       "      <td>0.000000</td>\n",
       "      <td>0.000000</td>\n",
       "      <td>0.000000</td>\n",
       "    </tr>\n",
       "    <tr>\n",
       "      <th>NC1.tpm</th>\n",
       "      <td>57.658187</td>\n",
       "      <td>27294.59926</td>\n",
       "      <td>6.552067</td>\n",
       "      <td>4589.067484</td>\n",
       "      <td>0.000000</td>\n",
       "      <td>794.110478</td>\n",
       "      <td>517.613266</td>\n",
       "      <td>5409.386229</td>\n",
       "      <td>5.241653</td>\n",
       "      <td>681.414932</td>\n",
       "      <td>...</td>\n",
       "      <td>1.310413</td>\n",
       "      <td>0.000000</td>\n",
       "      <td>0.000000</td>\n",
       "      <td>0.000000</td>\n",
       "      <td>1.310413</td>\n",
       "      <td>0.000000</td>\n",
       "      <td>0.000000</td>\n",
       "      <td>0.000000</td>\n",
       "      <td>0.000000</td>\n",
       "      <td>1.310413</td>\n",
       "    </tr>\n",
       "    <tr>\n",
       "      <th>NC2.tpm</th>\n",
       "      <td>60.758241</td>\n",
       "      <td>23345.52549</td>\n",
       "      <td>5.523476</td>\n",
       "      <td>4267.437891</td>\n",
       "      <td>0.000000</td>\n",
       "      <td>1277.027751</td>\n",
       "      <td>407.632561</td>\n",
       "      <td>4757.922598</td>\n",
       "      <td>0.000000</td>\n",
       "      <td>269.545650</td>\n",
       "      <td>...</td>\n",
       "      <td>0.000000</td>\n",
       "      <td>0.000000</td>\n",
       "      <td>0.000000</td>\n",
       "      <td>0.000000</td>\n",
       "      <td>2.209391</td>\n",
       "      <td>4.418781</td>\n",
       "      <td>0.000000</td>\n",
       "      <td>0.000000</td>\n",
       "      <td>0.000000</td>\n",
       "      <td>1.104695</td>\n",
       "    </tr>\n",
       "    <tr>\n",
       "      <th>NC3.tpm</th>\n",
       "      <td>65.481015</td>\n",
       "      <td>27197.75136</td>\n",
       "      <td>2.931986</td>\n",
       "      <td>3570.181314</td>\n",
       "      <td>0.000000</td>\n",
       "      <td>1040.854941</td>\n",
       "      <td>397.446957</td>\n",
       "      <td>5409.187931</td>\n",
       "      <td>0.651552</td>\n",
       "      <td>430.350353</td>\n",
       "      <td>...</td>\n",
       "      <td>0.977329</td>\n",
       "      <td>0.325776</td>\n",
       "      <td>0.000000</td>\n",
       "      <td>0.000000</td>\n",
       "      <td>0.000000</td>\n",
       "      <td>0.325776</td>\n",
       "      <td>0.000000</td>\n",
       "      <td>0.325776</td>\n",
       "      <td>0.325776</td>\n",
       "      <td>0.000000</td>\n",
       "    </tr>\n",
       "    <tr>\n",
       "      <th>NC4.tpm</th>\n",
       "      <td>53.163034</td>\n",
       "      <td>25408.60776</td>\n",
       "      <td>9.968069</td>\n",
       "      <td>5724.994268</td>\n",
       "      <td>0.000000</td>\n",
       "      <td>1162.941378</td>\n",
       "      <td>348.882413</td>\n",
       "      <td>4113.489788</td>\n",
       "      <td>0.000000</td>\n",
       "      <td>624.665654</td>\n",
       "      <td>...</td>\n",
       "      <td>3.322690</td>\n",
       "      <td>0.000000</td>\n",
       "      <td>0.000000</td>\n",
       "      <td>3.322690</td>\n",
       "      <td>0.000000</td>\n",
       "      <td>0.000000</td>\n",
       "      <td>0.000000</td>\n",
       "      <td>0.000000</td>\n",
       "      <td>0.000000</td>\n",
       "      <td>0.000000</td>\n",
       "    </tr>\n",
       "    <tr>\n",
       "      <th>NC5.tpm</th>\n",
       "      <td>97.619309</td>\n",
       "      <td>24992.46983</td>\n",
       "      <td>2.568929</td>\n",
       "      <td>4310.663175</td>\n",
       "      <td>0.642232</td>\n",
       "      <td>1364.743631</td>\n",
       "      <td>474.609667</td>\n",
       "      <td>4970.235744</td>\n",
       "      <td>1.284465</td>\n",
       "      <td>880.500479</td>\n",
       "      <td>...</td>\n",
       "      <td>1.284465</td>\n",
       "      <td>0.642232</td>\n",
       "      <td>0.642232</td>\n",
       "      <td>0.000000</td>\n",
       "      <td>0.642232</td>\n",
       "      <td>0.642232</td>\n",
       "      <td>0.000000</td>\n",
       "      <td>0.000000</td>\n",
       "      <td>0.000000</td>\n",
       "      <td>0.000000</td>\n",
       "    </tr>\n",
       "  </tbody>\n",
       "</table>\n",
       "<p>10 rows × 1254 columns</p>\n",
       "</div>"
      ],
      "text/plain": [
       "                0            1          2             3         4     \\\n",
       "LC11.tpm   84.810449  35945.49515   2.019296   6601.079920  0.000000   \n",
       "LC3.tpm    81.564623  24061.56385   8.718977   4780.811951  0.000000   \n",
       "LC4.tpm   116.614493  34847.67075   8.150475   5837.621215  0.626960   \n",
       "LC5.tpm    91.876345  28593.96015  15.312724  10165.096690  0.000000   \n",
       "LC6.tpm    81.566355  33601.82989  21.049382  11863.080790  0.000000   \n",
       "NC1.tpm    57.658187  27294.59926   6.552067   4589.067484  0.000000   \n",
       "NC2.tpm    60.758241  23345.52549   5.523476   4267.437891  0.000000   \n",
       "NC3.tpm    65.481015  27197.75136   2.931986   3570.181314  0.000000   \n",
       "NC4.tpm    53.163034  25408.60776   9.968069   5724.994268  0.000000   \n",
       "NC5.tpm    97.619309  24992.46983   2.568929   4310.663175  0.642232   \n",
       "\n",
       "                 5           6            7         8           9     ...  \\\n",
       "LC11.tpm  1524.568779  438.187318  6187.124158  2.019296  448.283800  ...   \n",
       "LC3.tpm   1379.004647  408.385631  5804.307343  0.843772  542.545373  ...   \n",
       "LC4.tpm   1502.822259  378.683623  8105.961195  0.626960  750.470690  ...   \n",
       "LC5.tpm   1686.951773  579.331395  5576.383696  0.000000  201.617534  ...   \n",
       "LC6.tpm   1524.326069  504.308107  6267.453446  3.508230  366.610067  ...   \n",
       "NC1.tpm    794.110478  517.613266  5409.386229  5.241653  681.414932  ...   \n",
       "NC2.tpm   1277.027751  407.632561  4757.922598  0.000000  269.545650  ...   \n",
       "NC3.tpm   1040.854941  397.446957  5409.187931  0.651552  430.350353  ...   \n",
       "NC4.tpm   1162.941378  348.882413  4113.489788  0.000000  624.665654  ...   \n",
       "NC5.tpm   1364.743631  474.609667  4970.235744  1.284465  880.500479  ...   \n",
       "\n",
       "              1244      1245      1246      1247      1248      1249  \\\n",
       "LC11.tpm  0.000000  0.000000  0.000000  0.000000  0.000000  0.000000   \n",
       "LC3.tpm   0.281257  0.562515  1.687544  0.562515  0.281257  0.281257   \n",
       "LC4.tpm   0.000000  0.000000  0.000000  0.000000  0.000000  0.000000   \n",
       "LC5.tpm   2.552121  2.552121  0.000000  0.000000  0.000000  0.000000   \n",
       "LC6.tpm   0.000000  0.000000  2.631173  0.000000  0.000000  0.000000   \n",
       "NC1.tpm   1.310413  0.000000  0.000000  0.000000  1.310413  0.000000   \n",
       "NC2.tpm   0.000000  0.000000  0.000000  0.000000  2.209391  4.418781   \n",
       "NC3.tpm   0.977329  0.325776  0.000000  0.000000  0.000000  0.325776   \n",
       "NC4.tpm   3.322690  0.000000  0.000000  3.322690  0.000000  0.000000   \n",
       "NC5.tpm   1.284465  0.642232  0.642232  0.000000  0.642232  0.642232   \n",
       "\n",
       "              1250      1251      1252      1253  \n",
       "LC11.tpm  0.000000  2.019296  0.000000  0.000000  \n",
       "LC3.tpm   0.281257  0.281257  0.000000  0.000000  \n",
       "LC4.tpm   0.000000  0.000000  0.000000  0.000000  \n",
       "LC5.tpm   0.000000  0.000000  0.000000  0.000000  \n",
       "LC6.tpm   0.000000  0.000000  0.000000  0.000000  \n",
       "NC1.tpm   0.000000  0.000000  0.000000  1.310413  \n",
       "NC2.tpm   0.000000  0.000000  0.000000  1.104695  \n",
       "NC3.tpm   0.000000  0.325776  0.325776  0.000000  \n",
       "NC4.tpm   0.000000  0.000000  0.000000  0.000000  \n",
       "NC5.tpm   0.000000  0.000000  0.000000  0.000000  \n",
       "\n",
       "[10 rows x 1254 columns]"
      ]
     },
     "execution_count": 43,
     "metadata": {},
     "output_type": "execute_result"
    }
   ],
   "source": [
    "table = data.iloc[:, 11:].transpose()\n",
    "mirnas = data.iloc[:, 0]\n",
    "table"
   ]
  },
  {
   "cell_type": "code",
   "execution_count": 44,
   "metadata": {},
   "outputs": [],
   "source": [
    "controls = np.array([\"NC\" in c for c in table.index])\n",
    "sick = 1 - controls"
   ]
  },
  {
   "cell_type": "markdown",
   "metadata": {},
   "source": [
    "### Mean-variance-plot"
   ]
  },
  {
   "cell_type": "code",
   "execution_count": 45,
   "metadata": {},
   "outputs": [
    {
     "data": {
      "text/plain": [
       "0          79.111205\n",
       "1       28528.947349\n",
       "2           8.279538\n",
       "3        6171.003470\n",
       "4           0.126919\n",
       "            ...     \n",
       "1249        0.566805\n",
       "1250        0.028126\n",
       "1251        0.262633\n",
       "1252        0.032578\n",
       "1253        0.241511\n",
       "Length: 1254, dtype: float64"
      ]
     },
     "execution_count": 45,
     "metadata": {},
     "output_type": "execute_result"
    }
   ],
   "source": [
    "np.mean(table)"
   ]
  },
  {
   "cell_type": "code",
   "execution_count": 46,
   "metadata": {
    "tags": []
   },
   "outputs": [],
   "source": [
    "def get_means_and_variances(table):\n",
    "    return np.mean(table), np.var(table, ddof=1)"
   ]
  },
  {
   "cell_type": "code",
   "execution_count": 47,
   "metadata": {
    "tags": []
   },
   "outputs": [],
   "source": [
    "def mean_variance_plot(table):\n",
    "    means, variances = get_means_and_variances(table)\n",
    "    plt.scatter(means, variances)\n",
    "    plt.xlabel(\"mean\")\n",
    "    plt.ylabel(\"variance\")\n",
    "    plt.plot()"
   ]
  },
  {
   "cell_type": "code",
   "execution_count": 48,
   "metadata": {},
   "outputs": [
    {
     "data": {
      "image/png": "[encoded data removed]",
      "text/plain": [
       "<Figure size 432x288 with 1 Axes>"
      ]
     },
     "metadata": {
      "needs_background": "light"
     },
     "output_type": "display_data"
    }
   ],
   "source": [
    "mean_variance_plot(table)"
   ]
  },
  {
   "cell_type": "markdown",
   "metadata": {},
   "source": [
    "### Log transformation"
   ]
  },
  {
   "cell_type": "code",
   "execution_count": 49,
   "metadata": {},
   "outputs": [],
   "source": [
    "log_table = np.log2(table + 1e-6)"
   ]
  },
  {
   "cell_type": "code",
   "execution_count": 50,
   "metadata": {},
   "outputs": [
    {
     "data": {
      "image/png": "[encoded data removed]",
      "text/plain": [
       "<Figure size 432x288 with 1 Axes>"
      ]
     },
     "metadata": {
      "needs_background": "light"
     },
     "output_type": "display_data"
    }
   ],
   "source": [
    "mean_variance_plot(log_table)"
   ]
  },
  {
   "cell_type": "code",
   "execution_count": 51,
   "metadata": {},
   "outputs": [],
   "source": [
    "mask = log_table.var() < 20\n",
    "log_table = log_table.loc[:, mask]\n",
    "mirnas = mirnas[mask]"
   ]
  },
  {
   "cell_type": "markdown",
   "metadata": {},
   "source": [
    "### Standardizing"
   ]
  },
  {
   "cell_type": "code",
   "execution_count": 52,
   "metadata": {
    "tags": []
   },
   "outputs": [],
   "source": [
    "norm_log_table = log_table - np.mean(log_table)"
   ]
  },
  {
   "cell_type": "code",
   "execution_count": 53,
   "metadata": {},
   "outputs": [],
   "source": [
    "norm_log_table /= np.sqrt(np.mean(np.var(norm_log_table, ddof=1)))"
   ]
  },
  {
   "cell_type": "code",
   "execution_count": 54,
   "metadata": {},
   "outputs": [
    {
     "data": {
      "image/png": "[encoded data removed]",
      "text/plain": [
       "<Figure size 432x288 with 1 Axes>"
      ]
     },
     "metadata": {
      "needs_background": "light"
     },
     "output_type": "display_data"
    }
   ],
   "source": [
    "mean_variance_plot(norm_log_table)"
   ]
  },
  {
   "cell_type": "code",
   "execution_count": 55,
   "metadata": {},
   "outputs": [
    {
     "data": {
      "text/plain": [
       "0"
      ]
     },
     "execution_count": 55,
     "metadata": {},
     "output_type": "execute_result"
    }
   ],
   "source": [
    "norm_log_table.isna().sum().sum()"
   ]
  },
  {
   "cell_type": "markdown",
   "metadata": {},
   "source": [
    "### PCA"
   ]
  },
  {
   "cell_type": "code",
   "execution_count": 56,
   "metadata": {
    "tags": []
   },
   "outputs": [],
   "source": [
    "pca = decomposition.PCA(n_components=10)"
   ]
  },
  {
   "cell_type": "code",
   "execution_count": 57,
   "metadata": {},
   "outputs": [
    {
     "data": {
      "text/plain": [
       "PCA(n_components=10)"
      ]
     },
     "execution_count": 57,
     "metadata": {},
     "output_type": "execute_result"
    }
   ],
   "source": [
    "pca.fit(norm_log_table)"
   ]
  },
  {
   "cell_type": "code",
   "execution_count": 58,
   "metadata": {},
   "outputs": [
    {
     "data": {
      "text/plain": [
       "array([3.65562912e-01, 1.61406799e-01, 1.21797075e-01, 9.30153938e-02,\n",
       "       7.66735956e-02, 6.81135237e-02, 5.00614371e-02, 4.19009991e-02,\n",
       "       2.14682647e-02, 1.45550800e-32])"
      ]
     },
     "execution_count": 58,
     "metadata": {},
     "output_type": "execute_result"
    }
   ],
   "source": [
    "pca.explained_variance_ratio_"
   ]
  },
  {
   "cell_type": "code",
   "execution_count": 59,
   "metadata": {
    "tags": []
   },
   "outputs": [],
   "source": [
    "components = pca.transform(norm_log_table)"
   ]
  },
  {
   "cell_type": "code",
   "execution_count": 60,
   "metadata": {},
   "outputs": [
    {
     "data": {
      "text/plain": [
       "array([[-1.06000228e+01, -8.97777945e+00, -2.26750013e+00,\n",
       "        -9.64731144e+00, -8.84307388e-01,  7.22301510e+00,\n",
       "        -5.21457761e+00,  7.57585971e-01, -1.26496132e-01,\n",
       "         3.21964677e-15],\n",
       "       [ 1.08632556e+00,  7.49979084e+00, -3.33649190e+00,\n",
       "         9.37622615e-01, -7.80921330e+00, -1.49411371e+00,\n",
       "        -2.16148608e+00,  5.50926381e-01,  6.21984214e+00,\n",
       "         1.36002321e-15],\n",
       "       [ 7.00137811e-01,  7.76895471e+00, -7.67066016e+00,\n",
       "         2.60027682e+00, -6.04075835e+00, -1.07413333e+00,\n",
       "        -2.54458610e+00, -1.62487647e+00, -5.80010881e+00,\n",
       "         1.99840144e-15],\n",
       "       [-1.25159124e+01, -2.16155446e+00, -1.01546410e+01,\n",
       "        -3.60640181e+00,  4.85191005e+00, -6.07767106e+00,\n",
       "         6.51393251e+00, -9.38741868e-01,  6.78412096e-01,\n",
       "         4.60742555e-15],\n",
       "       [-7.94153058e+00,  1.42256567e+01,  6.90139981e+00,\n",
       "        -8.55554264e-01,  3.68741764e+00,  5.77509527e+00,\n",
       "         3.82762688e+00,  3.99428027e+00, -6.15854829e-01,\n",
       "         2.72004641e-15],\n",
       "       [ 1.35467930e+01,  4.75676345e+00,  2.08852489e+00,\n",
       "        -2.80248275e+00,  9.67143574e+00, -4.13639862e+00,\n",
       "        -6.25380270e+00, -2.58349465e+00,  4.44338244e-01,\n",
       "         1.84574578e-15],\n",
       "       [ 2.02099945e+00, -3.40435939e+00,  1.21543950e+01,\n",
       "        -4.55692234e+00, -5.55412298e+00, -2.70400532e+00,\n",
       "         3.89465317e+00, -5.89318016e+00, -6.97182066e-01,\n",
       "        -1.37390099e-15],\n",
       "       [ 2.13530390e+01, -5.46644465e+00, -5.07256921e+00,\n",
       "         4.12870421e+00,  1.32388285e+00,  7.65812877e+00,\n",
       "         4.55176016e+00, -1.32692739e+00,  5.97363703e-01,\n",
       "        -5.32907052e-15],\n",
       "       [-1.57923080e+01, -6.36279880e+00,  3.83450857e+00,\n",
       "         1.29686511e+01,  2.54230660e+00,  4.67683044e-01,\n",
       "        -2.57844457e+00, -1.93280291e+00,  5.05550044e-01,\n",
       "        -6.05071548e-15],\n",
       "       [ 8.14247900e+00, -7.87822891e+00,  3.52303415e+00,\n",
       "         8.33417805e-01, -1.78855086e+00, -5.63760015e+00,\n",
       "        -3.50756679e-02,  8.99723082e+00, -1.20586440e+00,\n",
       "        -3.27515792e-15]])"
      ]
     },
     "execution_count": 60,
     "metadata": {},
     "output_type": "execute_result"
    }
   ],
   "source": [
    "components"
   ]
  },
  {
   "cell_type": "code",
   "execution_count": 61,
   "metadata": {},
   "outputs": [
    {
     "data": {
      "image/png": "[encoded data removed]",
      "text/plain": [
       "<Figure size 576x576 with 1 Axes>"
      ]
     },
     "metadata": {
      "needs_background": "light"
     },
     "output_type": "display_data"
    }
   ],
   "source": [
    "fig = plt.figure(figsize = (8,8))\n",
    "ax = fig.add_subplot(1,1,1)\n",
    "\n",
    "ax.set_xlabel('Principal Component 1', fontsize = 15)\n",
    "ax.set_ylabel('Principal Component 2', fontsize = 15)\n",
    "ax.set_title('2 component PCA', fontsize = 20)\n",
    "targets = ['Cancer', 'Healthy']\n",
    "colors = ['r', 'g']\n",
    "ax.scatter(components[controls == False, 0], components[controls == False, 1], c = 'r', s = 10)\n",
    "ax.scatter(components[controls == True, 0], components[controls == True, 1], c = 'g', s = 10)\n",
    "ax.legend(targets)\n",
    "ax.grid()"
   ]
  },
  {
   "cell_type": "code",
   "execution_count": 63,
   "metadata": {
    "tags": []
   },
   "outputs": [],
   "source": [
    "components2 = components[components[:,0] < 20, :]\n",
    "controls2 = controls[components[:,0] < 20]"
   ]
  },
  {
   "cell_type": "code",
   "execution_count": 64,
   "metadata": {},
   "outputs": [
    {
     "data": {
      "image/png": "[encoded data removed]",
      "text/plain": [
       "<Figure size 576x576 with 1 Axes>"
      ]
     },
     "metadata": {
      "needs_background": "light"
     },
     "output_type": "display_data"
    }
   ],
   "source": [
    "fig = plt.figure(figsize = (8,8))\n",
    "ax = fig.add_subplot(1,1,1)\n",
    "\n",
    "ax.set_xlabel('Principal Component 1', fontsize = 15)\n",
    "ax.set_ylabel('Principal Component 2', fontsize = 15)\n",
    "ax.set_title('2 component PCA', fontsize = 20)\n",
    "targets = ['Cancer', 'Healthy']\n",
    "colors = ['r', 'g']\n",
    "ax.scatter(components2[controls2 == False, 0], components2[controls2 == False, 1], c = 'r', s = 10)\n",
    "ax.scatter(components2[controls2 == True, 0], components2[controls2 == True, 1], c = 'g', s = 10)\n",
    "ax.legend(targets)\n",
    "ax.grid()"
   ]
  },
  {
   "cell_type": "markdown",
   "metadata": {},
   "source": [
    "### Logistic Regression"
   ]
  },
  {
   "cell_type": "code",
   "execution_count": 65,
   "metadata": {},
   "outputs": [],
   "source": [
    "X_train, X_test, y_train, y_test = train_test_split(norm_log_table, controls, test_size=0.33, random_state=42)"
   ]
  },
  {
   "cell_type": "code",
   "execution_count": 66,
   "metadata": {},
   "outputs": [
    {
     "data": {
      "text/plain": [
       "LogisticRegression(max_iter=2000)"
      ]
     },
     "execution_count": 66,
     "metadata": {},
     "output_type": "execute_result"
    }
   ],
   "source": [
    "model = LogisticRegression(max_iter=2000)\n",
    "model.fit(X_train, y_train)"
   ]
  },
  {
   "cell_type": "code",
   "execution_count": 67,
   "metadata": {},
   "outputs": [
    {
     "data": {
      "text/plain": [
       "<sklearn.metrics._plot.roc_curve.RocCurveDisplay at 0x29b99322df0>"
      ]
     },
     "execution_count": 67,
     "metadata": {},
     "output_type": "execute_result"
    },
    {
     "data": {
      "image/png": "[encoded data removed]",
      "text/plain": [
       "<Figure size 432x288 with 1 Axes>"
      ]
     },
     "metadata": {
      "needs_background": "light"
     },
     "output_type": "display_data"
    }
   ],
   "source": [
    "plot_roc_curve(model, X_test, y_test)"
   ]
  },
  {
   "cell_type": "markdown",
   "metadata": {
    "jupyter": {
     "outputs_hidden": true
    },
    "tags": []
   },
   "source": [
    "### XGBoost"
   ]
  },
  {
   "cell_type": "code",
   "execution_count": 68,
   "metadata": {},
   "outputs": [],
   "source": [
    "X_train, X_test, y_train, y_test = train_test_split(norm_log_table, controls, test_size=0.33, random_state=42)"
   ]
  },
  {
   "cell_type": "code",
   "execution_count": 69,
   "metadata": {},
   "outputs": [
    {
     "name": "stdout",
     "output_type": "stream",
     "text": [
      "[15:54:35] WARNING: C:/Users/Administrator/workspace/xgboost-win64_release_1.4.0/src/learner.cc:1095: Starting in XGBoost 1.3.0, the default evaluation metric used with the objective 'binary:logistic' was changed from 'error' to 'logloss'. Explicitly set eval_metric if you'd like to restore the old behavior.\n"
     ]
    },
    {
     "data": {
      "text/plain": [
       "XGBClassifier(base_score=0.5, booster='gbtree', colsample_bylevel=1,\n",
       "              colsample_bynode=1, colsample_bytree=1, gamma=0, gpu_id=-1,\n",
       "              importance_type='gain', interaction_constraints='',\n",
       "              learning_rate=0.300000012, max_delta_step=0, max_depth=6,\n",
       "              min_child_weight=1, missing=nan, monotone_constraints='()',\n",
       "              n_estimators=100, n_jobs=4, num_parallel_tree=1, random_state=0,\n",
       "              reg_alpha=0, reg_lambda=1, scale_pos_weight=1, subsample=1,\n",
       "              tree_method='exact', use_label_encoder=False,\n",
       "              validate_parameters=1, verbosity=None)"
      ]
     },
     "execution_count": 69,
     "metadata": {},
     "output_type": "execute_result"
    }
   ],
   "source": [
    "model = XGBClassifier(use_label_encoder=False)\n",
    "model.fit(X_train, y_train)"
   ]
  },
  {
   "cell_type": "code",
   "execution_count": 70,
   "metadata": {},
   "outputs": [
    {
     "data": {
      "text/plain": [
       "<sklearn.metrics._plot.roc_curve.RocCurveDisplay at 0x29b9f53e700>"
      ]
     },
     "execution_count": 70,
     "metadata": {},
     "output_type": "execute_result"
    },
    {
     "data": {
      "image/png": "[encoded data removed]",
      "text/plain": [
       "<Figure size 432x288 with 1 Axes>"
      ]
     },
     "metadata": {
      "needs_background": "light"
     },
     "output_type": "display_data"
    }
   ],
   "source": [
    "plot_roc_curve(model, X_test, y_test)"
   ]
  },
  {
   "cell_type": "markdown",
   "metadata": {},
   "source": [
    "### Exporting data"
   ]
  },
  {
   "cell_type": "code",
   "execution_count": 71,
   "metadata": {},
   "outputs": [
    {
     "data": {
      "text/plain": [
       "0       hsa-let-7a-3p\n",
       "1       hsa-let-7a-5p\n",
       "2       hsa-let-7b-3p\n",
       "3       hsa-let-7b-5p\n",
       "5       hsa-let-7c-5p\n",
       "6       hsa-let-7d-3p\n",
       "7       hsa-let-7d-5p\n",
       "9       hsa-let-7e-5p\n",
       "10    hsa-let-7f-1-3p\n",
       "12      hsa-let-7f-5p\n",
       "Name: miRNA_ID, dtype: object"
      ]
     },
     "execution_count": 71,
     "metadata": {},
     "output_type": "execute_result"
    }
   ],
   "source": [
    "mirnas[:10]"
   ]
  },
  {
   "cell_type": "code",
   "execution_count": 72,
   "metadata": {},
   "outputs": [],
   "source": [
    "from Scripts import converters"
   ]
  },
  {
   "cell_type": "code",
   "execution_count": 73,
   "metadata": {},
   "outputs": [],
   "source": [
    "sequences = converters.canonical_to_seq(mirnas, True)"
   ]
  },
  {
   "cell_type": "code",
   "execution_count": 74,
   "metadata": {},
   "outputs": [],
   "source": [
    "sequences = np.array(sequences)"
   ]
  },
  {
   "cell_type": "code",
   "execution_count": 75,
   "metadata": {},
   "outputs": [
    {
     "data": {
      "text/plain": [
       "1187    novel_179\n",
       "1208    novel_324\n",
       "Name: miRNA_ID, dtype: object"
      ]
     },
     "execution_count": 75,
     "metadata": {},
     "output_type": "execute_result"
    }
   ],
   "source": [
    "mirnas[sequences == None]"
   ]
  },
  {
   "cell_type": "code",
   "execution_count": 76,
   "metadata": {},
   "outputs": [],
   "source": [
    "mask = sequences != None\n",
    "sequences = sequences[mask]\n",
    "norm_log_table = norm_log_table.loc[:, mask]"
   ]
  },
  {
   "cell_type": "code",
   "execution_count": 77,
   "metadata": {},
   "outputs": [
    {
     "data": {
      "text/html": [
       "<div>\n",
       "<style scoped>\n",
       "    .dataframe tbody tr th:only-of-type {\n",
       "        vertical-align: middle;\n",
       "    }\n",
       "\n",
       "    .dataframe tbody tr th {\n",
       "        vertical-align: top;\n",
       "    }\n",
       "\n",
       "    .dataframe thead th {\n",
       "        text-align: right;\n",
       "    }\n",
       "</style>\n",
       "<table border=\"1\" class=\"dataframe\">\n",
       "  <thead>\n",
       "    <tr style=\"text-align: right;\">\n",
       "      <th></th>\n",
       "      <th>CUAUACAAUCUACUGUCUUUC</th>\n",
       "      <th>UGAGGUAGUAGGUUGUAUAGUU</th>\n",
       "      <th>CUAUACAACCUACUGCCUUCCC</th>\n",
       "      <th>UGAGGUAGUAGGUUGUGUGGUU</th>\n",
       "      <th>UGAGGUAGUAGGUUGUAUGGUU</th>\n",
       "      <th>CUAUACGACCUGCUGCCUUUCU</th>\n",
       "      <th>AGAGGUAGUAGGUUGCAUAGUU</th>\n",
       "      <th>UGAGGUAGGAGGUUGUAUAGUU</th>\n",
       "      <th>CUAUACAAUCUAUUGCCUUCCC</th>\n",
       "      <th>UGAGGUAGUAGAUUGUAUAGUU</th>\n",
       "      <th>...</th>\n",
       "      <th>CACCCGGCUGUGUGCACAUGUGC</th>\n",
       "      <th>UCUUCUCUGUUUUGGCCAUGUG</th>\n",
       "      <th>UUCAACGGGUAUUUAUUGAGCA</th>\n",
       "      <th>UCUUUGGUUAUCUAGCUGUAUGA</th>\n",
       "      <th>UUUGGCACUAGCACAUUUUUGCU</th>\n",
       "      <th>UGAGGUAGUAAGUUGUAUUGUU</th>\n",
       "      <th>AACCCGUAGAUCCGAUCUUGUG</th>\n",
       "      <th>CAAGCUCGUGUCUGUGGGUCCG</th>\n",
       "      <th>CACCCGUAGAACCGACCUUGCG</th>\n",
       "      <th>cancer</th>\n",
       "    </tr>\n",
       "  </thead>\n",
       "  <tbody>\n",
       "    <tr>\n",
       "      <th>LC11.tpm</th>\n",
       "      <td>0.177456</td>\n",
       "      <td>0.437284</td>\n",
       "      <td>-2.095874</td>\n",
       "      <td>0.254377</td>\n",
       "      <td>0.289674</td>\n",
       "      <td>-0.009385</td>\n",
       "      <td>0.188157</td>\n",
       "      <td>-0.104962</td>\n",
       "      <td>0.637302</td>\n",
       "      <td>0.425734</td>\n",
       "      <td>...</td>\n",
       "      <td>0.068298</td>\n",
       "      <td>-0.011440</td>\n",
       "      <td>1.490292</td>\n",
       "      <td>-0.296643</td>\n",
       "      <td>-0.895648</td>\n",
       "      <td>0.600075</td>\n",
       "      <td>1.010940</td>\n",
       "      <td>-0.781499</td>\n",
       "      <td>-0.262884</td>\n",
       "      <td>1</td>\n",
       "    </tr>\n",
       "    <tr>\n",
       "      <th>LC3.tpm</th>\n",
       "      <td>0.107082</td>\n",
       "      <td>-0.286583</td>\n",
       "      <td>0.542067</td>\n",
       "      <td>-0.327444</td>\n",
       "      <td>0.108703</td>\n",
       "      <td>-0.136407</td>\n",
       "      <td>0.072973</td>\n",
       "      <td>0.239210</td>\n",
       "      <td>-0.076304</td>\n",
       "      <td>-0.301775</td>\n",
       "      <td>...</td>\n",
       "      <td>-0.227751</td>\n",
       "      <td>-0.145099</td>\n",
       "      <td>0.278488</td>\n",
       "      <td>0.015971</td>\n",
       "      <td>-0.890515</td>\n",
       "      <td>-0.304976</td>\n",
       "      <td>-0.319197</td>\n",
       "      <td>0.318697</td>\n",
       "      <td>-0.187948</td>\n",
       "      <td>1</td>\n",
       "    </tr>\n",
       "    <tr>\n",
       "      <th>LC4.tpm</th>\n",
       "      <td>0.751761</td>\n",
       "      <td>0.381347</td>\n",
       "      <td>0.420471</td>\n",
       "      <td>0.032720</td>\n",
       "      <td>0.263765</td>\n",
       "      <td>-0.272584</td>\n",
       "      <td>0.675310</td>\n",
       "      <td>0.824288</td>\n",
       "      <td>-0.378895</td>\n",
       "      <td>0.186420</td>\n",
       "      <td>...</td>\n",
       "      <td>-0.310141</td>\n",
       "      <td>0.362533</td>\n",
       "      <td>-1.350235</td>\n",
       "      <td>0.367141</td>\n",
       "      <td>0.342709</td>\n",
       "      <td>0.177769</td>\n",
       "      <td>-1.114146</td>\n",
       "      <td>-0.014280</td>\n",
       "      <td>-0.282436</td>\n",
       "      <td>1</td>\n",
       "    </tr>\n",
       "    <tr>\n",
       "      <th>LC5.tpm</th>\n",
       "      <td>0.321774</td>\n",
       "      <td>0.024649</td>\n",
       "      <td>1.557715</td>\n",
       "      <td>1.032957</td>\n",
       "      <td>0.472200</td>\n",
       "      <td>0.494178</td>\n",
       "      <td>0.000728</td>\n",
       "      <td>-1.545984</td>\n",
       "      <td>-0.921631</td>\n",
       "      <td>-0.642132</td>\n",
       "      <td>...</td>\n",
       "      <td>-0.143102</td>\n",
       "      <td>0.826603</td>\n",
       "      <td>1.181386</td>\n",
       "      <td>1.114960</td>\n",
       "      <td>1.249844</td>\n",
       "      <td>0.446369</td>\n",
       "      <td>0.471070</td>\n",
       "      <td>-2.216010</td>\n",
       "      <td>-0.845027</td>\n",
       "      <td>1</td>\n",
       "    </tr>\n",
       "    <tr>\n",
       "      <th>LC6.tpm</th>\n",
       "      <td>0.107120</td>\n",
       "      <td>0.315693</td>\n",
       "      <td>2.131537</td>\n",
       "      <td>1.311532</td>\n",
       "      <td>0.289387</td>\n",
       "      <td>0.244068</td>\n",
       "      <td>0.211420</td>\n",
       "      <td>-0.467678</td>\n",
       "      <td>1.845849</td>\n",
       "      <td>-0.589484</td>\n",
       "      <td>...</td>\n",
       "      <td>0.295246</td>\n",
       "      <td>0.374556</td>\n",
       "      <td>-0.744848</td>\n",
       "      <td>-1.370611</td>\n",
       "      <td>1.989233</td>\n",
       "      <td>0.026971</td>\n",
       "      <td>-0.512990</td>\n",
       "      <td>0.455449</td>\n",
       "      <td>0.011539</td>\n",
       "      <td>1</td>\n",
       "    </tr>\n",
       "  </tbody>\n",
       "</table>\n",
       "<p>5 rows × 392 columns</p>\n",
       "</div>"
      ],
      "text/plain": [
       "          CUAUACAAUCUACUGUCUUUC  UGAGGUAGUAGGUUGUAUAGUU  \\\n",
       "LC11.tpm               0.177456                0.437284   \n",
       "LC3.tpm                0.107082               -0.286583   \n",
       "LC4.tpm                0.751761                0.381347   \n",
       "LC5.tpm                0.321774                0.024649   \n",
       "LC6.tpm                0.107120                0.315693   \n",
       "\n",
       "          CUAUACAACCUACUGCCUUCCC  UGAGGUAGUAGGUUGUGUGGUU  \\\n",
       "LC11.tpm               -2.095874                0.254377   \n",
       "LC3.tpm                 0.542067               -0.327444   \n",
       "LC4.tpm                 0.420471                0.032720   \n",
       "LC5.tpm                 1.557715                1.032957   \n",
       "LC6.tpm                 2.131537                1.311532   \n",
       "\n",
       "          UGAGGUAGUAGGUUGUAUGGUU  CUAUACGACCUGCUGCCUUUCU  \\\n",
       "LC11.tpm                0.289674               -0.009385   \n",
       "LC3.tpm                 0.108703               -0.136407   \n",
       "LC4.tpm                 0.263765               -0.272584   \n",
       "LC5.tpm                 0.472200                0.494178   \n",
       "LC6.tpm                 0.289387                0.244068   \n",
       "\n",
       "          AGAGGUAGUAGGUUGCAUAGUU  UGAGGUAGGAGGUUGUAUAGUU  \\\n",
       "LC11.tpm                0.188157               -0.104962   \n",
       "LC3.tpm                 0.072973                0.239210   \n",
       "LC4.tpm                 0.675310                0.824288   \n",
       "LC5.tpm                 0.000728               -1.545984   \n",
       "LC6.tpm                 0.211420               -0.467678   \n",
       "\n",
       "          CUAUACAAUCUAUUGCCUUCCC  UGAGGUAGUAGAUUGUAUAGUU  ...  \\\n",
       "LC11.tpm                0.637302                0.425734  ...   \n",
       "LC3.tpm                -0.076304               -0.301775  ...   \n",
       "LC4.tpm                -0.378895                0.186420  ...   \n",
       "LC5.tpm                -0.921631               -0.642132  ...   \n",
       "LC6.tpm                 1.845849               -0.589484  ...   \n",
       "\n",
       "          CACCCGGCUGUGUGCACAUGUGC  UCUUCUCUGUUUUGGCCAUGUG  \\\n",
       "LC11.tpm                 0.068298               -0.011440   \n",
       "LC3.tpm                 -0.227751               -0.145099   \n",
       "LC4.tpm                 -0.310141                0.362533   \n",
       "LC5.tpm                 -0.143102                0.826603   \n",
       "LC6.tpm                  0.295246                0.374556   \n",
       "\n",
       "          UUCAACGGGUAUUUAUUGAGCA  UCUUUGGUUAUCUAGCUGUAUGA  \\\n",
       "LC11.tpm                1.490292                -0.296643   \n",
       "LC3.tpm                 0.278488                 0.015971   \n",
       "LC4.tpm                -1.350235                 0.367141   \n",
       "LC5.tpm                 1.181386                 1.114960   \n",
       "LC6.tpm                -0.744848                -1.370611   \n",
       "\n",
       "          UUUGGCACUAGCACAUUUUUGCU  UGAGGUAGUAAGUUGUAUUGUU  \\\n",
       "LC11.tpm                -0.895648                0.600075   \n",
       "LC3.tpm                 -0.890515               -0.304976   \n",
       "LC4.tpm                  0.342709                0.177769   \n",
       "LC5.tpm                  1.249844                0.446369   \n",
       "LC6.tpm                  1.989233                0.026971   \n",
       "\n",
       "          AACCCGUAGAUCCGAUCUUGUG  CAAGCUCGUGUCUGUGGGUCCG  \\\n",
       "LC11.tpm                1.010940               -0.781499   \n",
       "LC3.tpm                -0.319197                0.318697   \n",
       "LC4.tpm                -1.114146               -0.014280   \n",
       "LC5.tpm                 0.471070               -2.216010   \n",
       "LC6.tpm                -0.512990                0.455449   \n",
       "\n",
       "          CACCCGUAGAACCGACCUUGCG  cancer  \n",
       "LC11.tpm               -0.262884       1  \n",
       "LC3.tpm                -0.187948       1  \n",
       "LC4.tpm                -0.282436       1  \n",
       "LC5.tpm                -0.845027       1  \n",
       "LC6.tpm                 0.011539       1  \n",
       "\n",
       "[5 rows x 392 columns]"
      ]
     },
     "execution_count": 77,
     "metadata": {},
     "output_type": "execute_result"
    }
   ],
   "source": [
    "norm_log_table.columns = sequences\n",
    "norm_log_table[\"cancer\"] = sick\n",
    "norm_log_table.head()"
   ]
  },
  {
   "cell_type": "code",
   "execution_count": 78,
   "metadata": {},
   "outputs": [],
   "source": [
    "norm_log_table.to_csv(\"../TransformedData/Yao2020.csv\", index=False)"
   ]
  },
  {
   "cell_type": "code",
   "execution_count": null,
   "metadata": {},
   "outputs": [],
   "source": []
  }
 ],
 "metadata": {
  "kernelspec": {
   "display_name": "Python 3 (ipykernel)",
   "language": "python",
   "name": "python3"
  },
  "language_info": {
   "codemirror_mode": {
    "name": "ipython",
    "version": 3
   },
   "file_extension": ".py",
   "mimetype": "text/x-python",
   "name": "python",
   "nbconvert_exporter": "python",
   "pygments_lexer": "ipython3",
   "version": "3.9.7"
  }
 },
 "nbformat": 4,
 "nbformat_minor": 4
}
