{
 "cells": [
  {
   "cell_type": "code",
   "execution_count": 70,
   "id": "51571063-765e-4749-be5b-33b5e9efa9ed",
   "metadata": {},
   "outputs": [],
   "source": [
    "%matplotlib inline\n",
    "import GEOparse\n",
    "import matplotlib.pyplot as plt\n",
    "import pandas as pd\n",
    "import numpy as np\n",
    "from sklearn import decomposition\n",
    "from sklego.linear_model import LowessRegression\n",
    "from sklearn.feature_selection import f_classif\n",
    "from sklearn.linear_model import LinearRegression, LogisticRegression\n",
    "from sklearn.metrics import explained_variance_score, plot_roc_curve\n",
    "import statsmodels.api as sm\n",
    "from scipy.stats import ttest_ind\n",
    "from xgboost import XGBClassifier\n",
    "from sklearn.model_selection import train_test_split\n",
    "import matplotlib\n",
    "from xgboost import XGBClassifier\n",
    "from sklearn.model_selection import train_test_split"
   ]
  },
  {
   "cell_type": "code",
   "execution_count": 71,
   "id": "18fed604-f30f-4b19-b197-e7ac891f77d8",
   "metadata": {},
   "outputs": [],
   "source": [
    "metadata = pd.read_csv(\"../Dataset/Zaporozhchenko2018/E-MTAB-6304.sdrf.txt\", sep=\"\\t\", index_col=0)"
   ]
  },
  {
   "cell_type": "code",
   "execution_count": 72,
   "id": "182d912a-8445-406d-968a-da2809674aa6",
   "metadata": {},
   "outputs": [
    {
     "data": {
      "text/html": [
       "<div>\n",
       "<style scoped>\n",
       "    .dataframe tbody tr th:only-of-type {\n",
       "        vertical-align: middle;\n",
       "    }\n",
       "\n",
       "    .dataframe tbody tr th {\n",
       "        vertical-align: top;\n",
       "    }\n",
       "\n",
       "    .dataframe thead th {\n",
       "        text-align: right;\n",
       "    }\n",
       "</style>\n",
       "<table border=\"1\" class=\"dataframe\">\n",
       "  <thead>\n",
       "    <tr style=\"text-align: right;\">\n",
       "      <th></th>\n",
       "      <th>Characteristics[organism]</th>\n",
       "      <th>Characteristics[disease]</th>\n",
       "      <th>Characteristics[tumor grading]</th>\n",
       "      <th>Characteristics[age]</th>\n",
       "      <th>Unit[time unit]</th>\n",
       "      <th>Characteristics[sex]</th>\n",
       "      <th>Characteristics[organism part]</th>\n",
       "      <th>Material Type</th>\n",
       "      <th>Protocol REF</th>\n",
       "      <th>Protocol REF.1</th>\n",
       "      <th>...</th>\n",
       "      <th>Technology Type</th>\n",
       "      <th>Array Design REF</th>\n",
       "      <th>Term Source REF</th>\n",
       "      <th>Protocol REF.4</th>\n",
       "      <th>Array Data Matrix File</th>\n",
       "      <th>Comment [ArrayExpress Data Matrix FTP file]</th>\n",
       "      <th>Protocol REF.5</th>\n",
       "      <th>Derived Array Data File</th>\n",
       "      <th>Comment [Derived ArrayExpress FTP file]</th>\n",
       "      <th>Factor Value[disease]</th>\n",
       "    </tr>\n",
       "    <tr>\n",
       "      <th>Source Name</th>\n",
       "      <th></th>\n",
       "      <th></th>\n",
       "      <th></th>\n",
       "      <th></th>\n",
       "      <th></th>\n",
       "      <th></th>\n",
       "      <th></th>\n",
       "      <th></th>\n",
       "      <th></th>\n",
       "      <th></th>\n",
       "      <th></th>\n",
       "      <th></th>\n",
       "      <th></th>\n",
       "      <th></th>\n",
       "      <th></th>\n",
       "      <th></th>\n",
       "      <th></th>\n",
       "      <th></th>\n",
       "      <th></th>\n",
       "      <th></th>\n",
       "      <th></th>\n",
       "    </tr>\n",
       "  </thead>\n",
       "  <tbody>\n",
       "    <tr>\n",
       "      <th>A01</th>\n",
       "      <td>Homo sapiens</td>\n",
       "      <td>lung adenocarcinoma</td>\n",
       "      <td>3a</td>\n",
       "      <td>63</td>\n",
       "      <td>year</td>\n",
       "      <td>male</td>\n",
       "      <td>blood plasma</td>\n",
       "      <td>organism part</td>\n",
       "      <td>P-MTAB-70203</td>\n",
       "      <td>P-MTAB-70204</td>\n",
       "      <td>...</td>\n",
       "      <td>array assay</td>\n",
       "      <td>A-GEOD-18693</td>\n",
       "      <td>ArrayExpress</td>\n",
       "      <td>P-MTAB-70207</td>\n",
       "      <td>NSCLC_miRNA_dis_set.txt</td>\n",
       "      <td>ftp://ftp.ebi.ac.uk/pub/databases/microarray/d...</td>\n",
       "      <td>P-MTAB-70208</td>\n",
       "      <td>NSCLC_miRNA_dis_normalized_Cq.txt</td>\n",
       "      <td>ftp://ftp.ebi.ac.uk/pub/databases/microarray/d...</td>\n",
       "      <td>lung adenocarcinoma</td>\n",
       "    </tr>\n",
       "    <tr>\n",
       "      <th>A02</th>\n",
       "      <td>Homo sapiens</td>\n",
       "      <td>lung adenocarcinoma</td>\n",
       "      <td>3a</td>\n",
       "      <td>71</td>\n",
       "      <td>year</td>\n",
       "      <td>male</td>\n",
       "      <td>blood plasma</td>\n",
       "      <td>organism part</td>\n",
       "      <td>P-MTAB-70203</td>\n",
       "      <td>P-MTAB-70204</td>\n",
       "      <td>...</td>\n",
       "      <td>array assay</td>\n",
       "      <td>A-GEOD-18693</td>\n",
       "      <td>ArrayExpress</td>\n",
       "      <td>P-MTAB-70207</td>\n",
       "      <td>NSCLC_miRNA_dis_set.txt</td>\n",
       "      <td>ftp://ftp.ebi.ac.uk/pub/databases/microarray/d...</td>\n",
       "      <td>P-MTAB-70208</td>\n",
       "      <td>NSCLC_miRNA_dis_normalized_Cq.txt</td>\n",
       "      <td>ftp://ftp.ebi.ac.uk/pub/databases/microarray/d...</td>\n",
       "      <td>lung adenocarcinoma</td>\n",
       "    </tr>\n",
       "    <tr>\n",
       "      <th>A03</th>\n",
       "      <td>Homo sapiens</td>\n",
       "      <td>lung adenocarcinoma</td>\n",
       "      <td>2a/2b</td>\n",
       "      <td>47</td>\n",
       "      <td>year</td>\n",
       "      <td>male</td>\n",
       "      <td>blood plasma</td>\n",
       "      <td>organism part</td>\n",
       "      <td>P-MTAB-70203</td>\n",
       "      <td>P-MTAB-70204</td>\n",
       "      <td>...</td>\n",
       "      <td>array assay</td>\n",
       "      <td>A-GEOD-18693</td>\n",
       "      <td>ArrayExpress</td>\n",
       "      <td>P-MTAB-70207</td>\n",
       "      <td>NSCLC_miRNA_dis_set.txt</td>\n",
       "      <td>ftp://ftp.ebi.ac.uk/pub/databases/microarray/d...</td>\n",
       "      <td>P-MTAB-70208</td>\n",
       "      <td>NSCLC_miRNA_dis_normalized_Cq.txt</td>\n",
       "      <td>ftp://ftp.ebi.ac.uk/pub/databases/microarray/d...</td>\n",
       "      <td>lung adenocarcinoma</td>\n",
       "    </tr>\n",
       "    <tr>\n",
       "      <th>A04</th>\n",
       "      <td>Homo sapiens</td>\n",
       "      <td>lung adenocarcinoma</td>\n",
       "      <td>3a</td>\n",
       "      <td>60</td>\n",
       "      <td>year</td>\n",
       "      <td>male</td>\n",
       "      <td>blood plasma</td>\n",
       "      <td>organism part</td>\n",
       "      <td>P-MTAB-70203</td>\n",
       "      <td>P-MTAB-70204</td>\n",
       "      <td>...</td>\n",
       "      <td>array assay</td>\n",
       "      <td>A-GEOD-18693</td>\n",
       "      <td>ArrayExpress</td>\n",
       "      <td>P-MTAB-70207</td>\n",
       "      <td>NSCLC_miRNA_dis_set.txt</td>\n",
       "      <td>ftp://ftp.ebi.ac.uk/pub/databases/microarray/d...</td>\n",
       "      <td>P-MTAB-70208</td>\n",
       "      <td>NSCLC_miRNA_dis_normalized_Cq.txt</td>\n",
       "      <td>ftp://ftp.ebi.ac.uk/pub/databases/microarray/d...</td>\n",
       "      <td>lung adenocarcinoma</td>\n",
       "    </tr>\n",
       "    <tr>\n",
       "      <th>A05</th>\n",
       "      <td>Homo sapiens</td>\n",
       "      <td>lung adenocarcinoma</td>\n",
       "      <td>2a/2b</td>\n",
       "      <td>62</td>\n",
       "      <td>year</td>\n",
       "      <td>male</td>\n",
       "      <td>blood plasma</td>\n",
       "      <td>organism part</td>\n",
       "      <td>P-MTAB-70203</td>\n",
       "      <td>P-MTAB-70204</td>\n",
       "      <td>...</td>\n",
       "      <td>array assay</td>\n",
       "      <td>A-GEOD-18693</td>\n",
       "      <td>ArrayExpress</td>\n",
       "      <td>P-MTAB-70207</td>\n",
       "      <td>NSCLC_miRNA_dis_set.txt</td>\n",
       "      <td>ftp://ftp.ebi.ac.uk/pub/databases/microarray/d...</td>\n",
       "      <td>P-MTAB-70208</td>\n",
       "      <td>NSCLC_miRNA_dis_normalized_Cq.txt</td>\n",
       "      <td>ftp://ftp.ebi.ac.uk/pub/databases/microarray/d...</td>\n",
       "      <td>lung adenocarcinoma</td>\n",
       "    </tr>\n",
       "  </tbody>\n",
       "</table>\n",
       "<p>5 rows × 26 columns</p>\n",
       "</div>"
      ],
      "text/plain": [
       "            Characteristics[organism] Characteristics[disease]  \\\n",
       "Source Name                                                      \n",
       "A01                      Homo sapiens      lung adenocarcinoma   \n",
       "A02                      Homo sapiens      lung adenocarcinoma   \n",
       "A03                      Homo sapiens      lung adenocarcinoma   \n",
       "A04                      Homo sapiens      lung adenocarcinoma   \n",
       "A05                      Homo sapiens      lung adenocarcinoma   \n",
       "\n",
       "            Characteristics[tumor grading]  Characteristics[age]  \\\n",
       "Source Name                                                        \n",
       "A01                                     3a                    63   \n",
       "A02                                     3a                    71   \n",
       "A03                                  2a/2b                    47   \n",
       "A04                                     3a                    60   \n",
       "A05                                  2a/2b                    62   \n",
       "\n",
       "            Unit[time unit] Characteristics[sex]  \\\n",
       "Source Name                                        \n",
       "A01                    year                 male   \n",
       "A02                    year                 male   \n",
       "A03                    year                 male   \n",
       "A04                    year                 male   \n",
       "A05                    year                 male   \n",
       "\n",
       "            Characteristics[organism part]  Material Type  Protocol REF  \\\n",
       "Source Name                                                               \n",
       "A01                           blood plasma  organism part  P-MTAB-70203   \n",
       "A02                           blood plasma  organism part  P-MTAB-70203   \n",
       "A03                           blood plasma  organism part  P-MTAB-70203   \n",
       "A04                           blood plasma  organism part  P-MTAB-70203   \n",
       "A05                           blood plasma  organism part  P-MTAB-70203   \n",
       "\n",
       "            Protocol REF.1  ... Technology Type Array Design REF  \\\n",
       "Source Name                 ...                                    \n",
       "A01           P-MTAB-70204  ...     array assay     A-GEOD-18693   \n",
       "A02           P-MTAB-70204  ...     array assay     A-GEOD-18693   \n",
       "A03           P-MTAB-70204  ...     array assay     A-GEOD-18693   \n",
       "A04           P-MTAB-70204  ...     array assay     A-GEOD-18693   \n",
       "A05           P-MTAB-70204  ...     array assay     A-GEOD-18693   \n",
       "\n",
       "            Term Source REF Protocol REF.4   Array Data Matrix File  \\\n",
       "Source Name                                                           \n",
       "A01            ArrayExpress   P-MTAB-70207  NSCLC_miRNA_dis_set.txt   \n",
       "A02            ArrayExpress   P-MTAB-70207  NSCLC_miRNA_dis_set.txt   \n",
       "A03            ArrayExpress   P-MTAB-70207  NSCLC_miRNA_dis_set.txt   \n",
       "A04            ArrayExpress   P-MTAB-70207  NSCLC_miRNA_dis_set.txt   \n",
       "A05            ArrayExpress   P-MTAB-70207  NSCLC_miRNA_dis_set.txt   \n",
       "\n",
       "                   Comment [ArrayExpress Data Matrix FTP file] Protocol REF.5  \\\n",
       "Source Name                                                                     \n",
       "A01          ftp://ftp.ebi.ac.uk/pub/databases/microarray/d...   P-MTAB-70208   \n",
       "A02          ftp://ftp.ebi.ac.uk/pub/databases/microarray/d...   P-MTAB-70208   \n",
       "A03          ftp://ftp.ebi.ac.uk/pub/databases/microarray/d...   P-MTAB-70208   \n",
       "A04          ftp://ftp.ebi.ac.uk/pub/databases/microarray/d...   P-MTAB-70208   \n",
       "A05          ftp://ftp.ebi.ac.uk/pub/databases/microarray/d...   P-MTAB-70208   \n",
       "\n",
       "                       Derived Array Data File  \\\n",
       "Source Name                                      \n",
       "A01          NSCLC_miRNA_dis_normalized_Cq.txt   \n",
       "A02          NSCLC_miRNA_dis_normalized_Cq.txt   \n",
       "A03          NSCLC_miRNA_dis_normalized_Cq.txt   \n",
       "A04          NSCLC_miRNA_dis_normalized_Cq.txt   \n",
       "A05          NSCLC_miRNA_dis_normalized_Cq.txt   \n",
       "\n",
       "                       Comment [Derived ArrayExpress FTP file]  \\\n",
       "Source Name                                                      \n",
       "A01          ftp://ftp.ebi.ac.uk/pub/databases/microarray/d...   \n",
       "A02          ftp://ftp.ebi.ac.uk/pub/databases/microarray/d...   \n",
       "A03          ftp://ftp.ebi.ac.uk/pub/databases/microarray/d...   \n",
       "A04          ftp://ftp.ebi.ac.uk/pub/databases/microarray/d...   \n",
       "A05          ftp://ftp.ebi.ac.uk/pub/databases/microarray/d...   \n",
       "\n",
       "            Factor Value[disease]  \n",
       "Source Name                        \n",
       "A01           lung adenocarcinoma  \n",
       "A02           lung adenocarcinoma  \n",
       "A03           lung adenocarcinoma  \n",
       "A04           lung adenocarcinoma  \n",
       "A05           lung adenocarcinoma  \n",
       "\n",
       "[5 rows x 26 columns]"
      ]
     },
     "execution_count": 72,
     "metadata": {},
     "output_type": "execute_result"
    }
   ],
   "source": [
    "metadata.head()"
   ]
  },
  {
   "cell_type": "code",
   "execution_count": 73,
   "id": "fae4a6ee-fb74-4d11-84c0-345e75bb77d2",
   "metadata": {},
   "outputs": [
    {
     "data": {
      "text/html": [
       "<div>\n",
       "<style scoped>\n",
       "    .dataframe tbody tr th:only-of-type {\n",
       "        vertical-align: middle;\n",
       "    }\n",
       "\n",
       "    .dataframe tbody tr th {\n",
       "        vertical-align: top;\n",
       "    }\n",
       "\n",
       "    .dataframe thead th {\n",
       "        text-align: right;\n",
       "    }\n",
       "</style>\n",
       "<table border=\"1\" class=\"dataframe\">\n",
       "  <thead>\n",
       "    <tr style=\"text-align: right;\">\n",
       "      <th></th>\n",
       "      <th>Unnamed: 0</th>\n",
       "      <th>cel-miR-39-3p CP</th>\n",
       "      <th>hsa-let-7a-5p</th>\n",
       "      <th>hsa-let-7b-3p</th>\n",
       "      <th>hsa-let-7b-5p</th>\n",
       "      <th>hsa-let-7c</th>\n",
       "      <th>hsa-let-7d-3p</th>\n",
       "      <th>hsa-let-7d-5p</th>\n",
       "      <th>hsa-let-7e-5p</th>\n",
       "      <th>hsa-let-7f-5p</th>\n",
       "      <th>...</th>\n",
       "      <th>hsa-miR-885-5p</th>\n",
       "      <th>hsa-miR-92a-3p</th>\n",
       "      <th>hsa-miR-92b-3p</th>\n",
       "      <th>hsa-miR-93-3p</th>\n",
       "      <th>hsa-miR-93-5p</th>\n",
       "      <th>hsa-miR-95</th>\n",
       "      <th>hsa-miR-99a-5p</th>\n",
       "      <th>hsa-miR-99b-5p</th>\n",
       "      <th>UniSp3 IPC</th>\n",
       "      <th>UniSp6 CP</th>\n",
       "    </tr>\n",
       "  </thead>\n",
       "  <tbody>\n",
       "    <tr>\n",
       "      <th>0</th>\n",
       "      <td>NaN</td>\n",
       "      <td>107.0</td>\n",
       "      <td>107.000000</td>\n",
       "      <td>107.000000</td>\n",
       "      <td>107.000000</td>\n",
       "      <td>107.000000</td>\n",
       "      <td>107.000000</td>\n",
       "      <td>107.000000</td>\n",
       "      <td>107.000000</td>\n",
       "      <td>107.000000</td>\n",
       "      <td>...</td>\n",
       "      <td>107.000000</td>\n",
       "      <td>107.000000</td>\n",
       "      <td>107.0</td>\n",
       "      <td>107.000000</td>\n",
       "      <td>107.000000</td>\n",
       "      <td>107.000000</td>\n",
       "      <td>107.000000</td>\n",
       "      <td>107.000000</td>\n",
       "      <td>107.000000</td>\n",
       "      <td>107.000000</td>\n",
       "    </tr>\n",
       "    <tr>\n",
       "      <th>1</th>\n",
       "      <td>H01</td>\n",
       "      <td>NaN</td>\n",
       "      <td>28.758668</td>\n",
       "      <td>34.982437</td>\n",
       "      <td>28.984358</td>\n",
       "      <td>33.021168</td>\n",
       "      <td>33.031645</td>\n",
       "      <td>32.134888</td>\n",
       "      <td>33.872718</td>\n",
       "      <td>31.636085</td>\n",
       "      <td>...</td>\n",
       "      <td>NaN</td>\n",
       "      <td>28.593853</td>\n",
       "      <td>NaN</td>\n",
       "      <td>37.119241</td>\n",
       "      <td>30.343426</td>\n",
       "      <td>NaN</td>\n",
       "      <td>32.538680</td>\n",
       "      <td>34.652577</td>\n",
       "      <td>21.179529</td>\n",
       "      <td>20.609685</td>\n",
       "    </tr>\n",
       "    <tr>\n",
       "      <th>2</th>\n",
       "      <td>S03</td>\n",
       "      <td>NaN</td>\n",
       "      <td>29.712003</td>\n",
       "      <td>36.534820</td>\n",
       "      <td>30.825836</td>\n",
       "      <td>33.290056</td>\n",
       "      <td>32.817465</td>\n",
       "      <td>32.539219</td>\n",
       "      <td>34.332494</td>\n",
       "      <td>32.621527</td>\n",
       "      <td>...</td>\n",
       "      <td>NaN</td>\n",
       "      <td>28.461714</td>\n",
       "      <td>NaN</td>\n",
       "      <td>NaN</td>\n",
       "      <td>30.262072</td>\n",
       "      <td>35.938857</td>\n",
       "      <td>31.901907</td>\n",
       "      <td>33.866242</td>\n",
       "      <td>21.093227</td>\n",
       "      <td>20.317635</td>\n",
       "    </tr>\n",
       "    <tr>\n",
       "      <th>3</th>\n",
       "      <td>S12</td>\n",
       "      <td>NaN</td>\n",
       "      <td>29.991424</td>\n",
       "      <td>32.970275</td>\n",
       "      <td>31.918557</td>\n",
       "      <td>33.476899</td>\n",
       "      <td>31.122068</td>\n",
       "      <td>32.842620</td>\n",
       "      <td>35.439817</td>\n",
       "      <td>32.170137</td>\n",
       "      <td>...</td>\n",
       "      <td>34.214609</td>\n",
       "      <td>26.554790</td>\n",
       "      <td>NaN</td>\n",
       "      <td>33.643150</td>\n",
       "      <td>27.108517</td>\n",
       "      <td>34.208271</td>\n",
       "      <td>31.094495</td>\n",
       "      <td>33.481884</td>\n",
       "      <td>21.196356</td>\n",
       "      <td>20.282360</td>\n",
       "    </tr>\n",
       "    <tr>\n",
       "      <th>4</th>\n",
       "      <td>A05</td>\n",
       "      <td>NaN</td>\n",
       "      <td>28.978809</td>\n",
       "      <td>36.295561</td>\n",
       "      <td>30.336321</td>\n",
       "      <td>32.794001</td>\n",
       "      <td>32.324980</td>\n",
       "      <td>32.813790</td>\n",
       "      <td>33.523878</td>\n",
       "      <td>30.966500</td>\n",
       "      <td>...</td>\n",
       "      <td>35.877971</td>\n",
       "      <td>28.043598</td>\n",
       "      <td>NaN</td>\n",
       "      <td>35.501765</td>\n",
       "      <td>28.781016</td>\n",
       "      <td>34.825218</td>\n",
       "      <td>32.034844</td>\n",
       "      <td>33.841013</td>\n",
       "      <td>20.977626</td>\n",
       "      <td>20.315291</td>\n",
       "    </tr>\n",
       "  </tbody>\n",
       "</table>\n",
       "<p>5 rows × 183 columns</p>\n",
       "</div>"
      ],
      "text/plain": [
       "  Unnamed: 0  cel-miR-39-3p CP  hsa-let-7a-5p  hsa-let-7b-3p  hsa-let-7b-5p  \\\n",
       "0        NaN             107.0     107.000000     107.000000     107.000000   \n",
       "1        H01               NaN      28.758668      34.982437      28.984358   \n",
       "2        S03               NaN      29.712003      36.534820      30.825836   \n",
       "3        S12               NaN      29.991424      32.970275      31.918557   \n",
       "4        A05               NaN      28.978809      36.295561      30.336321   \n",
       "\n",
       "   hsa-let-7c  hsa-let-7d-3p  hsa-let-7d-5p  hsa-let-7e-5p  hsa-let-7f-5p  \\\n",
       "0  107.000000     107.000000     107.000000     107.000000     107.000000   \n",
       "1   33.021168      33.031645      32.134888      33.872718      31.636085   \n",
       "2   33.290056      32.817465      32.539219      34.332494      32.621527   \n",
       "3   33.476899      31.122068      32.842620      35.439817      32.170137   \n",
       "4   32.794001      32.324980      32.813790      33.523878      30.966500   \n",
       "\n",
       "   ...  hsa-miR-885-5p  hsa-miR-92a-3p  hsa-miR-92b-3p  hsa-miR-93-3p  \\\n",
       "0  ...      107.000000      107.000000           107.0     107.000000   \n",
       "1  ...             NaN       28.593853             NaN      37.119241   \n",
       "2  ...             NaN       28.461714             NaN            NaN   \n",
       "3  ...       34.214609       26.554790             NaN      33.643150   \n",
       "4  ...       35.877971       28.043598             NaN      35.501765   \n",
       "\n",
       "   hsa-miR-93-5p  hsa-miR-95  hsa-miR-99a-5p  hsa-miR-99b-5p  UniSp3 IPC  \\\n",
       "0     107.000000  107.000000      107.000000      107.000000  107.000000   \n",
       "1      30.343426         NaN       32.538680       34.652577   21.179529   \n",
       "2      30.262072   35.938857       31.901907       33.866242   21.093227   \n",
       "3      27.108517   34.208271       31.094495       33.481884   21.196356   \n",
       "4      28.781016   34.825218       32.034844       33.841013   20.977626   \n",
       "\n",
       "    UniSp6 CP  \n",
       "0  107.000000  \n",
       "1   20.609685  \n",
       "2   20.317635  \n",
       "3   20.282360  \n",
       "4   20.315291  \n",
       "\n",
       "[5 rows x 183 columns]"
      ]
     },
     "execution_count": 73,
     "metadata": {},
     "output_type": "execute_result"
    }
   ],
   "source": [
    "data = pd.read_csv(\"../Dataset/Zaporozhchenko2018/NSCLC_miRNA_dis_set.txt\", sep=\"\\t\", na_values=[\"ND\"])\n",
    "data.head()"
   ]
  },
  {
   "cell_type": "code",
   "execution_count": 74,
   "id": "b85a961d-84ff-4890-b22e-32f9ce217e0b",
   "metadata": {},
   "outputs": [],
   "source": [
    "data = data[1:-1]"
   ]
  },
  {
   "cell_type": "markdown",
   "id": "f87d5cd3-7c50-4098-b93e-d8644ef0cae8",
   "metadata": {},
   "source": [
    "### Remove outlier"
   ]
  },
  {
   "cell_type": "code",
   "execution_count": 75,
   "id": "ec16dba4-8a9e-4ad4-a833-bc82d16024eb",
   "metadata": {},
   "outputs": [],
   "source": [
    "data = data.drop([5, 15, 21]) #, 14, 19, 21])"
   ]
  },
  {
   "cell_type": "code",
   "execution_count": 76,
   "id": "e173e43f-efc6-480a-a94f-bfd1c91c3694",
   "metadata": {},
   "outputs": [
    {
     "data": {
      "text/html": [
       "<div>\n",
       "<style scoped>\n",
       "    .dataframe tbody tr th:only-of-type {\n",
       "        vertical-align: middle;\n",
       "    }\n",
       "\n",
       "    .dataframe tbody tr th {\n",
       "        vertical-align: top;\n",
       "    }\n",
       "\n",
       "    .dataframe thead th {\n",
       "        text-align: right;\n",
       "    }\n",
       "</style>\n",
       "<table border=\"1\" class=\"dataframe\">\n",
       "  <thead>\n",
       "    <tr style=\"text-align: right;\">\n",
       "      <th></th>\n",
       "      <th>cel-miR-39-3p CP</th>\n",
       "      <th>hsa-let-7a-5p</th>\n",
       "      <th>hsa-let-7b-3p</th>\n",
       "      <th>hsa-let-7b-5p</th>\n",
       "      <th>hsa-let-7c</th>\n",
       "      <th>hsa-let-7d-3p</th>\n",
       "      <th>hsa-let-7d-5p</th>\n",
       "      <th>hsa-let-7e-5p</th>\n",
       "      <th>hsa-let-7f-5p</th>\n",
       "      <th>hsa-let-7g-5p</th>\n",
       "      <th>...</th>\n",
       "      <th>hsa-miR-885-5p</th>\n",
       "      <th>hsa-miR-92a-3p</th>\n",
       "      <th>hsa-miR-92b-3p</th>\n",
       "      <th>hsa-miR-93-3p</th>\n",
       "      <th>hsa-miR-93-5p</th>\n",
       "      <th>hsa-miR-95</th>\n",
       "      <th>hsa-miR-99a-5p</th>\n",
       "      <th>hsa-miR-99b-5p</th>\n",
       "      <th>UniSp3 IPC</th>\n",
       "      <th>UniSp6 CP</th>\n",
       "    </tr>\n",
       "    <tr>\n",
       "      <th>Unnamed: 0</th>\n",
       "      <th></th>\n",
       "      <th></th>\n",
       "      <th></th>\n",
       "      <th></th>\n",
       "      <th></th>\n",
       "      <th></th>\n",
       "      <th></th>\n",
       "      <th></th>\n",
       "      <th></th>\n",
       "      <th></th>\n",
       "      <th></th>\n",
       "      <th></th>\n",
       "      <th></th>\n",
       "      <th></th>\n",
       "      <th></th>\n",
       "      <th></th>\n",
       "      <th></th>\n",
       "      <th></th>\n",
       "      <th></th>\n",
       "      <th></th>\n",
       "      <th></th>\n",
       "    </tr>\n",
       "  </thead>\n",
       "  <tbody>\n",
       "    <tr>\n",
       "      <th>H01</th>\n",
       "      <td>NaN</td>\n",
       "      <td>28.758668</td>\n",
       "      <td>34.982437</td>\n",
       "      <td>28.984358</td>\n",
       "      <td>33.021168</td>\n",
       "      <td>33.031645</td>\n",
       "      <td>32.134888</td>\n",
       "      <td>33.872718</td>\n",
       "      <td>31.636085</td>\n",
       "      <td>29.808525</td>\n",
       "      <td>...</td>\n",
       "      <td>NaN</td>\n",
       "      <td>28.593853</td>\n",
       "      <td>NaN</td>\n",
       "      <td>37.119241</td>\n",
       "      <td>30.343426</td>\n",
       "      <td>NaN</td>\n",
       "      <td>32.538680</td>\n",
       "      <td>34.652577</td>\n",
       "      <td>21.179529</td>\n",
       "      <td>20.609685</td>\n",
       "    </tr>\n",
       "    <tr>\n",
       "      <th>S03</th>\n",
       "      <td>NaN</td>\n",
       "      <td>29.712003</td>\n",
       "      <td>36.534820</td>\n",
       "      <td>30.825836</td>\n",
       "      <td>33.290056</td>\n",
       "      <td>32.817465</td>\n",
       "      <td>32.539219</td>\n",
       "      <td>34.332494</td>\n",
       "      <td>32.621527</td>\n",
       "      <td>30.447355</td>\n",
       "      <td>...</td>\n",
       "      <td>NaN</td>\n",
       "      <td>28.461714</td>\n",
       "      <td>NaN</td>\n",
       "      <td>NaN</td>\n",
       "      <td>30.262072</td>\n",
       "      <td>35.938857</td>\n",
       "      <td>31.901907</td>\n",
       "      <td>33.866242</td>\n",
       "      <td>21.093227</td>\n",
       "      <td>20.317635</td>\n",
       "    </tr>\n",
       "    <tr>\n",
       "      <th>S12</th>\n",
       "      <td>NaN</td>\n",
       "      <td>29.991424</td>\n",
       "      <td>32.970275</td>\n",
       "      <td>31.918557</td>\n",
       "      <td>33.476899</td>\n",
       "      <td>31.122068</td>\n",
       "      <td>32.842620</td>\n",
       "      <td>35.439817</td>\n",
       "      <td>32.170137</td>\n",
       "      <td>28.607708</td>\n",
       "      <td>...</td>\n",
       "      <td>34.214609</td>\n",
       "      <td>26.554790</td>\n",
       "      <td>NaN</td>\n",
       "      <td>33.643150</td>\n",
       "      <td>27.108517</td>\n",
       "      <td>34.208271</td>\n",
       "      <td>31.094495</td>\n",
       "      <td>33.481884</td>\n",
       "      <td>21.196356</td>\n",
       "      <td>20.282360</td>\n",
       "    </tr>\n",
       "    <tr>\n",
       "      <th>A05</th>\n",
       "      <td>NaN</td>\n",
       "      <td>28.978809</td>\n",
       "      <td>36.295561</td>\n",
       "      <td>30.336321</td>\n",
       "      <td>32.794001</td>\n",
       "      <td>32.324980</td>\n",
       "      <td>32.813790</td>\n",
       "      <td>33.523878</td>\n",
       "      <td>30.966500</td>\n",
       "      <td>29.184318</td>\n",
       "      <td>...</td>\n",
       "      <td>35.877971</td>\n",
       "      <td>28.043598</td>\n",
       "      <td>NaN</td>\n",
       "      <td>35.501765</td>\n",
       "      <td>28.781016</td>\n",
       "      <td>34.825218</td>\n",
       "      <td>32.034844</td>\n",
       "      <td>33.841013</td>\n",
       "      <td>20.977626</td>\n",
       "      <td>20.315291</td>\n",
       "    </tr>\n",
       "    <tr>\n",
       "      <th>S11</th>\n",
       "      <td>NaN</td>\n",
       "      <td>28.234000</td>\n",
       "      <td>32.777309</td>\n",
       "      <td>28.548604</td>\n",
       "      <td>32.047543</td>\n",
       "      <td>30.254140</td>\n",
       "      <td>31.525169</td>\n",
       "      <td>32.761623</td>\n",
       "      <td>31.622205</td>\n",
       "      <td>28.077539</td>\n",
       "      <td>...</td>\n",
       "      <td>35.857980</td>\n",
       "      <td>26.668311</td>\n",
       "      <td>NaN</td>\n",
       "      <td>33.467991</td>\n",
       "      <td>25.861484</td>\n",
       "      <td>35.559428</td>\n",
       "      <td>30.991698</td>\n",
       "      <td>32.896229</td>\n",
       "      <td>21.140280</td>\n",
       "      <td>20.891393</td>\n",
       "    </tr>\n",
       "  </tbody>\n",
       "</table>\n",
       "<p>5 rows × 182 columns</p>\n",
       "</div>"
      ],
      "text/plain": [
       "            cel-miR-39-3p CP  hsa-let-7a-5p  hsa-let-7b-3p  hsa-let-7b-5p  \\\n",
       "Unnamed: 0                                                                  \n",
       "H01                      NaN      28.758668      34.982437      28.984358   \n",
       "S03                      NaN      29.712003      36.534820      30.825836   \n",
       "S12                      NaN      29.991424      32.970275      31.918557   \n",
       "A05                      NaN      28.978809      36.295561      30.336321   \n",
       "S11                      NaN      28.234000      32.777309      28.548604   \n",
       "\n",
       "            hsa-let-7c  hsa-let-7d-3p  hsa-let-7d-5p  hsa-let-7e-5p  \\\n",
       "Unnamed: 0                                                            \n",
       "H01          33.021168      33.031645      32.134888      33.872718   \n",
       "S03          33.290056      32.817465      32.539219      34.332494   \n",
       "S12          33.476899      31.122068      32.842620      35.439817   \n",
       "A05          32.794001      32.324980      32.813790      33.523878   \n",
       "S11          32.047543      30.254140      31.525169      32.761623   \n",
       "\n",
       "            hsa-let-7f-5p  hsa-let-7g-5p  ...  hsa-miR-885-5p  hsa-miR-92a-3p  \\\n",
       "Unnamed: 0                                ...                                   \n",
       "H01             31.636085      29.808525  ...             NaN       28.593853   \n",
       "S03             32.621527      30.447355  ...             NaN       28.461714   \n",
       "S12             32.170137      28.607708  ...       34.214609       26.554790   \n",
       "A05             30.966500      29.184318  ...       35.877971       28.043598   \n",
       "S11             31.622205      28.077539  ...       35.857980       26.668311   \n",
       "\n",
       "            hsa-miR-92b-3p  hsa-miR-93-3p  hsa-miR-93-5p  hsa-miR-95  \\\n",
       "Unnamed: 0                                                             \n",
       "H01                    NaN      37.119241      30.343426         NaN   \n",
       "S03                    NaN            NaN      30.262072   35.938857   \n",
       "S12                    NaN      33.643150      27.108517   34.208271   \n",
       "A05                    NaN      35.501765      28.781016   34.825218   \n",
       "S11                    NaN      33.467991      25.861484   35.559428   \n",
       "\n",
       "            hsa-miR-99a-5p  hsa-miR-99b-5p  UniSp3 IPC  UniSp6 CP  \n",
       "Unnamed: 0                                                         \n",
       "H01              32.538680       34.652577   21.179529  20.609685  \n",
       "S03              31.901907       33.866242   21.093227  20.317635  \n",
       "S12              31.094495       33.481884   21.196356  20.282360  \n",
       "A05              32.034844       33.841013   20.977626  20.315291  \n",
       "S11              30.991698       32.896229   21.140280  20.891393  \n",
       "\n",
       "[5 rows x 182 columns]"
      ]
     },
     "execution_count": 76,
     "metadata": {},
     "output_type": "execute_result"
    }
   ],
   "source": [
    "mirnas = data.columns[1:]\n",
    "table = data.set_index(\"Unnamed: 0\")\n",
    "table.head()"
   ]
  },
  {
   "cell_type": "code",
   "execution_count": 77,
   "id": "71bad80f-d869-412b-9588-d583aaa81220",
   "metadata": {},
   "outputs": [
    {
     "data": {
      "text/plain": [
       "10"
      ]
     },
     "execution_count": 77,
     "metadata": {},
     "output_type": "execute_result"
    }
   ],
   "source": [
    "controls = np.array([\"H\" in r for r in data.iloc[:, 0]])\n",
    "sum(controls)"
   ]
  },
  {
   "cell_type": "markdown",
   "id": "85666df7-1ae2-4727-ab57-e208dd960663",
   "metadata": {},
   "source": [
    "### Mean-variance-plot"
   ]
  },
  {
   "cell_type": "code",
   "execution_count": 78,
   "id": "a70a61e2-8c03-48e9-9920-8a8621c74e48",
   "metadata": {},
   "outputs": [],
   "source": [
    "mask = table.isna().sum() <= 33\n",
    "table = table.loc[:, mask]\n",
    "mirnas = mirnas[mask]"
   ]
  },
  {
   "cell_type": "code",
   "execution_count": 79,
   "id": "df74316b-8db2-435f-99c2-307e98b2a1f7",
   "metadata": {},
   "outputs": [],
   "source": [
    "table = table.fillna(table.mean())"
   ]
  },
  {
   "cell_type": "code",
   "execution_count": 80,
   "id": "7854a51f-55f6-4ee0-b76f-057d22ded9ac",
   "metadata": {},
   "outputs": [
    {
     "data": {
      "text/plain": [
       "27"
      ]
     },
     "execution_count": 80,
     "metadata": {},
     "output_type": "execute_result"
    }
   ],
   "source": [
    "table.isna().sum().sum()"
   ]
  },
  {
   "cell_type": "code",
   "execution_count": 81,
   "id": "4f522e28-84f7-4aec-b174-57fd1db62881",
   "metadata": {},
   "outputs": [
    {
     "data": {
      "text/plain": [
       "cel-miR-39-3p CP    36.963466\n",
       "hsa-let-7a-5p       29.236889\n",
       "hsa-let-7b-3p       34.338225\n",
       "hsa-let-7b-5p       30.173750\n",
       "hsa-let-7c          33.032204\n",
       "                      ...    \n",
       "hsa-miR-95          35.291713\n",
       "hsa-miR-99a-5p      31.420887\n",
       "hsa-miR-99b-5p      33.763723\n",
       "UniSp3 IPC          21.257422\n",
       "UniSp6 CP           20.737558\n",
       "Length: 182, dtype: float64"
      ]
     },
     "execution_count": 81,
     "metadata": {},
     "output_type": "execute_result"
    }
   ],
   "source": [
    "np.mean(table)"
   ]
  },
  {
   "cell_type": "code",
   "execution_count": 82,
   "id": "731d5e94-4015-4311-9c57-f5fe3a3a6abc",
   "metadata": {
    "tags": []
   },
   "outputs": [],
   "source": [
    "def get_means_and_variances(table):\n",
    "    return np.mean(table), np.var(table, ddof=1)"
   ]
  },
  {
   "cell_type": "code",
   "execution_count": 83,
   "id": "c27ac64f-ed00-45ae-82ea-59a92282a06d",
   "metadata": {
    "tags": []
   },
   "outputs": [],
   "source": [
    "def mean_variance_plot(table):\n",
    "    means, variances = get_means_and_variances(table)\n",
    "    plt.scatter(means, variances)\n",
    "    plt.xlabel(\"mean\")\n",
    "    plt.ylabel(\"variance\")\n",
    "    plt.plot()"
   ]
  },
  {
   "cell_type": "code",
   "execution_count": 84,
   "id": "644ecfbe-136b-4e8e-b842-2cfcbb90a7af",
   "metadata": {},
   "outputs": [
    {
     "data": {
      "image/png": "[encoded data removed]",
      "text/plain": [
       "<Figure size 432x288 with 1 Axes>"
      ]
     },
     "metadata": {
      "needs_background": "light"
     },
     "output_type": "display_data"
    }
   ],
   "source": [
    "mean_variance_plot(table)"
   ]
  },
  {
   "cell_type": "code",
   "execution_count": 85,
   "id": "47f3a1ce-6200-496b-8d88-898d3f093616",
   "metadata": {},
   "outputs": [],
   "source": [
    "mask = table.mean() > 33\n",
    "table = table.loc[:, mask]\n",
    "mirnas = mirnas[mask]"
   ]
  },
  {
   "cell_type": "markdown",
   "id": "c0a94800-0d51-452f-99a6-4d1fb10aaa2b",
   "metadata": {},
   "source": [
    "### Log transformation"
   ]
  },
  {
   "cell_type": "code",
   "execution_count": 86,
   "id": "0fb08e7c-5ec3-4b5b-adb3-1b435cd19e1f",
   "metadata": {},
   "outputs": [],
   "source": [
    "log_table = table #np.log2(table)"
   ]
  },
  {
   "cell_type": "code",
   "execution_count": 87,
   "id": "1f95d611-6706-4296-9547-885f546e61d8",
   "metadata": {},
   "outputs": [
    {
     "data": {
      "image/png": "[encoded data removed]",
      "text/plain": [
       "<Figure size 432x288 with 1 Axes>"
      ]
     },
     "metadata": {
      "needs_background": "light"
     },
     "output_type": "display_data"
    }
   ],
   "source": [
    "mean_variance_plot(log_table)"
   ]
  },
  {
   "cell_type": "markdown",
   "id": "d3989a55-b863-421b-b43c-364faf896108",
   "metadata": {
    "tags": []
   },
   "source": [
    "### Loess regression"
   ]
  },
  {
   "cell_type": "code",
   "execution_count": 88,
   "id": "e038e352-15a2-4d82-97d6-ee257b69cbda",
   "metadata": {
    "tags": []
   },
   "outputs": [],
   "source": [
    "lowess = LowessRegression(sigma=1, span=0.5)"
   ]
  },
  {
   "cell_type": "code",
   "execution_count": 89,
   "id": "3290a810-4700-49ec-aad2-173a58da158c",
   "metadata": {},
   "outputs": [
    {
     "data": {
      "text/plain": [
       "LowessRegression(span=0.5)"
      ]
     },
     "execution_count": 89,
     "metadata": {},
     "output_type": "execute_result"
    }
   ],
   "source": [
    "means, variances = get_means_and_variances(log_table)\n",
    "lowess.fit(means.to_numpy().reshape(-1,1), variances)"
   ]
  },
  {
   "cell_type": "code",
   "execution_count": 90,
   "id": "63d85600-99cb-4b6b-9274-adc95baf0118",
   "metadata": {},
   "outputs": [],
   "source": [
    "x_axis = np.linspace(30, 40, 100)\n",
    "y_axis = lowess.predict(x_axis.reshape(-1,1))"
   ]
  },
  {
   "cell_type": "code",
   "execution_count": 91,
   "id": "96c7df5b-76f7-4fb7-b3cf-d6ee734743d6",
   "metadata": {},
   "outputs": [
    {
     "data": {
      "text/plain": [
       "[]"
      ]
     },
     "execution_count": 91,
     "metadata": {},
     "output_type": "execute_result"
    },
    {
     "data": {
      "image/png": "[encoded data removed]",
      "text/plain": [
       "<Figure size 432x288 with 1 Axes>"
      ]
     },
     "metadata": {
      "needs_background": "light"
     },
     "output_type": "display_data"
    }
   ],
   "source": [
    "plt.scatter(means, variances, color=\"b\")\n",
    "plt.scatter(x_axis, y_axis, color=\"y\")\n",
    "plt.xlabel(\"mean\")\n",
    "plt.ylabel(\"variance\")\n",
    "plt.legend([\"Sample points\", \"Lowess regression\"])\n",
    "plt.plot()"
   ]
  },
  {
   "cell_type": "markdown",
   "id": "254881cd-7473-40f8-80f5-03c82134a900",
   "metadata": {},
   "source": [
    "### Lowess normalization"
   ]
  },
  {
   "cell_type": "code",
   "execution_count": 92,
   "id": "0c18d1bb-9d55-477c-858e-ffe47a1320a2",
   "metadata": {},
   "outputs": [],
   "source": [
    "adj_var = lowess.predict(means.to_numpy().reshape(-1, 1))"
   ]
  },
  {
   "cell_type": "code",
   "execution_count": 93,
   "id": "a6dc597e-f60f-4122-b8f9-1ec666b88809",
   "metadata": {
    "tags": []
   },
   "outputs": [],
   "source": [
    "log_table /= np.sqrt(adj_var)"
   ]
  },
  {
   "cell_type": "code",
   "execution_count": 94,
   "id": "ab28104d-e0e4-403e-87fc-6083502700a1",
   "metadata": {},
   "outputs": [
    {
     "data": {
      "image/png": "[encoded data removed]",
      "text/plain": [
       "<Figure size 432x288 with 1 Axes>"
      ]
     },
     "metadata": {
      "needs_background": "light"
     },
     "output_type": "display_data"
    }
   ],
   "source": [
    "mean_variance_plot(log_table)"
   ]
  },
  {
   "cell_type": "markdown",
   "id": "7baa3727-39a5-4d4f-8d8b-6563d678e948",
   "metadata": {},
   "source": [
    "### Standardizing"
   ]
  },
  {
   "cell_type": "code",
   "execution_count": 95,
   "id": "09895c2d-c449-41d3-a712-23d1773b0b80",
   "metadata": {
    "tags": []
   },
   "outputs": [],
   "source": [
    "norm_log_table = log_table - np.mean(log_table)"
   ]
  },
  {
   "cell_type": "code",
   "execution_count": 96,
   "id": "4bd66043-cf0d-45a5-abaa-6e61bd2e9e7f",
   "metadata": {},
   "outputs": [],
   "source": [
    "norm_log_table /= np.sqrt(np.mean(np.var(norm_log_table, ddof=1)))"
   ]
  },
  {
   "cell_type": "code",
   "execution_count": 97,
   "id": "293d07cb-4764-499a-b62e-427a548c562e",
   "metadata": {},
   "outputs": [
    {
     "data": {
      "image/png": "[encoded data removed]",
      "text/plain": [
       "<Figure size 432x288 with 1 Axes>"
      ]
     },
     "metadata": {
      "needs_background": "light"
     },
     "output_type": "display_data"
    }
   ],
   "source": [
    "mean_variance_plot(norm_log_table)"
   ]
  },
  {
   "cell_type": "markdown",
   "id": "8db6f133-3ad3-4876-825c-6c8ad02e50b3",
   "metadata": {},
   "source": [
    "### PCA"
   ]
  },
  {
   "cell_type": "code",
   "execution_count": 98,
   "id": "5f39b939-c9f8-4872-b791-d4f9300ce594",
   "metadata": {
    "tags": []
   },
   "outputs": [],
   "source": [
    "pca = decomposition.PCA(n_components=10)"
   ]
  },
  {
   "cell_type": "code",
   "execution_count": 99,
   "id": "78633132-922d-4158-92f2-2274b4df8445",
   "metadata": {},
   "outputs": [
    {
     "data": {
      "text/plain": [
       "PCA(n_components=10)"
      ]
     },
     "execution_count": 99,
     "metadata": {},
     "output_type": "execute_result"
    }
   ],
   "source": [
    "pca.fit(norm_log_table)"
   ]
  },
  {
   "cell_type": "code",
   "execution_count": 100,
   "id": "03817545-f6f6-4880-8558-14745b180346",
   "metadata": {},
   "outputs": [
    {
     "data": {
      "text/plain": [
       "array([0.35479365, 0.06039001, 0.05579258, 0.04999991, 0.04632891,\n",
       "       0.04138285, 0.03827952, 0.0377431 , 0.03530791, 0.02913338])"
      ]
     },
     "execution_count": 100,
     "metadata": {},
     "output_type": "execute_result"
    }
   ],
   "source": [
    "pca.explained_variance_ratio_"
   ]
  },
  {
   "cell_type": "code",
   "execution_count": 101,
   "id": "ac13e688-5213-440f-a55d-3fb136d1666d",
   "metadata": {
    "tags": []
   },
   "outputs": [],
   "source": [
    "components = pca.transform(norm_log_table)"
   ]
  },
  {
   "cell_type": "code",
   "execution_count": 102,
   "id": "6128b38c-2c28-44dc-a944-df9b0cec435a",
   "metadata": {},
   "outputs": [
    {
     "data": {
      "text/plain": [
       "array([[-5.75946241e+00,  7.10004020e-01,  1.56188430e+00,\n",
       "        -2.19774182e+00,  1.53855599e+00,  9.85365251e-02,\n",
       "         4.26443622e-01, -1.73092747e+00, -1.70178545e+00,\n",
       "        -1.05482791e-02],\n",
       "       [-3.47219996e+00,  3.67168269e+00, -9.20837934e-01,\n",
       "         1.20244856e+00, -2.34288836e+00, -2.49296870e+00,\n",
       "         9.55581634e-01, -1.39041193e+00, -1.25659948e-01,\n",
       "        -1.31592230e+00],\n",
       "       [ 6.14143772e+00,  1.14675407e+00,  3.53894176e-01,\n",
       "         2.07613729e+00, -8.93233684e-01, -3.23980787e+00,\n",
       "         3.05776193e-01,  3.13611856e+00,  1.69144049e+00,\n",
       "         1.42528853e-01],\n",
       "       [-2.12353714e+00, -1.80141262e+00,  3.11700088e+00,\n",
       "        -1.95047533e+00,  3.14356765e+00,  8.83939924e-01,\n",
       "         5.19254122e+00, -2.25383724e+00,  8.53845327e-01,\n",
       "        -7.02426445e-01],\n",
       "       [ 7.72165163e+00,  2.43950515e+00,  8.44173040e-02,\n",
       "        -7.01059379e-01,  1.64527382e+00, -2.86621857e-01,\n",
       "         8.78540605e-01,  2.10467917e+00, -1.78539373e+00,\n",
       "        -8.53780304e-01],\n",
       "       [ 7.40045365e+00, -1.12091325e-01, -1.54882210e+00,\n",
       "        -1.60356690e+00, -4.10021051e-01,  5.10810529e+00,\n",
       "        -1.73288044e+00, -1.39172825e-01,  4.91705362e+00,\n",
       "         9.54899837e-01],\n",
       "       [ 3.91807361e+00, -7.72004641e-01,  6.02078506e+00,\n",
       "         2.70695067e+00, -3.51267122e+00,  7.64618039e-01,\n",
       "        -1.18823252e+00, -1.21691330e+00, -1.90505639e+00,\n",
       "        -8.98474567e-01],\n",
       "       [-5.71281764e+00, -1.76170066e+00, -4.98825427e-01,\n",
       "        -8.46324478e-01, -1.88932495e+00, -9.52299841e-01,\n",
       "         1.68399329e+00,  1.29577912e+00,  5.29291527e-01,\n",
       "         5.09740230e-01],\n",
       "       [ 8.24571617e+00, -7.11364551e-01, -1.12129155e+00,\n",
       "         4.22301216e+00,  2.96482439e-01,  1.84814352e+00,\n",
       "         8.13826932e-01, -1.63714652e+00, -2.58404739e+00,\n",
       "         1.95579587e+00],\n",
       "       [ 1.05715568e-01, -1.98485695e+00, -1.02767502e-01,\n",
       "        -3.11288762e-01, -3.30085108e-01,  2.22423450e+00,\n",
       "        -2.38853100e+00,  2.74391998e-01, -3.32338218e+00,\n",
       "        -1.08011537e+00],\n",
       "       [-1.98576409e+00, -4.28242146e+00, -3.47130588e+00,\n",
       "         3.50020991e+00, -5.01196694e-02,  6.11347396e-01,\n",
       "        -1.52645435e+00, -1.07552873e+00,  3.54221511e-01,\n",
       "        -1.02849246e-01],\n",
       "       [-5.64307931e+00,  1.06127643e-02,  2.80559348e-01,\n",
       "        -1.37802049e+00, -8.85433470e-01,  2.43911681e-01,\n",
       "         1.98643464e-01,  2.89531191e+00,  1.08294311e+00,\n",
       "        -1.84818089e-02],\n",
       "       [-5.46709275e+00, -3.48698852e-01,  4.91291499e+00,\n",
       "         3.40177692e+00,  3.92001677e+00,  7.26875102e-01,\n",
       "        -1.92153823e+00,  2.12344512e+00,  1.33529778e+00,\n",
       "         1.31356672e+00],\n",
       "       [ 7.79294258e+00, -9.13465966e-01, -2.06209664e+00,\n",
       "        -9.13269771e-01,  1.86252226e+00, -4.57792537e+00,\n",
       "        -1.20790517e+00, -8.96329771e-01, -1.25246855e+00,\n",
       "         5.77400878e-01],\n",
       "       [-8.83610597e+00,  5.39695302e+00, -5.56247719e-01,\n",
       "         1.67980445e+00,  2.67615814e+00, -8.21993688e-01,\n",
       "        -2.54067969e+00, -1.17010348e+00,  1.97448159e+00,\n",
       "        -1.41648380e+00],\n",
       "       [-5.55343852e-03, -5.10183955e-01,  9.76193803e-01,\n",
       "        -3.60764788e+00, -2.36896602e+00, -3.81437166e-01,\n",
       "        -4.38584764e-01, -5.44466931e-01,  9.03408108e-01,\n",
       "         1.30829285e+00],\n",
       "       [-2.73283436e+00, -2.65027165e-01,  7.75319515e-01,\n",
       "         1.03281728e+00,  3.24480080e-01, -4.15581232e-01,\n",
       "         6.75292951e-01,  4.03148985e+00, -6.62674465e-01,\n",
       "         2.00149277e+00],\n",
       "       [ 2.92921310e+00,  3.61793217e+00, -2.18055735e+00,\n",
       "        -4.10380147e-01, -1.69882209e+00, -3.47297410e-01,\n",
       "        -3.79685558e-01, -7.08013159e-01, -1.31771988e-02,\n",
       "         1.90203441e+00],\n",
       "       [-4.61811409e+00, -1.32190619e+00, -1.92135688e+00,\n",
       "        -6.45950199e-01, -1.91206590e+00,  7.77657113e-01,\n",
       "         2.46150134e+00,  2.95022266e+00, -1.55223313e+00,\n",
       "        -1.44830418e+00],\n",
       "       [ 3.23783000e+00, -5.03744568e+00,  9.80282937e-01,\n",
       "        -4.18840816e-02,  5.74950104e-01, -3.67447869e+00,\n",
       "        -8.59436950e-01, -2.12827798e+00,  2.68734184e+00,\n",
       "        -2.54544242e+00],\n",
       "       [-3.26937972e+00,  3.19731289e+00, -8.92180431e-01,\n",
       "         1.09015315e+00, -1.73260820e+00,  1.58751501e+00,\n",
       "         1.04474715e-01, -1.77628152e+00, -3.63362567e-01,\n",
       "        -2.18407166e+00],\n",
       "       [ 1.02586109e+01,  8.53247954e-01, -1.51400685e+00,\n",
       "        -2.42499312e+00,  4.15297640e+00,  6.17986355e-01,\n",
       "        -2.46464392e-01,  1.22448451e+00, -9.36358580e-01,\n",
       "        -8.66143171e-01],\n",
       "       [-3.77865858e+00,  2.03215026e-01, -4.10320977e-01,\n",
       "        -2.61207534e+00,  1.36388229e+00,  1.61896758e+00,\n",
       "        -1.67716536e+00, -1.34677077e-01, -1.97602432e+00,\n",
       "        -1.98152009e+00],\n",
       "       [-3.89686272e+00, -2.45967719e+00, -3.75082329e+00,\n",
       "         1.71472360e+00, -5.20731528e-01,  8.11968740e-01,\n",
       "         1.08699721e+00,  7.94811926e-01,  1.11411346e+00,\n",
       "        -1.74514688e+00],\n",
       "       [-5.76896760e+00,  1.12420289e-01, -1.79840716e+00,\n",
       "         9.56152895e-01,  1.41501747e+00, -1.99724078e-01,\n",
       "         2.42072393e+00, -2.72163480e+00, -2.74547163e-01,\n",
       "         4.29203441e+00],\n",
       "       [ 9.20426928e+00,  2.09721224e+00,  2.55443606e+00,\n",
       "        -1.50722350e-01, -2.25715338e+00,  7.20948429e-01,\n",
       "         2.36109967e+00, -6.81641816e-01,  1.68533239e+00,\n",
       "        -3.76152860e-01],\n",
       "       [-3.88548449e+00, -1.17459506e+00,  1.13215933e+00,\n",
       "        -3.78878683e+00, -2.10975879e+00, -1.25461930e+00,\n",
       "        -3.45787835e+00, -6.25370285e-01, -6.72599698e-01,\n",
       "         2.58807655e+00]])"
      ]
     },
     "execution_count": 102,
     "metadata": {},
     "output_type": "execute_result"
    }
   ],
   "source": [
    "components"
   ]
  },
  {
   "cell_type": "code",
   "execution_count": 103,
   "id": "35f87bb8-ceda-4b8a-a5a8-553fe66ee84c",
   "metadata": {},
   "outputs": [
    {
     "data": {
      "image/png": "[encoded data removed]",
      "text/plain": [
       "<Figure size 576x576 with 1 Axes>"
      ]
     },
     "metadata": {
      "needs_background": "light"
     },
     "output_type": "display_data"
    }
   ],
   "source": [
    "fig = plt.figure(figsize = (8,8))\n",
    "ax = fig.add_subplot(1,1,1)\n",
    "\n",
    "ax.set_xlabel('Principal Component 1', fontsize = 15)\n",
    "ax.set_ylabel('Principal Component 2', fontsize = 15)\n",
    "ax.set_title('2 component PCA', fontsize = 20)\n",
    "targets = ['Cancer', 'Healthy']\n",
    "colors = ['r', 'g']\n",
    "ax.scatter(components[controls == False, 0], components[controls == False, 1], c = 'r', s = 10)\n",
    "ax.scatter(components[controls == True, 0], components[controls == True, 1], c = 'g', s = 10)\n",
    "ax.legend(targets)\n",
    "ax.grid()"
   ]
  },
  {
   "cell_type": "code",
   "execution_count": 104,
   "id": "bd985990-d8a1-4d91-ab5a-fa1ae571db55",
   "metadata": {},
   "outputs": [
    {
     "data": {
      "text/plain": [
       "(array([], dtype=int64),)"
      ]
     },
     "execution_count": 104,
     "metadata": {},
     "output_type": "execute_result"
    }
   ],
   "source": [
    "np.nonzero(components[:, 1] > 8)"
   ]
  },
  {
   "cell_type": "code",
   "execution_count": 105,
   "id": "e9635074-f5ea-4f31-beb0-2f53888f5e37",
   "metadata": {
    "tags": []
   },
   "outputs": [],
   "source": [
    "components2 = components[components[:,0] < 20, :]\n",
    "controls2 = controls[components[:,0] < 20]"
   ]
  },
  {
   "cell_type": "code",
   "execution_count": 106,
   "id": "8f08733f-620a-4803-907d-55634da7aea4",
   "metadata": {},
   "outputs": [
    {
     "data": {
      "image/png": "[encoded data removed]",
      "text/plain": [
       "<Figure size 576x576 with 1 Axes>"
      ]
     },
     "metadata": {
      "needs_background": "light"
     },
     "output_type": "display_data"
    }
   ],
   "source": [
    "fig = plt.figure(figsize = (8,8))\n",
    "ax = fig.add_subplot(1,1,1)\n",
    "\n",
    "ax.set_xlabel('Principal Component 1', fontsize = 15)\n",
    "ax.set_ylabel('Principal Component 2', fontsize = 15)\n",
    "ax.set_title('2 component PCA', fontsize = 20)\n",
    "targets = ['Cancer', 'Healthy']\n",
    "colors = ['r', 'g']\n",
    "ax.scatter(components2[controls2 == False, 0], components2[controls2 == False, 1], c = 'r', s = 10)\n",
    "ax.scatter(components2[controls2 == True, 0], components2[controls2 == True, 1], c = 'g', s = 10)\n",
    "ax.legend(targets)\n",
    "ax.grid()"
   ]
  },
  {
   "cell_type": "markdown",
   "id": "dc1d1de9-03a0-49de-94e5-b702cdf57e34",
   "metadata": {
    "tags": []
   },
   "source": [
    "### Linear regression adjustments"
   ]
  },
  {
   "cell_type": "code",
   "execution_count": 107,
   "id": "cdc53954-dec8-4258-bda7-7fdd272d3459",
   "metadata": {},
   "outputs": [
    {
     "data": {
      "text/plain": [
       "Index(['Characteristics[organism]', 'Characteristics[disease]',\n",
       "       'Characteristics[tumor grading]', 'Characteristics[age]',\n",
       "       'Unit[time unit]', 'Characteristics[sex]',\n",
       "       'Characteristics[organism part]', 'Material Type', 'Protocol REF',\n",
       "       'Protocol REF.1', 'Extract Name', 'Protocol REF.2',\n",
       "       'Labeled Extract Name', 'Label', 'Protocol REF.3', 'Assay Name',\n",
       "       'Technology Type', 'Array Design REF', 'Term Source REF',\n",
       "       'Protocol REF.4', 'Array Data Matrix File',\n",
       "       'Comment [ArrayExpress Data Matrix FTP file]', 'Protocol REF.5',\n",
       "       'Derived Array Data File', 'Comment [Derived ArrayExpress FTP file]',\n",
       "       'Factor Value[disease]'],\n",
       "      dtype='object')"
      ]
     },
     "execution_count": 107,
     "metadata": {},
     "output_type": "execute_result"
    }
   ],
   "source": [
    "metadata.columns"
   ]
  },
  {
   "cell_type": "code",
   "execution_count": 108,
   "id": "7a0eb273-c04f-4ecc-8741-ee5586cb3795",
   "metadata": {},
   "outputs": [],
   "source": [
    "covars = metadata.loc[table.index, [\"Characteristics[age]\", \"Characteristics[sex]\"]]"
   ]
  },
  {
   "cell_type": "code",
   "execution_count": 109,
   "id": "81fec38d-6e34-442e-8e7f-35c4fdf88abb",
   "metadata": {},
   "outputs": [],
   "source": [
    "covars.columns = [\"age\", \"sex\"]"
   ]
  },
  {
   "cell_type": "code",
   "execution_count": 110,
   "id": "c5fdc6d1-2856-488c-a521-f9c7fb38920b",
   "metadata": {},
   "outputs": [],
   "source": [
    "covars[\"sex\"] = covars[\"sex\"] == \"female\""
   ]
  },
  {
   "cell_type": "code",
   "execution_count": 111,
   "id": "a83d0127-251a-42f5-9a9b-24a377724acf",
   "metadata": {},
   "outputs": [],
   "source": [
    "covars = covars.fillna(covars.mean())"
   ]
  },
  {
   "cell_type": "code",
   "execution_count": 112,
   "id": "1daec1e5-66f0-4c4d-96c9-ec20b0df5b1e",
   "metadata": {},
   "outputs": [
    {
     "data": {
      "text/plain": [
       "LinearRegression()"
      ]
     },
     "execution_count": 112,
     "metadata": {},
     "output_type": "execute_result"
    }
   ],
   "source": [
    "linreg = LinearRegression()\n",
    "linreg.fit(covars, norm_log_table)"
   ]
  },
  {
   "cell_type": "code",
   "execution_count": 113,
   "id": "231d5526-fe2d-403c-8666-51b4f4119365",
   "metadata": {},
   "outputs": [],
   "source": [
    "adj_norm_log_table = norm_log_table - linreg.predict(covars)"
   ]
  },
  {
   "cell_type": "markdown",
   "id": "63758622-52b7-48c0-bc8a-14d1dd086ebc",
   "metadata": {
    "tags": []
   },
   "source": [
    "# PCA"
   ]
  },
  {
   "cell_type": "code",
   "execution_count": 114,
   "id": "283c38ac-b150-4e86-8026-81822debb469",
   "metadata": {
    "tags": []
   },
   "outputs": [],
   "source": [
    "pca = decomposition.PCA(n_components=2)"
   ]
  },
  {
   "cell_type": "code",
   "execution_count": 115,
   "id": "a68710f4-b37e-46ac-b66b-164abc997119",
   "metadata": {},
   "outputs": [
    {
     "data": {
      "text/plain": [
       "PCA(n_components=2)"
      ]
     },
     "execution_count": 115,
     "metadata": {},
     "output_type": "execute_result"
    }
   ],
   "source": [
    "pca.fit(adj_norm_log_table)"
   ]
  },
  {
   "cell_type": "code",
   "execution_count": 116,
   "id": "de0de8c0-0624-4baf-b5ff-9a397b1c5dbd",
   "metadata": {
    "tags": []
   },
   "outputs": [],
   "source": [
    "components = pca.transform(adj_norm_log_table)"
   ]
  },
  {
   "cell_type": "code",
   "execution_count": 117,
   "id": "fff3f7f9-4c70-4d6b-88ba-363ad93275d5",
   "metadata": {},
   "outputs": [
    {
     "data": {
      "text/plain": [
       "array([[-6.1237638 , -1.35275314],\n",
       "       [-4.55946157, -1.29344357],\n",
       "       [ 5.74816659, -0.96444191],\n",
       "       [-2.1550242 , -0.91244112],\n",
       "       [ 7.72605719, -2.00872872],\n",
       "       [ 7.60007048,  0.9015958 ],\n",
       "       [ 4.18023575, -3.6410846 ],\n",
       "       [-5.17831247,  1.38065612],\n",
       "       [ 7.53751977,  1.73459734],\n",
       "       [ 0.18171086,  1.34606691],\n",
       "       [-2.22889619,  5.73623592],\n",
       "       [-6.5473056 ,  0.06913455],\n",
       "       [-4.43436046, -3.65443609],\n",
       "       [ 7.67033184,  2.15565516],\n",
       "       [-9.60989194, -3.1380146 ],\n",
       "       [-0.03280486, -0.33762578],\n",
       "       [-0.97512348, -1.17383863],\n",
       "       [ 1.74481381, -0.55772043],\n",
       "       [-4.09601171,  1.98752781],\n",
       "       [ 4.10926577,  2.63775789],\n",
       "       [-3.33348329, -1.48957347],\n",
       "       [ 9.92529395,  0.2697476 ],\n",
       "       [-2.87583815, -0.33002307],\n",
       "       [-3.47114825,  4.31368819],\n",
       "       [-6.45080532,  1.6811235 ],\n",
       "       [ 9.11990508, -3.16572421],\n",
       "       [-3.47113981, -0.19393745]])"
      ]
     },
     "execution_count": 117,
     "metadata": {},
     "output_type": "execute_result"
    }
   ],
   "source": [
    "components"
   ]
  },
  {
   "cell_type": "code",
   "execution_count": 118,
   "id": "673ff4a8-c658-491a-ac4d-03f3dbca308d",
   "metadata": {},
   "outputs": [
    {
     "data": {
      "image/png": "[encoded data removed]",
      "text/plain": [
       "<Figure size 576x576 with 1 Axes>"
      ]
     },
     "metadata": {
      "needs_background": "light"
     },
     "output_type": "display_data"
    }
   ],
   "source": [
    "fig = plt.figure(figsize = (8,8))\n",
    "ax = fig.add_subplot(1,1,1)\n",
    "\n",
    "ax.set_xlabel('Principal Component 1', fontsize = 15)\n",
    "ax.set_ylabel('Principal Component 2', fontsize = 15)\n",
    "ax.set_title('2 component PCA', fontsize = 20)\n",
    "targets = ['Cancer', 'Healthy']\n",
    "colors = ['r', 'g']\n",
    "ax.scatter(components[controls == False, 0], components[controls == False, 1], c = 'r', s = 10)\n",
    "ax.scatter(components[controls == True, 0], components[controls == True, 1], c = 'g', s = 10)\n",
    "ax.legend(targets)\n",
    "ax.grid()"
   ]
  },
  {
   "cell_type": "markdown",
   "id": "7f0b6bb0-8b3e-4c2f-9929-7ee80742d732",
   "metadata": {},
   "source": [
    "### Logistic Regression"
   ]
  },
  {
   "cell_type": "code",
   "execution_count": 119,
   "id": "3da57f11-5df2-4aa1-8101-d9a04b61d872",
   "metadata": {},
   "outputs": [],
   "source": [
    "X_train, X_test, y_train, y_test = train_test_split(adj_norm_log_table, controls, test_size=0.33, random_state=42)"
   ]
  },
  {
   "cell_type": "code",
   "execution_count": 120,
   "id": "ddababa1-7393-40a6-9d34-3cf783c569da",
   "metadata": {},
   "outputs": [
    {
     "data": {
      "text/plain": [
       "LogisticRegression(max_iter=2000)"
      ]
     },
     "execution_count": 120,
     "metadata": {},
     "output_type": "execute_result"
    }
   ],
   "source": [
    "model = LogisticRegression(max_iter=2000)\n",
    "model.fit(X_train, y_train)"
   ]
  },
  {
   "cell_type": "code",
   "execution_count": 121,
   "id": "01141a63-649b-4ac4-92ca-a3e2dc3dbd52",
   "metadata": {},
   "outputs": [
    {
     "name": "stderr",
     "output_type": "stream",
     "text": [
      "C:\\Users\\Ole Fredrik\\AppData\\Local\\Programs\\Python\\Python39\\lib\\site-packages\\sklearn\\utils\\deprecation.py:87: FutureWarning: Function plot_roc_curve is deprecated; Function `plot_roc_curve` is deprecated in 1.0 and will be removed in 1.2. Use one of the class methods: RocCurveDisplay.from_predictions or RocCurveDisplay.from_estimator.\n",
      "  warnings.warn(msg, category=FutureWarning)\n"
     ]
    },
    {
     "data": {
      "text/plain": [
       "<sklearn.metrics._plot.roc_curve.RocCurveDisplay at 0x14d5d4805b0>"
      ]
     },
     "execution_count": 121,
     "metadata": {},
     "output_type": "execute_result"
    },
    {
     "data": {
      "image/png": "[encoded data removed]",
      "text/plain": [
       "<Figure size 432x288 with 1 Axes>"
      ]
     },
     "metadata": {
      "needs_background": "light"
     },
     "output_type": "display_data"
    }
   ],
   "source": [
    "plot_roc_curve(model, X_test, y_test)"
   ]
  },
  {
   "cell_type": "markdown",
   "id": "8be03e6c-5a10-4657-8343-475d960b2cda",
   "metadata": {
    "jupyter": {
     "outputs_hidden": true
    },
    "tags": []
   },
   "source": [
    "### XGBoost"
   ]
  },
  {
   "cell_type": "code",
   "execution_count": 122,
   "id": "da3c9662-1599-40d9-9877-7534e3579f1c",
   "metadata": {},
   "outputs": [],
   "source": [
    "X_train, X_test, y_train, y_test = train_test_split(norm_log_table, controls, test_size=0.33, random_state=42)"
   ]
  },
  {
   "cell_type": "code",
   "execution_count": 123,
   "id": "c36770cb-4207-49fa-b544-267ccb4f35fe",
   "metadata": {},
   "outputs": [
    {
     "name": "stdout",
     "output_type": "stream",
     "text": [
      "[16:13:32] WARNING: C:/Users/Administrator/workspace/xgboost-win64_release_1.4.0/src/learner.cc:1095: Starting in XGBoost 1.3.0, the default evaluation metric used with the objective 'binary:logistic' was changed from 'error' to 'logloss'. Explicitly set eval_metric if you'd like to restore the old behavior.\n"
     ]
    },
    {
     "data": {
      "text/plain": [
       "XGBClassifier(base_score=0.5, booster='gbtree', colsample_bylevel=1,\n",
       "              colsample_bynode=1, colsample_bytree=1, gamma=0, gpu_id=-1,\n",
       "              importance_type='gain', interaction_constraints='',\n",
       "              learning_rate=0.300000012, max_delta_step=0, max_depth=6,\n",
       "              min_child_weight=1, missing=nan, monotone_constraints='()',\n",
       "              n_estimators=100, n_jobs=4, num_parallel_tree=1, random_state=0,\n",
       "              reg_alpha=0, reg_lambda=1, scale_pos_weight=1, subsample=1,\n",
       "              tree_method='exact', use_label_encoder=False,\n",
       "              validate_parameters=1, verbosity=None)"
      ]
     },
     "execution_count": 123,
     "metadata": {},
     "output_type": "execute_result"
    }
   ],
   "source": [
    "model = XGBClassifier(use_label_encoder=False)\n",
    "model.fit(X_train, y_train)"
   ]
  },
  {
   "cell_type": "code",
   "execution_count": 124,
   "id": "67d673c3-3197-4ab7-8954-20c1bac56965",
   "metadata": {},
   "outputs": [
    {
     "name": "stderr",
     "output_type": "stream",
     "text": [
      "C:\\Users\\Ole Fredrik\\AppData\\Local\\Programs\\Python\\Python39\\lib\\site-packages\\sklearn\\utils\\deprecation.py:87: FutureWarning: Function plot_roc_curve is deprecated; Function `plot_roc_curve` is deprecated in 1.0 and will be removed in 1.2. Use one of the class methods: RocCurveDisplay.from_predictions or RocCurveDisplay.from_estimator.\n",
      "  warnings.warn(msg, category=FutureWarning)\n"
     ]
    },
    {
     "data": {
      "text/plain": [
       "<sklearn.metrics._plot.roc_curve.RocCurveDisplay at 0x14d5d4fbac0>"
      ]
     },
     "execution_count": 124,
     "metadata": {},
     "output_type": "execute_result"
    },
    {
     "data": {
      "image/png": "[encoded data removed]",
      "text/plain": [
       "<Figure size 432x288 with 1 Axes>"
      ]
     },
     "metadata": {
      "needs_background": "light"
     },
     "output_type": "display_data"
    }
   ],
   "source": [
    "plot_roc_curve(model, X_test, y_test)"
   ]
  },
  {
   "cell_type": "markdown",
   "id": "2b4924a3-b407-4117-b791-b19d0163dc59",
   "metadata": {},
   "source": [
    "### Exported data"
   ]
  },
  {
   "cell_type": "code",
   "execution_count": 125,
   "id": "a0dbc37a-60e8-4892-b8d3-5ecc598ea9f6",
   "metadata": {},
   "outputs": [
    {
     "data": {
      "text/plain": [
       "Index(['cel-miR-39-3p CP', 'hsa-let-7b-3p', 'hsa-let-7c', 'hsa-let-7e-5p',\n",
       "       'hsa-let-7i-3p', 'hsa-miR-1', 'hsa-miR-106b-3p', 'hsa-miR-10a-5p',\n",
       "       'hsa-miR-127-3p', 'hsa-miR-130b-3p'],\n",
       "      dtype='object')"
      ]
     },
     "execution_count": 125,
     "metadata": {},
     "output_type": "execute_result"
    }
   ],
   "source": [
    "mirnas[:10]"
   ]
  },
  {
   "cell_type": "code",
   "execution_count": 126,
   "id": "bd0e46ac-c45e-404c-b326-2ab0cacc7e0b",
   "metadata": {},
   "outputs": [],
   "source": [
    "from Scripts import converters"
   ]
  },
  {
   "cell_type": "code",
   "execution_count": 127,
   "id": "386985f7-a620-4a54-91f2-58175e92df7c",
   "metadata": {},
   "outputs": [],
   "source": [
    "sequences = converters.canonical_to_seq(mirnas, True)"
   ]
  },
  {
   "cell_type": "code",
   "execution_count": 128,
   "id": "f0035db2-38aa-4d4c-9aeb-2af99f52b0a6",
   "metadata": {},
   "outputs": [
    {
     "data": {
      "text/plain": [
       "1"
      ]
     },
     "execution_count": 128,
     "metadata": {},
     "output_type": "execute_result"
    }
   ],
   "source": [
    "sequences.count(None)"
   ]
  },
  {
   "cell_type": "code",
   "execution_count": 129,
   "id": "ae771792-8b76-468c-afe7-7b86867c1286",
   "metadata": {},
   "outputs": [
    {
     "data": {
      "text/html": [
       "<div>\n",
       "<style scoped>\n",
       "    .dataframe tbody tr th:only-of-type {\n",
       "        vertical-align: middle;\n",
       "    }\n",
       "\n",
       "    .dataframe tbody tr th {\n",
       "        vertical-align: top;\n",
       "    }\n",
       "\n",
       "    .dataframe thead th {\n",
       "        text-align: right;\n",
       "    }\n",
       "</style>\n",
       "<table border=\"1\" class=\"dataframe\">\n",
       "  <thead>\n",
       "    <tr style=\"text-align: right;\">\n",
       "      <th></th>\n",
       "      <th>hsa-let-7b-3p</th>\n",
       "      <th>hsa-let-7c</th>\n",
       "      <th>hsa-let-7e-5p</th>\n",
       "      <th>hsa-let-7i-3p</th>\n",
       "      <th>hsa-miR-1</th>\n",
       "      <th>hsa-miR-106b-3p</th>\n",
       "      <th>hsa-miR-10a-5p</th>\n",
       "      <th>hsa-miR-127-3p</th>\n",
       "      <th>hsa-miR-130b-3p</th>\n",
       "      <th>hsa-miR-132-3p</th>\n",
       "      <th>...</th>\n",
       "      <th>hsa-miR-551b-3p</th>\n",
       "      <th>hsa-miR-574-3p</th>\n",
       "      <th>hsa-miR-584-5p</th>\n",
       "      <th>hsa-miR-629-5p</th>\n",
       "      <th>hsa-miR-766-3p</th>\n",
       "      <th>hsa-miR-885-5p</th>\n",
       "      <th>hsa-miR-92b-3p</th>\n",
       "      <th>hsa-miR-93-3p</th>\n",
       "      <th>hsa-miR-95</th>\n",
       "      <th>hsa-miR-99b-5p</th>\n",
       "    </tr>\n",
       "    <tr>\n",
       "      <th>Unnamed: 0</th>\n",
       "      <th></th>\n",
       "      <th></th>\n",
       "      <th></th>\n",
       "      <th></th>\n",
       "      <th></th>\n",
       "      <th></th>\n",
       "      <th></th>\n",
       "      <th></th>\n",
       "      <th></th>\n",
       "      <th></th>\n",
       "      <th></th>\n",
       "      <th></th>\n",
       "      <th></th>\n",
       "      <th></th>\n",
       "      <th></th>\n",
       "      <th></th>\n",
       "      <th></th>\n",
       "      <th></th>\n",
       "      <th></th>\n",
       "      <th></th>\n",
       "      <th></th>\n",
       "    </tr>\n",
       "  </thead>\n",
       "  <tbody>\n",
       "    <tr>\n",
       "      <th>H01</th>\n",
       "      <td>-0.335517</td>\n",
       "      <td>-0.216501</td>\n",
       "      <td>0.179410</td>\n",
       "      <td>-0.021457</td>\n",
       "      <td>-0.173116</td>\n",
       "      <td>-0.034293</td>\n",
       "      <td>-0.888279</td>\n",
       "      <td>-0.049908</td>\n",
       "      <td>-1.581544</td>\n",
       "      <td>-1.619172</td>\n",
       "      <td>...</td>\n",
       "      <td>-0.481599</td>\n",
       "      <td>-0.975722</td>\n",
       "      <td>-3.699364</td>\n",
       "      <td>-0.224420</td>\n",
       "      <td>0.063752</td>\n",
       "      <td>-0.097014</td>\n",
       "      <td>-0.004239</td>\n",
       "      <td>-2.371294</td>\n",
       "      <td>0.209908</td>\n",
       "      <td>-0.632380</td>\n",
       "    </tr>\n",
       "    <tr>\n",
       "      <th>S03</th>\n",
       "      <td>-1.229599</td>\n",
       "      <td>-0.844174</td>\n",
       "      <td>-0.060296</td>\n",
       "      <td>0.830755</td>\n",
       "      <td>0.538923</td>\n",
       "      <td>-0.100862</td>\n",
       "      <td>-1.618626</td>\n",
       "      <td>-0.146789</td>\n",
       "      <td>-0.675235</td>\n",
       "      <td>-0.212771</td>\n",
       "      <td>...</td>\n",
       "      <td>-0.114550</td>\n",
       "      <td>-0.176485</td>\n",
       "      <td>-0.292791</td>\n",
       "      <td>-1.493008</td>\n",
       "      <td>0.187505</td>\n",
       "      <td>-0.285335</td>\n",
       "      <td>-0.012468</td>\n",
       "      <td>-0.372692</td>\n",
       "      <td>-0.019043</td>\n",
       "      <td>0.021739</td>\n",
       "    </tr>\n",
       "    <tr>\n",
       "      <th>S12</th>\n",
       "      <td>1.315117</td>\n",
       "      <td>-0.581688</td>\n",
       "      <td>-1.006542</td>\n",
       "      <td>1.829857</td>\n",
       "      <td>-1.070726</td>\n",
       "      <td>-1.040461</td>\n",
       "      <td>1.940818</td>\n",
       "      <td>-0.058716</td>\n",
       "      <td>1.524937</td>\n",
       "      <td>0.612871</td>\n",
       "      <td>...</td>\n",
       "      <td>0.100277</td>\n",
       "      <td>1.362226</td>\n",
       "      <td>1.835363</td>\n",
       "      <td>0.048451</td>\n",
       "      <td>0.075002</td>\n",
       "      <td>1.021954</td>\n",
       "      <td>-0.004987</td>\n",
       "      <td>0.400190</td>\n",
       "      <td>1.312438</td>\n",
       "      <td>0.250556</td>\n",
       "    </tr>\n",
       "    <tr>\n",
       "      <th>A05</th>\n",
       "      <td>-1.520594</td>\n",
       "      <td>0.104185</td>\n",
       "      <td>0.405217</td>\n",
       "      <td>-0.006311</td>\n",
       "      <td>-1.535657</td>\n",
       "      <td>-0.949746</td>\n",
       "      <td>0.444091</td>\n",
       "      <td>-0.014679</td>\n",
       "      <td>-0.732807</td>\n",
       "      <td>0.065125</td>\n",
       "      <td>...</td>\n",
       "      <td>0.025069</td>\n",
       "      <td>-1.972669</td>\n",
       "      <td>0.277128</td>\n",
       "      <td>-1.368525</td>\n",
       "      <td>0.018750</td>\n",
       "      <td>-0.552621</td>\n",
       "      <td>-0.001247</td>\n",
       "      <td>-0.981831</td>\n",
       "      <td>0.520502</td>\n",
       "      <td>-0.048048</td>\n",
       "    </tr>\n",
       "    <tr>\n",
       "      <th>S11</th>\n",
       "      <td>1.244720</td>\n",
       "      <td>0.716675</td>\n",
       "      <td>0.966776</td>\n",
       "      <td>0.311787</td>\n",
       "      <td>0.081775</td>\n",
       "      <td>1.346908</td>\n",
       "      <td>0.443317</td>\n",
       "      <td>0.002936</td>\n",
       "      <td>1.800589</td>\n",
       "      <td>0.747498</td>\n",
       "      <td>...</td>\n",
       "      <td>-0.005014</td>\n",
       "      <td>1.229995</td>\n",
       "      <td>1.797946</td>\n",
       "      <td>1.495639</td>\n",
       "      <td>-0.003750</td>\n",
       "      <td>-0.498427</td>\n",
       "      <td>0.000249</td>\n",
       "      <td>0.697501</td>\n",
       "      <td>-0.275626</td>\n",
       "      <td>0.647911</td>\n",
       "    </tr>\n",
       "  </tbody>\n",
       "</table>\n",
       "<p>5 rows × 91 columns</p>\n",
       "</div>"
      ],
      "text/plain": [
       "            hsa-let-7b-3p  hsa-let-7c  hsa-let-7e-5p  hsa-let-7i-3p  \\\n",
       "Unnamed: 0                                                            \n",
       "H01             -0.335517   -0.216501       0.179410      -0.021457   \n",
       "S03             -1.229599   -0.844174      -0.060296       0.830755   \n",
       "S12              1.315117   -0.581688      -1.006542       1.829857   \n",
       "A05             -1.520594    0.104185       0.405217      -0.006311   \n",
       "S11              1.244720    0.716675       0.966776       0.311787   \n",
       "\n",
       "            hsa-miR-1  hsa-miR-106b-3p  hsa-miR-10a-5p  hsa-miR-127-3p  \\\n",
       "Unnamed: 0                                                               \n",
       "H01         -0.173116        -0.034293       -0.888279       -0.049908   \n",
       "S03          0.538923        -0.100862       -1.618626       -0.146789   \n",
       "S12         -1.070726        -1.040461        1.940818       -0.058716   \n",
       "A05         -1.535657        -0.949746        0.444091       -0.014679   \n",
       "S11          0.081775         1.346908        0.443317        0.002936   \n",
       "\n",
       "            hsa-miR-130b-3p  hsa-miR-132-3p  ...  hsa-miR-551b-3p  \\\n",
       "Unnamed: 0                                   ...                    \n",
       "H01               -1.581544       -1.619172  ...        -0.481599   \n",
       "S03               -0.675235       -0.212771  ...        -0.114550   \n",
       "S12                1.524937        0.612871  ...         0.100277   \n",
       "A05               -0.732807        0.065125  ...         0.025069   \n",
       "S11                1.800589        0.747498  ...        -0.005014   \n",
       "\n",
       "            hsa-miR-574-3p  hsa-miR-584-5p  hsa-miR-629-5p  hsa-miR-766-3p  \\\n",
       "Unnamed: 0                                                                   \n",
       "H01              -0.975722       -3.699364       -0.224420        0.063752   \n",
       "S03              -0.176485       -0.292791       -1.493008        0.187505   \n",
       "S12               1.362226        1.835363        0.048451        0.075002   \n",
       "A05              -1.972669        0.277128       -1.368525        0.018750   \n",
       "S11               1.229995        1.797946        1.495639       -0.003750   \n",
       "\n",
       "            hsa-miR-885-5p  hsa-miR-92b-3p  hsa-miR-93-3p  hsa-miR-95  \\\n",
       "Unnamed: 0                                                              \n",
       "H01              -0.097014       -0.004239      -2.371294    0.209908   \n",
       "S03              -0.285335       -0.012468      -0.372692   -0.019043   \n",
       "S12               1.021954       -0.004987       0.400190    1.312438   \n",
       "A05              -0.552621       -0.001247      -0.981831    0.520502   \n",
       "S11              -0.498427        0.000249       0.697501   -0.275626   \n",
       "\n",
       "            hsa-miR-99b-5p  \n",
       "Unnamed: 0                  \n",
       "H01              -0.632380  \n",
       "S03               0.021739  \n",
       "S12               0.250556  \n",
       "A05              -0.048048  \n",
       "S11               0.647911  \n",
       "\n",
       "[5 rows x 91 columns]"
      ]
     },
     "execution_count": 129,
     "metadata": {},
     "output_type": "execute_result"
    }
   ],
   "source": [
    "sequences = np.array(sequences)\n",
    "mask = sequences != None\n",
    "sequences = sequences[mask]\n",
    "adj_norm_log_table = adj_norm_log_table.loc[:, mask]\n",
    "adj_norm_log_table *= -1\n",
    "adj_norm_log_table.head()"
   ]
  },
  {
   "cell_type": "code",
   "execution_count": 130,
   "id": "09e6aae4-2be8-475d-967e-11521e4c0600",
   "metadata": {},
   "outputs": [
    {
     "data": {
      "text/html": [
       "<div>\n",
       "<style scoped>\n",
       "    .dataframe tbody tr th:only-of-type {\n",
       "        vertical-align: middle;\n",
       "    }\n",
       "\n",
       "    .dataframe tbody tr th {\n",
       "        vertical-align: top;\n",
       "    }\n",
       "\n",
       "    .dataframe thead th {\n",
       "        text-align: right;\n",
       "    }\n",
       "</style>\n",
       "<table border=\"1\" class=\"dataframe\">\n",
       "  <thead>\n",
       "    <tr style=\"text-align: right;\">\n",
       "      <th></th>\n",
       "      <th>CUAUACAACCUACUGCCUUCCC</th>\n",
       "      <th>GCAUCCGGGUUGAGGUAGUAGGUUGUAUGGUUUAGAGUUACACCCUGGGAGUUAACUGUACAACCUUCUAGCUUUCCUUGGAGC</th>\n",
       "      <th>UGAGGUAGGAGGUUGUAUAGUU</th>\n",
       "      <th>CUGCGCAAGCUACUGCCUUGCU</th>\n",
       "      <th>UGGAAUGUAAAGAAGUAUGUAU</th>\n",
       "      <th>CCGCACUGUGGGUACUUGCUGC</th>\n",
       "      <th>UACCCUGUAGAUCCGAAUUUGUG</th>\n",
       "      <th>UCGGAUCCGUCUGAGCUUGGCU</th>\n",
       "      <th>CAGUGCAAUGAUGAAAGGGCAU</th>\n",
       "      <th>UAACAGUCUACAGCCAUGGUCG</th>\n",
       "      <th>...</th>\n",
       "      <th>CACGCUCAUGCACACACCCACA</th>\n",
       "      <th>UUAUGGUUUGCCUGGGACUGAG</th>\n",
       "      <th>UGGGUUUACGUUGGGAGAACU</th>\n",
       "      <th>ACUCCAGCCCCACAGCCUCAGC</th>\n",
       "      <th>UCCAUUACACUACCCUGCCUCU</th>\n",
       "      <th>UAUUGCACUCGUCCCGGCCUCC</th>\n",
       "      <th>ACUGCUGAGCUAGCACUUCCCG</th>\n",
       "      <th>UUCAACGGGUAUUUAUUGAGCA</th>\n",
       "      <th>CACCCGUAGAACCGACCUUGCG</th>\n",
       "      <th>cancer</th>\n",
       "    </tr>\n",
       "    <tr>\n",
       "      <th>Unnamed: 0</th>\n",
       "      <th></th>\n",
       "      <th></th>\n",
       "      <th></th>\n",
       "      <th></th>\n",
       "      <th></th>\n",
       "      <th></th>\n",
       "      <th></th>\n",
       "      <th></th>\n",
       "      <th></th>\n",
       "      <th></th>\n",
       "      <th></th>\n",
       "      <th></th>\n",
       "      <th></th>\n",
       "      <th></th>\n",
       "      <th></th>\n",
       "      <th></th>\n",
       "      <th></th>\n",
       "      <th></th>\n",
       "      <th></th>\n",
       "      <th></th>\n",
       "      <th></th>\n",
       "    </tr>\n",
       "  </thead>\n",
       "  <tbody>\n",
       "    <tr>\n",
       "      <th>H01</th>\n",
       "      <td>-0.335517</td>\n",
       "      <td>-0.216501</td>\n",
       "      <td>0.179410</td>\n",
       "      <td>-0.021457</td>\n",
       "      <td>-0.173116</td>\n",
       "      <td>-0.034293</td>\n",
       "      <td>-0.888279</td>\n",
       "      <td>-0.049908</td>\n",
       "      <td>-1.581544</td>\n",
       "      <td>-1.619172</td>\n",
       "      <td>...</td>\n",
       "      <td>-0.975722</td>\n",
       "      <td>-3.699364</td>\n",
       "      <td>-0.224420</td>\n",
       "      <td>0.063752</td>\n",
       "      <td>-0.097014</td>\n",
       "      <td>-0.004239</td>\n",
       "      <td>-2.371294</td>\n",
       "      <td>0.209908</td>\n",
       "      <td>-0.632380</td>\n",
       "      <td>0</td>\n",
       "    </tr>\n",
       "    <tr>\n",
       "      <th>S03</th>\n",
       "      <td>-1.229599</td>\n",
       "      <td>-0.844174</td>\n",
       "      <td>-0.060296</td>\n",
       "      <td>0.830755</td>\n",
       "      <td>0.538923</td>\n",
       "      <td>-0.100862</td>\n",
       "      <td>-1.618626</td>\n",
       "      <td>-0.146789</td>\n",
       "      <td>-0.675235</td>\n",
       "      <td>-0.212771</td>\n",
       "      <td>...</td>\n",
       "      <td>-0.176485</td>\n",
       "      <td>-0.292791</td>\n",
       "      <td>-1.493008</td>\n",
       "      <td>0.187505</td>\n",
       "      <td>-0.285335</td>\n",
       "      <td>-0.012468</td>\n",
       "      <td>-0.372692</td>\n",
       "      <td>-0.019043</td>\n",
       "      <td>0.021739</td>\n",
       "      <td>1</td>\n",
       "    </tr>\n",
       "    <tr>\n",
       "      <th>S12</th>\n",
       "      <td>1.315117</td>\n",
       "      <td>-0.581688</td>\n",
       "      <td>-1.006542</td>\n",
       "      <td>1.829857</td>\n",
       "      <td>-1.070726</td>\n",
       "      <td>-1.040461</td>\n",
       "      <td>1.940818</td>\n",
       "      <td>-0.058716</td>\n",
       "      <td>1.524937</td>\n",
       "      <td>0.612871</td>\n",
       "      <td>...</td>\n",
       "      <td>1.362226</td>\n",
       "      <td>1.835363</td>\n",
       "      <td>0.048451</td>\n",
       "      <td>0.075002</td>\n",
       "      <td>1.021954</td>\n",
       "      <td>-0.004987</td>\n",
       "      <td>0.400190</td>\n",
       "      <td>1.312438</td>\n",
       "      <td>0.250556</td>\n",
       "      <td>1</td>\n",
       "    </tr>\n",
       "    <tr>\n",
       "      <th>A05</th>\n",
       "      <td>-1.520594</td>\n",
       "      <td>0.104185</td>\n",
       "      <td>0.405217</td>\n",
       "      <td>-0.006311</td>\n",
       "      <td>-1.535657</td>\n",
       "      <td>-0.949746</td>\n",
       "      <td>0.444091</td>\n",
       "      <td>-0.014679</td>\n",
       "      <td>-0.732807</td>\n",
       "      <td>0.065125</td>\n",
       "      <td>...</td>\n",
       "      <td>-1.972669</td>\n",
       "      <td>0.277128</td>\n",
       "      <td>-1.368525</td>\n",
       "      <td>0.018750</td>\n",
       "      <td>-0.552621</td>\n",
       "      <td>-0.001247</td>\n",
       "      <td>-0.981831</td>\n",
       "      <td>0.520502</td>\n",
       "      <td>-0.048048</td>\n",
       "      <td>1</td>\n",
       "    </tr>\n",
       "    <tr>\n",
       "      <th>S11</th>\n",
       "      <td>1.244720</td>\n",
       "      <td>0.716675</td>\n",
       "      <td>0.966776</td>\n",
       "      <td>0.311787</td>\n",
       "      <td>0.081775</td>\n",
       "      <td>1.346908</td>\n",
       "      <td>0.443317</td>\n",
       "      <td>0.002936</td>\n",
       "      <td>1.800589</td>\n",
       "      <td>0.747498</td>\n",
       "      <td>...</td>\n",
       "      <td>1.229995</td>\n",
       "      <td>1.797946</td>\n",
       "      <td>1.495639</td>\n",
       "      <td>-0.003750</td>\n",
       "      <td>-0.498427</td>\n",
       "      <td>0.000249</td>\n",
       "      <td>0.697501</td>\n",
       "      <td>-0.275626</td>\n",
       "      <td>0.647911</td>\n",
       "      <td>1</td>\n",
       "    </tr>\n",
       "  </tbody>\n",
       "</table>\n",
       "<p>5 rows × 92 columns</p>\n",
       "</div>"
      ],
      "text/plain": [
       "            CUAUACAACCUACUGCCUUCCC  \\\n",
       "Unnamed: 0                           \n",
       "H01                      -0.335517   \n",
       "S03                      -1.229599   \n",
       "S12                       1.315117   \n",
       "A05                      -1.520594   \n",
       "S11                       1.244720   \n",
       "\n",
       "            GCAUCCGGGUUGAGGUAGUAGGUUGUAUGGUUUAGAGUUACACCCUGGGAGUUAACUGUACAACCUUCUAGCUUUCCUUGGAGC  \\\n",
       "Unnamed: 0                                                                                         \n",
       "H01                                                 -0.216501                                      \n",
       "S03                                                 -0.844174                                      \n",
       "S12                                                 -0.581688                                      \n",
       "A05                                                  0.104185                                      \n",
       "S11                                                  0.716675                                      \n",
       "\n",
       "            UGAGGUAGGAGGUUGUAUAGUU  CUGCGCAAGCUACUGCCUUGCU  \\\n",
       "Unnamed: 0                                                   \n",
       "H01                       0.179410               -0.021457   \n",
       "S03                      -0.060296                0.830755   \n",
       "S12                      -1.006542                1.829857   \n",
       "A05                       0.405217               -0.006311   \n",
       "S11                       0.966776                0.311787   \n",
       "\n",
       "            UGGAAUGUAAAGAAGUAUGUAU  CCGCACUGUGGGUACUUGCUGC  \\\n",
       "Unnamed: 0                                                   \n",
       "H01                      -0.173116               -0.034293   \n",
       "S03                       0.538923               -0.100862   \n",
       "S12                      -1.070726               -1.040461   \n",
       "A05                      -1.535657               -0.949746   \n",
       "S11                       0.081775                1.346908   \n",
       "\n",
       "            UACCCUGUAGAUCCGAAUUUGUG  UCGGAUCCGUCUGAGCUUGGCU  \\\n",
       "Unnamed: 0                                                    \n",
       "H01                       -0.888279               -0.049908   \n",
       "S03                       -1.618626               -0.146789   \n",
       "S12                        1.940818               -0.058716   \n",
       "A05                        0.444091               -0.014679   \n",
       "S11                        0.443317                0.002936   \n",
       "\n",
       "            CAGUGCAAUGAUGAAAGGGCAU  UAACAGUCUACAGCCAUGGUCG  ...  \\\n",
       "Unnamed: 0                                                  ...   \n",
       "H01                      -1.581544               -1.619172  ...   \n",
       "S03                      -0.675235               -0.212771  ...   \n",
       "S12                       1.524937                0.612871  ...   \n",
       "A05                      -0.732807                0.065125  ...   \n",
       "S11                       1.800589                0.747498  ...   \n",
       "\n",
       "            CACGCUCAUGCACACACCCACA  UUAUGGUUUGCCUGGGACUGAG  \\\n",
       "Unnamed: 0                                                   \n",
       "H01                      -0.975722               -3.699364   \n",
       "S03                      -0.176485               -0.292791   \n",
       "S12                       1.362226                1.835363   \n",
       "A05                      -1.972669                0.277128   \n",
       "S11                       1.229995                1.797946   \n",
       "\n",
       "            UGGGUUUACGUUGGGAGAACU  ACUCCAGCCCCACAGCCUCAGC  \\\n",
       "Unnamed: 0                                                  \n",
       "H01                     -0.224420                0.063752   \n",
       "S03                     -1.493008                0.187505   \n",
       "S12                      0.048451                0.075002   \n",
       "A05                     -1.368525                0.018750   \n",
       "S11                      1.495639               -0.003750   \n",
       "\n",
       "            UCCAUUACACUACCCUGCCUCU  UAUUGCACUCGUCCCGGCCUCC  \\\n",
       "Unnamed: 0                                                   \n",
       "H01                      -0.097014               -0.004239   \n",
       "S03                      -0.285335               -0.012468   \n",
       "S12                       1.021954               -0.004987   \n",
       "A05                      -0.552621               -0.001247   \n",
       "S11                      -0.498427                0.000249   \n",
       "\n",
       "            ACUGCUGAGCUAGCACUUCCCG  UUCAACGGGUAUUUAUUGAGCA  \\\n",
       "Unnamed: 0                                                   \n",
       "H01                      -2.371294                0.209908   \n",
       "S03                      -0.372692               -0.019043   \n",
       "S12                       0.400190                1.312438   \n",
       "A05                      -0.981831                0.520502   \n",
       "S11                       0.697501               -0.275626   \n",
       "\n",
       "            CACCCGUAGAACCGACCUUGCG  cancer  \n",
       "Unnamed: 0                                  \n",
       "H01                      -0.632380       0  \n",
       "S03                       0.021739       1  \n",
       "S12                       0.250556       1  \n",
       "A05                      -0.048048       1  \n",
       "S11                       0.647911       1  \n",
       "\n",
       "[5 rows x 92 columns]"
      ]
     },
     "execution_count": 130,
     "metadata": {},
     "output_type": "execute_result"
    }
   ],
   "source": [
    "adj_norm_log_table.columns = sequences\n",
    "adj_norm_log_table[\"cancer\"] = 1 - controls\n",
    "adj_norm_log_table.head()"
   ]
  },
  {
   "cell_type": "code",
   "execution_count": 131,
   "id": "dd6eb33e-01e1-469a-a39e-14d401e09ddd",
   "metadata": {},
   "outputs": [],
   "source": [
    "adj_norm_log_table.to_csv(\"../TransformedData/Zaporozhchenko2018_adjusted.csv\", index=False)"
   ]
  },
  {
   "cell_type": "code",
   "execution_count": null,
   "id": "85b81f4e-3bc4-4b27-9290-8c9bc07b7e72",
   "metadata": {},
   "outputs": [],
   "source": []
  }
 ],
 "metadata": {
  "kernelspec": {
   "display_name": "Python 3 (ipykernel)",
   "language": "python",
   "name": "python3"
  },
  "language_info": {
   "codemirror_mode": {
    "name": "ipython",
    "version": 3
   },
   "file_extension": ".py",
   "mimetype": "text/x-python",
   "name": "python",
   "nbconvert_exporter": "python",
   "pygments_lexer": "ipython3",
   "version": "3.9.7"
  }
 },
 "nbformat": 4,
 "nbformat_minor": 5
}
