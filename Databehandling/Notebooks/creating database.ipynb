{
 "cells": [
  {
   "cell_type": "code",
   "execution_count": 2,
   "id": "40d8f00b-ba7f-451d-a824-c4f6e5f04b91",
   "metadata": {},
   "outputs": [],
   "source": [
    "import sqlite3\n",
    "\n",
    "con = sqlite3.connect(\"../Dataset/data.db\")\n",
    "\n",
    "cur = con.cursor()\n",
    "\n",
    "cur.execute(\"create table study (id int primary key, name string)\")\n",
    "con.commit()\n",
    "\n",
    "cur.execute(\"create table mirna (id int primary key, sequence string)\")\n",
    "con.commit()\n",
    "\n",
    "cur.execute(\"create table datapoint (id int primary key, cancer bool, studyid int, FOREIGN KEY(studyid) references study(id))\")\n",
    "con.commit()\n",
    "\n",
    "cur.execute(\"create table mirnavalue (id int primary key, mirnaid int, dataid int, value real, FOREIGN KEY(mirnaid) references mirna(id), FOREIGN KEY(dataid) references datapoint(id))\")\n",
    "con.commit()"
   ]
  },
  {
   "cell_type": "code",
   "execution_count": null,
   "id": "9ce2b72f-f217-4ab9-88dc-625a71848e1c",
   "metadata": {},
   "outputs": [],
   "source": []
  }
 ],
 "metadata": {
  "kernelspec": {
   "display_name": "Python 3 (ipykernel)",
   "language": "python",
   "name": "python3"
  },
  "language_info": {
   "codemirror_mode": {
    "name": "ipython",
    "version": 3
   },
   "file_extension": ".py",
   "mimetype": "text/x-python",
   "name": "python",
   "nbconvert_exporter": "python",
   "pygments_lexer": "ipython3",
   "version": "3.9.7"
  }
 },
 "nbformat": 4,
 "nbformat_minor": 5
}
